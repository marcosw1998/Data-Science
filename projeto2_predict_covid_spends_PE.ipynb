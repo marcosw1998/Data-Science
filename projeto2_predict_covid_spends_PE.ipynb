{
  "nbformat": 4,
  "nbformat_minor": 0,
  "metadata": {
    "colab": {
      "name": "projeto2_predict_covid_spends_PE.ipynb",
      "provenance": [],
      "collapsed_sections": [
        "K-kWnVapqbiZ",
        "UiU31eirNa9-",
        "MHqgJ0_e9dUa",
        "d_488MvPT4fM",
        "PdTk7hYE-ydB",
        "Ui9n7pptx9N3",
        "jLDhV-F6-1nV",
        "JvIjW9eo7M4V",
        "IDTgOPKxAaCv",
        "1IDXw_5TCKW2",
        "d0ZLSfnjrGxW",
        "VO9OsW3orMVd",
        "1w9xphxzBc2w",
        "-kQe-CXexy8i",
        "QpcyCMyi8j6J",
        "kIimpYCE418k",
        "mAKdnjmG4qvj"
      ],
      "include_colab_link": true
    },
    "kernelspec": {
      "display_name": "Python 3",
      "name": "python3"
    }
  },
  "cells": [
    {
      "cell_type": "markdown",
      "metadata": {
        "id": "view-in-github",
        "colab_type": "text"
      },
      "source": [
        "<a href=\"https://colab.research.google.com/github/marcosw1998/Data-Science/blob/main-mlflow/projeto2_predict_covid_spends_PE.ipynb\" target=\"_parent\"><img src=\"https://colab.research.google.com/assets/colab-badge.svg\" alt=\"Open In Colab\"/></a>"
      ]
    },
    {
      "cell_type": "markdown",
      "metadata": {
        "id": "2RWUvaojnu30"
      },
      "source": [
        "# **Análise dos custos do governo de Pernambuco - BR em relação à Covid-19**\n",
        "* Projeto corresponde a entrega parcial para avaliação na cadeira eletiva IF697 - Intro. a Ciência dos Dados\n",
        "* Autores: Igor Silva e Marcos Cavalcanti\n",
        "* Conjunto de dados públicos retirados das seguintes fontes:\n",
        "  * [Portal da Transparência TCU](http://www.portaltransparencia.gov.br/coronavirus)\n",
        "  * [Prefeitura do Recife](http://dados.recife.pe.gov.br/dataset?tags=sa%C3%BAde)\n",
        "  * [Brasil.io](https://brasil.io/dataset/covid19/caso_full/)\n",
        "\n"
      ]
    },
    {
      "cell_type": "markdown",
      "metadata": {
        "id": "yMkF45UHR9sg"
      },
      "source": [
        "## **Por quê o tema?**\n",
        "\n",
        "* Interesse em entender e expor de forma clara os gastos públicos\n",
        "* Analisar distribuição de gastos\n",
        "* Covis-19 é um tema importante e merece muita atenção, pois tem feito muitas vítimas e mudado a forma como a sociedade pensa e se organiza\n",
        "* Entender a distribuição de gastos é uma boa forma de tentar corrigir erros e minimizar danos futuros na economia e na sociedade"
      ]
    },
    {
      "cell_type": "markdown",
      "metadata": {
        "id": "nUSfHSb5xbcu"
      },
      "source": [
        "## **Carregando as bibliotecas**\n",
        "\n",
        "  * Utilizaremos as seguintes bibliotecas\n",
        "    * **`Pandas`** para trabalhar sobre os dados  e a biblioteca. \n",
        "    * **`Numpy`** para operações sobre os datasets.\n",
        "    * **`matplotlib`** e **`seaborn`** para visualizações.\n",
        "    * **`Optuna`** para Seleção otimizada de hiperparâmetros dos algoritmos de ML que serão utilizados.\n",
        "    * **`MLflow`** para rastrear os resultados e métricas dos algoritmos de ML, além de usá-lo como fundamentação para otimizá-los, posteriormente.\n",
        "  \n",
        "\n"
      ]
    },
    {
      "cell_type": "code",
      "metadata": {
        "id": "qSJ4OiBLyBUd"
      },
      "source": [
        "import numpy as np\n",
        "import pandas as pd\n",
        "import matplotlib.pyplot as plt\n",
        "import seaborn as sns; sns.set_theme()"
      ],
      "execution_count": null,
      "outputs": []
    },
    {
      "cell_type": "code",
      "metadata": {
        "id": "JMEjId_vSlyt",
        "colab": {
          "base_uri": "https://localhost:8080/"
        },
        "outputId": "0ab322e3-78fc-40ea-e471-84c9687347f0"
      },
      "source": [
        "pip install optuna"
      ],
      "execution_count": null,
      "outputs": [
        {
          "output_type": "stream",
          "text": [
            "Collecting optuna\n",
            "\u001b[?25l  Downloading https://files.pythonhosted.org/packages/2b/21/d13081805e1e1afc71f5bb743ece324c8bd576237c51b899ecb38a717502/optuna-2.7.0-py3-none-any.whl (293kB)\n",
            "\r\u001b[K     |█▏                              | 10kB 13.8MB/s eta 0:00:01\r\u001b[K     |██▎                             | 20kB 10.2MB/s eta 0:00:01\r\u001b[K     |███▍                            | 30kB 8.3MB/s eta 0:00:01\r\u001b[K     |████▌                           | 40kB 7.4MB/s eta 0:00:01\r\u001b[K     |█████▋                          | 51kB 4.1MB/s eta 0:00:01\r\u001b[K     |██████▊                         | 61kB 4.2MB/s eta 0:00:01\r\u001b[K     |███████▉                        | 71kB 4.4MB/s eta 0:00:01\r\u001b[K     |█████████                       | 81kB 4.8MB/s eta 0:00:01\r\u001b[K     |██████████                      | 92kB 5.2MB/s eta 0:00:01\r\u001b[K     |███████████▏                    | 102kB 5.5MB/s eta 0:00:01\r\u001b[K     |████████████▎                   | 112kB 5.5MB/s eta 0:00:01\r\u001b[K     |█████████████▍                  | 122kB 5.5MB/s eta 0:00:01\r\u001b[K     |██████████████▌                 | 133kB 5.5MB/s eta 0:00:01\r\u001b[K     |███████████████▋                | 143kB 5.5MB/s eta 0:00:01\r\u001b[K     |████████████████▊               | 153kB 5.5MB/s eta 0:00:01\r\u001b[K     |█████████████████▉              | 163kB 5.5MB/s eta 0:00:01\r\u001b[K     |███████████████████             | 174kB 5.5MB/s eta 0:00:01\r\u001b[K     |████████████████████            | 184kB 5.5MB/s eta 0:00:01\r\u001b[K     |█████████████████████▏          | 194kB 5.5MB/s eta 0:00:01\r\u001b[K     |██████████████████████▎         | 204kB 5.5MB/s eta 0:00:01\r\u001b[K     |███████████████████████▍        | 215kB 5.5MB/s eta 0:00:01\r\u001b[K     |████████████████████████▋       | 225kB 5.5MB/s eta 0:00:01\r\u001b[K     |█████████████████████████▊      | 235kB 5.5MB/s eta 0:00:01\r\u001b[K     |██████████████████████████▉     | 245kB 5.5MB/s eta 0:00:01\r\u001b[K     |████████████████████████████    | 256kB 5.5MB/s eta 0:00:01\r\u001b[K     |█████████████████████████████   | 266kB 5.5MB/s eta 0:00:01\r\u001b[K     |██████████████████████████████▏ | 276kB 5.5MB/s eta 0:00:01\r\u001b[K     |███████████████████████████████▎| 286kB 5.5MB/s eta 0:00:01\r\u001b[K     |████████████████████████████████| 296kB 5.5MB/s \n",
            "\u001b[?25hCollecting cmaes>=0.8.2\n",
            "  Downloading https://files.pythonhosted.org/packages/01/1f/43b01223a0366171f474320c6e966c39a11587287f098a5f09809b45e05f/cmaes-0.8.2-py3-none-any.whl\n",
            "Requirement already satisfied: tqdm in /usr/local/lib/python3.7/dist-packages (from optuna) (4.41.1)\n",
            "Requirement already satisfied: packaging>=20.0 in /usr/local/lib/python3.7/dist-packages (from optuna) (20.9)\n",
            "Requirement already satisfied: scipy!=1.4.0 in /usr/local/lib/python3.7/dist-packages (from optuna) (1.4.1)\n",
            "Requirement already satisfied: sqlalchemy>=1.1.0 in /usr/local/lib/python3.7/dist-packages (from optuna) (1.4.7)\n",
            "Requirement already satisfied: numpy in /usr/local/lib/python3.7/dist-packages (from optuna) (1.19.5)\n",
            "Collecting colorlog\n",
            "  Downloading https://files.pythonhosted.org/packages/32/e6/e9ddc6fa1104fda718338b341e4b3dc31cd8039ab29e52fc73b508515361/colorlog-5.0.1-py2.py3-none-any.whl\n",
            "Collecting cliff\n",
            "\u001b[?25l  Downloading https://files.pythonhosted.org/packages/a2/d6/7d9acb68a77acd140be7fececb7f2701b2a29d2da9c54184cb8f93509590/cliff-3.7.0-py3-none-any.whl (80kB)\n",
            "\u001b[K     |████████████████████████████████| 81kB 6.1MB/s \n",
            "\u001b[?25hCollecting alembic\n",
            "\u001b[?25l  Downloading https://files.pythonhosted.org/packages/72/a4/97eb6273839655cac14947986fa7a5935350fcfd4fff872e9654264c82d8/alembic-1.5.8-py2.py3-none-any.whl (159kB)\n",
            "\u001b[K     |████████████████████████████████| 163kB 10.0MB/s \n",
            "\u001b[?25hRequirement already satisfied: pyparsing>=2.0.2 in /usr/local/lib/python3.7/dist-packages (from packaging>=20.0->optuna) (2.4.7)\n",
            "Requirement already satisfied: greenlet!=0.4.17; python_version >= \"3\" in /usr/local/lib/python3.7/dist-packages (from sqlalchemy>=1.1.0->optuna) (1.0.0)\n",
            "Requirement already satisfied: importlib-metadata; python_version < \"3.8\" in /usr/local/lib/python3.7/dist-packages (from sqlalchemy>=1.1.0->optuna) (3.10.1)\n",
            "Requirement already satisfied: PrettyTable>=0.7.2 in /usr/local/lib/python3.7/dist-packages (from cliff->optuna) (2.1.0)\n",
            "Collecting stevedore>=2.0.1\n",
            "\u001b[?25l  Downloading https://files.pythonhosted.org/packages/d4/49/b602307aeac3df3384ff1fcd05da9c0376c622a6c48bb5325f28ab165b57/stevedore-3.3.0-py3-none-any.whl (49kB)\n",
            "\u001b[K     |████████████████████████████████| 51kB 4.7MB/s \n",
            "\u001b[?25hRequirement already satisfied: PyYAML>=3.12 in /usr/local/lib/python3.7/dist-packages (from cliff->optuna) (3.13)\n",
            "Collecting cmd2>=1.0.0\n",
            "\u001b[?25l  Downloading https://files.pythonhosted.org/packages/15/8b/15061b32332bb35ea2a2f6263d0f616779d576e82739ec8e7fcf3c94abf5/cmd2-1.5.0-py3-none-any.whl (133kB)\n",
            "\u001b[K     |████████████████████████████████| 143kB 14.3MB/s \n",
            "\u001b[?25hCollecting pbr!=2.1.0,>=2.0.0\n",
            "\u001b[?25l  Downloading https://files.pythonhosted.org/packages/fb/48/69046506f6ac61c1eaa9a0d42d22d54673b69e176d30ca98e3f61513e980/pbr-5.5.1-py2.py3-none-any.whl (106kB)\n",
            "\u001b[K     |████████████████████████████████| 112kB 15.4MB/s \n",
            "\u001b[?25hCollecting python-editor>=0.3\n",
            "  Downloading https://files.pythonhosted.org/packages/c6/d3/201fc3abe391bbae6606e6f1d598c15d367033332bd54352b12f35513717/python_editor-1.0.4-py3-none-any.whl\n",
            "Collecting Mako\n",
            "\u001b[?25l  Downloading https://files.pythonhosted.org/packages/f3/54/dbc07fbb20865d3b78fdb7cf7fa713e2cba4f87f71100074ef2dc9f9d1f7/Mako-1.1.4-py2.py3-none-any.whl (75kB)\n",
            "\u001b[K     |████████████████████████████████| 81kB 5.4MB/s \n",
            "\u001b[?25hRequirement already satisfied: python-dateutil in /usr/local/lib/python3.7/dist-packages (from alembic->optuna) (2.8.1)\n",
            "Requirement already satisfied: zipp>=0.5 in /usr/local/lib/python3.7/dist-packages (from importlib-metadata; python_version < \"3.8\"->sqlalchemy>=1.1.0->optuna) (3.4.1)\n",
            "Requirement already satisfied: typing-extensions>=3.6.4; python_version < \"3.8\" in /usr/local/lib/python3.7/dist-packages (from importlib-metadata; python_version < \"3.8\"->sqlalchemy>=1.1.0->optuna) (3.7.4.3)\n",
            "Requirement already satisfied: wcwidth in /usr/local/lib/python3.7/dist-packages (from PrettyTable>=0.7.2->cliff->optuna) (0.2.5)\n",
            "Requirement already satisfied: attrs>=16.3.0 in /usr/local/lib/python3.7/dist-packages (from cmd2>=1.0.0->cliff->optuna) (20.3.0)\n",
            "Collecting colorama>=0.3.7\n",
            "  Downloading https://files.pythonhosted.org/packages/44/98/5b86278fbbf250d239ae0ecb724f8572af1c91f4a11edf4d36a206189440/colorama-0.4.4-py2.py3-none-any.whl\n",
            "Collecting pyperclip>=1.6\n",
            "  Downloading https://files.pythonhosted.org/packages/a7/2c/4c64579f847bd5d539803c8b909e54ba087a79d01bb3aba433a95879a6c5/pyperclip-1.8.2.tar.gz\n",
            "Requirement already satisfied: MarkupSafe>=0.9.2 in /usr/local/lib/python3.7/dist-packages (from Mako->alembic->optuna) (1.1.1)\n",
            "Requirement already satisfied: six>=1.5 in /usr/local/lib/python3.7/dist-packages (from python-dateutil->alembic->optuna) (1.15.0)\n",
            "Building wheels for collected packages: pyperclip\n",
            "  Building wheel for pyperclip (setup.py) ... \u001b[?25l\u001b[?25hdone\n",
            "  Created wheel for pyperclip: filename=pyperclip-1.8.2-cp37-none-any.whl size=11107 sha256=4b7aaefb199e2556dddd1ada57c608cc254902c9834c88f55c75bd5edf21f788\n",
            "  Stored in directory: /root/.cache/pip/wheels/25/af/b8/3407109267803f4015e1ee2ff23be0c8c19ce4008665931ee1\n",
            "Successfully built pyperclip\n",
            "Installing collected packages: cmaes, colorlog, pbr, stevedore, colorama, pyperclip, cmd2, cliff, python-editor, Mako, alembic, optuna\n",
            "Successfully installed Mako-1.1.4 alembic-1.5.8 cliff-3.7.0 cmaes-0.8.2 cmd2-1.5.0 colorama-0.4.4 colorlog-5.0.1 optuna-2.7.0 pbr-5.5.1 pyperclip-1.8.2 python-editor-1.0.4 stevedore-3.3.0\n"
          ],
          "name": "stdout"
        }
      ]
    },
    {
      "cell_type": "code",
      "metadata": {
        "id": "TRrnc82-ezCL",
        "colab": {
          "base_uri": "https://localhost:8080/"
        },
        "outputId": "72bee3ec-49cc-4fed-c223-1d6cea9b1037"
      },
      "source": [
        "!pip install mlflow"
      ],
      "execution_count": null,
      "outputs": [
        {
          "output_type": "stream",
          "text": [
            "Collecting mlflow\n",
            "\u001b[?25l  Downloading https://files.pythonhosted.org/packages/44/03/27a5457d0dfd7cd05016e54c0c00b33e99b968d3cc49e4b87824307f1560/mlflow-1.15.0-py3-none-any.whl (14.2MB)\n",
            "\u001b[K     |████████████████████████████████| 14.2MB 286kB/s \n",
            "\u001b[?25hRequirement already satisfied: numpy in /usr/local/lib/python3.7/dist-packages (from mlflow) (1.19.5)\n",
            "Requirement already satisfied: pandas in /usr/local/lib/python3.7/dist-packages (from mlflow) (1.1.5)\n",
            "Collecting alembic<=1.4.1\n",
            "\u001b[?25l  Downloading https://files.pythonhosted.org/packages/e0/e9/359dbb77c35c419df0aedeb1d53e71e7e3f438ff64a8fdb048c907404de3/alembic-1.4.1.tar.gz (1.1MB)\n",
            "\u001b[K     |████████████████████████████████| 1.1MB 41.3MB/s \n",
            "\u001b[?25hCollecting databricks-cli>=0.8.7\n",
            "\u001b[?25l  Downloading https://files.pythonhosted.org/packages/bc/af/631375abc29e59cedfa4467a5f7755503ba19898890751e1f2636ef02f92/databricks-cli-0.14.3.tar.gz (54kB)\n",
            "\u001b[K     |████████████████████████████████| 61kB 7.3MB/s \n",
            "\u001b[?25hCollecting prometheus-flask-exporter\n",
            "  Downloading https://files.pythonhosted.org/packages/4c/d5/8a046d683c2cc084b6a502812827ede69b1064f95d93f94b83f809b21723/prometheus_flask_exporter-0.18.1.tar.gz\n",
            "Collecting gunicorn; platform_system != \"Windows\"\n",
            "\u001b[?25l  Downloading https://files.pythonhosted.org/packages/28/5b/0d1f0296485a6af03366604142ea8f19f0833894db3512a40ed07b2a56dd/gunicorn-20.1.0.tar.gz (370kB)\n",
            "\u001b[K     |████████████████████████████████| 378kB 39.8MB/s \n",
            "\u001b[?25hRequirement already satisfied: entrypoints in /usr/local/lib/python3.7/dist-packages (from mlflow) (0.3)\n",
            "Requirement already satisfied: sqlalchemy in /usr/local/lib/python3.7/dist-packages (from mlflow) (1.4.7)\n",
            "Requirement already satisfied: sqlparse>=0.3.1 in /usr/local/lib/python3.7/dist-packages (from mlflow) (0.4.1)\n",
            "Requirement already satisfied: cloudpickle in /usr/local/lib/python3.7/dist-packages (from mlflow) (1.3.0)\n",
            "Requirement already satisfied: pytz in /usr/local/lib/python3.7/dist-packages (from mlflow) (2018.9)\n",
            "Collecting querystring-parser\n",
            "  Downloading https://files.pythonhosted.org/packages/88/6b/572b2590fd55114118bf08bde63c0a421dcc82d593700f3e2ad89908a8a9/querystring_parser-1.2.4-py2.py3-none-any.whl\n",
            "Requirement already satisfied: click>=7.0 in /usr/local/lib/python3.7/dist-packages (from mlflow) (7.1.2)\n",
            "Collecting docker>=4.0.0\n",
            "\u001b[?25l  Downloading https://files.pythonhosted.org/packages/b2/5a/f988909dfed18c1ac42ad8d9e611e6c5657e270aa6eb68559985dbb69c13/docker-5.0.0-py2.py3-none-any.whl (146kB)\n",
            "\u001b[K     |████████████████████████████████| 153kB 45.7MB/s \n",
            "\u001b[?25hRequirement already satisfied: requests>=2.17.3 in /usr/local/lib/python3.7/dist-packages (from mlflow) (2.23.0)\n",
            "Collecting gitpython>=2.1.0\n",
            "\u001b[?25l  Downloading https://files.pythonhosted.org/packages/d7/6d/0528adaff6229c5cd85feb84366e1cf3130d86c69d0acea02fe12b5d79c4/GitPython-3.1.15-py3-none-any.whl (163kB)\n",
            "\u001b[K     |████████████████████████████████| 174kB 41.7MB/s \n",
            "\u001b[?25hRequirement already satisfied: protobuf>=3.6.0 in /usr/local/lib/python3.7/dist-packages (from mlflow) (3.12.4)\n",
            "Requirement already satisfied: Flask in /usr/local/lib/python3.7/dist-packages (from mlflow) (1.1.2)\n",
            "Requirement already satisfied: pyyaml in /usr/local/lib/python3.7/dist-packages (from mlflow) (3.13)\n",
            "Requirement already satisfied: python-dateutil>=2.7.3 in /usr/local/lib/python3.7/dist-packages (from pandas->mlflow) (2.8.1)\n",
            "Requirement already satisfied: Mako in /usr/local/lib/python3.7/dist-packages (from alembic<=1.4.1->mlflow) (1.1.4)\n",
            "Requirement already satisfied: python-editor>=0.3 in /usr/local/lib/python3.7/dist-packages (from alembic<=1.4.1->mlflow) (1.0.4)\n",
            "Requirement already satisfied: tabulate>=0.7.7 in /usr/local/lib/python3.7/dist-packages (from databricks-cli>=0.8.7->mlflow) (0.8.9)\n",
            "Requirement already satisfied: six>=1.10.0 in /usr/local/lib/python3.7/dist-packages (from databricks-cli>=0.8.7->mlflow) (1.15.0)\n",
            "Requirement already satisfied: prometheus_client in /usr/local/lib/python3.7/dist-packages (from prometheus-flask-exporter->mlflow) (0.10.1)\n",
            "Requirement already satisfied: setuptools>=3.0 in /usr/local/lib/python3.7/dist-packages (from gunicorn; platform_system != \"Windows\"->mlflow) (54.2.0)\n",
            "Requirement already satisfied: importlib-metadata; python_version < \"3.8\" in /usr/local/lib/python3.7/dist-packages (from sqlalchemy->mlflow) (3.10.1)\n",
            "Requirement already satisfied: greenlet!=0.4.17; python_version >= \"3\" in /usr/local/lib/python3.7/dist-packages (from sqlalchemy->mlflow) (1.0.0)\n",
            "Collecting websocket-client>=0.32.0\n",
            "\u001b[?25l  Downloading https://files.pythonhosted.org/packages/08/33/80e0d4f60e84a1ddd9a03f340be1065a2a363c47ce65c4bd3bae65ce9631/websocket_client-0.58.0-py2.py3-none-any.whl (61kB)\n",
            "\u001b[K     |████████████████████████████████| 61kB 7.1MB/s \n",
            "\u001b[?25hRequirement already satisfied: idna<3,>=2.5 in /usr/local/lib/python3.7/dist-packages (from requests>=2.17.3->mlflow) (2.10)\n",
            "Requirement already satisfied: certifi>=2017.4.17 in /usr/local/lib/python3.7/dist-packages (from requests>=2.17.3->mlflow) (2020.12.5)\n",
            "Requirement already satisfied: urllib3!=1.25.0,!=1.25.1,<1.26,>=1.21.1 in /usr/local/lib/python3.7/dist-packages (from requests>=2.17.3->mlflow) (1.24.3)\n",
            "Requirement already satisfied: chardet<4,>=3.0.2 in /usr/local/lib/python3.7/dist-packages (from requests>=2.17.3->mlflow) (3.0.4)\n",
            "Requirement already satisfied: typing-extensions>=3.7.4.0 in /usr/local/lib/python3.7/dist-packages (from gitpython>=2.1.0->mlflow) (3.7.4.3)\n",
            "Collecting gitdb<5,>=4.0.1\n",
            "\u001b[?25l  Downloading https://files.pythonhosted.org/packages/ea/e8/f414d1a4f0bbc668ed441f74f44c116d9816833a48bf81d22b697090dba8/gitdb-4.0.7-py3-none-any.whl (63kB)\n",
            "\u001b[K     |████████████████████████████████| 71kB 7.7MB/s \n",
            "\u001b[?25hRequirement already satisfied: itsdangerous>=0.24 in /usr/local/lib/python3.7/dist-packages (from Flask->mlflow) (1.1.0)\n",
            "Requirement already satisfied: Jinja2>=2.10.1 in /usr/local/lib/python3.7/dist-packages (from Flask->mlflow) (2.11.3)\n",
            "Requirement already satisfied: Werkzeug>=0.15 in /usr/local/lib/python3.7/dist-packages (from Flask->mlflow) (1.0.1)\n",
            "Requirement already satisfied: MarkupSafe>=0.9.2 in /usr/local/lib/python3.7/dist-packages (from Mako->alembic<=1.4.1->mlflow) (1.1.1)\n",
            "Requirement already satisfied: zipp>=0.5 in /usr/local/lib/python3.7/dist-packages (from importlib-metadata; python_version < \"3.8\"->sqlalchemy->mlflow) (3.4.1)\n",
            "Collecting smmap<5,>=3.0.1\n",
            "  Downloading https://files.pythonhosted.org/packages/68/ee/d540eb5e5996eb81c26ceffac6ee49041d473bc5125f2aa995cf51ec1cf1/smmap-4.0.0-py2.py3-none-any.whl\n",
            "Building wheels for collected packages: alembic, databricks-cli, prometheus-flask-exporter, gunicorn\n",
            "  Building wheel for alembic (setup.py) ... \u001b[?25l\u001b[?25hdone\n",
            "  Created wheel for alembic: filename=alembic-1.4.1-py2.py3-none-any.whl size=158155 sha256=93132e6eda1670f3f1be4c8a8e1d4312ae31ba96bfe917fd2b040c7dd22d4d72\n",
            "  Stored in directory: /root/.cache/pip/wheels/84/07/f7/12f7370ca47a66030c2edeedcc23dec26ea0ac22dcb4c4a0f3\n",
            "  Building wheel for databricks-cli (setup.py) ... \u001b[?25l\u001b[?25hdone\n",
            "  Created wheel for databricks-cli: filename=databricks_cli-0.14.3-cp37-none-any.whl size=100557 sha256=1b4ee9fc332d8e4a8fa3c2430bb41ae169f5d8514cbfbbc0962e0a00768cba80\n",
            "  Stored in directory: /root/.cache/pip/wheels/5b/24/f3/34d8e3964dac4ba849d844273c49a679111b00d5799ebb934a\n",
            "  Building wheel for prometheus-flask-exporter (setup.py) ... \u001b[?25l\u001b[?25hdone\n",
            "  Created wheel for prometheus-flask-exporter: filename=prometheus_flask_exporter-0.18.1-cp37-none-any.whl size=17159 sha256=ec32060ec05b568149fc1f4728c73ca0843a8549c9c524ed149654f64af8a1ef\n",
            "  Stored in directory: /root/.cache/pip/wheels/b4/1f/b8/66bd9bc3a9d6c6987ff6c4dfeb6f1fe97b5a0e5ed5849c0437\n",
            "  Building wheel for gunicorn (setup.py) ... \u001b[?25l\u001b[?25hdone\n",
            "  Created wheel for gunicorn: filename=gunicorn-20.1.0-cp37-none-any.whl size=78918 sha256=dca6969a52df509b94bf9bcb01539f8050d9946aae2ddc6e0d51da0b895c7418\n",
            "  Stored in directory: /root/.cache/pip/wheels/4c/ea/e2/698dde91d46e32a449e60f785a91954f67f72fea8890bb1072\n",
            "Successfully built alembic databricks-cli prometheus-flask-exporter gunicorn\n",
            "Installing collected packages: alembic, databricks-cli, prometheus-flask-exporter, gunicorn, querystring-parser, websocket-client, docker, smmap, gitdb, gitpython, mlflow\n",
            "  Found existing installation: alembic 1.5.8\n",
            "    Uninstalling alembic-1.5.8:\n",
            "      Successfully uninstalled alembic-1.5.8\n",
            "Successfully installed alembic-1.4.1 databricks-cli-0.14.3 docker-5.0.0 gitdb-4.0.7 gitpython-3.1.15 gunicorn-20.1.0 mlflow-1.15.0 prometheus-flask-exporter-0.18.1 querystring-parser-1.2.4 smmap-4.0.0 websocket-client-0.58.0\n"
          ],
          "name": "stdout"
        }
      ]
    },
    {
      "cell_type": "markdown",
      "metadata": {
        "id": "K-kWnVapqbiZ"
      },
      "source": [
        "## **Datasets**"
      ]
    },
    {
      "cell_type": "markdown",
      "metadata": {
        "id": "UiU31eirNa9-"
      },
      "source": [
        "### Portal da transparência\n",
        "\n",
        "* O portal da transparência permite que sejam baixados apenas 1000 registros por vez, portanto decidimos por baixar 2 datasets diferentes e depois fazermos a junção. Os dados são referentes a algumas cidades de Pernambuco \n",
        "(Recife, Jaboatão, Olinda, Paulista, Caruaru, Garanhuns, Petrolina, Arcoverde, Serra Talhada, Buíque)"
      ]
    },
    {
      "cell_type": "code",
      "metadata": {
        "id": "P2LLyC3CNM-9"
      },
      "source": [
        "invest_covidPe = pd.read_csv(\"https://raw.githubusercontent.com/marcosw1998/Data-Science/main-mwac/Datasets/covid-pe.csv\",encoding = \"utf-8\")\n",
        "invest_covidPe2 = pd.read_csv(\"https://raw.githubusercontent.com/marcosw1998/Data-Science/main-mwac/Datasets/transferencias_coronavirus.csv\",encoding = \"utf-8\")"
      ],
      "execution_count": null,
      "outputs": []
    },
    {
      "cell_type": "code",
      "metadata": {
        "colab": {
          "base_uri": "https://localhost:8080/"
        },
        "id": "cw8ZAqtszcX-",
        "outputId": "a1df4b0d-af53-4d79-c2b8-b8066fbb6298"
      },
      "source": [
        "#Validando os dados do dataset invest_covidPe\n",
        "print('Dataset 1',invest_covidPe.shape)\n",
        "invest_covidPe.sort_values(\"Município\").head()"
      ],
      "execution_count": null,
      "outputs": [
        {
          "output_type": "stream",
          "text": [
            "Dataset 1 (561, 12)\n"
          ],
          "name": "stdout"
        },
        {
          "output_type": "execute_result",
          "data": {
            "text/html": [
              "<div>\n",
              "<style scoped>\n",
              "    .dataframe tbody tr th:only-of-type {\n",
              "        vertical-align: middle;\n",
              "    }\n",
              "\n",
              "    .dataframe tbody tr th {\n",
              "        vertical-align: top;\n",
              "    }\n",
              "\n",
              "    .dataframe thead th {\n",
              "        text-align: right;\n",
              "    }\n",
              "</style>\n",
              "<table border=\"1\" class=\"dataframe\">\n",
              "  <thead>\n",
              "    <tr style=\"text-align: right;\">\n",
              "      <th></th>\n",
              "      <th>Mês/Ano</th>\n",
              "      <th>Tipo</th>\n",
              "      <th>Tipo de Favorecido</th>\n",
              "      <th>UF</th>\n",
              "      <th>Nome do Favorecido</th>\n",
              "      <th>CPF/CNPJ</th>\n",
              "      <th>Município</th>\n",
              "      <th>Função</th>\n",
              "      <th>Programa Orçamentário</th>\n",
              "      <th>Ação Orçamentária</th>\n",
              "      <th>Linguagem Cidadã</th>\n",
              "      <th>Valor Transferido</th>\n",
              "    </tr>\n",
              "  </thead>\n",
              "  <tbody>\n",
              "    <tr>\n",
              "      <th>182</th>\n",
              "      <td>nov/20</td>\n",
              "      <td>Legais. Voluntárias e Específicas</td>\n",
              "      <td>Fundo Público</td>\n",
              "      <td>PE</td>\n",
              "      <td>FUNDO MUNICIPAL DE SAUDE</td>\n",
              "      <td>11.371.082/0001-05</td>\n",
              "      <td>CARUARU</td>\n",
              "      <td>Saúde</td>\n",
              "      <td>ATENCAO ESPECIALIZADA A SAUDE</td>\n",
              "      <td>ENFRENTAMENTO DA EMERGENCIA DE SAUDE PUBLICA D...</td>\n",
              "      <td>Sem informação</td>\n",
              "      <td>486.515.00</td>\n",
              "    </tr>\n",
              "    <tr>\n",
              "      <th>178</th>\n",
              "      <td>nov/20</td>\n",
              "      <td>Legais. Voluntárias e Específicas</td>\n",
              "      <td>Entidades Sem Fins Lucrativos</td>\n",
              "      <td>PE</td>\n",
              "      <td>ASSOCICAO DE PAIS E MESTRES</td>\n",
              "      <td>11.252.224/0001-07</td>\n",
              "      <td>CARUARU</td>\n",
              "      <td>Educação</td>\n",
              "      <td>EDUCACAO BASICA DE QUALIDADE</td>\n",
              "      <td>DINHEIRO DIRETO NA ESCOLA PARA A EDUCACAO BASICA</td>\n",
              "      <td>PDDE</td>\n",
              "      <td>7.897.02</td>\n",
              "    </tr>\n",
              "    <tr>\n",
              "      <th>179</th>\n",
              "      <td>nov/20</td>\n",
              "      <td>Legais. Voluntárias e Específicas</td>\n",
              "      <td>Entidades Sem Fins Lucrativos</td>\n",
              "      <td>PE</td>\n",
              "      <td>CONSELHO ESCOLAR MARIA DO SOCORRO DE FREITAS</td>\n",
              "      <td>02.021.769/0001-11</td>\n",
              "      <td>CARUARU</td>\n",
              "      <td>Educação</td>\n",
              "      <td>EDUCACAO BASICA DE QUALIDADE</td>\n",
              "      <td>DINHEIRO DIRETO NA ESCOLA PARA A EDUCACAO BASICA</td>\n",
              "      <td>PDDE</td>\n",
              "      <td>2.837.48</td>\n",
              "    </tr>\n",
              "    <tr>\n",
              "      <th>87</th>\n",
              "      <td>nov/20</td>\n",
              "      <td>Legais. Voluntárias e Específicas</td>\n",
              "      <td>Entidades Sem Fins Lucrativos</td>\n",
              "      <td>PE</td>\n",
              "      <td>CONSELHO ESCOLAR DOM BERNARDINO MARCHIO</td>\n",
              "      <td>34.179.420/0001-07</td>\n",
              "      <td>CARUARU</td>\n",
              "      <td>Educação</td>\n",
              "      <td>EDUCACAO BASICA DE QUALIDADE</td>\n",
              "      <td>DINHEIRO DIRETO NA ESCOLA PARA A EDUCACAO BASICA</td>\n",
              "      <td>PDDE</td>\n",
              "      <td>8.427.56</td>\n",
              "    </tr>\n",
              "    <tr>\n",
              "      <th>181</th>\n",
              "      <td>nov/20</td>\n",
              "      <td>Legais. Voluntárias e Específicas</td>\n",
              "      <td>Entidades Sem Fins Lucrativos</td>\n",
              "      <td>PE</td>\n",
              "      <td>UNIDADE EXECUTORA MAJOR DR.SINVAL</td>\n",
              "      <td>11.441.171/0001-72</td>\n",
              "      <td>CARUARU</td>\n",
              "      <td>Educação</td>\n",
              "      <td>EDUCACAO BASICA DE QUALIDADE</td>\n",
              "      <td>DINHEIRO DIRETO NA ESCOLA PARA A EDUCACAO BASICA</td>\n",
              "      <td>PDDE</td>\n",
              "      <td>2.274.59</td>\n",
              "    </tr>\n",
              "  </tbody>\n",
              "</table>\n",
              "</div>"
            ],
            "text/plain": [
              "    Mês/Ano  ... Valor Transferido\n",
              "182  nov/20  ...        486.515.00\n",
              "178  nov/20  ...          7.897.02\n",
              "179  nov/20  ...          2.837.48\n",
              "87   nov/20  ...          8.427.56\n",
              "181  nov/20  ...          2.274.59\n",
              "\n",
              "[5 rows x 12 columns]"
            ]
          },
          "metadata": {
            "tags": []
          },
          "execution_count": 5
        }
      ]
    },
    {
      "cell_type": "code",
      "metadata": {
        "colab": {
          "base_uri": "https://localhost:8080/"
        },
        "id": "GejXSMaUzemV",
        "outputId": "a62daef1-7f26-4acd-aba8-ef9bb20f8f86"
      },
      "source": [
        "#Validando os dados do dataset invest_covidPe2\n",
        "print('Dataset 2',invest_covidPe2.shape)\n",
        "invest_covidPe2.sort_values(\"Município\").head()"
      ],
      "execution_count": null,
      "outputs": [
        {
          "output_type": "stream",
          "text": [
            "Dataset 2 (140, 10)\n"
          ],
          "name": "stdout"
        },
        {
          "output_type": "execute_result",
          "data": {
            "text/html": [
              "<div>\n",
              "<style scoped>\n",
              "    .dataframe tbody tr th:only-of-type {\n",
              "        vertical-align: middle;\n",
              "    }\n",
              "\n",
              "    .dataframe tbody tr th {\n",
              "        vertical-align: top;\n",
              "    }\n",
              "\n",
              "    .dataframe thead th {\n",
              "        text-align: right;\n",
              "    }\n",
              "</style>\n",
              "<table border=\"1\" class=\"dataframe\">\n",
              "  <thead>\n",
              "    <tr style=\"text-align: right;\">\n",
              "      <th></th>\n",
              "      <th>Mês/Ano</th>\n",
              "      <th>Tipo</th>\n",
              "      <th>Ação Orçamentária</th>\n",
              "      <th>Programa Orçamentário</th>\n",
              "      <th>Função</th>\n",
              "      <th>Tipo de Favorecido</th>\n",
              "      <th>UF</th>\n",
              "      <th>Município</th>\n",
              "      <th>Valor Transferido</th>\n",
              "      <th>Unnamed: 9</th>\n",
              "    </tr>\n",
              "  </thead>\n",
              "  <tbody>\n",
              "    <tr>\n",
              "      <th>98</th>\n",
              "      <td>12/2020</td>\n",
              "      <td>Legais. Voluntárias e Específicas</td>\n",
              "      <td>21C0 - ENFRENTAMENTO DA EMERGENCIA DE SAUDE PU...</td>\n",
              "      <td>ATENCAO ESPECIALIZADA A SAUDE</td>\n",
              "      <td>10 - Saúde</td>\n",
              "      <td>Fundo Público</td>\n",
              "      <td>PE</td>\n",
              "      <td>ARCOVERDE</td>\n",
              "      <td>R$ 134.639.00</td>\n",
              "      <td>NaN</td>\n",
              "    </tr>\n",
              "    <tr>\n",
              "      <th>41</th>\n",
              "      <td>05/2020</td>\n",
              "      <td>Legais. Voluntárias e Específicas</td>\n",
              "      <td>21C0 - ENFRENTAMENTO DA EMERGENCIA DE SAUDE PU...</td>\n",
              "      <td>PROTECAO SOCIAL NO AMBITO DO SISTEMA UNICO DE ...</td>\n",
              "      <td>08 - Assistência social</td>\n",
              "      <td>Fundo Público</td>\n",
              "      <td>PE</td>\n",
              "      <td>ARCOVERDE</td>\n",
              "      <td>R$ 470.809.62</td>\n",
              "      <td>NaN</td>\n",
              "    </tr>\n",
              "    <tr>\n",
              "      <th>42</th>\n",
              "      <td>11/2020</td>\n",
              "      <td>Legais. Voluntárias e Específicas</td>\n",
              "      <td>21C0 - ENFRENTAMENTO DA EMERGENCIA DE SAUDE PU...</td>\n",
              "      <td>ATENCAO ESPECIALIZADA A SAUDE</td>\n",
              "      <td>10 - Saúde</td>\n",
              "      <td>Fundo Público</td>\n",
              "      <td>PE</td>\n",
              "      <td>ARCOVERDE</td>\n",
              "      <td>R$ 355.594.00</td>\n",
              "      <td>NaN</td>\n",
              "    </tr>\n",
              "    <tr>\n",
              "      <th>32</th>\n",
              "      <td>04/2020</td>\n",
              "      <td>Legais. Voluntárias e Específicas</td>\n",
              "      <td>21C0 - ENFRENTAMENTO DA EMERGENCIA DE SAUDE PU...</td>\n",
              "      <td>ATENCAO ESPECIALIZADA A SAUDE</td>\n",
              "      <td>10 - Saúde</td>\n",
              "      <td>Fundo Público</td>\n",
              "      <td>PE</td>\n",
              "      <td>ARCOVERDE</td>\n",
              "      <td>R$ 761.895.71</td>\n",
              "      <td>NaN</td>\n",
              "    </tr>\n",
              "    <tr>\n",
              "      <th>56</th>\n",
              "      <td>08/2020</td>\n",
              "      <td>Legais. Voluntárias e Específicas</td>\n",
              "      <td>21C0 - ENFRENTAMENTO DA EMERGENCIA DE SAUDE PU...</td>\n",
              "      <td>PROTECAO SOCIAL NO AMBITO DO SISTEMA UNICO DE ...</td>\n",
              "      <td>08 - Assistência social</td>\n",
              "      <td>Fundo Público</td>\n",
              "      <td>PE</td>\n",
              "      <td>ARCOVERDE</td>\n",
              "      <td>R$ 218.971.54</td>\n",
              "      <td>NaN</td>\n",
              "    </tr>\n",
              "  </tbody>\n",
              "</table>\n",
              "</div>"
            ],
            "text/plain": [
              "    Mês/Ano                               Tipo  ... Valor Transferido Unnamed: 9\n",
              "98  12/2020  Legais. Voluntárias e Específicas  ...     R$ 134.639.00        NaN\n",
              "41  05/2020  Legais. Voluntárias e Específicas  ...     R$ 470.809.62        NaN\n",
              "42  11/2020  Legais. Voluntárias e Específicas  ...     R$ 355.594.00        NaN\n",
              "32  04/2020  Legais. Voluntárias e Específicas  ...     R$ 761.895.71        NaN\n",
              "56  08/2020  Legais. Voluntárias e Específicas  ...     R$ 218.971.54        NaN\n",
              "\n",
              "[5 rows x 10 columns]"
            ]
          },
          "metadata": {
            "tags": []
          },
          "execution_count": 6
        }
      ]
    },
    {
      "cell_type": "markdown",
      "metadata": {
        "id": "b66iBYRL0hxm"
      },
      "source": [
        "*Podemos perceber que o Dataset **invest_covidPe** possui mais colunas que o Dataset **invest_covidPe2**.  Também notamos que o Dataset invest_covidPe2 possui uma coluna com dados Nan, vamos tratar disso no pré processamento antes de fazer a concatenação dos dois Datasets*"
      ]
    },
    {
      "cell_type": "markdown",
      "metadata": {
        "id": "MHqgJ0_e9dUa"
      },
      "source": [
        "### Dados de casos de Covid-19 por todo o estado de Pernambuco. \n",
        "Os valores estão atualizados até o dia 17/03/2021 e foram buscados através do Brasil.io"
      ]
    },
    {
      "cell_type": "code",
      "metadata": {
        "colab": {
          "base_uri": "https://localhost:8080/"
        },
        "id": "tnkNhxpK9_EJ",
        "outputId": "e93ea777-6c25-46ea-8bb1-d48e92c90d44"
      },
      "source": [
        "covidPeCases = pd.read_csv(\"https://raw.githubusercontent.com/marcosw1998/Data-Science/main-mwac/Datasets/covid19-1703-casos.csv\",encoding = \"utf-8\")\n",
        "print(covidPeCases.shape)\n",
        "covidPeCases.sort_values(\"city\").head()"
      ],
      "execution_count": null,
      "outputs": [
        {
          "output_type": "stream",
          "text": [
            "(187, 16)\n"
          ],
          "name": "stdout"
        },
        {
          "output_type": "execute_result",
          "data": {
            "text/html": [
              "<div>\n",
              "<style scoped>\n",
              "    .dataframe tbody tr th:only-of-type {\n",
              "        vertical-align: middle;\n",
              "    }\n",
              "\n",
              "    .dataframe tbody tr th {\n",
              "        vertical-align: top;\n",
              "    }\n",
              "\n",
              "    .dataframe thead th {\n",
              "        text-align: right;\n",
              "    }\n",
              "</style>\n",
              "<table border=\"1\" class=\"dataframe\">\n",
              "  <thead>\n",
              "    <tr style=\"text-align: right;\">\n",
              "      <th></th>\n",
              "      <th>epidemiological_week</th>\n",
              "      <th>date</th>\n",
              "      <th>order_for_place</th>\n",
              "      <th>state</th>\n",
              "      <th>city</th>\n",
              "      <th>city_ibge_code</th>\n",
              "      <th>place_type</th>\n",
              "      <th>last_available_confirmed</th>\n",
              "      <th>last_available_confirmed_per_100k_inhabitants</th>\n",
              "      <th>new_confirmed</th>\n",
              "      <th>last_available_deaths</th>\n",
              "      <th>new_deaths</th>\n",
              "      <th>last_available_death_rate</th>\n",
              "      <th>estimated_population</th>\n",
              "      <th>is_last</th>\n",
              "      <th>is_repeated</th>\n",
              "    </tr>\n",
              "  </thead>\n",
              "  <tbody>\n",
              "    <tr>\n",
              "      <th>1</th>\n",
              "      <td>202111</td>\n",
              "      <td>2021-03-15</td>\n",
              "      <td>341</td>\n",
              "      <td>PE</td>\n",
              "      <td>Abreu e Lima</td>\n",
              "      <td>2600054.0</td>\n",
              "      <td>city</td>\n",
              "      <td>1700</td>\n",
              "      <td>1694.13828</td>\n",
              "      <td>8</td>\n",
              "      <td>159</td>\n",
              "      <td>1</td>\n",
              "      <td>0.0935</td>\n",
              "      <td>100346.0</td>\n",
              "      <td>True</td>\n",
              "      <td>False</td>\n",
              "    </tr>\n",
              "    <tr>\n",
              "      <th>2</th>\n",
              "      <td>202111</td>\n",
              "      <td>2021-03-15</td>\n",
              "      <td>321</td>\n",
              "      <td>PE</td>\n",
              "      <td>Afogados da Ingazeira</td>\n",
              "      <td>2600104.0</td>\n",
              "      <td>city</td>\n",
              "      <td>2478</td>\n",
              "      <td>6624.95990</td>\n",
              "      <td>1</td>\n",
              "      <td>35</td>\n",
              "      <td>0</td>\n",
              "      <td>0.0141</td>\n",
              "      <td>37404.0</td>\n",
              "      <td>True</td>\n",
              "      <td>False</td>\n",
              "    </tr>\n",
              "    <tr>\n",
              "      <th>3</th>\n",
              "      <td>202111</td>\n",
              "      <td>2021-03-15</td>\n",
              "      <td>321</td>\n",
              "      <td>PE</td>\n",
              "      <td>Afrânio</td>\n",
              "      <td>2600203.0</td>\n",
              "      <td>city</td>\n",
              "      <td>578</td>\n",
              "      <td>2917.71832</td>\n",
              "      <td>0</td>\n",
              "      <td>9</td>\n",
              "      <td>0</td>\n",
              "      <td>0.0156</td>\n",
              "      <td>19810.0</td>\n",
              "      <td>True</td>\n",
              "      <td>False</td>\n",
              "    </tr>\n",
              "    <tr>\n",
              "      <th>4</th>\n",
              "      <td>202111</td>\n",
              "      <td>2021-03-15</td>\n",
              "      <td>326</td>\n",
              "      <td>PE</td>\n",
              "      <td>Agrestina</td>\n",
              "      <td>2600302.0</td>\n",
              "      <td>city</td>\n",
              "      <td>865</td>\n",
              "      <td>3451.02733</td>\n",
              "      <td>2</td>\n",
              "      <td>36</td>\n",
              "      <td>0</td>\n",
              "      <td>0.0416</td>\n",
              "      <td>25065.0</td>\n",
              "      <td>True</td>\n",
              "      <td>False</td>\n",
              "    </tr>\n",
              "    <tr>\n",
              "      <th>7</th>\n",
              "      <td>202111</td>\n",
              "      <td>2021-03-15</td>\n",
              "      <td>331</td>\n",
              "      <td>PE</td>\n",
              "      <td>Alagoinha</td>\n",
              "      <td>2600609.0</td>\n",
              "      <td>city</td>\n",
              "      <td>443</td>\n",
              "      <td>3009.91983</td>\n",
              "      <td>0</td>\n",
              "      <td>13</td>\n",
              "      <td>0</td>\n",
              "      <td>0.0293</td>\n",
              "      <td>14718.0</td>\n",
              "      <td>True</td>\n",
              "      <td>False</td>\n",
              "    </tr>\n",
              "  </tbody>\n",
              "</table>\n",
              "</div>"
            ],
            "text/plain": [
              "   epidemiological_week        date  ...  is_last is_repeated\n",
              "1                202111  2021-03-15  ...     True       False\n",
              "2                202111  2021-03-15  ...     True       False\n",
              "3                202111  2021-03-15  ...     True       False\n",
              "4                202111  2021-03-15  ...     True       False\n",
              "7                202111  2021-03-15  ...     True       False\n",
              "\n",
              "[5 rows x 16 columns]"
            ]
          },
          "metadata": {
            "tags": []
          },
          "execution_count": 7
        }
      ]
    },
    {
      "cell_type": "markdown",
      "metadata": {
        "id": "d_488MvPT4fM"
      },
      "source": [
        "## **Pré Processamento**\n",
        "  * Junção de datasets em Dataframe Pandas\n",
        "  * Tratamento de dados ```NaN```/```null``` ou corrompidos\n",
        "  * Conversão de tipos\n",
        "  * Transformação e identificação de dados categóricos\n",
        "  * Remoção de ***Outliers*** Multivariado"
      ]
    },
    {
      "cell_type": "markdown",
      "metadata": {
        "id": "XmQ22okDAROC"
      },
      "source": [
        "### **Tratamento dos dados de Gastos Públicos**"
      ]
    },
    {
      "cell_type": "markdown",
      "metadata": {
        "id": "Z_zX_wkQvbE5"
      },
      "source": [
        "> Remoção colunas que não fazem parte do dataset invest_covidPe2 e que não influem sobre os nossos estudos (Nome do favorecido, CPF/CNPJ, Linguagem Cidadã)\n",
        "\n",
        ">```invest_covidPe = invest_covidPe.dropna(axis=1, how='all')```"
      ]
    },
    {
      "cell_type": "code",
      "metadata": {
        "colab": {
          "base_uri": "https://localhost:8080/"
        },
        "id": "Bm39ZTwf2Gal",
        "outputId": "bb92ab07-01eb-40df-93fb-5c9f6e20c90a"
      },
      "source": [
        "cols = [4,5,10]\n",
        "invest_covidPe.drop(invest_covidPe.columns[cols],axis=1,inplace=True)\n",
        "invest_covidPe.sort_values(\"Município\").head()"
      ],
      "execution_count": null,
      "outputs": [
        {
          "output_type": "execute_result",
          "data": {
            "text/html": [
              "<div>\n",
              "<style scoped>\n",
              "    .dataframe tbody tr th:only-of-type {\n",
              "        vertical-align: middle;\n",
              "    }\n",
              "\n",
              "    .dataframe tbody tr th {\n",
              "        vertical-align: top;\n",
              "    }\n",
              "\n",
              "    .dataframe thead th {\n",
              "        text-align: right;\n",
              "    }\n",
              "</style>\n",
              "<table border=\"1\" class=\"dataframe\">\n",
              "  <thead>\n",
              "    <tr style=\"text-align: right;\">\n",
              "      <th></th>\n",
              "      <th>Mês/Ano</th>\n",
              "      <th>Tipo</th>\n",
              "      <th>Tipo de Favorecido</th>\n",
              "      <th>UF</th>\n",
              "      <th>Município</th>\n",
              "      <th>Função</th>\n",
              "      <th>Programa Orçamentário</th>\n",
              "      <th>Ação Orçamentária</th>\n",
              "      <th>Valor Transferido</th>\n",
              "    </tr>\n",
              "  </thead>\n",
              "  <tbody>\n",
              "    <tr>\n",
              "      <th>182</th>\n",
              "      <td>nov/20</td>\n",
              "      <td>Legais. Voluntárias e Específicas</td>\n",
              "      <td>Fundo Público</td>\n",
              "      <td>PE</td>\n",
              "      <td>CARUARU</td>\n",
              "      <td>Saúde</td>\n",
              "      <td>ATENCAO ESPECIALIZADA A SAUDE</td>\n",
              "      <td>ENFRENTAMENTO DA EMERGENCIA DE SAUDE PUBLICA D...</td>\n",
              "      <td>486.515.00</td>\n",
              "    </tr>\n",
              "    <tr>\n",
              "      <th>178</th>\n",
              "      <td>nov/20</td>\n",
              "      <td>Legais. Voluntárias e Específicas</td>\n",
              "      <td>Entidades Sem Fins Lucrativos</td>\n",
              "      <td>PE</td>\n",
              "      <td>CARUARU</td>\n",
              "      <td>Educação</td>\n",
              "      <td>EDUCACAO BASICA DE QUALIDADE</td>\n",
              "      <td>DINHEIRO DIRETO NA ESCOLA PARA A EDUCACAO BASICA</td>\n",
              "      <td>7.897.02</td>\n",
              "    </tr>\n",
              "    <tr>\n",
              "      <th>179</th>\n",
              "      <td>nov/20</td>\n",
              "      <td>Legais. Voluntárias e Específicas</td>\n",
              "      <td>Entidades Sem Fins Lucrativos</td>\n",
              "      <td>PE</td>\n",
              "      <td>CARUARU</td>\n",
              "      <td>Educação</td>\n",
              "      <td>EDUCACAO BASICA DE QUALIDADE</td>\n",
              "      <td>DINHEIRO DIRETO NA ESCOLA PARA A EDUCACAO BASICA</td>\n",
              "      <td>2.837.48</td>\n",
              "    </tr>\n",
              "    <tr>\n",
              "      <th>87</th>\n",
              "      <td>nov/20</td>\n",
              "      <td>Legais. Voluntárias e Específicas</td>\n",
              "      <td>Entidades Sem Fins Lucrativos</td>\n",
              "      <td>PE</td>\n",
              "      <td>CARUARU</td>\n",
              "      <td>Educação</td>\n",
              "      <td>EDUCACAO BASICA DE QUALIDADE</td>\n",
              "      <td>DINHEIRO DIRETO NA ESCOLA PARA A EDUCACAO BASICA</td>\n",
              "      <td>8.427.56</td>\n",
              "    </tr>\n",
              "    <tr>\n",
              "      <th>181</th>\n",
              "      <td>nov/20</td>\n",
              "      <td>Legais. Voluntárias e Específicas</td>\n",
              "      <td>Entidades Sem Fins Lucrativos</td>\n",
              "      <td>PE</td>\n",
              "      <td>CARUARU</td>\n",
              "      <td>Educação</td>\n",
              "      <td>EDUCACAO BASICA DE QUALIDADE</td>\n",
              "      <td>DINHEIRO DIRETO NA ESCOLA PARA A EDUCACAO BASICA</td>\n",
              "      <td>2.274.59</td>\n",
              "    </tr>\n",
              "  </tbody>\n",
              "</table>\n",
              "</div>"
            ],
            "text/plain": [
              "    Mês/Ano  ... Valor Transferido\n",
              "182  nov/20  ...        486.515.00\n",
              "178  nov/20  ...          7.897.02\n",
              "179  nov/20  ...          2.837.48\n",
              "87   nov/20  ...          8.427.56\n",
              "181  nov/20  ...          2.274.59\n",
              "\n",
              "[5 rows x 9 columns]"
            ]
          },
          "metadata": {
            "tags": []
          },
          "execution_count": 8
        }
      ]
    },
    {
      "cell_type": "markdown",
      "metadata": {
        "id": "6N8rcAp0vr6I"
      },
      "source": [
        "> Remoção coluna que tem todos os valores Nan"
      ]
    },
    {
      "cell_type": "code",
      "metadata": {
        "colab": {
          "base_uri": "https://localhost:8080/"
        },
        "id": "GVumFyH60Byd",
        "outputId": "5c598b1b-d5b2-44c2-87d7-dfb04e744627"
      },
      "source": [
        "invest_covidPe2.dropna(axis=1, how='all',inplace=True)\n",
        "invest_covidPe2.sort_values(\"Município\").head()"
      ],
      "execution_count": null,
      "outputs": [
        {
          "output_type": "execute_result",
          "data": {
            "text/html": [
              "<div>\n",
              "<style scoped>\n",
              "    .dataframe tbody tr th:only-of-type {\n",
              "        vertical-align: middle;\n",
              "    }\n",
              "\n",
              "    .dataframe tbody tr th {\n",
              "        vertical-align: top;\n",
              "    }\n",
              "\n",
              "    .dataframe thead th {\n",
              "        text-align: right;\n",
              "    }\n",
              "</style>\n",
              "<table border=\"1\" class=\"dataframe\">\n",
              "  <thead>\n",
              "    <tr style=\"text-align: right;\">\n",
              "      <th></th>\n",
              "      <th>Mês/Ano</th>\n",
              "      <th>Tipo</th>\n",
              "      <th>Ação Orçamentária</th>\n",
              "      <th>Programa Orçamentário</th>\n",
              "      <th>Função</th>\n",
              "      <th>Tipo de Favorecido</th>\n",
              "      <th>UF</th>\n",
              "      <th>Município</th>\n",
              "      <th>Valor Transferido</th>\n",
              "    </tr>\n",
              "  </thead>\n",
              "  <tbody>\n",
              "    <tr>\n",
              "      <th>98</th>\n",
              "      <td>12/2020</td>\n",
              "      <td>Legais. Voluntárias e Específicas</td>\n",
              "      <td>21C0 - ENFRENTAMENTO DA EMERGENCIA DE SAUDE PU...</td>\n",
              "      <td>ATENCAO ESPECIALIZADA A SAUDE</td>\n",
              "      <td>10 - Saúde</td>\n",
              "      <td>Fundo Público</td>\n",
              "      <td>PE</td>\n",
              "      <td>ARCOVERDE</td>\n",
              "      <td>R$ 134.639.00</td>\n",
              "    </tr>\n",
              "    <tr>\n",
              "      <th>41</th>\n",
              "      <td>05/2020</td>\n",
              "      <td>Legais. Voluntárias e Específicas</td>\n",
              "      <td>21C0 - ENFRENTAMENTO DA EMERGENCIA DE SAUDE PU...</td>\n",
              "      <td>PROTECAO SOCIAL NO AMBITO DO SISTEMA UNICO DE ...</td>\n",
              "      <td>08 - Assistência social</td>\n",
              "      <td>Fundo Público</td>\n",
              "      <td>PE</td>\n",
              "      <td>ARCOVERDE</td>\n",
              "      <td>R$ 470.809.62</td>\n",
              "    </tr>\n",
              "    <tr>\n",
              "      <th>42</th>\n",
              "      <td>11/2020</td>\n",
              "      <td>Legais. Voluntárias e Específicas</td>\n",
              "      <td>21C0 - ENFRENTAMENTO DA EMERGENCIA DE SAUDE PU...</td>\n",
              "      <td>ATENCAO ESPECIALIZADA A SAUDE</td>\n",
              "      <td>10 - Saúde</td>\n",
              "      <td>Fundo Público</td>\n",
              "      <td>PE</td>\n",
              "      <td>ARCOVERDE</td>\n",
              "      <td>R$ 355.594.00</td>\n",
              "    </tr>\n",
              "    <tr>\n",
              "      <th>32</th>\n",
              "      <td>04/2020</td>\n",
              "      <td>Legais. Voluntárias e Específicas</td>\n",
              "      <td>21C0 - ENFRENTAMENTO DA EMERGENCIA DE SAUDE PU...</td>\n",
              "      <td>ATENCAO ESPECIALIZADA A SAUDE</td>\n",
              "      <td>10 - Saúde</td>\n",
              "      <td>Fundo Público</td>\n",
              "      <td>PE</td>\n",
              "      <td>ARCOVERDE</td>\n",
              "      <td>R$ 761.895.71</td>\n",
              "    </tr>\n",
              "    <tr>\n",
              "      <th>56</th>\n",
              "      <td>08/2020</td>\n",
              "      <td>Legais. Voluntárias e Específicas</td>\n",
              "      <td>21C0 - ENFRENTAMENTO DA EMERGENCIA DE SAUDE PU...</td>\n",
              "      <td>PROTECAO SOCIAL NO AMBITO DO SISTEMA UNICO DE ...</td>\n",
              "      <td>08 - Assistência social</td>\n",
              "      <td>Fundo Público</td>\n",
              "      <td>PE</td>\n",
              "      <td>ARCOVERDE</td>\n",
              "      <td>R$ 218.971.54</td>\n",
              "    </tr>\n",
              "  </tbody>\n",
              "</table>\n",
              "</div>"
            ],
            "text/plain": [
              "    Mês/Ano                               Tipo  ...  Município Valor Transferido\n",
              "98  12/2020  Legais. Voluntárias e Específicas  ...  ARCOVERDE     R$ 134.639.00\n",
              "41  05/2020  Legais. Voluntárias e Específicas  ...  ARCOVERDE     R$ 470.809.62\n",
              "42  11/2020  Legais. Voluntárias e Específicas  ...  ARCOVERDE     R$ 355.594.00\n",
              "32  04/2020  Legais. Voluntárias e Específicas  ...  ARCOVERDE     R$ 761.895.71\n",
              "56  08/2020  Legais. Voluntárias e Específicas  ...  ARCOVERDE     R$ 218.971.54\n",
              "\n",
              "[5 rows x 9 columns]"
            ]
          },
          "metadata": {
            "tags": []
          },
          "execution_count": 9
        }
      ]
    },
    {
      "cell_type": "markdown",
      "metadata": {
        "id": "99zLupirv68U"
      },
      "source": [
        "> Retirando prefixo numérico e caracteres especiais dos valores da categoria 'Função'"
      ]
    },
    {
      "cell_type": "code",
      "metadata": {
        "id": "7GzOsUIXwOR5",
        "colab": {
          "base_uri": "https://localhost:8080/"
        },
        "outputId": "8acc6e80-d6a6-4296-fe62-3b31fd086980"
      },
      "source": [
        "invest_covidPe_funcao = invest_covidPe2['Função'].map(lambda words: str(words[5:]))\n",
        "invest_covidPe2['Função'].update(invest_covidPe_funcao)\n",
        "invest_covidPe2['Função'].unique()"
      ],
      "execution_count": null,
      "outputs": [
        {
          "output_type": "execute_result",
          "data": {
            "text/plain": [
              "array(['Educação', 'Saúde', 'Assistência social', 'Ciência e Tecnologia'],\n",
              "      dtype=object)"
            ]
          },
          "metadata": {
            "tags": []
          },
          "execution_count": 10
        }
      ]
    },
    {
      "cell_type": "markdown",
      "metadata": {
        "id": "-TdcJdxuwD_A"
      },
      "source": [
        "> Confirmando que as colunas foram removidas e agora os 2 datasets possuem a mesma quantidade de colunas"
      ]
    },
    {
      "cell_type": "code",
      "metadata": {
        "id": "o61JK1_h1G8W",
        "colab": {
          "base_uri": "https://localhost:8080/"
        },
        "outputId": "7024e0ea-5016-42da-bc7c-5433ef00b203"
      },
      "source": [
        "print('Dataset 1',invest_covidPe.shape)\n",
        "print('Dataset 2',invest_covidPe2.shape)"
      ],
      "execution_count": null,
      "outputs": [
        {
          "output_type": "stream",
          "text": [
            "Dataset 1 (561, 9)\n",
            "Dataset 2 (140, 9)\n"
          ],
          "name": "stdout"
        }
      ]
    },
    {
      "cell_type": "markdown",
      "metadata": {
        "id": "6V0neP-zwIMQ"
      },
      "source": [
        "> Fazendo a concatenação dos Dataframes, o resultado final de linhas é igual ao somatório de linhas entre ambos os Datasets"
      ]
    },
    {
      "cell_type": "code",
      "metadata": {
        "id": "qjEsiHCQ5lfM"
      },
      "source": [
        "invest_covidPe = invest_covidPe.append(invest_covidPe2, ignore_index=True)"
      ],
      "execution_count": null,
      "outputs": []
    },
    {
      "cell_type": "markdown",
      "metadata": {
        "id": "yKGKHzT0wND5"
      },
      "source": [
        "> Filtragem de gastos com a saúde e retirada das colunas **Tipo**, **UF**, **Programa Orçamentário** e **Função** por não conterem dados variados."
      ]
    },
    {
      "cell_type": "code",
      "metadata": {
        "id": "mc0FuaYqxzNQ",
        "colab": {
          "base_uri": "https://localhost:8080/"
        },
        "outputId": "afd4db73-7b1d-4f7b-9cbb-6b32ba7bc186"
      },
      "source": [
        "len(invest_covidPe2['Tipo de Favorecido'].unique())"
      ],
      "execution_count": null,
      "outputs": [
        {
          "output_type": "execute_result",
          "data": {
            "text/plain": [
              "3"
            ]
          },
          "metadata": {
            "tags": []
          },
          "execution_count": 13
        }
      ]
    },
    {
      "cell_type": "code",
      "metadata": {
        "id": "OeYOe0orylcX",
        "colab": {
          "base_uri": "https://localhost:8080/"
        },
        "outputId": "b5e7b9df-152f-4896-e102-153705c5e7b0"
      },
      "source": [
        "# Drop colunas com valores unitários\n",
        "\n",
        "invest_covidPe.drop({'Tipo',\\\n",
        "                     'UF',\\\n",
        "                     'Ação Orçamentária'},\\\n",
        "                    axis=1,\\\n",
        "                    inplace=True \\\n",
        "                    )\n",
        "invest_covidPe"
      ],
      "execution_count": null,
      "outputs": [
        {
          "output_type": "execute_result",
          "data": {
            "text/html": [
              "<div>\n",
              "<style scoped>\n",
              "    .dataframe tbody tr th:only-of-type {\n",
              "        vertical-align: middle;\n",
              "    }\n",
              "\n",
              "    .dataframe tbody tr th {\n",
              "        vertical-align: top;\n",
              "    }\n",
              "\n",
              "    .dataframe thead th {\n",
              "        text-align: right;\n",
              "    }\n",
              "</style>\n",
              "<table border=\"1\" class=\"dataframe\">\n",
              "  <thead>\n",
              "    <tr style=\"text-align: right;\">\n",
              "      <th></th>\n",
              "      <th>Mês/Ano</th>\n",
              "      <th>Tipo de Favorecido</th>\n",
              "      <th>Município</th>\n",
              "      <th>Função</th>\n",
              "      <th>Programa Orçamentário</th>\n",
              "      <th>Valor Transferido</th>\n",
              "    </tr>\n",
              "  </thead>\n",
              "  <tbody>\n",
              "    <tr>\n",
              "      <th>0</th>\n",
              "      <td>mar/20</td>\n",
              "      <td>Fundo Público</td>\n",
              "      <td>RECIFE</td>\n",
              "      <td>Saúde</td>\n",
              "      <td>ATENCAO ESPECIALIZADA A SAUDE</td>\n",
              "      <td>60.000.00</td>\n",
              "    </tr>\n",
              "    <tr>\n",
              "      <th>1</th>\n",
              "      <td>abr/20</td>\n",
              "      <td>Fundo Público</td>\n",
              "      <td>GARANHUNS</td>\n",
              "      <td>Saúde</td>\n",
              "      <td>ATENCAO ESPECIALIZADA A SAUDE</td>\n",
              "      <td>1.174.944.27</td>\n",
              "    </tr>\n",
              "    <tr>\n",
              "      <th>2</th>\n",
              "      <td>abr/20</td>\n",
              "      <td>Fundo Público</td>\n",
              "      <td>PETROLINA</td>\n",
              "      <td>Saúde</td>\n",
              "      <td>ATENCAO ESPECIALIZADA A SAUDE</td>\n",
              "      <td>4.130.446.89</td>\n",
              "    </tr>\n",
              "    <tr>\n",
              "      <th>3</th>\n",
              "      <td>abr/20</td>\n",
              "      <td>Fundo Público</td>\n",
              "      <td>OLINDA</td>\n",
              "      <td>Saúde</td>\n",
              "      <td>ATENCAO ESPECIALIZADA A SAUDE</td>\n",
              "      <td>3.830.136.03</td>\n",
              "    </tr>\n",
              "    <tr>\n",
              "      <th>4</th>\n",
              "      <td>abr/20</td>\n",
              "      <td>Fundo Público</td>\n",
              "      <td>CARUARU</td>\n",
              "      <td>Saúde</td>\n",
              "      <td>ATENCAO ESPECIALIZADA A SAUDE</td>\n",
              "      <td>3.662.675.00</td>\n",
              "    </tr>\n",
              "    <tr>\n",
              "      <th>...</th>\n",
              "      <td>...</td>\n",
              "      <td>...</td>\n",
              "      <td>...</td>\n",
              "      <td>...</td>\n",
              "      <td>...</td>\n",
              "      <td>...</td>\n",
              "    </tr>\n",
              "    <tr>\n",
              "      <th>696</th>\n",
              "      <td>04/2020</td>\n",
              "      <td>Fundo Público</td>\n",
              "      <td>JABOATÃO DOS GUARARAPES</td>\n",
              "      <td>Saúde</td>\n",
              "      <td>ATENCAO ESPECIALIZADA A SAUDE</td>\n",
              "      <td>R$ 7.327.021.87</td>\n",
              "    </tr>\n",
              "    <tr>\n",
              "      <th>697</th>\n",
              "      <td>10/2020</td>\n",
              "      <td>Fundo Público</td>\n",
              "      <td>RECIFE</td>\n",
              "      <td>Saúde</td>\n",
              "      <td>ATENCAO ESPECIALIZADA A SAUDE</td>\n",
              "      <td>R$ 3.500.000.00</td>\n",
              "    </tr>\n",
              "    <tr>\n",
              "      <th>698</th>\n",
              "      <td>07/2020</td>\n",
              "      <td>Fundo Público</td>\n",
              "      <td>PETROLINA</td>\n",
              "      <td>Saúde</td>\n",
              "      <td>ATENCAO ESPECIALIZADA A SAUDE</td>\n",
              "      <td>R$ 8.676.053.00</td>\n",
              "    </tr>\n",
              "    <tr>\n",
              "      <th>699</th>\n",
              "      <td>07/2020</td>\n",
              "      <td>Fundo Público</td>\n",
              "      <td>BUÍQUE</td>\n",
              "      <td>Saúde</td>\n",
              "      <td>ATENCAO ESPECIALIZADA A SAUDE</td>\n",
              "      <td>R$ 1.850.000.00</td>\n",
              "    </tr>\n",
              "    <tr>\n",
              "      <th>700</th>\n",
              "      <td>08/2020</td>\n",
              "      <td>Fundo Público</td>\n",
              "      <td>PETROLINA</td>\n",
              "      <td>Assistência social</td>\n",
              "      <td>PROTECAO SOCIAL NO AMBITO DO SISTEMA UNICO DE ...</td>\n",
              "      <td>R$ 516.875.60</td>\n",
              "    </tr>\n",
              "  </tbody>\n",
              "</table>\n",
              "<p>701 rows × 6 columns</p>\n",
              "</div>"
            ],
            "text/plain": [
              "     Mês/Ano  ... Valor Transferido\n",
              "0     mar/20  ...         60.000.00\n",
              "1     abr/20  ...      1.174.944.27\n",
              "2     abr/20  ...      4.130.446.89\n",
              "3     abr/20  ...      3.830.136.03\n",
              "4     abr/20  ...      3.662.675.00\n",
              "..       ...  ...               ...\n",
              "696  04/2020  ...   R$ 7.327.021.87\n",
              "697  10/2020  ...   R$ 3.500.000.00\n",
              "698  07/2020  ...   R$ 8.676.053.00\n",
              "699  07/2020  ...   R$ 1.850.000.00\n",
              "700  08/2020  ...     R$ 516.875.60\n",
              "\n",
              "[701 rows x 6 columns]"
            ]
          },
          "metadata": {
            "tags": []
          },
          "execution_count": 14
        }
      ]
    },
    {
      "cell_type": "markdown",
      "metadata": {
        "id": "0jzo9tpl4FTr"
      },
      "source": [
        "Renomeando colunas"
      ]
    },
    {
      "cell_type": "code",
      "metadata": {
        "id": "0ug_fLAWzXag",
        "colab": {
          "base_uri": "https://localhost:8080/"
        },
        "outputId": "e160e8c3-537c-4fe7-e1f7-1407e0687497"
      },
      "source": [
        "invest_covidPe"
      ],
      "execution_count": null,
      "outputs": [
        {
          "output_type": "execute_result",
          "data": {
            "text/html": [
              "<div>\n",
              "<style scoped>\n",
              "    .dataframe tbody tr th:only-of-type {\n",
              "        vertical-align: middle;\n",
              "    }\n",
              "\n",
              "    .dataframe tbody tr th {\n",
              "        vertical-align: top;\n",
              "    }\n",
              "\n",
              "    .dataframe thead th {\n",
              "        text-align: right;\n",
              "    }\n",
              "</style>\n",
              "<table border=\"1\" class=\"dataframe\">\n",
              "  <thead>\n",
              "    <tr style=\"text-align: right;\">\n",
              "      <th></th>\n",
              "      <th>Mês/Ano</th>\n",
              "      <th>Tipo de Favorecido</th>\n",
              "      <th>Município</th>\n",
              "      <th>Função</th>\n",
              "      <th>Programa Orçamentário</th>\n",
              "      <th>Valor Transferido</th>\n",
              "    </tr>\n",
              "  </thead>\n",
              "  <tbody>\n",
              "    <tr>\n",
              "      <th>0</th>\n",
              "      <td>mar/20</td>\n",
              "      <td>Fundo Público</td>\n",
              "      <td>RECIFE</td>\n",
              "      <td>Saúde</td>\n",
              "      <td>ATENCAO ESPECIALIZADA A SAUDE</td>\n",
              "      <td>60.000.00</td>\n",
              "    </tr>\n",
              "    <tr>\n",
              "      <th>1</th>\n",
              "      <td>abr/20</td>\n",
              "      <td>Fundo Público</td>\n",
              "      <td>GARANHUNS</td>\n",
              "      <td>Saúde</td>\n",
              "      <td>ATENCAO ESPECIALIZADA A SAUDE</td>\n",
              "      <td>1.174.944.27</td>\n",
              "    </tr>\n",
              "    <tr>\n",
              "      <th>2</th>\n",
              "      <td>abr/20</td>\n",
              "      <td>Fundo Público</td>\n",
              "      <td>PETROLINA</td>\n",
              "      <td>Saúde</td>\n",
              "      <td>ATENCAO ESPECIALIZADA A SAUDE</td>\n",
              "      <td>4.130.446.89</td>\n",
              "    </tr>\n",
              "    <tr>\n",
              "      <th>3</th>\n",
              "      <td>abr/20</td>\n",
              "      <td>Fundo Público</td>\n",
              "      <td>OLINDA</td>\n",
              "      <td>Saúde</td>\n",
              "      <td>ATENCAO ESPECIALIZADA A SAUDE</td>\n",
              "      <td>3.830.136.03</td>\n",
              "    </tr>\n",
              "    <tr>\n",
              "      <th>4</th>\n",
              "      <td>abr/20</td>\n",
              "      <td>Fundo Público</td>\n",
              "      <td>CARUARU</td>\n",
              "      <td>Saúde</td>\n",
              "      <td>ATENCAO ESPECIALIZADA A SAUDE</td>\n",
              "      <td>3.662.675.00</td>\n",
              "    </tr>\n",
              "    <tr>\n",
              "      <th>...</th>\n",
              "      <td>...</td>\n",
              "      <td>...</td>\n",
              "      <td>...</td>\n",
              "      <td>...</td>\n",
              "      <td>...</td>\n",
              "      <td>...</td>\n",
              "    </tr>\n",
              "    <tr>\n",
              "      <th>696</th>\n",
              "      <td>04/2020</td>\n",
              "      <td>Fundo Público</td>\n",
              "      <td>JABOATÃO DOS GUARARAPES</td>\n",
              "      <td>Saúde</td>\n",
              "      <td>ATENCAO ESPECIALIZADA A SAUDE</td>\n",
              "      <td>R$ 7.327.021.87</td>\n",
              "    </tr>\n",
              "    <tr>\n",
              "      <th>697</th>\n",
              "      <td>10/2020</td>\n",
              "      <td>Fundo Público</td>\n",
              "      <td>RECIFE</td>\n",
              "      <td>Saúde</td>\n",
              "      <td>ATENCAO ESPECIALIZADA A SAUDE</td>\n",
              "      <td>R$ 3.500.000.00</td>\n",
              "    </tr>\n",
              "    <tr>\n",
              "      <th>698</th>\n",
              "      <td>07/2020</td>\n",
              "      <td>Fundo Público</td>\n",
              "      <td>PETROLINA</td>\n",
              "      <td>Saúde</td>\n",
              "      <td>ATENCAO ESPECIALIZADA A SAUDE</td>\n",
              "      <td>R$ 8.676.053.00</td>\n",
              "    </tr>\n",
              "    <tr>\n",
              "      <th>699</th>\n",
              "      <td>07/2020</td>\n",
              "      <td>Fundo Público</td>\n",
              "      <td>BUÍQUE</td>\n",
              "      <td>Saúde</td>\n",
              "      <td>ATENCAO ESPECIALIZADA A SAUDE</td>\n",
              "      <td>R$ 1.850.000.00</td>\n",
              "    </tr>\n",
              "    <tr>\n",
              "      <th>700</th>\n",
              "      <td>08/2020</td>\n",
              "      <td>Fundo Público</td>\n",
              "      <td>PETROLINA</td>\n",
              "      <td>Assistência social</td>\n",
              "      <td>PROTECAO SOCIAL NO AMBITO DO SISTEMA UNICO DE ...</td>\n",
              "      <td>R$ 516.875.60</td>\n",
              "    </tr>\n",
              "  </tbody>\n",
              "</table>\n",
              "<p>701 rows × 6 columns</p>\n",
              "</div>"
            ],
            "text/plain": [
              "     Mês/Ano  ... Valor Transferido\n",
              "0     mar/20  ...         60.000.00\n",
              "1     abr/20  ...      1.174.944.27\n",
              "2     abr/20  ...      4.130.446.89\n",
              "3     abr/20  ...      3.830.136.03\n",
              "4     abr/20  ...      3.662.675.00\n",
              "..       ...  ...               ...\n",
              "696  04/2020  ...   R$ 7.327.021.87\n",
              "697  10/2020  ...   R$ 3.500.000.00\n",
              "698  07/2020  ...   R$ 8.676.053.00\n",
              "699  07/2020  ...   R$ 1.850.000.00\n",
              "700  08/2020  ...     R$ 516.875.60\n",
              "\n",
              "[701 rows x 6 columns]"
            ]
          },
          "metadata": {
            "tags": []
          },
          "execution_count": 15
        }
      ]
    },
    {
      "cell_type": "code",
      "metadata": {
        "id": "aFWx4nab4EDk",
        "colab": {
          "base_uri": "https://localhost:8080/"
        },
        "outputId": "34346865-b5db-4b26-91b4-e788c0493228"
      },
      "source": [
        "invest_covidPe = invest_covidPe.rename(columns={'Mês/Ano': 'month', \\\n",
        "                                                'Município': 'city', \\\n",
        "                                                'Tipo de Favorecido': 'tipo_favorecido', \\\n",
        "                                                'Programa Orçamentário': 'prog_orcamento', \\\n",
        "                                                'Valor Transferido': 'gastos' \\\n",
        "                                                })\n",
        "invest_covidPe.head(3)"
      ],
      "execution_count": null,
      "outputs": [
        {
          "output_type": "execute_result",
          "data": {
            "text/html": [
              "<div>\n",
              "<style scoped>\n",
              "    .dataframe tbody tr th:only-of-type {\n",
              "        vertical-align: middle;\n",
              "    }\n",
              "\n",
              "    .dataframe tbody tr th {\n",
              "        vertical-align: top;\n",
              "    }\n",
              "\n",
              "    .dataframe thead th {\n",
              "        text-align: right;\n",
              "    }\n",
              "</style>\n",
              "<table border=\"1\" class=\"dataframe\">\n",
              "  <thead>\n",
              "    <tr style=\"text-align: right;\">\n",
              "      <th></th>\n",
              "      <th>month</th>\n",
              "      <th>tipo_favorecido</th>\n",
              "      <th>city</th>\n",
              "      <th>Função</th>\n",
              "      <th>prog_orcamento</th>\n",
              "      <th>gastos</th>\n",
              "    </tr>\n",
              "  </thead>\n",
              "  <tbody>\n",
              "    <tr>\n",
              "      <th>0</th>\n",
              "      <td>mar/20</td>\n",
              "      <td>Fundo Público</td>\n",
              "      <td>RECIFE</td>\n",
              "      <td>Saúde</td>\n",
              "      <td>ATENCAO ESPECIALIZADA A SAUDE</td>\n",
              "      <td>60.000.00</td>\n",
              "    </tr>\n",
              "    <tr>\n",
              "      <th>1</th>\n",
              "      <td>abr/20</td>\n",
              "      <td>Fundo Público</td>\n",
              "      <td>GARANHUNS</td>\n",
              "      <td>Saúde</td>\n",
              "      <td>ATENCAO ESPECIALIZADA A SAUDE</td>\n",
              "      <td>1.174.944.27</td>\n",
              "    </tr>\n",
              "    <tr>\n",
              "      <th>2</th>\n",
              "      <td>abr/20</td>\n",
              "      <td>Fundo Público</td>\n",
              "      <td>PETROLINA</td>\n",
              "      <td>Saúde</td>\n",
              "      <td>ATENCAO ESPECIALIZADA A SAUDE</td>\n",
              "      <td>4.130.446.89</td>\n",
              "    </tr>\n",
              "  </tbody>\n",
              "</table>\n",
              "</div>"
            ],
            "text/plain": [
              "    month tipo_favorecido  ...                 prog_orcamento        gastos\n",
              "0  mar/20   Fundo Público  ...  ATENCAO ESPECIALIZADA A SAUDE     60.000.00\n",
              "1  abr/20   Fundo Público  ...  ATENCAO ESPECIALIZADA A SAUDE  1.174.944.27\n",
              "2  abr/20   Fundo Público  ...  ATENCAO ESPECIALIZADA A SAUDE  4.130.446.89\n",
              "\n",
              "[3 rows x 6 columns]"
            ]
          },
          "metadata": {
            "tags": []
          },
          "execution_count": 16
        }
      ]
    },
    {
      "cell_type": "markdown",
      "metadata": {
        "id": "PdTk7hYE-ydB"
      },
      "source": [
        "#### **Conversão de tipos das colunas**\n",
        "\n",
        "  * Valor Transferido (rename -> gastos): ```string``` -> ```float```\n",
        "\n",
        "  * Dados categóricos: ```object``` -> ```category```"
      ]
    },
    {
      "cell_type": "code",
      "metadata": {
        "id": "Y-wleeGQC4yJ",
        "colab": {
          "base_uri": "https://localhost:8080/"
        },
        "outputId": "c41e9c9b-9ce8-4588-9fbc-b69a6f0c4161"
      },
      "source": [
        "invest_covidPe.dtypes"
      ],
      "execution_count": null,
      "outputs": [
        {
          "output_type": "execute_result",
          "data": {
            "text/plain": [
              "month              object\n",
              "tipo_favorecido    object\n",
              "city               object\n",
              "Função             object\n",
              "prog_orcamento     object\n",
              "gastos             object\n",
              "dtype: object"
            ]
          },
          "metadata": {
            "tags": []
          },
          "execution_count": 17
        }
      ]
    },
    {
      "cell_type": "markdown",
      "metadata": {
        "id": "Ui9n7pptx9N3"
      },
      "source": [
        "##### **Valor Transferido**\n",
        "```object``` -> ```float64```"
      ]
    },
    {
      "cell_type": "code",
      "metadata": {
        "id": "7_4O7M9L-kWC"
      },
      "source": [
        "# Tratamento e conversão do CSV-String para float\n",
        "invest_covidPe['valores_transferidos'] = invest_covidPe['gastos'].apply(lambda words: words.replace('R$ ', ''))\n",
        "valores_transferidos = invest_covidPe['valores_transferidos'].map(lambda words: float(words[:-3].replace('.','') + words[-3:]))\n",
        "valores_transferidos = valores_transferidos.astype('float64')\n",
        "#valores_transferidos = valores_transferidos.astype(float)"
      ],
      "execution_count": null,
      "outputs": []
    },
    {
      "cell_type": "code",
      "metadata": {
        "id": "2cbS7PJEZBBm",
        "colab": {
          "base_uri": "https://localhost:8080/"
        },
        "outputId": "f5855ed3-2fde-4b85-a507-cc07782bbc50"
      },
      "source": [
        "invest_covidPe.head(3)"
      ],
      "execution_count": null,
      "outputs": [
        {
          "output_type": "execute_result",
          "data": {
            "text/html": [
              "<div>\n",
              "<style scoped>\n",
              "    .dataframe tbody tr th:only-of-type {\n",
              "        vertical-align: middle;\n",
              "    }\n",
              "\n",
              "    .dataframe tbody tr th {\n",
              "        vertical-align: top;\n",
              "    }\n",
              "\n",
              "    .dataframe thead th {\n",
              "        text-align: right;\n",
              "    }\n",
              "</style>\n",
              "<table border=\"1\" class=\"dataframe\">\n",
              "  <thead>\n",
              "    <tr style=\"text-align: right;\">\n",
              "      <th></th>\n",
              "      <th>month</th>\n",
              "      <th>tipo_favorecido</th>\n",
              "      <th>city</th>\n",
              "      <th>Função</th>\n",
              "      <th>prog_orcamento</th>\n",
              "      <th>gastos</th>\n",
              "      <th>valores_transferidos</th>\n",
              "    </tr>\n",
              "  </thead>\n",
              "  <tbody>\n",
              "    <tr>\n",
              "      <th>0</th>\n",
              "      <td>mar/20</td>\n",
              "      <td>Fundo Público</td>\n",
              "      <td>RECIFE</td>\n",
              "      <td>Saúde</td>\n",
              "      <td>ATENCAO ESPECIALIZADA A SAUDE</td>\n",
              "      <td>60.000.00</td>\n",
              "      <td>60.000.00</td>\n",
              "    </tr>\n",
              "    <tr>\n",
              "      <th>1</th>\n",
              "      <td>abr/20</td>\n",
              "      <td>Fundo Público</td>\n",
              "      <td>GARANHUNS</td>\n",
              "      <td>Saúde</td>\n",
              "      <td>ATENCAO ESPECIALIZADA A SAUDE</td>\n",
              "      <td>1.174.944.27</td>\n",
              "      <td>1.174.944.27</td>\n",
              "    </tr>\n",
              "    <tr>\n",
              "      <th>2</th>\n",
              "      <td>abr/20</td>\n",
              "      <td>Fundo Público</td>\n",
              "      <td>PETROLINA</td>\n",
              "      <td>Saúde</td>\n",
              "      <td>ATENCAO ESPECIALIZADA A SAUDE</td>\n",
              "      <td>4.130.446.89</td>\n",
              "      <td>4.130.446.89</td>\n",
              "    </tr>\n",
              "  </tbody>\n",
              "</table>\n",
              "</div>"
            ],
            "text/plain": [
              "    month tipo_favorecido  ...        gastos valores_transferidos\n",
              "0  mar/20   Fundo Público  ...     60.000.00            60.000.00\n",
              "1  abr/20   Fundo Público  ...  1.174.944.27         1.174.944.27\n",
              "2  abr/20   Fundo Público  ...  4.130.446.89         4.130.446.89\n",
              "\n",
              "[3 rows x 7 columns]"
            ]
          },
          "metadata": {
            "tags": []
          },
          "execution_count": 19
        }
      ]
    },
    {
      "cell_type": "code",
      "metadata": {
        "id": "YOjLjdx_XLEn",
        "colab": {
          "base_uri": "https://localhost:8080/"
        },
        "outputId": "5d389456-1f58-45cb-f6b4-0da48a7451da"
      },
      "source": [
        "# Atualiza o dataset principal\n",
        "invest_covidPe['gastos'].update(valores_transferidos)\n",
        "invest_covidPe.drop('valores_transferidos',axis=1,inplace=True)\n",
        "invest_covidPe = invest_covidPe.infer_objects()\n",
        "invest_covidPe.info(verbose=True)"
      ],
      "execution_count": null,
      "outputs": [
        {
          "output_type": "stream",
          "text": [
            "<class 'pandas.core.frame.DataFrame'>\n",
            "RangeIndex: 701 entries, 0 to 700\n",
            "Data columns (total 6 columns):\n",
            " #   Column           Non-Null Count  Dtype  \n",
            "---  ------           --------------  -----  \n",
            " 0   month            701 non-null    object \n",
            " 1   tipo_favorecido  701 non-null    object \n",
            " 2   city             701 non-null    object \n",
            " 3   Função           701 non-null    object \n",
            " 4   prog_orcamento   701 non-null    object \n",
            " 5   gastos           701 non-null    float64\n",
            "dtypes: float64(1), object(5)\n",
            "memory usage: 33.0+ KB\n"
          ],
          "name": "stdout"
        }
      ]
    },
    {
      "cell_type": "markdown",
      "metadata": {
        "id": "jLDhV-F6-1nV"
      },
      "source": [
        "##### **Definindo dados categóricos**"
      ]
    },
    {
      "cell_type": "markdown",
      "metadata": {
        "id": "MWRARfMS4HUW"
      },
      "source": [
        "Conversão de dados categóricos\n",
        "> ```object``` -> ```category```"
      ]
    },
    {
      "cell_type": "code",
      "metadata": {
        "id": "yucdFzJx1jql",
        "colab": {
          "base_uri": "https://localhost:8080/"
        },
        "outputId": "41f74a44-c34f-4b43-f320-59c28c4ffa9d"
      },
      "source": [
        "invest_covidPe"
      ],
      "execution_count": null,
      "outputs": [
        {
          "output_type": "execute_result",
          "data": {
            "text/html": [
              "<div>\n",
              "<style scoped>\n",
              "    .dataframe tbody tr th:only-of-type {\n",
              "        vertical-align: middle;\n",
              "    }\n",
              "\n",
              "    .dataframe tbody tr th {\n",
              "        vertical-align: top;\n",
              "    }\n",
              "\n",
              "    .dataframe thead th {\n",
              "        text-align: right;\n",
              "    }\n",
              "</style>\n",
              "<table border=\"1\" class=\"dataframe\">\n",
              "  <thead>\n",
              "    <tr style=\"text-align: right;\">\n",
              "      <th></th>\n",
              "      <th>month</th>\n",
              "      <th>tipo_favorecido</th>\n",
              "      <th>city</th>\n",
              "      <th>Função</th>\n",
              "      <th>prog_orcamento</th>\n",
              "      <th>gastos</th>\n",
              "    </tr>\n",
              "  </thead>\n",
              "  <tbody>\n",
              "    <tr>\n",
              "      <th>0</th>\n",
              "      <td>mar/20</td>\n",
              "      <td>Fundo Público</td>\n",
              "      <td>RECIFE</td>\n",
              "      <td>Saúde</td>\n",
              "      <td>ATENCAO ESPECIALIZADA A SAUDE</td>\n",
              "      <td>60000.00</td>\n",
              "    </tr>\n",
              "    <tr>\n",
              "      <th>1</th>\n",
              "      <td>abr/20</td>\n",
              "      <td>Fundo Público</td>\n",
              "      <td>GARANHUNS</td>\n",
              "      <td>Saúde</td>\n",
              "      <td>ATENCAO ESPECIALIZADA A SAUDE</td>\n",
              "      <td>1174944.27</td>\n",
              "    </tr>\n",
              "    <tr>\n",
              "      <th>2</th>\n",
              "      <td>abr/20</td>\n",
              "      <td>Fundo Público</td>\n",
              "      <td>PETROLINA</td>\n",
              "      <td>Saúde</td>\n",
              "      <td>ATENCAO ESPECIALIZADA A SAUDE</td>\n",
              "      <td>4130446.89</td>\n",
              "    </tr>\n",
              "    <tr>\n",
              "      <th>3</th>\n",
              "      <td>abr/20</td>\n",
              "      <td>Fundo Público</td>\n",
              "      <td>OLINDA</td>\n",
              "      <td>Saúde</td>\n",
              "      <td>ATENCAO ESPECIALIZADA A SAUDE</td>\n",
              "      <td>3830136.03</td>\n",
              "    </tr>\n",
              "    <tr>\n",
              "      <th>4</th>\n",
              "      <td>abr/20</td>\n",
              "      <td>Fundo Público</td>\n",
              "      <td>CARUARU</td>\n",
              "      <td>Saúde</td>\n",
              "      <td>ATENCAO ESPECIALIZADA A SAUDE</td>\n",
              "      <td>3662675.00</td>\n",
              "    </tr>\n",
              "    <tr>\n",
              "      <th>...</th>\n",
              "      <td>...</td>\n",
              "      <td>...</td>\n",
              "      <td>...</td>\n",
              "      <td>...</td>\n",
              "      <td>...</td>\n",
              "      <td>...</td>\n",
              "    </tr>\n",
              "    <tr>\n",
              "      <th>696</th>\n",
              "      <td>04/2020</td>\n",
              "      <td>Fundo Público</td>\n",
              "      <td>JABOATÃO DOS GUARARAPES</td>\n",
              "      <td>Saúde</td>\n",
              "      <td>ATENCAO ESPECIALIZADA A SAUDE</td>\n",
              "      <td>7327021.87</td>\n",
              "    </tr>\n",
              "    <tr>\n",
              "      <th>697</th>\n",
              "      <td>10/2020</td>\n",
              "      <td>Fundo Público</td>\n",
              "      <td>RECIFE</td>\n",
              "      <td>Saúde</td>\n",
              "      <td>ATENCAO ESPECIALIZADA A SAUDE</td>\n",
              "      <td>3500000.00</td>\n",
              "    </tr>\n",
              "    <tr>\n",
              "      <th>698</th>\n",
              "      <td>07/2020</td>\n",
              "      <td>Fundo Público</td>\n",
              "      <td>PETROLINA</td>\n",
              "      <td>Saúde</td>\n",
              "      <td>ATENCAO ESPECIALIZADA A SAUDE</td>\n",
              "      <td>8676053.00</td>\n",
              "    </tr>\n",
              "    <tr>\n",
              "      <th>699</th>\n",
              "      <td>07/2020</td>\n",
              "      <td>Fundo Público</td>\n",
              "      <td>BUÍQUE</td>\n",
              "      <td>Saúde</td>\n",
              "      <td>ATENCAO ESPECIALIZADA A SAUDE</td>\n",
              "      <td>1850000.00</td>\n",
              "    </tr>\n",
              "    <tr>\n",
              "      <th>700</th>\n",
              "      <td>08/2020</td>\n",
              "      <td>Fundo Público</td>\n",
              "      <td>PETROLINA</td>\n",
              "      <td>Assistência social</td>\n",
              "      <td>PROTECAO SOCIAL NO AMBITO DO SISTEMA UNICO DE ...</td>\n",
              "      <td>516875.60</td>\n",
              "    </tr>\n",
              "  </tbody>\n",
              "</table>\n",
              "<p>701 rows × 6 columns</p>\n",
              "</div>"
            ],
            "text/plain": [
              "       month  ...      gastos\n",
              "0     mar/20  ...    60000.00\n",
              "1     abr/20  ...  1174944.27\n",
              "2     abr/20  ...  4130446.89\n",
              "3     abr/20  ...  3830136.03\n",
              "4     abr/20  ...  3662675.00\n",
              "..       ...  ...         ...\n",
              "696  04/2020  ...  7327021.87\n",
              "697  10/2020  ...  3500000.00\n",
              "698  07/2020  ...  8676053.00\n",
              "699  07/2020  ...  1850000.00\n",
              "700  08/2020  ...   516875.60\n",
              "\n",
              "[701 rows x 6 columns]"
            ]
          },
          "metadata": {
            "tags": []
          },
          "execution_count": 24
        }
      ]
    },
    {
      "cell_type": "code",
      "metadata": {
        "id": "_XFyq-WR-0HA",
        "colab": {
          "base_uri": "https://localhost:8080/"
        },
        "outputId": "59521011-4cda-4c97-bd41-13f64bb79796"
      },
      "source": [
        "invest_covidPe['month'] = invest_covidPe['month'].astype('category')\n",
        "invest_covidPe['city'] = invest_covidPe['city'].astype('category')\n",
        "invest_covidPe['Função'] = invest_covidPe['Função'].astype('category')\n",
        "invest_covidPe['tipo_favorecido'] = invest_covidPe['tipo_favorecido'].astype('category')\n",
        "invest_covidPe['prog_orcamento'] = invest_covidPe['prog_orcamento'].astype('category')\n",
        "invest_covidPe.info(verbose=True)"
      ],
      "execution_count": null,
      "outputs": [
        {
          "output_type": "stream",
          "text": [
            "<class 'pandas.core.frame.DataFrame'>\n",
            "RangeIndex: 701 entries, 0 to 700\n",
            "Data columns (total 6 columns):\n",
            " #   Column           Non-Null Count  Dtype   \n",
            "---  ------           --------------  -----   \n",
            " 0   month            701 non-null    category\n",
            " 1   tipo_favorecido  701 non-null    category\n",
            " 2   city             701 non-null    category\n",
            " 3   Função           701 non-null    category\n",
            " 4   prog_orcamento   701 non-null    category\n",
            " 5   gastos           701 non-null    float64 \n",
            "dtypes: category(5), float64(1)\n",
            "memory usage: 10.7 KB\n"
          ],
          "name": "stdout"
        }
      ]
    },
    {
      "cell_type": "markdown",
      "metadata": {
        "id": "JvIjW9eo7M4V"
      },
      "source": [
        "### **Tratamento dos dados de casos de covid-19 em PE**"
      ]
    },
    {
      "cell_type": "markdown",
      "metadata": {
        "id": "UrgXxWT1MCvo"
      },
      "source": [
        "Filtragem de categorias"
      ]
    },
    {
      "cell_type": "code",
      "metadata": {
        "id": "ycdb5D-sLijY",
        "colab": {
          "base_uri": "https://localhost:8080/"
        },
        "outputId": "36bd56b0-1155-4f45-d44e-e011cf1924ce"
      },
      "source": [
        "covidPeCases = covidPeCases.filter(items=['city', \\\n",
        "                                         'last_available_confirmed', \\\n",
        "                                         'last_available_deaths', \\\n",
        "                                         'last_available_death_rate', \\\n",
        "                                         'estimated_population' \\\n",
        "                                         ])\n",
        "covidPeCases"
      ],
      "execution_count": null,
      "outputs": [
        {
          "output_type": "execute_result",
          "data": {
            "text/html": [
              "<div>\n",
              "<style scoped>\n",
              "    .dataframe tbody tr th:only-of-type {\n",
              "        vertical-align: middle;\n",
              "    }\n",
              "\n",
              "    .dataframe tbody tr th {\n",
              "        vertical-align: top;\n",
              "    }\n",
              "\n",
              "    .dataframe thead th {\n",
              "        text-align: right;\n",
              "    }\n",
              "</style>\n",
              "<table border=\"1\" class=\"dataframe\">\n",
              "  <thead>\n",
              "    <tr style=\"text-align: right;\">\n",
              "      <th></th>\n",
              "      <th>city</th>\n",
              "      <th>last_available_confirmed</th>\n",
              "      <th>last_available_deaths</th>\n",
              "      <th>last_available_death_rate</th>\n",
              "      <th>estimated_population</th>\n",
              "    </tr>\n",
              "  </thead>\n",
              "  <tbody>\n",
              "    <tr>\n",
              "      <th>0</th>\n",
              "      <td>NaN</td>\n",
              "      <td>323176</td>\n",
              "      <td>11510</td>\n",
              "      <td>0.0356</td>\n",
              "      <td>9616621.0</td>\n",
              "    </tr>\n",
              "    <tr>\n",
              "      <th>1</th>\n",
              "      <td>Abreu e Lima</td>\n",
              "      <td>1700</td>\n",
              "      <td>159</td>\n",
              "      <td>0.0935</td>\n",
              "      <td>100346.0</td>\n",
              "    </tr>\n",
              "    <tr>\n",
              "      <th>2</th>\n",
              "      <td>Afogados da Ingazeira</td>\n",
              "      <td>2478</td>\n",
              "      <td>35</td>\n",
              "      <td>0.0141</td>\n",
              "      <td>37404.0</td>\n",
              "    </tr>\n",
              "    <tr>\n",
              "      <th>3</th>\n",
              "      <td>Afrânio</td>\n",
              "      <td>578</td>\n",
              "      <td>9</td>\n",
              "      <td>0.0156</td>\n",
              "      <td>19810.0</td>\n",
              "    </tr>\n",
              "    <tr>\n",
              "      <th>4</th>\n",
              "      <td>Agrestina</td>\n",
              "      <td>865</td>\n",
              "      <td>36</td>\n",
              "      <td>0.0416</td>\n",
              "      <td>25065.0</td>\n",
              "    </tr>\n",
              "    <tr>\n",
              "      <th>...</th>\n",
              "      <td>...</td>\n",
              "      <td>...</td>\n",
              "      <td>...</td>\n",
              "      <td>...</td>\n",
              "      <td>...</td>\n",
              "    </tr>\n",
              "    <tr>\n",
              "      <th>182</th>\n",
              "      <td>Vertente do Lério</td>\n",
              "      <td>156</td>\n",
              "      <td>2</td>\n",
              "      <td>0.0128</td>\n",
              "      <td>7571.0</td>\n",
              "    </tr>\n",
              "    <tr>\n",
              "      <th>183</th>\n",
              "      <td>Vertentes</td>\n",
              "      <td>408</td>\n",
              "      <td>5</td>\n",
              "      <td>0.0123</td>\n",
              "      <td>20954.0</td>\n",
              "    </tr>\n",
              "    <tr>\n",
              "      <th>184</th>\n",
              "      <td>Vicência</td>\n",
              "      <td>431</td>\n",
              "      <td>16</td>\n",
              "      <td>0.0371</td>\n",
              "      <td>32772.0</td>\n",
              "    </tr>\n",
              "    <tr>\n",
              "      <th>185</th>\n",
              "      <td>Vitória de Santo Antão</td>\n",
              "      <td>3038</td>\n",
              "      <td>186</td>\n",
              "      <td>0.0612</td>\n",
              "      <td>139583.0</td>\n",
              "    </tr>\n",
              "    <tr>\n",
              "      <th>186</th>\n",
              "      <td>Xexéu</td>\n",
              "      <td>344</td>\n",
              "      <td>18</td>\n",
              "      <td>0.0523</td>\n",
              "      <td>14757.0</td>\n",
              "    </tr>\n",
              "  </tbody>\n",
              "</table>\n",
              "<p>187 rows × 5 columns</p>\n",
              "</div>"
            ],
            "text/plain": [
              "                       city  ...  estimated_population\n",
              "0                       NaN  ...             9616621.0\n",
              "1              Abreu e Lima  ...              100346.0\n",
              "2     Afogados da Ingazeira  ...               37404.0\n",
              "3                   Afrânio  ...               19810.0\n",
              "4                 Agrestina  ...               25065.0\n",
              "..                      ...  ...                   ...\n",
              "182       Vertente do Lério  ...                7571.0\n",
              "183               Vertentes  ...               20954.0\n",
              "184                Vicência  ...               32772.0\n",
              "185  Vitória de Santo Antão  ...              139583.0\n",
              "186                   Xexéu  ...               14757.0\n",
              "\n",
              "[187 rows x 5 columns]"
            ]
          },
          "metadata": {
            "tags": []
          },
          "execution_count": 26
        }
      ]
    },
    {
      "cell_type": "markdown",
      "metadata": {
        "id": "KugjoksVMEZn"
      },
      "source": [
        "Renomeação de colunas"
      ]
    },
    {
      "cell_type": "code",
      "metadata": {
        "id": "QxTROxJ_L3bR",
        "colab": {
          "base_uri": "https://localhost:8080/"
        },
        "outputId": "1578bad3-e53d-4fdc-f096-4b2f2570fd98"
      },
      "source": [
        "covidPeCases = covidPeCases.rename(columns={\"city\": \"municipio\", \\\n",
        "                                           \"last_available_confirmed\": \"casos_confirmados\", \\\n",
        "                                           \"last_available_deaths\": \"mortes_confirmadas\", \\\n",
        "                                           \"last_available_death_rate\": \"taxa_mortalidade\", \\\n",
        "                                           \"estimated_population\": \"pop_estimada\" \\\n",
        "                                           })\n",
        "covidPeCases"
      ],
      "execution_count": null,
      "outputs": [
        {
          "output_type": "execute_result",
          "data": {
            "text/html": [
              "<div>\n",
              "<style scoped>\n",
              "    .dataframe tbody tr th:only-of-type {\n",
              "        vertical-align: middle;\n",
              "    }\n",
              "\n",
              "    .dataframe tbody tr th {\n",
              "        vertical-align: top;\n",
              "    }\n",
              "\n",
              "    .dataframe thead th {\n",
              "        text-align: right;\n",
              "    }\n",
              "</style>\n",
              "<table border=\"1\" class=\"dataframe\">\n",
              "  <thead>\n",
              "    <tr style=\"text-align: right;\">\n",
              "      <th></th>\n",
              "      <th>municipio</th>\n",
              "      <th>casos_confirmados</th>\n",
              "      <th>mortes_confirmadas</th>\n",
              "      <th>taxa_mortalidade</th>\n",
              "      <th>pop_estimada</th>\n",
              "    </tr>\n",
              "  </thead>\n",
              "  <tbody>\n",
              "    <tr>\n",
              "      <th>0</th>\n",
              "      <td>NaN</td>\n",
              "      <td>323176</td>\n",
              "      <td>11510</td>\n",
              "      <td>0.0356</td>\n",
              "      <td>9616621.0</td>\n",
              "    </tr>\n",
              "    <tr>\n",
              "      <th>1</th>\n",
              "      <td>Abreu e Lima</td>\n",
              "      <td>1700</td>\n",
              "      <td>159</td>\n",
              "      <td>0.0935</td>\n",
              "      <td>100346.0</td>\n",
              "    </tr>\n",
              "    <tr>\n",
              "      <th>2</th>\n",
              "      <td>Afogados da Ingazeira</td>\n",
              "      <td>2478</td>\n",
              "      <td>35</td>\n",
              "      <td>0.0141</td>\n",
              "      <td>37404.0</td>\n",
              "    </tr>\n",
              "    <tr>\n",
              "      <th>3</th>\n",
              "      <td>Afrânio</td>\n",
              "      <td>578</td>\n",
              "      <td>9</td>\n",
              "      <td>0.0156</td>\n",
              "      <td>19810.0</td>\n",
              "    </tr>\n",
              "    <tr>\n",
              "      <th>4</th>\n",
              "      <td>Agrestina</td>\n",
              "      <td>865</td>\n",
              "      <td>36</td>\n",
              "      <td>0.0416</td>\n",
              "      <td>25065.0</td>\n",
              "    </tr>\n",
              "    <tr>\n",
              "      <th>...</th>\n",
              "      <td>...</td>\n",
              "      <td>...</td>\n",
              "      <td>...</td>\n",
              "      <td>...</td>\n",
              "      <td>...</td>\n",
              "    </tr>\n",
              "    <tr>\n",
              "      <th>182</th>\n",
              "      <td>Vertente do Lério</td>\n",
              "      <td>156</td>\n",
              "      <td>2</td>\n",
              "      <td>0.0128</td>\n",
              "      <td>7571.0</td>\n",
              "    </tr>\n",
              "    <tr>\n",
              "      <th>183</th>\n",
              "      <td>Vertentes</td>\n",
              "      <td>408</td>\n",
              "      <td>5</td>\n",
              "      <td>0.0123</td>\n",
              "      <td>20954.0</td>\n",
              "    </tr>\n",
              "    <tr>\n",
              "      <th>184</th>\n",
              "      <td>Vicência</td>\n",
              "      <td>431</td>\n",
              "      <td>16</td>\n",
              "      <td>0.0371</td>\n",
              "      <td>32772.0</td>\n",
              "    </tr>\n",
              "    <tr>\n",
              "      <th>185</th>\n",
              "      <td>Vitória de Santo Antão</td>\n",
              "      <td>3038</td>\n",
              "      <td>186</td>\n",
              "      <td>0.0612</td>\n",
              "      <td>139583.0</td>\n",
              "    </tr>\n",
              "    <tr>\n",
              "      <th>186</th>\n",
              "      <td>Xexéu</td>\n",
              "      <td>344</td>\n",
              "      <td>18</td>\n",
              "      <td>0.0523</td>\n",
              "      <td>14757.0</td>\n",
              "    </tr>\n",
              "  </tbody>\n",
              "</table>\n",
              "<p>187 rows × 5 columns</p>\n",
              "</div>"
            ],
            "text/plain": [
              "                  municipio  casos_confirmados  ...  taxa_mortalidade  pop_estimada\n",
              "0                       NaN             323176  ...            0.0356     9616621.0\n",
              "1              Abreu e Lima               1700  ...            0.0935      100346.0\n",
              "2     Afogados da Ingazeira               2478  ...            0.0141       37404.0\n",
              "3                   Afrânio                578  ...            0.0156       19810.0\n",
              "4                 Agrestina                865  ...            0.0416       25065.0\n",
              "..                      ...                ...  ...               ...           ...\n",
              "182       Vertente do Lério                156  ...            0.0128        7571.0\n",
              "183               Vertentes                408  ...            0.0123       20954.0\n",
              "184                Vicência                431  ...            0.0371       32772.0\n",
              "185  Vitória de Santo Antão               3038  ...            0.0612      139583.0\n",
              "186                   Xexéu                344  ...            0.0523       14757.0\n",
              "\n",
              "[187 rows x 5 columns]"
            ]
          },
          "metadata": {
            "tags": []
          },
          "execution_count": 27
        }
      ]
    },
    {
      "cell_type": "markdown",
      "metadata": {
        "id": "ppahtXoqPG7l"
      },
      "source": [
        "Filtrar cidades do dataset de Gastos públicos"
      ]
    },
    {
      "cell_type": "code",
      "metadata": {
        "id": "E2Y3omYllzL2",
        "colab": {
          "base_uri": "https://localhost:8080/"
        },
        "outputId": "a547d0dd-d3b7-4a6e-836a-387f7bab8948"
      },
      "source": [
        "#Guardando uma cópia dos dados de todas as cidades\n",
        "oldCovidPeCases = covidPeCases\n",
        "\n",
        "#Filtrando as cidades que selecionamos os gastos no portal da transparência\n",
        "cities = ['Arcoverde', \\\n",
        "          'Buíque', \\\n",
        "          'Caruaru', \\\n",
        "          'Garanhuns', \\\n",
        "          'Jaboatão dos Guararapes', \\\n",
        "          'Olinda', \\\n",
        "          'Paulista', \\\n",
        "          'Petrolina', \\\n",
        "          'Recife', \\\n",
        "          'Serra Talhada']\n",
        "\n",
        "covidPeCases = covidPeCases[covidPeCases.municipio.isin(cities)]\n",
        "covidPeCases"
      ],
      "execution_count": null,
      "outputs": [
        {
          "output_type": "execute_result",
          "data": {
            "text/html": [
              "<div>\n",
              "<style scoped>\n",
              "    .dataframe tbody tr th:only-of-type {\n",
              "        vertical-align: middle;\n",
              "    }\n",
              "\n",
              "    .dataframe tbody tr th {\n",
              "        vertical-align: top;\n",
              "    }\n",
              "\n",
              "    .dataframe thead th {\n",
              "        text-align: right;\n",
              "    }\n",
              "</style>\n",
              "<table border=\"1\" class=\"dataframe\">\n",
              "  <thead>\n",
              "    <tr style=\"text-align: right;\">\n",
              "      <th></th>\n",
              "      <th>municipio</th>\n",
              "      <th>casos_confirmados</th>\n",
              "      <th>mortes_confirmadas</th>\n",
              "      <th>taxa_mortalidade</th>\n",
              "      <th>pop_estimada</th>\n",
              "    </tr>\n",
              "  </thead>\n",
              "  <tbody>\n",
              "    <tr>\n",
              "      <th>14</th>\n",
              "      <td>Arcoverde</td>\n",
              "      <td>4281</td>\n",
              "      <td>87</td>\n",
              "      <td>0.0203</td>\n",
              "      <td>74822.0</td>\n",
              "    </tr>\n",
              "    <tr>\n",
              "      <th>30</th>\n",
              "      <td>Buíque</td>\n",
              "      <td>1436</td>\n",
              "      <td>23</td>\n",
              "      <td>0.0160</td>\n",
              "      <td>58919.0</td>\n",
              "    </tr>\n",
              "    <tr>\n",
              "      <th>45</th>\n",
              "      <td>Caruaru</td>\n",
              "      <td>17187</td>\n",
              "      <td>454</td>\n",
              "      <td>0.0264</td>\n",
              "      <td>365278.0</td>\n",
              "    </tr>\n",
              "    <tr>\n",
              "      <th>67</th>\n",
              "      <td>Garanhuns</td>\n",
              "      <td>7250</td>\n",
              "      <td>134</td>\n",
              "      <td>0.0185</td>\n",
              "      <td>140577.0</td>\n",
              "    </tr>\n",
              "    <tr>\n",
              "      <th>89</th>\n",
              "      <td>Jaboatão dos Guararapes</td>\n",
              "      <td>19966</td>\n",
              "      <td>1095</td>\n",
              "      <td>0.0548</td>\n",
              "      <td>706867.0</td>\n",
              "    </tr>\n",
              "    <tr>\n",
              "      <th>113</th>\n",
              "      <td>Olinda</td>\n",
              "      <td>14581</td>\n",
              "      <td>635</td>\n",
              "      <td>0.0435</td>\n",
              "      <td>393115.0</td>\n",
              "    </tr>\n",
              "    <tr>\n",
              "      <th>124</th>\n",
              "      <td>Paulista</td>\n",
              "      <td>7154</td>\n",
              "      <td>528</td>\n",
              "      <td>0.0738</td>\n",
              "      <td>334376.0</td>\n",
              "    </tr>\n",
              "    <tr>\n",
              "      <th>128</th>\n",
              "      <td>Petrolina</td>\n",
              "      <td>18239</td>\n",
              "      <td>209</td>\n",
              "      <td>0.0115</td>\n",
              "      <td>354317.0</td>\n",
              "    </tr>\n",
              "    <tr>\n",
              "      <th>134</th>\n",
              "      <td>Recife</td>\n",
              "      <td>78117</td>\n",
              "      <td>3168</td>\n",
              "      <td>0.0406</td>\n",
              "      <td>1653461.0</td>\n",
              "    </tr>\n",
              "    <tr>\n",
              "      <th>160</th>\n",
              "      <td>Serra Talhada</td>\n",
              "      <td>7341</td>\n",
              "      <td>105</td>\n",
              "      <td>0.0143</td>\n",
              "      <td>86915.0</td>\n",
              "    </tr>\n",
              "  </tbody>\n",
              "</table>\n",
              "</div>"
            ],
            "text/plain": [
              "                   municipio  casos_confirmados  ...  taxa_mortalidade  pop_estimada\n",
              "14                 Arcoverde               4281  ...            0.0203       74822.0\n",
              "30                    Buíque               1436  ...            0.0160       58919.0\n",
              "45                   Caruaru              17187  ...            0.0264      365278.0\n",
              "67                 Garanhuns               7250  ...            0.0185      140577.0\n",
              "89   Jaboatão dos Guararapes              19966  ...            0.0548      706867.0\n",
              "113                   Olinda              14581  ...            0.0435      393115.0\n",
              "124                 Paulista               7154  ...            0.0738      334376.0\n",
              "128                Petrolina              18239  ...            0.0115      354317.0\n",
              "134                   Recife              78117  ...            0.0406     1653461.0\n",
              "160            Serra Talhada               7341  ...            0.0143       86915.0\n",
              "\n",
              "[10 rows x 5 columns]"
            ]
          },
          "metadata": {
            "tags": []
          },
          "execution_count": 28
        }
      ]
    },
    {
      "cell_type": "code",
      "metadata": {
        "id": "ahFKtynRWcZK",
        "colab": {
          "base_uri": "https://localhost:8080/"
        },
        "outputId": "11bb0532-5229-4464-c729-02d1f122e0da"
      },
      "source": [
        "covidPeCases.info(verbose=True)"
      ],
      "execution_count": null,
      "outputs": [
        {
          "output_type": "stream",
          "text": [
            "<class 'pandas.core.frame.DataFrame'>\n",
            "Int64Index: 10 entries, 14 to 160\n",
            "Data columns (total 5 columns):\n",
            " #   Column              Non-Null Count  Dtype  \n",
            "---  ------              --------------  -----  \n",
            " 0   municipio           10 non-null     object \n",
            " 1   casos_confirmados   10 non-null     int64  \n",
            " 2   mortes_confirmadas  10 non-null     int64  \n",
            " 3   taxa_mortalidade    10 non-null     float64\n",
            " 4   pop_estimada        10 non-null     float64\n",
            "dtypes: float64(2), int64(2), object(1)\n",
            "memory usage: 480.0+ bytes\n"
          ],
          "name": "stdout"
        }
      ]
    },
    {
      "cell_type": "code",
      "metadata": {
        "id": "TrR7lzvjbI4n",
        "colab": {
          "base_uri": "https://localhost:8080/"
        },
        "outputId": "16c5f25c-fec1-494d-e305-10fc64ece08a"
      },
      "source": [
        "covidPeCases['municipio'] = covidPeCases['municipio'].apply(lambda city: city.upper())\n",
        "covidPeCases['municipio'].unique()"
      ],
      "execution_count": null,
      "outputs": [
        {
          "output_type": "stream",
          "text": [
            "/usr/local/lib/python3.7/dist-packages/ipykernel_launcher.py:1: SettingWithCopyWarning: \n",
            "A value is trying to be set on a copy of a slice from a DataFrame.\n",
            "Try using .loc[row_indexer,col_indexer] = value instead\n",
            "\n",
            "See the caveats in the documentation: https://pandas.pydata.org/pandas-docs/stable/user_guide/indexing.html#returning-a-view-versus-a-copy\n",
            "  \"\"\"Entry point for launching an IPython kernel.\n"
          ],
          "name": "stderr"
        },
        {
          "output_type": "execute_result",
          "data": {
            "text/plain": [
              "array(['ARCOVERDE', 'BUÍQUE', 'CARUARU', 'GARANHUNS',\n",
              "       'JABOATÃO DOS GUARARAPES', 'OLINDA', 'PAULISTA', 'PETROLINA',\n",
              "       'RECIFE', 'SERRA TALHADA'], dtype=object)"
            ]
          },
          "metadata": {
            "tags": []
          },
          "execution_count": 30
        }
      ]
    },
    {
      "cell_type": "code",
      "metadata": {
        "id": "eOyrO8VdcMGn",
        "colab": {
          "base_uri": "https://localhost:8080/"
        },
        "outputId": "6adf201e-810e-44c4-d71e-a125d82f9aef"
      },
      "source": [
        "covidPeCases['municipio'] = covidPeCases['municipio'].astype('category')\n",
        "covidPeCases['id'] = covidPeCases['municipio'].cat.codes\n",
        "covidPeCases.index = covidPeCases['id']"
      ],
      "execution_count": null,
      "outputs": [
        {
          "output_type": "stream",
          "text": [
            "/usr/local/lib/python3.7/dist-packages/ipykernel_launcher.py:1: SettingWithCopyWarning: \n",
            "A value is trying to be set on a copy of a slice from a DataFrame.\n",
            "Try using .loc[row_indexer,col_indexer] = value instead\n",
            "\n",
            "See the caveats in the documentation: https://pandas.pydata.org/pandas-docs/stable/user_guide/indexing.html#returning-a-view-versus-a-copy\n",
            "  \"\"\"Entry point for launching an IPython kernel.\n",
            "/usr/local/lib/python3.7/dist-packages/ipykernel_launcher.py:2: SettingWithCopyWarning: \n",
            "A value is trying to be set on a copy of a slice from a DataFrame.\n",
            "Try using .loc[row_indexer,col_indexer] = value instead\n",
            "\n",
            "See the caveats in the documentation: https://pandas.pydata.org/pandas-docs/stable/user_guide/indexing.html#returning-a-view-versus-a-copy\n",
            "  \n"
          ],
          "name": "stderr"
        }
      ]
    },
    {
      "cell_type": "code",
      "metadata": {
        "id": "BCs0LeFWlV0y",
        "colab": {
          "base_uri": "https://localhost:8080/"
        },
        "outputId": "7ae9e2b2-9068-40f7-89f6-f994586c6633"
      },
      "source": [
        "covidPeCases"
      ],
      "execution_count": null,
      "outputs": [
        {
          "output_type": "execute_result",
          "data": {
            "text/html": [
              "<div>\n",
              "<style scoped>\n",
              "    .dataframe tbody tr th:only-of-type {\n",
              "        vertical-align: middle;\n",
              "    }\n",
              "\n",
              "    .dataframe tbody tr th {\n",
              "        vertical-align: top;\n",
              "    }\n",
              "\n",
              "    .dataframe thead th {\n",
              "        text-align: right;\n",
              "    }\n",
              "</style>\n",
              "<table border=\"1\" class=\"dataframe\">\n",
              "  <thead>\n",
              "    <tr style=\"text-align: right;\">\n",
              "      <th></th>\n",
              "      <th>municipio</th>\n",
              "      <th>casos_confirmados</th>\n",
              "      <th>mortes_confirmadas</th>\n",
              "      <th>taxa_mortalidade</th>\n",
              "      <th>pop_estimada</th>\n",
              "      <th>id</th>\n",
              "    </tr>\n",
              "    <tr>\n",
              "      <th>id</th>\n",
              "      <th></th>\n",
              "      <th></th>\n",
              "      <th></th>\n",
              "      <th></th>\n",
              "      <th></th>\n",
              "      <th></th>\n",
              "    </tr>\n",
              "  </thead>\n",
              "  <tbody>\n",
              "    <tr>\n",
              "      <th>0</th>\n",
              "      <td>ARCOVERDE</td>\n",
              "      <td>4281</td>\n",
              "      <td>87</td>\n",
              "      <td>0.0203</td>\n",
              "      <td>74822.0</td>\n",
              "      <td>0</td>\n",
              "    </tr>\n",
              "    <tr>\n",
              "      <th>1</th>\n",
              "      <td>BUÍQUE</td>\n",
              "      <td>1436</td>\n",
              "      <td>23</td>\n",
              "      <td>0.0160</td>\n",
              "      <td>58919.0</td>\n",
              "      <td>1</td>\n",
              "    </tr>\n",
              "    <tr>\n",
              "      <th>2</th>\n",
              "      <td>CARUARU</td>\n",
              "      <td>17187</td>\n",
              "      <td>454</td>\n",
              "      <td>0.0264</td>\n",
              "      <td>365278.0</td>\n",
              "      <td>2</td>\n",
              "    </tr>\n",
              "    <tr>\n",
              "      <th>3</th>\n",
              "      <td>GARANHUNS</td>\n",
              "      <td>7250</td>\n",
              "      <td>134</td>\n",
              "      <td>0.0185</td>\n",
              "      <td>140577.0</td>\n",
              "      <td>3</td>\n",
              "    </tr>\n",
              "    <tr>\n",
              "      <th>4</th>\n",
              "      <td>JABOATÃO DOS GUARARAPES</td>\n",
              "      <td>19966</td>\n",
              "      <td>1095</td>\n",
              "      <td>0.0548</td>\n",
              "      <td>706867.0</td>\n",
              "      <td>4</td>\n",
              "    </tr>\n",
              "    <tr>\n",
              "      <th>5</th>\n",
              "      <td>OLINDA</td>\n",
              "      <td>14581</td>\n",
              "      <td>635</td>\n",
              "      <td>0.0435</td>\n",
              "      <td>393115.0</td>\n",
              "      <td>5</td>\n",
              "    </tr>\n",
              "    <tr>\n",
              "      <th>6</th>\n",
              "      <td>PAULISTA</td>\n",
              "      <td>7154</td>\n",
              "      <td>528</td>\n",
              "      <td>0.0738</td>\n",
              "      <td>334376.0</td>\n",
              "      <td>6</td>\n",
              "    </tr>\n",
              "    <tr>\n",
              "      <th>7</th>\n",
              "      <td>PETROLINA</td>\n",
              "      <td>18239</td>\n",
              "      <td>209</td>\n",
              "      <td>0.0115</td>\n",
              "      <td>354317.0</td>\n",
              "      <td>7</td>\n",
              "    </tr>\n",
              "    <tr>\n",
              "      <th>8</th>\n",
              "      <td>RECIFE</td>\n",
              "      <td>78117</td>\n",
              "      <td>3168</td>\n",
              "      <td>0.0406</td>\n",
              "      <td>1653461.0</td>\n",
              "      <td>8</td>\n",
              "    </tr>\n",
              "    <tr>\n",
              "      <th>9</th>\n",
              "      <td>SERRA TALHADA</td>\n",
              "      <td>7341</td>\n",
              "      <td>105</td>\n",
              "      <td>0.0143</td>\n",
              "      <td>86915.0</td>\n",
              "      <td>9</td>\n",
              "    </tr>\n",
              "  </tbody>\n",
              "</table>\n",
              "</div>"
            ],
            "text/plain": [
              "                  municipio  casos_confirmados  ...  pop_estimada  id\n",
              "id                                              ...                  \n",
              "0                 ARCOVERDE               4281  ...       74822.0   0\n",
              "1                    BUÍQUE               1436  ...       58919.0   1\n",
              "2                   CARUARU              17187  ...      365278.0   2\n",
              "3                 GARANHUNS               7250  ...      140577.0   3\n",
              "4   JABOATÃO DOS GUARARAPES              19966  ...      706867.0   4\n",
              "5                    OLINDA              14581  ...      393115.0   5\n",
              "6                  PAULISTA               7154  ...      334376.0   6\n",
              "7                 PETROLINA              18239  ...      354317.0   7\n",
              "8                    RECIFE              78117  ...     1653461.0   8\n",
              "9             SERRA TALHADA               7341  ...       86915.0   9\n",
              "\n",
              "[10 rows x 6 columns]"
            ]
          },
          "metadata": {
            "tags": []
          },
          "execution_count": 32
        }
      ]
    },
    {
      "cell_type": "markdown",
      "metadata": {
        "id": "IDTgOPKxAaCv"
      },
      "source": [
        "### **Remoção de outliers multivariado**\n",
        "> Método utilizado:\n",
        "  * Local Outlier Factor\n",
        "\n",
        "> Conjunto:\n",
        "  * ```investCovidPE```"
      ]
    },
    {
      "cell_type": "markdown",
      "metadata": {
        "id": "nayhR_TLag-A"
      },
      "source": [
        "Categorizando Gastos públicos"
      ]
    },
    {
      "cell_type": "markdown",
      "metadata": {
        "id": "qtQRD6AomH-A"
      },
      "source": [
        "Método para vincular os dados de municípios entre os dois Conjuntos de Dados"
      ]
    },
    {
      "cell_type": "code",
      "metadata": {
        "id": "7712t-mXfjd1"
      },
      "source": [
        "def categorizar_municipio(city):\n",
        "  return covidPeCases[covidPeCases['municipio'] == str(city)].index.values.astype(int)[0]"
      ],
      "execution_count": null,
      "outputs": []
    },
    {
      "cell_type": "code",
      "metadata": {
        "id": "CFbosEXX2qA1",
        "colab": {
          "base_uri": "https://localhost:8080/"
        },
        "outputId": "74286989-fb15-429b-d296-9969778b54f6"
      },
      "source": [
        "invest_covidPe"
      ],
      "execution_count": null,
      "outputs": [
        {
          "output_type": "execute_result",
          "data": {
            "text/html": [
              "<div>\n",
              "<style scoped>\n",
              "    .dataframe tbody tr th:only-of-type {\n",
              "        vertical-align: middle;\n",
              "    }\n",
              "\n",
              "    .dataframe tbody tr th {\n",
              "        vertical-align: top;\n",
              "    }\n",
              "\n",
              "    .dataframe thead th {\n",
              "        text-align: right;\n",
              "    }\n",
              "</style>\n",
              "<table border=\"1\" class=\"dataframe\">\n",
              "  <thead>\n",
              "    <tr style=\"text-align: right;\">\n",
              "      <th></th>\n",
              "      <th>month</th>\n",
              "      <th>tipo_favorecido</th>\n",
              "      <th>city</th>\n",
              "      <th>Função</th>\n",
              "      <th>prog_orcamento</th>\n",
              "      <th>gastos</th>\n",
              "    </tr>\n",
              "  </thead>\n",
              "  <tbody>\n",
              "    <tr>\n",
              "      <th>0</th>\n",
              "      <td>mar/20</td>\n",
              "      <td>Fundo Público</td>\n",
              "      <td>RECIFE</td>\n",
              "      <td>Saúde</td>\n",
              "      <td>ATENCAO ESPECIALIZADA A SAUDE</td>\n",
              "      <td>60000.00</td>\n",
              "    </tr>\n",
              "    <tr>\n",
              "      <th>1</th>\n",
              "      <td>abr/20</td>\n",
              "      <td>Fundo Público</td>\n",
              "      <td>GARANHUNS</td>\n",
              "      <td>Saúde</td>\n",
              "      <td>ATENCAO ESPECIALIZADA A SAUDE</td>\n",
              "      <td>1174944.27</td>\n",
              "    </tr>\n",
              "    <tr>\n",
              "      <th>2</th>\n",
              "      <td>abr/20</td>\n",
              "      <td>Fundo Público</td>\n",
              "      <td>PETROLINA</td>\n",
              "      <td>Saúde</td>\n",
              "      <td>ATENCAO ESPECIALIZADA A SAUDE</td>\n",
              "      <td>4130446.89</td>\n",
              "    </tr>\n",
              "    <tr>\n",
              "      <th>3</th>\n",
              "      <td>abr/20</td>\n",
              "      <td>Fundo Público</td>\n",
              "      <td>OLINDA</td>\n",
              "      <td>Saúde</td>\n",
              "      <td>ATENCAO ESPECIALIZADA A SAUDE</td>\n",
              "      <td>3830136.03</td>\n",
              "    </tr>\n",
              "    <tr>\n",
              "      <th>4</th>\n",
              "      <td>abr/20</td>\n",
              "      <td>Fundo Público</td>\n",
              "      <td>CARUARU</td>\n",
              "      <td>Saúde</td>\n",
              "      <td>ATENCAO ESPECIALIZADA A SAUDE</td>\n",
              "      <td>3662675.00</td>\n",
              "    </tr>\n",
              "    <tr>\n",
              "      <th>...</th>\n",
              "      <td>...</td>\n",
              "      <td>...</td>\n",
              "      <td>...</td>\n",
              "      <td>...</td>\n",
              "      <td>...</td>\n",
              "      <td>...</td>\n",
              "    </tr>\n",
              "    <tr>\n",
              "      <th>696</th>\n",
              "      <td>04/2020</td>\n",
              "      <td>Fundo Público</td>\n",
              "      <td>JABOATÃO DOS GUARARAPES</td>\n",
              "      <td>Saúde</td>\n",
              "      <td>ATENCAO ESPECIALIZADA A SAUDE</td>\n",
              "      <td>7327021.87</td>\n",
              "    </tr>\n",
              "    <tr>\n",
              "      <th>697</th>\n",
              "      <td>10/2020</td>\n",
              "      <td>Fundo Público</td>\n",
              "      <td>RECIFE</td>\n",
              "      <td>Saúde</td>\n",
              "      <td>ATENCAO ESPECIALIZADA A SAUDE</td>\n",
              "      <td>3500000.00</td>\n",
              "    </tr>\n",
              "    <tr>\n",
              "      <th>698</th>\n",
              "      <td>07/2020</td>\n",
              "      <td>Fundo Público</td>\n",
              "      <td>PETROLINA</td>\n",
              "      <td>Saúde</td>\n",
              "      <td>ATENCAO ESPECIALIZADA A SAUDE</td>\n",
              "      <td>8676053.00</td>\n",
              "    </tr>\n",
              "    <tr>\n",
              "      <th>699</th>\n",
              "      <td>07/2020</td>\n",
              "      <td>Fundo Público</td>\n",
              "      <td>BUÍQUE</td>\n",
              "      <td>Saúde</td>\n",
              "      <td>ATENCAO ESPECIALIZADA A SAUDE</td>\n",
              "      <td>1850000.00</td>\n",
              "    </tr>\n",
              "    <tr>\n",
              "      <th>700</th>\n",
              "      <td>08/2020</td>\n",
              "      <td>Fundo Público</td>\n",
              "      <td>PETROLINA</td>\n",
              "      <td>Assistência social</td>\n",
              "      <td>PROTECAO SOCIAL NO AMBITO DO SISTEMA UNICO DE ...</td>\n",
              "      <td>516875.60</td>\n",
              "    </tr>\n",
              "  </tbody>\n",
              "</table>\n",
              "<p>701 rows × 6 columns</p>\n",
              "</div>"
            ],
            "text/plain": [
              "       month  ...      gastos\n",
              "0     mar/20  ...    60000.00\n",
              "1     abr/20  ...  1174944.27\n",
              "2     abr/20  ...  4130446.89\n",
              "3     abr/20  ...  3830136.03\n",
              "4     abr/20  ...  3662675.00\n",
              "..       ...  ...         ...\n",
              "696  04/2020  ...  7327021.87\n",
              "697  10/2020  ...  3500000.00\n",
              "698  07/2020  ...  8676053.00\n",
              "699  07/2020  ...  1850000.00\n",
              "700  08/2020  ...   516875.60\n",
              "\n",
              "[701 rows x 6 columns]"
            ]
          },
          "metadata": {
            "tags": []
          },
          "execution_count": 34
        }
      ]
    },
    {
      "cell_type": "code",
      "metadata": {
        "id": "L7aa-Y4WAiKn"
      },
      "source": [
        "invest_covidPe['city'] = invest_covidPe['city'].map(lambda city: city.replace(city, str(categorizar_municipio(city))))\n",
        "invest_covidPe['month'] = invest_covidPe['month'].cat.codes\n",
        "invest_covidPe['tipo_favorecido'] = invest_covidPe['tipo_favorecido'].cat.codes\n",
        "invest_covidPe['Função'] = invest_covidPe['Função'].cat.codes\n",
        "invest_covidPe['prog_orcamento'] = invest_covidPe['prog_orcamento'].cat.codes"
      ],
      "execution_count": null,
      "outputs": []
    },
    {
      "cell_type": "code",
      "metadata": {
        "id": "BkajQcJKl24y",
        "colab": {
          "base_uri": "https://localhost:8080/"
        },
        "outputId": "3494d12a-42a4-4668-9bb0-fe8ea9f766de"
      },
      "source": [
        "invest_covidPe"
      ],
      "execution_count": null,
      "outputs": [
        {
          "output_type": "execute_result",
          "data": {
            "text/html": [
              "<div>\n",
              "<style scoped>\n",
              "    .dataframe tbody tr th:only-of-type {\n",
              "        vertical-align: middle;\n",
              "    }\n",
              "\n",
              "    .dataframe tbody tr th {\n",
              "        vertical-align: top;\n",
              "    }\n",
              "\n",
              "    .dataframe thead th {\n",
              "        text-align: right;\n",
              "    }\n",
              "</style>\n",
              "<table border=\"1\" class=\"dataframe\">\n",
              "  <thead>\n",
              "    <tr style=\"text-align: right;\">\n",
              "      <th></th>\n",
              "      <th>month</th>\n",
              "      <th>tipo_favorecido</th>\n",
              "      <th>city</th>\n",
              "      <th>Função</th>\n",
              "      <th>prog_orcamento</th>\n",
              "      <th>gastos</th>\n",
              "    </tr>\n",
              "  </thead>\n",
              "  <tbody>\n",
              "    <tr>\n",
              "      <th>0</th>\n",
              "      <td>16</td>\n",
              "      <td>2</td>\n",
              "      <td>8</td>\n",
              "      <td>3</td>\n",
              "      <td>0</td>\n",
              "      <td>60000.00</td>\n",
              "    </tr>\n",
              "    <tr>\n",
              "      <th>1</th>\n",
              "      <td>10</td>\n",
              "      <td>2</td>\n",
              "      <td>3</td>\n",
              "      <td>3</td>\n",
              "      <td>0</td>\n",
              "      <td>1174944.27</td>\n",
              "    </tr>\n",
              "    <tr>\n",
              "      <th>2</th>\n",
              "      <td>10</td>\n",
              "      <td>2</td>\n",
              "      <td>7</td>\n",
              "      <td>3</td>\n",
              "      <td>0</td>\n",
              "      <td>4130446.89</td>\n",
              "    </tr>\n",
              "    <tr>\n",
              "      <th>3</th>\n",
              "      <td>10</td>\n",
              "      <td>2</td>\n",
              "      <td>5</td>\n",
              "      <td>3</td>\n",
              "      <td>0</td>\n",
              "      <td>3830136.03</td>\n",
              "    </tr>\n",
              "    <tr>\n",
              "      <th>4</th>\n",
              "      <td>10</td>\n",
              "      <td>2</td>\n",
              "      <td>2</td>\n",
              "      <td>3</td>\n",
              "      <td>0</td>\n",
              "      <td>3662675.00</td>\n",
              "    </tr>\n",
              "    <tr>\n",
              "      <th>...</th>\n",
              "      <td>...</td>\n",
              "      <td>...</td>\n",
              "      <td>...</td>\n",
              "      <td>...</td>\n",
              "      <td>...</td>\n",
              "      <td>...</td>\n",
              "    </tr>\n",
              "    <tr>\n",
              "      <th>696</th>\n",
              "      <td>1</td>\n",
              "      <td>2</td>\n",
              "      <td>4</td>\n",
              "      <td>3</td>\n",
              "      <td>0</td>\n",
              "      <td>7327021.87</td>\n",
              "    </tr>\n",
              "    <tr>\n",
              "      <th>697</th>\n",
              "      <td>7</td>\n",
              "      <td>2</td>\n",
              "      <td>8</td>\n",
              "      <td>3</td>\n",
              "      <td>0</td>\n",
              "      <td>3500000.00</td>\n",
              "    </tr>\n",
              "    <tr>\n",
              "      <th>698</th>\n",
              "      <td>4</td>\n",
              "      <td>2</td>\n",
              "      <td>7</td>\n",
              "      <td>3</td>\n",
              "      <td>0</td>\n",
              "      <td>8676053.00</td>\n",
              "    </tr>\n",
              "    <tr>\n",
              "      <th>699</th>\n",
              "      <td>4</td>\n",
              "      <td>2</td>\n",
              "      <td>1</td>\n",
              "      <td>3</td>\n",
              "      <td>0</td>\n",
              "      <td>1850000.00</td>\n",
              "    </tr>\n",
              "    <tr>\n",
              "      <th>700</th>\n",
              "      <td>5</td>\n",
              "      <td>2</td>\n",
              "      <td>7</td>\n",
              "      <td>0</td>\n",
              "      <td>2</td>\n",
              "      <td>516875.60</td>\n",
              "    </tr>\n",
              "  </tbody>\n",
              "</table>\n",
              "<p>701 rows × 6 columns</p>\n",
              "</div>"
            ],
            "text/plain": [
              "     month  tipo_favorecido city  Função  prog_orcamento      gastos\n",
              "0       16                2    8       3               0    60000.00\n",
              "1       10                2    3       3               0  1174944.27\n",
              "2       10                2    7       3               0  4130446.89\n",
              "3       10                2    5       3               0  3830136.03\n",
              "4       10                2    2       3               0  3662675.00\n",
              "..     ...              ...  ...     ...             ...         ...\n",
              "696      1                2    4       3               0  7327021.87\n",
              "697      7                2    8       3               0  3500000.00\n",
              "698      4                2    7       3               0  8676053.00\n",
              "699      4                2    1       3               0  1850000.00\n",
              "700      5                2    7       0               2   516875.60\n",
              "\n",
              "[701 rows x 6 columns]"
            ]
          },
          "metadata": {
            "tags": []
          },
          "execution_count": 36
        }
      ]
    },
    {
      "cell_type": "markdown",
      "metadata": {
        "id": "1IDXw_5TCKW2"
      },
      "source": [
        "#### **Local Outlier Factor**"
      ]
    },
    {
      "cell_type": "code",
      "metadata": {
        "id": "cxh5XJkcFxoO",
        "colab": {
          "base_uri": "https://localhost:8080/"
        },
        "outputId": "ba855361-fdb4-4895-b676-43110e4b5de3"
      },
      "source": [
        "invest_covidPe_lof = invest_covidPe\n",
        "print(\"Quantidade de linhas: \" + str(len(invest_covidPe)))"
      ],
      "execution_count": null,
      "outputs": [
        {
          "output_type": "stream",
          "text": [
            "Quantidade de linhas: 701\n"
          ],
          "name": "stdout"
        }
      ]
    },
    {
      "cell_type": "code",
      "metadata": {
        "id": "wNp19szfcqS-"
      },
      "source": [
        "from sklearn.neighbors import LocalOutlierFactor\n",
        "clf = LocalOutlierFactor(n_neighbors=10)"
      ],
      "execution_count": null,
      "outputs": []
    },
    {
      "cell_type": "code",
      "metadata": {
        "id": "hY-LVcjacyTl"
      },
      "source": [
        "scores = clf.fit_predict(invest_covidPe_lof)"
      ],
      "execution_count": null,
      "outputs": []
    },
    {
      "cell_type": "code",
      "metadata": {
        "id": "K-gCHumSdl3H",
        "colab": {
          "base_uri": "https://localhost:8080/"
        },
        "outputId": "3e36f33c-1bf2-4ced-e4f3-79ecc9d1bda7"
      },
      "source": [
        "# Valor de LOF\n",
        "-1*clf.negative_outlier_factor_"
      ],
      "execution_count": null,
      "outputs": [
        {
          "output_type": "execute_result",
          "data": {
            "text/plain": [
              "array([ 5.06971635,  1.15786907,  1.01278478,  1.00743069,  0.97511367,\n",
              "        1.38735342,  1.14246381,  0.98157289,  0.9388996 ,  1.06181494,\n",
              "        1.03345647,  1.00099309,  1.46929685,  0.96742528,  1.19792081,\n",
              "        1.05815846,  1.32094043,  1.11359083,  0.88391166,  1.28701849,\n",
              "        1.0212535 ,  1.05815846,  1.0811027 ,  1.03028305,  0.96950344,\n",
              "        1.09989847,  1.71633666,  1.09000524,  1.17392687,  1.32513031,\n",
              "        1.24460724,  1.24460724,  0.98706486,  0.95898566,  0.9073941 ,\n",
              "        1.17776213,  1.30074647,  0.94080509,  1.1715444 ,  1.04785782,\n",
              "        0.98969908,  1.22973992,  0.93931047,  1.10569106,  1.11086791,\n",
              "        1.01557319,  0.95207123,  1.0404531 ,  1.40262619,  1.03760092,\n",
              "        0.98506443,  1.31220318,  0.94483734,  1.00836771,  1.03237359,\n",
              "        1.37091875,  1.17742638,  0.99612669,  1.02220098,  0.93716132,\n",
              "        0.99639615,  1.03665054,  1.04930928,  1.3951037 ,  1.09881899,\n",
              "        1.15364448,  1.13640352,  1.02526121,  1.08286789,  0.97687261,\n",
              "        1.10312264,  1.23130391,  1.03433015,  1.23103876,  0.97406902,\n",
              "        1.00836832,  1.16575644,  1.12021853,  0.99612669,  0.9582296 ,\n",
              "        1.07378085,  1.07566838,  1.13702311,  1.18519919,  1.04123949,\n",
              "        0.99529609,  0.98045225,  1.3345122 ,  1.02388755,  1.14159001,\n",
              "        0.97730097,  0.98373643,  1.00277625,  0.95296956,  0.97162536,\n",
              "        0.9811348 , 26.95605932,  0.98941491,  1.17408291,  1.00817919,\n",
              "        1.00124941,  1.04013858,  0.95296956,  0.96837789,  0.98368082,\n",
              "        1.01564939,  0.97822799,  1.03402097,  1.32857675,  0.95443233,\n",
              "        1.07923574,  0.95520682,  1.07686024,  0.97078317,  0.98080848,\n",
              "        1.1080593 ,  1.05691851,  1.08687784,  0.99209075,  0.96273255,\n",
              "        1.05691851,  1.03987723,  1.05021019,  0.94813591,  1.37811025,\n",
              "        1.04005974,  1.03262144,  0.97502109,  1.07929201,  0.97819948,\n",
              "        1.06401928,  1.09128471,  1.10431411,  0.99087607,  0.99780436,\n",
              "        0.96273255,  1.174079  ,  1.06036979,  0.9921648 ,  0.97802784,\n",
              "        0.9811348 ,  1.0520018 ,  1.01565401,  0.98375697,  1.00086347,\n",
              "        1.02399841,  0.95555038,  1.0194217 ,  1.03314316, 27.75387763,\n",
              "        0.99966328,  0.95785721,  1.0691862 ,  1.08425303,  1.02789553,\n",
              "        1.02672522,  1.31881021,  1.10629453,  0.95795242,  1.05891673,\n",
              "        1.18160526,  0.9593656 ,  1.05330164,  1.04783359,  0.99357061,\n",
              "        0.98230192,  1.04885325,  1.2043273 ,  1.12738403,  0.95314462,\n",
              "        1.00450799,  1.00749953,  1.05256023,  0.98583243,  0.98099073,\n",
              "        1.34467024,  1.47854352,  1.23872496,  1.03318735,  0.94497767,\n",
              "        1.12479297,  1.00662319,  0.99986463,  0.96646988,  1.18035211,\n",
              "        0.94039565,  1.01540733,  1.01785844,  0.99510062,  0.97688139,\n",
              "        0.98472152,  1.07502111,  0.97063944,  0.99339473,  0.97468144,\n",
              "        1.03888438,  1.1175102 ,  1.07667705,  1.03939086,  0.97688139,\n",
              "        0.97403614,  1.18698603,  1.05256023,  1.02102444,  1.34358356,\n",
              "        0.99437426,  0.94318983,  1.09976591,  1.12602996,  1.01176986,\n",
              "        1.049486  ,  0.98079947,  1.63385672,  0.99720444,  1.03438353,\n",
              "        0.98097277,  1.12163883,  0.98472152,  0.96990855,  1.20180497,\n",
              "        1.24460724,  0.98641524,  1.00998298,  1.04435288,  1.00577541,\n",
              "        1.00133102,  1.10229785,  1.02789443,  1.01298948,  1.09170686,\n",
              "        0.99058828,  1.16753862,  1.06520101,  1.01664892,  1.00570662,\n",
              "        0.99977531,  1.13850079,  0.96187099,  0.96664715,  0.99966347,\n",
              "        1.08093472, 25.52238866,  1.00720229, 29.95427162,  0.97703039,\n",
              "        1.13139643,  0.9640482 ,  1.2991015 ,  1.12479297,  1.05308976,\n",
              "        1.27227781,  0.99203977,  0.96909241,  0.94559551,  1.01540733,\n",
              "        1.00268364,  1.05402193,  0.9551236 ,  1.11332791,  1.64929225,\n",
              "        1.04778672,  0.97468144,  1.01397356,  1.17347597,  0.99587623,\n",
              "        1.15118761,  0.94289447,  0.96766189,  0.98172852,  1.06691937,\n",
              "        0.98905342,  0.99087607,  1.46256345,  1.07007904,  1.00833983,\n",
              "        1.25826587,  1.10038831,  1.02734008,  1.10815199,  1.1760459 ,\n",
              "        1.05582746,  1.01288556,  1.14745877,  1.00281484,  1.11332791,\n",
              "        1.00857036,  0.96703784,  0.97703039,  1.05601707,  0.99653777,\n",
              "        0.95960079,  0.99528043,  1.00112251,  1.0545147 ,  0.99927486,\n",
              "        0.98492136,  1.00557253,  0.98767248,  1.06802931,  1.14051169,\n",
              "        1.27469804,  1.16473841,  0.9840429 ,  0.99257382,  0.96651575,\n",
              "        1.17057034,  0.97364711,  0.9994135 ,  0.94160997,  0.96740928,\n",
              "        0.99153309,  1.07732031,  0.9840429 ,  0.95517374,  0.98097277,\n",
              "        1.10473159,  1.16538275,  0.96692907,  1.02238378,  0.96569291,\n",
              "        1.05238391,  0.95818253,  0.97635173,  0.93636766,  1.00953672,\n",
              "        0.98085305,  0.9774751 ,  1.04023912,  0.96519965,  0.96706975,\n",
              "        0.98398075,  1.10600227,  1.13901734,  1.20107924,  1.06649056,\n",
              "        1.02388755,  1.09948571,  0.95364521,  0.97122763,  1.02239516,\n",
              "        0.94907828,  1.0071412 ,  1.00885437,  0.98587053,  1.07215908,\n",
              "        1.0143384 ,  1.01116013,  1.09380091,  1.02373887,  0.9585352 ,\n",
              "        1.24653221,  1.16009297,  1.06401928,  0.96283977,  1.04710467,\n",
              "        1.30433733,  1.06425406,  0.97815223,  0.98184981,  1.03385382,\n",
              "        1.32928216,  1.0317872 ,  1.16925669,  1.10924851,  0.96273255,\n",
              "        1.0279302 ,  1.14965654,  0.92127916,  0.96864397,  1.07096755,\n",
              "        1.18654592,  1.20822831,  0.98269663,  1.09803787,  1.0605054 ,\n",
              "        0.97909947,  0.95971758,  1.07166235,  1.02064004,  0.95944057,\n",
              "        1.25643831,  1.02006373,  1.14045423,  1.27455758,  1.43758888,\n",
              "        0.99519718,  1.08022896,  0.97822799,  0.97413273,  0.96263457,\n",
              "        1.1157084 ,  1.07513695,  1.07666653,  0.97144851,  0.92127916,\n",
              "        0.96519965,  0.99209075,  1.00430733,  1.17344495,  1.0473109 ,\n",
              "        1.01013575,  1.14446308,  0.94452781,  0.96007837,  1.05328287,\n",
              "        0.97144851,  0.98175283,  1.06387823,  0.99950143,  0.96616312,\n",
              "        0.97122763,  1.06655808,  1.33158246,  0.97692114,  0.96837789,\n",
              "        0.96321209,  1.06423001,  0.98269663,  1.00225788,  1.02147839,\n",
              "        1.16402642,  0.94560236,  0.95795242,  1.00968111,  1.05125084,\n",
              "        1.00427756,  1.02205497,  0.97789792,  1.10060749,  0.99519718,\n",
              "        1.3040972 ,  1.10323045,  1.04206535,  1.25653288,  0.97592499,\n",
              "        1.0495031 ,  0.98893333,  0.98192738,  1.33988277,  1.00170108,\n",
              "        1.1212623 ,  1.04194502,  1.10168677,  1.09427108,  0.97535422,\n",
              "        1.13822617,  1.02446525,  1.02396755,  1.02973111,  0.94039565,\n",
              "        0.98950181,  1.24581767,  1.00799018,  1.06081237,  0.95522469,\n",
              "        1.04704666,  1.01677704,  1.07344083,  1.09554454,  0.96283977,\n",
              "        0.96263457,  1.1883297 ,  1.1592402 ,  0.98970837,  1.02691424,\n",
              "        1.00839016,  1.22316609,  1.03693837,  0.97590392,  1.02524136,\n",
              "        1.2009166 ,  1.12465336,  1.16155285,  1.09073517,  0.9783367 ,\n",
              "        1.08170826,  1.08601054,  1.02532129,  1.08099875,  0.98892177,\n",
              "        0.98269663,  0.98909575,  1.0225137 ,  1.05027164,  0.9875477 ,\n",
              "        1.06508447,  1.01006248,  0.99186393,  1.00671565,  0.96569291,\n",
              "        1.03925764,  1.09805008,  1.02232124,  0.98663879,  1.07932535,\n",
              "        1.01637392,  1.00405833,  0.97162536,  1.03986293,  0.92127916,\n",
              "        1.13511017,  1.02064004,  0.99044305,  1.12176218,  1.08999419,\n",
              "        1.00187568,  1.21722799,  1.11746672,  0.94596155,  0.95818253,\n",
              "        0.9905502 ,  0.98909575,  0.98193069,  0.98936344,  1.18906429,\n",
              "        1.17058577,  1.06563932,  1.10367327,  0.9849895 ,  1.06081237,\n",
              "        1.02722049,  1.00885437,  1.02048992,  0.97789792,  1.00178527,\n",
              "        1.0973531 ,  0.98273509,  1.0444966 ,  1.10685624,  1.04510903,\n",
              "        1.29055272,  0.96704003,  0.97500529,  0.995789  ,  0.97183217,\n",
              "        0.95791481,  1.12938421,  1.28949643,  1.13476684,  1.01358127,\n",
              "        1.35305612,  1.12467451,  1.00570662,  1.07513695,  1.02722049,\n",
              "        0.97051148,  0.99386148,  1.07061329,  1.02078507,  1.11870151,\n",
              "        0.96353085,  0.97659536,  1.1381063 ,  1.20062624,  1.02212158,\n",
              "        0.98950181,  1.0590178 ,  1.15582121,  0.95093818,  1.22537256,\n",
              "        1.32369477,  0.9471768 , 26.79551576,  0.95853519,  0.96950344,\n",
              "        0.9760057 ,  0.98969908,  1.28701849,  1.10486342,  1.08733281,\n",
              "        0.98506441,  0.99612669,  1.06511878,  1.03283679,  0.94080508,\n",
              "        0.9932826 ,  0.995789  ,  1.30409719,  1.12215432,  1.09989847,\n",
              "        1.00462316,  1.06508447,  1.0404531 ,  0.93931047,  1.17776213,\n",
              "        1.0172084 ,  1.12467451,  1.32094043,  1.00557253, 35.46935   ,\n",
              "        0.97511367,  1.09000524,  1.15411951,  1.15411951,  0.97441659,\n",
              "        5.06971642,  1.00836771,  1.15786907,  1.05672725,  1.40262619,\n",
              "        1.00099309,  1.24460724,  0.99527002,  0.99255867,  1.24460724,\n",
              "        1.14246381,  1.10629453,  1.03279473,  1.35099947,  0.9073941 ,\n",
              "        1.36134167,  1.40412708,  1.33988277,  1.03237359,  1.31220308,\n",
              "        0.98157289,  1.17742638,  1.39439182,  1.10062057,  1.03760092,\n",
              "        1.08041061,  1.02499546,  1.22973992,  1.05601706,  0.96001564,\n",
              "        1.32513564,  1.13182408,  1.10569106,  1.06181494,  0.94813592,\n",
              "        1.08379381,  0.99612669,  1.46929685,  1.23649801,  1.11899235,\n",
              "        1.16500212,  1.11930617,  1.43758888,  1.0212535 ,  1.03345647,\n",
              "        1.30074647,  1.03028305,  0.88391166,  1.02763977,  1.13378212,\n",
              "        0.98932063,  1.32369477,  1.00941602,  1.0811027 ,  1.11359083,\n",
              "        1.05815846,  1.1760459 ,  0.99612669,  4.24673755,  0.98892177,\n",
              "        0.99639615,  1.02789443,  1.02539928,  1.02998885,  1.0043229 ,\n",
              "        1.05815846,  1.17392687,  1.00430733,  1.01665669,  1.00743069,\n",
              "        1.07755826,  1.14045423,  0.97722434,  0.9388996 ,  0.97303789,\n",
              "        1.3462066 ,  1.71633666,  1.11086792,  1.32094043,  1.01278478,\n",
              "        1.02239517,  1.07538021,  0.93716132,  1.32409347,  0.96814754,\n",
              "        0.96990856,  0.99079288,  1.37091875,  1.04785782,  1.15582121,\n",
              "        1.19792081,  1.02763977,  0.95898566,  0.94721617,  0.95207123,\n",
              "        0.94483734,  1.2574992 ,  0.99986464,  1.1715444 ,  0.96742529,\n",
              "        0.98706486,  1.38735342,  1.02220098,  1.24460724,  0.98430014,\n",
              "        1.0155732 ])"
            ]
          },
          "metadata": {
            "tags": []
          },
          "execution_count": 40
        }
      ]
    },
    {
      "cell_type": "code",
      "metadata": {
        "id": "nD9THEnLc9n5",
        "colab": {
          "base_uri": "https://localhost:8080/"
        },
        "outputId": "a8a8f267-d3f4-4682-b378-094064031b44"
      },
      "source": [
        "scores"
      ],
      "execution_count": null,
      "outputs": [
        {
          "output_type": "execute_result",
          "data": {
            "text/plain": [
              "array([-1,  1,  1,  1,  1,  1,  1,  1,  1,  1,  1,  1,  1,  1,  1,  1,  1,\n",
              "        1,  1,  1,  1,  1,  1,  1,  1,  1, -1,  1,  1,  1,  1,  1,  1,  1,\n",
              "        1,  1,  1,  1,  1,  1,  1,  1,  1,  1,  1,  1,  1,  1,  1,  1,  1,\n",
              "        1,  1,  1,  1,  1,  1,  1,  1,  1,  1,  1,  1,  1,  1,  1,  1,  1,\n",
              "        1,  1,  1,  1,  1,  1,  1,  1,  1,  1,  1,  1,  1,  1,  1,  1,  1,\n",
              "        1,  1,  1,  1,  1,  1,  1,  1,  1,  1,  1, -1,  1,  1,  1,  1,  1,\n",
              "        1,  1,  1,  1,  1,  1,  1,  1,  1,  1,  1,  1,  1,  1,  1,  1,  1,\n",
              "        1,  1,  1,  1,  1,  1,  1,  1,  1,  1,  1,  1,  1,  1,  1,  1,  1,\n",
              "        1,  1,  1,  1,  1,  1,  1,  1,  1,  1,  1,  1,  1, -1,  1,  1,  1,\n",
              "        1,  1,  1,  1,  1,  1,  1,  1,  1,  1,  1,  1,  1,  1,  1,  1,  1,\n",
              "        1,  1,  1,  1,  1,  1,  1,  1,  1,  1,  1,  1,  1,  1,  1,  1,  1,\n",
              "        1,  1,  1,  1,  1,  1,  1,  1,  1,  1,  1,  1,  1,  1,  1,  1,  1,\n",
              "        1,  1,  1,  1,  1,  1,  1,  1, -1,  1,  1,  1,  1,  1,  1,  1,  1,\n",
              "        1,  1,  1,  1,  1,  1,  1,  1,  1,  1,  1,  1,  1,  1,  1,  1,  1,\n",
              "        1,  1,  1, -1,  1, -1,  1,  1,  1,  1,  1,  1,  1,  1,  1,  1,  1,\n",
              "        1,  1,  1,  1, -1,  1,  1,  1,  1,  1,  1,  1,  1,  1,  1,  1,  1,\n",
              "        1,  1,  1,  1,  1,  1,  1,  1,  1,  1,  1,  1,  1,  1,  1,  1,  1,\n",
              "        1,  1,  1,  1,  1,  1,  1,  1,  1,  1,  1,  1,  1,  1,  1,  1,  1,\n",
              "        1,  1,  1,  1,  1,  1,  1,  1,  1,  1,  1,  1,  1,  1,  1,  1,  1,\n",
              "        1,  1,  1,  1,  1,  1,  1,  1,  1,  1,  1,  1,  1,  1,  1,  1,  1,\n",
              "        1,  1,  1,  1,  1,  1,  1,  1,  1,  1,  1,  1,  1,  1,  1,  1,  1,\n",
              "        1,  1,  1,  1,  1,  1,  1,  1,  1,  1,  1,  1,  1,  1,  1,  1,  1,\n",
              "        1,  1,  1,  1,  1,  1,  1,  1,  1,  1,  1,  1,  1,  1,  1,  1,  1,\n",
              "        1,  1,  1,  1,  1,  1,  1,  1,  1,  1,  1,  1,  1,  1,  1,  1,  1,\n",
              "        1,  1,  1,  1,  1,  1,  1,  1,  1,  1,  1,  1,  1,  1,  1,  1,  1,\n",
              "        1,  1,  1,  1,  1,  1,  1,  1,  1,  1,  1,  1,  1,  1,  1,  1,  1,\n",
              "        1,  1,  1,  1,  1,  1,  1,  1,  1,  1,  1,  1,  1,  1,  1,  1,  1,\n",
              "        1,  1,  1,  1,  1,  1,  1,  1,  1,  1,  1,  1,  1,  1,  1,  1,  1,\n",
              "        1,  1,  1,  1,  1,  1,  1,  1,  1,  1,  1,  1,  1,  1,  1,  1,  1,\n",
              "        1,  1,  1,  1,  1,  1,  1,  1,  1,  1,  1,  1,  1,  1,  1,  1,  1,\n",
              "        1,  1,  1,  1,  1,  1,  1,  1,  1,  1,  1,  1,  1,  1,  1,  1,  1,\n",
              "        1,  1,  1,  1,  1,  1,  1,  1,  1,  1,  1,  1,  1,  1,  1,  1,  1,\n",
              "        1,  1,  1,  1,  1,  1,  1,  1,  1,  1,  1,  1,  1,  1,  1,  1,  1,\n",
              "        1, -1,  1,  1,  1,  1,  1,  1,  1,  1,  1,  1,  1,  1,  1,  1,  1,\n",
              "        1,  1,  1,  1,  1,  1,  1,  1,  1,  1,  1, -1,  1,  1,  1,  1,  1,\n",
              "       -1,  1,  1,  1,  1,  1,  1,  1,  1,  1,  1,  1,  1,  1,  1,  1,  1,\n",
              "        1,  1,  1,  1,  1,  1,  1,  1,  1,  1,  1,  1,  1,  1,  1,  1,  1,\n",
              "        1,  1,  1,  1,  1,  1,  1,  1,  1,  1,  1,  1,  1,  1,  1,  1,  1,\n",
              "        1,  1,  1,  1,  1,  1,  1, -1,  1,  1,  1,  1,  1,  1,  1,  1,  1,\n",
              "        1,  1,  1,  1,  1,  1,  1,  1, -1,  1,  1,  1,  1,  1,  1,  1,  1,\n",
              "        1,  1,  1,  1,  1,  1,  1,  1,  1,  1,  1,  1,  1,  1,  1,  1,  1,\n",
              "        1,  1,  1,  1])"
            ]
          },
          "metadata": {
            "tags": []
          },
          "execution_count": 41
        }
      ]
    },
    {
      "cell_type": "code",
      "metadata": {
        "id": "nipEFPzndJYa",
        "colab": {
          "base_uri": "https://localhost:8080/"
        },
        "outputId": "5662cc7c-aa5a-4743-dbfe-401695da36a7"
      },
      "source": [
        "invest_covidPe_lof['outlier'] = scores\n",
        "print(invest_covidPe_lof.head())"
      ],
      "execution_count": null,
      "outputs": [
        {
          "output_type": "stream",
          "text": [
            "   month  tipo_favorecido city  Função  prog_orcamento      gastos  outlier\n",
            "0     16                2    8       3               0    60000.00       -1\n",
            "1     10                2    3       3               0  1174944.27        1\n",
            "2     10                2    7       3               0  4130446.89        1\n",
            "3     10                2    5       3               0  3830136.03        1\n",
            "4     10                2    2       3               0  3662675.00        1\n"
          ],
          "name": "stdout"
        }
      ]
    },
    {
      "cell_type": "code",
      "metadata": {
        "id": "YoaDBs3ldU8j",
        "colab": {
          "base_uri": "https://localhost:8080/"
        },
        "outputId": "dc5aece4-75c8-49e4-9e9b-33c87fbc7f64"
      },
      "source": [
        "invest_covidPe_lof[invest_covidPe_lof['outlier'] == -1]"
      ],
      "execution_count": null,
      "outputs": [
        {
          "output_type": "execute_result",
          "data": {
            "text/html": [
              "<div>\n",
              "<style scoped>\n",
              "    .dataframe tbody tr th:only-of-type {\n",
              "        vertical-align: middle;\n",
              "    }\n",
              "\n",
              "    .dataframe tbody tr th {\n",
              "        vertical-align: top;\n",
              "    }\n",
              "\n",
              "    .dataframe thead th {\n",
              "        text-align: right;\n",
              "    }\n",
              "</style>\n",
              "<table border=\"1\" class=\"dataframe\">\n",
              "  <thead>\n",
              "    <tr style=\"text-align: right;\">\n",
              "      <th></th>\n",
              "      <th>month</th>\n",
              "      <th>tipo_favorecido</th>\n",
              "      <th>city</th>\n",
              "      <th>Função</th>\n",
              "      <th>prog_orcamento</th>\n",
              "      <th>gastos</th>\n",
              "      <th>outlier</th>\n",
              "    </tr>\n",
              "  </thead>\n",
              "  <tbody>\n",
              "    <tr>\n",
              "      <th>0</th>\n",
              "      <td>16</td>\n",
              "      <td>2</td>\n",
              "      <td>8</td>\n",
              "      <td>3</td>\n",
              "      <td>0</td>\n",
              "      <td>60000.00</td>\n",
              "      <td>-1</td>\n",
              "    </tr>\n",
              "    <tr>\n",
              "      <th>26</th>\n",
              "      <td>14</td>\n",
              "      <td>2</td>\n",
              "      <td>8</td>\n",
              "      <td>0</td>\n",
              "      <td>2</td>\n",
              "      <td>2264395.80</td>\n",
              "      <td>-1</td>\n",
              "    </tr>\n",
              "    <tr>\n",
              "      <th>96</th>\n",
              "      <td>17</td>\n",
              "      <td>1</td>\n",
              "      <td>8</td>\n",
              "      <td>2</td>\n",
              "      <td>1</td>\n",
              "      <td>-534.86</td>\n",
              "      <td>-1</td>\n",
              "    </tr>\n",
              "    <tr>\n",
              "      <th>149</th>\n",
              "      <td>17</td>\n",
              "      <td>1</td>\n",
              "      <td>8</td>\n",
              "      <td>2</td>\n",
              "      <td>1</td>\n",
              "      <td>-1084.16</td>\n",
              "      <td>-1</td>\n",
              "    </tr>\n",
              "    <tr>\n",
              "      <th>212</th>\n",
              "      <td>17</td>\n",
              "      <td>1</td>\n",
              "      <td>7</td>\n",
              "      <td>2</td>\n",
              "      <td>1</td>\n",
              "      <td>12037.82</td>\n",
              "      <td>-1</td>\n",
              "    </tr>\n",
              "    <tr>\n",
              "      <th>241</th>\n",
              "      <td>17</td>\n",
              "      <td>1</td>\n",
              "      <td>8</td>\n",
              "      <td>2</td>\n",
              "      <td>1</td>\n",
              "      <td>-1248.01</td>\n",
              "      <td>-1</td>\n",
              "    </tr>\n",
              "    <tr>\n",
              "      <th>243</th>\n",
              "      <td>17</td>\n",
              "      <td>1</td>\n",
              "      <td>8</td>\n",
              "      <td>2</td>\n",
              "      <td>1</td>\n",
              "      <td>-2529.72</td>\n",
              "      <td>-1</td>\n",
              "    </tr>\n",
              "    <tr>\n",
              "      <th>259</th>\n",
              "      <td>17</td>\n",
              "      <td>1</td>\n",
              "      <td>2</td>\n",
              "      <td>2</td>\n",
              "      <td>1</td>\n",
              "      <td>1342.91</td>\n",
              "      <td>-1</td>\n",
              "    </tr>\n",
              "    <tr>\n",
              "      <th>562</th>\n",
              "      <td>8</td>\n",
              "      <td>1</td>\n",
              "      <td>8</td>\n",
              "      <td>2</td>\n",
              "      <td>1</td>\n",
              "      <td>-1619.02</td>\n",
              "      <td>-1</td>\n",
              "    </tr>\n",
              "    <tr>\n",
              "      <th>589</th>\n",
              "      <td>8</td>\n",
              "      <td>1</td>\n",
              "      <td>8</td>\n",
              "      <td>2</td>\n",
              "      <td>1</td>\n",
              "      <td>-3777.73</td>\n",
              "      <td>-1</td>\n",
              "    </tr>\n",
              "    <tr>\n",
              "      <th>595</th>\n",
              "      <td>0</td>\n",
              "      <td>2</td>\n",
              "      <td>8</td>\n",
              "      <td>3</td>\n",
              "      <td>0</td>\n",
              "      <td>60000.00</td>\n",
              "      <td>-1</td>\n",
              "    </tr>\n",
              "    <tr>\n",
              "      <th>653</th>\n",
              "      <td>9</td>\n",
              "      <td>2</td>\n",
              "      <td>1</td>\n",
              "      <td>3</td>\n",
              "      <td>0</td>\n",
              "      <td>17375.00</td>\n",
              "      <td>-1</td>\n",
              "    </tr>\n",
              "    <tr>\n",
              "      <th>671</th>\n",
              "      <td>3</td>\n",
              "      <td>2</td>\n",
              "      <td>8</td>\n",
              "      <td>0</td>\n",
              "      <td>2</td>\n",
              "      <td>2264395.80</td>\n",
              "      <td>-1</td>\n",
              "    </tr>\n",
              "  </tbody>\n",
              "</table>\n",
              "</div>"
            ],
            "text/plain": [
              "     month  tipo_favorecido city  Função  prog_orcamento      gastos  outlier\n",
              "0       16                2    8       3               0    60000.00       -1\n",
              "26      14                2    8       0               2  2264395.80       -1\n",
              "96      17                1    8       2               1     -534.86       -1\n",
              "149     17                1    8       2               1    -1084.16       -1\n",
              "212     17                1    7       2               1    12037.82       -1\n",
              "241     17                1    8       2               1    -1248.01       -1\n",
              "243     17                1    8       2               1    -2529.72       -1\n",
              "259     17                1    2       2               1     1342.91       -1\n",
              "562      8                1    8       2               1    -1619.02       -1\n",
              "589      8                1    8       2               1    -3777.73       -1\n",
              "595      0                2    8       3               0    60000.00       -1\n",
              "653      9                2    1       3               0    17375.00       -1\n",
              "671      3                2    8       0               2  2264395.80       -1"
            ]
          },
          "metadata": {
            "tags": []
          },
          "execution_count": 43
        }
      ]
    },
    {
      "cell_type": "code",
      "metadata": {
        "id": "g0eXFEW2dgSV",
        "colab": {
          "base_uri": "https://localhost:8080/"
        },
        "outputId": "95af7859-6ff6-46e7-87a7-fb874c7e8148"
      },
      "source": [
        "invest_covidPe_lof = invest_covidPe_lof[invest_covidPe_lof['outlier'] != -1]\n",
        "len(invest_covidPe_lof)"
      ],
      "execution_count": null,
      "outputs": [
        {
          "output_type": "execute_result",
          "data": {
            "text/plain": [
              "688"
            ]
          },
          "metadata": {
            "tags": []
          },
          "execution_count": 44
        }
      ]
    },
    {
      "cell_type": "code",
      "metadata": {
        "id": "S5irO6nqfxtw",
        "colab": {
          "base_uri": "https://localhost:8080/"
        },
        "outputId": "8ffc69d2-9894-494c-80d0-2ad9d291a14f"
      },
      "source": [
        "invest_covidPe_lof = invest_covidPe_lof[invest_covidPe_lof['outlier'] != -1]\n",
        "invest_covidPe_lof = invest_covidPe_lof.drop(columns=['outlier'])\n",
        "\n",
        "invest_covidPe_lof.head(5)"
      ],
      "execution_count": null,
      "outputs": [
        {
          "output_type": "execute_result",
          "data": {
            "text/html": [
              "<div>\n",
              "<style scoped>\n",
              "    .dataframe tbody tr th:only-of-type {\n",
              "        vertical-align: middle;\n",
              "    }\n",
              "\n",
              "    .dataframe tbody tr th {\n",
              "        vertical-align: top;\n",
              "    }\n",
              "\n",
              "    .dataframe thead th {\n",
              "        text-align: right;\n",
              "    }\n",
              "</style>\n",
              "<table border=\"1\" class=\"dataframe\">\n",
              "  <thead>\n",
              "    <tr style=\"text-align: right;\">\n",
              "      <th></th>\n",
              "      <th>month</th>\n",
              "      <th>tipo_favorecido</th>\n",
              "      <th>city</th>\n",
              "      <th>Função</th>\n",
              "      <th>prog_orcamento</th>\n",
              "      <th>gastos</th>\n",
              "    </tr>\n",
              "  </thead>\n",
              "  <tbody>\n",
              "    <tr>\n",
              "      <th>1</th>\n",
              "      <td>10</td>\n",
              "      <td>2</td>\n",
              "      <td>3</td>\n",
              "      <td>3</td>\n",
              "      <td>0</td>\n",
              "      <td>1174944.27</td>\n",
              "    </tr>\n",
              "    <tr>\n",
              "      <th>2</th>\n",
              "      <td>10</td>\n",
              "      <td>2</td>\n",
              "      <td>7</td>\n",
              "      <td>3</td>\n",
              "      <td>0</td>\n",
              "      <td>4130446.89</td>\n",
              "    </tr>\n",
              "    <tr>\n",
              "      <th>3</th>\n",
              "      <td>10</td>\n",
              "      <td>2</td>\n",
              "      <td>5</td>\n",
              "      <td>3</td>\n",
              "      <td>0</td>\n",
              "      <td>3830136.03</td>\n",
              "    </tr>\n",
              "    <tr>\n",
              "      <th>4</th>\n",
              "      <td>10</td>\n",
              "      <td>2</td>\n",
              "      <td>2</td>\n",
              "      <td>3</td>\n",
              "      <td>0</td>\n",
              "      <td>3662675.00</td>\n",
              "    </tr>\n",
              "    <tr>\n",
              "      <th>5</th>\n",
              "      <td>10</td>\n",
              "      <td>2</td>\n",
              "      <td>4</td>\n",
              "      <td>3</td>\n",
              "      <td>0</td>\n",
              "      <td>7327021.87</td>\n",
              "    </tr>\n",
              "  </tbody>\n",
              "</table>\n",
              "</div>"
            ],
            "text/plain": [
              "   month  tipo_favorecido city  Função  prog_orcamento      gastos\n",
              "1     10                2    3       3               0  1174944.27\n",
              "2     10                2    7       3               0  4130446.89\n",
              "3     10                2    5       3               0  3830136.03\n",
              "4     10                2    2       3               0  3662675.00\n",
              "5     10                2    4       3               0  7327021.87"
            ]
          },
          "metadata": {
            "tags": []
          },
          "execution_count": 45
        }
      ]
    },
    {
      "cell_type": "code",
      "metadata": {
        "id": "Jua0_jyMlJGs",
        "colab": {
          "base_uri": "https://localhost:8080/"
        },
        "outputId": "7894ae2b-33c1-4563-cd41-9eebdff000ad"
      },
      "source": [
        "covidPeCases['pop_estimada'] = covidPeCases['pop_estimada'].astype('int64')\n",
        "covidPeCases['taxa_mortalidade'] = covidPeCases['taxa_mortalidade'] * 100\n",
        "#covidPeCases['confirmados_por_populacao'] = (covidPeCases['confirmados_por_populacao'] * 100).round(2)\n",
        "#covidPeCases['gastos_por_habitante'] = (covidPeCases['gastos'] / covidPeCases['pop_estimada']).round(2)"
      ],
      "execution_count": null,
      "outputs": [
        {
          "output_type": "stream",
          "text": [
            "/usr/local/lib/python3.7/dist-packages/ipykernel_launcher.py:1: SettingWithCopyWarning: \n",
            "A value is trying to be set on a copy of a slice from a DataFrame.\n",
            "Try using .loc[row_indexer,col_indexer] = value instead\n",
            "\n",
            "See the caveats in the documentation: https://pandas.pydata.org/pandas-docs/stable/user_guide/indexing.html#returning-a-view-versus-a-copy\n",
            "  \"\"\"Entry point for launching an IPython kernel.\n",
            "/usr/local/lib/python3.7/dist-packages/ipykernel_launcher.py:2: SettingWithCopyWarning: \n",
            "A value is trying to be set on a copy of a slice from a DataFrame.\n",
            "Try using .loc[row_indexer,col_indexer] = value instead\n",
            "\n",
            "See the caveats in the documentation: https://pandas.pydata.org/pandas-docs/stable/user_guide/indexing.html#returning-a-view-versus-a-copy\n",
            "  \n"
          ],
          "name": "stderr"
        }
      ]
    },
    {
      "cell_type": "code",
      "metadata": {
        "id": "9CSgMD1N88NY",
        "colab": {
          "base_uri": "https://localhost:8080/"
        },
        "outputId": "068eb122-3b4d-4fdf-bcac-60ee9182302f"
      },
      "source": [
        "invest_covidPe_lof"
      ],
      "execution_count": null,
      "outputs": [
        {
          "output_type": "execute_result",
          "data": {
            "text/html": [
              "<div>\n",
              "<style scoped>\n",
              "    .dataframe tbody tr th:only-of-type {\n",
              "        vertical-align: middle;\n",
              "    }\n",
              "\n",
              "    .dataframe tbody tr th {\n",
              "        vertical-align: top;\n",
              "    }\n",
              "\n",
              "    .dataframe thead th {\n",
              "        text-align: right;\n",
              "    }\n",
              "</style>\n",
              "<table border=\"1\" class=\"dataframe\">\n",
              "  <thead>\n",
              "    <tr style=\"text-align: right;\">\n",
              "      <th></th>\n",
              "      <th>month</th>\n",
              "      <th>tipo_favorecido</th>\n",
              "      <th>city</th>\n",
              "      <th>Função</th>\n",
              "      <th>prog_orcamento</th>\n",
              "      <th>gastos</th>\n",
              "    </tr>\n",
              "  </thead>\n",
              "  <tbody>\n",
              "    <tr>\n",
              "      <th>1</th>\n",
              "      <td>10</td>\n",
              "      <td>2</td>\n",
              "      <td>3</td>\n",
              "      <td>3</td>\n",
              "      <td>0</td>\n",
              "      <td>1174944.27</td>\n",
              "    </tr>\n",
              "    <tr>\n",
              "      <th>2</th>\n",
              "      <td>10</td>\n",
              "      <td>2</td>\n",
              "      <td>7</td>\n",
              "      <td>3</td>\n",
              "      <td>0</td>\n",
              "      <td>4130446.89</td>\n",
              "    </tr>\n",
              "    <tr>\n",
              "      <th>3</th>\n",
              "      <td>10</td>\n",
              "      <td>2</td>\n",
              "      <td>5</td>\n",
              "      <td>3</td>\n",
              "      <td>0</td>\n",
              "      <td>3830136.03</td>\n",
              "    </tr>\n",
              "    <tr>\n",
              "      <th>4</th>\n",
              "      <td>10</td>\n",
              "      <td>2</td>\n",
              "      <td>2</td>\n",
              "      <td>3</td>\n",
              "      <td>0</td>\n",
              "      <td>3662675.00</td>\n",
              "    </tr>\n",
              "    <tr>\n",
              "      <th>5</th>\n",
              "      <td>10</td>\n",
              "      <td>2</td>\n",
              "      <td>4</td>\n",
              "      <td>3</td>\n",
              "      <td>0</td>\n",
              "      <td>7327021.87</td>\n",
              "    </tr>\n",
              "    <tr>\n",
              "      <th>...</th>\n",
              "      <td>...</td>\n",
              "      <td>...</td>\n",
              "      <td>...</td>\n",
              "      <td>...</td>\n",
              "      <td>...</td>\n",
              "      <td>...</td>\n",
              "    </tr>\n",
              "    <tr>\n",
              "      <th>696</th>\n",
              "      <td>1</td>\n",
              "      <td>2</td>\n",
              "      <td>4</td>\n",
              "      <td>3</td>\n",
              "      <td>0</td>\n",
              "      <td>7327021.87</td>\n",
              "    </tr>\n",
              "    <tr>\n",
              "      <th>697</th>\n",
              "      <td>7</td>\n",
              "      <td>2</td>\n",
              "      <td>8</td>\n",
              "      <td>3</td>\n",
              "      <td>0</td>\n",
              "      <td>3500000.00</td>\n",
              "    </tr>\n",
              "    <tr>\n",
              "      <th>698</th>\n",
              "      <td>4</td>\n",
              "      <td>2</td>\n",
              "      <td>7</td>\n",
              "      <td>3</td>\n",
              "      <td>0</td>\n",
              "      <td>8676053.00</td>\n",
              "    </tr>\n",
              "    <tr>\n",
              "      <th>699</th>\n",
              "      <td>4</td>\n",
              "      <td>2</td>\n",
              "      <td>1</td>\n",
              "      <td>3</td>\n",
              "      <td>0</td>\n",
              "      <td>1850000.00</td>\n",
              "    </tr>\n",
              "    <tr>\n",
              "      <th>700</th>\n",
              "      <td>5</td>\n",
              "      <td>2</td>\n",
              "      <td>7</td>\n",
              "      <td>0</td>\n",
              "      <td>2</td>\n",
              "      <td>516875.60</td>\n",
              "    </tr>\n",
              "  </tbody>\n",
              "</table>\n",
              "<p>688 rows × 6 columns</p>\n",
              "</div>"
            ],
            "text/plain": [
              "     month  tipo_favorecido city  Função  prog_orcamento      gastos\n",
              "1       10                2    3       3               0  1174944.27\n",
              "2       10                2    7       3               0  4130446.89\n",
              "3       10                2    5       3               0  3830136.03\n",
              "4       10                2    2       3               0  3662675.00\n",
              "5       10                2    4       3               0  7327021.87\n",
              "..     ...              ...  ...     ...             ...         ...\n",
              "696      1                2    4       3               0  7327021.87\n",
              "697      7                2    8       3               0  3500000.00\n",
              "698      4                2    7       3               0  8676053.00\n",
              "699      4                2    1       3               0  1850000.00\n",
              "700      5                2    7       0               2   516875.60\n",
              "\n",
              "[688 rows x 6 columns]"
            ]
          },
          "metadata": {
            "tags": []
          },
          "execution_count": 47
        }
      ]
    },
    {
      "cell_type": "markdown",
      "metadata": {
        "id": "o46zSVKnzZrY"
      },
      "source": [
        "## Projeto - 2EE - Intro. Ciência dos dados - IF697 - CIn.UFPE\n"
      ]
    },
    {
      "cell_type": "markdown",
      "metadata": {
        "id": "EDGXD-tA7v0m"
      },
      "source": [
        "\n",
        "1. Escolher uma\tdas\tcolunas\tdos\tdados\tutilizados\tno\tprojeto 1\tpara predição\t(classificação ou regressão)\t\n",
        "  * Classificação : Rótulos são categorias discretas\n",
        "  * Regressão: rótulos são valores contínuos\n",
        "2. Separar os\tdados\tem treinamento,\tvalidação\te\tteste\n",
        "3. Selecionar\t4\talgoritmos\tde\tacordo\tcom\ta\ttarefa escolhida\n",
        "no\tpasso\t1\t\n",
        "\n",
        " **Algoritmos de classificação:**\n",
        "\n",
        "* Scikit-Learn's Estimator API\n",
        "  - Vários algoritmos implementados\n",
        "  - Uniformidade\n",
        "  - Modelos para algoritmo Supervisionado: função predict e Não-supervisionado: função transform ou predict\n",
        "* Random Forest \n",
        "  - Vários estimadores combinados para evitar overfitting\n",
        "  - Não assume distribuição gaussiana, obtém ótimos resultados\n",
        "\n",
        "* Algoritmo de construção  \n",
        "  - Execução rápida, lida bem com dados ausentes\n",
        "  - Mostra a importância das features na classificação\n",
        "  \n",
        "\n",
        "**Medidas para avaliação da qualidade do modelo:**\n",
        "Os valores de erro são dados em '%'\n",
        "\n",
        "* Viés = Erro no treinamento - Erro Alvo (Desempenho no conjunto de treinamento)\n",
        "* Variância = Erro no teste - Erro no treinamento\n",
        "\n",
        "\n",
        "Possíveis cenários de viés e Variância\n",
        "\n",
        "Overfitting:\n",
        "  - Bom desempenho somente no conjunto de treinamento.\n",
        "  - Apresenta problemas para generalizar\n",
        "  - Ex : Erro no treinamento: 1%, Erro no teste: 11% (Baixo viés, Alta variância)\n",
        "  - Para melhorar o desempenho : Adicionar mais dados ao conjunto de treinamento, diminuir a complexidade do modelo, selecionar melhor as features.\n",
        "\n",
        "Underfitting:\n",
        "  - Não modela bem o conjunto de treinamento, problemas em generalizar\n",
        "  - Ex: Erro no treinamento 15%, Erro no teste: 16% (ALto viés, Baixa variância)\n",
        " - Para melhorar o desempenho : Aumentar a complexidade, adicionar mais features.\n",
        "\n",
        "Caso ideal:\n",
        "  - Erro no treinamento: 0.5%, Erro no teste: 1%\n"
      ]
    },
    {
      "cell_type": "markdown",
      "metadata": {
        "id": "d0ib84nJdQgk"
      },
      "source": [
        "### **MLflow**\n",
        "> * Rastreamento de algoritmos de ML\n",
        "* Relatório de logs\n",
        "* Otimização a partir dos resultados gerados"
      ]
    },
    {
      "cell_type": "code",
      "metadata": {
        "id": "URtiVyUWgOEp"
      },
      "source": [
        "import os\n",
        "import warnings\n",
        "import sys\n",
        "\n",
        "from sklearn.metrics import accuracy_score,\\\n",
        "                            f1_score,\\\n",
        "                            precision_score,\\\n",
        "                            recall_score,\\\n",
        "                            mean_squared_error,\\\n",
        "                            mean_absolute_error,\\\n",
        "                            confusion_matrix\n",
        "\n",
        "from sklearn.model_selection import train_test_split\n",
        "from urllib.parse import urlparse\n",
        "import mlflow\n",
        "import mlflow.sklearn\n",
        "import logging\n",
        "\n",
        "logging.basicConfig(level=logging.WARN)\n",
        "logger = logging.getLogger(__name__)\n",
        "\n",
        "def eval_metrics(actual, pred):\n",
        "  acc = accuracy_score(actual, pred)\n",
        "  precision = precision_score(actual, pred)\n",
        "  recall = recall_score(actual, pred)\n",
        "  rmse = np.sqrt(mean_squared_error(actual, pred))\n",
        "  mae = mean_absolute_error(actual, pred)\n",
        "  f1 = f1_score(actual, pred, average='none').max()\n",
        "  f1_macro = f1_score(actual, pred, average='macro')\n",
        "  f1_micro = f1_score(actual, pred, average='micro')\n",
        "  f1_weighted =f1_score(actual, pred, average='weighted')\n",
        "  return acc, precision, recall, rmse, mae, f1, f1_macro, f1_micro, f1_weighted\n"
      ],
      "execution_count": null,
      "outputs": []
    },
    {
      "cell_type": "markdown",
      "metadata": {
        "id": "yVCGA_mZ8g1h"
      },
      "source": [
        "#### **1ª Fase** \n",
        "\n",
        "> Predição (`sklearn`) e Avaliação (`optuna`)\n",
        "\n",
        "> Classificadores com baixa complexidade (Supervisionado)\n",
        "  * NaiveBayes\n",
        "  * Decision Tree\n",
        "\n",
        "> Classificadores com maior complexidade (Supervisionado)\n",
        "  * KNN (Clustering)\n",
        "  * Random Forest\n"
      ]
    },
    {
      "cell_type": "markdown",
      "metadata": {
        "id": "v_C2k4AY1bXq"
      },
      "source": [
        "Preparando os dados"
      ]
    },
    {
      "cell_type": "code",
      "metadata": {
        "colab": {
          "base_uri": "https://localhost:8080/"
        },
        "id": "WIiiOvK2IzvF",
        "outputId": "82eb238c-a4d5-48d5-ccdc-333a29e2dc17"
      },
      "source": [
        "from sklearn.model_selection import train_test_split\n",
        "#Dividindo o dataframe em 60% para treinamento, 20% para validação e  20% para testes\n",
        "train_ratio = 0.60\n",
        "validation_ratio = 0.20\n",
        "test_ratio = 0.20\n",
        "\n",
        "ClassTest = invest_covidPe_lof\n",
        "X_ClassTest = ClassTest.drop('prog_orcamento', axis=1)\n",
        "Y_ClassTest = ClassTest['prog_orcamento']\n",
        "\n",
        "# train is now 60% of the entire data set\n",
        "Xtrain, Xtest, Ytrain, Ytest = train_test_split(X_ClassTest, Y_ClassTest, random_state=3, test_size= 1 - train_ratio)\n",
        "\n",
        "# test is now 20% of the initial data set\n",
        "# validation is now 20% of the initial data set\n",
        "Xval, Xtest, Yval, Ytest = train_test_split(Xtest, Ytest, random_state=3, test_size=test_ratio/(test_ratio + validation_ratio)) \n",
        "\n",
        "print(Xtrain['city'].count(), Xval['city'].count(), Xtest['city'].count())"
      ],
      "execution_count": null,
      "outputs": [
        {
          "output_type": "stream",
          "text": [
            "412 138 138\n",
            "688\n"
          ],
          "name": "stdout"
        }
      ]
    },
    {
      "cell_type": "markdown",
      "metadata": {
        "id": "d0ZLSfnjrGxW"
      },
      "source": [
        "##### `Naive Bayes`"
      ]
    },
    {
      "cell_type": "code",
      "metadata": {
        "id": "Jr-U_Z6a8Uyf"
      },
      "source": [
        "from sklearn.naive_bayes import GaussianNB\n",
        "NBmodel = GaussianNB()\n",
        "NBmodel.fit(Xtrain, Ytrain)\n",
        "Y_NBModel_train = NBmodel.predict(Xtrain)\n",
        "Y_NBModel_test =  NBmodel.predict(Xtest)"
      ],
      "execution_count": null,
      "outputs": []
    },
    {
      "cell_type": "code",
      "metadata": {
        "id": "ScuP7igYxsoj"
      },
      "source": [
        "# Trainning\n",
        "nb_train_acc, nb_train_precision, nb_train_recall, nb_train_mse, nb_train_mae, nb_train_f1, nb_train_f1_macro, nb_train_f1_micro, nb_train_f1_weighted = eval_metrics(Ytrain, Y_NBModel_train)\n",
        "# Test\n",
        "nb_test_acc, nb_test_precision, nb_test_recall, nb_test_mse, nb_test_mae, nb_test_f1, nb_test_f1_macro, nb_test_f1_micro, nb_test_f1_weighted = eval_metrics(Ytest, Y_NBModel_test)"
      ],
      "execution_count": null,
      "outputs": []
    },
    {
      "cell_type": "markdown",
      "metadata": {
        "id": "QIzBTlCdtqGt"
      },
      "source": [
        "`Accuracy`"
      ]
    },
    {
      "cell_type": "code",
      "metadata": {
        "id": "HtBp9v-w8VwX",
        "colab": {
          "base_uri": "https://localhost:8080/"
        },
        "outputId": "6a2e7909-d3f7-4980-94af-552c83346616"
      },
      "source": [
        "print(\"Accuracy TRAINING:\" + str(nb_train_acc))\n",
        "print(\"Accuracy TEST: \" + str(nb_test_acc))"
      ],
      "execution_count": null,
      "outputs": [
        {
          "output_type": "stream",
          "text": [
            "ACC TRAINING:0.8349514563106796\n",
            "ACC TEST:0.8695652173913043\n"
          ],
          "name": "stdout"
        }
      ]
    },
    {
      "cell_type": "markdown",
      "metadata": {
        "id": "HYqPHiVotY0V"
      },
      "source": [
        "`F1 Score`\n",
        "* micro\n",
        "* macro\n",
        "* weighted"
      ]
    },
    {
      "cell_type": "code",
      "metadata": {
        "id": "UV-lSg7FCbhJ",
        "colab": {
          "base_uri": "https://localhost:8080/"
        },
        "outputId": "30202242-0d14-47b2-a677-56f59a341399"
      },
      "source": [
        "print('Type - Treino - Teste')\n",
        "print('f1 score: ', nb_train_f1, nb_test_f1)\n",
        "print('Macro: ', nb_train_f1_macro, nb_test_f1_macro)\n",
        "print('Micro: ', nb_train_f1_micro, nb_test_f1_micro)\n",
        "print('Weighted: ', nb_train_f1_weighted, nb_test_f1_weighted)"
      ],
      "execution_count": null,
      "outputs": [
        {
          "output_type": "stream",
          "text": [
            "Teste, Treino\n",
            "Macro 0.5523731414733049 0.47825792632408515\n",
            "Micro 0.8695652173913043 0.8349514563106796\n",
            "Weighted 0.8532599513208028 0.8327998092140572\n",
            "None 0.9948186528497409 0.9823943661971831\n"
          ],
          "name": "stdout"
        }
      ]
    },
    {
      "cell_type": "markdown",
      "metadata": {
        "id": "b0I4MifktafN"
      },
      "source": [
        "`Precision` & `Recall`"
      ]
    },
    {
      "cell_type": "code",
      "metadata": {
        "id": "TFmRL6hHucBj"
      },
      "source": [
        "# Training\n",
        "print('Precision: ', nb_train_precision)\n",
        "print('Recall: ', nb_train_recall)"
      ],
      "execution_count": null,
      "outputs": []
    },
    {
      "cell_type": "code",
      "metadata": {
        "id": "Mjkvwu-61409"
      },
      "source": [
        "# Test\n",
        "print('Precision: ', nb_test_precision)\n",
        "print('Recall: ', nb_test_recall)"
      ],
      "execution_count": null,
      "outputs": []
    },
    {
      "cell_type": "markdown",
      "metadata": {
        "id": "VnIY9tqItvOl"
      },
      "source": [
        "`Error`\n",
        "  * mean squared error\n",
        "  * mean absolute error"
      ]
    },
    {
      "cell_type": "code",
      "metadata": {
        "id": "JrIOjzxUucr0"
      },
      "source": [
        "# MSE\n",
        "print('MSE: ', nb_train_mse, nb_test_mse)"
      ],
      "execution_count": null,
      "outputs": []
    },
    {
      "cell_type": "code",
      "metadata": {
        "id": "4USqo6xt1qk-"
      },
      "source": [
        "# MAE\n",
        "print('MAE: ', nb_train_mae, nb_test_mae)"
      ],
      "execution_count": null,
      "outputs": []
    },
    {
      "cell_type": "markdown",
      "metadata": {
        "id": "LAGZ5Ru8tkcF"
      },
      "source": [
        "`Confusion Matrix`"
      ]
    },
    {
      "cell_type": "code",
      "metadata": {
        "colab": {
          "base_uri": "https://localhost:8080/",
          "height": 285
        },
        "id": "j_WLaNpJ8pT5",
        "outputId": "bc81b9f7-954b-4790-99c8-0bbc68ee4934"
      },
      "source": [
        "mat = confusion_matrix(Ytest, Y_NBModel_test)\n",
        "\n",
        "sns.heatmap(mat, square=True, annot=True, cbar=False)\n",
        "plt.xlabel('predicted value')\n",
        "plt.ylabel('true value');"
      ],
      "execution_count": null,
      "outputs": [
        {
          "output_type": "display_data",
          "data": {
            "image/png": "[encoded data removed]",
            "text/plain": [
              "<Figure size 432x288 with 1 Axes>"
            ]
          },
          "metadata": {
            "tags": [],
            "needs_background": "light"
          }
        }
      ]
    },
    {
      "cell_type": "markdown",
      "metadata": {
        "id": "K5Kv04QbCcMK"
      },
      "source": [
        "> `MLflow`"
      ]
    },
    {
      "cell_type": "code",
      "metadata": {
        "id": "A5twF_ZnCbeS"
      },
      "source": [
        "if __name__ == \"__main__\":\n",
        "    warnings.filterwarnings(\"ignore\")\n",
        "    np.random.seed(40)\n",
        "\n",
        "    with mlflow.start_run():\n",
        "        mlflow.log_metric(\"accuracy score\", nb_test_acc)\n",
        "        mlflow.log_metric(\"f1 score\", nb_test_f1)\n",
        "        mlflow.log_metric(\"f1_macro score\", nb_test_f1_macro)\n",
        "        mlflow.log_metric(\"f1_micro score\", nb_test_f1_micro)\n",
        "        mlflow.log_metric(\"f1_weighted score\", nb_test_f1_weighted)\n",
        "        mlflow.log_metric(\"precision score\", nb_test_precision)\n",
        "        mlflow.log_metric(\"recall score\", nb_test_recall)\n",
        "        mlflow.log_metric(\"mean squared error\", nb_test_mse)\n",
        "        mlflow.log_metric(\"mean absolute error\", nb_test_mae)        \n",
        "\n",
        "        tracking_url_type_store = urlparse(mlflow.get_tracking_uri()).scheme\n",
        "\n",
        "        # Model registry does not work with file store\n",
        "        if tracking_url_type_store != \"file\":\n",
        "            # Register the model\n",
        "            mlflow.sklearn.log_model(NBmodel, \"model\", registered_model_name=\"NaiveBayes\")\n",
        "        else:\n",
        "            mlflow.sklearn.log_model(NBmodel, \"model\")"
      ],
      "execution_count": null,
      "outputs": []
    },
    {
      "cell_type": "markdown",
      "metadata": {
        "id": "VO9OsW3orMVd"
      },
      "source": [
        "##### `Decision Tree`"
      ]
    },
    {
      "cell_type": "code",
      "metadata": {
        "id": "NWHnB50wqYbb"
      },
      "source": [
        "from sklearn import tree                     \n",
        "maxFeatures = 'auto'\n",
        "criterion = 'gini'\n",
        "splitter = 'random'\n",
        "treeModel = tree.DecisionTreeClassifier(max_features=maxFeatures, criterion=criterion, splitter=splitter)\n",
        "treeModel.fit(Xtrain, Ytrain)               \n",
        "YTreeModel_test = treeModel.predict(Xtest)  \n",
        "YTreeModel_train = treeModel.predict(Xtrain)"
      ],
      "execution_count": null,
      "outputs": []
    },
    {
      "cell_type": "code",
      "metadata": {
        "id": "mW-u21xb2-iy"
      },
      "source": [
        "# Trainning\n",
        "tree_train_acc, tree_train_precision, tree_train_recall, tree_train_mse, tree_train_mae, tree_train_f1, tree_train_f1_macro, tree_train_f1_micro, tree_train_f1_weighted = eval_metrics(Ytrain, YTreeModel_train)\n",
        "\n",
        "# Test\n",
        "tree_test_acc, tree_test_precision, tree_test_recall, tree_test_mse, tree_test_mae, tree_test_f1, tree_test_f1_macro, tree_test_f1_micro, tree_test_f1_weighted = eval_metrics(Ytest, YTreeModel_test)"
      ],
      "execution_count": null,
      "outputs": []
    },
    {
      "cell_type": "markdown",
      "metadata": {
        "id": "kKsuqHbluJVM"
      },
      "source": [
        "`Accuracy`"
      ]
    },
    {
      "cell_type": "code",
      "metadata": {
        "colab": {
          "base_uri": "https://localhost:8080/"
        },
        "id": "55oUAxtNsgpx",
        "outputId": "96ea86a9-479a-434c-cc7f-4a436e4016b0"
      },
      "source": [
        "print(\"Accuracy TRAINING: \" + str(tree_train_acc))\n",
        "print(\"Accuracy TEST: \" + str(tree_test_acc))"
      ],
      "execution_count": null,
      "outputs": [
        {
          "output_type": "stream",
          "text": [
            "ACC TRAINING:1.0\n",
            "ACC TEST:0.9782608695652174\n"
          ],
          "name": "stdout"
        }
      ]
    },
    {
      "cell_type": "markdown",
      "metadata": {
        "id": "nEUvvgDc2tPi"
      },
      "source": [
        "`F1 Score`\n",
        "* micro\n",
        "* macro\n",
        "* weighted"
      ]
    },
    {
      "cell_type": "code",
      "metadata": {
        "colab": {
          "base_uri": "https://localhost:8080/"
        },
        "id": "YRr3ZKoj2tPi",
        "outputId": "30202242-0d14-47b2-a677-56f59a341399"
      },
      "source": [
        "print('Type - Treino - Teste')\n",
        "print('f1 score: ', tree_train_f1, tree_test_f1\n",
        "print('Macro: ', tree_train_f1_macro, tree_test_f1_macro)\n",
        "print('Micro: ', tree_train_f1_micro, tree_test_f1_micro)\n",
        "print('Weighted: ', tree_train_f1_weighted, tree_test_f1_weighted)"
      ],
      "execution_count": null,
      "outputs": [
        {
          "output_type": "stream",
          "text": [
            "Teste, Treino\n",
            "Macro 0.5523731414733049 0.47825792632408515\n",
            "Micro 0.8695652173913043 0.8349514563106796\n",
            "Weighted 0.8532599513208028 0.8327998092140572\n",
            "None 0.9948186528497409 0.9823943661971831\n"
          ],
          "name": "stdout"
        }
      ]
    },
    {
      "cell_type": "markdown",
      "metadata": {
        "id": "0s3Bpojq2tPj"
      },
      "source": [
        "`Precision` & `Recall`"
      ]
    },
    {
      "cell_type": "code",
      "metadata": {
        "id": "_P7NDxkf2tPj"
      },
      "source": [
        "# Training\n",
        "print('Precision: ', tree_train_precision)\n",
        "print('Recall: ', tree_train_recall)"
      ],
      "execution_count": null,
      "outputs": []
    },
    {
      "cell_type": "code",
      "metadata": {
        "id": "hy7TtpRm2tPj"
      },
      "source": [
        "# Test\n",
        "print('Precision: ', tree_test_precision)\n",
        "print('Recall: ', tree_test_recall)"
      ],
      "execution_count": null,
      "outputs": []
    },
    {
      "cell_type": "markdown",
      "metadata": {
        "id": "eDyYg4Nn2tPj"
      },
      "source": [
        "`Error`\n",
        "  * mean squared error\n",
        "  * mean absolute error"
      ]
    },
    {
      "cell_type": "code",
      "metadata": {
        "id": "i6VfGyrV2tPk"
      },
      "source": [
        "# MSE\n",
        "print('MSE: ', tree_train_mse, tree_test_mse)"
      ],
      "execution_count": null,
      "outputs": []
    },
    {
      "cell_type": "code",
      "metadata": {
        "id": "bgjVdyAd2tPk"
      },
      "source": [
        "# MAE\n",
        "print('MAE: ', tree_train_mae, tree_test_mae)"
      ],
      "execution_count": null,
      "outputs": []
    },
    {
      "cell_type": "markdown",
      "metadata": {
        "id": "ikEZsiIv2tPk"
      },
      "source": [
        "`Graph tree`"
      ]
    },
    {
      "cell_type": "code",
      "metadata": {
        "colab": {
          "base_uri": "https://localhost:8080/",
          "height": 796
        },
        "id": "qVJOhEDUtGl0",
        "outputId": "c678ffdf-a48f-4cdd-b777-4dcc6ef28c4a"
      },
      "source": [
        "import graphviz \n",
        "dot_data = tree.export_graphviz(treeModel, out_file=None,filled=True) \n",
        "graph = graphviz.Source(dot_data, format=\"png\") \n",
        "graph"
      ],
      "execution_count": null,
      "outputs": [
        {
          "output_type": "execute_result",
          "data": {
            "text/plain": [
              "<graphviz.files.Source at 0x7f3e5e8f9cd0>"
            ],
            "image/svg+xml": "<?xml version=\"1.0\" encoding=\"UTF-8\" standalone=\"no\"?>\n<!DOCTYPE svg PUBLIC \"-//W3C//DTD SVG 1.1//EN\"\n \"http://www.w3.org/Graphics/SVG/1.1/DTD/svg11.dtd\">\n<!-- Generated by graphviz version 2.40.1 (20161225.0304)\n -->\n<!-- Title: Tree Pages: 1 -->\n<svg width=\"654pt\" height=\"581pt\"\n viewBox=\"0.00 0.00 653.50 581.00\" xmlns=\"http://www.w3.org/2000/svg\" xmlns:xlink=\"http://www.w3.org/1999/xlink\">\n<g id=\"graph0\" class=\"graph\" transform=\"scale(1 1) rotate(0) translate(4 577)\">\n<title>Tree</title>\n<polygon fill=\"#ffffff\" stroke=\"transparent\" points=\"-4,4 -4,-577 649.5,-577 649.5,4 -4,4\"/>\n<!-- 0 -->\n<g id=\"node1\" class=\"node\">\n<title>0</title>\n<polygon fill=\"#b0ef88\" stroke=\"#000000\" points=\"406,-573 236,-573 236,-505 406,-505 406,-573\"/>\n<text text-anchor=\"middle\" x=\"321\" y=\"-557.8\" font-family=\"Times,serif\" font-size=\"14.00\" fill=\"#000000\">X[1] &lt;= 1.5</text>\n<text text-anchor=\"middle\" x=\"321\" y=\"-542.8\" font-family=\"Times,serif\" font-size=\"14.00\" fill=\"#000000\">gini = 0.481</text>\n<text text-anchor=\"middle\" x=\"321\" y=\"-527.8\" font-family=\"Times,serif\" font-size=\"14.00\" fill=\"#000000\">samples = 412</text>\n<text text-anchor=\"middle\" x=\"321\" y=\"-512.8\" font-family=\"Times,serif\" font-size=\"14.00\" fill=\"#000000\">value = [86, 282, 33, 4, 7]</text>\n</g>\n<!-- 1 -->\n<g id=\"node2\" class=\"node\">\n<title>1</title>\n<polygon fill=\"#7ee63e\" stroke=\"#000000\" points=\"312.5,-469 157.5,-469 157.5,-401 312.5,-401 312.5,-469\"/>\n<text text-anchor=\"middle\" x=\"235\" y=\"-453.8\" font-family=\"Times,serif\" font-size=\"14.00\" fill=\"#000000\">X[3] &lt;= 1.5</text>\n<text text-anchor=\"middle\" x=\"235\" y=\"-438.8\" font-family=\"Times,serif\" font-size=\"14.00\" fill=\"#000000\">gini = 0.047</text>\n<text text-anchor=\"middle\" x=\"235\" y=\"-423.8\" font-family=\"Times,serif\" font-size=\"14.00\" fill=\"#000000\">samples = 289</text>\n<text text-anchor=\"middle\" x=\"235\" y=\"-408.8\" font-family=\"Times,serif\" font-size=\"14.00\" fill=\"#000000\">value = [0, 282, 0, 0, 7]</text>\n</g>\n<!-- 0&#45;&gt;1 -->\n<g id=\"edge1\" class=\"edge\">\n<title>0&#45;&gt;1</title>\n<path fill=\"none\" stroke=\"#000000\" d=\"M292.8404,-504.9465C285.4158,-495.968 277.3185,-486.1758 269.5972,-476.8385\"/>\n<polygon fill=\"#000000\" stroke=\"#000000\" points=\"272.2928,-474.606 263.2229,-469.13 266.8983,-479.0669 272.2928,-474.606\"/>\n<text text-anchor=\"middle\" x=\"260.865\" y=\"-490.3186\" font-family=\"Times,serif\" font-size=\"14.00\" fill=\"#000000\">True</text>\n</g>\n<!-- 4 -->\n<g id=\"node5\" class=\"node\">\n<title>4</title>\n<polygon fill=\"#f0b58a\" stroke=\"#000000\" points=\"485.5,-469 330.5,-469 330.5,-401 485.5,-401 485.5,-469\"/>\n<text text-anchor=\"middle\" x=\"408\" y=\"-453.8\" font-family=\"Times,serif\" font-size=\"14.00\" fill=\"#000000\">X[3] &lt;= 1.5</text>\n<text text-anchor=\"middle\" x=\"408\" y=\"-438.8\" font-family=\"Times,serif\" font-size=\"14.00\" fill=\"#000000\">gini = 0.438</text>\n<text text-anchor=\"middle\" x=\"408\" y=\"-423.8\" font-family=\"Times,serif\" font-size=\"14.00\" fill=\"#000000\">samples = 123</text>\n<text text-anchor=\"middle\" x=\"408\" y=\"-408.8\" font-family=\"Times,serif\" font-size=\"14.00\" fill=\"#000000\">value = [86, 0, 33, 4, 0]</text>\n</g>\n<!-- 0&#45;&gt;4 -->\n<g id=\"edge4\" class=\"edge\">\n<title>0&#45;&gt;4</title>\n<path fill=\"none\" stroke=\"#000000\" d=\"M349.4871,-504.9465C356.9979,-495.968 365.1895,-486.1758 373.0005,-476.8385\"/>\n<polygon fill=\"#000000\" stroke=\"#000000\" points=\"375.7171,-479.0459 379.4489,-469.13 370.348,-474.5544 375.7171,-479.0459\"/>\n<text text-anchor=\"middle\" x=\"381.6653\" y=\"-490.3316\" font-family=\"Times,serif\" font-size=\"14.00\" fill=\"#000000\">False</text>\n</g>\n<!-- 2 -->\n<g id=\"node3\" class=\"node\">\n<title>2</title>\n<polygon fill=\"#e539c0\" stroke=\"#000000\" points=\"140,-357.5 0,-357.5 0,-304.5 140,-304.5 140,-357.5\"/>\n<text text-anchor=\"middle\" x=\"70\" y=\"-342.3\" font-family=\"Times,serif\" font-size=\"14.00\" fill=\"#000000\">gini = 0.0</text>\n<text text-anchor=\"middle\" x=\"70\" y=\"-327.3\" font-family=\"Times,serif\" font-size=\"14.00\" fill=\"#000000\">samples = 7</text>\n<text text-anchor=\"middle\" x=\"70\" y=\"-312.3\" font-family=\"Times,serif\" font-size=\"14.00\" fill=\"#000000\">value = [0, 0, 0, 0, 7]</text>\n</g>\n<!-- 1&#45;&gt;2 -->\n<g id=\"edge2\" class=\"edge\">\n<title>1&#45;&gt;2</title>\n<path fill=\"none\" stroke=\"#000000\" d=\"M180.9728,-400.9465C161.5749,-388.72 139.7834,-374.9847 120.68,-362.9437\"/>\n<polygon fill=\"#000000\" stroke=\"#000000\" points=\"122.4362,-359.9135 112.1102,-357.5422 118.7036,-365.8353 122.4362,-359.9135\"/>\n</g>\n<!-- 3 -->\n<g id=\"node4\" class=\"node\">\n<title>3</title>\n<polygon fill=\"#7be539\" stroke=\"#000000\" points=\"313.5,-357.5 158.5,-357.5 158.5,-304.5 313.5,-304.5 313.5,-357.5\"/>\n<text text-anchor=\"middle\" x=\"236\" y=\"-342.3\" font-family=\"Times,serif\" font-size=\"14.00\" fill=\"#000000\">gini = 0.0</text>\n<text text-anchor=\"middle\" x=\"236\" y=\"-327.3\" font-family=\"Times,serif\" font-size=\"14.00\" fill=\"#000000\">samples = 282</text>\n<text text-anchor=\"middle\" x=\"236\" y=\"-312.3\" font-family=\"Times,serif\" font-size=\"14.00\" fill=\"#000000\">value = [0, 282, 0, 0, 0]</text>\n</g>\n<!-- 1&#45;&gt;3 -->\n<g id=\"edge3\" class=\"edge\">\n<title>1&#45;&gt;3</title>\n<path fill=\"none\" stroke=\"#000000\" d=\"M235.3274,-400.9465C235.4302,-390.2621 235.544,-378.4254 235.6483,-367.5742\"/>\n<polygon fill=\"#000000\" stroke=\"#000000\" points=\"239.1484,-367.5754 235.7448,-357.5422 232.1487,-367.508 239.1484,-367.5754\"/>\n</g>\n<!-- 5 -->\n<g id=\"node6\" class=\"node\">\n<title>5</title>\n<polygon fill=\"#51e8cc\" stroke=\"#000000\" points=\"480.5,-365 333.5,-365 333.5,-297 480.5,-297 480.5,-365\"/>\n<text text-anchor=\"middle\" x=\"407\" y=\"-349.8\" font-family=\"Times,serif\" font-size=\"14.00\" fill=\"#000000\">X[0] &lt;= 16.0</text>\n<text text-anchor=\"middle\" x=\"407\" y=\"-334.8\" font-family=\"Times,serif\" font-size=\"14.00\" fill=\"#000000\">gini = 0.193</text>\n<text text-anchor=\"middle\" x=\"407\" y=\"-319.8\" font-family=\"Times,serif\" font-size=\"14.00\" fill=\"#000000\">samples = 37</text>\n<text text-anchor=\"middle\" x=\"407\" y=\"-304.8\" font-family=\"Times,serif\" font-size=\"14.00\" fill=\"#000000\">value = [0, 0, 33, 4, 0]</text>\n</g>\n<!-- 4&#45;&gt;5 -->\n<g id=\"edge5\" class=\"edge\">\n<title>4&#45;&gt;5</title>\n<path fill=\"none\" stroke=\"#000000\" d=\"M407.6726,-400.9465C407.594,-392.776 407.509,-383.9318 407.4266,-375.3697\"/>\n<polygon fill=\"#000000\" stroke=\"#000000\" points=\"410.9243,-375.0958 407.3282,-365.13 403.9246,-375.1632 410.9243,-375.0958\"/>\n</g>\n<!-- 12 -->\n<g id=\"node13\" class=\"node\">\n<title>12</title>\n<polygon fill=\"#e58139\" stroke=\"#000000\" points=\"645.5,-357.5 498.5,-357.5 498.5,-304.5 645.5,-304.5 645.5,-357.5\"/>\n<text text-anchor=\"middle\" x=\"572\" y=\"-342.3\" font-family=\"Times,serif\" font-size=\"14.00\" fill=\"#000000\">gini = 0.0</text>\n<text text-anchor=\"middle\" x=\"572\" y=\"-327.3\" font-family=\"Times,serif\" font-size=\"14.00\" fill=\"#000000\">samples = 86</text>\n<text text-anchor=\"middle\" x=\"572\" y=\"-312.3\" font-family=\"Times,serif\" font-size=\"14.00\" fill=\"#000000\">value = [86, 0, 0, 0, 0]</text>\n</g>\n<!-- 4&#45;&gt;12 -->\n<g id=\"edge12\" class=\"edge\">\n<title>4&#45;&gt;12</title>\n<path fill=\"none\" stroke=\"#000000\" d=\"M461.6997,-400.9465C480.9801,-388.72 502.6396,-374.9847 521.6272,-362.9437\"/>\n<polygon fill=\"#000000\" stroke=\"#000000\" points=\"523.5744,-365.8534 530.145,-357.5422 519.8255,-359.9418 523.5744,-365.8534\"/>\n</g>\n<!-- 6 -->\n<g id=\"node7\" class=\"node\">\n<title>6</title>\n<polygon fill=\"#45e7c9\" stroke=\"#000000\" points=\"399.5,-261 252.5,-261 252.5,-193 399.5,-193 399.5,-261\"/>\n<text text-anchor=\"middle\" x=\"326\" y=\"-245.8\" font-family=\"Times,serif\" font-size=\"14.00\" fill=\"#000000\">X[0] &lt;= 7.0</text>\n<text text-anchor=\"middle\" x=\"326\" y=\"-230.8\" font-family=\"Times,serif\" font-size=\"14.00\" fill=\"#000000\">gini = 0.108</text>\n<text text-anchor=\"middle\" x=\"326\" y=\"-215.8\" font-family=\"Times,serif\" font-size=\"14.00\" fill=\"#000000\">samples = 35</text>\n<text text-anchor=\"middle\" x=\"326\" y=\"-200.8\" font-family=\"Times,serif\" font-size=\"14.00\" fill=\"#000000\">value = [0, 0, 33, 2, 0]</text>\n</g>\n<!-- 5&#45;&gt;6 -->\n<g id=\"edge6\" class=\"edge\">\n<title>5&#45;&gt;6</title>\n<path fill=\"none\" stroke=\"#000000\" d=\"M380.4776,-296.9465C373.5546,-288.0578 366.0106,-278.3716 358.804,-269.1188\"/>\n<polygon fill=\"#000000\" stroke=\"#000000\" points=\"361.488,-266.8688 352.582,-261.13 355.9654,-271.1701 361.488,-266.8688\"/>\n</g>\n<!-- 11 -->\n<g id=\"node12\" class=\"node\">\n<title>11</title>\n<polygon fill=\"#3c39e5\" stroke=\"#000000\" points=\"558,-253.5 418,-253.5 418,-200.5 558,-200.5 558,-253.5\"/>\n<text text-anchor=\"middle\" x=\"488\" y=\"-238.3\" font-family=\"Times,serif\" font-size=\"14.00\" fill=\"#000000\">gini = 0.0</text>\n<text text-anchor=\"middle\" x=\"488\" y=\"-223.3\" font-family=\"Times,serif\" font-size=\"14.00\" fill=\"#000000\">samples = 2</text>\n<text text-anchor=\"middle\" x=\"488\" y=\"-208.3\" font-family=\"Times,serif\" font-size=\"14.00\" fill=\"#000000\">value = [0, 0, 0, 2, 0]</text>\n</g>\n<!-- 5&#45;&gt;11 -->\n<g id=\"edge11\" class=\"edge\">\n<title>5&#45;&gt;11</title>\n<path fill=\"none\" stroke=\"#000000\" d=\"M433.5224,-296.9465C442.3587,-285.6012 452.2068,-272.9567 461.0734,-261.5724\"/>\n<polygon fill=\"#000000\" stroke=\"#000000\" points=\"463.9444,-263.5823 467.3277,-253.5422 458.4217,-259.281 463.9444,-263.5823\"/>\n</g>\n<!-- 7 -->\n<g id=\"node8\" class=\"node\">\n<title>7</title>\n<polygon fill=\"#39e5c5\" stroke=\"#000000\" points=\"317.5,-149.5 170.5,-149.5 170.5,-96.5 317.5,-96.5 317.5,-149.5\"/>\n<text text-anchor=\"middle\" x=\"244\" y=\"-134.3\" font-family=\"Times,serif\" font-size=\"14.00\" fill=\"#000000\">gini = 0.0</text>\n<text text-anchor=\"middle\" x=\"244\" y=\"-119.3\" font-family=\"Times,serif\" font-size=\"14.00\" fill=\"#000000\">samples = 22</text>\n<text text-anchor=\"middle\" x=\"244\" y=\"-104.3\" font-family=\"Times,serif\" font-size=\"14.00\" fill=\"#000000\">value = [0, 0, 22, 0, 0]</text>\n</g>\n<!-- 6&#45;&gt;7 -->\n<g id=\"edge7\" class=\"edge\">\n<title>6&#45;&gt;7</title>\n<path fill=\"none\" stroke=\"#000000\" d=\"M299.1501,-192.9465C290.2048,-181.6012 280.2351,-168.9567 271.259,-157.5724\"/>\n<polygon fill=\"#000000\" stroke=\"#000000\" points=\"273.8675,-155.2278 264.9275,-149.5422 268.3706,-159.5619 273.8675,-155.2278\"/>\n</g>\n<!-- 8 -->\n<g id=\"node9\" class=\"node\">\n<title>8</title>\n<polygon fill=\"#5dead0\" stroke=\"#000000\" points=\"482,-157 336,-157 336,-89 482,-89 482,-157\"/>\n<text text-anchor=\"middle\" x=\"409\" y=\"-141.8\" font-family=\"Times,serif\" font-size=\"14.00\" fill=\"#000000\">X[0] &lt;= 9.5</text>\n<text text-anchor=\"middle\" x=\"409\" y=\"-126.8\" font-family=\"Times,serif\" font-size=\"14.00\" fill=\"#000000\">gini = 0.26</text>\n<text text-anchor=\"middle\" x=\"409\" y=\"-111.8\" font-family=\"Times,serif\" font-size=\"14.00\" fill=\"#000000\">samples = 13</text>\n<text text-anchor=\"middle\" x=\"409\" y=\"-96.8\" font-family=\"Times,serif\" font-size=\"14.00\" fill=\"#000000\">value = [0, 0, 11, 2, 0]</text>\n</g>\n<!-- 6&#45;&gt;8 -->\n<g id=\"edge8\" class=\"edge\">\n<title>6&#45;&gt;8</title>\n<path fill=\"none\" stroke=\"#000000\" d=\"M353.1773,-192.9465C360.2712,-184.0578 368.0015,-174.3716 375.386,-165.1188\"/>\n<polygon fill=\"#000000\" stroke=\"#000000\" points=\"378.2594,-167.1293 381.7616,-157.13 372.7882,-162.7628 378.2594,-167.1293\"/>\n</g>\n<!-- 9 -->\n<g id=\"node10\" class=\"node\">\n<title>9</title>\n<polygon fill=\"#3c39e5\" stroke=\"#000000\" points=\"398,-53 258,-53 258,0 398,0 398,-53\"/>\n<text text-anchor=\"middle\" x=\"328\" y=\"-37.8\" font-family=\"Times,serif\" font-size=\"14.00\" fill=\"#000000\">gini = 0.0</text>\n<text text-anchor=\"middle\" x=\"328\" y=\"-22.8\" font-family=\"Times,serif\" font-size=\"14.00\" fill=\"#000000\">samples = 2</text>\n<text text-anchor=\"middle\" x=\"328\" y=\"-7.8\" font-family=\"Times,serif\" font-size=\"14.00\" fill=\"#000000\">value = [0, 0, 0, 2, 0]</text>\n</g>\n<!-- 8&#45;&gt;9 -->\n<g id=\"edge9\" class=\"edge\">\n<title>8&#45;&gt;9</title>\n<path fill=\"none\" stroke=\"#000000\" d=\"M380.4424,-88.9777C372.8331,-79.9123 364.6061,-70.111 356.9747,-61.0192\"/>\n<polygon fill=\"#000000\" stroke=\"#000000\" points=\"359.562,-58.6577 350.4521,-53.2485 354.2005,-63.1581 359.562,-58.6577\"/>\n</g>\n<!-- 10 -->\n<g id=\"node11\" class=\"node\">\n<title>10</title>\n<polygon fill=\"#39e5c5\" stroke=\"#000000\" points=\"562,-53 416,-53 416,0 562,0 562,-53\"/>\n<text text-anchor=\"middle\" x=\"489\" y=\"-37.8\" font-family=\"Times,serif\" font-size=\"14.00\" fill=\"#000000\">gini = 0.0</text>\n<text text-anchor=\"middle\" x=\"489\" y=\"-22.8\" font-family=\"Times,serif\" font-size=\"14.00\" fill=\"#000000\">samples = 11</text>\n<text text-anchor=\"middle\" x=\"489\" y=\"-7.8\" font-family=\"Times,serif\" font-size=\"14.00\" fill=\"#000000\">value = [0, 0, 11, 0, 0]</text>\n</g>\n<!-- 8&#45;&gt;10 -->\n<g id=\"edge10\" class=\"edge\">\n<title>8&#45;&gt;10</title>\n<path fill=\"none\" stroke=\"#000000\" d=\"M437.205,-88.9777C444.7204,-79.9123 452.8458,-70.111 460.383,-61.0192\"/>\n<polygon fill=\"#000000\" stroke=\"#000000\" points=\"463.1374,-63.1808 466.8251,-53.2485 457.7484,-58.7133 463.1374,-63.1808\"/>\n</g>\n</g>\n</svg>\n"
          },
          "metadata": {
            "tags": []
          },
          "execution_count": 238
        }
      ]
    },
    {
      "cell_type": "markdown",
      "metadata": {
        "id": "wDUkTE8fFa__"
      },
      "source": [
        "> `MLflow`"
      ]
    },
    {
      "cell_type": "code",
      "metadata": {
        "id": "jk6z5LgIFaSw"
      },
      "source": [
        "if __name__ == \"__main__\":\n",
        "    warnings.filterwarnings(\"ignore\")\n",
        "    np.random.seed(40)\n",
        "\n",
        "    with mlflow.start_run():\n",
        "        mlflow.log_param(\"max_features\", maxFeatures)\n",
        "        mlflow.log_param(\"splitter\", splitter)\n",
        "        mlflow.log_param(\"criterion\", criterion)\n",
        "        mlflow.log_metric(\"accuracy score\", tree_test_acc)\n",
        "        mlflow.log_metric(\"f1 score\", tree_test_f1)\n",
        "        mlflow.log_metric(\"f1_macro score\", tree_test_f1_macro)\n",
        "        mlflow.log_metric(\"f1_micro score\", tree_test_f1_micro)\n",
        "        mlflow.log_metric(\"f1_weighted score\", tree_test_f1_weighted)\n",
        "        mlflow.log_metric(\"precision score\", tree_test_precision)\n",
        "        mlflow.log_metric(\"recall score\", tree_test_recall)\n",
        "        mlflow.log_metric(\"mean squared error\", tree_test_mse)\n",
        "        mlflow.log_metric(\"mean absolute error\", tree_test_mae)        \n",
        "\n",
        "        tracking_url_type_store = urlparse(mlflow.get_tracking_uri()).scheme\n",
        "\n",
        "        # Model registry does not work with file store\n",
        "        if tracking_url_type_store != \"file\":\n",
        "            # Register the model\n",
        "            mlflow.sklearn.log_model(YTreeModel_test, \"model\", registered_model_name=\"DecisionTree\")\n",
        "        else:\n",
        "            mlflow.sklearn.log_model(YTreeModel_test, \"model\")"
      ],
      "execution_count": null,
      "outputs": []
    },
    {
      "cell_type": "markdown",
      "metadata": {
        "id": "T3-0xYyOA4qf"
      },
      "source": [
        "##### `KNN`"
      ]
    },
    {
      "cell_type": "code",
      "metadata": {
        "id": "wXLeOYMS8z-I"
      },
      "source": [
        "from sklearn.neighbors  import KNeighborsClassifier\n",
        "n_neighbors = 1 # n_neighbors -> default = 5\n",
        "weights = 'uniform' # weights -> {‘uniform’, ‘distance’} \n",
        "leaf_size = 15 # leaf_size -> default = 30\n",
        "KNNmodel = KNeighborsClassifier(n_neighbors=n_neighbors, weights=weights, leaf_size=leaf_size)     \n",
        "KNNmodel.fit(Xtrain, Ytrain)                     \n",
        "Y_KNNmodel_train = KNNmodel.predict(Xtrain)          \n",
        "Y_KNNmodel_test =  KNNmodel.predict(Xtest)          "
      ],
      "execution_count": null,
      "outputs": []
    },
    {
      "cell_type": "code",
      "metadata": {
        "id": "jxz2kSyoroB6"
      },
      "source": [
        "# Trainning\n",
        "knn_train_acc, knn_train_precision, knn_train_recall, knn_train_mse, knn_train_mae, knn_train_f1, knn_train_f1_macro, knn_train_f1_micro, knn_train_f1_weighted = eval_metrics(Ytrain, Y_KNNmodel_train)\n",
        "\n",
        "# Test\n",
        "knn_test_acc, knn_test_precision, knn_test_recall, knn_test_mse, knn_test_mae, knn_test_f1, knn_test_f1_macro, knn_test_f1_micro, knn_test_f1_weighted = eval_metrics(Ytest, Y_KNNmodel_test)"
      ],
      "execution_count": null,
      "outputs": []
    },
    {
      "cell_type": "markdown",
      "metadata": {
        "id": "NozOOmzyxxPT"
      },
      "source": [
        "> `Accuracy`"
      ]
    },
    {
      "cell_type": "code",
      "metadata": {
        "id": "Yf3jVfYSxxPU"
      },
      "source": [
        "print( \"Accuracy TRAINING: \" + str(knn_train_acc) )\n",
        "print( \"Accuracy TEST: \" + str(knn_test_acc) )"
      ],
      "execution_count": null,
      "outputs": []
    },
    {
      "cell_type": "markdown",
      "metadata": {
        "id": "WSvzCHpWxxPU"
      },
      "source": [
        "> `Precision` & `Recall`"
      ]
    },
    {
      "cell_type": "code",
      "metadata": {
        "id": "YluSHcFkxxPU"
      },
      "source": [
        "print('Precision: ', knn_test_precision)\n",
        "print('Recall: ', knn_test_recall)"
      ],
      "execution_count": null,
      "outputs": []
    },
    {
      "cell_type": "markdown",
      "metadata": {
        "id": "uJZQ59w7xxPU"
      },
      "source": [
        "> `F1 Score`\n",
        "* micro\n",
        "* macro\n",
        "* weighted"
      ]
    },
    {
      "cell_type": "code",
      "metadata": {
        "id": "k8V80jYfxxPV"
      },
      "source": [
        "print('Score: ', knn_test_f1)\n",
        "print('Micro: ', knn_test_f1_micro)\n",
        "print('Macro: ', knn_test_f1_macro)\n",
        "print('Weighted: ', knn_test_f1_weighted)"
      ],
      "execution_count": null,
      "outputs": []
    },
    {
      "cell_type": "markdown",
      "metadata": {
        "id": "w-PPmkitxxPV"
      },
      "source": [
        ">`Error`\n",
        "  * mean squared error\n",
        "  * mean absolute error"
      ]
    },
    {
      "cell_type": "code",
      "metadata": {
        "id": "zpQmKjDKxxPV"
      },
      "source": [
        "print('MSE: ', knn_test_mse)\n",
        "print('MAE: ', knn_test_mae)"
      ],
      "execution_count": null,
      "outputs": []
    },
    {
      "cell_type": "markdown",
      "metadata": {
        "id": "tGpOnuHcAcBo"
      },
      "source": [
        "*Buscando os valor de K que deixa o modelo com acurácia maior. Variando de 1 à 31.* "
      ]
    },
    {
      "cell_type": "code",
      "metadata": {
        "colab": {
          "base_uri": "https://localhost:8080/"
        },
        "id": "K2aGMY-l_STc",
        "outputId": "f1816ddd-a104-4e80-9350-e20d8768de96"
      },
      "source": [
        "# varia o k de 1 a 30\n",
        "k_range = range(1, 31)\n",
        "\n",
        "k_scores = []\n",
        "\n",
        "for k in k_range:\n",
        "    knn = KNeighborsClassifier(n_neighbors=k)\n",
        "    scores = cross_val_score(knn, Xtrain, Ytrain, cv=5, scoring='accuracy')\n",
        "    k_scores.append(scores.mean())\n",
        "print(k_scores)"
      ],
      "execution_count": null,
      "outputs": [
        {
          "output_type": "stream",
          "text": [
            "/usr/local/lib/python3.7/dist-packages/sklearn/model_selection/_split.py:667: UserWarning:\n",
            "\n",
            "The least populated class in y has only 4 members, which is less than n_splits=5.\n",
            "\n",
            "/usr/local/lib/python3.7/dist-packages/sklearn/model_selection/_split.py:667: UserWarning:\n",
            "\n",
            "The least populated class in y has only 4 members, which is less than n_splits=5.\n",
            "\n",
            "/usr/local/lib/python3.7/dist-packages/sklearn/model_selection/_split.py:667: UserWarning:\n",
            "\n",
            "The least populated class in y has only 4 members, which is less than n_splits=5.\n",
            "\n",
            "/usr/local/lib/python3.7/dist-packages/sklearn/model_selection/_split.py:667: UserWarning:\n",
            "\n",
            "The least populated class in y has only 4 members, which is less than n_splits=5.\n",
            "\n",
            "/usr/local/lib/python3.7/dist-packages/sklearn/model_selection/_split.py:667: UserWarning:\n",
            "\n",
            "The least populated class in y has only 4 members, which is less than n_splits=5.\n",
            "\n",
            "/usr/local/lib/python3.7/dist-packages/sklearn/model_selection/_split.py:667: UserWarning:\n",
            "\n",
            "The least populated class in y has only 4 members, which is less than n_splits=5.\n",
            "\n",
            "/usr/local/lib/python3.7/dist-packages/sklearn/model_selection/_split.py:667: UserWarning:\n",
            "\n",
            "The least populated class in y has only 4 members, which is less than n_splits=5.\n",
            "\n",
            "/usr/local/lib/python3.7/dist-packages/sklearn/model_selection/_split.py:667: UserWarning:\n",
            "\n",
            "The least populated class in y has only 4 members, which is less than n_splits=5.\n",
            "\n",
            "/usr/local/lib/python3.7/dist-packages/sklearn/model_selection/_split.py:667: UserWarning:\n",
            "\n",
            "The least populated class in y has only 4 members, which is less than n_splits=5.\n",
            "\n",
            "/usr/local/lib/python3.7/dist-packages/sklearn/model_selection/_split.py:667: UserWarning:\n",
            "\n",
            "The least populated class in y has only 4 members, which is less than n_splits=5.\n",
            "\n",
            "/usr/local/lib/python3.7/dist-packages/sklearn/model_selection/_split.py:667: UserWarning:\n",
            "\n",
            "The least populated class in y has only 4 members, which is less than n_splits=5.\n",
            "\n",
            "/usr/local/lib/python3.7/dist-packages/sklearn/model_selection/_split.py:667: UserWarning:\n",
            "\n",
            "The least populated class in y has only 4 members, which is less than n_splits=5.\n",
            "\n",
            "/usr/local/lib/python3.7/dist-packages/sklearn/model_selection/_split.py:667: UserWarning:\n",
            "\n",
            "The least populated class in y has only 4 members, which is less than n_splits=5.\n",
            "\n",
            "/usr/local/lib/python3.7/dist-packages/sklearn/model_selection/_split.py:667: UserWarning:\n",
            "\n",
            "The least populated class in y has only 4 members, which is less than n_splits=5.\n",
            "\n",
            "/usr/local/lib/python3.7/dist-packages/sklearn/model_selection/_split.py:667: UserWarning:\n",
            "\n",
            "The least populated class in y has only 4 members, which is less than n_splits=5.\n",
            "\n",
            "/usr/local/lib/python3.7/dist-packages/sklearn/model_selection/_split.py:667: UserWarning:\n",
            "\n",
            "The least populated class in y has only 4 members, which is less than n_splits=5.\n",
            "\n",
            "/usr/local/lib/python3.7/dist-packages/sklearn/model_selection/_split.py:667: UserWarning:\n",
            "\n",
            "The least populated class in y has only 4 members, which is less than n_splits=5.\n",
            "\n",
            "/usr/local/lib/python3.7/dist-packages/sklearn/model_selection/_split.py:667: UserWarning:\n",
            "\n",
            "The least populated class in y has only 4 members, which is less than n_splits=5.\n",
            "\n",
            "/usr/local/lib/python3.7/dist-packages/sklearn/model_selection/_split.py:667: UserWarning:\n",
            "\n",
            "The least populated class in y has only 4 members, which is less than n_splits=5.\n",
            "\n",
            "/usr/local/lib/python3.7/dist-packages/sklearn/model_selection/_split.py:667: UserWarning:\n",
            "\n",
            "The least populated class in y has only 4 members, which is less than n_splits=5.\n",
            "\n",
            "/usr/local/lib/python3.7/dist-packages/sklearn/model_selection/_split.py:667: UserWarning:\n",
            "\n",
            "The least populated class in y has only 4 members, which is less than n_splits=5.\n",
            "\n",
            "/usr/local/lib/python3.7/dist-packages/sklearn/model_selection/_split.py:667: UserWarning:\n",
            "\n",
            "The least populated class in y has only 4 members, which is less than n_splits=5.\n",
            "\n",
            "/usr/local/lib/python3.7/dist-packages/sklearn/model_selection/_split.py:667: UserWarning:\n",
            "\n",
            "The least populated class in y has only 4 members, which is less than n_splits=5.\n",
            "\n",
            "/usr/local/lib/python3.7/dist-packages/sklearn/model_selection/_split.py:667: UserWarning:\n",
            "\n",
            "The least populated class in y has only 4 members, which is less than n_splits=5.\n",
            "\n",
            "/usr/local/lib/python3.7/dist-packages/sklearn/model_selection/_split.py:667: UserWarning:\n",
            "\n",
            "The least populated class in y has only 4 members, which is less than n_splits=5.\n",
            "\n",
            "/usr/local/lib/python3.7/dist-packages/sklearn/model_selection/_split.py:667: UserWarning:\n",
            "\n",
            "The least populated class in y has only 4 members, which is less than n_splits=5.\n",
            "\n",
            "/usr/local/lib/python3.7/dist-packages/sklearn/model_selection/_split.py:667: UserWarning:\n",
            "\n",
            "The least populated class in y has only 4 members, which is less than n_splits=5.\n",
            "\n",
            "/usr/local/lib/python3.7/dist-packages/sklearn/model_selection/_split.py:667: UserWarning:\n",
            "\n",
            "The least populated class in y has only 4 members, which is less than n_splits=5.\n",
            "\n",
            "/usr/local/lib/python3.7/dist-packages/sklearn/model_selection/_split.py:667: UserWarning:\n",
            "\n",
            "The least populated class in y has only 4 members, which is less than n_splits=5.\n",
            "\n",
            "/usr/local/lib/python3.7/dist-packages/sklearn/model_selection/_split.py:667: UserWarning:\n",
            "\n",
            "The least populated class in y has only 4 members, which is less than n_splits=5.\n",
            "\n"
          ],
          "name": "stderr"
        },
        {
          "output_type": "stream",
          "text": [
            "[0.9150455480458419, 0.8736996767558036, 0.8785777255362914, 0.8761387011460476, 0.8713194240376139, 0.8640905083749633, 0.8786658830443725, 0.8834557743167792, 0.8907140758154568, 0.8858947987070233, 0.888333823097267, 0.8810461357625625, 0.8858947987070233, 0.8810755215985895, 0.8810755215985895, 0.8737584484278578, 0.8713194240376139, 0.8712900382015867, 0.8712900382015867, 0.8664707610931531, 0.86650014692918, 0.8616514839847194, 0.868939171319424, 0.8689097854833969, 0.8615927123126653, 0.8591536879224213, 0.8567146635321775, 0.8664413752571261, 0.8591536879224213, 0.8567440493682046]\n"
          ],
          "name": "stdout"
        }
      ]
    },
    {
      "cell_type": "code",
      "metadata": {
        "colab": {
          "base_uri": "https://localhost:8080/",
          "height": 302
        },
        "id": "gpSs5XvJ_5Um",
        "outputId": "5f948368-a884-4376-8d07-4dea074cb329"
      },
      "source": [
        "# plotando o valor de K versus a acurácia no cross-validation\n",
        "plt.plot(k_range, k_scores)\n",
        "plt.xlabel('Value of K for KNN')\n",
        "plt.ylabel('Cross-Validated Accuracy')"
      ],
      "execution_count": null,
      "outputs": [
        {
          "output_type": "execute_result",
          "data": {
            "text/plain": [
              "Text(0, 0.5, 'Cross-Validated Accuracy')"
            ]
          },
          "metadata": {
            "tags": []
          },
          "execution_count": 244
        },
        {
          "output_type": "display_data",
          "data": {
            "image/png": "[encoded data removed]",
            "text/plain": [
              "<Figure size 432x288 with 1 Axes>"
            ]
          },
          "metadata": {
            "tags": [],
            "needs_background": "light"
          }
        }
      ]
    },
    {
      "cell_type": "code",
      "metadata": {
        "id": "RGu2_oyIFxNB"
      },
      "source": [
        "if __name__ == \"__main__\":\n",
        "    warnings.filterwarnings(\"ignore\")\n",
        "    np.random.seed(40)\n",
        "\n",
        "    with mlflow.start_run():\n",
        "        mlflow.log_param(\"n_neighbors\", n_neighbors)\n",
        "        mlflow.log_param(\"weights\", weights)\n",
        "        mlflow.log_param(\"leaf_size\", leaf_size)\n",
        "        mlflow.log_metric(\"accuracy score\", knn_test_acc)\n",
        "        mlflow.log_metric(\"f1 score\", knn_test_f1)\n",
        "        mlflow.log_metric(\"f1_macro score\", knn_test_f1_macro)\n",
        "        mlflow.log_metric(\"f1_micro score\", knn_test_f1_micro)\n",
        "        mlflow.log_metric(\"f1_weighted score\", knn_test_f1_weighted)\n",
        "        mlflow.log_metric(\"precision score\", knn_test_precision)\n",
        "        mlflow.log_metric(\"recall score\", knn_test_recall)\n",
        "        mlflow.log_metric(\"mean squared error\", knn_test_mse)\n",
        "        mlflow.log_metric(\"mean absolute error\", knn_test_mae)        \n",
        "\n",
        "        tracking_url_type_store = urlparse(mlflow.get_tracking_uri()).scheme\n",
        "\n",
        "        # Model registry does not work with file store\n",
        "        if tracking_url_type_store != \"file\":\n",
        "            # Register the model\n",
        "            mlflow.sklearn.log_model(Y_KNNmodel_test, \"model\", registered_model_name=\"KNN\")\n",
        "        else:\n",
        "            mlflow.sklearn.log_model(Y_KNNmodel_test, \"model\")"
      ],
      "execution_count": null,
      "outputs": []
    },
    {
      "cell_type": "markdown",
      "metadata": {
        "id": "1w9xphxzBc2w"
      },
      "source": [
        "##### `Random Forest`"
      ]
    },
    {
      "cell_type": "code",
      "metadata": {
        "id": "3snMNsX3BlE1"
      },
      "source": [
        "from sklearn.ensemble  import RandomForestClassifier  \n",
        "RFmodel = RandomForestClassifier(n_estimators=20)     \n",
        "RFmodel.fit(Xtrain, Ytrain)                       \n",
        "Y_RFmodel_train = RFmodel.predict(Xtrain)                 \n",
        "Y_RFmodel_test =  RFmodel.predict(Xtest)              "
      ],
      "execution_count": null,
      "outputs": []
    },
    {
      "cell_type": "code",
      "metadata": {
        "id": "SaJqBIMYrt-u"
      },
      "source": [
        "# Trainning\n",
        "rf_train_acc, rf_train_precision, rf_train_recall, rf_train_mse, rf_train_mae, rf_train_f1, rf_train_f1_macro, rf_train_f1_micro, rf_train_f1_weighted = eval_metrics(Ytrain, Y_RFmodel_train)\n",
        "\n",
        "# Test\n",
        "rf_test_acc, rf_test_precision, rf_test_recall, rf_test_mse, rf_test_mae, rf_test_f1, rf_test_f1_macro, rf_test_f1_micro, rf_test_f1_weighted = eval_metrics(Ytest, Y_RFmodel_test)"
      ],
      "execution_count": null,
      "outputs": []
    },
    {
      "cell_type": "markdown",
      "metadata": {
        "id": "eLtyONhOwXfb"
      },
      "source": [
        "> `Accuracy`"
      ]
    },
    {
      "cell_type": "code",
      "metadata": {
        "id": "OUSM0b4TwBvL"
      },
      "source": [
        "# Training\n",
        "print('Training: ', rf_train_acc)\n",
        "#Test\n",
        "print('Test: ', rf_test_acc)"
      ],
      "execution_count": null,
      "outputs": []
    },
    {
      "cell_type": "markdown",
      "metadata": {
        "id": "wUdaSuaMwbph"
      },
      "source": [
        "> `Precision` & `Recall`"
      ]
    },
    {
      "cell_type": "code",
      "metadata": {
        "id": "g606YjBHwg1R"
      },
      "source": [
        "print('Precision: ', rf_test_precision)\n",
        "print('Recall: ', rf_test_recall)"
      ],
      "execution_count": null,
      "outputs": []
    },
    {
      "cell_type": "markdown",
      "metadata": {
        "id": "gAD31T0BwhQ5"
      },
      "source": [
        "> `F1 Score`\n",
        "* micro\n",
        "* macro\n",
        "* weighted"
      ]
    },
    {
      "cell_type": "code",
      "metadata": {
        "id": "gocF9VdrwlQa"
      },
      "source": [
        "print('Score: ', rf_test_f1)\n",
        "print('Micro: ', rf_test_f1_micro)\n",
        "print('Macro: ', rf_test_f1_macro)\n",
        "print('Weighted: ', rf_test_f1_weighted)"
      ],
      "execution_count": null,
      "outputs": []
    },
    {
      "cell_type": "markdown",
      "metadata": {
        "id": "buOCloBbwlli"
      },
      "source": [
        ">`Error`\n",
        "  * mean squared error\n",
        "  * mean absolute error"
      ]
    },
    {
      "cell_type": "code",
      "metadata": {
        "id": "MW_vtQvew2yS"
      },
      "source": [
        "print('MSE: ', rf_test_mse)\n",
        "print('MAE: ', rf_test_mae)"
      ],
      "execution_count": null,
      "outputs": []
    },
    {
      "cell_type": "code",
      "metadata": {
        "colab": {
          "base_uri": "https://localhost:8080/"
        },
        "id": "GEP19QW6DFZi",
        "outputId": "fd53b95e-7988-4b9d-e913-d1df5afc65f8"
      },
      "source": [
        "#from sklearn.metrics import classification_report, confusion_matrix, accuracy_score\n",
        "#\n",
        "#print('Training')\n",
        "#print(classification_report(Ytrain,Y_RFmodel_train))\n",
        "#\n",
        "#print('Test')\n",
        "#print(classification_report(Ytest,Y_RFmodel_test))"
      ],
      "execution_count": null,
      "outputs": [
        {
          "output_type": "stream",
          "text": [
            "Training\n",
            "              precision    recall  f1-score   support\n",
            "\n",
            "           0       1.00      1.00      1.00        86\n",
            "           1       1.00      1.00      1.00       282\n",
            "           2       1.00      1.00      1.00        33\n",
            "           3       1.00      1.00      1.00         4\n",
            "           4       1.00      1.00      1.00         7\n",
            "\n",
            "    accuracy                           1.00       412\n",
            "   macro avg       1.00      1.00      1.00       412\n",
            "weighted avg       1.00      1.00      1.00       412\n",
            "\n",
            "Test\n",
            "              precision    recall  f1-score   support\n",
            "\n",
            "           0       1.00      1.00      1.00        30\n",
            "           1       1.00      1.00      1.00        97\n",
            "           2       1.00      0.91      0.95        11\n",
            "           3       0.00      0.00      0.00         0\n",
            "\n",
            "    accuracy                           0.99       138\n",
            "   macro avg       0.75      0.73      0.74       138\n",
            "weighted avg       1.00      0.99      1.00       138\n",
            "\n",
            "ACC TRAINING:1.0\n",
            "ACC TEST:0.9927536231884058\n"
          ],
          "name": "stdout"
        },
        {
          "output_type": "stream",
          "text": [
            "/usr/local/lib/python3.7/dist-packages/sklearn/metrics/_classification.py:1272: UndefinedMetricWarning:\n",
            "\n",
            "Recall and F-score are ill-defined and being set to 0.0 in labels with no true samples. Use `zero_division` parameter to control this behavior.\n",
            "\n"
          ],
          "name": "stderr"
        }
      ]
    },
    {
      "cell_type": "code",
      "metadata": {
        "colab": {
          "base_uri": "https://localhost:8080/",
          "height": 285
        },
        "id": "UWkx7eXDDuzA",
        "outputId": "6d36240b-a693-434f-c205-53fe487c4d62"
      },
      "source": [
        "cm = confusion_matrix(Ytest,Y_RFmodel_test)\n",
        "\n",
        "sns.heatmap(cm, square=True, annot=True)\n",
        "plt.xlabel('predicted value')\n",
        "plt.ylabel('true value');"
      ],
      "execution_count": null,
      "outputs": [
        {
          "output_type": "display_data",
          "data": {
            "image/png": "[encoded data removed]",
            "text/plain": [
              "<Figure size 432x288 with 2 Axes>"
            ]
          },
          "metadata": {
            "tags": [],
            "needs_background": "light"
          }
        }
      ]
    },
    {
      "cell_type": "markdown",
      "metadata": {
        "id": "RBBBeEpqGRLo"
      },
      "source": [
        "`MLflow` pré-otimização"
      ]
    },
    {
      "cell_type": "code",
      "metadata": {
        "id": "8pMXbdtvGCXX"
      },
      "source": [
        "if __name__ == \"__main__\":\n",
        "    warnings.filterwarnings(\"ignore\")\n",
        "    np.random.seed(40)\n",
        "\n",
        "    with mlflow.start_run():\n",
        "        mlflow.log_param(\"n_estimators\", n_estimators)\n",
        "        mlflow.log_param(\"max_depth\", max_depth)\n",
        "        mlflow.log_param(\"max_features\", max_features)\n",
        "        mlflow.log_metric(\"accuracy score\", tree_test_acc)\n",
        "        mlflow.log_metric(\"f1 score\", tree_test_f1)\n",
        "        mlflow.log_metric(\"f1_macro score\", tree_test_f1_macro)\n",
        "        mlflow.log_metric(\"f1_micro score\", tree_test_f1_micro)\n",
        "        mlflow.log_metric(\"f1_weighted score\", tree_test_f1_weighted)\n",
        "        mlflow.log_metric(\"precision score\", tree_test_precision)\n",
        "        mlflow.log_metric(\"recall score\", tree_test_recall)\n",
        "        mlflow.log_metric(\"mean squared error\", tree_test_mse)\n",
        "        mlflow.log_metric(\"mean absolute error\", tree_test_mae)        \n",
        "\n",
        "        tracking_url_type_store = urlparse(mlflow.get_tracking_uri()).scheme\n",
        "\n",
        "        # Model registry does not work with file store\n",
        "        if tracking_url_type_store != \"file\":\n",
        "            # Register the model\n",
        "            mlflow.sklearn.log_model(Y_RFmodel_test, \"model\", registered_model_name=\"RandomForest\")\n",
        "        else:\n",
        "            mlflow.sklearn.log_model(Y_RFmodel_test, \"model\")"
      ],
      "execution_count": null,
      "outputs": []
    },
    {
      "cell_type": "markdown",
      "metadata": {
        "id": "-kQe-CXexy8i"
      },
      "source": [
        "##### **Estudo e otimização de híperparâmetros**\n",
        "> Ferramenta: `Optuna`\n",
        "  \n",
        "  Info: https://optuna.org/"
      ]
    },
    {
      "cell_type": "code",
      "metadata": {
        "id": "kjvasf8MyVKa"
      },
      "source": [
        "import optuna\n",
        "\n",
        "# Método que avalia os objetivos\n",
        "def objective(trial):\n",
        "    # Validation set\n",
        "    x_df = Xval\n",
        "    target = Yval\n",
        "\n",
        "    # Classificadores desejáveis\n",
        "    classifier_name = trial.suggest_categorical('classifier', ['DecisionTree', 'KNN', 'RandomForest'])\n",
        "\n",
        "    # Avaliação de modelos\n",
        "    if classifier_name == 'DecisionTree':\n",
        "      max_features = trial.suggest_categorical('max_features', ['auto', 'sqrt', 'log2'])\n",
        "      criterion = trial.suggest_categorical('criterion', ['gini', 'entropy'])\n",
        "      splitter = trial.suggest_categorical('splitter', ['best', 'random'])\n",
        "      classifier_obj = tree.DecisionTreeClassifier(max_features=max_features, criterion=criterion, splitter=splitter)     \n",
        "      classifier_obj.fit(x_df, target)\n",
        "      predict = classifier_obj.predict(x_df)\n",
        "\n",
        "      accuracy,_,_,_,_,_,_,_ = eval_metrics(target, predict)\n",
        "    \n",
        "    elif classifier_name == 'KNN':\n",
        "      n_neighbors = trial.suggest_int('n_neighbors', 3, 99, step=3)\n",
        "      weights = trial.suggest_categorical('weights', ['uniform', 'distance'])\n",
        "      leaf_size = int(trial.suggest_loguniform('leaf_size', 5, 100))\n",
        "      classifier_obj = KNeighborsClassifier(n_neighbors=n_neighbors, weights=weights, leaf_size=leaf_size)     \n",
        "      classifier_obj.fit(x_df, target)\n",
        "      predict = classifier_obj.predict(x_df)\n",
        "\n",
        "      accuracy,_,_,_,_,_,_,_ = eval_metrics(target, predict)\n",
        "    \n",
        "    else:\n",
        "      n_estimators = trial.suggest_int('n_estimators', 5, 100, step=10)\n",
        "      max_depth = int(trial.suggest_loguniform('rf_max_depth', 2, 20))\n",
        "      max_features = trial.suggest_categorical('max_features', ['auto', 'sqrt', 'log2'])\n",
        "\n",
        "      classifier_obj = RandomForestClassifier(n_estimators=n_estimators, max_depth=max_depth, max_features=max_features)\n",
        "      classifier_obj.fit(x_df, target)\n",
        "      predict = classifier_obj.predict(x_df)\n",
        "\n",
        "      accuracy,_,_,_,_,_,_,_ = eval_metrics(target, predict)\n",
        "    \n",
        "    return accuracy"
      ],
      "execution_count": null,
      "outputs": []
    },
    {
      "cell_type": "markdown",
      "metadata": {
        "id": "BKecJ_k1AY7N"
      },
      "source": [
        ">**Estudo**"
      ]
    },
    {
      "cell_type": "code",
      "metadata": {
        "id": "WGJXn3_fAcRN"
      },
      "source": [
        "# Cria um estudo sobre os objetos e otimiza através da função 'objective()'\n",
        "study = optuna.create_study(direction='maximize')\n",
        "study.optimize(objective, n_trials=100)"
      ],
      "execution_count": null,
      "outputs": []
    },
    {
      "cell_type": "markdown",
      "metadata": {
        "id": "n5QeptU4AgTE"
      },
      "source": [
        "> **Visualização e seleção de parâmetros otimizados**"
      ]
    },
    {
      "cell_type": "code",
      "metadata": {
        "id": "UUZiYe1cAl-U"
      },
      "source": [
        "print(study.best_trial)"
      ],
      "execution_count": null,
      "outputs": []
    },
    {
      "cell_type": "markdown",
      "metadata": {
        "id": "QpcyCMyi8j6J"
      },
      "source": [
        "#### **2ª Fase**\n",
        "> Revisão, reavaliação e ajuste\n",
        ">\n",
        "> Ferramenta: `mlflow`"
      ]
    },
    {
      "cell_type": "markdown",
      "metadata": {
        "id": "yn34Mc9b98MG"
      },
      "source": [
        "> Revisando os parâmetros e métricas antes da avaliação e otimização do `optuna`"
      ]
    },
    {
      "cell_type": "code",
      "metadata": {
        "id": "Cw8_5p99iQDg"
      },
      "source": [
        "''' ls\n",
        "-l : lista permissões, número de entidades (se for diretório, mostra a quantidade de subdiretórios existentes dentro dele; se for arquivo, \n",
        "     mostra o número de referências que apontam para o arquivo), dono, grupo, tamanho do arquivo, data e hora da última atualização e o nome do arquivo.\n",
        "'''\n",
        "!ls -l mlruns/0/fb27c54b21a4452486670b7bd806d477/params"
      ],
      "execution_count": null,
      "outputs": []
    },
    {
      "cell_type": "code",
      "metadata": {
        "id": "v5eRlOFU-r3V"
      },
      "source": [
        "# !less - displays a file content\n",
        "!less -n mlruns/0/fb27c54b21a4452486670b7bd806d477/metrics/mae"
      ],
      "execution_count": null,
      "outputs": []
    },
    {
      "cell_type": "markdown",
      "metadata": {
        "id": "LpxodJ8Z-LbX"
      },
      "source": [
        "> Aplicando modificações indicadas pelo `optuna`"
      ]
    },
    {
      "cell_type": "markdown",
      "metadata": {
        "id": "dGsDhwkj4y6m"
      },
      "source": [
        "##### **Decision Tree**"
      ]
    },
    {
      "cell_type": "markdown",
      "metadata": {
        "id": "kIimpYCE418k"
      },
      "source": [
        "##### **KNN**"
      ]
    },
    {
      "cell_type": "markdown",
      "metadata": {
        "id": "-WV9gbCLSDZ5"
      },
      "source": [
        "Melhores valores estimados\n",
        "\n",
        "*   n_neighbors: 14\n",
        "*   weights: 'distance'\n",
        "*   leaf_size : 11"
      ]
    },
    {
      "cell_type": "code",
      "metadata": {
        "id": "8zh9WrsUS9Pz"
      },
      "source": [
        "from sklearn.neighbors  import KNeighborsClassifier  # 1. escolha da técnica\n",
        "Tunned_KNNmodel = KNeighborsClassifier(n_neighbors=13, weights='distance',leaf_size=11)        # 2. instanciação do modelo\n",
        "Tunned_KNNmodel.fit(Xtrain, Ytrain)                          # 3. criação do modelo\n",
        "TunnedY_KNNmodel_test =  Tunned_KNNmodel.predict(Xtest)            # 4. predição com dados de teste\n",
        "TunnedY_KNNmodel_train = Tunned_KNNmodel.predict(Xtrain)           # 5. predição com dados de treino "
      ],
      "execution_count": null,
      "outputs": []
    },
    {
      "cell_type": "code",
      "metadata": {
        "colab": {
          "base_uri": "https://localhost:8080/"
        },
        "id": "Mx7Hdl7WTar1",
        "outputId": "7a30cfe4-b602-4e4c-b796-d5de4ed66fb0"
      },
      "source": [
        "print(\"ACC TRAINING:\" + str(accuracy_score(Ytrain, TunnedY_KNNmodel_train)))\n",
        "print(\"ACC TEST:\" + str(accuracy_score(Ytest, TunnedY_KNNmodel_test)))"
      ],
      "execution_count": null,
      "outputs": [
        {
          "output_type": "stream",
          "text": [
            "ACC TRAINING:1.0\n",
            "ACC TEST:0.9420289855072463\n"
          ],
          "name": "stdout"
        }
      ]
    },
    {
      "cell_type": "markdown",
      "metadata": {
        "id": "9Rmg3ucSTntx"
      },
      "source": [
        "O modelo mostrou uma melhora de ~1,4% no teste após a otimização, passando de uma acurácia de 92,8% para 94,2%\n",
        "\n",
        "A acurácia de treinamento se manteve fixa em 100%"
      ]
    },
    {
      "cell_type": "code",
      "metadata": {
        "id": "w7hUU4-9F9gQ"
      },
      "source": [
        "if __name__ == \"__main__\":\n",
        "    warnings.filterwarnings(\"ignore\")\n",
        "    np.random.seed(40)\n",
        "\n",
        "    with mlflow.start_run():\n",
        "        mlflow.log_param(\"alpha\", alpha)\n",
        "        mlflow.log_param(\"l1_ratio\", l1_ratio)\n",
        "        mlflow.log_metric(\"accuracy score\", tree_test_acc)\n",
        "        mlflow.log_metric(\"f1 score\", tree_test_f1)\n",
        "        mlflow.log_metric(\"f1_macro score\", tree_test_f1_macro)\n",
        "        mlflow.log_metric(\"f1_micro score\", tree_test_f1_micro)\n",
        "        mlflow.log_metric(\"f1_weighted score\", tree_test_f1_weighted)\n",
        "        mlflow.log_metric(\"precision score\", tree_test_precision)\n",
        "        mlflow.log_metric(\"recall score\", tree_test_recall)\n",
        "        mlflow.log_metric(\"mean squared error\", tree_test_mse)\n",
        "        mlflow.log_metric(\"mean absolute error\", tree_test_mae)        \n",
        "\n",
        "        tracking_url_type_store = urlparse(mlflow.get_tracking_uri()).scheme\n",
        "\n",
        "        # Model registry does not work with file store\n",
        "        if tracking_url_type_store != \"file\":\n",
        "            # Register the model\n",
        "            mlflow.sklearn.log_model(NBmodel, \"model\", registered_model_name=\"NaiveBayes\")\n",
        "        else:\n",
        "            mlflow.sklearn.log_model(NBmodel, \"model\")"
      ],
      "execution_count": null,
      "outputs": []
    },
    {
      "cell_type": "markdown",
      "metadata": {
        "id": "mAKdnjmG4qvj"
      },
      "source": [
        "##### **Random Forest**"
      ]
    },
    {
      "cell_type": "markdown",
      "metadata": {
        "id": "6nv36sO0N5Gw"
      },
      "source": [
        "Melhores valores estimados\n",
        "\n",
        "*   n_estimators: 520\n",
        "*   max_depth: 43\n",
        "*   max_features : 'auto'"
      ]
    },
    {
      "cell_type": "code",
      "metadata": {
        "id": "GdDD0cDpPPSU"
      },
      "source": [
        "from sklearn.ensemble  import RandomForestClassifier  # 1. escolha da técnica\n",
        "Tunned_RFmodel = RandomForestClassifier(n_estimators=520, max_depth= 43, max_features='auto')     # 2. instanciação do modelo\n",
        "Tunned_RFmodel.fit(Xtrain, Ytrain)                           # 3. criação do modelo\n",
        "TunnedY_RFmodel_test =  Tunned_RFmodel.predict(Xtest)              # 4. predição com dados de teste\n",
        "TunnedY_RFmodel_train = Tunned_RFmodel.predict(Xtrain)             # 5. predição com dados de treino "
      ],
      "execution_count": null,
      "outputs": []
    },
    {
      "cell_type": "code",
      "metadata": {
        "colab": {
          "base_uri": "https://localhost:8080/"
        },
        "id": "Ou10oxtiPP1q",
        "outputId": "edda8f97-4605-4072-f8fa-67de9d183d66"
      },
      "source": [
        "from sklearn.metrics import classification_report, confusion_matrix, accuracy_score\n",
        "\n",
        "print('Training')\n",
        "print(classification_report(Ytrain,TunnedY_RFmodel_train))\n",
        "\n",
        "print('Test')\n",
        "print(classification_report(Ytest,TunnedY_RFmodel_test))"
      ],
      "execution_count": null,
      "outputs": [
        {
          "output_type": "stream",
          "text": [
            "Training\n",
            "              precision    recall  f1-score   support\n",
            "\n",
            "           0       1.00      1.00      1.00        86\n",
            "           1       1.00      1.00      1.00       282\n",
            "           2       1.00      1.00      1.00        33\n",
            "           3       1.00      1.00      1.00         4\n",
            "           4       1.00      1.00      1.00         7\n",
            "\n",
            "    accuracy                           1.00       412\n",
            "   macro avg       1.00      1.00      1.00       412\n",
            "weighted avg       1.00      1.00      1.00       412\n",
            "\n",
            "Test\n",
            "              precision    recall  f1-score   support\n",
            "\n",
            "           0       1.00      1.00      1.00        30\n",
            "           1       1.00      1.00      1.00        97\n",
            "           2       1.00      1.00      1.00        11\n",
            "\n",
            "    accuracy                           1.00       138\n",
            "   macro avg       1.00      1.00      1.00       138\n",
            "weighted avg       1.00      1.00      1.00       138\n",
            "\n"
          ],
          "name": "stdout"
        }
      ]
    },
    {
      "cell_type": "code",
      "metadata": {
        "colab": {
          "base_uri": "https://localhost:8080/"
        },
        "id": "zOhmYfQyUoWe",
        "outputId": "e5c0a029-b560-401a-8e90-312620a11385"
      },
      "source": [
        "print(\"Antes do tunning\")\n",
        "print(\"ACC TRAINING:\" + str(accuracy_score(Ytrain, Y_RFmodel_train)))\n",
        "print(\"ACC TEST:\" + str(accuracy_score(Ytest, Y_RFmodel_test)))\n",
        "\n",
        "print(\"Depois do tunning\")\n",
        "print(\"ACC TRAINING:\" + str(accuracy_score(Ytrain, TunnedY_RFmodel_train)))\n",
        "print(\"ACC TEST:\" + str(accuracy_score(Ytest, TunnedY_RFmodel_test)))\n"
      ],
      "execution_count": null,
      "outputs": [
        {
          "output_type": "stream",
          "text": [
            "Antes do tunning\n",
            "ACC TRAINING:1.0\n",
            "ACC TEST:0.9927536231884058\n",
            "Depois do tunning\n",
            "ACC TRAINING:1.0\n",
            "ACC TEST:1.0\n"
          ],
          "name": "stdout"
        }
      ]
    },
    {
      "cell_type": "markdown",
      "metadata": {
        "id": "yQVC1wUFUch6"
      },
      "source": [
        "O modelo mostrou uma melhora de ~0,7% no teste após a otimização, passando de uma acurácia de 99,3% para 100%\n",
        "\n",
        "A acurácia de treinamento se manteve fixa em 100%"
      ]
    },
    {
      "cell_type": "markdown",
      "metadata": {
        "id": "iZuq_53cGFE2"
      },
      "source": [
        "> `MLflow` pós-otimização"
      ]
    },
    {
      "cell_type": "code",
      "metadata": {
        "id": "WnCFXkRbGDVn"
      },
      "source": [
        "if __name__ == \"__main__\":\n",
        "    warnings.filterwarnings(\"ignore\")\n",
        "    np.random.seed(40)\n",
        "\n",
        "    with mlflow.start_run():\n",
        "        mlflow.log_param(\"alpha\", alpha)\n",
        "        mlflow.log_param(\"l1_ratio\", l1_ratio)\n",
        "        mlflow.log_metric(\"accuracy score\", tree_test_acc)\n",
        "        mlflow.log_metric(\"f1 score\", tree_test_f1)\n",
        "        mlflow.log_metric(\"f1_macro score\", tree_test_f1_macro)\n",
        "        mlflow.log_metric(\"f1_micro score\", tree_test_f1_micro)\n",
        "        mlflow.log_metric(\"f1_weighted score\", tree_test_f1_weighted)\n",
        "        mlflow.log_metric(\"precision score\", tree_test_precision)\n",
        "        mlflow.log_metric(\"recall score\", tree_test_recall)\n",
        "        mlflow.log_metric(\"mean squared error\", tree_test_mse)\n",
        "        mlflow.log_metric(\"mean absolute error\", tree_test_mae)        \n",
        "\n",
        "        tracking_url_type_store = urlparse(mlflow.get_tracking_uri()).scheme\n",
        "\n",
        "        # Model registry does not work with file store\n",
        "        if tracking_url_type_store != \"file\":\n",
        "            # Register the model\n",
        "            mlflow.sklearn.log_model(NBmodel, \"model\", registered_model_name=\"NaiveBayes\")\n",
        "        else:\n",
        "            mlflow.sklearn.log_model(NBmodel, \"model\")"
      ],
      "execution_count": null,
      "outputs": []
    }
  ]
}