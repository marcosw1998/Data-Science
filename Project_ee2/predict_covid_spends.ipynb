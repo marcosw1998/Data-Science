{
  "nbformat": 4,
  "nbformat_minor": 0,
  "metadata": {
    "colab": {
      "name": "covid_spends_brazil.ipynb",
      "provenance": [],
      "include_colab_link": true
    },
    "kernelspec": {
      "name": "python3",
      "display_name": "Python 3"
    }
  },
  "cells": [
    {
      "cell_type": "markdown",
      "metadata": {
        "id": "view-in-github",
        "colab_type": "text"
      },
      "source": [
        "<a href=\"https://colab.research.google.com/github/marcosw1998/Data-Science/blob/main-mwac/Project_ee2/predict_covid_spends.ipynb\" target=\"_parent\"><img src=\"https://colab.research.google.com/assets/colab-badge.svg\" alt=\"Open In Colab\"/></a>"
      ]
    },
    {
      "cell_type": "markdown",
      "metadata": {
        "id": "2RWUvaojnu30"
      },
      "source": [
        "# **Análise dos custos do governo de Pernambuco - BR em relação à Covid-19**\n",
        "* Projeto corresponde a entrega parcial para avaliação na cadeira eletiva IF697 - Intro. a Ciência dos Dados\n",
        "* Autores: Igor Silva e Marcos Cavalcanti\n",
        "* Conjunto de dados públicos retirados das seguintes fontes:\n",
        "  * [Portal da Transparência TCU](http://www.portaltransparencia.gov.br/coronavirus)\n",
        "  * [Prefeitura do Recife](http://dados.recife.pe.gov.br/dataset?tags=sa%C3%BAde)\n",
        "  * [Brasil.io](https://brasil.io/dataset/covid19/caso_full/)\n",
        "\n"
      ]
    },
    {
      "cell_type": "markdown",
      "metadata": {
        "id": "yMkF45UHR9sg"
      },
      "source": [
        "## **Por quê o tema?**\n",
        "\n",
        "* Interesse em entender e expor de forma clara os gastos públicos\n",
        "* Analisar distribuição de gastos\n",
        "* Covis-19 é um tema importante e merece muita atenção, pois tem feito muitas vítimas e mudado a forma como a sociedade pensa e se organiza\n",
        "* Entender a distribuição de gastos é uma boa forma de tentar corrigir erros e minimizar danos futuros na economia e na sociedade"
      ]
    },
    {
      "cell_type": "markdown",
      "metadata": {
        "id": "nUSfHSb5xbcu"
      },
      "source": [
        "## **Carregando as bibliotecas**\n",
        "\n",
        "  * Utilizaremos a biblioteca ***`Pandas`*** para trabalhar sobre os dados  e a biblioteca ***`Numpy`*** para operações sobre os datasets.\n",
        "  \n",
        "\n"
      ]
    },
    {
      "cell_type": "code",
      "metadata": {
        "id": "qSJ4OiBLyBUd"
      },
      "source": [
        "import numpy as np\n",
        "import pandas as pd\n",
        "import matplotlib.pyplot as plt\n",
        "import seaborn as sns; sns.set_theme()"
      ],
      "execution_count": 54,
      "outputs": []
    },
    {
      "cell_type": "markdown",
      "metadata": {
        "id": "UiU31eirNa9-"
      },
      "source": [
        "### Portal da transparência\n",
        "\n",
        "* O portal da transparência permite que sejam baixados apenas 1000 registros por vez, portanto decidimos por baixar 2 datasets diferentes e depois fazermos a junção. Os dados são referentes a algumas cidades de Pernambuco \n",
        "(Recife, Jaboatão, Olinda, Paulista, Caruaru, Garanhuns, Petrolina, Arcoverde, Serra Talhada, Buíque)"
      ]
    },
    {
      "cell_type": "code",
      "metadata": {
        "id": "P2LLyC3CNM-9"
      },
      "source": [
        "invest_covidPe = pd.read_csv(\"https://raw.githubusercontent.com/marcosw1998/Data-Science/main-mwac/Datasets/covid-pe.csv\",encoding = \"utf-8\")\n",
        "invest_covidPe2 = pd.read_csv(\"https://raw.githubusercontent.com/marcosw1998/Data-Science/main-mwac/Datasets/transferencias_coronavirus.csv\",encoding = \"utf-8\")"
      ],
      "execution_count": 55,
      "outputs": []
    },
    {
      "cell_type": "code",
      "metadata": {
        "colab": {
          "base_uri": "https://localhost:8080/",
          "height": 0
        },
        "id": "cw8ZAqtszcX-",
        "outputId": "20a31097-af2d-491d-c6d7-cab73e53c1a1"
      },
      "source": [
        "#Validando os dados do dataset invest_covidPe\n",
        "print('Dataset 1',invest_covidPe.shape)\n",
        "invest_covidPe.sort_values(\"Município\").head()"
      ],
      "execution_count": 56,
      "outputs": [
        {
          "output_type": "stream",
          "text": [
            "Dataset 1 (561, 12)\n"
          ],
          "name": "stdout"
        },
        {
          "output_type": "execute_result",
          "data": {
            "text/html": [
              "<div>\n",
              "<style scoped>\n",
              "    .dataframe tbody tr th:only-of-type {\n",
              "        vertical-align: middle;\n",
              "    }\n",
              "\n",
              "    .dataframe tbody tr th {\n",
              "        vertical-align: top;\n",
              "    }\n",
              "\n",
              "    .dataframe thead th {\n",
              "        text-align: right;\n",
              "    }\n",
              "</style>\n",
              "<table border=\"1\" class=\"dataframe\">\n",
              "  <thead>\n",
              "    <tr style=\"text-align: right;\">\n",
              "      <th></th>\n",
              "      <th>Mês/Ano</th>\n",
              "      <th>Tipo</th>\n",
              "      <th>Tipo de Favorecido</th>\n",
              "      <th>UF</th>\n",
              "      <th>Nome do Favorecido</th>\n",
              "      <th>CPF/CNPJ</th>\n",
              "      <th>Município</th>\n",
              "      <th>Função</th>\n",
              "      <th>Programa Orçamentário</th>\n",
              "      <th>Ação Orçamentária</th>\n",
              "      <th>Linguagem Cidadã</th>\n",
              "      <th>Valor Transferido</th>\n",
              "    </tr>\n",
              "  </thead>\n",
              "  <tbody>\n",
              "    <tr>\n",
              "      <th>182</th>\n",
              "      <td>nov/20</td>\n",
              "      <td>Legais. Voluntárias e Específicas</td>\n",
              "      <td>Fundo Público</td>\n",
              "      <td>PE</td>\n",
              "      <td>FUNDO MUNICIPAL DE SAUDE</td>\n",
              "      <td>11.371.082/0001-05</td>\n",
              "      <td>CARUARU</td>\n",
              "      <td>Saúde</td>\n",
              "      <td>ATENCAO ESPECIALIZADA A SAUDE</td>\n",
              "      <td>ENFRENTAMENTO DA EMERGENCIA DE SAUDE PUBLICA D...</td>\n",
              "      <td>Sem informação</td>\n",
              "      <td>486.515.00</td>\n",
              "    </tr>\n",
              "    <tr>\n",
              "      <th>178</th>\n",
              "      <td>nov/20</td>\n",
              "      <td>Legais. Voluntárias e Específicas</td>\n",
              "      <td>Entidades Sem Fins Lucrativos</td>\n",
              "      <td>PE</td>\n",
              "      <td>ASSOCICAO DE PAIS E MESTRES</td>\n",
              "      <td>11.252.224/0001-07</td>\n",
              "      <td>CARUARU</td>\n",
              "      <td>Educação</td>\n",
              "      <td>EDUCACAO BASICA DE QUALIDADE</td>\n",
              "      <td>DINHEIRO DIRETO NA ESCOLA PARA A EDUCACAO BASICA</td>\n",
              "      <td>PDDE</td>\n",
              "      <td>7.897.02</td>\n",
              "    </tr>\n",
              "    <tr>\n",
              "      <th>179</th>\n",
              "      <td>nov/20</td>\n",
              "      <td>Legais. Voluntárias e Específicas</td>\n",
              "      <td>Entidades Sem Fins Lucrativos</td>\n",
              "      <td>PE</td>\n",
              "      <td>CONSELHO ESCOLAR MARIA DO SOCORRO DE FREITAS</td>\n",
              "      <td>02.021.769/0001-11</td>\n",
              "      <td>CARUARU</td>\n",
              "      <td>Educação</td>\n",
              "      <td>EDUCACAO BASICA DE QUALIDADE</td>\n",
              "      <td>DINHEIRO DIRETO NA ESCOLA PARA A EDUCACAO BASICA</td>\n",
              "      <td>PDDE</td>\n",
              "      <td>2.837.48</td>\n",
              "    </tr>\n",
              "    <tr>\n",
              "      <th>87</th>\n",
              "      <td>nov/20</td>\n",
              "      <td>Legais. Voluntárias e Específicas</td>\n",
              "      <td>Entidades Sem Fins Lucrativos</td>\n",
              "      <td>PE</td>\n",
              "      <td>CONSELHO ESCOLAR DOM BERNARDINO MARCHIO</td>\n",
              "      <td>34.179.420/0001-07</td>\n",
              "      <td>CARUARU</td>\n",
              "      <td>Educação</td>\n",
              "      <td>EDUCACAO BASICA DE QUALIDADE</td>\n",
              "      <td>DINHEIRO DIRETO NA ESCOLA PARA A EDUCACAO BASICA</td>\n",
              "      <td>PDDE</td>\n",
              "      <td>8.427.56</td>\n",
              "    </tr>\n",
              "    <tr>\n",
              "      <th>181</th>\n",
              "      <td>nov/20</td>\n",
              "      <td>Legais. Voluntárias e Específicas</td>\n",
              "      <td>Entidades Sem Fins Lucrativos</td>\n",
              "      <td>PE</td>\n",
              "      <td>UNIDADE EXECUTORA MAJOR DR.SINVAL</td>\n",
              "      <td>11.441.171/0001-72</td>\n",
              "      <td>CARUARU</td>\n",
              "      <td>Educação</td>\n",
              "      <td>EDUCACAO BASICA DE QUALIDADE</td>\n",
              "      <td>DINHEIRO DIRETO NA ESCOLA PARA A EDUCACAO BASICA</td>\n",
              "      <td>PDDE</td>\n",
              "      <td>2.274.59</td>\n",
              "    </tr>\n",
              "  </tbody>\n",
              "</table>\n",
              "</div>"
            ],
            "text/plain": [
              "    Mês/Ano  ... Valor Transferido\n",
              "182  nov/20  ...        486.515.00\n",
              "178  nov/20  ...          7.897.02\n",
              "179  nov/20  ...          2.837.48\n",
              "87   nov/20  ...          8.427.56\n",
              "181  nov/20  ...          2.274.59\n",
              "\n",
              "[5 rows x 12 columns]"
            ]
          },
          "metadata": {
            "tags": []
          },
          "execution_count": 56
        }
      ]
    },
    {
      "cell_type": "code",
      "metadata": {
        "colab": {
          "base_uri": "https://localhost:8080/",
          "height": 0
        },
        "id": "GejXSMaUzemV",
        "outputId": "08886d1a-0e68-4b09-9645-cadd84dd8fe2"
      },
      "source": [
        "#Validando os dados do dataset invest_covidPe2\n",
        "print('Dataset 2',invest_covidPe2.shape)\n",
        "invest_covidPe2.sort_values(\"Município\").head()"
      ],
      "execution_count": 57,
      "outputs": [
        {
          "output_type": "stream",
          "text": [
            "Dataset 2 (140, 10)\n"
          ],
          "name": "stdout"
        },
        {
          "output_type": "execute_result",
          "data": {
            "text/html": [
              "<div>\n",
              "<style scoped>\n",
              "    .dataframe tbody tr th:only-of-type {\n",
              "        vertical-align: middle;\n",
              "    }\n",
              "\n",
              "    .dataframe tbody tr th {\n",
              "        vertical-align: top;\n",
              "    }\n",
              "\n",
              "    .dataframe thead th {\n",
              "        text-align: right;\n",
              "    }\n",
              "</style>\n",
              "<table border=\"1\" class=\"dataframe\">\n",
              "  <thead>\n",
              "    <tr style=\"text-align: right;\">\n",
              "      <th></th>\n",
              "      <th>Mês/Ano</th>\n",
              "      <th>Tipo</th>\n",
              "      <th>Ação Orçamentária</th>\n",
              "      <th>Programa Orçamentário</th>\n",
              "      <th>Função</th>\n",
              "      <th>Tipo de Favorecido</th>\n",
              "      <th>UF</th>\n",
              "      <th>Município</th>\n",
              "      <th>Valor Transferido</th>\n",
              "      <th>Unnamed: 9</th>\n",
              "    </tr>\n",
              "  </thead>\n",
              "  <tbody>\n",
              "    <tr>\n",
              "      <th>98</th>\n",
              "      <td>12/2020</td>\n",
              "      <td>Legais. Voluntárias e Específicas</td>\n",
              "      <td>21C0 - ENFRENTAMENTO DA EMERGENCIA DE SAUDE PU...</td>\n",
              "      <td>ATENCAO ESPECIALIZADA A SAUDE</td>\n",
              "      <td>10 - Saúde</td>\n",
              "      <td>Fundo Público</td>\n",
              "      <td>PE</td>\n",
              "      <td>ARCOVERDE</td>\n",
              "      <td>R$ 134.639.00</td>\n",
              "      <td>NaN</td>\n",
              "    </tr>\n",
              "    <tr>\n",
              "      <th>41</th>\n",
              "      <td>05/2020</td>\n",
              "      <td>Legais. Voluntárias e Específicas</td>\n",
              "      <td>21C0 - ENFRENTAMENTO DA EMERGENCIA DE SAUDE PU...</td>\n",
              "      <td>PROTECAO SOCIAL NO AMBITO DO SISTEMA UNICO DE ...</td>\n",
              "      <td>08 - Assistência social</td>\n",
              "      <td>Fundo Público</td>\n",
              "      <td>PE</td>\n",
              "      <td>ARCOVERDE</td>\n",
              "      <td>R$ 470.809.62</td>\n",
              "      <td>NaN</td>\n",
              "    </tr>\n",
              "    <tr>\n",
              "      <th>42</th>\n",
              "      <td>11/2020</td>\n",
              "      <td>Legais. Voluntárias e Específicas</td>\n",
              "      <td>21C0 - ENFRENTAMENTO DA EMERGENCIA DE SAUDE PU...</td>\n",
              "      <td>ATENCAO ESPECIALIZADA A SAUDE</td>\n",
              "      <td>10 - Saúde</td>\n",
              "      <td>Fundo Público</td>\n",
              "      <td>PE</td>\n",
              "      <td>ARCOVERDE</td>\n",
              "      <td>R$ 355.594.00</td>\n",
              "      <td>NaN</td>\n",
              "    </tr>\n",
              "    <tr>\n",
              "      <th>32</th>\n",
              "      <td>04/2020</td>\n",
              "      <td>Legais. Voluntárias e Específicas</td>\n",
              "      <td>21C0 - ENFRENTAMENTO DA EMERGENCIA DE SAUDE PU...</td>\n",
              "      <td>ATENCAO ESPECIALIZADA A SAUDE</td>\n",
              "      <td>10 - Saúde</td>\n",
              "      <td>Fundo Público</td>\n",
              "      <td>PE</td>\n",
              "      <td>ARCOVERDE</td>\n",
              "      <td>R$ 761.895.71</td>\n",
              "      <td>NaN</td>\n",
              "    </tr>\n",
              "    <tr>\n",
              "      <th>56</th>\n",
              "      <td>08/2020</td>\n",
              "      <td>Legais. Voluntárias e Específicas</td>\n",
              "      <td>21C0 - ENFRENTAMENTO DA EMERGENCIA DE SAUDE PU...</td>\n",
              "      <td>PROTECAO SOCIAL NO AMBITO DO SISTEMA UNICO DE ...</td>\n",
              "      <td>08 - Assistência social</td>\n",
              "      <td>Fundo Público</td>\n",
              "      <td>PE</td>\n",
              "      <td>ARCOVERDE</td>\n",
              "      <td>R$ 218.971.54</td>\n",
              "      <td>NaN</td>\n",
              "    </tr>\n",
              "  </tbody>\n",
              "</table>\n",
              "</div>"
            ],
            "text/plain": [
              "    Mês/Ano                               Tipo  ... Valor Transferido Unnamed: 9\n",
              "98  12/2020  Legais. Voluntárias e Específicas  ...     R$ 134.639.00        NaN\n",
              "41  05/2020  Legais. Voluntárias e Específicas  ...     R$ 470.809.62        NaN\n",
              "42  11/2020  Legais. Voluntárias e Específicas  ...     R$ 355.594.00        NaN\n",
              "32  04/2020  Legais. Voluntárias e Específicas  ...     R$ 761.895.71        NaN\n",
              "56  08/2020  Legais. Voluntárias e Específicas  ...     R$ 218.971.54        NaN\n",
              "\n",
              "[5 rows x 10 columns]"
            ]
          },
          "metadata": {
            "tags": []
          },
          "execution_count": 57
        }
      ]
    },
    {
      "cell_type": "markdown",
      "metadata": {
        "id": "b66iBYRL0hxm"
      },
      "source": [
        "*Podemos perceber que o Dataset **invest_covidPe** possui mais colunas que o Dataset **invest_covidPe2**.  Também notamos que o Dataset invest_covidPe2 possui uma coluna com dados Nan, vamos tratar disso no pré processamento antes de fazer a concatenação dos dois Datasets*"
      ]
    },
    {
      "cell_type": "markdown",
      "metadata": {
        "id": "k18Rwe8eNlNe"
      },
      "source": [
        "### Dados abertos - Prefeitura do Recife"
      ]
    },
    {
      "cell_type": "code",
      "metadata": {
        "id": "3s88zVuSNt_V"
      },
      "source": [
        "import requests\n",
        "\n",
        "dados_pref_rmr = requests.get(\"http://dados.recife.pe.gov.br/dataset/6c77a814-7161-4eb5-9662-234642dc8cc1/resource/63376b8c-0271-42eb-a88b-cc75c1c3f3fc/download/metadados-hospitais.json\").json()"
      ],
      "execution_count": 58,
      "outputs": []
    },
    {
      "cell_type": "markdown",
      "metadata": {
        "id": "MHqgJ0_e9dUa"
      },
      "source": [
        "### Dados de casos de Covid-19 por todo o estado de Pernambuco. \n",
        "Os valores estão atualizados até o dia 17/03/2021 e foram buscados através do Brasil.io"
      ]
    },
    {
      "cell_type": "code",
      "metadata": {
        "colab": {
          "base_uri": "https://localhost:8080/",
          "height": 0
        },
        "id": "tnkNhxpK9_EJ",
        "outputId": "6f5bf974-3f64-42ff-eb6f-7b170dec5995"
      },
      "source": [
        "covidPeCases = pd.read_csv(\"https://raw.githubusercontent.com/marcosw1998/Data-Science/main-mwac/Datasets/covid19-1703-casos.csv\",encoding = \"utf-8\")\n",
        "print(covidPeCases.shape)\n",
        "covidPeCases.sort_values(\"city\").head()"
      ],
      "execution_count": 59,
      "outputs": [
        {
          "output_type": "stream",
          "text": [
            "(187, 16)\n"
          ],
          "name": "stdout"
        },
        {
          "output_type": "execute_result",
          "data": {
            "text/html": [
              "<div>\n",
              "<style scoped>\n",
              "    .dataframe tbody tr th:only-of-type {\n",
              "        vertical-align: middle;\n",
              "    }\n",
              "\n",
              "    .dataframe tbody tr th {\n",
              "        vertical-align: top;\n",
              "    }\n",
              "\n",
              "    .dataframe thead th {\n",
              "        text-align: right;\n",
              "    }\n",
              "</style>\n",
              "<table border=\"1\" class=\"dataframe\">\n",
              "  <thead>\n",
              "    <tr style=\"text-align: right;\">\n",
              "      <th></th>\n",
              "      <th>epidemiological_week</th>\n",
              "      <th>date</th>\n",
              "      <th>order_for_place</th>\n",
              "      <th>state</th>\n",
              "      <th>city</th>\n",
              "      <th>city_ibge_code</th>\n",
              "      <th>place_type</th>\n",
              "      <th>last_available_confirmed</th>\n",
              "      <th>last_available_confirmed_per_100k_inhabitants</th>\n",
              "      <th>new_confirmed</th>\n",
              "      <th>last_available_deaths</th>\n",
              "      <th>new_deaths</th>\n",
              "      <th>last_available_death_rate</th>\n",
              "      <th>estimated_population</th>\n",
              "      <th>is_last</th>\n",
              "      <th>is_repeated</th>\n",
              "    </tr>\n",
              "  </thead>\n",
              "  <tbody>\n",
              "    <tr>\n",
              "      <th>1</th>\n",
              "      <td>202111</td>\n",
              "      <td>2021-03-15</td>\n",
              "      <td>341</td>\n",
              "      <td>PE</td>\n",
              "      <td>Abreu e Lima</td>\n",
              "      <td>2600054.0</td>\n",
              "      <td>city</td>\n",
              "      <td>1700</td>\n",
              "      <td>1694.13828</td>\n",
              "      <td>8</td>\n",
              "      <td>159</td>\n",
              "      <td>1</td>\n",
              "      <td>0.0935</td>\n",
              "      <td>100346.0</td>\n",
              "      <td>True</td>\n",
              "      <td>False</td>\n",
              "    </tr>\n",
              "    <tr>\n",
              "      <th>2</th>\n",
              "      <td>202111</td>\n",
              "      <td>2021-03-15</td>\n",
              "      <td>321</td>\n",
              "      <td>PE</td>\n",
              "      <td>Afogados da Ingazeira</td>\n",
              "      <td>2600104.0</td>\n",
              "      <td>city</td>\n",
              "      <td>2478</td>\n",
              "      <td>6624.95990</td>\n",
              "      <td>1</td>\n",
              "      <td>35</td>\n",
              "      <td>0</td>\n",
              "      <td>0.0141</td>\n",
              "      <td>37404.0</td>\n",
              "      <td>True</td>\n",
              "      <td>False</td>\n",
              "    </tr>\n",
              "    <tr>\n",
              "      <th>3</th>\n",
              "      <td>202111</td>\n",
              "      <td>2021-03-15</td>\n",
              "      <td>321</td>\n",
              "      <td>PE</td>\n",
              "      <td>Afrânio</td>\n",
              "      <td>2600203.0</td>\n",
              "      <td>city</td>\n",
              "      <td>578</td>\n",
              "      <td>2917.71832</td>\n",
              "      <td>0</td>\n",
              "      <td>9</td>\n",
              "      <td>0</td>\n",
              "      <td>0.0156</td>\n",
              "      <td>19810.0</td>\n",
              "      <td>True</td>\n",
              "      <td>False</td>\n",
              "    </tr>\n",
              "    <tr>\n",
              "      <th>4</th>\n",
              "      <td>202111</td>\n",
              "      <td>2021-03-15</td>\n",
              "      <td>326</td>\n",
              "      <td>PE</td>\n",
              "      <td>Agrestina</td>\n",
              "      <td>2600302.0</td>\n",
              "      <td>city</td>\n",
              "      <td>865</td>\n",
              "      <td>3451.02733</td>\n",
              "      <td>2</td>\n",
              "      <td>36</td>\n",
              "      <td>0</td>\n",
              "      <td>0.0416</td>\n",
              "      <td>25065.0</td>\n",
              "      <td>True</td>\n",
              "      <td>False</td>\n",
              "    </tr>\n",
              "    <tr>\n",
              "      <th>7</th>\n",
              "      <td>202111</td>\n",
              "      <td>2021-03-15</td>\n",
              "      <td>331</td>\n",
              "      <td>PE</td>\n",
              "      <td>Alagoinha</td>\n",
              "      <td>2600609.0</td>\n",
              "      <td>city</td>\n",
              "      <td>443</td>\n",
              "      <td>3009.91983</td>\n",
              "      <td>0</td>\n",
              "      <td>13</td>\n",
              "      <td>0</td>\n",
              "      <td>0.0293</td>\n",
              "      <td>14718.0</td>\n",
              "      <td>True</td>\n",
              "      <td>False</td>\n",
              "    </tr>\n",
              "  </tbody>\n",
              "</table>\n",
              "</div>"
            ],
            "text/plain": [
              "   epidemiological_week        date  ...  is_last is_repeated\n",
              "1                202111  2021-03-15  ...     True       False\n",
              "2                202111  2021-03-15  ...     True       False\n",
              "3                202111  2021-03-15  ...     True       False\n",
              "4                202111  2021-03-15  ...     True       False\n",
              "7                202111  2021-03-15  ...     True       False\n",
              "\n",
              "[5 rows x 16 columns]"
            ]
          },
          "metadata": {
            "tags": []
          },
          "execution_count": 59
        }
      ]
    },
    {
      "cell_type": "markdown",
      "metadata": {
        "id": "d_488MvPT4fM"
      },
      "source": [
        "## **Pré Processamento**\n",
        "  * Junção de datasets em Dataframe Pandas\n",
        "  * Tratamento de dados ```NaN```/```null``` ou corrompidos\n",
        "  * Conversão de tipos\n",
        "  * Transformação e identificação de dados categóricos\n",
        "  * Remoção de ***Outliers*** Multivariado"
      ]
    },
    {
      "cell_type": "markdown",
      "metadata": {
        "id": "XmQ22okDAROC"
      },
      "source": [
        "### **Tratamento dos dados de Gastos Públicos**"
      ]
    },
    {
      "cell_type": "markdown",
      "metadata": {
        "id": "Z_zX_wkQvbE5"
      },
      "source": [
        "> Remoção colunas que não fazem parte do dataset invest_covidPe2 e que não influem sobre os nossos estudos (Nome do favorecido, CPF/CNPJ, Linguagem Cidadã)\n",
        "\n",
        ">```invest_covidPe = invest_covidPe.dropna(axis=1, how='all')```"
      ]
    },
    {
      "cell_type": "code",
      "metadata": {
        "id": "Bm39ZTwf2Gal",
        "colab": {
          "base_uri": "https://localhost:8080/",
          "height": 296
        },
        "outputId": "242f34b2-3f56-4017-cae8-43df3f1937b7"
      },
      "source": [
        "cols = [4,5,10]\n",
        "invest_covidPe.drop(invest_covidPe.columns[cols],axis=1,inplace=True)\n",
        "invest_covidPe.sort_values(\"Município\").head()"
      ],
      "execution_count": 60,
      "outputs": [
        {
          "output_type": "execute_result",
          "data": {
            "text/html": [
              "<div>\n",
              "<style scoped>\n",
              "    .dataframe tbody tr th:only-of-type {\n",
              "        vertical-align: middle;\n",
              "    }\n",
              "\n",
              "    .dataframe tbody tr th {\n",
              "        vertical-align: top;\n",
              "    }\n",
              "\n",
              "    .dataframe thead th {\n",
              "        text-align: right;\n",
              "    }\n",
              "</style>\n",
              "<table border=\"1\" class=\"dataframe\">\n",
              "  <thead>\n",
              "    <tr style=\"text-align: right;\">\n",
              "      <th></th>\n",
              "      <th>Mês/Ano</th>\n",
              "      <th>Tipo</th>\n",
              "      <th>Tipo de Favorecido</th>\n",
              "      <th>UF</th>\n",
              "      <th>Município</th>\n",
              "      <th>Função</th>\n",
              "      <th>Programa Orçamentário</th>\n",
              "      <th>Ação Orçamentária</th>\n",
              "      <th>Valor Transferido</th>\n",
              "    </tr>\n",
              "  </thead>\n",
              "  <tbody>\n",
              "    <tr>\n",
              "      <th>182</th>\n",
              "      <td>nov/20</td>\n",
              "      <td>Legais. Voluntárias e Específicas</td>\n",
              "      <td>Fundo Público</td>\n",
              "      <td>PE</td>\n",
              "      <td>CARUARU</td>\n",
              "      <td>Saúde</td>\n",
              "      <td>ATENCAO ESPECIALIZADA A SAUDE</td>\n",
              "      <td>ENFRENTAMENTO DA EMERGENCIA DE SAUDE PUBLICA D...</td>\n",
              "      <td>486.515.00</td>\n",
              "    </tr>\n",
              "    <tr>\n",
              "      <th>178</th>\n",
              "      <td>nov/20</td>\n",
              "      <td>Legais. Voluntárias e Específicas</td>\n",
              "      <td>Entidades Sem Fins Lucrativos</td>\n",
              "      <td>PE</td>\n",
              "      <td>CARUARU</td>\n",
              "      <td>Educação</td>\n",
              "      <td>EDUCACAO BASICA DE QUALIDADE</td>\n",
              "      <td>DINHEIRO DIRETO NA ESCOLA PARA A EDUCACAO BASICA</td>\n",
              "      <td>7.897.02</td>\n",
              "    </tr>\n",
              "    <tr>\n",
              "      <th>179</th>\n",
              "      <td>nov/20</td>\n",
              "      <td>Legais. Voluntárias e Específicas</td>\n",
              "      <td>Entidades Sem Fins Lucrativos</td>\n",
              "      <td>PE</td>\n",
              "      <td>CARUARU</td>\n",
              "      <td>Educação</td>\n",
              "      <td>EDUCACAO BASICA DE QUALIDADE</td>\n",
              "      <td>DINHEIRO DIRETO NA ESCOLA PARA A EDUCACAO BASICA</td>\n",
              "      <td>2.837.48</td>\n",
              "    </tr>\n",
              "    <tr>\n",
              "      <th>87</th>\n",
              "      <td>nov/20</td>\n",
              "      <td>Legais. Voluntárias e Específicas</td>\n",
              "      <td>Entidades Sem Fins Lucrativos</td>\n",
              "      <td>PE</td>\n",
              "      <td>CARUARU</td>\n",
              "      <td>Educação</td>\n",
              "      <td>EDUCACAO BASICA DE QUALIDADE</td>\n",
              "      <td>DINHEIRO DIRETO NA ESCOLA PARA A EDUCACAO BASICA</td>\n",
              "      <td>8.427.56</td>\n",
              "    </tr>\n",
              "    <tr>\n",
              "      <th>181</th>\n",
              "      <td>nov/20</td>\n",
              "      <td>Legais. Voluntárias e Específicas</td>\n",
              "      <td>Entidades Sem Fins Lucrativos</td>\n",
              "      <td>PE</td>\n",
              "      <td>CARUARU</td>\n",
              "      <td>Educação</td>\n",
              "      <td>EDUCACAO BASICA DE QUALIDADE</td>\n",
              "      <td>DINHEIRO DIRETO NA ESCOLA PARA A EDUCACAO BASICA</td>\n",
              "      <td>2.274.59</td>\n",
              "    </tr>\n",
              "  </tbody>\n",
              "</table>\n",
              "</div>"
            ],
            "text/plain": [
              "    Mês/Ano  ... Valor Transferido\n",
              "182  nov/20  ...        486.515.00\n",
              "178  nov/20  ...          7.897.02\n",
              "179  nov/20  ...          2.837.48\n",
              "87   nov/20  ...          8.427.56\n",
              "181  nov/20  ...          2.274.59\n",
              "\n",
              "[5 rows x 9 columns]"
            ]
          },
          "metadata": {
            "tags": []
          },
          "execution_count": 60
        }
      ]
    },
    {
      "cell_type": "markdown",
      "metadata": {
        "id": "6N8rcAp0vr6I"
      },
      "source": [
        "> Remoção coluna que tem todos os valores Nan"
      ]
    },
    {
      "cell_type": "code",
      "metadata": {
        "colab": {
          "base_uri": "https://localhost:8080/",
          "height": 296
        },
        "id": "GVumFyH60Byd",
        "outputId": "38d947dc-9f4d-454b-dd1a-1c83bbf46d66"
      },
      "source": [
        "invest_covidPe2.dropna(axis=1, how='all',inplace=True)\n",
        "invest_covidPe2.sort_values(\"Município\").head()"
      ],
      "execution_count": 61,
      "outputs": [
        {
          "output_type": "execute_result",
          "data": {
            "text/html": [
              "<div>\n",
              "<style scoped>\n",
              "    .dataframe tbody tr th:only-of-type {\n",
              "        vertical-align: middle;\n",
              "    }\n",
              "\n",
              "    .dataframe tbody tr th {\n",
              "        vertical-align: top;\n",
              "    }\n",
              "\n",
              "    .dataframe thead th {\n",
              "        text-align: right;\n",
              "    }\n",
              "</style>\n",
              "<table border=\"1\" class=\"dataframe\">\n",
              "  <thead>\n",
              "    <tr style=\"text-align: right;\">\n",
              "      <th></th>\n",
              "      <th>Mês/Ano</th>\n",
              "      <th>Tipo</th>\n",
              "      <th>Ação Orçamentária</th>\n",
              "      <th>Programa Orçamentário</th>\n",
              "      <th>Função</th>\n",
              "      <th>Tipo de Favorecido</th>\n",
              "      <th>UF</th>\n",
              "      <th>Município</th>\n",
              "      <th>Valor Transferido</th>\n",
              "    </tr>\n",
              "  </thead>\n",
              "  <tbody>\n",
              "    <tr>\n",
              "      <th>98</th>\n",
              "      <td>12/2020</td>\n",
              "      <td>Legais. Voluntárias e Específicas</td>\n",
              "      <td>21C0 - ENFRENTAMENTO DA EMERGENCIA DE SAUDE PU...</td>\n",
              "      <td>ATENCAO ESPECIALIZADA A SAUDE</td>\n",
              "      <td>10 - Saúde</td>\n",
              "      <td>Fundo Público</td>\n",
              "      <td>PE</td>\n",
              "      <td>ARCOVERDE</td>\n",
              "      <td>R$ 134.639.00</td>\n",
              "    </tr>\n",
              "    <tr>\n",
              "      <th>41</th>\n",
              "      <td>05/2020</td>\n",
              "      <td>Legais. Voluntárias e Específicas</td>\n",
              "      <td>21C0 - ENFRENTAMENTO DA EMERGENCIA DE SAUDE PU...</td>\n",
              "      <td>PROTECAO SOCIAL NO AMBITO DO SISTEMA UNICO DE ...</td>\n",
              "      <td>08 - Assistência social</td>\n",
              "      <td>Fundo Público</td>\n",
              "      <td>PE</td>\n",
              "      <td>ARCOVERDE</td>\n",
              "      <td>R$ 470.809.62</td>\n",
              "    </tr>\n",
              "    <tr>\n",
              "      <th>42</th>\n",
              "      <td>11/2020</td>\n",
              "      <td>Legais. Voluntárias e Específicas</td>\n",
              "      <td>21C0 - ENFRENTAMENTO DA EMERGENCIA DE SAUDE PU...</td>\n",
              "      <td>ATENCAO ESPECIALIZADA A SAUDE</td>\n",
              "      <td>10 - Saúde</td>\n",
              "      <td>Fundo Público</td>\n",
              "      <td>PE</td>\n",
              "      <td>ARCOVERDE</td>\n",
              "      <td>R$ 355.594.00</td>\n",
              "    </tr>\n",
              "    <tr>\n",
              "      <th>32</th>\n",
              "      <td>04/2020</td>\n",
              "      <td>Legais. Voluntárias e Específicas</td>\n",
              "      <td>21C0 - ENFRENTAMENTO DA EMERGENCIA DE SAUDE PU...</td>\n",
              "      <td>ATENCAO ESPECIALIZADA A SAUDE</td>\n",
              "      <td>10 - Saúde</td>\n",
              "      <td>Fundo Público</td>\n",
              "      <td>PE</td>\n",
              "      <td>ARCOVERDE</td>\n",
              "      <td>R$ 761.895.71</td>\n",
              "    </tr>\n",
              "    <tr>\n",
              "      <th>56</th>\n",
              "      <td>08/2020</td>\n",
              "      <td>Legais. Voluntárias e Específicas</td>\n",
              "      <td>21C0 - ENFRENTAMENTO DA EMERGENCIA DE SAUDE PU...</td>\n",
              "      <td>PROTECAO SOCIAL NO AMBITO DO SISTEMA UNICO DE ...</td>\n",
              "      <td>08 - Assistência social</td>\n",
              "      <td>Fundo Público</td>\n",
              "      <td>PE</td>\n",
              "      <td>ARCOVERDE</td>\n",
              "      <td>R$ 218.971.54</td>\n",
              "    </tr>\n",
              "  </tbody>\n",
              "</table>\n",
              "</div>"
            ],
            "text/plain": [
              "    Mês/Ano                               Tipo  ...  Município Valor Transferido\n",
              "98  12/2020  Legais. Voluntárias e Específicas  ...  ARCOVERDE     R$ 134.639.00\n",
              "41  05/2020  Legais. Voluntárias e Específicas  ...  ARCOVERDE     R$ 470.809.62\n",
              "42  11/2020  Legais. Voluntárias e Específicas  ...  ARCOVERDE     R$ 355.594.00\n",
              "32  04/2020  Legais. Voluntárias e Específicas  ...  ARCOVERDE     R$ 761.895.71\n",
              "56  08/2020  Legais. Voluntárias e Específicas  ...  ARCOVERDE     R$ 218.971.54\n",
              "\n",
              "[5 rows x 9 columns]"
            ]
          },
          "metadata": {
            "tags": []
          },
          "execution_count": 61
        }
      ]
    },
    {
      "cell_type": "markdown",
      "metadata": {
        "id": "99zLupirv68U"
      },
      "source": [
        "> Retirando prefixo numérico e caracteres especiais dos valores da categoria 'Função'"
      ]
    },
    {
      "cell_type": "code",
      "metadata": {
        "colab": {
          "base_uri": "https://localhost:8080/"
        },
        "id": "7GzOsUIXwOR5",
        "outputId": "98bdd8eb-a865-4a4d-8745-5b3ad2e3679e"
      },
      "source": [
        "invest_covidPe_funcao = invest_covidPe2['Função'].map(lambda words: str(words[5:]))\n",
        "invest_covidPe2['Função'].update(invest_covidPe_funcao)\n",
        "invest_covidPe2['Função'].unique()"
      ],
      "execution_count": 62,
      "outputs": [
        {
          "output_type": "execute_result",
          "data": {
            "text/plain": [
              "array(['Educação', 'Saúde', 'Assistência social', 'Ciência e Tecnologia'],\n",
              "      dtype=object)"
            ]
          },
          "metadata": {
            "tags": []
          },
          "execution_count": 62
        }
      ]
    },
    {
      "cell_type": "markdown",
      "metadata": {
        "id": "-TdcJdxuwD_A"
      },
      "source": [
        "> Confirmando que as colunas foram removidas e agora os 2 datasets possuem a mesma quantidade de colunas"
      ]
    },
    {
      "cell_type": "code",
      "metadata": {
        "colab": {
          "base_uri": "https://localhost:8080/"
        },
        "id": "o61JK1_h1G8W",
        "outputId": "34a100b4-4138-45e8-a827-0b129fb665f7"
      },
      "source": [
        "print('Dataset 1',invest_covidPe.shape)\n",
        "print('Dataset 2',invest_covidPe2.shape)"
      ],
      "execution_count": 63,
      "outputs": [
        {
          "output_type": "stream",
          "text": [
            "Dataset 1 (561, 9)\n",
            "Dataset 2 (140, 9)\n"
          ],
          "name": "stdout"
        }
      ]
    },
    {
      "cell_type": "markdown",
      "metadata": {
        "id": "6V0neP-zwIMQ"
      },
      "source": [
        "> Fazendo a concatenação dos Dataframes, o resultado final de linhas é igual ao somatório de linhas entre ambos os Datasets"
      ]
    },
    {
      "cell_type": "code",
      "metadata": {
        "id": "qjEsiHCQ5lfM"
      },
      "source": [
        "invest_covidPe = invest_covidPe.append(invest_covidPe2, ignore_index=True)"
      ],
      "execution_count": 64,
      "outputs": []
    },
    {
      "cell_type": "markdown",
      "metadata": {
        "id": "yKGKHzT0wND5"
      },
      "source": [
        "> Filtragem de gastos com a saúde e retirada das colunas **Tipo**, **UF**, **Programa Orçamentário** e **Função** por não conterem dados variados."
      ]
    },
    {
      "cell_type": "code",
      "metadata": {
        "colab": {
          "base_uri": "https://localhost:8080/"
        },
        "id": "mc0FuaYqxzNQ",
        "outputId": "63db1e0f-2ad7-4694-dceb-5baa013344a0"
      },
      "source": [
        "len(invest_covidPe2['Tipo de Favorecido'].unique())"
      ],
      "execution_count": 71,
      "outputs": [
        {
          "output_type": "execute_result",
          "data": {
            "text/plain": [
              "3"
            ]
          },
          "metadata": {
            "tags": []
          },
          "execution_count": 71
        }
      ]
    },
    {
      "cell_type": "code",
      "metadata": {
        "colab": {
          "base_uri": "https://localhost:8080/",
          "height": 586
        },
        "id": "OeYOe0orylcX",
        "outputId": "c4cf4210-9d6e-4a8c-c8a2-287a0c49b889"
      },
      "source": [
        "# Drop colunas com valores unitários\n",
        "\n",
        "invest_covidPe.drop({'Tipo',\\\n",
        "                     'UF',\\\n",
        "                     'Ação Orçamentária'},\\\n",
        "                    axis=1,\\\n",
        "                    inplace=True \\\n",
        "                    )\n",
        "invest_covidPe"
      ],
      "execution_count": 69,
      "outputs": [
        {
          "output_type": "execute_result",
          "data": {
            "text/html": [
              "<div>\n",
              "<style scoped>\n",
              "    .dataframe tbody tr th:only-of-type {\n",
              "        vertical-align: middle;\n",
              "    }\n",
              "\n",
              "    .dataframe tbody tr th {\n",
              "        vertical-align: top;\n",
              "    }\n",
              "\n",
              "    .dataframe thead th {\n",
              "        text-align: right;\n",
              "    }\n",
              "</style>\n",
              "<table border=\"1\" class=\"dataframe\">\n",
              "  <thead>\n",
              "    <tr style=\"text-align: right;\">\n",
              "      <th></th>\n",
              "      <th>Mês/Ano</th>\n",
              "      <th>Tipo de Favorecido</th>\n",
              "      <th>Município</th>\n",
              "      <th>Função</th>\n",
              "      <th>Programa Orçamentário</th>\n",
              "      <th>Ação Orçamentária</th>\n",
              "      <th>Valor Transferido</th>\n",
              "    </tr>\n",
              "  </thead>\n",
              "  <tbody>\n",
              "    <tr>\n",
              "      <th>0</th>\n",
              "      <td>mar/20</td>\n",
              "      <td>Fundo Público</td>\n",
              "      <td>RECIFE</td>\n",
              "      <td>Saúde</td>\n",
              "      <td>ATENCAO ESPECIALIZADA A SAUDE</td>\n",
              "      <td>ENFRENTAMENTO DA EMERGENCIA DE SAUDE PUBLICA D...</td>\n",
              "      <td>60.000.00</td>\n",
              "    </tr>\n",
              "    <tr>\n",
              "      <th>1</th>\n",
              "      <td>abr/20</td>\n",
              "      <td>Fundo Público</td>\n",
              "      <td>GARANHUNS</td>\n",
              "      <td>Saúde</td>\n",
              "      <td>ATENCAO ESPECIALIZADA A SAUDE</td>\n",
              "      <td>ENFRENTAMENTO DA EMERGENCIA DE SAUDE PUBLICA D...</td>\n",
              "      <td>1.174.944.27</td>\n",
              "    </tr>\n",
              "    <tr>\n",
              "      <th>2</th>\n",
              "      <td>abr/20</td>\n",
              "      <td>Fundo Público</td>\n",
              "      <td>PETROLINA</td>\n",
              "      <td>Saúde</td>\n",
              "      <td>ATENCAO ESPECIALIZADA A SAUDE</td>\n",
              "      <td>ENFRENTAMENTO DA EMERGENCIA DE SAUDE PUBLICA D...</td>\n",
              "      <td>4.130.446.89</td>\n",
              "    </tr>\n",
              "    <tr>\n",
              "      <th>3</th>\n",
              "      <td>abr/20</td>\n",
              "      <td>Fundo Público</td>\n",
              "      <td>OLINDA</td>\n",
              "      <td>Saúde</td>\n",
              "      <td>ATENCAO ESPECIALIZADA A SAUDE</td>\n",
              "      <td>ENFRENTAMENTO DA EMERGENCIA DE SAUDE PUBLICA D...</td>\n",
              "      <td>3.830.136.03</td>\n",
              "    </tr>\n",
              "    <tr>\n",
              "      <th>4</th>\n",
              "      <td>abr/20</td>\n",
              "      <td>Fundo Público</td>\n",
              "      <td>CARUARU</td>\n",
              "      <td>Saúde</td>\n",
              "      <td>ATENCAO ESPECIALIZADA A SAUDE</td>\n",
              "      <td>ENFRENTAMENTO DA EMERGENCIA DE SAUDE PUBLICA D...</td>\n",
              "      <td>3.662.675.00</td>\n",
              "    </tr>\n",
              "    <tr>\n",
              "      <th>...</th>\n",
              "      <td>...</td>\n",
              "      <td>...</td>\n",
              "      <td>...</td>\n",
              "      <td>...</td>\n",
              "      <td>...</td>\n",
              "      <td>...</td>\n",
              "      <td>...</td>\n",
              "    </tr>\n",
              "    <tr>\n",
              "      <th>696</th>\n",
              "      <td>04/2020</td>\n",
              "      <td>Fundo Público</td>\n",
              "      <td>JABOATÃO DOS GUARARAPES</td>\n",
              "      <td>Saúde</td>\n",
              "      <td>ATENCAO ESPECIALIZADA A SAUDE</td>\n",
              "      <td>21C0 - ENFRENTAMENTO DA EMERGENCIA DE SAUDE PU...</td>\n",
              "      <td>R$ 7.327.021.87</td>\n",
              "    </tr>\n",
              "    <tr>\n",
              "      <th>697</th>\n",
              "      <td>10/2020</td>\n",
              "      <td>Fundo Público</td>\n",
              "      <td>RECIFE</td>\n",
              "      <td>Saúde</td>\n",
              "      <td>ATENCAO ESPECIALIZADA A SAUDE</td>\n",
              "      <td>21C0 - ENFRENTAMENTO DA EMERGENCIA DE SAUDE PU...</td>\n",
              "      <td>R$ 3.500.000.00</td>\n",
              "    </tr>\n",
              "    <tr>\n",
              "      <th>698</th>\n",
              "      <td>07/2020</td>\n",
              "      <td>Fundo Público</td>\n",
              "      <td>PETROLINA</td>\n",
              "      <td>Saúde</td>\n",
              "      <td>ATENCAO ESPECIALIZADA A SAUDE</td>\n",
              "      <td>21C0 - ENFRENTAMENTO DA EMERGENCIA DE SAUDE PU...</td>\n",
              "      <td>R$ 8.676.053.00</td>\n",
              "    </tr>\n",
              "    <tr>\n",
              "      <th>699</th>\n",
              "      <td>07/2020</td>\n",
              "      <td>Fundo Público</td>\n",
              "      <td>BUÍQUE</td>\n",
              "      <td>Saúde</td>\n",
              "      <td>ATENCAO ESPECIALIZADA A SAUDE</td>\n",
              "      <td>21C0 - ENFRENTAMENTO DA EMERGENCIA DE SAUDE PU...</td>\n",
              "      <td>R$ 1.850.000.00</td>\n",
              "    </tr>\n",
              "    <tr>\n",
              "      <th>700</th>\n",
              "      <td>08/2020</td>\n",
              "      <td>Fundo Público</td>\n",
              "      <td>PETROLINA</td>\n",
              "      <td>Assistência social</td>\n",
              "      <td>PROTECAO SOCIAL NO AMBITO DO SISTEMA UNICO DE ...</td>\n",
              "      <td>21C0 - ENFRENTAMENTO DA EMERGENCIA DE SAUDE PU...</td>\n",
              "      <td>R$ 516.875.60</td>\n",
              "    </tr>\n",
              "  </tbody>\n",
              "</table>\n",
              "<p>701 rows × 7 columns</p>\n",
              "</div>"
            ],
            "text/plain": [
              "     Mês/Ano  ... Valor Transferido\n",
              "0     mar/20  ...         60.000.00\n",
              "1     abr/20  ...      1.174.944.27\n",
              "2     abr/20  ...      4.130.446.89\n",
              "3     abr/20  ...      3.830.136.03\n",
              "4     abr/20  ...      3.662.675.00\n",
              "..       ...  ...               ...\n",
              "696  04/2020  ...   R$ 7.327.021.87\n",
              "697  10/2020  ...   R$ 3.500.000.00\n",
              "698  07/2020  ...   R$ 8.676.053.00\n",
              "699  07/2020  ...   R$ 1.850.000.00\n",
              "700  08/2020  ...     R$ 516.875.60\n",
              "\n",
              "[701 rows x 7 columns]"
            ]
          },
          "metadata": {
            "tags": []
          },
          "execution_count": 69
        }
      ]
    },
    {
      "cell_type": "markdown",
      "metadata": {
        "id": "0jzo9tpl4FTr"
      },
      "source": [
        "Renomeando colunas"
      ]
    },
    {
      "cell_type": "code",
      "metadata": {
        "colab": {
          "base_uri": "https://localhost:8080/",
          "height": 402
        },
        "id": "0ug_fLAWzXag",
        "outputId": "fea04567-ea30-4f7a-c7a6-2c2770c5283a"
      },
      "source": [
        "invest_covidPe"
      ],
      "execution_count": 72,
      "outputs": [
        {
          "output_type": "execute_result",
          "data": {
            "text/html": [
              "<div>\n",
              "<style scoped>\n",
              "    .dataframe tbody tr th:only-of-type {\n",
              "        vertical-align: middle;\n",
              "    }\n",
              "\n",
              "    .dataframe tbody tr th {\n",
              "        vertical-align: top;\n",
              "    }\n",
              "\n",
              "    .dataframe thead th {\n",
              "        text-align: right;\n",
              "    }\n",
              "</style>\n",
              "<table border=\"1\" class=\"dataframe\">\n",
              "  <thead>\n",
              "    <tr style=\"text-align: right;\">\n",
              "      <th></th>\n",
              "      <th>Mês/Ano</th>\n",
              "      <th>Tipo de Favorecido</th>\n",
              "      <th>Município</th>\n",
              "      <th>Função</th>\n",
              "      <th>Programa Orçamentário</th>\n",
              "      <th>Valor Transferido</th>\n",
              "    </tr>\n",
              "  </thead>\n",
              "  <tbody>\n",
              "    <tr>\n",
              "      <th>0</th>\n",
              "      <td>mar/20</td>\n",
              "      <td>Fundo Público</td>\n",
              "      <td>RECIFE</td>\n",
              "      <td>Saúde</td>\n",
              "      <td>ATENCAO ESPECIALIZADA A SAUDE</td>\n",
              "      <td>60.000.00</td>\n",
              "    </tr>\n",
              "    <tr>\n",
              "      <th>1</th>\n",
              "      <td>abr/20</td>\n",
              "      <td>Fundo Público</td>\n",
              "      <td>GARANHUNS</td>\n",
              "      <td>Saúde</td>\n",
              "      <td>ATENCAO ESPECIALIZADA A SAUDE</td>\n",
              "      <td>1.174.944.27</td>\n",
              "    </tr>\n",
              "    <tr>\n",
              "      <th>2</th>\n",
              "      <td>abr/20</td>\n",
              "      <td>Fundo Público</td>\n",
              "      <td>PETROLINA</td>\n",
              "      <td>Saúde</td>\n",
              "      <td>ATENCAO ESPECIALIZADA A SAUDE</td>\n",
              "      <td>4.130.446.89</td>\n",
              "    </tr>\n",
              "    <tr>\n",
              "      <th>3</th>\n",
              "      <td>abr/20</td>\n",
              "      <td>Fundo Público</td>\n",
              "      <td>OLINDA</td>\n",
              "      <td>Saúde</td>\n",
              "      <td>ATENCAO ESPECIALIZADA A SAUDE</td>\n",
              "      <td>3.830.136.03</td>\n",
              "    </tr>\n",
              "    <tr>\n",
              "      <th>4</th>\n",
              "      <td>abr/20</td>\n",
              "      <td>Fundo Público</td>\n",
              "      <td>CARUARU</td>\n",
              "      <td>Saúde</td>\n",
              "      <td>ATENCAO ESPECIALIZADA A SAUDE</td>\n",
              "      <td>3.662.675.00</td>\n",
              "    </tr>\n",
              "    <tr>\n",
              "      <th>...</th>\n",
              "      <td>...</td>\n",
              "      <td>...</td>\n",
              "      <td>...</td>\n",
              "      <td>...</td>\n",
              "      <td>...</td>\n",
              "      <td>...</td>\n",
              "    </tr>\n",
              "    <tr>\n",
              "      <th>696</th>\n",
              "      <td>04/2020</td>\n",
              "      <td>Fundo Público</td>\n",
              "      <td>JABOATÃO DOS GUARARAPES</td>\n",
              "      <td>Saúde</td>\n",
              "      <td>ATENCAO ESPECIALIZADA A SAUDE</td>\n",
              "      <td>R$ 7.327.021.87</td>\n",
              "    </tr>\n",
              "    <tr>\n",
              "      <th>697</th>\n",
              "      <td>10/2020</td>\n",
              "      <td>Fundo Público</td>\n",
              "      <td>RECIFE</td>\n",
              "      <td>Saúde</td>\n",
              "      <td>ATENCAO ESPECIALIZADA A SAUDE</td>\n",
              "      <td>R$ 3.500.000.00</td>\n",
              "    </tr>\n",
              "    <tr>\n",
              "      <th>698</th>\n",
              "      <td>07/2020</td>\n",
              "      <td>Fundo Público</td>\n",
              "      <td>PETROLINA</td>\n",
              "      <td>Saúde</td>\n",
              "      <td>ATENCAO ESPECIALIZADA A SAUDE</td>\n",
              "      <td>R$ 8.676.053.00</td>\n",
              "    </tr>\n",
              "    <tr>\n",
              "      <th>699</th>\n",
              "      <td>07/2020</td>\n",
              "      <td>Fundo Público</td>\n",
              "      <td>BUÍQUE</td>\n",
              "      <td>Saúde</td>\n",
              "      <td>ATENCAO ESPECIALIZADA A SAUDE</td>\n",
              "      <td>R$ 1.850.000.00</td>\n",
              "    </tr>\n",
              "    <tr>\n",
              "      <th>700</th>\n",
              "      <td>08/2020</td>\n",
              "      <td>Fundo Público</td>\n",
              "      <td>PETROLINA</td>\n",
              "      <td>Assistência social</td>\n",
              "      <td>PROTECAO SOCIAL NO AMBITO DO SISTEMA UNICO DE ...</td>\n",
              "      <td>R$ 516.875.60</td>\n",
              "    </tr>\n",
              "  </tbody>\n",
              "</table>\n",
              "<p>701 rows × 6 columns</p>\n",
              "</div>"
            ],
            "text/plain": [
              "     Mês/Ano  ... Valor Transferido\n",
              "0     mar/20  ...         60.000.00\n",
              "1     abr/20  ...      1.174.944.27\n",
              "2     abr/20  ...      4.130.446.89\n",
              "3     abr/20  ...      3.830.136.03\n",
              "4     abr/20  ...      3.662.675.00\n",
              "..       ...  ...               ...\n",
              "696  04/2020  ...   R$ 7.327.021.87\n",
              "697  10/2020  ...   R$ 3.500.000.00\n",
              "698  07/2020  ...   R$ 8.676.053.00\n",
              "699  07/2020  ...   R$ 1.850.000.00\n",
              "700  08/2020  ...     R$ 516.875.60\n",
              "\n",
              "[701 rows x 6 columns]"
            ]
          },
          "metadata": {
            "tags": []
          },
          "execution_count": 72
        }
      ]
    },
    {
      "cell_type": "code",
      "metadata": {
        "colab": {
          "base_uri": "https://localhost:8080/",
          "height": 136
        },
        "id": "aFWx4nab4EDk",
        "outputId": "02246ed2-d76a-4bfe-f3e4-8ea55e3e0acb"
      },
      "source": [
        "invest_covidPe = invest_covidPe.rename(columns={'Mês/Ano': 'month', \\\n",
        "                                                'Município': 'city', \\\n",
        "                                                'Tipo de Favorecido': 'tipo_favorecido', \\\n",
        "                                                'Programa Orçamentário': 'prog_orcamento', \\\n",
        "                                                'Valor Transferido': 'gastos' \\\n",
        "                                                })\n",
        "invest_covidPe.head(3)"
      ],
      "execution_count": 73,
      "outputs": [
        {
          "output_type": "execute_result",
          "data": {
            "text/html": [
              "<div>\n",
              "<style scoped>\n",
              "    .dataframe tbody tr th:only-of-type {\n",
              "        vertical-align: middle;\n",
              "    }\n",
              "\n",
              "    .dataframe tbody tr th {\n",
              "        vertical-align: top;\n",
              "    }\n",
              "\n",
              "    .dataframe thead th {\n",
              "        text-align: right;\n",
              "    }\n",
              "</style>\n",
              "<table border=\"1\" class=\"dataframe\">\n",
              "  <thead>\n",
              "    <tr style=\"text-align: right;\">\n",
              "      <th></th>\n",
              "      <th>month</th>\n",
              "      <th>tipo_favorecido</th>\n",
              "      <th>city</th>\n",
              "      <th>Função</th>\n",
              "      <th>prog_orcamento</th>\n",
              "      <th>gastos</th>\n",
              "    </tr>\n",
              "  </thead>\n",
              "  <tbody>\n",
              "    <tr>\n",
              "      <th>0</th>\n",
              "      <td>mar/20</td>\n",
              "      <td>Fundo Público</td>\n",
              "      <td>RECIFE</td>\n",
              "      <td>Saúde</td>\n",
              "      <td>ATENCAO ESPECIALIZADA A SAUDE</td>\n",
              "      <td>60.000.00</td>\n",
              "    </tr>\n",
              "    <tr>\n",
              "      <th>1</th>\n",
              "      <td>abr/20</td>\n",
              "      <td>Fundo Público</td>\n",
              "      <td>GARANHUNS</td>\n",
              "      <td>Saúde</td>\n",
              "      <td>ATENCAO ESPECIALIZADA A SAUDE</td>\n",
              "      <td>1.174.944.27</td>\n",
              "    </tr>\n",
              "    <tr>\n",
              "      <th>2</th>\n",
              "      <td>abr/20</td>\n",
              "      <td>Fundo Público</td>\n",
              "      <td>PETROLINA</td>\n",
              "      <td>Saúde</td>\n",
              "      <td>ATENCAO ESPECIALIZADA A SAUDE</td>\n",
              "      <td>4.130.446.89</td>\n",
              "    </tr>\n",
              "  </tbody>\n",
              "</table>\n",
              "</div>"
            ],
            "text/plain": [
              "    month tipo_favorecido  ...                 prog_orcamento        gastos\n",
              "0  mar/20   Fundo Público  ...  ATENCAO ESPECIALIZADA A SAUDE     60.000.00\n",
              "1  abr/20   Fundo Público  ...  ATENCAO ESPECIALIZADA A SAUDE  1.174.944.27\n",
              "2  abr/20   Fundo Público  ...  ATENCAO ESPECIALIZADA A SAUDE  4.130.446.89\n",
              "\n",
              "[3 rows x 6 columns]"
            ]
          },
          "metadata": {
            "tags": []
          },
          "execution_count": 73
        }
      ]
    },
    {
      "cell_type": "markdown",
      "metadata": {
        "id": "PdTk7hYE-ydB"
      },
      "source": [
        "#### **Conversão de tipos das colunas**\n",
        "\n",
        "  * Valor Transferido (rename -> gastos): ```string``` -> ```float```\n",
        "\n",
        "  * Mês/Ano (rename -> data_hora): ```string``` -> ```pandas.Datetime```\n",
        "\n",
        "  * Dados categóricos: ```object``` -> ```category```"
      ]
    },
    {
      "cell_type": "code",
      "metadata": {
        "id": "Y-wleeGQC4yJ",
        "colab": {
          "base_uri": "https://localhost:8080/"
        },
        "outputId": "079816cb-47b2-4e1e-edd6-191f9845242e"
      },
      "source": [
        "invest_covidPe.dtypes"
      ],
      "execution_count": 15,
      "outputs": [
        {
          "output_type": "execute_result",
          "data": {
            "text/plain": [
              "data_hora            object\n",
              "tipo_favorecido      object\n",
              "municipio            object\n",
              "acao_orcamentaria    object\n",
              "gastos               object\n",
              "dtype: object"
            ]
          },
          "metadata": {
            "tags": []
          },
          "execution_count": 15
        }
      ]
    },
    {
      "cell_type": "markdown",
      "metadata": {
        "id": "Ui9n7pptx9N3"
      },
      "source": [
        "##### **Valor Transferido**\n",
        "```object``` -> ```float64```"
      ]
    },
    {
      "cell_type": "code",
      "metadata": {
        "id": "7_4O7M9L-kWC"
      },
      "source": [
        "# Tratamento e conversão do CSV-String para float\n",
        "invest_covidPe['valores_transferidos'] = invest_covidPe['gastos'].apply(lambda words: words.replace('R$ ', ''))\n",
        "valores_transferidos = invest_covidPe['valores_transferidos'].map(lambda words: float(words[:-3].replace('.','') + words[-3:]))\n",
        "valores_transferidos = valores_transferidos.astype('float64')\n",
        "#valores_transferidos = valores_transferidos.astype(float)"
      ],
      "execution_count": 74,
      "outputs": []
    },
    {
      "cell_type": "code",
      "metadata": {
        "colab": {
          "base_uri": "https://localhost:8080/",
          "height": 136
        },
        "id": "2cbS7PJEZBBm",
        "outputId": "eaf64810-3fb1-466c-abcc-1074c7355367"
      },
      "source": [
        "invest_covidPe.head(3)"
      ],
      "execution_count": 75,
      "outputs": [
        {
          "output_type": "execute_result",
          "data": {
            "text/html": [
              "<div>\n",
              "<style scoped>\n",
              "    .dataframe tbody tr th:only-of-type {\n",
              "        vertical-align: middle;\n",
              "    }\n",
              "\n",
              "    .dataframe tbody tr th {\n",
              "        vertical-align: top;\n",
              "    }\n",
              "\n",
              "    .dataframe thead th {\n",
              "        text-align: right;\n",
              "    }\n",
              "</style>\n",
              "<table border=\"1\" class=\"dataframe\">\n",
              "  <thead>\n",
              "    <tr style=\"text-align: right;\">\n",
              "      <th></th>\n",
              "      <th>month</th>\n",
              "      <th>tipo_favorecido</th>\n",
              "      <th>city</th>\n",
              "      <th>Função</th>\n",
              "      <th>prog_orcamento</th>\n",
              "      <th>gastos</th>\n",
              "      <th>valores_transferidos</th>\n",
              "    </tr>\n",
              "  </thead>\n",
              "  <tbody>\n",
              "    <tr>\n",
              "      <th>0</th>\n",
              "      <td>mar/20</td>\n",
              "      <td>Fundo Público</td>\n",
              "      <td>RECIFE</td>\n",
              "      <td>Saúde</td>\n",
              "      <td>ATENCAO ESPECIALIZADA A SAUDE</td>\n",
              "      <td>60.000.00</td>\n",
              "      <td>60.000.00</td>\n",
              "    </tr>\n",
              "    <tr>\n",
              "      <th>1</th>\n",
              "      <td>abr/20</td>\n",
              "      <td>Fundo Público</td>\n",
              "      <td>GARANHUNS</td>\n",
              "      <td>Saúde</td>\n",
              "      <td>ATENCAO ESPECIALIZADA A SAUDE</td>\n",
              "      <td>1.174.944.27</td>\n",
              "      <td>1.174.944.27</td>\n",
              "    </tr>\n",
              "    <tr>\n",
              "      <th>2</th>\n",
              "      <td>abr/20</td>\n",
              "      <td>Fundo Público</td>\n",
              "      <td>PETROLINA</td>\n",
              "      <td>Saúde</td>\n",
              "      <td>ATENCAO ESPECIALIZADA A SAUDE</td>\n",
              "      <td>4.130.446.89</td>\n",
              "      <td>4.130.446.89</td>\n",
              "    </tr>\n",
              "  </tbody>\n",
              "</table>\n",
              "</div>"
            ],
            "text/plain": [
              "    month tipo_favorecido  ...        gastos valores_transferidos\n",
              "0  mar/20   Fundo Público  ...     60.000.00            60.000.00\n",
              "1  abr/20   Fundo Público  ...  1.174.944.27         1.174.944.27\n",
              "2  abr/20   Fundo Público  ...  4.130.446.89         4.130.446.89\n",
              "\n",
              "[3 rows x 7 columns]"
            ]
          },
          "metadata": {
            "tags": []
          },
          "execution_count": 75
        }
      ]
    },
    {
      "cell_type": "code",
      "metadata": {
        "id": "YOjLjdx_XLEn",
        "colab": {
          "base_uri": "https://localhost:8080/"
        },
        "outputId": "62fc4e91-032e-4ce3-b5b9-3e9ed750f836"
      },
      "source": [
        "# Atualiza o dataset principal\n",
        "invest_covidPe['gastos'].update(valores_transferidos)\n",
        "invest_covidPe.drop('valores_transferidos',axis=1,inplace=True)\n",
        "invest_covidPe = invest_covidPe.infer_objects()\n",
        "invest_covidPe.info(verbose=True)"
      ],
      "execution_count": 76,
      "outputs": [
        {
          "output_type": "stream",
          "text": [
            "<class 'pandas.core.frame.DataFrame'>\n",
            "RangeIndex: 701 entries, 0 to 700\n",
            "Data columns (total 6 columns):\n",
            " #   Column           Non-Null Count  Dtype  \n",
            "---  ------           --------------  -----  \n",
            " 0   month            701 non-null    object \n",
            " 1   tipo_favorecido  701 non-null    object \n",
            " 2   city             701 non-null    object \n",
            " 3   Função           701 non-null    object \n",
            " 4   prog_orcamento   701 non-null    object \n",
            " 5   gastos           701 non-null    float64\n",
            "dtypes: float64(1), object(5)\n",
            "memory usage: 33.0+ KB\n"
          ],
          "name": "stdout"
        }
      ]
    },
    {
      "cell_type": "markdown",
      "metadata": {
        "id": "jLDhV-F6-1nV"
      },
      "source": [
        "##### **Definindo dados categóricos**"
      ]
    },
    {
      "cell_type": "markdown",
      "metadata": {
        "id": "MWRARfMS4HUW"
      },
      "source": [
        "Conversão de dados categóricos\n",
        "> ```object``` -> ```category```"
      ]
    },
    {
      "cell_type": "code",
      "metadata": {
        "colab": {
          "base_uri": "https://localhost:8080/",
          "height": 771
        },
        "id": "yucdFzJx1jql",
        "outputId": "db66315d-9fcd-45a4-decb-6f6ca8401aa2"
      },
      "source": [
        "invest_covidPe"
      ],
      "execution_count": 77,
      "outputs": [
        {
          "output_type": "execute_result",
          "data": {
            "text/html": [
              "<div>\n",
              "<style scoped>\n",
              "    .dataframe tbody tr th:only-of-type {\n",
              "        vertical-align: middle;\n",
              "    }\n",
              "\n",
              "    .dataframe tbody tr th {\n",
              "        vertical-align: top;\n",
              "    }\n",
              "\n",
              "    .dataframe thead th {\n",
              "        text-align: right;\n",
              "    }\n",
              "</style>\n",
              "<table border=\"1\" class=\"dataframe\">\n",
              "  <thead>\n",
              "    <tr style=\"text-align: right;\">\n",
              "      <th></th>\n",
              "      <th>month</th>\n",
              "      <th>tipo_favorecido</th>\n",
              "      <th>city</th>\n",
              "      <th>Função</th>\n",
              "      <th>prog_orcamento</th>\n",
              "      <th>gastos</th>\n",
              "    </tr>\n",
              "  </thead>\n",
              "  <tbody>\n",
              "    <tr>\n",
              "      <th>0</th>\n",
              "      <td>mar/20</td>\n",
              "      <td>Fundo Público</td>\n",
              "      <td>RECIFE</td>\n",
              "      <td>Saúde</td>\n",
              "      <td>ATENCAO ESPECIALIZADA A SAUDE</td>\n",
              "      <td>60000.00</td>\n",
              "    </tr>\n",
              "    <tr>\n",
              "      <th>1</th>\n",
              "      <td>abr/20</td>\n",
              "      <td>Fundo Público</td>\n",
              "      <td>GARANHUNS</td>\n",
              "      <td>Saúde</td>\n",
              "      <td>ATENCAO ESPECIALIZADA A SAUDE</td>\n",
              "      <td>1174944.27</td>\n",
              "    </tr>\n",
              "    <tr>\n",
              "      <th>2</th>\n",
              "      <td>abr/20</td>\n",
              "      <td>Fundo Público</td>\n",
              "      <td>PETROLINA</td>\n",
              "      <td>Saúde</td>\n",
              "      <td>ATENCAO ESPECIALIZADA A SAUDE</td>\n",
              "      <td>4130446.89</td>\n",
              "    </tr>\n",
              "    <tr>\n",
              "      <th>3</th>\n",
              "      <td>abr/20</td>\n",
              "      <td>Fundo Público</td>\n",
              "      <td>OLINDA</td>\n",
              "      <td>Saúde</td>\n",
              "      <td>ATENCAO ESPECIALIZADA A SAUDE</td>\n",
              "      <td>3830136.03</td>\n",
              "    </tr>\n",
              "    <tr>\n",
              "      <th>4</th>\n",
              "      <td>abr/20</td>\n",
              "      <td>Fundo Público</td>\n",
              "      <td>CARUARU</td>\n",
              "      <td>Saúde</td>\n",
              "      <td>ATENCAO ESPECIALIZADA A SAUDE</td>\n",
              "      <td>3662675.00</td>\n",
              "    </tr>\n",
              "    <tr>\n",
              "      <th>...</th>\n",
              "      <td>...</td>\n",
              "      <td>...</td>\n",
              "      <td>...</td>\n",
              "      <td>...</td>\n",
              "      <td>...</td>\n",
              "      <td>...</td>\n",
              "    </tr>\n",
              "    <tr>\n",
              "      <th>696</th>\n",
              "      <td>04/2020</td>\n",
              "      <td>Fundo Público</td>\n",
              "      <td>JABOATÃO DOS GUARARAPES</td>\n",
              "      <td>Saúde</td>\n",
              "      <td>ATENCAO ESPECIALIZADA A SAUDE</td>\n",
              "      <td>7327021.87</td>\n",
              "    </tr>\n",
              "    <tr>\n",
              "      <th>697</th>\n",
              "      <td>10/2020</td>\n",
              "      <td>Fundo Público</td>\n",
              "      <td>RECIFE</td>\n",
              "      <td>Saúde</td>\n",
              "      <td>ATENCAO ESPECIALIZADA A SAUDE</td>\n",
              "      <td>3500000.00</td>\n",
              "    </tr>\n",
              "    <tr>\n",
              "      <th>698</th>\n",
              "      <td>07/2020</td>\n",
              "      <td>Fundo Público</td>\n",
              "      <td>PETROLINA</td>\n",
              "      <td>Saúde</td>\n",
              "      <td>ATENCAO ESPECIALIZADA A SAUDE</td>\n",
              "      <td>8676053.00</td>\n",
              "    </tr>\n",
              "    <tr>\n",
              "      <th>699</th>\n",
              "      <td>07/2020</td>\n",
              "      <td>Fundo Público</td>\n",
              "      <td>BUÍQUE</td>\n",
              "      <td>Saúde</td>\n",
              "      <td>ATENCAO ESPECIALIZADA A SAUDE</td>\n",
              "      <td>1850000.00</td>\n",
              "    </tr>\n",
              "    <tr>\n",
              "      <th>700</th>\n",
              "      <td>08/2020</td>\n",
              "      <td>Fundo Público</td>\n",
              "      <td>PETROLINA</td>\n",
              "      <td>Assistência social</td>\n",
              "      <td>PROTECAO SOCIAL NO AMBITO DO SISTEMA UNICO DE ...</td>\n",
              "      <td>516875.60</td>\n",
              "    </tr>\n",
              "  </tbody>\n",
              "</table>\n",
              "<p>701 rows × 6 columns</p>\n",
              "</div>"
            ],
            "text/plain": [
              "       month  ...      gastos\n",
              "0     mar/20  ...    60000.00\n",
              "1     abr/20  ...  1174944.27\n",
              "2     abr/20  ...  4130446.89\n",
              "3     abr/20  ...  3830136.03\n",
              "4     abr/20  ...  3662675.00\n",
              "..       ...  ...         ...\n",
              "696  04/2020  ...  7327021.87\n",
              "697  10/2020  ...  3500000.00\n",
              "698  07/2020  ...  8676053.00\n",
              "699  07/2020  ...  1850000.00\n",
              "700  08/2020  ...   516875.60\n",
              "\n",
              "[701 rows x 6 columns]"
            ]
          },
          "metadata": {
            "tags": []
          },
          "execution_count": 77
        }
      ]
    },
    {
      "cell_type": "code",
      "metadata": {
        "colab": {
          "base_uri": "https://localhost:8080/"
        },
        "id": "_XFyq-WR-0HA",
        "outputId": "9b44c28b-1e07-42e0-a988-e5c501608162"
      },
      "source": [
        "invest_covidPe['month'] = invest_covidPe['month'].astype('category')\n",
        "invest_covidPe['city'] = invest_covidPe['city'].astype('category')\n",
        "invest_covidPe['Função'] = invest_covidPe['Função'].astype('category')\n",
        "invest_covidPe['tipo_favorecido'] = invest_covidPe['tipo_favorecido'].astype('category')\n",
        "invest_covidPe['prog_orcamento'] = invest_covidPe['prog_orcamento'].astype('category')\n",
        "invest_covidPe.info(verbose=True)"
      ],
      "execution_count": 78,
      "outputs": [
        {
          "output_type": "stream",
          "text": [
            "<class 'pandas.core.frame.DataFrame'>\n",
            "RangeIndex: 701 entries, 0 to 700\n",
            "Data columns (total 6 columns):\n",
            " #   Column           Non-Null Count  Dtype   \n",
            "---  ------           --------------  -----   \n",
            " 0   month            701 non-null    category\n",
            " 1   tipo_favorecido  701 non-null    category\n",
            " 2   city             701 non-null    category\n",
            " 3   Função           701 non-null    category\n",
            " 4   prog_orcamento   701 non-null    category\n",
            " 5   gastos           701 non-null    float64 \n",
            "dtypes: category(5), float64(1)\n",
            "memory usage: 10.7 KB\n"
          ],
          "name": "stdout"
        }
      ]
    },
    {
      "cell_type": "markdown",
      "metadata": {
        "id": "JvIjW9eo7M4V"
      },
      "source": [
        "### **Tratamento dos dados de casos de covid-19 em PE**"
      ]
    },
    {
      "cell_type": "markdown",
      "metadata": {
        "id": "UrgXxWT1MCvo"
      },
      "source": [
        "Filtragem de categorias"
      ]
    },
    {
      "cell_type": "code",
      "metadata": {
        "colab": {
          "base_uri": "https://localhost:8080/",
          "height": 522
        },
        "id": "ycdb5D-sLijY",
        "outputId": "e75bf5e7-01ad-4036-e705-45080bec4239"
      },
      "source": [
        "covidPeCases = covidPeCases.filter(items=['city', \\\n",
        "                                         'last_available_confirmed', \\\n",
        "                                         'last_available_deaths', \\\n",
        "                                         'last_available_death_rate', \\\n",
        "                                         'estimated_population' \\\n",
        "                                         ])\n",
        "covidPeCases"
      ],
      "execution_count": 80,
      "outputs": [
        {
          "output_type": "execute_result",
          "data": {
            "text/html": [
              "<div>\n",
              "<style scoped>\n",
              "    .dataframe tbody tr th:only-of-type {\n",
              "        vertical-align: middle;\n",
              "    }\n",
              "\n",
              "    .dataframe tbody tr th {\n",
              "        vertical-align: top;\n",
              "    }\n",
              "\n",
              "    .dataframe thead th {\n",
              "        text-align: right;\n",
              "    }\n",
              "</style>\n",
              "<table border=\"1\" class=\"dataframe\">\n",
              "  <thead>\n",
              "    <tr style=\"text-align: right;\">\n",
              "      <th></th>\n",
              "      <th>city</th>\n",
              "      <th>last_available_confirmed</th>\n",
              "      <th>last_available_deaths</th>\n",
              "      <th>last_available_death_rate</th>\n",
              "      <th>estimated_population</th>\n",
              "    </tr>\n",
              "  </thead>\n",
              "  <tbody>\n",
              "    <tr>\n",
              "      <th>0</th>\n",
              "      <td>NaN</td>\n",
              "      <td>323176</td>\n",
              "      <td>11510</td>\n",
              "      <td>0.0356</td>\n",
              "      <td>9616621.0</td>\n",
              "    </tr>\n",
              "    <tr>\n",
              "      <th>1</th>\n",
              "      <td>Abreu e Lima</td>\n",
              "      <td>1700</td>\n",
              "      <td>159</td>\n",
              "      <td>0.0935</td>\n",
              "      <td>100346.0</td>\n",
              "    </tr>\n",
              "    <tr>\n",
              "      <th>2</th>\n",
              "      <td>Afogados da Ingazeira</td>\n",
              "      <td>2478</td>\n",
              "      <td>35</td>\n",
              "      <td>0.0141</td>\n",
              "      <td>37404.0</td>\n",
              "    </tr>\n",
              "    <tr>\n",
              "      <th>3</th>\n",
              "      <td>Afrânio</td>\n",
              "      <td>578</td>\n",
              "      <td>9</td>\n",
              "      <td>0.0156</td>\n",
              "      <td>19810.0</td>\n",
              "    </tr>\n",
              "    <tr>\n",
              "      <th>4</th>\n",
              "      <td>Agrestina</td>\n",
              "      <td>865</td>\n",
              "      <td>36</td>\n",
              "      <td>0.0416</td>\n",
              "      <td>25065.0</td>\n",
              "    </tr>\n",
              "    <tr>\n",
              "      <th>...</th>\n",
              "      <td>...</td>\n",
              "      <td>...</td>\n",
              "      <td>...</td>\n",
              "      <td>...</td>\n",
              "      <td>...</td>\n",
              "    </tr>\n",
              "    <tr>\n",
              "      <th>182</th>\n",
              "      <td>Vertente do Lério</td>\n",
              "      <td>156</td>\n",
              "      <td>2</td>\n",
              "      <td>0.0128</td>\n",
              "      <td>7571.0</td>\n",
              "    </tr>\n",
              "    <tr>\n",
              "      <th>183</th>\n",
              "      <td>Vertentes</td>\n",
              "      <td>408</td>\n",
              "      <td>5</td>\n",
              "      <td>0.0123</td>\n",
              "      <td>20954.0</td>\n",
              "    </tr>\n",
              "    <tr>\n",
              "      <th>184</th>\n",
              "      <td>Vicência</td>\n",
              "      <td>431</td>\n",
              "      <td>16</td>\n",
              "      <td>0.0371</td>\n",
              "      <td>32772.0</td>\n",
              "    </tr>\n",
              "    <tr>\n",
              "      <th>185</th>\n",
              "      <td>Vitória de Santo Antão</td>\n",
              "      <td>3038</td>\n",
              "      <td>186</td>\n",
              "      <td>0.0612</td>\n",
              "      <td>139583.0</td>\n",
              "    </tr>\n",
              "    <tr>\n",
              "      <th>186</th>\n",
              "      <td>Xexéu</td>\n",
              "      <td>344</td>\n",
              "      <td>18</td>\n",
              "      <td>0.0523</td>\n",
              "      <td>14757.0</td>\n",
              "    </tr>\n",
              "  </tbody>\n",
              "</table>\n",
              "<p>187 rows × 5 columns</p>\n",
              "</div>"
            ],
            "text/plain": [
              "                       city  ...  estimated_population\n",
              "0                       NaN  ...             9616621.0\n",
              "1              Abreu e Lima  ...              100346.0\n",
              "2     Afogados da Ingazeira  ...               37404.0\n",
              "3                   Afrânio  ...               19810.0\n",
              "4                 Agrestina  ...               25065.0\n",
              "..                      ...  ...                   ...\n",
              "182       Vertente do Lério  ...                7571.0\n",
              "183               Vertentes  ...               20954.0\n",
              "184                Vicência  ...               32772.0\n",
              "185  Vitória de Santo Antão  ...              139583.0\n",
              "186                   Xexéu  ...               14757.0\n",
              "\n",
              "[187 rows x 5 columns]"
            ]
          },
          "metadata": {
            "tags": []
          },
          "execution_count": 80
        }
      ]
    },
    {
      "cell_type": "markdown",
      "metadata": {
        "id": "KugjoksVMEZn"
      },
      "source": [
        "Renomeação de colunas"
      ]
    },
    {
      "cell_type": "code",
      "metadata": {
        "id": "QxTROxJ_L3bR",
        "colab": {
          "base_uri": "https://localhost:8080/",
          "height": 522
        },
        "outputId": "18a3800f-6db8-4cb0-da10-3732fdf17a25"
      },
      "source": [
        "covidPeCases = covidPeCases.rename(columns={\"city\": \"municipio\", \\\n",
        "                                           \"last_available_confirmed\": \"casos_confirmados\", \\\n",
        "                                           \"last_available_deaths\": \"mortes_confirmadas\", \\\n",
        "                                           \"last_available_death_rate\": \"taxa_mortalidade\", \\\n",
        "                                           \"estimated_population\": \"pop_estimada\" \\\n",
        "                                           })\n",
        "covidPeCases"
      ],
      "execution_count": 81,
      "outputs": [
        {
          "output_type": "execute_result",
          "data": {
            "text/html": [
              "<div>\n",
              "<style scoped>\n",
              "    .dataframe tbody tr th:only-of-type {\n",
              "        vertical-align: middle;\n",
              "    }\n",
              "\n",
              "    .dataframe tbody tr th {\n",
              "        vertical-align: top;\n",
              "    }\n",
              "\n",
              "    .dataframe thead th {\n",
              "        text-align: right;\n",
              "    }\n",
              "</style>\n",
              "<table border=\"1\" class=\"dataframe\">\n",
              "  <thead>\n",
              "    <tr style=\"text-align: right;\">\n",
              "      <th></th>\n",
              "      <th>municipio</th>\n",
              "      <th>casos_confirmados</th>\n",
              "      <th>mortes_confirmadas</th>\n",
              "      <th>taxa_mortalidade</th>\n",
              "      <th>pop_estimada</th>\n",
              "    </tr>\n",
              "  </thead>\n",
              "  <tbody>\n",
              "    <tr>\n",
              "      <th>0</th>\n",
              "      <td>NaN</td>\n",
              "      <td>323176</td>\n",
              "      <td>11510</td>\n",
              "      <td>0.0356</td>\n",
              "      <td>9616621.0</td>\n",
              "    </tr>\n",
              "    <tr>\n",
              "      <th>1</th>\n",
              "      <td>Abreu e Lima</td>\n",
              "      <td>1700</td>\n",
              "      <td>159</td>\n",
              "      <td>0.0935</td>\n",
              "      <td>100346.0</td>\n",
              "    </tr>\n",
              "    <tr>\n",
              "      <th>2</th>\n",
              "      <td>Afogados da Ingazeira</td>\n",
              "      <td>2478</td>\n",
              "      <td>35</td>\n",
              "      <td>0.0141</td>\n",
              "      <td>37404.0</td>\n",
              "    </tr>\n",
              "    <tr>\n",
              "      <th>3</th>\n",
              "      <td>Afrânio</td>\n",
              "      <td>578</td>\n",
              "      <td>9</td>\n",
              "      <td>0.0156</td>\n",
              "      <td>19810.0</td>\n",
              "    </tr>\n",
              "    <tr>\n",
              "      <th>4</th>\n",
              "      <td>Agrestina</td>\n",
              "      <td>865</td>\n",
              "      <td>36</td>\n",
              "      <td>0.0416</td>\n",
              "      <td>25065.0</td>\n",
              "    </tr>\n",
              "    <tr>\n",
              "      <th>...</th>\n",
              "      <td>...</td>\n",
              "      <td>...</td>\n",
              "      <td>...</td>\n",
              "      <td>...</td>\n",
              "      <td>...</td>\n",
              "    </tr>\n",
              "    <tr>\n",
              "      <th>182</th>\n",
              "      <td>Vertente do Lério</td>\n",
              "      <td>156</td>\n",
              "      <td>2</td>\n",
              "      <td>0.0128</td>\n",
              "      <td>7571.0</td>\n",
              "    </tr>\n",
              "    <tr>\n",
              "      <th>183</th>\n",
              "      <td>Vertentes</td>\n",
              "      <td>408</td>\n",
              "      <td>5</td>\n",
              "      <td>0.0123</td>\n",
              "      <td>20954.0</td>\n",
              "    </tr>\n",
              "    <tr>\n",
              "      <th>184</th>\n",
              "      <td>Vicência</td>\n",
              "      <td>431</td>\n",
              "      <td>16</td>\n",
              "      <td>0.0371</td>\n",
              "      <td>32772.0</td>\n",
              "    </tr>\n",
              "    <tr>\n",
              "      <th>185</th>\n",
              "      <td>Vitória de Santo Antão</td>\n",
              "      <td>3038</td>\n",
              "      <td>186</td>\n",
              "      <td>0.0612</td>\n",
              "      <td>139583.0</td>\n",
              "    </tr>\n",
              "    <tr>\n",
              "      <th>186</th>\n",
              "      <td>Xexéu</td>\n",
              "      <td>344</td>\n",
              "      <td>18</td>\n",
              "      <td>0.0523</td>\n",
              "      <td>14757.0</td>\n",
              "    </tr>\n",
              "  </tbody>\n",
              "</table>\n",
              "<p>187 rows × 5 columns</p>\n",
              "</div>"
            ],
            "text/plain": [
              "                  municipio  casos_confirmados  ...  taxa_mortalidade  pop_estimada\n",
              "0                       NaN             323176  ...            0.0356     9616621.0\n",
              "1              Abreu e Lima               1700  ...            0.0935      100346.0\n",
              "2     Afogados da Ingazeira               2478  ...            0.0141       37404.0\n",
              "3                   Afrânio                578  ...            0.0156       19810.0\n",
              "4                 Agrestina                865  ...            0.0416       25065.0\n",
              "..                      ...                ...  ...               ...           ...\n",
              "182       Vertente do Lério                156  ...            0.0128        7571.0\n",
              "183               Vertentes                408  ...            0.0123       20954.0\n",
              "184                Vicência                431  ...            0.0371       32772.0\n",
              "185  Vitória de Santo Antão               3038  ...            0.0612      139583.0\n",
              "186                   Xexéu                344  ...            0.0523       14757.0\n",
              "\n",
              "[187 rows x 5 columns]"
            ]
          },
          "metadata": {
            "tags": []
          },
          "execution_count": 81
        }
      ]
    },
    {
      "cell_type": "markdown",
      "metadata": {
        "id": "ppahtXoqPG7l"
      },
      "source": [
        "Filtrar cidades do dataset de Gastos públicos"
      ]
    },
    {
      "cell_type": "code",
      "metadata": {
        "id": "E2Y3omYllzL2",
        "colab": {
          "base_uri": "https://localhost:8080/",
          "height": 414
        },
        "outputId": "8a20378f-495f-4283-b966-18a0786b4618"
      },
      "source": [
        "#Guardando uma cópia dos dados de todas as cidades\n",
        "oldCovidPeCases = covidPeCases\n",
        "\n",
        "#Filtrando as cidades que selecionamos os gastos no portal da transparência\n",
        "cities = ['Arcoverde', \\\n",
        "          'Buíque', \\\n",
        "          'Caruaru', \\\n",
        "          'Garanhuns', \\\n",
        "          'Jaboatão dos Guararapes', \\\n",
        "          'Olinda', \\\n",
        "          'Paulista', \\\n",
        "          'Petrolina', \\\n",
        "          'Recife', \\\n",
        "          'Serra Talhada']\n",
        "\n",
        "covidPeCases = covidPeCases[covidPeCases.municipio.isin(cities)]\n",
        "covidPeCases"
      ],
      "execution_count": 82,
      "outputs": [
        {
          "output_type": "execute_result",
          "data": {
            "text/html": [
              "<div>\n",
              "<style scoped>\n",
              "    .dataframe tbody tr th:only-of-type {\n",
              "        vertical-align: middle;\n",
              "    }\n",
              "\n",
              "    .dataframe tbody tr th {\n",
              "        vertical-align: top;\n",
              "    }\n",
              "\n",
              "    .dataframe thead th {\n",
              "        text-align: right;\n",
              "    }\n",
              "</style>\n",
              "<table border=\"1\" class=\"dataframe\">\n",
              "  <thead>\n",
              "    <tr style=\"text-align: right;\">\n",
              "      <th></th>\n",
              "      <th>municipio</th>\n",
              "      <th>casos_confirmados</th>\n",
              "      <th>mortes_confirmadas</th>\n",
              "      <th>taxa_mortalidade</th>\n",
              "      <th>pop_estimada</th>\n",
              "    </tr>\n",
              "  </thead>\n",
              "  <tbody>\n",
              "    <tr>\n",
              "      <th>14</th>\n",
              "      <td>Arcoverde</td>\n",
              "      <td>4281</td>\n",
              "      <td>87</td>\n",
              "      <td>0.0203</td>\n",
              "      <td>74822.0</td>\n",
              "    </tr>\n",
              "    <tr>\n",
              "      <th>30</th>\n",
              "      <td>Buíque</td>\n",
              "      <td>1436</td>\n",
              "      <td>23</td>\n",
              "      <td>0.0160</td>\n",
              "      <td>58919.0</td>\n",
              "    </tr>\n",
              "    <tr>\n",
              "      <th>45</th>\n",
              "      <td>Caruaru</td>\n",
              "      <td>17187</td>\n",
              "      <td>454</td>\n",
              "      <td>0.0264</td>\n",
              "      <td>365278.0</td>\n",
              "    </tr>\n",
              "    <tr>\n",
              "      <th>67</th>\n",
              "      <td>Garanhuns</td>\n",
              "      <td>7250</td>\n",
              "      <td>134</td>\n",
              "      <td>0.0185</td>\n",
              "      <td>140577.0</td>\n",
              "    </tr>\n",
              "    <tr>\n",
              "      <th>89</th>\n",
              "      <td>Jaboatão dos Guararapes</td>\n",
              "      <td>19966</td>\n",
              "      <td>1095</td>\n",
              "      <td>0.0548</td>\n",
              "      <td>706867.0</td>\n",
              "    </tr>\n",
              "    <tr>\n",
              "      <th>113</th>\n",
              "      <td>Olinda</td>\n",
              "      <td>14581</td>\n",
              "      <td>635</td>\n",
              "      <td>0.0435</td>\n",
              "      <td>393115.0</td>\n",
              "    </tr>\n",
              "    <tr>\n",
              "      <th>124</th>\n",
              "      <td>Paulista</td>\n",
              "      <td>7154</td>\n",
              "      <td>528</td>\n",
              "      <td>0.0738</td>\n",
              "      <td>334376.0</td>\n",
              "    </tr>\n",
              "    <tr>\n",
              "      <th>128</th>\n",
              "      <td>Petrolina</td>\n",
              "      <td>18239</td>\n",
              "      <td>209</td>\n",
              "      <td>0.0115</td>\n",
              "      <td>354317.0</td>\n",
              "    </tr>\n",
              "    <tr>\n",
              "      <th>134</th>\n",
              "      <td>Recife</td>\n",
              "      <td>78117</td>\n",
              "      <td>3168</td>\n",
              "      <td>0.0406</td>\n",
              "      <td>1653461.0</td>\n",
              "    </tr>\n",
              "    <tr>\n",
              "      <th>160</th>\n",
              "      <td>Serra Talhada</td>\n",
              "      <td>7341</td>\n",
              "      <td>105</td>\n",
              "      <td>0.0143</td>\n",
              "      <td>86915.0</td>\n",
              "    </tr>\n",
              "  </tbody>\n",
              "</table>\n",
              "</div>"
            ],
            "text/plain": [
              "                   municipio  casos_confirmados  ...  taxa_mortalidade  pop_estimada\n",
              "14                 Arcoverde               4281  ...            0.0203       74822.0\n",
              "30                    Buíque               1436  ...            0.0160       58919.0\n",
              "45                   Caruaru              17187  ...            0.0264      365278.0\n",
              "67                 Garanhuns               7250  ...            0.0185      140577.0\n",
              "89   Jaboatão dos Guararapes              19966  ...            0.0548      706867.0\n",
              "113                   Olinda              14581  ...            0.0435      393115.0\n",
              "124                 Paulista               7154  ...            0.0738      334376.0\n",
              "128                Petrolina              18239  ...            0.0115      354317.0\n",
              "134                   Recife              78117  ...            0.0406     1653461.0\n",
              "160            Serra Talhada               7341  ...            0.0143       86915.0\n",
              "\n",
              "[10 rows x 5 columns]"
            ]
          },
          "metadata": {
            "tags": []
          },
          "execution_count": 82
        }
      ]
    },
    {
      "cell_type": "code",
      "metadata": {
        "colab": {
          "base_uri": "https://localhost:8080/"
        },
        "id": "ahFKtynRWcZK",
        "outputId": "21d33eed-402f-4e6a-ee7c-625352d77ad4"
      },
      "source": [
        "covidPeCases.info(verbose=True)"
      ],
      "execution_count": 83,
      "outputs": [
        {
          "output_type": "stream",
          "text": [
            "<class 'pandas.core.frame.DataFrame'>\n",
            "Int64Index: 10 entries, 14 to 160\n",
            "Data columns (total 5 columns):\n",
            " #   Column              Non-Null Count  Dtype  \n",
            "---  ------              --------------  -----  \n",
            " 0   municipio           10 non-null     object \n",
            " 1   casos_confirmados   10 non-null     int64  \n",
            " 2   mortes_confirmadas  10 non-null     int64  \n",
            " 3   taxa_mortalidade    10 non-null     float64\n",
            " 4   pop_estimada        10 non-null     float64\n",
            "dtypes: float64(2), int64(2), object(1)\n",
            "memory usage: 480.0+ bytes\n"
          ],
          "name": "stdout"
        }
      ]
    },
    {
      "cell_type": "code",
      "metadata": {
        "colab": {
          "base_uri": "https://localhost:8080/"
        },
        "id": "TrR7lzvjbI4n",
        "outputId": "0137c583-fe12-4ac8-9047-725d2296dd5b"
      },
      "source": [
        "covidPeCases['municipio'] = covidPeCases['municipio'].apply(lambda city: city.upper())\n",
        "covidPeCases['municipio'].unique()"
      ],
      "execution_count": 84,
      "outputs": [
        {
          "output_type": "stream",
          "text": [
            "/usr/local/lib/python3.7/dist-packages/ipykernel_launcher.py:1: SettingWithCopyWarning: \n",
            "A value is trying to be set on a copy of a slice from a DataFrame.\n",
            "Try using .loc[row_indexer,col_indexer] = value instead\n",
            "\n",
            "See the caveats in the documentation: https://pandas.pydata.org/pandas-docs/stable/user_guide/indexing.html#returning-a-view-versus-a-copy\n",
            "  \"\"\"Entry point for launching an IPython kernel.\n"
          ],
          "name": "stderr"
        },
        {
          "output_type": "execute_result",
          "data": {
            "text/plain": [
              "array(['ARCOVERDE', 'BUÍQUE', 'CARUARU', 'GARANHUNS',\n",
              "       'JABOATÃO DOS GUARARAPES', 'OLINDA', 'PAULISTA', 'PETROLINA',\n",
              "       'RECIFE', 'SERRA TALHADA'], dtype=object)"
            ]
          },
          "metadata": {
            "tags": []
          },
          "execution_count": 84
        }
      ]
    },
    {
      "cell_type": "code",
      "metadata": {
        "colab": {
          "base_uri": "https://localhost:8080/"
        },
        "id": "eOyrO8VdcMGn",
        "outputId": "17577bbe-ed1a-43c8-a7bf-b03764181509"
      },
      "source": [
        "covidPeCases['municipio'] = covidPeCases['municipio'].astype('category')\n",
        "covidPeCases['id'] = covidPeCases['municipio'].cat.codes\n",
        "covidPeCases.index = covidPeCases['id']"
      ],
      "execution_count": 85,
      "outputs": [
        {
          "output_type": "stream",
          "text": [
            "/usr/local/lib/python3.7/dist-packages/ipykernel_launcher.py:1: SettingWithCopyWarning: \n",
            "A value is trying to be set on a copy of a slice from a DataFrame.\n",
            "Try using .loc[row_indexer,col_indexer] = value instead\n",
            "\n",
            "See the caveats in the documentation: https://pandas.pydata.org/pandas-docs/stable/user_guide/indexing.html#returning-a-view-versus-a-copy\n",
            "  \"\"\"Entry point for launching an IPython kernel.\n",
            "/usr/local/lib/python3.7/dist-packages/ipykernel_launcher.py:2: SettingWithCopyWarning: \n",
            "A value is trying to be set on a copy of a slice from a DataFrame.\n",
            "Try using .loc[row_indexer,col_indexer] = value instead\n",
            "\n",
            "See the caveats in the documentation: https://pandas.pydata.org/pandas-docs/stable/user_guide/indexing.html#returning-a-view-versus-a-copy\n",
            "  \n"
          ],
          "name": "stderr"
        }
      ]
    },
    {
      "cell_type": "code",
      "metadata": {
        "colab": {
          "base_uri": "https://localhost:8080/",
          "height": 443
        },
        "id": "BCs0LeFWlV0y",
        "outputId": "6073607e-c2a9-4121-c053-57f80af0b2b4"
      },
      "source": [
        "covidPeCases"
      ],
      "execution_count": 32,
      "outputs": [
        {
          "output_type": "execute_result",
          "data": {
            "text/html": [
              "<div>\n",
              "<style scoped>\n",
              "    .dataframe tbody tr th:only-of-type {\n",
              "        vertical-align: middle;\n",
              "    }\n",
              "\n",
              "    .dataframe tbody tr th {\n",
              "        vertical-align: top;\n",
              "    }\n",
              "\n",
              "    .dataframe thead th {\n",
              "        text-align: right;\n",
              "    }\n",
              "</style>\n",
              "<table border=\"1\" class=\"dataframe\">\n",
              "  <thead>\n",
              "    <tr style=\"text-align: right;\">\n",
              "      <th></th>\n",
              "      <th>municipio</th>\n",
              "      <th>casos_confirmados</th>\n",
              "      <th>mortes_confirmadas</th>\n",
              "      <th>taxa_mortalidade</th>\n",
              "      <th>pop_estimada</th>\n",
              "      <th>id</th>\n",
              "    </tr>\n",
              "    <tr>\n",
              "      <th>id</th>\n",
              "      <th></th>\n",
              "      <th></th>\n",
              "      <th></th>\n",
              "      <th></th>\n",
              "      <th></th>\n",
              "      <th></th>\n",
              "    </tr>\n",
              "  </thead>\n",
              "  <tbody>\n",
              "    <tr>\n",
              "      <th>0</th>\n",
              "      <td>ARCOVERDE</td>\n",
              "      <td>4281</td>\n",
              "      <td>87</td>\n",
              "      <td>0.0203</td>\n",
              "      <td>74822.0</td>\n",
              "      <td>0</td>\n",
              "    </tr>\n",
              "    <tr>\n",
              "      <th>1</th>\n",
              "      <td>BUÍQUE</td>\n",
              "      <td>1436</td>\n",
              "      <td>23</td>\n",
              "      <td>0.0160</td>\n",
              "      <td>58919.0</td>\n",
              "      <td>1</td>\n",
              "    </tr>\n",
              "    <tr>\n",
              "      <th>2</th>\n",
              "      <td>CARUARU</td>\n",
              "      <td>17187</td>\n",
              "      <td>454</td>\n",
              "      <td>0.0264</td>\n",
              "      <td>365278.0</td>\n",
              "      <td>2</td>\n",
              "    </tr>\n",
              "    <tr>\n",
              "      <th>3</th>\n",
              "      <td>GARANHUNS</td>\n",
              "      <td>7250</td>\n",
              "      <td>134</td>\n",
              "      <td>0.0185</td>\n",
              "      <td>140577.0</td>\n",
              "      <td>3</td>\n",
              "    </tr>\n",
              "    <tr>\n",
              "      <th>4</th>\n",
              "      <td>JABOATÃO DOS GUARARAPES</td>\n",
              "      <td>19966</td>\n",
              "      <td>1095</td>\n",
              "      <td>0.0548</td>\n",
              "      <td>706867.0</td>\n",
              "      <td>4</td>\n",
              "    </tr>\n",
              "    <tr>\n",
              "      <th>5</th>\n",
              "      <td>OLINDA</td>\n",
              "      <td>14581</td>\n",
              "      <td>635</td>\n",
              "      <td>0.0435</td>\n",
              "      <td>393115.0</td>\n",
              "      <td>5</td>\n",
              "    </tr>\n",
              "    <tr>\n",
              "      <th>6</th>\n",
              "      <td>PAULISTA</td>\n",
              "      <td>7154</td>\n",
              "      <td>528</td>\n",
              "      <td>0.0738</td>\n",
              "      <td>334376.0</td>\n",
              "      <td>6</td>\n",
              "    </tr>\n",
              "    <tr>\n",
              "      <th>7</th>\n",
              "      <td>PETROLINA</td>\n",
              "      <td>18239</td>\n",
              "      <td>209</td>\n",
              "      <td>0.0115</td>\n",
              "      <td>354317.0</td>\n",
              "      <td>7</td>\n",
              "    </tr>\n",
              "    <tr>\n",
              "      <th>8</th>\n",
              "      <td>RECIFE</td>\n",
              "      <td>78117</td>\n",
              "      <td>3168</td>\n",
              "      <td>0.0406</td>\n",
              "      <td>1653461.0</td>\n",
              "      <td>8</td>\n",
              "    </tr>\n",
              "    <tr>\n",
              "      <th>9</th>\n",
              "      <td>SERRA TALHADA</td>\n",
              "      <td>7341</td>\n",
              "      <td>105</td>\n",
              "      <td>0.0143</td>\n",
              "      <td>86915.0</td>\n",
              "      <td>9</td>\n",
              "    </tr>\n",
              "  </tbody>\n",
              "</table>\n",
              "</div>"
            ],
            "text/plain": [
              "                  municipio  casos_confirmados  ...  pop_estimada  id\n",
              "id                                              ...                  \n",
              "0                 ARCOVERDE               4281  ...       74822.0   0\n",
              "1                    BUÍQUE               1436  ...       58919.0   1\n",
              "2                   CARUARU              17187  ...      365278.0   2\n",
              "3                 GARANHUNS               7250  ...      140577.0   3\n",
              "4   JABOATÃO DOS GUARARAPES              19966  ...      706867.0   4\n",
              "5                    OLINDA              14581  ...      393115.0   5\n",
              "6                  PAULISTA               7154  ...      334376.0   6\n",
              "7                 PETROLINA              18239  ...      354317.0   7\n",
              "8                    RECIFE              78117  ...     1653461.0   8\n",
              "9             SERRA TALHADA               7341  ...       86915.0   9\n",
              "\n",
              "[10 rows x 6 columns]"
            ]
          },
          "metadata": {
            "tags": []
          },
          "execution_count": 32
        }
      ]
    },
    {
      "cell_type": "markdown",
      "metadata": {
        "id": "IDTgOPKxAaCv"
      },
      "source": [
        "### **Remoção de outliers multivariado**\n",
        "> Método utilizado:\n",
        "  * Local Outlier Factor\n",
        "\n",
        "> Conjunto:\n",
        "  * ```investCovidPE```"
      ]
    },
    {
      "cell_type": "markdown",
      "metadata": {
        "id": "nayhR_TLag-A"
      },
      "source": [
        "Categorizando Gastos públicos"
      ]
    },
    {
      "cell_type": "markdown",
      "metadata": {
        "id": "qtQRD6AomH-A"
      },
      "source": [
        "Método para vincular os dados de municípios entre os dois Conjuntos de Dados"
      ]
    },
    {
      "cell_type": "code",
      "metadata": {
        "id": "7712t-mXfjd1"
      },
      "source": [
        "def categorizar_municipio(city):\n",
        "  return covidPeCases[covidPeCases['municipio'] == str(city)].index.values.astype(int)[0]"
      ],
      "execution_count": 86,
      "outputs": []
    },
    {
      "cell_type": "code",
      "metadata": {
        "colab": {
          "base_uri": "https://localhost:8080/",
          "height": 771
        },
        "id": "CFbosEXX2qA1",
        "outputId": "9c85fada-09f8-4f39-e980-dd306627853b"
      },
      "source": [
        "invest_covidPe"
      ],
      "execution_count": 87,
      "outputs": [
        {
          "output_type": "execute_result",
          "data": {
            "text/html": [
              "<div>\n",
              "<style scoped>\n",
              "    .dataframe tbody tr th:only-of-type {\n",
              "        vertical-align: middle;\n",
              "    }\n",
              "\n",
              "    .dataframe tbody tr th {\n",
              "        vertical-align: top;\n",
              "    }\n",
              "\n",
              "    .dataframe thead th {\n",
              "        text-align: right;\n",
              "    }\n",
              "</style>\n",
              "<table border=\"1\" class=\"dataframe\">\n",
              "  <thead>\n",
              "    <tr style=\"text-align: right;\">\n",
              "      <th></th>\n",
              "      <th>month</th>\n",
              "      <th>tipo_favorecido</th>\n",
              "      <th>city</th>\n",
              "      <th>Função</th>\n",
              "      <th>prog_orcamento</th>\n",
              "      <th>gastos</th>\n",
              "    </tr>\n",
              "  </thead>\n",
              "  <tbody>\n",
              "    <tr>\n",
              "      <th>0</th>\n",
              "      <td>mar/20</td>\n",
              "      <td>Fundo Público</td>\n",
              "      <td>RECIFE</td>\n",
              "      <td>Saúde</td>\n",
              "      <td>ATENCAO ESPECIALIZADA A SAUDE</td>\n",
              "      <td>60000.00</td>\n",
              "    </tr>\n",
              "    <tr>\n",
              "      <th>1</th>\n",
              "      <td>abr/20</td>\n",
              "      <td>Fundo Público</td>\n",
              "      <td>GARANHUNS</td>\n",
              "      <td>Saúde</td>\n",
              "      <td>ATENCAO ESPECIALIZADA A SAUDE</td>\n",
              "      <td>1174944.27</td>\n",
              "    </tr>\n",
              "    <tr>\n",
              "      <th>2</th>\n",
              "      <td>abr/20</td>\n",
              "      <td>Fundo Público</td>\n",
              "      <td>PETROLINA</td>\n",
              "      <td>Saúde</td>\n",
              "      <td>ATENCAO ESPECIALIZADA A SAUDE</td>\n",
              "      <td>4130446.89</td>\n",
              "    </tr>\n",
              "    <tr>\n",
              "      <th>3</th>\n",
              "      <td>abr/20</td>\n",
              "      <td>Fundo Público</td>\n",
              "      <td>OLINDA</td>\n",
              "      <td>Saúde</td>\n",
              "      <td>ATENCAO ESPECIALIZADA A SAUDE</td>\n",
              "      <td>3830136.03</td>\n",
              "    </tr>\n",
              "    <tr>\n",
              "      <th>4</th>\n",
              "      <td>abr/20</td>\n",
              "      <td>Fundo Público</td>\n",
              "      <td>CARUARU</td>\n",
              "      <td>Saúde</td>\n",
              "      <td>ATENCAO ESPECIALIZADA A SAUDE</td>\n",
              "      <td>3662675.00</td>\n",
              "    </tr>\n",
              "    <tr>\n",
              "      <th>...</th>\n",
              "      <td>...</td>\n",
              "      <td>...</td>\n",
              "      <td>...</td>\n",
              "      <td>...</td>\n",
              "      <td>...</td>\n",
              "      <td>...</td>\n",
              "    </tr>\n",
              "    <tr>\n",
              "      <th>696</th>\n",
              "      <td>04/2020</td>\n",
              "      <td>Fundo Público</td>\n",
              "      <td>JABOATÃO DOS GUARARAPES</td>\n",
              "      <td>Saúde</td>\n",
              "      <td>ATENCAO ESPECIALIZADA A SAUDE</td>\n",
              "      <td>7327021.87</td>\n",
              "    </tr>\n",
              "    <tr>\n",
              "      <th>697</th>\n",
              "      <td>10/2020</td>\n",
              "      <td>Fundo Público</td>\n",
              "      <td>RECIFE</td>\n",
              "      <td>Saúde</td>\n",
              "      <td>ATENCAO ESPECIALIZADA A SAUDE</td>\n",
              "      <td>3500000.00</td>\n",
              "    </tr>\n",
              "    <tr>\n",
              "      <th>698</th>\n",
              "      <td>07/2020</td>\n",
              "      <td>Fundo Público</td>\n",
              "      <td>PETROLINA</td>\n",
              "      <td>Saúde</td>\n",
              "      <td>ATENCAO ESPECIALIZADA A SAUDE</td>\n",
              "      <td>8676053.00</td>\n",
              "    </tr>\n",
              "    <tr>\n",
              "      <th>699</th>\n",
              "      <td>07/2020</td>\n",
              "      <td>Fundo Público</td>\n",
              "      <td>BUÍQUE</td>\n",
              "      <td>Saúde</td>\n",
              "      <td>ATENCAO ESPECIALIZADA A SAUDE</td>\n",
              "      <td>1850000.00</td>\n",
              "    </tr>\n",
              "    <tr>\n",
              "      <th>700</th>\n",
              "      <td>08/2020</td>\n",
              "      <td>Fundo Público</td>\n",
              "      <td>PETROLINA</td>\n",
              "      <td>Assistência social</td>\n",
              "      <td>PROTECAO SOCIAL NO AMBITO DO SISTEMA UNICO DE ...</td>\n",
              "      <td>516875.60</td>\n",
              "    </tr>\n",
              "  </tbody>\n",
              "</table>\n",
              "<p>701 rows × 6 columns</p>\n",
              "</div>"
            ],
            "text/plain": [
              "       month  ...      gastos\n",
              "0     mar/20  ...    60000.00\n",
              "1     abr/20  ...  1174944.27\n",
              "2     abr/20  ...  4130446.89\n",
              "3     abr/20  ...  3830136.03\n",
              "4     abr/20  ...  3662675.00\n",
              "..       ...  ...         ...\n",
              "696  04/2020  ...  7327021.87\n",
              "697  10/2020  ...  3500000.00\n",
              "698  07/2020  ...  8676053.00\n",
              "699  07/2020  ...  1850000.00\n",
              "700  08/2020  ...   516875.60\n",
              "\n",
              "[701 rows x 6 columns]"
            ]
          },
          "metadata": {
            "tags": []
          },
          "execution_count": 87
        }
      ]
    },
    {
      "cell_type": "code",
      "metadata": {
        "id": "L7aa-Y4WAiKn"
      },
      "source": [
        "invest_covidPe['city'] = invest_covidPe['city'].map(lambda city: city.replace(city, str(categorizar_municipio(city))))\n",
        "invest_covidPe['month'] = invest_covidPe['month'].cat.codes\n",
        "invest_covidPe['tipo_favorecido'] = invest_covidPe['tipo_favorecido'].cat.codes\n",
        "invest_covidPe['Função'] = invest_covidPe['Função'].cat.codes\n",
        "invest_covidPe['prog_orcamento'] = invest_covidPe['prog_orcamento'].cat.codes"
      ],
      "execution_count": 88,
      "outputs": []
    },
    {
      "cell_type": "code",
      "metadata": {
        "colab": {
          "base_uri": "https://localhost:8080/",
          "height": 402
        },
        "id": "BkajQcJKl24y",
        "outputId": "af72889b-ca40-40fa-dcee-2323e4f6ed8e"
      },
      "source": [
        "invest_covidPe"
      ],
      "execution_count": 89,
      "outputs": [
        {
          "output_type": "execute_result",
          "data": {
            "text/html": [
              "<div>\n",
              "<style scoped>\n",
              "    .dataframe tbody tr th:only-of-type {\n",
              "        vertical-align: middle;\n",
              "    }\n",
              "\n",
              "    .dataframe tbody tr th {\n",
              "        vertical-align: top;\n",
              "    }\n",
              "\n",
              "    .dataframe thead th {\n",
              "        text-align: right;\n",
              "    }\n",
              "</style>\n",
              "<table border=\"1\" class=\"dataframe\">\n",
              "  <thead>\n",
              "    <tr style=\"text-align: right;\">\n",
              "      <th></th>\n",
              "      <th>month</th>\n",
              "      <th>tipo_favorecido</th>\n",
              "      <th>city</th>\n",
              "      <th>Função</th>\n",
              "      <th>prog_orcamento</th>\n",
              "      <th>gastos</th>\n",
              "    </tr>\n",
              "  </thead>\n",
              "  <tbody>\n",
              "    <tr>\n",
              "      <th>0</th>\n",
              "      <td>16</td>\n",
              "      <td>2</td>\n",
              "      <td>8</td>\n",
              "      <td>3</td>\n",
              "      <td>0</td>\n",
              "      <td>60000.00</td>\n",
              "    </tr>\n",
              "    <tr>\n",
              "      <th>1</th>\n",
              "      <td>10</td>\n",
              "      <td>2</td>\n",
              "      <td>3</td>\n",
              "      <td>3</td>\n",
              "      <td>0</td>\n",
              "      <td>1174944.27</td>\n",
              "    </tr>\n",
              "    <tr>\n",
              "      <th>2</th>\n",
              "      <td>10</td>\n",
              "      <td>2</td>\n",
              "      <td>7</td>\n",
              "      <td>3</td>\n",
              "      <td>0</td>\n",
              "      <td>4130446.89</td>\n",
              "    </tr>\n",
              "    <tr>\n",
              "      <th>3</th>\n",
              "      <td>10</td>\n",
              "      <td>2</td>\n",
              "      <td>5</td>\n",
              "      <td>3</td>\n",
              "      <td>0</td>\n",
              "      <td>3830136.03</td>\n",
              "    </tr>\n",
              "    <tr>\n",
              "      <th>4</th>\n",
              "      <td>10</td>\n",
              "      <td>2</td>\n",
              "      <td>2</td>\n",
              "      <td>3</td>\n",
              "      <td>0</td>\n",
              "      <td>3662675.00</td>\n",
              "    </tr>\n",
              "    <tr>\n",
              "      <th>...</th>\n",
              "      <td>...</td>\n",
              "      <td>...</td>\n",
              "      <td>...</td>\n",
              "      <td>...</td>\n",
              "      <td>...</td>\n",
              "      <td>...</td>\n",
              "    </tr>\n",
              "    <tr>\n",
              "      <th>696</th>\n",
              "      <td>1</td>\n",
              "      <td>2</td>\n",
              "      <td>4</td>\n",
              "      <td>3</td>\n",
              "      <td>0</td>\n",
              "      <td>7327021.87</td>\n",
              "    </tr>\n",
              "    <tr>\n",
              "      <th>697</th>\n",
              "      <td>7</td>\n",
              "      <td>2</td>\n",
              "      <td>8</td>\n",
              "      <td>3</td>\n",
              "      <td>0</td>\n",
              "      <td>3500000.00</td>\n",
              "    </tr>\n",
              "    <tr>\n",
              "      <th>698</th>\n",
              "      <td>4</td>\n",
              "      <td>2</td>\n",
              "      <td>7</td>\n",
              "      <td>3</td>\n",
              "      <td>0</td>\n",
              "      <td>8676053.00</td>\n",
              "    </tr>\n",
              "    <tr>\n",
              "      <th>699</th>\n",
              "      <td>4</td>\n",
              "      <td>2</td>\n",
              "      <td>1</td>\n",
              "      <td>3</td>\n",
              "      <td>0</td>\n",
              "      <td>1850000.00</td>\n",
              "    </tr>\n",
              "    <tr>\n",
              "      <th>700</th>\n",
              "      <td>5</td>\n",
              "      <td>2</td>\n",
              "      <td>7</td>\n",
              "      <td>0</td>\n",
              "      <td>2</td>\n",
              "      <td>516875.60</td>\n",
              "    </tr>\n",
              "  </tbody>\n",
              "</table>\n",
              "<p>701 rows × 6 columns</p>\n",
              "</div>"
            ],
            "text/plain": [
              "     month  tipo_favorecido city  Função  prog_orcamento      gastos\n",
              "0       16                2    8       3               0    60000.00\n",
              "1       10                2    3       3               0  1174944.27\n",
              "2       10                2    7       3               0  4130446.89\n",
              "3       10                2    5       3               0  3830136.03\n",
              "4       10                2    2       3               0  3662675.00\n",
              "..     ...              ...  ...     ...             ...         ...\n",
              "696      1                2    4       3               0  7327021.87\n",
              "697      7                2    8       3               0  3500000.00\n",
              "698      4                2    7       3               0  8676053.00\n",
              "699      4                2    1       3               0  1850000.00\n",
              "700      5                2    7       0               2   516875.60\n",
              "\n",
              "[701 rows x 6 columns]"
            ]
          },
          "metadata": {
            "tags": []
          },
          "execution_count": 89
        }
      ]
    },
    {
      "cell_type": "markdown",
      "metadata": {
        "id": "1IDXw_5TCKW2"
      },
      "source": [
        "#### **Local Outlier Factor**"
      ]
    },
    {
      "cell_type": "code",
      "metadata": {
        "colab": {
          "base_uri": "https://localhost:8080/"
        },
        "id": "cxh5XJkcFxoO",
        "outputId": "70f36bb5-943e-4fe0-fb30-649a1fb02781"
      },
      "source": [
        "invest_covidPe_lof = invest_covidPe\n",
        "print(\"Quantidade de linhas: \" + str(len(invest_covidPe)))"
      ],
      "execution_count": 90,
      "outputs": [
        {
          "output_type": "stream",
          "text": [
            "Quantidade de linhas: 701\n"
          ],
          "name": "stdout"
        }
      ]
    },
    {
      "cell_type": "code",
      "metadata": {
        "id": "wNp19szfcqS-"
      },
      "source": [
        "from sklearn.neighbors import LocalOutlierFactor\n",
        "clf = LocalOutlierFactor(n_neighbors=10)"
      ],
      "execution_count": 91,
      "outputs": []
    },
    {
      "cell_type": "code",
      "metadata": {
        "id": "hY-LVcjacyTl"
      },
      "source": [
        "scores = clf.fit_predict(invest_covidPe_lof)"
      ],
      "execution_count": 92,
      "outputs": []
    },
    {
      "cell_type": "code",
      "metadata": {
        "id": "K-gCHumSdl3H",
        "colab": {
          "base_uri": "https://localhost:8080/"
        },
        "outputId": "321d1613-3061-459f-8763-4f316e3c987f"
      },
      "source": [
        "# Valor de LOF\n",
        "-1*clf.negative_outlier_factor_"
      ],
      "execution_count": 93,
      "outputs": [
        {
          "output_type": "execute_result",
          "data": {
            "text/plain": [
              "array([ 5.06971635,  1.15786907,  1.01278478,  1.00743069,  0.97511367,\n",
              "        1.38735342,  1.14246381,  0.98157289,  0.9388996 ,  1.06181494,\n",
              "        1.03345647,  1.00099309,  1.46929685,  0.96742528,  1.19792081,\n",
              "        1.05815846,  1.32094043,  1.11359083,  0.88391166,  1.28701849,\n",
              "        1.0212535 ,  1.05815846,  1.0811027 ,  1.03028305,  0.96950344,\n",
              "        1.09989847,  1.71633666,  1.09000524,  1.17392687,  1.32513031,\n",
              "        1.24460724,  1.24460724,  0.98706486,  0.95898566,  0.9073941 ,\n",
              "        1.17776213,  1.30074647,  0.94080509,  1.1715444 ,  1.04785782,\n",
              "        0.98969908,  1.22973992,  0.93931047,  1.10569106,  1.11086791,\n",
              "        1.01557319,  0.95207123,  1.0404531 ,  1.40262619,  1.03760092,\n",
              "        0.98506443,  1.31220318,  0.94483734,  1.00836771,  1.03237359,\n",
              "        1.37091875,  1.17742638,  0.99612669,  1.02220098,  0.93716132,\n",
              "        0.99639615,  1.03665054,  1.04930928,  1.3951037 ,  1.09881899,\n",
              "        1.15364448,  1.13640352,  1.02526121,  1.08286789,  0.97687261,\n",
              "        1.10312264,  1.23130391,  1.03433015,  1.23103876,  0.97406902,\n",
              "        1.00836832,  1.16575644,  1.12021853,  0.99612669,  0.9582296 ,\n",
              "        1.07378085,  1.07566838,  1.13702311,  1.18519919,  1.04123949,\n",
              "        0.99529609,  0.98045225,  1.3345122 ,  1.02388755,  1.14159001,\n",
              "        0.97730097,  0.98373643,  1.00277625,  0.95296956,  0.97162536,\n",
              "        0.9811348 , 26.95605932,  0.98941491,  1.17408291,  1.00817919,\n",
              "        1.00124941,  1.04013858,  0.95296956,  0.96837789,  0.98368082,\n",
              "        1.01564939,  0.97822799,  1.03402097,  1.32857675,  0.95443233,\n",
              "        1.07923574,  0.95520682,  1.07686024,  0.97078317,  0.98080848,\n",
              "        1.1080593 ,  1.05691851,  1.08687784,  0.99209075,  0.96273255,\n",
              "        1.05691851,  1.03987723,  1.05021019,  0.94813591,  1.37811025,\n",
              "        1.04005974,  1.03262144,  0.97502109,  1.07929201,  0.97819948,\n",
              "        1.06401928,  1.09128471,  1.10431411,  0.99087607,  0.99780436,\n",
              "        0.96273255,  1.174079  ,  1.06036979,  0.9921648 ,  0.97802784,\n",
              "        0.9811348 ,  1.0520018 ,  1.01565401,  0.98375697,  1.00086347,\n",
              "        1.02399841,  0.95555038,  1.0194217 ,  1.03314316, 27.75387763,\n",
              "        0.99966328,  0.95785721,  1.0691862 ,  1.08425303,  1.02789553,\n",
              "        1.02672522,  1.31881021,  1.10629453,  0.95795242,  1.05891673,\n",
              "        1.18160526,  0.9593656 ,  1.05330164,  1.04783359,  0.99357061,\n",
              "        0.98230192,  1.04885325,  1.2043273 ,  1.12738403,  0.95314462,\n",
              "        1.00450799,  1.00749953,  1.05256023,  0.98583243,  0.98099073,\n",
              "        1.34467024,  1.47854352,  1.23872496,  1.03318735,  0.94497767,\n",
              "        1.12479297,  1.00662319,  0.99986463,  0.96646988,  1.18035211,\n",
              "        0.94039565,  1.01540733,  1.01785844,  0.99510062,  0.97688139,\n",
              "        0.98472152,  1.07502111,  0.97063944,  0.99339473,  0.97468144,\n",
              "        1.03888438,  1.1175102 ,  1.07667705,  1.03939086,  0.97688139,\n",
              "        0.97403614,  1.18698603,  1.05256023,  1.02102444,  1.34358356,\n",
              "        0.99437426,  0.94318983,  1.09976591,  1.12602996,  1.01176986,\n",
              "        1.049486  ,  0.98079947,  1.63385672,  0.99720444,  1.03438353,\n",
              "        0.98097277,  1.12163883,  0.98472152,  0.96990855,  1.20180497,\n",
              "        1.24460724,  0.98641524,  1.00998298,  1.04435288,  1.00577541,\n",
              "        1.00133102,  1.10229785,  1.02789443,  1.01298948,  1.09170686,\n",
              "        0.99058828,  1.16753862,  1.06520101,  1.01664892,  1.00570662,\n",
              "        0.99977531,  1.13850079,  0.96187099,  0.96664715,  0.99966347,\n",
              "        1.08093472, 25.52238866,  1.00720229, 29.95427162,  0.97703039,\n",
              "        1.13139643,  0.9640482 ,  1.2991015 ,  1.12479297,  1.05308976,\n",
              "        1.27227781,  0.99203977,  0.96909241,  0.94559551,  1.01540733,\n",
              "        1.00268364,  1.05402193,  0.9551236 ,  1.11332791,  1.64929225,\n",
              "        1.04778672,  0.97468144,  1.01397356,  1.17347597,  0.99587623,\n",
              "        1.15118761,  0.94289447,  0.96766189,  0.98172852,  1.06691937,\n",
              "        0.98905342,  0.99087607,  1.46256345,  1.07007904,  1.00833983,\n",
              "        1.25826587,  1.10038831,  1.02734008,  1.10815199,  1.1760459 ,\n",
              "        1.05582746,  1.01288556,  1.14745877,  1.00281484,  1.11332791,\n",
              "        1.00857036,  0.96703784,  0.97703039,  1.05601707,  0.99653777,\n",
              "        0.95960079,  0.99528043,  1.00112251,  1.0545147 ,  0.99927486,\n",
              "        0.98492136,  1.00557253,  0.98767248,  1.06802931,  1.14051169,\n",
              "        1.27469804,  1.16473841,  0.9840429 ,  0.99257382,  0.96651575,\n",
              "        1.17057034,  0.97364711,  0.9994135 ,  0.94160997,  0.96740928,\n",
              "        0.99153309,  1.07732031,  0.9840429 ,  0.95517374,  0.98097277,\n",
              "        1.10473159,  1.16538275,  0.96692907,  1.02238378,  0.96569291,\n",
              "        1.05238391,  0.95818253,  0.97635173,  0.93636766,  1.00953672,\n",
              "        0.98085305,  0.9774751 ,  1.04023912,  0.96519965,  0.96706975,\n",
              "        0.98398075,  1.10600227,  1.13901734,  1.20107924,  1.06649056,\n",
              "        1.02388755,  1.09948571,  0.95364521,  0.97122763,  1.02239516,\n",
              "        0.94907828,  1.0071412 ,  1.00885437,  0.98587053,  1.07215908,\n",
              "        1.0143384 ,  1.01116013,  1.09380091,  1.02373887,  0.9585352 ,\n",
              "        1.24653221,  1.16009297,  1.06401928,  0.96283977,  1.04710467,\n",
              "        1.30433733,  1.06425406,  0.97815223,  0.98184981,  1.03385382,\n",
              "        1.32928216,  1.0317872 ,  1.16925669,  1.10924851,  0.96273255,\n",
              "        1.0279302 ,  1.14965654,  0.92127916,  0.96864397,  1.07096755,\n",
              "        1.18654592,  1.20822831,  0.98269663,  1.09803787,  1.0605054 ,\n",
              "        0.97909947,  0.95971758,  1.07166235,  1.02064004,  0.95944057,\n",
              "        1.25643831,  1.02006373,  1.14045423,  1.27455758,  1.43758888,\n",
              "        0.99519718,  1.08022896,  0.97822799,  0.97413273,  0.96263457,\n",
              "        1.1157084 ,  1.07513695,  1.07666653,  0.97144851,  0.92127916,\n",
              "        0.96519965,  0.99209075,  1.00430733,  1.17344495,  1.0473109 ,\n",
              "        1.01013575,  1.14446308,  0.94452781,  0.96007837,  1.05328287,\n",
              "        0.97144851,  0.98175283,  1.06387823,  0.99950143,  0.96616312,\n",
              "        0.97122763,  1.06655808,  1.33158246,  0.97692114,  0.96837789,\n",
              "        0.96321209,  1.06423001,  0.98269663,  1.00225788,  1.02147839,\n",
              "        1.16402642,  0.94560236,  0.95795242,  1.00968111,  1.05125084,\n",
              "        1.00427756,  1.02205497,  0.97789792,  1.10060749,  0.99519718,\n",
              "        1.3040972 ,  1.10323045,  1.04206535,  1.25653288,  0.97592499,\n",
              "        1.0495031 ,  0.98893333,  0.98192738,  1.33988277,  1.00170108,\n",
              "        1.1212623 ,  1.04194502,  1.10168677,  1.09427108,  0.97535422,\n",
              "        1.13822617,  1.02446525,  1.02396755,  1.02973111,  0.94039565,\n",
              "        0.98950181,  1.24581767,  1.00799018,  1.06081237,  0.95522469,\n",
              "        1.04704666,  1.01677704,  1.07344083,  1.09554454,  0.96283977,\n",
              "        0.96263457,  1.1883297 ,  1.1592402 ,  0.98970837,  1.02691424,\n",
              "        1.00839016,  1.22316609,  1.03693837,  0.97590392,  1.02524136,\n",
              "        1.2009166 ,  1.12465336,  1.16155285,  1.09073517,  0.9783367 ,\n",
              "        1.08170826,  1.08601054,  1.02532129,  1.08099875,  0.98892177,\n",
              "        0.98269663,  0.98909575,  1.0225137 ,  1.05027164,  0.9875477 ,\n",
              "        1.06508447,  1.01006248,  0.99186393,  1.00671565,  0.96569291,\n",
              "        1.03925764,  1.09805008,  1.02232124,  0.98663879,  1.07932535,\n",
              "        1.01637392,  1.00405833,  0.97162536,  1.03986293,  0.92127916,\n",
              "        1.13511017,  1.02064004,  0.99044305,  1.12176218,  1.08999419,\n",
              "        1.00187568,  1.21722799,  1.11746672,  0.94596155,  0.95818253,\n",
              "        0.9905502 ,  0.98909575,  0.98193069,  0.98936344,  1.18906429,\n",
              "        1.17058577,  1.06563932,  1.10367327,  0.9849895 ,  1.06081237,\n",
              "        1.02722049,  1.00885437,  1.02048992,  0.97789792,  1.00178527,\n",
              "        1.0973531 ,  0.98273509,  1.0444966 ,  1.10685624,  1.04510903,\n",
              "        1.29055272,  0.96704003,  0.97500529,  0.995789  ,  0.97183217,\n",
              "        0.95791481,  1.12938421,  1.28949643,  1.13476684,  1.01358127,\n",
              "        1.35305612,  1.12467451,  1.00570662,  1.07513695,  1.02722049,\n",
              "        0.97051148,  0.99386148,  1.07061329,  1.02078507,  1.11870151,\n",
              "        0.96353085,  0.97659536,  1.1381063 ,  1.20062624,  1.02212158,\n",
              "        0.98950181,  1.0590178 ,  1.15582121,  0.95093818,  1.22537256,\n",
              "        1.32369477,  0.9471768 , 26.79551576,  0.95853519,  0.96950344,\n",
              "        0.9760057 ,  0.98969908,  1.28701849,  1.10486342,  1.08733281,\n",
              "        0.98506441,  0.99612669,  1.06511878,  1.03283679,  0.94080508,\n",
              "        0.9932826 ,  0.995789  ,  1.30409719,  1.12215432,  1.09989847,\n",
              "        1.00462316,  1.06508447,  1.0404531 ,  0.93931047,  1.17776213,\n",
              "        1.0172084 ,  1.12467451,  1.32094043,  1.00557253, 35.46935   ,\n",
              "        0.97511367,  1.09000524,  1.15411951,  1.15411951,  0.97441659,\n",
              "        5.06971642,  1.00836771,  1.15786907,  1.05672725,  1.40262619,\n",
              "        1.00099309,  1.24460724,  0.99527002,  0.99255867,  1.24460724,\n",
              "        1.14246381,  1.10629453,  1.03279473,  1.35099947,  0.9073941 ,\n",
              "        1.36134167,  1.40412708,  1.33988277,  1.03237359,  1.31220308,\n",
              "        0.98157289,  1.17742638,  1.39439182,  1.10062057,  1.03760092,\n",
              "        1.08041061,  1.02499546,  1.22973992,  1.05601706,  0.96001564,\n",
              "        1.32513564,  1.13182408,  1.10569106,  1.06181494,  0.94813592,\n",
              "        1.08379381,  0.99612669,  1.46929685,  1.23649801,  1.11899235,\n",
              "        1.16500212,  1.11930617,  1.43758888,  1.0212535 ,  1.03345647,\n",
              "        1.30074647,  1.03028305,  0.88391166,  1.02763977,  1.13378212,\n",
              "        0.98932063,  1.32369477,  1.00941602,  1.0811027 ,  1.11359083,\n",
              "        1.05815846,  1.1760459 ,  0.99612669,  4.24673755,  0.98892177,\n",
              "        0.99639615,  1.02789443,  1.02539928,  1.02998885,  1.0043229 ,\n",
              "        1.05815846,  1.17392687,  1.00430733,  1.01665669,  1.00743069,\n",
              "        1.07755826,  1.14045423,  0.97722434,  0.9388996 ,  0.97303789,\n",
              "        1.3462066 ,  1.71633666,  1.11086792,  1.32094043,  1.01278478,\n",
              "        1.02239517,  1.07538021,  0.93716132,  1.32409347,  0.96814754,\n",
              "        0.96990856,  0.99079288,  1.37091875,  1.04785782,  1.15582121,\n",
              "        1.19792081,  1.02763977,  0.95898566,  0.94721617,  0.95207123,\n",
              "        0.94483734,  1.2574992 ,  0.99986464,  1.1715444 ,  0.96742529,\n",
              "        0.98706486,  1.38735342,  1.02220098,  1.24460724,  0.98430014,\n",
              "        1.0155732 ])"
            ]
          },
          "metadata": {
            "tags": []
          },
          "execution_count": 93
        }
      ]
    },
    {
      "cell_type": "code",
      "metadata": {
        "id": "nD9THEnLc9n5",
        "colab": {
          "base_uri": "https://localhost:8080/"
        },
        "outputId": "be203e48-60af-47c6-c08a-5cf528f39e6d"
      },
      "source": [
        "scores"
      ],
      "execution_count": 94,
      "outputs": [
        {
          "output_type": "execute_result",
          "data": {
            "text/plain": [
              "array([-1,  1,  1,  1,  1,  1,  1,  1,  1,  1,  1,  1,  1,  1,  1,  1,  1,\n",
              "        1,  1,  1,  1,  1,  1,  1,  1,  1, -1,  1,  1,  1,  1,  1,  1,  1,\n",
              "        1,  1,  1,  1,  1,  1,  1,  1,  1,  1,  1,  1,  1,  1,  1,  1,  1,\n",
              "        1,  1,  1,  1,  1,  1,  1,  1,  1,  1,  1,  1,  1,  1,  1,  1,  1,\n",
              "        1,  1,  1,  1,  1,  1,  1,  1,  1,  1,  1,  1,  1,  1,  1,  1,  1,\n",
              "        1,  1,  1,  1,  1,  1,  1,  1,  1,  1,  1, -1,  1,  1,  1,  1,  1,\n",
              "        1,  1,  1,  1,  1,  1,  1,  1,  1,  1,  1,  1,  1,  1,  1,  1,  1,\n",
              "        1,  1,  1,  1,  1,  1,  1,  1,  1,  1,  1,  1,  1,  1,  1,  1,  1,\n",
              "        1,  1,  1,  1,  1,  1,  1,  1,  1,  1,  1,  1,  1, -1,  1,  1,  1,\n",
              "        1,  1,  1,  1,  1,  1,  1,  1,  1,  1,  1,  1,  1,  1,  1,  1,  1,\n",
              "        1,  1,  1,  1,  1,  1,  1,  1,  1,  1,  1,  1,  1,  1,  1,  1,  1,\n",
              "        1,  1,  1,  1,  1,  1,  1,  1,  1,  1,  1,  1,  1,  1,  1,  1,  1,\n",
              "        1,  1,  1,  1,  1,  1,  1,  1, -1,  1,  1,  1,  1,  1,  1,  1,  1,\n",
              "        1,  1,  1,  1,  1,  1,  1,  1,  1,  1,  1,  1,  1,  1,  1,  1,  1,\n",
              "        1,  1,  1, -1,  1, -1,  1,  1,  1,  1,  1,  1,  1,  1,  1,  1,  1,\n",
              "        1,  1,  1,  1, -1,  1,  1,  1,  1,  1,  1,  1,  1,  1,  1,  1,  1,\n",
              "        1,  1,  1,  1,  1,  1,  1,  1,  1,  1,  1,  1,  1,  1,  1,  1,  1,\n",
              "        1,  1,  1,  1,  1,  1,  1,  1,  1,  1,  1,  1,  1,  1,  1,  1,  1,\n",
              "        1,  1,  1,  1,  1,  1,  1,  1,  1,  1,  1,  1,  1,  1,  1,  1,  1,\n",
              "        1,  1,  1,  1,  1,  1,  1,  1,  1,  1,  1,  1,  1,  1,  1,  1,  1,\n",
              "        1,  1,  1,  1,  1,  1,  1,  1,  1,  1,  1,  1,  1,  1,  1,  1,  1,\n",
              "        1,  1,  1,  1,  1,  1,  1,  1,  1,  1,  1,  1,  1,  1,  1,  1,  1,\n",
              "        1,  1,  1,  1,  1,  1,  1,  1,  1,  1,  1,  1,  1,  1,  1,  1,  1,\n",
              "        1,  1,  1,  1,  1,  1,  1,  1,  1,  1,  1,  1,  1,  1,  1,  1,  1,\n",
              "        1,  1,  1,  1,  1,  1,  1,  1,  1,  1,  1,  1,  1,  1,  1,  1,  1,\n",
              "        1,  1,  1,  1,  1,  1,  1,  1,  1,  1,  1,  1,  1,  1,  1,  1,  1,\n",
              "        1,  1,  1,  1,  1,  1,  1,  1,  1,  1,  1,  1,  1,  1,  1,  1,  1,\n",
              "        1,  1,  1,  1,  1,  1,  1,  1,  1,  1,  1,  1,  1,  1,  1,  1,  1,\n",
              "        1,  1,  1,  1,  1,  1,  1,  1,  1,  1,  1,  1,  1,  1,  1,  1,  1,\n",
              "        1,  1,  1,  1,  1,  1,  1,  1,  1,  1,  1,  1,  1,  1,  1,  1,  1,\n",
              "        1,  1,  1,  1,  1,  1,  1,  1,  1,  1,  1,  1,  1,  1,  1,  1,  1,\n",
              "        1,  1,  1,  1,  1,  1,  1,  1,  1,  1,  1,  1,  1,  1,  1,  1,  1,\n",
              "        1,  1,  1,  1,  1,  1,  1,  1,  1,  1,  1,  1,  1,  1,  1,  1,  1,\n",
              "        1, -1,  1,  1,  1,  1,  1,  1,  1,  1,  1,  1,  1,  1,  1,  1,  1,\n",
              "        1,  1,  1,  1,  1,  1,  1,  1,  1,  1,  1, -1,  1,  1,  1,  1,  1,\n",
              "       -1,  1,  1,  1,  1,  1,  1,  1,  1,  1,  1,  1,  1,  1,  1,  1,  1,\n",
              "        1,  1,  1,  1,  1,  1,  1,  1,  1,  1,  1,  1,  1,  1,  1,  1,  1,\n",
              "        1,  1,  1,  1,  1,  1,  1,  1,  1,  1,  1,  1,  1,  1,  1,  1,  1,\n",
              "        1,  1,  1,  1,  1,  1,  1, -1,  1,  1,  1,  1,  1,  1,  1,  1,  1,\n",
              "        1,  1,  1,  1,  1,  1,  1,  1, -1,  1,  1,  1,  1,  1,  1,  1,  1,\n",
              "        1,  1,  1,  1,  1,  1,  1,  1,  1,  1,  1,  1,  1,  1,  1,  1,  1,\n",
              "        1,  1,  1,  1])"
            ]
          },
          "metadata": {
            "tags": []
          },
          "execution_count": 94
        }
      ]
    },
    {
      "cell_type": "code",
      "metadata": {
        "id": "nipEFPzndJYa",
        "colab": {
          "base_uri": "https://localhost:8080/"
        },
        "outputId": "de8da9ab-defa-46ed-f84a-2f14048a5a8a"
      },
      "source": [
        "invest_covidPe_lof['outlier'] = scores\n",
        "print(invest_covidPe_lof.head())"
      ],
      "execution_count": 95,
      "outputs": [
        {
          "output_type": "stream",
          "text": [
            "   month  tipo_favorecido city  Função  prog_orcamento      gastos  outlier\n",
            "0     16                2    8       3               0    60000.00       -1\n",
            "1     10                2    3       3               0  1174944.27        1\n",
            "2     10                2    7       3               0  4130446.89        1\n",
            "3     10                2    5       3               0  3830136.03        1\n",
            "4     10                2    2       3               0  3662675.00        1\n"
          ],
          "name": "stdout"
        }
      ]
    },
    {
      "cell_type": "code",
      "metadata": {
        "id": "YoaDBs3ldU8j",
        "colab": {
          "base_uri": "https://localhost:8080/",
          "height": 432
        },
        "outputId": "4153a465-0ca4-408e-fce8-ddbb06f5c8bd"
      },
      "source": [
        "invest_covidPe_lof[invest_covidPe_lof['outlier'] == -1]"
      ],
      "execution_count": 96,
      "outputs": [
        {
          "output_type": "execute_result",
          "data": {
            "text/html": [
              "<div>\n",
              "<style scoped>\n",
              "    .dataframe tbody tr th:only-of-type {\n",
              "        vertical-align: middle;\n",
              "    }\n",
              "\n",
              "    .dataframe tbody tr th {\n",
              "        vertical-align: top;\n",
              "    }\n",
              "\n",
              "    .dataframe thead th {\n",
              "        text-align: right;\n",
              "    }\n",
              "</style>\n",
              "<table border=\"1\" class=\"dataframe\">\n",
              "  <thead>\n",
              "    <tr style=\"text-align: right;\">\n",
              "      <th></th>\n",
              "      <th>month</th>\n",
              "      <th>tipo_favorecido</th>\n",
              "      <th>city</th>\n",
              "      <th>Função</th>\n",
              "      <th>prog_orcamento</th>\n",
              "      <th>gastos</th>\n",
              "      <th>outlier</th>\n",
              "    </tr>\n",
              "  </thead>\n",
              "  <tbody>\n",
              "    <tr>\n",
              "      <th>0</th>\n",
              "      <td>16</td>\n",
              "      <td>2</td>\n",
              "      <td>8</td>\n",
              "      <td>3</td>\n",
              "      <td>0</td>\n",
              "      <td>60000.00</td>\n",
              "      <td>-1</td>\n",
              "    </tr>\n",
              "    <tr>\n",
              "      <th>26</th>\n",
              "      <td>14</td>\n",
              "      <td>2</td>\n",
              "      <td>8</td>\n",
              "      <td>0</td>\n",
              "      <td>2</td>\n",
              "      <td>2264395.80</td>\n",
              "      <td>-1</td>\n",
              "    </tr>\n",
              "    <tr>\n",
              "      <th>96</th>\n",
              "      <td>17</td>\n",
              "      <td>1</td>\n",
              "      <td>8</td>\n",
              "      <td>2</td>\n",
              "      <td>1</td>\n",
              "      <td>-534.86</td>\n",
              "      <td>-1</td>\n",
              "    </tr>\n",
              "    <tr>\n",
              "      <th>149</th>\n",
              "      <td>17</td>\n",
              "      <td>1</td>\n",
              "      <td>8</td>\n",
              "      <td>2</td>\n",
              "      <td>1</td>\n",
              "      <td>-1084.16</td>\n",
              "      <td>-1</td>\n",
              "    </tr>\n",
              "    <tr>\n",
              "      <th>212</th>\n",
              "      <td>17</td>\n",
              "      <td>1</td>\n",
              "      <td>7</td>\n",
              "      <td>2</td>\n",
              "      <td>1</td>\n",
              "      <td>12037.82</td>\n",
              "      <td>-1</td>\n",
              "    </tr>\n",
              "    <tr>\n",
              "      <th>241</th>\n",
              "      <td>17</td>\n",
              "      <td>1</td>\n",
              "      <td>8</td>\n",
              "      <td>2</td>\n",
              "      <td>1</td>\n",
              "      <td>-1248.01</td>\n",
              "      <td>-1</td>\n",
              "    </tr>\n",
              "    <tr>\n",
              "      <th>243</th>\n",
              "      <td>17</td>\n",
              "      <td>1</td>\n",
              "      <td>8</td>\n",
              "      <td>2</td>\n",
              "      <td>1</td>\n",
              "      <td>-2529.72</td>\n",
              "      <td>-1</td>\n",
              "    </tr>\n",
              "    <tr>\n",
              "      <th>259</th>\n",
              "      <td>17</td>\n",
              "      <td>1</td>\n",
              "      <td>2</td>\n",
              "      <td>2</td>\n",
              "      <td>1</td>\n",
              "      <td>1342.91</td>\n",
              "      <td>-1</td>\n",
              "    </tr>\n",
              "    <tr>\n",
              "      <th>562</th>\n",
              "      <td>8</td>\n",
              "      <td>1</td>\n",
              "      <td>8</td>\n",
              "      <td>2</td>\n",
              "      <td>1</td>\n",
              "      <td>-1619.02</td>\n",
              "      <td>-1</td>\n",
              "    </tr>\n",
              "    <tr>\n",
              "      <th>589</th>\n",
              "      <td>8</td>\n",
              "      <td>1</td>\n",
              "      <td>8</td>\n",
              "      <td>2</td>\n",
              "      <td>1</td>\n",
              "      <td>-3777.73</td>\n",
              "      <td>-1</td>\n",
              "    </tr>\n",
              "    <tr>\n",
              "      <th>595</th>\n",
              "      <td>0</td>\n",
              "      <td>2</td>\n",
              "      <td>8</td>\n",
              "      <td>3</td>\n",
              "      <td>0</td>\n",
              "      <td>60000.00</td>\n",
              "      <td>-1</td>\n",
              "    </tr>\n",
              "    <tr>\n",
              "      <th>653</th>\n",
              "      <td>9</td>\n",
              "      <td>2</td>\n",
              "      <td>1</td>\n",
              "      <td>3</td>\n",
              "      <td>0</td>\n",
              "      <td>17375.00</td>\n",
              "      <td>-1</td>\n",
              "    </tr>\n",
              "    <tr>\n",
              "      <th>671</th>\n",
              "      <td>3</td>\n",
              "      <td>2</td>\n",
              "      <td>8</td>\n",
              "      <td>0</td>\n",
              "      <td>2</td>\n",
              "      <td>2264395.80</td>\n",
              "      <td>-1</td>\n",
              "    </tr>\n",
              "  </tbody>\n",
              "</table>\n",
              "</div>"
            ],
            "text/plain": [
              "     month  tipo_favorecido city  Função  prog_orcamento      gastos  outlier\n",
              "0       16                2    8       3               0    60000.00       -1\n",
              "26      14                2    8       0               2  2264395.80       -1\n",
              "96      17                1    8       2               1     -534.86       -1\n",
              "149     17                1    8       2               1    -1084.16       -1\n",
              "212     17                1    7       2               1    12037.82       -1\n",
              "241     17                1    8       2               1    -1248.01       -1\n",
              "243     17                1    8       2               1    -2529.72       -1\n",
              "259     17                1    2       2               1     1342.91       -1\n",
              "562      8                1    8       2               1    -1619.02       -1\n",
              "589      8                1    8       2               1    -3777.73       -1\n",
              "595      0                2    8       3               0    60000.00       -1\n",
              "653      9                2    1       3               0    17375.00       -1\n",
              "671      3                2    8       0               2  2264395.80       -1"
            ]
          },
          "metadata": {
            "tags": []
          },
          "execution_count": 96
        }
      ]
    },
    {
      "cell_type": "code",
      "metadata": {
        "id": "g0eXFEW2dgSV",
        "colab": {
          "base_uri": "https://localhost:8080/"
        },
        "outputId": "ab8bc104-26e9-4684-fd26-92c1ce42e42c"
      },
      "source": [
        "invest_covidPe_lof = invest_covidPe_lof[invest_covidPe_lof['outlier'] != -1]\n",
        "len(invest_covidPe_lof)"
      ],
      "execution_count": 97,
      "outputs": [
        {
          "output_type": "execute_result",
          "data": {
            "text/plain": [
              "688"
            ]
          },
          "metadata": {
            "tags": []
          },
          "execution_count": 97
        }
      ]
    },
    {
      "cell_type": "code",
      "metadata": {
        "colab": {
          "base_uri": "https://localhost:8080/",
          "height": 195
        },
        "id": "S5irO6nqfxtw",
        "outputId": "a1104fd6-aeaf-44b6-e2bf-f8509c2fe814"
      },
      "source": [
        "invest_covidPe_lof = invest_covidPe_lof[invest_covidPe_lof['outlier'] != -1]\n",
        "invest_covidPe_lof = invest_covidPe_lof.drop(columns=['outlier'])\n",
        "\n",
        "invest_covidPe_lof.head(5)"
      ],
      "execution_count": 98,
      "outputs": [
        {
          "output_type": "execute_result",
          "data": {
            "text/html": [
              "<div>\n",
              "<style scoped>\n",
              "    .dataframe tbody tr th:only-of-type {\n",
              "        vertical-align: middle;\n",
              "    }\n",
              "\n",
              "    .dataframe tbody tr th {\n",
              "        vertical-align: top;\n",
              "    }\n",
              "\n",
              "    .dataframe thead th {\n",
              "        text-align: right;\n",
              "    }\n",
              "</style>\n",
              "<table border=\"1\" class=\"dataframe\">\n",
              "  <thead>\n",
              "    <tr style=\"text-align: right;\">\n",
              "      <th></th>\n",
              "      <th>month</th>\n",
              "      <th>tipo_favorecido</th>\n",
              "      <th>city</th>\n",
              "      <th>Função</th>\n",
              "      <th>prog_orcamento</th>\n",
              "      <th>gastos</th>\n",
              "    </tr>\n",
              "  </thead>\n",
              "  <tbody>\n",
              "    <tr>\n",
              "      <th>1</th>\n",
              "      <td>10</td>\n",
              "      <td>2</td>\n",
              "      <td>3</td>\n",
              "      <td>3</td>\n",
              "      <td>0</td>\n",
              "      <td>1174944.27</td>\n",
              "    </tr>\n",
              "    <tr>\n",
              "      <th>2</th>\n",
              "      <td>10</td>\n",
              "      <td>2</td>\n",
              "      <td>7</td>\n",
              "      <td>3</td>\n",
              "      <td>0</td>\n",
              "      <td>4130446.89</td>\n",
              "    </tr>\n",
              "    <tr>\n",
              "      <th>3</th>\n",
              "      <td>10</td>\n",
              "      <td>2</td>\n",
              "      <td>5</td>\n",
              "      <td>3</td>\n",
              "      <td>0</td>\n",
              "      <td>3830136.03</td>\n",
              "    </tr>\n",
              "    <tr>\n",
              "      <th>4</th>\n",
              "      <td>10</td>\n",
              "      <td>2</td>\n",
              "      <td>2</td>\n",
              "      <td>3</td>\n",
              "      <td>0</td>\n",
              "      <td>3662675.00</td>\n",
              "    </tr>\n",
              "    <tr>\n",
              "      <th>5</th>\n",
              "      <td>10</td>\n",
              "      <td>2</td>\n",
              "      <td>4</td>\n",
              "      <td>3</td>\n",
              "      <td>0</td>\n",
              "      <td>7327021.87</td>\n",
              "    </tr>\n",
              "  </tbody>\n",
              "</table>\n",
              "</div>"
            ],
            "text/plain": [
              "   month  tipo_favorecido city  Função  prog_orcamento      gastos\n",
              "1     10                2    3       3               0  1174944.27\n",
              "2     10                2    7       3               0  4130446.89\n",
              "3     10                2    5       3               0  3830136.03\n",
              "4     10                2    2       3               0  3662675.00\n",
              "5     10                2    4       3               0  7327021.87"
            ]
          },
          "metadata": {
            "tags": []
          },
          "execution_count": 98
        }
      ]
    },
    {
      "cell_type": "code",
      "metadata": {
        "id": "Jua0_jyMlJGs"
      },
      "source": [
        "covidPeCases['pop_estimada'] = covidPeCases['pop_estimada'].astype('int64')\n",
        "covidPeCases['taxa_mortalidade'] = covidPeCases['taxa_mortalidade'] * 100\n",
        "covidPeCases['confirmados_por_populacao'] = (covidPeCases['confirmados_por_populacao'] * 100).round(2)\n",
        "covidPeCases['gastos_por_habitante'] = (covidPeCases['gastos'] / covidPeCases['pop_estimada']).round(2)"
      ],
      "execution_count": null,
      "outputs": []
    },
    {
      "cell_type": "markdown",
      "metadata": {
        "id": "o46zSVKnzZrY"
      },
      "source": [
        "# Projeto 2\n"
      ]
    },
    {
      "cell_type": "markdown",
      "metadata": {
        "id": "EDGXD-tA7v0m"
      },
      "source": [
        "\n",
        "1. Escolher uma\tdas\tcolunas\tdos\tdados\tutilizados\tno\tprojeto 1\tpara predição\t(classificação ou regressão)\t\n",
        "  * Classificação : Rótulos são categorias discretas\n",
        "  * Regressão: rótulos são valores contínuos\n",
        "2. Separar os\tdados\tem treinamento,\tvalidação\te\tteste\n",
        "3. Selecionar\t4\talgoritmos\tde\tacordo\tcom\ta\ttarefa escolhida\n",
        "no\tpasso\t1\t\n",
        "\n",
        " **Algoritmos de classificação:**\n",
        "\n",
        "* Scikit-Learn's Estimator API\n",
        "  - Vários algoritmos implementados\n",
        "  - Uniformidade\n",
        "  - Modelos para algoritmo Supervisionado: função predict e Não-supervisionado: função transform ou predict\n",
        "* Random Forest \n",
        "  - Vários estimadores combinados para evitar overfitting\n",
        "  - Não assume distribuição gaussiana, obtém ótimos resultados\n",
        "\n",
        "* Algoritmo de construção  \n",
        "  - Execução rápida, lida bem com dados ausentes\n",
        "  - Mostra a importância das features na classificação\n",
        "  \n",
        "\n",
        "**Medidas para avaliação da qualidade do modelo:**\n",
        "Os valores de erro são dados em '%'\n",
        "\n",
        "* Viés = Erro no treinamento - Erro Alvo (Desempenho no conjunto de treinamento)\n",
        "* Variância = Erro no teste - Erro no treinamento\n",
        "\n",
        "\n",
        "Possíveis cenários de viés e Variância\n",
        "\n",
        "Overfitting:\n",
        "  - Bom desempenho somente no conjunto de treinamento.\n",
        "  - Apresenta problemas para generalizar\n",
        "  - Ex : Erro no treinamento: 1%, Erro no teste: 11% (Baixo viés, Alta variância)\n",
        "  - Para melhorar o desempenho : Adicionar mais dados ao conjunto de treinamento, diminuir a complexidade do modelo, selecionar melhor as features.\n",
        "\n",
        "Underfitting:\n",
        "  - Não modela bem o conjunto de treinamento, problemas em generalizar\n",
        "  - Ex: Erro no treinamento 15%, Erro no teste: 16% (ALto viés, Baixa variância)\n",
        " - Para melhorar o desempenho : Aumentar a complexidade, adicionar mais features.\n",
        "\n",
        "Caso ideal:\n",
        "  - Erro no treinamento: 0.5%, Erro no teste: 1%\n"
      ]
    },
    {
      "cell_type": "markdown",
      "metadata": {
        "id": "yVCGA_mZ8g1h"
      },
      "source": [
        "## Classificação 1\n",
        "> Classificador com baixa complexidade\n",
        "  * NaiveBayes\n",
        "  * J48 (Decision Tree)"
      ]
    },
    {
      "cell_type": "code",
      "metadata": {
        "id": "fheZDOip7rNH"
      },
      "source": [
        "#dados\n",
        "\n",
        "#https://scikit-learn.org/stable/modules/model_evaluation.html\n",
        "\n",
        "from sklearn.model_selection import train_test_split\n",
        "import seaborn as sns\n",
        "\n",
        "\n",
        "ClassTest = invest_covidPe_lof\n",
        "X_ClassTest = ClassTest.drop('prog_orcamento', axis=1)\n",
        "Y_ClassTest = ClassTest['prog_orcamento']\n",
        "Xtrain, Xtest, Ytrain, Ytest = train_test_split(X_ClassTest, Y_ClassTest,\n",
        "                                                random_state=3)\n",
        "\n",
        "#O random_state = 3 apresentou 81,5% de acurácia, foi o melhor de 1 a 10. Acrescentei as features de data e município, porém não contribuiram positivamente.\n"
      ],
      "execution_count": 108,
      "outputs": []
    },
    {
      "cell_type": "code",
      "metadata": {
        "id": "Jr-U_Z6a8Uyf"
      },
      "source": [
        "from sklearn.naive_bayes import GaussianNB # 1. escolha da técnica\n",
        "model = GaussianNB()                       # 2. instanciação do modelo\n",
        "model.fit(Xtrain, Ytrain)                  # 3. criação do modelo\n",
        "Y_model = model.predict(Xtest)             # 4. predição em novos dados"
      ],
      "execution_count": 109,
      "outputs": []
    },
    {
      "cell_type": "code",
      "metadata": {
        "id": "HtBp9v-w8VwX",
        "colab": {
          "base_uri": "https://localhost:8080/"
        },
        "outputId": "1d7e8700-cca4-4dd6-bc78-b065550a7fd3"
      },
      "source": [
        "from sklearn.metrics import accuracy_score\n",
        "accuracy_score(Ytest, Y_model)"
      ],
      "execution_count": 110,
      "outputs": [
        {
          "output_type": "execute_result",
          "data": {
            "text/plain": [
              "0.877906976744186"
            ]
          },
          "metadata": {
            "tags": []
          },
          "execution_count": 110
        }
      ]
    },
    {
      "cell_type": "markdown",
      "metadata": {
        "id": "hxiL1dq6KUiD"
      },
      "source": [
        "### **F1Score**\n",
        "\n",
        "'micro':\n",
        "Calculate metrics globally by counting the total true positives, false negatives and false positives.\n",
        "\n",
        "'macro':\n",
        "Calculate metrics for each label, and find their unweighted mean. This does not take label imbalance into account.\n",
        "\n",
        "'weighted':\n",
        "Calculate metrics for each label, and find their average weighted by support (the number of true instances for each label). This alters ‘macro’ to account for label imbalance; it can result in an F-score that is not between precision and recall"
      ]
    },
    {
      "cell_type": "code",
      "metadata": {
        "id": "UV-lSg7FCbhJ",
        "colab": {
          "base_uri": "https://localhost:8080/"
        },
        "outputId": "437d962c-4729-4700-cae7-22e245bd1b76"
      },
      "source": [
        "from sklearn.metrics import f1_score\n",
        "print(f1_score(Y_model, Ytest, average='macro'))\n",
        "print(f1_score(Y_model, Ytest, average='micro'))\n",
        "print(f1_score(Y_model, Ytest, average='weighted'))\n",
        "#print(f1_score(Y_model, Ytest, zero_division=1))"
      ],
      "execution_count": 112,
      "outputs": [
        {
          "output_type": "stream",
          "text": [
            "0.4209635316250102\n",
            "0.877906976744186\n",
            "0.8712663618283019\n"
          ],
          "name": "stdout"
        }
      ]
    },
    {
      "cell_type": "markdown",
      "metadata": {
        "id": "QpcyCMyi8j6J"
      },
      "source": [
        "## Classificação 2\n",
        "> Classificador com alta complexidade\n",
        "  * KNN\n",
        "  * Random Forest\n",
        "  * SVM"
      ]
    },
    {
      "cell_type": "code",
      "metadata": {
        "id": "eXfSJtuL8oCG",
        "colab": {
          "base_uri": "https://localhost:8080/"
        },
        "outputId": "8d502ade-8b9f-406b-f641-3df187dd62d4"
      },
      "source": [
        "from sklearn.datasets import load_digits\n",
        "digits = load_digits()\n",
        "digits.images.shape"
      ],
      "execution_count": null,
      "outputs": [
        {
          "output_type": "execute_result",
          "data": {
            "text/plain": [
              "(1797, 8, 8)"
            ]
          },
          "metadata": {
            "tags": []
          },
          "execution_count": 49
        }
      ]
    },
    {
      "cell_type": "code",
      "metadata": {
        "id": "2Rcg2V4B8qY3",
        "colab": {
          "base_uri": "https://localhost:8080/",
          "height": 466
        },
        "outputId": "bf915a64-95bf-4893-a190-69fb0c44abcc"
      },
      "source": [
        "import matplotlib.pyplot as plt\n",
        "\n",
        "fig, axes = plt.subplots(10, 10, figsize=(8, 8),\n",
        "                         subplot_kw={'xticks':[], 'yticks':[]},\n",
        "                         gridspec_kw=dict(hspace=0.1, wspace=0.1))\n",
        "\n",
        "for i, ax in enumerate(axes.flat):\n",
        "    ax.imshow(digits.images[i], cmap='binary', interpolation='nearest')\n",
        "    ax.text(0.05, 0.05, str(digits.target[i]),\n",
        "            transform=ax.transAxes, color='green')"
      ],
      "execution_count": null,
      "outputs": [
        {
          "output_type": "display_data",
          "data": {
            "image/png": "[encoded data removed]",
            "text/plain": [
              "<Figure size 576x576 with 100 Axes>"
            ]
          },
          "metadata": {
            "tags": []
          }
        }
      ]
    },
    {
      "cell_type": "code",
      "metadata": {
        "id": "cDQyK5VM8rrx",
        "colab": {
          "base_uri": "https://localhost:8080/"
        },
        "outputId": "4ea528eb-1d45-41b0-db13-7cc098705d1d"
      },
      "source": [
        "X = digits.data\n",
        "X.shape"
      ],
      "execution_count": null,
      "outputs": [
        {
          "output_type": "execute_result",
          "data": {
            "text/plain": [
              "(1797, 64)"
            ]
          },
          "metadata": {
            "tags": []
          },
          "execution_count": 51
        }
      ]
    },
    {
      "cell_type": "code",
      "metadata": {
        "id": "k85ToMiu8tA3"
      },
      "source": [
        "y = digits.target"
      ],
      "execution_count": null,
      "outputs": []
    },
    {
      "cell_type": "code",
      "metadata": {
        "id": "doXnlmLF8ujP"
      },
      "source": [
        "Xtrain, Xtest, ytrain, ytest = train_test_split(X, y, random_state=0)"
      ],
      "execution_count": null,
      "outputs": []
    },
    {
      "cell_type": "code",
      "metadata": {
        "id": "YSgeGRFZ8v5g"
      },
      "source": [
        "\n",
        "from sklearn.naive_bayes import GaussianNB\n",
        "model = GaussianNB()\n",
        "model.fit(Xtrain, ytrain)\n",
        "y_model = model.predict(Xtest)\n",
        "ypred_train = model.predict(Xtrain)"
      ],
      "execution_count": null,
      "outputs": []
    },
    {
      "cell_type": "code",
      "metadata": {
        "id": "K7E8ITPq8yWg",
        "colab": {
          "base_uri": "https://localhost:8080/"
        },
        "outputId": "7b133994-d61f-43f2-9279-0b8b91fcfe51"
      },
      "source": [
        "from sklearn.metrics import accuracy_score\n",
        "from sklearn.metrics import accuracy_score\n",
        "print(\"ACC TRAINING:\" + str(accuracy_score(ytrain, ypred_train)))\n",
        "print(\"ACC TEST:\" + str(accuracy_score(ytest, y_model)))"
      ],
      "execution_count": null,
      "outputs": [
        {
          "output_type": "stream",
          "text": [
            "ACC TRAINING:0.8574610244988864\n",
            "ACC TEST:0.8333333333333334\n"
          ],
          "name": "stdout"
        }
      ]
    },
    {
      "cell_type": "code",
      "metadata": {
        "id": "wXLeOYMS8z-I",
        "colab": {
          "base_uri": "https://localhost:8080/",
          "height": 285
        },
        "outputId": "79ffadbc-93be-4150-f476-974f42d46aea"
      },
      "source": [
        "from sklearn.metrics import confusion_matrix\n",
        "\n",
        "mat = confusion_matrix(ytest, y_model)\n",
        "\n",
        "sns.heatmap(mat, square=True, annot=True, cbar=False)\n",
        "plt.xlabel('predicted value')\n",
        "plt.ylabel('true value');"
      ],
      "execution_count": null,
      "outputs": [
        {
          "output_type": "display_data",
          "data": {
            "image/png": "[encoded data removed]",
            "text/plain": [
              "<Figure size 432x288 with 1 Axes>"
            ]
          },
          "metadata": {
            "tags": [],
            "needs_background": "light"
          }
        }
      ]
    },
    {
      "cell_type": "markdown",
      "metadata": {
        "id": "d0ib84nJdQgk"
      },
      "source": [
        "## Regressão\n",
        "  * Linear\n",
        "  * Por Árvore de Decisão\n",
        "  * Por Random Forest\n",
        "  "
      ]
    },
    {
      "cell_type": "code",
      "metadata": {
        "id": "z76t_WjgdoGD"
      },
      "source": [
        "RegressionTest = invest_covidPe[['Função','gastos']]"
      ],
      "execution_count": 149,
      "outputs": []
    },
    {
      "cell_type": "code",
      "metadata": {
        "colab": {
          "base_uri": "https://localhost:8080/"
        },
        "id": "lsP2hgg9dwiu",
        "outputId": "a34e0d66-325c-4e4f-ac80-771eb490bcc8"
      },
      "source": [
        "RegressionTest.shape"
      ],
      "execution_count": 133,
      "outputs": [
        {
          "output_type": "execute_result",
          "data": {
            "text/plain": [
              "(701, 2)"
            ]
          },
          "metadata": {
            "tags": []
          },
          "execution_count": 133
        }
      ]
    },
    {
      "cell_type": "code",
      "metadata": {
        "colab": {
          "base_uri": "https://localhost:8080/",
          "height": 296
        },
        "id": "31Ef798BdyN7",
        "outputId": "8dd49aed-7c65-4e98-e7d6-95b03d84c2e1"
      },
      "source": [
        "plt.scatter(RegressionTest['Função'], RegressionTest['gastos'])"
      ],
      "execution_count": 151,
      "outputs": [
        {
          "output_type": "execute_result",
          "data": {
            "text/plain": [
              "<matplotlib.collections.PathCollection at 0x7f8a1c95bad0>"
            ]
          },
          "metadata": {
            "tags": []
          },
          "execution_count": 151
        },
        {
          "output_type": "display_data",
          "data": {
            "image/png": "[encoded data removed]",
            "text/plain": [
              "<Figure size 432x288 with 1 Axes>"
            ]
          },
          "metadata": {
            "tags": []
          }
        }
      ]
    },
    {
      "cell_type": "code",
      "metadata": {
        "colab": {
          "base_uri": "https://localhost:8080/",
          "height": 333
        },
        "id": "Sl7BN7mvgKzx",
        "outputId": "8c664792-6193-49c9-a7ad-058c6a5ab453"
      },
      "source": [
        "from sklearn.linear_model import LinearRegression\n",
        "model = LinearRegression(fit_intercept=True)\n",
        "\n",
        "#rng = np.random.RandomState(1)\n",
        "#x = 10 * rng.rand(24)\n",
        "\n",
        "x = RegressionTest['Função']\n",
        "y = RegressionTest['gastos']\n",
        "\n",
        "model.fit(x[:, np.newaxis], y)\n",
        "\n",
        "xfit = np.linspace(0, 10, 1000)\n",
        "yfit = model.predict(xfit[:, np.newaxis])\n",
        "\n",
        "plt.scatter(x, y)\n",
        "plt.plot(xfit, yfit);"
      ],
      "execution_count": 152,
      "outputs": [
        {
          "output_type": "stream",
          "text": [
            "/usr/local/lib/python3.7/dist-packages/ipykernel_launcher.py:10: FutureWarning: Support for multi-dimensional indexing (e.g. `obj[:, None]`) is deprecated and will be removed in a future version.  Convert to a numpy array before indexing instead.\n",
            "  # Remove the CWD from sys.path while we load stuff.\n"
          ],
          "name": "stderr"
        },
        {
          "output_type": "display_data",
          "data": {
            "image/png": "[encoded data removed]",
            "text/plain": [
              "<Figure size 432x288 with 1 Axes>"
            ]
          },
          "metadata": {
            "tags": []
          }
        }
      ]
    },
    {
      "cell_type": "code",
      "metadata": {
        "id": "tLxdi3ixE6b6"
      },
      "source": [
        "print(\"Model inclinação:      {:.3f}\".format(model.coef_[0]))\n",
        "print(\"Model intercepto:     {:.3f}\".format(model.intercept_))"
      ],
      "execution_count": null,
      "outputs": []
    },
    {
      "cell_type": "code",
      "metadata": {
        "id": "KEZbbbVw_4Xv",
        "outputId": "4175d974-52b7-42f7-d5c5-0303c9d90c18",
        "colab": {
          "base_uri": "https://localhost:8080/",
          "height": 333
        }
      },
      "source": [
        "# Regressão por Floresta aleatória\n",
        "from sklearn.ensemble import RandomForestRegressor\n",
        "\n",
        "x = RegressionTest['Função']\n",
        "y = RegressionTest['gastos']\n",
        "\n",
        "regr = RandomForestRegressor(max_depth=2, random_state=0)\n",
        "regr.fit(x[:, np.newaxis], y)\n",
        "\n",
        "xfit = np.linspace(0, 10, 1000)\n",
        "yfit = regr.predict(xfit[:, np.newaxis])\n",
        "\n",
        "plt.scatter(x, y)\n",
        "plt.plot(xfit, yfit);"
      ],
      "execution_count": 153,
      "outputs": [
        {
          "output_type": "stream",
          "text": [
            "/usr/local/lib/python3.7/dist-packages/ipykernel_launcher.py:8: FutureWarning: Support for multi-dimensional indexing (e.g. `obj[:, None]`) is deprecated and will be removed in a future version.  Convert to a numpy array before indexing instead.\n",
            "  \n"
          ],
          "name": "stderr"
        },
        {
          "output_type": "display_data",
          "data": {
            "image/png": "[encoded data removed]",
            "text/plain": [
              "<Figure size 432x288 with 1 Axes>"
            ]
          },
          "metadata": {
            "tags": []
          }
        }
      ]
    },
    {
      "cell_type": "code",
      "metadata": {
        "id": "Z_nTzfi1-X2N",
        "outputId": "eb143f59-1723-4c0a-fe3e-d4a64d4f1483",
        "colab": {
          "base_uri": "https://localhost:8080/",
          "height": 333
        }
      },
      "source": [
        "# Regressão por árvore de decisão\n",
        "from sklearn import tree\n",
        "model = tree.DecisionTreeRegressor()\n",
        "\n",
        "#rng = np.random.RandomState(1)\n",
        "#x = 10 * rng.rand(24)\n",
        "\n",
        "x = RegressionTest['Função']\n",
        "y = RegressionTest['gastos']\n",
        "\n",
        "model = model.fit(x[:, np.newaxis], y)\n",
        "\n",
        "xfit = np.linspace(0, 10, 1000)\n",
        "yfit = model.predict(xfit[:, np.newaxis])\n",
        "\n",
        "plt.scatter(x, y)\n",
        "plt.plot(xfit, yfit);"
      ],
      "execution_count": 154,
      "outputs": [
        {
          "output_type": "stream",
          "text": [
            "/usr/local/lib/python3.7/dist-packages/ipykernel_launcher.py:11: FutureWarning: Support for multi-dimensional indexing (e.g. `obj[:, None]`) is deprecated and will be removed in a future version.  Convert to a numpy array before indexing instead.\n",
            "  # This is added back by InteractiveShellApp.init_path()\n"
          ],
          "name": "stderr"
        },
        {
          "output_type": "display_data",
          "data": {
            "image/png": "[encoded data removed]",
            "text/plain": [
              "<Figure size 432x288 with 1 Axes>"
            ]
          },
          "metadata": {
            "tags": []
          }
        }
      ]
    },
    {
      "cell_type": "markdown",
      "metadata": {
        "id": "CIcWbG57F1oW"
      },
      "source": [
        "## SHAP\n",
        "  > Fins comparativos com a Regressão Linear e ensembles\n",
        "  * Correlação individualizada das features com os gastos do Governo de PE com a covid-19 em diversos setores e municípios"
      ]
    },
    {
      "cell_type": "code",
      "metadata": {
        "id": "U671tllSBd-a",
        "outputId": "21f45b3b-66a0-4314-b9d2-70ba0afac679",
        "colab": {
          "base_uri": "https://localhost:8080/"
        }
      },
      "source": [
        "!pip install shap"
      ],
      "execution_count": 158,
      "outputs": [
        {
          "output_type": "stream",
          "text": [
            "Collecting shap\n",
            "\u001b[?25l  Downloading https://files.pythonhosted.org/packages/b9/f4/c5b95cddae15be80f8e58b25edceca105aa83c0b8c86a1edad24a6af80d3/shap-0.39.0.tar.gz (356kB)\n",
            "\r\u001b[K     |█                               | 10kB 15.8MB/s eta 0:00:01\r\u001b[K     |█▉                              | 20kB 20.5MB/s eta 0:00:01\r\u001b[K     |██▊                             | 30kB 8.4MB/s eta 0:00:01\r\u001b[K     |███▊                            | 40kB 8.2MB/s eta 0:00:01\r\u001b[K     |████▋                           | 51kB 4.3MB/s eta 0:00:01\r\u001b[K     |█████▌                          | 61kB 5.0MB/s eta 0:00:01\r\u001b[K     |██████▍                         | 71kB 5.3MB/s eta 0:00:01\r\u001b[K     |███████▍                        | 81kB 5.4MB/s eta 0:00:01\r\u001b[K     |████████▎                       | 92kB 5.2MB/s eta 0:00:01\r\u001b[K     |█████████▏                      | 102kB 5.6MB/s eta 0:00:01\r\u001b[K     |██████████▏                     | 112kB 5.6MB/s eta 0:00:01\r\u001b[K     |███████████                     | 122kB 5.6MB/s eta 0:00:01\r\u001b[K     |████████████                    | 133kB 5.6MB/s eta 0:00:01\r\u001b[K     |████████████▉                   | 143kB 5.6MB/s eta 0:00:01\r\u001b[K     |█████████████▉                  | 153kB 5.6MB/s eta 0:00:01\r\u001b[K     |██████████████▊                 | 163kB 5.6MB/s eta 0:00:01\r\u001b[K     |███████████████▋                | 174kB 5.6MB/s eta 0:00:01\r\u001b[K     |████████████████▋               | 184kB 5.6MB/s eta 0:00:01\r\u001b[K     |█████████████████▌              | 194kB 5.6MB/s eta 0:00:01\r\u001b[K     |██████████████████▍             | 204kB 5.6MB/s eta 0:00:01\r\u001b[K     |███████████████████▎            | 215kB 5.6MB/s eta 0:00:01\r\u001b[K     |████████████████████▎           | 225kB 5.6MB/s eta 0:00:01\r\u001b[K     |█████████████████████▏          | 235kB 5.6MB/s eta 0:00:01\r\u001b[K     |██████████████████████          | 245kB 5.6MB/s eta 0:00:01\r\u001b[K     |███████████████████████         | 256kB 5.6MB/s eta 0:00:01\r\u001b[K     |████████████████████████        | 266kB 5.6MB/s eta 0:00:01\r\u001b[K     |████████████████████████▉       | 276kB 5.6MB/s eta 0:00:01\r\u001b[K     |█████████████████████████▊      | 286kB 5.6MB/s eta 0:00:01\r\u001b[K     |██████████████████████████▊     | 296kB 5.6MB/s eta 0:00:01\r\u001b[K     |███████████████████████████▋    | 307kB 5.6MB/s eta 0:00:01\r\u001b[K     |████████████████████████████▌   | 317kB 5.6MB/s eta 0:00:01\r\u001b[K     |█████████████████████████████▍  | 327kB 5.6MB/s eta 0:00:01\r\u001b[K     |██████████████████████████████▍ | 337kB 5.6MB/s eta 0:00:01\r\u001b[K     |███████████████████████████████▎| 348kB 5.6MB/s eta 0:00:01\r\u001b[K     |████████████████████████████████| 358kB 5.6MB/s \n",
            "\u001b[?25hRequirement already satisfied: numpy in /usr/local/lib/python3.7/dist-packages (from shap) (1.19.5)\n",
            "Requirement already satisfied: scipy in /usr/local/lib/python3.7/dist-packages (from shap) (1.4.1)\n",
            "Requirement already satisfied: scikit-learn in /usr/local/lib/python3.7/dist-packages (from shap) (0.22.2.post1)\n",
            "Requirement already satisfied: pandas in /usr/local/lib/python3.7/dist-packages (from shap) (1.1.5)\n",
            "Requirement already satisfied: tqdm>4.25.0 in /usr/local/lib/python3.7/dist-packages (from shap) (4.41.1)\n",
            "Collecting slicer==0.0.7\n",
            "  Downloading https://files.pythonhosted.org/packages/78/c2/b3f55dfdb8af9812fdb9baf70cacf3b9e82e505b2bd4324d588888b81202/slicer-0.0.7-py3-none-any.whl\n",
            "Requirement already satisfied: numba in /usr/local/lib/python3.7/dist-packages (from shap) (0.51.2)\n",
            "Requirement already satisfied: cloudpickle in /usr/local/lib/python3.7/dist-packages (from shap) (1.3.0)\n",
            "Requirement already satisfied: joblib>=0.11 in /usr/local/lib/python3.7/dist-packages (from scikit-learn->shap) (1.0.1)\n",
            "Requirement already satisfied: python-dateutil>=2.7.3 in /usr/local/lib/python3.7/dist-packages (from pandas->shap) (2.8.1)\n",
            "Requirement already satisfied: pytz>=2017.2 in /usr/local/lib/python3.7/dist-packages (from pandas->shap) (2018.9)\n",
            "Requirement already satisfied: setuptools in /usr/local/lib/python3.7/dist-packages (from numba->shap) (54.2.0)\n",
            "Requirement already satisfied: llvmlite<0.35,>=0.34.0.dev0 in /usr/local/lib/python3.7/dist-packages (from numba->shap) (0.34.0)\n",
            "Requirement already satisfied: six>=1.5 in /usr/local/lib/python3.7/dist-packages (from python-dateutil>=2.7.3->pandas->shap) (1.15.0)\n",
            "Building wheels for collected packages: shap\n",
            "  Building wheel for shap (setup.py) ... \u001b[?25l\u001b[?25hdone\n",
            "  Created wheel for shap: filename=shap-0.39.0-cp37-cp37m-linux_x86_64.whl size=491625 sha256=db301a4d97f5184077c10b80fb2c3f297b57ae7b41e35a4fb787670b34c65d17\n",
            "  Stored in directory: /root/.cache/pip/wheels/15/27/f5/a8ab9da52fd159aae6477b5ede6eaaec69fd130fa0fa59f283\n",
            "Successfully built shap\n",
            "Installing collected packages: slicer, shap\n",
            "Successfully installed shap-0.39.0 slicer-0.0.7\n"
          ],
          "name": "stdout"
        }
      ]
    },
    {
      "cell_type": "code",
      "metadata": {
        "id": "9i5bYu7tBo55"
      },
      "source": [
        "import shap\n",
        "import xgboost"
      ],
      "execution_count": 159,
      "outputs": []
    },
    {
      "cell_type": "code",
      "metadata": {
        "id": "KhvQPX4FClrf"
      },
      "source": [
        "X = invest_covidPe.iloc[:,:5].values\n",
        "y = invest_covidPe.iloc[:,5].values"
      ],
      "execution_count": 173,
      "outputs": []
    },
    {
      "cell_type": "code",
      "metadata": {
        "id": "ar0WM4lECDP5",
        "outputId": "b396bf69-a618-4d7f-a9e1-405e54a653d9",
        "colab": {
          "base_uri": "https://localhost:8080/"
        }
      },
      "source": [
        "model = xgboost.XGBRegressor().fit(X, y)"
      ],
      "execution_count": 174,
      "outputs": [
        {
          "output_type": "stream",
          "text": [
            "[02:16:16] WARNING: /workspace/src/objective/regression_obj.cu:152: reg:linear is now deprecated in favor of reg:squarederror.\n"
          ],
          "name": "stdout"
        }
      ]
    },
    {
      "cell_type": "code",
      "metadata": {
        "id": "FXaUibEaCPCA",
        "outputId": "c091f056-b25d-4aaa-ef17-6a7587f66eda",
        "colab": {
          "base_uri": "https://localhost:8080/",
          "height": 425
        }
      },
      "source": [
        "explainer = shap.Explainer(model)\n",
        "shap_values = explainer(X)\n",
        "\n",
        "# visualize the first prediction's explanation\n",
        "shap.waterfall_plot(shap.Explanation(feature_names=invest_covidPe.columns[:5],values=shap_values[3]))"
      ],
      "execution_count": 176,
      "outputs": [
        {
          "output_type": "display_data",
          "data": {
            "image/png": "[encoded data removed]",
            "text/plain": [
              "<Figure size 800x400 with 3 Axes>"
            ]
          },
          "metadata": {
            "tags": []
          }
        }
      ]
    },
    {
      "cell_type": "code",
      "metadata": {
        "id": "avvdGJR9Egbg",
        "outputId": "d94adb0b-6c8c-4259-c68c-739621faeb4e",
        "colab": {
          "base_uri": "https://localhost:8080/",
          "height": 390
        }
      },
      "source": [
        "shap.plots.bar(shap.Explanation(feature_names=invest_covidPe.columns[:5],values=shap_values))"
      ],
      "execution_count": 177,
      "outputs": [
        {
          "output_type": "display_data",
          "data": {
            "image/png": "[encoded data removed]",
            "text/plain": [
              "<Figure size 800x400 with 1 Axes>"
            ]
          },
          "metadata": {
            "tags": []
          }
        }
      ]
    },
    {
      "cell_type": "markdown",
      "metadata": {
        "id": "lLT7ESqeGcSO"
      },
      "source": [
        "## Vacina"
      ]
    },
    {
      "cell_type": "code",
      "metadata": {
        "id": "dhsoJFZhrbsq"
      },
      "source": [
        "#Data from http://transparencia.recife.pe.gov.br/codigos/web/covid19vacinados/vacinados.php\n",
        "\n",
        "RecifeVaccines = pd.read_csv(\"https://raw.githubusercontent.com/marcosw1998/Data-Science/main-mwac/Datasets/vacinados_2021-04-04-11-04.csv\",encoding = \"utf-8\")"
      ],
      "execution_count": null,
      "outputs": []
    },
    {
      "cell_type": "code",
      "metadata": {
        "colab": {
          "base_uri": "https://localhost:8080/",
          "height": 419
        },
        "id": "akXz0p-XruTo",
        "outputId": "152dbf6a-3383-45c5-c51f-30489e1e628b"
      },
      "source": [
        "RecifeVaccines"
      ],
      "execution_count": null,
      "outputs": [
        {
          "output_type": "execute_result",
          "data": {
            "text/html": [
              "<div>\n",
              "<style scoped>\n",
              "    .dataframe tbody tr th:only-of-type {\n",
              "        vertical-align: middle;\n",
              "    }\n",
              "\n",
              "    .dataframe tbody tr th {\n",
              "        vertical-align: top;\n",
              "    }\n",
              "\n",
              "    .dataframe thead th {\n",
              "        text-align: right;\n",
              "    }\n",
              "</style>\n",
              "<table border=\"1\" class=\"dataframe\">\n",
              "  <thead>\n",
              "    <tr style=\"text-align: right;\">\n",
              "      <th></th>\n",
              "      <th>Grupo</th>\n",
              "      <th>Dose</th>\n",
              "      <th>Data Vacina</th>\n",
              "    </tr>\n",
              "  </thead>\n",
              "  <tbody>\n",
              "    <tr>\n",
              "      <th>0</th>\n",
              "      <td>IDOSOS</td>\n",
              "      <td>2</td>\n",
              "      <td>04/04/2021</td>\n",
              "    </tr>\n",
              "    <tr>\n",
              "      <th>1</th>\n",
              "      <td>IDOSOS</td>\n",
              "      <td>2</td>\n",
              "      <td>04/04/2021</td>\n",
              "    </tr>\n",
              "    <tr>\n",
              "      <th>2</th>\n",
              "      <td>IDOSOS</td>\n",
              "      <td>2</td>\n",
              "      <td>04/04/2021</td>\n",
              "    </tr>\n",
              "    <tr>\n",
              "      <th>3</th>\n",
              "      <td>IDOSOS</td>\n",
              "      <td>2</td>\n",
              "      <td>04/04/2021</td>\n",
              "    </tr>\n",
              "    <tr>\n",
              "      <th>4</th>\n",
              "      <td>TRABALHADORES DA SAÃšDE</td>\n",
              "      <td>1</td>\n",
              "      <td>04/04/2021</td>\n",
              "    </tr>\n",
              "    <tr>\n",
              "      <th>...</th>\n",
              "      <td>...</td>\n",
              "      <td>...</td>\n",
              "      <td>...</td>\n",
              "    </tr>\n",
              "    <tr>\n",
              "      <th>59447</th>\n",
              "      <td>TRABALHADORES DA SAÃšDE</td>\n",
              "      <td>2</td>\n",
              "      <td>11/04/2021</td>\n",
              "    </tr>\n",
              "    <tr>\n",
              "      <th>59448</th>\n",
              "      <td>IDOSOS</td>\n",
              "      <td>2</td>\n",
              "      <td>11/04/2021</td>\n",
              "    </tr>\n",
              "    <tr>\n",
              "      <th>59449</th>\n",
              "      <td>IDOSOS</td>\n",
              "      <td>2</td>\n",
              "      <td>11/04/2021</td>\n",
              "    </tr>\n",
              "    <tr>\n",
              "      <th>59450</th>\n",
              "      <td>IDOSOS</td>\n",
              "      <td>1</td>\n",
              "      <td>11/04/2021</td>\n",
              "    </tr>\n",
              "    <tr>\n",
              "      <th>59451</th>\n",
              "      <td>IDOSOS</td>\n",
              "      <td>1</td>\n",
              "      <td>11/04/2021</td>\n",
              "    </tr>\n",
              "  </tbody>\n",
              "</table>\n",
              "<p>59452 rows × 3 columns</p>\n",
              "</div>"
            ],
            "text/plain": [
              "                         Grupo  Dose Data Vacina\n",
              "0                       IDOSOS     2  04/04/2021\n",
              "1                       IDOSOS     2  04/04/2021\n",
              "2                       IDOSOS     2  04/04/2021\n",
              "3                       IDOSOS     2  04/04/2021\n",
              "4      TRABALHADORES DA SAÃšDE     1  04/04/2021\n",
              "...                        ...   ...         ...\n",
              "59447  TRABALHADORES DA SAÃšDE     2  11/04/2021\n",
              "59448                   IDOSOS     2  11/04/2021\n",
              "59449                   IDOSOS     2  11/04/2021\n",
              "59450                   IDOSOS     1  11/04/2021\n",
              "59451                   IDOSOS     1  11/04/2021\n",
              "\n",
              "[59452 rows x 3 columns]"
            ]
          },
          "metadata": {
            "tags": []
          },
          "execution_count": 91
        }
      ]
    },
    {
      "cell_type": "code",
      "metadata": {
        "colab": {
          "base_uri": "https://localhost:8080/"
        },
        "id": "2HNAxsnrwyPi",
        "outputId": "18fc32e1-84cb-4d3f-9a6c-3bce77105c7a"
      },
      "source": [
        "#x = ['04/04/2021','05/04/2021','06/04/2021','07/04/2021','08/04/2021','09/04/2021','10/04/2021','11/04/2021']\n",
        "\n",
        " #RecifeVaccines.groupby(level=\"Data Vacina\").sum()\n",
        "#x = RecifeVaccines[\"Data Vacina\"].unique()\n",
        "\n",
        "#x = pd.DataFrame({\"Date\": RecifeVaccines['Data Vacina'].unique()})\n",
        "\n",
        "#x[\"Date\"] = pd.to_datetime(x[\"Date\"]).dt.strftime(\"%m\")\n",
        "#print( x )"
      ],
      "execution_count": null,
      "outputs": [
        {
          "output_type": "stream",
          "text": [
            "['04/04/2021' '05/04/2021' '06/04/2021' '07/04/2021' '08/04/2021'\n",
            " '09/04/2021' '10/04/2021' '11/04/2021']\n"
          ],
          "name": "stdout"
        }
      ]
    },
    {
      "cell_type": "code",
      "metadata": {
        "colab": {
          "base_uri": "https://localhost:8080/"
        },
        "id": "qoVstzd78LQJ",
        "outputId": "95b98b83-24d9-43dd-fb42-bf1dc772b45c"
      },
      "source": [
        "x = np.array([4,5,6,7,8,9,10,11])\n",
        "x = x.reshape(1, -1)\n",
        "x"
      ],
      "execution_count": null,
      "outputs": [
        {
          "output_type": "execute_result",
          "data": {
            "text/plain": [
              "array([[ 4,  5,  6,  7,  8,  9, 10, 11]])"
            ]
          },
          "metadata": {
            "tags": []
          },
          "execution_count": 267
        }
      ]
    },
    {
      "cell_type": "code",
      "metadata": {
        "id": "hEJY5U_4trOv"
      },
      "source": [
        " #RecifeVaccines.groupby(level=\"Data Vacina\").sum()\n",
        "y = RecifeVaccines.groupby(by=\"Data Vacina\").sum()['Dose'].values"
      ],
      "execution_count": null,
      "outputs": []
    },
    {
      "cell_type": "code",
      "metadata": {
        "colab": {
          "base_uri": "https://localhost:8080/",
          "height": 419
        },
        "id": "blf2vv413GVK",
        "outputId": "3544928a-6c5e-4e3a-d28d-9ab77d46a7b9"
      },
      "source": [
        "Dose1 = RecifeVaccines[(RecifeVaccines['Dose']== 1)]\n",
        "Dose1"
      ],
      "execution_count": null,
      "outputs": [
        {
          "output_type": "execute_result",
          "data": {
            "text/html": [
              "<div>\n",
              "<style scoped>\n",
              "    .dataframe tbody tr th:only-of-type {\n",
              "        vertical-align: middle;\n",
              "    }\n",
              "\n",
              "    .dataframe tbody tr th {\n",
              "        vertical-align: top;\n",
              "    }\n",
              "\n",
              "    .dataframe thead th {\n",
              "        text-align: right;\n",
              "    }\n",
              "</style>\n",
              "<table border=\"1\" class=\"dataframe\">\n",
              "  <thead>\n",
              "    <tr style=\"text-align: right;\">\n",
              "      <th></th>\n",
              "      <th>Grupo</th>\n",
              "      <th>Dose</th>\n",
              "      <th>Data Vacina</th>\n",
              "    </tr>\n",
              "  </thead>\n",
              "  <tbody>\n",
              "    <tr>\n",
              "      <th>4</th>\n",
              "      <td>TRABALHADORES DA SAÃšDE</td>\n",
              "      <td>1</td>\n",
              "      <td>04/04/2021</td>\n",
              "    </tr>\n",
              "    <tr>\n",
              "      <th>7</th>\n",
              "      <td>IDOSOS</td>\n",
              "      <td>1</td>\n",
              "      <td>04/04/2021</td>\n",
              "    </tr>\n",
              "    <tr>\n",
              "      <th>15</th>\n",
              "      <td>IDOSOS</td>\n",
              "      <td>1</td>\n",
              "      <td>04/04/2021</td>\n",
              "    </tr>\n",
              "    <tr>\n",
              "      <th>19</th>\n",
              "      <td>IDOSOS</td>\n",
              "      <td>1</td>\n",
              "      <td>04/04/2021</td>\n",
              "    </tr>\n",
              "    <tr>\n",
              "      <th>21</th>\n",
              "      <td>IDOSOS</td>\n",
              "      <td>1</td>\n",
              "      <td>04/04/2021</td>\n",
              "    </tr>\n",
              "    <tr>\n",
              "      <th>...</th>\n",
              "      <td>...</td>\n",
              "      <td>...</td>\n",
              "      <td>...</td>\n",
              "    </tr>\n",
              "    <tr>\n",
              "      <th>59441</th>\n",
              "      <td>TRABALHADORES DA SAÃšDE</td>\n",
              "      <td>1</td>\n",
              "      <td>11/04/2021</td>\n",
              "    </tr>\n",
              "    <tr>\n",
              "      <th>59442</th>\n",
              "      <td>IDOSOS</td>\n",
              "      <td>1</td>\n",
              "      <td>11/04/2021</td>\n",
              "    </tr>\n",
              "    <tr>\n",
              "      <th>59446</th>\n",
              "      <td>IDOSOS</td>\n",
              "      <td>1</td>\n",
              "      <td>11/04/2021</td>\n",
              "    </tr>\n",
              "    <tr>\n",
              "      <th>59450</th>\n",
              "      <td>IDOSOS</td>\n",
              "      <td>1</td>\n",
              "      <td>11/04/2021</td>\n",
              "    </tr>\n",
              "    <tr>\n",
              "      <th>59451</th>\n",
              "      <td>IDOSOS</td>\n",
              "      <td>1</td>\n",
              "      <td>11/04/2021</td>\n",
              "    </tr>\n",
              "  </tbody>\n",
              "</table>\n",
              "<p>36314 rows × 3 columns</p>\n",
              "</div>"
            ],
            "text/plain": [
              "                         Grupo  Dose Data Vacina\n",
              "4      TRABALHADORES DA SAÃšDE     1  04/04/2021\n",
              "7                       IDOSOS     1  04/04/2021\n",
              "15                      IDOSOS     1  04/04/2021\n",
              "19                      IDOSOS     1  04/04/2021\n",
              "21                      IDOSOS     1  04/04/2021\n",
              "...                        ...   ...         ...\n",
              "59441  TRABALHADORES DA SAÃšDE     1  11/04/2021\n",
              "59442                   IDOSOS     1  11/04/2021\n",
              "59446                   IDOSOS     1  11/04/2021\n",
              "59450                   IDOSOS     1  11/04/2021\n",
              "59451                   IDOSOS     1  11/04/2021\n",
              "\n",
              "[36314 rows x 3 columns]"
            ]
          },
          "metadata": {
            "tags": []
          },
          "execution_count": 198
        }
      ]
    },
    {
      "cell_type": "code",
      "metadata": {
        "colab": {
          "base_uri": "https://localhost:8080/",
          "height": 419
        },
        "id": "NvAUhwTv3OHK",
        "outputId": "c2bbb9e4-92e0-45cd-900e-8813e0dd72c7"
      },
      "source": [
        "Dose2 = RecifeVaccines[(RecifeVaccines['Dose']== 2)]\n",
        "Dose2"
      ],
      "execution_count": null,
      "outputs": [
        {
          "output_type": "execute_result",
          "data": {
            "text/html": [
              "<div>\n",
              "<style scoped>\n",
              "    .dataframe tbody tr th:only-of-type {\n",
              "        vertical-align: middle;\n",
              "    }\n",
              "\n",
              "    .dataframe tbody tr th {\n",
              "        vertical-align: top;\n",
              "    }\n",
              "\n",
              "    .dataframe thead th {\n",
              "        text-align: right;\n",
              "    }\n",
              "</style>\n",
              "<table border=\"1\" class=\"dataframe\">\n",
              "  <thead>\n",
              "    <tr style=\"text-align: right;\">\n",
              "      <th></th>\n",
              "      <th>Grupo</th>\n",
              "      <th>Dose</th>\n",
              "      <th>Data Vacina</th>\n",
              "    </tr>\n",
              "  </thead>\n",
              "  <tbody>\n",
              "    <tr>\n",
              "      <th>0</th>\n",
              "      <td>IDOSOS</td>\n",
              "      <td>2</td>\n",
              "      <td>04/04/2021</td>\n",
              "    </tr>\n",
              "    <tr>\n",
              "      <th>1</th>\n",
              "      <td>IDOSOS</td>\n",
              "      <td>2</td>\n",
              "      <td>04/04/2021</td>\n",
              "    </tr>\n",
              "    <tr>\n",
              "      <th>2</th>\n",
              "      <td>IDOSOS</td>\n",
              "      <td>2</td>\n",
              "      <td>04/04/2021</td>\n",
              "    </tr>\n",
              "    <tr>\n",
              "      <th>3</th>\n",
              "      <td>IDOSOS</td>\n",
              "      <td>2</td>\n",
              "      <td>04/04/2021</td>\n",
              "    </tr>\n",
              "    <tr>\n",
              "      <th>5</th>\n",
              "      <td>TRABALHADORES DA SAÃšDE</td>\n",
              "      <td>2</td>\n",
              "      <td>04/04/2021</td>\n",
              "    </tr>\n",
              "    <tr>\n",
              "      <th>...</th>\n",
              "      <td>...</td>\n",
              "      <td>...</td>\n",
              "      <td>...</td>\n",
              "    </tr>\n",
              "    <tr>\n",
              "      <th>59444</th>\n",
              "      <td>TRABALHADORES DA SAÃšDE</td>\n",
              "      <td>2</td>\n",
              "      <td>11/04/2021</td>\n",
              "    </tr>\n",
              "    <tr>\n",
              "      <th>59445</th>\n",
              "      <td>IDOSOS</td>\n",
              "      <td>2</td>\n",
              "      <td>11/04/2021</td>\n",
              "    </tr>\n",
              "    <tr>\n",
              "      <th>59447</th>\n",
              "      <td>TRABALHADORES DA SAÃšDE</td>\n",
              "      <td>2</td>\n",
              "      <td>11/04/2021</td>\n",
              "    </tr>\n",
              "    <tr>\n",
              "      <th>59448</th>\n",
              "      <td>IDOSOS</td>\n",
              "      <td>2</td>\n",
              "      <td>11/04/2021</td>\n",
              "    </tr>\n",
              "    <tr>\n",
              "      <th>59449</th>\n",
              "      <td>IDOSOS</td>\n",
              "      <td>2</td>\n",
              "      <td>11/04/2021</td>\n",
              "    </tr>\n",
              "  </tbody>\n",
              "</table>\n",
              "<p>23138 rows × 3 columns</p>\n",
              "</div>"
            ],
            "text/plain": [
              "                         Grupo  Dose Data Vacina\n",
              "0                       IDOSOS     2  04/04/2021\n",
              "1                       IDOSOS     2  04/04/2021\n",
              "2                       IDOSOS     2  04/04/2021\n",
              "3                       IDOSOS     2  04/04/2021\n",
              "5      TRABALHADORES DA SAÃšDE     2  04/04/2021\n",
              "...                        ...   ...         ...\n",
              "59444  TRABALHADORES DA SAÃšDE     2  11/04/2021\n",
              "59445                   IDOSOS     2  11/04/2021\n",
              "59447  TRABALHADORES DA SAÃšDE     2  11/04/2021\n",
              "59448                   IDOSOS     2  11/04/2021\n",
              "59449                   IDOSOS     2  11/04/2021\n",
              "\n",
              "[23138 rows x 3 columns]"
            ]
          },
          "metadata": {
            "tags": []
          },
          "execution_count": 199
        }
      ]
    },
    {
      "cell_type": "code",
      "metadata": {
        "colab": {
          "base_uri": "https://localhost:8080/"
        },
        "id": "BLOx2RAn3dAg",
        "outputId": "bc944c0f-ce37-4337-93b6-06fbc0ead42f"
      },
      "source": [
        "y1 = Dose1.groupby(by=\"Data Vacina\").sum()['Dose'].values\n",
        "y1 = y1.reshape(1, -1)\n",
        "y1"
      ],
      "execution_count": null,
      "outputs": [
        {
          "output_type": "execute_result",
          "data": {
            "text/plain": [
              "array([[2150, 6040, 5666, 5395, 4652, 4466, 3988, 3957]])"
            ]
          },
          "metadata": {
            "tags": []
          },
          "execution_count": 268
        }
      ]
    },
    {
      "cell_type": "code",
      "metadata": {
        "colab": {
          "base_uri": "https://localhost:8080/"
        },
        "id": "dZcf-ckr3oBz",
        "outputId": "a773644f-5ba2-476e-a2fb-0e235ea7f69a"
      },
      "source": [
        "y2 = Dose2.groupby(by=\"Data Vacina\").sum()['Dose'].values\n",
        "y2 = y2.reshape(1, -1)\n",
        "y2"
      ],
      "execution_count": null,
      "outputs": [
        {
          "output_type": "execute_result",
          "data": {
            "text/plain": [
              "array([[11038,  3854,  4484,  4832,  6128,  5360,  6106,  4474]])"
            ]
          },
          "metadata": {
            "tags": []
          },
          "execution_count": 269
        }
      ]
    },
    {
      "cell_type": "code",
      "metadata": {
        "colab": {
          "base_uri": "https://localhost:8080/",
          "height": 384
        },
        "id": "YHFDqs6CtXSB",
        "outputId": "fe85f0a7-1f5d-488c-e051-0f2817b372d8"
      },
      "source": [
        "plt.scatter(x,y1)\n",
        "plt.scatter(x,y2)\n"
      ],
      "execution_count": null,
      "outputs": [
        {
          "output_type": "execute_result",
          "data": {
            "text/plain": [
              "<matplotlib.collections.PathCollection at 0x7f4b3d460ed0>"
            ]
          },
          "metadata": {
            "tags": []
          },
          "execution_count": 262
        },
        {
          "output_type": "display_data",
          "data": {
            "image/png": "[encoded data removed]",
            "text/plain": [
              "<Figure size 800x400 with 1 Axes>"
            ]
          },
          "metadata": {
            "tags": []
          }
        }
      ]
    },
    {
      "cell_type": "code",
      "metadata": {
        "colab": {
          "base_uri": "https://localhost:8080/",
          "height": 391
        },
        "id": "GEIZqQ1EyBE3",
        "outputId": "bc5bb06b-0d7b-4b02-d6b4-1101fbff4c75"
      },
      "source": [
        "from sklearn.linear_model import LinearRegression\n",
        "model = LinearRegression(fit_intercept=True)\n",
        "\n",
        "model.fit(x, y1)\n",
        "\n",
        "xfit = np.linspace(4, 11, 1000)\n",
        "xfit = xfit.reshape(1, -1)\n",
        "yfit = model.predict(xfit)\n",
        "\n",
        "plt.scatter(x, y1)\n",
        "plt.plot(xfit, yfit);"
      ],
      "execution_count": null,
      "outputs": [
        {
          "output_type": "error",
          "ename": "ValueError",
          "evalue": "ignored",
          "traceback": [
            "\u001b[0;31m---------------------------------------------------------------------------\u001b[0m",
            "\u001b[0;31mValueError\u001b[0m                                Traceback (most recent call last)",
            "\u001b[0;32m<ipython-input-282-89eee2d494a5>\u001b[0m in \u001b[0;36m<module>\u001b[0;34m()\u001b[0m\n\u001b[1;32m      6\u001b[0m \u001b[0mxfit\u001b[0m \u001b[0;34m=\u001b[0m \u001b[0mnp\u001b[0m\u001b[0;34m.\u001b[0m\u001b[0mlinspace\u001b[0m\u001b[0;34m(\u001b[0m\u001b[0;36m4\u001b[0m\u001b[0;34m,\u001b[0m \u001b[0;36m11\u001b[0m\u001b[0;34m,\u001b[0m \u001b[0;36m1000\u001b[0m\u001b[0;34m)\u001b[0m\u001b[0;34m\u001b[0m\u001b[0;34m\u001b[0m\u001b[0m\n\u001b[1;32m      7\u001b[0m \u001b[0mxfit\u001b[0m \u001b[0;34m=\u001b[0m \u001b[0mxfit\u001b[0m\u001b[0;34m.\u001b[0m\u001b[0mreshape\u001b[0m\u001b[0;34m(\u001b[0m\u001b[0;36m1\u001b[0m\u001b[0;34m,\u001b[0m \u001b[0;34m-\u001b[0m\u001b[0;36m1\u001b[0m\u001b[0;34m)\u001b[0m\u001b[0;34m\u001b[0m\u001b[0;34m\u001b[0m\u001b[0m\n\u001b[0;32m----> 8\u001b[0;31m \u001b[0myfit\u001b[0m \u001b[0;34m=\u001b[0m \u001b[0mmodel\u001b[0m\u001b[0;34m.\u001b[0m\u001b[0mpredict\u001b[0m\u001b[0;34m(\u001b[0m\u001b[0mxfit\u001b[0m\u001b[0;34m)\u001b[0m\u001b[0;34m\u001b[0m\u001b[0;34m\u001b[0m\u001b[0m\n\u001b[0m\u001b[1;32m      9\u001b[0m \u001b[0;34m\u001b[0m\u001b[0m\n\u001b[1;32m     10\u001b[0m \u001b[0mplt\u001b[0m\u001b[0;34m.\u001b[0m\u001b[0mscatter\u001b[0m\u001b[0;34m(\u001b[0m\u001b[0mx\u001b[0m\u001b[0;34m,\u001b[0m \u001b[0my1\u001b[0m\u001b[0;34m)\u001b[0m\u001b[0;34m\u001b[0m\u001b[0;34m\u001b[0m\u001b[0m\n",
            "\u001b[0;32m/usr/local/lib/python3.7/dist-packages/sklearn/linear_model/_base.py\u001b[0m in \u001b[0;36mpredict\u001b[0;34m(self, X)\u001b[0m\n\u001b[1;32m    223\u001b[0m             \u001b[0mReturns\u001b[0m \u001b[0mpredicted\u001b[0m \u001b[0mvalues\u001b[0m\u001b[0;34m.\u001b[0m\u001b[0;34m\u001b[0m\u001b[0;34m\u001b[0m\u001b[0m\n\u001b[1;32m    224\u001b[0m         \"\"\"\n\u001b[0;32m--> 225\u001b[0;31m         \u001b[0;32mreturn\u001b[0m \u001b[0mself\u001b[0m\u001b[0;34m.\u001b[0m\u001b[0m_decision_function\u001b[0m\u001b[0;34m(\u001b[0m\u001b[0mX\u001b[0m\u001b[0;34m)\u001b[0m\u001b[0;34m\u001b[0m\u001b[0;34m\u001b[0m\u001b[0m\n\u001b[0m\u001b[1;32m    226\u001b[0m \u001b[0;34m\u001b[0m\u001b[0m\n\u001b[1;32m    227\u001b[0m     \u001b[0m_preprocess_data\u001b[0m \u001b[0;34m=\u001b[0m \u001b[0mstaticmethod\u001b[0m\u001b[0;34m(\u001b[0m\u001b[0m_preprocess_data\u001b[0m\u001b[0;34m)\u001b[0m\u001b[0;34m\u001b[0m\u001b[0;34m\u001b[0m\u001b[0m\n",
            "\u001b[0;32m/usr/local/lib/python3.7/dist-packages/sklearn/linear_model/_base.py\u001b[0m in \u001b[0;36m_decision_function\u001b[0;34m(self, X)\u001b[0m\n\u001b[1;32m    207\u001b[0m         \u001b[0mX\u001b[0m \u001b[0;34m=\u001b[0m \u001b[0mcheck_array\u001b[0m\u001b[0;34m(\u001b[0m\u001b[0mX\u001b[0m\u001b[0;34m,\u001b[0m \u001b[0maccept_sparse\u001b[0m\u001b[0;34m=\u001b[0m\u001b[0;34m[\u001b[0m\u001b[0;34m'csr'\u001b[0m\u001b[0;34m,\u001b[0m \u001b[0;34m'csc'\u001b[0m\u001b[0;34m,\u001b[0m \u001b[0;34m'coo'\u001b[0m\u001b[0;34m]\u001b[0m\u001b[0;34m)\u001b[0m\u001b[0;34m\u001b[0m\u001b[0;34m\u001b[0m\u001b[0m\n\u001b[1;32m    208\u001b[0m         return safe_sparse_dot(X, self.coef_.T,\n\u001b[0;32m--> 209\u001b[0;31m                                dense_output=True) + self.intercept_\n\u001b[0m\u001b[1;32m    210\u001b[0m \u001b[0;34m\u001b[0m\u001b[0m\n\u001b[1;32m    211\u001b[0m     \u001b[0;32mdef\u001b[0m \u001b[0mpredict\u001b[0m\u001b[0;34m(\u001b[0m\u001b[0mself\u001b[0m\u001b[0;34m,\u001b[0m \u001b[0mX\u001b[0m\u001b[0;34m)\u001b[0m\u001b[0;34m:\u001b[0m\u001b[0;34m\u001b[0m\u001b[0;34m\u001b[0m\u001b[0m\n",
            "\u001b[0;32m/usr/local/lib/python3.7/dist-packages/sklearn/utils/extmath.py\u001b[0m in \u001b[0;36msafe_sparse_dot\u001b[0;34m(a, b, dense_output)\u001b[0m\n\u001b[1;32m    149\u001b[0m             \u001b[0mret\u001b[0m \u001b[0;34m=\u001b[0m \u001b[0mnp\u001b[0m\u001b[0;34m.\u001b[0m\u001b[0mdot\u001b[0m\u001b[0;34m(\u001b[0m\u001b[0ma\u001b[0m\u001b[0;34m,\u001b[0m \u001b[0mb\u001b[0m\u001b[0;34m)\u001b[0m\u001b[0;34m\u001b[0m\u001b[0;34m\u001b[0m\u001b[0m\n\u001b[1;32m    150\u001b[0m     \u001b[0;32melse\u001b[0m\u001b[0;34m:\u001b[0m\u001b[0;34m\u001b[0m\u001b[0;34m\u001b[0m\u001b[0m\n\u001b[0;32m--> 151\u001b[0;31m         \u001b[0mret\u001b[0m \u001b[0;34m=\u001b[0m \u001b[0ma\u001b[0m \u001b[0;34m@\u001b[0m \u001b[0mb\u001b[0m\u001b[0;34m\u001b[0m\u001b[0;34m\u001b[0m\u001b[0m\n\u001b[0m\u001b[1;32m    152\u001b[0m \u001b[0;34m\u001b[0m\u001b[0m\n\u001b[1;32m    153\u001b[0m     if (sparse.issparse(a) and sparse.issparse(b)\n",
            "\u001b[0;31mValueError\u001b[0m: matmul: Input operand 1 has a mismatch in its core dimension 0, with gufunc signature (n?,k),(k,m?)->(n?,m?) (size 8 is different from 1000)"
          ]
        }
      ]
    }
  ]
}