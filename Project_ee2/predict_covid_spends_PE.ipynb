{
  "nbformat": 4,
  "nbformat_minor": 0,
  "metadata": {
    "colab": {
      "name": "covid_spends_brazil.ipynb",
      "provenance": [],
      "include_colab_link": true
    },
    "kernelspec": {
      "name": "python3",
      "display_name": "Python 3"
    }
  },
  "cells": [
    {
      "cell_type": "markdown",
      "metadata": {
        "id": "view-in-github",
        "colab_type": "text"
      },
      "source": [
        "<a href=\"https://colab.research.google.com/github/marcosw1998/Data-Science/blob/main-mwac/Project_ee2/predict_covid_spends_PE.ipynb\" target=\"_parent\"><img src=\"https://colab.research.google.com/assets/colab-badge.svg\" alt=\"Open In Colab\"/></a>"
      ]
    },
    {
      "cell_type": "markdown",
      "metadata": {
        "id": "2RWUvaojnu30"
      },
      "source": [
        "# **Análise dos custos do governo de Pernambuco - BR em relação à Covid-19**\n",
        "* Projeto corresponde a entrega parcial para avaliação na cadeira eletiva IF697 - Intro. a Ciência dos Dados\n",
        "* Autores: Igor Silva e Marcos Cavalcanti\n",
        "* Conjunto de dados públicos retirados das seguintes fontes:\n",
        "  * [Portal da Transparência TCU](http://www.portaltransparencia.gov.br/coronavirus)\n",
        "  * [Prefeitura do Recife](http://dados.recife.pe.gov.br/dataset?tags=sa%C3%BAde)\n",
        "  * [Brasil.io](https://brasil.io/dataset/covid19/caso_full/)\n",
        "\n"
      ]
    },
    {
      "cell_type": "markdown",
      "metadata": {
        "id": "yMkF45UHR9sg"
      },
      "source": [
        "## **Por quê o tema?**\n",
        "\n",
        "* Interesse em entender e expor de forma clara os gastos públicos\n",
        "* Analisar distribuição de gastos\n",
        "* Covis-19 é um tema importante e merece muita atenção, pois tem feito muitas vítimas e mudado a forma como a sociedade pensa e se organiza\n",
        "* Entender a distribuição de gastos é uma boa forma de tentar corrigir erros e minimizar danos futuros na economia e na sociedade"
      ]
    },
    {
      "cell_type": "markdown",
      "metadata": {
        "id": "nUSfHSb5xbcu"
      },
      "source": [
        "## **Carregando as bibliotecas**\n",
        "\n",
        "  * Utilizaremos a biblioteca ***`Pandas`*** para trabalhar sobre os dados  e a biblioteca ***`Numpy`*** para operações sobre os datasets.\n",
        "  \n",
        "\n"
      ]
    },
    {
      "cell_type": "code",
      "metadata": {
        "id": "qSJ4OiBLyBUd"
      },
      "source": [
        "import numpy as np\n",
        "import pandas as pd\n",
        "import matplotlib.pyplot as plt\n",
        "import seaborn as sns; sns.set_theme()"
      ],
      "execution_count": 1,
      "outputs": []
    },
    {
      "cell_type": "markdown",
      "metadata": {
        "id": "UiU31eirNa9-"
      },
      "source": [
        "### Portal da transparência\n",
        "\n",
        "* O portal da transparência permite que sejam baixados apenas 1000 registros por vez, portanto decidimos por baixar 2 datasets diferentes e depois fazermos a junção. Os dados são referentes a algumas cidades de Pernambuco \n",
        "(Recife, Jaboatão, Olinda, Paulista, Caruaru, Garanhuns, Petrolina, Arcoverde, Serra Talhada, Buíque)"
      ]
    },
    {
      "cell_type": "code",
      "metadata": {
        "id": "P2LLyC3CNM-9"
      },
      "source": [
        "invest_covidPe = pd.read_csv(\"https://raw.githubusercontent.com/marcosw1998/Data-Science/main-mwac/Datasets/covid-pe.csv\",encoding = \"utf-8\")\n",
        "invest_covidPe2 = pd.read_csv(\"https://raw.githubusercontent.com/marcosw1998/Data-Science/main-mwac/Datasets/transferencias_coronavirus.csv\",encoding = \"utf-8\")"
      ],
      "execution_count": 2,
      "outputs": []
    },
    {
      "cell_type": "code",
      "metadata": {
        "colab": {
          "base_uri": "https://localhost:8080/",
          "height": 0
        },
        "id": "cw8ZAqtszcX-",
        "outputId": "6b8df19d-b4c7-4f8e-dbb1-f85decb873e3"
      },
      "source": [
        "#Validando os dados do dataset invest_covidPe\n",
        "print('Dataset 1',invest_covidPe.shape)\n",
        "invest_covidPe.sort_values(\"Município\").head()"
      ],
      "execution_count": 3,
      "outputs": [
        {
          "output_type": "stream",
          "text": [
            "Dataset 1 (561, 12)\n"
          ],
          "name": "stdout"
        },
        {
          "output_type": "execute_result",
          "data": {
            "text/html": [
              "<div>\n",
              "<style scoped>\n",
              "    .dataframe tbody tr th:only-of-type {\n",
              "        vertical-align: middle;\n",
              "    }\n",
              "\n",
              "    .dataframe tbody tr th {\n",
              "        vertical-align: top;\n",
              "    }\n",
              "\n",
              "    .dataframe thead th {\n",
              "        text-align: right;\n",
              "    }\n",
              "</style>\n",
              "<table border=\"1\" class=\"dataframe\">\n",
              "  <thead>\n",
              "    <tr style=\"text-align: right;\">\n",
              "      <th></th>\n",
              "      <th>Mês/Ano</th>\n",
              "      <th>Tipo</th>\n",
              "      <th>Tipo de Favorecido</th>\n",
              "      <th>UF</th>\n",
              "      <th>Nome do Favorecido</th>\n",
              "      <th>CPF/CNPJ</th>\n",
              "      <th>Município</th>\n",
              "      <th>Função</th>\n",
              "      <th>Programa Orçamentário</th>\n",
              "      <th>Ação Orçamentária</th>\n",
              "      <th>Linguagem Cidadã</th>\n",
              "      <th>Valor Transferido</th>\n",
              "    </tr>\n",
              "  </thead>\n",
              "  <tbody>\n",
              "    <tr>\n",
              "      <th>182</th>\n",
              "      <td>nov/20</td>\n",
              "      <td>Legais. Voluntárias e Específicas</td>\n",
              "      <td>Fundo Público</td>\n",
              "      <td>PE</td>\n",
              "      <td>FUNDO MUNICIPAL DE SAUDE</td>\n",
              "      <td>11.371.082/0001-05</td>\n",
              "      <td>CARUARU</td>\n",
              "      <td>Saúde</td>\n",
              "      <td>ATENCAO ESPECIALIZADA A SAUDE</td>\n",
              "      <td>ENFRENTAMENTO DA EMERGENCIA DE SAUDE PUBLICA D...</td>\n",
              "      <td>Sem informação</td>\n",
              "      <td>486.515.00</td>\n",
              "    </tr>\n",
              "    <tr>\n",
              "      <th>178</th>\n",
              "      <td>nov/20</td>\n",
              "      <td>Legais. Voluntárias e Específicas</td>\n",
              "      <td>Entidades Sem Fins Lucrativos</td>\n",
              "      <td>PE</td>\n",
              "      <td>ASSOCICAO DE PAIS E MESTRES</td>\n",
              "      <td>11.252.224/0001-07</td>\n",
              "      <td>CARUARU</td>\n",
              "      <td>Educação</td>\n",
              "      <td>EDUCACAO BASICA DE QUALIDADE</td>\n",
              "      <td>DINHEIRO DIRETO NA ESCOLA PARA A EDUCACAO BASICA</td>\n",
              "      <td>PDDE</td>\n",
              "      <td>7.897.02</td>\n",
              "    </tr>\n",
              "    <tr>\n",
              "      <th>179</th>\n",
              "      <td>nov/20</td>\n",
              "      <td>Legais. Voluntárias e Específicas</td>\n",
              "      <td>Entidades Sem Fins Lucrativos</td>\n",
              "      <td>PE</td>\n",
              "      <td>CONSELHO ESCOLAR MARIA DO SOCORRO DE FREITAS</td>\n",
              "      <td>02.021.769/0001-11</td>\n",
              "      <td>CARUARU</td>\n",
              "      <td>Educação</td>\n",
              "      <td>EDUCACAO BASICA DE QUALIDADE</td>\n",
              "      <td>DINHEIRO DIRETO NA ESCOLA PARA A EDUCACAO BASICA</td>\n",
              "      <td>PDDE</td>\n",
              "      <td>2.837.48</td>\n",
              "    </tr>\n",
              "    <tr>\n",
              "      <th>87</th>\n",
              "      <td>nov/20</td>\n",
              "      <td>Legais. Voluntárias e Específicas</td>\n",
              "      <td>Entidades Sem Fins Lucrativos</td>\n",
              "      <td>PE</td>\n",
              "      <td>CONSELHO ESCOLAR DOM BERNARDINO MARCHIO</td>\n",
              "      <td>34.179.420/0001-07</td>\n",
              "      <td>CARUARU</td>\n",
              "      <td>Educação</td>\n",
              "      <td>EDUCACAO BASICA DE QUALIDADE</td>\n",
              "      <td>DINHEIRO DIRETO NA ESCOLA PARA A EDUCACAO BASICA</td>\n",
              "      <td>PDDE</td>\n",
              "      <td>8.427.56</td>\n",
              "    </tr>\n",
              "    <tr>\n",
              "      <th>181</th>\n",
              "      <td>nov/20</td>\n",
              "      <td>Legais. Voluntárias e Específicas</td>\n",
              "      <td>Entidades Sem Fins Lucrativos</td>\n",
              "      <td>PE</td>\n",
              "      <td>UNIDADE EXECUTORA MAJOR DR.SINVAL</td>\n",
              "      <td>11.441.171/0001-72</td>\n",
              "      <td>CARUARU</td>\n",
              "      <td>Educação</td>\n",
              "      <td>EDUCACAO BASICA DE QUALIDADE</td>\n",
              "      <td>DINHEIRO DIRETO NA ESCOLA PARA A EDUCACAO BASICA</td>\n",
              "      <td>PDDE</td>\n",
              "      <td>2.274.59</td>\n",
              "    </tr>\n",
              "  </tbody>\n",
              "</table>\n",
              "</div>"
            ],
            "text/plain": [
              "    Mês/Ano  ... Valor Transferido\n",
              "182  nov/20  ...        486.515.00\n",
              "178  nov/20  ...          7.897.02\n",
              "179  nov/20  ...          2.837.48\n",
              "87   nov/20  ...          8.427.56\n",
              "181  nov/20  ...          2.274.59\n",
              "\n",
              "[5 rows x 12 columns]"
            ]
          },
          "metadata": {
            "tags": []
          },
          "execution_count": 3
        }
      ]
    },
    {
      "cell_type": "code",
      "metadata": {
        "colab": {
          "base_uri": "https://localhost:8080/",
          "height": 0
        },
        "id": "GejXSMaUzemV",
        "outputId": "5e80fb3c-e6b3-4030-d47d-412647fc270e"
      },
      "source": [
        "#Validando os dados do dataset invest_covidPe2\n",
        "print('Dataset 2',invest_covidPe2.shape)\n",
        "invest_covidPe2.sort_values(\"Município\").head()"
      ],
      "execution_count": 4,
      "outputs": [
        {
          "output_type": "stream",
          "text": [
            "Dataset 2 (140, 10)\n"
          ],
          "name": "stdout"
        },
        {
          "output_type": "execute_result",
          "data": {
            "text/html": [
              "<div>\n",
              "<style scoped>\n",
              "    .dataframe tbody tr th:only-of-type {\n",
              "        vertical-align: middle;\n",
              "    }\n",
              "\n",
              "    .dataframe tbody tr th {\n",
              "        vertical-align: top;\n",
              "    }\n",
              "\n",
              "    .dataframe thead th {\n",
              "        text-align: right;\n",
              "    }\n",
              "</style>\n",
              "<table border=\"1\" class=\"dataframe\">\n",
              "  <thead>\n",
              "    <tr style=\"text-align: right;\">\n",
              "      <th></th>\n",
              "      <th>Mês/Ano</th>\n",
              "      <th>Tipo</th>\n",
              "      <th>Ação Orçamentária</th>\n",
              "      <th>Programa Orçamentário</th>\n",
              "      <th>Função</th>\n",
              "      <th>Tipo de Favorecido</th>\n",
              "      <th>UF</th>\n",
              "      <th>Município</th>\n",
              "      <th>Valor Transferido</th>\n",
              "      <th>Unnamed: 9</th>\n",
              "    </tr>\n",
              "  </thead>\n",
              "  <tbody>\n",
              "    <tr>\n",
              "      <th>98</th>\n",
              "      <td>12/2020</td>\n",
              "      <td>Legais. Voluntárias e Específicas</td>\n",
              "      <td>21C0 - ENFRENTAMENTO DA EMERGENCIA DE SAUDE PU...</td>\n",
              "      <td>ATENCAO ESPECIALIZADA A SAUDE</td>\n",
              "      <td>10 - Saúde</td>\n",
              "      <td>Fundo Público</td>\n",
              "      <td>PE</td>\n",
              "      <td>ARCOVERDE</td>\n",
              "      <td>R$ 134.639.00</td>\n",
              "      <td>NaN</td>\n",
              "    </tr>\n",
              "    <tr>\n",
              "      <th>41</th>\n",
              "      <td>05/2020</td>\n",
              "      <td>Legais. Voluntárias e Específicas</td>\n",
              "      <td>21C0 - ENFRENTAMENTO DA EMERGENCIA DE SAUDE PU...</td>\n",
              "      <td>PROTECAO SOCIAL NO AMBITO DO SISTEMA UNICO DE ...</td>\n",
              "      <td>08 - Assistência social</td>\n",
              "      <td>Fundo Público</td>\n",
              "      <td>PE</td>\n",
              "      <td>ARCOVERDE</td>\n",
              "      <td>R$ 470.809.62</td>\n",
              "      <td>NaN</td>\n",
              "    </tr>\n",
              "    <tr>\n",
              "      <th>42</th>\n",
              "      <td>11/2020</td>\n",
              "      <td>Legais. Voluntárias e Específicas</td>\n",
              "      <td>21C0 - ENFRENTAMENTO DA EMERGENCIA DE SAUDE PU...</td>\n",
              "      <td>ATENCAO ESPECIALIZADA A SAUDE</td>\n",
              "      <td>10 - Saúde</td>\n",
              "      <td>Fundo Público</td>\n",
              "      <td>PE</td>\n",
              "      <td>ARCOVERDE</td>\n",
              "      <td>R$ 355.594.00</td>\n",
              "      <td>NaN</td>\n",
              "    </tr>\n",
              "    <tr>\n",
              "      <th>32</th>\n",
              "      <td>04/2020</td>\n",
              "      <td>Legais. Voluntárias e Específicas</td>\n",
              "      <td>21C0 - ENFRENTAMENTO DA EMERGENCIA DE SAUDE PU...</td>\n",
              "      <td>ATENCAO ESPECIALIZADA A SAUDE</td>\n",
              "      <td>10 - Saúde</td>\n",
              "      <td>Fundo Público</td>\n",
              "      <td>PE</td>\n",
              "      <td>ARCOVERDE</td>\n",
              "      <td>R$ 761.895.71</td>\n",
              "      <td>NaN</td>\n",
              "    </tr>\n",
              "    <tr>\n",
              "      <th>56</th>\n",
              "      <td>08/2020</td>\n",
              "      <td>Legais. Voluntárias e Específicas</td>\n",
              "      <td>21C0 - ENFRENTAMENTO DA EMERGENCIA DE SAUDE PU...</td>\n",
              "      <td>PROTECAO SOCIAL NO AMBITO DO SISTEMA UNICO DE ...</td>\n",
              "      <td>08 - Assistência social</td>\n",
              "      <td>Fundo Público</td>\n",
              "      <td>PE</td>\n",
              "      <td>ARCOVERDE</td>\n",
              "      <td>R$ 218.971.54</td>\n",
              "      <td>NaN</td>\n",
              "    </tr>\n",
              "  </tbody>\n",
              "</table>\n",
              "</div>"
            ],
            "text/plain": [
              "    Mês/Ano                               Tipo  ... Valor Transferido Unnamed: 9\n",
              "98  12/2020  Legais. Voluntárias e Específicas  ...     R$ 134.639.00        NaN\n",
              "41  05/2020  Legais. Voluntárias e Específicas  ...     R$ 470.809.62        NaN\n",
              "42  11/2020  Legais. Voluntárias e Específicas  ...     R$ 355.594.00        NaN\n",
              "32  04/2020  Legais. Voluntárias e Específicas  ...     R$ 761.895.71        NaN\n",
              "56  08/2020  Legais. Voluntárias e Específicas  ...     R$ 218.971.54        NaN\n",
              "\n",
              "[5 rows x 10 columns]"
            ]
          },
          "metadata": {
            "tags": []
          },
          "execution_count": 4
        }
      ]
    },
    {
      "cell_type": "markdown",
      "metadata": {
        "id": "b66iBYRL0hxm"
      },
      "source": [
        "*Podemos perceber que o Dataset **invest_covidPe** possui mais colunas que o Dataset **invest_covidPe2**.  Também notamos que o Dataset invest_covidPe2 possui uma coluna com dados Nan, vamos tratar disso no pré processamento antes de fazer a concatenação dos dois Datasets*"
      ]
    },
    {
      "cell_type": "markdown",
      "metadata": {
        "id": "k18Rwe8eNlNe"
      },
      "source": [
        "### Dados abertos - Prefeitura do Recife"
      ]
    },
    {
      "cell_type": "code",
      "metadata": {
        "id": "3s88zVuSNt_V"
      },
      "source": [
        "import requests\n",
        "\n",
        "dados_pref_rmr = requests.get(\"http://dados.recife.pe.gov.br/dataset/6c77a814-7161-4eb5-9662-234642dc8cc1/resource/63376b8c-0271-42eb-a88b-cc75c1c3f3fc/download/metadados-hospitais.json\").json()"
      ],
      "execution_count": 5,
      "outputs": []
    },
    {
      "cell_type": "markdown",
      "metadata": {
        "id": "MHqgJ0_e9dUa"
      },
      "source": [
        "### Dados de casos de Covid-19 por todo o estado de Pernambuco. \n",
        "Os valores estão atualizados até o dia 17/03/2021 e foram buscados através do Brasil.io"
      ]
    },
    {
      "cell_type": "code",
      "metadata": {
        "colab": {
          "base_uri": "https://localhost:8080/",
          "height": 0
        },
        "id": "tnkNhxpK9_EJ",
        "outputId": "6efce188-28e3-49f3-88b2-2c028042a7a9"
      },
      "source": [
        "covidPeCases = pd.read_csv(\"https://raw.githubusercontent.com/marcosw1998/Data-Science/main-mwac/Datasets/covid19-1703-casos.csv\",encoding = \"utf-8\")\n",
        "print(covidPeCases.shape)\n",
        "covidPeCases.sort_values(\"city\").head()"
      ],
      "execution_count": 6,
      "outputs": [
        {
          "output_type": "stream",
          "text": [
            "(187, 16)\n"
          ],
          "name": "stdout"
        },
        {
          "output_type": "execute_result",
          "data": {
            "text/html": [
              "<div>\n",
              "<style scoped>\n",
              "    .dataframe tbody tr th:only-of-type {\n",
              "        vertical-align: middle;\n",
              "    }\n",
              "\n",
              "    .dataframe tbody tr th {\n",
              "        vertical-align: top;\n",
              "    }\n",
              "\n",
              "    .dataframe thead th {\n",
              "        text-align: right;\n",
              "    }\n",
              "</style>\n",
              "<table border=\"1\" class=\"dataframe\">\n",
              "  <thead>\n",
              "    <tr style=\"text-align: right;\">\n",
              "      <th></th>\n",
              "      <th>epidemiological_week</th>\n",
              "      <th>date</th>\n",
              "      <th>order_for_place</th>\n",
              "      <th>state</th>\n",
              "      <th>city</th>\n",
              "      <th>city_ibge_code</th>\n",
              "      <th>place_type</th>\n",
              "      <th>last_available_confirmed</th>\n",
              "      <th>last_available_confirmed_per_100k_inhabitants</th>\n",
              "      <th>new_confirmed</th>\n",
              "      <th>last_available_deaths</th>\n",
              "      <th>new_deaths</th>\n",
              "      <th>last_available_death_rate</th>\n",
              "      <th>estimated_population</th>\n",
              "      <th>is_last</th>\n",
              "      <th>is_repeated</th>\n",
              "    </tr>\n",
              "  </thead>\n",
              "  <tbody>\n",
              "    <tr>\n",
              "      <th>1</th>\n",
              "      <td>202111</td>\n",
              "      <td>2021-03-15</td>\n",
              "      <td>341</td>\n",
              "      <td>PE</td>\n",
              "      <td>Abreu e Lima</td>\n",
              "      <td>2600054.0</td>\n",
              "      <td>city</td>\n",
              "      <td>1700</td>\n",
              "      <td>1694.13828</td>\n",
              "      <td>8</td>\n",
              "      <td>159</td>\n",
              "      <td>1</td>\n",
              "      <td>0.0935</td>\n",
              "      <td>100346.0</td>\n",
              "      <td>True</td>\n",
              "      <td>False</td>\n",
              "    </tr>\n",
              "    <tr>\n",
              "      <th>2</th>\n",
              "      <td>202111</td>\n",
              "      <td>2021-03-15</td>\n",
              "      <td>321</td>\n",
              "      <td>PE</td>\n",
              "      <td>Afogados da Ingazeira</td>\n",
              "      <td>2600104.0</td>\n",
              "      <td>city</td>\n",
              "      <td>2478</td>\n",
              "      <td>6624.95990</td>\n",
              "      <td>1</td>\n",
              "      <td>35</td>\n",
              "      <td>0</td>\n",
              "      <td>0.0141</td>\n",
              "      <td>37404.0</td>\n",
              "      <td>True</td>\n",
              "      <td>False</td>\n",
              "    </tr>\n",
              "    <tr>\n",
              "      <th>3</th>\n",
              "      <td>202111</td>\n",
              "      <td>2021-03-15</td>\n",
              "      <td>321</td>\n",
              "      <td>PE</td>\n",
              "      <td>Afrânio</td>\n",
              "      <td>2600203.0</td>\n",
              "      <td>city</td>\n",
              "      <td>578</td>\n",
              "      <td>2917.71832</td>\n",
              "      <td>0</td>\n",
              "      <td>9</td>\n",
              "      <td>0</td>\n",
              "      <td>0.0156</td>\n",
              "      <td>19810.0</td>\n",
              "      <td>True</td>\n",
              "      <td>False</td>\n",
              "    </tr>\n",
              "    <tr>\n",
              "      <th>4</th>\n",
              "      <td>202111</td>\n",
              "      <td>2021-03-15</td>\n",
              "      <td>326</td>\n",
              "      <td>PE</td>\n",
              "      <td>Agrestina</td>\n",
              "      <td>2600302.0</td>\n",
              "      <td>city</td>\n",
              "      <td>865</td>\n",
              "      <td>3451.02733</td>\n",
              "      <td>2</td>\n",
              "      <td>36</td>\n",
              "      <td>0</td>\n",
              "      <td>0.0416</td>\n",
              "      <td>25065.0</td>\n",
              "      <td>True</td>\n",
              "      <td>False</td>\n",
              "    </tr>\n",
              "    <tr>\n",
              "      <th>7</th>\n",
              "      <td>202111</td>\n",
              "      <td>2021-03-15</td>\n",
              "      <td>331</td>\n",
              "      <td>PE</td>\n",
              "      <td>Alagoinha</td>\n",
              "      <td>2600609.0</td>\n",
              "      <td>city</td>\n",
              "      <td>443</td>\n",
              "      <td>3009.91983</td>\n",
              "      <td>0</td>\n",
              "      <td>13</td>\n",
              "      <td>0</td>\n",
              "      <td>0.0293</td>\n",
              "      <td>14718.0</td>\n",
              "      <td>True</td>\n",
              "      <td>False</td>\n",
              "    </tr>\n",
              "  </tbody>\n",
              "</table>\n",
              "</div>"
            ],
            "text/plain": [
              "   epidemiological_week        date  ...  is_last is_repeated\n",
              "1                202111  2021-03-15  ...     True       False\n",
              "2                202111  2021-03-15  ...     True       False\n",
              "3                202111  2021-03-15  ...     True       False\n",
              "4                202111  2021-03-15  ...     True       False\n",
              "7                202111  2021-03-15  ...     True       False\n",
              "\n",
              "[5 rows x 16 columns]"
            ]
          },
          "metadata": {
            "tags": []
          },
          "execution_count": 6
        }
      ]
    },
    {
      "cell_type": "markdown",
      "metadata": {
        "id": "d_488MvPT4fM"
      },
      "source": [
        "## **Pré Processamento**\n",
        "  * Junção de datasets em Dataframe Pandas\n",
        "  * Tratamento de dados ```NaN```/```null``` ou corrompidos\n",
        "  * Conversão de tipos\n",
        "  * Transformação e identificação de dados categóricos\n",
        "  * Remoção de ***Outliers*** Multivariado"
      ]
    },
    {
      "cell_type": "markdown",
      "metadata": {
        "id": "XmQ22okDAROC"
      },
      "source": [
        "### **Tratamento dos dados de Gastos Públicos**"
      ]
    },
    {
      "cell_type": "code",
      "metadata": {
        "colab": {
          "base_uri": "https://localhost:8080/"
        },
        "id": "hFQN8MFVzyM-",
        "outputId": "1f177d81-cb47-4545-a65f-d4997dceab6a"
      },
      "source": [
        "# Verificando se existem registros duplicados\n",
        "print(\"Número de registros duplicados\")\n",
        "print(\"Dataset 1\",len(invest_covidPe[invest_covidPe.duplicated()]))\n",
        "print(\"Dataset 2\",len(invest_covidPe2[invest_covidPe2.duplicated()]))\n"
      ],
      "execution_count": 7,
      "outputs": [
        {
          "output_type": "stream",
          "text": [
            "Número de registros duplicados\n",
            "Dataset 1 0\n",
            "Dataset 2 0\n"
          ],
          "name": "stdout"
        }
      ]
    },
    {
      "cell_type": "code",
      "metadata": {
        "id": "m7rho0DEE8cM",
        "colab": {
          "base_uri": "https://localhost:8080/"
        },
        "outputId": "19cbdb42-32d3-4af8-a3c1-a6bd9405283d"
      },
      "source": [
        "#Checando se temos valores Nan\n",
        "print('Dataset 1',invest_covidPe.isnull().sum())\n",
        "print('Dataset 1',invest_covidPe2.isnull().sum())"
      ],
      "execution_count": 8,
      "outputs": [
        {
          "output_type": "stream",
          "text": [
            "Dataset 1 Mês/Ano                  0\n",
            "Tipo                     0\n",
            "Tipo de Favorecido       0\n",
            "UF                       0\n",
            "Nome do Favorecido       0\n",
            "CPF/CNPJ                 0\n",
            "Município                0\n",
            "Função                   0\n",
            "Programa Orçamentário    0\n",
            "Ação Orçamentária        0\n",
            "Linguagem Cidadã         0\n",
            "Valor Transferido        0\n",
            "dtype: int64\n",
            "Dataset 1 Mês/Ano                    0\n",
            "Tipo                       0\n",
            "Ação Orçamentária          0\n",
            "Programa Orçamentário      0\n",
            "Função                     0\n",
            "Tipo de Favorecido         0\n",
            "UF                         0\n",
            "Município                  0\n",
            "Valor Transferido          0\n",
            "Unnamed: 9               140\n",
            "dtype: int64\n"
          ],
          "name": "stdout"
        }
      ]
    },
    {
      "cell_type": "markdown",
      "metadata": {
        "id": "Z_zX_wkQvbE5"
      },
      "source": [
        "> Remoção colunas que não fazem parte do dataset invest_covidPe2 e que não influem sobre os nossos estudos (Nome do favorecido, CPF/CNPJ, Linguagem Cidadã)\n",
        "\n",
        ">```invest_covidPe = invest_covidPe.dropna(axis=1, how='all')```"
      ]
    },
    {
      "cell_type": "code",
      "metadata": {
        "id": "Bm39ZTwf2Gal",
        "colab": {
          "base_uri": "https://localhost:8080/",
          "height": 296
        },
        "outputId": "0b44612f-fbc1-4de4-bfe0-2462116e75b8"
      },
      "source": [
        "cols = [4,5,10]\n",
        "invest_covidPe.drop(invest_covidPe.columns[cols],axis=1,inplace=True)\n",
        "invest_covidPe.sort_values(\"Município\").head()"
      ],
      "execution_count": 9,
      "outputs": [
        {
          "output_type": "execute_result",
          "data": {
            "text/html": [
              "<div>\n",
              "<style scoped>\n",
              "    .dataframe tbody tr th:only-of-type {\n",
              "        vertical-align: middle;\n",
              "    }\n",
              "\n",
              "    .dataframe tbody tr th {\n",
              "        vertical-align: top;\n",
              "    }\n",
              "\n",
              "    .dataframe thead th {\n",
              "        text-align: right;\n",
              "    }\n",
              "</style>\n",
              "<table border=\"1\" class=\"dataframe\">\n",
              "  <thead>\n",
              "    <tr style=\"text-align: right;\">\n",
              "      <th></th>\n",
              "      <th>Mês/Ano</th>\n",
              "      <th>Tipo</th>\n",
              "      <th>Tipo de Favorecido</th>\n",
              "      <th>UF</th>\n",
              "      <th>Município</th>\n",
              "      <th>Função</th>\n",
              "      <th>Programa Orçamentário</th>\n",
              "      <th>Ação Orçamentária</th>\n",
              "      <th>Valor Transferido</th>\n",
              "    </tr>\n",
              "  </thead>\n",
              "  <tbody>\n",
              "    <tr>\n",
              "      <th>182</th>\n",
              "      <td>nov/20</td>\n",
              "      <td>Legais. Voluntárias e Específicas</td>\n",
              "      <td>Fundo Público</td>\n",
              "      <td>PE</td>\n",
              "      <td>CARUARU</td>\n",
              "      <td>Saúde</td>\n",
              "      <td>ATENCAO ESPECIALIZADA A SAUDE</td>\n",
              "      <td>ENFRENTAMENTO DA EMERGENCIA DE SAUDE PUBLICA D...</td>\n",
              "      <td>486.515.00</td>\n",
              "    </tr>\n",
              "    <tr>\n",
              "      <th>178</th>\n",
              "      <td>nov/20</td>\n",
              "      <td>Legais. Voluntárias e Específicas</td>\n",
              "      <td>Entidades Sem Fins Lucrativos</td>\n",
              "      <td>PE</td>\n",
              "      <td>CARUARU</td>\n",
              "      <td>Educação</td>\n",
              "      <td>EDUCACAO BASICA DE QUALIDADE</td>\n",
              "      <td>DINHEIRO DIRETO NA ESCOLA PARA A EDUCACAO BASICA</td>\n",
              "      <td>7.897.02</td>\n",
              "    </tr>\n",
              "    <tr>\n",
              "      <th>179</th>\n",
              "      <td>nov/20</td>\n",
              "      <td>Legais. Voluntárias e Específicas</td>\n",
              "      <td>Entidades Sem Fins Lucrativos</td>\n",
              "      <td>PE</td>\n",
              "      <td>CARUARU</td>\n",
              "      <td>Educação</td>\n",
              "      <td>EDUCACAO BASICA DE QUALIDADE</td>\n",
              "      <td>DINHEIRO DIRETO NA ESCOLA PARA A EDUCACAO BASICA</td>\n",
              "      <td>2.837.48</td>\n",
              "    </tr>\n",
              "    <tr>\n",
              "      <th>87</th>\n",
              "      <td>nov/20</td>\n",
              "      <td>Legais. Voluntárias e Específicas</td>\n",
              "      <td>Entidades Sem Fins Lucrativos</td>\n",
              "      <td>PE</td>\n",
              "      <td>CARUARU</td>\n",
              "      <td>Educação</td>\n",
              "      <td>EDUCACAO BASICA DE QUALIDADE</td>\n",
              "      <td>DINHEIRO DIRETO NA ESCOLA PARA A EDUCACAO BASICA</td>\n",
              "      <td>8.427.56</td>\n",
              "    </tr>\n",
              "    <tr>\n",
              "      <th>181</th>\n",
              "      <td>nov/20</td>\n",
              "      <td>Legais. Voluntárias e Específicas</td>\n",
              "      <td>Entidades Sem Fins Lucrativos</td>\n",
              "      <td>PE</td>\n",
              "      <td>CARUARU</td>\n",
              "      <td>Educação</td>\n",
              "      <td>EDUCACAO BASICA DE QUALIDADE</td>\n",
              "      <td>DINHEIRO DIRETO NA ESCOLA PARA A EDUCACAO BASICA</td>\n",
              "      <td>2.274.59</td>\n",
              "    </tr>\n",
              "  </tbody>\n",
              "</table>\n",
              "</div>"
            ],
            "text/plain": [
              "    Mês/Ano  ... Valor Transferido\n",
              "182  nov/20  ...        486.515.00\n",
              "178  nov/20  ...          7.897.02\n",
              "179  nov/20  ...          2.837.48\n",
              "87   nov/20  ...          8.427.56\n",
              "181  nov/20  ...          2.274.59\n",
              "\n",
              "[5 rows x 9 columns]"
            ]
          },
          "metadata": {
            "tags": []
          },
          "execution_count": 9
        }
      ]
    },
    {
      "cell_type": "markdown",
      "metadata": {
        "id": "6N8rcAp0vr6I"
      },
      "source": [
        "> Remoção coluna que tem todos os valores Nan"
      ]
    },
    {
      "cell_type": "code",
      "metadata": {
        "colab": {
          "base_uri": "https://localhost:8080/",
          "height": 296
        },
        "id": "GVumFyH60Byd",
        "outputId": "f6261bcb-59c1-48ce-c785-77b27266bfae"
      },
      "source": [
        "invest_covidPe2.dropna(axis=1, how='all',inplace=True)\n",
        "invest_covidPe2.sort_values(\"Município\").head()"
      ],
      "execution_count": 10,
      "outputs": [
        {
          "output_type": "execute_result",
          "data": {
            "text/html": [
              "<div>\n",
              "<style scoped>\n",
              "    .dataframe tbody tr th:only-of-type {\n",
              "        vertical-align: middle;\n",
              "    }\n",
              "\n",
              "    .dataframe tbody tr th {\n",
              "        vertical-align: top;\n",
              "    }\n",
              "\n",
              "    .dataframe thead th {\n",
              "        text-align: right;\n",
              "    }\n",
              "</style>\n",
              "<table border=\"1\" class=\"dataframe\">\n",
              "  <thead>\n",
              "    <tr style=\"text-align: right;\">\n",
              "      <th></th>\n",
              "      <th>Mês/Ano</th>\n",
              "      <th>Tipo</th>\n",
              "      <th>Ação Orçamentária</th>\n",
              "      <th>Programa Orçamentário</th>\n",
              "      <th>Função</th>\n",
              "      <th>Tipo de Favorecido</th>\n",
              "      <th>UF</th>\n",
              "      <th>Município</th>\n",
              "      <th>Valor Transferido</th>\n",
              "    </tr>\n",
              "  </thead>\n",
              "  <tbody>\n",
              "    <tr>\n",
              "      <th>98</th>\n",
              "      <td>12/2020</td>\n",
              "      <td>Legais. Voluntárias e Específicas</td>\n",
              "      <td>21C0 - ENFRENTAMENTO DA EMERGENCIA DE SAUDE PU...</td>\n",
              "      <td>ATENCAO ESPECIALIZADA A SAUDE</td>\n",
              "      <td>10 - Saúde</td>\n",
              "      <td>Fundo Público</td>\n",
              "      <td>PE</td>\n",
              "      <td>ARCOVERDE</td>\n",
              "      <td>R$ 134.639.00</td>\n",
              "    </tr>\n",
              "    <tr>\n",
              "      <th>41</th>\n",
              "      <td>05/2020</td>\n",
              "      <td>Legais. Voluntárias e Específicas</td>\n",
              "      <td>21C0 - ENFRENTAMENTO DA EMERGENCIA DE SAUDE PU...</td>\n",
              "      <td>PROTECAO SOCIAL NO AMBITO DO SISTEMA UNICO DE ...</td>\n",
              "      <td>08 - Assistência social</td>\n",
              "      <td>Fundo Público</td>\n",
              "      <td>PE</td>\n",
              "      <td>ARCOVERDE</td>\n",
              "      <td>R$ 470.809.62</td>\n",
              "    </tr>\n",
              "    <tr>\n",
              "      <th>42</th>\n",
              "      <td>11/2020</td>\n",
              "      <td>Legais. Voluntárias e Específicas</td>\n",
              "      <td>21C0 - ENFRENTAMENTO DA EMERGENCIA DE SAUDE PU...</td>\n",
              "      <td>ATENCAO ESPECIALIZADA A SAUDE</td>\n",
              "      <td>10 - Saúde</td>\n",
              "      <td>Fundo Público</td>\n",
              "      <td>PE</td>\n",
              "      <td>ARCOVERDE</td>\n",
              "      <td>R$ 355.594.00</td>\n",
              "    </tr>\n",
              "    <tr>\n",
              "      <th>32</th>\n",
              "      <td>04/2020</td>\n",
              "      <td>Legais. Voluntárias e Específicas</td>\n",
              "      <td>21C0 - ENFRENTAMENTO DA EMERGENCIA DE SAUDE PU...</td>\n",
              "      <td>ATENCAO ESPECIALIZADA A SAUDE</td>\n",
              "      <td>10 - Saúde</td>\n",
              "      <td>Fundo Público</td>\n",
              "      <td>PE</td>\n",
              "      <td>ARCOVERDE</td>\n",
              "      <td>R$ 761.895.71</td>\n",
              "    </tr>\n",
              "    <tr>\n",
              "      <th>56</th>\n",
              "      <td>08/2020</td>\n",
              "      <td>Legais. Voluntárias e Específicas</td>\n",
              "      <td>21C0 - ENFRENTAMENTO DA EMERGENCIA DE SAUDE PU...</td>\n",
              "      <td>PROTECAO SOCIAL NO AMBITO DO SISTEMA UNICO DE ...</td>\n",
              "      <td>08 - Assistência social</td>\n",
              "      <td>Fundo Público</td>\n",
              "      <td>PE</td>\n",
              "      <td>ARCOVERDE</td>\n",
              "      <td>R$ 218.971.54</td>\n",
              "    </tr>\n",
              "  </tbody>\n",
              "</table>\n",
              "</div>"
            ],
            "text/plain": [
              "    Mês/Ano                               Tipo  ...  Município Valor Transferido\n",
              "98  12/2020  Legais. Voluntárias e Específicas  ...  ARCOVERDE     R$ 134.639.00\n",
              "41  05/2020  Legais. Voluntárias e Específicas  ...  ARCOVERDE     R$ 470.809.62\n",
              "42  11/2020  Legais. Voluntárias e Específicas  ...  ARCOVERDE     R$ 355.594.00\n",
              "32  04/2020  Legais. Voluntárias e Específicas  ...  ARCOVERDE     R$ 761.895.71\n",
              "56  08/2020  Legais. Voluntárias e Específicas  ...  ARCOVERDE     R$ 218.971.54\n",
              "\n",
              "[5 rows x 9 columns]"
            ]
          },
          "metadata": {
            "tags": []
          },
          "execution_count": 10
        }
      ]
    },
    {
      "cell_type": "markdown",
      "metadata": {
        "id": "99zLupirv68U"
      },
      "source": [
        "> Retirando prefixo numérico e caracteres especiais dos valores da categoria 'Função'"
      ]
    },
    {
      "cell_type": "code",
      "metadata": {
        "colab": {
          "base_uri": "https://localhost:8080/"
        },
        "id": "7GzOsUIXwOR5",
        "outputId": "aae8ad6e-e8b2-49a1-ad4d-1907da602bd1"
      },
      "source": [
        "invest_covidPe_funcao = invest_covidPe2['Função'].map(lambda words: str(words[5:]))\n",
        "invest_covidPe2['Função'].update(invest_covidPe_funcao)\n",
        "invest_covidPe2['Função'].unique()"
      ],
      "execution_count": 11,
      "outputs": [
        {
          "output_type": "execute_result",
          "data": {
            "text/plain": [
              "array(['Educação', 'Saúde', 'Assistência social', 'Ciência e Tecnologia'],\n",
              "      dtype=object)"
            ]
          },
          "metadata": {
            "tags": []
          },
          "execution_count": 11
        }
      ]
    },
    {
      "cell_type": "markdown",
      "metadata": {
        "id": "-TdcJdxuwD_A"
      },
      "source": [
        "> Confirmando que as colunas foram removidas e agora os 2 datasets possuem a mesma quantidade de colunas"
      ]
    },
    {
      "cell_type": "code",
      "metadata": {
        "colab": {
          "base_uri": "https://localhost:8080/"
        },
        "id": "o61JK1_h1G8W",
        "outputId": "bee342f1-5598-4847-8a74-acc2abab55b4"
      },
      "source": [
        "print('Dataset 1',invest_covidPe.shape)\n",
        "print('Dataset 2',invest_covidPe2.shape)"
      ],
      "execution_count": 12,
      "outputs": [
        {
          "output_type": "stream",
          "text": [
            "Dataset 1 (561, 9)\n",
            "Dataset 2 (140, 9)\n"
          ],
          "name": "stdout"
        }
      ]
    },
    {
      "cell_type": "markdown",
      "metadata": {
        "id": "6V0neP-zwIMQ"
      },
      "source": [
        "> Fazendo a concatenação dos Dataframes, o resultado final de linhas é igual ao somatório de linhas entre ambos os Datasets"
      ]
    },
    {
      "cell_type": "code",
      "metadata": {
        "id": "qjEsiHCQ5lfM"
      },
      "source": [
        "invest_covidPe = invest_covidPe.append(invest_covidPe2, ignore_index=True)"
      ],
      "execution_count": 13,
      "outputs": []
    },
    {
      "cell_type": "markdown",
      "metadata": {
        "id": "yKGKHzT0wND5"
      },
      "source": [
        "> Filtragem de gastos com a saúde e retirada das colunas **Tipo**, **UF**, **Programa Orçamentário** e **Função** por não conterem dados variados."
      ]
    },
    {
      "cell_type": "code",
      "metadata": {
        "colab": {
          "base_uri": "https://localhost:8080/",
          "height": 402
        },
        "id": "OeYOe0orylcX",
        "outputId": "d97b8cc1-676d-450e-e072-a35f51763027"
      },
      "source": [
        "# Filtragem\n",
        "\n",
        "invest_covidPe = invest_covidPe[invest_covidPe['Função'] == 'Saúde']\n",
        "\n",
        "# Drop colunas\n",
        "\n",
        "invest_covidPe.drop({'Tipo',\\\n",
        "                     'UF',\\\n",
        "                     'Programa Orçamentário', \\\n",
        "                     'Função'},\\\n",
        "                    axis=1,\\\n",
        "                    inplace=True \\\n",
        "                    )\n",
        "invest_covidPe"
      ],
      "execution_count": 14,
      "outputs": [
        {
          "output_type": "execute_result",
          "data": {
            "text/html": [
              "<div>\n",
              "<style scoped>\n",
              "    .dataframe tbody tr th:only-of-type {\n",
              "        vertical-align: middle;\n",
              "    }\n",
              "\n",
              "    .dataframe tbody tr th {\n",
              "        vertical-align: top;\n",
              "    }\n",
              "\n",
              "    .dataframe thead th {\n",
              "        text-align: right;\n",
              "    }\n",
              "</style>\n",
              "<table border=\"1\" class=\"dataframe\">\n",
              "  <thead>\n",
              "    <tr style=\"text-align: right;\">\n",
              "      <th></th>\n",
              "      <th>Mês/Ano</th>\n",
              "      <th>Tipo de Favorecido</th>\n",
              "      <th>Município</th>\n",
              "      <th>Ação Orçamentária</th>\n",
              "      <th>Valor Transferido</th>\n",
              "    </tr>\n",
              "  </thead>\n",
              "  <tbody>\n",
              "    <tr>\n",
              "      <th>0</th>\n",
              "      <td>mar/20</td>\n",
              "      <td>Fundo Público</td>\n",
              "      <td>RECIFE</td>\n",
              "      <td>ENFRENTAMENTO DA EMERGENCIA DE SAUDE PUBLICA D...</td>\n",
              "      <td>60.000.00</td>\n",
              "    </tr>\n",
              "    <tr>\n",
              "      <th>1</th>\n",
              "      <td>abr/20</td>\n",
              "      <td>Fundo Público</td>\n",
              "      <td>GARANHUNS</td>\n",
              "      <td>ENFRENTAMENTO DA EMERGENCIA DE SAUDE PUBLICA D...</td>\n",
              "      <td>1.174.944.27</td>\n",
              "    </tr>\n",
              "    <tr>\n",
              "      <th>2</th>\n",
              "      <td>abr/20</td>\n",
              "      <td>Fundo Público</td>\n",
              "      <td>PETROLINA</td>\n",
              "      <td>ENFRENTAMENTO DA EMERGENCIA DE SAUDE PUBLICA D...</td>\n",
              "      <td>4.130.446.89</td>\n",
              "    </tr>\n",
              "    <tr>\n",
              "      <th>3</th>\n",
              "      <td>abr/20</td>\n",
              "      <td>Fundo Público</td>\n",
              "      <td>OLINDA</td>\n",
              "      <td>ENFRENTAMENTO DA EMERGENCIA DE SAUDE PUBLICA D...</td>\n",
              "      <td>3.830.136.03</td>\n",
              "    </tr>\n",
              "    <tr>\n",
              "      <th>4</th>\n",
              "      <td>abr/20</td>\n",
              "      <td>Fundo Público</td>\n",
              "      <td>CARUARU</td>\n",
              "      <td>ENFRENTAMENTO DA EMERGENCIA DE SAUDE PUBLICA D...</td>\n",
              "      <td>3.662.675.00</td>\n",
              "    </tr>\n",
              "    <tr>\n",
              "      <th>...</th>\n",
              "      <td>...</td>\n",
              "      <td>...</td>\n",
              "      <td>...</td>\n",
              "      <td>...</td>\n",
              "      <td>...</td>\n",
              "    </tr>\n",
              "    <tr>\n",
              "      <th>695</th>\n",
              "      <td>07/2020</td>\n",
              "      <td>Fundo Público</td>\n",
              "      <td>GARANHUNS</td>\n",
              "      <td>21C0 - ENFRENTAMENTO DA EMERGENCIA DE SAUDE PU...</td>\n",
              "      <td>R$ 4.995.000.00</td>\n",
              "    </tr>\n",
              "    <tr>\n",
              "      <th>696</th>\n",
              "      <td>04/2020</td>\n",
              "      <td>Fundo Público</td>\n",
              "      <td>JABOATÃO DOS GUARARAPES</td>\n",
              "      <td>21C0 - ENFRENTAMENTO DA EMERGENCIA DE SAUDE PU...</td>\n",
              "      <td>R$ 7.327.021.87</td>\n",
              "    </tr>\n",
              "    <tr>\n",
              "      <th>697</th>\n",
              "      <td>10/2020</td>\n",
              "      <td>Fundo Público</td>\n",
              "      <td>RECIFE</td>\n",
              "      <td>21C0 - ENFRENTAMENTO DA EMERGENCIA DE SAUDE PU...</td>\n",
              "      <td>R$ 3.500.000.00</td>\n",
              "    </tr>\n",
              "    <tr>\n",
              "      <th>698</th>\n",
              "      <td>07/2020</td>\n",
              "      <td>Fundo Público</td>\n",
              "      <td>PETROLINA</td>\n",
              "      <td>21C0 - ENFRENTAMENTO DA EMERGENCIA DE SAUDE PU...</td>\n",
              "      <td>R$ 8.676.053.00</td>\n",
              "    </tr>\n",
              "    <tr>\n",
              "      <th>699</th>\n",
              "      <td>07/2020</td>\n",
              "      <td>Fundo Público</td>\n",
              "      <td>BUÍQUE</td>\n",
              "      <td>21C0 - ENFRENTAMENTO DA EMERGENCIA DE SAUDE PU...</td>\n",
              "      <td>R$ 1.850.000.00</td>\n",
              "    </tr>\n",
              "  </tbody>\n",
              "</table>\n",
              "<p>149 rows × 5 columns</p>\n",
              "</div>"
            ],
            "text/plain": [
              "     Mês/Ano  ... Valor Transferido\n",
              "0     mar/20  ...         60.000.00\n",
              "1     abr/20  ...      1.174.944.27\n",
              "2     abr/20  ...      4.130.446.89\n",
              "3     abr/20  ...      3.830.136.03\n",
              "4     abr/20  ...      3.662.675.00\n",
              "..       ...  ...               ...\n",
              "695  07/2020  ...   R$ 4.995.000.00\n",
              "696  04/2020  ...   R$ 7.327.021.87\n",
              "697  10/2020  ...   R$ 3.500.000.00\n",
              "698  07/2020  ...   R$ 8.676.053.00\n",
              "699  07/2020  ...   R$ 1.850.000.00\n",
              "\n",
              "[149 rows x 5 columns]"
            ]
          },
          "metadata": {
            "tags": []
          },
          "execution_count": 14
        }
      ]
    },
    {
      "cell_type": "markdown",
      "metadata": {
        "id": "0jzo9tpl4FTr"
      },
      "source": [
        "Renomeando colunas"
      ]
    },
    {
      "cell_type": "code",
      "metadata": {
        "colab": {
          "base_uri": "https://localhost:8080/",
          "height": 136
        },
        "id": "aFWx4nab4EDk",
        "outputId": "78168fd6-9692-41f3-d3cb-bbb355c002e5"
      },
      "source": [
        "invest_covidPe = invest_covidPe.rename(columns={'Mês/Ano': 'data_hora', \\\n",
        "                                                'Município': 'municipio', \\\n",
        "                                                'Tipo de Favorecido': 'tipo_favorecido', \\\n",
        "                                                'Ação Orçamentária': 'acao_orcamentaria', \\\n",
        "                                                'Valor Transferido': 'gastos' \\\n",
        "                                                })\n",
        "invest_covidPe.head(3)"
      ],
      "execution_count": 15,
      "outputs": [
        {
          "output_type": "execute_result",
          "data": {
            "text/html": [
              "<div>\n",
              "<style scoped>\n",
              "    .dataframe tbody tr th:only-of-type {\n",
              "        vertical-align: middle;\n",
              "    }\n",
              "\n",
              "    .dataframe tbody tr th {\n",
              "        vertical-align: top;\n",
              "    }\n",
              "\n",
              "    .dataframe thead th {\n",
              "        text-align: right;\n",
              "    }\n",
              "</style>\n",
              "<table border=\"1\" class=\"dataframe\">\n",
              "  <thead>\n",
              "    <tr style=\"text-align: right;\">\n",
              "      <th></th>\n",
              "      <th>data_hora</th>\n",
              "      <th>tipo_favorecido</th>\n",
              "      <th>municipio</th>\n",
              "      <th>acao_orcamentaria</th>\n",
              "      <th>gastos</th>\n",
              "    </tr>\n",
              "  </thead>\n",
              "  <tbody>\n",
              "    <tr>\n",
              "      <th>0</th>\n",
              "      <td>mar/20</td>\n",
              "      <td>Fundo Público</td>\n",
              "      <td>RECIFE</td>\n",
              "      <td>ENFRENTAMENTO DA EMERGENCIA DE SAUDE PUBLICA D...</td>\n",
              "      <td>60.000.00</td>\n",
              "    </tr>\n",
              "    <tr>\n",
              "      <th>1</th>\n",
              "      <td>abr/20</td>\n",
              "      <td>Fundo Público</td>\n",
              "      <td>GARANHUNS</td>\n",
              "      <td>ENFRENTAMENTO DA EMERGENCIA DE SAUDE PUBLICA D...</td>\n",
              "      <td>1.174.944.27</td>\n",
              "    </tr>\n",
              "    <tr>\n",
              "      <th>2</th>\n",
              "      <td>abr/20</td>\n",
              "      <td>Fundo Público</td>\n",
              "      <td>PETROLINA</td>\n",
              "      <td>ENFRENTAMENTO DA EMERGENCIA DE SAUDE PUBLICA D...</td>\n",
              "      <td>4.130.446.89</td>\n",
              "    </tr>\n",
              "  </tbody>\n",
              "</table>\n",
              "</div>"
            ],
            "text/plain": [
              "  data_hora  ...        gastos\n",
              "0    mar/20  ...     60.000.00\n",
              "1    abr/20  ...  1.174.944.27\n",
              "2    abr/20  ...  4.130.446.89\n",
              "\n",
              "[3 rows x 5 columns]"
            ]
          },
          "metadata": {
            "tags": []
          },
          "execution_count": 15
        }
      ]
    },
    {
      "cell_type": "markdown",
      "metadata": {
        "id": "PdTk7hYE-ydB"
      },
      "source": [
        "#### **Conversão de tipos das colunas**\n",
        "\n",
        "  * Valor Transferido (rename -> gastos): ```string``` -> ```float```\n",
        "\n",
        "  * Mês/Ano (rename -> data_hora): ```string``` -> ```pandas.Datetime```\n",
        "\n",
        "  * Dados categóricos: ```object``` -> ```category```"
      ]
    },
    {
      "cell_type": "code",
      "metadata": {
        "id": "Y-wleeGQC4yJ",
        "colab": {
          "base_uri": "https://localhost:8080/"
        },
        "outputId": "4e53b81e-c4c6-4e4c-a8a9-5617104da584"
      },
      "source": [
        "invest_covidPe.dtypes"
      ],
      "execution_count": 16,
      "outputs": [
        {
          "output_type": "execute_result",
          "data": {
            "text/plain": [
              "data_hora            object\n",
              "tipo_favorecido      object\n",
              "municipio            object\n",
              "acao_orcamentaria    object\n",
              "gastos               object\n",
              "dtype: object"
            ]
          },
          "metadata": {
            "tags": []
          },
          "execution_count": 16
        }
      ]
    },
    {
      "cell_type": "markdown",
      "metadata": {
        "id": "Ui9n7pptx9N3"
      },
      "source": [
        "##### **Valor Transferido**\n",
        "```object``` -> ```float64```"
      ]
    },
    {
      "cell_type": "code",
      "metadata": {
        "id": "7_4O7M9L-kWC"
      },
      "source": [
        "# Tratamento e conversão do CSV-String para float\n",
        "invest_covidPe['valores_transferidos'] = invest_covidPe['gastos'].apply(lambda words: words.replace('R$ ', ''))\n",
        "valores_transferidos = invest_covidPe['valores_transferidos'].map(lambda words: float(words[:-3].replace('.','') + words[-3:]))\n",
        "valores_transferidos = valores_transferidos.astype('float64')\n",
        "#valores_transferidos = valores_transferidos.astype(float)"
      ],
      "execution_count": 17,
      "outputs": []
    },
    {
      "cell_type": "code",
      "metadata": {
        "colab": {
          "base_uri": "https://localhost:8080/",
          "height": 0
        },
        "id": "2cbS7PJEZBBm",
        "outputId": "f70fb958-0b6f-469c-aeef-f6b675fb2b0a"
      },
      "source": [
        "invest_covidPe.head(3)"
      ],
      "execution_count": 18,
      "outputs": [
        {
          "output_type": "execute_result",
          "data": {
            "text/html": [
              "<div>\n",
              "<style scoped>\n",
              "    .dataframe tbody tr th:only-of-type {\n",
              "        vertical-align: middle;\n",
              "    }\n",
              "\n",
              "    .dataframe tbody tr th {\n",
              "        vertical-align: top;\n",
              "    }\n",
              "\n",
              "    .dataframe thead th {\n",
              "        text-align: right;\n",
              "    }\n",
              "</style>\n",
              "<table border=\"1\" class=\"dataframe\">\n",
              "  <thead>\n",
              "    <tr style=\"text-align: right;\">\n",
              "      <th></th>\n",
              "      <th>data_hora</th>\n",
              "      <th>tipo_favorecido</th>\n",
              "      <th>municipio</th>\n",
              "      <th>acao_orcamentaria</th>\n",
              "      <th>gastos</th>\n",
              "      <th>valores_transferidos</th>\n",
              "    </tr>\n",
              "  </thead>\n",
              "  <tbody>\n",
              "    <tr>\n",
              "      <th>0</th>\n",
              "      <td>mar/20</td>\n",
              "      <td>Fundo Público</td>\n",
              "      <td>RECIFE</td>\n",
              "      <td>ENFRENTAMENTO DA EMERGENCIA DE SAUDE PUBLICA D...</td>\n",
              "      <td>60.000.00</td>\n",
              "      <td>60.000.00</td>\n",
              "    </tr>\n",
              "    <tr>\n",
              "      <th>1</th>\n",
              "      <td>abr/20</td>\n",
              "      <td>Fundo Público</td>\n",
              "      <td>GARANHUNS</td>\n",
              "      <td>ENFRENTAMENTO DA EMERGENCIA DE SAUDE PUBLICA D...</td>\n",
              "      <td>1.174.944.27</td>\n",
              "      <td>1.174.944.27</td>\n",
              "    </tr>\n",
              "    <tr>\n",
              "      <th>2</th>\n",
              "      <td>abr/20</td>\n",
              "      <td>Fundo Público</td>\n",
              "      <td>PETROLINA</td>\n",
              "      <td>ENFRENTAMENTO DA EMERGENCIA DE SAUDE PUBLICA D...</td>\n",
              "      <td>4.130.446.89</td>\n",
              "      <td>4.130.446.89</td>\n",
              "    </tr>\n",
              "  </tbody>\n",
              "</table>\n",
              "</div>"
            ],
            "text/plain": [
              "  data_hora tipo_favorecido  ...        gastos valores_transferidos\n",
              "0    mar/20   Fundo Público  ...     60.000.00            60.000.00\n",
              "1    abr/20   Fundo Público  ...  1.174.944.27         1.174.944.27\n",
              "2    abr/20   Fundo Público  ...  4.130.446.89         4.130.446.89\n",
              "\n",
              "[3 rows x 6 columns]"
            ]
          },
          "metadata": {
            "tags": []
          },
          "execution_count": 18
        }
      ]
    },
    {
      "cell_type": "code",
      "metadata": {
        "id": "YOjLjdx_XLEn",
        "colab": {
          "base_uri": "https://localhost:8080/"
        },
        "outputId": "42940d9f-3c30-43fa-b177-c8767a5b48ee"
      },
      "source": [
        "# Atualiza o dataset principal\n",
        "invest_covidPe['gastos'].update(valores_transferidos)\n",
        "invest_covidPe.drop('valores_transferidos',axis=1,inplace=True)\n",
        "invest_covidPe = invest_covidPe.infer_objects()\n",
        "invest_covidPe.info(verbose=True)"
      ],
      "execution_count": 19,
      "outputs": [
        {
          "output_type": "stream",
          "text": [
            "<class 'pandas.core.frame.DataFrame'>\n",
            "Int64Index: 149 entries, 0 to 699\n",
            "Data columns (total 5 columns):\n",
            " #   Column             Non-Null Count  Dtype  \n",
            "---  ------             --------------  -----  \n",
            " 0   data_hora          149 non-null    object \n",
            " 1   tipo_favorecido    149 non-null    object \n",
            " 2   municipio          149 non-null    object \n",
            " 3   acao_orcamentaria  149 non-null    object \n",
            " 4   gastos             149 non-null    float64\n",
            "dtypes: float64(1), object(4)\n",
            "memory usage: 7.0+ KB\n"
          ],
          "name": "stdout"
        }
      ]
    },
    {
      "cell_type": "markdown",
      "metadata": {
        "id": "cLxqlamkyNhY"
      },
      "source": [
        "##### **Data (timestamp)**\n",
        "```object``` -> ```pandas.Datetime```\n",
        "\n",
        "Obs.: Apenas necessário para o caso de análise de séries temporais."
      ]
    },
    {
      "cell_type": "code",
      "metadata": {
        "id": "hnqgP7jEwP6i",
        "colab": {
          "base_uri": "https://localhost:8080/"
        },
        "outputId": "9058f05e-2691-4a7f-9230-c3f257f14383"
      },
      "source": [
        "# Transformando os dados da coluna data_hora em pandas.Datetime\n",
        "invest_covidPe['data_hora'] = invest_covidPe['data_hora'].astype('string')\n",
        "invest_covidPe.info(verbose=True)"
      ],
      "execution_count": 20,
      "outputs": [
        {
          "output_type": "stream",
          "text": [
            "<class 'pandas.core.frame.DataFrame'>\n",
            "Int64Index: 149 entries, 0 to 699\n",
            "Data columns (total 5 columns):\n",
            " #   Column             Non-Null Count  Dtype  \n",
            "---  ------             --------------  -----  \n",
            " 0   data_hora          149 non-null    string \n",
            " 1   tipo_favorecido    149 non-null    object \n",
            " 2   municipio          149 non-null    object \n",
            " 3   acao_orcamentaria  149 non-null    object \n",
            " 4   gastos             149 non-null    float64\n",
            "dtypes: float64(1), object(3), string(1)\n",
            "memory usage: 7.0+ KB\n"
          ],
          "name": "stdout"
        }
      ]
    },
    {
      "cell_type": "code",
      "metadata": {
        "colab": {
          "base_uri": "https://localhost:8080/"
        },
        "id": "UVY0ZbFuxnwy",
        "outputId": "df4e6772-3fe6-48fe-ba80-fa8548880308"
      },
      "source": [
        "meses = {'mar/20' : '2020-03-10', \\\n",
        "         'abr/20' : '2020-04-10', \\\n",
        "         'mai/20' : '2020-05-10', \\\n",
        "         'jun/20' : '2020-06-10', \\\n",
        "         'jul/20' : '2020-07-10', \\\n",
        "         'ago/20' : '2020-08-10', \\\n",
        "         'set/20' : '2020-09-10', \\\n",
        "         'out/20' : '2020-10-10', \\\n",
        "         'nov/20' : '2020-11-10', \\\n",
        "         'dez/20' : '2020-12-10', \\\n",
        "         '03/2020' : '2020-03-10', \\\n",
        "         '04/2020' : '2020-04-10', \\\n",
        "         '05/2020' : '2020-05-10', \\\n",
        "         '06/2020' : '2020-06-10', \\\n",
        "         '07/2020' : '2020-07-10', \\\n",
        "         '08/2020' : '2020-08-10', \\\n",
        "         '09/2020' : '2020-09-10', \\\n",
        "         '10/2020' : '2020-10-10', \\\n",
        "         '11/2020' : '2020-11-10', \\\n",
        "         '12/2020' : '2020-12-10'\n",
        "         }\n",
        "\n",
        "invest_covidPe['data_hora'] = invest_covidPe['data_hora'].apply(lambda dates: dates.replace(dates, meses[dates]))\n",
        "\n",
        "invest_covidPe['data_hora'].unique()"
      ],
      "execution_count": 21,
      "outputs": [
        {
          "output_type": "execute_result",
          "data": {
            "text/plain": [
              "array(['2020-03-10', '2020-04-10', '2020-05-10', '2020-06-10',\n",
              "       '2020-07-10', '2020-08-10', '2020-09-10', '2020-10-10',\n",
              "       '2020-11-10', '2020-12-10'], dtype=object)"
            ]
          },
          "metadata": {
            "tags": []
          },
          "execution_count": 21
        }
      ]
    },
    {
      "cell_type": "code",
      "metadata": {
        "colab": {
          "base_uri": "https://localhost:8080/"
        },
        "id": "pdQIw-aU6OfY",
        "outputId": "7f378f19-e44b-4174-8344-c2238ccc3c89"
      },
      "source": [
        "# convert the 'Date' column to datetime format\n",
        "invest_covidPe['data_hora'] = pd.to_datetime(invest_covidPe['data_hora'])\n",
        "\n",
        "# Check the format of 'Date' column\n",
        "invest_covidPe.info()"
      ],
      "execution_count": 22,
      "outputs": [
        {
          "output_type": "stream",
          "text": [
            "<class 'pandas.core.frame.DataFrame'>\n",
            "Int64Index: 149 entries, 0 to 699\n",
            "Data columns (total 5 columns):\n",
            " #   Column             Non-Null Count  Dtype         \n",
            "---  ------             --------------  -----         \n",
            " 0   data_hora          149 non-null    datetime64[ns]\n",
            " 1   tipo_favorecido    149 non-null    object        \n",
            " 2   municipio          149 non-null    object        \n",
            " 3   acao_orcamentaria  149 non-null    object        \n",
            " 4   gastos             149 non-null    float64       \n",
            "dtypes: datetime64[ns](1), float64(1), object(3)\n",
            "memory usage: 7.0+ KB\n"
          ],
          "name": "stdout"
        }
      ]
    },
    {
      "cell_type": "markdown",
      "metadata": {
        "id": "jLDhV-F6-1nV"
      },
      "source": [
        "##### **Definindo dados categóricos**"
      ]
    },
    {
      "cell_type": "markdown",
      "metadata": {
        "id": "MWRARfMS4HUW"
      },
      "source": [
        "Conversão de dados categóricos\n",
        "> ```object``` -> ```category```"
      ]
    },
    {
      "cell_type": "code",
      "metadata": {
        "colab": {
          "base_uri": "https://localhost:8080/"
        },
        "id": "_XFyq-WR-0HA",
        "outputId": "042fb8d7-ab93-45ef-9376-18c7a52674dd"
      },
      "source": [
        "invest_covidPe['data_hora'] = invest_covidPe['data_hora'].astype('category')\n",
        "invest_covidPe['municipio'] = invest_covidPe['municipio'].astype('category')\n",
        "invest_covidPe['tipo_favorecido'] = invest_covidPe['tipo_favorecido'].astype('category')\n",
        "invest_covidPe['acao_orcamentaria'] = invest_covidPe['acao_orcamentaria'].astype('category')\n",
        "invest_covidPe.info(verbose=True)"
      ],
      "execution_count": 23,
      "outputs": [
        {
          "output_type": "stream",
          "text": [
            "<class 'pandas.core.frame.DataFrame'>\n",
            "Int64Index: 149 entries, 0 to 699\n",
            "Data columns (total 5 columns):\n",
            " #   Column             Non-Null Count  Dtype   \n",
            "---  ------             --------------  -----   \n",
            " 0   data_hora          149 non-null    category\n",
            " 1   tipo_favorecido    149 non-null    category\n",
            " 2   municipio          149 non-null    category\n",
            " 3   acao_orcamentaria  149 non-null    category\n",
            " 4   gastos             149 non-null    float64 \n",
            "dtypes: category(4), float64(1)\n",
            "memory usage: 3.9 KB\n"
          ],
          "name": "stdout"
        }
      ]
    },
    {
      "cell_type": "markdown",
      "metadata": {
        "id": "JvIjW9eo7M4V"
      },
      "source": [
        "### **Tratamento dos dados de casos de covid-19 em PE**"
      ]
    },
    {
      "cell_type": "markdown",
      "metadata": {
        "id": "UrgXxWT1MCvo"
      },
      "source": [
        "Filtragem de categorias"
      ]
    },
    {
      "cell_type": "code",
      "metadata": {
        "colab": {
          "base_uri": "https://localhost:8080/",
          "height": 402
        },
        "id": "ycdb5D-sLijY",
        "outputId": "d6b785d5-4f4b-45ed-e3ea-727166b7b5a6"
      },
      "source": [
        "covidPeCases = covidPeCases.filter(items=['city', \\\n",
        "                                         'last_available_confirmed', \\\n",
        "                                         'last_available_deaths', \\\n",
        "                                         'last_available_death_rate', \\\n",
        "                                         'estimated_population' \\\n",
        "                                         ])\n",
        "covidPeCases"
      ],
      "execution_count": 24,
      "outputs": [
        {
          "output_type": "execute_result",
          "data": {
            "text/html": [
              "<div>\n",
              "<style scoped>\n",
              "    .dataframe tbody tr th:only-of-type {\n",
              "        vertical-align: middle;\n",
              "    }\n",
              "\n",
              "    .dataframe tbody tr th {\n",
              "        vertical-align: top;\n",
              "    }\n",
              "\n",
              "    .dataframe thead th {\n",
              "        text-align: right;\n",
              "    }\n",
              "</style>\n",
              "<table border=\"1\" class=\"dataframe\">\n",
              "  <thead>\n",
              "    <tr style=\"text-align: right;\">\n",
              "      <th></th>\n",
              "      <th>city</th>\n",
              "      <th>last_available_confirmed</th>\n",
              "      <th>last_available_deaths</th>\n",
              "      <th>last_available_death_rate</th>\n",
              "      <th>estimated_population</th>\n",
              "    </tr>\n",
              "  </thead>\n",
              "  <tbody>\n",
              "    <tr>\n",
              "      <th>0</th>\n",
              "      <td>NaN</td>\n",
              "      <td>323176</td>\n",
              "      <td>11510</td>\n",
              "      <td>0.0356</td>\n",
              "      <td>9616621.0</td>\n",
              "    </tr>\n",
              "    <tr>\n",
              "      <th>1</th>\n",
              "      <td>Abreu e Lima</td>\n",
              "      <td>1700</td>\n",
              "      <td>159</td>\n",
              "      <td>0.0935</td>\n",
              "      <td>100346.0</td>\n",
              "    </tr>\n",
              "    <tr>\n",
              "      <th>2</th>\n",
              "      <td>Afogados da Ingazeira</td>\n",
              "      <td>2478</td>\n",
              "      <td>35</td>\n",
              "      <td>0.0141</td>\n",
              "      <td>37404.0</td>\n",
              "    </tr>\n",
              "    <tr>\n",
              "      <th>3</th>\n",
              "      <td>Afrânio</td>\n",
              "      <td>578</td>\n",
              "      <td>9</td>\n",
              "      <td>0.0156</td>\n",
              "      <td>19810.0</td>\n",
              "    </tr>\n",
              "    <tr>\n",
              "      <th>4</th>\n",
              "      <td>Agrestina</td>\n",
              "      <td>865</td>\n",
              "      <td>36</td>\n",
              "      <td>0.0416</td>\n",
              "      <td>25065.0</td>\n",
              "    </tr>\n",
              "    <tr>\n",
              "      <th>...</th>\n",
              "      <td>...</td>\n",
              "      <td>...</td>\n",
              "      <td>...</td>\n",
              "      <td>...</td>\n",
              "      <td>...</td>\n",
              "    </tr>\n",
              "    <tr>\n",
              "      <th>182</th>\n",
              "      <td>Vertente do Lério</td>\n",
              "      <td>156</td>\n",
              "      <td>2</td>\n",
              "      <td>0.0128</td>\n",
              "      <td>7571.0</td>\n",
              "    </tr>\n",
              "    <tr>\n",
              "      <th>183</th>\n",
              "      <td>Vertentes</td>\n",
              "      <td>408</td>\n",
              "      <td>5</td>\n",
              "      <td>0.0123</td>\n",
              "      <td>20954.0</td>\n",
              "    </tr>\n",
              "    <tr>\n",
              "      <th>184</th>\n",
              "      <td>Vicência</td>\n",
              "      <td>431</td>\n",
              "      <td>16</td>\n",
              "      <td>0.0371</td>\n",
              "      <td>32772.0</td>\n",
              "    </tr>\n",
              "    <tr>\n",
              "      <th>185</th>\n",
              "      <td>Vitória de Santo Antão</td>\n",
              "      <td>3038</td>\n",
              "      <td>186</td>\n",
              "      <td>0.0612</td>\n",
              "      <td>139583.0</td>\n",
              "    </tr>\n",
              "    <tr>\n",
              "      <th>186</th>\n",
              "      <td>Xexéu</td>\n",
              "      <td>344</td>\n",
              "      <td>18</td>\n",
              "      <td>0.0523</td>\n",
              "      <td>14757.0</td>\n",
              "    </tr>\n",
              "  </tbody>\n",
              "</table>\n",
              "<p>187 rows × 5 columns</p>\n",
              "</div>"
            ],
            "text/plain": [
              "                       city  ...  estimated_population\n",
              "0                       NaN  ...             9616621.0\n",
              "1              Abreu e Lima  ...              100346.0\n",
              "2     Afogados da Ingazeira  ...               37404.0\n",
              "3                   Afrânio  ...               19810.0\n",
              "4                 Agrestina  ...               25065.0\n",
              "..                      ...  ...                   ...\n",
              "182       Vertente do Lério  ...                7571.0\n",
              "183               Vertentes  ...               20954.0\n",
              "184                Vicência  ...               32772.0\n",
              "185  Vitória de Santo Antão  ...              139583.0\n",
              "186                   Xexéu  ...               14757.0\n",
              "\n",
              "[187 rows x 5 columns]"
            ]
          },
          "metadata": {
            "tags": []
          },
          "execution_count": 24
        }
      ]
    },
    {
      "cell_type": "markdown",
      "metadata": {
        "id": "KugjoksVMEZn"
      },
      "source": [
        "Renomeação de colunas"
      ]
    },
    {
      "cell_type": "code",
      "metadata": {
        "id": "QxTROxJ_L3bR",
        "colab": {
          "base_uri": "https://localhost:8080/",
          "height": 402
        },
        "outputId": "5979a971-b4a4-49f3-f8fc-044bc50ee3d4"
      },
      "source": [
        "covidPeCases = covidPeCases.rename(columns={\"city\": \"municipio\", \\\n",
        "                                           \"last_available_confirmed\": \"casos_confirmados\", \\\n",
        "                                           \"last_available_deaths\": \"mortes_confirmadas\", \\\n",
        "                                           \"last_available_death_rate\": \"taxa_mortalidade\", \\\n",
        "                                           \"estimated_population\": \"pop_estimada\" \\\n",
        "                                           })\n",
        "covidPeCases"
      ],
      "execution_count": 25,
      "outputs": [
        {
          "output_type": "execute_result",
          "data": {
            "text/html": [
              "<div>\n",
              "<style scoped>\n",
              "    .dataframe tbody tr th:only-of-type {\n",
              "        vertical-align: middle;\n",
              "    }\n",
              "\n",
              "    .dataframe tbody tr th {\n",
              "        vertical-align: top;\n",
              "    }\n",
              "\n",
              "    .dataframe thead th {\n",
              "        text-align: right;\n",
              "    }\n",
              "</style>\n",
              "<table border=\"1\" class=\"dataframe\">\n",
              "  <thead>\n",
              "    <tr style=\"text-align: right;\">\n",
              "      <th></th>\n",
              "      <th>municipio</th>\n",
              "      <th>casos_confirmados</th>\n",
              "      <th>mortes_confirmadas</th>\n",
              "      <th>taxa_mortalidade</th>\n",
              "      <th>pop_estimada</th>\n",
              "    </tr>\n",
              "  </thead>\n",
              "  <tbody>\n",
              "    <tr>\n",
              "      <th>0</th>\n",
              "      <td>NaN</td>\n",
              "      <td>323176</td>\n",
              "      <td>11510</td>\n",
              "      <td>0.0356</td>\n",
              "      <td>9616621.0</td>\n",
              "    </tr>\n",
              "    <tr>\n",
              "      <th>1</th>\n",
              "      <td>Abreu e Lima</td>\n",
              "      <td>1700</td>\n",
              "      <td>159</td>\n",
              "      <td>0.0935</td>\n",
              "      <td>100346.0</td>\n",
              "    </tr>\n",
              "    <tr>\n",
              "      <th>2</th>\n",
              "      <td>Afogados da Ingazeira</td>\n",
              "      <td>2478</td>\n",
              "      <td>35</td>\n",
              "      <td>0.0141</td>\n",
              "      <td>37404.0</td>\n",
              "    </tr>\n",
              "    <tr>\n",
              "      <th>3</th>\n",
              "      <td>Afrânio</td>\n",
              "      <td>578</td>\n",
              "      <td>9</td>\n",
              "      <td>0.0156</td>\n",
              "      <td>19810.0</td>\n",
              "    </tr>\n",
              "    <tr>\n",
              "      <th>4</th>\n",
              "      <td>Agrestina</td>\n",
              "      <td>865</td>\n",
              "      <td>36</td>\n",
              "      <td>0.0416</td>\n",
              "      <td>25065.0</td>\n",
              "    </tr>\n",
              "    <tr>\n",
              "      <th>...</th>\n",
              "      <td>...</td>\n",
              "      <td>...</td>\n",
              "      <td>...</td>\n",
              "      <td>...</td>\n",
              "      <td>...</td>\n",
              "    </tr>\n",
              "    <tr>\n",
              "      <th>182</th>\n",
              "      <td>Vertente do Lério</td>\n",
              "      <td>156</td>\n",
              "      <td>2</td>\n",
              "      <td>0.0128</td>\n",
              "      <td>7571.0</td>\n",
              "    </tr>\n",
              "    <tr>\n",
              "      <th>183</th>\n",
              "      <td>Vertentes</td>\n",
              "      <td>408</td>\n",
              "      <td>5</td>\n",
              "      <td>0.0123</td>\n",
              "      <td>20954.0</td>\n",
              "    </tr>\n",
              "    <tr>\n",
              "      <th>184</th>\n",
              "      <td>Vicência</td>\n",
              "      <td>431</td>\n",
              "      <td>16</td>\n",
              "      <td>0.0371</td>\n",
              "      <td>32772.0</td>\n",
              "    </tr>\n",
              "    <tr>\n",
              "      <th>185</th>\n",
              "      <td>Vitória de Santo Antão</td>\n",
              "      <td>3038</td>\n",
              "      <td>186</td>\n",
              "      <td>0.0612</td>\n",
              "      <td>139583.0</td>\n",
              "    </tr>\n",
              "    <tr>\n",
              "      <th>186</th>\n",
              "      <td>Xexéu</td>\n",
              "      <td>344</td>\n",
              "      <td>18</td>\n",
              "      <td>0.0523</td>\n",
              "      <td>14757.0</td>\n",
              "    </tr>\n",
              "  </tbody>\n",
              "</table>\n",
              "<p>187 rows × 5 columns</p>\n",
              "</div>"
            ],
            "text/plain": [
              "                  municipio  casos_confirmados  ...  taxa_mortalidade  pop_estimada\n",
              "0                       NaN             323176  ...            0.0356     9616621.0\n",
              "1              Abreu e Lima               1700  ...            0.0935      100346.0\n",
              "2     Afogados da Ingazeira               2478  ...            0.0141       37404.0\n",
              "3                   Afrânio                578  ...            0.0156       19810.0\n",
              "4                 Agrestina                865  ...            0.0416       25065.0\n",
              "..                      ...                ...  ...               ...           ...\n",
              "182       Vertente do Lério                156  ...            0.0128        7571.0\n",
              "183               Vertentes                408  ...            0.0123       20954.0\n",
              "184                Vicência                431  ...            0.0371       32772.0\n",
              "185  Vitória de Santo Antão               3038  ...            0.0612      139583.0\n",
              "186                   Xexéu                344  ...            0.0523       14757.0\n",
              "\n",
              "[187 rows x 5 columns]"
            ]
          },
          "metadata": {
            "tags": []
          },
          "execution_count": 25
        }
      ]
    },
    {
      "cell_type": "markdown",
      "metadata": {
        "id": "ppahtXoqPG7l"
      },
      "source": [
        "Filtrar cidades do dataset de Gastos públicos"
      ]
    },
    {
      "cell_type": "code",
      "metadata": {
        "id": "E2Y3omYllzL2",
        "colab": {
          "base_uri": "https://localhost:8080/",
          "height": 343
        },
        "outputId": "3d9f3e6e-e347-417c-a5e4-b32cb26f319d"
      },
      "source": [
        "#Guardando uma cópia dos dados de todas as cidades\n",
        "oldCovidPeCases = covidPeCases\n",
        "\n",
        "#Filtrando as cidades que selecionamos os gastos no portal da transparência\n",
        "cities = ['Arcoverde', \\\n",
        "          'Buíque', \\\n",
        "          'Caruaru', \\\n",
        "          'Garanhuns', \\\n",
        "          'Jaboatão dos Guararapes', \\\n",
        "          'Olinda', \\\n",
        "          'Paulista', \\\n",
        "          'Petrolina', \\\n",
        "          'Recife', \\\n",
        "          'Serra Talhada']\n",
        "\n",
        "covidPeCases = covidPeCases[covidPeCases.municipio.isin(cities)]\n",
        "covidPeCases"
      ],
      "execution_count": 26,
      "outputs": [
        {
          "output_type": "execute_result",
          "data": {
            "text/html": [
              "<div>\n",
              "<style scoped>\n",
              "    .dataframe tbody tr th:only-of-type {\n",
              "        vertical-align: middle;\n",
              "    }\n",
              "\n",
              "    .dataframe tbody tr th {\n",
              "        vertical-align: top;\n",
              "    }\n",
              "\n",
              "    .dataframe thead th {\n",
              "        text-align: right;\n",
              "    }\n",
              "</style>\n",
              "<table border=\"1\" class=\"dataframe\">\n",
              "  <thead>\n",
              "    <tr style=\"text-align: right;\">\n",
              "      <th></th>\n",
              "      <th>municipio</th>\n",
              "      <th>casos_confirmados</th>\n",
              "      <th>mortes_confirmadas</th>\n",
              "      <th>taxa_mortalidade</th>\n",
              "      <th>pop_estimada</th>\n",
              "    </tr>\n",
              "  </thead>\n",
              "  <tbody>\n",
              "    <tr>\n",
              "      <th>14</th>\n",
              "      <td>Arcoverde</td>\n",
              "      <td>4281</td>\n",
              "      <td>87</td>\n",
              "      <td>0.0203</td>\n",
              "      <td>74822.0</td>\n",
              "    </tr>\n",
              "    <tr>\n",
              "      <th>30</th>\n",
              "      <td>Buíque</td>\n",
              "      <td>1436</td>\n",
              "      <td>23</td>\n",
              "      <td>0.0160</td>\n",
              "      <td>58919.0</td>\n",
              "    </tr>\n",
              "    <tr>\n",
              "      <th>45</th>\n",
              "      <td>Caruaru</td>\n",
              "      <td>17187</td>\n",
              "      <td>454</td>\n",
              "      <td>0.0264</td>\n",
              "      <td>365278.0</td>\n",
              "    </tr>\n",
              "    <tr>\n",
              "      <th>67</th>\n",
              "      <td>Garanhuns</td>\n",
              "      <td>7250</td>\n",
              "      <td>134</td>\n",
              "      <td>0.0185</td>\n",
              "      <td>140577.0</td>\n",
              "    </tr>\n",
              "    <tr>\n",
              "      <th>89</th>\n",
              "      <td>Jaboatão dos Guararapes</td>\n",
              "      <td>19966</td>\n",
              "      <td>1095</td>\n",
              "      <td>0.0548</td>\n",
              "      <td>706867.0</td>\n",
              "    </tr>\n",
              "    <tr>\n",
              "      <th>113</th>\n",
              "      <td>Olinda</td>\n",
              "      <td>14581</td>\n",
              "      <td>635</td>\n",
              "      <td>0.0435</td>\n",
              "      <td>393115.0</td>\n",
              "    </tr>\n",
              "    <tr>\n",
              "      <th>124</th>\n",
              "      <td>Paulista</td>\n",
              "      <td>7154</td>\n",
              "      <td>528</td>\n",
              "      <td>0.0738</td>\n",
              "      <td>334376.0</td>\n",
              "    </tr>\n",
              "    <tr>\n",
              "      <th>128</th>\n",
              "      <td>Petrolina</td>\n",
              "      <td>18239</td>\n",
              "      <td>209</td>\n",
              "      <td>0.0115</td>\n",
              "      <td>354317.0</td>\n",
              "    </tr>\n",
              "    <tr>\n",
              "      <th>134</th>\n",
              "      <td>Recife</td>\n",
              "      <td>78117</td>\n",
              "      <td>3168</td>\n",
              "      <td>0.0406</td>\n",
              "      <td>1653461.0</td>\n",
              "    </tr>\n",
              "    <tr>\n",
              "      <th>160</th>\n",
              "      <td>Serra Talhada</td>\n",
              "      <td>7341</td>\n",
              "      <td>105</td>\n",
              "      <td>0.0143</td>\n",
              "      <td>86915.0</td>\n",
              "    </tr>\n",
              "  </tbody>\n",
              "</table>\n",
              "</div>"
            ],
            "text/plain": [
              "                   municipio  casos_confirmados  ...  taxa_mortalidade  pop_estimada\n",
              "14                 Arcoverde               4281  ...            0.0203       74822.0\n",
              "30                    Buíque               1436  ...            0.0160       58919.0\n",
              "45                   Caruaru              17187  ...            0.0264      365278.0\n",
              "67                 Garanhuns               7250  ...            0.0185      140577.0\n",
              "89   Jaboatão dos Guararapes              19966  ...            0.0548      706867.0\n",
              "113                   Olinda              14581  ...            0.0435      393115.0\n",
              "124                 Paulista               7154  ...            0.0738      334376.0\n",
              "128                Petrolina              18239  ...            0.0115      354317.0\n",
              "134                   Recife              78117  ...            0.0406     1653461.0\n",
              "160            Serra Talhada               7341  ...            0.0143       86915.0\n",
              "\n",
              "[10 rows x 5 columns]"
            ]
          },
          "metadata": {
            "tags": []
          },
          "execution_count": 26
        }
      ]
    },
    {
      "cell_type": "code",
      "metadata": {
        "colab": {
          "base_uri": "https://localhost:8080/"
        },
        "id": "ahFKtynRWcZK",
        "outputId": "872e933e-4384-4fc5-ba09-935f37492f57"
      },
      "source": [
        "covidPeCases.info(verbose=True)"
      ],
      "execution_count": 27,
      "outputs": [
        {
          "output_type": "stream",
          "text": [
            "<class 'pandas.core.frame.DataFrame'>\n",
            "Int64Index: 10 entries, 14 to 160\n",
            "Data columns (total 5 columns):\n",
            " #   Column              Non-Null Count  Dtype  \n",
            "---  ------              --------------  -----  \n",
            " 0   municipio           10 non-null     object \n",
            " 1   casos_confirmados   10 non-null     int64  \n",
            " 2   mortes_confirmadas  10 non-null     int64  \n",
            " 3   taxa_mortalidade    10 non-null     float64\n",
            " 4   pop_estimada        10 non-null     float64\n",
            "dtypes: float64(2), int64(2), object(1)\n",
            "memory usage: 480.0+ bytes\n"
          ],
          "name": "stdout"
        }
      ]
    },
    {
      "cell_type": "code",
      "metadata": {
        "colab": {
          "base_uri": "https://localhost:8080/"
        },
        "id": "TrR7lzvjbI4n",
        "outputId": "140540c3-5698-4e9b-9624-2f36c614cfd5"
      },
      "source": [
        "covidPeCases['municipio'] = covidPeCases['municipio'].apply(lambda city: city.upper())\n",
        "covidPeCases['municipio'].unique()"
      ],
      "execution_count": 28,
      "outputs": [
        {
          "output_type": "stream",
          "text": [
            "/usr/local/lib/python3.7/dist-packages/ipykernel_launcher.py:1: SettingWithCopyWarning: \n",
            "A value is trying to be set on a copy of a slice from a DataFrame.\n",
            "Try using .loc[row_indexer,col_indexer] = value instead\n",
            "\n",
            "See the caveats in the documentation: https://pandas.pydata.org/pandas-docs/stable/user_guide/indexing.html#returning-a-view-versus-a-copy\n",
            "  \"\"\"Entry point for launching an IPython kernel.\n"
          ],
          "name": "stderr"
        },
        {
          "output_type": "execute_result",
          "data": {
            "text/plain": [
              "array(['ARCOVERDE', 'BUÍQUE', 'CARUARU', 'GARANHUNS',\n",
              "       'JABOATÃO DOS GUARARAPES', 'OLINDA', 'PAULISTA', 'PETROLINA',\n",
              "       'RECIFE', 'SERRA TALHADA'], dtype=object)"
            ]
          },
          "metadata": {
            "tags": []
          },
          "execution_count": 28
        }
      ]
    },
    {
      "cell_type": "code",
      "metadata": {
        "colab": {
          "base_uri": "https://localhost:8080/"
        },
        "id": "eOyrO8VdcMGn",
        "outputId": "4fbe9d5b-cf13-4d76-bb12-8a2d8b112221"
      },
      "source": [
        "covidPeCases['municipio'] = covidPeCases['municipio'].astype('category')\n",
        "covidPeCases['id'] = covidPeCases['municipio'].cat.codes\n",
        "covidPeCases.index = covidPeCases['id']"
      ],
      "execution_count": 29,
      "outputs": [
        {
          "output_type": "stream",
          "text": [
            "/usr/local/lib/python3.7/dist-packages/ipykernel_launcher.py:1: SettingWithCopyWarning: \n",
            "A value is trying to be set on a copy of a slice from a DataFrame.\n",
            "Try using .loc[row_indexer,col_indexer] = value instead\n",
            "\n",
            "See the caveats in the documentation: https://pandas.pydata.org/pandas-docs/stable/user_guide/indexing.html#returning-a-view-versus-a-copy\n",
            "  \"\"\"Entry point for launching an IPython kernel.\n",
            "/usr/local/lib/python3.7/dist-packages/ipykernel_launcher.py:2: SettingWithCopyWarning: \n",
            "A value is trying to be set on a copy of a slice from a DataFrame.\n",
            "Try using .loc[row_indexer,col_indexer] = value instead\n",
            "\n",
            "See the caveats in the documentation: https://pandas.pydata.org/pandas-docs/stable/user_guide/indexing.html#returning-a-view-versus-a-copy\n",
            "  \n"
          ],
          "name": "stderr"
        }
      ]
    },
    {
      "cell_type": "code",
      "metadata": {
        "colab": {
          "base_uri": "https://localhost:8080/",
          "height": 373
        },
        "id": "BCs0LeFWlV0y",
        "outputId": "6389e8e6-0f85-4b14-bcda-4d41808c355d"
      },
      "source": [
        "covidPeCases"
      ],
      "execution_count": 30,
      "outputs": [
        {
          "output_type": "execute_result",
          "data": {
            "text/html": [
              "<div>\n",
              "<style scoped>\n",
              "    .dataframe tbody tr th:only-of-type {\n",
              "        vertical-align: middle;\n",
              "    }\n",
              "\n",
              "    .dataframe tbody tr th {\n",
              "        vertical-align: top;\n",
              "    }\n",
              "\n",
              "    .dataframe thead th {\n",
              "        text-align: right;\n",
              "    }\n",
              "</style>\n",
              "<table border=\"1\" class=\"dataframe\">\n",
              "  <thead>\n",
              "    <tr style=\"text-align: right;\">\n",
              "      <th></th>\n",
              "      <th>municipio</th>\n",
              "      <th>casos_confirmados</th>\n",
              "      <th>mortes_confirmadas</th>\n",
              "      <th>taxa_mortalidade</th>\n",
              "      <th>pop_estimada</th>\n",
              "      <th>id</th>\n",
              "    </tr>\n",
              "    <tr>\n",
              "      <th>id</th>\n",
              "      <th></th>\n",
              "      <th></th>\n",
              "      <th></th>\n",
              "      <th></th>\n",
              "      <th></th>\n",
              "      <th></th>\n",
              "    </tr>\n",
              "  </thead>\n",
              "  <tbody>\n",
              "    <tr>\n",
              "      <th>0</th>\n",
              "      <td>ARCOVERDE</td>\n",
              "      <td>4281</td>\n",
              "      <td>87</td>\n",
              "      <td>0.0203</td>\n",
              "      <td>74822.0</td>\n",
              "      <td>0</td>\n",
              "    </tr>\n",
              "    <tr>\n",
              "      <th>1</th>\n",
              "      <td>BUÍQUE</td>\n",
              "      <td>1436</td>\n",
              "      <td>23</td>\n",
              "      <td>0.0160</td>\n",
              "      <td>58919.0</td>\n",
              "      <td>1</td>\n",
              "    </tr>\n",
              "    <tr>\n",
              "      <th>2</th>\n",
              "      <td>CARUARU</td>\n",
              "      <td>17187</td>\n",
              "      <td>454</td>\n",
              "      <td>0.0264</td>\n",
              "      <td>365278.0</td>\n",
              "      <td>2</td>\n",
              "    </tr>\n",
              "    <tr>\n",
              "      <th>3</th>\n",
              "      <td>GARANHUNS</td>\n",
              "      <td>7250</td>\n",
              "      <td>134</td>\n",
              "      <td>0.0185</td>\n",
              "      <td>140577.0</td>\n",
              "      <td>3</td>\n",
              "    </tr>\n",
              "    <tr>\n",
              "      <th>4</th>\n",
              "      <td>JABOATÃO DOS GUARARAPES</td>\n",
              "      <td>19966</td>\n",
              "      <td>1095</td>\n",
              "      <td>0.0548</td>\n",
              "      <td>706867.0</td>\n",
              "      <td>4</td>\n",
              "    </tr>\n",
              "    <tr>\n",
              "      <th>5</th>\n",
              "      <td>OLINDA</td>\n",
              "      <td>14581</td>\n",
              "      <td>635</td>\n",
              "      <td>0.0435</td>\n",
              "      <td>393115.0</td>\n",
              "      <td>5</td>\n",
              "    </tr>\n",
              "    <tr>\n",
              "      <th>6</th>\n",
              "      <td>PAULISTA</td>\n",
              "      <td>7154</td>\n",
              "      <td>528</td>\n",
              "      <td>0.0738</td>\n",
              "      <td>334376.0</td>\n",
              "      <td>6</td>\n",
              "    </tr>\n",
              "    <tr>\n",
              "      <th>7</th>\n",
              "      <td>PETROLINA</td>\n",
              "      <td>18239</td>\n",
              "      <td>209</td>\n",
              "      <td>0.0115</td>\n",
              "      <td>354317.0</td>\n",
              "      <td>7</td>\n",
              "    </tr>\n",
              "    <tr>\n",
              "      <th>8</th>\n",
              "      <td>RECIFE</td>\n",
              "      <td>78117</td>\n",
              "      <td>3168</td>\n",
              "      <td>0.0406</td>\n",
              "      <td>1653461.0</td>\n",
              "      <td>8</td>\n",
              "    </tr>\n",
              "    <tr>\n",
              "      <th>9</th>\n",
              "      <td>SERRA TALHADA</td>\n",
              "      <td>7341</td>\n",
              "      <td>105</td>\n",
              "      <td>0.0143</td>\n",
              "      <td>86915.0</td>\n",
              "      <td>9</td>\n",
              "    </tr>\n",
              "  </tbody>\n",
              "</table>\n",
              "</div>"
            ],
            "text/plain": [
              "                  municipio  casos_confirmados  ...  pop_estimada  id\n",
              "id                                              ...                  \n",
              "0                 ARCOVERDE               4281  ...       74822.0   0\n",
              "1                    BUÍQUE               1436  ...       58919.0   1\n",
              "2                   CARUARU              17187  ...      365278.0   2\n",
              "3                 GARANHUNS               7250  ...      140577.0   3\n",
              "4   JABOATÃO DOS GUARARAPES              19966  ...      706867.0   4\n",
              "5                    OLINDA              14581  ...      393115.0   5\n",
              "6                  PAULISTA               7154  ...      334376.0   6\n",
              "7                 PETROLINA              18239  ...      354317.0   7\n",
              "8                    RECIFE              78117  ...     1653461.0   8\n",
              "9             SERRA TALHADA               7341  ...       86915.0   9\n",
              "\n",
              "[10 rows x 6 columns]"
            ]
          },
          "metadata": {
            "tags": []
          },
          "execution_count": 30
        }
      ]
    },
    {
      "cell_type": "markdown",
      "metadata": {
        "id": "IDTgOPKxAaCv"
      },
      "source": [
        "### **Remoção de outliers multivariado**\n",
        "> Método utilizado:\n",
        "  * Local Outlier Factor\n",
        "\n",
        "> Conjunto:\n",
        "  * ```investCovidPE```"
      ]
    },
    {
      "cell_type": "markdown",
      "metadata": {
        "id": "nayhR_TLag-A"
      },
      "source": [
        "Categorizando Gastos públicos"
      ]
    },
    {
      "cell_type": "markdown",
      "metadata": {
        "id": "qtQRD6AomH-A"
      },
      "source": [
        "Método para vincular os dados de municípios entre os dois Conjuntos de Dados"
      ]
    },
    {
      "cell_type": "code",
      "metadata": {
        "id": "7712t-mXfjd1"
      },
      "source": [
        "def categorizar_municipio(city):\n",
        "  return covidPeCases[covidPeCases['municipio'] == str(city)].index.values.astype(int)[0]"
      ],
      "execution_count": 31,
      "outputs": []
    },
    {
      "cell_type": "code",
      "metadata": {
        "id": "L7aa-Y4WAiKn"
      },
      "source": [
        "invest_covidPe['municipio'] = invest_covidPe['municipio'].map(lambda city: city.replace(city, str(categorizar_municipio(city))))\n",
        "invest_covidPe['tipo_favorecido'] = invest_covidPe['tipo_favorecido'].cat.codes\n",
        "invest_covidPe['acao_orcamentaria'] = invest_covidPe['acao_orcamentaria'].cat.codes"
      ],
      "execution_count": 32,
      "outputs": []
    },
    {
      "cell_type": "code",
      "metadata": {
        "colab": {
          "base_uri": "https://localhost:8080/",
          "height": 402
        },
        "id": "BkajQcJKl24y",
        "outputId": "414f923e-efa7-46c9-f4d1-b441dceb6a10"
      },
      "source": [
        "invest_covidPe"
      ],
      "execution_count": 33,
      "outputs": [
        {
          "output_type": "execute_result",
          "data": {
            "text/html": [
              "<div>\n",
              "<style scoped>\n",
              "    .dataframe tbody tr th:only-of-type {\n",
              "        vertical-align: middle;\n",
              "    }\n",
              "\n",
              "    .dataframe tbody tr th {\n",
              "        vertical-align: top;\n",
              "    }\n",
              "\n",
              "    .dataframe thead th {\n",
              "        text-align: right;\n",
              "    }\n",
              "</style>\n",
              "<table border=\"1\" class=\"dataframe\">\n",
              "  <thead>\n",
              "    <tr style=\"text-align: right;\">\n",
              "      <th></th>\n",
              "      <th>data_hora</th>\n",
              "      <th>tipo_favorecido</th>\n",
              "      <th>municipio</th>\n",
              "      <th>acao_orcamentaria</th>\n",
              "      <th>gastos</th>\n",
              "    </tr>\n",
              "  </thead>\n",
              "  <tbody>\n",
              "    <tr>\n",
              "      <th>0</th>\n",
              "      <td>2020-03-10</td>\n",
              "      <td>1</td>\n",
              "      <td>8</td>\n",
              "      <td>1</td>\n",
              "      <td>60000.00</td>\n",
              "    </tr>\n",
              "    <tr>\n",
              "      <th>1</th>\n",
              "      <td>2020-04-10</td>\n",
              "      <td>1</td>\n",
              "      <td>3</td>\n",
              "      <td>1</td>\n",
              "      <td>1174944.27</td>\n",
              "    </tr>\n",
              "    <tr>\n",
              "      <th>2</th>\n",
              "      <td>2020-04-10</td>\n",
              "      <td>1</td>\n",
              "      <td>7</td>\n",
              "      <td>1</td>\n",
              "      <td>4130446.89</td>\n",
              "    </tr>\n",
              "    <tr>\n",
              "      <th>3</th>\n",
              "      <td>2020-04-10</td>\n",
              "      <td>1</td>\n",
              "      <td>5</td>\n",
              "      <td>1</td>\n",
              "      <td>3830136.03</td>\n",
              "    </tr>\n",
              "    <tr>\n",
              "      <th>4</th>\n",
              "      <td>2020-04-10</td>\n",
              "      <td>1</td>\n",
              "      <td>2</td>\n",
              "      <td>1</td>\n",
              "      <td>3662675.00</td>\n",
              "    </tr>\n",
              "    <tr>\n",
              "      <th>...</th>\n",
              "      <td>...</td>\n",
              "      <td>...</td>\n",
              "      <td>...</td>\n",
              "      <td>...</td>\n",
              "      <td>...</td>\n",
              "    </tr>\n",
              "    <tr>\n",
              "      <th>695</th>\n",
              "      <td>2020-07-10</td>\n",
              "      <td>1</td>\n",
              "      <td>3</td>\n",
              "      <td>0</td>\n",
              "      <td>4995000.00</td>\n",
              "    </tr>\n",
              "    <tr>\n",
              "      <th>696</th>\n",
              "      <td>2020-04-10</td>\n",
              "      <td>1</td>\n",
              "      <td>4</td>\n",
              "      <td>0</td>\n",
              "      <td>7327021.87</td>\n",
              "    </tr>\n",
              "    <tr>\n",
              "      <th>697</th>\n",
              "      <td>2020-10-10</td>\n",
              "      <td>1</td>\n",
              "      <td>8</td>\n",
              "      <td>0</td>\n",
              "      <td>3500000.00</td>\n",
              "    </tr>\n",
              "    <tr>\n",
              "      <th>698</th>\n",
              "      <td>2020-07-10</td>\n",
              "      <td>1</td>\n",
              "      <td>7</td>\n",
              "      <td>0</td>\n",
              "      <td>8676053.00</td>\n",
              "    </tr>\n",
              "    <tr>\n",
              "      <th>699</th>\n",
              "      <td>2020-07-10</td>\n",
              "      <td>1</td>\n",
              "      <td>1</td>\n",
              "      <td>0</td>\n",
              "      <td>1850000.00</td>\n",
              "    </tr>\n",
              "  </tbody>\n",
              "</table>\n",
              "<p>149 rows × 5 columns</p>\n",
              "</div>"
            ],
            "text/plain": [
              "     data_hora  tipo_favorecido municipio  acao_orcamentaria      gastos\n",
              "0   2020-03-10                1         8                  1    60000.00\n",
              "1   2020-04-10                1         3                  1  1174944.27\n",
              "2   2020-04-10                1         7                  1  4130446.89\n",
              "3   2020-04-10                1         5                  1  3830136.03\n",
              "4   2020-04-10                1         2                  1  3662675.00\n",
              "..         ...              ...       ...                ...         ...\n",
              "695 2020-07-10                1         3                  0  4995000.00\n",
              "696 2020-04-10                1         4                  0  7327021.87\n",
              "697 2020-10-10                1         8                  0  3500000.00\n",
              "698 2020-07-10                1         7                  0  8676053.00\n",
              "699 2020-07-10                1         1                  0  1850000.00\n",
              "\n",
              "[149 rows x 5 columns]"
            ]
          },
          "metadata": {
            "tags": []
          },
          "execution_count": 33
        }
      ]
    },
    {
      "cell_type": "markdown",
      "metadata": {
        "id": "1IDXw_5TCKW2"
      },
      "source": [
        "#### **Local Outlier Factor**"
      ]
    },
    {
      "cell_type": "code",
      "metadata": {
        "colab": {
          "base_uri": "https://localhost:8080/"
        },
        "id": "cxh5XJkcFxoO",
        "outputId": "5adbb543-a098-4ac4-f27e-fe84c9394993"
      },
      "source": [
        "invest_covidPe_lof = invest_covidPe\n",
        "print(\"Quantidade de linhas: \" + str(len(invest_covidPe)))"
      ],
      "execution_count": 34,
      "outputs": [
        {
          "output_type": "stream",
          "text": [
            "Quantidade de linhas: 149\n"
          ],
          "name": "stdout"
        }
      ]
    },
    {
      "cell_type": "code",
      "metadata": {
        "id": "wNp19szfcqS-"
      },
      "source": [
        "from sklearn.neighbors import LocalOutlierFactor\n",
        "clf = LocalOutlierFactor(n_neighbors=10)"
      ],
      "execution_count": 35,
      "outputs": []
    },
    {
      "cell_type": "code",
      "metadata": {
        "id": "hY-LVcjacyTl"
      },
      "source": [
        "scores = clf.fit_predict(invest_covidPe_lof)"
      ],
      "execution_count": 36,
      "outputs": []
    },
    {
      "cell_type": "code",
      "metadata": {
        "id": "K-gCHumSdl3H",
        "colab": {
          "base_uri": "https://localhost:8080/"
        },
        "outputId": "2c8e72c7-9bab-447d-ef35-4a6cd0190c65"
      },
      "source": [
        "# Valor de LOF\n",
        "-1*clf.negative_outlier_factor_"
      ],
      "execution_count": 37,
      "outputs": [
        {
          "output_type": "execute_result",
          "data": {
            "text/plain": [
              "array([6.45035129e+08, 9.99337108e-01, 1.02823943e+00, 9.67542984e-01,\n",
              "       9.73448724e-01, 1.39456792e+00, 5.17243913e+00, 9.81013671e-01,\n",
              "       9.93862810e-01, 9.78314272e-01, 1.05344665e+00, 9.95590425e-01,\n",
              "       1.59955779e+00, 9.67116893e-01, 9.99760949e-01, 1.01641878e+00,\n",
              "       1.03832113e+00, 9.67116893e-01, 9.89410684e-01, 9.57459611e-01,\n",
              "       1.02792102e+00, 1.00141792e+00, 1.55029210e+00, 1.45592367e+00,\n",
              "       9.63090266e-01, 9.85558422e-01, 9.90336209e-01, 9.91499287e-01,\n",
              "       1.10497664e+00, 1.19882840e+01, 9.94895295e-01, 1.02400123e+00,\n",
              "       9.67633491e-01, 1.03365694e+00, 5.54851150e+00, 3.61718092e+00,\n",
              "       2.43899425e+08, 2.43899425e+08, 2.43899425e+08, 2.43899425e+08,\n",
              "       2.57028426e+00, 1.00861523e+00, 9.46835781e-01, 1.84268216e+01,\n",
              "       1.01711760e+00, 1.43149659e+01, 9.99623797e-01, 9.12772098e-01,\n",
              "       1.39781120e+00, 2.23936639e+00, 2.99073704e+00, 1.03452886e+00,\n",
              "       1.72115960e+00, 1.30993458e+00, 2.89224958e+00, 1.94006703e+00,\n",
              "       1.05270704e+00, 2.90774754e+00, 9.31690694e-01, 1.39781120e+00,\n",
              "       1.01641878e+00, 9.06836865e-01, 9.78314272e-01, 2.43899425e+08,\n",
              "       1.08652337e+00, 1.94006703e+00, 1.03452886e+00, 2.89224958e+00,\n",
              "       1.10497664e+00, 1.55029210e+00, 9.91730597e-01, 1.05270704e+00,\n",
              "       9.95590425e-01, 9.99623797e-01, 9.73448724e-01, 1.03832113e+00,\n",
              "       9.73010413e-01, 9.90852441e-01, 6.45035129e+08, 9.67633491e-01,\n",
              "       9.99337108e-01, 9.90907394e-01, 1.19882840e+01, 9.93862810e-01,\n",
              "       1.84268216e+01, 1.01963347e+00, 9.57459611e-01, 5.17243913e+00,\n",
              "       2.57028426e+00, 2.83851196e+00, 9.72406284e-01, 1.04095263e+00,\n",
              "       1.72115960e+00, 1.03365694e+00, 9.81013671e-01, 3.61718092e+00,\n",
              "       1.01421175e+00, 9.94895295e-01, 1.01337194e+00, 9.85558422e-01,\n",
              "       9.67116893e-01, 1.08275163e+00, 9.90336209e-01, 9.78314272e-01,\n",
              "       1.01585508e+00, 2.91177219e+00, 2.23936639e+00, 1.45592367e+00,\n",
              "       9.99760949e-01, 1.01409713e+00, 9.69453006e-01, 9.31690694e-01,\n",
              "       9.67116893e-01, 1.59955779e+00, 1.43149659e+01, 1.93612039e+00,\n",
              "       1.30993458e+00, 2.43899425e+08, 1.01711760e+00, 1.02393021e+00,\n",
              "       1.22671682e+00, 2.99073704e+00, 9.67542984e-01, 9.82973257e-01,\n",
              "       1.02459212e+00, 1.02093172e+00, 9.68781257e-01, 1.02823943e+00,\n",
              "       9.12772098e-01, 9.72557748e-01, 2.43899425e+08, 9.31735073e-01,\n",
              "       9.46835781e-01, 9.54843785e-01, 5.54851150e+00, 2.90774754e+00,\n",
              "       1.05344665e+00, 1.00141792e+00, 1.52519301e+00, 9.91499287e-01,\n",
              "       1.02400123e+00, 1.00861523e+00, 9.63090266e-01, 9.78314272e-01,\n",
              "       1.02792102e+00, 1.39456792e+00, 2.43899425e+08, 9.89410684e-01,\n",
              "       9.74920973e-01])"
            ]
          },
          "metadata": {
            "tags": []
          },
          "execution_count": 37
        }
      ]
    },
    {
      "cell_type": "code",
      "metadata": {
        "id": "nD9THEnLc9n5",
        "colab": {
          "base_uri": "https://localhost:8080/"
        },
        "outputId": "60eed11d-f816-4fb9-a7e0-af541789b342"
      },
      "source": [
        "scores"
      ],
      "execution_count": 38,
      "outputs": [
        {
          "output_type": "execute_result",
          "data": {
            "text/plain": [
              "array([-1,  1,  1,  1,  1,  1, -1,  1,  1,  1,  1,  1, -1,  1,  1,  1,  1,\n",
              "        1,  1,  1,  1,  1, -1,  1,  1,  1,  1,  1,  1, -1,  1,  1,  1,  1,\n",
              "       -1, -1, -1, -1, -1, -1, -1,  1,  1, -1,  1, -1,  1,  1,  1, -1, -1,\n",
              "        1, -1,  1, -1, -1,  1, -1,  1,  1,  1,  1,  1, -1,  1, -1,  1, -1,\n",
              "        1, -1,  1,  1,  1,  1,  1,  1,  1,  1, -1,  1,  1,  1, -1,  1, -1,\n",
              "        1,  1, -1, -1, -1,  1,  1, -1,  1,  1, -1,  1,  1,  1,  1,  1,  1,\n",
              "        1,  1,  1, -1, -1,  1,  1,  1,  1,  1,  1, -1, -1, -1,  1, -1,  1,\n",
              "        1,  1, -1,  1,  1,  1,  1,  1,  1,  1,  1, -1,  1,  1,  1, -1, -1,\n",
              "        1,  1, -1,  1,  1,  1,  1,  1,  1,  1, -1,  1,  1])"
            ]
          },
          "metadata": {
            "tags": []
          },
          "execution_count": 38
        }
      ]
    },
    {
      "cell_type": "code",
      "metadata": {
        "id": "nipEFPzndJYa",
        "colab": {
          "base_uri": "https://localhost:8080/"
        },
        "outputId": "58d78557-abd7-44a7-8d86-9bac1fdc57d8"
      },
      "source": [
        "invest_covidPe_lof['outlier'] = scores\n",
        "print(invest_covidPe_lof.head())"
      ],
      "execution_count": 39,
      "outputs": [
        {
          "output_type": "stream",
          "text": [
            "   data_hora  tipo_favorecido municipio  acao_orcamentaria      gastos  outlier\n",
            "0 2020-03-10                1         8                  1    60000.00       -1\n",
            "1 2020-04-10                1         3                  1  1174944.27        1\n",
            "2 2020-04-10                1         7                  1  4130446.89        1\n",
            "3 2020-04-10                1         5                  1  3830136.03        1\n",
            "4 2020-04-10                1         2                  1  3662675.00        1\n"
          ],
          "name": "stdout"
        }
      ]
    },
    {
      "cell_type": "code",
      "metadata": {
        "id": "YoaDBs3ldU8j",
        "colab": {
          "base_uri": "https://localhost:8080/",
          "height": 1000
        },
        "outputId": "b93a8580-3b09-43f7-ded3-18d4a0b21ec0"
      },
      "source": [
        "invest_covidPe_lof[invest_covidPe_lof['outlier'] == -1]"
      ],
      "execution_count": 40,
      "outputs": [
        {
          "output_type": "execute_result",
          "data": {
            "text/html": [
              "<div>\n",
              "<style scoped>\n",
              "    .dataframe tbody tr th:only-of-type {\n",
              "        vertical-align: middle;\n",
              "    }\n",
              "\n",
              "    .dataframe tbody tr th {\n",
              "        vertical-align: top;\n",
              "    }\n",
              "\n",
              "    .dataframe thead th {\n",
              "        text-align: right;\n",
              "    }\n",
              "</style>\n",
              "<table border=\"1\" class=\"dataframe\">\n",
              "  <thead>\n",
              "    <tr style=\"text-align: right;\">\n",
              "      <th></th>\n",
              "      <th>data_hora</th>\n",
              "      <th>tipo_favorecido</th>\n",
              "      <th>municipio</th>\n",
              "      <th>acao_orcamentaria</th>\n",
              "      <th>gastos</th>\n",
              "      <th>outlier</th>\n",
              "    </tr>\n",
              "  </thead>\n",
              "  <tbody>\n",
              "    <tr>\n",
              "      <th>0</th>\n",
              "      <td>2020-03-10</td>\n",
              "      <td>1</td>\n",
              "      <td>8</td>\n",
              "      <td>1</td>\n",
              "      <td>60000.00</td>\n",
              "      <td>-1</td>\n",
              "    </tr>\n",
              "    <tr>\n",
              "      <th>6</th>\n",
              "      <td>2020-04-10</td>\n",
              "      <td>1</td>\n",
              "      <td>8</td>\n",
              "      <td>1</td>\n",
              "      <td>22986081.76</td>\n",
              "      <td>-1</td>\n",
              "    </tr>\n",
              "    <tr>\n",
              "      <th>17</th>\n",
              "      <td>2020-05-10</td>\n",
              "      <td>1</td>\n",
              "      <td>8</td>\n",
              "      <td>1</td>\n",
              "      <td>20266709.47</td>\n",
              "      <td>-1</td>\n",
              "    </tr>\n",
              "    <tr>\n",
              "      <th>35</th>\n",
              "      <td>2020-07-10</td>\n",
              "      <td>1</td>\n",
              "      <td>4</td>\n",
              "      <td>1</td>\n",
              "      <td>16162408.00</td>\n",
              "      <td>-1</td>\n",
              "    </tr>\n",
              "    <tr>\n",
              "      <th>48</th>\n",
              "      <td>2020-08-10</td>\n",
              "      <td>1</td>\n",
              "      <td>8</td>\n",
              "      <td>1</td>\n",
              "      <td>30578797.00</td>\n",
              "      <td>-1</td>\n",
              "    </tr>\n",
              "    <tr>\n",
              "      <th>55</th>\n",
              "      <td>2020-09-10</td>\n",
              "      <td>1</td>\n",
              "      <td>7</td>\n",
              "      <td>1</td>\n",
              "      <td>29940189.53</td>\n",
              "      <td>-1</td>\n",
              "    </tr>\n",
              "    <tr>\n",
              "      <th>56</th>\n",
              "      <td>2020-09-10</td>\n",
              "      <td>1</td>\n",
              "      <td>8</td>\n",
              "      <td>1</td>\n",
              "      <td>16156268.66</td>\n",
              "      <td>-1</td>\n",
              "    </tr>\n",
              "    <tr>\n",
              "      <th>57</th>\n",
              "      <td>2020-10-10</td>\n",
              "      <td>1</td>\n",
              "      <td>5</td>\n",
              "      <td>1</td>\n",
              "      <td>400000.00</td>\n",
              "      <td>-1</td>\n",
              "    </tr>\n",
              "    <tr>\n",
              "      <th>58</th>\n",
              "      <td>2020-10-10</td>\n",
              "      <td>1</td>\n",
              "      <td>8</td>\n",
              "      <td>1</td>\n",
              "      <td>3500000.00</td>\n",
              "      <td>-1</td>\n",
              "    </tr>\n",
              "    <tr>\n",
              "      <th>59</th>\n",
              "      <td>2020-10-10</td>\n",
              "      <td>1</td>\n",
              "      <td>4</td>\n",
              "      <td>1</td>\n",
              "      <td>1880000.00</td>\n",
              "      <td>-1</td>\n",
              "    </tr>\n",
              "    <tr>\n",
              "      <th>60</th>\n",
              "      <td>2020-10-10</td>\n",
              "      <td>1</td>\n",
              "      <td>7</td>\n",
              "      <td>1</td>\n",
              "      <td>600000.00</td>\n",
              "      <td>-1</td>\n",
              "    </tr>\n",
              "    <tr>\n",
              "      <th>157</th>\n",
              "      <td>2020-11-10</td>\n",
              "      <td>1</td>\n",
              "      <td>4</td>\n",
              "      <td>1</td>\n",
              "      <td>1153273.00</td>\n",
              "      <td>-1</td>\n",
              "    </tr>\n",
              "    <tr>\n",
              "      <th>220</th>\n",
              "      <td>2020-11-10</td>\n",
              "      <td>0</td>\n",
              "      <td>8</td>\n",
              "      <td>1</td>\n",
              "      <td>8716731.90</td>\n",
              "      <td>-1</td>\n",
              "    </tr>\n",
              "    <tr>\n",
              "      <th>279</th>\n",
              "      <td>2020-11-10</td>\n",
              "      <td>1</td>\n",
              "      <td>8</td>\n",
              "      <td>1</td>\n",
              "      <td>5943271.00</td>\n",
              "      <td>-1</td>\n",
              "    </tr>\n",
              "    <tr>\n",
              "      <th>384</th>\n",
              "      <td>2020-12-10</td>\n",
              "      <td>1</td>\n",
              "      <td>4</td>\n",
              "      <td>1</td>\n",
              "      <td>1615672.25</td>\n",
              "      <td>-1</td>\n",
              "    </tr>\n",
              "    <tr>\n",
              "      <th>397</th>\n",
              "      <td>2020-12-10</td>\n",
              "      <td>1</td>\n",
              "      <td>8</td>\n",
              "      <td>1</td>\n",
              "      <td>5196578.75</td>\n",
              "      <td>-1</td>\n",
              "    </tr>\n",
              "    <tr>\n",
              "      <th>438</th>\n",
              "      <td>2020-12-10</td>\n",
              "      <td>1</td>\n",
              "      <td>4</td>\n",
              "      <td>1</td>\n",
              "      <td>2135901.00</td>\n",
              "      <td>-1</td>\n",
              "    </tr>\n",
              "    <tr>\n",
              "      <th>485</th>\n",
              "      <td>2020-12-10</td>\n",
              "      <td>1</td>\n",
              "      <td>2</td>\n",
              "      <td>1</td>\n",
              "      <td>1016127.00</td>\n",
              "      <td>-1</td>\n",
              "    </tr>\n",
              "    <tr>\n",
              "      <th>533</th>\n",
              "      <td>2020-12-10</td>\n",
              "      <td>1</td>\n",
              "      <td>8</td>\n",
              "      <td>1</td>\n",
              "      <td>3084001.00</td>\n",
              "      <td>-1</td>\n",
              "    </tr>\n",
              "    <tr>\n",
              "      <th>557</th>\n",
              "      <td>2020-12-10</td>\n",
              "      <td>1</td>\n",
              "      <td>2</td>\n",
              "      <td>1</td>\n",
              "      <td>696168.00</td>\n",
              "      <td>-1</td>\n",
              "    </tr>\n",
              "    <tr>\n",
              "      <th>571</th>\n",
              "      <td>2020-10-10</td>\n",
              "      <td>1</td>\n",
              "      <td>5</td>\n",
              "      <td>0</td>\n",
              "      <td>400000.00</td>\n",
              "      <td>-1</td>\n",
              "    </tr>\n",
              "    <tr>\n",
              "      <th>576</th>\n",
              "      <td>2020-12-10</td>\n",
              "      <td>1</td>\n",
              "      <td>8</td>\n",
              "      <td>0</td>\n",
              "      <td>3084001.00</td>\n",
              "      <td>-1</td>\n",
              "    </tr>\n",
              "    <tr>\n",
              "      <th>581</th>\n",
              "      <td>2020-12-10</td>\n",
              "      <td>1</td>\n",
              "      <td>2</td>\n",
              "      <td>0</td>\n",
              "      <td>1016127.00</td>\n",
              "      <td>-1</td>\n",
              "    </tr>\n",
              "    <tr>\n",
              "      <th>584</th>\n",
              "      <td>2020-07-10</td>\n",
              "      <td>1</td>\n",
              "      <td>4</td>\n",
              "      <td>0</td>\n",
              "      <td>16162408.00</td>\n",
              "      <td>-1</td>\n",
              "    </tr>\n",
              "    <tr>\n",
              "      <th>595</th>\n",
              "      <td>2020-03-10</td>\n",
              "      <td>1</td>\n",
              "      <td>8</td>\n",
              "      <td>0</td>\n",
              "      <td>60000.00</td>\n",
              "      <td>-1</td>\n",
              "    </tr>\n",
              "    <tr>\n",
              "      <th>599</th>\n",
              "      <td>2020-08-10</td>\n",
              "      <td>1</td>\n",
              "      <td>8</td>\n",
              "      <td>0</td>\n",
              "      <td>30578797.00</td>\n",
              "      <td>-1</td>\n",
              "    </tr>\n",
              "    <tr>\n",
              "      <th>601</th>\n",
              "      <td>2020-11-10</td>\n",
              "      <td>0</td>\n",
              "      <td>8</td>\n",
              "      <td>0</td>\n",
              "      <td>8716731.90</td>\n",
              "      <td>-1</td>\n",
              "    </tr>\n",
              "    <tr>\n",
              "      <th>605</th>\n",
              "      <td>2020-04-10</td>\n",
              "      <td>1</td>\n",
              "      <td>8</td>\n",
              "      <td>0</td>\n",
              "      <td>22986081.76</td>\n",
              "      <td>-1</td>\n",
              "    </tr>\n",
              "    <tr>\n",
              "      <th>606</th>\n",
              "      <td>2020-11-10</td>\n",
              "      <td>1</td>\n",
              "      <td>4</td>\n",
              "      <td>0</td>\n",
              "      <td>1153273.00</td>\n",
              "      <td>-1</td>\n",
              "    </tr>\n",
              "    <tr>\n",
              "      <th>607</th>\n",
              "      <td>2020-12-10</td>\n",
              "      <td>1</td>\n",
              "      <td>6</td>\n",
              "      <td>0</td>\n",
              "      <td>952624.00</td>\n",
              "      <td>-1</td>\n",
              "    </tr>\n",
              "    <tr>\n",
              "      <th>612</th>\n",
              "      <td>2020-12-10</td>\n",
              "      <td>1</td>\n",
              "      <td>4</td>\n",
              "      <td>0</td>\n",
              "      <td>2135901.00</td>\n",
              "      <td>-1</td>\n",
              "    </tr>\n",
              "    <tr>\n",
              "      <th>616</th>\n",
              "      <td>2020-09-10</td>\n",
              "      <td>1</td>\n",
              "      <td>8</td>\n",
              "      <td>0</td>\n",
              "      <td>16156268.66</td>\n",
              "      <td>-1</td>\n",
              "    </tr>\n",
              "    <tr>\n",
              "      <th>635</th>\n",
              "      <td>2020-12-10</td>\n",
              "      <td>1</td>\n",
              "      <td>9</td>\n",
              "      <td>0</td>\n",
              "      <td>697786.00</td>\n",
              "      <td>-1</td>\n",
              "    </tr>\n",
              "    <tr>\n",
              "      <th>637</th>\n",
              "      <td>2020-12-10</td>\n",
              "      <td>1</td>\n",
              "      <td>4</td>\n",
              "      <td>0</td>\n",
              "      <td>1615672.25</td>\n",
              "      <td>-1</td>\n",
              "    </tr>\n",
              "    <tr>\n",
              "      <th>649</th>\n",
              "      <td>2020-05-10</td>\n",
              "      <td>1</td>\n",
              "      <td>8</td>\n",
              "      <td>0</td>\n",
              "      <td>20266709.47</td>\n",
              "      <td>-1</td>\n",
              "    </tr>\n",
              "    <tr>\n",
              "      <th>651</th>\n",
              "      <td>2020-11-10</td>\n",
              "      <td>1</td>\n",
              "      <td>8</td>\n",
              "      <td>0</td>\n",
              "      <td>5943271.00</td>\n",
              "      <td>-1</td>\n",
              "    </tr>\n",
              "    <tr>\n",
              "      <th>653</th>\n",
              "      <td>2020-12-10</td>\n",
              "      <td>1</td>\n",
              "      <td>1</td>\n",
              "      <td>0</td>\n",
              "      <td>17375.00</td>\n",
              "      <td>-1</td>\n",
              "    </tr>\n",
              "    <tr>\n",
              "      <th>655</th>\n",
              "      <td>2020-10-10</td>\n",
              "      <td>1</td>\n",
              "      <td>7</td>\n",
              "      <td>0</td>\n",
              "      <td>600000.00</td>\n",
              "      <td>-1</td>\n",
              "    </tr>\n",
              "    <tr>\n",
              "      <th>662</th>\n",
              "      <td>2020-12-10</td>\n",
              "      <td>1</td>\n",
              "      <td>8</td>\n",
              "      <td>0</td>\n",
              "      <td>5196578.75</td>\n",
              "      <td>-1</td>\n",
              "    </tr>\n",
              "    <tr>\n",
              "      <th>677</th>\n",
              "      <td>2020-10-10</td>\n",
              "      <td>1</td>\n",
              "      <td>4</td>\n",
              "      <td>0</td>\n",
              "      <td>1880000.00</td>\n",
              "      <td>-1</td>\n",
              "    </tr>\n",
              "    <tr>\n",
              "      <th>682</th>\n",
              "      <td>2020-09-10</td>\n",
              "      <td>1</td>\n",
              "      <td>7</td>\n",
              "      <td>0</td>\n",
              "      <td>29940189.53</td>\n",
              "      <td>-1</td>\n",
              "    </tr>\n",
              "    <tr>\n",
              "      <th>684</th>\n",
              "      <td>2020-12-10</td>\n",
              "      <td>1</td>\n",
              "      <td>2</td>\n",
              "      <td>0</td>\n",
              "      <td>696168.00</td>\n",
              "      <td>-1</td>\n",
              "    </tr>\n",
              "    <tr>\n",
              "      <th>688</th>\n",
              "      <td>2020-11-10</td>\n",
              "      <td>1</td>\n",
              "      <td>1</td>\n",
              "      <td>0</td>\n",
              "      <td>101405.00</td>\n",
              "      <td>-1</td>\n",
              "    </tr>\n",
              "    <tr>\n",
              "      <th>697</th>\n",
              "      <td>2020-10-10</td>\n",
              "      <td>1</td>\n",
              "      <td>8</td>\n",
              "      <td>0</td>\n",
              "      <td>3500000.00</td>\n",
              "      <td>-1</td>\n",
              "    </tr>\n",
              "  </tbody>\n",
              "</table>\n",
              "</div>"
            ],
            "text/plain": [
              "     data_hora  tipo_favorecido  ...       gastos  outlier\n",
              "0   2020-03-10                1  ...     60000.00       -1\n",
              "6   2020-04-10                1  ...  22986081.76       -1\n",
              "17  2020-05-10                1  ...  20266709.47       -1\n",
              "35  2020-07-10                1  ...  16162408.00       -1\n",
              "48  2020-08-10                1  ...  30578797.00       -1\n",
              "55  2020-09-10                1  ...  29940189.53       -1\n",
              "56  2020-09-10                1  ...  16156268.66       -1\n",
              "57  2020-10-10                1  ...    400000.00       -1\n",
              "58  2020-10-10                1  ...   3500000.00       -1\n",
              "59  2020-10-10                1  ...   1880000.00       -1\n",
              "60  2020-10-10                1  ...    600000.00       -1\n",
              "157 2020-11-10                1  ...   1153273.00       -1\n",
              "220 2020-11-10                0  ...   8716731.90       -1\n",
              "279 2020-11-10                1  ...   5943271.00       -1\n",
              "384 2020-12-10                1  ...   1615672.25       -1\n",
              "397 2020-12-10                1  ...   5196578.75       -1\n",
              "438 2020-12-10                1  ...   2135901.00       -1\n",
              "485 2020-12-10                1  ...   1016127.00       -1\n",
              "533 2020-12-10                1  ...   3084001.00       -1\n",
              "557 2020-12-10                1  ...    696168.00       -1\n",
              "571 2020-10-10                1  ...    400000.00       -1\n",
              "576 2020-12-10                1  ...   3084001.00       -1\n",
              "581 2020-12-10                1  ...   1016127.00       -1\n",
              "584 2020-07-10                1  ...  16162408.00       -1\n",
              "595 2020-03-10                1  ...     60000.00       -1\n",
              "599 2020-08-10                1  ...  30578797.00       -1\n",
              "601 2020-11-10                0  ...   8716731.90       -1\n",
              "605 2020-04-10                1  ...  22986081.76       -1\n",
              "606 2020-11-10                1  ...   1153273.00       -1\n",
              "607 2020-12-10                1  ...    952624.00       -1\n",
              "612 2020-12-10                1  ...   2135901.00       -1\n",
              "616 2020-09-10                1  ...  16156268.66       -1\n",
              "635 2020-12-10                1  ...    697786.00       -1\n",
              "637 2020-12-10                1  ...   1615672.25       -1\n",
              "649 2020-05-10                1  ...  20266709.47       -1\n",
              "651 2020-11-10                1  ...   5943271.00       -1\n",
              "653 2020-12-10                1  ...     17375.00       -1\n",
              "655 2020-10-10                1  ...    600000.00       -1\n",
              "662 2020-12-10                1  ...   5196578.75       -1\n",
              "677 2020-10-10                1  ...   1880000.00       -1\n",
              "682 2020-09-10                1  ...  29940189.53       -1\n",
              "684 2020-12-10                1  ...    696168.00       -1\n",
              "688 2020-11-10                1  ...    101405.00       -1\n",
              "697 2020-10-10                1  ...   3500000.00       -1\n",
              "\n",
              "[44 rows x 6 columns]"
            ]
          },
          "metadata": {
            "tags": []
          },
          "execution_count": 40
        }
      ]
    },
    {
      "cell_type": "code",
      "metadata": {
        "id": "g0eXFEW2dgSV",
        "colab": {
          "base_uri": "https://localhost:8080/"
        },
        "outputId": "ac863fe0-cb96-444d-f635-c93397851090"
      },
      "source": [
        "invest_covidPe_lof = invest_covidPe_lof[invest_covidPe_lof['outlier'] != -1]\n",
        "len(invest_covidPe_lof)"
      ],
      "execution_count": 41,
      "outputs": [
        {
          "output_type": "execute_result",
          "data": {
            "text/plain": [
              "105"
            ]
          },
          "metadata": {
            "tags": []
          },
          "execution_count": 41
        }
      ]
    },
    {
      "cell_type": "markdown",
      "metadata": {
        "id": "o46zSVKnzZrY"
      },
      "source": [
        "# Projeto 2\n"
      ]
    },
    {
      "cell_type": "markdown",
      "metadata": {
        "id": "EDGXD-tA7v0m"
      },
      "source": [
        "\n",
        "1. Escolher uma\tdas\tcolunas\tdos\tdados\tutilizados\tno\tprojeto 1\tpara predição\t(classificação ou regressão)\t\n",
        "  * Classificação : Rótulos são categorias discretas\n",
        "  * Regressão: rótulos são valores contínuos\n",
        "2. Separar os\tdados\tem treinamento,\tvalidação\te\tteste\n",
        "3. Selecionar\t4\talgoritmos\tde\tacordo\tcom\ta\ttarefa escolhida\n",
        "no\tpasso\t1\t\n",
        "\n",
        " **Algoritmos de classificação:**\n",
        "\n",
        "* Scikit-Learn's Estimator API\n",
        "  - Vários algoritmos implementados\n",
        "  - Uniformidade\n",
        "  - Modelos para algoritmo Supervisionado: função predict e Não-supervisionado: função transform ou predict\n",
        "* Random Forest \n",
        "  - Vários estimadores combinados para evitar overfitting\n",
        "  - Não assume distribuição gaussiana, obtém ótimos resultados\n",
        "\n",
        "* Algoritmo de construção  \n",
        "  - Execução rápida, lida bem com dados ausentes\n",
        "  - Mostra a importância das features na classificação\n",
        "  \n",
        "\n",
        "**Medidas para avaliação da qualidade do modelo:**\n",
        "Os valores de erro são dados em '%'\n",
        "\n",
        "* Viés = Erro no treinamento - Erro Alvo (Desempenho no conjunto de treinamento)\n",
        "* Variância = Erro no teste - Erro no treinamento\n",
        "\n",
        "\n",
        "Possíveis cenários de viés e Variância\n",
        "\n",
        "Overfitting:\n",
        "  - Bom desempenho somente no conjunto de treinamento.\n",
        "  - Apresenta problemas para generalizar\n",
        "  - Ex : Erro no treinamento: 1%, Erro no teste: 11% (Baixo viés, Alta variância)\n",
        "  - Para melhorar o desempenho : Adicionar mais dados ao conjunto de treinamento, diminuir a complexidade do modelo, selecionar melhor as features.\n",
        "\n",
        "Underfitting:\n",
        "  - Não modela bem o conjunto de treinamento, problemas em generalizar\n",
        "  - Ex: Erro no treinamento 15%, Erro no teste: 16% (ALto viés, Baixa variância)\n",
        " - Para melhorar o desempenho : Aumentar a complexidade, adicionar mais features.\n",
        "\n",
        "Caso ideal:\n",
        "  - Erro no treinamento: 0.5%, Erro no teste: 1%\n"
      ]
    },
    {
      "cell_type": "markdown",
      "metadata": {
        "id": "yVCGA_mZ8g1h"
      },
      "source": [
        "## Classificação 1"
      ]
    },
    {
      "cell_type": "code",
      "metadata": {
        "id": "fheZDOip7rNH"
      },
      "source": [
        "#dados\n",
        "\n",
        "#https://scikit-learn.org/stable/modules/model_evaluation.html\n",
        "\n",
        "from sklearn.model_selection import train_test_split\n",
        "import seaborn as sns\n",
        "\n",
        "\n",
        "ClassTest = invest_covidPe[['gastos','outlier']]\n",
        "X_ClassTest = ClassTest.drop('outlier', axis=1)\n",
        "Y_ClassTest = ClassTest['outlier']\n",
        "Xtrain, Xtest, Ytrain, Ytest = train_test_split(X_ClassTest, Y_ClassTest,\n",
        "                                                random_state=3)\n",
        "\n",
        "#O random_state = 3 apresentou 81,5% de acurácia, foi o melhor de 1 a 10. Acrescentei as features de data e município, porém não contribuiram positivamente.\n"
      ],
      "execution_count": 166,
      "outputs": []
    },
    {
      "cell_type": "code",
      "metadata": {
        "id": "_oDs90I98Shq",
        "outputId": "3eb33b79-09c4-482a-ce17-243492a8bab6",
        "colab": {
          "base_uri": "https://localhost:8080/",
          "height": 195
        }
      },
      "source": [
        "ClassTest.head()"
      ],
      "execution_count": 146,
      "outputs": [
        {
          "output_type": "execute_result",
          "data": {
            "text/html": [
              "<div>\n",
              "<style scoped>\n",
              "    .dataframe tbody tr th:only-of-type {\n",
              "        vertical-align: middle;\n",
              "    }\n",
              "\n",
              "    .dataframe tbody tr th {\n",
              "        vertical-align: top;\n",
              "    }\n",
              "\n",
              "    .dataframe thead th {\n",
              "        text-align: right;\n",
              "    }\n",
              "</style>\n",
              "<table border=\"1\" class=\"dataframe\">\n",
              "  <thead>\n",
              "    <tr style=\"text-align: right;\">\n",
              "      <th></th>\n",
              "      <th>gastos</th>\n",
              "      <th>outlier</th>\n",
              "    </tr>\n",
              "  </thead>\n",
              "  <tbody>\n",
              "    <tr>\n",
              "      <th>0</th>\n",
              "      <td>60000.00</td>\n",
              "      <td>-1</td>\n",
              "    </tr>\n",
              "    <tr>\n",
              "      <th>1</th>\n",
              "      <td>1174944.27</td>\n",
              "      <td>1</td>\n",
              "    </tr>\n",
              "    <tr>\n",
              "      <th>2</th>\n",
              "      <td>4130446.89</td>\n",
              "      <td>1</td>\n",
              "    </tr>\n",
              "    <tr>\n",
              "      <th>3</th>\n",
              "      <td>3830136.03</td>\n",
              "      <td>1</td>\n",
              "    </tr>\n",
              "    <tr>\n",
              "      <th>4</th>\n",
              "      <td>3662675.00</td>\n",
              "      <td>1</td>\n",
              "    </tr>\n",
              "  </tbody>\n",
              "</table>\n",
              "</div>"
            ],
            "text/plain": [
              "       gastos  outlier\n",
              "0    60000.00       -1\n",
              "1  1174944.27        1\n",
              "2  4130446.89        1\n",
              "3  3830136.03        1\n",
              "4  3662675.00        1"
            ]
          },
          "metadata": {
            "tags": []
          },
          "execution_count": 146
        }
      ]
    },
    {
      "cell_type": "code",
      "metadata": {
        "id": "Jr-U_Z6a8Uyf"
      },
      "source": [
        "from sklearn.naive_bayes import GaussianNB # 1. escolha da técnica\n",
        "model = GaussianNB()                       # 2. instanciação do modelo\n",
        "model.fit(Xtrain, Ytrain)                  # 3. criação do modelo\n",
        "Y_model = model.predict(Xtest)             # 4. predição em novos dados"
      ],
      "execution_count": 167,
      "outputs": []
    },
    {
      "cell_type": "code",
      "metadata": {
        "id": "HtBp9v-w8VwX",
        "outputId": "e4e73076-9dda-45e8-847e-a663c53f44a1",
        "colab": {
          "base_uri": "https://localhost:8080/"
        }
      },
      "source": [
        "from sklearn.metrics import accuracy_score\n",
        "accuracy_score(Ytest, Y_model)"
      ],
      "execution_count": 168,
      "outputs": [
        {
          "output_type": "execute_result",
          "data": {
            "text/plain": [
              "0.8157894736842105"
            ]
          },
          "metadata": {
            "tags": []
          },
          "execution_count": 168
        }
      ]
    },
    {
      "cell_type": "markdown",
      "metadata": {
        "id": "hxiL1dq6KUiD"
      },
      "source": [
        "### **F1Score**\n",
        "\n",
        "'micro':\n",
        "Calculate metrics globally by counting the total true positives, false negatives and false positives.\n",
        "\n",
        "'macro':\n",
        "Calculate metrics for each label, and find their unweighted mean. This does not take label imbalance into account.\n",
        "\n",
        "'weighted':\n",
        "Calculate metrics for each label, and find their average weighted by support (the number of true instances for each label). This alters ‘macro’ to account for label imbalance; it can result in an F-score that is not between precision and recall"
      ]
    },
    {
      "cell_type": "code",
      "metadata": {
        "id": "UV-lSg7FCbhJ",
        "outputId": "c4b1f4bf-b8a4-40b8-ce11-bbad3d2eb221",
        "colab": {
          "base_uri": "https://localhost:8080/"
        }
      },
      "source": [
        "from sklearn.metrics import f1_score\n",
        "print(f1_score(Y_model, Ytest, average='macro'))\n",
        "print(f1_score(Y_model, Ytest, average='micro'))\n",
        "print(f1_score(Y_model, Ytest, average='weighted'))\n",
        "print(f1_score(Y_model, Ytest, zero_division=1))"
      ],
      "execution_count": 176,
      "outputs": [
        {
          "output_type": "stream",
          "text": [
            "0.6752136752136753\n",
            "0.8157894736842104\n",
            "0.8551506972559606\n",
            "0.888888888888889\n"
          ],
          "name": "stdout"
        }
      ]
    },
    {
      "cell_type": "markdown",
      "metadata": {
        "id": "QpcyCMyi8j6J"
      },
      "source": [
        "## Classificação 2"
      ]
    },
    {
      "cell_type": "code",
      "metadata": {
        "id": "eXfSJtuL8oCG",
        "outputId": "8d502ade-8b9f-406b-f641-3df187dd62d4",
        "colab": {
          "base_uri": "https://localhost:8080/"
        }
      },
      "source": [
        "from sklearn.datasets import load_digits\n",
        "digits = load_digits()\n",
        "digits.images.shape"
      ],
      "execution_count": 49,
      "outputs": [
        {
          "output_type": "execute_result",
          "data": {
            "text/plain": [
              "(1797, 8, 8)"
            ]
          },
          "metadata": {
            "tags": []
          },
          "execution_count": 49
        }
      ]
    },
    {
      "cell_type": "code",
      "metadata": {
        "id": "2Rcg2V4B8qY3",
        "outputId": "bf915a64-95bf-4893-a190-69fb0c44abcc",
        "colab": {
          "base_uri": "https://localhost:8080/",
          "height": 466
        }
      },
      "source": [
        "import matplotlib.pyplot as plt\n",
        "\n",
        "fig, axes = plt.subplots(10, 10, figsize=(8, 8),\n",
        "                         subplot_kw={'xticks':[], 'yticks':[]},\n",
        "                         gridspec_kw=dict(hspace=0.1, wspace=0.1))\n",
        "\n",
        "for i, ax in enumerate(axes.flat):\n",
        "    ax.imshow(digits.images[i], cmap='binary', interpolation='nearest')\n",
        "    ax.text(0.05, 0.05, str(digits.target[i]),\n",
        "            transform=ax.transAxes, color='green')"
      ],
      "execution_count": 50,
      "outputs": [
        {
          "output_type": "display_data",
          "data": {
            "image/png": "[encoded data removed]",
            "text/plain": [
              "<Figure size 576x576 with 100 Axes>"
            ]
          },
          "metadata": {
            "tags": []
          }
        }
      ]
    },
    {
      "cell_type": "code",
      "metadata": {
        "id": "cDQyK5VM8rrx",
        "outputId": "4ea528eb-1d45-41b0-db13-7cc098705d1d",
        "colab": {
          "base_uri": "https://localhost:8080/"
        }
      },
      "source": [
        "X = digits.data\n",
        "X.shape"
      ],
      "execution_count": 51,
      "outputs": [
        {
          "output_type": "execute_result",
          "data": {
            "text/plain": [
              "(1797, 64)"
            ]
          },
          "metadata": {
            "tags": []
          },
          "execution_count": 51
        }
      ]
    },
    {
      "cell_type": "code",
      "metadata": {
        "id": "k85ToMiu8tA3"
      },
      "source": [
        "y = digits.target"
      ],
      "execution_count": 52,
      "outputs": []
    },
    {
      "cell_type": "code",
      "metadata": {
        "id": "doXnlmLF8ujP"
      },
      "source": [
        "Xtrain, Xtest, ytrain, ytest = train_test_split(X, y, random_state=0)"
      ],
      "execution_count": 53,
      "outputs": []
    },
    {
      "cell_type": "code",
      "metadata": {
        "id": "YSgeGRFZ8v5g"
      },
      "source": [
        "\n",
        "from sklearn.naive_bayes import GaussianNB\n",
        "model = GaussianNB()\n",
        "model.fit(Xtrain, ytrain)\n",
        "y_model = model.predict(Xtest)\n",
        "ypred_train = model.predict(Xtrain)"
      ],
      "execution_count": 54,
      "outputs": []
    },
    {
      "cell_type": "code",
      "metadata": {
        "id": "K7E8ITPq8yWg",
        "outputId": "7b133994-d61f-43f2-9279-0b8b91fcfe51",
        "colab": {
          "base_uri": "https://localhost:8080/"
        }
      },
      "source": [
        "from sklearn.metrics import accuracy_score\n",
        "from sklearn.metrics import accuracy_score\n",
        "print(\"ACC TRAINING:\" + str(accuracy_score(ytrain, ypred_train)))\n",
        "print(\"ACC TEST:\" + str(accuracy_score(ytest, y_model)))"
      ],
      "execution_count": 55,
      "outputs": [
        {
          "output_type": "stream",
          "text": [
            "ACC TRAINING:0.8574610244988864\n",
            "ACC TEST:0.8333333333333334\n"
          ],
          "name": "stdout"
        }
      ]
    },
    {
      "cell_type": "code",
      "metadata": {
        "id": "wXLeOYMS8z-I",
        "outputId": "79ffadbc-93be-4150-f476-974f42d46aea",
        "colab": {
          "base_uri": "https://localhost:8080/",
          "height": 285
        }
      },
      "source": [
        "from sklearn.metrics import confusion_matrix\n",
        "\n",
        "mat = confusion_matrix(ytest, y_model)\n",
        "\n",
        "sns.heatmap(mat, square=True, annot=True, cbar=False)\n",
        "plt.xlabel('predicted value')\n",
        "plt.ylabel('true value');"
      ],
      "execution_count": 56,
      "outputs": [
        {
          "output_type": "display_data",
          "data": {
            "image/png": "[encoded data removed]",
            "text/plain": [
              "<Figure size 432x288 with 1 Axes>"
            ]
          },
          "metadata": {
            "tags": [],
            "needs_background": "light"
          }
        }
      ]
    }
  ]
}