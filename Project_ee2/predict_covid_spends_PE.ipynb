{
  "nbformat": 4,
  "nbformat_minor": 0,
  "metadata": {
    "colab": {
      "name": "Cópia de covid_spends_brazil.ipynb",
      "provenance": [],
      "collapsed_sections": [
        "UiU31eirNa9-",
        "k18Rwe8eNlNe",
        "JvIjW9eo7M4V",
        "IDTgOPKxAaCv",
        "1IDXw_5TCKW2",
        "yVCGA_mZ8g1h",
        "d0ZLSfnjrGxW",
        "VO9OsW3orMVd",
        "hxiL1dq6KUiD",
        "QpcyCMyi8j6J",
        "T3-0xYyOA4qf",
        "hkmyrMCgR7xE",
        "1w9xphxzBc2w",
        "maE3Dg1TFLIh",
        "d0ib84nJdQgk"
      ],
      "include_colab_link": true
    },
    "kernelspec": {
      "display_name": "Python 3",
      "name": "python3"
    }
  },
  "cells": [
    {
      "cell_type": "markdown",
      "metadata": {
        "id": "view-in-github",
        "colab_type": "text"
      },
      "source": [
        "<a href=\"https://colab.research.google.com/github/marcosw1998/Data-Science/blob/main-mwac/Project_ee2/predict_covid_spends_PE.ipynb\" target=\"_parent\"><img src=\"https://colab.research.google.com/assets/colab-badge.svg\" alt=\"Open In Colab\"/></a>"
      ]
    },
    {
      "cell_type": "markdown",
      "metadata": {
        "id": "2RWUvaojnu30"
      },
      "source": [
        "# **Análise dos custos do governo de Pernambuco - BR em relação à Covid-19**\n",
        "* Projeto corresponde a entrega parcial para avaliação na cadeira eletiva IF697 - Intro. a Ciência dos Dados\n",
        "* Autores: Igor Silva e Marcos Cavalcanti\n",
        "* Conjunto de dados públicos retirados das seguintes fontes:\n",
        "  * [Portal da Transparência TCU](http://www.portaltransparencia.gov.br/coronavirus)\n",
        "  * [Prefeitura do Recife](http://dados.recife.pe.gov.br/dataset?tags=sa%C3%BAde)\n",
        "  * [Brasil.io](https://brasil.io/dataset/covid19/caso_full/)\n",
        "\n"
      ]
    },
    {
      "cell_type": "markdown",
      "metadata": {
        "id": "yMkF45UHR9sg"
      },
      "source": [
        "## **Por quê o tema?**\n",
        "\n",
        "* Interesse em entender e expor de forma clara os gastos públicos\n",
        "* Analisar distribuição de gastos\n",
        "* Covis-19 é um tema importante e merece muita atenção, pois tem feito muitas vítimas e mudado a forma como a sociedade pensa e se organiza\n",
        "* Entender a distribuição de gastos é uma boa forma de tentar corrigir erros e minimizar danos futuros na economia e na sociedade"
      ]
    },
    {
      "cell_type": "markdown",
      "metadata": {
        "id": "nUSfHSb5xbcu"
      },
      "source": [
        "## **Carregando as bibliotecas**\n",
        "\n",
        "  * Utilizaremos a biblioteca ***`Pandas`*** para trabalhar sobre os dados  e a biblioteca ***`Numpy`*** para operações sobre os datasets.\n",
        "  \n",
        "\n"
      ]
    },
    {
      "cell_type": "code",
      "metadata": {
        "id": "qSJ4OiBLyBUd"
      },
      "source": [
        "import numpy as np\n",
        "import pandas as pd\n",
        "import matplotlib.pyplot as plt\n",
        "import seaborn as sns; sns.set_theme()"
      ],
      "execution_count": 1,
      "outputs": []
    },
    {
      "cell_type": "code",
      "metadata": {
        "id": "JMEjId_vSlyt"
      },
      "source": [
        "pip install optuna"
      ],
      "execution_count": null,
      "outputs": []
    },
    {
      "cell_type": "markdown",
      "metadata": {
        "id": "UiU31eirNa9-"
      },
      "source": [
        "### Portal da transparência\n",
        "\n",
        "* O portal da transparência permite que sejam baixados apenas 1000 registros por vez, portanto decidimos por baixar 2 datasets diferentes e depois fazermos a junção. Os dados são referentes a algumas cidades de Pernambuco \n",
        "(Recife, Jaboatão, Olinda, Paulista, Caruaru, Garanhuns, Petrolina, Arcoverde, Serra Talhada, Buíque)"
      ]
    },
    {
      "cell_type": "code",
      "metadata": {
        "id": "P2LLyC3CNM-9"
      },
      "source": [
        "invest_covidPe = pd.read_csv(\"https://raw.githubusercontent.com/marcosw1998/Data-Science/main-mwac/Datasets/covid-pe.csv\",encoding = \"utf-8\")\n",
        "invest_covidPe2 = pd.read_csv(\"https://raw.githubusercontent.com/marcosw1998/Data-Science/main-mwac/Datasets/transferencias_coronavirus.csv\",encoding = \"utf-8\")"
      ],
      "execution_count": 2,
      "outputs": []
    },
    {
      "cell_type": "code",
      "metadata": {
        "colab": {
          "base_uri": "https://localhost:8080/",
          "height": 0
        },
        "id": "cw8ZAqtszcX-",
        "outputId": "2daee69b-f02e-4666-95ce-51af0a994d41"
      },
      "source": [
        "#Validando os dados do dataset invest_covidPe\n",
        "print('Dataset 1',invest_covidPe.shape)\n",
        "invest_covidPe.sort_values(\"Município\").head()"
      ],
      "execution_count": 3,
      "outputs": [
        {
          "output_type": "stream",
          "text": [
            "Dataset 1 (561, 12)\n"
          ],
          "name": "stdout"
        },
        {
          "output_type": "execute_result",
          "data": {
            "text/html": [
              "<div>\n",
              "<style scoped>\n",
              "    .dataframe tbody tr th:only-of-type {\n",
              "        vertical-align: middle;\n",
              "    }\n",
              "\n",
              "    .dataframe tbody tr th {\n",
              "        vertical-align: top;\n",
              "    }\n",
              "\n",
              "    .dataframe thead th {\n",
              "        text-align: right;\n",
              "    }\n",
              "</style>\n",
              "<table border=\"1\" class=\"dataframe\">\n",
              "  <thead>\n",
              "    <tr style=\"text-align: right;\">\n",
              "      <th></th>\n",
              "      <th>Mês/Ano</th>\n",
              "      <th>Tipo</th>\n",
              "      <th>Tipo de Favorecido</th>\n",
              "      <th>UF</th>\n",
              "      <th>Nome do Favorecido</th>\n",
              "      <th>CPF/CNPJ</th>\n",
              "      <th>Município</th>\n",
              "      <th>Função</th>\n",
              "      <th>Programa Orçamentário</th>\n",
              "      <th>Ação Orçamentária</th>\n",
              "      <th>Linguagem Cidadã</th>\n",
              "      <th>Valor Transferido</th>\n",
              "    </tr>\n",
              "  </thead>\n",
              "  <tbody>\n",
              "    <tr>\n",
              "      <th>182</th>\n",
              "      <td>nov/20</td>\n",
              "      <td>Legais. Voluntárias e Específicas</td>\n",
              "      <td>Fundo Público</td>\n",
              "      <td>PE</td>\n",
              "      <td>FUNDO MUNICIPAL DE SAUDE</td>\n",
              "      <td>11.371.082/0001-05</td>\n",
              "      <td>CARUARU</td>\n",
              "      <td>Saúde</td>\n",
              "      <td>ATENCAO ESPECIALIZADA A SAUDE</td>\n",
              "      <td>ENFRENTAMENTO DA EMERGENCIA DE SAUDE PUBLICA D...</td>\n",
              "      <td>Sem informação</td>\n",
              "      <td>486.515.00</td>\n",
              "    </tr>\n",
              "    <tr>\n",
              "      <th>178</th>\n",
              "      <td>nov/20</td>\n",
              "      <td>Legais. Voluntárias e Específicas</td>\n",
              "      <td>Entidades Sem Fins Lucrativos</td>\n",
              "      <td>PE</td>\n",
              "      <td>ASSOCICAO DE PAIS E MESTRES</td>\n",
              "      <td>11.252.224/0001-07</td>\n",
              "      <td>CARUARU</td>\n",
              "      <td>Educação</td>\n",
              "      <td>EDUCACAO BASICA DE QUALIDADE</td>\n",
              "      <td>DINHEIRO DIRETO NA ESCOLA PARA A EDUCACAO BASICA</td>\n",
              "      <td>PDDE</td>\n",
              "      <td>7.897.02</td>\n",
              "    </tr>\n",
              "    <tr>\n",
              "      <th>179</th>\n",
              "      <td>nov/20</td>\n",
              "      <td>Legais. Voluntárias e Específicas</td>\n",
              "      <td>Entidades Sem Fins Lucrativos</td>\n",
              "      <td>PE</td>\n",
              "      <td>CONSELHO ESCOLAR MARIA DO SOCORRO DE FREITAS</td>\n",
              "      <td>02.021.769/0001-11</td>\n",
              "      <td>CARUARU</td>\n",
              "      <td>Educação</td>\n",
              "      <td>EDUCACAO BASICA DE QUALIDADE</td>\n",
              "      <td>DINHEIRO DIRETO NA ESCOLA PARA A EDUCACAO BASICA</td>\n",
              "      <td>PDDE</td>\n",
              "      <td>2.837.48</td>\n",
              "    </tr>\n",
              "    <tr>\n",
              "      <th>87</th>\n",
              "      <td>nov/20</td>\n",
              "      <td>Legais. Voluntárias e Específicas</td>\n",
              "      <td>Entidades Sem Fins Lucrativos</td>\n",
              "      <td>PE</td>\n",
              "      <td>CONSELHO ESCOLAR DOM BERNARDINO MARCHIO</td>\n",
              "      <td>34.179.420/0001-07</td>\n",
              "      <td>CARUARU</td>\n",
              "      <td>Educação</td>\n",
              "      <td>EDUCACAO BASICA DE QUALIDADE</td>\n",
              "      <td>DINHEIRO DIRETO NA ESCOLA PARA A EDUCACAO BASICA</td>\n",
              "      <td>PDDE</td>\n",
              "      <td>8.427.56</td>\n",
              "    </tr>\n",
              "    <tr>\n",
              "      <th>181</th>\n",
              "      <td>nov/20</td>\n",
              "      <td>Legais. Voluntárias e Específicas</td>\n",
              "      <td>Entidades Sem Fins Lucrativos</td>\n",
              "      <td>PE</td>\n",
              "      <td>UNIDADE EXECUTORA MAJOR DR.SINVAL</td>\n",
              "      <td>11.441.171/0001-72</td>\n",
              "      <td>CARUARU</td>\n",
              "      <td>Educação</td>\n",
              "      <td>EDUCACAO BASICA DE QUALIDADE</td>\n",
              "      <td>DINHEIRO DIRETO NA ESCOLA PARA A EDUCACAO BASICA</td>\n",
              "      <td>PDDE</td>\n",
              "      <td>2.274.59</td>\n",
              "    </tr>\n",
              "  </tbody>\n",
              "</table>\n",
              "</div>"
            ],
            "text/plain": [
              "    Mês/Ano  ... Valor Transferido\n",
              "182  nov/20  ...        486.515.00\n",
              "178  nov/20  ...          7.897.02\n",
              "179  nov/20  ...          2.837.48\n",
              "87   nov/20  ...          8.427.56\n",
              "181  nov/20  ...          2.274.59\n",
              "\n",
              "[5 rows x 12 columns]"
            ]
          },
          "metadata": {
            "tags": []
          },
          "execution_count": 3
        }
      ]
    },
    {
      "cell_type": "code",
      "metadata": {
        "colab": {
          "base_uri": "https://localhost:8080/",
          "height": 0
        },
        "id": "GejXSMaUzemV",
        "outputId": "ab3e7998-14fd-4be9-e469-86fad4c2edc4"
      },
      "source": [
        "#Validando os dados do dataset invest_covidPe2\n",
        "print('Dataset 2',invest_covidPe2.shape)\n",
        "invest_covidPe2.sort_values(\"Município\").head()"
      ],
      "execution_count": 4,
      "outputs": [
        {
          "output_type": "stream",
          "text": [
            "Dataset 2 (140, 10)\n"
          ],
          "name": "stdout"
        },
        {
          "output_type": "execute_result",
          "data": {
            "text/html": [
              "<div>\n",
              "<style scoped>\n",
              "    .dataframe tbody tr th:only-of-type {\n",
              "        vertical-align: middle;\n",
              "    }\n",
              "\n",
              "    .dataframe tbody tr th {\n",
              "        vertical-align: top;\n",
              "    }\n",
              "\n",
              "    .dataframe thead th {\n",
              "        text-align: right;\n",
              "    }\n",
              "</style>\n",
              "<table border=\"1\" class=\"dataframe\">\n",
              "  <thead>\n",
              "    <tr style=\"text-align: right;\">\n",
              "      <th></th>\n",
              "      <th>Mês/Ano</th>\n",
              "      <th>Tipo</th>\n",
              "      <th>Ação Orçamentária</th>\n",
              "      <th>Programa Orçamentário</th>\n",
              "      <th>Função</th>\n",
              "      <th>Tipo de Favorecido</th>\n",
              "      <th>UF</th>\n",
              "      <th>Município</th>\n",
              "      <th>Valor Transferido</th>\n",
              "      <th>Unnamed: 9</th>\n",
              "    </tr>\n",
              "  </thead>\n",
              "  <tbody>\n",
              "    <tr>\n",
              "      <th>98</th>\n",
              "      <td>12/2020</td>\n",
              "      <td>Legais. Voluntárias e Específicas</td>\n",
              "      <td>21C0 - ENFRENTAMENTO DA EMERGENCIA DE SAUDE PU...</td>\n",
              "      <td>ATENCAO ESPECIALIZADA A SAUDE</td>\n",
              "      <td>10 - Saúde</td>\n",
              "      <td>Fundo Público</td>\n",
              "      <td>PE</td>\n",
              "      <td>ARCOVERDE</td>\n",
              "      <td>R$ 134.639.00</td>\n",
              "      <td>NaN</td>\n",
              "    </tr>\n",
              "    <tr>\n",
              "      <th>41</th>\n",
              "      <td>05/2020</td>\n",
              "      <td>Legais. Voluntárias e Específicas</td>\n",
              "      <td>21C0 - ENFRENTAMENTO DA EMERGENCIA DE SAUDE PU...</td>\n",
              "      <td>PROTECAO SOCIAL NO AMBITO DO SISTEMA UNICO DE ...</td>\n",
              "      <td>08 - Assistência social</td>\n",
              "      <td>Fundo Público</td>\n",
              "      <td>PE</td>\n",
              "      <td>ARCOVERDE</td>\n",
              "      <td>R$ 470.809.62</td>\n",
              "      <td>NaN</td>\n",
              "    </tr>\n",
              "    <tr>\n",
              "      <th>42</th>\n",
              "      <td>11/2020</td>\n",
              "      <td>Legais. Voluntárias e Específicas</td>\n",
              "      <td>21C0 - ENFRENTAMENTO DA EMERGENCIA DE SAUDE PU...</td>\n",
              "      <td>ATENCAO ESPECIALIZADA A SAUDE</td>\n",
              "      <td>10 - Saúde</td>\n",
              "      <td>Fundo Público</td>\n",
              "      <td>PE</td>\n",
              "      <td>ARCOVERDE</td>\n",
              "      <td>R$ 355.594.00</td>\n",
              "      <td>NaN</td>\n",
              "    </tr>\n",
              "    <tr>\n",
              "      <th>32</th>\n",
              "      <td>04/2020</td>\n",
              "      <td>Legais. Voluntárias e Específicas</td>\n",
              "      <td>21C0 - ENFRENTAMENTO DA EMERGENCIA DE SAUDE PU...</td>\n",
              "      <td>ATENCAO ESPECIALIZADA A SAUDE</td>\n",
              "      <td>10 - Saúde</td>\n",
              "      <td>Fundo Público</td>\n",
              "      <td>PE</td>\n",
              "      <td>ARCOVERDE</td>\n",
              "      <td>R$ 761.895.71</td>\n",
              "      <td>NaN</td>\n",
              "    </tr>\n",
              "    <tr>\n",
              "      <th>56</th>\n",
              "      <td>08/2020</td>\n",
              "      <td>Legais. Voluntárias e Específicas</td>\n",
              "      <td>21C0 - ENFRENTAMENTO DA EMERGENCIA DE SAUDE PU...</td>\n",
              "      <td>PROTECAO SOCIAL NO AMBITO DO SISTEMA UNICO DE ...</td>\n",
              "      <td>08 - Assistência social</td>\n",
              "      <td>Fundo Público</td>\n",
              "      <td>PE</td>\n",
              "      <td>ARCOVERDE</td>\n",
              "      <td>R$ 218.971.54</td>\n",
              "      <td>NaN</td>\n",
              "    </tr>\n",
              "  </tbody>\n",
              "</table>\n",
              "</div>"
            ],
            "text/plain": [
              "    Mês/Ano                               Tipo  ... Valor Transferido Unnamed: 9\n",
              "98  12/2020  Legais. Voluntárias e Específicas  ...     R$ 134.639.00        NaN\n",
              "41  05/2020  Legais. Voluntárias e Específicas  ...     R$ 470.809.62        NaN\n",
              "42  11/2020  Legais. Voluntárias e Específicas  ...     R$ 355.594.00        NaN\n",
              "32  04/2020  Legais. Voluntárias e Específicas  ...     R$ 761.895.71        NaN\n",
              "56  08/2020  Legais. Voluntárias e Específicas  ...     R$ 218.971.54        NaN\n",
              "\n",
              "[5 rows x 10 columns]"
            ]
          },
          "metadata": {
            "tags": []
          },
          "execution_count": 4
        }
      ]
    },
    {
      "cell_type": "markdown",
      "metadata": {
        "id": "b66iBYRL0hxm"
      },
      "source": [
        "*Podemos perceber que o Dataset **invest_covidPe** possui mais colunas que o Dataset **invest_covidPe2**.  Também notamos que o Dataset invest_covidPe2 possui uma coluna com dados Nan, vamos tratar disso no pré processamento antes de fazer a concatenação dos dois Datasets*"
      ]
    },
    {
      "cell_type": "markdown",
      "metadata": {
        "id": "k18Rwe8eNlNe"
      },
      "source": [
        "### Dados abertos - Prefeitura do Recife"
      ]
    },
    {
      "cell_type": "code",
      "metadata": {
        "id": "3s88zVuSNt_V"
      },
      "source": [
        "import requests\n",
        "\n",
        "dados_pref_rmr = requests.get(\"http://dados.recife.pe.gov.br/dataset/6c77a814-7161-4eb5-9662-234642dc8cc1/resource/63376b8c-0271-42eb-a88b-cc75c1c3f3fc/download/metadados-hospitais.json\").json()"
      ],
      "execution_count": 5,
      "outputs": []
    },
    {
      "cell_type": "markdown",
      "metadata": {
        "id": "MHqgJ0_e9dUa"
      },
      "source": [
        "### Dados de casos de Covid-19 por todo o estado de Pernambuco. \n",
        "Os valores estão atualizados até o dia 17/03/2021 e foram buscados através do Brasil.io"
      ]
    },
    {
      "cell_type": "code",
      "metadata": {
        "colab": {
          "base_uri": "https://localhost:8080/",
          "height": 343
        },
        "id": "tnkNhxpK9_EJ",
        "outputId": "13960a71-a26e-4f69-93a0-c729bd303df1"
      },
      "source": [
        "covidPeCases = pd.read_csv(\"https://raw.githubusercontent.com/marcosw1998/Data-Science/main-mwac/Datasets/covid19-1703-casos.csv\",encoding = \"utf-8\")\n",
        "print(covidPeCases.shape)\n",
        "covidPeCases.sort_values(\"city\").head()"
      ],
      "execution_count": 6,
      "outputs": [
        {
          "output_type": "stream",
          "text": [
            "(187, 16)\n"
          ],
          "name": "stdout"
        },
        {
          "output_type": "execute_result",
          "data": {
            "text/html": [
              "<div>\n",
              "<style scoped>\n",
              "    .dataframe tbody tr th:only-of-type {\n",
              "        vertical-align: middle;\n",
              "    }\n",
              "\n",
              "    .dataframe tbody tr th {\n",
              "        vertical-align: top;\n",
              "    }\n",
              "\n",
              "    .dataframe thead th {\n",
              "        text-align: right;\n",
              "    }\n",
              "</style>\n",
              "<table border=\"1\" class=\"dataframe\">\n",
              "  <thead>\n",
              "    <tr style=\"text-align: right;\">\n",
              "      <th></th>\n",
              "      <th>epidemiological_week</th>\n",
              "      <th>date</th>\n",
              "      <th>order_for_place</th>\n",
              "      <th>state</th>\n",
              "      <th>city</th>\n",
              "      <th>city_ibge_code</th>\n",
              "      <th>place_type</th>\n",
              "      <th>last_available_confirmed</th>\n",
              "      <th>last_available_confirmed_per_100k_inhabitants</th>\n",
              "      <th>new_confirmed</th>\n",
              "      <th>last_available_deaths</th>\n",
              "      <th>new_deaths</th>\n",
              "      <th>last_available_death_rate</th>\n",
              "      <th>estimated_population</th>\n",
              "      <th>is_last</th>\n",
              "      <th>is_repeated</th>\n",
              "    </tr>\n",
              "  </thead>\n",
              "  <tbody>\n",
              "    <tr>\n",
              "      <th>1</th>\n",
              "      <td>202111</td>\n",
              "      <td>2021-03-15</td>\n",
              "      <td>341</td>\n",
              "      <td>PE</td>\n",
              "      <td>Abreu e Lima</td>\n",
              "      <td>2600054.0</td>\n",
              "      <td>city</td>\n",
              "      <td>1700</td>\n",
              "      <td>1694.13828</td>\n",
              "      <td>8</td>\n",
              "      <td>159</td>\n",
              "      <td>1</td>\n",
              "      <td>0.0935</td>\n",
              "      <td>100346.0</td>\n",
              "      <td>True</td>\n",
              "      <td>False</td>\n",
              "    </tr>\n",
              "    <tr>\n",
              "      <th>2</th>\n",
              "      <td>202111</td>\n",
              "      <td>2021-03-15</td>\n",
              "      <td>321</td>\n",
              "      <td>PE</td>\n",
              "      <td>Afogados da Ingazeira</td>\n",
              "      <td>2600104.0</td>\n",
              "      <td>city</td>\n",
              "      <td>2478</td>\n",
              "      <td>6624.95990</td>\n",
              "      <td>1</td>\n",
              "      <td>35</td>\n",
              "      <td>0</td>\n",
              "      <td>0.0141</td>\n",
              "      <td>37404.0</td>\n",
              "      <td>True</td>\n",
              "      <td>False</td>\n",
              "    </tr>\n",
              "    <tr>\n",
              "      <th>3</th>\n",
              "      <td>202111</td>\n",
              "      <td>2021-03-15</td>\n",
              "      <td>321</td>\n",
              "      <td>PE</td>\n",
              "      <td>Afrânio</td>\n",
              "      <td>2600203.0</td>\n",
              "      <td>city</td>\n",
              "      <td>578</td>\n",
              "      <td>2917.71832</td>\n",
              "      <td>0</td>\n",
              "      <td>9</td>\n",
              "      <td>0</td>\n",
              "      <td>0.0156</td>\n",
              "      <td>19810.0</td>\n",
              "      <td>True</td>\n",
              "      <td>False</td>\n",
              "    </tr>\n",
              "    <tr>\n",
              "      <th>4</th>\n",
              "      <td>202111</td>\n",
              "      <td>2021-03-15</td>\n",
              "      <td>326</td>\n",
              "      <td>PE</td>\n",
              "      <td>Agrestina</td>\n",
              "      <td>2600302.0</td>\n",
              "      <td>city</td>\n",
              "      <td>865</td>\n",
              "      <td>3451.02733</td>\n",
              "      <td>2</td>\n",
              "      <td>36</td>\n",
              "      <td>0</td>\n",
              "      <td>0.0416</td>\n",
              "      <td>25065.0</td>\n",
              "      <td>True</td>\n",
              "      <td>False</td>\n",
              "    </tr>\n",
              "    <tr>\n",
              "      <th>7</th>\n",
              "      <td>202111</td>\n",
              "      <td>2021-03-15</td>\n",
              "      <td>331</td>\n",
              "      <td>PE</td>\n",
              "      <td>Alagoinha</td>\n",
              "      <td>2600609.0</td>\n",
              "      <td>city</td>\n",
              "      <td>443</td>\n",
              "      <td>3009.91983</td>\n",
              "      <td>0</td>\n",
              "      <td>13</td>\n",
              "      <td>0</td>\n",
              "      <td>0.0293</td>\n",
              "      <td>14718.0</td>\n",
              "      <td>True</td>\n",
              "      <td>False</td>\n",
              "    </tr>\n",
              "  </tbody>\n",
              "</table>\n",
              "</div>"
            ],
            "text/plain": [
              "   epidemiological_week        date  ...  is_last is_repeated\n",
              "1                202111  2021-03-15  ...     True       False\n",
              "2                202111  2021-03-15  ...     True       False\n",
              "3                202111  2021-03-15  ...     True       False\n",
              "4                202111  2021-03-15  ...     True       False\n",
              "7                202111  2021-03-15  ...     True       False\n",
              "\n",
              "[5 rows x 16 columns]"
            ]
          },
          "metadata": {
            "tags": []
          },
          "execution_count": 6
        }
      ]
    },
    {
      "cell_type": "markdown",
      "metadata": {
        "id": "d_488MvPT4fM"
      },
      "source": [
        "## **Pré Processamento**\n",
        "  * Junção de datasets em Dataframe Pandas\n",
        "  * Tratamento de dados ```NaN```/```null``` ou corrompidos\n",
        "  * Conversão de tipos\n",
        "  * Transformação e identificação de dados categóricos\n",
        "  * Remoção de ***Outliers*** Multivariado"
      ]
    },
    {
      "cell_type": "markdown",
      "metadata": {
        "id": "XmQ22okDAROC"
      },
      "source": [
        "### **Tratamento dos dados de Gastos Públicos**"
      ]
    },
    {
      "cell_type": "markdown",
      "metadata": {
        "id": "Z_zX_wkQvbE5"
      },
      "source": [
        "> Remoção colunas que não fazem parte do dataset invest_covidPe2 e que não influem sobre os nossos estudos (Nome do favorecido, CPF/CNPJ, Linguagem Cidadã)\n",
        "\n",
        ">```invest_covidPe = invest_covidPe.dropna(axis=1, how='all')```"
      ]
    },
    {
      "cell_type": "code",
      "metadata": {
        "colab": {
          "base_uri": "https://localhost:8080/",
          "height": 323
        },
        "id": "Bm39ZTwf2Gal",
        "outputId": "7b5f406d-1e45-4fca-c178-f869d2c992a5"
      },
      "source": [
        "cols = [4,5,10]\n",
        "invest_covidPe.drop(invest_covidPe.columns[cols],axis=1,inplace=True)\n",
        "invest_covidPe.sort_values(\"Município\").head()"
      ],
      "execution_count": 7,
      "outputs": [
        {
          "output_type": "execute_result",
          "data": {
            "text/html": [
              "<div>\n",
              "<style scoped>\n",
              "    .dataframe tbody tr th:only-of-type {\n",
              "        vertical-align: middle;\n",
              "    }\n",
              "\n",
              "    .dataframe tbody tr th {\n",
              "        vertical-align: top;\n",
              "    }\n",
              "\n",
              "    .dataframe thead th {\n",
              "        text-align: right;\n",
              "    }\n",
              "</style>\n",
              "<table border=\"1\" class=\"dataframe\">\n",
              "  <thead>\n",
              "    <tr style=\"text-align: right;\">\n",
              "      <th></th>\n",
              "      <th>Mês/Ano</th>\n",
              "      <th>Tipo</th>\n",
              "      <th>Tipo de Favorecido</th>\n",
              "      <th>UF</th>\n",
              "      <th>Município</th>\n",
              "      <th>Função</th>\n",
              "      <th>Programa Orçamentário</th>\n",
              "      <th>Ação Orçamentária</th>\n",
              "      <th>Valor Transferido</th>\n",
              "    </tr>\n",
              "  </thead>\n",
              "  <tbody>\n",
              "    <tr>\n",
              "      <th>182</th>\n",
              "      <td>nov/20</td>\n",
              "      <td>Legais. Voluntárias e Específicas</td>\n",
              "      <td>Fundo Público</td>\n",
              "      <td>PE</td>\n",
              "      <td>CARUARU</td>\n",
              "      <td>Saúde</td>\n",
              "      <td>ATENCAO ESPECIALIZADA A SAUDE</td>\n",
              "      <td>ENFRENTAMENTO DA EMERGENCIA DE SAUDE PUBLICA D...</td>\n",
              "      <td>486.515.00</td>\n",
              "    </tr>\n",
              "    <tr>\n",
              "      <th>178</th>\n",
              "      <td>nov/20</td>\n",
              "      <td>Legais. Voluntárias e Específicas</td>\n",
              "      <td>Entidades Sem Fins Lucrativos</td>\n",
              "      <td>PE</td>\n",
              "      <td>CARUARU</td>\n",
              "      <td>Educação</td>\n",
              "      <td>EDUCACAO BASICA DE QUALIDADE</td>\n",
              "      <td>DINHEIRO DIRETO NA ESCOLA PARA A EDUCACAO BASICA</td>\n",
              "      <td>7.897.02</td>\n",
              "    </tr>\n",
              "    <tr>\n",
              "      <th>179</th>\n",
              "      <td>nov/20</td>\n",
              "      <td>Legais. Voluntárias e Específicas</td>\n",
              "      <td>Entidades Sem Fins Lucrativos</td>\n",
              "      <td>PE</td>\n",
              "      <td>CARUARU</td>\n",
              "      <td>Educação</td>\n",
              "      <td>EDUCACAO BASICA DE QUALIDADE</td>\n",
              "      <td>DINHEIRO DIRETO NA ESCOLA PARA A EDUCACAO BASICA</td>\n",
              "      <td>2.837.48</td>\n",
              "    </tr>\n",
              "    <tr>\n",
              "      <th>87</th>\n",
              "      <td>nov/20</td>\n",
              "      <td>Legais. Voluntárias e Específicas</td>\n",
              "      <td>Entidades Sem Fins Lucrativos</td>\n",
              "      <td>PE</td>\n",
              "      <td>CARUARU</td>\n",
              "      <td>Educação</td>\n",
              "      <td>EDUCACAO BASICA DE QUALIDADE</td>\n",
              "      <td>DINHEIRO DIRETO NA ESCOLA PARA A EDUCACAO BASICA</td>\n",
              "      <td>8.427.56</td>\n",
              "    </tr>\n",
              "    <tr>\n",
              "      <th>181</th>\n",
              "      <td>nov/20</td>\n",
              "      <td>Legais. Voluntárias e Específicas</td>\n",
              "      <td>Entidades Sem Fins Lucrativos</td>\n",
              "      <td>PE</td>\n",
              "      <td>CARUARU</td>\n",
              "      <td>Educação</td>\n",
              "      <td>EDUCACAO BASICA DE QUALIDADE</td>\n",
              "      <td>DINHEIRO DIRETO NA ESCOLA PARA A EDUCACAO BASICA</td>\n",
              "      <td>2.274.59</td>\n",
              "    </tr>\n",
              "  </tbody>\n",
              "</table>\n",
              "</div>"
            ],
            "text/plain": [
              "    Mês/Ano  ... Valor Transferido\n",
              "182  nov/20  ...        486.515.00\n",
              "178  nov/20  ...          7.897.02\n",
              "179  nov/20  ...          2.837.48\n",
              "87   nov/20  ...          8.427.56\n",
              "181  nov/20  ...          2.274.59\n",
              "\n",
              "[5 rows x 9 columns]"
            ]
          },
          "metadata": {
            "tags": []
          },
          "execution_count": 7
        }
      ]
    },
    {
      "cell_type": "markdown",
      "metadata": {
        "id": "6N8rcAp0vr6I"
      },
      "source": [
        "> Remoção coluna que tem todos os valores Nan"
      ]
    },
    {
      "cell_type": "code",
      "metadata": {
        "colab": {
          "base_uri": "https://localhost:8080/",
          "height": 340
        },
        "id": "GVumFyH60Byd",
        "outputId": "06f3d547-d8f7-4e10-8d6b-5537e1a302f0"
      },
      "source": [
        "invest_covidPe2.dropna(axis=1, how='all',inplace=True)\n",
        "invest_covidPe2.sort_values(\"Município\").head()"
      ],
      "execution_count": 8,
      "outputs": [
        {
          "output_type": "execute_result",
          "data": {
            "text/html": [
              "<div>\n",
              "<style scoped>\n",
              "    .dataframe tbody tr th:only-of-type {\n",
              "        vertical-align: middle;\n",
              "    }\n",
              "\n",
              "    .dataframe tbody tr th {\n",
              "        vertical-align: top;\n",
              "    }\n",
              "\n",
              "    .dataframe thead th {\n",
              "        text-align: right;\n",
              "    }\n",
              "</style>\n",
              "<table border=\"1\" class=\"dataframe\">\n",
              "  <thead>\n",
              "    <tr style=\"text-align: right;\">\n",
              "      <th></th>\n",
              "      <th>Mês/Ano</th>\n",
              "      <th>Tipo</th>\n",
              "      <th>Ação Orçamentária</th>\n",
              "      <th>Programa Orçamentário</th>\n",
              "      <th>Função</th>\n",
              "      <th>Tipo de Favorecido</th>\n",
              "      <th>UF</th>\n",
              "      <th>Município</th>\n",
              "      <th>Valor Transferido</th>\n",
              "    </tr>\n",
              "  </thead>\n",
              "  <tbody>\n",
              "    <tr>\n",
              "      <th>98</th>\n",
              "      <td>12/2020</td>\n",
              "      <td>Legais. Voluntárias e Específicas</td>\n",
              "      <td>21C0 - ENFRENTAMENTO DA EMERGENCIA DE SAUDE PU...</td>\n",
              "      <td>ATENCAO ESPECIALIZADA A SAUDE</td>\n",
              "      <td>10 - Saúde</td>\n",
              "      <td>Fundo Público</td>\n",
              "      <td>PE</td>\n",
              "      <td>ARCOVERDE</td>\n",
              "      <td>R$ 134.639.00</td>\n",
              "    </tr>\n",
              "    <tr>\n",
              "      <th>41</th>\n",
              "      <td>05/2020</td>\n",
              "      <td>Legais. Voluntárias e Específicas</td>\n",
              "      <td>21C0 - ENFRENTAMENTO DA EMERGENCIA DE SAUDE PU...</td>\n",
              "      <td>PROTECAO SOCIAL NO AMBITO DO SISTEMA UNICO DE ...</td>\n",
              "      <td>08 - Assistência social</td>\n",
              "      <td>Fundo Público</td>\n",
              "      <td>PE</td>\n",
              "      <td>ARCOVERDE</td>\n",
              "      <td>R$ 470.809.62</td>\n",
              "    </tr>\n",
              "    <tr>\n",
              "      <th>42</th>\n",
              "      <td>11/2020</td>\n",
              "      <td>Legais. Voluntárias e Específicas</td>\n",
              "      <td>21C0 - ENFRENTAMENTO DA EMERGENCIA DE SAUDE PU...</td>\n",
              "      <td>ATENCAO ESPECIALIZADA A SAUDE</td>\n",
              "      <td>10 - Saúde</td>\n",
              "      <td>Fundo Público</td>\n",
              "      <td>PE</td>\n",
              "      <td>ARCOVERDE</td>\n",
              "      <td>R$ 355.594.00</td>\n",
              "    </tr>\n",
              "    <tr>\n",
              "      <th>32</th>\n",
              "      <td>04/2020</td>\n",
              "      <td>Legais. Voluntárias e Específicas</td>\n",
              "      <td>21C0 - ENFRENTAMENTO DA EMERGENCIA DE SAUDE PU...</td>\n",
              "      <td>ATENCAO ESPECIALIZADA A SAUDE</td>\n",
              "      <td>10 - Saúde</td>\n",
              "      <td>Fundo Público</td>\n",
              "      <td>PE</td>\n",
              "      <td>ARCOVERDE</td>\n",
              "      <td>R$ 761.895.71</td>\n",
              "    </tr>\n",
              "    <tr>\n",
              "      <th>56</th>\n",
              "      <td>08/2020</td>\n",
              "      <td>Legais. Voluntárias e Específicas</td>\n",
              "      <td>21C0 - ENFRENTAMENTO DA EMERGENCIA DE SAUDE PU...</td>\n",
              "      <td>PROTECAO SOCIAL NO AMBITO DO SISTEMA UNICO DE ...</td>\n",
              "      <td>08 - Assistência social</td>\n",
              "      <td>Fundo Público</td>\n",
              "      <td>PE</td>\n",
              "      <td>ARCOVERDE</td>\n",
              "      <td>R$ 218.971.54</td>\n",
              "    </tr>\n",
              "  </tbody>\n",
              "</table>\n",
              "</div>"
            ],
            "text/plain": [
              "    Mês/Ano                               Tipo  ...  Município Valor Transferido\n",
              "98  12/2020  Legais. Voluntárias e Específicas  ...  ARCOVERDE     R$ 134.639.00\n",
              "41  05/2020  Legais. Voluntárias e Específicas  ...  ARCOVERDE     R$ 470.809.62\n",
              "42  11/2020  Legais. Voluntárias e Específicas  ...  ARCOVERDE     R$ 355.594.00\n",
              "32  04/2020  Legais. Voluntárias e Específicas  ...  ARCOVERDE     R$ 761.895.71\n",
              "56  08/2020  Legais. Voluntárias e Específicas  ...  ARCOVERDE     R$ 218.971.54\n",
              "\n",
              "[5 rows x 9 columns]"
            ]
          },
          "metadata": {
            "tags": []
          },
          "execution_count": 8
        }
      ]
    },
    {
      "cell_type": "markdown",
      "metadata": {
        "id": "99zLupirv68U"
      },
      "source": [
        "> Retirando prefixo numérico e caracteres especiais dos valores da categoria 'Função'"
      ]
    },
    {
      "cell_type": "code",
      "metadata": {
        "id": "7GzOsUIXwOR5",
        "colab": {
          "base_uri": "https://localhost:8080/"
        },
        "outputId": "b311ad59-8744-464c-f1c0-7d5c59c11ffb"
      },
      "source": [
        "invest_covidPe_funcao = invest_covidPe2['Função'].map(lambda words: str(words[5:]))\n",
        "invest_covidPe2['Função'].update(invest_covidPe_funcao)\n",
        "invest_covidPe2['Função'].unique()"
      ],
      "execution_count": 9,
      "outputs": [
        {
          "output_type": "execute_result",
          "data": {
            "text/plain": [
              "array(['Educação', 'Saúde', 'Assistência social', 'Ciência e Tecnologia'],\n",
              "      dtype=object)"
            ]
          },
          "metadata": {
            "tags": []
          },
          "execution_count": 9
        }
      ]
    },
    {
      "cell_type": "markdown",
      "metadata": {
        "id": "-TdcJdxuwD_A"
      },
      "source": [
        "> Confirmando que as colunas foram removidas e agora os 2 datasets possuem a mesma quantidade de colunas"
      ]
    },
    {
      "cell_type": "code",
      "metadata": {
        "id": "o61JK1_h1G8W",
        "colab": {
          "base_uri": "https://localhost:8080/"
        },
        "outputId": "4b8df4d9-2e96-452d-dd60-dd31e4bb8a56"
      },
      "source": [
        "print('Dataset 1',invest_covidPe.shape)\n",
        "print('Dataset 2',invest_covidPe2.shape)"
      ],
      "execution_count": 10,
      "outputs": [
        {
          "output_type": "stream",
          "text": [
            "Dataset 1 (561, 9)\n",
            "Dataset 2 (140, 9)\n"
          ],
          "name": "stdout"
        }
      ]
    },
    {
      "cell_type": "markdown",
      "metadata": {
        "id": "6V0neP-zwIMQ"
      },
      "source": [
        "> Fazendo a concatenação dos Dataframes, o resultado final de linhas é igual ao somatório de linhas entre ambos os Datasets"
      ]
    },
    {
      "cell_type": "code",
      "metadata": {
        "id": "qjEsiHCQ5lfM"
      },
      "source": [
        "invest_covidPe = invest_covidPe.append(invest_covidPe2, ignore_index=True)"
      ],
      "execution_count": 11,
      "outputs": []
    },
    {
      "cell_type": "markdown",
      "metadata": {
        "id": "yKGKHzT0wND5"
      },
      "source": [
        "> Filtragem de gastos com a saúde e retirada das colunas **Tipo**, **UF**, **Programa Orçamentário** e **Função** por não conterem dados variados."
      ]
    },
    {
      "cell_type": "code",
      "metadata": {
        "id": "mc0FuaYqxzNQ",
        "colab": {
          "base_uri": "https://localhost:8080/"
        },
        "outputId": "e777b764-7056-4e1f-9f1c-3f567e51cc1a"
      },
      "source": [
        "len(invest_covidPe2['Tipo de Favorecido'].unique())"
      ],
      "execution_count": 12,
      "outputs": [
        {
          "output_type": "execute_result",
          "data": {
            "text/plain": [
              "3"
            ]
          },
          "metadata": {
            "tags": []
          },
          "execution_count": 12
        }
      ]
    },
    {
      "cell_type": "code",
      "metadata": {
        "id": "OeYOe0orylcX",
        "colab": {
          "base_uri": "https://localhost:8080/",
          "height": 436
        },
        "outputId": "8dd7d4b6-ede7-4f09-a205-abd1c542da05"
      },
      "source": [
        "# Drop colunas com valores unitários\n",
        "\n",
        "invest_covidPe.drop({'Tipo',\\\n",
        "                     'UF',\\\n",
        "                     'Ação Orçamentária'},\\\n",
        "                    axis=1,\\\n",
        "                    inplace=True \\\n",
        "                    )\n",
        "invest_covidPe"
      ],
      "execution_count": 13,
      "outputs": [
        {
          "output_type": "execute_result",
          "data": {
            "text/html": [
              "<div>\n",
              "<style scoped>\n",
              "    .dataframe tbody tr th:only-of-type {\n",
              "        vertical-align: middle;\n",
              "    }\n",
              "\n",
              "    .dataframe tbody tr th {\n",
              "        vertical-align: top;\n",
              "    }\n",
              "\n",
              "    .dataframe thead th {\n",
              "        text-align: right;\n",
              "    }\n",
              "</style>\n",
              "<table border=\"1\" class=\"dataframe\">\n",
              "  <thead>\n",
              "    <tr style=\"text-align: right;\">\n",
              "      <th></th>\n",
              "      <th>Mês/Ano</th>\n",
              "      <th>Tipo de Favorecido</th>\n",
              "      <th>Município</th>\n",
              "      <th>Função</th>\n",
              "      <th>Programa Orçamentário</th>\n",
              "      <th>Valor Transferido</th>\n",
              "    </tr>\n",
              "  </thead>\n",
              "  <tbody>\n",
              "    <tr>\n",
              "      <th>0</th>\n",
              "      <td>mar/20</td>\n",
              "      <td>Fundo Público</td>\n",
              "      <td>RECIFE</td>\n",
              "      <td>Saúde</td>\n",
              "      <td>ATENCAO ESPECIALIZADA A SAUDE</td>\n",
              "      <td>60.000.00</td>\n",
              "    </tr>\n",
              "    <tr>\n",
              "      <th>1</th>\n",
              "      <td>abr/20</td>\n",
              "      <td>Fundo Público</td>\n",
              "      <td>GARANHUNS</td>\n",
              "      <td>Saúde</td>\n",
              "      <td>ATENCAO ESPECIALIZADA A SAUDE</td>\n",
              "      <td>1.174.944.27</td>\n",
              "    </tr>\n",
              "    <tr>\n",
              "      <th>2</th>\n",
              "      <td>abr/20</td>\n",
              "      <td>Fundo Público</td>\n",
              "      <td>PETROLINA</td>\n",
              "      <td>Saúde</td>\n",
              "      <td>ATENCAO ESPECIALIZADA A SAUDE</td>\n",
              "      <td>4.130.446.89</td>\n",
              "    </tr>\n",
              "    <tr>\n",
              "      <th>3</th>\n",
              "      <td>abr/20</td>\n",
              "      <td>Fundo Público</td>\n",
              "      <td>OLINDA</td>\n",
              "      <td>Saúde</td>\n",
              "      <td>ATENCAO ESPECIALIZADA A SAUDE</td>\n",
              "      <td>3.830.136.03</td>\n",
              "    </tr>\n",
              "    <tr>\n",
              "      <th>4</th>\n",
              "      <td>abr/20</td>\n",
              "      <td>Fundo Público</td>\n",
              "      <td>CARUARU</td>\n",
              "      <td>Saúde</td>\n",
              "      <td>ATENCAO ESPECIALIZADA A SAUDE</td>\n",
              "      <td>3.662.675.00</td>\n",
              "    </tr>\n",
              "    <tr>\n",
              "      <th>...</th>\n",
              "      <td>...</td>\n",
              "      <td>...</td>\n",
              "      <td>...</td>\n",
              "      <td>...</td>\n",
              "      <td>...</td>\n",
              "      <td>...</td>\n",
              "    </tr>\n",
              "    <tr>\n",
              "      <th>696</th>\n",
              "      <td>04/2020</td>\n",
              "      <td>Fundo Público</td>\n",
              "      <td>JABOATÃO DOS GUARARAPES</td>\n",
              "      <td>Saúde</td>\n",
              "      <td>ATENCAO ESPECIALIZADA A SAUDE</td>\n",
              "      <td>R$ 7.327.021.87</td>\n",
              "    </tr>\n",
              "    <tr>\n",
              "      <th>697</th>\n",
              "      <td>10/2020</td>\n",
              "      <td>Fundo Público</td>\n",
              "      <td>RECIFE</td>\n",
              "      <td>Saúde</td>\n",
              "      <td>ATENCAO ESPECIALIZADA A SAUDE</td>\n",
              "      <td>R$ 3.500.000.00</td>\n",
              "    </tr>\n",
              "    <tr>\n",
              "      <th>698</th>\n",
              "      <td>07/2020</td>\n",
              "      <td>Fundo Público</td>\n",
              "      <td>PETROLINA</td>\n",
              "      <td>Saúde</td>\n",
              "      <td>ATENCAO ESPECIALIZADA A SAUDE</td>\n",
              "      <td>R$ 8.676.053.00</td>\n",
              "    </tr>\n",
              "    <tr>\n",
              "      <th>699</th>\n",
              "      <td>07/2020</td>\n",
              "      <td>Fundo Público</td>\n",
              "      <td>BUÍQUE</td>\n",
              "      <td>Saúde</td>\n",
              "      <td>ATENCAO ESPECIALIZADA A SAUDE</td>\n",
              "      <td>R$ 1.850.000.00</td>\n",
              "    </tr>\n",
              "    <tr>\n",
              "      <th>700</th>\n",
              "      <td>08/2020</td>\n",
              "      <td>Fundo Público</td>\n",
              "      <td>PETROLINA</td>\n",
              "      <td>Assistência social</td>\n",
              "      <td>PROTECAO SOCIAL NO AMBITO DO SISTEMA UNICO DE ...</td>\n",
              "      <td>R$ 516.875.60</td>\n",
              "    </tr>\n",
              "  </tbody>\n",
              "</table>\n",
              "<p>701 rows × 6 columns</p>\n",
              "</div>"
            ],
            "text/plain": [
              "     Mês/Ano  ... Valor Transferido\n",
              "0     mar/20  ...         60.000.00\n",
              "1     abr/20  ...      1.174.944.27\n",
              "2     abr/20  ...      4.130.446.89\n",
              "3     abr/20  ...      3.830.136.03\n",
              "4     abr/20  ...      3.662.675.00\n",
              "..       ...  ...               ...\n",
              "696  04/2020  ...   R$ 7.327.021.87\n",
              "697  10/2020  ...   R$ 3.500.000.00\n",
              "698  07/2020  ...   R$ 8.676.053.00\n",
              "699  07/2020  ...   R$ 1.850.000.00\n",
              "700  08/2020  ...     R$ 516.875.60\n",
              "\n",
              "[701 rows x 6 columns]"
            ]
          },
          "metadata": {
            "tags": []
          },
          "execution_count": 13
        }
      ]
    },
    {
      "cell_type": "markdown",
      "metadata": {
        "id": "0jzo9tpl4FTr"
      },
      "source": [
        "Renomeando colunas"
      ]
    },
    {
      "cell_type": "code",
      "metadata": {
        "id": "0ug_fLAWzXag",
        "colab": {
          "base_uri": "https://localhost:8080/",
          "height": 436
        },
        "outputId": "8f3804f6-8893-46c7-9cf2-94bbcfd9ef5a"
      },
      "source": [
        "invest_covidPe"
      ],
      "execution_count": 14,
      "outputs": [
        {
          "output_type": "execute_result",
          "data": {
            "text/html": [
              "<div>\n",
              "<style scoped>\n",
              "    .dataframe tbody tr th:only-of-type {\n",
              "        vertical-align: middle;\n",
              "    }\n",
              "\n",
              "    .dataframe tbody tr th {\n",
              "        vertical-align: top;\n",
              "    }\n",
              "\n",
              "    .dataframe thead th {\n",
              "        text-align: right;\n",
              "    }\n",
              "</style>\n",
              "<table border=\"1\" class=\"dataframe\">\n",
              "  <thead>\n",
              "    <tr style=\"text-align: right;\">\n",
              "      <th></th>\n",
              "      <th>Mês/Ano</th>\n",
              "      <th>Tipo de Favorecido</th>\n",
              "      <th>Município</th>\n",
              "      <th>Função</th>\n",
              "      <th>Programa Orçamentário</th>\n",
              "      <th>Valor Transferido</th>\n",
              "    </tr>\n",
              "  </thead>\n",
              "  <tbody>\n",
              "    <tr>\n",
              "      <th>0</th>\n",
              "      <td>mar/20</td>\n",
              "      <td>Fundo Público</td>\n",
              "      <td>RECIFE</td>\n",
              "      <td>Saúde</td>\n",
              "      <td>ATENCAO ESPECIALIZADA A SAUDE</td>\n",
              "      <td>60.000.00</td>\n",
              "    </tr>\n",
              "    <tr>\n",
              "      <th>1</th>\n",
              "      <td>abr/20</td>\n",
              "      <td>Fundo Público</td>\n",
              "      <td>GARANHUNS</td>\n",
              "      <td>Saúde</td>\n",
              "      <td>ATENCAO ESPECIALIZADA A SAUDE</td>\n",
              "      <td>1.174.944.27</td>\n",
              "    </tr>\n",
              "    <tr>\n",
              "      <th>2</th>\n",
              "      <td>abr/20</td>\n",
              "      <td>Fundo Público</td>\n",
              "      <td>PETROLINA</td>\n",
              "      <td>Saúde</td>\n",
              "      <td>ATENCAO ESPECIALIZADA A SAUDE</td>\n",
              "      <td>4.130.446.89</td>\n",
              "    </tr>\n",
              "    <tr>\n",
              "      <th>3</th>\n",
              "      <td>abr/20</td>\n",
              "      <td>Fundo Público</td>\n",
              "      <td>OLINDA</td>\n",
              "      <td>Saúde</td>\n",
              "      <td>ATENCAO ESPECIALIZADA A SAUDE</td>\n",
              "      <td>3.830.136.03</td>\n",
              "    </tr>\n",
              "    <tr>\n",
              "      <th>4</th>\n",
              "      <td>abr/20</td>\n",
              "      <td>Fundo Público</td>\n",
              "      <td>CARUARU</td>\n",
              "      <td>Saúde</td>\n",
              "      <td>ATENCAO ESPECIALIZADA A SAUDE</td>\n",
              "      <td>3.662.675.00</td>\n",
              "    </tr>\n",
              "    <tr>\n",
              "      <th>...</th>\n",
              "      <td>...</td>\n",
              "      <td>...</td>\n",
              "      <td>...</td>\n",
              "      <td>...</td>\n",
              "      <td>...</td>\n",
              "      <td>...</td>\n",
              "    </tr>\n",
              "    <tr>\n",
              "      <th>696</th>\n",
              "      <td>04/2020</td>\n",
              "      <td>Fundo Público</td>\n",
              "      <td>JABOATÃO DOS GUARARAPES</td>\n",
              "      <td>Saúde</td>\n",
              "      <td>ATENCAO ESPECIALIZADA A SAUDE</td>\n",
              "      <td>R$ 7.327.021.87</td>\n",
              "    </tr>\n",
              "    <tr>\n",
              "      <th>697</th>\n",
              "      <td>10/2020</td>\n",
              "      <td>Fundo Público</td>\n",
              "      <td>RECIFE</td>\n",
              "      <td>Saúde</td>\n",
              "      <td>ATENCAO ESPECIALIZADA A SAUDE</td>\n",
              "      <td>R$ 3.500.000.00</td>\n",
              "    </tr>\n",
              "    <tr>\n",
              "      <th>698</th>\n",
              "      <td>07/2020</td>\n",
              "      <td>Fundo Público</td>\n",
              "      <td>PETROLINA</td>\n",
              "      <td>Saúde</td>\n",
              "      <td>ATENCAO ESPECIALIZADA A SAUDE</td>\n",
              "      <td>R$ 8.676.053.00</td>\n",
              "    </tr>\n",
              "    <tr>\n",
              "      <th>699</th>\n",
              "      <td>07/2020</td>\n",
              "      <td>Fundo Público</td>\n",
              "      <td>BUÍQUE</td>\n",
              "      <td>Saúde</td>\n",
              "      <td>ATENCAO ESPECIALIZADA A SAUDE</td>\n",
              "      <td>R$ 1.850.000.00</td>\n",
              "    </tr>\n",
              "    <tr>\n",
              "      <th>700</th>\n",
              "      <td>08/2020</td>\n",
              "      <td>Fundo Público</td>\n",
              "      <td>PETROLINA</td>\n",
              "      <td>Assistência social</td>\n",
              "      <td>PROTECAO SOCIAL NO AMBITO DO SISTEMA UNICO DE ...</td>\n",
              "      <td>R$ 516.875.60</td>\n",
              "    </tr>\n",
              "  </tbody>\n",
              "</table>\n",
              "<p>701 rows × 6 columns</p>\n",
              "</div>"
            ],
            "text/plain": [
              "     Mês/Ano  ... Valor Transferido\n",
              "0     mar/20  ...         60.000.00\n",
              "1     abr/20  ...      1.174.944.27\n",
              "2     abr/20  ...      4.130.446.89\n",
              "3     abr/20  ...      3.830.136.03\n",
              "4     abr/20  ...      3.662.675.00\n",
              "..       ...  ...               ...\n",
              "696  04/2020  ...   R$ 7.327.021.87\n",
              "697  10/2020  ...   R$ 3.500.000.00\n",
              "698  07/2020  ...   R$ 8.676.053.00\n",
              "699  07/2020  ...   R$ 1.850.000.00\n",
              "700  08/2020  ...     R$ 516.875.60\n",
              "\n",
              "[701 rows x 6 columns]"
            ]
          },
          "metadata": {
            "tags": []
          },
          "execution_count": 14
        }
      ]
    },
    {
      "cell_type": "code",
      "metadata": {
        "id": "aFWx4nab4EDk",
        "colab": {
          "base_uri": "https://localhost:8080/",
          "height": 142
        },
        "outputId": "28dddeca-c25e-41be-c64b-af6657745704"
      },
      "source": [
        "invest_covidPe = invest_covidPe.rename(columns={'Mês/Ano': 'month', \\\n",
        "                                                'Município': 'city', \\\n",
        "                                                'Tipo de Favorecido': 'tipo_favorecido', \\\n",
        "                                                'Programa Orçamentário': 'prog_orcamento', \\\n",
        "                                                'Valor Transferido': 'gastos' \\\n",
        "                                                })\n",
        "invest_covidPe.head(3)"
      ],
      "execution_count": 15,
      "outputs": [
        {
          "output_type": "execute_result",
          "data": {
            "text/html": [
              "<div>\n",
              "<style scoped>\n",
              "    .dataframe tbody tr th:only-of-type {\n",
              "        vertical-align: middle;\n",
              "    }\n",
              "\n",
              "    .dataframe tbody tr th {\n",
              "        vertical-align: top;\n",
              "    }\n",
              "\n",
              "    .dataframe thead th {\n",
              "        text-align: right;\n",
              "    }\n",
              "</style>\n",
              "<table border=\"1\" class=\"dataframe\">\n",
              "  <thead>\n",
              "    <tr style=\"text-align: right;\">\n",
              "      <th></th>\n",
              "      <th>month</th>\n",
              "      <th>tipo_favorecido</th>\n",
              "      <th>city</th>\n",
              "      <th>Função</th>\n",
              "      <th>prog_orcamento</th>\n",
              "      <th>gastos</th>\n",
              "    </tr>\n",
              "  </thead>\n",
              "  <tbody>\n",
              "    <tr>\n",
              "      <th>0</th>\n",
              "      <td>mar/20</td>\n",
              "      <td>Fundo Público</td>\n",
              "      <td>RECIFE</td>\n",
              "      <td>Saúde</td>\n",
              "      <td>ATENCAO ESPECIALIZADA A SAUDE</td>\n",
              "      <td>60.000.00</td>\n",
              "    </tr>\n",
              "    <tr>\n",
              "      <th>1</th>\n",
              "      <td>abr/20</td>\n",
              "      <td>Fundo Público</td>\n",
              "      <td>GARANHUNS</td>\n",
              "      <td>Saúde</td>\n",
              "      <td>ATENCAO ESPECIALIZADA A SAUDE</td>\n",
              "      <td>1.174.944.27</td>\n",
              "    </tr>\n",
              "    <tr>\n",
              "      <th>2</th>\n",
              "      <td>abr/20</td>\n",
              "      <td>Fundo Público</td>\n",
              "      <td>PETROLINA</td>\n",
              "      <td>Saúde</td>\n",
              "      <td>ATENCAO ESPECIALIZADA A SAUDE</td>\n",
              "      <td>4.130.446.89</td>\n",
              "    </tr>\n",
              "  </tbody>\n",
              "</table>\n",
              "</div>"
            ],
            "text/plain": [
              "    month tipo_favorecido  ...                 prog_orcamento        gastos\n",
              "0  mar/20   Fundo Público  ...  ATENCAO ESPECIALIZADA A SAUDE     60.000.00\n",
              "1  abr/20   Fundo Público  ...  ATENCAO ESPECIALIZADA A SAUDE  1.174.944.27\n",
              "2  abr/20   Fundo Público  ...  ATENCAO ESPECIALIZADA A SAUDE  4.130.446.89\n",
              "\n",
              "[3 rows x 6 columns]"
            ]
          },
          "metadata": {
            "tags": []
          },
          "execution_count": 15
        }
      ]
    },
    {
      "cell_type": "markdown",
      "metadata": {
        "id": "PdTk7hYE-ydB"
      },
      "source": [
        "#### **Conversão de tipos das colunas**\n",
        "\n",
        "  * Valor Transferido (rename -> gastos): ```string``` -> ```float```\n",
        "\n",
        "  * Mês/Ano (rename -> data_hora): ```string``` -> ```pandas.Datetime```\n",
        "\n",
        "  * Dados categóricos: ```object``` -> ```category```"
      ]
    },
    {
      "cell_type": "code",
      "metadata": {
        "id": "Y-wleeGQC4yJ",
        "colab": {
          "base_uri": "https://localhost:8080/"
        },
        "outputId": "eb88277e-8d23-42f2-d80b-d8759147e273"
      },
      "source": [
        "invest_covidPe.dtypes"
      ],
      "execution_count": 16,
      "outputs": [
        {
          "output_type": "execute_result",
          "data": {
            "text/plain": [
              "month              object\n",
              "tipo_favorecido    object\n",
              "city               object\n",
              "Função             object\n",
              "prog_orcamento     object\n",
              "gastos             object\n",
              "dtype: object"
            ]
          },
          "metadata": {
            "tags": []
          },
          "execution_count": 16
        }
      ]
    },
    {
      "cell_type": "markdown",
      "metadata": {
        "id": "Ui9n7pptx9N3"
      },
      "source": [
        "##### **Valor Transferido**\n",
        "```object``` -> ```float64```"
      ]
    },
    {
      "cell_type": "code",
      "metadata": {
        "id": "7_4O7M9L-kWC"
      },
      "source": [
        "# Tratamento e conversão do CSV-String para float\n",
        "invest_covidPe['valores_transferidos'] = invest_covidPe['gastos'].apply(lambda words: words.replace('R$ ', ''))\n",
        "valores_transferidos = invest_covidPe['valores_transferidos'].map(lambda words: float(words[:-3].replace('.','') + words[-3:]))\n",
        "valores_transferidos = valores_transferidos.astype('float64')\n",
        "#valores_transferidos = valores_transferidos.astype(float)"
      ],
      "execution_count": 17,
      "outputs": []
    },
    {
      "cell_type": "code",
      "metadata": {
        "id": "2cbS7PJEZBBm",
        "colab": {
          "base_uri": "https://localhost:8080/",
          "height": 142
        },
        "outputId": "864b6939-7130-493d-8c41-8a66da1c7b8b"
      },
      "source": [
        "invest_covidPe.head(3)"
      ],
      "execution_count": 18,
      "outputs": [
        {
          "output_type": "execute_result",
          "data": {
            "text/html": [
              "<div>\n",
              "<style scoped>\n",
              "    .dataframe tbody tr th:only-of-type {\n",
              "        vertical-align: middle;\n",
              "    }\n",
              "\n",
              "    .dataframe tbody tr th {\n",
              "        vertical-align: top;\n",
              "    }\n",
              "\n",
              "    .dataframe thead th {\n",
              "        text-align: right;\n",
              "    }\n",
              "</style>\n",
              "<table border=\"1\" class=\"dataframe\">\n",
              "  <thead>\n",
              "    <tr style=\"text-align: right;\">\n",
              "      <th></th>\n",
              "      <th>month</th>\n",
              "      <th>tipo_favorecido</th>\n",
              "      <th>city</th>\n",
              "      <th>Função</th>\n",
              "      <th>prog_orcamento</th>\n",
              "      <th>gastos</th>\n",
              "      <th>valores_transferidos</th>\n",
              "    </tr>\n",
              "  </thead>\n",
              "  <tbody>\n",
              "    <tr>\n",
              "      <th>0</th>\n",
              "      <td>mar/20</td>\n",
              "      <td>Fundo Público</td>\n",
              "      <td>RECIFE</td>\n",
              "      <td>Saúde</td>\n",
              "      <td>ATENCAO ESPECIALIZADA A SAUDE</td>\n",
              "      <td>60.000.00</td>\n",
              "      <td>60.000.00</td>\n",
              "    </tr>\n",
              "    <tr>\n",
              "      <th>1</th>\n",
              "      <td>abr/20</td>\n",
              "      <td>Fundo Público</td>\n",
              "      <td>GARANHUNS</td>\n",
              "      <td>Saúde</td>\n",
              "      <td>ATENCAO ESPECIALIZADA A SAUDE</td>\n",
              "      <td>1.174.944.27</td>\n",
              "      <td>1.174.944.27</td>\n",
              "    </tr>\n",
              "    <tr>\n",
              "      <th>2</th>\n",
              "      <td>abr/20</td>\n",
              "      <td>Fundo Público</td>\n",
              "      <td>PETROLINA</td>\n",
              "      <td>Saúde</td>\n",
              "      <td>ATENCAO ESPECIALIZADA A SAUDE</td>\n",
              "      <td>4.130.446.89</td>\n",
              "      <td>4.130.446.89</td>\n",
              "    </tr>\n",
              "  </tbody>\n",
              "</table>\n",
              "</div>"
            ],
            "text/plain": [
              "    month tipo_favorecido  ...        gastos valores_transferidos\n",
              "0  mar/20   Fundo Público  ...     60.000.00            60.000.00\n",
              "1  abr/20   Fundo Público  ...  1.174.944.27         1.174.944.27\n",
              "2  abr/20   Fundo Público  ...  4.130.446.89         4.130.446.89\n",
              "\n",
              "[3 rows x 7 columns]"
            ]
          },
          "metadata": {
            "tags": []
          },
          "execution_count": 18
        }
      ]
    },
    {
      "cell_type": "code",
      "metadata": {
        "id": "YOjLjdx_XLEn",
        "colab": {
          "base_uri": "https://localhost:8080/"
        },
        "outputId": "549122e7-37e0-48a0-ede9-a61363a2931f"
      },
      "source": [
        "# Atualiza o dataset principal\n",
        "invest_covidPe['gastos'].update(valores_transferidos)\n",
        "invest_covidPe.drop('valores_transferidos',axis=1,inplace=True)\n",
        "invest_covidPe = invest_covidPe.infer_objects()\n",
        "invest_covidPe.info(verbose=True)"
      ],
      "execution_count": 19,
      "outputs": [
        {
          "output_type": "stream",
          "text": [
            "<class 'pandas.core.frame.DataFrame'>\n",
            "RangeIndex: 701 entries, 0 to 700\n",
            "Data columns (total 6 columns):\n",
            " #   Column           Non-Null Count  Dtype  \n",
            "---  ------           --------------  -----  \n",
            " 0   month            701 non-null    object \n",
            " 1   tipo_favorecido  701 non-null    object \n",
            " 2   city             701 non-null    object \n",
            " 3   Função           701 non-null    object \n",
            " 4   prog_orcamento   701 non-null    object \n",
            " 5   gastos           701 non-null    float64\n",
            "dtypes: float64(1), object(5)\n",
            "memory usage: 33.0+ KB\n"
          ],
          "name": "stdout"
        }
      ]
    },
    {
      "cell_type": "markdown",
      "metadata": {
        "id": "cLxqlamkyNhY"
      },
      "source": [
        "##### **Data (timestamp)**\n",
        "```object``` -> ```pandas.Datetime```\n",
        "\n",
        "Obs.: Apenas necessário para o caso de análise de séries temporais."
      ]
    },
    {
      "cell_type": "code",
      "metadata": {
        "id": "hnqgP7jEwP6i"
      },
      "source": [
        "#month = invest_covidPe['month'].map(lambda words: float(words.replace('jan/20','') + words[-3:]))\n",
        "#invest_covidPe['data_hora'] = invest_covidPe['data_hora'].astype('string')\n",
        "#invest_covidPe.info(verbose=True)"
      ],
      "execution_count": 20,
      "outputs": []
    },
    {
      "cell_type": "code",
      "metadata": {
        "id": "UVY0ZbFuxnwy"
      },
      "source": [
        "#meses = {'mar/20' : '2020-03-10', \\\n",
        "    #     'abr/20' : '2020-04-10', \\\n",
        "     #    'mai/20' : '2020-05-10', \\\n",
        "    #     'jun/20' : '2020-06-10', \\\n",
        "     #    'jul/20' : '2020-07-10', \\\n",
        "     #    'ago/20' : '2020-08-10', \\\n",
        "   #      'set/20' : '2020-09-10', \\\n",
        "      #   'out/20' : '2020-10-10', \\\n",
        "      #   'nov/20' : '2020-11-10', \\\n",
        "      #   'dez/20' : '2020-12-10', \\\n",
        "      #   '03/2020' : '2020-03-10', \\\n",
        "        # '04/2020' : '2020-04-10', \\\n",
        "         #'05/2020' : '2020-05-10', \\\n",
        "        # '06/2020' : '2020-06-10', \\\n",
        "        # '07/2020' : '2020-07-10', \\\n",
        "       #  '08/2020' : '2020-08-10', \\\n",
        "      #   '09/2020' : '2020-09-10', \\\n",
        "      #   '10/2020' : '2020-10-10', \\\n",
        "     #    '11/2020' : '2020-11-10', \\\n",
        "      #   '12/2020' : '2020-12-10'\n",
        "      #   }\n",
        "\n",
        "#invest_covidPe['data_hora'] = invest_covidPe['data_hora'].apply(lambda dates: dates.replace(dates, meses[dates]))\n",
        "\n",
        "#invest_covidPe['data_hora'].unique()"
      ],
      "execution_count": 21,
      "outputs": []
    },
    {
      "cell_type": "code",
      "metadata": {
        "id": "pdQIw-aU6OfY"
      },
      "source": [
        "# convert the 'Date' column to datetime format\n",
        "#invest_covidPe['data_hora'] = pd.to_datetime(invest_covidPe['data_hora'])\n",
        "\n",
        "# Check the format of 'Date' column\n",
        "#invest_covidPe.info()"
      ],
      "execution_count": 22,
      "outputs": []
    },
    {
      "cell_type": "markdown",
      "metadata": {
        "id": "jLDhV-F6-1nV"
      },
      "source": [
        "##### **Definindo dados categóricos**"
      ]
    },
    {
      "cell_type": "markdown",
      "metadata": {
        "id": "MWRARfMS4HUW"
      },
      "source": [
        "Conversão de dados categóricos\n",
        "> ```object``` -> ```category```"
      ]
    },
    {
      "cell_type": "code",
      "metadata": {
        "id": "yucdFzJx1jql",
        "colab": {
          "base_uri": "https://localhost:8080/",
          "height": 419
        },
        "outputId": "7589c681-887a-45ba-ec57-0d1705f0347d"
      },
      "source": [
        "invest_covidPe"
      ],
      "execution_count": 23,
      "outputs": [
        {
          "output_type": "execute_result",
          "data": {
            "text/html": [
              "<div>\n",
              "<style scoped>\n",
              "    .dataframe tbody tr th:only-of-type {\n",
              "        vertical-align: middle;\n",
              "    }\n",
              "\n",
              "    .dataframe tbody tr th {\n",
              "        vertical-align: top;\n",
              "    }\n",
              "\n",
              "    .dataframe thead th {\n",
              "        text-align: right;\n",
              "    }\n",
              "</style>\n",
              "<table border=\"1\" class=\"dataframe\">\n",
              "  <thead>\n",
              "    <tr style=\"text-align: right;\">\n",
              "      <th></th>\n",
              "      <th>month</th>\n",
              "      <th>tipo_favorecido</th>\n",
              "      <th>city</th>\n",
              "      <th>Função</th>\n",
              "      <th>prog_orcamento</th>\n",
              "      <th>gastos</th>\n",
              "    </tr>\n",
              "  </thead>\n",
              "  <tbody>\n",
              "    <tr>\n",
              "      <th>0</th>\n",
              "      <td>mar/20</td>\n",
              "      <td>Fundo Público</td>\n",
              "      <td>RECIFE</td>\n",
              "      <td>Saúde</td>\n",
              "      <td>ATENCAO ESPECIALIZADA A SAUDE</td>\n",
              "      <td>60000.00</td>\n",
              "    </tr>\n",
              "    <tr>\n",
              "      <th>1</th>\n",
              "      <td>abr/20</td>\n",
              "      <td>Fundo Público</td>\n",
              "      <td>GARANHUNS</td>\n",
              "      <td>Saúde</td>\n",
              "      <td>ATENCAO ESPECIALIZADA A SAUDE</td>\n",
              "      <td>1174944.27</td>\n",
              "    </tr>\n",
              "    <tr>\n",
              "      <th>2</th>\n",
              "      <td>abr/20</td>\n",
              "      <td>Fundo Público</td>\n",
              "      <td>PETROLINA</td>\n",
              "      <td>Saúde</td>\n",
              "      <td>ATENCAO ESPECIALIZADA A SAUDE</td>\n",
              "      <td>4130446.89</td>\n",
              "    </tr>\n",
              "    <tr>\n",
              "      <th>3</th>\n",
              "      <td>abr/20</td>\n",
              "      <td>Fundo Público</td>\n",
              "      <td>OLINDA</td>\n",
              "      <td>Saúde</td>\n",
              "      <td>ATENCAO ESPECIALIZADA A SAUDE</td>\n",
              "      <td>3830136.03</td>\n",
              "    </tr>\n",
              "    <tr>\n",
              "      <th>4</th>\n",
              "      <td>abr/20</td>\n",
              "      <td>Fundo Público</td>\n",
              "      <td>CARUARU</td>\n",
              "      <td>Saúde</td>\n",
              "      <td>ATENCAO ESPECIALIZADA A SAUDE</td>\n",
              "      <td>3662675.00</td>\n",
              "    </tr>\n",
              "    <tr>\n",
              "      <th>...</th>\n",
              "      <td>...</td>\n",
              "      <td>...</td>\n",
              "      <td>...</td>\n",
              "      <td>...</td>\n",
              "      <td>...</td>\n",
              "      <td>...</td>\n",
              "    </tr>\n",
              "    <tr>\n",
              "      <th>696</th>\n",
              "      <td>04/2020</td>\n",
              "      <td>Fundo Público</td>\n",
              "      <td>JABOATÃO DOS GUARARAPES</td>\n",
              "      <td>Saúde</td>\n",
              "      <td>ATENCAO ESPECIALIZADA A SAUDE</td>\n",
              "      <td>7327021.87</td>\n",
              "    </tr>\n",
              "    <tr>\n",
              "      <th>697</th>\n",
              "      <td>10/2020</td>\n",
              "      <td>Fundo Público</td>\n",
              "      <td>RECIFE</td>\n",
              "      <td>Saúde</td>\n",
              "      <td>ATENCAO ESPECIALIZADA A SAUDE</td>\n",
              "      <td>3500000.00</td>\n",
              "    </tr>\n",
              "    <tr>\n",
              "      <th>698</th>\n",
              "      <td>07/2020</td>\n",
              "      <td>Fundo Público</td>\n",
              "      <td>PETROLINA</td>\n",
              "      <td>Saúde</td>\n",
              "      <td>ATENCAO ESPECIALIZADA A SAUDE</td>\n",
              "      <td>8676053.00</td>\n",
              "    </tr>\n",
              "    <tr>\n",
              "      <th>699</th>\n",
              "      <td>07/2020</td>\n",
              "      <td>Fundo Público</td>\n",
              "      <td>BUÍQUE</td>\n",
              "      <td>Saúde</td>\n",
              "      <td>ATENCAO ESPECIALIZADA A SAUDE</td>\n",
              "      <td>1850000.00</td>\n",
              "    </tr>\n",
              "    <tr>\n",
              "      <th>700</th>\n",
              "      <td>08/2020</td>\n",
              "      <td>Fundo Público</td>\n",
              "      <td>PETROLINA</td>\n",
              "      <td>Assistência social</td>\n",
              "      <td>PROTECAO SOCIAL NO AMBITO DO SISTEMA UNICO DE ...</td>\n",
              "      <td>516875.60</td>\n",
              "    </tr>\n",
              "  </tbody>\n",
              "</table>\n",
              "<p>701 rows × 6 columns</p>\n",
              "</div>"
            ],
            "text/plain": [
              "       month  ...      gastos\n",
              "0     mar/20  ...    60000.00\n",
              "1     abr/20  ...  1174944.27\n",
              "2     abr/20  ...  4130446.89\n",
              "3     abr/20  ...  3830136.03\n",
              "4     abr/20  ...  3662675.00\n",
              "..       ...  ...         ...\n",
              "696  04/2020  ...  7327021.87\n",
              "697  10/2020  ...  3500000.00\n",
              "698  07/2020  ...  8676053.00\n",
              "699  07/2020  ...  1850000.00\n",
              "700  08/2020  ...   516875.60\n",
              "\n",
              "[701 rows x 6 columns]"
            ]
          },
          "metadata": {
            "tags": []
          },
          "execution_count": 23
        }
      ]
    },
    {
      "cell_type": "code",
      "metadata": {
        "id": "_XFyq-WR-0HA",
        "colab": {
          "base_uri": "https://localhost:8080/"
        },
        "outputId": "4da9b541-9164-41e7-a4b8-9ddb7f01db30"
      },
      "source": [
        "invest_covidPe['month'] = invest_covidPe['month'].astype('category')\n",
        "invest_covidPe['city'] = invest_covidPe['city'].astype('category')\n",
        "invest_covidPe['Função'] = invest_covidPe['Função'].astype('category')\n",
        "invest_covidPe['tipo_favorecido'] = invest_covidPe['tipo_favorecido'].astype('category')\n",
        "invest_covidPe['prog_orcamento'] = invest_covidPe['prog_orcamento'].astype('category')\n",
        "invest_covidPe.info(verbose=True)"
      ],
      "execution_count": 24,
      "outputs": [
        {
          "output_type": "stream",
          "text": [
            "<class 'pandas.core.frame.DataFrame'>\n",
            "RangeIndex: 701 entries, 0 to 700\n",
            "Data columns (total 6 columns):\n",
            " #   Column           Non-Null Count  Dtype   \n",
            "---  ------           --------------  -----   \n",
            " 0   month            701 non-null    category\n",
            " 1   tipo_favorecido  701 non-null    category\n",
            " 2   city             701 non-null    category\n",
            " 3   Função           701 non-null    category\n",
            " 4   prog_orcamento   701 non-null    category\n",
            " 5   gastos           701 non-null    float64 \n",
            "dtypes: category(5), float64(1)\n",
            "memory usage: 10.7 KB\n"
          ],
          "name": "stdout"
        }
      ]
    },
    {
      "cell_type": "markdown",
      "metadata": {
        "id": "JvIjW9eo7M4V"
      },
      "source": [
        "### **Tratamento dos dados de casos de covid-19 em PE**"
      ]
    },
    {
      "cell_type": "markdown",
      "metadata": {
        "id": "UrgXxWT1MCvo"
      },
      "source": [
        "Filtragem de categorias"
      ]
    },
    {
      "cell_type": "code",
      "metadata": {
        "id": "ycdb5D-sLijY",
        "colab": {
          "base_uri": "https://localhost:8080/",
          "height": 0
        },
        "outputId": "a519f5ed-c191-4a4a-f405-42060afac389"
      },
      "source": [
        "covidPeCases = covidPeCases.filter(items=['city', \\\n",
        "                                         'last_available_confirmed', \\\n",
        "                                         'last_available_deaths', \\\n",
        "                                         'last_available_death_rate', \\\n",
        "                                         'estimated_population' \\\n",
        "                                         ])\n",
        "covidPeCases"
      ],
      "execution_count": 25,
      "outputs": [
        {
          "output_type": "execute_result",
          "data": {
            "text/html": [
              "<div>\n",
              "<style scoped>\n",
              "    .dataframe tbody tr th:only-of-type {\n",
              "        vertical-align: middle;\n",
              "    }\n",
              "\n",
              "    .dataframe tbody tr th {\n",
              "        vertical-align: top;\n",
              "    }\n",
              "\n",
              "    .dataframe thead th {\n",
              "        text-align: right;\n",
              "    }\n",
              "</style>\n",
              "<table border=\"1\" class=\"dataframe\">\n",
              "  <thead>\n",
              "    <tr style=\"text-align: right;\">\n",
              "      <th></th>\n",
              "      <th>city</th>\n",
              "      <th>last_available_confirmed</th>\n",
              "      <th>last_available_deaths</th>\n",
              "      <th>last_available_death_rate</th>\n",
              "      <th>estimated_population</th>\n",
              "    </tr>\n",
              "  </thead>\n",
              "  <tbody>\n",
              "    <tr>\n",
              "      <th>0</th>\n",
              "      <td>NaN</td>\n",
              "      <td>323176</td>\n",
              "      <td>11510</td>\n",
              "      <td>0.0356</td>\n",
              "      <td>9616621.0</td>\n",
              "    </tr>\n",
              "    <tr>\n",
              "      <th>1</th>\n",
              "      <td>Abreu e Lima</td>\n",
              "      <td>1700</td>\n",
              "      <td>159</td>\n",
              "      <td>0.0935</td>\n",
              "      <td>100346.0</td>\n",
              "    </tr>\n",
              "    <tr>\n",
              "      <th>2</th>\n",
              "      <td>Afogados da Ingazeira</td>\n",
              "      <td>2478</td>\n",
              "      <td>35</td>\n",
              "      <td>0.0141</td>\n",
              "      <td>37404.0</td>\n",
              "    </tr>\n",
              "    <tr>\n",
              "      <th>3</th>\n",
              "      <td>Afrânio</td>\n",
              "      <td>578</td>\n",
              "      <td>9</td>\n",
              "      <td>0.0156</td>\n",
              "      <td>19810.0</td>\n",
              "    </tr>\n",
              "    <tr>\n",
              "      <th>4</th>\n",
              "      <td>Agrestina</td>\n",
              "      <td>865</td>\n",
              "      <td>36</td>\n",
              "      <td>0.0416</td>\n",
              "      <td>25065.0</td>\n",
              "    </tr>\n",
              "    <tr>\n",
              "      <th>...</th>\n",
              "      <td>...</td>\n",
              "      <td>...</td>\n",
              "      <td>...</td>\n",
              "      <td>...</td>\n",
              "      <td>...</td>\n",
              "    </tr>\n",
              "    <tr>\n",
              "      <th>182</th>\n",
              "      <td>Vertente do Lério</td>\n",
              "      <td>156</td>\n",
              "      <td>2</td>\n",
              "      <td>0.0128</td>\n",
              "      <td>7571.0</td>\n",
              "    </tr>\n",
              "    <tr>\n",
              "      <th>183</th>\n",
              "      <td>Vertentes</td>\n",
              "      <td>408</td>\n",
              "      <td>5</td>\n",
              "      <td>0.0123</td>\n",
              "      <td>20954.0</td>\n",
              "    </tr>\n",
              "    <tr>\n",
              "      <th>184</th>\n",
              "      <td>Vicência</td>\n",
              "      <td>431</td>\n",
              "      <td>16</td>\n",
              "      <td>0.0371</td>\n",
              "      <td>32772.0</td>\n",
              "    </tr>\n",
              "    <tr>\n",
              "      <th>185</th>\n",
              "      <td>Vitória de Santo Antão</td>\n",
              "      <td>3038</td>\n",
              "      <td>186</td>\n",
              "      <td>0.0612</td>\n",
              "      <td>139583.0</td>\n",
              "    </tr>\n",
              "    <tr>\n",
              "      <th>186</th>\n",
              "      <td>Xexéu</td>\n",
              "      <td>344</td>\n",
              "      <td>18</td>\n",
              "      <td>0.0523</td>\n",
              "      <td>14757.0</td>\n",
              "    </tr>\n",
              "  </tbody>\n",
              "</table>\n",
              "<p>187 rows × 5 columns</p>\n",
              "</div>"
            ],
            "text/plain": [
              "                       city  ...  estimated_population\n",
              "0                       NaN  ...             9616621.0\n",
              "1              Abreu e Lima  ...              100346.0\n",
              "2     Afogados da Ingazeira  ...               37404.0\n",
              "3                   Afrânio  ...               19810.0\n",
              "4                 Agrestina  ...               25065.0\n",
              "..                      ...  ...                   ...\n",
              "182       Vertente do Lério  ...                7571.0\n",
              "183               Vertentes  ...               20954.0\n",
              "184                Vicência  ...               32772.0\n",
              "185  Vitória de Santo Antão  ...              139583.0\n",
              "186                   Xexéu  ...               14757.0\n",
              "\n",
              "[187 rows x 5 columns]"
            ]
          },
          "metadata": {
            "tags": []
          },
          "execution_count": 25
        }
      ]
    },
    {
      "cell_type": "markdown",
      "metadata": {
        "id": "KugjoksVMEZn"
      },
      "source": [
        "Renomeação de colunas"
      ]
    },
    {
      "cell_type": "code",
      "metadata": {
        "id": "QxTROxJ_L3bR",
        "colab": {
          "base_uri": "https://localhost:8080/",
          "height": 0
        },
        "outputId": "2eda9636-9eb2-4dd6-f7fb-5a652df8b0f3"
      },
      "source": [
        "covidPeCases = covidPeCases.rename(columns={\"city\": \"municipio\", \\\n",
        "                                           \"last_available_confirmed\": \"casos_confirmados\", \\\n",
        "                                           \"last_available_deaths\": \"mortes_confirmadas\", \\\n",
        "                                           \"last_available_death_rate\": \"taxa_mortalidade\", \\\n",
        "                                           \"estimated_population\": \"pop_estimada\" \\\n",
        "                                           })\n",
        "covidPeCases"
      ],
      "execution_count": 26,
      "outputs": [
        {
          "output_type": "execute_result",
          "data": {
            "text/html": [
              "<div>\n",
              "<style scoped>\n",
              "    .dataframe tbody tr th:only-of-type {\n",
              "        vertical-align: middle;\n",
              "    }\n",
              "\n",
              "    .dataframe tbody tr th {\n",
              "        vertical-align: top;\n",
              "    }\n",
              "\n",
              "    .dataframe thead th {\n",
              "        text-align: right;\n",
              "    }\n",
              "</style>\n",
              "<table border=\"1\" class=\"dataframe\">\n",
              "  <thead>\n",
              "    <tr style=\"text-align: right;\">\n",
              "      <th></th>\n",
              "      <th>municipio</th>\n",
              "      <th>casos_confirmados</th>\n",
              "      <th>mortes_confirmadas</th>\n",
              "      <th>taxa_mortalidade</th>\n",
              "      <th>pop_estimada</th>\n",
              "    </tr>\n",
              "  </thead>\n",
              "  <tbody>\n",
              "    <tr>\n",
              "      <th>0</th>\n",
              "      <td>NaN</td>\n",
              "      <td>323176</td>\n",
              "      <td>11510</td>\n",
              "      <td>0.0356</td>\n",
              "      <td>9616621.0</td>\n",
              "    </tr>\n",
              "    <tr>\n",
              "      <th>1</th>\n",
              "      <td>Abreu e Lima</td>\n",
              "      <td>1700</td>\n",
              "      <td>159</td>\n",
              "      <td>0.0935</td>\n",
              "      <td>100346.0</td>\n",
              "    </tr>\n",
              "    <tr>\n",
              "      <th>2</th>\n",
              "      <td>Afogados da Ingazeira</td>\n",
              "      <td>2478</td>\n",
              "      <td>35</td>\n",
              "      <td>0.0141</td>\n",
              "      <td>37404.0</td>\n",
              "    </tr>\n",
              "    <tr>\n",
              "      <th>3</th>\n",
              "      <td>Afrânio</td>\n",
              "      <td>578</td>\n",
              "      <td>9</td>\n",
              "      <td>0.0156</td>\n",
              "      <td>19810.0</td>\n",
              "    </tr>\n",
              "    <tr>\n",
              "      <th>4</th>\n",
              "      <td>Agrestina</td>\n",
              "      <td>865</td>\n",
              "      <td>36</td>\n",
              "      <td>0.0416</td>\n",
              "      <td>25065.0</td>\n",
              "    </tr>\n",
              "    <tr>\n",
              "      <th>...</th>\n",
              "      <td>...</td>\n",
              "      <td>...</td>\n",
              "      <td>...</td>\n",
              "      <td>...</td>\n",
              "      <td>...</td>\n",
              "    </tr>\n",
              "    <tr>\n",
              "      <th>182</th>\n",
              "      <td>Vertente do Lério</td>\n",
              "      <td>156</td>\n",
              "      <td>2</td>\n",
              "      <td>0.0128</td>\n",
              "      <td>7571.0</td>\n",
              "    </tr>\n",
              "    <tr>\n",
              "      <th>183</th>\n",
              "      <td>Vertentes</td>\n",
              "      <td>408</td>\n",
              "      <td>5</td>\n",
              "      <td>0.0123</td>\n",
              "      <td>20954.0</td>\n",
              "    </tr>\n",
              "    <tr>\n",
              "      <th>184</th>\n",
              "      <td>Vicência</td>\n",
              "      <td>431</td>\n",
              "      <td>16</td>\n",
              "      <td>0.0371</td>\n",
              "      <td>32772.0</td>\n",
              "    </tr>\n",
              "    <tr>\n",
              "      <th>185</th>\n",
              "      <td>Vitória de Santo Antão</td>\n",
              "      <td>3038</td>\n",
              "      <td>186</td>\n",
              "      <td>0.0612</td>\n",
              "      <td>139583.0</td>\n",
              "    </tr>\n",
              "    <tr>\n",
              "      <th>186</th>\n",
              "      <td>Xexéu</td>\n",
              "      <td>344</td>\n",
              "      <td>18</td>\n",
              "      <td>0.0523</td>\n",
              "      <td>14757.0</td>\n",
              "    </tr>\n",
              "  </tbody>\n",
              "</table>\n",
              "<p>187 rows × 5 columns</p>\n",
              "</div>"
            ],
            "text/plain": [
              "                  municipio  casos_confirmados  ...  taxa_mortalidade  pop_estimada\n",
              "0                       NaN             323176  ...            0.0356     9616621.0\n",
              "1              Abreu e Lima               1700  ...            0.0935      100346.0\n",
              "2     Afogados da Ingazeira               2478  ...            0.0141       37404.0\n",
              "3                   Afrânio                578  ...            0.0156       19810.0\n",
              "4                 Agrestina                865  ...            0.0416       25065.0\n",
              "..                      ...                ...  ...               ...           ...\n",
              "182       Vertente do Lério                156  ...            0.0128        7571.0\n",
              "183               Vertentes                408  ...            0.0123       20954.0\n",
              "184                Vicência                431  ...            0.0371       32772.0\n",
              "185  Vitória de Santo Antão               3038  ...            0.0612      139583.0\n",
              "186                   Xexéu                344  ...            0.0523       14757.0\n",
              "\n",
              "[187 rows x 5 columns]"
            ]
          },
          "metadata": {
            "tags": []
          },
          "execution_count": 26
        }
      ]
    },
    {
      "cell_type": "markdown",
      "metadata": {
        "id": "ppahtXoqPG7l"
      },
      "source": [
        "Filtrar cidades do dataset de Gastos públicos"
      ]
    },
    {
      "cell_type": "code",
      "metadata": {
        "id": "E2Y3omYllzL2",
        "colab": {
          "base_uri": "https://localhost:8080/",
          "height": 0
        },
        "outputId": "f62df1fe-991c-428b-c6f8-f6aea2bf2549"
      },
      "source": [
        "#Guardando uma cópia dos dados de todas as cidades\n",
        "oldCovidPeCases = covidPeCases\n",
        "\n",
        "#Filtrando as cidades que selecionamos os gastos no portal da transparência\n",
        "cities = ['Arcoverde', \\\n",
        "          'Buíque', \\\n",
        "          'Caruaru', \\\n",
        "          'Garanhuns', \\\n",
        "          'Jaboatão dos Guararapes', \\\n",
        "          'Olinda', \\\n",
        "          'Paulista', \\\n",
        "          'Petrolina', \\\n",
        "          'Recife', \\\n",
        "          'Serra Talhada']\n",
        "\n",
        "covidPeCases = covidPeCases[covidPeCases.municipio.isin(cities)]\n",
        "covidPeCases"
      ],
      "execution_count": 27,
      "outputs": [
        {
          "output_type": "execute_result",
          "data": {
            "text/html": [
              "<div>\n",
              "<style scoped>\n",
              "    .dataframe tbody tr th:only-of-type {\n",
              "        vertical-align: middle;\n",
              "    }\n",
              "\n",
              "    .dataframe tbody tr th {\n",
              "        vertical-align: top;\n",
              "    }\n",
              "\n",
              "    .dataframe thead th {\n",
              "        text-align: right;\n",
              "    }\n",
              "</style>\n",
              "<table border=\"1\" class=\"dataframe\">\n",
              "  <thead>\n",
              "    <tr style=\"text-align: right;\">\n",
              "      <th></th>\n",
              "      <th>municipio</th>\n",
              "      <th>casos_confirmados</th>\n",
              "      <th>mortes_confirmadas</th>\n",
              "      <th>taxa_mortalidade</th>\n",
              "      <th>pop_estimada</th>\n",
              "    </tr>\n",
              "  </thead>\n",
              "  <tbody>\n",
              "    <tr>\n",
              "      <th>14</th>\n",
              "      <td>Arcoverde</td>\n",
              "      <td>4281</td>\n",
              "      <td>87</td>\n",
              "      <td>0.0203</td>\n",
              "      <td>74822.0</td>\n",
              "    </tr>\n",
              "    <tr>\n",
              "      <th>30</th>\n",
              "      <td>Buíque</td>\n",
              "      <td>1436</td>\n",
              "      <td>23</td>\n",
              "      <td>0.0160</td>\n",
              "      <td>58919.0</td>\n",
              "    </tr>\n",
              "    <tr>\n",
              "      <th>45</th>\n",
              "      <td>Caruaru</td>\n",
              "      <td>17187</td>\n",
              "      <td>454</td>\n",
              "      <td>0.0264</td>\n",
              "      <td>365278.0</td>\n",
              "    </tr>\n",
              "    <tr>\n",
              "      <th>67</th>\n",
              "      <td>Garanhuns</td>\n",
              "      <td>7250</td>\n",
              "      <td>134</td>\n",
              "      <td>0.0185</td>\n",
              "      <td>140577.0</td>\n",
              "    </tr>\n",
              "    <tr>\n",
              "      <th>89</th>\n",
              "      <td>Jaboatão dos Guararapes</td>\n",
              "      <td>19966</td>\n",
              "      <td>1095</td>\n",
              "      <td>0.0548</td>\n",
              "      <td>706867.0</td>\n",
              "    </tr>\n",
              "    <tr>\n",
              "      <th>113</th>\n",
              "      <td>Olinda</td>\n",
              "      <td>14581</td>\n",
              "      <td>635</td>\n",
              "      <td>0.0435</td>\n",
              "      <td>393115.0</td>\n",
              "    </tr>\n",
              "    <tr>\n",
              "      <th>124</th>\n",
              "      <td>Paulista</td>\n",
              "      <td>7154</td>\n",
              "      <td>528</td>\n",
              "      <td>0.0738</td>\n",
              "      <td>334376.0</td>\n",
              "    </tr>\n",
              "    <tr>\n",
              "      <th>128</th>\n",
              "      <td>Petrolina</td>\n",
              "      <td>18239</td>\n",
              "      <td>209</td>\n",
              "      <td>0.0115</td>\n",
              "      <td>354317.0</td>\n",
              "    </tr>\n",
              "    <tr>\n",
              "      <th>134</th>\n",
              "      <td>Recife</td>\n",
              "      <td>78117</td>\n",
              "      <td>3168</td>\n",
              "      <td>0.0406</td>\n",
              "      <td>1653461.0</td>\n",
              "    </tr>\n",
              "    <tr>\n",
              "      <th>160</th>\n",
              "      <td>Serra Talhada</td>\n",
              "      <td>7341</td>\n",
              "      <td>105</td>\n",
              "      <td>0.0143</td>\n",
              "      <td>86915.0</td>\n",
              "    </tr>\n",
              "  </tbody>\n",
              "</table>\n",
              "</div>"
            ],
            "text/plain": [
              "                   municipio  casos_confirmados  ...  taxa_mortalidade  pop_estimada\n",
              "14                 Arcoverde               4281  ...            0.0203       74822.0\n",
              "30                    Buíque               1436  ...            0.0160       58919.0\n",
              "45                   Caruaru              17187  ...            0.0264      365278.0\n",
              "67                 Garanhuns               7250  ...            0.0185      140577.0\n",
              "89   Jaboatão dos Guararapes              19966  ...            0.0548      706867.0\n",
              "113                   Olinda              14581  ...            0.0435      393115.0\n",
              "124                 Paulista               7154  ...            0.0738      334376.0\n",
              "128                Petrolina              18239  ...            0.0115      354317.0\n",
              "134                   Recife              78117  ...            0.0406     1653461.0\n",
              "160            Serra Talhada               7341  ...            0.0143       86915.0\n",
              "\n",
              "[10 rows x 5 columns]"
            ]
          },
          "metadata": {
            "tags": []
          },
          "execution_count": 27
        }
      ]
    },
    {
      "cell_type": "code",
      "metadata": {
        "id": "ahFKtynRWcZK",
        "colab": {
          "base_uri": "https://localhost:8080/"
        },
        "outputId": "685b61a4-143a-44b1-fa38-6e22748f845c"
      },
      "source": [
        "covidPeCases.info(verbose=True)"
      ],
      "execution_count": 28,
      "outputs": [
        {
          "output_type": "stream",
          "text": [
            "<class 'pandas.core.frame.DataFrame'>\n",
            "Int64Index: 10 entries, 14 to 160\n",
            "Data columns (total 5 columns):\n",
            " #   Column              Non-Null Count  Dtype  \n",
            "---  ------              --------------  -----  \n",
            " 0   municipio           10 non-null     object \n",
            " 1   casos_confirmados   10 non-null     int64  \n",
            " 2   mortes_confirmadas  10 non-null     int64  \n",
            " 3   taxa_mortalidade    10 non-null     float64\n",
            " 4   pop_estimada        10 non-null     float64\n",
            "dtypes: float64(2), int64(2), object(1)\n",
            "memory usage: 480.0+ bytes\n"
          ],
          "name": "stdout"
        }
      ]
    },
    {
      "cell_type": "code",
      "metadata": {
        "id": "TrR7lzvjbI4n",
        "colab": {
          "base_uri": "https://localhost:8080/"
        },
        "outputId": "58830ea1-4d6c-4c68-d9f4-9ce0d817495f"
      },
      "source": [
        "covidPeCases['municipio'] = covidPeCases['municipio'].apply(lambda city: city.upper())\n",
        "covidPeCases['municipio'].unique()"
      ],
      "execution_count": 29,
      "outputs": [
        {
          "output_type": "stream",
          "text": [
            "/usr/local/lib/python3.7/dist-packages/ipykernel_launcher.py:1: SettingWithCopyWarning: \n",
            "A value is trying to be set on a copy of a slice from a DataFrame.\n",
            "Try using .loc[row_indexer,col_indexer] = value instead\n",
            "\n",
            "See the caveats in the documentation: https://pandas.pydata.org/pandas-docs/stable/user_guide/indexing.html#returning-a-view-versus-a-copy\n",
            "  \"\"\"Entry point for launching an IPython kernel.\n"
          ],
          "name": "stderr"
        },
        {
          "output_type": "execute_result",
          "data": {
            "text/plain": [
              "array(['ARCOVERDE', 'BUÍQUE', 'CARUARU', 'GARANHUNS',\n",
              "       'JABOATÃO DOS GUARARAPES', 'OLINDA', 'PAULISTA', 'PETROLINA',\n",
              "       'RECIFE', 'SERRA TALHADA'], dtype=object)"
            ]
          },
          "metadata": {
            "tags": []
          },
          "execution_count": 29
        }
      ]
    },
    {
      "cell_type": "code",
      "metadata": {
        "id": "eOyrO8VdcMGn",
        "colab": {
          "base_uri": "https://localhost:8080/"
        },
        "outputId": "5ebac06c-375c-44b2-9b20-36026622952a"
      },
      "source": [
        "covidPeCases['municipio'] = covidPeCases['municipio'].astype('category')\n",
        "covidPeCases['id'] = covidPeCases['municipio'].cat.codes\n",
        "covidPeCases.index = covidPeCases['id']"
      ],
      "execution_count": 30,
      "outputs": [
        {
          "output_type": "stream",
          "text": [
            "/usr/local/lib/python3.7/dist-packages/ipykernel_launcher.py:1: SettingWithCopyWarning: \n",
            "A value is trying to be set on a copy of a slice from a DataFrame.\n",
            "Try using .loc[row_indexer,col_indexer] = value instead\n",
            "\n",
            "See the caveats in the documentation: https://pandas.pydata.org/pandas-docs/stable/user_guide/indexing.html#returning-a-view-versus-a-copy\n",
            "  \"\"\"Entry point for launching an IPython kernel.\n",
            "/usr/local/lib/python3.7/dist-packages/ipykernel_launcher.py:2: SettingWithCopyWarning: \n",
            "A value is trying to be set on a copy of a slice from a DataFrame.\n",
            "Try using .loc[row_indexer,col_indexer] = value instead\n",
            "\n",
            "See the caveats in the documentation: https://pandas.pydata.org/pandas-docs/stable/user_guide/indexing.html#returning-a-view-versus-a-copy\n",
            "  \n"
          ],
          "name": "stderr"
        }
      ]
    },
    {
      "cell_type": "code",
      "metadata": {
        "id": "BCs0LeFWlV0y",
        "colab": {
          "base_uri": "https://localhost:8080/",
          "height": 0
        },
        "outputId": "cd26fa86-b61f-4f1b-c71a-4c8b9ad8e5b4"
      },
      "source": [
        "covidPeCases"
      ],
      "execution_count": 31,
      "outputs": [
        {
          "output_type": "execute_result",
          "data": {
            "text/html": [
              "<div>\n",
              "<style scoped>\n",
              "    .dataframe tbody tr th:only-of-type {\n",
              "        vertical-align: middle;\n",
              "    }\n",
              "\n",
              "    .dataframe tbody tr th {\n",
              "        vertical-align: top;\n",
              "    }\n",
              "\n",
              "    .dataframe thead th {\n",
              "        text-align: right;\n",
              "    }\n",
              "</style>\n",
              "<table border=\"1\" class=\"dataframe\">\n",
              "  <thead>\n",
              "    <tr style=\"text-align: right;\">\n",
              "      <th></th>\n",
              "      <th>municipio</th>\n",
              "      <th>casos_confirmados</th>\n",
              "      <th>mortes_confirmadas</th>\n",
              "      <th>taxa_mortalidade</th>\n",
              "      <th>pop_estimada</th>\n",
              "      <th>id</th>\n",
              "    </tr>\n",
              "    <tr>\n",
              "      <th>id</th>\n",
              "      <th></th>\n",
              "      <th></th>\n",
              "      <th></th>\n",
              "      <th></th>\n",
              "      <th></th>\n",
              "      <th></th>\n",
              "    </tr>\n",
              "  </thead>\n",
              "  <tbody>\n",
              "    <tr>\n",
              "      <th>0</th>\n",
              "      <td>ARCOVERDE</td>\n",
              "      <td>4281</td>\n",
              "      <td>87</td>\n",
              "      <td>0.0203</td>\n",
              "      <td>74822.0</td>\n",
              "      <td>0</td>\n",
              "    </tr>\n",
              "    <tr>\n",
              "      <th>1</th>\n",
              "      <td>BUÍQUE</td>\n",
              "      <td>1436</td>\n",
              "      <td>23</td>\n",
              "      <td>0.0160</td>\n",
              "      <td>58919.0</td>\n",
              "      <td>1</td>\n",
              "    </tr>\n",
              "    <tr>\n",
              "      <th>2</th>\n",
              "      <td>CARUARU</td>\n",
              "      <td>17187</td>\n",
              "      <td>454</td>\n",
              "      <td>0.0264</td>\n",
              "      <td>365278.0</td>\n",
              "      <td>2</td>\n",
              "    </tr>\n",
              "    <tr>\n",
              "      <th>3</th>\n",
              "      <td>GARANHUNS</td>\n",
              "      <td>7250</td>\n",
              "      <td>134</td>\n",
              "      <td>0.0185</td>\n",
              "      <td>140577.0</td>\n",
              "      <td>3</td>\n",
              "    </tr>\n",
              "    <tr>\n",
              "      <th>4</th>\n",
              "      <td>JABOATÃO DOS GUARARAPES</td>\n",
              "      <td>19966</td>\n",
              "      <td>1095</td>\n",
              "      <td>0.0548</td>\n",
              "      <td>706867.0</td>\n",
              "      <td>4</td>\n",
              "    </tr>\n",
              "    <tr>\n",
              "      <th>5</th>\n",
              "      <td>OLINDA</td>\n",
              "      <td>14581</td>\n",
              "      <td>635</td>\n",
              "      <td>0.0435</td>\n",
              "      <td>393115.0</td>\n",
              "      <td>5</td>\n",
              "    </tr>\n",
              "    <tr>\n",
              "      <th>6</th>\n",
              "      <td>PAULISTA</td>\n",
              "      <td>7154</td>\n",
              "      <td>528</td>\n",
              "      <td>0.0738</td>\n",
              "      <td>334376.0</td>\n",
              "      <td>6</td>\n",
              "    </tr>\n",
              "    <tr>\n",
              "      <th>7</th>\n",
              "      <td>PETROLINA</td>\n",
              "      <td>18239</td>\n",
              "      <td>209</td>\n",
              "      <td>0.0115</td>\n",
              "      <td>354317.0</td>\n",
              "      <td>7</td>\n",
              "    </tr>\n",
              "    <tr>\n",
              "      <th>8</th>\n",
              "      <td>RECIFE</td>\n",
              "      <td>78117</td>\n",
              "      <td>3168</td>\n",
              "      <td>0.0406</td>\n",
              "      <td>1653461.0</td>\n",
              "      <td>8</td>\n",
              "    </tr>\n",
              "    <tr>\n",
              "      <th>9</th>\n",
              "      <td>SERRA TALHADA</td>\n",
              "      <td>7341</td>\n",
              "      <td>105</td>\n",
              "      <td>0.0143</td>\n",
              "      <td>86915.0</td>\n",
              "      <td>9</td>\n",
              "    </tr>\n",
              "  </tbody>\n",
              "</table>\n",
              "</div>"
            ],
            "text/plain": [
              "                  municipio  casos_confirmados  ...  pop_estimada  id\n",
              "id                                              ...                  \n",
              "0                 ARCOVERDE               4281  ...       74822.0   0\n",
              "1                    BUÍQUE               1436  ...       58919.0   1\n",
              "2                   CARUARU              17187  ...      365278.0   2\n",
              "3                 GARANHUNS               7250  ...      140577.0   3\n",
              "4   JABOATÃO DOS GUARARAPES              19966  ...      706867.0   4\n",
              "5                    OLINDA              14581  ...      393115.0   5\n",
              "6                  PAULISTA               7154  ...      334376.0   6\n",
              "7                 PETROLINA              18239  ...      354317.0   7\n",
              "8                    RECIFE              78117  ...     1653461.0   8\n",
              "9             SERRA TALHADA               7341  ...       86915.0   9\n",
              "\n",
              "[10 rows x 6 columns]"
            ]
          },
          "metadata": {
            "tags": []
          },
          "execution_count": 31
        }
      ]
    },
    {
      "cell_type": "markdown",
      "metadata": {
        "id": "IDTgOPKxAaCv"
      },
      "source": [
        "### **Remoção de outliers multivariado**\n",
        "> Método utilizado:\n",
        "  * Local Outlier Factor\n",
        "\n",
        "> Conjunto:\n",
        "  * ```investCovidPE```"
      ]
    },
    {
      "cell_type": "markdown",
      "metadata": {
        "id": "nayhR_TLag-A"
      },
      "source": [
        "Categorizando Gastos públicos"
      ]
    },
    {
      "cell_type": "markdown",
      "metadata": {
        "id": "qtQRD6AomH-A"
      },
      "source": [
        "Método para vincular os dados de municípios entre os dois Conjuntos de Dados"
      ]
    },
    {
      "cell_type": "code",
      "metadata": {
        "id": "7712t-mXfjd1"
      },
      "source": [
        "def categorizar_municipio(city):\n",
        "  return covidPeCases[covidPeCases['municipio'] == str(city)].index.values.astype(int)[0]"
      ],
      "execution_count": 32,
      "outputs": []
    },
    {
      "cell_type": "code",
      "metadata": {
        "id": "CFbosEXX2qA1",
        "colab": {
          "base_uri": "https://localhost:8080/",
          "height": 0
        },
        "outputId": "bbe3af28-44b8-455e-bd41-fee625f95d03"
      },
      "source": [
        "invest_covidPe"
      ],
      "execution_count": 33,
      "outputs": [
        {
          "output_type": "execute_result",
          "data": {
            "text/html": [
              "<div>\n",
              "<style scoped>\n",
              "    .dataframe tbody tr th:only-of-type {\n",
              "        vertical-align: middle;\n",
              "    }\n",
              "\n",
              "    .dataframe tbody tr th {\n",
              "        vertical-align: top;\n",
              "    }\n",
              "\n",
              "    .dataframe thead th {\n",
              "        text-align: right;\n",
              "    }\n",
              "</style>\n",
              "<table border=\"1\" class=\"dataframe\">\n",
              "  <thead>\n",
              "    <tr style=\"text-align: right;\">\n",
              "      <th></th>\n",
              "      <th>month</th>\n",
              "      <th>tipo_favorecido</th>\n",
              "      <th>city</th>\n",
              "      <th>Função</th>\n",
              "      <th>prog_orcamento</th>\n",
              "      <th>gastos</th>\n",
              "    </tr>\n",
              "  </thead>\n",
              "  <tbody>\n",
              "    <tr>\n",
              "      <th>0</th>\n",
              "      <td>mar/20</td>\n",
              "      <td>Fundo Público</td>\n",
              "      <td>RECIFE</td>\n",
              "      <td>Saúde</td>\n",
              "      <td>ATENCAO ESPECIALIZADA A SAUDE</td>\n",
              "      <td>60000.00</td>\n",
              "    </tr>\n",
              "    <tr>\n",
              "      <th>1</th>\n",
              "      <td>abr/20</td>\n",
              "      <td>Fundo Público</td>\n",
              "      <td>GARANHUNS</td>\n",
              "      <td>Saúde</td>\n",
              "      <td>ATENCAO ESPECIALIZADA A SAUDE</td>\n",
              "      <td>1174944.27</td>\n",
              "    </tr>\n",
              "    <tr>\n",
              "      <th>2</th>\n",
              "      <td>abr/20</td>\n",
              "      <td>Fundo Público</td>\n",
              "      <td>PETROLINA</td>\n",
              "      <td>Saúde</td>\n",
              "      <td>ATENCAO ESPECIALIZADA A SAUDE</td>\n",
              "      <td>4130446.89</td>\n",
              "    </tr>\n",
              "    <tr>\n",
              "      <th>3</th>\n",
              "      <td>abr/20</td>\n",
              "      <td>Fundo Público</td>\n",
              "      <td>OLINDA</td>\n",
              "      <td>Saúde</td>\n",
              "      <td>ATENCAO ESPECIALIZADA A SAUDE</td>\n",
              "      <td>3830136.03</td>\n",
              "    </tr>\n",
              "    <tr>\n",
              "      <th>4</th>\n",
              "      <td>abr/20</td>\n",
              "      <td>Fundo Público</td>\n",
              "      <td>CARUARU</td>\n",
              "      <td>Saúde</td>\n",
              "      <td>ATENCAO ESPECIALIZADA A SAUDE</td>\n",
              "      <td>3662675.00</td>\n",
              "    </tr>\n",
              "    <tr>\n",
              "      <th>...</th>\n",
              "      <td>...</td>\n",
              "      <td>...</td>\n",
              "      <td>...</td>\n",
              "      <td>...</td>\n",
              "      <td>...</td>\n",
              "      <td>...</td>\n",
              "    </tr>\n",
              "    <tr>\n",
              "      <th>696</th>\n",
              "      <td>04/2020</td>\n",
              "      <td>Fundo Público</td>\n",
              "      <td>JABOATÃO DOS GUARARAPES</td>\n",
              "      <td>Saúde</td>\n",
              "      <td>ATENCAO ESPECIALIZADA A SAUDE</td>\n",
              "      <td>7327021.87</td>\n",
              "    </tr>\n",
              "    <tr>\n",
              "      <th>697</th>\n",
              "      <td>10/2020</td>\n",
              "      <td>Fundo Público</td>\n",
              "      <td>RECIFE</td>\n",
              "      <td>Saúde</td>\n",
              "      <td>ATENCAO ESPECIALIZADA A SAUDE</td>\n",
              "      <td>3500000.00</td>\n",
              "    </tr>\n",
              "    <tr>\n",
              "      <th>698</th>\n",
              "      <td>07/2020</td>\n",
              "      <td>Fundo Público</td>\n",
              "      <td>PETROLINA</td>\n",
              "      <td>Saúde</td>\n",
              "      <td>ATENCAO ESPECIALIZADA A SAUDE</td>\n",
              "      <td>8676053.00</td>\n",
              "    </tr>\n",
              "    <tr>\n",
              "      <th>699</th>\n",
              "      <td>07/2020</td>\n",
              "      <td>Fundo Público</td>\n",
              "      <td>BUÍQUE</td>\n",
              "      <td>Saúde</td>\n",
              "      <td>ATENCAO ESPECIALIZADA A SAUDE</td>\n",
              "      <td>1850000.00</td>\n",
              "    </tr>\n",
              "    <tr>\n",
              "      <th>700</th>\n",
              "      <td>08/2020</td>\n",
              "      <td>Fundo Público</td>\n",
              "      <td>PETROLINA</td>\n",
              "      <td>Assistência social</td>\n",
              "      <td>PROTECAO SOCIAL NO AMBITO DO SISTEMA UNICO DE ...</td>\n",
              "      <td>516875.60</td>\n",
              "    </tr>\n",
              "  </tbody>\n",
              "</table>\n",
              "<p>701 rows × 6 columns</p>\n",
              "</div>"
            ],
            "text/plain": [
              "       month  ...      gastos\n",
              "0     mar/20  ...    60000.00\n",
              "1     abr/20  ...  1174944.27\n",
              "2     abr/20  ...  4130446.89\n",
              "3     abr/20  ...  3830136.03\n",
              "4     abr/20  ...  3662675.00\n",
              "..       ...  ...         ...\n",
              "696  04/2020  ...  7327021.87\n",
              "697  10/2020  ...  3500000.00\n",
              "698  07/2020  ...  8676053.00\n",
              "699  07/2020  ...  1850000.00\n",
              "700  08/2020  ...   516875.60\n",
              "\n",
              "[701 rows x 6 columns]"
            ]
          },
          "metadata": {
            "tags": []
          },
          "execution_count": 33
        }
      ]
    },
    {
      "cell_type": "code",
      "metadata": {
        "id": "L7aa-Y4WAiKn"
      },
      "source": [
        "invest_covidPe['city'] = invest_covidPe['city'].map(lambda city: city.replace(city, str(categorizar_municipio(city))))\n",
        "invest_covidPe['month'] = invest_covidPe['month'].cat.codes\n",
        "invest_covidPe['tipo_favorecido'] = invest_covidPe['tipo_favorecido'].cat.codes\n",
        "invest_covidPe['Função'] = invest_covidPe['Função'].cat.codes\n",
        "invest_covidPe['prog_orcamento'] = invest_covidPe['prog_orcamento'].cat.codes"
      ],
      "execution_count": 34,
      "outputs": []
    },
    {
      "cell_type": "code",
      "metadata": {
        "id": "BkajQcJKl24y",
        "colab": {
          "base_uri": "https://localhost:8080/",
          "height": 0
        },
        "outputId": "717f954d-3f8d-4b04-e7bf-294ea085140c"
      },
      "source": [
        "invest_covidPe"
      ],
      "execution_count": 35,
      "outputs": [
        {
          "output_type": "execute_result",
          "data": {
            "text/html": [
              "<div>\n",
              "<style scoped>\n",
              "    .dataframe tbody tr th:only-of-type {\n",
              "        vertical-align: middle;\n",
              "    }\n",
              "\n",
              "    .dataframe tbody tr th {\n",
              "        vertical-align: top;\n",
              "    }\n",
              "\n",
              "    .dataframe thead th {\n",
              "        text-align: right;\n",
              "    }\n",
              "</style>\n",
              "<table border=\"1\" class=\"dataframe\">\n",
              "  <thead>\n",
              "    <tr style=\"text-align: right;\">\n",
              "      <th></th>\n",
              "      <th>month</th>\n",
              "      <th>tipo_favorecido</th>\n",
              "      <th>city</th>\n",
              "      <th>Função</th>\n",
              "      <th>prog_orcamento</th>\n",
              "      <th>gastos</th>\n",
              "    </tr>\n",
              "  </thead>\n",
              "  <tbody>\n",
              "    <tr>\n",
              "      <th>0</th>\n",
              "      <td>16</td>\n",
              "      <td>2</td>\n",
              "      <td>8</td>\n",
              "      <td>3</td>\n",
              "      <td>0</td>\n",
              "      <td>60000.00</td>\n",
              "    </tr>\n",
              "    <tr>\n",
              "      <th>1</th>\n",
              "      <td>10</td>\n",
              "      <td>2</td>\n",
              "      <td>3</td>\n",
              "      <td>3</td>\n",
              "      <td>0</td>\n",
              "      <td>1174944.27</td>\n",
              "    </tr>\n",
              "    <tr>\n",
              "      <th>2</th>\n",
              "      <td>10</td>\n",
              "      <td>2</td>\n",
              "      <td>7</td>\n",
              "      <td>3</td>\n",
              "      <td>0</td>\n",
              "      <td>4130446.89</td>\n",
              "    </tr>\n",
              "    <tr>\n",
              "      <th>3</th>\n",
              "      <td>10</td>\n",
              "      <td>2</td>\n",
              "      <td>5</td>\n",
              "      <td>3</td>\n",
              "      <td>0</td>\n",
              "      <td>3830136.03</td>\n",
              "    </tr>\n",
              "    <tr>\n",
              "      <th>4</th>\n",
              "      <td>10</td>\n",
              "      <td>2</td>\n",
              "      <td>2</td>\n",
              "      <td>3</td>\n",
              "      <td>0</td>\n",
              "      <td>3662675.00</td>\n",
              "    </tr>\n",
              "    <tr>\n",
              "      <th>...</th>\n",
              "      <td>...</td>\n",
              "      <td>...</td>\n",
              "      <td>...</td>\n",
              "      <td>...</td>\n",
              "      <td>...</td>\n",
              "      <td>...</td>\n",
              "    </tr>\n",
              "    <tr>\n",
              "      <th>696</th>\n",
              "      <td>1</td>\n",
              "      <td>2</td>\n",
              "      <td>4</td>\n",
              "      <td>3</td>\n",
              "      <td>0</td>\n",
              "      <td>7327021.87</td>\n",
              "    </tr>\n",
              "    <tr>\n",
              "      <th>697</th>\n",
              "      <td>7</td>\n",
              "      <td>2</td>\n",
              "      <td>8</td>\n",
              "      <td>3</td>\n",
              "      <td>0</td>\n",
              "      <td>3500000.00</td>\n",
              "    </tr>\n",
              "    <tr>\n",
              "      <th>698</th>\n",
              "      <td>4</td>\n",
              "      <td>2</td>\n",
              "      <td>7</td>\n",
              "      <td>3</td>\n",
              "      <td>0</td>\n",
              "      <td>8676053.00</td>\n",
              "    </tr>\n",
              "    <tr>\n",
              "      <th>699</th>\n",
              "      <td>4</td>\n",
              "      <td>2</td>\n",
              "      <td>1</td>\n",
              "      <td>3</td>\n",
              "      <td>0</td>\n",
              "      <td>1850000.00</td>\n",
              "    </tr>\n",
              "    <tr>\n",
              "      <th>700</th>\n",
              "      <td>5</td>\n",
              "      <td>2</td>\n",
              "      <td>7</td>\n",
              "      <td>0</td>\n",
              "      <td>2</td>\n",
              "      <td>516875.60</td>\n",
              "    </tr>\n",
              "  </tbody>\n",
              "</table>\n",
              "<p>701 rows × 6 columns</p>\n",
              "</div>"
            ],
            "text/plain": [
              "     month  tipo_favorecido city  Função  prog_orcamento      gastos\n",
              "0       16                2    8       3               0    60000.00\n",
              "1       10                2    3       3               0  1174944.27\n",
              "2       10                2    7       3               0  4130446.89\n",
              "3       10                2    5       3               0  3830136.03\n",
              "4       10                2    2       3               0  3662675.00\n",
              "..     ...              ...  ...     ...             ...         ...\n",
              "696      1                2    4       3               0  7327021.87\n",
              "697      7                2    8       3               0  3500000.00\n",
              "698      4                2    7       3               0  8676053.00\n",
              "699      4                2    1       3               0  1850000.00\n",
              "700      5                2    7       0               2   516875.60\n",
              "\n",
              "[701 rows x 6 columns]"
            ]
          },
          "metadata": {
            "tags": []
          },
          "execution_count": 35
        }
      ]
    },
    {
      "cell_type": "markdown",
      "metadata": {
        "id": "1IDXw_5TCKW2"
      },
      "source": [
        "#### **Local Outlier Factor**"
      ]
    },
    {
      "cell_type": "code",
      "metadata": {
        "id": "cxh5XJkcFxoO",
        "colab": {
          "base_uri": "https://localhost:8080/"
        },
        "outputId": "e57b18a7-ada5-416e-fd01-2588c555c00f"
      },
      "source": [
        "invest_covidPe_lof = invest_covidPe\n",
        "print(\"Quantidade de linhas: \" + str(len(invest_covidPe)))"
      ],
      "execution_count": 36,
      "outputs": [
        {
          "output_type": "stream",
          "text": [
            "Quantidade de linhas: 701\n"
          ],
          "name": "stdout"
        }
      ]
    },
    {
      "cell_type": "code",
      "metadata": {
        "id": "wNp19szfcqS-"
      },
      "source": [
        "from sklearn.neighbors import LocalOutlierFactor\n",
        "clf = LocalOutlierFactor(n_neighbors=10)"
      ],
      "execution_count": 37,
      "outputs": []
    },
    {
      "cell_type": "code",
      "metadata": {
        "id": "hY-LVcjacyTl"
      },
      "source": [
        "scores = clf.fit_predict(invest_covidPe_lof)"
      ],
      "execution_count": 38,
      "outputs": []
    },
    {
      "cell_type": "code",
      "metadata": {
        "id": "K-gCHumSdl3H",
        "colab": {
          "base_uri": "https://localhost:8080/"
        },
        "outputId": "e46c06d7-9372-46df-e5fe-081084034439"
      },
      "source": [
        "# Valor de LOF\n",
        "-1*clf.negative_outlier_factor_"
      ],
      "execution_count": 39,
      "outputs": [
        {
          "output_type": "execute_result",
          "data": {
            "text/plain": [
              "array([ 5.06971635,  1.15786907,  1.01278478,  1.00743069,  0.97511367,\n",
              "        1.38735342,  1.14246381,  0.98157289,  0.9388996 ,  1.06181494,\n",
              "        1.03345647,  1.00099309,  1.46929685,  0.96742528,  1.19792081,\n",
              "        1.05815846,  1.32094043,  1.11359083,  0.88391166,  1.28701849,\n",
              "        1.0212535 ,  1.05815846,  1.0811027 ,  1.03028305,  0.96950344,\n",
              "        1.09989847,  1.71633666,  1.09000524,  1.17392687,  1.32513031,\n",
              "        1.24460724,  1.24460724,  0.98706486,  0.95898566,  0.9073941 ,\n",
              "        1.17776213,  1.30074647,  0.94080509,  1.1715444 ,  1.04785782,\n",
              "        0.98969908,  1.22973992,  0.93931047,  1.10569106,  1.11086791,\n",
              "        1.01557319,  0.95207123,  1.0404531 ,  1.40262619,  1.03760092,\n",
              "        0.98506443,  1.31220318,  0.94483734,  1.00836771,  1.03237359,\n",
              "        1.37091875,  1.17742638,  0.99612669,  1.02220098,  0.93716132,\n",
              "        0.99639615,  1.03665054,  1.04930928,  1.3951037 ,  1.09881899,\n",
              "        1.15364448,  1.13640352,  1.02526121,  1.08286789,  0.97687261,\n",
              "        1.10312264,  1.23130391,  1.03433015,  1.23103876,  0.97406902,\n",
              "        1.00836832,  1.16575644,  1.12021853,  0.99612669,  0.9582296 ,\n",
              "        1.07378085,  1.07566838,  1.13702311,  1.18519919,  1.04123949,\n",
              "        0.99529609,  0.98045225,  1.3345122 ,  1.02388755,  1.14159001,\n",
              "        0.97730097,  0.98373643,  1.00277625,  0.95296956,  0.97162536,\n",
              "        0.9811348 , 26.95605932,  0.98941491,  1.17408291,  1.00817919,\n",
              "        1.00124941,  1.04013858,  0.95296956,  0.96837789,  0.98368082,\n",
              "        1.01564939,  0.97822799,  1.03402097,  1.32857675,  0.95443233,\n",
              "        1.07923574,  0.95520682,  1.07686024,  0.97078317,  0.98080848,\n",
              "        1.1080593 ,  1.05691851,  1.08687784,  0.99209075,  0.96273255,\n",
              "        1.05691851,  1.03987723,  1.05021019,  0.94813591,  1.37811025,\n",
              "        1.04005974,  1.03262144,  0.97502109,  1.07929201,  0.97819948,\n",
              "        1.06401928,  1.09128471,  1.10431411,  0.99087607,  0.99780436,\n",
              "        0.96273255,  1.174079  ,  1.06036979,  0.9921648 ,  0.97802784,\n",
              "        0.9811348 ,  1.0520018 ,  1.01565401,  0.98375697,  1.00086347,\n",
              "        1.02399841,  0.95555038,  1.0194217 ,  1.03314316, 27.75387763,\n",
              "        0.99966328,  0.95785721,  1.0691862 ,  1.08425303,  1.02789553,\n",
              "        1.02672522,  1.31881021,  1.10629453,  0.95795242,  1.05891673,\n",
              "        1.18160526,  0.9593656 ,  1.05330164,  1.04783359,  0.99357061,\n",
              "        0.98230192,  1.04885325,  1.2043273 ,  1.12738403,  0.95314462,\n",
              "        1.00450799,  1.00749953,  1.05256023,  0.98583243,  0.98099073,\n",
              "        1.34467024,  1.47854352,  1.23872496,  1.03318735,  0.94497767,\n",
              "        1.12479297,  1.00662319,  0.99986463,  0.96646988,  1.18035211,\n",
              "        0.94039565,  1.01540733,  1.01785844,  0.99510062,  0.97688139,\n",
              "        0.98472152,  1.07502111,  0.97063944,  0.99339473,  0.97468144,\n",
              "        1.03888438,  1.1175102 ,  1.07667705,  1.03939086,  0.97688139,\n",
              "        0.97403614,  1.18698603,  1.05256023,  1.02102444,  1.34358356,\n",
              "        0.99437426,  0.94318983,  1.09976591,  1.12602996,  1.01176986,\n",
              "        1.049486  ,  0.98079947,  1.63385672,  0.99720444,  1.03438353,\n",
              "        0.98097277,  1.12163883,  0.98472152,  0.96990855,  1.20180497,\n",
              "        1.24460724,  0.98641524,  1.00998298,  1.04435288,  1.00577541,\n",
              "        1.00133102,  1.10229785,  1.02789443,  1.01298948,  1.09170686,\n",
              "        0.99058828,  1.16753862,  1.06520101,  1.01664892,  1.00570662,\n",
              "        0.99977531,  1.13850079,  0.96187099,  0.96664715,  0.99966347,\n",
              "        1.08093472, 25.52238866,  1.00720229, 29.95427162,  0.97703039,\n",
              "        1.13139643,  0.9640482 ,  1.2991015 ,  1.12479297,  1.05308976,\n",
              "        1.27227781,  0.99203977,  0.96909241,  0.94559551,  1.01540733,\n",
              "        1.00268364,  1.05402193,  0.9551236 ,  1.11332791,  1.64929225,\n",
              "        1.04778672,  0.97468144,  1.01397356,  1.17347597,  0.99587623,\n",
              "        1.15118761,  0.94289447,  0.96766189,  0.98172852,  1.06691937,\n",
              "        0.98905342,  0.99087607,  1.46256345,  1.07007904,  1.00833983,\n",
              "        1.25826587,  1.10038831,  1.02734008,  1.10815199,  1.1760459 ,\n",
              "        1.05582746,  1.01288556,  1.14745877,  1.00281484,  1.11332791,\n",
              "        1.00857036,  0.96703784,  0.97703039,  1.05601707,  0.99653777,\n",
              "        0.95960079,  0.99528043,  1.00112251,  1.0545147 ,  0.99927486,\n",
              "        0.98492136,  1.00557253,  0.98767248,  1.06802931,  1.14051169,\n",
              "        1.27469804,  1.16473841,  0.9840429 ,  0.99257382,  0.96651575,\n",
              "        1.17057034,  0.97364711,  0.9994135 ,  0.94160997,  0.96740928,\n",
              "        0.99153309,  1.07732031,  0.9840429 ,  0.95517374,  0.98097277,\n",
              "        1.10473159,  1.16538275,  0.96692907,  1.02238378,  0.96569291,\n",
              "        1.05238391,  0.95818253,  0.97635173,  0.93636766,  1.00953672,\n",
              "        0.98085305,  0.9774751 ,  1.04023912,  0.96519965,  0.96706975,\n",
              "        0.98398075,  1.10600227,  1.13901734,  1.20107924,  1.06649056,\n",
              "        1.02388755,  1.09948571,  0.95364521,  0.97122763,  1.02239516,\n",
              "        0.94907828,  1.0071412 ,  1.00885437,  0.98587053,  1.07215908,\n",
              "        1.0143384 ,  1.01116013,  1.09380091,  1.02373887,  0.9585352 ,\n",
              "        1.24653221,  1.16009297,  1.06401928,  0.96283977,  1.04710467,\n",
              "        1.30433733,  1.06425406,  0.97815223,  0.98184981,  1.03385382,\n",
              "        1.32928216,  1.0317872 ,  1.16925669,  1.10924851,  0.96273255,\n",
              "        1.0279302 ,  1.14965654,  0.92127916,  0.96864397,  1.07096755,\n",
              "        1.18654592,  1.20822831,  0.98269663,  1.09803787,  1.0605054 ,\n",
              "        0.97909947,  0.95971758,  1.07166235,  1.02064004,  0.95944057,\n",
              "        1.25643831,  1.02006373,  1.14045423,  1.27455758,  1.43758888,\n",
              "        0.99519718,  1.08022896,  0.97822799,  0.97413273,  0.96263457,\n",
              "        1.1157084 ,  1.07513695,  1.07666653,  0.97144851,  0.92127916,\n",
              "        0.96519965,  0.99209075,  1.00430733,  1.17344495,  1.0473109 ,\n",
              "        1.01013575,  1.14446308,  0.94452781,  0.96007837,  1.05328287,\n",
              "        0.97144851,  0.98175283,  1.06387823,  0.99950143,  0.96616312,\n",
              "        0.97122763,  1.06655808,  1.33158246,  0.97692114,  0.96837789,\n",
              "        0.96321209,  1.06423001,  0.98269663,  1.00225788,  1.02147839,\n",
              "        1.16402642,  0.94560236,  0.95795242,  1.00968111,  1.05125084,\n",
              "        1.00427756,  1.02205497,  0.97789792,  1.10060749,  0.99519718,\n",
              "        1.3040972 ,  1.10323045,  1.04206535,  1.25653288,  0.97592499,\n",
              "        1.0495031 ,  0.98893333,  0.98192738,  1.33988277,  1.00170108,\n",
              "        1.1212623 ,  1.04194502,  1.10168677,  1.09427108,  0.97535422,\n",
              "        1.13822617,  1.02446525,  1.02396755,  1.02973111,  0.94039565,\n",
              "        0.98950181,  1.24581767,  1.00799018,  1.06081237,  0.95522469,\n",
              "        1.04704666,  1.01677704,  1.07344083,  1.09554454,  0.96283977,\n",
              "        0.96263457,  1.1883297 ,  1.1592402 ,  0.98970837,  1.02691424,\n",
              "        1.00839016,  1.22316609,  1.03693837,  0.97590392,  1.02524136,\n",
              "        1.2009166 ,  1.12465336,  1.16155285,  1.09073517,  0.9783367 ,\n",
              "        1.08170826,  1.08601054,  1.02532129,  1.08099875,  0.98892177,\n",
              "        0.98269663,  0.98909575,  1.0225137 ,  1.05027164,  0.9875477 ,\n",
              "        1.06508447,  1.01006248,  0.99186393,  1.00671565,  0.96569291,\n",
              "        1.03925764,  1.09805008,  1.02232124,  0.98663879,  1.07932535,\n",
              "        1.01637392,  1.00405833,  0.97162536,  1.03986293,  0.92127916,\n",
              "        1.13511017,  1.02064004,  0.99044305,  1.12176218,  1.08999419,\n",
              "        1.00187568,  1.21722799,  1.11746672,  0.94596155,  0.95818253,\n",
              "        0.9905502 ,  0.98909575,  0.98193069,  0.98936344,  1.18906429,\n",
              "        1.17058577,  1.06563932,  1.10367327,  0.9849895 ,  1.06081237,\n",
              "        1.02722049,  1.00885437,  1.02048992,  0.97789792,  1.00178527,\n",
              "        1.0973531 ,  0.98273509,  1.0444966 ,  1.10685624,  1.04510903,\n",
              "        1.29055272,  0.96704003,  0.97500529,  0.995789  ,  0.97183217,\n",
              "        0.95791481,  1.12938421,  1.28949643,  1.13476684,  1.01358127,\n",
              "        1.35305612,  1.12467451,  1.00570662,  1.07513695,  1.02722049,\n",
              "        0.97051148,  0.99386148,  1.07061329,  1.02078507,  1.11870151,\n",
              "        0.96353085,  0.97659536,  1.1381063 ,  1.20062624,  1.02212158,\n",
              "        0.98950181,  1.0590178 ,  1.15582121,  0.95093818,  1.22537256,\n",
              "        1.32369477,  0.9471768 , 26.79551576,  0.95853519,  0.96950344,\n",
              "        0.9760057 ,  0.98969908,  1.28701849,  1.10486342,  1.08733281,\n",
              "        0.98506441,  0.99612669,  1.06511878,  1.03283679,  0.94080508,\n",
              "        0.9932826 ,  0.995789  ,  1.30409719,  1.12215432,  1.09989847,\n",
              "        1.00462316,  1.06508447,  1.0404531 ,  0.93931047,  1.17776213,\n",
              "        1.0172084 ,  1.12467451,  1.32094043,  1.00557253, 35.46935   ,\n",
              "        0.97511367,  1.09000524,  1.15411951,  1.15411951,  0.97441659,\n",
              "        5.06971642,  1.00836771,  1.15786907,  1.05672725,  1.40262619,\n",
              "        1.00099309,  1.24460724,  0.99527002,  0.99255867,  1.24460724,\n",
              "        1.14246381,  1.10629453,  1.03279473,  1.35099947,  0.9073941 ,\n",
              "        1.36134167,  1.40412708,  1.33988277,  1.03237359,  1.31220308,\n",
              "        0.98157289,  1.17742638,  1.39439182,  1.10062057,  1.03760092,\n",
              "        1.08041061,  1.02499546,  1.22973992,  1.05601706,  0.96001564,\n",
              "        1.32513564,  1.13182408,  1.10569106,  1.06181494,  0.94813592,\n",
              "        1.08379381,  0.99612669,  1.46929685,  1.23649801,  1.11899235,\n",
              "        1.16500212,  1.11930617,  1.43758888,  1.0212535 ,  1.03345647,\n",
              "        1.30074647,  1.03028305,  0.88391166,  1.02763977,  1.13378212,\n",
              "        0.98932063,  1.32369477,  1.00941602,  1.0811027 ,  1.11359083,\n",
              "        1.05815846,  1.1760459 ,  0.99612669,  4.24673755,  0.98892177,\n",
              "        0.99639615,  1.02789443,  1.02539928,  1.02998885,  1.0043229 ,\n",
              "        1.05815846,  1.17392687,  1.00430733,  1.01665669,  1.00743069,\n",
              "        1.07755826,  1.14045423,  0.97722434,  0.9388996 ,  0.97303789,\n",
              "        1.3462066 ,  1.71633666,  1.11086792,  1.32094043,  1.01278478,\n",
              "        1.02239517,  1.07538021,  0.93716132,  1.32409347,  0.96814754,\n",
              "        0.96990856,  0.99079288,  1.37091875,  1.04785782,  1.15582121,\n",
              "        1.19792081,  1.02763977,  0.95898566,  0.94721617,  0.95207123,\n",
              "        0.94483734,  1.2574992 ,  0.99986464,  1.1715444 ,  0.96742529,\n",
              "        0.98706486,  1.38735342,  1.02220098,  1.24460724,  0.98430014,\n",
              "        1.0155732 ])"
            ]
          },
          "metadata": {
            "tags": []
          },
          "execution_count": 39
        }
      ]
    },
    {
      "cell_type": "code",
      "metadata": {
        "id": "nD9THEnLc9n5",
        "colab": {
          "base_uri": "https://localhost:8080/"
        },
        "outputId": "4649e817-907b-47a6-e765-57873d3f8055"
      },
      "source": [
        "scores"
      ],
      "execution_count": 40,
      "outputs": [
        {
          "output_type": "execute_result",
          "data": {
            "text/plain": [
              "array([-1,  1,  1,  1,  1,  1,  1,  1,  1,  1,  1,  1,  1,  1,  1,  1,  1,\n",
              "        1,  1,  1,  1,  1,  1,  1,  1,  1, -1,  1,  1,  1,  1,  1,  1,  1,\n",
              "        1,  1,  1,  1,  1,  1,  1,  1,  1,  1,  1,  1,  1,  1,  1,  1,  1,\n",
              "        1,  1,  1,  1,  1,  1,  1,  1,  1,  1,  1,  1,  1,  1,  1,  1,  1,\n",
              "        1,  1,  1,  1,  1,  1,  1,  1,  1,  1,  1,  1,  1,  1,  1,  1,  1,\n",
              "        1,  1,  1,  1,  1,  1,  1,  1,  1,  1,  1, -1,  1,  1,  1,  1,  1,\n",
              "        1,  1,  1,  1,  1,  1,  1,  1,  1,  1,  1,  1,  1,  1,  1,  1,  1,\n",
              "        1,  1,  1,  1,  1,  1,  1,  1,  1,  1,  1,  1,  1,  1,  1,  1,  1,\n",
              "        1,  1,  1,  1,  1,  1,  1,  1,  1,  1,  1,  1,  1, -1,  1,  1,  1,\n",
              "        1,  1,  1,  1,  1,  1,  1,  1,  1,  1,  1,  1,  1,  1,  1,  1,  1,\n",
              "        1,  1,  1,  1,  1,  1,  1,  1,  1,  1,  1,  1,  1,  1,  1,  1,  1,\n",
              "        1,  1,  1,  1,  1,  1,  1,  1,  1,  1,  1,  1,  1,  1,  1,  1,  1,\n",
              "        1,  1,  1,  1,  1,  1,  1,  1, -1,  1,  1,  1,  1,  1,  1,  1,  1,\n",
              "        1,  1,  1,  1,  1,  1,  1,  1,  1,  1,  1,  1,  1,  1,  1,  1,  1,\n",
              "        1,  1,  1, -1,  1, -1,  1,  1,  1,  1,  1,  1,  1,  1,  1,  1,  1,\n",
              "        1,  1,  1,  1, -1,  1,  1,  1,  1,  1,  1,  1,  1,  1,  1,  1,  1,\n",
              "        1,  1,  1,  1,  1,  1,  1,  1,  1,  1,  1,  1,  1,  1,  1,  1,  1,\n",
              "        1,  1,  1,  1,  1,  1,  1,  1,  1,  1,  1,  1,  1,  1,  1,  1,  1,\n",
              "        1,  1,  1,  1,  1,  1,  1,  1,  1,  1,  1,  1,  1,  1,  1,  1,  1,\n",
              "        1,  1,  1,  1,  1,  1,  1,  1,  1,  1,  1,  1,  1,  1,  1,  1,  1,\n",
              "        1,  1,  1,  1,  1,  1,  1,  1,  1,  1,  1,  1,  1,  1,  1,  1,  1,\n",
              "        1,  1,  1,  1,  1,  1,  1,  1,  1,  1,  1,  1,  1,  1,  1,  1,  1,\n",
              "        1,  1,  1,  1,  1,  1,  1,  1,  1,  1,  1,  1,  1,  1,  1,  1,  1,\n",
              "        1,  1,  1,  1,  1,  1,  1,  1,  1,  1,  1,  1,  1,  1,  1,  1,  1,\n",
              "        1,  1,  1,  1,  1,  1,  1,  1,  1,  1,  1,  1,  1,  1,  1,  1,  1,\n",
              "        1,  1,  1,  1,  1,  1,  1,  1,  1,  1,  1,  1,  1,  1,  1,  1,  1,\n",
              "        1,  1,  1,  1,  1,  1,  1,  1,  1,  1,  1,  1,  1,  1,  1,  1,  1,\n",
              "        1,  1,  1,  1,  1,  1,  1,  1,  1,  1,  1,  1,  1,  1,  1,  1,  1,\n",
              "        1,  1,  1,  1,  1,  1,  1,  1,  1,  1,  1,  1,  1,  1,  1,  1,  1,\n",
              "        1,  1,  1,  1,  1,  1,  1,  1,  1,  1,  1,  1,  1,  1,  1,  1,  1,\n",
              "        1,  1,  1,  1,  1,  1,  1,  1,  1,  1,  1,  1,  1,  1,  1,  1,  1,\n",
              "        1,  1,  1,  1,  1,  1,  1,  1,  1,  1,  1,  1,  1,  1,  1,  1,  1,\n",
              "        1,  1,  1,  1,  1,  1,  1,  1,  1,  1,  1,  1,  1,  1,  1,  1,  1,\n",
              "        1, -1,  1,  1,  1,  1,  1,  1,  1,  1,  1,  1,  1,  1,  1,  1,  1,\n",
              "        1,  1,  1,  1,  1,  1,  1,  1,  1,  1,  1, -1,  1,  1,  1,  1,  1,\n",
              "       -1,  1,  1,  1,  1,  1,  1,  1,  1,  1,  1,  1,  1,  1,  1,  1,  1,\n",
              "        1,  1,  1,  1,  1,  1,  1,  1,  1,  1,  1,  1,  1,  1,  1,  1,  1,\n",
              "        1,  1,  1,  1,  1,  1,  1,  1,  1,  1,  1,  1,  1,  1,  1,  1,  1,\n",
              "        1,  1,  1,  1,  1,  1,  1, -1,  1,  1,  1,  1,  1,  1,  1,  1,  1,\n",
              "        1,  1,  1,  1,  1,  1,  1,  1, -1,  1,  1,  1,  1,  1,  1,  1,  1,\n",
              "        1,  1,  1,  1,  1,  1,  1,  1,  1,  1,  1,  1,  1,  1,  1,  1,  1,\n",
              "        1,  1,  1,  1])"
            ]
          },
          "metadata": {
            "tags": []
          },
          "execution_count": 40
        }
      ]
    },
    {
      "cell_type": "code",
      "metadata": {
        "id": "nipEFPzndJYa",
        "colab": {
          "base_uri": "https://localhost:8080/"
        },
        "outputId": "9954a858-2f44-45be-ec2c-7069bffff7f1"
      },
      "source": [
        "invest_covidPe_lof['outlier'] = scores\n",
        "print(invest_covidPe_lof.head())"
      ],
      "execution_count": 41,
      "outputs": [
        {
          "output_type": "stream",
          "text": [
            "   month  tipo_favorecido city  Função  prog_orcamento      gastos  outlier\n",
            "0     16                2    8       3               0    60000.00       -1\n",
            "1     10                2    3       3               0  1174944.27        1\n",
            "2     10                2    7       3               0  4130446.89        1\n",
            "3     10                2    5       3               0  3830136.03        1\n",
            "4     10                2    2       3               0  3662675.00        1\n"
          ],
          "name": "stdout"
        }
      ]
    },
    {
      "cell_type": "code",
      "metadata": {
        "id": "YoaDBs3ldU8j",
        "colab": {
          "base_uri": "https://localhost:8080/",
          "height": 0
        },
        "outputId": "237a39d4-b899-4b97-d15e-4d1de38f8e0a"
      },
      "source": [
        "invest_covidPe_lof[invest_covidPe_lof['outlier'] == -1]"
      ],
      "execution_count": 42,
      "outputs": [
        {
          "output_type": "execute_result",
          "data": {
            "text/html": [
              "<div>\n",
              "<style scoped>\n",
              "    .dataframe tbody tr th:only-of-type {\n",
              "        vertical-align: middle;\n",
              "    }\n",
              "\n",
              "    .dataframe tbody tr th {\n",
              "        vertical-align: top;\n",
              "    }\n",
              "\n",
              "    .dataframe thead th {\n",
              "        text-align: right;\n",
              "    }\n",
              "</style>\n",
              "<table border=\"1\" class=\"dataframe\">\n",
              "  <thead>\n",
              "    <tr style=\"text-align: right;\">\n",
              "      <th></th>\n",
              "      <th>month</th>\n",
              "      <th>tipo_favorecido</th>\n",
              "      <th>city</th>\n",
              "      <th>Função</th>\n",
              "      <th>prog_orcamento</th>\n",
              "      <th>gastos</th>\n",
              "      <th>outlier</th>\n",
              "    </tr>\n",
              "  </thead>\n",
              "  <tbody>\n",
              "    <tr>\n",
              "      <th>0</th>\n",
              "      <td>16</td>\n",
              "      <td>2</td>\n",
              "      <td>8</td>\n",
              "      <td>3</td>\n",
              "      <td>0</td>\n",
              "      <td>60000.00</td>\n",
              "      <td>-1</td>\n",
              "    </tr>\n",
              "    <tr>\n",
              "      <th>26</th>\n",
              "      <td>14</td>\n",
              "      <td>2</td>\n",
              "      <td>8</td>\n",
              "      <td>0</td>\n",
              "      <td>2</td>\n",
              "      <td>2264395.80</td>\n",
              "      <td>-1</td>\n",
              "    </tr>\n",
              "    <tr>\n",
              "      <th>96</th>\n",
              "      <td>17</td>\n",
              "      <td>1</td>\n",
              "      <td>8</td>\n",
              "      <td>2</td>\n",
              "      <td>1</td>\n",
              "      <td>-534.86</td>\n",
              "      <td>-1</td>\n",
              "    </tr>\n",
              "    <tr>\n",
              "      <th>149</th>\n",
              "      <td>17</td>\n",
              "      <td>1</td>\n",
              "      <td>8</td>\n",
              "      <td>2</td>\n",
              "      <td>1</td>\n",
              "      <td>-1084.16</td>\n",
              "      <td>-1</td>\n",
              "    </tr>\n",
              "    <tr>\n",
              "      <th>212</th>\n",
              "      <td>17</td>\n",
              "      <td>1</td>\n",
              "      <td>7</td>\n",
              "      <td>2</td>\n",
              "      <td>1</td>\n",
              "      <td>12037.82</td>\n",
              "      <td>-1</td>\n",
              "    </tr>\n",
              "    <tr>\n",
              "      <th>241</th>\n",
              "      <td>17</td>\n",
              "      <td>1</td>\n",
              "      <td>8</td>\n",
              "      <td>2</td>\n",
              "      <td>1</td>\n",
              "      <td>-1248.01</td>\n",
              "      <td>-1</td>\n",
              "    </tr>\n",
              "    <tr>\n",
              "      <th>243</th>\n",
              "      <td>17</td>\n",
              "      <td>1</td>\n",
              "      <td>8</td>\n",
              "      <td>2</td>\n",
              "      <td>1</td>\n",
              "      <td>-2529.72</td>\n",
              "      <td>-1</td>\n",
              "    </tr>\n",
              "    <tr>\n",
              "      <th>259</th>\n",
              "      <td>17</td>\n",
              "      <td>1</td>\n",
              "      <td>2</td>\n",
              "      <td>2</td>\n",
              "      <td>1</td>\n",
              "      <td>1342.91</td>\n",
              "      <td>-1</td>\n",
              "    </tr>\n",
              "    <tr>\n",
              "      <th>562</th>\n",
              "      <td>8</td>\n",
              "      <td>1</td>\n",
              "      <td>8</td>\n",
              "      <td>2</td>\n",
              "      <td>1</td>\n",
              "      <td>-1619.02</td>\n",
              "      <td>-1</td>\n",
              "    </tr>\n",
              "    <tr>\n",
              "      <th>589</th>\n",
              "      <td>8</td>\n",
              "      <td>1</td>\n",
              "      <td>8</td>\n",
              "      <td>2</td>\n",
              "      <td>1</td>\n",
              "      <td>-3777.73</td>\n",
              "      <td>-1</td>\n",
              "    </tr>\n",
              "    <tr>\n",
              "      <th>595</th>\n",
              "      <td>0</td>\n",
              "      <td>2</td>\n",
              "      <td>8</td>\n",
              "      <td>3</td>\n",
              "      <td>0</td>\n",
              "      <td>60000.00</td>\n",
              "      <td>-1</td>\n",
              "    </tr>\n",
              "    <tr>\n",
              "      <th>653</th>\n",
              "      <td>9</td>\n",
              "      <td>2</td>\n",
              "      <td>1</td>\n",
              "      <td>3</td>\n",
              "      <td>0</td>\n",
              "      <td>17375.00</td>\n",
              "      <td>-1</td>\n",
              "    </tr>\n",
              "    <tr>\n",
              "      <th>671</th>\n",
              "      <td>3</td>\n",
              "      <td>2</td>\n",
              "      <td>8</td>\n",
              "      <td>0</td>\n",
              "      <td>2</td>\n",
              "      <td>2264395.80</td>\n",
              "      <td>-1</td>\n",
              "    </tr>\n",
              "  </tbody>\n",
              "</table>\n",
              "</div>"
            ],
            "text/plain": [
              "     month  tipo_favorecido city  Função  prog_orcamento      gastos  outlier\n",
              "0       16                2    8       3               0    60000.00       -1\n",
              "26      14                2    8       0               2  2264395.80       -1\n",
              "96      17                1    8       2               1     -534.86       -1\n",
              "149     17                1    8       2               1    -1084.16       -1\n",
              "212     17                1    7       2               1    12037.82       -1\n",
              "241     17                1    8       2               1    -1248.01       -1\n",
              "243     17                1    8       2               1    -2529.72       -1\n",
              "259     17                1    2       2               1     1342.91       -1\n",
              "562      8                1    8       2               1    -1619.02       -1\n",
              "589      8                1    8       2               1    -3777.73       -1\n",
              "595      0                2    8       3               0    60000.00       -1\n",
              "653      9                2    1       3               0    17375.00       -1\n",
              "671      3                2    8       0               2  2264395.80       -1"
            ]
          },
          "metadata": {
            "tags": []
          },
          "execution_count": 42
        }
      ]
    },
    {
      "cell_type": "code",
      "metadata": {
        "id": "g0eXFEW2dgSV",
        "colab": {
          "base_uri": "https://localhost:8080/"
        },
        "outputId": "039f2437-5940-4a3b-b4e1-2ed1e744b6c0"
      },
      "source": [
        "invest_covidPe_lof = invest_covidPe_lof[invest_covidPe_lof['outlier'] != -1]\n",
        "len(invest_covidPe_lof)"
      ],
      "execution_count": 43,
      "outputs": [
        {
          "output_type": "execute_result",
          "data": {
            "text/plain": [
              "688"
            ]
          },
          "metadata": {
            "tags": []
          },
          "execution_count": 43
        }
      ]
    },
    {
      "cell_type": "code",
      "metadata": {
        "id": "S5irO6nqfxtw",
        "colab": {
          "base_uri": "https://localhost:8080/",
          "height": 0
        },
        "outputId": "63f1d381-4975-4d4d-b372-a86f8e9b6fea"
      },
      "source": [
        "invest_covidPe_lof = invest_covidPe_lof[invest_covidPe_lof['outlier'] != -1]\n",
        "invest_covidPe_lof = invest_covidPe_lof.drop(columns=['outlier'])\n",
        "\n",
        "invest_covidPe_lof.head(5)"
      ],
      "execution_count": 44,
      "outputs": [
        {
          "output_type": "execute_result",
          "data": {
            "text/html": [
              "<div>\n",
              "<style scoped>\n",
              "    .dataframe tbody tr th:only-of-type {\n",
              "        vertical-align: middle;\n",
              "    }\n",
              "\n",
              "    .dataframe tbody tr th {\n",
              "        vertical-align: top;\n",
              "    }\n",
              "\n",
              "    .dataframe thead th {\n",
              "        text-align: right;\n",
              "    }\n",
              "</style>\n",
              "<table border=\"1\" class=\"dataframe\">\n",
              "  <thead>\n",
              "    <tr style=\"text-align: right;\">\n",
              "      <th></th>\n",
              "      <th>month</th>\n",
              "      <th>tipo_favorecido</th>\n",
              "      <th>city</th>\n",
              "      <th>Função</th>\n",
              "      <th>prog_orcamento</th>\n",
              "      <th>gastos</th>\n",
              "    </tr>\n",
              "  </thead>\n",
              "  <tbody>\n",
              "    <tr>\n",
              "      <th>1</th>\n",
              "      <td>10</td>\n",
              "      <td>2</td>\n",
              "      <td>3</td>\n",
              "      <td>3</td>\n",
              "      <td>0</td>\n",
              "      <td>1174944.27</td>\n",
              "    </tr>\n",
              "    <tr>\n",
              "      <th>2</th>\n",
              "      <td>10</td>\n",
              "      <td>2</td>\n",
              "      <td>7</td>\n",
              "      <td>3</td>\n",
              "      <td>0</td>\n",
              "      <td>4130446.89</td>\n",
              "    </tr>\n",
              "    <tr>\n",
              "      <th>3</th>\n",
              "      <td>10</td>\n",
              "      <td>2</td>\n",
              "      <td>5</td>\n",
              "      <td>3</td>\n",
              "      <td>0</td>\n",
              "      <td>3830136.03</td>\n",
              "    </tr>\n",
              "    <tr>\n",
              "      <th>4</th>\n",
              "      <td>10</td>\n",
              "      <td>2</td>\n",
              "      <td>2</td>\n",
              "      <td>3</td>\n",
              "      <td>0</td>\n",
              "      <td>3662675.00</td>\n",
              "    </tr>\n",
              "    <tr>\n",
              "      <th>5</th>\n",
              "      <td>10</td>\n",
              "      <td>2</td>\n",
              "      <td>4</td>\n",
              "      <td>3</td>\n",
              "      <td>0</td>\n",
              "      <td>7327021.87</td>\n",
              "    </tr>\n",
              "  </tbody>\n",
              "</table>\n",
              "</div>"
            ],
            "text/plain": [
              "   month  tipo_favorecido city  Função  prog_orcamento      gastos\n",
              "1     10                2    3       3               0  1174944.27\n",
              "2     10                2    7       3               0  4130446.89\n",
              "3     10                2    5       3               0  3830136.03\n",
              "4     10                2    2       3               0  3662675.00\n",
              "5     10                2    4       3               0  7327021.87"
            ]
          },
          "metadata": {
            "tags": []
          },
          "execution_count": 44
        }
      ]
    },
    {
      "cell_type": "code",
      "metadata": {
        "id": "Jua0_jyMlJGs",
        "colab": {
          "base_uri": "https://localhost:8080/"
        },
        "outputId": "d128fe60-78b6-4c90-d567-dacdd413bc48"
      },
      "source": [
        "covidPeCases['pop_estimada'] = covidPeCases['pop_estimada'].astype('int64')\n",
        "covidPeCases['taxa_mortalidade'] = covidPeCases['taxa_mortalidade'] * 100\n",
        "#covidPeCases['confirmados_por_populacao'] = (covidPeCases['confirmados_por_populacao'] * 100).round(2)\n",
        "#covidPeCases['gastos_por_habitante'] = (covidPeCases['gastos'] / covidPeCases['pop_estimada']).round(2)"
      ],
      "execution_count": 45,
      "outputs": [
        {
          "output_type": "stream",
          "text": [
            "/usr/local/lib/python3.7/dist-packages/ipykernel_launcher.py:1: SettingWithCopyWarning: \n",
            "A value is trying to be set on a copy of a slice from a DataFrame.\n",
            "Try using .loc[row_indexer,col_indexer] = value instead\n",
            "\n",
            "See the caveats in the documentation: https://pandas.pydata.org/pandas-docs/stable/user_guide/indexing.html#returning-a-view-versus-a-copy\n",
            "  \"\"\"Entry point for launching an IPython kernel.\n",
            "/usr/local/lib/python3.7/dist-packages/ipykernel_launcher.py:2: SettingWithCopyWarning: \n",
            "A value is trying to be set on a copy of a slice from a DataFrame.\n",
            "Try using .loc[row_indexer,col_indexer] = value instead\n",
            "\n",
            "See the caveats in the documentation: https://pandas.pydata.org/pandas-docs/stable/user_guide/indexing.html#returning-a-view-versus-a-copy\n",
            "  \n"
          ],
          "name": "stderr"
        }
      ]
    },
    {
      "cell_type": "code",
      "metadata": {
        "id": "9CSgMD1N88NY",
        "colab": {
          "base_uri": "https://localhost:8080/",
          "height": 0
        },
        "outputId": "0bc07c2b-b0c5-451e-d906-0090953c7973"
      },
      "source": [
        "invest_covidPe_lof"
      ],
      "execution_count": 46,
      "outputs": [
        {
          "output_type": "execute_result",
          "data": {
            "text/html": [
              "<div>\n",
              "<style scoped>\n",
              "    .dataframe tbody tr th:only-of-type {\n",
              "        vertical-align: middle;\n",
              "    }\n",
              "\n",
              "    .dataframe tbody tr th {\n",
              "        vertical-align: top;\n",
              "    }\n",
              "\n",
              "    .dataframe thead th {\n",
              "        text-align: right;\n",
              "    }\n",
              "</style>\n",
              "<table border=\"1\" class=\"dataframe\">\n",
              "  <thead>\n",
              "    <tr style=\"text-align: right;\">\n",
              "      <th></th>\n",
              "      <th>month</th>\n",
              "      <th>tipo_favorecido</th>\n",
              "      <th>city</th>\n",
              "      <th>Função</th>\n",
              "      <th>prog_orcamento</th>\n",
              "      <th>gastos</th>\n",
              "    </tr>\n",
              "  </thead>\n",
              "  <tbody>\n",
              "    <tr>\n",
              "      <th>1</th>\n",
              "      <td>10</td>\n",
              "      <td>2</td>\n",
              "      <td>3</td>\n",
              "      <td>3</td>\n",
              "      <td>0</td>\n",
              "      <td>1174944.27</td>\n",
              "    </tr>\n",
              "    <tr>\n",
              "      <th>2</th>\n",
              "      <td>10</td>\n",
              "      <td>2</td>\n",
              "      <td>7</td>\n",
              "      <td>3</td>\n",
              "      <td>0</td>\n",
              "      <td>4130446.89</td>\n",
              "    </tr>\n",
              "    <tr>\n",
              "      <th>3</th>\n",
              "      <td>10</td>\n",
              "      <td>2</td>\n",
              "      <td>5</td>\n",
              "      <td>3</td>\n",
              "      <td>0</td>\n",
              "      <td>3830136.03</td>\n",
              "    </tr>\n",
              "    <tr>\n",
              "      <th>4</th>\n",
              "      <td>10</td>\n",
              "      <td>2</td>\n",
              "      <td>2</td>\n",
              "      <td>3</td>\n",
              "      <td>0</td>\n",
              "      <td>3662675.00</td>\n",
              "    </tr>\n",
              "    <tr>\n",
              "      <th>5</th>\n",
              "      <td>10</td>\n",
              "      <td>2</td>\n",
              "      <td>4</td>\n",
              "      <td>3</td>\n",
              "      <td>0</td>\n",
              "      <td>7327021.87</td>\n",
              "    </tr>\n",
              "    <tr>\n",
              "      <th>...</th>\n",
              "      <td>...</td>\n",
              "      <td>...</td>\n",
              "      <td>...</td>\n",
              "      <td>...</td>\n",
              "      <td>...</td>\n",
              "      <td>...</td>\n",
              "    </tr>\n",
              "    <tr>\n",
              "      <th>696</th>\n",
              "      <td>1</td>\n",
              "      <td>2</td>\n",
              "      <td>4</td>\n",
              "      <td>3</td>\n",
              "      <td>0</td>\n",
              "      <td>7327021.87</td>\n",
              "    </tr>\n",
              "    <tr>\n",
              "      <th>697</th>\n",
              "      <td>7</td>\n",
              "      <td>2</td>\n",
              "      <td>8</td>\n",
              "      <td>3</td>\n",
              "      <td>0</td>\n",
              "      <td>3500000.00</td>\n",
              "    </tr>\n",
              "    <tr>\n",
              "      <th>698</th>\n",
              "      <td>4</td>\n",
              "      <td>2</td>\n",
              "      <td>7</td>\n",
              "      <td>3</td>\n",
              "      <td>0</td>\n",
              "      <td>8676053.00</td>\n",
              "    </tr>\n",
              "    <tr>\n",
              "      <th>699</th>\n",
              "      <td>4</td>\n",
              "      <td>2</td>\n",
              "      <td>1</td>\n",
              "      <td>3</td>\n",
              "      <td>0</td>\n",
              "      <td>1850000.00</td>\n",
              "    </tr>\n",
              "    <tr>\n",
              "      <th>700</th>\n",
              "      <td>5</td>\n",
              "      <td>2</td>\n",
              "      <td>7</td>\n",
              "      <td>0</td>\n",
              "      <td>2</td>\n",
              "      <td>516875.60</td>\n",
              "    </tr>\n",
              "  </tbody>\n",
              "</table>\n",
              "<p>688 rows × 6 columns</p>\n",
              "</div>"
            ],
            "text/plain": [
              "     month  tipo_favorecido city  Função  prog_orcamento      gastos\n",
              "1       10                2    3       3               0  1174944.27\n",
              "2       10                2    7       3               0  4130446.89\n",
              "3       10                2    5       3               0  3830136.03\n",
              "4       10                2    2       3               0  3662675.00\n",
              "5       10                2    4       3               0  7327021.87\n",
              "..     ...              ...  ...     ...             ...         ...\n",
              "696      1                2    4       3               0  7327021.87\n",
              "697      7                2    8       3               0  3500000.00\n",
              "698      4                2    7       3               0  8676053.00\n",
              "699      4                2    1       3               0  1850000.00\n",
              "700      5                2    7       0               2   516875.60\n",
              "\n",
              "[688 rows x 6 columns]"
            ]
          },
          "metadata": {
            "tags": []
          },
          "execution_count": 46
        }
      ]
    },
    {
      "cell_type": "markdown",
      "metadata": {
        "id": "o46zSVKnzZrY"
      },
      "source": [
        "# Projeto 2\n"
      ]
    },
    {
      "cell_type": "markdown",
      "metadata": {
        "id": "EDGXD-tA7v0m"
      },
      "source": [
        "\n",
        "1. Escolher uma\tdas\tcolunas\tdos\tdados\tutilizados\tno\tprojeto 1\tpara predição\t(classificação ou regressão)\t\n",
        "  * Classificação : Rótulos são categorias discretas\n",
        "  * Regressão: rótulos são valores contínuos\n",
        "2. Separar os\tdados\tem treinamento,\tvalidação\te\tteste\n",
        "3. Selecionar\t4\talgoritmos\tde\tacordo\tcom\ta\ttarefa escolhida\n",
        "no\tpasso\t1\t\n",
        "\n",
        " **Algoritmos de classificação:**\n",
        "\n",
        "* Scikit-Learn's Estimator API\n",
        "  - Vários algoritmos implementados\n",
        "  - Uniformidade\n",
        "  - Modelos para algoritmo Supervisionado: função predict e Não-supervisionado: função transform ou predict\n",
        "* Random Forest \n",
        "  - Vários estimadores combinados para evitar overfitting\n",
        "  - Não assume distribuição gaussiana, obtém ótimos resultados\n",
        "\n",
        "* Algoritmo de construção  \n",
        "  - Execução rápida, lida bem com dados ausentes\n",
        "  - Mostra a importância das features na classificação\n",
        "  \n",
        "\n",
        "**Medidas para avaliação da qualidade do modelo:**\n",
        "Os valores de erro são dados em '%'\n",
        "\n",
        "* Viés = Erro no treinamento - Erro Alvo (Desempenho no conjunto de treinamento)\n",
        "* Variância = Erro no teste - Erro no treinamento\n",
        "\n",
        "\n",
        "Possíveis cenários de viés e Variância\n",
        "\n",
        "Overfitting:\n",
        "  - Bom desempenho somente no conjunto de treinamento.\n",
        "  - Apresenta problemas para generalizar\n",
        "  - Ex : Erro no treinamento: 1%, Erro no teste: 11% (Baixo viés, Alta variância)\n",
        "  - Para melhorar o desempenho : Adicionar mais dados ao conjunto de treinamento, diminuir a complexidade do modelo, selecionar melhor as features.\n",
        "\n",
        "Underfitting:\n",
        "  - Não modela bem o conjunto de treinamento, problemas em generalizar\n",
        "  - Ex: Erro no treinamento 15%, Erro no teste: 16% (ALto viés, Baixa variância)\n",
        " - Para melhorar o desempenho : Aumentar a complexidade, adicionar mais features.\n",
        "\n",
        "Caso ideal:\n",
        "  - Erro no treinamento: 0.5%, Erro no teste: 1%\n"
      ]
    },
    {
      "cell_type": "markdown",
      "metadata": {
        "id": "yVCGA_mZ8g1h"
      },
      "source": [
        "## Classificação 1\n",
        "\n",
        "> Classificadores com baixa complexidade (Supervisionado)\n",
        "  * NaiveBayes\n",
        "  * Decision Tree"
      ]
    },
    {
      "cell_type": "markdown",
      "metadata": {
        "id": "v_C2k4AY1bXq"
      },
      "source": [
        "Preparando os dados"
      ]
    },
    {
      "cell_type": "code",
      "metadata": {
        "colab": {
          "base_uri": "https://localhost:8080/"
        },
        "id": "WIiiOvK2IzvF",
        "outputId": "82eb238c-a4d5-48d5-ccdc-333a29e2dc17"
      },
      "source": [
        "from sklearn.model_selection import train_test_split\n",
        "#Dividindo o dataframe em 60% para treinamento, 20% para validação e  20% para testes\n",
        "train_ratio = 0.60\n",
        "validation_ratio = 0.20\n",
        "test_ratio = 0.20\n",
        "\n",
        "ClassTest = invest_covidPe_lof\n",
        "X_ClassTest = ClassTest.drop('prog_orcamento', axis=1)\n",
        "Y_ClassTest = ClassTest['prog_orcamento']\n",
        "\n",
        "# train is now 60% of the entire data set\n",
        "Xtrain, Xtest, Ytrain, Ytest = train_test_split(X_ClassTest, Y_ClassTest, random_state=3, test_size= 1 - train_ratio)\n",
        "\n",
        "# test is now 20% of the initial data set\n",
        "# validation is now 20% of the initial data set\n",
        "Xval, Xtest, Yval, Ytest = train_test_split(Xtest, Ytest, random_state=3, test_size=test_ratio/(test_ratio + validation_ratio)) \n",
        "\n",
        "print(Xtrain['city'].count(), Xval['city'].count(), Xtest['city'].count())"
      ],
      "execution_count": 232,
      "outputs": [
        {
          "output_type": "stream",
          "text": [
            "412 138 138\n",
            "688\n"
          ],
          "name": "stdout"
        }
      ]
    },
    {
      "cell_type": "markdown",
      "metadata": {
        "id": "d0ZLSfnjrGxW"
      },
      "source": [
        "### Naive Bayes"
      ]
    },
    {
      "cell_type": "code",
      "metadata": {
        "id": "Jr-U_Z6a8Uyf"
      },
      "source": [
        "from sklearn.naive_bayes import GaussianNB   # 1. escolha da técnica\n",
        "NBmodel = GaussianNB()                       # 2. instanciação do modelo\n",
        "NBmodel.fit(Xtrain, Ytrain)                  # 3. criação do modelo\n",
        "Y_NBModel_test =  NBmodel.predict(Xtest)     # 4. predição com dados de teste\n",
        "Y_NBModel_train = NBmodel.predict(Xtrain)    # 5. predição com dados de treino "
      ],
      "execution_count": 233,
      "outputs": []
    },
    {
      "cell_type": "code",
      "metadata": {
        "id": "HtBp9v-w8VwX",
        "colab": {
          "base_uri": "https://localhost:8080/"
        },
        "outputId": "6a2e7909-d3f7-4980-94af-552c83346616"
      },
      "source": [
        "from sklearn.metrics import accuracy_score\n",
        "print(\"ACC TRAINING:\" + str(accuracy_score(Ytrain, Y_NBModel_train)))\n",
        "print(\"ACC TEST:\" + str(accuracy_score(Ytest, Y_NBModel_test)))"
      ],
      "execution_count": 234,
      "outputs": [
        {
          "output_type": "stream",
          "text": [
            "ACC TRAINING:0.8349514563106796\n",
            "ACC TEST:0.8695652173913043\n"
          ],
          "name": "stdout"
        }
      ]
    },
    {
      "cell_type": "code",
      "metadata": {
        "colab": {
          "base_uri": "https://localhost:8080/",
          "height": 285
        },
        "id": "j_WLaNpJ8pT5",
        "outputId": "bc81b9f7-954b-4790-99c8-0bbc68ee4934"
      },
      "source": [
        "from sklearn.metrics import confusion_matrix\n",
        "\n",
        "mat = confusion_matrix(Ytest, Y_NBModel_test)\n",
        "\n",
        "sns.heatmap(mat, square=True, annot=True, cbar=False)\n",
        "plt.xlabel('predicted value')\n",
        "plt.ylabel('true value');"
      ],
      "execution_count": 235,
      "outputs": [
        {
          "output_type": "display_data",
          "data": {
            "image/png": "[encoded data removed]",
            "text/plain": [
              "<Figure size 432x288 with 1 Axes>"
            ]
          },
          "metadata": {
            "tags": [],
            "needs_background": "light"
          }
        }
      ]
    },
    {
      "cell_type": "markdown",
      "metadata": {
        "id": "VO9OsW3orMVd"
      },
      "source": [
        "### Decision Tree"
      ]
    },
    {
      "cell_type": "code",
      "metadata": {
        "id": "NWHnB50wqYbb"
      },
      "source": [
        "from sklearn import tree                     # 1. escolha da técnica\n",
        "treeModel = tree.DecisionTreeClassifier()    # 2. instanciação do modelo\n",
        "treeModel.fit(Xtrain, Ytrain)                # 3. criação do modelo\n",
        "YTreeModel_test = treeModel.predict(Xtest)   # 4. predição com dados de teste\n",
        "YTreeModel_train = treeModel.predict(Xtrain) # 5. predição com dados de treino"
      ],
      "execution_count": 236,
      "outputs": []
    },
    {
      "cell_type": "code",
      "metadata": {
        "colab": {
          "base_uri": "https://localhost:8080/"
        },
        "id": "55oUAxtNsgpx",
        "outputId": "96ea86a9-479a-434c-cc7f-4a436e4016b0"
      },
      "source": [
        "print(\"ACC TRAINING:\" + str(accuracy_score(Ytrain, YTreeModel_train)))\n",
        "print(\"ACC TEST:\" + str(accuracy_score(Ytest, YTreeModel_test)))"
      ],
      "execution_count": 237,
      "outputs": [
        {
          "output_type": "stream",
          "text": [
            "ACC TRAINING:1.0\n",
            "ACC TEST:0.9782608695652174\n"
          ],
          "name": "stdout"
        }
      ]
    },
    {
      "cell_type": "code",
      "metadata": {
        "colab": {
          "base_uri": "https://localhost:8080/",
          "height": 796
        },
        "id": "qVJOhEDUtGl0",
        "outputId": "c678ffdf-a48f-4cdd-b777-4dcc6ef28c4a"
      },
      "source": [
        "import graphviz \n",
        "dot_data = tree.export_graphviz(treeModel, out_file=None,filled=True) \n",
        "graph = graphviz.Source(dot_data, format=\"png\") \n",
        "graph"
      ],
      "execution_count": 238,
      "outputs": [
        {
          "output_type": "execute_result",
          "data": {
            "text/plain": [
              "<graphviz.files.Source at 0x7f3e5e8f9cd0>"
            ],
            "image/svg+xml": "<?xml version=\"1.0\" encoding=\"UTF-8\" standalone=\"no\"?>\n<!DOCTYPE svg PUBLIC \"-//W3C//DTD SVG 1.1//EN\"\n \"http://www.w3.org/Graphics/SVG/1.1/DTD/svg11.dtd\">\n<!-- Generated by graphviz version 2.40.1 (20161225.0304)\n -->\n<!-- Title: Tree Pages: 1 -->\n<svg width=\"654pt\" height=\"581pt\"\n viewBox=\"0.00 0.00 653.50 581.00\" xmlns=\"http://www.w3.org/2000/svg\" xmlns:xlink=\"http://www.w3.org/1999/xlink\">\n<g id=\"graph0\" class=\"graph\" transform=\"scale(1 1) rotate(0) translate(4 577)\">\n<title>Tree</title>\n<polygon fill=\"#ffffff\" stroke=\"transparent\" points=\"-4,4 -4,-577 649.5,-577 649.5,4 -4,4\"/>\n<!-- 0 -->\n<g id=\"node1\" class=\"node\">\n<title>0</title>\n<polygon fill=\"#b0ef88\" stroke=\"#000000\" points=\"406,-573 236,-573 236,-505 406,-505 406,-573\"/>\n<text text-anchor=\"middle\" x=\"321\" y=\"-557.8\" font-family=\"Times,serif\" font-size=\"14.00\" fill=\"#000000\">X[1] &lt;= 1.5</text>\n<text text-anchor=\"middle\" x=\"321\" y=\"-542.8\" font-family=\"Times,serif\" font-size=\"14.00\" fill=\"#000000\">gini = 0.481</text>\n<text text-anchor=\"middle\" x=\"321\" y=\"-527.8\" font-family=\"Times,serif\" font-size=\"14.00\" fill=\"#000000\">samples = 412</text>\n<text text-anchor=\"middle\" x=\"321\" y=\"-512.8\" font-family=\"Times,serif\" font-size=\"14.00\" fill=\"#000000\">value = [86, 282, 33, 4, 7]</text>\n</g>\n<!-- 1 -->\n<g id=\"node2\" class=\"node\">\n<title>1</title>\n<polygon fill=\"#7ee63e\" stroke=\"#000000\" points=\"312.5,-469 157.5,-469 157.5,-401 312.5,-401 312.5,-469\"/>\n<text text-anchor=\"middle\" x=\"235\" y=\"-453.8\" font-family=\"Times,serif\" font-size=\"14.00\" fill=\"#000000\">X[3] &lt;= 1.5</text>\n<text text-anchor=\"middle\" x=\"235\" y=\"-438.8\" font-family=\"Times,serif\" font-size=\"14.00\" fill=\"#000000\">gini = 0.047</text>\n<text text-anchor=\"middle\" x=\"235\" y=\"-423.8\" font-family=\"Times,serif\" font-size=\"14.00\" fill=\"#000000\">samples = 289</text>\n<text text-anchor=\"middle\" x=\"235\" y=\"-408.8\" font-family=\"Times,serif\" font-size=\"14.00\" fill=\"#000000\">value = [0, 282, 0, 0, 7]</text>\n</g>\n<!-- 0&#45;&gt;1 -->\n<g id=\"edge1\" class=\"edge\">\n<title>0&#45;&gt;1</title>\n<path fill=\"none\" stroke=\"#000000\" d=\"M292.8404,-504.9465C285.4158,-495.968 277.3185,-486.1758 269.5972,-476.8385\"/>\n<polygon fill=\"#000000\" stroke=\"#000000\" points=\"272.2928,-474.606 263.2229,-469.13 266.8983,-479.0669 272.2928,-474.606\"/>\n<text text-anchor=\"middle\" x=\"260.865\" y=\"-490.3186\" font-family=\"Times,serif\" font-size=\"14.00\" fill=\"#000000\">True</text>\n</g>\n<!-- 4 -->\n<g id=\"node5\" class=\"node\">\n<title>4</title>\n<polygon fill=\"#f0b58a\" stroke=\"#000000\" points=\"485.5,-469 330.5,-469 330.5,-401 485.5,-401 485.5,-469\"/>\n<text text-anchor=\"middle\" x=\"408\" y=\"-453.8\" font-family=\"Times,serif\" font-size=\"14.00\" fill=\"#000000\">X[3] &lt;= 1.5</text>\n<text text-anchor=\"middle\" x=\"408\" y=\"-438.8\" font-family=\"Times,serif\" font-size=\"14.00\" fill=\"#000000\">gini = 0.438</text>\n<text text-anchor=\"middle\" x=\"408\" y=\"-423.8\" font-family=\"Times,serif\" font-size=\"14.00\" fill=\"#000000\">samples = 123</text>\n<text text-anchor=\"middle\" x=\"408\" y=\"-408.8\" font-family=\"Times,serif\" font-size=\"14.00\" fill=\"#000000\">value = [86, 0, 33, 4, 0]</text>\n</g>\n<!-- 0&#45;&gt;4 -->\n<g id=\"edge4\" class=\"edge\">\n<title>0&#45;&gt;4</title>\n<path fill=\"none\" stroke=\"#000000\" d=\"M349.4871,-504.9465C356.9979,-495.968 365.1895,-486.1758 373.0005,-476.8385\"/>\n<polygon fill=\"#000000\" stroke=\"#000000\" points=\"375.7171,-479.0459 379.4489,-469.13 370.348,-474.5544 375.7171,-479.0459\"/>\n<text text-anchor=\"middle\" x=\"381.6653\" y=\"-490.3316\" font-family=\"Times,serif\" font-size=\"14.00\" fill=\"#000000\">False</text>\n</g>\n<!-- 2 -->\n<g id=\"node3\" class=\"node\">\n<title>2</title>\n<polygon fill=\"#e539c0\" stroke=\"#000000\" points=\"140,-357.5 0,-357.5 0,-304.5 140,-304.5 140,-357.5\"/>\n<text text-anchor=\"middle\" x=\"70\" y=\"-342.3\" font-family=\"Times,serif\" font-size=\"14.00\" fill=\"#000000\">gini = 0.0</text>\n<text text-anchor=\"middle\" x=\"70\" y=\"-327.3\" font-family=\"Times,serif\" font-size=\"14.00\" fill=\"#000000\">samples = 7</text>\n<text text-anchor=\"middle\" x=\"70\" y=\"-312.3\" font-family=\"Times,serif\" font-size=\"14.00\" fill=\"#000000\">value = [0, 0, 0, 0, 7]</text>\n</g>\n<!-- 1&#45;&gt;2 -->\n<g id=\"edge2\" class=\"edge\">\n<title>1&#45;&gt;2</title>\n<path fill=\"none\" stroke=\"#000000\" d=\"M180.9728,-400.9465C161.5749,-388.72 139.7834,-374.9847 120.68,-362.9437\"/>\n<polygon fill=\"#000000\" stroke=\"#000000\" points=\"122.4362,-359.9135 112.1102,-357.5422 118.7036,-365.8353 122.4362,-359.9135\"/>\n</g>\n<!-- 3 -->\n<g id=\"node4\" class=\"node\">\n<title>3</title>\n<polygon fill=\"#7be539\" stroke=\"#000000\" points=\"313.5,-357.5 158.5,-357.5 158.5,-304.5 313.5,-304.5 313.5,-357.5\"/>\n<text text-anchor=\"middle\" x=\"236\" y=\"-342.3\" font-family=\"Times,serif\" font-size=\"14.00\" fill=\"#000000\">gini = 0.0</text>\n<text text-anchor=\"middle\" x=\"236\" y=\"-327.3\" font-family=\"Times,serif\" font-size=\"14.00\" fill=\"#000000\">samples = 282</text>\n<text text-anchor=\"middle\" x=\"236\" y=\"-312.3\" font-family=\"Times,serif\" font-size=\"14.00\" fill=\"#000000\">value = [0, 282, 0, 0, 0]</text>\n</g>\n<!-- 1&#45;&gt;3 -->\n<g id=\"edge3\" class=\"edge\">\n<title>1&#45;&gt;3</title>\n<path fill=\"none\" stroke=\"#000000\" d=\"M235.3274,-400.9465C235.4302,-390.2621 235.544,-378.4254 235.6483,-367.5742\"/>\n<polygon fill=\"#000000\" stroke=\"#000000\" points=\"239.1484,-367.5754 235.7448,-357.5422 232.1487,-367.508 239.1484,-367.5754\"/>\n</g>\n<!-- 5 -->\n<g id=\"node6\" class=\"node\">\n<title>5</title>\n<polygon fill=\"#51e8cc\" stroke=\"#000000\" points=\"480.5,-365 333.5,-365 333.5,-297 480.5,-297 480.5,-365\"/>\n<text text-anchor=\"middle\" x=\"407\" y=\"-349.8\" font-family=\"Times,serif\" font-size=\"14.00\" fill=\"#000000\">X[0] &lt;= 16.0</text>\n<text text-anchor=\"middle\" x=\"407\" y=\"-334.8\" font-family=\"Times,serif\" font-size=\"14.00\" fill=\"#000000\">gini = 0.193</text>\n<text text-anchor=\"middle\" x=\"407\" y=\"-319.8\" font-family=\"Times,serif\" font-size=\"14.00\" fill=\"#000000\">samples = 37</text>\n<text text-anchor=\"middle\" x=\"407\" y=\"-304.8\" font-family=\"Times,serif\" font-size=\"14.00\" fill=\"#000000\">value = [0, 0, 33, 4, 0]</text>\n</g>\n<!-- 4&#45;&gt;5 -->\n<g id=\"edge5\" class=\"edge\">\n<title>4&#45;&gt;5</title>\n<path fill=\"none\" stroke=\"#000000\" d=\"M407.6726,-400.9465C407.594,-392.776 407.509,-383.9318 407.4266,-375.3697\"/>\n<polygon fill=\"#000000\" stroke=\"#000000\" points=\"410.9243,-375.0958 407.3282,-365.13 403.9246,-375.1632 410.9243,-375.0958\"/>\n</g>\n<!-- 12 -->\n<g id=\"node13\" class=\"node\">\n<title>12</title>\n<polygon fill=\"#e58139\" stroke=\"#000000\" points=\"645.5,-357.5 498.5,-357.5 498.5,-304.5 645.5,-304.5 645.5,-357.5\"/>\n<text text-anchor=\"middle\" x=\"572\" y=\"-342.3\" font-family=\"Times,serif\" font-size=\"14.00\" fill=\"#000000\">gini = 0.0</text>\n<text text-anchor=\"middle\" x=\"572\" y=\"-327.3\" font-family=\"Times,serif\" font-size=\"14.00\" fill=\"#000000\">samples = 86</text>\n<text text-anchor=\"middle\" x=\"572\" y=\"-312.3\" font-family=\"Times,serif\" font-size=\"14.00\" fill=\"#000000\">value = [86, 0, 0, 0, 0]</text>\n</g>\n<!-- 4&#45;&gt;12 -->\n<g id=\"edge12\" class=\"edge\">\n<title>4&#45;&gt;12</title>\n<path fill=\"none\" stroke=\"#000000\" d=\"M461.6997,-400.9465C480.9801,-388.72 502.6396,-374.9847 521.6272,-362.9437\"/>\n<polygon fill=\"#000000\" stroke=\"#000000\" points=\"523.5744,-365.8534 530.145,-357.5422 519.8255,-359.9418 523.5744,-365.8534\"/>\n</g>\n<!-- 6 -->\n<g id=\"node7\" class=\"node\">\n<title>6</title>\n<polygon fill=\"#45e7c9\" stroke=\"#000000\" points=\"399.5,-261 252.5,-261 252.5,-193 399.5,-193 399.5,-261\"/>\n<text text-anchor=\"middle\" x=\"326\" y=\"-245.8\" font-family=\"Times,serif\" font-size=\"14.00\" fill=\"#000000\">X[0] &lt;= 7.0</text>\n<text text-anchor=\"middle\" x=\"326\" y=\"-230.8\" font-family=\"Times,serif\" font-size=\"14.00\" fill=\"#000000\">gini = 0.108</text>\n<text text-anchor=\"middle\" x=\"326\" y=\"-215.8\" font-family=\"Times,serif\" font-size=\"14.00\" fill=\"#000000\">samples = 35</text>\n<text text-anchor=\"middle\" x=\"326\" y=\"-200.8\" font-family=\"Times,serif\" font-size=\"14.00\" fill=\"#000000\">value = [0, 0, 33, 2, 0]</text>\n</g>\n<!-- 5&#45;&gt;6 -->\n<g id=\"edge6\" class=\"edge\">\n<title>5&#45;&gt;6</title>\n<path fill=\"none\" stroke=\"#000000\" d=\"M380.4776,-296.9465C373.5546,-288.0578 366.0106,-278.3716 358.804,-269.1188\"/>\n<polygon fill=\"#000000\" stroke=\"#000000\" points=\"361.488,-266.8688 352.582,-261.13 355.9654,-271.1701 361.488,-266.8688\"/>\n</g>\n<!-- 11 -->\n<g id=\"node12\" class=\"node\">\n<title>11</title>\n<polygon fill=\"#3c39e5\" stroke=\"#000000\" points=\"558,-253.5 418,-253.5 418,-200.5 558,-200.5 558,-253.5\"/>\n<text text-anchor=\"middle\" x=\"488\" y=\"-238.3\" font-family=\"Times,serif\" font-size=\"14.00\" fill=\"#000000\">gini = 0.0</text>\n<text text-anchor=\"middle\" x=\"488\" y=\"-223.3\" font-family=\"Times,serif\" font-size=\"14.00\" fill=\"#000000\">samples = 2</text>\n<text text-anchor=\"middle\" x=\"488\" y=\"-208.3\" font-family=\"Times,serif\" font-size=\"14.00\" fill=\"#000000\">value = [0, 0, 0, 2, 0]</text>\n</g>\n<!-- 5&#45;&gt;11 -->\n<g id=\"edge11\" class=\"edge\">\n<title>5&#45;&gt;11</title>\n<path fill=\"none\" stroke=\"#000000\" d=\"M433.5224,-296.9465C442.3587,-285.6012 452.2068,-272.9567 461.0734,-261.5724\"/>\n<polygon fill=\"#000000\" stroke=\"#000000\" points=\"463.9444,-263.5823 467.3277,-253.5422 458.4217,-259.281 463.9444,-263.5823\"/>\n</g>\n<!-- 7 -->\n<g id=\"node8\" class=\"node\">\n<title>7</title>\n<polygon fill=\"#39e5c5\" stroke=\"#000000\" points=\"317.5,-149.5 170.5,-149.5 170.5,-96.5 317.5,-96.5 317.5,-149.5\"/>\n<text text-anchor=\"middle\" x=\"244\" y=\"-134.3\" font-family=\"Times,serif\" font-size=\"14.00\" fill=\"#000000\">gini = 0.0</text>\n<text text-anchor=\"middle\" x=\"244\" y=\"-119.3\" font-family=\"Times,serif\" font-size=\"14.00\" fill=\"#000000\">samples = 22</text>\n<text text-anchor=\"middle\" x=\"244\" y=\"-104.3\" font-family=\"Times,serif\" font-size=\"14.00\" fill=\"#000000\">value = [0, 0, 22, 0, 0]</text>\n</g>\n<!-- 6&#45;&gt;7 -->\n<g id=\"edge7\" class=\"edge\">\n<title>6&#45;&gt;7</title>\n<path fill=\"none\" stroke=\"#000000\" d=\"M299.1501,-192.9465C290.2048,-181.6012 280.2351,-168.9567 271.259,-157.5724\"/>\n<polygon fill=\"#000000\" stroke=\"#000000\" points=\"273.8675,-155.2278 264.9275,-149.5422 268.3706,-159.5619 273.8675,-155.2278\"/>\n</g>\n<!-- 8 -->\n<g id=\"node9\" class=\"node\">\n<title>8</title>\n<polygon fill=\"#5dead0\" stroke=\"#000000\" points=\"482,-157 336,-157 336,-89 482,-89 482,-157\"/>\n<text text-anchor=\"middle\" x=\"409\" y=\"-141.8\" font-family=\"Times,serif\" font-size=\"14.00\" fill=\"#000000\">X[0] &lt;= 9.5</text>\n<text text-anchor=\"middle\" x=\"409\" y=\"-126.8\" font-family=\"Times,serif\" font-size=\"14.00\" fill=\"#000000\">gini = 0.26</text>\n<text text-anchor=\"middle\" x=\"409\" y=\"-111.8\" font-family=\"Times,serif\" font-size=\"14.00\" fill=\"#000000\">samples = 13</text>\n<text text-anchor=\"middle\" x=\"409\" y=\"-96.8\" font-family=\"Times,serif\" font-size=\"14.00\" fill=\"#000000\">value = [0, 0, 11, 2, 0]</text>\n</g>\n<!-- 6&#45;&gt;8 -->\n<g id=\"edge8\" class=\"edge\">\n<title>6&#45;&gt;8</title>\n<path fill=\"none\" stroke=\"#000000\" d=\"M353.1773,-192.9465C360.2712,-184.0578 368.0015,-174.3716 375.386,-165.1188\"/>\n<polygon fill=\"#000000\" stroke=\"#000000\" points=\"378.2594,-167.1293 381.7616,-157.13 372.7882,-162.7628 378.2594,-167.1293\"/>\n</g>\n<!-- 9 -->\n<g id=\"node10\" class=\"node\">\n<title>9</title>\n<polygon fill=\"#3c39e5\" stroke=\"#000000\" points=\"398,-53 258,-53 258,0 398,0 398,-53\"/>\n<text text-anchor=\"middle\" x=\"328\" y=\"-37.8\" font-family=\"Times,serif\" font-size=\"14.00\" fill=\"#000000\">gini = 0.0</text>\n<text text-anchor=\"middle\" x=\"328\" y=\"-22.8\" font-family=\"Times,serif\" font-size=\"14.00\" fill=\"#000000\">samples = 2</text>\n<text text-anchor=\"middle\" x=\"328\" y=\"-7.8\" font-family=\"Times,serif\" font-size=\"14.00\" fill=\"#000000\">value = [0, 0, 0, 2, 0]</text>\n</g>\n<!-- 8&#45;&gt;9 -->\n<g id=\"edge9\" class=\"edge\">\n<title>8&#45;&gt;9</title>\n<path fill=\"none\" stroke=\"#000000\" d=\"M380.4424,-88.9777C372.8331,-79.9123 364.6061,-70.111 356.9747,-61.0192\"/>\n<polygon fill=\"#000000\" stroke=\"#000000\" points=\"359.562,-58.6577 350.4521,-53.2485 354.2005,-63.1581 359.562,-58.6577\"/>\n</g>\n<!-- 10 -->\n<g id=\"node11\" class=\"node\">\n<title>10</title>\n<polygon fill=\"#39e5c5\" stroke=\"#000000\" points=\"562,-53 416,-53 416,0 562,0 562,-53\"/>\n<text text-anchor=\"middle\" x=\"489\" y=\"-37.8\" font-family=\"Times,serif\" font-size=\"14.00\" fill=\"#000000\">gini = 0.0</text>\n<text text-anchor=\"middle\" x=\"489\" y=\"-22.8\" font-family=\"Times,serif\" font-size=\"14.00\" fill=\"#000000\">samples = 11</text>\n<text text-anchor=\"middle\" x=\"489\" y=\"-7.8\" font-family=\"Times,serif\" font-size=\"14.00\" fill=\"#000000\">value = [0, 0, 11, 0, 0]</text>\n</g>\n<!-- 8&#45;&gt;10 -->\n<g id=\"edge10\" class=\"edge\">\n<title>8&#45;&gt;10</title>\n<path fill=\"none\" stroke=\"#000000\" d=\"M437.205,-88.9777C444.7204,-79.9123 452.8458,-70.111 460.383,-61.0192\"/>\n<polygon fill=\"#000000\" stroke=\"#000000\" points=\"463.1374,-63.1808 466.8251,-53.2485 457.7484,-58.7133 463.1374,-63.1808\"/>\n</g>\n</g>\n</svg>\n"
          },
          "metadata": {
            "tags": []
          },
          "execution_count": 238
        }
      ]
    },
    {
      "cell_type": "markdown",
      "metadata": {
        "id": "hxiL1dq6KUiD"
      },
      "source": [
        "### **F1Score**\n",
        "\n",
        "'micro':\n",
        "Calculate metrics globally by counting the total true positives, false negatives and false positives.\n",
        "\n",
        "'macro':\n",
        "Calculate metrics for each label, and find their unweighted mean. This does not take label imbalance into account.\n",
        "\n",
        "'weighted':\n",
        "Calculate metrics for each label, and find their average weighted by support (the number of true instances for each label). This alters ‘macro’ to account for label imbalance; it can result in an F-score that is not between precision and recall\n",
        "\n",
        "https://scikit-learn.org/stable/modules/model_evaluation.html"
      ]
    },
    {
      "cell_type": "markdown",
      "metadata": {
        "id": "d-fynwBP1lL1"
      },
      "source": [
        "Naive Bayes"
      ]
    },
    {
      "cell_type": "code",
      "metadata": {
        "id": "UV-lSg7FCbhJ",
        "colab": {
          "base_uri": "https://localhost:8080/"
        },
        "outputId": "30202242-0d14-47b2-a677-56f59a341399"
      },
      "source": [
        "from sklearn.metrics import f1_score\n",
        "print('Teste, Treino')\n",
        "print('Macro',f1_score(Y_NBModel_test, Ytest, average='macro'),f1_score(Y_NBModel_train, Ytrain, average='macro'))\n",
        "print('Micro',f1_score(Y_NBModel_test, Ytest, average='micro'),f1_score(Y_NBModel_train, Ytrain, average='micro'))\n",
        "print('Weighted',f1_score(Y_NBModel_test, Ytest, average='weighted'),f1_score(Y_NBModel_train, Ytrain, average='weighted'))\n",
        "print('None',f1_score(Y_NBModel_test, Ytest, average=None).max(),f1_score(Y_NBModel_train, Ytrain, average=None).max())"
      ],
      "execution_count": 239,
      "outputs": [
        {
          "output_type": "stream",
          "text": [
            "Teste, Treino\n",
            "Macro 0.5523731414733049 0.47825792632408515\n",
            "Micro 0.8695652173913043 0.8349514563106796\n",
            "Weighted 0.8532599513208028 0.8327998092140572\n",
            "None 0.9948186528497409 0.9823943661971831\n"
          ],
          "name": "stdout"
        }
      ]
    },
    {
      "cell_type": "markdown",
      "metadata": {
        "id": "6Y7mq7fF1mlU"
      },
      "source": [
        "Decision Tree"
      ]
    },
    {
      "cell_type": "code",
      "metadata": {
        "colab": {
          "base_uri": "https://localhost:8080/"
        },
        "id": "kfRIiRas1plX",
        "outputId": "40baec5d-c1b7-42fa-d2c6-8e23498f2cae"
      },
      "source": [
        "print('Teste, Treino')\n",
        "print('Macro',f1_score(YTreeModel_test, Ytest, average='macro'),f1_score(YTreeModel_train, Ytrain, average='macro'))\n",
        "print('Micro',f1_score(YTreeModel_test, Ytest, average='micro'),f1_score(YTreeModel_train, Ytrain, average='micro'))\n",
        "print('Weighted',f1_score(YTreeModel_test, Ytest, average='weighted'),f1_score(YTreeModel_train, Ytrain, average='weighted'))\n",
        "print('None',f1_score(YTreeModel_test, Ytest, average=None).max(),f1_score(YTreeModel_train, Ytrain, average=None).max())"
      ],
      "execution_count": 240,
      "outputs": [
        {
          "output_type": "stream",
          "text": [
            "Teste, Treino\n",
            "Macro 0.7269235280319024 1.0\n",
            "Micro 0.9782608695652174 1.0\n",
            "Weighted 0.9749861463825911 1.0\n",
            "None 0.989795918367347 1.0\n"
          ],
          "name": "stdout"
        }
      ]
    },
    {
      "cell_type": "markdown",
      "metadata": {
        "id": "QpcyCMyi8j6J"
      },
      "source": [
        "## Classificação 2\n",
        "> Classificadores com maior complexidade (Supervisionado)\n",
        "  * KNN\n",
        "  * Random Forest"
      ]
    },
    {
      "cell_type": "markdown",
      "metadata": {
        "id": "T3-0xYyOA4qf"
      },
      "source": [
        "### KNN"
      ]
    },
    {
      "cell_type": "code",
      "metadata": {
        "id": "wXLeOYMS8z-I"
      },
      "source": [
        "from sklearn.neighbors  import KNeighborsClassifier  # 1. escolha da técnica\n",
        "KNNmodel = KNeighborsClassifier(n_neighbors=1)        # 2. instanciação do modelo\n",
        "KNNmodel.fit(Xtrain, Ytrain)                          # 3. criação do modelo\n",
        "Y_KNNmodel_test =  KNNmodel.predict(Xtest)            # 4. predição com dados de teste\n",
        "Y_KNNmodel_train = KNNmodel.predict(Xtrain)           # 5. predição com dados de treino "
      ],
      "execution_count": 241,
      "outputs": []
    },
    {
      "cell_type": "code",
      "metadata": {
        "colab": {
          "base_uri": "https://localhost:8080/"
        },
        "id": "DElBH_EU-XqA",
        "outputId": "e1160e69-b769-4e4d-a8e8-0bcbd592df96"
      },
      "source": [
        "print(\"ACC TRAINING:\" + str(accuracy_score(Ytrain, Y_KNNmodel_train)))\n",
        "print(\"ACC TEST:\" + str(accuracy_score(Ytest, Y_KNNmodel_test)))"
      ],
      "execution_count": 242,
      "outputs": [
        {
          "output_type": "stream",
          "text": [
            "ACC TRAINING:1.0\n",
            "ACC TEST:0.927536231884058\n"
          ],
          "name": "stdout"
        }
      ]
    },
    {
      "cell_type": "markdown",
      "metadata": {
        "id": "tGpOnuHcAcBo"
      },
      "source": [
        "*Buscando os valor de K que deixa o modelo com acurácia maior. Variando de 1 à 31.* "
      ]
    },
    {
      "cell_type": "code",
      "metadata": {
        "colab": {
          "base_uri": "https://localhost:8080/"
        },
        "id": "K2aGMY-l_STc",
        "outputId": "f1816ddd-a104-4e80-9350-e20d8768de96"
      },
      "source": [
        "# varia o k de 1 a 30\n",
        "k_range = range(1, 31)\n",
        "\n",
        "k_scores = []\n",
        "\n",
        "for k in k_range:\n",
        "    knn = KNeighborsClassifier(n_neighbors=k)\n",
        "    scores = cross_val_score(knn, Xtrain, Ytrain, cv=5, scoring='accuracy')\n",
        "    k_scores.append(scores.mean())\n",
        "print(k_scores)"
      ],
      "execution_count": 243,
      "outputs": [
        {
          "output_type": "stream",
          "text": [
            "/usr/local/lib/python3.7/dist-packages/sklearn/model_selection/_split.py:667: UserWarning:\n",
            "\n",
            "The least populated class in y has only 4 members, which is less than n_splits=5.\n",
            "\n",
            "/usr/local/lib/python3.7/dist-packages/sklearn/model_selection/_split.py:667: UserWarning:\n",
            "\n",
            "The least populated class in y has only 4 members, which is less than n_splits=5.\n",
            "\n",
            "/usr/local/lib/python3.7/dist-packages/sklearn/model_selection/_split.py:667: UserWarning:\n",
            "\n",
            "The least populated class in y has only 4 members, which is less than n_splits=5.\n",
            "\n",
            "/usr/local/lib/python3.7/dist-packages/sklearn/model_selection/_split.py:667: UserWarning:\n",
            "\n",
            "The least populated class in y has only 4 members, which is less than n_splits=5.\n",
            "\n",
            "/usr/local/lib/python3.7/dist-packages/sklearn/model_selection/_split.py:667: UserWarning:\n",
            "\n",
            "The least populated class in y has only 4 members, which is less than n_splits=5.\n",
            "\n",
            "/usr/local/lib/python3.7/dist-packages/sklearn/model_selection/_split.py:667: UserWarning:\n",
            "\n",
            "The least populated class in y has only 4 members, which is less than n_splits=5.\n",
            "\n",
            "/usr/local/lib/python3.7/dist-packages/sklearn/model_selection/_split.py:667: UserWarning:\n",
            "\n",
            "The least populated class in y has only 4 members, which is less than n_splits=5.\n",
            "\n",
            "/usr/local/lib/python3.7/dist-packages/sklearn/model_selection/_split.py:667: UserWarning:\n",
            "\n",
            "The least populated class in y has only 4 members, which is less than n_splits=5.\n",
            "\n",
            "/usr/local/lib/python3.7/dist-packages/sklearn/model_selection/_split.py:667: UserWarning:\n",
            "\n",
            "The least populated class in y has only 4 members, which is less than n_splits=5.\n",
            "\n",
            "/usr/local/lib/python3.7/dist-packages/sklearn/model_selection/_split.py:667: UserWarning:\n",
            "\n",
            "The least populated class in y has only 4 members, which is less than n_splits=5.\n",
            "\n",
            "/usr/local/lib/python3.7/dist-packages/sklearn/model_selection/_split.py:667: UserWarning:\n",
            "\n",
            "The least populated class in y has only 4 members, which is less than n_splits=5.\n",
            "\n",
            "/usr/local/lib/python3.7/dist-packages/sklearn/model_selection/_split.py:667: UserWarning:\n",
            "\n",
            "The least populated class in y has only 4 members, which is less than n_splits=5.\n",
            "\n",
            "/usr/local/lib/python3.7/dist-packages/sklearn/model_selection/_split.py:667: UserWarning:\n",
            "\n",
            "The least populated class in y has only 4 members, which is less than n_splits=5.\n",
            "\n",
            "/usr/local/lib/python3.7/dist-packages/sklearn/model_selection/_split.py:667: UserWarning:\n",
            "\n",
            "The least populated class in y has only 4 members, which is less than n_splits=5.\n",
            "\n",
            "/usr/local/lib/python3.7/dist-packages/sklearn/model_selection/_split.py:667: UserWarning:\n",
            "\n",
            "The least populated class in y has only 4 members, which is less than n_splits=5.\n",
            "\n",
            "/usr/local/lib/python3.7/dist-packages/sklearn/model_selection/_split.py:667: UserWarning:\n",
            "\n",
            "The least populated class in y has only 4 members, which is less than n_splits=5.\n",
            "\n",
            "/usr/local/lib/python3.7/dist-packages/sklearn/model_selection/_split.py:667: UserWarning:\n",
            "\n",
            "The least populated class in y has only 4 members, which is less than n_splits=5.\n",
            "\n",
            "/usr/local/lib/python3.7/dist-packages/sklearn/model_selection/_split.py:667: UserWarning:\n",
            "\n",
            "The least populated class in y has only 4 members, which is less than n_splits=5.\n",
            "\n",
            "/usr/local/lib/python3.7/dist-packages/sklearn/model_selection/_split.py:667: UserWarning:\n",
            "\n",
            "The least populated class in y has only 4 members, which is less than n_splits=5.\n",
            "\n",
            "/usr/local/lib/python3.7/dist-packages/sklearn/model_selection/_split.py:667: UserWarning:\n",
            "\n",
            "The least populated class in y has only 4 members, which is less than n_splits=5.\n",
            "\n",
            "/usr/local/lib/python3.7/dist-packages/sklearn/model_selection/_split.py:667: UserWarning:\n",
            "\n",
            "The least populated class in y has only 4 members, which is less than n_splits=5.\n",
            "\n",
            "/usr/local/lib/python3.7/dist-packages/sklearn/model_selection/_split.py:667: UserWarning:\n",
            "\n",
            "The least populated class in y has only 4 members, which is less than n_splits=5.\n",
            "\n",
            "/usr/local/lib/python3.7/dist-packages/sklearn/model_selection/_split.py:667: UserWarning:\n",
            "\n",
            "The least populated class in y has only 4 members, which is less than n_splits=5.\n",
            "\n",
            "/usr/local/lib/python3.7/dist-packages/sklearn/model_selection/_split.py:667: UserWarning:\n",
            "\n",
            "The least populated class in y has only 4 members, which is less than n_splits=5.\n",
            "\n",
            "/usr/local/lib/python3.7/dist-packages/sklearn/model_selection/_split.py:667: UserWarning:\n",
            "\n",
            "The least populated class in y has only 4 members, which is less than n_splits=5.\n",
            "\n",
            "/usr/local/lib/python3.7/dist-packages/sklearn/model_selection/_split.py:667: UserWarning:\n",
            "\n",
            "The least populated class in y has only 4 members, which is less than n_splits=5.\n",
            "\n",
            "/usr/local/lib/python3.7/dist-packages/sklearn/model_selection/_split.py:667: UserWarning:\n",
            "\n",
            "The least populated class in y has only 4 members, which is less than n_splits=5.\n",
            "\n",
            "/usr/local/lib/python3.7/dist-packages/sklearn/model_selection/_split.py:667: UserWarning:\n",
            "\n",
            "The least populated class in y has only 4 members, which is less than n_splits=5.\n",
            "\n",
            "/usr/local/lib/python3.7/dist-packages/sklearn/model_selection/_split.py:667: UserWarning:\n",
            "\n",
            "The least populated class in y has only 4 members, which is less than n_splits=5.\n",
            "\n",
            "/usr/local/lib/python3.7/dist-packages/sklearn/model_selection/_split.py:667: UserWarning:\n",
            "\n",
            "The least populated class in y has only 4 members, which is less than n_splits=5.\n",
            "\n"
          ],
          "name": "stderr"
        },
        {
          "output_type": "stream",
          "text": [
            "[0.9150455480458419, 0.8736996767558036, 0.8785777255362914, 0.8761387011460476, 0.8713194240376139, 0.8640905083749633, 0.8786658830443725, 0.8834557743167792, 0.8907140758154568, 0.8858947987070233, 0.888333823097267, 0.8810461357625625, 0.8858947987070233, 0.8810755215985895, 0.8810755215985895, 0.8737584484278578, 0.8713194240376139, 0.8712900382015867, 0.8712900382015867, 0.8664707610931531, 0.86650014692918, 0.8616514839847194, 0.868939171319424, 0.8689097854833969, 0.8615927123126653, 0.8591536879224213, 0.8567146635321775, 0.8664413752571261, 0.8591536879224213, 0.8567440493682046]\n"
          ],
          "name": "stdout"
        }
      ]
    },
    {
      "cell_type": "code",
      "metadata": {
        "colab": {
          "base_uri": "https://localhost:8080/",
          "height": 302
        },
        "id": "gpSs5XvJ_5Um",
        "outputId": "5f948368-a884-4376-8d07-4dea074cb329"
      },
      "source": [
        "# plotando o valor de K versus a acurácia no cross-validation\n",
        "plt.plot(k_range, k_scores)\n",
        "plt.xlabel('Value of K for KNN')\n",
        "plt.ylabel('Cross-Validated Accuracy')"
      ],
      "execution_count": 244,
      "outputs": [
        {
          "output_type": "execute_result",
          "data": {
            "text/plain": [
              "Text(0, 0.5, 'Cross-Validated Accuracy')"
            ]
          },
          "metadata": {
            "tags": []
          },
          "execution_count": 244
        },
        {
          "output_type": "display_data",
          "data": {
            "image/png": "[encoded data removed]",
            "text/plain": [
              "<Figure size 432x288 with 1 Axes>"
            ]
          },
          "metadata": {
            "tags": [],
            "needs_background": "light"
          }
        }
      ]
    },
    {
      "cell_type": "markdown",
      "metadata": {
        "id": "hkmyrMCgR7xE"
      },
      "source": [
        "### **Otimizando os parâmetros**\n",
        "Escolhemos os seguintes parâmetros para serem otimizados:\n",
        "\n",
        "*   n_neighbors\n",
        "*   weights\n",
        "*   leaf_size\n",
        "\n",
        "\n"
      ]
    },
    {
      "cell_type": "code",
      "metadata": {
        "colab": {
          "base_uri": "https://localhost:8080/"
        },
        "id": "C6Vu1nwgRWmA",
        "outputId": "17adec9f-a342-4b4e-a270-6b2135a226be"
      },
      "source": [
        "  def eval_classifier_metrics(real_values, predict, train=True):\n",
        "    accuracy = accuracy_score(real_values, predict)\n",
        "    \n",
        "    if(train):\n",
        "        classifier_metrics = {'train_accuracy': accuracy}\n",
        "    else:\n",
        "        classifier_metrics = {'test_accuracy': accuracy}\n",
        "    \n",
        "    return classifier_metrics\n",
        "  \n",
        "  def objective(trial):\n",
        "    x_df = Xval\n",
        "    target = Yval\n",
        "    \n",
        "    classifier_name = trial.suggest_categorical('classifier', ['KNeighborsClassifier'])\n",
        "    n_neighbors  = trial.suggest_int('n_neighbors', 1, 20, step=1)\n",
        "    weights = trial.suggest_categorical('weights', ['uniform', 'distance'])\n",
        "    leaf_size = trial.suggest_int('leaf_size', 10, 60)\n",
        "    \n",
        "    classifier_obj = KNeighborsClassifier(n_neighbors=n_neighbors, weights=weights, leaf_size=leaf_size)\n",
        "    classifier_obj.fit(x_df, target)\n",
        "    predict = classifier_obj.predict(x_df)\n",
        "\n",
        "    metrics = eval_classifier_metrics(target, predict, False)\n",
        "    accuracy = metrics['test_accuracy']\n",
        "    return accuracy\n",
        "\n",
        "study = optuna.create_study(direction=\"maximize\")\n",
        "study.optimize(objective, n_trials=50)\n",
        "print(study.best_trial)"
      ],
      "execution_count": 265,
      "outputs": [
        {
          "output_type": "stream",
          "text": [
            "\u001b[32m[I 2021-04-20 17:14:51,651]\u001b[0m A new study created in memory with name: no-name-b7bbb10e-5069-49eb-bb8c-11634a22ba65\u001b[0m\n",
            "\u001b[32m[I 2021-04-20 17:14:51,661]\u001b[0m Trial 0 finished with value: 1.0 and parameters: {'classifier': 'KNeighborsClassifier', 'n_neighbors': 14, 'weights': 'distance', 'leaf_size': 11}. Best is trial 0 with value: 1.0.\u001b[0m\n",
            "\u001b[32m[I 2021-04-20 17:14:51,671]\u001b[0m Trial 1 finished with value: 1.0 and parameters: {'classifier': 'KNeighborsClassifier', 'n_neighbors': 7, 'weights': 'distance', 'leaf_size': 19}. Best is trial 0 with value: 1.0.\u001b[0m\n",
            "\u001b[32m[I 2021-04-20 17:14:51,686]\u001b[0m Trial 2 finished with value: 0.9202898550724637 and parameters: {'classifier': 'KNeighborsClassifier', 'n_neighbors': 14, 'weights': 'uniform', 'leaf_size': 10}. Best is trial 0 with value: 1.0.\u001b[0m\n",
            "\u001b[32m[I 2021-04-20 17:14:51,695]\u001b[0m Trial 3 finished with value: 1.0 and parameters: {'classifier': 'KNeighborsClassifier', 'n_neighbors': 4, 'weights': 'distance', 'leaf_size': 41}. Best is trial 0 with value: 1.0.\u001b[0m\n",
            "\u001b[32m[I 2021-04-20 17:14:51,710]\u001b[0m Trial 4 finished with value: 0.927536231884058 and parameters: {'classifier': 'KNeighborsClassifier', 'n_neighbors': 9, 'weights': 'uniform', 'leaf_size': 26}. Best is trial 0 with value: 1.0.\u001b[0m\n",
            "\u001b[32m[I 2021-04-20 17:14:51,724]\u001b[0m Trial 5 finished with value: 0.9202898550724637 and parameters: {'classifier': 'KNeighborsClassifier', 'n_neighbors': 18, 'weights': 'uniform', 'leaf_size': 60}. Best is trial 0 with value: 1.0.\u001b[0m\n",
            "\u001b[32m[I 2021-04-20 17:14:51,735]\u001b[0m Trial 6 finished with value: 1.0 and parameters: {'classifier': 'KNeighborsClassifier', 'n_neighbors': 20, 'weights': 'distance', 'leaf_size': 40}. Best is trial 0 with value: 1.0.\u001b[0m\n",
            "\u001b[32m[I 2021-04-20 17:14:51,751]\u001b[0m Trial 7 finished with value: 0.927536231884058 and parameters: {'classifier': 'KNeighborsClassifier', 'n_neighbors': 12, 'weights': 'uniform', 'leaf_size': 21}. Best is trial 0 with value: 1.0.\u001b[0m\n",
            "\u001b[32m[I 2021-04-20 17:14:51,768]\u001b[0m Trial 8 finished with value: 0.9202898550724637 and parameters: {'classifier': 'KNeighborsClassifier', 'n_neighbors': 16, 'weights': 'uniform', 'leaf_size': 58}. Best is trial 0 with value: 1.0.\u001b[0m\n",
            "\u001b[32m[I 2021-04-20 17:14:51,785]\u001b[0m Trial 9 finished with value: 1.0 and parameters: {'classifier': 'KNeighborsClassifier', 'n_neighbors': 1, 'weights': 'uniform', 'leaf_size': 46}. Best is trial 0 with value: 1.0.\u001b[0m\n",
            "\u001b[32m[I 2021-04-20 17:14:51,801]\u001b[0m Trial 10 finished with value: 1.0 and parameters: {'classifier': 'KNeighborsClassifier', 'n_neighbors': 11, 'weights': 'distance', 'leaf_size': 30}. Best is trial 0 with value: 1.0.\u001b[0m\n",
            "\u001b[32m[I 2021-04-20 17:14:51,815]\u001b[0m Trial 11 finished with value: 1.0 and parameters: {'classifier': 'KNeighborsClassifier', 'n_neighbors': 7, 'weights': 'distance', 'leaf_size': 11}. Best is trial 0 with value: 1.0.\u001b[0m\n",
            "\u001b[32m[I 2021-04-20 17:14:51,829]\u001b[0m Trial 12 finished with value: 1.0 and parameters: {'classifier': 'KNeighborsClassifier', 'n_neighbors': 7, 'weights': 'distance', 'leaf_size': 16}. Best is trial 0 with value: 1.0.\u001b[0m\n",
            "\u001b[32m[I 2021-04-20 17:14:51,842]\u001b[0m Trial 13 finished with value: 1.0 and parameters: {'classifier': 'KNeighborsClassifier', 'n_neighbors': 4, 'weights': 'distance', 'leaf_size': 18}. Best is trial 0 with value: 1.0.\u001b[0m\n",
            "\u001b[32m[I 2021-04-20 17:14:51,856]\u001b[0m Trial 14 finished with value: 1.0 and parameters: {'classifier': 'KNeighborsClassifier', 'n_neighbors': 14, 'weights': 'distance', 'leaf_size': 11}. Best is trial 0 with value: 1.0.\u001b[0m\n",
            "\u001b[32m[I 2021-04-20 17:14:51,870]\u001b[0m Trial 15 finished with value: 1.0 and parameters: {'classifier': 'KNeighborsClassifier', 'n_neighbors': 7, 'weights': 'distance', 'leaf_size': 25}. Best is trial 0 with value: 1.0.\u001b[0m\n",
            "\u001b[32m[I 2021-04-20 17:14:51,885]\u001b[0m Trial 16 finished with value: 1.0 and parameters: {'classifier': 'KNeighborsClassifier', 'n_neighbors': 9, 'weights': 'distance', 'leaf_size': 33}. Best is trial 0 with value: 1.0.\u001b[0m\n",
            "\u001b[32m[I 2021-04-20 17:14:51,898]\u001b[0m Trial 17 finished with value: 1.0 and parameters: {'classifier': 'KNeighborsClassifier', 'n_neighbors': 14, 'weights': 'distance', 'leaf_size': 11}. Best is trial 0 with value: 1.0.\u001b[0m\n",
            "\u001b[32m[I 2021-04-20 17:14:51,911]\u001b[0m Trial 18 finished with value: 1.0 and parameters: {'classifier': 'KNeighborsClassifier', 'n_neighbors': 3, 'weights': 'distance', 'leaf_size': 24}. Best is trial 0 with value: 1.0.\u001b[0m\n",
            "\u001b[32m[I 2021-04-20 17:14:51,926]\u001b[0m Trial 19 finished with value: 1.0 and parameters: {'classifier': 'KNeighborsClassifier', 'n_neighbors': 10, 'weights': 'distance', 'leaf_size': 52}. Best is trial 0 with value: 1.0.\u001b[0m\n",
            "\u001b[32m[I 2021-04-20 17:14:51,941]\u001b[0m Trial 20 finished with value: 1.0 and parameters: {'classifier': 'KNeighborsClassifier', 'n_neighbors': 17, 'weights': 'distance', 'leaf_size': 14}. Best is trial 0 with value: 1.0.\u001b[0m\n",
            "\u001b[32m[I 2021-04-20 17:14:51,956]\u001b[0m Trial 21 finished with value: 1.0 and parameters: {'classifier': 'KNeighborsClassifier', 'n_neighbors': 14, 'weights': 'distance', 'leaf_size': 25}. Best is trial 0 with value: 1.0.\u001b[0m\n",
            "\u001b[32m[I 2021-04-20 17:14:51,974]\u001b[0m Trial 22 finished with value: 1.0 and parameters: {'classifier': 'KNeighborsClassifier', 'n_neighbors': 1, 'weights': 'distance', 'leaf_size': 54}. Best is trial 0 with value: 1.0.\u001b[0m\n",
            "\u001b[32m[I 2021-04-20 17:14:51,990]\u001b[0m Trial 23 finished with value: 1.0 and parameters: {'classifier': 'KNeighborsClassifier', 'n_neighbors': 17, 'weights': 'distance', 'leaf_size': 49}. Best is trial 0 with value: 1.0.\u001b[0m\n",
            "\u001b[32m[I 2021-04-20 17:14:52,007]\u001b[0m Trial 24 finished with value: 1.0 and parameters: {'classifier': 'KNeighborsClassifier', 'n_neighbors': 20, 'weights': 'distance', 'leaf_size': 15}. Best is trial 0 with value: 1.0.\u001b[0m\n",
            "\u001b[32m[I 2021-04-20 17:14:52,023]\u001b[0m Trial 25 finished with value: 1.0 and parameters: {'classifier': 'KNeighborsClassifier', 'n_neighbors': 13, 'weights': 'distance', 'leaf_size': 38}. Best is trial 0 with value: 1.0.\u001b[0m\n",
            "\u001b[32m[I 2021-04-20 17:14:52,038]\u001b[0m Trial 26 finished with value: 1.0 and parameters: {'classifier': 'KNeighborsClassifier', 'n_neighbors': 18, 'weights': 'distance', 'leaf_size': 54}. Best is trial 0 with value: 1.0.\u001b[0m\n",
            "\u001b[32m[I 2021-04-20 17:14:52,055]\u001b[0m Trial 27 finished with value: 1.0 and parameters: {'classifier': 'KNeighborsClassifier', 'n_neighbors': 20, 'weights': 'distance', 'leaf_size': 30}. Best is trial 0 with value: 1.0.\u001b[0m\n",
            "\u001b[32m[I 2021-04-20 17:14:52,071]\u001b[0m Trial 28 finished with value: 1.0 and parameters: {'classifier': 'KNeighborsClassifier', 'n_neighbors': 12, 'weights': 'distance', 'leaf_size': 39}. Best is trial 0 with value: 1.0.\u001b[0m\n",
            "\u001b[32m[I 2021-04-20 17:14:52,086]\u001b[0m Trial 29 finished with value: 1.0 and parameters: {'classifier': 'KNeighborsClassifier', 'n_neighbors': 18, 'weights': 'distance', 'leaf_size': 45}. Best is trial 0 with value: 1.0.\u001b[0m\n",
            "\u001b[32m[I 2021-04-20 17:14:52,102]\u001b[0m Trial 30 finished with value: 1.0 and parameters: {'classifier': 'KNeighborsClassifier', 'n_neighbors': 19, 'weights': 'distance', 'leaf_size': 31}. Best is trial 0 with value: 1.0.\u001b[0m\n",
            "\u001b[32m[I 2021-04-20 17:14:52,118]\u001b[0m Trial 31 finished with value: 1.0 and parameters: {'classifier': 'KNeighborsClassifier', 'n_neighbors': 16, 'weights': 'distance', 'leaf_size': 36}. Best is trial 0 with value: 1.0.\u001b[0m\n",
            "\u001b[32m[I 2021-04-20 17:14:52,135]\u001b[0m Trial 32 finished with value: 1.0 and parameters: {'classifier': 'KNeighborsClassifier', 'n_neighbors': 15, 'weights': 'distance', 'leaf_size': 45}. Best is trial 0 with value: 1.0.\u001b[0m\n",
            "\u001b[32m[I 2021-04-20 17:14:52,150]\u001b[0m Trial 33 finished with value: 1.0 and parameters: {'classifier': 'KNeighborsClassifier', 'n_neighbors': 19, 'weights': 'distance', 'leaf_size': 44}. Best is trial 0 with value: 1.0.\u001b[0m\n",
            "\u001b[32m[I 2021-04-20 17:14:52,165]\u001b[0m Trial 34 finished with value: 1.0 and parameters: {'classifier': 'KNeighborsClassifier', 'n_neighbors': 16, 'weights': 'distance', 'leaf_size': 35}. Best is trial 0 with value: 1.0.\u001b[0m\n",
            "\u001b[32m[I 2021-04-20 17:14:52,182]\u001b[0m Trial 35 finished with value: 1.0 and parameters: {'classifier': 'KNeighborsClassifier', 'n_neighbors': 9, 'weights': 'distance', 'leaf_size': 14}. Best is trial 0 with value: 1.0.\u001b[0m\n",
            "\u001b[32m[I 2021-04-20 17:14:52,198]\u001b[0m Trial 36 finished with value: 1.0 and parameters: {'classifier': 'KNeighborsClassifier', 'n_neighbors': 15, 'weights': 'distance', 'leaf_size': 21}. Best is trial 0 with value: 1.0.\u001b[0m\n",
            "\u001b[32m[I 2021-04-20 17:14:52,217]\u001b[0m Trial 37 finished with value: 0.9202898550724637 and parameters: {'classifier': 'KNeighborsClassifier', 'n_neighbors': 13, 'weights': 'uniform', 'leaf_size': 27}. Best is trial 0 with value: 1.0.\u001b[0m\n",
            "\u001b[32m[I 2021-04-20 17:14:52,233]\u001b[0m Trial 38 finished with value: 1.0 and parameters: {'classifier': 'KNeighborsClassifier', 'n_neighbors': 14, 'weights': 'distance', 'leaf_size': 50}. Best is trial 0 with value: 1.0.\u001b[0m\n",
            "\u001b[32m[I 2021-04-20 17:14:52,257]\u001b[0m Trial 39 finished with value: 0.9130434782608695 and parameters: {'classifier': 'KNeighborsClassifier', 'n_neighbors': 20, 'weights': 'uniform', 'leaf_size': 57}. Best is trial 0 with value: 1.0.\u001b[0m\n",
            "\u001b[32m[I 2021-04-20 17:14:52,275]\u001b[0m Trial 40 finished with value: 1.0 and parameters: {'classifier': 'KNeighborsClassifier', 'n_neighbors': 17, 'weights': 'distance', 'leaf_size': 49}. Best is trial 0 with value: 1.0.\u001b[0m\n",
            "\u001b[32m[I 2021-04-20 17:14:52,290]\u001b[0m Trial 41 finished with value: 1.0 and parameters: {'classifier': 'KNeighborsClassifier', 'n_neighbors': 12, 'weights': 'distance', 'leaf_size': 55}. Best is trial 0 with value: 1.0.\u001b[0m\n",
            "\u001b[32m[I 2021-04-20 17:14:52,307]\u001b[0m Trial 42 finished with value: 1.0 and parameters: {'classifier': 'KNeighborsClassifier', 'n_neighbors': 13, 'weights': 'distance', 'leaf_size': 59}. Best is trial 0 with value: 1.0.\u001b[0m\n",
            "\u001b[32m[I 2021-04-20 17:14:52,320]\u001b[0m Trial 43 finished with value: 1.0 and parameters: {'classifier': 'KNeighborsClassifier', 'n_neighbors': 11, 'weights': 'distance', 'leaf_size': 41}. Best is trial 0 with value: 1.0.\u001b[0m\n",
            "\u001b[32m[I 2021-04-20 17:14:52,334]\u001b[0m Trial 44 finished with value: 1.0 and parameters: {'classifier': 'KNeighborsClassifier', 'n_neighbors': 18, 'weights': 'distance', 'leaf_size': 49}. Best is trial 0 with value: 1.0.\u001b[0m\n",
            "\u001b[32m[I 2021-04-20 17:14:52,348]\u001b[0m Trial 45 finished with value: 1.0 and parameters: {'classifier': 'KNeighborsClassifier', 'n_neighbors': 17, 'weights': 'distance', 'leaf_size': 38}. Best is trial 0 with value: 1.0.\u001b[0m\n",
            "\u001b[32m[I 2021-04-20 17:14:52,364]\u001b[0m Trial 46 finished with value: 1.0 and parameters: {'classifier': 'KNeighborsClassifier', 'n_neighbors': 20, 'weights': 'distance', 'leaf_size': 18}. Best is trial 0 with value: 1.0.\u001b[0m\n",
            "\u001b[32m[I 2021-04-20 17:14:52,380]\u001b[0m Trial 47 finished with value: 0.9202898550724637 and parameters: {'classifier': 'KNeighborsClassifier', 'n_neighbors': 19, 'weights': 'uniform', 'leaf_size': 21}. Best is trial 0 with value: 1.0.\u001b[0m\n",
            "\u001b[32m[I 2021-04-20 17:14:52,395]\u001b[0m Trial 48 finished with value: 1.0 and parameters: {'classifier': 'KNeighborsClassifier', 'n_neighbors': 10, 'weights': 'distance', 'leaf_size': 40}. Best is trial 0 with value: 1.0.\u001b[0m\n",
            "\u001b[32m[I 2021-04-20 17:14:52,409]\u001b[0m Trial 49 finished with value: 1.0 and parameters: {'classifier': 'KNeighborsClassifier', 'n_neighbors': 18, 'weights': 'distance', 'leaf_size': 44}. Best is trial 0 with value: 1.0.\u001b[0m\n"
          ],
          "name": "stderr"
        },
        {
          "output_type": "stream",
          "text": [
            "FrozenTrial(number=0, values=[1.0], datetime_start=datetime.datetime(2021, 4, 20, 17, 14, 51, 654781), datetime_complete=datetime.datetime(2021, 4, 20, 17, 14, 51, 661581), params={'classifier': 'KNeighborsClassifier', 'n_neighbors': 14, 'weights': 'distance', 'leaf_size': 11}, distributions={'classifier': CategoricalDistribution(choices=('KNeighborsClassifier',)), 'n_neighbors': IntUniformDistribution(high=20, low=1, step=1), 'weights': CategoricalDistribution(choices=('uniform', 'distance')), 'leaf_size': IntUniformDistribution(high=60, low=10, step=1)}, user_attrs={}, system_attrs={}, intermediate_values={}, trial_id=0, state=TrialState.COMPLETE, value=None)\n"
          ],
          "name": "stdout"
        }
      ]
    },
    {
      "cell_type": "markdown",
      "metadata": {
        "id": "-WV9gbCLSDZ5"
      },
      "source": [
        "Melhores valores estimados\n",
        "\n",
        "*   n_neighbors: 14\n",
        "*   weights: 'distance'\n",
        "*   leaf_size : 11"
      ]
    },
    {
      "cell_type": "code",
      "metadata": {
        "id": "8zh9WrsUS9Pz"
      },
      "source": [
        "from sklearn.neighbors  import KNeighborsClassifier  # 1. escolha da técnica\n",
        "Tunned_KNNmodel = KNeighborsClassifier(n_neighbors=13, weights='distance',leaf_size=11)        # 2. instanciação do modelo\n",
        "Tunned_KNNmodel.fit(Xtrain, Ytrain)                          # 3. criação do modelo\n",
        "TunnedY_KNNmodel_test =  Tunned_KNNmodel.predict(Xtest)            # 4. predição com dados de teste\n",
        "TunnedY_KNNmodel_train = Tunned_KNNmodel.predict(Xtrain)           # 5. predição com dados de treino "
      ],
      "execution_count": 270,
      "outputs": []
    },
    {
      "cell_type": "code",
      "metadata": {
        "colab": {
          "base_uri": "https://localhost:8080/"
        },
        "id": "Mx7Hdl7WTar1",
        "outputId": "7a30cfe4-b602-4e4c-b796-d5de4ed66fb0"
      },
      "source": [
        "print(\"ACC TRAINING:\" + str(accuracy_score(Ytrain, TunnedY_KNNmodel_train)))\n",
        "print(\"ACC TEST:\" + str(accuracy_score(Ytest, TunnedY_KNNmodel_test)))"
      ],
      "execution_count": 269,
      "outputs": [
        {
          "output_type": "stream",
          "text": [
            "ACC TRAINING:1.0\n",
            "ACC TEST:0.9420289855072463\n"
          ],
          "name": "stdout"
        }
      ]
    },
    {
      "cell_type": "markdown",
      "metadata": {
        "id": "9Rmg3ucSTntx"
      },
      "source": [
        "O modelo mostrou uma melhora de ~1,4% no teste após a otimização, passando de uma acurácia de 92,8% para 94,2%\n",
        "\n",
        "A acurácia de treinamento se manteve fixa em 100%"
      ]
    },
    {
      "cell_type": "markdown",
      "metadata": {
        "id": "1w9xphxzBc2w"
      },
      "source": [
        "### Random Forest"
      ]
    },
    {
      "cell_type": "code",
      "metadata": {
        "id": "3snMNsX3BlE1"
      },
      "source": [
        "from sklearn.ensemble  import RandomForestClassifier  # 1. escolha da técnica\n",
        "RFmodel = RandomForestClassifier(n_estimators=20)     # 2. instanciação do modelo\n",
        "RFmodel.fit(Xtrain, Ytrain)                           # 3. criação do modelo\n",
        "Y_RFmodel_test =  RFmodel.predict(Xtest)              # 4. predição com dados de teste\n",
        "Y_RFmodel_train = RFmodel.predict(Xtrain)             # 5. predição com dados de treino"
      ],
      "execution_count": 259,
      "outputs": []
    },
    {
      "cell_type": "code",
      "metadata": {
        "colab": {
          "base_uri": "https://localhost:8080/"
        },
        "id": "GEP19QW6DFZi",
        "outputId": "fd53b95e-7988-4b9d-e913-d1df5afc65f8"
      },
      "source": [
        "from sklearn.metrics import classification_report, confusion_matrix, accuracy_score\n",
        "\n",
        "print('Training')\n",
        "print(classification_report(Ytrain,Y_RFmodel_train))\n",
        "\n",
        "print('Test')\n",
        "print(classification_report(Ytest,Y_RFmodel_test))"
      ],
      "execution_count": 272,
      "outputs": [
        {
          "output_type": "stream",
          "text": [
            "Training\n",
            "              precision    recall  f1-score   support\n",
            "\n",
            "           0       1.00      1.00      1.00        86\n",
            "           1       1.00      1.00      1.00       282\n",
            "           2       1.00      1.00      1.00        33\n",
            "           3       1.00      1.00      1.00         4\n",
            "           4       1.00      1.00      1.00         7\n",
            "\n",
            "    accuracy                           1.00       412\n",
            "   macro avg       1.00      1.00      1.00       412\n",
            "weighted avg       1.00      1.00      1.00       412\n",
            "\n",
            "Test\n",
            "              precision    recall  f1-score   support\n",
            "\n",
            "           0       1.00      1.00      1.00        30\n",
            "           1       1.00      1.00      1.00        97\n",
            "           2       1.00      0.91      0.95        11\n",
            "           3       0.00      0.00      0.00         0\n",
            "\n",
            "    accuracy                           0.99       138\n",
            "   macro avg       0.75      0.73      0.74       138\n",
            "weighted avg       1.00      0.99      1.00       138\n",
            "\n",
            "ACC TRAINING:1.0\n",
            "ACC TEST:0.9927536231884058\n"
          ],
          "name": "stdout"
        },
        {
          "output_type": "stream",
          "text": [
            "/usr/local/lib/python3.7/dist-packages/sklearn/metrics/_classification.py:1272: UndefinedMetricWarning:\n",
            "\n",
            "Recall and F-score are ill-defined and being set to 0.0 in labels with no true samples. Use `zero_division` parameter to control this behavior.\n",
            "\n"
          ],
          "name": "stderr"
        }
      ]
    },
    {
      "cell_type": "code",
      "metadata": {
        "colab": {
          "base_uri": "https://localhost:8080/",
          "height": 285
        },
        "id": "UWkx7eXDDuzA",
        "outputId": "6d36240b-a693-434f-c205-53fe487c4d62"
      },
      "source": [
        "cm = confusion_matrix(Ytest,Y_RFmodel_test)\n",
        "\n",
        "sns.heatmap(cm, square=True, annot=True)\n",
        "plt.xlabel('predicted value')\n",
        "plt.ylabel('true value');"
      ],
      "execution_count": 261,
      "outputs": [
        {
          "output_type": "display_data",
          "data": {
            "image/png": "[encoded data removed]",
            "text/plain": [
              "<Figure size 432x288 with 2 Axes>"
            ]
          },
          "metadata": {
            "tags": [],
            "needs_background": "light"
          }
        }
      ]
    },
    {
      "cell_type": "markdown",
      "metadata": {
        "id": "maE3Dg1TFLIh"
      },
      "source": [
        "### **Otimizando os parâmetros**\n",
        "Escolhemos os seguintes parâmetros para serem otimizados:\n",
        "\n",
        "*   n_estimators\n",
        "*   max_depth\n",
        "*   max_features\n",
        "\n",
        "\n"
      ]
    },
    {
      "cell_type": "code",
      "metadata": {
        "id": "CJzhUsZ9FYYJ"
      },
      "source": [
        "import optuna\n",
        "import sklearn.model_selection"
      ],
      "execution_count": 248,
      "outputs": []
    },
    {
      "cell_type": "code",
      "metadata": {
        "colab": {
          "base_uri": "https://localhost:8080/"
        },
        "id": "9KpIz4c0GksZ",
        "outputId": "695e49cc-04d8-47af-fe76-710e7993c1ca"
      },
      "source": [
        "  def eval_classifier_metrics(real_values, predict, train=True):\n",
        "    accuracy = accuracy_score(real_values, predict)\n",
        "    \n",
        "    if(train):\n",
        "        classifier_metrics = {'train_accuracy': accuracy}\n",
        "    else:\n",
        "        classifier_metrics = {'test_accuracy': accuracy}\n",
        "    \n",
        "    return classifier_metrics\n",
        "  \n",
        "  def objective(trial):\n",
        "    x_df = Xval\n",
        "    target = Yval\n",
        "    \n",
        "    classifier_name = trial.suggest_categorical('classifier', ['RandomForestClassifier'])\n",
        "    n_estimators = trial.suggest_int('n_estimators', 10, 1000, step=10)\n",
        "    max_depth = trial.suggest_int('max_depth', 10, 110, step=1)\n",
        "    max_features = trial.suggest_categorical('max_features', ['auto', 'sqrt'])\n",
        "    \n",
        "    classifier_obj = RandomForestClassifier(n_estimators=n_estimators, max_depth=max_depth, max_features=max_features)\n",
        "    classifier_obj.fit(x_df, target)\n",
        "    predict = classifier_obj.predict(x_df)\n",
        "\n",
        "    metrics = eval_classifier_metrics(target, predict, False)\n",
        "    accuracy = metrics['test_accuracy']\n",
        "    return accuracy\n",
        "\n",
        "study = optuna.create_study(direction=\"maximize\")\n",
        "study.optimize(objective, n_trials=100)\n",
        "print(study.best_trial)"
      ],
      "execution_count": 250,
      "outputs": [
        {
          "output_type": "stream",
          "text": [
            "\u001b[32m[I 2021-04-20 16:50:40,934]\u001b[0m A new study created in memory with name: no-name-daef2236-321e-4b8d-bb75-b1cb9db267a2\u001b[0m\n",
            "\u001b[32m[I 2021-04-20 16:50:41,675]\u001b[0m Trial 0 finished with value: 1.0 and parameters: {'classifier': 'RandomForestClassifier', 'n_estimators': 520, 'max_depth': 43, 'max_features': 'auto'}. Best is trial 0 with value: 1.0.\u001b[0m\n",
            "\u001b[32m[I 2021-04-20 16:50:42,795]\u001b[0m Trial 1 finished with value: 1.0 and parameters: {'classifier': 'RandomForestClassifier', 'n_estimators': 820, 'max_depth': 106, 'max_features': 'auto'}. Best is trial 0 with value: 1.0.\u001b[0m\n",
            "\u001b[32m[I 2021-04-20 16:50:43,316]\u001b[0m Trial 2 finished with value: 1.0 and parameters: {'classifier': 'RandomForestClassifier', 'n_estimators': 380, 'max_depth': 56, 'max_features': 'sqrt'}. Best is trial 0 with value: 1.0.\u001b[0m\n",
            "\u001b[32m[I 2021-04-20 16:50:43,838]\u001b[0m Trial 3 finished with value: 1.0 and parameters: {'classifier': 'RandomForestClassifier', 'n_estimators': 370, 'max_depth': 17, 'max_features': 'sqrt'}. Best is trial 0 with value: 1.0.\u001b[0m\n",
            "\u001b[32m[I 2021-04-20 16:50:45,054]\u001b[0m Trial 4 finished with value: 1.0 and parameters: {'classifier': 'RandomForestClassifier', 'n_estimators': 880, 'max_depth': 74, 'max_features': 'auto'}. Best is trial 0 with value: 1.0.\u001b[0m\n",
            "\u001b[32m[I 2021-04-20 16:50:45,851]\u001b[0m Trial 5 finished with value: 1.0 and parameters: {'classifier': 'RandomForestClassifier', 'n_estimators': 570, 'max_depth': 85, 'max_features': 'auto'}. Best is trial 0 with value: 1.0.\u001b[0m\n",
            "\u001b[32m[I 2021-04-20 16:50:46,025]\u001b[0m Trial 6 finished with value: 1.0 and parameters: {'classifier': 'RandomForestClassifier', 'n_estimators': 120, 'max_depth': 105, 'max_features': 'sqrt'}. Best is trial 0 with value: 1.0.\u001b[0m\n",
            "\u001b[32m[I 2021-04-20 16:50:46,689]\u001b[0m Trial 7 finished with value: 1.0 and parameters: {'classifier': 'RandomForestClassifier', 'n_estimators': 480, 'max_depth': 38, 'max_features': 'auto'}. Best is trial 0 with value: 1.0.\u001b[0m\n",
            "\u001b[32m[I 2021-04-20 16:50:47,103]\u001b[0m Trial 8 finished with value: 1.0 and parameters: {'classifier': 'RandomForestClassifier', 'n_estimators': 290, 'max_depth': 55, 'max_features': 'auto'}. Best is trial 0 with value: 1.0.\u001b[0m\n",
            "\u001b[32m[I 2021-04-20 16:50:47,543]\u001b[0m Trial 9 finished with value: 1.0 and parameters: {'classifier': 'RandomForestClassifier', 'n_estimators': 310, 'max_depth': 36, 'max_features': 'auto'}. Best is trial 0 with value: 1.0.\u001b[0m\n",
            "\u001b[32m[I 2021-04-20 16:50:48,510]\u001b[0m Trial 10 finished with value: 1.0 and parameters: {'classifier': 'RandomForestClassifier', 'n_estimators': 690, 'max_depth': 19, 'max_features': 'auto'}. Best is trial 0 with value: 1.0.\u001b[0m\n",
            "\u001b[32m[I 2021-04-20 16:50:49,850]\u001b[0m Trial 11 finished with value: 1.0 and parameters: {'classifier': 'RandomForestClassifier', 'n_estimators': 970, 'max_depth': 104, 'max_features': 'auto'}. Best is trial 0 with value: 1.0.\u001b[0m\n",
            "\u001b[32m[I 2021-04-20 16:50:50,908]\u001b[0m Trial 12 finished with value: 1.0 and parameters: {'classifier': 'RandomForestClassifier', 'n_estimators': 770, 'max_depth': 37, 'max_features': 'auto'}. Best is trial 0 with value: 1.0.\u001b[0m\n",
            "\u001b[32m[I 2021-04-20 16:50:51,812]\u001b[0m Trial 13 finished with value: 1.0 and parameters: {'classifier': 'RandomForestClassifier', 'n_estimators': 660, 'max_depth': 74, 'max_features': 'auto'}. Best is trial 0 with value: 1.0.\u001b[0m\n",
            "\u001b[32m[I 2021-04-20 16:50:53,334]\u001b[0m Trial 14 finished with value: 1.0 and parameters: {'classifier': 'RandomForestClassifier', 'n_estimators': 990, 'max_depth': 93, 'max_features': 'auto'}. Best is trial 0 with value: 1.0.\u001b[0m\n",
            "\u001b[32m[I 2021-04-20 16:50:54,582]\u001b[0m Trial 15 finished with value: 1.0 and parameters: {'classifier': 'RandomForestClassifier', 'n_estimators': 890, 'max_depth': 46, 'max_features': 'auto'}. Best is trial 0 with value: 1.0.\u001b[0m\n",
            "\u001b[32m[I 2021-04-20 16:50:54,731]\u001b[0m Trial 16 finished with value: 1.0 and parameters: {'classifier': 'RandomForestClassifier', 'n_estimators': 100, 'max_depth': 68, 'max_features': 'sqrt'}. Best is trial 0 with value: 1.0.\u001b[0m\n",
            "\u001b[32m[I 2021-04-20 16:50:56,124]\u001b[0m Trial 17 finished with value: 1.0 and parameters: {'classifier': 'RandomForestClassifier', 'n_estimators': 990, 'max_depth': 93, 'max_features': 'auto'}. Best is trial 0 with value: 1.0.\u001b[0m\n",
            "\u001b[32m[I 2021-04-20 16:50:56,877]\u001b[0m Trial 18 finished with value: 1.0 and parameters: {'classifier': 'RandomForestClassifier', 'n_estimators': 540, 'max_depth': 46, 'max_features': 'auto'}. Best is trial 0 with value: 1.0.\u001b[0m\n",
            "\u001b[32m[I 2021-04-20 16:50:56,919]\u001b[0m Trial 19 finished with value: 1.0 and parameters: {'classifier': 'RandomForestClassifier', 'n_estimators': 20, 'max_depth': 68, 'max_features': 'sqrt'}. Best is trial 0 with value: 1.0.\u001b[0m\n",
            "\u001b[32m[I 2021-04-20 16:50:57,238]\u001b[0m Trial 20 finished with value: 1.0 and parameters: {'classifier': 'RandomForestClassifier', 'n_estimators': 220, 'max_depth': 27, 'max_features': 'auto'}. Best is trial 0 with value: 1.0.\u001b[0m\n",
            "\u001b[32m[I 2021-04-20 16:50:57,978]\u001b[0m Trial 21 finished with value: 1.0 and parameters: {'classifier': 'RandomForestClassifier', 'n_estimators': 520, 'max_depth': 48, 'max_features': 'auto'}. Best is trial 0 with value: 1.0.\u001b[0m\n",
            "\u001b[32m[I 2021-04-20 16:50:58,819]\u001b[0m Trial 22 finished with value: 1.0 and parameters: {'classifier': 'RandomForestClassifier', 'n_estimators': 600, 'max_depth': 64, 'max_features': 'sqrt'}. Best is trial 0 with value: 1.0.\u001b[0m\n",
            "\u001b[32m[I 2021-04-20 16:50:58,876]\u001b[0m Trial 23 finished with value: 1.0 and parameters: {'classifier': 'RandomForestClassifier', 'n_estimators': 30, 'max_depth': 31, 'max_features': 'sqrt'}. Best is trial 0 with value: 1.0.\u001b[0m\n",
            "\u001b[32m[I 2021-04-20 16:50:59,502]\u001b[0m Trial 24 finished with value: 1.0 and parameters: {'classifier': 'RandomForestClassifier', 'n_estimators': 450, 'max_depth': 26, 'max_features': 'auto'}. Best is trial 0 with value: 1.0.\u001b[0m\n",
            "\u001b[32m[I 2021-04-20 16:51:00,403]\u001b[0m Trial 25 finished with value: 1.0 and parameters: {'classifier': 'RandomForestClassifier', 'n_estimators': 630, 'max_depth': 46, 'max_features': 'sqrt'}. Best is trial 0 with value: 1.0.\u001b[0m\n",
            "\u001b[32m[I 2021-04-20 16:51:01,428]\u001b[0m Trial 26 finished with value: 1.0 and parameters: {'classifier': 'RandomForestClassifier', 'n_estimators': 730, 'max_depth': 11, 'max_features': 'sqrt'}. Best is trial 0 with value: 1.0.\u001b[0m\n",
            "\u001b[32m[I 2021-04-20 16:51:02,058]\u001b[0m Trial 27 finished with value: 1.0 and parameters: {'classifier': 'RandomForestClassifier', 'n_estimators': 440, 'max_depth': 27, 'max_features': 'sqrt'}. Best is trial 0 with value: 1.0.\u001b[0m\n",
            "\u001b[32m[I 2021-04-20 16:51:02,897]\u001b[0m Trial 28 finished with value: 1.0 and parameters: {'classifier': 'RandomForestClassifier', 'n_estimators': 610, 'max_depth': 20, 'max_features': 'sqrt'}. Best is trial 0 with value: 1.0.\u001b[0m\n",
            "\u001b[32m[I 2021-04-20 16:51:03,951]\u001b[0m Trial 29 finished with value: 1.0 and parameters: {'classifier': 'RandomForestClassifier', 'n_estimators': 750, 'max_depth': 10, 'max_features': 'sqrt'}. Best is trial 0 with value: 1.0.\u001b[0m\n",
            "\u001b[32m[I 2021-04-20 16:51:04,553]\u001b[0m Trial 30 finished with value: 1.0 and parameters: {'classifier': 'RandomForestClassifier', 'n_estimators': 430, 'max_depth': 15, 'max_features': 'sqrt'}. Best is trial 0 with value: 1.0.\u001b[0m\n",
            "\u001b[32m[I 2021-04-20 16:51:05,576]\u001b[0m Trial 31 finished with value: 1.0 and parameters: {'classifier': 'RandomForestClassifier', 'n_estimators': 730, 'max_depth': 23, 'max_features': 'sqrt'}. Best is trial 0 with value: 1.0.\u001b[0m\n",
            "\u001b[32m[I 2021-04-20 16:51:06,713]\u001b[0m Trial 32 finished with value: 1.0 and parameters: {'classifier': 'RandomForestClassifier', 'n_estimators': 820, 'max_depth': 10, 'max_features': 'sqrt'}. Best is trial 0 with value: 1.0.\u001b[0m\n",
            "\u001b[32m[I 2021-04-20 16:51:07,222]\u001b[0m Trial 33 finished with value: 1.0 and parameters: {'classifier': 'RandomForestClassifier', 'n_estimators': 360, 'max_depth': 14, 'max_features': 'sqrt'}. Best is trial 0 with value: 1.0.\u001b[0m\n",
            "\u001b[32m[I 2021-04-20 16:51:08,349]\u001b[0m Trial 34 finished with value: 1.0 and parameters: {'classifier': 'RandomForestClassifier', 'n_estimators': 820, 'max_depth': 22, 'max_features': 'sqrt'}. Best is trial 0 with value: 1.0.\u001b[0m\n",
            "\u001b[32m[I 2021-04-20 16:51:08,593]\u001b[0m Trial 35 finished with value: 1.0 and parameters: {'classifier': 'RandomForestClassifier', 'n_estimators': 170, 'max_depth': 51, 'max_features': 'auto'}. Best is trial 0 with value: 1.0.\u001b[0m\n",
            "\u001b[32m[I 2021-04-20 16:51:09,311]\u001b[0m Trial 36 finished with value: 1.0 and parameters: {'classifier': 'RandomForestClassifier', 'n_estimators': 510, 'max_depth': 62, 'max_features': 'auto'}. Best is trial 0 with value: 1.0.\u001b[0m\n",
            "\u001b[32m[I 2021-04-20 16:51:10,100]\u001b[0m Trial 37 finished with value: 1.0 and parameters: {'classifier': 'RandomForestClassifier', 'n_estimators': 570, 'max_depth': 61, 'max_features': 'auto'}. Best is trial 0 with value: 1.0.\u001b[0m\n",
            "\u001b[32m[I 2021-04-20 16:51:10,957]\u001b[0m Trial 38 finished with value: 1.0 and parameters: {'classifier': 'RandomForestClassifier', 'n_estimators': 600, 'max_depth': 39, 'max_features': 'sqrt'}. Best is trial 0 with value: 1.0.\u001b[0m\n",
            "\u001b[32m[I 2021-04-20 16:51:11,505]\u001b[0m Trial 39 finished with value: 1.0 and parameters: {'classifier': 'RandomForestClassifier', 'n_estimators': 390, 'max_depth': 53, 'max_features': 'sqrt'}. Best is trial 0 with value: 1.0.\u001b[0m\n",
            "\u001b[32m[I 2021-04-20 16:51:12,180]\u001b[0m Trial 40 finished with value: 1.0 and parameters: {'classifier': 'RandomForestClassifier', 'n_estimators': 470, 'max_depth': 31, 'max_features': 'sqrt'}. Best is trial 0 with value: 1.0.\u001b[0m\n",
            "\u001b[32m[I 2021-04-20 16:51:13,094]\u001b[0m Trial 41 finished with value: 1.0 and parameters: {'classifier': 'RandomForestClassifier', 'n_estimators': 650, 'max_depth': 42, 'max_features': 'sqrt'}. Best is trial 0 with value: 1.0.\u001b[0m\n",
            "\u001b[32m[I 2021-04-20 16:51:14,120]\u001b[0m Trial 42 finished with value: 1.0 and parameters: {'classifier': 'RandomForestClassifier', 'n_estimators': 720, 'max_depth': 32, 'max_features': 'sqrt'}. Best is trial 0 with value: 1.0.\u001b[0m\n",
            "\u001b[32m[I 2021-04-20 16:51:14,148]\u001b[0m Trial 43 finished with value: 0.9927536231884058 and parameters: {'classifier': 'RandomForestClassifier', 'n_estimators': 10, 'max_depth': 30, 'max_features': 'sqrt'}. Best is trial 0 with value: 1.0.\u001b[0m\n",
            "\u001b[32m[I 2021-04-20 16:51:14,790]\u001b[0m Trial 44 finished with value: 1.0 and parameters: {'classifier': 'RandomForestClassifier', 'n_estimators': 460, 'max_depth': 24, 'max_features': 'sqrt'}. Best is trial 0 with value: 1.0.\u001b[0m\n",
            "\u001b[32m[I 2021-04-20 16:51:15,667]\u001b[0m Trial 45 finished with value: 1.0 and parameters: {'classifier': 'RandomForestClassifier', 'n_estimators': 630, 'max_depth': 16, 'max_features': 'sqrt'}. Best is trial 0 with value: 1.0.\u001b[0m\n",
            "\u001b[32m[I 2021-04-20 16:51:16,285]\u001b[0m Trial 46 finished with value: 1.0 and parameters: {'classifier': 'RandomForestClassifier', 'n_estimators': 410, 'max_depth': 41, 'max_features': 'auto'}. Best is trial 0 with value: 1.0.\u001b[0m\n",
            "\u001b[32m[I 2021-04-20 16:51:17,252]\u001b[0m Trial 47 finished with value: 1.0 and parameters: {'classifier': 'RandomForestClassifier', 'n_estimators': 680, 'max_depth': 19, 'max_features': 'sqrt'}. Best is trial 0 with value: 1.0.\u001b[0m\n",
            "\u001b[32m[I 2021-04-20 16:51:18,500]\u001b[0m Trial 48 finished with value: 1.0 and parameters: {'classifier': 'RandomForestClassifier', 'n_estimators': 900, 'max_depth': 11, 'max_features': 'sqrt'}. Best is trial 0 with value: 1.0.\u001b[0m\n",
            "\u001b[32m[I 2021-04-20 16:51:19,521]\u001b[0m Trial 49 finished with value: 1.0 and parameters: {'classifier': 'RandomForestClassifier', 'n_estimators': 740, 'max_depth': 11, 'max_features': 'sqrt'}. Best is trial 0 with value: 1.0.\u001b[0m\n",
            "\u001b[32m[I 2021-04-20 16:51:20,002]\u001b[0m Trial 50 finished with value: 1.0 and parameters: {'classifier': 'RandomForestClassifier', 'n_estimators': 340, 'max_depth': 18, 'max_features': 'sqrt'}. Best is trial 0 with value: 1.0.\u001b[0m\n",
            "\u001b[32m[I 2021-04-20 16:51:20,569]\u001b[0m Trial 51 finished with value: 1.0 and parameters: {'classifier': 'RandomForestClassifier', 'n_estimators': 410, 'max_depth': 21, 'max_features': 'sqrt'}. Best is trial 0 with value: 1.0.\u001b[0m\n",
            "\u001b[32m[I 2021-04-20 16:51:21,410]\u001b[0m Trial 52 finished with value: 1.0 and parameters: {'classifier': 'RandomForestClassifier', 'n_estimators': 570, 'max_depth': 35, 'max_features': 'sqrt'}. Best is trial 0 with value: 1.0.\u001b[0m\n",
            "\u001b[32m[I 2021-04-20 16:51:22,571]\u001b[0m Trial 53 finished with value: 1.0 and parameters: {'classifier': 'RandomForestClassifier', 'n_estimators': 810, 'max_depth': 14, 'max_features': 'sqrt'}. Best is trial 0 with value: 1.0.\u001b[0m\n",
            "\u001b[32m[I 2021-04-20 16:51:23,662]\u001b[0m Trial 54 finished with value: 1.0 and parameters: {'classifier': 'RandomForestClassifier', 'n_estimators': 780, 'max_depth': 11, 'max_features': 'sqrt'}. Best is trial 0 with value: 1.0.\u001b[0m\n",
            "\u001b[32m[I 2021-04-20 16:51:24,059]\u001b[0m Trial 55 finished with value: 1.0 and parameters: {'classifier': 'RandomForestClassifier', 'n_estimators': 270, 'max_depth': 15, 'max_features': 'sqrt'}. Best is trial 0 with value: 1.0.\u001b[0m\n",
            "\u001b[32m[I 2021-04-20 16:51:25,329]\u001b[0m Trial 56 finished with value: 1.0 and parameters: {'classifier': 'RandomForestClassifier', 'n_estimators': 910, 'max_depth': 14, 'max_features': 'sqrt'}. Best is trial 0 with value: 1.0.\u001b[0m\n",
            "\u001b[32m[I 2021-04-20 16:51:26,501]\u001b[0m Trial 57 finished with value: 1.0 and parameters: {'classifier': 'RandomForestClassifier', 'n_estimators': 840, 'max_depth': 23, 'max_features': 'sqrt'}. Best is trial 0 with value: 1.0.\u001b[0m\n",
            "\u001b[32m[I 2021-04-20 16:51:27,810]\u001b[0m Trial 58 finished with value: 1.0 and parameters: {'classifier': 'RandomForestClassifier', 'n_estimators': 940, 'max_depth': 22, 'max_features': 'sqrt'}. Best is trial 0 with value: 1.0.\u001b[0m\n",
            "\u001b[32m[I 2021-04-20 16:51:27,996]\u001b[0m Trial 59 finished with value: 1.0 and parameters: {'classifier': 'RandomForestClassifier', 'n_estimators': 120, 'max_depth': 58, 'max_features': 'auto'}. Best is trial 0 with value: 1.0.\u001b[0m\n",
            "\u001b[32m[I 2021-04-20 16:51:28,272]\u001b[0m Trial 60 finished with value: 1.0 and parameters: {'classifier': 'RandomForestClassifier', 'n_estimators': 180, 'max_depth': 49, 'max_features': 'auto'}. Best is trial 0 with value: 1.0.\u001b[0m\n",
            "\u001b[32m[I 2021-04-20 16:51:28,965]\u001b[0m Trial 61 finished with value: 1.0 and parameters: {'classifier': 'RandomForestClassifier', 'n_estimators': 500, 'max_depth': 62, 'max_features': 'auto'}. Best is trial 0 with value: 1.0.\u001b[0m\n",
            "\u001b[32m[I 2021-04-20 16:51:29,758]\u001b[0m Trial 62 finished with value: 1.0 and parameters: {'classifier': 'RandomForestClassifier', 'n_estimators': 560, 'max_depth': 80, 'max_features': 'auto'}. Best is trial 0 with value: 1.0.\u001b[0m\n",
            "\u001b[32m[I 2021-04-20 16:51:30,534]\u001b[0m Trial 63 finished with value: 1.0 and parameters: {'classifier': 'RandomForestClassifier', 'n_estimators': 530, 'max_depth': 55, 'max_features': 'auto'}. Best is trial 0 with value: 1.0.\u001b[0m\n",
            "\u001b[32m[I 2021-04-20 16:51:31,048]\u001b[0m Trial 64 finished with value: 1.0 and parameters: {'classifier': 'RandomForestClassifier', 'n_estimators': 360, 'max_depth': 67, 'max_features': 'auto'}. Best is trial 0 with value: 1.0.\u001b[0m\n",
            "\u001b[32m[I 2021-04-20 16:51:31,772]\u001b[0m Trial 65 finished with value: 1.0 and parameters: {'classifier': 'RandomForestClassifier', 'n_estimators': 510, 'max_depth': 52, 'max_features': 'auto'}. Best is trial 0 with value: 1.0.\u001b[0m\n",
            "\u001b[32m[I 2021-04-20 16:51:32,624]\u001b[0m Trial 66 finished with value: 1.0 and parameters: {'classifier': 'RandomForestClassifier', 'n_estimators': 590, 'max_depth': 59, 'max_features': 'auto'}. Best is trial 0 with value: 1.0.\u001b[0m\n",
            "\u001b[32m[I 2021-04-20 16:51:33,404]\u001b[0m Trial 67 finished with value: 1.0 and parameters: {'classifier': 'RandomForestClassifier', 'n_estimators': 560, 'max_depth': 72, 'max_features': 'auto'}. Best is trial 0 with value: 1.0.\u001b[0m\n",
            "\u001b[32m[I 2021-04-20 16:51:34,101]\u001b[0m Trial 68 finished with value: 1.0 and parameters: {'classifier': 'RandomForestClassifier', 'n_estimators': 490, 'max_depth': 51, 'max_features': 'auto'}. Best is trial 0 with value: 1.0.\u001b[0m\n",
            "\u001b[32m[I 2021-04-20 16:51:35,023]\u001b[0m Trial 69 finished with value: 1.0 and parameters: {'classifier': 'RandomForestClassifier', 'n_estimators': 650, 'max_depth': 40, 'max_features': 'auto'}. Best is trial 0 with value: 1.0.\u001b[0m\n",
            "\u001b[32m[I 2021-04-20 16:51:35,665]\u001b[0m Trial 70 finished with value: 1.0 and parameters: {'classifier': 'RandomForestClassifier', 'n_estimators': 460, 'max_depth': 37, 'max_features': 'auto'}. Best is trial 0 with value: 1.0.\u001b[0m\n",
            "\u001b[32m[I 2021-04-20 16:51:36,608]\u001b[0m Trial 71 finished with value: 1.0 and parameters: {'classifier': 'RandomForestClassifier', 'n_estimators': 680, 'max_depth': 43, 'max_features': 'sqrt'}. Best is trial 0 with value: 1.0.\u001b[0m\n",
            "\u001b[32m[I 2021-04-20 16:51:37,175]\u001b[0m Trial 72 finished with value: 1.0 and parameters: {'classifier': 'RandomForestClassifier', 'n_estimators': 400, 'max_depth': 19, 'max_features': 'sqrt'}. Best is trial 0 with value: 1.0.\u001b[0m\n",
            "\u001b[32m[I 2021-04-20 16:51:38,285]\u001b[0m Trial 73 finished with value: 1.0 and parameters: {'classifier': 'RandomForestClassifier', 'n_estimators': 790, 'max_depth': 19, 'max_features': 'sqrt'}. Best is trial 0 with value: 1.0.\u001b[0m\n",
            "\u001b[32m[I 2021-04-20 16:51:39,456]\u001b[0m Trial 74 finished with value: 1.0 and parameters: {'classifier': 'RandomForestClassifier', 'n_estimators': 850, 'max_depth': 12, 'max_features': 'sqrt'}. Best is trial 0 with value: 1.0.\u001b[0m\n",
            "\u001b[32m[I 2021-04-20 16:51:40,550]\u001b[0m Trial 75 finished with value: 1.0 and parameters: {'classifier': 'RandomForestClassifier', 'n_estimators': 790, 'max_depth': 34, 'max_features': 'sqrt'}. Best is trial 0 with value: 1.0.\u001b[0m\n",
            "\u001b[32m[I 2021-04-20 16:51:41,761]\u001b[0m Trial 76 finished with value: 1.0 and parameters: {'classifier': 'RandomForestClassifier', 'n_estimators': 880, 'max_depth': 10, 'max_features': 'sqrt'}. Best is trial 0 with value: 1.0.\u001b[0m\n",
            "\u001b[32m[I 2021-04-20 16:51:42,227]\u001b[0m Trial 77 finished with value: 1.0 and parameters: {'classifier': 'RandomForestClassifier', 'n_estimators': 330, 'max_depth': 17, 'max_features': 'sqrt'}. Best is trial 0 with value: 1.0.\u001b[0m\n",
            "\u001b[32m[I 2021-04-20 16:51:42,638]\u001b[0m Trial 78 finished with value: 1.0 and parameters: {'classifier': 'RandomForestClassifier', 'n_estimators': 270, 'max_depth': 26, 'max_features': 'sqrt'}. Best is trial 0 with value: 1.0.\u001b[0m\n",
            "\u001b[32m[I 2021-04-20 16:51:43,080]\u001b[0m Trial 79 finished with value: 1.0 and parameters: {'classifier': 'RandomForestClassifier', 'n_estimators': 310, 'max_depth': 14, 'max_features': 'sqrt'}. Best is trial 0 with value: 1.0.\u001b[0m\n",
            "\u001b[32m[I 2021-04-20 16:51:44,381]\u001b[0m Trial 80 finished with value: 1.0 and parameters: {'classifier': 'RandomForestClassifier', 'n_estimators': 920, 'max_depth': 25, 'max_features': 'sqrt'}. Best is trial 0 with value: 1.0.\u001b[0m\n",
            "\u001b[32m[I 2021-04-20 16:51:45,723]\u001b[0m Trial 81 finished with value: 1.0 and parameters: {'classifier': 'RandomForestClassifier', 'n_estimators': 960, 'max_depth': 28, 'max_features': 'sqrt'}. Best is trial 0 with value: 1.0.\u001b[0m\n",
            "\u001b[32m[I 2021-04-20 16:51:47,050]\u001b[0m Trial 82 finished with value: 1.0 and parameters: {'classifier': 'RandomForestClassifier', 'n_estimators': 940, 'max_depth': 35, 'max_features': 'sqrt'}. Best is trial 0 with value: 1.0.\u001b[0m\n",
            "\u001b[32m[I 2021-04-20 16:51:47,158]\u001b[0m Trial 83 finished with value: 1.0 and parameters: {'classifier': 'RandomForestClassifier', 'n_estimators': 70, 'max_depth': 49, 'max_features': 'auto'}. Best is trial 0 with value: 1.0.\u001b[0m\n",
            "\u001b[32m[I 2021-04-20 16:51:47,361]\u001b[0m Trial 84 finished with value: 1.0 and parameters: {'classifier': 'RandomForestClassifier', 'n_estimators': 140, 'max_depth': 14, 'max_features': 'sqrt'}. Best is trial 0 with value: 1.0.\u001b[0m\n",
            "\u001b[32m[I 2021-04-20 16:51:47,605]\u001b[0m Trial 85 finished with value: 1.0 and parameters: {'classifier': 'RandomForestClassifier', 'n_estimators': 160, 'max_depth': 57, 'max_features': 'auto'}. Best is trial 0 with value: 1.0.\u001b[0m\n",
            "\u001b[32m[I 2021-04-20 16:51:47,914]\u001b[0m Trial 86 finished with value: 1.0 and parameters: {'classifier': 'RandomForestClassifier', 'n_estimators': 220, 'max_depth': 57, 'max_features': 'auto'}. Best is trial 0 with value: 1.0.\u001b[0m\n",
            "\u001b[32m[I 2021-04-20 16:51:48,187]\u001b[0m Trial 87 finished with value: 1.0 and parameters: {'classifier': 'RandomForestClassifier', 'n_estimators': 190, 'max_depth': 87, 'max_features': 'auto'}. Best is trial 0 with value: 1.0.\u001b[0m\n",
            "\u001b[32m[I 2021-04-20 16:51:48,283]\u001b[0m Trial 88 finished with value: 1.0 and parameters: {'classifier': 'RandomForestClassifier', 'n_estimators': 60, 'max_depth': 83, 'max_features': 'auto'}. Best is trial 0 with value: 1.0.\u001b[0m\n",
            "\u001b[32m[I 2021-04-20 16:51:49,493]\u001b[0m Trial 89 finished with value: 1.0 and parameters: {'classifier': 'RandomForestClassifier', 'n_estimators': 860, 'max_depth': 78, 'max_features': 'auto'}. Best is trial 0 with value: 1.0.\u001b[0m\n",
            "\u001b[32m[I 2021-04-20 16:51:49,823]\u001b[0m Trial 90 finished with value: 1.0 and parameters: {'classifier': 'RandomForestClassifier', 'n_estimators': 230, 'max_depth': 67, 'max_features': 'auto'}. Best is trial 0 with value: 1.0.\u001b[0m\n",
            "\u001b[32m[I 2021-04-20 16:51:50,574]\u001b[0m Trial 91 finished with value: 1.0 and parameters: {'classifier': 'RandomForestClassifier', 'n_estimators': 540, 'max_depth': 64, 'max_features': 'auto'}. Best is trial 0 with value: 1.0.\u001b[0m\n",
            "\u001b[32m[I 2021-04-20 16:51:51,315]\u001b[0m Trial 92 finished with value: 1.0 and parameters: {'classifier': 'RandomForestClassifier', 'n_estimators': 530, 'max_depth': 60, 'max_features': 'auto'}. Best is trial 0 with value: 1.0.\u001b[0m\n",
            "\u001b[32m[I 2021-04-20 16:51:52,007]\u001b[0m Trial 93 finished with value: 1.0 and parameters: {'classifier': 'RandomForestClassifier', 'n_estimators': 490, 'max_depth': 54, 'max_features': 'auto'}. Best is trial 0 with value: 1.0.\u001b[0m\n",
            "\u001b[32m[I 2021-04-20 16:51:52,821]\u001b[0m Trial 94 finished with value: 1.0 and parameters: {'classifier': 'RandomForestClassifier', 'n_estimators': 580, 'max_depth': 72, 'max_features': 'auto'}. Best is trial 0 with value: 1.0.\u001b[0m\n",
            "\u001b[32m[I 2021-04-20 16:51:53,626]\u001b[0m Trial 95 finished with value: 1.0 and parameters: {'classifier': 'RandomForestClassifier', 'n_estimators': 550, 'max_depth': 51, 'max_features': 'auto'}. Best is trial 0 with value: 1.0.\u001b[0m\n",
            "\u001b[32m[I 2021-04-20 16:51:54,346]\u001b[0m Trial 96 finished with value: 1.0 and parameters: {'classifier': 'RandomForestClassifier', 'n_estimators': 510, 'max_depth': 71, 'max_features': 'auto'}. Best is trial 0 with value: 1.0.\u001b[0m\n",
            "\u001b[32m[I 2021-04-20 16:51:55,034]\u001b[0m Trial 97 finished with value: 1.0 and parameters: {'classifier': 'RandomForestClassifier', 'n_estimators': 490, 'max_depth': 63, 'max_features': 'auto'}. Best is trial 0 with value: 1.0.\u001b[0m\n",
            "\u001b[32m[I 2021-04-20 16:51:55,917]\u001b[0m Trial 98 finished with value: 1.0 and parameters: {'classifier': 'RandomForestClassifier', 'n_estimators': 610, 'max_depth': 45, 'max_features': 'auto'}. Best is trial 0 with value: 1.0.\u001b[0m\n",
            "\u001b[32m[I 2021-04-20 16:51:56,861]\u001b[0m Trial 99 finished with value: 1.0 and parameters: {'classifier': 'RandomForestClassifier', 'n_estimators': 670, 'max_depth': 43, 'max_features': 'auto'}. Best is trial 0 with value: 1.0.\u001b[0m\n"
          ],
          "name": "stderr"
        },
        {
          "output_type": "stream",
          "text": [
            "FrozenTrial(number=0, values=[1.0], datetime_start=datetime.datetime(2021, 4, 20, 16, 50, 40, 938066), datetime_complete=datetime.datetime(2021, 4, 20, 16, 50, 41, 675321), params={'classifier': 'RandomForestClassifier', 'n_estimators': 520, 'max_depth': 43, 'max_features': 'auto'}, distributions={'classifier': CategoricalDistribution(choices=('RandomForestClassifier',)), 'n_estimators': IntUniformDistribution(high=1000, low=10, step=10), 'max_depth': IntUniformDistribution(high=110, low=10, step=1), 'max_features': CategoricalDistribution(choices=('auto', 'sqrt'))}, user_attrs={}, system_attrs={}, intermediate_values={}, trial_id=0, state=TrialState.COMPLETE, value=None)\n"
          ],
          "name": "stdout"
        }
      ]
    },
    {
      "cell_type": "markdown",
      "metadata": {
        "id": "6nv36sO0N5Gw"
      },
      "source": [
        "Melhores valores estimados\n",
        "\n",
        "*   n_estimators: 520\n",
        "*   max_depth: 43\n",
        "*   max_features : 'auto'"
      ]
    },
    {
      "cell_type": "code",
      "metadata": {
        "id": "GdDD0cDpPPSU"
      },
      "source": [
        "from sklearn.ensemble  import RandomForestClassifier  # 1. escolha da técnica\n",
        "Tunned_RFmodel = RandomForestClassifier(n_estimators=520, max_depth= 43, max_features='auto')     # 2. instanciação do modelo\n",
        "Tunned_RFmodel.fit(Xtrain, Ytrain)                           # 3. criação do modelo\n",
        "TunnedY_RFmodel_test =  Tunned_RFmodel.predict(Xtest)              # 4. predição com dados de teste\n",
        "TunnedY_RFmodel_train = Tunned_RFmodel.predict(Xtrain)             # 5. predição com dados de treino "
      ],
      "execution_count": 262,
      "outputs": []
    },
    {
      "cell_type": "code",
      "metadata": {
        "colab": {
          "base_uri": "https://localhost:8080/"
        },
        "id": "Ou10oxtiPP1q",
        "outputId": "edda8f97-4605-4072-f8fa-67de9d183d66"
      },
      "source": [
        "from sklearn.metrics import classification_report, confusion_matrix, accuracy_score\n",
        "\n",
        "print('Training')\n",
        "print(classification_report(Ytrain,TunnedY_RFmodel_train))\n",
        "\n",
        "print('Test')\n",
        "print(classification_report(Ytest,TunnedY_RFmodel_test))"
      ],
      "execution_count": 263,
      "outputs": [
        {
          "output_type": "stream",
          "text": [
            "Training\n",
            "              precision    recall  f1-score   support\n",
            "\n",
            "           0       1.00      1.00      1.00        86\n",
            "           1       1.00      1.00      1.00       282\n",
            "           2       1.00      1.00      1.00        33\n",
            "           3       1.00      1.00      1.00         4\n",
            "           4       1.00      1.00      1.00         7\n",
            "\n",
            "    accuracy                           1.00       412\n",
            "   macro avg       1.00      1.00      1.00       412\n",
            "weighted avg       1.00      1.00      1.00       412\n",
            "\n",
            "Test\n",
            "              precision    recall  f1-score   support\n",
            "\n",
            "           0       1.00      1.00      1.00        30\n",
            "           1       1.00      1.00      1.00        97\n",
            "           2       1.00      1.00      1.00        11\n",
            "\n",
            "    accuracy                           1.00       138\n",
            "   macro avg       1.00      1.00      1.00       138\n",
            "weighted avg       1.00      1.00      1.00       138\n",
            "\n"
          ],
          "name": "stdout"
        }
      ]
    },
    {
      "cell_type": "code",
      "metadata": {
        "colab": {
          "base_uri": "https://localhost:8080/"
        },
        "id": "zOhmYfQyUoWe",
        "outputId": "e5c0a029-b560-401a-8e90-312620a11385"
      },
      "source": [
        "print(\"Antes do tunning\")\n",
        "print(\"ACC TRAINING:\" + str(accuracy_score(Ytrain, Y_RFmodel_train)))\n",
        "print(\"ACC TEST:\" + str(accuracy_score(Ytest, Y_RFmodel_test)))\n",
        "\n",
        "print(\"Depois do tunning\")\n",
        "print(\"ACC TRAINING:\" + str(accuracy_score(Ytrain, TunnedY_RFmodel_train)))\n",
        "print(\"ACC TEST:\" + str(accuracy_score(Ytest, TunnedY_RFmodel_test)))\n"
      ],
      "execution_count": 273,
      "outputs": [
        {
          "output_type": "stream",
          "text": [
            "Antes do tunning\n",
            "ACC TRAINING:1.0\n",
            "ACC TEST:0.9927536231884058\n",
            "Depois do tunning\n",
            "ACC TRAINING:1.0\n",
            "ACC TEST:1.0\n"
          ],
          "name": "stdout"
        }
      ]
    },
    {
      "cell_type": "markdown",
      "metadata": {
        "id": "yQVC1wUFUch6"
      },
      "source": [
        "O modelo mostrou uma melhora de ~0,7% no teste após a otimização, passando de uma acurácia de 99,3% para 100%\n",
        "\n",
        "A acurácia de treinamento se manteve fixa em 100%"
      ]
    },
    {
      "cell_type": "markdown",
      "metadata": {
        "id": "d0ib84nJdQgk"
      },
      "source": [
        "## Regressão"
      ]
    },
    {
      "cell_type": "code",
      "metadata": {
        "id": "9-FcigPpes7a"
      },
      "source": [
        "RecifeInvest = invest_covidPe[(invest_covidPe['municipio']=='8')]"
      ],
      "execution_count": null,
      "outputs": []
    },
    {
      "cell_type": "code",
      "metadata": {
        "id": "z76t_WjgdoGD"
      },
      "source": [
        "RegressionTest = RecifeInvest[['data_hora','gastos']]"
      ],
      "execution_count": null,
      "outputs": []
    },
    {
      "cell_type": "code",
      "metadata": {
        "colab": {
          "base_uri": "https://localhost:8080/"
        },
        "id": "lsP2hgg9dwiu",
        "outputId": "f7f19336-0270-4289-e5b9-e2824f9fca04"
      },
      "source": [
        "RegressionTest.shape"
      ],
      "execution_count": null,
      "outputs": [
        {
          "output_type": "execute_result",
          "data": {
            "text/plain": [
              "(24, 2)"
            ]
          },
          "metadata": {
            "tags": []
          },
          "execution_count": 62
        }
      ]
    },
    {
      "cell_type": "code",
      "metadata": {
        "colab": {
          "base_uri": "https://localhost:8080/",
          "height": 296
        },
        "id": "31Ef798BdyN7",
        "outputId": "4dd6ee13-8c98-4425-d72c-9e0fa4869c6f"
      },
      "source": [
        "plt.scatter(RegressionTest['data_hora'], RegressionTest['gastos'])"
      ],
      "execution_count": null,
      "outputs": [
        {
          "output_type": "execute_result",
          "data": {
            "text/plain": [
              "<matplotlib.collections.PathCollection at 0x7f4b4dfee490>"
            ]
          },
          "metadata": {
            "tags": []
          },
          "execution_count": 63
        },
        {
          "output_type": "display_data",
          "data": {
            "image/png": "[encoded data removed]",
            "text/plain": [
              "<Figure size 432x288 with 1 Axes>"
            ]
          },
          "metadata": {
            "tags": []
          }
        }
      ]
    },
    {
      "cell_type": "code",
      "metadata": {
        "colab": {
          "base_uri": "https://localhost:8080/",
          "height": 279
        },
        "id": "Sl7BN7mvgKzx",
        "outputId": "f6065ae5-201c-4fbc-cec9-1de94195374d"
      },
      "source": [
        "from sklearn.linear_model import LinearRegression\n",
        "model = LinearRegression(fit_intercept=True)\n",
        "\n",
        "rng = np.random.RandomState(1)\n",
        "x = 10 * rng.rand(24)\n",
        "\n",
        "#x = RegressionTest['gastos']\n",
        "y = RegressionTest['gastos']\n",
        "\n",
        "model.fit(x[:, np.newaxis], y)\n",
        "\n",
        "xfit = np.linspace(0, 10, 1000)\n",
        "yfit = model.predict(xfit[:, np.newaxis])\n",
        "\n",
        "plt.scatter(x, y)\n",
        "plt.plot(xfit, yfit);"
      ],
      "execution_count": null,
      "outputs": [
        {
          "output_type": "display_data",
          "data": {
            "image/png": "[encoded data removed]",
            "text/plain": [
              "<Figure size 432x288 with 1 Axes>"
            ]
          },
          "metadata": {
            "tags": []
          }
        }
      ]
    },
    {
      "cell_type": "code",
      "metadata": {
        "colab": {
          "base_uri": "https://localhost:8080/"
        },
        "id": "N0qGxQNLhnd4",
        "outputId": "c5302e10-7020-493e-f482-5a3c78869e9a"
      },
      "source": [
        "print(\"Model inclinação:      {:.3f}\".format(model.coef_[0]))\n",
        "print(\"Model intercepto:     {:.3f}\".format(model.intercept_))"
      ],
      "execution_count": null,
      "outputs": [
        {
          "output_type": "stream",
          "text": [
            "Model inclinação:      -1249695.775\n",
            "Model intercepto:     16697329.756\n"
          ],
          "name": "stdout"
        }
      ]
    },
    {
      "cell_type": "code",
      "metadata": {
        "id": "pZ-uFLL8i3uW"
      },
      "source": [
        "import statsmodels.api as sm\n",
        "from statsmodels.sandbox.regression.predstd import wls_prediction_std\n",
        "\n",
        "X = sm.add_constant(x)\n",
        "models = sm.OLS(y, X)\n",
        "results = models.fit()"
      ],
      "execution_count": null,
      "outputs": []
    },
    {
      "cell_type": "code",
      "metadata": {
        "colab": {
          "base_uri": "https://localhost:8080/"
        },
        "id": "hYDvy1N4jI-x",
        "outputId": "ebb5c16f-b536-4973-acb8-8cf0c9a793a5"
      },
      "source": [
        "print(\"Model slope:      {:.3f}\".format(results.params[1]))\n",
        "print(\"Model intercept: {:.3f}\".format(results.params[0]))"
      ],
      "execution_count": null,
      "outputs": [
        {
          "output_type": "stream",
          "text": [
            "Model slope:      -1249695.775\n",
            "Model intercept: 16697329.756\n"
          ],
          "name": "stdout"
        }
      ]
    },
    {
      "cell_type": "code",
      "metadata": {
        "id": "L3naZql_jgKx"
      },
      "source": [
        "%matplotlib inline\n",
        "import matplotlib.pyplot as plt\n",
        "import matplotlib as mpl\n",
        "\n",
        "import seaborn as sns; sns.set()\n",
        "import pandas as pd\n",
        "import numpy as np\n",
        "\n",
        "import statsmodels.api as sm\n",
        "from statsmodels.sandbox.regression.predstd import wls_prediction_std\n",
        "\n",
        "from matplotlib import rcParams\n",
        "rcParams['figure.figsize'] = (8, 4)\n",
        "rcParams['figure.dpi'] = 100\n",
        "rcParams['font.size'] = 8\n",
        "rcParams['font.family'] = 'sans-serif'\n",
        "rcParams['lines.linewidth'] = 2.0\n",
        "\n",
        "import warnings\n",
        "warnings.simplefilter(action='ignore', category=FutureWarning)"
      ],
      "execution_count": null,
      "outputs": []
    },
    {
      "cell_type": "code",
      "metadata": {
        "id": "dhsoJFZhrbsq"
      },
      "source": [
        "#Data from http://transparencia.recife.pe.gov.br/codigos/web/covid19vacinados/vacinados.php\n",
        "\n",
        "RecifeVaccines = pd.read_csv(\"https://raw.githubusercontent.com/marcosw1998/Data-Science/main-mwac/Datasets/vacinados_2021-04-04-11-04.csv\",encoding = \"utf-8\")"
      ],
      "execution_count": null,
      "outputs": []
    },
    {
      "cell_type": "code",
      "metadata": {
        "colab": {
          "base_uri": "https://localhost:8080/",
          "height": 419
        },
        "id": "akXz0p-XruTo",
        "outputId": "152dbf6a-3383-45c5-c51f-30489e1e628b"
      },
      "source": [
        "RecifeVaccines"
      ],
      "execution_count": null,
      "outputs": [
        {
          "output_type": "execute_result",
          "data": {
            "text/html": [
              "<div>\n",
              "<style scoped>\n",
              "    .dataframe tbody tr th:only-of-type {\n",
              "        vertical-align: middle;\n",
              "    }\n",
              "\n",
              "    .dataframe tbody tr th {\n",
              "        vertical-align: top;\n",
              "    }\n",
              "\n",
              "    .dataframe thead th {\n",
              "        text-align: right;\n",
              "    }\n",
              "</style>\n",
              "<table border=\"1\" class=\"dataframe\">\n",
              "  <thead>\n",
              "    <tr style=\"text-align: right;\">\n",
              "      <th></th>\n",
              "      <th>Grupo</th>\n",
              "      <th>Dose</th>\n",
              "      <th>Data Vacina</th>\n",
              "    </tr>\n",
              "  </thead>\n",
              "  <tbody>\n",
              "    <tr>\n",
              "      <th>0</th>\n",
              "      <td>IDOSOS</td>\n",
              "      <td>2</td>\n",
              "      <td>04/04/2021</td>\n",
              "    </tr>\n",
              "    <tr>\n",
              "      <th>1</th>\n",
              "      <td>IDOSOS</td>\n",
              "      <td>2</td>\n",
              "      <td>04/04/2021</td>\n",
              "    </tr>\n",
              "    <tr>\n",
              "      <th>2</th>\n",
              "      <td>IDOSOS</td>\n",
              "      <td>2</td>\n",
              "      <td>04/04/2021</td>\n",
              "    </tr>\n",
              "    <tr>\n",
              "      <th>3</th>\n",
              "      <td>IDOSOS</td>\n",
              "      <td>2</td>\n",
              "      <td>04/04/2021</td>\n",
              "    </tr>\n",
              "    <tr>\n",
              "      <th>4</th>\n",
              "      <td>TRABALHADORES DA SAÃšDE</td>\n",
              "      <td>1</td>\n",
              "      <td>04/04/2021</td>\n",
              "    </tr>\n",
              "    <tr>\n",
              "      <th>...</th>\n",
              "      <td>...</td>\n",
              "      <td>...</td>\n",
              "      <td>...</td>\n",
              "    </tr>\n",
              "    <tr>\n",
              "      <th>59447</th>\n",
              "      <td>TRABALHADORES DA SAÃšDE</td>\n",
              "      <td>2</td>\n",
              "      <td>11/04/2021</td>\n",
              "    </tr>\n",
              "    <tr>\n",
              "      <th>59448</th>\n",
              "      <td>IDOSOS</td>\n",
              "      <td>2</td>\n",
              "      <td>11/04/2021</td>\n",
              "    </tr>\n",
              "    <tr>\n",
              "      <th>59449</th>\n",
              "      <td>IDOSOS</td>\n",
              "      <td>2</td>\n",
              "      <td>11/04/2021</td>\n",
              "    </tr>\n",
              "    <tr>\n",
              "      <th>59450</th>\n",
              "      <td>IDOSOS</td>\n",
              "      <td>1</td>\n",
              "      <td>11/04/2021</td>\n",
              "    </tr>\n",
              "    <tr>\n",
              "      <th>59451</th>\n",
              "      <td>IDOSOS</td>\n",
              "      <td>1</td>\n",
              "      <td>11/04/2021</td>\n",
              "    </tr>\n",
              "  </tbody>\n",
              "</table>\n",
              "<p>59452 rows × 3 columns</p>\n",
              "</div>"
            ],
            "text/plain": [
              "                         Grupo  Dose Data Vacina\n",
              "0                       IDOSOS     2  04/04/2021\n",
              "1                       IDOSOS     2  04/04/2021\n",
              "2                       IDOSOS     2  04/04/2021\n",
              "3                       IDOSOS     2  04/04/2021\n",
              "4      TRABALHADORES DA SAÃšDE     1  04/04/2021\n",
              "...                        ...   ...         ...\n",
              "59447  TRABALHADORES DA SAÃšDE     2  11/04/2021\n",
              "59448                   IDOSOS     2  11/04/2021\n",
              "59449                   IDOSOS     2  11/04/2021\n",
              "59450                   IDOSOS     1  11/04/2021\n",
              "59451                   IDOSOS     1  11/04/2021\n",
              "\n",
              "[59452 rows x 3 columns]"
            ]
          },
          "metadata": {
            "tags": []
          },
          "execution_count": 91
        }
      ]
    },
    {
      "cell_type": "code",
      "metadata": {
        "colab": {
          "base_uri": "https://localhost:8080/"
        },
        "id": "2HNAxsnrwyPi",
        "outputId": "18fc32e1-84cb-4d3f-9a6c-3bce77105c7a"
      },
      "source": [
        "#x = ['04/04/2021','05/04/2021','06/04/2021','07/04/2021','08/04/2021','09/04/2021','10/04/2021','11/04/2021']\n",
        "\n",
        " #RecifeVaccines.groupby(level=\"Data Vacina\").sum()\n",
        "#x = RecifeVaccines[\"Data Vacina\"].unique()\n",
        "\n",
        "#x = pd.DataFrame({\"Date\": RecifeVaccines['Data Vacina'].unique()})\n",
        "\n",
        "#x[\"Date\"] = pd.to_datetime(x[\"Date\"]).dt.strftime(\"%m\")\n",
        "#print( x )"
      ],
      "execution_count": null,
      "outputs": [
        {
          "output_type": "stream",
          "text": [
            "['04/04/2021' '05/04/2021' '06/04/2021' '07/04/2021' '08/04/2021'\n",
            " '09/04/2021' '10/04/2021' '11/04/2021']\n"
          ],
          "name": "stdout"
        }
      ]
    },
    {
      "cell_type": "code",
      "metadata": {
        "colab": {
          "base_uri": "https://localhost:8080/"
        },
        "id": "qoVstzd78LQJ",
        "outputId": "95b98b83-24d9-43dd-fb42-bf1dc772b45c"
      },
      "source": [
        "x = np.array([4,5,6,7,8,9,10,11])\n",
        "x = x.reshape(1, -1)\n",
        "x"
      ],
      "execution_count": null,
      "outputs": [
        {
          "output_type": "execute_result",
          "data": {
            "text/plain": [
              "array([[ 4,  5,  6,  7,  8,  9, 10, 11]])"
            ]
          },
          "metadata": {
            "tags": []
          },
          "execution_count": 267
        }
      ]
    },
    {
      "cell_type": "code",
      "metadata": {
        "id": "hEJY5U_4trOv"
      },
      "source": [
        " #RecifeVaccines.groupby(level=\"Data Vacina\").sum()\n",
        "y = RecifeVaccines.groupby(by=\"Data Vacina\").sum()['Dose'].values"
      ],
      "execution_count": null,
      "outputs": []
    },
    {
      "cell_type": "code",
      "metadata": {
        "colab": {
          "base_uri": "https://localhost:8080/",
          "height": 419
        },
        "id": "blf2vv413GVK",
        "outputId": "3544928a-6c5e-4e3a-d28d-9ab77d46a7b9"
      },
      "source": [
        "Dose1 = RecifeVaccines[(RecifeVaccines['Dose']== 1)]\n",
        "Dose1"
      ],
      "execution_count": null,
      "outputs": [
        {
          "output_type": "execute_result",
          "data": {
            "text/html": [
              "<div>\n",
              "<style scoped>\n",
              "    .dataframe tbody tr th:only-of-type {\n",
              "        vertical-align: middle;\n",
              "    }\n",
              "\n",
              "    .dataframe tbody tr th {\n",
              "        vertical-align: top;\n",
              "    }\n",
              "\n",
              "    .dataframe thead th {\n",
              "        text-align: right;\n",
              "    }\n",
              "</style>\n",
              "<table border=\"1\" class=\"dataframe\">\n",
              "  <thead>\n",
              "    <tr style=\"text-align: right;\">\n",
              "      <th></th>\n",
              "      <th>Grupo</th>\n",
              "      <th>Dose</th>\n",
              "      <th>Data Vacina</th>\n",
              "    </tr>\n",
              "  </thead>\n",
              "  <tbody>\n",
              "    <tr>\n",
              "      <th>4</th>\n",
              "      <td>TRABALHADORES DA SAÃšDE</td>\n",
              "      <td>1</td>\n",
              "      <td>04/04/2021</td>\n",
              "    </tr>\n",
              "    <tr>\n",
              "      <th>7</th>\n",
              "      <td>IDOSOS</td>\n",
              "      <td>1</td>\n",
              "      <td>04/04/2021</td>\n",
              "    </tr>\n",
              "    <tr>\n",
              "      <th>15</th>\n",
              "      <td>IDOSOS</td>\n",
              "      <td>1</td>\n",
              "      <td>04/04/2021</td>\n",
              "    </tr>\n",
              "    <tr>\n",
              "      <th>19</th>\n",
              "      <td>IDOSOS</td>\n",
              "      <td>1</td>\n",
              "      <td>04/04/2021</td>\n",
              "    </tr>\n",
              "    <tr>\n",
              "      <th>21</th>\n",
              "      <td>IDOSOS</td>\n",
              "      <td>1</td>\n",
              "      <td>04/04/2021</td>\n",
              "    </tr>\n",
              "    <tr>\n",
              "      <th>...</th>\n",
              "      <td>...</td>\n",
              "      <td>...</td>\n",
              "      <td>...</td>\n",
              "    </tr>\n",
              "    <tr>\n",
              "      <th>59441</th>\n",
              "      <td>TRABALHADORES DA SAÃšDE</td>\n",
              "      <td>1</td>\n",
              "      <td>11/04/2021</td>\n",
              "    </tr>\n",
              "    <tr>\n",
              "      <th>59442</th>\n",
              "      <td>IDOSOS</td>\n",
              "      <td>1</td>\n",
              "      <td>11/04/2021</td>\n",
              "    </tr>\n",
              "    <tr>\n",
              "      <th>59446</th>\n",
              "      <td>IDOSOS</td>\n",
              "      <td>1</td>\n",
              "      <td>11/04/2021</td>\n",
              "    </tr>\n",
              "    <tr>\n",
              "      <th>59450</th>\n",
              "      <td>IDOSOS</td>\n",
              "      <td>1</td>\n",
              "      <td>11/04/2021</td>\n",
              "    </tr>\n",
              "    <tr>\n",
              "      <th>59451</th>\n",
              "      <td>IDOSOS</td>\n",
              "      <td>1</td>\n",
              "      <td>11/04/2021</td>\n",
              "    </tr>\n",
              "  </tbody>\n",
              "</table>\n",
              "<p>36314 rows × 3 columns</p>\n",
              "</div>"
            ],
            "text/plain": [
              "                         Grupo  Dose Data Vacina\n",
              "4      TRABALHADORES DA SAÃšDE     1  04/04/2021\n",
              "7                       IDOSOS     1  04/04/2021\n",
              "15                      IDOSOS     1  04/04/2021\n",
              "19                      IDOSOS     1  04/04/2021\n",
              "21                      IDOSOS     1  04/04/2021\n",
              "...                        ...   ...         ...\n",
              "59441  TRABALHADORES DA SAÃšDE     1  11/04/2021\n",
              "59442                   IDOSOS     1  11/04/2021\n",
              "59446                   IDOSOS     1  11/04/2021\n",
              "59450                   IDOSOS     1  11/04/2021\n",
              "59451                   IDOSOS     1  11/04/2021\n",
              "\n",
              "[36314 rows x 3 columns]"
            ]
          },
          "metadata": {
            "tags": []
          },
          "execution_count": 198
        }
      ]
    },
    {
      "cell_type": "code",
      "metadata": {
        "colab": {
          "base_uri": "https://localhost:8080/",
          "height": 419
        },
        "id": "NvAUhwTv3OHK",
        "outputId": "c2bbb9e4-92e0-45cd-900e-8813e0dd72c7"
      },
      "source": [
        "Dose2 = RecifeVaccines[(RecifeVaccines['Dose']== 2)]\n",
        "Dose2"
      ],
      "execution_count": null,
      "outputs": [
        {
          "output_type": "execute_result",
          "data": {
            "text/html": [
              "<div>\n",
              "<style scoped>\n",
              "    .dataframe tbody tr th:only-of-type {\n",
              "        vertical-align: middle;\n",
              "    }\n",
              "\n",
              "    .dataframe tbody tr th {\n",
              "        vertical-align: top;\n",
              "    }\n",
              "\n",
              "    .dataframe thead th {\n",
              "        text-align: right;\n",
              "    }\n",
              "</style>\n",
              "<table border=\"1\" class=\"dataframe\">\n",
              "  <thead>\n",
              "    <tr style=\"text-align: right;\">\n",
              "      <th></th>\n",
              "      <th>Grupo</th>\n",
              "      <th>Dose</th>\n",
              "      <th>Data Vacina</th>\n",
              "    </tr>\n",
              "  </thead>\n",
              "  <tbody>\n",
              "    <tr>\n",
              "      <th>0</th>\n",
              "      <td>IDOSOS</td>\n",
              "      <td>2</td>\n",
              "      <td>04/04/2021</td>\n",
              "    </tr>\n",
              "    <tr>\n",
              "      <th>1</th>\n",
              "      <td>IDOSOS</td>\n",
              "      <td>2</td>\n",
              "      <td>04/04/2021</td>\n",
              "    </tr>\n",
              "    <tr>\n",
              "      <th>2</th>\n",
              "      <td>IDOSOS</td>\n",
              "      <td>2</td>\n",
              "      <td>04/04/2021</td>\n",
              "    </tr>\n",
              "    <tr>\n",
              "      <th>3</th>\n",
              "      <td>IDOSOS</td>\n",
              "      <td>2</td>\n",
              "      <td>04/04/2021</td>\n",
              "    </tr>\n",
              "    <tr>\n",
              "      <th>5</th>\n",
              "      <td>TRABALHADORES DA SAÃšDE</td>\n",
              "      <td>2</td>\n",
              "      <td>04/04/2021</td>\n",
              "    </tr>\n",
              "    <tr>\n",
              "      <th>...</th>\n",
              "      <td>...</td>\n",
              "      <td>...</td>\n",
              "      <td>...</td>\n",
              "    </tr>\n",
              "    <tr>\n",
              "      <th>59444</th>\n",
              "      <td>TRABALHADORES DA SAÃšDE</td>\n",
              "      <td>2</td>\n",
              "      <td>11/04/2021</td>\n",
              "    </tr>\n",
              "    <tr>\n",
              "      <th>59445</th>\n",
              "      <td>IDOSOS</td>\n",
              "      <td>2</td>\n",
              "      <td>11/04/2021</td>\n",
              "    </tr>\n",
              "    <tr>\n",
              "      <th>59447</th>\n",
              "      <td>TRABALHADORES DA SAÃšDE</td>\n",
              "      <td>2</td>\n",
              "      <td>11/04/2021</td>\n",
              "    </tr>\n",
              "    <tr>\n",
              "      <th>59448</th>\n",
              "      <td>IDOSOS</td>\n",
              "      <td>2</td>\n",
              "      <td>11/04/2021</td>\n",
              "    </tr>\n",
              "    <tr>\n",
              "      <th>59449</th>\n",
              "      <td>IDOSOS</td>\n",
              "      <td>2</td>\n",
              "      <td>11/04/2021</td>\n",
              "    </tr>\n",
              "  </tbody>\n",
              "</table>\n",
              "<p>23138 rows × 3 columns</p>\n",
              "</div>"
            ],
            "text/plain": [
              "                         Grupo  Dose Data Vacina\n",
              "0                       IDOSOS     2  04/04/2021\n",
              "1                       IDOSOS     2  04/04/2021\n",
              "2                       IDOSOS     2  04/04/2021\n",
              "3                       IDOSOS     2  04/04/2021\n",
              "5      TRABALHADORES DA SAÃšDE     2  04/04/2021\n",
              "...                        ...   ...         ...\n",
              "59444  TRABALHADORES DA SAÃšDE     2  11/04/2021\n",
              "59445                   IDOSOS     2  11/04/2021\n",
              "59447  TRABALHADORES DA SAÃšDE     2  11/04/2021\n",
              "59448                   IDOSOS     2  11/04/2021\n",
              "59449                   IDOSOS     2  11/04/2021\n",
              "\n",
              "[23138 rows x 3 columns]"
            ]
          },
          "metadata": {
            "tags": []
          },
          "execution_count": 199
        }
      ]
    },
    {
      "cell_type": "code",
      "metadata": {
        "colab": {
          "base_uri": "https://localhost:8080/"
        },
        "id": "BLOx2RAn3dAg",
        "outputId": "bc944c0f-ce37-4337-93b6-06fbc0ead42f"
      },
      "source": [
        "y1 = Dose1.groupby(by=\"Data Vacina\").sum()['Dose'].values\n",
        "y1 = y1.reshape(1, -1)\n",
        "y1"
      ],
      "execution_count": null,
      "outputs": [
        {
          "output_type": "execute_result",
          "data": {
            "text/plain": [
              "array([[2150, 6040, 5666, 5395, 4652, 4466, 3988, 3957]])"
            ]
          },
          "metadata": {
            "tags": []
          },
          "execution_count": 268
        }
      ]
    },
    {
      "cell_type": "code",
      "metadata": {
        "colab": {
          "base_uri": "https://localhost:8080/"
        },
        "id": "dZcf-ckr3oBz",
        "outputId": "a773644f-5ba2-476e-a2fb-0e235ea7f69a"
      },
      "source": [
        "y2 = Dose2.groupby(by=\"Data Vacina\").sum()['Dose'].values\n",
        "y2 = y2.reshape(1, -1)\n",
        "y2"
      ],
      "execution_count": null,
      "outputs": [
        {
          "output_type": "execute_result",
          "data": {
            "text/plain": [
              "array([[11038,  3854,  4484,  4832,  6128,  5360,  6106,  4474]])"
            ]
          },
          "metadata": {
            "tags": []
          },
          "execution_count": 269
        }
      ]
    },
    {
      "cell_type": "code",
      "metadata": {
        "colab": {
          "base_uri": "https://localhost:8080/",
          "height": 384
        },
        "id": "YHFDqs6CtXSB",
        "outputId": "fe85f0a7-1f5d-488c-e051-0f2817b372d8"
      },
      "source": [
        "plt.scatter(x,y1)\n",
        "plt.scatter(x,y2)\n"
      ],
      "execution_count": null,
      "outputs": [
        {
          "output_type": "execute_result",
          "data": {
            "text/plain": [
              "<matplotlib.collections.PathCollection at 0x7f4b3d460ed0>"
            ]
          },
          "metadata": {
            "tags": []
          },
          "execution_count": 262
        },
        {
          "output_type": "display_data",
          "data": {
            "image/png": "[encoded data removed]",
            "text/plain": [
              "<Figure size 800x400 with 1 Axes>"
            ]
          },
          "metadata": {
            "tags": []
          }
        }
      ]
    },
    {
      "cell_type": "code",
      "metadata": {
        "colab": {
          "base_uri": "https://localhost:8080/",
          "height": 391
        },
        "id": "GEIZqQ1EyBE3",
        "outputId": "bc5bb06b-0d7b-4b02-d6b4-1101fbff4c75"
      },
      "source": [
        "from sklearn.linear_model import LinearRegression\n",
        "model = LinearRegression(fit_intercept=True)\n",
        "\n",
        "model.fit(x, y1)\n",
        "\n",
        "xfit = np.linspace(4, 11, 1000)\n",
        "xfit = xfit.reshape(1, -1)\n",
        "yfit = model.predict(xfit)\n",
        "\n",
        "plt.scatter(x, y1)\n",
        "plt.plot(xfit, yfit);"
      ],
      "execution_count": null,
      "outputs": [
        {
          "output_type": "error",
          "ename": "ValueError",
          "evalue": "ignored",
          "traceback": [
            "\u001b[0;31m---------------------------------------------------------------------------\u001b[0m",
            "\u001b[0;31mValueError\u001b[0m                                Traceback (most recent call last)",
            "\u001b[0;32m<ipython-input-282-89eee2d494a5>\u001b[0m in \u001b[0;36m<module>\u001b[0;34m()\u001b[0m\n\u001b[1;32m      6\u001b[0m \u001b[0mxfit\u001b[0m \u001b[0;34m=\u001b[0m \u001b[0mnp\u001b[0m\u001b[0;34m.\u001b[0m\u001b[0mlinspace\u001b[0m\u001b[0;34m(\u001b[0m\u001b[0;36m4\u001b[0m\u001b[0;34m,\u001b[0m \u001b[0;36m11\u001b[0m\u001b[0;34m,\u001b[0m \u001b[0;36m1000\u001b[0m\u001b[0;34m)\u001b[0m\u001b[0;34m\u001b[0m\u001b[0;34m\u001b[0m\u001b[0m\n\u001b[1;32m      7\u001b[0m \u001b[0mxfit\u001b[0m \u001b[0;34m=\u001b[0m \u001b[0mxfit\u001b[0m\u001b[0;34m.\u001b[0m\u001b[0mreshape\u001b[0m\u001b[0;34m(\u001b[0m\u001b[0;36m1\u001b[0m\u001b[0;34m,\u001b[0m \u001b[0;34m-\u001b[0m\u001b[0;36m1\u001b[0m\u001b[0;34m)\u001b[0m\u001b[0;34m\u001b[0m\u001b[0;34m\u001b[0m\u001b[0m\n\u001b[0;32m----> 8\u001b[0;31m \u001b[0myfit\u001b[0m \u001b[0;34m=\u001b[0m \u001b[0mmodel\u001b[0m\u001b[0;34m.\u001b[0m\u001b[0mpredict\u001b[0m\u001b[0;34m(\u001b[0m\u001b[0mxfit\u001b[0m\u001b[0;34m)\u001b[0m\u001b[0;34m\u001b[0m\u001b[0;34m\u001b[0m\u001b[0m\n\u001b[0m\u001b[1;32m      9\u001b[0m \u001b[0;34m\u001b[0m\u001b[0m\n\u001b[1;32m     10\u001b[0m \u001b[0mplt\u001b[0m\u001b[0;34m.\u001b[0m\u001b[0mscatter\u001b[0m\u001b[0;34m(\u001b[0m\u001b[0mx\u001b[0m\u001b[0;34m,\u001b[0m \u001b[0my1\u001b[0m\u001b[0;34m)\u001b[0m\u001b[0;34m\u001b[0m\u001b[0;34m\u001b[0m\u001b[0m\n",
            "\u001b[0;32m/usr/local/lib/python3.7/dist-packages/sklearn/linear_model/_base.py\u001b[0m in \u001b[0;36mpredict\u001b[0;34m(self, X)\u001b[0m\n\u001b[1;32m    223\u001b[0m             \u001b[0mReturns\u001b[0m \u001b[0mpredicted\u001b[0m \u001b[0mvalues\u001b[0m\u001b[0;34m.\u001b[0m\u001b[0;34m\u001b[0m\u001b[0;34m\u001b[0m\u001b[0m\n\u001b[1;32m    224\u001b[0m         \"\"\"\n\u001b[0;32m--> 225\u001b[0;31m         \u001b[0;32mreturn\u001b[0m \u001b[0mself\u001b[0m\u001b[0;34m.\u001b[0m\u001b[0m_decision_function\u001b[0m\u001b[0;34m(\u001b[0m\u001b[0mX\u001b[0m\u001b[0;34m)\u001b[0m\u001b[0;34m\u001b[0m\u001b[0;34m\u001b[0m\u001b[0m\n\u001b[0m\u001b[1;32m    226\u001b[0m \u001b[0;34m\u001b[0m\u001b[0m\n\u001b[1;32m    227\u001b[0m     \u001b[0m_preprocess_data\u001b[0m \u001b[0;34m=\u001b[0m \u001b[0mstaticmethod\u001b[0m\u001b[0;34m(\u001b[0m\u001b[0m_preprocess_data\u001b[0m\u001b[0;34m)\u001b[0m\u001b[0;34m\u001b[0m\u001b[0;34m\u001b[0m\u001b[0m\n",
            "\u001b[0;32m/usr/local/lib/python3.7/dist-packages/sklearn/linear_model/_base.py\u001b[0m in \u001b[0;36m_decision_function\u001b[0;34m(self, X)\u001b[0m\n\u001b[1;32m    207\u001b[0m         \u001b[0mX\u001b[0m \u001b[0;34m=\u001b[0m \u001b[0mcheck_array\u001b[0m\u001b[0;34m(\u001b[0m\u001b[0mX\u001b[0m\u001b[0;34m,\u001b[0m \u001b[0maccept_sparse\u001b[0m\u001b[0;34m=\u001b[0m\u001b[0;34m[\u001b[0m\u001b[0;34m'csr'\u001b[0m\u001b[0;34m,\u001b[0m \u001b[0;34m'csc'\u001b[0m\u001b[0;34m,\u001b[0m \u001b[0;34m'coo'\u001b[0m\u001b[0;34m]\u001b[0m\u001b[0;34m)\u001b[0m\u001b[0;34m\u001b[0m\u001b[0;34m\u001b[0m\u001b[0m\n\u001b[1;32m    208\u001b[0m         return safe_sparse_dot(X, self.coef_.T,\n\u001b[0;32m--> 209\u001b[0;31m                                dense_output=True) + self.intercept_\n\u001b[0m\u001b[1;32m    210\u001b[0m \u001b[0;34m\u001b[0m\u001b[0m\n\u001b[1;32m    211\u001b[0m     \u001b[0;32mdef\u001b[0m \u001b[0mpredict\u001b[0m\u001b[0;34m(\u001b[0m\u001b[0mself\u001b[0m\u001b[0;34m,\u001b[0m \u001b[0mX\u001b[0m\u001b[0;34m)\u001b[0m\u001b[0;34m:\u001b[0m\u001b[0;34m\u001b[0m\u001b[0;34m\u001b[0m\u001b[0m\n",
            "\u001b[0;32m/usr/local/lib/python3.7/dist-packages/sklearn/utils/extmath.py\u001b[0m in \u001b[0;36msafe_sparse_dot\u001b[0;34m(a, b, dense_output)\u001b[0m\n\u001b[1;32m    149\u001b[0m             \u001b[0mret\u001b[0m \u001b[0;34m=\u001b[0m \u001b[0mnp\u001b[0m\u001b[0;34m.\u001b[0m\u001b[0mdot\u001b[0m\u001b[0;34m(\u001b[0m\u001b[0ma\u001b[0m\u001b[0;34m,\u001b[0m \u001b[0mb\u001b[0m\u001b[0;34m)\u001b[0m\u001b[0;34m\u001b[0m\u001b[0;34m\u001b[0m\u001b[0m\n\u001b[1;32m    150\u001b[0m     \u001b[0;32melse\u001b[0m\u001b[0;34m:\u001b[0m\u001b[0;34m\u001b[0m\u001b[0;34m\u001b[0m\u001b[0m\n\u001b[0;32m--> 151\u001b[0;31m         \u001b[0mret\u001b[0m \u001b[0;34m=\u001b[0m \u001b[0ma\u001b[0m \u001b[0;34m@\u001b[0m \u001b[0mb\u001b[0m\u001b[0;34m\u001b[0m\u001b[0;34m\u001b[0m\u001b[0m\n\u001b[0m\u001b[1;32m    152\u001b[0m \u001b[0;34m\u001b[0m\u001b[0m\n\u001b[1;32m    153\u001b[0m     if (sparse.issparse(a) and sparse.issparse(b)\n",
            "\u001b[0;31mValueError\u001b[0m: matmul: Input operand 1 has a mismatch in its core dimension 0, with gufunc signature (n?,k),(k,m?)->(n?,m?) (size 8 is different from 1000)"
          ]
        }
      ]
    }
  ]
}