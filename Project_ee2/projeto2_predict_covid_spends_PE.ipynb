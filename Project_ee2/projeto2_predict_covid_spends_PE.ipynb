{
  "nbformat": 4,
  "nbformat_minor": 0,
  "metadata": {
    "colab": {
      "name": "projeto2_predict_covid_spends_PE.ipynb",
      "provenance": [],
      "collapsed_sections": [
        "K-kWnVapqbiZ",
        "UiU31eirNa9-",
        "MHqgJ0_e9dUa",
        "d_488MvPT4fM",
        "PdTk7hYE-ydB",
        "Ui9n7pptx9N3",
        "jLDhV-F6-1nV",
        "JvIjW9eo7M4V",
        "IDTgOPKxAaCv",
        "1IDXw_5TCKW2",
        "d0ZLSfnjrGxW",
        "VO9OsW3orMVd",
        "T3-0xYyOA4qf",
        "dGsDhwkj4y6m",
        "kIimpYCE418k",
        "mAKdnjmG4qvj"
      ],
      "include_colab_link": true
    },
    "kernelspec": {
      "display_name": "Python 3",
      "name": "python3"
    }
  },
  "cells": [
    {
      "cell_type": "markdown",
      "metadata": {
        "id": "view-in-github",
        "colab_type": "text"
      },
      "source": [
        "<a href=\"https://colab.research.google.com/github/marcosw1998/Data-Science/blob/main-mlflow/Project_ee2/projeto2_predict_covid_spends_PE.ipynb\" target=\"_parent\"><img src=\"https://colab.research.google.com/assets/colab-badge.svg\" alt=\"Open In Colab\"/></a>"
      ]
    },
    {
      "cell_type": "markdown",
      "metadata": {
        "id": "2RWUvaojnu30"
      },
      "source": [
        "# **Análise dos custos do governo de Pernambuco - BR em relação à Covid-19**\n",
        "* Projeto corresponde a entrega parcial para avaliação na cadeira eletiva IF697 - Intro. a Ciência dos Dados\n",
        "* Autores: Igor Silva e Marcos Cavalcanti\n",
        "* Conjunto de dados públicos retirados das seguintes fontes:\n",
        "  * [Portal da Transparência TCU](http://www.portaltransparencia.gov.br/coronavirus)\n",
        "  * [Prefeitura do Recife](http://dados.recife.pe.gov.br/dataset?tags=sa%C3%BAde)\n",
        "  * [Brasil.io](https://brasil.io/dataset/covid19/caso_full/)\n",
        "\n"
      ]
    },
    {
      "cell_type": "markdown",
      "metadata": {
        "id": "yMkF45UHR9sg"
      },
      "source": [
        "## **Por quê o tema?**\n",
        "\n",
        "* Interesse em entender e expor de forma clara os gastos públicos\n",
        "* Analisar distribuição de gastos\n",
        "* Covis-19 é um tema importante e merece muita atenção, pois tem feito muitas vítimas e mudado a forma como a sociedade pensa e se organiza\n",
        "* Entender a distribuição de gastos é uma boa forma de tentar corrigir erros e minimizar danos futuros na economia e na sociedade"
      ]
    },
    {
      "cell_type": "markdown",
      "metadata": {
        "id": "nUSfHSb5xbcu"
      },
      "source": [
        "## **Carregando as bibliotecas**\n",
        "\n",
        "  * Utilizaremos as seguintes bibliotecas\n",
        "    * **`Pandas`** para trabalhar sobre os dados  e a biblioteca. \n",
        "    * **`Numpy`** para operações sobre os datasets.\n",
        "    * **`matplotlib`** e **`seaborn`** para visualizações.\n",
        "    * **`Optuna`** para Seleção otimizada de hiperparâmetros dos algoritmos de ML que serão utilizados.\n",
        "    * **`MLflow`** para rastrear os resultados e métricas dos algoritmos de ML, além de usá-lo como fundamentação para otimizá-los, posteriormente.\n",
        "  \n",
        "\n"
      ]
    },
    {
      "cell_type": "code",
      "metadata": {
        "id": "qSJ4OiBLyBUd"
      },
      "source": [
        "import numpy as np\n",
        "import pandas as pd\n",
        "import matplotlib.pyplot as plt\n",
        "import seaborn as sns; sns.set_theme()"
      ],
      "execution_count": 1,
      "outputs": []
    },
    {
      "cell_type": "code",
      "metadata": {
        "id": "JMEjId_vSlyt",
        "colab": {
          "base_uri": "https://localhost:8080/"
        },
        "outputId": "98f4040a-6da6-4479-8b97-a1f87e061802"
      },
      "source": [
        "pip install optuna"
      ],
      "execution_count": 2,
      "outputs": [
        {
          "output_type": "stream",
          "text": [
            "Collecting optuna\n",
            "\u001b[?25l  Downloading https://files.pythonhosted.org/packages/2b/21/d13081805e1e1afc71f5bb743ece324c8bd576237c51b899ecb38a717502/optuna-2.7.0-py3-none-any.whl (293kB)\n",
            "\r\u001b[K     |█▏                              | 10kB 16.5MB/s eta 0:00:01\r\u001b[K     |██▎                             | 20kB 23.2MB/s eta 0:00:01\r\u001b[K     |███▍                            | 30kB 23.6MB/s eta 0:00:01\r\u001b[K     |████▌                           | 40kB 21.5MB/s eta 0:00:01\r\u001b[K     |█████▋                          | 51kB 20.6MB/s eta 0:00:01\r\u001b[K     |██████▊                         | 61kB 17.9MB/s eta 0:00:01\r\u001b[K     |███████▉                        | 71kB 18.0MB/s eta 0:00:01\r\u001b[K     |█████████                       | 81kB 16.3MB/s eta 0:00:01\r\u001b[K     |██████████                      | 92kB 15.7MB/s eta 0:00:01\r\u001b[K     |███████████▏                    | 102kB 15.9MB/s eta 0:00:01\r\u001b[K     |████████████▎                   | 112kB 15.9MB/s eta 0:00:01\r\u001b[K     |█████████████▍                  | 122kB 15.9MB/s eta 0:00:01\r\u001b[K     |██████████████▌                 | 133kB 15.9MB/s eta 0:00:01\r\u001b[K     |███████████████▋                | 143kB 15.9MB/s eta 0:00:01\r\u001b[K     |████████████████▊               | 153kB 15.9MB/s eta 0:00:01\r\u001b[K     |█████████████████▉              | 163kB 15.9MB/s eta 0:00:01\r\u001b[K     |███████████████████             | 174kB 15.9MB/s eta 0:00:01\r\u001b[K     |████████████████████            | 184kB 15.9MB/s eta 0:00:01\r\u001b[K     |█████████████████████▏          | 194kB 15.9MB/s eta 0:00:01\r\u001b[K     |██████████████████████▎         | 204kB 15.9MB/s eta 0:00:01\r\u001b[K     |███████████████████████▍        | 215kB 15.9MB/s eta 0:00:01\r\u001b[K     |████████████████████████▋       | 225kB 15.9MB/s eta 0:00:01\r\u001b[K     |█████████████████████████▊      | 235kB 15.9MB/s eta 0:00:01\r\u001b[K     |██████████████████████████▉     | 245kB 15.9MB/s eta 0:00:01\r\u001b[K     |████████████████████████████    | 256kB 15.9MB/s eta 0:00:01\r\u001b[K     |█████████████████████████████   | 266kB 15.9MB/s eta 0:00:01\r\u001b[K     |██████████████████████████████▏ | 276kB 15.9MB/s eta 0:00:01\r\u001b[K     |███████████████████████████████▎| 286kB 15.9MB/s eta 0:00:01\r\u001b[K     |████████████████████████████████| 296kB 15.9MB/s \n",
            "\u001b[?25hRequirement already satisfied: numpy in /usr/local/lib/python3.7/dist-packages (from optuna) (1.19.5)\n",
            "Requirement already satisfied: packaging>=20.0 in /usr/local/lib/python3.7/dist-packages (from optuna) (20.9)\n",
            "Collecting colorlog\n",
            "  Downloading https://files.pythonhosted.org/packages/32/e6/e9ddc6fa1104fda718338b341e4b3dc31cd8039ab29e52fc73b508515361/colorlog-5.0.1-py2.py3-none-any.whl\n",
            "Requirement already satisfied: sqlalchemy>=1.1.0 in /usr/local/lib/python3.7/dist-packages (from optuna) (1.4.7)\n",
            "Collecting alembic\n",
            "\u001b[?25l  Downloading https://files.pythonhosted.org/packages/72/a4/97eb6273839655cac14947986fa7a5935350fcfd4fff872e9654264c82d8/alembic-1.5.8-py2.py3-none-any.whl (159kB)\n",
            "\u001b[K     |████████████████████████████████| 163kB 18.2MB/s \n",
            "\u001b[?25hRequirement already satisfied: scipy!=1.4.0 in /usr/local/lib/python3.7/dist-packages (from optuna) (1.4.1)\n",
            "Requirement already satisfied: tqdm in /usr/local/lib/python3.7/dist-packages (from optuna) (4.41.1)\n",
            "Collecting cmaes>=0.8.2\n",
            "  Downloading https://files.pythonhosted.org/packages/01/1f/43b01223a0366171f474320c6e966c39a11587287f098a5f09809b45e05f/cmaes-0.8.2-py3-none-any.whl\n",
            "Collecting cliff\n",
            "\u001b[?25l  Downloading https://files.pythonhosted.org/packages/a2/d6/7d9acb68a77acd140be7fececb7f2701b2a29d2da9c54184cb8f93509590/cliff-3.7.0-py3-none-any.whl (80kB)\n",
            "\u001b[K     |████████████████████████████████| 81kB 8.7MB/s \n",
            "\u001b[?25hRequirement already satisfied: pyparsing>=2.0.2 in /usr/local/lib/python3.7/dist-packages (from packaging>=20.0->optuna) (2.4.7)\n",
            "Requirement already satisfied: greenlet!=0.4.17; python_version >= \"3\" in /usr/local/lib/python3.7/dist-packages (from sqlalchemy>=1.1.0->optuna) (1.0.0)\n",
            "Requirement already satisfied: importlib-metadata; python_version < \"3.8\" in /usr/local/lib/python3.7/dist-packages (from sqlalchemy>=1.1.0->optuna) (3.10.1)\n",
            "Collecting python-editor>=0.3\n",
            "  Downloading https://files.pythonhosted.org/packages/c6/d3/201fc3abe391bbae6606e6f1d598c15d367033332bd54352b12f35513717/python_editor-1.0.4-py3-none-any.whl\n",
            "Requirement already satisfied: python-dateutil in /usr/local/lib/python3.7/dist-packages (from alembic->optuna) (2.8.1)\n",
            "Collecting Mako\n",
            "\u001b[?25l  Downloading https://files.pythonhosted.org/packages/f3/54/dbc07fbb20865d3b78fdb7cf7fa713e2cba4f87f71100074ef2dc9f9d1f7/Mako-1.1.4-py2.py3-none-any.whl (75kB)\n",
            "\u001b[K     |████████████████████████████████| 81kB 9.0MB/s \n",
            "\u001b[?25hCollecting pbr!=2.1.0,>=2.0.0\n",
            "\u001b[?25l  Downloading https://files.pythonhosted.org/packages/fb/48/69046506f6ac61c1eaa9a0d42d22d54673b69e176d30ca98e3f61513e980/pbr-5.5.1-py2.py3-none-any.whl (106kB)\n",
            "\u001b[K     |████████████████████████████████| 112kB 41.7MB/s \n",
            "\u001b[?25hRequirement already satisfied: PrettyTable>=0.7.2 in /usr/local/lib/python3.7/dist-packages (from cliff->optuna) (2.1.0)\n",
            "Requirement already satisfied: PyYAML>=3.12 in /usr/local/lib/python3.7/dist-packages (from cliff->optuna) (3.13)\n",
            "Collecting cmd2>=1.0.0\n",
            "\u001b[?25l  Downloading https://files.pythonhosted.org/packages/15/8b/15061b32332bb35ea2a2f6263d0f616779d576e82739ec8e7fcf3c94abf5/cmd2-1.5.0-py3-none-any.whl (133kB)\n",
            "\u001b[K     |████████████████████████████████| 143kB 46.3MB/s \n",
            "\u001b[?25hCollecting stevedore>=2.0.1\n",
            "\u001b[?25l  Downloading https://files.pythonhosted.org/packages/d4/49/b602307aeac3df3384ff1fcd05da9c0376c622a6c48bb5325f28ab165b57/stevedore-3.3.0-py3-none-any.whl (49kB)\n",
            "\u001b[K     |████████████████████████████████| 51kB 6.3MB/s \n",
            "\u001b[?25hRequirement already satisfied: typing-extensions>=3.6.4; python_version < \"3.8\" in /usr/local/lib/python3.7/dist-packages (from importlib-metadata; python_version < \"3.8\"->sqlalchemy>=1.1.0->optuna) (3.7.4.3)\n",
            "Requirement already satisfied: zipp>=0.5 in /usr/local/lib/python3.7/dist-packages (from importlib-metadata; python_version < \"3.8\"->sqlalchemy>=1.1.0->optuna) (3.4.1)\n",
            "Requirement already satisfied: six>=1.5 in /usr/local/lib/python3.7/dist-packages (from python-dateutil->alembic->optuna) (1.15.0)\n",
            "Requirement already satisfied: MarkupSafe>=0.9.2 in /usr/local/lib/python3.7/dist-packages (from Mako->alembic->optuna) (1.1.1)\n",
            "Requirement already satisfied: wcwidth in /usr/local/lib/python3.7/dist-packages (from PrettyTable>=0.7.2->cliff->optuna) (0.2.5)\n",
            "Collecting pyperclip>=1.6\n",
            "  Downloading https://files.pythonhosted.org/packages/a7/2c/4c64579f847bd5d539803c8b909e54ba087a79d01bb3aba433a95879a6c5/pyperclip-1.8.2.tar.gz\n",
            "Requirement already satisfied: attrs>=16.3.0 in /usr/local/lib/python3.7/dist-packages (from cmd2>=1.0.0->cliff->optuna) (20.3.0)\n",
            "Collecting colorama>=0.3.7\n",
            "  Downloading https://files.pythonhosted.org/packages/44/98/5b86278fbbf250d239ae0ecb724f8572af1c91f4a11edf4d36a206189440/colorama-0.4.4-py2.py3-none-any.whl\n",
            "Building wheels for collected packages: pyperclip\n",
            "  Building wheel for pyperclip (setup.py) ... \u001b[?25l\u001b[?25hdone\n",
            "  Created wheel for pyperclip: filename=pyperclip-1.8.2-cp37-none-any.whl size=11107 sha256=f7fdc2267154bc91d3c1aef1b2228d668668b3e1eaf3203c385ecaba7887b7c6\n",
            "  Stored in directory: /root/.cache/pip/wheels/25/af/b8/3407109267803f4015e1ee2ff23be0c8c19ce4008665931ee1\n",
            "Successfully built pyperclip\n",
            "Installing collected packages: colorlog, python-editor, Mako, alembic, cmaes, pbr, pyperclip, colorama, cmd2, stevedore, cliff, optuna\n",
            "Successfully installed Mako-1.1.4 alembic-1.5.8 cliff-3.7.0 cmaes-0.8.2 cmd2-1.5.0 colorama-0.4.4 colorlog-5.0.1 optuna-2.7.0 pbr-5.5.1 pyperclip-1.8.2 python-editor-1.0.4 stevedore-3.3.0\n"
          ],
          "name": "stdout"
        }
      ]
    },
    {
      "cell_type": "code",
      "metadata": {
        "id": "TRrnc82-ezCL",
        "colab": {
          "base_uri": "https://localhost:8080/"
        },
        "outputId": "7258a6eb-d54c-410a-8274-f2004ea52a5d"
      },
      "source": [
        "!pip install mlflow"
      ],
      "execution_count": 3,
      "outputs": [
        {
          "output_type": "stream",
          "text": [
            "Collecting mlflow\n",
            "\u001b[?25l  Downloading https://files.pythonhosted.org/packages/44/03/27a5457d0dfd7cd05016e54c0c00b33e99b968d3cc49e4b87824307f1560/mlflow-1.15.0-py3-none-any.whl (14.2MB)\n",
            "\u001b[K     |████████████████████████████████| 14.2MB 283kB/s \n",
            "\u001b[?25hRequirement already satisfied: pandas in /usr/local/lib/python3.7/dist-packages (from mlflow) (1.1.5)\n",
            "Collecting gunicorn; platform_system != \"Windows\"\n",
            "\u001b[?25l  Downloading https://files.pythonhosted.org/packages/28/5b/0d1f0296485a6af03366604142ea8f19f0833894db3512a40ed07b2a56dd/gunicorn-20.1.0.tar.gz (370kB)\n",
            "\u001b[K     |████████████████████████████████| 378kB 48.7MB/s \n",
            "\u001b[?25hCollecting prometheus-flask-exporter\n",
            "  Downloading https://files.pythonhosted.org/packages/4c/d5/8a046d683c2cc084b6a502812827ede69b1064f95d93f94b83f809b21723/prometheus_flask_exporter-0.18.1.tar.gz\n",
            "Requirement already satisfied: pyyaml in /usr/local/lib/python3.7/dist-packages (from mlflow) (3.13)\n",
            "Collecting alembic<=1.4.1\n",
            "\u001b[?25l  Downloading https://files.pythonhosted.org/packages/e0/e9/359dbb77c35c419df0aedeb1d53e71e7e3f438ff64a8fdb048c907404de3/alembic-1.4.1.tar.gz (1.1MB)\n",
            "\u001b[K     |████████████████████████████████| 1.1MB 39.6MB/s \n",
            "\u001b[?25hRequirement already satisfied: pytz in /usr/local/lib/python3.7/dist-packages (from mlflow) (2018.9)\n",
            "Collecting gitpython>=2.1.0\n",
            "\u001b[?25l  Downloading https://files.pythonhosted.org/packages/a6/99/98019716955ba243657daedd1de8f3a88ca1f5b75057c38e959db22fb87b/GitPython-3.1.14-py3-none-any.whl (159kB)\n",
            "\u001b[K     |████████████████████████████████| 163kB 46.7MB/s \n",
            "\u001b[?25hRequirement already satisfied: sqlalchemy in /usr/local/lib/python3.7/dist-packages (from mlflow) (1.4.7)\n",
            "Requirement already satisfied: click>=7.0 in /usr/local/lib/python3.7/dist-packages (from mlflow) (7.1.2)\n",
            "Requirement already satisfied: sqlparse>=0.3.1 in /usr/local/lib/python3.7/dist-packages (from mlflow) (0.4.1)\n",
            "Requirement already satisfied: protobuf>=3.6.0 in /usr/local/lib/python3.7/dist-packages (from mlflow) (3.12.4)\n",
            "Collecting databricks-cli>=0.8.7\n",
            "\u001b[?25l  Downloading https://files.pythonhosted.org/packages/bc/af/631375abc29e59cedfa4467a5f7755503ba19898890751e1f2636ef02f92/databricks-cli-0.14.3.tar.gz (54kB)\n",
            "\u001b[K     |████████████████████████████████| 61kB 7.0MB/s \n",
            "\u001b[?25hRequirement already satisfied: Flask in /usr/local/lib/python3.7/dist-packages (from mlflow) (1.1.2)\n",
            "Collecting docker>=4.0.0\n",
            "\u001b[?25l  Downloading https://files.pythonhosted.org/packages/b2/5a/f988909dfed18c1ac42ad8d9e611e6c5657e270aa6eb68559985dbb69c13/docker-5.0.0-py2.py3-none-any.whl (146kB)\n",
            "\u001b[K     |████████████████████████████████| 153kB 54.8MB/s \n",
            "\u001b[?25hRequirement already satisfied: requests>=2.17.3 in /usr/local/lib/python3.7/dist-packages (from mlflow) (2.23.0)\n",
            "Requirement already satisfied: cloudpickle in /usr/local/lib/python3.7/dist-packages (from mlflow) (1.3.0)\n",
            "Collecting querystring-parser\n",
            "  Downloading https://files.pythonhosted.org/packages/88/6b/572b2590fd55114118bf08bde63c0a421dcc82d593700f3e2ad89908a8a9/querystring_parser-1.2.4-py2.py3-none-any.whl\n",
            "Requirement already satisfied: numpy in /usr/local/lib/python3.7/dist-packages (from mlflow) (1.19.5)\n",
            "Requirement already satisfied: entrypoints in /usr/local/lib/python3.7/dist-packages (from mlflow) (0.3)\n",
            "Requirement already satisfied: python-dateutil>=2.7.3 in /usr/local/lib/python3.7/dist-packages (from pandas->mlflow) (2.8.1)\n",
            "Requirement already satisfied: setuptools>=3.0 in /usr/local/lib/python3.7/dist-packages (from gunicorn; platform_system != \"Windows\"->mlflow) (54.2.0)\n",
            "Requirement already satisfied: prometheus_client in /usr/local/lib/python3.7/dist-packages (from prometheus-flask-exporter->mlflow) (0.10.1)\n",
            "Requirement already satisfied: Mako in /usr/local/lib/python3.7/dist-packages (from alembic<=1.4.1->mlflow) (1.1.4)\n",
            "Requirement already satisfied: python-editor>=0.3 in /usr/local/lib/python3.7/dist-packages (from alembic<=1.4.1->mlflow) (1.0.4)\n",
            "Collecting gitdb<5,>=4.0.1\n",
            "\u001b[?25l  Downloading https://files.pythonhosted.org/packages/ea/e8/f414d1a4f0bbc668ed441f74f44c116d9816833a48bf81d22b697090dba8/gitdb-4.0.7-py3-none-any.whl (63kB)\n",
            "\u001b[K     |████████████████████████████████| 71kB 8.0MB/s \n",
            "\u001b[?25hRequirement already satisfied: greenlet!=0.4.17; python_version >= \"3\" in /usr/local/lib/python3.7/dist-packages (from sqlalchemy->mlflow) (1.0.0)\n",
            "Requirement already satisfied: importlib-metadata; python_version < \"3.8\" in /usr/local/lib/python3.7/dist-packages (from sqlalchemy->mlflow) (3.10.1)\n",
            "Requirement already satisfied: six>=1.9 in /usr/local/lib/python3.7/dist-packages (from protobuf>=3.6.0->mlflow) (1.15.0)\n",
            "Requirement already satisfied: tabulate>=0.7.7 in /usr/local/lib/python3.7/dist-packages (from databricks-cli>=0.8.7->mlflow) (0.8.9)\n",
            "Requirement already satisfied: Werkzeug>=0.15 in /usr/local/lib/python3.7/dist-packages (from Flask->mlflow) (1.0.1)\n",
            "Requirement already satisfied: itsdangerous>=0.24 in /usr/local/lib/python3.7/dist-packages (from Flask->mlflow) (1.1.0)\n",
            "Requirement already satisfied: Jinja2>=2.10.1 in /usr/local/lib/python3.7/dist-packages (from Flask->mlflow) (2.11.3)\n",
            "Collecting websocket-client>=0.32.0\n",
            "\u001b[?25l  Downloading https://files.pythonhosted.org/packages/08/33/80e0d4f60e84a1ddd9a03f340be1065a2a363c47ce65c4bd3bae65ce9631/websocket_client-0.58.0-py2.py3-none-any.whl (61kB)\n",
            "\u001b[K     |████████████████████████████████| 61kB 6.2MB/s \n",
            "\u001b[?25hRequirement already satisfied: idna<3,>=2.5 in /usr/local/lib/python3.7/dist-packages (from requests>=2.17.3->mlflow) (2.10)\n",
            "Requirement already satisfied: urllib3!=1.25.0,!=1.25.1,<1.26,>=1.21.1 in /usr/local/lib/python3.7/dist-packages (from requests>=2.17.3->mlflow) (1.24.3)\n",
            "Requirement already satisfied: certifi>=2017.4.17 in /usr/local/lib/python3.7/dist-packages (from requests>=2.17.3->mlflow) (2020.12.5)\n",
            "Requirement already satisfied: chardet<4,>=3.0.2 in /usr/local/lib/python3.7/dist-packages (from requests>=2.17.3->mlflow) (3.0.4)\n",
            "Requirement already satisfied: MarkupSafe>=0.9.2 in /usr/local/lib/python3.7/dist-packages (from Mako->alembic<=1.4.1->mlflow) (1.1.1)\n",
            "Collecting smmap<5,>=3.0.1\n",
            "  Downloading https://files.pythonhosted.org/packages/68/ee/d540eb5e5996eb81c26ceffac6ee49041d473bc5125f2aa995cf51ec1cf1/smmap-4.0.0-py2.py3-none-any.whl\n",
            "Requirement already satisfied: typing-extensions>=3.6.4; python_version < \"3.8\" in /usr/local/lib/python3.7/dist-packages (from importlib-metadata; python_version < \"3.8\"->sqlalchemy->mlflow) (3.7.4.3)\n",
            "Requirement already satisfied: zipp>=0.5 in /usr/local/lib/python3.7/dist-packages (from importlib-metadata; python_version < \"3.8\"->sqlalchemy->mlflow) (3.4.1)\n",
            "Building wheels for collected packages: gunicorn, prometheus-flask-exporter, alembic, databricks-cli\n",
            "  Building wheel for gunicorn (setup.py) ... \u001b[?25l\u001b[?25hdone\n",
            "  Created wheel for gunicorn: filename=gunicorn-20.1.0-cp37-none-any.whl size=78918 sha256=94edcf475f8ecb547466321db7497a9b7fc6fdd2a8368f0a6293227f115234de\n",
            "  Stored in directory: /root/.cache/pip/wheels/4c/ea/e2/698dde91d46e32a449e60f785a91954f67f72fea8890bb1072\n",
            "  Building wheel for prometheus-flask-exporter (setup.py) ... \u001b[?25l\u001b[?25hdone\n",
            "  Created wheel for prometheus-flask-exporter: filename=prometheus_flask_exporter-0.18.1-cp37-none-any.whl size=17159 sha256=ca113e9748617b567a79752e171c5b70b22e1d9f1ce75ef16ff6716c08671253\n",
            "  Stored in directory: /root/.cache/pip/wheels/b4/1f/b8/66bd9bc3a9d6c6987ff6c4dfeb6f1fe97b5a0e5ed5849c0437\n",
            "  Building wheel for alembic (setup.py) ... \u001b[?25l\u001b[?25hdone\n",
            "  Created wheel for alembic: filename=alembic-1.4.1-py2.py3-none-any.whl size=158155 sha256=1caea24338e4ae7481adade3591cf076447789b6da78d0f9cd1bcf2fe29068ff\n",
            "  Stored in directory: /root/.cache/pip/wheels/84/07/f7/12f7370ca47a66030c2edeedcc23dec26ea0ac22dcb4c4a0f3\n",
            "  Building wheel for databricks-cli (setup.py) ... \u001b[?25l\u001b[?25hdone\n",
            "  Created wheel for databricks-cli: filename=databricks_cli-0.14.3-cp37-none-any.whl size=100557 sha256=ebc5e2764e4262d0e77861fc46973c63b2fe2a0fcfd50a459d106fe1aa43fa10\n",
            "  Stored in directory: /root/.cache/pip/wheels/5b/24/f3/34d8e3964dac4ba849d844273c49a679111b00d5799ebb934a\n",
            "Successfully built gunicorn prometheus-flask-exporter alembic databricks-cli\n",
            "Installing collected packages: gunicorn, prometheus-flask-exporter, alembic, smmap, gitdb, gitpython, databricks-cli, websocket-client, docker, querystring-parser, mlflow\n",
            "  Found existing installation: alembic 1.5.8\n",
            "    Uninstalling alembic-1.5.8:\n",
            "      Successfully uninstalled alembic-1.5.8\n",
            "Successfully installed alembic-1.4.1 databricks-cli-0.14.3 docker-5.0.0 gitdb-4.0.7 gitpython-3.1.14 gunicorn-20.1.0 mlflow-1.15.0 prometheus-flask-exporter-0.18.1 querystring-parser-1.2.4 smmap-4.0.0 websocket-client-0.58.0\n"
          ],
          "name": "stdout"
        }
      ]
    },
    {
      "cell_type": "markdown",
      "metadata": {
        "id": "K-kWnVapqbiZ"
      },
      "source": [
        "## **Datasets**"
      ]
    },
    {
      "cell_type": "markdown",
      "metadata": {
        "id": "UiU31eirNa9-"
      },
      "source": [
        "### Portal da transparência\n",
        "\n",
        "* O portal da transparência permite que sejam baixados apenas 1000 registros por vez, portanto decidimos por baixar 2 datasets diferentes e depois fazermos a junção. Os dados são referentes a algumas cidades de Pernambuco \n",
        "(Recife, Jaboatão, Olinda, Paulista, Caruaru, Garanhuns, Petrolina, Arcoverde, Serra Talhada, Buíque)"
      ]
    },
    {
      "cell_type": "code",
      "metadata": {
        "id": "P2LLyC3CNM-9"
      },
      "source": [
        "invest_covidPe = pd.read_csv(\"https://raw.githubusercontent.com/marcosw1998/Data-Science/main-mwac/Datasets/covid-pe.csv\",encoding = \"utf-8\")\n",
        "invest_covidPe2 = pd.read_csv(\"https://raw.githubusercontent.com/marcosw1998/Data-Science/main-mwac/Datasets/transferencias_coronavirus.csv\",encoding = \"utf-8\")"
      ],
      "execution_count": 4,
      "outputs": []
    },
    {
      "cell_type": "code",
      "metadata": {
        "colab": {
          "base_uri": "https://localhost:8080/",
          "height": 0
        },
        "id": "cw8ZAqtszcX-",
        "outputId": "64cb183a-1fc3-4f6a-80ad-58c5c3593caf"
      },
      "source": [
        "#Validando os dados do dataset invest_covidPe\n",
        "print('Dataset 1',invest_covidPe.shape)\n",
        "invest_covidPe.sort_values(\"Município\").head()"
      ],
      "execution_count": 5,
      "outputs": [
        {
          "output_type": "stream",
          "text": [
            "Dataset 1 (561, 12)\n"
          ],
          "name": "stdout"
        },
        {
          "output_type": "execute_result",
          "data": {
            "text/html": [
              "<div>\n",
              "<style scoped>\n",
              "    .dataframe tbody tr th:only-of-type {\n",
              "        vertical-align: middle;\n",
              "    }\n",
              "\n",
              "    .dataframe tbody tr th {\n",
              "        vertical-align: top;\n",
              "    }\n",
              "\n",
              "    .dataframe thead th {\n",
              "        text-align: right;\n",
              "    }\n",
              "</style>\n",
              "<table border=\"1\" class=\"dataframe\">\n",
              "  <thead>\n",
              "    <tr style=\"text-align: right;\">\n",
              "      <th></th>\n",
              "      <th>Mês/Ano</th>\n",
              "      <th>Tipo</th>\n",
              "      <th>Tipo de Favorecido</th>\n",
              "      <th>UF</th>\n",
              "      <th>Nome do Favorecido</th>\n",
              "      <th>CPF/CNPJ</th>\n",
              "      <th>Município</th>\n",
              "      <th>Função</th>\n",
              "      <th>Programa Orçamentário</th>\n",
              "      <th>Ação Orçamentária</th>\n",
              "      <th>Linguagem Cidadã</th>\n",
              "      <th>Valor Transferido</th>\n",
              "    </tr>\n",
              "  </thead>\n",
              "  <tbody>\n",
              "    <tr>\n",
              "      <th>182</th>\n",
              "      <td>nov/20</td>\n",
              "      <td>Legais. Voluntárias e Específicas</td>\n",
              "      <td>Fundo Público</td>\n",
              "      <td>PE</td>\n",
              "      <td>FUNDO MUNICIPAL DE SAUDE</td>\n",
              "      <td>11.371.082/0001-05</td>\n",
              "      <td>CARUARU</td>\n",
              "      <td>Saúde</td>\n",
              "      <td>ATENCAO ESPECIALIZADA A SAUDE</td>\n",
              "      <td>ENFRENTAMENTO DA EMERGENCIA DE SAUDE PUBLICA D...</td>\n",
              "      <td>Sem informação</td>\n",
              "      <td>486.515.00</td>\n",
              "    </tr>\n",
              "    <tr>\n",
              "      <th>178</th>\n",
              "      <td>nov/20</td>\n",
              "      <td>Legais. Voluntárias e Específicas</td>\n",
              "      <td>Entidades Sem Fins Lucrativos</td>\n",
              "      <td>PE</td>\n",
              "      <td>ASSOCICAO DE PAIS E MESTRES</td>\n",
              "      <td>11.252.224/0001-07</td>\n",
              "      <td>CARUARU</td>\n",
              "      <td>Educação</td>\n",
              "      <td>EDUCACAO BASICA DE QUALIDADE</td>\n",
              "      <td>DINHEIRO DIRETO NA ESCOLA PARA A EDUCACAO BASICA</td>\n",
              "      <td>PDDE</td>\n",
              "      <td>7.897.02</td>\n",
              "    </tr>\n",
              "    <tr>\n",
              "      <th>179</th>\n",
              "      <td>nov/20</td>\n",
              "      <td>Legais. Voluntárias e Específicas</td>\n",
              "      <td>Entidades Sem Fins Lucrativos</td>\n",
              "      <td>PE</td>\n",
              "      <td>CONSELHO ESCOLAR MARIA DO SOCORRO DE FREITAS</td>\n",
              "      <td>02.021.769/0001-11</td>\n",
              "      <td>CARUARU</td>\n",
              "      <td>Educação</td>\n",
              "      <td>EDUCACAO BASICA DE QUALIDADE</td>\n",
              "      <td>DINHEIRO DIRETO NA ESCOLA PARA A EDUCACAO BASICA</td>\n",
              "      <td>PDDE</td>\n",
              "      <td>2.837.48</td>\n",
              "    </tr>\n",
              "    <tr>\n",
              "      <th>87</th>\n",
              "      <td>nov/20</td>\n",
              "      <td>Legais. Voluntárias e Específicas</td>\n",
              "      <td>Entidades Sem Fins Lucrativos</td>\n",
              "      <td>PE</td>\n",
              "      <td>CONSELHO ESCOLAR DOM BERNARDINO MARCHIO</td>\n",
              "      <td>34.179.420/0001-07</td>\n",
              "      <td>CARUARU</td>\n",
              "      <td>Educação</td>\n",
              "      <td>EDUCACAO BASICA DE QUALIDADE</td>\n",
              "      <td>DINHEIRO DIRETO NA ESCOLA PARA A EDUCACAO BASICA</td>\n",
              "      <td>PDDE</td>\n",
              "      <td>8.427.56</td>\n",
              "    </tr>\n",
              "    <tr>\n",
              "      <th>181</th>\n",
              "      <td>nov/20</td>\n",
              "      <td>Legais. Voluntárias e Específicas</td>\n",
              "      <td>Entidades Sem Fins Lucrativos</td>\n",
              "      <td>PE</td>\n",
              "      <td>UNIDADE EXECUTORA MAJOR DR.SINVAL</td>\n",
              "      <td>11.441.171/0001-72</td>\n",
              "      <td>CARUARU</td>\n",
              "      <td>Educação</td>\n",
              "      <td>EDUCACAO BASICA DE QUALIDADE</td>\n",
              "      <td>DINHEIRO DIRETO NA ESCOLA PARA A EDUCACAO BASICA</td>\n",
              "      <td>PDDE</td>\n",
              "      <td>2.274.59</td>\n",
              "    </tr>\n",
              "  </tbody>\n",
              "</table>\n",
              "</div>"
            ],
            "text/plain": [
              "    Mês/Ano  ... Valor Transferido\n",
              "182  nov/20  ...        486.515.00\n",
              "178  nov/20  ...          7.897.02\n",
              "179  nov/20  ...          2.837.48\n",
              "87   nov/20  ...          8.427.56\n",
              "181  nov/20  ...          2.274.59\n",
              "\n",
              "[5 rows x 12 columns]"
            ]
          },
          "metadata": {
            "tags": []
          },
          "execution_count": 5
        }
      ]
    },
    {
      "cell_type": "code",
      "metadata": {
        "colab": {
          "base_uri": "https://localhost:8080/",
          "height": 0
        },
        "id": "GejXSMaUzemV",
        "outputId": "e4da5add-5894-400c-efed-c111c19a14f1"
      },
      "source": [
        "#Validando os dados do dataset invest_covidPe2\n",
        "print('Dataset 2',invest_covidPe2.shape)\n",
        "invest_covidPe2.sort_values(\"Município\").head()"
      ],
      "execution_count": 6,
      "outputs": [
        {
          "output_type": "stream",
          "text": [
            "Dataset 2 (140, 10)\n"
          ],
          "name": "stdout"
        },
        {
          "output_type": "execute_result",
          "data": {
            "text/html": [
              "<div>\n",
              "<style scoped>\n",
              "    .dataframe tbody tr th:only-of-type {\n",
              "        vertical-align: middle;\n",
              "    }\n",
              "\n",
              "    .dataframe tbody tr th {\n",
              "        vertical-align: top;\n",
              "    }\n",
              "\n",
              "    .dataframe thead th {\n",
              "        text-align: right;\n",
              "    }\n",
              "</style>\n",
              "<table border=\"1\" class=\"dataframe\">\n",
              "  <thead>\n",
              "    <tr style=\"text-align: right;\">\n",
              "      <th></th>\n",
              "      <th>Mês/Ano</th>\n",
              "      <th>Tipo</th>\n",
              "      <th>Ação Orçamentária</th>\n",
              "      <th>Programa Orçamentário</th>\n",
              "      <th>Função</th>\n",
              "      <th>Tipo de Favorecido</th>\n",
              "      <th>UF</th>\n",
              "      <th>Município</th>\n",
              "      <th>Valor Transferido</th>\n",
              "      <th>Unnamed: 9</th>\n",
              "    </tr>\n",
              "  </thead>\n",
              "  <tbody>\n",
              "    <tr>\n",
              "      <th>98</th>\n",
              "      <td>12/2020</td>\n",
              "      <td>Legais. Voluntárias e Específicas</td>\n",
              "      <td>21C0 - ENFRENTAMENTO DA EMERGENCIA DE SAUDE PU...</td>\n",
              "      <td>ATENCAO ESPECIALIZADA A SAUDE</td>\n",
              "      <td>10 - Saúde</td>\n",
              "      <td>Fundo Público</td>\n",
              "      <td>PE</td>\n",
              "      <td>ARCOVERDE</td>\n",
              "      <td>R$ 134.639.00</td>\n",
              "      <td>NaN</td>\n",
              "    </tr>\n",
              "    <tr>\n",
              "      <th>41</th>\n",
              "      <td>05/2020</td>\n",
              "      <td>Legais. Voluntárias e Específicas</td>\n",
              "      <td>21C0 - ENFRENTAMENTO DA EMERGENCIA DE SAUDE PU...</td>\n",
              "      <td>PROTECAO SOCIAL NO AMBITO DO SISTEMA UNICO DE ...</td>\n",
              "      <td>08 - Assistência social</td>\n",
              "      <td>Fundo Público</td>\n",
              "      <td>PE</td>\n",
              "      <td>ARCOVERDE</td>\n",
              "      <td>R$ 470.809.62</td>\n",
              "      <td>NaN</td>\n",
              "    </tr>\n",
              "    <tr>\n",
              "      <th>42</th>\n",
              "      <td>11/2020</td>\n",
              "      <td>Legais. Voluntárias e Específicas</td>\n",
              "      <td>21C0 - ENFRENTAMENTO DA EMERGENCIA DE SAUDE PU...</td>\n",
              "      <td>ATENCAO ESPECIALIZADA A SAUDE</td>\n",
              "      <td>10 - Saúde</td>\n",
              "      <td>Fundo Público</td>\n",
              "      <td>PE</td>\n",
              "      <td>ARCOVERDE</td>\n",
              "      <td>R$ 355.594.00</td>\n",
              "      <td>NaN</td>\n",
              "    </tr>\n",
              "    <tr>\n",
              "      <th>32</th>\n",
              "      <td>04/2020</td>\n",
              "      <td>Legais. Voluntárias e Específicas</td>\n",
              "      <td>21C0 - ENFRENTAMENTO DA EMERGENCIA DE SAUDE PU...</td>\n",
              "      <td>ATENCAO ESPECIALIZADA A SAUDE</td>\n",
              "      <td>10 - Saúde</td>\n",
              "      <td>Fundo Público</td>\n",
              "      <td>PE</td>\n",
              "      <td>ARCOVERDE</td>\n",
              "      <td>R$ 761.895.71</td>\n",
              "      <td>NaN</td>\n",
              "    </tr>\n",
              "    <tr>\n",
              "      <th>56</th>\n",
              "      <td>08/2020</td>\n",
              "      <td>Legais. Voluntárias e Específicas</td>\n",
              "      <td>21C0 - ENFRENTAMENTO DA EMERGENCIA DE SAUDE PU...</td>\n",
              "      <td>PROTECAO SOCIAL NO AMBITO DO SISTEMA UNICO DE ...</td>\n",
              "      <td>08 - Assistência social</td>\n",
              "      <td>Fundo Público</td>\n",
              "      <td>PE</td>\n",
              "      <td>ARCOVERDE</td>\n",
              "      <td>R$ 218.971.54</td>\n",
              "      <td>NaN</td>\n",
              "    </tr>\n",
              "  </tbody>\n",
              "</table>\n",
              "</div>"
            ],
            "text/plain": [
              "    Mês/Ano                               Tipo  ... Valor Transferido Unnamed: 9\n",
              "98  12/2020  Legais. Voluntárias e Específicas  ...     R$ 134.639.00        NaN\n",
              "41  05/2020  Legais. Voluntárias e Específicas  ...     R$ 470.809.62        NaN\n",
              "42  11/2020  Legais. Voluntárias e Específicas  ...     R$ 355.594.00        NaN\n",
              "32  04/2020  Legais. Voluntárias e Específicas  ...     R$ 761.895.71        NaN\n",
              "56  08/2020  Legais. Voluntárias e Específicas  ...     R$ 218.971.54        NaN\n",
              "\n",
              "[5 rows x 10 columns]"
            ]
          },
          "metadata": {
            "tags": []
          },
          "execution_count": 6
        }
      ]
    },
    {
      "cell_type": "markdown",
      "metadata": {
        "id": "b66iBYRL0hxm"
      },
      "source": [
        "*Podemos perceber que o Dataset **invest_covidPe** possui mais colunas que o Dataset **invest_covidPe2**.  Também notamos que o Dataset invest_covidPe2 possui uma coluna com dados Nan, vamos tratar disso no pré processamento antes de fazer a concatenação dos dois Datasets*"
      ]
    },
    {
      "cell_type": "markdown",
      "metadata": {
        "id": "MHqgJ0_e9dUa"
      },
      "source": [
        "### Dados de casos de Covid-19 por todo o estado de Pernambuco. \n",
        "Os valores estão atualizados até o dia 17/03/2021 e foram buscados através do Brasil.io"
      ]
    },
    {
      "cell_type": "code",
      "metadata": {
        "colab": {
          "base_uri": "https://localhost:8080/",
          "height": 0
        },
        "id": "tnkNhxpK9_EJ",
        "outputId": "5f1e53ce-7391-4cc2-e9b8-0e498b402b89"
      },
      "source": [
        "covidPeCases = pd.read_csv(\"https://raw.githubusercontent.com/marcosw1998/Data-Science/main-mwac/Datasets/covid19-1703-casos.csv\",encoding = \"utf-8\")\n",
        "print(covidPeCases.shape)\n",
        "covidPeCases.sort_values(\"city\").head()"
      ],
      "execution_count": 7,
      "outputs": [
        {
          "output_type": "stream",
          "text": [
            "(187, 16)\n"
          ],
          "name": "stdout"
        },
        {
          "output_type": "execute_result",
          "data": {
            "text/html": [
              "<div>\n",
              "<style scoped>\n",
              "    .dataframe tbody tr th:only-of-type {\n",
              "        vertical-align: middle;\n",
              "    }\n",
              "\n",
              "    .dataframe tbody tr th {\n",
              "        vertical-align: top;\n",
              "    }\n",
              "\n",
              "    .dataframe thead th {\n",
              "        text-align: right;\n",
              "    }\n",
              "</style>\n",
              "<table border=\"1\" class=\"dataframe\">\n",
              "  <thead>\n",
              "    <tr style=\"text-align: right;\">\n",
              "      <th></th>\n",
              "      <th>epidemiological_week</th>\n",
              "      <th>date</th>\n",
              "      <th>order_for_place</th>\n",
              "      <th>state</th>\n",
              "      <th>city</th>\n",
              "      <th>city_ibge_code</th>\n",
              "      <th>place_type</th>\n",
              "      <th>last_available_confirmed</th>\n",
              "      <th>last_available_confirmed_per_100k_inhabitants</th>\n",
              "      <th>new_confirmed</th>\n",
              "      <th>last_available_deaths</th>\n",
              "      <th>new_deaths</th>\n",
              "      <th>last_available_death_rate</th>\n",
              "      <th>estimated_population</th>\n",
              "      <th>is_last</th>\n",
              "      <th>is_repeated</th>\n",
              "    </tr>\n",
              "  </thead>\n",
              "  <tbody>\n",
              "    <tr>\n",
              "      <th>1</th>\n",
              "      <td>202111</td>\n",
              "      <td>2021-03-15</td>\n",
              "      <td>341</td>\n",
              "      <td>PE</td>\n",
              "      <td>Abreu e Lima</td>\n",
              "      <td>2600054.0</td>\n",
              "      <td>city</td>\n",
              "      <td>1700</td>\n",
              "      <td>1694.13828</td>\n",
              "      <td>8</td>\n",
              "      <td>159</td>\n",
              "      <td>1</td>\n",
              "      <td>0.0935</td>\n",
              "      <td>100346.0</td>\n",
              "      <td>True</td>\n",
              "      <td>False</td>\n",
              "    </tr>\n",
              "    <tr>\n",
              "      <th>2</th>\n",
              "      <td>202111</td>\n",
              "      <td>2021-03-15</td>\n",
              "      <td>321</td>\n",
              "      <td>PE</td>\n",
              "      <td>Afogados da Ingazeira</td>\n",
              "      <td>2600104.0</td>\n",
              "      <td>city</td>\n",
              "      <td>2478</td>\n",
              "      <td>6624.95990</td>\n",
              "      <td>1</td>\n",
              "      <td>35</td>\n",
              "      <td>0</td>\n",
              "      <td>0.0141</td>\n",
              "      <td>37404.0</td>\n",
              "      <td>True</td>\n",
              "      <td>False</td>\n",
              "    </tr>\n",
              "    <tr>\n",
              "      <th>3</th>\n",
              "      <td>202111</td>\n",
              "      <td>2021-03-15</td>\n",
              "      <td>321</td>\n",
              "      <td>PE</td>\n",
              "      <td>Afrânio</td>\n",
              "      <td>2600203.0</td>\n",
              "      <td>city</td>\n",
              "      <td>578</td>\n",
              "      <td>2917.71832</td>\n",
              "      <td>0</td>\n",
              "      <td>9</td>\n",
              "      <td>0</td>\n",
              "      <td>0.0156</td>\n",
              "      <td>19810.0</td>\n",
              "      <td>True</td>\n",
              "      <td>False</td>\n",
              "    </tr>\n",
              "    <tr>\n",
              "      <th>4</th>\n",
              "      <td>202111</td>\n",
              "      <td>2021-03-15</td>\n",
              "      <td>326</td>\n",
              "      <td>PE</td>\n",
              "      <td>Agrestina</td>\n",
              "      <td>2600302.0</td>\n",
              "      <td>city</td>\n",
              "      <td>865</td>\n",
              "      <td>3451.02733</td>\n",
              "      <td>2</td>\n",
              "      <td>36</td>\n",
              "      <td>0</td>\n",
              "      <td>0.0416</td>\n",
              "      <td>25065.0</td>\n",
              "      <td>True</td>\n",
              "      <td>False</td>\n",
              "    </tr>\n",
              "    <tr>\n",
              "      <th>7</th>\n",
              "      <td>202111</td>\n",
              "      <td>2021-03-15</td>\n",
              "      <td>331</td>\n",
              "      <td>PE</td>\n",
              "      <td>Alagoinha</td>\n",
              "      <td>2600609.0</td>\n",
              "      <td>city</td>\n",
              "      <td>443</td>\n",
              "      <td>3009.91983</td>\n",
              "      <td>0</td>\n",
              "      <td>13</td>\n",
              "      <td>0</td>\n",
              "      <td>0.0293</td>\n",
              "      <td>14718.0</td>\n",
              "      <td>True</td>\n",
              "      <td>False</td>\n",
              "    </tr>\n",
              "  </tbody>\n",
              "</table>\n",
              "</div>"
            ],
            "text/plain": [
              "   epidemiological_week        date  ...  is_last is_repeated\n",
              "1                202111  2021-03-15  ...     True       False\n",
              "2                202111  2021-03-15  ...     True       False\n",
              "3                202111  2021-03-15  ...     True       False\n",
              "4                202111  2021-03-15  ...     True       False\n",
              "7                202111  2021-03-15  ...     True       False\n",
              "\n",
              "[5 rows x 16 columns]"
            ]
          },
          "metadata": {
            "tags": []
          },
          "execution_count": 7
        }
      ]
    },
    {
      "cell_type": "markdown",
      "metadata": {
        "id": "d_488MvPT4fM"
      },
      "source": [
        "## **Pré Processamento**\n",
        "  * Junção de datasets em Dataframe Pandas\n",
        "  * Tratamento de dados ```NaN```/```null``` ou corrompidos\n",
        "  * Conversão de tipos\n",
        "  * Transformação e identificação de dados categóricos\n",
        "  * Remoção de ***Outliers*** Multivariado"
      ]
    },
    {
      "cell_type": "markdown",
      "metadata": {
        "id": "XmQ22okDAROC"
      },
      "source": [
        "### **Tratamento dos dados de Gastos Públicos**"
      ]
    },
    {
      "cell_type": "markdown",
      "metadata": {
        "id": "Z_zX_wkQvbE5"
      },
      "source": [
        "> Remoção colunas que não fazem parte do dataset invest_covidPe2 e que não influem sobre os nossos estudos (Nome do favorecido, CPF/CNPJ, Linguagem Cidadã)\n",
        "\n",
        ">```invest_covidPe = invest_covidPe.dropna(axis=1, how='all')```"
      ]
    },
    {
      "cell_type": "code",
      "metadata": {
        "colab": {
          "base_uri": "https://localhost:8080/",
          "height": 0
        },
        "id": "Bm39ZTwf2Gal",
        "outputId": "f24e248e-bc52-420b-8b67-7de1081607e2"
      },
      "source": [
        "cols = [4,5,10]\n",
        "invest_covidPe.drop(invest_covidPe.columns[cols],axis=1,inplace=True)\n",
        "invest_covidPe.sort_values(\"Município\").head()"
      ],
      "execution_count": 8,
      "outputs": [
        {
          "output_type": "execute_result",
          "data": {
            "text/html": [
              "<div>\n",
              "<style scoped>\n",
              "    .dataframe tbody tr th:only-of-type {\n",
              "        vertical-align: middle;\n",
              "    }\n",
              "\n",
              "    .dataframe tbody tr th {\n",
              "        vertical-align: top;\n",
              "    }\n",
              "\n",
              "    .dataframe thead th {\n",
              "        text-align: right;\n",
              "    }\n",
              "</style>\n",
              "<table border=\"1\" class=\"dataframe\">\n",
              "  <thead>\n",
              "    <tr style=\"text-align: right;\">\n",
              "      <th></th>\n",
              "      <th>Mês/Ano</th>\n",
              "      <th>Tipo</th>\n",
              "      <th>Tipo de Favorecido</th>\n",
              "      <th>UF</th>\n",
              "      <th>Município</th>\n",
              "      <th>Função</th>\n",
              "      <th>Programa Orçamentário</th>\n",
              "      <th>Ação Orçamentária</th>\n",
              "      <th>Valor Transferido</th>\n",
              "    </tr>\n",
              "  </thead>\n",
              "  <tbody>\n",
              "    <tr>\n",
              "      <th>182</th>\n",
              "      <td>nov/20</td>\n",
              "      <td>Legais. Voluntárias e Específicas</td>\n",
              "      <td>Fundo Público</td>\n",
              "      <td>PE</td>\n",
              "      <td>CARUARU</td>\n",
              "      <td>Saúde</td>\n",
              "      <td>ATENCAO ESPECIALIZADA A SAUDE</td>\n",
              "      <td>ENFRENTAMENTO DA EMERGENCIA DE SAUDE PUBLICA D...</td>\n",
              "      <td>486.515.00</td>\n",
              "    </tr>\n",
              "    <tr>\n",
              "      <th>178</th>\n",
              "      <td>nov/20</td>\n",
              "      <td>Legais. Voluntárias e Específicas</td>\n",
              "      <td>Entidades Sem Fins Lucrativos</td>\n",
              "      <td>PE</td>\n",
              "      <td>CARUARU</td>\n",
              "      <td>Educação</td>\n",
              "      <td>EDUCACAO BASICA DE QUALIDADE</td>\n",
              "      <td>DINHEIRO DIRETO NA ESCOLA PARA A EDUCACAO BASICA</td>\n",
              "      <td>7.897.02</td>\n",
              "    </tr>\n",
              "    <tr>\n",
              "      <th>179</th>\n",
              "      <td>nov/20</td>\n",
              "      <td>Legais. Voluntárias e Específicas</td>\n",
              "      <td>Entidades Sem Fins Lucrativos</td>\n",
              "      <td>PE</td>\n",
              "      <td>CARUARU</td>\n",
              "      <td>Educação</td>\n",
              "      <td>EDUCACAO BASICA DE QUALIDADE</td>\n",
              "      <td>DINHEIRO DIRETO NA ESCOLA PARA A EDUCACAO BASICA</td>\n",
              "      <td>2.837.48</td>\n",
              "    </tr>\n",
              "    <tr>\n",
              "      <th>87</th>\n",
              "      <td>nov/20</td>\n",
              "      <td>Legais. Voluntárias e Específicas</td>\n",
              "      <td>Entidades Sem Fins Lucrativos</td>\n",
              "      <td>PE</td>\n",
              "      <td>CARUARU</td>\n",
              "      <td>Educação</td>\n",
              "      <td>EDUCACAO BASICA DE QUALIDADE</td>\n",
              "      <td>DINHEIRO DIRETO NA ESCOLA PARA A EDUCACAO BASICA</td>\n",
              "      <td>8.427.56</td>\n",
              "    </tr>\n",
              "    <tr>\n",
              "      <th>181</th>\n",
              "      <td>nov/20</td>\n",
              "      <td>Legais. Voluntárias e Específicas</td>\n",
              "      <td>Entidades Sem Fins Lucrativos</td>\n",
              "      <td>PE</td>\n",
              "      <td>CARUARU</td>\n",
              "      <td>Educação</td>\n",
              "      <td>EDUCACAO BASICA DE QUALIDADE</td>\n",
              "      <td>DINHEIRO DIRETO NA ESCOLA PARA A EDUCACAO BASICA</td>\n",
              "      <td>2.274.59</td>\n",
              "    </tr>\n",
              "  </tbody>\n",
              "</table>\n",
              "</div>"
            ],
            "text/plain": [
              "    Mês/Ano  ... Valor Transferido\n",
              "182  nov/20  ...        486.515.00\n",
              "178  nov/20  ...          7.897.02\n",
              "179  nov/20  ...          2.837.48\n",
              "87   nov/20  ...          8.427.56\n",
              "181  nov/20  ...          2.274.59\n",
              "\n",
              "[5 rows x 9 columns]"
            ]
          },
          "metadata": {
            "tags": []
          },
          "execution_count": 8
        }
      ]
    },
    {
      "cell_type": "markdown",
      "metadata": {
        "id": "6N8rcAp0vr6I"
      },
      "source": [
        "> Remoção coluna que tem todos os valores Nan"
      ]
    },
    {
      "cell_type": "code",
      "metadata": {
        "colab": {
          "base_uri": "https://localhost:8080/",
          "height": 0
        },
        "id": "GVumFyH60Byd",
        "outputId": "3cd1e4e0-ff9b-4565-fea6-5d4d12ba3638"
      },
      "source": [
        "invest_covidPe2.dropna(axis=1, how='all',inplace=True)\n",
        "invest_covidPe2.sort_values(\"Município\").head()"
      ],
      "execution_count": 9,
      "outputs": [
        {
          "output_type": "execute_result",
          "data": {
            "text/html": [
              "<div>\n",
              "<style scoped>\n",
              "    .dataframe tbody tr th:only-of-type {\n",
              "        vertical-align: middle;\n",
              "    }\n",
              "\n",
              "    .dataframe tbody tr th {\n",
              "        vertical-align: top;\n",
              "    }\n",
              "\n",
              "    .dataframe thead th {\n",
              "        text-align: right;\n",
              "    }\n",
              "</style>\n",
              "<table border=\"1\" class=\"dataframe\">\n",
              "  <thead>\n",
              "    <tr style=\"text-align: right;\">\n",
              "      <th></th>\n",
              "      <th>Mês/Ano</th>\n",
              "      <th>Tipo</th>\n",
              "      <th>Ação Orçamentária</th>\n",
              "      <th>Programa Orçamentário</th>\n",
              "      <th>Função</th>\n",
              "      <th>Tipo de Favorecido</th>\n",
              "      <th>UF</th>\n",
              "      <th>Município</th>\n",
              "      <th>Valor Transferido</th>\n",
              "    </tr>\n",
              "  </thead>\n",
              "  <tbody>\n",
              "    <tr>\n",
              "      <th>98</th>\n",
              "      <td>12/2020</td>\n",
              "      <td>Legais. Voluntárias e Específicas</td>\n",
              "      <td>21C0 - ENFRENTAMENTO DA EMERGENCIA DE SAUDE PU...</td>\n",
              "      <td>ATENCAO ESPECIALIZADA A SAUDE</td>\n",
              "      <td>10 - Saúde</td>\n",
              "      <td>Fundo Público</td>\n",
              "      <td>PE</td>\n",
              "      <td>ARCOVERDE</td>\n",
              "      <td>R$ 134.639.00</td>\n",
              "    </tr>\n",
              "    <tr>\n",
              "      <th>41</th>\n",
              "      <td>05/2020</td>\n",
              "      <td>Legais. Voluntárias e Específicas</td>\n",
              "      <td>21C0 - ENFRENTAMENTO DA EMERGENCIA DE SAUDE PU...</td>\n",
              "      <td>PROTECAO SOCIAL NO AMBITO DO SISTEMA UNICO DE ...</td>\n",
              "      <td>08 - Assistência social</td>\n",
              "      <td>Fundo Público</td>\n",
              "      <td>PE</td>\n",
              "      <td>ARCOVERDE</td>\n",
              "      <td>R$ 470.809.62</td>\n",
              "    </tr>\n",
              "    <tr>\n",
              "      <th>42</th>\n",
              "      <td>11/2020</td>\n",
              "      <td>Legais. Voluntárias e Específicas</td>\n",
              "      <td>21C0 - ENFRENTAMENTO DA EMERGENCIA DE SAUDE PU...</td>\n",
              "      <td>ATENCAO ESPECIALIZADA A SAUDE</td>\n",
              "      <td>10 - Saúde</td>\n",
              "      <td>Fundo Público</td>\n",
              "      <td>PE</td>\n",
              "      <td>ARCOVERDE</td>\n",
              "      <td>R$ 355.594.00</td>\n",
              "    </tr>\n",
              "    <tr>\n",
              "      <th>32</th>\n",
              "      <td>04/2020</td>\n",
              "      <td>Legais. Voluntárias e Específicas</td>\n",
              "      <td>21C0 - ENFRENTAMENTO DA EMERGENCIA DE SAUDE PU...</td>\n",
              "      <td>ATENCAO ESPECIALIZADA A SAUDE</td>\n",
              "      <td>10 - Saúde</td>\n",
              "      <td>Fundo Público</td>\n",
              "      <td>PE</td>\n",
              "      <td>ARCOVERDE</td>\n",
              "      <td>R$ 761.895.71</td>\n",
              "    </tr>\n",
              "    <tr>\n",
              "      <th>56</th>\n",
              "      <td>08/2020</td>\n",
              "      <td>Legais. Voluntárias e Específicas</td>\n",
              "      <td>21C0 - ENFRENTAMENTO DA EMERGENCIA DE SAUDE PU...</td>\n",
              "      <td>PROTECAO SOCIAL NO AMBITO DO SISTEMA UNICO DE ...</td>\n",
              "      <td>08 - Assistência social</td>\n",
              "      <td>Fundo Público</td>\n",
              "      <td>PE</td>\n",
              "      <td>ARCOVERDE</td>\n",
              "      <td>R$ 218.971.54</td>\n",
              "    </tr>\n",
              "  </tbody>\n",
              "</table>\n",
              "</div>"
            ],
            "text/plain": [
              "    Mês/Ano                               Tipo  ...  Município Valor Transferido\n",
              "98  12/2020  Legais. Voluntárias e Específicas  ...  ARCOVERDE     R$ 134.639.00\n",
              "41  05/2020  Legais. Voluntárias e Específicas  ...  ARCOVERDE     R$ 470.809.62\n",
              "42  11/2020  Legais. Voluntárias e Específicas  ...  ARCOVERDE     R$ 355.594.00\n",
              "32  04/2020  Legais. Voluntárias e Específicas  ...  ARCOVERDE     R$ 761.895.71\n",
              "56  08/2020  Legais. Voluntárias e Específicas  ...  ARCOVERDE     R$ 218.971.54\n",
              "\n",
              "[5 rows x 9 columns]"
            ]
          },
          "metadata": {
            "tags": []
          },
          "execution_count": 9
        }
      ]
    },
    {
      "cell_type": "markdown",
      "metadata": {
        "id": "99zLupirv68U"
      },
      "source": [
        "> Retirando prefixo numérico e caracteres especiais dos valores da categoria 'Função'"
      ]
    },
    {
      "cell_type": "code",
      "metadata": {
        "id": "7GzOsUIXwOR5",
        "colab": {
          "base_uri": "https://localhost:8080/"
        },
        "outputId": "47624eae-ed0a-46de-b8ad-9a87ae5bddf4"
      },
      "source": [
        "invest_covidPe_funcao = invest_covidPe2['Função'].map(lambda words: str(words[5:]))\n",
        "invest_covidPe2['Função'].update(invest_covidPe_funcao)\n",
        "invest_covidPe2['Função'].unique()"
      ],
      "execution_count": 10,
      "outputs": [
        {
          "output_type": "execute_result",
          "data": {
            "text/plain": [
              "array(['Educação', 'Saúde', 'Assistência social', 'Ciência e Tecnologia'],\n",
              "      dtype=object)"
            ]
          },
          "metadata": {
            "tags": []
          },
          "execution_count": 10
        }
      ]
    },
    {
      "cell_type": "markdown",
      "metadata": {
        "id": "-TdcJdxuwD_A"
      },
      "source": [
        "> Confirmando que as colunas foram removidas e agora os 2 datasets possuem a mesma quantidade de colunas"
      ]
    },
    {
      "cell_type": "code",
      "metadata": {
        "id": "o61JK1_h1G8W",
        "colab": {
          "base_uri": "https://localhost:8080/"
        },
        "outputId": "56a6976e-abcc-465f-a4db-04b8c4e829a5"
      },
      "source": [
        "print('Dataset 1',invest_covidPe.shape)\n",
        "print('Dataset 2',invest_covidPe2.shape)"
      ],
      "execution_count": 11,
      "outputs": [
        {
          "output_type": "stream",
          "text": [
            "Dataset 1 (561, 9)\n",
            "Dataset 2 (140, 9)\n"
          ],
          "name": "stdout"
        }
      ]
    },
    {
      "cell_type": "markdown",
      "metadata": {
        "id": "6V0neP-zwIMQ"
      },
      "source": [
        "> Fazendo a concatenação dos Dataframes, o resultado final de linhas é igual ao somatório de linhas entre ambos os Datasets"
      ]
    },
    {
      "cell_type": "code",
      "metadata": {
        "id": "qjEsiHCQ5lfM"
      },
      "source": [
        "invest_covidPe = invest_covidPe.append(invest_covidPe2, ignore_index=True)"
      ],
      "execution_count": 12,
      "outputs": []
    },
    {
      "cell_type": "markdown",
      "metadata": {
        "id": "yKGKHzT0wND5"
      },
      "source": [
        "> Filtragem de gastos com a saúde e retirada das colunas **Tipo**, **UF**, **Programa Orçamentário** e **Função** por não conterem dados variados."
      ]
    },
    {
      "cell_type": "code",
      "metadata": {
        "id": "mc0FuaYqxzNQ",
        "colab": {
          "base_uri": "https://localhost:8080/"
        },
        "outputId": "61503d43-d0c0-408b-c5fc-fb66b1aaff99"
      },
      "source": [
        "len(invest_covidPe2['Tipo de Favorecido'].unique())"
      ],
      "execution_count": 13,
      "outputs": [
        {
          "output_type": "execute_result",
          "data": {
            "text/plain": [
              "3"
            ]
          },
          "metadata": {
            "tags": []
          },
          "execution_count": 13
        }
      ]
    },
    {
      "cell_type": "code",
      "metadata": {
        "id": "OeYOe0orylcX",
        "colab": {
          "base_uri": "https://localhost:8080/",
          "height": 0
        },
        "outputId": "fae9e15f-c48e-4818-d2a8-4d77320ecb53"
      },
      "source": [
        "# Drop colunas com valores unitários\n",
        "\n",
        "invest_covidPe.drop({'Tipo',\\\n",
        "                     'UF',\\\n",
        "                     'Ação Orçamentária'},\\\n",
        "                    axis=1,\\\n",
        "                    inplace=True \\\n",
        "                    )\n",
        "invest_covidPe"
      ],
      "execution_count": 14,
      "outputs": [
        {
          "output_type": "execute_result",
          "data": {
            "text/html": [
              "<div>\n",
              "<style scoped>\n",
              "    .dataframe tbody tr th:only-of-type {\n",
              "        vertical-align: middle;\n",
              "    }\n",
              "\n",
              "    .dataframe tbody tr th {\n",
              "        vertical-align: top;\n",
              "    }\n",
              "\n",
              "    .dataframe thead th {\n",
              "        text-align: right;\n",
              "    }\n",
              "</style>\n",
              "<table border=\"1\" class=\"dataframe\">\n",
              "  <thead>\n",
              "    <tr style=\"text-align: right;\">\n",
              "      <th></th>\n",
              "      <th>Mês/Ano</th>\n",
              "      <th>Tipo de Favorecido</th>\n",
              "      <th>Município</th>\n",
              "      <th>Função</th>\n",
              "      <th>Programa Orçamentário</th>\n",
              "      <th>Valor Transferido</th>\n",
              "    </tr>\n",
              "  </thead>\n",
              "  <tbody>\n",
              "    <tr>\n",
              "      <th>0</th>\n",
              "      <td>mar/20</td>\n",
              "      <td>Fundo Público</td>\n",
              "      <td>RECIFE</td>\n",
              "      <td>Saúde</td>\n",
              "      <td>ATENCAO ESPECIALIZADA A SAUDE</td>\n",
              "      <td>60.000.00</td>\n",
              "    </tr>\n",
              "    <tr>\n",
              "      <th>1</th>\n",
              "      <td>abr/20</td>\n",
              "      <td>Fundo Público</td>\n",
              "      <td>GARANHUNS</td>\n",
              "      <td>Saúde</td>\n",
              "      <td>ATENCAO ESPECIALIZADA A SAUDE</td>\n",
              "      <td>1.174.944.27</td>\n",
              "    </tr>\n",
              "    <tr>\n",
              "      <th>2</th>\n",
              "      <td>abr/20</td>\n",
              "      <td>Fundo Público</td>\n",
              "      <td>PETROLINA</td>\n",
              "      <td>Saúde</td>\n",
              "      <td>ATENCAO ESPECIALIZADA A SAUDE</td>\n",
              "      <td>4.130.446.89</td>\n",
              "    </tr>\n",
              "    <tr>\n",
              "      <th>3</th>\n",
              "      <td>abr/20</td>\n",
              "      <td>Fundo Público</td>\n",
              "      <td>OLINDA</td>\n",
              "      <td>Saúde</td>\n",
              "      <td>ATENCAO ESPECIALIZADA A SAUDE</td>\n",
              "      <td>3.830.136.03</td>\n",
              "    </tr>\n",
              "    <tr>\n",
              "      <th>4</th>\n",
              "      <td>abr/20</td>\n",
              "      <td>Fundo Público</td>\n",
              "      <td>CARUARU</td>\n",
              "      <td>Saúde</td>\n",
              "      <td>ATENCAO ESPECIALIZADA A SAUDE</td>\n",
              "      <td>3.662.675.00</td>\n",
              "    </tr>\n",
              "    <tr>\n",
              "      <th>...</th>\n",
              "      <td>...</td>\n",
              "      <td>...</td>\n",
              "      <td>...</td>\n",
              "      <td>...</td>\n",
              "      <td>...</td>\n",
              "      <td>...</td>\n",
              "    </tr>\n",
              "    <tr>\n",
              "      <th>696</th>\n",
              "      <td>04/2020</td>\n",
              "      <td>Fundo Público</td>\n",
              "      <td>JABOATÃO DOS GUARARAPES</td>\n",
              "      <td>Saúde</td>\n",
              "      <td>ATENCAO ESPECIALIZADA A SAUDE</td>\n",
              "      <td>R$ 7.327.021.87</td>\n",
              "    </tr>\n",
              "    <tr>\n",
              "      <th>697</th>\n",
              "      <td>10/2020</td>\n",
              "      <td>Fundo Público</td>\n",
              "      <td>RECIFE</td>\n",
              "      <td>Saúde</td>\n",
              "      <td>ATENCAO ESPECIALIZADA A SAUDE</td>\n",
              "      <td>R$ 3.500.000.00</td>\n",
              "    </tr>\n",
              "    <tr>\n",
              "      <th>698</th>\n",
              "      <td>07/2020</td>\n",
              "      <td>Fundo Público</td>\n",
              "      <td>PETROLINA</td>\n",
              "      <td>Saúde</td>\n",
              "      <td>ATENCAO ESPECIALIZADA A SAUDE</td>\n",
              "      <td>R$ 8.676.053.00</td>\n",
              "    </tr>\n",
              "    <tr>\n",
              "      <th>699</th>\n",
              "      <td>07/2020</td>\n",
              "      <td>Fundo Público</td>\n",
              "      <td>BUÍQUE</td>\n",
              "      <td>Saúde</td>\n",
              "      <td>ATENCAO ESPECIALIZADA A SAUDE</td>\n",
              "      <td>R$ 1.850.000.00</td>\n",
              "    </tr>\n",
              "    <tr>\n",
              "      <th>700</th>\n",
              "      <td>08/2020</td>\n",
              "      <td>Fundo Público</td>\n",
              "      <td>PETROLINA</td>\n",
              "      <td>Assistência social</td>\n",
              "      <td>PROTECAO SOCIAL NO AMBITO DO SISTEMA UNICO DE ...</td>\n",
              "      <td>R$ 516.875.60</td>\n",
              "    </tr>\n",
              "  </tbody>\n",
              "</table>\n",
              "<p>701 rows × 6 columns</p>\n",
              "</div>"
            ],
            "text/plain": [
              "     Mês/Ano  ... Valor Transferido\n",
              "0     mar/20  ...         60.000.00\n",
              "1     abr/20  ...      1.174.944.27\n",
              "2     abr/20  ...      4.130.446.89\n",
              "3     abr/20  ...      3.830.136.03\n",
              "4     abr/20  ...      3.662.675.00\n",
              "..       ...  ...               ...\n",
              "696  04/2020  ...   R$ 7.327.021.87\n",
              "697  10/2020  ...   R$ 3.500.000.00\n",
              "698  07/2020  ...   R$ 8.676.053.00\n",
              "699  07/2020  ...   R$ 1.850.000.00\n",
              "700  08/2020  ...     R$ 516.875.60\n",
              "\n",
              "[701 rows x 6 columns]"
            ]
          },
          "metadata": {
            "tags": []
          },
          "execution_count": 14
        }
      ]
    },
    {
      "cell_type": "markdown",
      "metadata": {
        "id": "0jzo9tpl4FTr"
      },
      "source": [
        "Renomeando colunas"
      ]
    },
    {
      "cell_type": "code",
      "metadata": {
        "id": "0ug_fLAWzXag",
        "colab": {
          "base_uri": "https://localhost:8080/",
          "height": 0
        },
        "outputId": "7d9d184c-c4e4-4128-f506-d66e284c1559"
      },
      "source": [
        "invest_covidPe"
      ],
      "execution_count": 15,
      "outputs": [
        {
          "output_type": "execute_result",
          "data": {
            "text/html": [
              "<div>\n",
              "<style scoped>\n",
              "    .dataframe tbody tr th:only-of-type {\n",
              "        vertical-align: middle;\n",
              "    }\n",
              "\n",
              "    .dataframe tbody tr th {\n",
              "        vertical-align: top;\n",
              "    }\n",
              "\n",
              "    .dataframe thead th {\n",
              "        text-align: right;\n",
              "    }\n",
              "</style>\n",
              "<table border=\"1\" class=\"dataframe\">\n",
              "  <thead>\n",
              "    <tr style=\"text-align: right;\">\n",
              "      <th></th>\n",
              "      <th>Mês/Ano</th>\n",
              "      <th>Tipo de Favorecido</th>\n",
              "      <th>Município</th>\n",
              "      <th>Função</th>\n",
              "      <th>Programa Orçamentário</th>\n",
              "      <th>Valor Transferido</th>\n",
              "    </tr>\n",
              "  </thead>\n",
              "  <tbody>\n",
              "    <tr>\n",
              "      <th>0</th>\n",
              "      <td>mar/20</td>\n",
              "      <td>Fundo Público</td>\n",
              "      <td>RECIFE</td>\n",
              "      <td>Saúde</td>\n",
              "      <td>ATENCAO ESPECIALIZADA A SAUDE</td>\n",
              "      <td>60.000.00</td>\n",
              "    </tr>\n",
              "    <tr>\n",
              "      <th>1</th>\n",
              "      <td>abr/20</td>\n",
              "      <td>Fundo Público</td>\n",
              "      <td>GARANHUNS</td>\n",
              "      <td>Saúde</td>\n",
              "      <td>ATENCAO ESPECIALIZADA A SAUDE</td>\n",
              "      <td>1.174.944.27</td>\n",
              "    </tr>\n",
              "    <tr>\n",
              "      <th>2</th>\n",
              "      <td>abr/20</td>\n",
              "      <td>Fundo Público</td>\n",
              "      <td>PETROLINA</td>\n",
              "      <td>Saúde</td>\n",
              "      <td>ATENCAO ESPECIALIZADA A SAUDE</td>\n",
              "      <td>4.130.446.89</td>\n",
              "    </tr>\n",
              "    <tr>\n",
              "      <th>3</th>\n",
              "      <td>abr/20</td>\n",
              "      <td>Fundo Público</td>\n",
              "      <td>OLINDA</td>\n",
              "      <td>Saúde</td>\n",
              "      <td>ATENCAO ESPECIALIZADA A SAUDE</td>\n",
              "      <td>3.830.136.03</td>\n",
              "    </tr>\n",
              "    <tr>\n",
              "      <th>4</th>\n",
              "      <td>abr/20</td>\n",
              "      <td>Fundo Público</td>\n",
              "      <td>CARUARU</td>\n",
              "      <td>Saúde</td>\n",
              "      <td>ATENCAO ESPECIALIZADA A SAUDE</td>\n",
              "      <td>3.662.675.00</td>\n",
              "    </tr>\n",
              "    <tr>\n",
              "      <th>...</th>\n",
              "      <td>...</td>\n",
              "      <td>...</td>\n",
              "      <td>...</td>\n",
              "      <td>...</td>\n",
              "      <td>...</td>\n",
              "      <td>...</td>\n",
              "    </tr>\n",
              "    <tr>\n",
              "      <th>696</th>\n",
              "      <td>04/2020</td>\n",
              "      <td>Fundo Público</td>\n",
              "      <td>JABOATÃO DOS GUARARAPES</td>\n",
              "      <td>Saúde</td>\n",
              "      <td>ATENCAO ESPECIALIZADA A SAUDE</td>\n",
              "      <td>R$ 7.327.021.87</td>\n",
              "    </tr>\n",
              "    <tr>\n",
              "      <th>697</th>\n",
              "      <td>10/2020</td>\n",
              "      <td>Fundo Público</td>\n",
              "      <td>RECIFE</td>\n",
              "      <td>Saúde</td>\n",
              "      <td>ATENCAO ESPECIALIZADA A SAUDE</td>\n",
              "      <td>R$ 3.500.000.00</td>\n",
              "    </tr>\n",
              "    <tr>\n",
              "      <th>698</th>\n",
              "      <td>07/2020</td>\n",
              "      <td>Fundo Público</td>\n",
              "      <td>PETROLINA</td>\n",
              "      <td>Saúde</td>\n",
              "      <td>ATENCAO ESPECIALIZADA A SAUDE</td>\n",
              "      <td>R$ 8.676.053.00</td>\n",
              "    </tr>\n",
              "    <tr>\n",
              "      <th>699</th>\n",
              "      <td>07/2020</td>\n",
              "      <td>Fundo Público</td>\n",
              "      <td>BUÍQUE</td>\n",
              "      <td>Saúde</td>\n",
              "      <td>ATENCAO ESPECIALIZADA A SAUDE</td>\n",
              "      <td>R$ 1.850.000.00</td>\n",
              "    </tr>\n",
              "    <tr>\n",
              "      <th>700</th>\n",
              "      <td>08/2020</td>\n",
              "      <td>Fundo Público</td>\n",
              "      <td>PETROLINA</td>\n",
              "      <td>Assistência social</td>\n",
              "      <td>PROTECAO SOCIAL NO AMBITO DO SISTEMA UNICO DE ...</td>\n",
              "      <td>R$ 516.875.60</td>\n",
              "    </tr>\n",
              "  </tbody>\n",
              "</table>\n",
              "<p>701 rows × 6 columns</p>\n",
              "</div>"
            ],
            "text/plain": [
              "     Mês/Ano  ... Valor Transferido\n",
              "0     mar/20  ...         60.000.00\n",
              "1     abr/20  ...      1.174.944.27\n",
              "2     abr/20  ...      4.130.446.89\n",
              "3     abr/20  ...      3.830.136.03\n",
              "4     abr/20  ...      3.662.675.00\n",
              "..       ...  ...               ...\n",
              "696  04/2020  ...   R$ 7.327.021.87\n",
              "697  10/2020  ...   R$ 3.500.000.00\n",
              "698  07/2020  ...   R$ 8.676.053.00\n",
              "699  07/2020  ...   R$ 1.850.000.00\n",
              "700  08/2020  ...     R$ 516.875.60\n",
              "\n",
              "[701 rows x 6 columns]"
            ]
          },
          "metadata": {
            "tags": []
          },
          "execution_count": 15
        }
      ]
    },
    {
      "cell_type": "code",
      "metadata": {
        "id": "aFWx4nab4EDk",
        "colab": {
          "base_uri": "https://localhost:8080/",
          "height": 0
        },
        "outputId": "dc39cfaa-7ee7-49f4-ac0e-28992572c718"
      },
      "source": [
        "invest_covidPe = invest_covidPe.rename(columns={'Mês/Ano': 'month', \\\n",
        "                                                'Município': 'city', \\\n",
        "                                                'Tipo de Favorecido': 'tipo_favorecido', \\\n",
        "                                                'Programa Orçamentário': 'prog_orcamento', \\\n",
        "                                                'Valor Transferido': 'gastos' \\\n",
        "                                                })\n",
        "invest_covidPe.head(3)"
      ],
      "execution_count": 16,
      "outputs": [
        {
          "output_type": "execute_result",
          "data": {
            "text/html": [
              "<div>\n",
              "<style scoped>\n",
              "    .dataframe tbody tr th:only-of-type {\n",
              "        vertical-align: middle;\n",
              "    }\n",
              "\n",
              "    .dataframe tbody tr th {\n",
              "        vertical-align: top;\n",
              "    }\n",
              "\n",
              "    .dataframe thead th {\n",
              "        text-align: right;\n",
              "    }\n",
              "</style>\n",
              "<table border=\"1\" class=\"dataframe\">\n",
              "  <thead>\n",
              "    <tr style=\"text-align: right;\">\n",
              "      <th></th>\n",
              "      <th>month</th>\n",
              "      <th>tipo_favorecido</th>\n",
              "      <th>city</th>\n",
              "      <th>Função</th>\n",
              "      <th>prog_orcamento</th>\n",
              "      <th>gastos</th>\n",
              "    </tr>\n",
              "  </thead>\n",
              "  <tbody>\n",
              "    <tr>\n",
              "      <th>0</th>\n",
              "      <td>mar/20</td>\n",
              "      <td>Fundo Público</td>\n",
              "      <td>RECIFE</td>\n",
              "      <td>Saúde</td>\n",
              "      <td>ATENCAO ESPECIALIZADA A SAUDE</td>\n",
              "      <td>60.000.00</td>\n",
              "    </tr>\n",
              "    <tr>\n",
              "      <th>1</th>\n",
              "      <td>abr/20</td>\n",
              "      <td>Fundo Público</td>\n",
              "      <td>GARANHUNS</td>\n",
              "      <td>Saúde</td>\n",
              "      <td>ATENCAO ESPECIALIZADA A SAUDE</td>\n",
              "      <td>1.174.944.27</td>\n",
              "    </tr>\n",
              "    <tr>\n",
              "      <th>2</th>\n",
              "      <td>abr/20</td>\n",
              "      <td>Fundo Público</td>\n",
              "      <td>PETROLINA</td>\n",
              "      <td>Saúde</td>\n",
              "      <td>ATENCAO ESPECIALIZADA A SAUDE</td>\n",
              "      <td>4.130.446.89</td>\n",
              "    </tr>\n",
              "  </tbody>\n",
              "</table>\n",
              "</div>"
            ],
            "text/plain": [
              "    month tipo_favorecido  ...                 prog_orcamento        gastos\n",
              "0  mar/20   Fundo Público  ...  ATENCAO ESPECIALIZADA A SAUDE     60.000.00\n",
              "1  abr/20   Fundo Público  ...  ATENCAO ESPECIALIZADA A SAUDE  1.174.944.27\n",
              "2  abr/20   Fundo Público  ...  ATENCAO ESPECIALIZADA A SAUDE  4.130.446.89\n",
              "\n",
              "[3 rows x 6 columns]"
            ]
          },
          "metadata": {
            "tags": []
          },
          "execution_count": 16
        }
      ]
    },
    {
      "cell_type": "markdown",
      "metadata": {
        "id": "PdTk7hYE-ydB"
      },
      "source": [
        "#### **Conversão de tipos das colunas**\n",
        "\n",
        "  * Valor Transferido (rename -> gastos): ```string``` -> ```float```\n",
        "\n",
        "  * Dados categóricos: ```object``` -> ```category```"
      ]
    },
    {
      "cell_type": "code",
      "metadata": {
        "id": "Y-wleeGQC4yJ",
        "colab": {
          "base_uri": "https://localhost:8080/"
        },
        "outputId": "adb83cd6-7ba1-4644-fe75-76626bcec871"
      },
      "source": [
        "invest_covidPe.dtypes"
      ],
      "execution_count": 17,
      "outputs": [
        {
          "output_type": "execute_result",
          "data": {
            "text/plain": [
              "month              object\n",
              "tipo_favorecido    object\n",
              "city               object\n",
              "Função             object\n",
              "prog_orcamento     object\n",
              "gastos             object\n",
              "dtype: object"
            ]
          },
          "metadata": {
            "tags": []
          },
          "execution_count": 17
        }
      ]
    },
    {
      "cell_type": "markdown",
      "metadata": {
        "id": "Ui9n7pptx9N3"
      },
      "source": [
        "##### **Valor Transferido**\n",
        "```object``` -> ```float64```"
      ]
    },
    {
      "cell_type": "code",
      "metadata": {
        "id": "7_4O7M9L-kWC"
      },
      "source": [
        "# Tratamento e conversão do CSV-String para float\n",
        "invest_covidPe['valores_transferidos'] = invest_covidPe['gastos'].apply(lambda words: words.replace('R$ ', ''))\n",
        "valores_transferidos = invest_covidPe['valores_transferidos'].map(lambda words: float(words[:-3].replace('.','') + words[-3:]))\n",
        "valores_transferidos = valores_transferidos.astype('float64')\n",
        "#valores_transferidos = valores_transferidos.astype(float)"
      ],
      "execution_count": 18,
      "outputs": []
    },
    {
      "cell_type": "code",
      "metadata": {
        "id": "2cbS7PJEZBBm",
        "colab": {
          "base_uri": "https://localhost:8080/",
          "height": 0
        },
        "outputId": "ae819063-86c8-4c2f-b4d5-a7d051b5ed43"
      },
      "source": [
        "invest_covidPe.head(3)"
      ],
      "execution_count": 19,
      "outputs": [
        {
          "output_type": "execute_result",
          "data": {
            "text/html": [
              "<div>\n",
              "<style scoped>\n",
              "    .dataframe tbody tr th:only-of-type {\n",
              "        vertical-align: middle;\n",
              "    }\n",
              "\n",
              "    .dataframe tbody tr th {\n",
              "        vertical-align: top;\n",
              "    }\n",
              "\n",
              "    .dataframe thead th {\n",
              "        text-align: right;\n",
              "    }\n",
              "</style>\n",
              "<table border=\"1\" class=\"dataframe\">\n",
              "  <thead>\n",
              "    <tr style=\"text-align: right;\">\n",
              "      <th></th>\n",
              "      <th>month</th>\n",
              "      <th>tipo_favorecido</th>\n",
              "      <th>city</th>\n",
              "      <th>Função</th>\n",
              "      <th>prog_orcamento</th>\n",
              "      <th>gastos</th>\n",
              "      <th>valores_transferidos</th>\n",
              "    </tr>\n",
              "  </thead>\n",
              "  <tbody>\n",
              "    <tr>\n",
              "      <th>0</th>\n",
              "      <td>mar/20</td>\n",
              "      <td>Fundo Público</td>\n",
              "      <td>RECIFE</td>\n",
              "      <td>Saúde</td>\n",
              "      <td>ATENCAO ESPECIALIZADA A SAUDE</td>\n",
              "      <td>60.000.00</td>\n",
              "      <td>60.000.00</td>\n",
              "    </tr>\n",
              "    <tr>\n",
              "      <th>1</th>\n",
              "      <td>abr/20</td>\n",
              "      <td>Fundo Público</td>\n",
              "      <td>GARANHUNS</td>\n",
              "      <td>Saúde</td>\n",
              "      <td>ATENCAO ESPECIALIZADA A SAUDE</td>\n",
              "      <td>1.174.944.27</td>\n",
              "      <td>1.174.944.27</td>\n",
              "    </tr>\n",
              "    <tr>\n",
              "      <th>2</th>\n",
              "      <td>abr/20</td>\n",
              "      <td>Fundo Público</td>\n",
              "      <td>PETROLINA</td>\n",
              "      <td>Saúde</td>\n",
              "      <td>ATENCAO ESPECIALIZADA A SAUDE</td>\n",
              "      <td>4.130.446.89</td>\n",
              "      <td>4.130.446.89</td>\n",
              "    </tr>\n",
              "  </tbody>\n",
              "</table>\n",
              "</div>"
            ],
            "text/plain": [
              "    month tipo_favorecido  ...        gastos valores_transferidos\n",
              "0  mar/20   Fundo Público  ...     60.000.00            60.000.00\n",
              "1  abr/20   Fundo Público  ...  1.174.944.27         1.174.944.27\n",
              "2  abr/20   Fundo Público  ...  4.130.446.89         4.130.446.89\n",
              "\n",
              "[3 rows x 7 columns]"
            ]
          },
          "metadata": {
            "tags": []
          },
          "execution_count": 19
        }
      ]
    },
    {
      "cell_type": "code",
      "metadata": {
        "id": "YOjLjdx_XLEn",
        "colab": {
          "base_uri": "https://localhost:8080/"
        },
        "outputId": "43e9461d-aad1-45dc-ed51-c8b4e091b103"
      },
      "source": [
        "# Atualiza o dataset principal\n",
        "invest_covidPe['gastos'].update(valores_transferidos)\n",
        "invest_covidPe.drop('valores_transferidos',axis=1,inplace=True)\n",
        "invest_covidPe = invest_covidPe.infer_objects()\n",
        "invest_covidPe.info(verbose=True)"
      ],
      "execution_count": 20,
      "outputs": [
        {
          "output_type": "stream",
          "text": [
            "<class 'pandas.core.frame.DataFrame'>\n",
            "RangeIndex: 701 entries, 0 to 700\n",
            "Data columns (total 6 columns):\n",
            " #   Column           Non-Null Count  Dtype  \n",
            "---  ------           --------------  -----  \n",
            " 0   month            701 non-null    object \n",
            " 1   tipo_favorecido  701 non-null    object \n",
            " 2   city             701 non-null    object \n",
            " 3   Função           701 non-null    object \n",
            " 4   prog_orcamento   701 non-null    object \n",
            " 5   gastos           701 non-null    float64\n",
            "dtypes: float64(1), object(5)\n",
            "memory usage: 33.0+ KB\n"
          ],
          "name": "stdout"
        }
      ]
    },
    {
      "cell_type": "markdown",
      "metadata": {
        "id": "jLDhV-F6-1nV"
      },
      "source": [
        "##### **Definindo dados categóricos**"
      ]
    },
    {
      "cell_type": "markdown",
      "metadata": {
        "id": "MWRARfMS4HUW"
      },
      "source": [
        "Conversão de dados categóricos\n",
        "> ```object``` -> ```category```"
      ]
    },
    {
      "cell_type": "code",
      "metadata": {
        "id": "yucdFzJx1jql",
        "colab": {
          "base_uri": "https://localhost:8080/",
          "height": 0
        },
        "outputId": "905d8d65-e731-4da8-d2ee-f1e586459cec"
      },
      "source": [
        "invest_covidPe"
      ],
      "execution_count": 21,
      "outputs": [
        {
          "output_type": "execute_result",
          "data": {
            "text/html": [
              "<div>\n",
              "<style scoped>\n",
              "    .dataframe tbody tr th:only-of-type {\n",
              "        vertical-align: middle;\n",
              "    }\n",
              "\n",
              "    .dataframe tbody tr th {\n",
              "        vertical-align: top;\n",
              "    }\n",
              "\n",
              "    .dataframe thead th {\n",
              "        text-align: right;\n",
              "    }\n",
              "</style>\n",
              "<table border=\"1\" class=\"dataframe\">\n",
              "  <thead>\n",
              "    <tr style=\"text-align: right;\">\n",
              "      <th></th>\n",
              "      <th>month</th>\n",
              "      <th>tipo_favorecido</th>\n",
              "      <th>city</th>\n",
              "      <th>Função</th>\n",
              "      <th>prog_orcamento</th>\n",
              "      <th>gastos</th>\n",
              "    </tr>\n",
              "  </thead>\n",
              "  <tbody>\n",
              "    <tr>\n",
              "      <th>0</th>\n",
              "      <td>mar/20</td>\n",
              "      <td>Fundo Público</td>\n",
              "      <td>RECIFE</td>\n",
              "      <td>Saúde</td>\n",
              "      <td>ATENCAO ESPECIALIZADA A SAUDE</td>\n",
              "      <td>60000.00</td>\n",
              "    </tr>\n",
              "    <tr>\n",
              "      <th>1</th>\n",
              "      <td>abr/20</td>\n",
              "      <td>Fundo Público</td>\n",
              "      <td>GARANHUNS</td>\n",
              "      <td>Saúde</td>\n",
              "      <td>ATENCAO ESPECIALIZADA A SAUDE</td>\n",
              "      <td>1174944.27</td>\n",
              "    </tr>\n",
              "    <tr>\n",
              "      <th>2</th>\n",
              "      <td>abr/20</td>\n",
              "      <td>Fundo Público</td>\n",
              "      <td>PETROLINA</td>\n",
              "      <td>Saúde</td>\n",
              "      <td>ATENCAO ESPECIALIZADA A SAUDE</td>\n",
              "      <td>4130446.89</td>\n",
              "    </tr>\n",
              "    <tr>\n",
              "      <th>3</th>\n",
              "      <td>abr/20</td>\n",
              "      <td>Fundo Público</td>\n",
              "      <td>OLINDA</td>\n",
              "      <td>Saúde</td>\n",
              "      <td>ATENCAO ESPECIALIZADA A SAUDE</td>\n",
              "      <td>3830136.03</td>\n",
              "    </tr>\n",
              "    <tr>\n",
              "      <th>4</th>\n",
              "      <td>abr/20</td>\n",
              "      <td>Fundo Público</td>\n",
              "      <td>CARUARU</td>\n",
              "      <td>Saúde</td>\n",
              "      <td>ATENCAO ESPECIALIZADA A SAUDE</td>\n",
              "      <td>3662675.00</td>\n",
              "    </tr>\n",
              "    <tr>\n",
              "      <th>...</th>\n",
              "      <td>...</td>\n",
              "      <td>...</td>\n",
              "      <td>...</td>\n",
              "      <td>...</td>\n",
              "      <td>...</td>\n",
              "      <td>...</td>\n",
              "    </tr>\n",
              "    <tr>\n",
              "      <th>696</th>\n",
              "      <td>04/2020</td>\n",
              "      <td>Fundo Público</td>\n",
              "      <td>JABOATÃO DOS GUARARAPES</td>\n",
              "      <td>Saúde</td>\n",
              "      <td>ATENCAO ESPECIALIZADA A SAUDE</td>\n",
              "      <td>7327021.87</td>\n",
              "    </tr>\n",
              "    <tr>\n",
              "      <th>697</th>\n",
              "      <td>10/2020</td>\n",
              "      <td>Fundo Público</td>\n",
              "      <td>RECIFE</td>\n",
              "      <td>Saúde</td>\n",
              "      <td>ATENCAO ESPECIALIZADA A SAUDE</td>\n",
              "      <td>3500000.00</td>\n",
              "    </tr>\n",
              "    <tr>\n",
              "      <th>698</th>\n",
              "      <td>07/2020</td>\n",
              "      <td>Fundo Público</td>\n",
              "      <td>PETROLINA</td>\n",
              "      <td>Saúde</td>\n",
              "      <td>ATENCAO ESPECIALIZADA A SAUDE</td>\n",
              "      <td>8676053.00</td>\n",
              "    </tr>\n",
              "    <tr>\n",
              "      <th>699</th>\n",
              "      <td>07/2020</td>\n",
              "      <td>Fundo Público</td>\n",
              "      <td>BUÍQUE</td>\n",
              "      <td>Saúde</td>\n",
              "      <td>ATENCAO ESPECIALIZADA A SAUDE</td>\n",
              "      <td>1850000.00</td>\n",
              "    </tr>\n",
              "    <tr>\n",
              "      <th>700</th>\n",
              "      <td>08/2020</td>\n",
              "      <td>Fundo Público</td>\n",
              "      <td>PETROLINA</td>\n",
              "      <td>Assistência social</td>\n",
              "      <td>PROTECAO SOCIAL NO AMBITO DO SISTEMA UNICO DE ...</td>\n",
              "      <td>516875.60</td>\n",
              "    </tr>\n",
              "  </tbody>\n",
              "</table>\n",
              "<p>701 rows × 6 columns</p>\n",
              "</div>"
            ],
            "text/plain": [
              "       month  ...      gastos\n",
              "0     mar/20  ...    60000.00\n",
              "1     abr/20  ...  1174944.27\n",
              "2     abr/20  ...  4130446.89\n",
              "3     abr/20  ...  3830136.03\n",
              "4     abr/20  ...  3662675.00\n",
              "..       ...  ...         ...\n",
              "696  04/2020  ...  7327021.87\n",
              "697  10/2020  ...  3500000.00\n",
              "698  07/2020  ...  8676053.00\n",
              "699  07/2020  ...  1850000.00\n",
              "700  08/2020  ...   516875.60\n",
              "\n",
              "[701 rows x 6 columns]"
            ]
          },
          "metadata": {
            "tags": []
          },
          "execution_count": 21
        }
      ]
    },
    {
      "cell_type": "code",
      "metadata": {
        "id": "_XFyq-WR-0HA",
        "colab": {
          "base_uri": "https://localhost:8080/"
        },
        "outputId": "b5103f15-4316-4444-95ac-11fdc28fb2fd"
      },
      "source": [
        "invest_covidPe['month'] = invest_covidPe['month'].astype('category')\n",
        "invest_covidPe['city'] = invest_covidPe['city'].astype('category')\n",
        "invest_covidPe['Função'] = invest_covidPe['Função'].astype('category')\n",
        "invest_covidPe['tipo_favorecido'] = invest_covidPe['tipo_favorecido'].astype('category')\n",
        "invest_covidPe['prog_orcamento'] = invest_covidPe['prog_orcamento'].astype('category')\n",
        "invest_covidPe.info(verbose=True)"
      ],
      "execution_count": 22,
      "outputs": [
        {
          "output_type": "stream",
          "text": [
            "<class 'pandas.core.frame.DataFrame'>\n",
            "RangeIndex: 701 entries, 0 to 700\n",
            "Data columns (total 6 columns):\n",
            " #   Column           Non-Null Count  Dtype   \n",
            "---  ------           --------------  -----   \n",
            " 0   month            701 non-null    category\n",
            " 1   tipo_favorecido  701 non-null    category\n",
            " 2   city             701 non-null    category\n",
            " 3   Função           701 non-null    category\n",
            " 4   prog_orcamento   701 non-null    category\n",
            " 5   gastos           701 non-null    float64 \n",
            "dtypes: category(5), float64(1)\n",
            "memory usage: 10.7 KB\n"
          ],
          "name": "stdout"
        }
      ]
    },
    {
      "cell_type": "markdown",
      "metadata": {
        "id": "JvIjW9eo7M4V"
      },
      "source": [
        "### **Tratamento dos dados de casos de covid-19 em PE**"
      ]
    },
    {
      "cell_type": "markdown",
      "metadata": {
        "id": "UrgXxWT1MCvo"
      },
      "source": [
        "Filtragem de categorias"
      ]
    },
    {
      "cell_type": "code",
      "metadata": {
        "id": "ycdb5D-sLijY",
        "colab": {
          "base_uri": "https://localhost:8080/",
          "height": 0
        },
        "outputId": "3736824e-b80e-43d5-821b-5a8b8a1ea68e"
      },
      "source": [
        "covidPeCases = covidPeCases.filter(items=['city', \\\n",
        "                                         'last_available_confirmed', \\\n",
        "                                         'last_available_deaths', \\\n",
        "                                         'last_available_death_rate', \\\n",
        "                                         'estimated_population' \\\n",
        "                                         ])\n",
        "covidPeCases"
      ],
      "execution_count": 23,
      "outputs": [
        {
          "output_type": "execute_result",
          "data": {
            "text/html": [
              "<div>\n",
              "<style scoped>\n",
              "    .dataframe tbody tr th:only-of-type {\n",
              "        vertical-align: middle;\n",
              "    }\n",
              "\n",
              "    .dataframe tbody tr th {\n",
              "        vertical-align: top;\n",
              "    }\n",
              "\n",
              "    .dataframe thead th {\n",
              "        text-align: right;\n",
              "    }\n",
              "</style>\n",
              "<table border=\"1\" class=\"dataframe\">\n",
              "  <thead>\n",
              "    <tr style=\"text-align: right;\">\n",
              "      <th></th>\n",
              "      <th>city</th>\n",
              "      <th>last_available_confirmed</th>\n",
              "      <th>last_available_deaths</th>\n",
              "      <th>last_available_death_rate</th>\n",
              "      <th>estimated_population</th>\n",
              "    </tr>\n",
              "  </thead>\n",
              "  <tbody>\n",
              "    <tr>\n",
              "      <th>0</th>\n",
              "      <td>NaN</td>\n",
              "      <td>323176</td>\n",
              "      <td>11510</td>\n",
              "      <td>0.0356</td>\n",
              "      <td>9616621.0</td>\n",
              "    </tr>\n",
              "    <tr>\n",
              "      <th>1</th>\n",
              "      <td>Abreu e Lima</td>\n",
              "      <td>1700</td>\n",
              "      <td>159</td>\n",
              "      <td>0.0935</td>\n",
              "      <td>100346.0</td>\n",
              "    </tr>\n",
              "    <tr>\n",
              "      <th>2</th>\n",
              "      <td>Afogados da Ingazeira</td>\n",
              "      <td>2478</td>\n",
              "      <td>35</td>\n",
              "      <td>0.0141</td>\n",
              "      <td>37404.0</td>\n",
              "    </tr>\n",
              "    <tr>\n",
              "      <th>3</th>\n",
              "      <td>Afrânio</td>\n",
              "      <td>578</td>\n",
              "      <td>9</td>\n",
              "      <td>0.0156</td>\n",
              "      <td>19810.0</td>\n",
              "    </tr>\n",
              "    <tr>\n",
              "      <th>4</th>\n",
              "      <td>Agrestina</td>\n",
              "      <td>865</td>\n",
              "      <td>36</td>\n",
              "      <td>0.0416</td>\n",
              "      <td>25065.0</td>\n",
              "    </tr>\n",
              "    <tr>\n",
              "      <th>...</th>\n",
              "      <td>...</td>\n",
              "      <td>...</td>\n",
              "      <td>...</td>\n",
              "      <td>...</td>\n",
              "      <td>...</td>\n",
              "    </tr>\n",
              "    <tr>\n",
              "      <th>182</th>\n",
              "      <td>Vertente do Lério</td>\n",
              "      <td>156</td>\n",
              "      <td>2</td>\n",
              "      <td>0.0128</td>\n",
              "      <td>7571.0</td>\n",
              "    </tr>\n",
              "    <tr>\n",
              "      <th>183</th>\n",
              "      <td>Vertentes</td>\n",
              "      <td>408</td>\n",
              "      <td>5</td>\n",
              "      <td>0.0123</td>\n",
              "      <td>20954.0</td>\n",
              "    </tr>\n",
              "    <tr>\n",
              "      <th>184</th>\n",
              "      <td>Vicência</td>\n",
              "      <td>431</td>\n",
              "      <td>16</td>\n",
              "      <td>0.0371</td>\n",
              "      <td>32772.0</td>\n",
              "    </tr>\n",
              "    <tr>\n",
              "      <th>185</th>\n",
              "      <td>Vitória de Santo Antão</td>\n",
              "      <td>3038</td>\n",
              "      <td>186</td>\n",
              "      <td>0.0612</td>\n",
              "      <td>139583.0</td>\n",
              "    </tr>\n",
              "    <tr>\n",
              "      <th>186</th>\n",
              "      <td>Xexéu</td>\n",
              "      <td>344</td>\n",
              "      <td>18</td>\n",
              "      <td>0.0523</td>\n",
              "      <td>14757.0</td>\n",
              "    </tr>\n",
              "  </tbody>\n",
              "</table>\n",
              "<p>187 rows × 5 columns</p>\n",
              "</div>"
            ],
            "text/plain": [
              "                       city  ...  estimated_population\n",
              "0                       NaN  ...             9616621.0\n",
              "1              Abreu e Lima  ...              100346.0\n",
              "2     Afogados da Ingazeira  ...               37404.0\n",
              "3                   Afrânio  ...               19810.0\n",
              "4                 Agrestina  ...               25065.0\n",
              "..                      ...  ...                   ...\n",
              "182       Vertente do Lério  ...                7571.0\n",
              "183               Vertentes  ...               20954.0\n",
              "184                Vicência  ...               32772.0\n",
              "185  Vitória de Santo Antão  ...              139583.0\n",
              "186                   Xexéu  ...               14757.0\n",
              "\n",
              "[187 rows x 5 columns]"
            ]
          },
          "metadata": {
            "tags": []
          },
          "execution_count": 23
        }
      ]
    },
    {
      "cell_type": "markdown",
      "metadata": {
        "id": "KugjoksVMEZn"
      },
      "source": [
        "Renomeação de colunas"
      ]
    },
    {
      "cell_type": "code",
      "metadata": {
        "id": "QxTROxJ_L3bR",
        "colab": {
          "base_uri": "https://localhost:8080/",
          "height": 0
        },
        "outputId": "b1c78009-c678-4c7c-fd42-5b29ff8c9616"
      },
      "source": [
        "covidPeCases = covidPeCases.rename(columns={\"city\": \"municipio\", \\\n",
        "                                           \"last_available_confirmed\": \"casos_confirmados\", \\\n",
        "                                           \"last_available_deaths\": \"mortes_confirmadas\", \\\n",
        "                                           \"last_available_death_rate\": \"taxa_mortalidade\", \\\n",
        "                                           \"estimated_population\": \"pop_estimada\" \\\n",
        "                                           })\n",
        "covidPeCases"
      ],
      "execution_count": 24,
      "outputs": [
        {
          "output_type": "execute_result",
          "data": {
            "text/html": [
              "<div>\n",
              "<style scoped>\n",
              "    .dataframe tbody tr th:only-of-type {\n",
              "        vertical-align: middle;\n",
              "    }\n",
              "\n",
              "    .dataframe tbody tr th {\n",
              "        vertical-align: top;\n",
              "    }\n",
              "\n",
              "    .dataframe thead th {\n",
              "        text-align: right;\n",
              "    }\n",
              "</style>\n",
              "<table border=\"1\" class=\"dataframe\">\n",
              "  <thead>\n",
              "    <tr style=\"text-align: right;\">\n",
              "      <th></th>\n",
              "      <th>municipio</th>\n",
              "      <th>casos_confirmados</th>\n",
              "      <th>mortes_confirmadas</th>\n",
              "      <th>taxa_mortalidade</th>\n",
              "      <th>pop_estimada</th>\n",
              "    </tr>\n",
              "  </thead>\n",
              "  <tbody>\n",
              "    <tr>\n",
              "      <th>0</th>\n",
              "      <td>NaN</td>\n",
              "      <td>323176</td>\n",
              "      <td>11510</td>\n",
              "      <td>0.0356</td>\n",
              "      <td>9616621.0</td>\n",
              "    </tr>\n",
              "    <tr>\n",
              "      <th>1</th>\n",
              "      <td>Abreu e Lima</td>\n",
              "      <td>1700</td>\n",
              "      <td>159</td>\n",
              "      <td>0.0935</td>\n",
              "      <td>100346.0</td>\n",
              "    </tr>\n",
              "    <tr>\n",
              "      <th>2</th>\n",
              "      <td>Afogados da Ingazeira</td>\n",
              "      <td>2478</td>\n",
              "      <td>35</td>\n",
              "      <td>0.0141</td>\n",
              "      <td>37404.0</td>\n",
              "    </tr>\n",
              "    <tr>\n",
              "      <th>3</th>\n",
              "      <td>Afrânio</td>\n",
              "      <td>578</td>\n",
              "      <td>9</td>\n",
              "      <td>0.0156</td>\n",
              "      <td>19810.0</td>\n",
              "    </tr>\n",
              "    <tr>\n",
              "      <th>4</th>\n",
              "      <td>Agrestina</td>\n",
              "      <td>865</td>\n",
              "      <td>36</td>\n",
              "      <td>0.0416</td>\n",
              "      <td>25065.0</td>\n",
              "    </tr>\n",
              "    <tr>\n",
              "      <th>...</th>\n",
              "      <td>...</td>\n",
              "      <td>...</td>\n",
              "      <td>...</td>\n",
              "      <td>...</td>\n",
              "      <td>...</td>\n",
              "    </tr>\n",
              "    <tr>\n",
              "      <th>182</th>\n",
              "      <td>Vertente do Lério</td>\n",
              "      <td>156</td>\n",
              "      <td>2</td>\n",
              "      <td>0.0128</td>\n",
              "      <td>7571.0</td>\n",
              "    </tr>\n",
              "    <tr>\n",
              "      <th>183</th>\n",
              "      <td>Vertentes</td>\n",
              "      <td>408</td>\n",
              "      <td>5</td>\n",
              "      <td>0.0123</td>\n",
              "      <td>20954.0</td>\n",
              "    </tr>\n",
              "    <tr>\n",
              "      <th>184</th>\n",
              "      <td>Vicência</td>\n",
              "      <td>431</td>\n",
              "      <td>16</td>\n",
              "      <td>0.0371</td>\n",
              "      <td>32772.0</td>\n",
              "    </tr>\n",
              "    <tr>\n",
              "      <th>185</th>\n",
              "      <td>Vitória de Santo Antão</td>\n",
              "      <td>3038</td>\n",
              "      <td>186</td>\n",
              "      <td>0.0612</td>\n",
              "      <td>139583.0</td>\n",
              "    </tr>\n",
              "    <tr>\n",
              "      <th>186</th>\n",
              "      <td>Xexéu</td>\n",
              "      <td>344</td>\n",
              "      <td>18</td>\n",
              "      <td>0.0523</td>\n",
              "      <td>14757.0</td>\n",
              "    </tr>\n",
              "  </tbody>\n",
              "</table>\n",
              "<p>187 rows × 5 columns</p>\n",
              "</div>"
            ],
            "text/plain": [
              "                  municipio  casos_confirmados  ...  taxa_mortalidade  pop_estimada\n",
              "0                       NaN             323176  ...            0.0356     9616621.0\n",
              "1              Abreu e Lima               1700  ...            0.0935      100346.0\n",
              "2     Afogados da Ingazeira               2478  ...            0.0141       37404.0\n",
              "3                   Afrânio                578  ...            0.0156       19810.0\n",
              "4                 Agrestina                865  ...            0.0416       25065.0\n",
              "..                      ...                ...  ...               ...           ...\n",
              "182       Vertente do Lério                156  ...            0.0128        7571.0\n",
              "183               Vertentes                408  ...            0.0123       20954.0\n",
              "184                Vicência                431  ...            0.0371       32772.0\n",
              "185  Vitória de Santo Antão               3038  ...            0.0612      139583.0\n",
              "186                   Xexéu                344  ...            0.0523       14757.0\n",
              "\n",
              "[187 rows x 5 columns]"
            ]
          },
          "metadata": {
            "tags": []
          },
          "execution_count": 24
        }
      ]
    },
    {
      "cell_type": "markdown",
      "metadata": {
        "id": "ppahtXoqPG7l"
      },
      "source": [
        "Filtrar cidades do dataset de Gastos públicos"
      ]
    },
    {
      "cell_type": "code",
      "metadata": {
        "id": "E2Y3omYllzL2",
        "colab": {
          "base_uri": "https://localhost:8080/",
          "height": 0
        },
        "outputId": "7221afdd-77d5-4820-f462-e4e858b18893"
      },
      "source": [
        "#Guardando uma cópia dos dados de todas as cidades\n",
        "oldCovidPeCases = covidPeCases\n",
        "\n",
        "#Filtrando as cidades que selecionamos os gastos no portal da transparência\n",
        "cities = ['Arcoverde', \\\n",
        "          'Buíque', \\\n",
        "          'Caruaru', \\\n",
        "          'Garanhuns', \\\n",
        "          'Jaboatão dos Guararapes', \\\n",
        "          'Olinda', \\\n",
        "          'Paulista', \\\n",
        "          'Petrolina', \\\n",
        "          'Recife', \\\n",
        "          'Serra Talhada']\n",
        "\n",
        "covidPeCases = covidPeCases[covidPeCases.municipio.isin(cities)]\n",
        "covidPeCases"
      ],
      "execution_count": 25,
      "outputs": [
        {
          "output_type": "execute_result",
          "data": {
            "text/html": [
              "<div>\n",
              "<style scoped>\n",
              "    .dataframe tbody tr th:only-of-type {\n",
              "        vertical-align: middle;\n",
              "    }\n",
              "\n",
              "    .dataframe tbody tr th {\n",
              "        vertical-align: top;\n",
              "    }\n",
              "\n",
              "    .dataframe thead th {\n",
              "        text-align: right;\n",
              "    }\n",
              "</style>\n",
              "<table border=\"1\" class=\"dataframe\">\n",
              "  <thead>\n",
              "    <tr style=\"text-align: right;\">\n",
              "      <th></th>\n",
              "      <th>municipio</th>\n",
              "      <th>casos_confirmados</th>\n",
              "      <th>mortes_confirmadas</th>\n",
              "      <th>taxa_mortalidade</th>\n",
              "      <th>pop_estimada</th>\n",
              "    </tr>\n",
              "  </thead>\n",
              "  <tbody>\n",
              "    <tr>\n",
              "      <th>14</th>\n",
              "      <td>Arcoverde</td>\n",
              "      <td>4281</td>\n",
              "      <td>87</td>\n",
              "      <td>0.0203</td>\n",
              "      <td>74822.0</td>\n",
              "    </tr>\n",
              "    <tr>\n",
              "      <th>30</th>\n",
              "      <td>Buíque</td>\n",
              "      <td>1436</td>\n",
              "      <td>23</td>\n",
              "      <td>0.0160</td>\n",
              "      <td>58919.0</td>\n",
              "    </tr>\n",
              "    <tr>\n",
              "      <th>45</th>\n",
              "      <td>Caruaru</td>\n",
              "      <td>17187</td>\n",
              "      <td>454</td>\n",
              "      <td>0.0264</td>\n",
              "      <td>365278.0</td>\n",
              "    </tr>\n",
              "    <tr>\n",
              "      <th>67</th>\n",
              "      <td>Garanhuns</td>\n",
              "      <td>7250</td>\n",
              "      <td>134</td>\n",
              "      <td>0.0185</td>\n",
              "      <td>140577.0</td>\n",
              "    </tr>\n",
              "    <tr>\n",
              "      <th>89</th>\n",
              "      <td>Jaboatão dos Guararapes</td>\n",
              "      <td>19966</td>\n",
              "      <td>1095</td>\n",
              "      <td>0.0548</td>\n",
              "      <td>706867.0</td>\n",
              "    </tr>\n",
              "    <tr>\n",
              "      <th>113</th>\n",
              "      <td>Olinda</td>\n",
              "      <td>14581</td>\n",
              "      <td>635</td>\n",
              "      <td>0.0435</td>\n",
              "      <td>393115.0</td>\n",
              "    </tr>\n",
              "    <tr>\n",
              "      <th>124</th>\n",
              "      <td>Paulista</td>\n",
              "      <td>7154</td>\n",
              "      <td>528</td>\n",
              "      <td>0.0738</td>\n",
              "      <td>334376.0</td>\n",
              "    </tr>\n",
              "    <tr>\n",
              "      <th>128</th>\n",
              "      <td>Petrolina</td>\n",
              "      <td>18239</td>\n",
              "      <td>209</td>\n",
              "      <td>0.0115</td>\n",
              "      <td>354317.0</td>\n",
              "    </tr>\n",
              "    <tr>\n",
              "      <th>134</th>\n",
              "      <td>Recife</td>\n",
              "      <td>78117</td>\n",
              "      <td>3168</td>\n",
              "      <td>0.0406</td>\n",
              "      <td>1653461.0</td>\n",
              "    </tr>\n",
              "    <tr>\n",
              "      <th>160</th>\n",
              "      <td>Serra Talhada</td>\n",
              "      <td>7341</td>\n",
              "      <td>105</td>\n",
              "      <td>0.0143</td>\n",
              "      <td>86915.0</td>\n",
              "    </tr>\n",
              "  </tbody>\n",
              "</table>\n",
              "</div>"
            ],
            "text/plain": [
              "                   municipio  casos_confirmados  ...  taxa_mortalidade  pop_estimada\n",
              "14                 Arcoverde               4281  ...            0.0203       74822.0\n",
              "30                    Buíque               1436  ...            0.0160       58919.0\n",
              "45                   Caruaru              17187  ...            0.0264      365278.0\n",
              "67                 Garanhuns               7250  ...            0.0185      140577.0\n",
              "89   Jaboatão dos Guararapes              19966  ...            0.0548      706867.0\n",
              "113                   Olinda              14581  ...            0.0435      393115.0\n",
              "124                 Paulista               7154  ...            0.0738      334376.0\n",
              "128                Petrolina              18239  ...            0.0115      354317.0\n",
              "134                   Recife              78117  ...            0.0406     1653461.0\n",
              "160            Serra Talhada               7341  ...            0.0143       86915.0\n",
              "\n",
              "[10 rows x 5 columns]"
            ]
          },
          "metadata": {
            "tags": []
          },
          "execution_count": 25
        }
      ]
    },
    {
      "cell_type": "code",
      "metadata": {
        "id": "ahFKtynRWcZK",
        "colab": {
          "base_uri": "https://localhost:8080/"
        },
        "outputId": "343a5064-1e3b-4a3f-fa58-7e412375d508"
      },
      "source": [
        "covidPeCases.info(verbose=True)"
      ],
      "execution_count": 26,
      "outputs": [
        {
          "output_type": "stream",
          "text": [
            "<class 'pandas.core.frame.DataFrame'>\n",
            "Int64Index: 10 entries, 14 to 160\n",
            "Data columns (total 5 columns):\n",
            " #   Column              Non-Null Count  Dtype  \n",
            "---  ------              --------------  -----  \n",
            " 0   municipio           10 non-null     object \n",
            " 1   casos_confirmados   10 non-null     int64  \n",
            " 2   mortes_confirmadas  10 non-null     int64  \n",
            " 3   taxa_mortalidade    10 non-null     float64\n",
            " 4   pop_estimada        10 non-null     float64\n",
            "dtypes: float64(2), int64(2), object(1)\n",
            "memory usage: 480.0+ bytes\n"
          ],
          "name": "stdout"
        }
      ]
    },
    {
      "cell_type": "code",
      "metadata": {
        "id": "TrR7lzvjbI4n",
        "colab": {
          "base_uri": "https://localhost:8080/"
        },
        "outputId": "f453de2a-8b3a-45ba-834b-df565f41f774"
      },
      "source": [
        "covidPeCases['municipio'] = covidPeCases['municipio'].apply(lambda city: city.upper())\n",
        "covidPeCases['municipio'].unique()"
      ],
      "execution_count": 27,
      "outputs": [
        {
          "output_type": "stream",
          "text": [
            "/usr/local/lib/python3.7/dist-packages/ipykernel_launcher.py:1: SettingWithCopyWarning: \n",
            "A value is trying to be set on a copy of a slice from a DataFrame.\n",
            "Try using .loc[row_indexer,col_indexer] = value instead\n",
            "\n",
            "See the caveats in the documentation: https://pandas.pydata.org/pandas-docs/stable/user_guide/indexing.html#returning-a-view-versus-a-copy\n",
            "  \"\"\"Entry point for launching an IPython kernel.\n"
          ],
          "name": "stderr"
        },
        {
          "output_type": "execute_result",
          "data": {
            "text/plain": [
              "array(['ARCOVERDE', 'BUÍQUE', 'CARUARU', 'GARANHUNS',\n",
              "       'JABOATÃO DOS GUARARAPES', 'OLINDA', 'PAULISTA', 'PETROLINA',\n",
              "       'RECIFE', 'SERRA TALHADA'], dtype=object)"
            ]
          },
          "metadata": {
            "tags": []
          },
          "execution_count": 27
        }
      ]
    },
    {
      "cell_type": "code",
      "metadata": {
        "id": "eOyrO8VdcMGn",
        "colab": {
          "base_uri": "https://localhost:8080/"
        },
        "outputId": "882540f4-b59c-44c0-c816-3c8c339db0b9"
      },
      "source": [
        "covidPeCases['municipio'] = covidPeCases['municipio'].astype('category')\n",
        "covidPeCases['id'] = covidPeCases['municipio'].cat.codes\n",
        "covidPeCases.index = covidPeCases['id']"
      ],
      "execution_count": 28,
      "outputs": [
        {
          "output_type": "stream",
          "text": [
            "/usr/local/lib/python3.7/dist-packages/ipykernel_launcher.py:1: SettingWithCopyWarning: \n",
            "A value is trying to be set on a copy of a slice from a DataFrame.\n",
            "Try using .loc[row_indexer,col_indexer] = value instead\n",
            "\n",
            "See the caveats in the documentation: https://pandas.pydata.org/pandas-docs/stable/user_guide/indexing.html#returning-a-view-versus-a-copy\n",
            "  \"\"\"Entry point for launching an IPython kernel.\n",
            "/usr/local/lib/python3.7/dist-packages/ipykernel_launcher.py:2: SettingWithCopyWarning: \n",
            "A value is trying to be set on a copy of a slice from a DataFrame.\n",
            "Try using .loc[row_indexer,col_indexer] = value instead\n",
            "\n",
            "See the caveats in the documentation: https://pandas.pydata.org/pandas-docs/stable/user_guide/indexing.html#returning-a-view-versus-a-copy\n",
            "  \n"
          ],
          "name": "stderr"
        }
      ]
    },
    {
      "cell_type": "code",
      "metadata": {
        "id": "BCs0LeFWlV0y",
        "colab": {
          "base_uri": "https://localhost:8080/",
          "height": 0
        },
        "outputId": "82ad8036-acfd-4eed-e093-25e57b2c8083"
      },
      "source": [
        "covidPeCases"
      ],
      "execution_count": 29,
      "outputs": [
        {
          "output_type": "execute_result",
          "data": {
            "text/html": [
              "<div>\n",
              "<style scoped>\n",
              "    .dataframe tbody tr th:only-of-type {\n",
              "        vertical-align: middle;\n",
              "    }\n",
              "\n",
              "    .dataframe tbody tr th {\n",
              "        vertical-align: top;\n",
              "    }\n",
              "\n",
              "    .dataframe thead th {\n",
              "        text-align: right;\n",
              "    }\n",
              "</style>\n",
              "<table border=\"1\" class=\"dataframe\">\n",
              "  <thead>\n",
              "    <tr style=\"text-align: right;\">\n",
              "      <th></th>\n",
              "      <th>municipio</th>\n",
              "      <th>casos_confirmados</th>\n",
              "      <th>mortes_confirmadas</th>\n",
              "      <th>taxa_mortalidade</th>\n",
              "      <th>pop_estimada</th>\n",
              "      <th>id</th>\n",
              "    </tr>\n",
              "    <tr>\n",
              "      <th>id</th>\n",
              "      <th></th>\n",
              "      <th></th>\n",
              "      <th></th>\n",
              "      <th></th>\n",
              "      <th></th>\n",
              "      <th></th>\n",
              "    </tr>\n",
              "  </thead>\n",
              "  <tbody>\n",
              "    <tr>\n",
              "      <th>0</th>\n",
              "      <td>ARCOVERDE</td>\n",
              "      <td>4281</td>\n",
              "      <td>87</td>\n",
              "      <td>0.0203</td>\n",
              "      <td>74822.0</td>\n",
              "      <td>0</td>\n",
              "    </tr>\n",
              "    <tr>\n",
              "      <th>1</th>\n",
              "      <td>BUÍQUE</td>\n",
              "      <td>1436</td>\n",
              "      <td>23</td>\n",
              "      <td>0.0160</td>\n",
              "      <td>58919.0</td>\n",
              "      <td>1</td>\n",
              "    </tr>\n",
              "    <tr>\n",
              "      <th>2</th>\n",
              "      <td>CARUARU</td>\n",
              "      <td>17187</td>\n",
              "      <td>454</td>\n",
              "      <td>0.0264</td>\n",
              "      <td>365278.0</td>\n",
              "      <td>2</td>\n",
              "    </tr>\n",
              "    <tr>\n",
              "      <th>3</th>\n",
              "      <td>GARANHUNS</td>\n",
              "      <td>7250</td>\n",
              "      <td>134</td>\n",
              "      <td>0.0185</td>\n",
              "      <td>140577.0</td>\n",
              "      <td>3</td>\n",
              "    </tr>\n",
              "    <tr>\n",
              "      <th>4</th>\n",
              "      <td>JABOATÃO DOS GUARARAPES</td>\n",
              "      <td>19966</td>\n",
              "      <td>1095</td>\n",
              "      <td>0.0548</td>\n",
              "      <td>706867.0</td>\n",
              "      <td>4</td>\n",
              "    </tr>\n",
              "    <tr>\n",
              "      <th>5</th>\n",
              "      <td>OLINDA</td>\n",
              "      <td>14581</td>\n",
              "      <td>635</td>\n",
              "      <td>0.0435</td>\n",
              "      <td>393115.0</td>\n",
              "      <td>5</td>\n",
              "    </tr>\n",
              "    <tr>\n",
              "      <th>6</th>\n",
              "      <td>PAULISTA</td>\n",
              "      <td>7154</td>\n",
              "      <td>528</td>\n",
              "      <td>0.0738</td>\n",
              "      <td>334376.0</td>\n",
              "      <td>6</td>\n",
              "    </tr>\n",
              "    <tr>\n",
              "      <th>7</th>\n",
              "      <td>PETROLINA</td>\n",
              "      <td>18239</td>\n",
              "      <td>209</td>\n",
              "      <td>0.0115</td>\n",
              "      <td>354317.0</td>\n",
              "      <td>7</td>\n",
              "    </tr>\n",
              "    <tr>\n",
              "      <th>8</th>\n",
              "      <td>RECIFE</td>\n",
              "      <td>78117</td>\n",
              "      <td>3168</td>\n",
              "      <td>0.0406</td>\n",
              "      <td>1653461.0</td>\n",
              "      <td>8</td>\n",
              "    </tr>\n",
              "    <tr>\n",
              "      <th>9</th>\n",
              "      <td>SERRA TALHADA</td>\n",
              "      <td>7341</td>\n",
              "      <td>105</td>\n",
              "      <td>0.0143</td>\n",
              "      <td>86915.0</td>\n",
              "      <td>9</td>\n",
              "    </tr>\n",
              "  </tbody>\n",
              "</table>\n",
              "</div>"
            ],
            "text/plain": [
              "                  municipio  casos_confirmados  ...  pop_estimada  id\n",
              "id                                              ...                  \n",
              "0                 ARCOVERDE               4281  ...       74822.0   0\n",
              "1                    BUÍQUE               1436  ...       58919.0   1\n",
              "2                   CARUARU              17187  ...      365278.0   2\n",
              "3                 GARANHUNS               7250  ...      140577.0   3\n",
              "4   JABOATÃO DOS GUARARAPES              19966  ...      706867.0   4\n",
              "5                    OLINDA              14581  ...      393115.0   5\n",
              "6                  PAULISTA               7154  ...      334376.0   6\n",
              "7                 PETROLINA              18239  ...      354317.0   7\n",
              "8                    RECIFE              78117  ...     1653461.0   8\n",
              "9             SERRA TALHADA               7341  ...       86915.0   9\n",
              "\n",
              "[10 rows x 6 columns]"
            ]
          },
          "metadata": {
            "tags": []
          },
          "execution_count": 29
        }
      ]
    },
    {
      "cell_type": "markdown",
      "metadata": {
        "id": "IDTgOPKxAaCv"
      },
      "source": [
        "### **Remoção de outliers multivariado**\n",
        "> Método utilizado:\n",
        "  * Local Outlier Factor\n",
        "\n",
        "> Conjunto:\n",
        "  * ```investCovidPE```"
      ]
    },
    {
      "cell_type": "markdown",
      "metadata": {
        "id": "nayhR_TLag-A"
      },
      "source": [
        "Categorizando Gastos públicos"
      ]
    },
    {
      "cell_type": "markdown",
      "metadata": {
        "id": "qtQRD6AomH-A"
      },
      "source": [
        "Método para vincular os dados de municípios entre os dois Conjuntos de Dados"
      ]
    },
    {
      "cell_type": "code",
      "metadata": {
        "id": "7712t-mXfjd1"
      },
      "source": [
        "def categorizar_municipio(city):\n",
        "  return covidPeCases[covidPeCases['municipio'] == str(city)].index.values.astype(int)[0]"
      ],
      "execution_count": 30,
      "outputs": []
    },
    {
      "cell_type": "code",
      "metadata": {
        "id": "CFbosEXX2qA1",
        "colab": {
          "base_uri": "https://localhost:8080/",
          "height": 0
        },
        "outputId": "f057803a-cab0-4bff-d829-af1d97cf6c0c"
      },
      "source": [
        "invest_covidPe"
      ],
      "execution_count": 31,
      "outputs": [
        {
          "output_type": "execute_result",
          "data": {
            "text/html": [
              "<div>\n",
              "<style scoped>\n",
              "    .dataframe tbody tr th:only-of-type {\n",
              "        vertical-align: middle;\n",
              "    }\n",
              "\n",
              "    .dataframe tbody tr th {\n",
              "        vertical-align: top;\n",
              "    }\n",
              "\n",
              "    .dataframe thead th {\n",
              "        text-align: right;\n",
              "    }\n",
              "</style>\n",
              "<table border=\"1\" class=\"dataframe\">\n",
              "  <thead>\n",
              "    <tr style=\"text-align: right;\">\n",
              "      <th></th>\n",
              "      <th>month</th>\n",
              "      <th>tipo_favorecido</th>\n",
              "      <th>city</th>\n",
              "      <th>Função</th>\n",
              "      <th>prog_orcamento</th>\n",
              "      <th>gastos</th>\n",
              "    </tr>\n",
              "  </thead>\n",
              "  <tbody>\n",
              "    <tr>\n",
              "      <th>0</th>\n",
              "      <td>mar/20</td>\n",
              "      <td>Fundo Público</td>\n",
              "      <td>RECIFE</td>\n",
              "      <td>Saúde</td>\n",
              "      <td>ATENCAO ESPECIALIZADA A SAUDE</td>\n",
              "      <td>60000.00</td>\n",
              "    </tr>\n",
              "    <tr>\n",
              "      <th>1</th>\n",
              "      <td>abr/20</td>\n",
              "      <td>Fundo Público</td>\n",
              "      <td>GARANHUNS</td>\n",
              "      <td>Saúde</td>\n",
              "      <td>ATENCAO ESPECIALIZADA A SAUDE</td>\n",
              "      <td>1174944.27</td>\n",
              "    </tr>\n",
              "    <tr>\n",
              "      <th>2</th>\n",
              "      <td>abr/20</td>\n",
              "      <td>Fundo Público</td>\n",
              "      <td>PETROLINA</td>\n",
              "      <td>Saúde</td>\n",
              "      <td>ATENCAO ESPECIALIZADA A SAUDE</td>\n",
              "      <td>4130446.89</td>\n",
              "    </tr>\n",
              "    <tr>\n",
              "      <th>3</th>\n",
              "      <td>abr/20</td>\n",
              "      <td>Fundo Público</td>\n",
              "      <td>OLINDA</td>\n",
              "      <td>Saúde</td>\n",
              "      <td>ATENCAO ESPECIALIZADA A SAUDE</td>\n",
              "      <td>3830136.03</td>\n",
              "    </tr>\n",
              "    <tr>\n",
              "      <th>4</th>\n",
              "      <td>abr/20</td>\n",
              "      <td>Fundo Público</td>\n",
              "      <td>CARUARU</td>\n",
              "      <td>Saúde</td>\n",
              "      <td>ATENCAO ESPECIALIZADA A SAUDE</td>\n",
              "      <td>3662675.00</td>\n",
              "    </tr>\n",
              "    <tr>\n",
              "      <th>...</th>\n",
              "      <td>...</td>\n",
              "      <td>...</td>\n",
              "      <td>...</td>\n",
              "      <td>...</td>\n",
              "      <td>...</td>\n",
              "      <td>...</td>\n",
              "    </tr>\n",
              "    <tr>\n",
              "      <th>696</th>\n",
              "      <td>04/2020</td>\n",
              "      <td>Fundo Público</td>\n",
              "      <td>JABOATÃO DOS GUARARAPES</td>\n",
              "      <td>Saúde</td>\n",
              "      <td>ATENCAO ESPECIALIZADA A SAUDE</td>\n",
              "      <td>7327021.87</td>\n",
              "    </tr>\n",
              "    <tr>\n",
              "      <th>697</th>\n",
              "      <td>10/2020</td>\n",
              "      <td>Fundo Público</td>\n",
              "      <td>RECIFE</td>\n",
              "      <td>Saúde</td>\n",
              "      <td>ATENCAO ESPECIALIZADA A SAUDE</td>\n",
              "      <td>3500000.00</td>\n",
              "    </tr>\n",
              "    <tr>\n",
              "      <th>698</th>\n",
              "      <td>07/2020</td>\n",
              "      <td>Fundo Público</td>\n",
              "      <td>PETROLINA</td>\n",
              "      <td>Saúde</td>\n",
              "      <td>ATENCAO ESPECIALIZADA A SAUDE</td>\n",
              "      <td>8676053.00</td>\n",
              "    </tr>\n",
              "    <tr>\n",
              "      <th>699</th>\n",
              "      <td>07/2020</td>\n",
              "      <td>Fundo Público</td>\n",
              "      <td>BUÍQUE</td>\n",
              "      <td>Saúde</td>\n",
              "      <td>ATENCAO ESPECIALIZADA A SAUDE</td>\n",
              "      <td>1850000.00</td>\n",
              "    </tr>\n",
              "    <tr>\n",
              "      <th>700</th>\n",
              "      <td>08/2020</td>\n",
              "      <td>Fundo Público</td>\n",
              "      <td>PETROLINA</td>\n",
              "      <td>Assistência social</td>\n",
              "      <td>PROTECAO SOCIAL NO AMBITO DO SISTEMA UNICO DE ...</td>\n",
              "      <td>516875.60</td>\n",
              "    </tr>\n",
              "  </tbody>\n",
              "</table>\n",
              "<p>701 rows × 6 columns</p>\n",
              "</div>"
            ],
            "text/plain": [
              "       month  ...      gastos\n",
              "0     mar/20  ...    60000.00\n",
              "1     abr/20  ...  1174944.27\n",
              "2     abr/20  ...  4130446.89\n",
              "3     abr/20  ...  3830136.03\n",
              "4     abr/20  ...  3662675.00\n",
              "..       ...  ...         ...\n",
              "696  04/2020  ...  7327021.87\n",
              "697  10/2020  ...  3500000.00\n",
              "698  07/2020  ...  8676053.00\n",
              "699  07/2020  ...  1850000.00\n",
              "700  08/2020  ...   516875.60\n",
              "\n",
              "[701 rows x 6 columns]"
            ]
          },
          "metadata": {
            "tags": []
          },
          "execution_count": 31
        }
      ]
    },
    {
      "cell_type": "code",
      "metadata": {
        "id": "L7aa-Y4WAiKn"
      },
      "source": [
        "invest_covidPe['city'] = invest_covidPe['city'].map(lambda city: city.replace(city, str(categorizar_municipio(city))))\n",
        "invest_covidPe['month'] = invest_covidPe['month'].cat.codes\n",
        "invest_covidPe['tipo_favorecido'] = invest_covidPe['tipo_favorecido'].cat.codes\n",
        "invest_covidPe['Função'] = invest_covidPe['Função'].cat.codes\n",
        "invest_covidPe['prog_orcamento'] = invest_covidPe['prog_orcamento'].cat.codes"
      ],
      "execution_count": 32,
      "outputs": []
    },
    {
      "cell_type": "code",
      "metadata": {
        "id": "BkajQcJKl24y",
        "colab": {
          "base_uri": "https://localhost:8080/",
          "height": 0
        },
        "outputId": "eeb89b16-2929-4797-f205-99d45f679768"
      },
      "source": [
        "invest_covidPe"
      ],
      "execution_count": 33,
      "outputs": [
        {
          "output_type": "execute_result",
          "data": {
            "text/html": [
              "<div>\n",
              "<style scoped>\n",
              "    .dataframe tbody tr th:only-of-type {\n",
              "        vertical-align: middle;\n",
              "    }\n",
              "\n",
              "    .dataframe tbody tr th {\n",
              "        vertical-align: top;\n",
              "    }\n",
              "\n",
              "    .dataframe thead th {\n",
              "        text-align: right;\n",
              "    }\n",
              "</style>\n",
              "<table border=\"1\" class=\"dataframe\">\n",
              "  <thead>\n",
              "    <tr style=\"text-align: right;\">\n",
              "      <th></th>\n",
              "      <th>month</th>\n",
              "      <th>tipo_favorecido</th>\n",
              "      <th>city</th>\n",
              "      <th>Função</th>\n",
              "      <th>prog_orcamento</th>\n",
              "      <th>gastos</th>\n",
              "    </tr>\n",
              "  </thead>\n",
              "  <tbody>\n",
              "    <tr>\n",
              "      <th>0</th>\n",
              "      <td>16</td>\n",
              "      <td>2</td>\n",
              "      <td>8</td>\n",
              "      <td>3</td>\n",
              "      <td>0</td>\n",
              "      <td>60000.00</td>\n",
              "    </tr>\n",
              "    <tr>\n",
              "      <th>1</th>\n",
              "      <td>10</td>\n",
              "      <td>2</td>\n",
              "      <td>3</td>\n",
              "      <td>3</td>\n",
              "      <td>0</td>\n",
              "      <td>1174944.27</td>\n",
              "    </tr>\n",
              "    <tr>\n",
              "      <th>2</th>\n",
              "      <td>10</td>\n",
              "      <td>2</td>\n",
              "      <td>7</td>\n",
              "      <td>3</td>\n",
              "      <td>0</td>\n",
              "      <td>4130446.89</td>\n",
              "    </tr>\n",
              "    <tr>\n",
              "      <th>3</th>\n",
              "      <td>10</td>\n",
              "      <td>2</td>\n",
              "      <td>5</td>\n",
              "      <td>3</td>\n",
              "      <td>0</td>\n",
              "      <td>3830136.03</td>\n",
              "    </tr>\n",
              "    <tr>\n",
              "      <th>4</th>\n",
              "      <td>10</td>\n",
              "      <td>2</td>\n",
              "      <td>2</td>\n",
              "      <td>3</td>\n",
              "      <td>0</td>\n",
              "      <td>3662675.00</td>\n",
              "    </tr>\n",
              "    <tr>\n",
              "      <th>...</th>\n",
              "      <td>...</td>\n",
              "      <td>...</td>\n",
              "      <td>...</td>\n",
              "      <td>...</td>\n",
              "      <td>...</td>\n",
              "      <td>...</td>\n",
              "    </tr>\n",
              "    <tr>\n",
              "      <th>696</th>\n",
              "      <td>1</td>\n",
              "      <td>2</td>\n",
              "      <td>4</td>\n",
              "      <td>3</td>\n",
              "      <td>0</td>\n",
              "      <td>7327021.87</td>\n",
              "    </tr>\n",
              "    <tr>\n",
              "      <th>697</th>\n",
              "      <td>7</td>\n",
              "      <td>2</td>\n",
              "      <td>8</td>\n",
              "      <td>3</td>\n",
              "      <td>0</td>\n",
              "      <td>3500000.00</td>\n",
              "    </tr>\n",
              "    <tr>\n",
              "      <th>698</th>\n",
              "      <td>4</td>\n",
              "      <td>2</td>\n",
              "      <td>7</td>\n",
              "      <td>3</td>\n",
              "      <td>0</td>\n",
              "      <td>8676053.00</td>\n",
              "    </tr>\n",
              "    <tr>\n",
              "      <th>699</th>\n",
              "      <td>4</td>\n",
              "      <td>2</td>\n",
              "      <td>1</td>\n",
              "      <td>3</td>\n",
              "      <td>0</td>\n",
              "      <td>1850000.00</td>\n",
              "    </tr>\n",
              "    <tr>\n",
              "      <th>700</th>\n",
              "      <td>5</td>\n",
              "      <td>2</td>\n",
              "      <td>7</td>\n",
              "      <td>0</td>\n",
              "      <td>2</td>\n",
              "      <td>516875.60</td>\n",
              "    </tr>\n",
              "  </tbody>\n",
              "</table>\n",
              "<p>701 rows × 6 columns</p>\n",
              "</div>"
            ],
            "text/plain": [
              "     month  tipo_favorecido city  Função  prog_orcamento      gastos\n",
              "0       16                2    8       3               0    60000.00\n",
              "1       10                2    3       3               0  1174944.27\n",
              "2       10                2    7       3               0  4130446.89\n",
              "3       10                2    5       3               0  3830136.03\n",
              "4       10                2    2       3               0  3662675.00\n",
              "..     ...              ...  ...     ...             ...         ...\n",
              "696      1                2    4       3               0  7327021.87\n",
              "697      7                2    8       3               0  3500000.00\n",
              "698      4                2    7       3               0  8676053.00\n",
              "699      4                2    1       3               0  1850000.00\n",
              "700      5                2    7       0               2   516875.60\n",
              "\n",
              "[701 rows x 6 columns]"
            ]
          },
          "metadata": {
            "tags": []
          },
          "execution_count": 33
        }
      ]
    },
    {
      "cell_type": "markdown",
      "metadata": {
        "id": "1IDXw_5TCKW2"
      },
      "source": [
        "#### **Local Outlier Factor**"
      ]
    },
    {
      "cell_type": "code",
      "metadata": {
        "id": "cxh5XJkcFxoO",
        "colab": {
          "base_uri": "https://localhost:8080/"
        },
        "outputId": "3c8668b0-a3f1-4449-e2cb-598ec8a753f9"
      },
      "source": [
        "invest_covidPe_lof = invest_covidPe\n",
        "print(\"Quantidade de linhas: \" + str(len(invest_covidPe)))"
      ],
      "execution_count": 34,
      "outputs": [
        {
          "output_type": "stream",
          "text": [
            "Quantidade de linhas: 701\n"
          ],
          "name": "stdout"
        }
      ]
    },
    {
      "cell_type": "code",
      "metadata": {
        "id": "wNp19szfcqS-"
      },
      "source": [
        "from sklearn.neighbors import LocalOutlierFactor\n",
        "clf = LocalOutlierFactor(n_neighbors=10)"
      ],
      "execution_count": 35,
      "outputs": []
    },
    {
      "cell_type": "code",
      "metadata": {
        "id": "hY-LVcjacyTl"
      },
      "source": [
        "scores = clf.fit_predict(invest_covidPe_lof)"
      ],
      "execution_count": 36,
      "outputs": []
    },
    {
      "cell_type": "code",
      "metadata": {
        "id": "K-gCHumSdl3H",
        "colab": {
          "base_uri": "https://localhost:8080/"
        },
        "outputId": "8d129deb-e78f-46d1-e379-1a27ad727c43"
      },
      "source": [
        "# Valor de LOF\n",
        "-1*clf.negative_outlier_factor_"
      ],
      "execution_count": 37,
      "outputs": [
        {
          "output_type": "execute_result",
          "data": {
            "text/plain": [
              "array([ 5.06971635,  1.15786907,  1.01278478,  1.00743069,  0.97511367,\n",
              "        1.38735342,  1.14246381,  0.98157289,  0.9388996 ,  1.06181494,\n",
              "        1.03345647,  1.00099309,  1.46929685,  0.96742528,  1.19792081,\n",
              "        1.05815846,  1.32094043,  1.11359083,  0.88391166,  1.28701849,\n",
              "        1.0212535 ,  1.05815846,  1.0811027 ,  1.03028305,  0.96950344,\n",
              "        1.09989847,  1.71633666,  1.09000524,  1.17392687,  1.32513031,\n",
              "        1.24460724,  1.24460724,  0.98706486,  0.95898566,  0.9073941 ,\n",
              "        1.17776213,  1.30074647,  0.94080509,  1.1715444 ,  1.04785782,\n",
              "        0.98969908,  1.22973992,  0.93931047,  1.10569106,  1.11086791,\n",
              "        1.01557319,  0.95207123,  1.0404531 ,  1.40262619,  1.03760092,\n",
              "        0.98506443,  1.31220318,  0.94483734,  1.00836771,  1.03237359,\n",
              "        1.37091875,  1.17742638,  0.99612669,  1.02220098,  0.93716132,\n",
              "        0.99639615,  1.03665054,  1.04930928,  1.3951037 ,  1.09881899,\n",
              "        1.15364448,  1.13640352,  1.02526121,  1.08286789,  0.97687261,\n",
              "        1.10312264,  1.23130391,  1.03433015,  1.23103876,  0.97406902,\n",
              "        1.00836832,  1.16575644,  1.12021853,  0.99612669,  0.9582296 ,\n",
              "        1.07378085,  1.07566838,  1.13702311,  1.18519919,  1.04123949,\n",
              "        0.99529609,  0.98045225,  1.3345122 ,  1.02388755,  1.14159001,\n",
              "        0.97730097,  0.98373643,  1.00277625,  0.95296956,  0.97162536,\n",
              "        0.9811348 , 26.95605932,  0.98941491,  1.17408291,  1.00817919,\n",
              "        1.00124941,  1.04013858,  0.95296956,  0.96837789,  0.98368082,\n",
              "        1.01564939,  0.97822799,  1.03402097,  1.32857675,  0.95443233,\n",
              "        1.07923574,  0.95520682,  1.07686024,  0.97078317,  0.98080848,\n",
              "        1.1080593 ,  1.05691851,  1.08687784,  0.99209075,  0.96273255,\n",
              "        1.05691851,  1.03987723,  1.05021019,  0.94813591,  1.37811025,\n",
              "        1.04005974,  1.03262144,  0.97502109,  1.07929201,  0.97819948,\n",
              "        1.06401928,  1.09128471,  1.10431411,  0.99087607,  0.99780436,\n",
              "        0.96273255,  1.174079  ,  1.06036979,  0.9921648 ,  0.97802784,\n",
              "        0.9811348 ,  1.0520018 ,  1.01565401,  0.98375697,  1.00086347,\n",
              "        1.02399841,  0.95555038,  1.0194217 ,  1.03314316, 27.75387763,\n",
              "        0.99966328,  0.95785721,  1.0691862 ,  1.08425303,  1.02789553,\n",
              "        1.02672522,  1.31881021,  1.10629453,  0.95795242,  1.05891673,\n",
              "        1.18160526,  0.9593656 ,  1.05330164,  1.04783359,  0.99357061,\n",
              "        0.98230192,  1.04885325,  1.2043273 ,  1.12738403,  0.95314462,\n",
              "        1.00450799,  1.00749953,  1.05256023,  0.98583243,  0.98099073,\n",
              "        1.34467024,  1.47854352,  1.23872496,  1.03318735,  0.94497767,\n",
              "        1.12479297,  1.00662319,  0.99986463,  0.96646988,  1.18035211,\n",
              "        0.94039565,  1.01540733,  1.01785844,  0.99510062,  0.97688139,\n",
              "        0.98472152,  1.07502111,  0.97063944,  0.99339473,  0.97468144,\n",
              "        1.03888438,  1.1175102 ,  1.07667705,  1.03939086,  0.97688139,\n",
              "        0.97403614,  1.18698603,  1.05256023,  1.02102444,  1.34358356,\n",
              "        0.99437426,  0.94318983,  1.09976591,  1.12602996,  1.01176986,\n",
              "        1.049486  ,  0.98079947,  1.63385672,  0.99720444,  1.03438353,\n",
              "        0.98097277,  1.12163883,  0.98472152,  0.96990855,  1.20180497,\n",
              "        1.24460724,  0.98641524,  1.00998298,  1.04435288,  1.00577541,\n",
              "        1.00133102,  1.10229785,  1.02789443,  1.01298948,  1.09170686,\n",
              "        0.99058828,  1.16753862,  1.06520101,  1.01664892,  1.00570662,\n",
              "        0.99977531,  1.13850079,  0.96187099,  0.96664715,  0.99966347,\n",
              "        1.08093472, 25.52238866,  1.00720229, 29.95427162,  0.97703039,\n",
              "        1.13139643,  0.9640482 ,  1.2991015 ,  1.12479297,  1.05308976,\n",
              "        1.27227781,  0.99203977,  0.96909241,  0.94559551,  1.01540733,\n",
              "        1.00268364,  1.05402193,  0.9551236 ,  1.11332791,  1.64929225,\n",
              "        1.04778672,  0.97468144,  1.01397356,  1.17347597,  0.99587623,\n",
              "        1.15118761,  0.94289447,  0.96766189,  0.98172852,  1.06691937,\n",
              "        0.98905342,  0.99087607,  1.46256345,  1.07007904,  1.00833983,\n",
              "        1.25826587,  1.10038831,  1.02734008,  1.10815199,  1.1760459 ,\n",
              "        1.05582746,  1.01288556,  1.14745877,  1.00281484,  1.11332791,\n",
              "        1.00857036,  0.96703784,  0.97703039,  1.05601707,  0.99653777,\n",
              "        0.95960079,  0.99528043,  1.00112251,  1.0545147 ,  0.99927486,\n",
              "        0.98492136,  1.00557253,  0.98767248,  1.06802931,  1.14051169,\n",
              "        1.27469804,  1.16473841,  0.9840429 ,  0.99257382,  0.96651575,\n",
              "        1.17057034,  0.97364711,  0.9994135 ,  0.94160997,  0.96740928,\n",
              "        0.99153309,  1.07732031,  0.9840429 ,  0.95517374,  0.98097277,\n",
              "        1.10473159,  1.16538275,  0.96692907,  1.02238378,  0.96569291,\n",
              "        1.05238391,  0.95818253,  0.97635173,  0.93636766,  1.00953672,\n",
              "        0.98085305,  0.9774751 ,  1.04023912,  0.96519965,  0.96706975,\n",
              "        0.98398075,  1.10600227,  1.13901734,  1.20107924,  1.06649056,\n",
              "        1.02388755,  1.09948571,  0.95364521,  0.97122763,  1.02239516,\n",
              "        0.94907828,  1.0071412 ,  1.00885437,  0.98587053,  1.07215908,\n",
              "        1.0143384 ,  1.01116013,  1.09380091,  1.02373887,  0.9585352 ,\n",
              "        1.24653221,  1.16009297,  1.06401928,  0.96283977,  1.04710467,\n",
              "        1.30433733,  1.06425406,  0.97815223,  0.98184981,  1.03385382,\n",
              "        1.32928216,  1.0317872 ,  1.16925669,  1.10924851,  0.96273255,\n",
              "        1.0279302 ,  1.14965654,  0.92127916,  0.96864397,  1.07096755,\n",
              "        1.18654592,  1.20822831,  0.98269663,  1.09803787,  1.0605054 ,\n",
              "        0.97909947,  0.95971758,  1.07166235,  1.02064004,  0.95944057,\n",
              "        1.25643831,  1.02006373,  1.14045423,  1.27455758,  1.43758888,\n",
              "        0.99519718,  1.08022896,  0.97822799,  0.97413273,  0.96263457,\n",
              "        1.1157084 ,  1.07513695,  1.07666653,  0.97144851,  0.92127916,\n",
              "        0.96519965,  0.99209075,  1.00430733,  1.17344495,  1.0473109 ,\n",
              "        1.01013575,  1.14446308,  0.94452781,  0.96007837,  1.05328287,\n",
              "        0.97144851,  0.98175283,  1.06387823,  0.99950143,  0.96616312,\n",
              "        0.97122763,  1.06655808,  1.33158246,  0.97692114,  0.96837789,\n",
              "        0.96321209,  1.06423001,  0.98269663,  1.00225788,  1.02147839,\n",
              "        1.16402642,  0.94560236,  0.95795242,  1.00968111,  1.05125084,\n",
              "        1.00427756,  1.02205497,  0.97789792,  1.10060749,  0.99519718,\n",
              "        1.3040972 ,  1.10323045,  1.04206535,  1.25653288,  0.97592499,\n",
              "        1.0495031 ,  0.98893333,  0.98192738,  1.33988277,  1.00170108,\n",
              "        1.1212623 ,  1.04194502,  1.10168677,  1.09427108,  0.97535422,\n",
              "        1.13822617,  1.02446525,  1.02396755,  1.02973111,  0.94039565,\n",
              "        0.98950181,  1.24581767,  1.00799018,  1.06081237,  0.95522469,\n",
              "        1.04704666,  1.01677704,  1.07344083,  1.09554454,  0.96283977,\n",
              "        0.96263457,  1.1883297 ,  1.1592402 ,  0.98970837,  1.02691424,\n",
              "        1.00839016,  1.22316609,  1.03693837,  0.97590392,  1.02524136,\n",
              "        1.2009166 ,  1.12465336,  1.16155285,  1.09073517,  0.9783367 ,\n",
              "        1.08170826,  1.08601054,  1.02532129,  1.08099875,  0.98892177,\n",
              "        0.98269663,  0.98909575,  1.0225137 ,  1.05027164,  0.9875477 ,\n",
              "        1.06508447,  1.01006248,  0.99186393,  1.00671565,  0.96569291,\n",
              "        1.03925764,  1.09805008,  1.02232124,  0.98663879,  1.07932535,\n",
              "        1.01637392,  1.00405833,  0.97162536,  1.03986293,  0.92127916,\n",
              "        1.13511017,  1.02064004,  0.99044305,  1.12176218,  1.08999419,\n",
              "        1.00187568,  1.21722799,  1.11746672,  0.94596155,  0.95818253,\n",
              "        0.9905502 ,  0.98909575,  0.98193069,  0.98936344,  1.18906429,\n",
              "        1.17058577,  1.06563932,  1.10367327,  0.9849895 ,  1.06081237,\n",
              "        1.02722049,  1.00885437,  1.02048992,  0.97789792,  1.00178527,\n",
              "        1.0973531 ,  0.98273509,  1.0444966 ,  1.10685624,  1.04510903,\n",
              "        1.29055272,  0.96704003,  0.97500529,  0.995789  ,  0.97183217,\n",
              "        0.95791481,  1.12938421,  1.28949643,  1.13476684,  1.01358127,\n",
              "        1.35305612,  1.12467451,  1.00570662,  1.07513695,  1.02722049,\n",
              "        0.97051148,  0.99386148,  1.07061329,  1.02078507,  1.11870151,\n",
              "        0.96353085,  0.97659536,  1.1381063 ,  1.20062624,  1.02212158,\n",
              "        0.98950181,  1.0590178 ,  1.15582121,  0.95093818,  1.22537256,\n",
              "        1.32369477,  0.9471768 , 26.79551576,  0.95853519,  0.96950344,\n",
              "        0.9760057 ,  0.98969908,  1.28701849,  1.10486342,  1.08733281,\n",
              "        0.98506441,  0.99612669,  1.06511878,  1.03283679,  0.94080508,\n",
              "        0.9932826 ,  0.995789  ,  1.30409719,  1.12215432,  1.09989847,\n",
              "        1.00462316,  1.06508447,  1.0404531 ,  0.93931047,  1.17776213,\n",
              "        1.0172084 ,  1.12467451,  1.32094043,  1.00557253, 35.46935   ,\n",
              "        0.97511367,  1.09000524,  1.15411951,  1.15411951,  0.97441659,\n",
              "        5.06971642,  1.00836771,  1.15786907,  1.05672725,  1.40262619,\n",
              "        1.00099309,  1.24460724,  0.99527002,  0.99255867,  1.24460724,\n",
              "        1.14246381,  1.10629453,  1.03279473,  1.35099947,  0.9073941 ,\n",
              "        1.36134167,  1.40412708,  1.33988277,  1.03237359,  1.31220308,\n",
              "        0.98157289,  1.17742638,  1.39439182,  1.10062057,  1.03760092,\n",
              "        1.08041061,  1.02499546,  1.22973992,  1.05601706,  0.96001564,\n",
              "        1.32513564,  1.13182408,  1.10569106,  1.06181494,  0.94813592,\n",
              "        1.08379381,  0.99612669,  1.46929685,  1.23649801,  1.11899235,\n",
              "        1.16500212,  1.11930617,  1.43758888,  1.0212535 ,  1.03345647,\n",
              "        1.30074647,  1.03028305,  0.88391166,  1.02763977,  1.13378212,\n",
              "        0.98932063,  1.32369477,  1.00941602,  1.0811027 ,  1.11359083,\n",
              "        1.05815846,  1.1760459 ,  0.99612669,  4.24673755,  0.98892177,\n",
              "        0.99639615,  1.02789443,  1.02539928,  1.02998885,  1.0043229 ,\n",
              "        1.05815846,  1.17392687,  1.00430733,  1.01665669,  1.00743069,\n",
              "        1.07755826,  1.14045423,  0.97722434,  0.9388996 ,  0.97303789,\n",
              "        1.3462066 ,  1.71633666,  1.11086792,  1.32094043,  1.01278478,\n",
              "        1.02239517,  1.07538021,  0.93716132,  1.32409347,  0.96814754,\n",
              "        0.96990856,  0.99079288,  1.37091875,  1.04785782,  1.15582121,\n",
              "        1.19792081,  1.02763977,  0.95898566,  0.94721617,  0.95207123,\n",
              "        0.94483734,  1.2574992 ,  0.99986464,  1.1715444 ,  0.96742529,\n",
              "        0.98706486,  1.38735342,  1.02220098,  1.24460724,  0.98430014,\n",
              "        1.0155732 ])"
            ]
          },
          "metadata": {
            "tags": []
          },
          "execution_count": 37
        }
      ]
    },
    {
      "cell_type": "code",
      "metadata": {
        "id": "nD9THEnLc9n5",
        "colab": {
          "base_uri": "https://localhost:8080/"
        },
        "outputId": "363b8ee8-0f1e-4698-b609-e03cf40462ef"
      },
      "source": [
        "scores"
      ],
      "execution_count": 38,
      "outputs": [
        {
          "output_type": "execute_result",
          "data": {
            "text/plain": [
              "array([-1,  1,  1,  1,  1,  1,  1,  1,  1,  1,  1,  1,  1,  1,  1,  1,  1,\n",
              "        1,  1,  1,  1,  1,  1,  1,  1,  1, -1,  1,  1,  1,  1,  1,  1,  1,\n",
              "        1,  1,  1,  1,  1,  1,  1,  1,  1,  1,  1,  1,  1,  1,  1,  1,  1,\n",
              "        1,  1,  1,  1,  1,  1,  1,  1,  1,  1,  1,  1,  1,  1,  1,  1,  1,\n",
              "        1,  1,  1,  1,  1,  1,  1,  1,  1,  1,  1,  1,  1,  1,  1,  1,  1,\n",
              "        1,  1,  1,  1,  1,  1,  1,  1,  1,  1,  1, -1,  1,  1,  1,  1,  1,\n",
              "        1,  1,  1,  1,  1,  1,  1,  1,  1,  1,  1,  1,  1,  1,  1,  1,  1,\n",
              "        1,  1,  1,  1,  1,  1,  1,  1,  1,  1,  1,  1,  1,  1,  1,  1,  1,\n",
              "        1,  1,  1,  1,  1,  1,  1,  1,  1,  1,  1,  1,  1, -1,  1,  1,  1,\n",
              "        1,  1,  1,  1,  1,  1,  1,  1,  1,  1,  1,  1,  1,  1,  1,  1,  1,\n",
              "        1,  1,  1,  1,  1,  1,  1,  1,  1,  1,  1,  1,  1,  1,  1,  1,  1,\n",
              "        1,  1,  1,  1,  1,  1,  1,  1,  1,  1,  1,  1,  1,  1,  1,  1,  1,\n",
              "        1,  1,  1,  1,  1,  1,  1,  1, -1,  1,  1,  1,  1,  1,  1,  1,  1,\n",
              "        1,  1,  1,  1,  1,  1,  1,  1,  1,  1,  1,  1,  1,  1,  1,  1,  1,\n",
              "        1,  1,  1, -1,  1, -1,  1,  1,  1,  1,  1,  1,  1,  1,  1,  1,  1,\n",
              "        1,  1,  1,  1, -1,  1,  1,  1,  1,  1,  1,  1,  1,  1,  1,  1,  1,\n",
              "        1,  1,  1,  1,  1,  1,  1,  1,  1,  1,  1,  1,  1,  1,  1,  1,  1,\n",
              "        1,  1,  1,  1,  1,  1,  1,  1,  1,  1,  1,  1,  1,  1,  1,  1,  1,\n",
              "        1,  1,  1,  1,  1,  1,  1,  1,  1,  1,  1,  1,  1,  1,  1,  1,  1,\n",
              "        1,  1,  1,  1,  1,  1,  1,  1,  1,  1,  1,  1,  1,  1,  1,  1,  1,\n",
              "        1,  1,  1,  1,  1,  1,  1,  1,  1,  1,  1,  1,  1,  1,  1,  1,  1,\n",
              "        1,  1,  1,  1,  1,  1,  1,  1,  1,  1,  1,  1,  1,  1,  1,  1,  1,\n",
              "        1,  1,  1,  1,  1,  1,  1,  1,  1,  1,  1,  1,  1,  1,  1,  1,  1,\n",
              "        1,  1,  1,  1,  1,  1,  1,  1,  1,  1,  1,  1,  1,  1,  1,  1,  1,\n",
              "        1,  1,  1,  1,  1,  1,  1,  1,  1,  1,  1,  1,  1,  1,  1,  1,  1,\n",
              "        1,  1,  1,  1,  1,  1,  1,  1,  1,  1,  1,  1,  1,  1,  1,  1,  1,\n",
              "        1,  1,  1,  1,  1,  1,  1,  1,  1,  1,  1,  1,  1,  1,  1,  1,  1,\n",
              "        1,  1,  1,  1,  1,  1,  1,  1,  1,  1,  1,  1,  1,  1,  1,  1,  1,\n",
              "        1,  1,  1,  1,  1,  1,  1,  1,  1,  1,  1,  1,  1,  1,  1,  1,  1,\n",
              "        1,  1,  1,  1,  1,  1,  1,  1,  1,  1,  1,  1,  1,  1,  1,  1,  1,\n",
              "        1,  1,  1,  1,  1,  1,  1,  1,  1,  1,  1,  1,  1,  1,  1,  1,  1,\n",
              "        1,  1,  1,  1,  1,  1,  1,  1,  1,  1,  1,  1,  1,  1,  1,  1,  1,\n",
              "        1,  1,  1,  1,  1,  1,  1,  1,  1,  1,  1,  1,  1,  1,  1,  1,  1,\n",
              "        1, -1,  1,  1,  1,  1,  1,  1,  1,  1,  1,  1,  1,  1,  1,  1,  1,\n",
              "        1,  1,  1,  1,  1,  1,  1,  1,  1,  1,  1, -1,  1,  1,  1,  1,  1,\n",
              "       -1,  1,  1,  1,  1,  1,  1,  1,  1,  1,  1,  1,  1,  1,  1,  1,  1,\n",
              "        1,  1,  1,  1,  1,  1,  1,  1,  1,  1,  1,  1,  1,  1,  1,  1,  1,\n",
              "        1,  1,  1,  1,  1,  1,  1,  1,  1,  1,  1,  1,  1,  1,  1,  1,  1,\n",
              "        1,  1,  1,  1,  1,  1,  1, -1,  1,  1,  1,  1,  1,  1,  1,  1,  1,\n",
              "        1,  1,  1,  1,  1,  1,  1,  1, -1,  1,  1,  1,  1,  1,  1,  1,  1,\n",
              "        1,  1,  1,  1,  1,  1,  1,  1,  1,  1,  1,  1,  1,  1,  1,  1,  1,\n",
              "        1,  1,  1,  1])"
            ]
          },
          "metadata": {
            "tags": []
          },
          "execution_count": 38
        }
      ]
    },
    {
      "cell_type": "code",
      "metadata": {
        "id": "nipEFPzndJYa",
        "colab": {
          "base_uri": "https://localhost:8080/"
        },
        "outputId": "9b29c547-cdab-4d68-9b0e-c3e924fd037a"
      },
      "source": [
        "invest_covidPe_lof['outlier'] = scores\n",
        "print(invest_covidPe_lof.head())"
      ],
      "execution_count": 39,
      "outputs": [
        {
          "output_type": "stream",
          "text": [
            "   month  tipo_favorecido city  Função  prog_orcamento      gastos  outlier\n",
            "0     16                2    8       3               0    60000.00       -1\n",
            "1     10                2    3       3               0  1174944.27        1\n",
            "2     10                2    7       3               0  4130446.89        1\n",
            "3     10                2    5       3               0  3830136.03        1\n",
            "4     10                2    2       3               0  3662675.00        1\n"
          ],
          "name": "stdout"
        }
      ]
    },
    {
      "cell_type": "code",
      "metadata": {
        "id": "YoaDBs3ldU8j",
        "colab": {
          "base_uri": "https://localhost:8080/",
          "height": 0
        },
        "outputId": "b4997295-5020-4bbc-8f10-a23333d1896a"
      },
      "source": [
        "invest_covidPe_lof[invest_covidPe_lof['outlier'] == -1]"
      ],
      "execution_count": 40,
      "outputs": [
        {
          "output_type": "execute_result",
          "data": {
            "text/html": [
              "<div>\n",
              "<style scoped>\n",
              "    .dataframe tbody tr th:only-of-type {\n",
              "        vertical-align: middle;\n",
              "    }\n",
              "\n",
              "    .dataframe tbody tr th {\n",
              "        vertical-align: top;\n",
              "    }\n",
              "\n",
              "    .dataframe thead th {\n",
              "        text-align: right;\n",
              "    }\n",
              "</style>\n",
              "<table border=\"1\" class=\"dataframe\">\n",
              "  <thead>\n",
              "    <tr style=\"text-align: right;\">\n",
              "      <th></th>\n",
              "      <th>month</th>\n",
              "      <th>tipo_favorecido</th>\n",
              "      <th>city</th>\n",
              "      <th>Função</th>\n",
              "      <th>prog_orcamento</th>\n",
              "      <th>gastos</th>\n",
              "      <th>outlier</th>\n",
              "    </tr>\n",
              "  </thead>\n",
              "  <tbody>\n",
              "    <tr>\n",
              "      <th>0</th>\n",
              "      <td>16</td>\n",
              "      <td>2</td>\n",
              "      <td>8</td>\n",
              "      <td>3</td>\n",
              "      <td>0</td>\n",
              "      <td>60000.00</td>\n",
              "      <td>-1</td>\n",
              "    </tr>\n",
              "    <tr>\n",
              "      <th>26</th>\n",
              "      <td>14</td>\n",
              "      <td>2</td>\n",
              "      <td>8</td>\n",
              "      <td>0</td>\n",
              "      <td>2</td>\n",
              "      <td>2264395.80</td>\n",
              "      <td>-1</td>\n",
              "    </tr>\n",
              "    <tr>\n",
              "      <th>96</th>\n",
              "      <td>17</td>\n",
              "      <td>1</td>\n",
              "      <td>8</td>\n",
              "      <td>2</td>\n",
              "      <td>1</td>\n",
              "      <td>-534.86</td>\n",
              "      <td>-1</td>\n",
              "    </tr>\n",
              "    <tr>\n",
              "      <th>149</th>\n",
              "      <td>17</td>\n",
              "      <td>1</td>\n",
              "      <td>8</td>\n",
              "      <td>2</td>\n",
              "      <td>1</td>\n",
              "      <td>-1084.16</td>\n",
              "      <td>-1</td>\n",
              "    </tr>\n",
              "    <tr>\n",
              "      <th>212</th>\n",
              "      <td>17</td>\n",
              "      <td>1</td>\n",
              "      <td>7</td>\n",
              "      <td>2</td>\n",
              "      <td>1</td>\n",
              "      <td>12037.82</td>\n",
              "      <td>-1</td>\n",
              "    </tr>\n",
              "    <tr>\n",
              "      <th>241</th>\n",
              "      <td>17</td>\n",
              "      <td>1</td>\n",
              "      <td>8</td>\n",
              "      <td>2</td>\n",
              "      <td>1</td>\n",
              "      <td>-1248.01</td>\n",
              "      <td>-1</td>\n",
              "    </tr>\n",
              "    <tr>\n",
              "      <th>243</th>\n",
              "      <td>17</td>\n",
              "      <td>1</td>\n",
              "      <td>8</td>\n",
              "      <td>2</td>\n",
              "      <td>1</td>\n",
              "      <td>-2529.72</td>\n",
              "      <td>-1</td>\n",
              "    </tr>\n",
              "    <tr>\n",
              "      <th>259</th>\n",
              "      <td>17</td>\n",
              "      <td>1</td>\n",
              "      <td>2</td>\n",
              "      <td>2</td>\n",
              "      <td>1</td>\n",
              "      <td>1342.91</td>\n",
              "      <td>-1</td>\n",
              "    </tr>\n",
              "    <tr>\n",
              "      <th>562</th>\n",
              "      <td>8</td>\n",
              "      <td>1</td>\n",
              "      <td>8</td>\n",
              "      <td>2</td>\n",
              "      <td>1</td>\n",
              "      <td>-1619.02</td>\n",
              "      <td>-1</td>\n",
              "    </tr>\n",
              "    <tr>\n",
              "      <th>589</th>\n",
              "      <td>8</td>\n",
              "      <td>1</td>\n",
              "      <td>8</td>\n",
              "      <td>2</td>\n",
              "      <td>1</td>\n",
              "      <td>-3777.73</td>\n",
              "      <td>-1</td>\n",
              "    </tr>\n",
              "    <tr>\n",
              "      <th>595</th>\n",
              "      <td>0</td>\n",
              "      <td>2</td>\n",
              "      <td>8</td>\n",
              "      <td>3</td>\n",
              "      <td>0</td>\n",
              "      <td>60000.00</td>\n",
              "      <td>-1</td>\n",
              "    </tr>\n",
              "    <tr>\n",
              "      <th>653</th>\n",
              "      <td>9</td>\n",
              "      <td>2</td>\n",
              "      <td>1</td>\n",
              "      <td>3</td>\n",
              "      <td>0</td>\n",
              "      <td>17375.00</td>\n",
              "      <td>-1</td>\n",
              "    </tr>\n",
              "    <tr>\n",
              "      <th>671</th>\n",
              "      <td>3</td>\n",
              "      <td>2</td>\n",
              "      <td>8</td>\n",
              "      <td>0</td>\n",
              "      <td>2</td>\n",
              "      <td>2264395.80</td>\n",
              "      <td>-1</td>\n",
              "    </tr>\n",
              "  </tbody>\n",
              "</table>\n",
              "</div>"
            ],
            "text/plain": [
              "     month  tipo_favorecido city  Função  prog_orcamento      gastos  outlier\n",
              "0       16                2    8       3               0    60000.00       -1\n",
              "26      14                2    8       0               2  2264395.80       -1\n",
              "96      17                1    8       2               1     -534.86       -1\n",
              "149     17                1    8       2               1    -1084.16       -1\n",
              "212     17                1    7       2               1    12037.82       -1\n",
              "241     17                1    8       2               1    -1248.01       -1\n",
              "243     17                1    8       2               1    -2529.72       -1\n",
              "259     17                1    2       2               1     1342.91       -1\n",
              "562      8                1    8       2               1    -1619.02       -1\n",
              "589      8                1    8       2               1    -3777.73       -1\n",
              "595      0                2    8       3               0    60000.00       -1\n",
              "653      9                2    1       3               0    17375.00       -1\n",
              "671      3                2    8       0               2  2264395.80       -1"
            ]
          },
          "metadata": {
            "tags": []
          },
          "execution_count": 40
        }
      ]
    },
    {
      "cell_type": "code",
      "metadata": {
        "id": "g0eXFEW2dgSV",
        "colab": {
          "base_uri": "https://localhost:8080/"
        },
        "outputId": "219e7a38-6eff-46cb-f5c2-ce7ef8a18cab"
      },
      "source": [
        "invest_covidPe_lof = invest_covidPe_lof[invest_covidPe_lof['outlier'] != -1]\n",
        "len(invest_covidPe_lof)"
      ],
      "execution_count": 41,
      "outputs": [
        {
          "output_type": "execute_result",
          "data": {
            "text/plain": [
              "688"
            ]
          },
          "metadata": {
            "tags": []
          },
          "execution_count": 41
        }
      ]
    },
    {
      "cell_type": "code",
      "metadata": {
        "id": "S5irO6nqfxtw",
        "colab": {
          "base_uri": "https://localhost:8080/",
          "height": 0
        },
        "outputId": "4c3d3aa8-9269-4538-dc8b-130853f0c17d"
      },
      "source": [
        "invest_covidPe_lof = invest_covidPe_lof[invest_covidPe_lof['outlier'] != -1]\n",
        "invest_covidPe_lof = invest_covidPe_lof.drop(columns=['outlier'])\n",
        "\n",
        "invest_covidPe_lof.head(5)"
      ],
      "execution_count": 42,
      "outputs": [
        {
          "output_type": "execute_result",
          "data": {
            "text/html": [
              "<div>\n",
              "<style scoped>\n",
              "    .dataframe tbody tr th:only-of-type {\n",
              "        vertical-align: middle;\n",
              "    }\n",
              "\n",
              "    .dataframe tbody tr th {\n",
              "        vertical-align: top;\n",
              "    }\n",
              "\n",
              "    .dataframe thead th {\n",
              "        text-align: right;\n",
              "    }\n",
              "</style>\n",
              "<table border=\"1\" class=\"dataframe\">\n",
              "  <thead>\n",
              "    <tr style=\"text-align: right;\">\n",
              "      <th></th>\n",
              "      <th>month</th>\n",
              "      <th>tipo_favorecido</th>\n",
              "      <th>city</th>\n",
              "      <th>Função</th>\n",
              "      <th>prog_orcamento</th>\n",
              "      <th>gastos</th>\n",
              "    </tr>\n",
              "  </thead>\n",
              "  <tbody>\n",
              "    <tr>\n",
              "      <th>1</th>\n",
              "      <td>10</td>\n",
              "      <td>2</td>\n",
              "      <td>3</td>\n",
              "      <td>3</td>\n",
              "      <td>0</td>\n",
              "      <td>1174944.27</td>\n",
              "    </tr>\n",
              "    <tr>\n",
              "      <th>2</th>\n",
              "      <td>10</td>\n",
              "      <td>2</td>\n",
              "      <td>7</td>\n",
              "      <td>3</td>\n",
              "      <td>0</td>\n",
              "      <td>4130446.89</td>\n",
              "    </tr>\n",
              "    <tr>\n",
              "      <th>3</th>\n",
              "      <td>10</td>\n",
              "      <td>2</td>\n",
              "      <td>5</td>\n",
              "      <td>3</td>\n",
              "      <td>0</td>\n",
              "      <td>3830136.03</td>\n",
              "    </tr>\n",
              "    <tr>\n",
              "      <th>4</th>\n",
              "      <td>10</td>\n",
              "      <td>2</td>\n",
              "      <td>2</td>\n",
              "      <td>3</td>\n",
              "      <td>0</td>\n",
              "      <td>3662675.00</td>\n",
              "    </tr>\n",
              "    <tr>\n",
              "      <th>5</th>\n",
              "      <td>10</td>\n",
              "      <td>2</td>\n",
              "      <td>4</td>\n",
              "      <td>3</td>\n",
              "      <td>0</td>\n",
              "      <td>7327021.87</td>\n",
              "    </tr>\n",
              "  </tbody>\n",
              "</table>\n",
              "</div>"
            ],
            "text/plain": [
              "   month  tipo_favorecido city  Função  prog_orcamento      gastos\n",
              "1     10                2    3       3               0  1174944.27\n",
              "2     10                2    7       3               0  4130446.89\n",
              "3     10                2    5       3               0  3830136.03\n",
              "4     10                2    2       3               0  3662675.00\n",
              "5     10                2    4       3               0  7327021.87"
            ]
          },
          "metadata": {
            "tags": []
          },
          "execution_count": 42
        }
      ]
    },
    {
      "cell_type": "code",
      "metadata": {
        "id": "Jua0_jyMlJGs",
        "colab": {
          "base_uri": "https://localhost:8080/"
        },
        "outputId": "a7aa03e4-7f79-4264-d32f-6bf85eee9897"
      },
      "source": [
        "covidPeCases['pop_estimada'] = covidPeCases['pop_estimada'].astype('int64')\n",
        "covidPeCases['taxa_mortalidade'] = covidPeCases['taxa_mortalidade'] * 100\n",
        "#covidPeCases['confirmados_por_populacao'] = (covidPeCases['confirmados_por_populacao'] * 100).round(2)\n",
        "#covidPeCases['gastos_por_habitante'] = (covidPeCases['gastos'] / covidPeCases['pop_estimada']).round(2)"
      ],
      "execution_count": 43,
      "outputs": [
        {
          "output_type": "stream",
          "text": [
            "/usr/local/lib/python3.7/dist-packages/ipykernel_launcher.py:1: SettingWithCopyWarning: \n",
            "A value is trying to be set on a copy of a slice from a DataFrame.\n",
            "Try using .loc[row_indexer,col_indexer] = value instead\n",
            "\n",
            "See the caveats in the documentation: https://pandas.pydata.org/pandas-docs/stable/user_guide/indexing.html#returning-a-view-versus-a-copy\n",
            "  \"\"\"Entry point for launching an IPython kernel.\n",
            "/usr/local/lib/python3.7/dist-packages/ipykernel_launcher.py:2: SettingWithCopyWarning: \n",
            "A value is trying to be set on a copy of a slice from a DataFrame.\n",
            "Try using .loc[row_indexer,col_indexer] = value instead\n",
            "\n",
            "See the caveats in the documentation: https://pandas.pydata.org/pandas-docs/stable/user_guide/indexing.html#returning-a-view-versus-a-copy\n",
            "  \n"
          ],
          "name": "stderr"
        }
      ]
    },
    {
      "cell_type": "code",
      "metadata": {
        "id": "9CSgMD1N88NY",
        "colab": {
          "base_uri": "https://localhost:8080/",
          "height": 0
        },
        "outputId": "c47ac835-f056-4753-c63f-a4a5c4b8070f"
      },
      "source": [
        "invest_covidPe_lof"
      ],
      "execution_count": 44,
      "outputs": [
        {
          "output_type": "execute_result",
          "data": {
            "text/html": [
              "<div>\n",
              "<style scoped>\n",
              "    .dataframe tbody tr th:only-of-type {\n",
              "        vertical-align: middle;\n",
              "    }\n",
              "\n",
              "    .dataframe tbody tr th {\n",
              "        vertical-align: top;\n",
              "    }\n",
              "\n",
              "    .dataframe thead th {\n",
              "        text-align: right;\n",
              "    }\n",
              "</style>\n",
              "<table border=\"1\" class=\"dataframe\">\n",
              "  <thead>\n",
              "    <tr style=\"text-align: right;\">\n",
              "      <th></th>\n",
              "      <th>month</th>\n",
              "      <th>tipo_favorecido</th>\n",
              "      <th>city</th>\n",
              "      <th>Função</th>\n",
              "      <th>prog_orcamento</th>\n",
              "      <th>gastos</th>\n",
              "    </tr>\n",
              "  </thead>\n",
              "  <tbody>\n",
              "    <tr>\n",
              "      <th>1</th>\n",
              "      <td>10</td>\n",
              "      <td>2</td>\n",
              "      <td>3</td>\n",
              "      <td>3</td>\n",
              "      <td>0</td>\n",
              "      <td>1174944.27</td>\n",
              "    </tr>\n",
              "    <tr>\n",
              "      <th>2</th>\n",
              "      <td>10</td>\n",
              "      <td>2</td>\n",
              "      <td>7</td>\n",
              "      <td>3</td>\n",
              "      <td>0</td>\n",
              "      <td>4130446.89</td>\n",
              "    </tr>\n",
              "    <tr>\n",
              "      <th>3</th>\n",
              "      <td>10</td>\n",
              "      <td>2</td>\n",
              "      <td>5</td>\n",
              "      <td>3</td>\n",
              "      <td>0</td>\n",
              "      <td>3830136.03</td>\n",
              "    </tr>\n",
              "    <tr>\n",
              "      <th>4</th>\n",
              "      <td>10</td>\n",
              "      <td>2</td>\n",
              "      <td>2</td>\n",
              "      <td>3</td>\n",
              "      <td>0</td>\n",
              "      <td>3662675.00</td>\n",
              "    </tr>\n",
              "    <tr>\n",
              "      <th>5</th>\n",
              "      <td>10</td>\n",
              "      <td>2</td>\n",
              "      <td>4</td>\n",
              "      <td>3</td>\n",
              "      <td>0</td>\n",
              "      <td>7327021.87</td>\n",
              "    </tr>\n",
              "    <tr>\n",
              "      <th>...</th>\n",
              "      <td>...</td>\n",
              "      <td>...</td>\n",
              "      <td>...</td>\n",
              "      <td>...</td>\n",
              "      <td>...</td>\n",
              "      <td>...</td>\n",
              "    </tr>\n",
              "    <tr>\n",
              "      <th>696</th>\n",
              "      <td>1</td>\n",
              "      <td>2</td>\n",
              "      <td>4</td>\n",
              "      <td>3</td>\n",
              "      <td>0</td>\n",
              "      <td>7327021.87</td>\n",
              "    </tr>\n",
              "    <tr>\n",
              "      <th>697</th>\n",
              "      <td>7</td>\n",
              "      <td>2</td>\n",
              "      <td>8</td>\n",
              "      <td>3</td>\n",
              "      <td>0</td>\n",
              "      <td>3500000.00</td>\n",
              "    </tr>\n",
              "    <tr>\n",
              "      <th>698</th>\n",
              "      <td>4</td>\n",
              "      <td>2</td>\n",
              "      <td>7</td>\n",
              "      <td>3</td>\n",
              "      <td>0</td>\n",
              "      <td>8676053.00</td>\n",
              "    </tr>\n",
              "    <tr>\n",
              "      <th>699</th>\n",
              "      <td>4</td>\n",
              "      <td>2</td>\n",
              "      <td>1</td>\n",
              "      <td>3</td>\n",
              "      <td>0</td>\n",
              "      <td>1850000.00</td>\n",
              "    </tr>\n",
              "    <tr>\n",
              "      <th>700</th>\n",
              "      <td>5</td>\n",
              "      <td>2</td>\n",
              "      <td>7</td>\n",
              "      <td>0</td>\n",
              "      <td>2</td>\n",
              "      <td>516875.60</td>\n",
              "    </tr>\n",
              "  </tbody>\n",
              "</table>\n",
              "<p>688 rows × 6 columns</p>\n",
              "</div>"
            ],
            "text/plain": [
              "     month  tipo_favorecido city  Função  prog_orcamento      gastos\n",
              "1       10                2    3       3               0  1174944.27\n",
              "2       10                2    7       3               0  4130446.89\n",
              "3       10                2    5       3               0  3830136.03\n",
              "4       10                2    2       3               0  3662675.00\n",
              "5       10                2    4       3               0  7327021.87\n",
              "..     ...              ...  ...     ...             ...         ...\n",
              "696      1                2    4       3               0  7327021.87\n",
              "697      7                2    8       3               0  3500000.00\n",
              "698      4                2    7       3               0  8676053.00\n",
              "699      4                2    1       3               0  1850000.00\n",
              "700      5                2    7       0               2   516875.60\n",
              "\n",
              "[688 rows x 6 columns]"
            ]
          },
          "metadata": {
            "tags": []
          },
          "execution_count": 44
        }
      ]
    },
    {
      "cell_type": "markdown",
      "metadata": {
        "id": "o46zSVKnzZrY"
      },
      "source": [
        "## Projeto - 2EE - Intro. Ciência dos dados - IF697 - CIn.UFPE\n"
      ]
    },
    {
      "cell_type": "markdown",
      "metadata": {
        "id": "EDGXD-tA7v0m"
      },
      "source": [
        "\n",
        "1. Escolher uma\tdas\tcolunas\tdos\tdados\tutilizados\tno\tprojeto 1\tpara predição\t(classificação ou regressão)\t\n",
        "  * Classificação : Rótulos são categorias discretas\n",
        "  * Regressão: rótulos são valores contínuos\n",
        "2. Separar os\tdados\tem treinamento,\tvalidação\te\tteste\n",
        "3. Selecionar\t4\talgoritmos\tde\tacordo\tcom\ta\ttarefa escolhida\n",
        "no\tpasso\t1\t\n",
        "\n",
        " **Algoritmos de classificação:**\n",
        "\n",
        "* Scikit-Learn's Estimator API\n",
        "  - Vários algoritmos implementados\n",
        "  - Uniformidade\n",
        "  - Modelos para algoritmo Supervisionado: função predict e Não-supervisionado: função transform ou predict\n",
        "* Random Forest \n",
        "  - Vários estimadores combinados para evitar overfitting\n",
        "  - Não assume distribuição gaussiana, obtém ótimos resultados\n",
        "\n",
        "* Algoritmo de construção  \n",
        "  - Execução rápida, lida bem com dados ausentes\n",
        "  - Mostra a importância das features na classificação\n",
        "  \n",
        "\n",
        "**Medidas para avaliação da qualidade do modelo:**\n",
        "Os valores de erro são dados em '%'\n",
        "\n",
        "* Viés = Erro no treinamento - Erro Alvo (Desempenho no conjunto de treinamento)\n",
        "* Variância = Erro no teste - Erro no treinamento\n",
        "\n",
        "\n",
        "Possíveis cenários de viés e Variância\n",
        "\n",
        "Overfitting:\n",
        "  - Bom desempenho somente no conjunto de treinamento.\n",
        "  - Apresenta problemas para generalizar\n",
        "  - Ex : Erro no treinamento: 1%, Erro no teste: 11% (Baixo viés, Alta variância)\n",
        "  - Para melhorar o desempenho : Adicionar mais dados ao conjunto de treinamento, diminuir a complexidade do modelo, selecionar melhor as features.\n",
        "\n",
        "Underfitting:\n",
        "  - Não modela bem o conjunto de treinamento, problemas em generalizar\n",
        "  - Ex: Erro no treinamento 15%, Erro no teste: 16% (ALto viés, Baixa variância)\n",
        " - Para melhorar o desempenho : Aumentar a complexidade, adicionar mais features.\n",
        "\n",
        "Caso ideal:\n",
        "  - Erro no treinamento: 0.5%, Erro no teste: 1%\n"
      ]
    },
    {
      "cell_type": "markdown",
      "metadata": {
        "id": "d0ib84nJdQgk"
      },
      "source": [
        "### **MLflow**\n",
        "> * Rastreamento de algoritmos de ML\n",
        "* Relatório de logs\n",
        "* Otimização a partir dos resultados gerados"
      ]
    },
    {
      "cell_type": "code",
      "metadata": {
        "id": "URtiVyUWgOEp"
      },
      "source": [
        "import os\n",
        "import warnings\n",
        "import sys\n",
        "\n",
        "from sklearn.metrics import accuracy_score,\\\n",
        "                            f1_score,\\\n",
        "                            precision_score,\\\n",
        "                            recall_score,\\\n",
        "                            mean_squared_error,\\\n",
        "                            mean_absolute_error,\\\n",
        "                            confusion_matrix\n",
        "\n",
        "from sklearn.model_selection import train_test_split\n",
        "from urllib.parse import urlparse\n",
        "import mlflow\n",
        "import mlflow.sklearn\n",
        "import logging\n",
        "\n",
        "logging.basicConfig(level=logging.WARN)\n",
        "logger = logging.getLogger(__name__)\n",
        "\n",
        "def eval_metrics(actual, pred):\n",
        "  acc = accuracy_score(actual, pred)\n",
        "  precision = precision_score(actual, pred, average='micro')\n",
        "  recall = recall_score(actual, pred, average='micro')\n",
        "  rmse = np.sqrt(mean_squared_error(actual, pred))\n",
        "  mae = mean_absolute_error(actual, pred)\n",
        "  f1 = f1_score(actual, pred, average=None).max()\n",
        "  f1_macro = f1_score(actual, pred, average='macro')\n",
        "  f1_micro = f1_score(actual, pred, average='micro')\n",
        "  f1_weighted =f1_score(actual, pred, average='weighted')\n",
        "  return acc, precision, recall, rmse, mae, f1, f1_macro, f1_micro, f1_weighted\n"
      ],
      "execution_count": 68,
      "outputs": []
    },
    {
      "cell_type": "markdown",
      "metadata": {
        "id": "yVCGA_mZ8g1h"
      },
      "source": [
        "#### **1ª Fase** \n",
        "\n",
        "> Predição (`sklearn`) e Avaliação (`optuna`)\n",
        "\n",
        "> Classificadores com baixa complexidade (Supervisionado)\n",
        "  * NaiveBayes\n",
        "  * Decision Tree\n",
        "\n",
        "> Classificadores com maior complexidade (Supervisionado)\n",
        "  * KNN (Clustering)\n",
        "  * Random Forest\n"
      ]
    },
    {
      "cell_type": "markdown",
      "metadata": {
        "id": "v_C2k4AY1bXq"
      },
      "source": [
        "Preparando os dados"
      ]
    },
    {
      "cell_type": "code",
      "metadata": {
        "colab": {
          "base_uri": "https://localhost:8080/"
        },
        "id": "WIiiOvK2IzvF",
        "outputId": "144b58e1-6042-431e-f4c1-7bb9acee9c6c"
      },
      "source": [
        "from sklearn.model_selection import train_test_split\n",
        "#Dividindo o dataframe em 60% para treinamento, 20% para validação e  20% para testes\n",
        "train_ratio = 0.60\n",
        "validation_ratio = 0.20\n",
        "test_ratio = 0.20\n",
        "\n",
        "ClassTest = invest_covidPe_lof\n",
        "X_ClassTest = ClassTest.drop('prog_orcamento', axis=1)\n",
        "Y_ClassTest = ClassTest['prog_orcamento']\n",
        "\n",
        "# train is now 60% of the entire data set\n",
        "Xtrain, Xtest, Ytrain, Ytest = train_test_split(X_ClassTest, Y_ClassTest, random_state=3, test_size= 1 - train_ratio)\n",
        "\n",
        "# test is now 20% of the initial data set\n",
        "# validation is now 20% of the initial data set\n",
        "Xval, Xtest, Yval, Ytest = train_test_split(Xtest, Ytest, random_state=3, test_size=test_ratio/(test_ratio + validation_ratio)) \n",
        "\n",
        "print(Xtrain['city'].count(), Xval['city'].count(), Xtest['city'].count())"
      ],
      "execution_count": 58,
      "outputs": [
        {
          "output_type": "stream",
          "text": [
            "412 138 138\n"
          ],
          "name": "stdout"
        }
      ]
    },
    {
      "cell_type": "markdown",
      "metadata": {
        "id": "d0ZLSfnjrGxW"
      },
      "source": [
        "##### `Naive Bayes`"
      ]
    },
    {
      "cell_type": "code",
      "metadata": {
        "id": "Jr-U_Z6a8Uyf"
      },
      "source": [
        "from sklearn.naive_bayes import GaussianNB\n",
        "NBmodel = GaussianNB()\n",
        "NBmodel.fit(Xtrain, Ytrain)\n",
        "Y_NBModel_train = NBmodel.predict(Xtrain)\n",
        "Y_NBModel_test =  NBmodel.predict(Xtest)"
      ],
      "execution_count": 59,
      "outputs": []
    },
    {
      "cell_type": "code",
      "metadata": {
        "id": "ScuP7igYxsoj"
      },
      "source": [
        "# Trainning\n",
        "nb_train_acc, nb_train_precision, nb_train_recall, nb_train_mse, nb_train_mae, nb_train_f1, nb_train_f1_macro, nb_train_f1_micro, nb_train_f1_weighted = eval_metrics(Ytrain, Y_NBModel_train)\n",
        "# Test\n",
        "nb_test_acc, nb_test_precision, nb_test_recall, nb_test_mse, nb_test_mae, nb_test_f1, nb_test_f1_macro, nb_test_f1_micro, nb_test_f1_weighted = eval_metrics(Ytest, Y_NBModel_test)"
      ],
      "execution_count": 69,
      "outputs": []
    },
    {
      "cell_type": "markdown",
      "metadata": {
        "id": "QIzBTlCdtqGt"
      },
      "source": [
        "`Accuracy`"
      ]
    },
    {
      "cell_type": "code",
      "metadata": {
        "id": "HtBp9v-w8VwX",
        "colab": {
          "base_uri": "https://localhost:8080/"
        },
        "outputId": "bd69dbcd-7ea0-49a9-fe67-d9de3b1d6f08"
      },
      "source": [
        "print(\"Accuracy TRAINING:\" + str(nb_train_acc))\n",
        "print(\"Accuracy TEST: \" + str(nb_test_acc))"
      ],
      "execution_count": 70,
      "outputs": [
        {
          "output_type": "stream",
          "text": [
            "Accuracy TRAINING:0.8349514563106796\n",
            "Accuracy TEST: 0.855072463768116\n"
          ],
          "name": "stdout"
        }
      ]
    },
    {
      "cell_type": "markdown",
      "metadata": {
        "id": "HYqPHiVotY0V"
      },
      "source": [
        "`F1 Score`\n",
        "* micro\n",
        "* macro\n",
        "* weighted"
      ]
    },
    {
      "cell_type": "code",
      "metadata": {
        "id": "UV-lSg7FCbhJ",
        "colab": {
          "base_uri": "https://localhost:8080/"
        },
        "outputId": "d512064f-1274-4b5a-df23-5ede56781142"
      },
      "source": [
        "print('Type - Treino - Teste')\n",
        "print('f1 score: ', nb_train_f1, nb_test_f1)\n",
        "print('Macro: ', nb_train_f1_macro, nb_test_f1_macro)\n",
        "print('Micro: ', nb_train_f1_micro, nb_test_f1_micro)\n",
        "print('Weighted: ', nb_train_f1_weighted, nb_test_f1_weighted)"
      ],
      "execution_count": 71,
      "outputs": [
        {
          "output_type": "stream",
          "text": [
            "Type - Treino - Teste\n",
            "f1 score:  0.9823943661971831 0.9949748743718593\n",
            "Macro:  0.47825792632408515 0.5044601820075989\n",
            "Micro:  0.8349514563106796 0.855072463768116\n",
            "Weighted:  0.8371031034073019 0.8685008863689248\n"
          ],
          "name": "stdout"
        }
      ]
    },
    {
      "cell_type": "markdown",
      "metadata": {
        "id": "b0I4MifktafN"
      },
      "source": [
        "`Precision` & `Recall`"
      ]
    },
    {
      "cell_type": "code",
      "metadata": {
        "id": "TFmRL6hHucBj",
        "colab": {
          "base_uri": "https://localhost:8080/"
        },
        "outputId": "8198fd30-5574-4097-a8a8-8fd1ef3eb37d"
      },
      "source": [
        "# Training\n",
        "print('Precision: ', nb_train_precision)\n",
        "print('Recall: ', nb_train_recall)"
      ],
      "execution_count": 72,
      "outputs": [
        {
          "output_type": "stream",
          "text": [
            "Precision:  0.8349514563106796\n",
            "Recall:  0.8349514563106796\n"
          ],
          "name": "stdout"
        }
      ]
    },
    {
      "cell_type": "code",
      "metadata": {
        "id": "Mjkvwu-61409",
        "colab": {
          "base_uri": "https://localhost:8080/"
        },
        "outputId": "aee9d913-e15d-4fe5-9af9-121e95612dee"
      },
      "source": [
        "# Test\n",
        "print('Precision: ', nb_test_precision)\n",
        "print('Recall: ', nb_test_recall)"
      ],
      "execution_count": 73,
      "outputs": [
        {
          "output_type": "stream",
          "text": [
            "Precision:  0.855072463768116\n",
            "Recall:  0.855072463768116\n"
          ],
          "name": "stdout"
        }
      ]
    },
    {
      "cell_type": "markdown",
      "metadata": {
        "id": "VnIY9tqItvOl"
      },
      "source": [
        "`Error`\n",
        "  * mean squared error\n",
        "  * mean absolute error"
      ]
    },
    {
      "cell_type": "code",
      "metadata": {
        "id": "JrIOjzxUucr0",
        "colab": {
          "base_uri": "https://localhost:8080/"
        },
        "outputId": "60df08a3-a963-45ea-aeb8-02a75c9a095c"
      },
      "source": [
        "# MSE\n",
        "print('MSE: ', nb_train_mse, nb_test_mse)"
      ],
      "execution_count": 74,
      "outputs": [
        {
          "output_type": "stream",
          "text": [
            "MSE:  0.7632327769721765 0.7273138987028757\n"
          ],
          "name": "stdout"
        }
      ]
    },
    {
      "cell_type": "code",
      "metadata": {
        "id": "4USqo6xt1qk-",
        "colab": {
          "base_uri": "https://localhost:8080/"
        },
        "outputId": "d95b5a67-ef62-47f1-de59-33be4a099dcb"
      },
      "source": [
        "# MAE\n",
        "print('MAE: ', nb_train_mae, nb_test_mae)"
      ],
      "execution_count": 75,
      "outputs": [
        {
          "output_type": "stream",
          "text": [
            "MAE:  0.2961165048543689 0.26811594202898553\n"
          ],
          "name": "stdout"
        }
      ]
    },
    {
      "cell_type": "markdown",
      "metadata": {
        "id": "LAGZ5Ru8tkcF"
      },
      "source": [
        "`Confusion Matrix`"
      ]
    },
    {
      "cell_type": "code",
      "metadata": {
        "colab": {
          "base_uri": "https://localhost:8080/",
          "height": 285
        },
        "id": "j_WLaNpJ8pT5",
        "outputId": "17a645ac-61bb-4ee6-a10c-bde968a29c78"
      },
      "source": [
        "mat = confusion_matrix(Ytest, Y_NBModel_test)\n",
        "\n",
        "sns.heatmap(mat, square=True, annot=True, cbar=False)\n",
        "plt.xlabel('predicted value')\n",
        "plt.ylabel('true value');"
      ],
      "execution_count": 76,
      "outputs": [
        {
          "output_type": "display_data",
          "data": {
            "image/png": "[encoded data removed]",
            "text/plain": [
              "<Figure size 432x288 with 1 Axes>"
            ]
          },
          "metadata": {
            "tags": [],
            "needs_background": "light"
          }
        }
      ]
    },
    {
      "cell_type": "markdown",
      "metadata": {
        "id": "K5Kv04QbCcMK"
      },
      "source": [
        "> `MLflow`"
      ]
    },
    {
      "cell_type": "code",
      "metadata": {
        "id": "A5twF_ZnCbeS"
      },
      "source": [
        "if __name__ == \"__main__\":\n",
        "    warnings.filterwarnings(\"ignore\")\n",
        "    np.random.seed(40)\n",
        "\n",
        "    with mlflow.start_run():\n",
        "        mlflow.log_metric(\"accuracy score\", nb_test_acc)\n",
        "        mlflow.log_metric(\"f1 score\", nb_test_f1)\n",
        "        mlflow.log_metric(\"f1_macro score\", nb_test_f1_macro)\n",
        "        mlflow.log_metric(\"f1_micro score\", nb_test_f1_micro)\n",
        "        mlflow.log_metric(\"f1_weighted score\", nb_test_f1_weighted)\n",
        "        mlflow.log_metric(\"precision score\", nb_test_precision)\n",
        "        mlflow.log_metric(\"recall score\", nb_test_recall)\n",
        "        mlflow.log_metric(\"mean squared error\", nb_test_mse)\n",
        "        mlflow.log_metric(\"mean absolute error\", nb_test_mae)        \n",
        "\n",
        "        tracking_url_type_store = urlparse(mlflow.get_tracking_uri()).scheme\n",
        "\n",
        "        # Model registry does not work with file store\n",
        "        if tracking_url_type_store != \"file\":\n",
        "            # Register the model\n",
        "            mlflow.sklearn.log_model(NBmodel, \"model\", registered_model_name=\"NaiveBayes\")\n",
        "        else:\n",
        "            mlflow.sklearn.log_model(NBmodel, \"model\")"
      ],
      "execution_count": 77,
      "outputs": []
    },
    {
      "cell_type": "markdown",
      "metadata": {
        "id": "VO9OsW3orMVd"
      },
      "source": [
        "##### `Decision Tree`"
      ]
    },
    {
      "cell_type": "code",
      "metadata": {
        "id": "NWHnB50wqYbb"
      },
      "source": [
        "from sklearn import tree                     \n",
        "maxFeatures = 'auto'\n",
        "criterion = 'gini'\n",
        "splitter = 'random'\n",
        "treeModel = tree.DecisionTreeClassifier(max_features=maxFeatures, criterion=criterion, splitter=splitter)\n",
        "treeModel.fit(Xtrain, Ytrain)               \n",
        "YTreeModel_test = treeModel.predict(Xtest)  \n",
        "YTreeModel_train = treeModel.predict(Xtrain)"
      ],
      "execution_count": 78,
      "outputs": []
    },
    {
      "cell_type": "code",
      "metadata": {
        "id": "mW-u21xb2-iy"
      },
      "source": [
        "# Trainning\n",
        "tree_train_acc, tree_train_precision, tree_train_recall, tree_train_mse, tree_train_mae, tree_train_f1, tree_train_f1_macro, tree_train_f1_micro, tree_train_f1_weighted = eval_metrics(Ytrain, YTreeModel_train)\n",
        "\n",
        "# Test\n",
        "tree_test_acc, tree_test_precision, tree_test_recall, tree_test_mse, tree_test_mae, tree_test_f1, tree_test_f1_macro, tree_test_f1_micro, tree_test_f1_weighted = eval_metrics(Ytest, YTreeModel_test)"
      ],
      "execution_count": 79,
      "outputs": []
    },
    {
      "cell_type": "markdown",
      "metadata": {
        "id": "kKsuqHbluJVM"
      },
      "source": [
        "`Accuracy`"
      ]
    },
    {
      "cell_type": "code",
      "metadata": {
        "colab": {
          "base_uri": "https://localhost:8080/"
        },
        "id": "55oUAxtNsgpx",
        "outputId": "38f734db-5219-4b23-ceeb-de7c5e8f3193"
      },
      "source": [
        "print(\"Accuracy TRAINING: \" + str(tree_train_acc))\n",
        "print(\"Accuracy TEST: \" + str(tree_test_acc))"
      ],
      "execution_count": 80,
      "outputs": [
        {
          "output_type": "stream",
          "text": [
            "Accuracy TRAINING: 1.0\n",
            "Accuracy TEST: 0.9782608695652174\n"
          ],
          "name": "stdout"
        }
      ]
    },
    {
      "cell_type": "markdown",
      "metadata": {
        "id": "nEUvvgDc2tPi"
      },
      "source": [
        "`F1 Score`\n",
        "* micro\n",
        "* macro\n",
        "* weighted"
      ]
    },
    {
      "cell_type": "code",
      "metadata": {
        "colab": {
          "base_uri": "https://localhost:8080/"
        },
        "id": "YRr3ZKoj2tPi",
        "outputId": "620fb25d-05f5-4e59-d090-e9b01fb2e8ab"
      },
      "source": [
        "print('Type - Treino - Teste')\n",
        "print('f1 score: ', tree_train_f1, tree_test_f1)\n",
        "print('Macro: ', tree_train_f1_macro, tree_test_f1_macro)\n",
        "print('Micro: ', tree_train_f1_micro, tree_test_f1_micro)\n",
        "print('Weighted: ', tree_train_f1_weighted, tree_test_f1_weighted)"
      ],
      "execution_count": 82,
      "outputs": [
        {
          "output_type": "stream",
          "text": [
            "Type - Treino - Teste\n",
            "f1 score:  1.0 0.99\n",
            "Macro:  1.0 0.7254135338345864\n",
            "Micro:  1.0 0.9782608695652174\n",
            "Weighted:  1.0 0.981507028440667\n"
          ],
          "name": "stdout"
        }
      ]
    },
    {
      "cell_type": "markdown",
      "metadata": {
        "id": "0s3Bpojq2tPj"
      },
      "source": [
        "`Precision` & `Recall`"
      ]
    },
    {
      "cell_type": "code",
      "metadata": {
        "id": "_P7NDxkf2tPj",
        "colab": {
          "base_uri": "https://localhost:8080/"
        },
        "outputId": "4a85a89a-fb37-40fb-a04c-b76bffd8d8fe"
      },
      "source": [
        "# Training\n",
        "print('Precision: ', tree_train_precision)\n",
        "print('Recall: ', tree_train_recall)"
      ],
      "execution_count": 83,
      "outputs": [
        {
          "output_type": "stream",
          "text": [
            "Precision:  1.0\n",
            "Recall:  1.0\n"
          ],
          "name": "stdout"
        }
      ]
    },
    {
      "cell_type": "code",
      "metadata": {
        "id": "hy7TtpRm2tPj",
        "colab": {
          "base_uri": "https://localhost:8080/"
        },
        "outputId": "fdc220e6-7ab6-4905-f99a-f6a546a1cf06"
      },
      "source": [
        "# Test\n",
        "print('Precision: ', tree_test_precision)\n",
        "print('Recall: ', tree_test_recall)"
      ],
      "execution_count": 84,
      "outputs": [
        {
          "output_type": "stream",
          "text": [
            "Precision:  0.9782608695652174\n",
            "Recall:  0.9782608695652174\n"
          ],
          "name": "stdout"
        }
      ]
    },
    {
      "cell_type": "markdown",
      "metadata": {
        "id": "eDyYg4Nn2tPj"
      },
      "source": [
        "`Error`\n",
        "  * mean squared error\n",
        "  * mean absolute error"
      ]
    },
    {
      "cell_type": "code",
      "metadata": {
        "id": "i6VfGyrV2tPk",
        "colab": {
          "base_uri": "https://localhost:8080/"
        },
        "outputId": "a7e098c7-af36-4971-8727-272a5f73ca15"
      },
      "source": [
        "# MSE\n",
        "print('MSE: ', tree_train_mse, tree_test_mse)"
      ],
      "execution_count": 85,
      "outputs": [
        {
          "output_type": "stream",
          "text": [
            "MSE:  0.0 0.14744195615489714\n"
          ],
          "name": "stdout"
        }
      ]
    },
    {
      "cell_type": "code",
      "metadata": {
        "id": "bgjVdyAd2tPk",
        "colab": {
          "base_uri": "https://localhost:8080/"
        },
        "outputId": "316e08e9-b0d7-40ff-8cb1-2357f4a5abf8"
      },
      "source": [
        "# MAE\n",
        "print('MAE: ', tree_train_mae, tree_test_mae)"
      ],
      "execution_count": 86,
      "outputs": [
        {
          "output_type": "stream",
          "text": [
            "MAE:  0.0 0.021739130434782608\n"
          ],
          "name": "stdout"
        }
      ]
    },
    {
      "cell_type": "markdown",
      "metadata": {
        "id": "ikEZsiIv2tPk"
      },
      "source": [
        "`Graph tree`"
      ]
    },
    {
      "cell_type": "code",
      "metadata": {
        "colab": {
          "base_uri": "https://localhost:8080/",
          "height": 1000
        },
        "id": "qVJOhEDUtGl0",
        "outputId": "a40b2486-f07f-4df6-c31d-85d651bbdd98"
      },
      "source": [
        "import graphviz \n",
        "dot_data = tree.export_graphviz(treeModel, out_file=None,filled=True) \n",
        "graph = graphviz.Source(dot_data, format=\"png\") \n",
        "graph"
      ],
      "execution_count": 87,
      "outputs": [
        {
          "output_type": "execute_result",
          "data": {
            "text/plain": [
              "<graphviz.files.Source at 0x7f103207e550>"
            ],
            "image/svg+xml": "<?xml version=\"1.0\" encoding=\"UTF-8\" standalone=\"no\"?>\n<!DOCTYPE svg PUBLIC \"-//W3C//DTD SVG 1.1//EN\"\n \"http://www.w3.org/Graphics/SVG/1.1/DTD/svg11.dtd\">\n<!-- Generated by graphviz version 2.40.1 (20161225.0304)\n -->\n<!-- Title: Tree Pages: 1 -->\n<svg width=\"1285pt\" height=\"893pt\"\n viewBox=\"0.00 0.00 1284.50 893.00\" xmlns=\"http://www.w3.org/2000/svg\" xmlns:xlink=\"http://www.w3.org/1999/xlink\">\n<g id=\"graph0\" class=\"graph\" transform=\"scale(1 1) rotate(0) translate(4 889)\">\n<title>Tree</title>\n<polygon fill=\"#ffffff\" stroke=\"transparent\" points=\"-4,4 -4,-889 1280.5,-889 1280.5,4 -4,4\"/>\n<!-- 0 -->\n<g id=\"node1\" class=\"node\">\n<title>0</title>\n<polygon fill=\"#b0ef88\" stroke=\"#000000\" points=\"699,-885 529,-885 529,-817 699,-817 699,-885\"/>\n<text text-anchor=\"middle\" x=\"614\" y=\"-869.8\" font-family=\"Times,serif\" font-size=\"14.00\" fill=\"#000000\">X[0] &lt;= 18.849</text>\n<text text-anchor=\"middle\" x=\"614\" y=\"-854.8\" font-family=\"Times,serif\" font-size=\"14.00\" fill=\"#000000\">gini = 0.481</text>\n<text text-anchor=\"middle\" x=\"614\" y=\"-839.8\" font-family=\"Times,serif\" font-size=\"14.00\" fill=\"#000000\">samples = 412</text>\n<text text-anchor=\"middle\" x=\"614\" y=\"-824.8\" font-family=\"Times,serif\" font-size=\"14.00\" fill=\"#000000\">value = [86, 282, 33, 4, 7]</text>\n</g>\n<!-- 1 -->\n<g id=\"node2\" class=\"node\">\n<title>1</title>\n<polygon fill=\"#aeef86\" stroke=\"#000000\" points=\"613,-781 443,-781 443,-713 613,-713 613,-781\"/>\n<text text-anchor=\"middle\" x=\"528\" y=\"-765.8\" font-family=\"Times,serif\" font-size=\"14.00\" fill=\"#000000\">X[0] &lt;= 3.791</text>\n<text text-anchor=\"middle\" x=\"528\" y=\"-750.8\" font-family=\"Times,serif\" font-size=\"14.00\" fill=\"#000000\">gini = 0.477</text>\n<text text-anchor=\"middle\" x=\"528\" y=\"-735.8\" font-family=\"Times,serif\" font-size=\"14.00\" fill=\"#000000\">samples = 409</text>\n<text text-anchor=\"middle\" x=\"528\" y=\"-720.8\" font-family=\"Times,serif\" font-size=\"14.00\" fill=\"#000000\">value = [83, 282, 33, 4, 7]</text>\n</g>\n<!-- 0&#45;&gt;1 -->\n<g id=\"edge1\" class=\"edge\">\n<title>0&#45;&gt;1</title>\n<path fill=\"none\" stroke=\"#000000\" d=\"M585.8404,-816.9465C578.4158,-807.968 570.3185,-798.1758 562.5972,-788.8385\"/>\n<polygon fill=\"#000000\" stroke=\"#000000\" points=\"565.2928,-786.606 556.2229,-781.13 559.8983,-791.0669 565.2928,-786.606\"/>\n<text text-anchor=\"middle\" x=\"553.865\" y=\"-802.3186\" font-family=\"Times,serif\" font-size=\"14.00\" fill=\"#000000\">True</text>\n</g>\n<!-- 34 -->\n<g id=\"node35\" class=\"node\">\n<title>34</title>\n<polygon fill=\"#e58139\" stroke=\"#000000\" points=\"771,-773.5 631,-773.5 631,-720.5 771,-720.5 771,-773.5\"/>\n<text text-anchor=\"middle\" x=\"701\" y=\"-758.3\" font-family=\"Times,serif\" font-size=\"14.00\" fill=\"#000000\">gini = 0.0</text>\n<text text-anchor=\"middle\" x=\"701\" y=\"-743.3\" font-family=\"Times,serif\" font-size=\"14.00\" fill=\"#000000\">samples = 3</text>\n<text text-anchor=\"middle\" x=\"701\" y=\"-728.3\" font-family=\"Times,serif\" font-size=\"14.00\" fill=\"#000000\">value = [3, 0, 0, 0, 0]</text>\n</g>\n<!-- 0&#45;&gt;34 -->\n<g id=\"edge34\" class=\"edge\">\n<title>0&#45;&gt;34</title>\n<path fill=\"none\" stroke=\"#000000\" d=\"M642.4871,-816.9465C652.07,-805.491 662.761,-792.711 672.3559,-781.2412\"/>\n<polygon fill=\"#000000\" stroke=\"#000000\" points=\"675.0646,-783.458 678.7965,-773.5422 669.6955,-778.9666 675.0646,-783.458\"/>\n<text text-anchor=\"middle\" x=\"681.0128\" y=\"-794.7437\" font-family=\"Times,serif\" font-size=\"14.00\" fill=\"#000000\">False</text>\n</g>\n<!-- 2 -->\n<g id=\"node3\" class=\"node\">\n<title>2</title>\n<polygon fill=\"#e5fcf7\" stroke=\"#000000\" points=\"515.5,-677 360.5,-677 360.5,-609 515.5,-609 515.5,-677\"/>\n<text text-anchor=\"middle\" x=\"438\" y=\"-661.8\" font-family=\"Times,serif\" font-size=\"14.00\" fill=\"#000000\">X[3] &lt;= 0.991</text>\n<text text-anchor=\"middle\" x=\"438\" y=\"-646.8\" font-family=\"Times,serif\" font-size=\"14.00\" fill=\"#000000\">gini = 0.497</text>\n<text text-anchor=\"middle\" x=\"438\" y=\"-631.8\" font-family=\"Times,serif\" font-size=\"14.00\" fill=\"#000000\">samples = 28</text>\n<text text-anchor=\"middle\" x=\"438\" y=\"-616.8\" font-family=\"Times,serif\" font-size=\"14.00\" fill=\"#000000\">value = [13, 0, 15, 0, 0]</text>\n</g>\n<!-- 1&#45;&gt;2 -->\n<g id=\"edge2\" class=\"edge\">\n<title>1&#45;&gt;2</title>\n<path fill=\"none\" stroke=\"#000000\" d=\"M498.5306,-712.9465C490.7607,-703.968 482.2868,-694.1758 474.2064,-684.8385\"/>\n<polygon fill=\"#000000\" stroke=\"#000000\" points=\"476.726,-682.4014 467.5356,-677.13 471.4328,-686.982 476.726,-682.4014\"/>\n</g>\n<!-- 5 -->\n<g id=\"node6\" class=\"node\">\n<title>5</title>\n<polygon fill=\"#a5ed78\" stroke=\"#000000\" points=\"704,-677 534,-677 534,-609 704,-609 704,-677\"/>\n<text text-anchor=\"middle\" x=\"619\" y=\"-661.8\" font-family=\"Times,serif\" font-size=\"14.00\" fill=\"#000000\">X[3] &lt;= 0.346</text>\n<text text-anchor=\"middle\" x=\"619\" y=\"-646.8\" font-family=\"Times,serif\" font-size=\"14.00\" fill=\"#000000\">gini = 0.416</text>\n<text text-anchor=\"middle\" x=\"619\" y=\"-631.8\" font-family=\"Times,serif\" font-size=\"14.00\" fill=\"#000000\">samples = 381</text>\n<text text-anchor=\"middle\" x=\"619\" y=\"-616.8\" font-family=\"Times,serif\" font-size=\"14.00\" fill=\"#000000\">value = [70, 282, 18, 4, 7]</text>\n</g>\n<!-- 1&#45;&gt;5 -->\n<g id=\"edge5\" class=\"edge\">\n<title>1&#45;&gt;5</title>\n<path fill=\"none\" stroke=\"#000000\" d=\"M557.7968,-712.9465C565.653,-703.968 574.2212,-694.1758 582.3913,-684.8385\"/>\n<polygon fill=\"#000000\" stroke=\"#000000\" points=\"585.1852,-686.9606 589.1363,-677.13 579.9171,-682.351 585.1852,-686.9606\"/>\n</g>\n<!-- 3 -->\n<g id=\"node4\" class=\"node\">\n<title>3</title>\n<polygon fill=\"#39e5c5\" stroke=\"#000000\" points=\"350.5,-565.5 203.5,-565.5 203.5,-512.5 350.5,-512.5 350.5,-565.5\"/>\n<text text-anchor=\"middle\" x=\"277\" y=\"-550.3\" font-family=\"Times,serif\" font-size=\"14.00\" fill=\"#000000\">gini = 0.0</text>\n<text text-anchor=\"middle\" x=\"277\" y=\"-535.3\" font-family=\"Times,serif\" font-size=\"14.00\" fill=\"#000000\">samples = 15</text>\n<text text-anchor=\"middle\" x=\"277\" y=\"-520.3\" font-family=\"Times,serif\" font-size=\"14.00\" fill=\"#000000\">value = [0, 0, 15, 0, 0]</text>\n</g>\n<!-- 2&#45;&gt;3 -->\n<g id=\"edge3\" class=\"edge\">\n<title>2&#45;&gt;3</title>\n<path fill=\"none\" stroke=\"#000000\" d=\"M385.2826,-608.9465C366.4402,-596.775 345.2832,-583.1084 326.7034,-571.1066\"/>\n<polygon fill=\"#000000\" stroke=\"#000000\" points=\"328.3883,-568.0283 318.0893,-565.5422 324.5901,-573.9082 328.3883,-568.0283\"/>\n</g>\n<!-- 4 -->\n<g id=\"node5\" class=\"node\">\n<title>4</title>\n<polygon fill=\"#e58139\" stroke=\"#000000\" points=\"515.5,-565.5 368.5,-565.5 368.5,-512.5 515.5,-512.5 515.5,-565.5\"/>\n<text text-anchor=\"middle\" x=\"442\" y=\"-550.3\" font-family=\"Times,serif\" font-size=\"14.00\" fill=\"#000000\">gini = 0.0</text>\n<text text-anchor=\"middle\" x=\"442\" y=\"-535.3\" font-family=\"Times,serif\" font-size=\"14.00\" fill=\"#000000\">samples = 13</text>\n<text text-anchor=\"middle\" x=\"442\" y=\"-520.3\" font-family=\"Times,serif\" font-size=\"14.00\" fill=\"#000000\">value = [13, 0, 0, 0, 0]</text>\n</g>\n<!-- 2&#45;&gt;4 -->\n<g id=\"edge4\" class=\"edge\">\n<title>2&#45;&gt;4</title>\n<path fill=\"none\" stroke=\"#000000\" d=\"M439.3097,-608.9465C439.7207,-598.2621 440.1759,-586.4254 440.5933,-575.5742\"/>\n<polygon fill=\"#000000\" stroke=\"#000000\" points=\"444.0921,-575.6693 440.9791,-565.5422 437.0973,-575.4002 444.0921,-575.6693\"/>\n</g>\n<!-- 6 -->\n<g id=\"node7\" class=\"node\">\n<title>6</title>\n<polygon fill=\"#65ebd2\" stroke=\"#000000\" points=\"688.5,-573 541.5,-573 541.5,-505 688.5,-505 688.5,-573\"/>\n<text text-anchor=\"middle\" x=\"615\" y=\"-557.8\" font-family=\"Times,serif\" font-size=\"14.00\" fill=\"#000000\">X[4] &lt;= 539379.103</text>\n<text text-anchor=\"middle\" x=\"615\" y=\"-542.8\" font-family=\"Times,serif\" font-size=\"14.00\" fill=\"#000000\">gini = 0.298</text>\n<text text-anchor=\"middle\" x=\"615\" y=\"-527.8\" font-family=\"Times,serif\" font-size=\"14.00\" fill=\"#000000\">samples = 22</text>\n<text text-anchor=\"middle\" x=\"615\" y=\"-512.8\" font-family=\"Times,serif\" font-size=\"14.00\" fill=\"#000000\">value = [0, 0, 18, 4, 0]</text>\n</g>\n<!-- 5&#45;&gt;6 -->\n<g id=\"edge6\" class=\"edge\">\n<title>5&#45;&gt;6</title>\n<path fill=\"none\" stroke=\"#000000\" d=\"M617.6903,-608.9465C617.376,-600.776 617.0358,-591.9318 616.7065,-583.3697\"/>\n<polygon fill=\"#000000\" stroke=\"#000000\" points=\"620.1945,-582.9881 616.3127,-573.13 613.1997,-583.2572 620.1945,-582.9881\"/>\n</g>\n<!-- 25 -->\n<g id=\"node26\" class=\"node\">\n<title>25</title>\n<polygon fill=\"#9eec6e\" stroke=\"#000000\" points=\"941,-573 779,-573 779,-505 941,-505 941,-573\"/>\n<text text-anchor=\"middle\" x=\"860\" y=\"-557.8\" font-family=\"Times,serif\" font-size=\"14.00\" fill=\"#000000\">X[1] &lt;= 1.884</text>\n<text text-anchor=\"middle\" x=\"860\" y=\"-542.8\" font-family=\"Times,serif\" font-size=\"14.00\" fill=\"#000000\">gini = 0.345</text>\n<text text-anchor=\"middle\" x=\"860\" y=\"-527.8\" font-family=\"Times,serif\" font-size=\"14.00\" fill=\"#000000\">samples = 359</text>\n<text text-anchor=\"middle\" x=\"860\" y=\"-512.8\" font-family=\"Times,serif\" font-size=\"14.00\" fill=\"#000000\">value = [70, 282, 0, 0, 7]</text>\n</g>\n<!-- 5&#45;&gt;25 -->\n<g id=\"edge25\" class=\"edge\">\n<title>5&#45;&gt;25</title>\n<path fill=\"none\" stroke=\"#000000\" d=\"M697.9124,-608.9465C721.4232,-598.8008 747.3415,-587.6161 771.426,-577.2228\"/>\n<polygon fill=\"#000000\" stroke=\"#000000\" points=\"773.1155,-580.3058 780.9103,-573.13 770.3419,-573.8787 773.1155,-580.3058\"/>\n</g>\n<!-- 7 -->\n<g id=\"node8\" class=\"node\">\n<title>7</title>\n<polygon fill=\"#6aecd4\" stroke=\"#000000\" points=\"298,-469 158,-469 158,-401 298,-401 298,-469\"/>\n<text text-anchor=\"middle\" x=\"228\" y=\"-453.8\" font-family=\"Times,serif\" font-size=\"14.00\" fill=\"#000000\">X[4] &lt;= 175288.128</text>\n<text text-anchor=\"middle\" x=\"228\" y=\"-438.8\" font-family=\"Times,serif\" font-size=\"14.00\" fill=\"#000000\">gini = 0.32</text>\n<text text-anchor=\"middle\" x=\"228\" y=\"-423.8\" font-family=\"Times,serif\" font-size=\"14.00\" fill=\"#000000\">samples = 10</text>\n<text text-anchor=\"middle\" x=\"228\" y=\"-408.8\" font-family=\"Times,serif\" font-size=\"14.00\" fill=\"#000000\">value = [0, 0, 8, 2, 0]</text>\n</g>\n<!-- 6&#45;&gt;7 -->\n<g id=\"edge7\" class=\"edge\">\n<title>6&#45;&gt;7</title>\n<path fill=\"none\" stroke=\"#000000\" d=\"M541.2655,-510.5685C535.4527,-508.5976 529.6481,-506.7156 524,-505 451.7279,-483.0474 367.8103,-463.7731 307.8233,-451.0375\"/>\n<polygon fill=\"#000000\" stroke=\"#000000\" points=\"308.5407,-447.6119 298.0335,-448.972 307.0955,-454.4611 308.5407,-447.6119\"/>\n</g>\n<!-- 16 -->\n<g id=\"node17\" class=\"node\">\n<title>16</title>\n<polygon fill=\"#61ead1\" stroke=\"#000000\" points=\"688.5,-469 541.5,-469 541.5,-401 688.5,-401 688.5,-469\"/>\n<text text-anchor=\"middle\" x=\"615\" y=\"-453.8\" font-family=\"Times,serif\" font-size=\"14.00\" fill=\"#000000\">X[0] &lt;= 12.638</text>\n<text text-anchor=\"middle\" x=\"615\" y=\"-438.8\" font-family=\"Times,serif\" font-size=\"14.00\" fill=\"#000000\">gini = 0.278</text>\n<text text-anchor=\"middle\" x=\"615\" y=\"-423.8\" font-family=\"Times,serif\" font-size=\"14.00\" fill=\"#000000\">samples = 12</text>\n<text text-anchor=\"middle\" x=\"615\" y=\"-408.8\" font-family=\"Times,serif\" font-size=\"14.00\" fill=\"#000000\">value = [0, 0, 10, 2, 0]</text>\n</g>\n<!-- 6&#45;&gt;16 -->\n<g id=\"edge16\" class=\"edge\">\n<title>6&#45;&gt;16</title>\n<path fill=\"none\" stroke=\"#000000\" d=\"M615,-504.9465C615,-496.776 615,-487.9318 615,-479.3697\"/>\n<polygon fill=\"#000000\" stroke=\"#000000\" points=\"618.5001,-479.13 615,-469.13 611.5001,-479.13 618.5001,-479.13\"/>\n</g>\n<!-- 8 -->\n<g id=\"node9\" class=\"node\">\n<title>8</title>\n<polygon fill=\"#39e5c5\" stroke=\"#000000\" points=\"140,-357.5 0,-357.5 0,-304.5 140,-304.5 140,-357.5\"/>\n<text text-anchor=\"middle\" x=\"70\" y=\"-342.3\" font-family=\"Times,serif\" font-size=\"14.00\" fill=\"#000000\">gini = 0.0</text>\n<text text-anchor=\"middle\" x=\"70\" y=\"-327.3\" font-family=\"Times,serif\" font-size=\"14.00\" fill=\"#000000\">samples = 1</text>\n<text text-anchor=\"middle\" x=\"70\" y=\"-312.3\" font-family=\"Times,serif\" font-size=\"14.00\" fill=\"#000000\">value = [0, 0, 1, 0, 0]</text>\n</g>\n<!-- 7&#45;&gt;8 -->\n<g id=\"edge8\" class=\"edge\">\n<title>7&#45;&gt;8</title>\n<path fill=\"none\" stroke=\"#000000\" d=\"M176.2649,-400.9465C157.8573,-388.8301 137.1987,-375.232 119.0249,-363.2696\"/>\n<polygon fill=\"#000000\" stroke=\"#000000\" points=\"120.6009,-360.1168 110.3237,-357.5422 116.7522,-365.9638 120.6009,-360.1168\"/>\n</g>\n<!-- 9 -->\n<g id=\"node10\" class=\"node\">\n<title>9</title>\n<polygon fill=\"#72ecd6\" stroke=\"#000000\" points=\"298,-365 158,-365 158,-297 298,-297 298,-365\"/>\n<text text-anchor=\"middle\" x=\"228\" y=\"-349.8\" font-family=\"Times,serif\" font-size=\"14.00\" fill=\"#000000\">X[0] &lt;= 7.221</text>\n<text text-anchor=\"middle\" x=\"228\" y=\"-334.8\" font-family=\"Times,serif\" font-size=\"14.00\" fill=\"#000000\">gini = 0.346</text>\n<text text-anchor=\"middle\" x=\"228\" y=\"-319.8\" font-family=\"Times,serif\" font-size=\"14.00\" fill=\"#000000\">samples = 9</text>\n<text text-anchor=\"middle\" x=\"228\" y=\"-304.8\" font-family=\"Times,serif\" font-size=\"14.00\" fill=\"#000000\">value = [0, 0, 7, 2, 0]</text>\n</g>\n<!-- 7&#45;&gt;9 -->\n<g id=\"edge9\" class=\"edge\">\n<title>7&#45;&gt;9</title>\n<path fill=\"none\" stroke=\"#000000\" d=\"M228,-400.9465C228,-392.776 228,-383.9318 228,-375.3697\"/>\n<polygon fill=\"#000000\" stroke=\"#000000\" points=\"231.5001,-375.13 228,-365.13 224.5001,-375.13 231.5001,-375.13\"/>\n</g>\n<!-- 10 -->\n<g id=\"node11\" class=\"node\">\n<title>10</title>\n<polygon fill=\"#39e5c5\" stroke=\"#000000\" points=\"140,-253.5 0,-253.5 0,-200.5 140,-200.5 140,-253.5\"/>\n<text text-anchor=\"middle\" x=\"70\" y=\"-238.3\" font-family=\"Times,serif\" font-size=\"14.00\" fill=\"#000000\">gini = 0.0</text>\n<text text-anchor=\"middle\" x=\"70\" y=\"-223.3\" font-family=\"Times,serif\" font-size=\"14.00\" fill=\"#000000\">samples = 5</text>\n<text text-anchor=\"middle\" x=\"70\" y=\"-208.3\" font-family=\"Times,serif\" font-size=\"14.00\" fill=\"#000000\">value = [0, 0, 5, 0, 0]</text>\n</g>\n<!-- 9&#45;&gt;10 -->\n<g id=\"edge10\" class=\"edge\">\n<title>9&#45;&gt;10</title>\n<path fill=\"none\" stroke=\"#000000\" d=\"M176.2649,-296.9465C157.8573,-284.8301 137.1987,-271.232 119.0249,-259.2696\"/>\n<polygon fill=\"#000000\" stroke=\"#000000\" points=\"120.6009,-256.1168 110.3237,-253.5422 116.7522,-261.9638 120.6009,-256.1168\"/>\n</g>\n<!-- 11 -->\n<g id=\"node12\" class=\"node\">\n<title>11</title>\n<polygon fill=\"#ffffff\" stroke=\"#000000\" points=\"298,-261 158,-261 158,-193 298,-193 298,-261\"/>\n<text text-anchor=\"middle\" x=\"228\" y=\"-245.8\" font-family=\"Times,serif\" font-size=\"14.00\" fill=\"#000000\">X[2] &lt;= 4.896</text>\n<text text-anchor=\"middle\" x=\"228\" y=\"-230.8\" font-family=\"Times,serif\" font-size=\"14.00\" fill=\"#000000\">gini = 0.5</text>\n<text text-anchor=\"middle\" x=\"228\" y=\"-215.8\" font-family=\"Times,serif\" font-size=\"14.00\" fill=\"#000000\">samples = 4</text>\n<text text-anchor=\"middle\" x=\"228\" y=\"-200.8\" font-family=\"Times,serif\" font-size=\"14.00\" fill=\"#000000\">value = [0, 0, 2, 2, 0]</text>\n</g>\n<!-- 9&#45;&gt;11 -->\n<g id=\"edge11\" class=\"edge\">\n<title>9&#45;&gt;11</title>\n<path fill=\"none\" stroke=\"#000000\" d=\"M228,-296.9465C228,-288.776 228,-279.9318 228,-271.3697\"/>\n<polygon fill=\"#000000\" stroke=\"#000000\" points=\"231.5001,-271.13 228,-261.13 224.5001,-271.13 231.5001,-271.13\"/>\n</g>\n<!-- 12 -->\n<g id=\"node13\" class=\"node\">\n<title>12</title>\n<polygon fill=\"#9e9cf2\" stroke=\"#000000\" points=\"219,-157 79,-157 79,-89 219,-89 219,-157\"/>\n<text text-anchor=\"middle\" x=\"149\" y=\"-141.8\" font-family=\"Times,serif\" font-size=\"14.00\" fill=\"#000000\">X[4] &lt;= 378050.679</text>\n<text text-anchor=\"middle\" x=\"149\" y=\"-126.8\" font-family=\"Times,serif\" font-size=\"14.00\" fill=\"#000000\">gini = 0.444</text>\n<text text-anchor=\"middle\" x=\"149\" y=\"-111.8\" font-family=\"Times,serif\" font-size=\"14.00\" fill=\"#000000\">samples = 3</text>\n<text text-anchor=\"middle\" x=\"149\" y=\"-96.8\" font-family=\"Times,serif\" font-size=\"14.00\" fill=\"#000000\">value = [0, 0, 1, 2, 0]</text>\n</g>\n<!-- 11&#45;&gt;12 -->\n<g id=\"edge12\" class=\"edge\">\n<title>11&#45;&gt;12</title>\n<path fill=\"none\" stroke=\"#000000\" d=\"M202.1324,-192.9465C195.3804,-184.0578 188.0226,-174.3716 180.9941,-165.1188\"/>\n<polygon fill=\"#000000\" stroke=\"#000000\" points=\"183.7617,-162.976 174.9257,-157.13 178.1875,-167.2102 183.7617,-162.976\"/>\n</g>\n<!-- 15 -->\n<g id=\"node16\" class=\"node\">\n<title>15</title>\n<polygon fill=\"#39e5c5\" stroke=\"#000000\" points=\"377,-149.5 237,-149.5 237,-96.5 377,-96.5 377,-149.5\"/>\n<text text-anchor=\"middle\" x=\"307\" y=\"-134.3\" font-family=\"Times,serif\" font-size=\"14.00\" fill=\"#000000\">gini = 0.0</text>\n<text text-anchor=\"middle\" x=\"307\" y=\"-119.3\" font-family=\"Times,serif\" font-size=\"14.00\" fill=\"#000000\">samples = 1</text>\n<text text-anchor=\"middle\" x=\"307\" y=\"-104.3\" font-family=\"Times,serif\" font-size=\"14.00\" fill=\"#000000\">value = [0, 0, 1, 0, 0]</text>\n</g>\n<!-- 11&#45;&gt;15 -->\n<g id=\"edge15\" class=\"edge\">\n<title>11&#45;&gt;15</title>\n<path fill=\"none\" stroke=\"#000000\" d=\"M253.8676,-192.9465C262.4857,-181.6012 272.0906,-168.9567 280.7383,-157.5724\"/>\n<polygon fill=\"#000000\" stroke=\"#000000\" points=\"283.5763,-159.6224 286.8382,-149.5422 278.0021,-155.3882 283.5763,-159.6224\"/>\n</g>\n<!-- 13 -->\n<g id=\"node14\" class=\"node\">\n<title>13</title>\n<polygon fill=\"#39e5c5\" stroke=\"#000000\" points=\"140,-53 0,-53 0,0 140,0 140,-53\"/>\n<text text-anchor=\"middle\" x=\"70\" y=\"-37.8\" font-family=\"Times,serif\" font-size=\"14.00\" fill=\"#000000\">gini = 0.0</text>\n<text text-anchor=\"middle\" x=\"70\" y=\"-22.8\" font-family=\"Times,serif\" font-size=\"14.00\" fill=\"#000000\">samples = 1</text>\n<text text-anchor=\"middle\" x=\"70\" y=\"-7.8\" font-family=\"Times,serif\" font-size=\"14.00\" fill=\"#000000\">value = [0, 0, 1, 0, 0]</text>\n</g>\n<!-- 12&#45;&gt;13 -->\n<g id=\"edge13\" class=\"edge\">\n<title>12&#45;&gt;13</title>\n<path fill=\"none\" stroke=\"#000000\" d=\"M121.1476,-88.9777C113.7261,-79.9123 105.7023,-70.111 98.2593,-61.0192\"/>\n<polygon fill=\"#000000\" stroke=\"#000000\" points=\"100.9405,-58.7692 91.8977,-53.2485 95.5241,-63.2034 100.9405,-58.7692\"/>\n</g>\n<!-- 14 -->\n<g id=\"node15\" class=\"node\">\n<title>14</title>\n<polygon fill=\"#3c39e5\" stroke=\"#000000\" points=\"298,-53 158,-53 158,0 298,0 298,-53\"/>\n<text text-anchor=\"middle\" x=\"228\" y=\"-37.8\" font-family=\"Times,serif\" font-size=\"14.00\" fill=\"#000000\">gini = 0.0</text>\n<text text-anchor=\"middle\" x=\"228\" y=\"-22.8\" font-family=\"Times,serif\" font-size=\"14.00\" fill=\"#000000\">samples = 2</text>\n<text text-anchor=\"middle\" x=\"228\" y=\"-7.8\" font-family=\"Times,serif\" font-size=\"14.00\" fill=\"#000000\">value = [0, 0, 0, 2, 0]</text>\n</g>\n<!-- 12&#45;&gt;14 -->\n<g id=\"edge14\" class=\"edge\">\n<title>12&#45;&gt;14</title>\n<path fill=\"none\" stroke=\"#000000\" d=\"M176.8524,-88.9777C184.2739,-79.9123 192.2977,-70.111 199.7407,-61.0192\"/>\n<polygon fill=\"#000000\" stroke=\"#000000\" points=\"202.4759,-63.2034 206.1023,-53.2485 197.0595,-58.7692 202.4759,-63.2034\"/>\n</g>\n<!-- 17 -->\n<g id=\"node18\" class=\"node\">\n<title>17</title>\n<polygon fill=\"#9cf2e2\" stroke=\"#000000\" points=\"614,-365 474,-365 474,-297 614,-297 614,-365\"/>\n<text text-anchor=\"middle\" x=\"544\" y=\"-349.8\" font-family=\"Times,serif\" font-size=\"14.00\" fill=\"#000000\">X[2] &lt;= 3.917</text>\n<text text-anchor=\"middle\" x=\"544\" y=\"-334.8\" font-family=\"Times,serif\" font-size=\"14.00\" fill=\"#000000\">gini = 0.444</text>\n<text text-anchor=\"middle\" x=\"544\" y=\"-319.8\" font-family=\"Times,serif\" font-size=\"14.00\" fill=\"#000000\">samples = 3</text>\n<text text-anchor=\"middle\" x=\"544\" y=\"-304.8\" font-family=\"Times,serif\" font-size=\"14.00\" fill=\"#000000\">value = [0, 0, 2, 1, 0]</text>\n</g>\n<!-- 16&#45;&gt;17 -->\n<g id=\"edge17\" class=\"edge\">\n<title>16&#45;&gt;17</title>\n<path fill=\"none\" stroke=\"#000000\" d=\"M591.7519,-400.9465C585.745,-392.1475 579.2045,-382.5672 572.9457,-373.3993\"/>\n<polygon fill=\"#000000\" stroke=\"#000000\" points=\"575.8293,-371.4155 567.3003,-365.13 570.048,-375.3623 575.8293,-371.4155\"/>\n</g>\n<!-- 20 -->\n<g id=\"node21\" class=\"node\">\n<title>20</title>\n<polygon fill=\"#52e8cc\" stroke=\"#000000\" points=\"772,-365 632,-365 632,-297 772,-297 772,-365\"/>\n<text text-anchor=\"middle\" x=\"702\" y=\"-349.8\" font-family=\"Times,serif\" font-size=\"14.00\" fill=\"#000000\">X[2] &lt;= 3.711</text>\n<text text-anchor=\"middle\" x=\"702\" y=\"-334.8\" font-family=\"Times,serif\" font-size=\"14.00\" fill=\"#000000\">gini = 0.198</text>\n<text text-anchor=\"middle\" x=\"702\" y=\"-319.8\" font-family=\"Times,serif\" font-size=\"14.00\" fill=\"#000000\">samples = 9</text>\n<text text-anchor=\"middle\" x=\"702\" y=\"-304.8\" font-family=\"Times,serif\" font-size=\"14.00\" fill=\"#000000\">value = [0, 0, 8, 1, 0]</text>\n</g>\n<!-- 16&#45;&gt;20 -->\n<g id=\"edge20\" class=\"edge\">\n<title>16&#45;&gt;20</title>\n<path fill=\"none\" stroke=\"#000000\" d=\"M643.4871,-400.9465C650.9979,-391.968 659.1895,-382.1758 667.0005,-372.8385\"/>\n<polygon fill=\"#000000\" stroke=\"#000000\" points=\"669.7171,-375.0459 673.4489,-365.13 664.348,-370.5544 669.7171,-375.0459\"/>\n</g>\n<!-- 18 -->\n<g id=\"node19\" class=\"node\">\n<title>18</title>\n<polygon fill=\"#3c39e5\" stroke=\"#000000\" points=\"456,-253.5 316,-253.5 316,-200.5 456,-200.5 456,-253.5\"/>\n<text text-anchor=\"middle\" x=\"386\" y=\"-238.3\" font-family=\"Times,serif\" font-size=\"14.00\" fill=\"#000000\">gini = 0.0</text>\n<text text-anchor=\"middle\" x=\"386\" y=\"-223.3\" font-family=\"Times,serif\" font-size=\"14.00\" fill=\"#000000\">samples = 1</text>\n<text text-anchor=\"middle\" x=\"386\" y=\"-208.3\" font-family=\"Times,serif\" font-size=\"14.00\" fill=\"#000000\">value = [0, 0, 0, 1, 0]</text>\n</g>\n<!-- 17&#45;&gt;18 -->\n<g id=\"edge18\" class=\"edge\">\n<title>17&#45;&gt;18</title>\n<path fill=\"none\" stroke=\"#000000\" d=\"M492.2649,-296.9465C473.8573,-284.8301 453.1987,-271.232 435.0249,-259.2696\"/>\n<polygon fill=\"#000000\" stroke=\"#000000\" points=\"436.6009,-256.1168 426.3237,-253.5422 432.7522,-261.9638 436.6009,-256.1168\"/>\n</g>\n<!-- 19 -->\n<g id=\"node20\" class=\"node\">\n<title>19</title>\n<polygon fill=\"#39e5c5\" stroke=\"#000000\" points=\"614,-253.5 474,-253.5 474,-200.5 614,-200.5 614,-253.5\"/>\n<text text-anchor=\"middle\" x=\"544\" y=\"-238.3\" font-family=\"Times,serif\" font-size=\"14.00\" fill=\"#000000\">gini = 0.0</text>\n<text text-anchor=\"middle\" x=\"544\" y=\"-223.3\" font-family=\"Times,serif\" font-size=\"14.00\" fill=\"#000000\">samples = 2</text>\n<text text-anchor=\"middle\" x=\"544\" y=\"-208.3\" font-family=\"Times,serif\" font-size=\"14.00\" fill=\"#000000\">value = [0, 0, 2, 0, 0]</text>\n</g>\n<!-- 17&#45;&gt;19 -->\n<g id=\"edge19\" class=\"edge\">\n<title>17&#45;&gt;19</title>\n<path fill=\"none\" stroke=\"#000000\" d=\"M544,-296.9465C544,-286.2621 544,-274.4254 544,-263.5742\"/>\n<polygon fill=\"#000000\" stroke=\"#000000\" points=\"547.5001,-263.5421 544,-253.5422 540.5001,-263.5422 547.5001,-263.5421\"/>\n</g>\n<!-- 21 -->\n<g id=\"node22\" class=\"node\">\n<title>21</title>\n<polygon fill=\"#6aecd4\" stroke=\"#000000\" points=\"772,-261 632,-261 632,-193 772,-193 772,-261\"/>\n<text text-anchor=\"middle\" x=\"702\" y=\"-245.8\" font-family=\"Times,serif\" font-size=\"14.00\" fill=\"#000000\">X[0] &lt;= 16.766</text>\n<text text-anchor=\"middle\" x=\"702\" y=\"-230.8\" font-family=\"Times,serif\" font-size=\"14.00\" fill=\"#000000\">gini = 0.32</text>\n<text text-anchor=\"middle\" x=\"702\" y=\"-215.8\" font-family=\"Times,serif\" font-size=\"14.00\" fill=\"#000000\">samples = 5</text>\n<text text-anchor=\"middle\" x=\"702\" y=\"-200.8\" font-family=\"Times,serif\" font-size=\"14.00\" fill=\"#000000\">value = [0, 0, 4, 1, 0]</text>\n</g>\n<!-- 20&#45;&gt;21 -->\n<g id=\"edge21\" class=\"edge\">\n<title>20&#45;&gt;21</title>\n<path fill=\"none\" stroke=\"#000000\" d=\"M702,-296.9465C702,-288.776 702,-279.9318 702,-271.3697\"/>\n<polygon fill=\"#000000\" stroke=\"#000000\" points=\"705.5001,-271.13 702,-261.13 698.5001,-271.13 705.5001,-271.13\"/>\n</g>\n<!-- 24 -->\n<g id=\"node25\" class=\"node\">\n<title>24</title>\n<polygon fill=\"#39e5c5\" stroke=\"#000000\" points=\"930,-253.5 790,-253.5 790,-200.5 930,-200.5 930,-253.5\"/>\n<text text-anchor=\"middle\" x=\"860\" y=\"-238.3\" font-family=\"Times,serif\" font-size=\"14.00\" fill=\"#000000\">gini = 0.0</text>\n<text text-anchor=\"middle\" x=\"860\" y=\"-223.3\" font-family=\"Times,serif\" font-size=\"14.00\" fill=\"#000000\">samples = 4</text>\n<text text-anchor=\"middle\" x=\"860\" y=\"-208.3\" font-family=\"Times,serif\" font-size=\"14.00\" fill=\"#000000\">value = [0, 0, 4, 0, 0]</text>\n</g>\n<!-- 20&#45;&gt;24 -->\n<g id=\"edge24\" class=\"edge\">\n<title>20&#45;&gt;24</title>\n<path fill=\"none\" stroke=\"#000000\" d=\"M753.7351,-296.9465C772.1427,-284.8301 792.8013,-271.232 810.9751,-259.2696\"/>\n<polygon fill=\"#000000\" stroke=\"#000000\" points=\"813.2478,-261.9638 819.6763,-253.5422 809.3991,-256.1168 813.2478,-261.9638\"/>\n</g>\n<!-- 22 -->\n<g id=\"node23\" class=\"node\">\n<title>22</title>\n<polygon fill=\"#39e5c5\" stroke=\"#000000\" points=\"655,-149.5 515,-149.5 515,-96.5 655,-96.5 655,-149.5\"/>\n<text text-anchor=\"middle\" x=\"585\" y=\"-134.3\" font-family=\"Times,serif\" font-size=\"14.00\" fill=\"#000000\">gini = 0.0</text>\n<text text-anchor=\"middle\" x=\"585\" y=\"-119.3\" font-family=\"Times,serif\" font-size=\"14.00\" fill=\"#000000\">samples = 4</text>\n<text text-anchor=\"middle\" x=\"585\" y=\"-104.3\" font-family=\"Times,serif\" font-size=\"14.00\" fill=\"#000000\">value = [0, 0, 4, 0, 0]</text>\n</g>\n<!-- 21&#45;&gt;22 -->\n<g id=\"edge22\" class=\"edge\">\n<title>21&#45;&gt;22</title>\n<path fill=\"none\" stroke=\"#000000\" d=\"M663.6898,-192.9465C650.4306,-181.1606 635.5942,-167.9726 622.4084,-156.2519\"/>\n<polygon fill=\"#000000\" stroke=\"#000000\" points=\"624.6593,-153.5699 614.8599,-149.5422 620.0088,-158.8018 624.6593,-153.5699\"/>\n</g>\n<!-- 23 -->\n<g id=\"node24\" class=\"node\">\n<title>23</title>\n<polygon fill=\"#3c39e5\" stroke=\"#000000\" points=\"813,-149.5 673,-149.5 673,-96.5 813,-96.5 813,-149.5\"/>\n<text text-anchor=\"middle\" x=\"743\" y=\"-134.3\" font-family=\"Times,serif\" font-size=\"14.00\" fill=\"#000000\">gini = 0.0</text>\n<text text-anchor=\"middle\" x=\"743\" y=\"-119.3\" font-family=\"Times,serif\" font-size=\"14.00\" fill=\"#000000\">samples = 1</text>\n<text text-anchor=\"middle\" x=\"743\" y=\"-104.3\" font-family=\"Times,serif\" font-size=\"14.00\" fill=\"#000000\">value = [0, 0, 0, 1, 0]</text>\n</g>\n<!-- 21&#45;&gt;23 -->\n<g id=\"edge23\" class=\"edge\">\n<title>21&#45;&gt;23</title>\n<path fill=\"none\" stroke=\"#000000\" d=\"M715.4249,-192.9465C719.7239,-182.0418 724.4961,-169.9368 728.8454,-158.9043\"/>\n<polygon fill=\"#000000\" stroke=\"#000000\" points=\"732.1247,-160.129 732.5363,-149.5422 725.6125,-157.5617 732.1247,-160.129\"/>\n</g>\n<!-- 26 -->\n<g id=\"node27\" class=\"node\">\n<title>26</title>\n<polygon fill=\"#7ee63e\" stroke=\"#000000\" points=\"937.5,-469 782.5,-469 782.5,-401 937.5,-401 937.5,-469\"/>\n<text text-anchor=\"middle\" x=\"860\" y=\"-453.8\" font-family=\"Times,serif\" font-size=\"14.00\" fill=\"#000000\">X[1] &lt;= 0.259</text>\n<text text-anchor=\"middle\" x=\"860\" y=\"-438.8\" font-family=\"Times,serif\" font-size=\"14.00\" fill=\"#000000\">gini = 0.047</text>\n<text text-anchor=\"middle\" x=\"860\" y=\"-423.8\" font-family=\"Times,serif\" font-size=\"14.00\" fill=\"#000000\">samples = 289</text>\n<text text-anchor=\"middle\" x=\"860\" y=\"-408.8\" font-family=\"Times,serif\" font-size=\"14.00\" fill=\"#000000\">value = [0, 282, 0, 0, 7]</text>\n</g>\n<!-- 25&#45;&gt;26 -->\n<g id=\"edge26\" class=\"edge\">\n<title>25&#45;&gt;26</title>\n<path fill=\"none\" stroke=\"#000000\" d=\"M860,-504.9465C860,-496.776 860,-487.9318 860,-479.3697\"/>\n<polygon fill=\"#000000\" stroke=\"#000000\" points=\"863.5001,-479.13 860,-469.13 856.5001,-479.13 863.5001,-479.13\"/>\n</g>\n<!-- 33 -->\n<g id=\"node34\" class=\"node\">\n<title>33</title>\n<polygon fill=\"#e58139\" stroke=\"#000000\" points=\"1102.5,-461.5 955.5,-461.5 955.5,-408.5 1102.5,-408.5 1102.5,-461.5\"/>\n<text text-anchor=\"middle\" x=\"1029\" y=\"-446.3\" font-family=\"Times,serif\" font-size=\"14.00\" fill=\"#000000\">gini = 0.0</text>\n<text text-anchor=\"middle\" x=\"1029\" y=\"-431.3\" font-family=\"Times,serif\" font-size=\"14.00\" fill=\"#000000\">samples = 70</text>\n<text text-anchor=\"middle\" x=\"1029\" y=\"-416.3\" font-family=\"Times,serif\" font-size=\"14.00\" fill=\"#000000\">value = [70, 0, 0, 0, 0]</text>\n</g>\n<!-- 25&#45;&gt;33 -->\n<g id=\"edge33\" class=\"edge\">\n<title>25&#45;&gt;33</title>\n<path fill=\"none\" stroke=\"#000000\" d=\"M915.3369,-504.9465C935.2051,-492.72 957.5249,-478.9847 977.0914,-466.9437\"/>\n<polygon fill=\"#000000\" stroke=\"#000000\" points=\"979.1867,-469.764 985.869,-461.5422 975.518,-463.8024 979.1867,-469.764\"/>\n</g>\n<!-- 27 -->\n<g id=\"node28\" class=\"node\">\n<title>27</title>\n<polygon fill=\"#e539c0\" stroke=\"#000000\" points=\"930,-357.5 790,-357.5 790,-304.5 930,-304.5 930,-357.5\"/>\n<text text-anchor=\"middle\" x=\"860\" y=\"-342.3\" font-family=\"Times,serif\" font-size=\"14.00\" fill=\"#000000\">gini = 0.0</text>\n<text text-anchor=\"middle\" x=\"860\" y=\"-327.3\" font-family=\"Times,serif\" font-size=\"14.00\" fill=\"#000000\">samples = 5</text>\n<text text-anchor=\"middle\" x=\"860\" y=\"-312.3\" font-family=\"Times,serif\" font-size=\"14.00\" fill=\"#000000\">value = [0, 0, 0, 0, 5]</text>\n</g>\n<!-- 26&#45;&gt;27 -->\n<g id=\"edge27\" class=\"edge\">\n<title>26&#45;&gt;27</title>\n<path fill=\"none\" stroke=\"#000000\" d=\"M860,-400.9465C860,-390.2621 860,-378.4254 860,-367.5742\"/>\n<polygon fill=\"#000000\" stroke=\"#000000\" points=\"863.5001,-367.5421 860,-357.5422 856.5001,-367.5422 863.5001,-367.5421\"/>\n</g>\n<!-- 28 -->\n<g id=\"node29\" class=\"node\">\n<title>28</title>\n<polygon fill=\"#7ce53a\" stroke=\"#000000\" points=\"1103.5,-365 948.5,-365 948.5,-297 1103.5,-297 1103.5,-365\"/>\n<text text-anchor=\"middle\" x=\"1026\" y=\"-349.8\" font-family=\"Times,serif\" font-size=\"14.00\" fill=\"#000000\">X[0] &lt;= 12.451</text>\n<text text-anchor=\"middle\" x=\"1026\" y=\"-334.8\" font-family=\"Times,serif\" font-size=\"14.00\" fill=\"#000000\">gini = 0.014</text>\n<text text-anchor=\"middle\" x=\"1026\" y=\"-319.8\" font-family=\"Times,serif\" font-size=\"14.00\" fill=\"#000000\">samples = 284</text>\n<text text-anchor=\"middle\" x=\"1026\" y=\"-304.8\" font-family=\"Times,serif\" font-size=\"14.00\" fill=\"#000000\">value = [0, 282, 0, 0, 2]</text>\n</g>\n<!-- 26&#45;&gt;28 -->\n<g id=\"edge28\" class=\"edge\">\n<title>26&#45;&gt;28</title>\n<path fill=\"none\" stroke=\"#000000\" d=\"M914.3546,-400.9465C929.8322,-391.2497 946.8246,-380.6039 962.7812,-370.6069\"/>\n<polygon fill=\"#000000\" stroke=\"#000000\" points=\"964.9072,-373.4052 971.5233,-365.13 961.1908,-367.4732 964.9072,-373.4052\"/>\n</g>\n<!-- 29 -->\n<g id=\"node30\" class=\"node\">\n<title>29</title>\n<polygon fill=\"#7de53c\" stroke=\"#000000\" points=\"1103.5,-261 948.5,-261 948.5,-193 1103.5,-193 1103.5,-261\"/>\n<text text-anchor=\"middle\" x=\"1026\" y=\"-245.8\" font-family=\"Times,serif\" font-size=\"14.00\" fill=\"#000000\">X[3] &lt;= 1.995</text>\n<text text-anchor=\"middle\" x=\"1026\" y=\"-230.8\" font-family=\"Times,serif\" font-size=\"14.00\" fill=\"#000000\">gini = 0.029</text>\n<text text-anchor=\"middle\" x=\"1026\" y=\"-215.8\" font-family=\"Times,serif\" font-size=\"14.00\" fill=\"#000000\">samples = 137</text>\n<text text-anchor=\"middle\" x=\"1026\" y=\"-200.8\" font-family=\"Times,serif\" font-size=\"14.00\" fill=\"#000000\">value = [0, 135, 0, 0, 2]</text>\n</g>\n<!-- 28&#45;&gt;29 -->\n<g id=\"edge29\" class=\"edge\">\n<title>28&#45;&gt;29</title>\n<path fill=\"none\" stroke=\"#000000\" d=\"M1026,-296.9465C1026,-288.776 1026,-279.9318 1026,-271.3697\"/>\n<polygon fill=\"#000000\" stroke=\"#000000\" points=\"1029.5001,-271.13 1026,-261.13 1022.5001,-271.13 1029.5001,-271.13\"/>\n</g>\n<!-- 32 -->\n<g id=\"node33\" class=\"node\">\n<title>32</title>\n<polygon fill=\"#7be539\" stroke=\"#000000\" points=\"1276.5,-253.5 1121.5,-253.5 1121.5,-200.5 1276.5,-200.5 1276.5,-253.5\"/>\n<text text-anchor=\"middle\" x=\"1199\" y=\"-238.3\" font-family=\"Times,serif\" font-size=\"14.00\" fill=\"#000000\">gini = 0.0</text>\n<text text-anchor=\"middle\" x=\"1199\" y=\"-223.3\" font-family=\"Times,serif\" font-size=\"14.00\" fill=\"#000000\">samples = 147</text>\n<text text-anchor=\"middle\" x=\"1199\" y=\"-208.3\" font-family=\"Times,serif\" font-size=\"14.00\" fill=\"#000000\">value = [0, 147, 0, 0, 0]</text>\n</g>\n<!-- 28&#45;&gt;32 -->\n<g id=\"edge32\" class=\"edge\">\n<title>28&#45;&gt;32</title>\n<path fill=\"none\" stroke=\"#000000\" d=\"M1082.6467,-296.9465C1103.0767,-284.6649 1126.0391,-270.8609 1146.1333,-258.7811\"/>\n<polygon fill=\"#000000\" stroke=\"#000000\" points=\"1148.0809,-261.6942 1154.8481,-253.5422 1144.4743,-255.6948 1148.0809,-261.6942\"/>\n</g>\n<!-- 30 -->\n<g id=\"node31\" class=\"node\">\n<title>30</title>\n<polygon fill=\"#e539c0\" stroke=\"#000000\" points=\"1013,-149.5 873,-149.5 873,-96.5 1013,-96.5 1013,-149.5\"/>\n<text text-anchor=\"middle\" x=\"943\" y=\"-134.3\" font-family=\"Times,serif\" font-size=\"14.00\" fill=\"#000000\">gini = 0.0</text>\n<text text-anchor=\"middle\" x=\"943\" y=\"-119.3\" font-family=\"Times,serif\" font-size=\"14.00\" fill=\"#000000\">samples = 2</text>\n<text text-anchor=\"middle\" x=\"943\" y=\"-104.3\" font-family=\"Times,serif\" font-size=\"14.00\" fill=\"#000000\">value = [0, 0, 0, 0, 2]</text>\n</g>\n<!-- 29&#45;&gt;30 -->\n<g id=\"edge30\" class=\"edge\">\n<title>29&#45;&gt;30</title>\n<path fill=\"none\" stroke=\"#000000\" d=\"M998.8227,-192.9465C989.7682,-181.6012 979.677,-168.9567 970.5914,-157.5724\"/>\n<polygon fill=\"#000000\" stroke=\"#000000\" points=\"973.1561,-155.175 964.1827,-149.5422 967.6849,-159.5414 973.1561,-155.175\"/>\n</g>\n<!-- 31 -->\n<g id=\"node32\" class=\"node\">\n<title>31</title>\n<polygon fill=\"#7be539\" stroke=\"#000000\" points=\"1186.5,-149.5 1031.5,-149.5 1031.5,-96.5 1186.5,-96.5 1186.5,-149.5\"/>\n<text text-anchor=\"middle\" x=\"1109\" y=\"-134.3\" font-family=\"Times,serif\" font-size=\"14.00\" fill=\"#000000\">gini = 0.0</text>\n<text text-anchor=\"middle\" x=\"1109\" y=\"-119.3\" font-family=\"Times,serif\" font-size=\"14.00\" fill=\"#000000\">samples = 135</text>\n<text text-anchor=\"middle\" x=\"1109\" y=\"-104.3\" font-family=\"Times,serif\" font-size=\"14.00\" fill=\"#000000\">value = [0, 135, 0, 0, 0]</text>\n</g>\n<!-- 29&#45;&gt;31 -->\n<g id=\"edge31\" class=\"edge\">\n<title>29&#45;&gt;31</title>\n<path fill=\"none\" stroke=\"#000000\" d=\"M1053.1773,-192.9465C1062.2318,-181.6012 1072.323,-168.9567 1081.4086,-157.5724\"/>\n<polygon fill=\"#000000\" stroke=\"#000000\" points=\"1084.3151,-159.5414 1087.8173,-149.5422 1078.8439,-155.175 1084.3151,-159.5414\"/>\n</g>\n</g>\n</svg>\n"
          },
          "metadata": {
            "tags": []
          },
          "execution_count": 87
        }
      ]
    },
    {
      "cell_type": "markdown",
      "metadata": {
        "id": "wDUkTE8fFa__"
      },
      "source": [
        "> `MLflow`"
      ]
    },
    {
      "cell_type": "code",
      "metadata": {
        "id": "jk6z5LgIFaSw"
      },
      "source": [
        "if __name__ == \"__main__\":\n",
        "    warnings.filterwarnings(\"ignore\")\n",
        "    np.random.seed(40)\n",
        "\n",
        "    with mlflow.start_run():\n",
        "        mlflow.log_param(\"max_features\", maxFeatures)\n",
        "        mlflow.log_param(\"splitter\", splitter)\n",
        "        mlflow.log_param(\"criterion\", criterion)\n",
        "        mlflow.log_metric(\"accuracy score\", tree_test_acc)\n",
        "        mlflow.log_metric(\"f1 score\", tree_test_f1)\n",
        "        mlflow.log_metric(\"f1_macro score\", tree_test_f1_macro)\n",
        "        mlflow.log_metric(\"f1_micro score\", tree_test_f1_micro)\n",
        "        mlflow.log_metric(\"f1_weighted score\", tree_test_f1_weighted)\n",
        "        mlflow.log_metric(\"precision score\", tree_test_precision)\n",
        "        mlflow.log_metric(\"recall score\", tree_test_recall)\n",
        "        mlflow.log_metric(\"mean squared error\", tree_test_mse)\n",
        "        mlflow.log_metric(\"mean absolute error\", tree_test_mae)        \n",
        "\n",
        "        tracking_url_type_store = urlparse(mlflow.get_tracking_uri()).scheme\n",
        "\n",
        "        # Model registry does not work with file store\n",
        "        if tracking_url_type_store != \"file\":\n",
        "            # Register the model\n",
        "            mlflow.sklearn.log_model(YTreeModel_test, \"model\", registered_model_name=\"DecisionTree\")\n",
        "        else:\n",
        "            mlflow.sklearn.log_model(YTreeModel_test, \"model\")"
      ],
      "execution_count": 88,
      "outputs": []
    },
    {
      "cell_type": "markdown",
      "metadata": {
        "id": "T3-0xYyOA4qf"
      },
      "source": [
        "##### `KNN`"
      ]
    },
    {
      "cell_type": "markdown",
      "metadata": {
        "id": "wmv1QBZuX6FW"
      },
      "source": [
        "> Testando o melhor valor de **K** vizinhos"
      ]
    },
    {
      "cell_type": "code",
      "metadata": {
        "colab": {
          "base_uri": "https://localhost:8080/"
        },
        "id": "eC7C26FwX2Vq",
        "outputId": "df385862-c1ba-49dd-e4ab-42e34c961c2d"
      },
      "source": [
        "from sklearn.model_selection import cross_val_score\n",
        "# varia o k de 1 a 30\n",
        "k_range = range(1, 31)\n",
        "\n",
        "k_scores = []\n",
        "\n",
        "for k in k_range:\n",
        "    knn = KNeighborsClassifier(n_neighbors=k)\n",
        "    scores = cross_val_score(knn, Xtrain, Ytrain, cv=5, scoring='accuracy')\n",
        "    k_scores.append(scores.mean())\n",
        "print(k_scores)"
      ],
      "execution_count": 97,
      "outputs": [
        {
          "output_type": "stream",
          "text": [
            "[0.9150455480458419, 0.8736996767558036, 0.8785777255362914, 0.8761387011460476, 0.8713194240376139, 0.8640905083749633, 0.8786658830443725, 0.8834557743167792, 0.8907140758154568, 0.8858947987070233, 0.888333823097267, 0.8810461357625625, 0.8858947987070233, 0.8810755215985895, 0.8810755215985895, 0.8737584484278578, 0.8713194240376139, 0.8712900382015867, 0.8712900382015867, 0.8664707610931531, 0.86650014692918, 0.8616514839847194, 0.868939171319424, 0.8689097854833969, 0.8615927123126653, 0.8591536879224213, 0.8567146635321775, 0.8664413752571261, 0.8591536879224213, 0.8567440493682046]\n"
          ],
          "name": "stdout"
        }
      ]
    },
    {
      "cell_type": "markdown",
      "metadata": {
        "id": "LThQaVCuYLEH"
      },
      "source": [
        "> Como notado, o melhor valor de K é 1."
      ]
    },
    {
      "cell_type": "code",
      "metadata": {
        "id": "wXLeOYMS8z-I"
      },
      "source": [
        "from sklearn.neighbors  import KNeighborsClassifier\n",
        "n_neighbors = 1 # n_neighbors -> default = 5\n",
        "weights = 'uniform' # weights -> {‘uniform’, ‘distance’} \n",
        "leaf_size = 15 # leaf_size -> default = 30\n",
        "KNNmodel = KNeighborsClassifier(n_neighbors=n_neighbors, weights=weights, leaf_size=leaf_size)     \n",
        "KNNmodel.fit(Xtrain, Ytrain)                     \n",
        "Y_KNNmodel_train = KNNmodel.predict(Xtrain)          \n",
        "Y_KNNmodel_test =  KNNmodel.predict(Xtest)          "
      ],
      "execution_count": 98,
      "outputs": []
    },
    {
      "cell_type": "code",
      "metadata": {
        "id": "jxz2kSyoroB6"
      },
      "source": [
        "# Trainning\n",
        "knn_train_acc, knn_train_precision, knn_train_recall, knn_train_mse, knn_train_mae, knn_train_f1, knn_train_f1_macro, knn_train_f1_micro, knn_train_f1_weighted = eval_metrics(Ytrain, Y_KNNmodel_train)\n",
        "\n",
        "# Test\n",
        "knn_test_acc, knn_test_precision, knn_test_recall, knn_test_mse, knn_test_mae, knn_test_f1, knn_test_f1_macro, knn_test_f1_micro, knn_test_f1_weighted = eval_metrics(Ytest, Y_KNNmodel_test)"
      ],
      "execution_count": 99,
      "outputs": []
    },
    {
      "cell_type": "markdown",
      "metadata": {
        "id": "NozOOmzyxxPT"
      },
      "source": [
        "> `Accuracy`"
      ]
    },
    {
      "cell_type": "code",
      "metadata": {
        "id": "Yf3jVfYSxxPU",
        "colab": {
          "base_uri": "https://localhost:8080/"
        },
        "outputId": "8a41da11-da03-4000-d4a8-87a1966d6316"
      },
      "source": [
        "print( \"Accuracy TRAINING: \" + str(knn_train_acc) )\n",
        "print( \"Accuracy TEST: \" + str(knn_test_acc) )"
      ],
      "execution_count": 100,
      "outputs": [
        {
          "output_type": "stream",
          "text": [
            "Accuracy TRAINING: 1.0\n",
            "Accuracy TEST: 0.927536231884058\n"
          ],
          "name": "stdout"
        }
      ]
    },
    {
      "cell_type": "markdown",
      "metadata": {
        "id": "WSvzCHpWxxPU"
      },
      "source": [
        "> `Precision` & `Recall`"
      ]
    },
    {
      "cell_type": "code",
      "metadata": {
        "id": "YluSHcFkxxPU",
        "colab": {
          "base_uri": "https://localhost:8080/"
        },
        "outputId": "ac5782b5-b2f9-4933-84c3-5d9cd24f0569"
      },
      "source": [
        "print('Precision: ', knn_test_precision)\n",
        "print('Recall: ', knn_test_recall)"
      ],
      "execution_count": 101,
      "outputs": [
        {
          "output_type": "stream",
          "text": [
            "Precision:  0.927536231884058\n",
            "Recall:  0.927536231884058\n"
          ],
          "name": "stdout"
        }
      ]
    },
    {
      "cell_type": "markdown",
      "metadata": {
        "id": "uJZQ59w7xxPU"
      },
      "source": [
        "> `F1 Score`\n",
        "* micro\n",
        "* macro\n",
        "* weighted"
      ]
    },
    {
      "cell_type": "code",
      "metadata": {
        "id": "k8V80jYfxxPV",
        "colab": {
          "base_uri": "https://localhost:8080/"
        },
        "outputId": "af6d0408-675f-4fd5-b664-f4aa3d52aae2"
      },
      "source": [
        "print('Score: ', knn_test_f1)\n",
        "print('Micro: ', knn_test_f1_micro)\n",
        "print('Macro: ', knn_test_f1_macro)\n",
        "print('Weighted: ', knn_test_f1_weighted)"
      ],
      "execution_count": 102,
      "outputs": [
        {
          "output_type": "stream",
          "text": [
            "Score:  0.9847715736040609\n",
            "Micro:  0.927536231884058\n",
            "Macro:  0.633740063212336\n",
            "Weighted:  0.9331004165573568\n"
          ],
          "name": "stdout"
        }
      ]
    },
    {
      "cell_type": "markdown",
      "metadata": {
        "id": "w-PPmkitxxPV"
      },
      "source": [
        ">`Error`\n",
        "  * mean squared error\n",
        "  * mean absolute error"
      ]
    },
    {
      "cell_type": "code",
      "metadata": {
        "id": "zpQmKjDKxxPV",
        "colab": {
          "base_uri": "https://localhost:8080/"
        },
        "outputId": "ccb5478a-5661-4ca2-f38f-f3c90be8fe00"
      },
      "source": [
        "print('MSE: ', knn_test_mse)\n",
        "print('MAE: ', knn_test_mae)"
      ],
      "execution_count": 103,
      "outputs": [
        {
          "output_type": "stream",
          "text": [
            "MSE:  0.5107539184552492\n",
            "MAE:  0.13043478260869565\n"
          ],
          "name": "stdout"
        }
      ]
    },
    {
      "cell_type": "code",
      "metadata": {
        "colab": {
          "base_uri": "https://localhost:8080/",
          "height": 302
        },
        "id": "gpSs5XvJ_5Um",
        "outputId": "ea9d2057-174c-4d88-e953-b5864ca69084"
      },
      "source": [
        "# plotando o valor de K versus a acurácia no cross-validation\n",
        "plt.plot(k_range, k_scores)\n",
        "plt.xlabel('Value of K for KNN')\n",
        "plt.ylabel('Cross-Validated Accuracy')"
      ],
      "execution_count": 104,
      "outputs": [
        {
          "output_type": "execute_result",
          "data": {
            "text/plain": [
              "Text(0, 0.5, 'Cross-Validated Accuracy')"
            ]
          },
          "metadata": {
            "tags": []
          },
          "execution_count": 104
        },
        {
          "output_type": "display_data",
          "data": {
            "image/png": "[encoded data removed]",
            "text/plain": [
              "<Figure size 432x288 with 1 Axes>"
            ]
          },
          "metadata": {
            "tags": [],
            "needs_background": "light"
          }
        }
      ]
    },
    {
      "cell_type": "code",
      "metadata": {
        "id": "RGu2_oyIFxNB"
      },
      "source": [
        "if __name__ == \"__main__\":\n",
        "    warnings.filterwarnings(\"ignore\")\n",
        "    np.random.seed(40)\n",
        "\n",
        "    with mlflow.start_run():\n",
        "        mlflow.log_param(\"n_neighbors\", n_neighbors)\n",
        "        mlflow.log_param(\"weights\", weights)\n",
        "        mlflow.log_param(\"leaf_size\", leaf_size)\n",
        "        mlflow.log_metric(\"accuracy score\", knn_test_acc)\n",
        "        mlflow.log_metric(\"f1 score\", knn_test_f1)\n",
        "        mlflow.log_metric(\"f1_macro score\", knn_test_f1_macro)\n",
        "        mlflow.log_metric(\"f1_micro score\", knn_test_f1_micro)\n",
        "        mlflow.log_metric(\"f1_weighted score\", knn_test_f1_weighted)\n",
        "        mlflow.log_metric(\"precision score\", knn_test_precision)\n",
        "        mlflow.log_metric(\"recall score\", knn_test_recall)\n",
        "        mlflow.log_metric(\"mean squared error\", knn_test_mse)\n",
        "        mlflow.log_metric(\"mean absolute error\", knn_test_mae)        \n",
        "\n",
        "        tracking_url_type_store = urlparse(mlflow.get_tracking_uri()).scheme\n",
        "\n",
        "        # Model registry does not work with file store\n",
        "        if tracking_url_type_store != \"file\":\n",
        "            # Register the model\n",
        "            mlflow.sklearn.log_model(Y_KNNmodel_test, \"model\", registered_model_name=\"KNN\")\n",
        "        else:\n",
        "            mlflow.sklearn.log_model(Y_KNNmodel_test, \"model\")"
      ],
      "execution_count": 105,
      "outputs": []
    },
    {
      "cell_type": "markdown",
      "metadata": {
        "id": "1w9xphxzBc2w"
      },
      "source": [
        "##### `Random Forest`"
      ]
    },
    {
      "cell_type": "code",
      "metadata": {
        "id": "3snMNsX3BlE1"
      },
      "source": [
        "from sklearn.ensemble  import RandomForestClassifier\n",
        "n_estimators = 6\n",
        "max_depth = 2\n",
        "max_features = 'log2'\n",
        "RFmodel = RandomForestClassifier(n_estimators=n_estimators, max_depth=max_depth, max_features=max_features)     \n",
        "RFmodel.fit(Xtrain, Ytrain)                       \n",
        "Y_RFmodel_train = RFmodel.predict(Xtrain)                 \n",
        "Y_RFmodel_test =  RFmodel.predict(Xtest)              "
      ],
      "execution_count": 114,
      "outputs": []
    },
    {
      "cell_type": "code",
      "metadata": {
        "id": "SaJqBIMYrt-u"
      },
      "source": [
        "# Trainning\n",
        "rf_train_acc, rf_train_precision, rf_train_recall, rf_train_mse, rf_train_mae, rf_train_f1, rf_train_f1_macro, rf_train_f1_micro, rf_train_f1_weighted = eval_metrics(Ytrain, Y_RFmodel_train)\n",
        "\n",
        "# Test\n",
        "rf_test_acc, rf_test_precision, rf_test_recall, rf_test_mse, rf_test_mae, rf_test_f1, rf_test_f1_macro, rf_test_f1_micro, rf_test_f1_weighted = eval_metrics(Ytest, Y_RFmodel_test)"
      ],
      "execution_count": 115,
      "outputs": []
    },
    {
      "cell_type": "markdown",
      "metadata": {
        "id": "eLtyONhOwXfb"
      },
      "source": [
        "> `Accuracy`"
      ]
    },
    {
      "cell_type": "code",
      "metadata": {
        "id": "OUSM0b4TwBvL",
        "colab": {
          "base_uri": "https://localhost:8080/"
        },
        "outputId": "93cfef83-2e38-4022-e7b7-6d4381f329ac"
      },
      "source": [
        "# Training\n",
        "print('Training: ', rf_train_acc)\n",
        "#Test\n",
        "print('Test: ', rf_test_acc)"
      ],
      "execution_count": 116,
      "outputs": [
        {
          "output_type": "stream",
          "text": [
            "Training:  0.9878640776699029\n",
            "Test:  0.9782608695652174\n"
          ],
          "name": "stdout"
        }
      ]
    },
    {
      "cell_type": "markdown",
      "metadata": {
        "id": "wUdaSuaMwbph"
      },
      "source": [
        "> `Precision` & `Recall`"
      ]
    },
    {
      "cell_type": "code",
      "metadata": {
        "id": "g606YjBHwg1R",
        "colab": {
          "base_uri": "https://localhost:8080/"
        },
        "outputId": "f9371b35-4714-470e-dfea-2a94fefb32ff"
      },
      "source": [
        "print('Precision: ', rf_test_precision)\n",
        "print('Recall: ', rf_test_recall)"
      ],
      "execution_count": 117,
      "outputs": [
        {
          "output_type": "stream",
          "text": [
            "Precision:  0.9782608695652174\n",
            "Recall:  0.9782608695652174\n"
          ],
          "name": "stdout"
        }
      ]
    },
    {
      "cell_type": "markdown",
      "metadata": {
        "id": "gAD31T0BwhQ5"
      },
      "source": [
        "> `F1 Score`\n",
        "* micro\n",
        "* macro\n",
        "* weighted"
      ]
    },
    {
      "cell_type": "code",
      "metadata": {
        "id": "gocF9VdrwlQa",
        "colab": {
          "base_uri": "https://localhost:8080/"
        },
        "outputId": "1ad57cba-7836-4484-8bcb-9e0eaea61121"
      },
      "source": [
        "print('Score: ', rf_test_f1)\n",
        "print('Micro: ', rf_test_f1_micro)\n",
        "print('Macro: ', rf_test_f1_macro)\n",
        "print('Weighted: ', rf_test_f1_weighted)"
      ],
      "execution_count": 118,
      "outputs": [
        {
          "output_type": "stream",
          "text": [
            "Score:  0.99\n",
            "Micro:  0.9782608695652174\n",
            "Macro:  0.961578947368421\n",
            "Weighted:  0.9779519450800916\n"
          ],
          "name": "stdout"
        }
      ]
    },
    {
      "cell_type": "markdown",
      "metadata": {
        "id": "buOCloBbwlli"
      },
      "source": [
        ">`Error`\n",
        "  * mean squared error\n",
        "  * mean absolute error"
      ]
    },
    {
      "cell_type": "code",
      "metadata": {
        "id": "MW_vtQvew2yS",
        "colab": {
          "base_uri": "https://localhost:8080/"
        },
        "outputId": "c67891dc-d242-45c3-b35f-5ed850bee24f"
      },
      "source": [
        "print('MSE: ', rf_test_mse)\n",
        "print('MAE: ', rf_test_mae)"
      ],
      "execution_count": 119,
      "outputs": [
        {
          "output_type": "stream",
          "text": [
            "MSE:  0.20851441405707477\n",
            "MAE:  0.028985507246376812\n"
          ],
          "name": "stdout"
        }
      ]
    },
    {
      "cell_type": "code",
      "metadata": {
        "id": "GEP19QW6DFZi"
      },
      "source": [
        "#from sklearn.metrics import classification_report, confusion_matrix, accuracy_score\n",
        "#\n",
        "#print('Training')\n",
        "#print(classification_report(Ytrain,Y_RFmodel_train))\n",
        "#\n",
        "#print('Test')\n",
        "#print(classification_report(Ytest,Y_RFmodel_test))"
      ],
      "execution_count": 120,
      "outputs": []
    },
    {
      "cell_type": "code",
      "metadata": {
        "colab": {
          "base_uri": "https://localhost:8080/",
          "height": 285
        },
        "id": "UWkx7eXDDuzA",
        "outputId": "f17e03cc-4b5d-4abd-e05d-5b41369d651d"
      },
      "source": [
        "cm = confusion_matrix(Ytest,Y_RFmodel_test)\n",
        "\n",
        "sns.heatmap(cm, square=True, annot=True)\n",
        "plt.xlabel('predicted value')\n",
        "plt.ylabel('true value');"
      ],
      "execution_count": 121,
      "outputs": [
        {
          "output_type": "display_data",
          "data": {
            "image/png": "[encoded data removed]",
            "text/plain": [
              "<Figure size 432x288 with 2 Axes>"
            ]
          },
          "metadata": {
            "tags": [],
            "needs_background": "light"
          }
        }
      ]
    },
    {
      "cell_type": "markdown",
      "metadata": {
        "id": "RBBBeEpqGRLo"
      },
      "source": [
        "`MLflow` pré-otimização"
      ]
    },
    {
      "cell_type": "code",
      "metadata": {
        "id": "8pMXbdtvGCXX"
      },
      "source": [
        "if __name__ == \"__main__\":\n",
        "    warnings.filterwarnings(\"ignore\")\n",
        "    np.random.seed(40)\n",
        "\n",
        "    with mlflow.start_run():\n",
        "        mlflow.log_param(\"n_estimators\", n_estimators)\n",
        "        mlflow.log_param(\"max_depth\", max_depth)\n",
        "        mlflow.log_param(\"max_features\", max_features)\n",
        "        mlflow.log_metric(\"accuracy score\", tree_test_acc)\n",
        "        mlflow.log_metric(\"f1 score\", tree_test_f1)\n",
        "        mlflow.log_metric(\"f1_macro score\", tree_test_f1_macro)\n",
        "        mlflow.log_metric(\"f1_micro score\", tree_test_f1_micro)\n",
        "        mlflow.log_metric(\"f1_weighted score\", tree_test_f1_weighted)\n",
        "        mlflow.log_metric(\"precision score\", tree_test_precision)\n",
        "        mlflow.log_metric(\"recall score\", tree_test_recall)\n",
        "        mlflow.log_metric(\"mean squared error\", tree_test_mse)\n",
        "        mlflow.log_metric(\"mean absolute error\", tree_test_mae)        \n",
        "\n",
        "        tracking_url_type_store = urlparse(mlflow.get_tracking_uri()).scheme\n",
        "\n",
        "        # Model registry does not work with file store\n",
        "        if tracking_url_type_store != \"file\":\n",
        "            # Register the model\n",
        "            mlflow.sklearn.log_model(Y_RFmodel_test, \"model\", registered_model_name=\"RandomForest\")\n",
        "        else:\n",
        "            mlflow.sklearn.log_model(Y_RFmodel_test, \"model\")"
      ],
      "execution_count": 122,
      "outputs": []
    },
    {
      "cell_type": "markdown",
      "metadata": {
        "id": "-kQe-CXexy8i"
      },
      "source": [
        "##### **Estudo e otimização de híperparâmetros**\n",
        "> Ferramenta: `Optuna`\n",
        "  \n",
        "  Info: https://optuna.org/"
      ]
    },
    {
      "cell_type": "code",
      "metadata": {
        "id": "kjvasf8MyVKa"
      },
      "source": [
        "import optuna\n",
        "\n",
        "# Método que avalia os objetivos\n",
        "def objective(trial):\n",
        "    # Validation set\n",
        "    x_df = Xval\n",
        "    target = Yval\n",
        "\n",
        "    # Classificadores desejáveis\n",
        "    classifier_name = trial.suggest_categorical('classifier', ['DecisionTree', 'KNN', 'RandomForest'])\n",
        "\n",
        "    # Avaliação de modelos\n",
        "    if classifier_name == 'DecisionTree':\n",
        "      max_features = trial.suggest_categorical('max_features', ['auto', 'sqrt', 'log2'])\n",
        "      criterion = trial.suggest_categorical('criterion', ['gini', 'entropy'])\n",
        "      splitter = trial.suggest_categorical('splitter', ['best', 'random'])\n",
        "      classifier_obj = tree.DecisionTreeClassifier(max_features=max_features, criterion=criterion, splitter=splitter)     \n",
        "      classifier_obj.fit(x_df, target)\n",
        "      predict = classifier_obj.predict(x_df)\n",
        "\n",
        "      accuracy,_,_,_,_,_,_,_,_ = eval_metrics(target, predict)\n",
        "    \n",
        "    elif classifier_name == 'KNN':\n",
        "      n_neighbors = trial.suggest_int('n_neighbors', 3, 99, step=3)\n",
        "      weights = trial.suggest_categorical('weights', ['uniform', 'distance'])\n",
        "      leaf_size = int(trial.suggest_loguniform('leaf_size', 5, 100))\n",
        "      classifier_obj = KNeighborsClassifier(n_neighbors=n_neighbors, weights=weights, leaf_size=leaf_size)     \n",
        "      classifier_obj.fit(x_df, target)\n",
        "      predict = classifier_obj.predict(x_df)\n",
        "\n",
        "      accuracy,_,_,_,_,_,_,_,_ = eval_metrics(target, predict)\n",
        "    \n",
        "    else:\n",
        "      n_estimators = trial.suggest_int('n_estimators', 5, 100, step=10)\n",
        "      max_depth = int(trial.suggest_loguniform('rf_max_depth', 2, 20))\n",
        "      max_features = trial.suggest_categorical('max_features', ['auto', 'sqrt', 'log2'])\n",
        "\n",
        "      classifier_obj = RandomForestClassifier(n_estimators=n_estimators, max_depth=max_depth, max_features=max_features)\n",
        "      classifier_obj.fit(x_df, target)\n",
        "      predict = classifier_obj.predict(x_df)\n",
        "\n",
        "      accuracy,_,_,_,_,_,_,_,_ = eval_metrics(target, predict)\n",
        "    \n",
        "    return accuracy"
      ],
      "execution_count": 125,
      "outputs": []
    },
    {
      "cell_type": "markdown",
      "metadata": {
        "id": "BKecJ_k1AY7N"
      },
      "source": [
        ">**Estudo**"
      ]
    },
    {
      "cell_type": "code",
      "metadata": {
        "colab": {
          "base_uri": "https://localhost:8080/"
        },
        "id": "WGJXn3_fAcRN",
        "outputId": "b18f0289-f51b-4f6f-c755-e48673c13191"
      },
      "source": [
        "# Cria um estudo sobre os objetos e otimiza através da função 'objective()'\n",
        "study = optuna.create_study(direction='maximize')\n",
        "study.optimize(objective, n_trials=100)"
      ],
      "execution_count": 126,
      "outputs": [
        {
          "output_type": "stream",
          "text": [
            "\u001b[32m[I 2021-04-22 02:28:15,421]\u001b[0m A new study created in memory with name: no-name-a569eb60-ac64-4501-b007-044aaa4e15d6\u001b[0m\n",
            "\u001b[32m[I 2021-04-22 02:28:15,442]\u001b[0m Trial 0 finished with value: 1.0 and parameters: {'classifier': 'DecisionTree', 'max_features': 'sqrt', 'criterion': 'entropy', 'splitter': 'best'}. Best is trial 0 with value: 1.0.\u001b[0m\n",
            "\u001b[32m[I 2021-04-22 02:28:15,465]\u001b[0m Trial 1 finished with value: 0.9202898550724637 and parameters: {'classifier': 'KNN', 'n_neighbors': 9, 'weights': 'uniform', 'leaf_size': 20.50067600299232}. Best is trial 0 with value: 1.0.\u001b[0m\n",
            "\u001b[32m[I 2021-04-22 02:28:15,520]\u001b[0m Trial 2 finished with value: 1.0 and parameters: {'classifier': 'RandomForest', 'n_estimators': 25, 'rf_max_depth': 9.728368025476751, 'max_features': 'log2'}. Best is trial 0 with value: 1.0.\u001b[0m\n",
            "\u001b[32m[I 2021-04-22 02:28:15,536]\u001b[0m Trial 3 finished with value: 1.0 and parameters: {'classifier': 'DecisionTree', 'max_features': 'sqrt', 'criterion': 'gini', 'splitter': 'best'}. Best is trial 0 with value: 1.0.\u001b[0m\n",
            "\u001b[32m[I 2021-04-22 02:28:15,550]\u001b[0m Trial 4 finished with value: 1.0 and parameters: {'classifier': 'DecisionTree', 'max_features': 'log2', 'criterion': 'gini', 'splitter': 'random'}. Best is trial 0 with value: 1.0.\u001b[0m\n",
            "\u001b[32m[I 2021-04-22 02:28:15,703]\u001b[0m Trial 5 finished with value: 1.0 and parameters: {'classifier': 'RandomForest', 'n_estimators': 95, 'rf_max_depth': 8.430322577373103, 'max_features': 'sqrt'}. Best is trial 0 with value: 1.0.\u001b[0m\n",
            "\u001b[32m[I 2021-04-22 02:28:15,720]\u001b[0m Trial 6 finished with value: 1.0 and parameters: {'classifier': 'KNN', 'n_neighbors': 36, 'weights': 'distance', 'leaf_size': 68.07241778233198}. Best is trial 0 with value: 1.0.\u001b[0m\n",
            "\u001b[32m[I 2021-04-22 02:28:15,735]\u001b[0m Trial 7 finished with value: 1.0 and parameters: {'classifier': 'DecisionTree', 'max_features': 'auto', 'criterion': 'entropy', 'splitter': 'random'}. Best is trial 0 with value: 1.0.\u001b[0m\n",
            "\u001b[32m[I 2021-04-22 02:28:15,754]\u001b[0m Trial 8 finished with value: 1.0 and parameters: {'classifier': 'KNN', 'n_neighbors': 78, 'weights': 'distance', 'leaf_size': 9.770614268682365}. Best is trial 0 with value: 1.0.\u001b[0m\n",
            "\u001b[32m[I 2021-04-22 02:28:15,896]\u001b[0m Trial 9 finished with value: 1.0 and parameters: {'classifier': 'RandomForest', 'n_estimators': 85, 'rf_max_depth': 9.959567445545575, 'max_features': 'auto'}. Best is trial 0 with value: 1.0.\u001b[0m\n",
            "\u001b[32m[I 2021-04-22 02:28:15,912]\u001b[0m Trial 10 finished with value: 1.0 and parameters: {'classifier': 'DecisionTree', 'max_features': 'sqrt', 'criterion': 'entropy', 'splitter': 'best'}. Best is trial 0 with value: 1.0.\u001b[0m\n",
            "\u001b[32m[I 2021-04-22 02:28:15,941]\u001b[0m Trial 11 finished with value: 0.9855072463768116 and parameters: {'classifier': 'RandomForest', 'n_estimators': 5, 'rf_max_depth': 2.2629466666704565, 'max_features': 'log2'}. Best is trial 0 with value: 1.0.\u001b[0m\n",
            "\u001b[32m[I 2021-04-22 02:28:15,980]\u001b[0m Trial 12 finished with value: 1.0 and parameters: {'classifier': 'RandomForest', 'n_estimators': 15, 'rf_max_depth': 16.564179761548154, 'max_features': 'log2'}. Best is trial 0 with value: 1.0.\u001b[0m\n",
            "\u001b[32m[I 2021-04-22 02:28:15,996]\u001b[0m Trial 13 finished with value: 1.0 and parameters: {'classifier': 'DecisionTree', 'max_features': 'log2', 'criterion': 'entropy', 'splitter': 'best'}. Best is trial 0 with value: 1.0.\u001b[0m\n",
            "\u001b[32m[I 2021-04-22 02:28:16,079]\u001b[0m Trial 14 finished with value: 1.0 and parameters: {'classifier': 'RandomForest', 'n_estimators': 45, 'rf_max_depth': 3.409006482445422, 'max_features': 'sqrt'}. Best is trial 0 with value: 1.0.\u001b[0m\n",
            "\u001b[32m[I 2021-04-22 02:28:16,100]\u001b[0m Trial 15 finished with value: 1.0 and parameters: {'classifier': 'DecisionTree', 'max_features': 'sqrt', 'criterion': 'entropy', 'splitter': 'best'}. Best is trial 0 with value: 1.0.\u001b[0m\n",
            "\u001b[32m[I 2021-04-22 02:28:16,170]\u001b[0m Trial 16 finished with value: 1.0 and parameters: {'classifier': 'RandomForest', 'n_estimators': 35, 'rf_max_depth': 16.486102117198502, 'max_features': 'log2'}. Best is trial 0 with value: 1.0.\u001b[0m\n",
            "\u001b[32m[I 2021-04-22 02:28:16,292]\u001b[0m Trial 17 finished with value: 1.0 and parameters: {'classifier': 'RandomForest', 'n_estimators': 65, 'rf_max_depth': 2.816547193059342, 'max_features': 'sqrt'}. Best is trial 0 with value: 1.0.\u001b[0m\n",
            "\u001b[32m[I 2021-04-22 02:28:16,309]\u001b[0m Trial 18 finished with value: 1.0 and parameters: {'classifier': 'DecisionTree', 'max_features': 'sqrt', 'criterion': 'entropy', 'splitter': 'best'}. Best is trial 0 with value: 1.0.\u001b[0m\n",
            "\u001b[32m[I 2021-04-22 02:28:16,404]\u001b[0m Trial 19 finished with value: 1.0 and parameters: {'classifier': 'RandomForest', 'n_estimators': 45, 'rf_max_depth': 18.207080178048578, 'max_features': 'auto'}. Best is trial 0 with value: 1.0.\u001b[0m\n",
            "\u001b[32m[I 2021-04-22 02:28:16,420]\u001b[0m Trial 20 finished with value: 1.0 and parameters: {'classifier': 'DecisionTree', 'max_features': 'sqrt', 'criterion': 'entropy', 'splitter': 'random'}. Best is trial 0 with value: 1.0.\u001b[0m\n",
            "\u001b[32m[I 2021-04-22 02:28:16,436]\u001b[0m Trial 21 finished with value: 1.0 and parameters: {'classifier': 'DecisionTree', 'max_features': 'sqrt', 'criterion': 'entropy', 'splitter': 'best'}. Best is trial 0 with value: 1.0.\u001b[0m\n",
            "\u001b[32m[I 2021-04-22 02:28:16,450]\u001b[0m Trial 22 finished with value: 1.0 and parameters: {'classifier': 'DecisionTree', 'max_features': 'auto', 'criterion': 'entropy', 'splitter': 'best'}. Best is trial 0 with value: 1.0.\u001b[0m\n",
            "\u001b[32m[I 2021-04-22 02:28:16,463]\u001b[0m Trial 23 finished with value: 1.0 and parameters: {'classifier': 'DecisionTree', 'max_features': 'auto', 'criterion': 'entropy', 'splitter': 'random'}. Best is trial 0 with value: 1.0.\u001b[0m\n",
            "\u001b[32m[I 2021-04-22 02:28:16,476]\u001b[0m Trial 24 finished with value: 1.0 and parameters: {'classifier': 'DecisionTree', 'max_features': 'sqrt', 'criterion': 'entropy', 'splitter': 'random'}. Best is trial 0 with value: 1.0.\u001b[0m\n",
            "\u001b[32m[I 2021-04-22 02:28:16,490]\u001b[0m Trial 25 finished with value: 1.0 and parameters: {'classifier': 'DecisionTree', 'max_features': 'auto', 'criterion': 'entropy', 'splitter': 'best'}. Best is trial 0 with value: 1.0.\u001b[0m\n",
            "\u001b[32m[I 2021-04-22 02:28:16,504]\u001b[0m Trial 26 finished with value: 1.0 and parameters: {'classifier': 'DecisionTree', 'max_features': 'auto', 'criterion': 'entropy', 'splitter': 'random'}. Best is trial 0 with value: 1.0.\u001b[0m\n",
            "\u001b[32m[I 2021-04-22 02:28:16,517]\u001b[0m Trial 27 finished with value: 1.0 and parameters: {'classifier': 'DecisionTree', 'max_features': 'sqrt', 'criterion': 'entropy', 'splitter': 'random'}. Best is trial 0 with value: 1.0.\u001b[0m\n",
            "\u001b[32m[I 2021-04-22 02:28:16,532]\u001b[0m Trial 28 finished with value: 1.0 and parameters: {'classifier': 'DecisionTree', 'max_features': 'auto', 'criterion': 'entropy', 'splitter': 'best'}. Best is trial 0 with value: 1.0.\u001b[0m\n",
            "\u001b[32m[I 2021-04-22 02:28:16,552]\u001b[0m Trial 29 finished with value: 0.7101449275362319 and parameters: {'classifier': 'KNN', 'n_neighbors': 93, 'weights': 'uniform', 'leaf_size': 99.75176624937963}. Best is trial 0 with value: 1.0.\u001b[0m\n",
            "\u001b[32m[I 2021-04-22 02:28:16,566]\u001b[0m Trial 30 finished with value: 1.0 and parameters: {'classifier': 'DecisionTree', 'max_features': 'sqrt', 'criterion': 'gini', 'splitter': 'random'}. Best is trial 0 with value: 1.0.\u001b[0m\n",
            "\u001b[32m[I 2021-04-22 02:28:16,580]\u001b[0m Trial 31 finished with value: 1.0 and parameters: {'classifier': 'DecisionTree', 'max_features': 'auto', 'criterion': 'entropy', 'splitter': 'random'}. Best is trial 0 with value: 1.0.\u001b[0m\n",
            "\u001b[32m[I 2021-04-22 02:28:16,594]\u001b[0m Trial 32 finished with value: 1.0 and parameters: {'classifier': 'DecisionTree', 'max_features': 'auto', 'criterion': 'entropy', 'splitter': 'random'}. Best is trial 0 with value: 1.0.\u001b[0m\n",
            "\u001b[32m[I 2021-04-22 02:28:16,609]\u001b[0m Trial 33 finished with value: 1.0 and parameters: {'classifier': 'DecisionTree', 'max_features': 'sqrt', 'criterion': 'gini', 'splitter': 'random'}. Best is trial 0 with value: 1.0.\u001b[0m\n",
            "\u001b[32m[I 2021-04-22 02:28:16,622]\u001b[0m Trial 34 finished with value: 1.0 and parameters: {'classifier': 'DecisionTree', 'max_features': 'auto', 'criterion': 'gini', 'splitter': 'best'}. Best is trial 0 with value: 1.0.\u001b[0m\n",
            "\u001b[32m[I 2021-04-22 02:28:16,638]\u001b[0m Trial 35 finished with value: 1.0 and parameters: {'classifier': 'DecisionTree', 'max_features': 'auto', 'criterion': 'gini', 'splitter': 'random'}. Best is trial 0 with value: 1.0.\u001b[0m\n",
            "\u001b[32m[I 2021-04-22 02:28:16,664]\u001b[0m Trial 36 finished with value: 0.9565217391304348 and parameters: {'classifier': 'KNN', 'n_neighbors': 3, 'weights': 'uniform', 'leaf_size': 5.187205491143795}. Best is trial 0 with value: 1.0.\u001b[0m\n",
            "\u001b[32m[I 2021-04-22 02:28:16,679]\u001b[0m Trial 37 finished with value: 1.0 and parameters: {'classifier': 'DecisionTree', 'max_features': 'sqrt', 'criterion': 'entropy', 'splitter': 'best'}. Best is trial 0 with value: 1.0.\u001b[0m\n",
            "\u001b[32m[I 2021-04-22 02:28:16,695]\u001b[0m Trial 38 finished with value: 1.0 and parameters: {'classifier': 'DecisionTree', 'max_features': 'auto', 'criterion': 'entropy', 'splitter': 'best'}. Best is trial 0 with value: 1.0.\u001b[0m\n",
            "\u001b[32m[I 2021-04-22 02:28:16,710]\u001b[0m Trial 39 finished with value: 1.0 and parameters: {'classifier': 'DecisionTree', 'max_features': 'sqrt', 'criterion': 'entropy', 'splitter': 'best'}. Best is trial 0 with value: 1.0.\u001b[0m\n",
            "\u001b[32m[I 2021-04-22 02:28:16,725]\u001b[0m Trial 40 finished with value: 1.0 and parameters: {'classifier': 'DecisionTree', 'max_features': 'auto', 'criterion': 'entropy', 'splitter': 'best'}. Best is trial 0 with value: 1.0.\u001b[0m\n",
            "\u001b[32m[I 2021-04-22 02:28:16,741]\u001b[0m Trial 41 finished with value: 1.0 and parameters: {'classifier': 'DecisionTree', 'max_features': 'sqrt', 'criterion': 'entropy', 'splitter': 'best'}. Best is trial 0 with value: 1.0.\u001b[0m\n",
            "\u001b[32m[I 2021-04-22 02:28:16,759]\u001b[0m Trial 42 finished with value: 1.0 and parameters: {'classifier': 'DecisionTree', 'max_features': 'auto', 'criterion': 'entropy', 'splitter': 'best'}. Best is trial 0 with value: 1.0.\u001b[0m\n",
            "\u001b[32m[I 2021-04-22 02:28:16,777]\u001b[0m Trial 43 finished with value: 1.0 and parameters: {'classifier': 'DecisionTree', 'max_features': 'auto', 'criterion': 'entropy', 'splitter': 'random'}. Best is trial 0 with value: 1.0.\u001b[0m\n",
            "\u001b[32m[I 2021-04-22 02:28:16,795]\u001b[0m Trial 44 finished with value: 1.0 and parameters: {'classifier': 'DecisionTree', 'max_features': 'auto', 'criterion': 'entropy', 'splitter': 'random'}. Best is trial 0 with value: 1.0.\u001b[0m\n",
            "\u001b[32m[I 2021-04-22 02:28:16,824]\u001b[0m Trial 45 finished with value: 1.0 and parameters: {'classifier': 'KNN', 'n_neighbors': 54, 'weights': 'distance', 'leaf_size': 40.18578334145973}. Best is trial 0 with value: 1.0.\u001b[0m\n",
            "\u001b[32m[I 2021-04-22 02:28:16,842]\u001b[0m Trial 46 finished with value: 1.0 and parameters: {'classifier': 'DecisionTree', 'max_features': 'sqrt', 'criterion': 'entropy', 'splitter': 'random'}. Best is trial 0 with value: 1.0.\u001b[0m\n",
            "\u001b[32m[I 2021-04-22 02:28:16,858]\u001b[0m Trial 47 finished with value: 1.0 and parameters: {'classifier': 'DecisionTree', 'max_features': 'sqrt', 'criterion': 'entropy', 'splitter': 'random'}. Best is trial 0 with value: 1.0.\u001b[0m\n",
            "\u001b[32m[I 2021-04-22 02:28:16,875]\u001b[0m Trial 48 finished with value: 1.0 and parameters: {'classifier': 'DecisionTree', 'max_features': 'auto', 'criterion': 'entropy', 'splitter': 'best'}. Best is trial 0 with value: 1.0.\u001b[0m\n",
            "\u001b[32m[I 2021-04-22 02:28:16,890]\u001b[0m Trial 49 finished with value: 1.0 and parameters: {'classifier': 'DecisionTree', 'max_features': 'auto', 'criterion': 'entropy', 'splitter': 'best'}. Best is trial 0 with value: 1.0.\u001b[0m\n",
            "\u001b[32m[I 2021-04-22 02:28:16,912]\u001b[0m Trial 50 finished with value: 1.0 and parameters: {'classifier': 'DecisionTree', 'max_features': 'sqrt', 'criterion': 'gini', 'splitter': 'random'}. Best is trial 0 with value: 1.0.\u001b[0m\n",
            "\u001b[32m[I 2021-04-22 02:28:16,928]\u001b[0m Trial 51 finished with value: 1.0 and parameters: {'classifier': 'DecisionTree', 'max_features': 'sqrt', 'criterion': 'gini', 'splitter': 'random'}. Best is trial 0 with value: 1.0.\u001b[0m\n",
            "\u001b[32m[I 2021-04-22 02:28:16,945]\u001b[0m Trial 52 finished with value: 1.0 and parameters: {'classifier': 'DecisionTree', 'max_features': 'log2', 'criterion': 'gini', 'splitter': 'random'}. Best is trial 0 with value: 1.0.\u001b[0m\n",
            "\u001b[32m[I 2021-04-22 02:28:16,961]\u001b[0m Trial 53 finished with value: 1.0 and parameters: {'classifier': 'DecisionTree', 'max_features': 'auto', 'criterion': 'gini', 'splitter': 'random'}. Best is trial 0 with value: 1.0.\u001b[0m\n",
            "\u001b[32m[I 2021-04-22 02:28:16,978]\u001b[0m Trial 54 finished with value: 1.0 and parameters: {'classifier': 'DecisionTree', 'max_features': 'sqrt', 'criterion': 'gini', 'splitter': 'random'}. Best is trial 0 with value: 1.0.\u001b[0m\n",
            "\u001b[32m[I 2021-04-22 02:28:16,994]\u001b[0m Trial 55 finished with value: 1.0 and parameters: {'classifier': 'DecisionTree', 'max_features': 'sqrt', 'criterion': 'gini', 'splitter': 'random'}. Best is trial 0 with value: 1.0.\u001b[0m\n",
            "\u001b[32m[I 2021-04-22 02:28:17,013]\u001b[0m Trial 56 finished with value: 1.0 and parameters: {'classifier': 'DecisionTree', 'max_features': 'auto', 'criterion': 'gini', 'splitter': 'random'}. Best is trial 0 with value: 1.0.\u001b[0m\n",
            "\u001b[32m[I 2021-04-22 02:28:17,031]\u001b[0m Trial 57 finished with value: 1.0 and parameters: {'classifier': 'KNN', 'n_neighbors': 39, 'weights': 'distance', 'leaf_size': 16.918437739300046}. Best is trial 0 with value: 1.0.\u001b[0m\n",
            "\u001b[32m[I 2021-04-22 02:28:17,049]\u001b[0m Trial 58 finished with value: 1.0 and parameters: {'classifier': 'DecisionTree', 'max_features': 'auto', 'criterion': 'gini', 'splitter': 'random'}. Best is trial 0 with value: 1.0.\u001b[0m\n",
            "\u001b[32m[I 2021-04-22 02:28:17,064]\u001b[0m Trial 59 finished with value: 1.0 and parameters: {'classifier': 'DecisionTree', 'max_features': 'auto', 'criterion': 'gini', 'splitter': 'random'}. Best is trial 0 with value: 1.0.\u001b[0m\n",
            "\u001b[32m[I 2021-04-22 02:28:17,201]\u001b[0m Trial 60 finished with value: 1.0 and parameters: {'classifier': 'RandomForest', 'n_estimators': 75, 'rf_max_depth': 4.584945459054195, 'max_features': 'auto'}. Best is trial 0 with value: 1.0.\u001b[0m\n",
            "\u001b[32m[I 2021-04-22 02:28:17,218]\u001b[0m Trial 61 finished with value: 1.0 and parameters: {'classifier': 'DecisionTree', 'max_features': 'auto', 'criterion': 'gini', 'splitter': 'best'}. Best is trial 0 with value: 1.0.\u001b[0m\n",
            "\u001b[32m[I 2021-04-22 02:28:17,234]\u001b[0m Trial 62 finished with value: 1.0 and parameters: {'classifier': 'DecisionTree', 'max_features': 'auto', 'criterion': 'gini', 'splitter': 'best'}. Best is trial 0 with value: 1.0.\u001b[0m\n",
            "\u001b[32m[I 2021-04-22 02:28:17,251]\u001b[0m Trial 63 finished with value: 1.0 and parameters: {'classifier': 'DecisionTree', 'max_features': 'sqrt', 'criterion': 'gini', 'splitter': 'best'}. Best is trial 0 with value: 1.0.\u001b[0m\n",
            "\u001b[32m[I 2021-04-22 02:28:17,270]\u001b[0m Trial 64 finished with value: 1.0 and parameters: {'classifier': 'DecisionTree', 'max_features': 'sqrt', 'criterion': 'gini', 'splitter': 'best'}. Best is trial 0 with value: 1.0.\u001b[0m\n",
            "\u001b[32m[I 2021-04-22 02:28:17,287]\u001b[0m Trial 65 finished with value: 1.0 and parameters: {'classifier': 'DecisionTree', 'max_features': 'log2', 'criterion': 'entropy', 'splitter': 'best'}. Best is trial 0 with value: 1.0.\u001b[0m\n",
            "\u001b[32m[I 2021-04-22 02:28:17,303]\u001b[0m Trial 66 finished with value: 1.0 and parameters: {'classifier': 'DecisionTree', 'max_features': 'auto', 'criterion': 'entropy', 'splitter': 'best'}. Best is trial 0 with value: 1.0.\u001b[0m\n",
            "\u001b[32m[I 2021-04-22 02:28:17,322]\u001b[0m Trial 67 finished with value: 1.0 and parameters: {'classifier': 'DecisionTree', 'max_features': 'sqrt', 'criterion': 'entropy', 'splitter': 'best'}. Best is trial 0 with value: 1.0.\u001b[0m\n",
            "\u001b[32m[I 2021-04-22 02:28:17,341]\u001b[0m Trial 68 finished with value: 1.0 and parameters: {'classifier': 'DecisionTree', 'max_features': 'sqrt', 'criterion': 'entropy', 'splitter': 'best'}. Best is trial 0 with value: 1.0.\u001b[0m\n",
            "\u001b[32m[I 2021-04-22 02:28:17,357]\u001b[0m Trial 69 finished with value: 1.0 and parameters: {'classifier': 'DecisionTree', 'max_features': 'sqrt', 'criterion': 'entropy', 'splitter': 'best'}. Best is trial 0 with value: 1.0.\u001b[0m\n",
            "\u001b[32m[I 2021-04-22 02:28:17,375]\u001b[0m Trial 70 finished with value: 1.0 and parameters: {'classifier': 'DecisionTree', 'max_features': 'sqrt', 'criterion': 'entropy', 'splitter': 'best'}. Best is trial 0 with value: 1.0.\u001b[0m\n",
            "\u001b[32m[I 2021-04-22 02:28:17,392]\u001b[0m Trial 71 finished with value: 1.0 and parameters: {'classifier': 'DecisionTree', 'max_features': 'auto', 'criterion': 'entropy', 'splitter': 'best'}. Best is trial 0 with value: 1.0.\u001b[0m\n",
            "\u001b[32m[I 2021-04-22 02:28:17,412]\u001b[0m Trial 72 finished with value: 1.0 and parameters: {'classifier': 'DecisionTree', 'max_features': 'log2', 'criterion': 'gini', 'splitter': 'random'}. Best is trial 0 with value: 1.0.\u001b[0m\n",
            "\u001b[32m[I 2021-04-22 02:28:17,429]\u001b[0m Trial 73 finished with value: 1.0 and parameters: {'classifier': 'DecisionTree', 'max_features': 'log2', 'criterion': 'entropy', 'splitter': 'random'}. Best is trial 0 with value: 1.0.\u001b[0m\n",
            "\u001b[32m[I 2021-04-22 02:28:17,446]\u001b[0m Trial 74 finished with value: 1.0 and parameters: {'classifier': 'DecisionTree', 'max_features': 'log2', 'criterion': 'gini', 'splitter': 'random'}. Best is trial 0 with value: 1.0.\u001b[0m\n",
            "\u001b[32m[I 2021-04-22 02:28:17,562]\u001b[0m Trial 75 finished with value: 1.0 and parameters: {'classifier': 'RandomForest', 'n_estimators': 65, 'rf_max_depth': 5.297418148672602, 'max_features': 'log2'}. Best is trial 0 with value: 1.0.\u001b[0m\n",
            "\u001b[32m[I 2021-04-22 02:28:17,581]\u001b[0m Trial 76 finished with value: 1.0 and parameters: {'classifier': 'DecisionTree', 'max_features': 'log2', 'criterion': 'gini', 'splitter': 'random'}. Best is trial 0 with value: 1.0.\u001b[0m\n",
            "\u001b[32m[I 2021-04-22 02:28:17,601]\u001b[0m Trial 77 finished with value: 1.0 and parameters: {'classifier': 'DecisionTree', 'max_features': 'sqrt', 'criterion': 'gini', 'splitter': 'random'}. Best is trial 0 with value: 1.0.\u001b[0m\n",
            "\u001b[32m[I 2021-04-22 02:28:17,622]\u001b[0m Trial 78 finished with value: 1.0 and parameters: {'classifier': 'DecisionTree', 'max_features': 'sqrt', 'criterion': 'gini', 'splitter': 'random'}. Best is trial 0 with value: 1.0.\u001b[0m\n",
            "\u001b[32m[I 2021-04-22 02:28:17,639]\u001b[0m Trial 79 finished with value: 1.0 and parameters: {'classifier': 'DecisionTree', 'max_features': 'sqrt', 'criterion': 'gini', 'splitter': 'random'}. Best is trial 0 with value: 1.0.\u001b[0m\n",
            "\u001b[32m[I 2021-04-22 02:28:17,665]\u001b[0m Trial 80 finished with value: 1.0 and parameters: {'classifier': 'KNN', 'n_neighbors': 33, 'weights': 'distance', 'leaf_size': 14.973836850452928}. Best is trial 0 with value: 1.0.\u001b[0m\n",
            "\u001b[32m[I 2021-04-22 02:28:17,685]\u001b[0m Trial 81 finished with value: 1.0 and parameters: {'classifier': 'KNN', 'n_neighbors': 60, 'weights': 'distance', 'leaf_size': 6.429543646824138}. Best is trial 0 with value: 1.0.\u001b[0m\n",
            "\u001b[32m[I 2021-04-22 02:28:17,708]\u001b[0m Trial 82 finished with value: 1.0 and parameters: {'classifier': 'KNN', 'n_neighbors': 30, 'weights': 'distance', 'leaf_size': 39.4928107725133}. Best is trial 0 with value: 1.0.\u001b[0m\n",
            "\u001b[32m[I 2021-04-22 02:28:17,732]\u001b[0m Trial 83 finished with value: 1.0 and parameters: {'classifier': 'KNN', 'n_neighbors': 72, 'weights': 'distance', 'leaf_size': 11.480536558508557}. Best is trial 0 with value: 1.0.\u001b[0m\n",
            "\u001b[32m[I 2021-04-22 02:28:17,876]\u001b[0m Trial 84 finished with value: 1.0 and parameters: {'classifier': 'RandomForest', 'n_estimators': 75, 'rf_max_depth': 5.0506289080344615, 'max_features': 'auto'}. Best is trial 0 with value: 1.0.\u001b[0m\n",
            "\u001b[32m[I 2021-04-22 02:28:18,039]\u001b[0m Trial 85 finished with value: 1.0 and parameters: {'classifier': 'RandomForest', 'n_estimators': 95, 'rf_max_depth': 3.8717305803160325, 'max_features': 'auto'}. Best is trial 0 with value: 1.0.\u001b[0m\n",
            "\u001b[32m[I 2021-04-22 02:28:18,151]\u001b[0m Trial 86 finished with value: 1.0 and parameters: {'classifier': 'RandomForest', 'n_estimators': 65, 'rf_max_depth': 2.0455027604325466, 'max_features': 'auto'}. Best is trial 0 with value: 1.0.\u001b[0m\n",
            "\u001b[32m[I 2021-04-22 02:28:18,301]\u001b[0m Trial 87 finished with value: 1.0 and parameters: {'classifier': 'RandomForest', 'n_estimators': 85, 'rf_max_depth': 7.118974750007225, 'max_features': 'auto'}. Best is trial 0 with value: 1.0.\u001b[0m\n",
            "\u001b[32m[I 2021-04-22 02:28:18,329]\u001b[0m Trial 88 finished with value: 0.9057971014492754 and parameters: {'classifier': 'KNN', 'n_neighbors': 21, 'weights': 'uniform', 'leaf_size': 31.78292022577132}. Best is trial 0 with value: 1.0.\u001b[0m\n",
            "\u001b[32m[I 2021-04-22 02:28:18,430]\u001b[0m Trial 89 finished with value: 1.0 and parameters: {'classifier': 'RandomForest', 'n_estimators': 55, 'rf_max_depth': 12.28137083485249, 'max_features': 'auto'}. Best is trial 0 with value: 1.0.\u001b[0m\n",
            "\u001b[32m[I 2021-04-22 02:28:18,451]\u001b[0m Trial 90 finished with value: 1.0 and parameters: {'classifier': 'KNN', 'n_neighbors': 45, 'weights': 'distance', 'leaf_size': 22.924235772945792}. Best is trial 0 with value: 1.0.\u001b[0m\n",
            "\u001b[32m[I 2021-04-22 02:28:18,471]\u001b[0m Trial 91 finished with value: 1.0 and parameters: {'classifier': 'DecisionTree', 'max_features': 'auto', 'criterion': 'gini', 'splitter': 'best'}. Best is trial 0 with value: 1.0.\u001b[0m\n",
            "\u001b[32m[I 2021-04-22 02:28:18,488]\u001b[0m Trial 92 finished with value: 1.0 and parameters: {'classifier': 'DecisionTree', 'max_features': 'auto', 'criterion': 'gini', 'splitter': 'best'}. Best is trial 0 with value: 1.0.\u001b[0m\n",
            "\u001b[32m[I 2021-04-22 02:28:18,505]\u001b[0m Trial 93 finished with value: 1.0 and parameters: {'classifier': 'DecisionTree', 'max_features': 'auto', 'criterion': 'gini', 'splitter': 'best'}. Best is trial 0 with value: 1.0.\u001b[0m\n",
            "\u001b[32m[I 2021-04-22 02:28:18,523]\u001b[0m Trial 94 finished with value: 1.0 and parameters: {'classifier': 'DecisionTree', 'max_features': 'auto', 'criterion': 'gini', 'splitter': 'best'}. Best is trial 0 with value: 1.0.\u001b[0m\n",
            "\u001b[32m[I 2021-04-22 02:28:18,539]\u001b[0m Trial 95 finished with value: 1.0 and parameters: {'classifier': 'DecisionTree', 'max_features': 'sqrt', 'criterion': 'gini', 'splitter': 'best'}. Best is trial 0 with value: 1.0.\u001b[0m\n",
            "\u001b[32m[I 2021-04-22 02:28:18,557]\u001b[0m Trial 96 finished with value: 1.0 and parameters: {'classifier': 'DecisionTree', 'max_features': 'sqrt', 'criterion': 'entropy', 'splitter': 'best'}. Best is trial 0 with value: 1.0.\u001b[0m\n",
            "\u001b[32m[I 2021-04-22 02:28:18,573]\u001b[0m Trial 97 finished with value: 1.0 and parameters: {'classifier': 'DecisionTree', 'max_features': 'sqrt', 'criterion': 'entropy', 'splitter': 'best'}. Best is trial 0 with value: 1.0.\u001b[0m\n",
            "\u001b[32m[I 2021-04-22 02:28:18,591]\u001b[0m Trial 98 finished with value: 1.0 and parameters: {'classifier': 'DecisionTree', 'max_features': 'sqrt', 'criterion': 'entropy', 'splitter': 'best'}. Best is trial 0 with value: 1.0.\u001b[0m\n",
            "\u001b[32m[I 2021-04-22 02:28:18,607]\u001b[0m Trial 99 finished with value: 1.0 and parameters: {'classifier': 'DecisionTree', 'max_features': 'sqrt', 'criterion': 'entropy', 'splitter': 'best'}. Best is trial 0 with value: 1.0.\u001b[0m\n"
          ],
          "name": "stderr"
        }
      ]
    },
    {
      "cell_type": "markdown",
      "metadata": {
        "id": "oOwWGg-2ajmF"
      },
      "source": [
        "A árvore de decisão obteve a melhor configuração e resultado entre os três classificadores, de acordo com o Optuna.\n",
        "No `trial 0` é possível observar a seguinte configuração de híperparâmetros:\n",
        "> Trial 0 finished with value: 1.0 and parameters: `{'classifier': 'DecisionTree', 'max_features': 'sqrt', 'criterion': 'entropy', 'splitter': 'best'}`. Best is trial 0 with value: 1.0."
      ]
    },
    {
      "cell_type": "markdown",
      "metadata": {
        "id": "n5QeptU4AgTE"
      },
      "source": [
        "> **Visualização e seleção de parâmetros otimizados**"
      ]
    },
    {
      "cell_type": "code",
      "metadata": {
        "colab": {
          "base_uri": "https://localhost:8080/"
        },
        "id": "UUZiYe1cAl-U",
        "outputId": "44a54529-8229-4b98-95b0-f4a487b21e9b"
      },
      "source": [
        "print(study.best_trial)"
      ],
      "execution_count": 127,
      "outputs": [
        {
          "output_type": "stream",
          "text": [
            "FrozenTrial(number=0, values=[1.0], datetime_start=datetime.datetime(2021, 4, 22, 2, 28, 15, 424026), datetime_complete=datetime.datetime(2021, 4, 22, 2, 28, 15, 441413), params={'classifier': 'DecisionTree', 'max_features': 'sqrt', 'criterion': 'entropy', 'splitter': 'best'}, distributions={'classifier': CategoricalDistribution(choices=('DecisionTree', 'KNN', 'RandomForest')), 'max_features': CategoricalDistribution(choices=('auto', 'sqrt', 'log2')), 'criterion': CategoricalDistribution(choices=('gini', 'entropy')), 'splitter': CategoricalDistribution(choices=('best', 'random'))}, user_attrs={}, system_attrs={}, intermediate_values={}, trial_id=0, state=TrialState.COMPLETE, value=None)\n"
          ],
          "name": "stdout"
        }
      ]
    },
    {
      "cell_type": "markdown",
      "metadata": {
        "id": "QpcyCMyi8j6J"
      },
      "source": [
        "#### **2ª Fase**\n",
        "> Revisão, reavaliação e ajuste\n",
        ">\n",
        "> Ferramenta: `mlflow`"
      ]
    },
    {
      "cell_type": "markdown",
      "metadata": {
        "id": "dGsDhwkj4y6m"
      },
      "source": [
        "##### **Decision Tree**"
      ]
    },
    {
      "cell_type": "markdown",
      "metadata": {
        "id": "yn34Mc9b98MG"
      },
      "source": [
        "> Revisando os parâmetros e métricas antes da avaliação e otimização do `optuna`"
      ]
    },
    {
      "cell_type": "code",
      "metadata": {
        "id": "Cw8_5p99iQDg",
        "colab": {
          "base_uri": "https://localhost:8080/"
        },
        "outputId": "be7df825-e3bf-4ff0-ed95-5fc8c89b4ee5"
      },
      "source": [
        "''' ls\n",
        "-l : lista permissões, número de entidades (se for diretório, mostra a quantidade de subdiretórios existentes dentro dele; se for arquivo, \n",
        "     mostra o número de referências que apontam para o arquivo), dono, grupo, tamanho do arquivo, data e hora da última atualização e o nome do arquivo.\n",
        "'''\n",
        "!ls -l mlruns/0/2c299f00399949e2a29a76c636687d95/params/\n",
        "!ls -l mlruns/0/2c299f00399949e2a29a76c636687d95/metrics/"
      ],
      "execution_count": 129,
      "outputs": [
        {
          "output_type": "stream",
          "text": [
            "total 12\n",
            "-rw-r--r-- 1 root root 1 Apr 22 02:26 max_depth\n",
            "-rw-r--r-- 1 root root 4 Apr 22 02:26 max_features\n",
            "-rw-r--r-- 1 root root 1 Apr 22 02:26 n_estimators\n",
            "total 36\n",
            "-rw-r--r-- 1 root root 35 Apr 22 02:26 'accuracy score'\n",
            "-rw-r--r-- 1 root root 35 Apr 22 02:26 'f1_macro score'\n",
            "-rw-r--r-- 1 root root 35 Apr 22 02:26 'f1_micro score'\n",
            "-rw-r--r-- 1 root root 21 Apr 22 02:26 'f1 score'\n",
            "-rw-r--r-- 1 root root 34 Apr 22 02:26 'f1_weighted score'\n",
            "-rw-r--r-- 1 root root 37 Apr 22 02:26 'mean absolute error'\n",
            "-rw-r--r-- 1 root root 36 Apr 22 02:26 'mean squared error'\n",
            "-rw-r--r-- 1 root root 35 Apr 22 02:26 'precision score'\n",
            "-rw-r--r-- 1 root root 35 Apr 22 02:26 'recall score'\n"
          ],
          "name": "stdout"
        }
      ]
    },
    {
      "cell_type": "code",
      "metadata": {
        "id": "v5eRlOFU-r3V",
        "colab": {
          "base_uri": "https://localhost:8080/"
        },
        "outputId": "0f075f38-cd3a-4ed5-ee42-a9362daa3320"
      },
      "source": [
        "# !less - displays a file content\n",
        "!less -n mlruns/0/2c299f00399949e2a29a76c636687d95/metrics/accuracy\\ score"
      ],
      "execution_count": 131,
      "outputs": [
        {
          "output_type": "stream",
          "text": [
            "1619058396457 0.9782608695652174 0\n",
            "\u001b[K\u001b[7m(END)\u001b[m\u001b[K^C\n"
          ],
          "name": "stdout"
        }
      ]
    },
    {
      "cell_type": "markdown",
      "metadata": {
        "id": "LpxodJ8Z-LbX"
      },
      "source": [
        "> Aplicando modificações indicadas pelo `optuna`"
      ]
    },
    {
      "cell_type": "markdown",
      "metadata": {
        "id": "kIimpYCE418k"
      },
      "source": [
        "##### **KNN**"
      ]
    },
    {
      "cell_type": "markdown",
      "metadata": {
        "id": "wAzjzXYIdOfN"
      },
      "source": [
        "> Revisando os parâmetros e métricas antes da avaliação e otimização do `optuna`"
      ]
    },
    {
      "cell_type": "code",
      "metadata": {
        "colab": {
          "base_uri": "https://localhost:8080/"
        },
        "id": "i8CO5kXfdOfO",
        "outputId": "be7df825-e3bf-4ff0-ed95-5fc8c89b4ee5"
      },
      "source": [
        "''' ls\n",
        "-l : lista permissões, número de entidades (se for diretório, mostra a quantidade de subdiretórios existentes dentro dele; se for arquivo, \n",
        "     mostra o número de referências que apontam para o arquivo), dono, grupo, tamanho do arquivo, data e hora da última atualização e o nome do arquivo.\n",
        "'''\n",
        "!ls -l mlruns/0/2c299f00399949e2a29a76c636687d95/params/\n",
        "!ls -l mlruns/0/2c299f00399949e2a29a76c636687d95/metrics/"
      ],
      "execution_count": null,
      "outputs": [
        {
          "output_type": "stream",
          "text": [
            "total 12\n",
            "-rw-r--r-- 1 root root 1 Apr 22 02:26 max_depth\n",
            "-rw-r--r-- 1 root root 4 Apr 22 02:26 max_features\n",
            "-rw-r--r-- 1 root root 1 Apr 22 02:26 n_estimators\n",
            "total 36\n",
            "-rw-r--r-- 1 root root 35 Apr 22 02:26 'accuracy score'\n",
            "-rw-r--r-- 1 root root 35 Apr 22 02:26 'f1_macro score'\n",
            "-rw-r--r-- 1 root root 35 Apr 22 02:26 'f1_micro score'\n",
            "-rw-r--r-- 1 root root 21 Apr 22 02:26 'f1 score'\n",
            "-rw-r--r-- 1 root root 34 Apr 22 02:26 'f1_weighted score'\n",
            "-rw-r--r-- 1 root root 37 Apr 22 02:26 'mean absolute error'\n",
            "-rw-r--r-- 1 root root 36 Apr 22 02:26 'mean squared error'\n",
            "-rw-r--r-- 1 root root 35 Apr 22 02:26 'precision score'\n",
            "-rw-r--r-- 1 root root 35 Apr 22 02:26 'recall score'\n"
          ],
          "name": "stdout"
        }
      ]
    },
    {
      "cell_type": "code",
      "metadata": {
        "colab": {
          "base_uri": "https://localhost:8080/"
        },
        "id": "9mi4NaOsdOfO",
        "outputId": "0f075f38-cd3a-4ed5-ee42-a9362daa3320"
      },
      "source": [
        "# !less - displays a file content\n",
        "!less -n mlruns/0/2c299f00399949e2a29a76c636687d95/metrics/accuracy\\ score"
      ],
      "execution_count": null,
      "outputs": [
        {
          "output_type": "stream",
          "text": [
            "1619058396457 0.9782608695652174 0\n",
            "\u001b[K\u001b[7m(END)\u001b[m\u001b[K^C\n"
          ],
          "name": "stdout"
        }
      ]
    },
    {
      "cell_type": "markdown",
      "metadata": {
        "id": "JddUIScWdOfO"
      },
      "source": [
        "> Aplicando modificações indicadas pelo `optuna`"
      ]
    },
    {
      "cell_type": "markdown",
      "metadata": {
        "id": "-WV9gbCLSDZ5"
      },
      "source": [
        "Melhores valores estimados\n",
        "\n",
        "*   n_neighbors: 14\n",
        "*   weights: 'distance'\n",
        "*   leaf_size : 11"
      ]
    },
    {
      "cell_type": "code",
      "metadata": {
        "id": "8zh9WrsUS9Pz"
      },
      "source": [
        "from sklearn.neighbors  import KNeighborsClassifier  # 1. escolha da técnica\n",
        "Tunned_KNNmodel = KNeighborsClassifier(n_neighbors=13, weights='distance',leaf_size=11)        # 2. instanciação do modelo\n",
        "Tunned_KNNmodel.fit(Xtrain, Ytrain)                          # 3. criação do modelo\n",
        "TunnedY_KNNmodel_test =  Tunned_KNNmodel.predict(Xtest)            # 4. predição com dados de teste\n",
        "TunnedY_KNNmodel_train = Tunned_KNNmodel.predict(Xtrain)           # 5. predição com dados de treino "
      ],
      "execution_count": null,
      "outputs": []
    },
    {
      "cell_type": "code",
      "metadata": {
        "colab": {
          "base_uri": "https://localhost:8080/"
        },
        "id": "Mx7Hdl7WTar1",
        "outputId": "7a30cfe4-b602-4e4c-b796-d5de4ed66fb0"
      },
      "source": [
        "print(\"ACC TRAINING:\" + str(accuracy_score(Ytrain, TunnedY_KNNmodel_train)))\n",
        "print(\"ACC TEST:\" + str(accuracy_score(Ytest, TunnedY_KNNmodel_test)))"
      ],
      "execution_count": null,
      "outputs": [
        {
          "output_type": "stream",
          "text": [
            "ACC TRAINING:1.0\n",
            "ACC TEST:0.9420289855072463\n"
          ],
          "name": "stdout"
        }
      ]
    },
    {
      "cell_type": "markdown",
      "metadata": {
        "id": "9Rmg3ucSTntx"
      },
      "source": [
        "O modelo mostrou uma melhora de ~1,4% no teste após a otimização, passando de uma acurácia de 92,8% para 94,2%\n",
        "\n",
        "A acurácia de treinamento se manteve fixa em 100%"
      ]
    },
    {
      "cell_type": "code",
      "metadata": {
        "id": "w7hUU4-9F9gQ"
      },
      "source": [
        "if __name__ == \"__main__\":\n",
        "    warnings.filterwarnings(\"ignore\")\n",
        "    np.random.seed(40)\n",
        "\n",
        "    with mlflow.start_run():\n",
        "        mlflow.log_param(\"alpha\", alpha)\n",
        "        mlflow.log_param(\"l1_ratio\", l1_ratio)\n",
        "        mlflow.log_metric(\"accuracy score\", tree_test_acc)\n",
        "        mlflow.log_metric(\"f1 score\", tree_test_f1)\n",
        "        mlflow.log_metric(\"f1_macro score\", tree_test_f1_macro)\n",
        "        mlflow.log_metric(\"f1_micro score\", tree_test_f1_micro)\n",
        "        mlflow.log_metric(\"f1_weighted score\", tree_test_f1_weighted)\n",
        "        mlflow.log_metric(\"precision score\", tree_test_precision)\n",
        "        mlflow.log_metric(\"recall score\", tree_test_recall)\n",
        "        mlflow.log_metric(\"mean squared error\", tree_test_mse)\n",
        "        mlflow.log_metric(\"mean absolute error\", tree_test_mae)        \n",
        "\n",
        "        tracking_url_type_store = urlparse(mlflow.get_tracking_uri()).scheme\n",
        "\n",
        "        # Model registry does not work with file store\n",
        "        if tracking_url_type_store != \"file\":\n",
        "            # Register the model\n",
        "            mlflow.sklearn.log_model(NBmodel, \"model\", registered_model_name=\"NaiveBayes\")\n",
        "        else:\n",
        "            mlflow.sklearn.log_model(NBmodel, \"model\")"
      ],
      "execution_count": null,
      "outputs": []
    },
    {
      "cell_type": "markdown",
      "metadata": {
        "id": "mAKdnjmG4qvj"
      },
      "source": [
        "##### **Random Forest**"
      ]
    },
    {
      "cell_type": "markdown",
      "metadata": {
        "id": "c6HB6cRGdJ_w"
      },
      "source": [
        "> Revisando os parâmetros e métricas antes da avaliação e otimização do `optuna`"
      ]
    },
    {
      "cell_type": "code",
      "metadata": {
        "colab": {
          "base_uri": "https://localhost:8080/"
        },
        "id": "MObqPBXGdJ_w",
        "outputId": "be7df825-e3bf-4ff0-ed95-5fc8c89b4ee5"
      },
      "source": [
        "''' ls\n",
        "-l : lista permissões, número de entidades (se for diretório, mostra a quantidade de subdiretórios existentes dentro dele; se for arquivo, \n",
        "     mostra o número de referências que apontam para o arquivo), dono, grupo, tamanho do arquivo, data e hora da última atualização e o nome do arquivo.\n",
        "'''\n",
        "!ls -l mlruns/0/2c299f00399949e2a29a76c636687d95/params/\n",
        "!ls -l mlruns/0/2c299f00399949e2a29a76c636687d95/metrics/"
      ],
      "execution_count": null,
      "outputs": [
        {
          "output_type": "stream",
          "text": [
            "total 12\n",
            "-rw-r--r-- 1 root root 1 Apr 22 02:26 max_depth\n",
            "-rw-r--r-- 1 root root 4 Apr 22 02:26 max_features\n",
            "-rw-r--r-- 1 root root 1 Apr 22 02:26 n_estimators\n",
            "total 36\n",
            "-rw-r--r-- 1 root root 35 Apr 22 02:26 'accuracy score'\n",
            "-rw-r--r-- 1 root root 35 Apr 22 02:26 'f1_macro score'\n",
            "-rw-r--r-- 1 root root 35 Apr 22 02:26 'f1_micro score'\n",
            "-rw-r--r-- 1 root root 21 Apr 22 02:26 'f1 score'\n",
            "-rw-r--r-- 1 root root 34 Apr 22 02:26 'f1_weighted score'\n",
            "-rw-r--r-- 1 root root 37 Apr 22 02:26 'mean absolute error'\n",
            "-rw-r--r-- 1 root root 36 Apr 22 02:26 'mean squared error'\n",
            "-rw-r--r-- 1 root root 35 Apr 22 02:26 'precision score'\n",
            "-rw-r--r-- 1 root root 35 Apr 22 02:26 'recall score'\n"
          ],
          "name": "stdout"
        }
      ]
    },
    {
      "cell_type": "code",
      "metadata": {
        "colab": {
          "base_uri": "https://localhost:8080/"
        },
        "id": "eBVnWvRxdJ_x",
        "outputId": "0f075f38-cd3a-4ed5-ee42-a9362daa3320"
      },
      "source": [
        "# !less - displays a file content\n",
        "!less -n mlruns/0/2c299f00399949e2a29a76c636687d95/metrics/accuracy\\ score"
      ],
      "execution_count": null,
      "outputs": [
        {
          "output_type": "stream",
          "text": [
            "1619058396457 0.9782608695652174 0\n",
            "\u001b[K\u001b[7m(END)\u001b[m\u001b[K^C\n"
          ],
          "name": "stdout"
        }
      ]
    },
    {
      "cell_type": "markdown",
      "metadata": {
        "id": "HvfSOS5edJ_x"
      },
      "source": [
        "> Aplicando modificações indicadas pelo `optuna`"
      ]
    },
    {
      "cell_type": "markdown",
      "metadata": {
        "id": "6nv36sO0N5Gw"
      },
      "source": [
        "Melhores valores estimados\n",
        "\n",
        "*   n_estimators: 520\n",
        "*   max_depth: 43\n",
        "*   max_features : 'auto'"
      ]
    },
    {
      "cell_type": "code",
      "metadata": {
        "id": "GdDD0cDpPPSU"
      },
      "source": [
        "from sklearn.ensemble  import RandomForestClassifier  # 1. escolha da técnica\n",
        "Tunned_RFmodel = RandomForestClassifier(n_estimators=520, max_depth= 43, max_features='auto')     # 2. instanciação do modelo\n",
        "Tunned_RFmodel.fit(Xtrain, Ytrain)                           # 3. criação do modelo\n",
        "TunnedY_RFmodel_test =  Tunned_RFmodel.predict(Xtest)              # 4. predição com dados de teste\n",
        "TunnedY_RFmodel_train = Tunned_RFmodel.predict(Xtrain)             # 5. predição com dados de treino "
      ],
      "execution_count": null,
      "outputs": []
    },
    {
      "cell_type": "code",
      "metadata": {
        "colab": {
          "base_uri": "https://localhost:8080/"
        },
        "id": "Ou10oxtiPP1q",
        "outputId": "edda8f97-4605-4072-f8fa-67de9d183d66"
      },
      "source": [
        "from sklearn.metrics import classification_report, confusion_matrix, accuracy_score\n",
        "\n",
        "print('Training')\n",
        "print(classification_report(Ytrain,TunnedY_RFmodel_train))\n",
        "\n",
        "print('Test')\n",
        "print(classification_report(Ytest,TunnedY_RFmodel_test))"
      ],
      "execution_count": null,
      "outputs": [
        {
          "output_type": "stream",
          "text": [
            "Training\n",
            "              precision    recall  f1-score   support\n",
            "\n",
            "           0       1.00      1.00      1.00        86\n",
            "           1       1.00      1.00      1.00       282\n",
            "           2       1.00      1.00      1.00        33\n",
            "           3       1.00      1.00      1.00         4\n",
            "           4       1.00      1.00      1.00         7\n",
            "\n",
            "    accuracy                           1.00       412\n",
            "   macro avg       1.00      1.00      1.00       412\n",
            "weighted avg       1.00      1.00      1.00       412\n",
            "\n",
            "Test\n",
            "              precision    recall  f1-score   support\n",
            "\n",
            "           0       1.00      1.00      1.00        30\n",
            "           1       1.00      1.00      1.00        97\n",
            "           2       1.00      1.00      1.00        11\n",
            "\n",
            "    accuracy                           1.00       138\n",
            "   macro avg       1.00      1.00      1.00       138\n",
            "weighted avg       1.00      1.00      1.00       138\n",
            "\n"
          ],
          "name": "stdout"
        }
      ]
    },
    {
      "cell_type": "code",
      "metadata": {
        "colab": {
          "base_uri": "https://localhost:8080/"
        },
        "id": "zOhmYfQyUoWe",
        "outputId": "e5c0a029-b560-401a-8e90-312620a11385"
      },
      "source": [
        "print(\"Antes do tunning\")\n",
        "print(\"ACC TRAINING:\" + str(accuracy_score(Ytrain, Y_RFmodel_train)))\n",
        "print(\"ACC TEST:\" + str(accuracy_score(Ytest, Y_RFmodel_test)))\n",
        "\n",
        "print(\"Depois do tunning\")\n",
        "print(\"ACC TRAINING:\" + str(accuracy_score(Ytrain, TunnedY_RFmodel_train)))\n",
        "print(\"ACC TEST:\" + str(accuracy_score(Ytest, TunnedY_RFmodel_test)))\n"
      ],
      "execution_count": null,
      "outputs": [
        {
          "output_type": "stream",
          "text": [
            "Antes do tunning\n",
            "ACC TRAINING:1.0\n",
            "ACC TEST:0.9927536231884058\n",
            "Depois do tunning\n",
            "ACC TRAINING:1.0\n",
            "ACC TEST:1.0\n"
          ],
          "name": "stdout"
        }
      ]
    },
    {
      "cell_type": "markdown",
      "metadata": {
        "id": "yQVC1wUFUch6"
      },
      "source": [
        "O modelo mostrou uma melhora de ~0,7% no teste após a otimização, passando de uma acurácia de 99,3% para 100%\n",
        "\n",
        "A acurácia de treinamento se manteve fixa em 100%"
      ]
    },
    {
      "cell_type": "markdown",
      "metadata": {
        "id": "iZuq_53cGFE2"
      },
      "source": [
        "> `MLflow` pós-otimização"
      ]
    },
    {
      "cell_type": "code",
      "metadata": {
        "id": "WnCFXkRbGDVn"
      },
      "source": [
        "if __name__ == \"__main__\":\n",
        "    warnings.filterwarnings(\"ignore\")\n",
        "    np.random.seed(40)\n",
        "\n",
        "    with mlflow.start_run():\n",
        "        mlflow.log_param(\"alpha\", alpha)\n",
        "        mlflow.log_param(\"l1_ratio\", l1_ratio)\n",
        "        mlflow.log_metric(\"accuracy score\", tree_test_acc)\n",
        "        mlflow.log_metric(\"f1 score\", tree_test_f1)\n",
        "        mlflow.log_metric(\"f1_macro score\", tree_test_f1_macro)\n",
        "        mlflow.log_metric(\"f1_micro score\", tree_test_f1_micro)\n",
        "        mlflow.log_metric(\"f1_weighted score\", tree_test_f1_weighted)\n",
        "        mlflow.log_metric(\"precision score\", tree_test_precision)\n",
        "        mlflow.log_metric(\"recall score\", tree_test_recall)\n",
        "        mlflow.log_metric(\"mean squared error\", tree_test_mse)\n",
        "        mlflow.log_metric(\"mean absolute error\", tree_test_mae)        \n",
        "\n",
        "        tracking_url_type_store = urlparse(mlflow.get_tracking_uri()).scheme\n",
        "\n",
        "        # Model registry does not work with file store\n",
        "        if tracking_url_type_store != \"file\":\n",
        "            # Register the model\n",
        "            mlflow.sklearn.log_model(NBmodel, \"model\", registered_model_name=\"NaiveBayes\")\n",
        "        else:\n",
        "            mlflow.sklearn.log_model(NBmodel, \"model\")"
      ],
      "execution_count": null,
      "outputs": []
    }
  ]
}