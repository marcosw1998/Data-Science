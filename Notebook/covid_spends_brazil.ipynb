{
  "nbformat": 4,
  "nbformat_minor": 0,
  "metadata": {
    "colab": {
      "name": "covid_spends_brazil.ipynb",
      "provenance": [],
      "include_colab_link": true
    },
    "kernelspec": {
      "name": "python3",
      "display_name": "Python 3"
    }
  },
  "cells": [
    {
      "cell_type": "markdown",
      "metadata": {
        "id": "view-in-github",
        "colab_type": "text"
      },
      "source": [
        "<a href=\"https://colab.research.google.com/github/marcosw1998/Data-Science/blob/main-igor/Notebook/covid_spends_brazil.ipynb\" target=\"_parent\"><img src=\"https://colab.research.google.com/assets/colab-badge.svg\" alt=\"Open In Colab\"/></a>"
      ]
    },
    {
      "cell_type": "markdown",
      "metadata": {
        "id": "2RWUvaojnu30"
      },
      "source": [
        "# **Análise dos custos do governo de Pernambuco - BR em relação à Covid-19**\n",
        "* Projeto corresponde a entrega parcial para avaliação na cadeira eletiva IF697 - Intro. a Ciência dos Dados\n",
        "* Autores: Igor Silva e Marcos Cavalcanti\n",
        "* Conjunto de dados públicos retirados das seguintes fontes:\n",
        "  * [Portal da Transparência TCU](http://www.portaltransparencia.gov.br/coronavirus)\n",
        "  * [Prefeitura do Recife](http://dados.recife.pe.gov.br/dataset?tags=sa%C3%BAde)\n",
        "  * [Brasil.io](https://brasil.io/dataset/covid19/caso_full/)\n",
        "\n"
      ]
    },
    {
      "cell_type": "markdown",
      "metadata": {
        "id": "yMkF45UHR9sg"
      },
      "source": [
        "## **Por quê o tema?**\n",
        "\n",
        "* Interesse em entender e expor de forma clara os gastos públicos\n",
        "* Analisar distribuição de gastos\n",
        "* Covis-19 é um tema importante e merece muita atenção, pois tem feito muitas vítimas e mudado a forma como a sociedade pensa e se organiza\n",
        "* Entender a distribuição de gastos é uma boa forma de tentar corrigir erros e minimizar danos futuros na economia e na sociedade"
      ]
    },
    {
      "cell_type": "markdown",
      "metadata": {
        "id": "nUSfHSb5xbcu"
      },
      "source": [
        "## **Carregando as bibliotecas**\n",
        "\n",
        "  * Utilizaremos a biblioteca ***`Pandas`*** para trabalhar sobre os dados  e a biblioteca ***`Numpy`*** para operações sobre os datasets.\n",
        "  \n",
        "\n"
      ]
    },
    {
      "cell_type": "code",
      "metadata": {
        "id": "qSJ4OiBLyBUd"
      },
      "source": [
        "import numpy as np\n",
        "import pandas as pd"
      ],
      "execution_count": null,
      "outputs": []
    },
    {
      "cell_type": "markdown",
      "metadata": {
        "id": "NXlClZzPMhZX"
      },
      "source": [
        "## **Carregando os dados**\n",
        "\n",
        "  * Utilizaremos a lib ***`requests`*** para carregar os dados em formato csv e em seguida convertê-los em JSON\n",
        "  * Referência: https://www.nylas.com/blog/use-python-requests-module-rest-apis/ \n",
        "  * Instalação, caso o python não tenha instalado nativamente:\n",
        "     ```\n",
        "      !pip install requests\n",
        "      ```\n",
        "\n"
      ]
    },
    {
      "cell_type": "code",
      "metadata": {
        "id": "3BkP6Vs6NFaO"
      },
      "source": [
        "# !pip install requests"
      ],
      "execution_count": null,
      "outputs": []
    },
    {
      "cell_type": "markdown",
      "metadata": {
        "id": "UiU31eirNa9-"
      },
      "source": [
        "### Portal da transparência\n",
        "\n",
        "* O portal da transparência permite que sejam baixados apenas 1000 registros por vez, portanto decidimos por baixar 2 datasets diferentes e depois fazermos a junção. Os dados são referentes a algumas cidades de Pernambuco \n",
        "(Recife, Jaboatão, Olinda, Paulista, Caruaru, Garanhuns, Petrolina, Arcoverde, Serra Talhada, Buíque)"
      ]
    },
    {
      "cell_type": "code",
      "metadata": {
        "id": "P2LLyC3CNM-9"
      },
      "source": [
        "invest_covidPe = pd.read_csv(\"https://raw.githubusercontent.com/marcosw1998/Data-Science/main-mwac/Datasets/covid-pe.csv\",encoding = \"utf-8\")\n",
        "invest_covidPe2 = pd.read_csv(\"https://raw.githubusercontent.com/marcosw1998/Data-Science/main-mwac/Datasets/transferencias_coronavirus.csv\",encoding = \"utf-8\")"
      ],
      "execution_count": null,
      "outputs": []
    },
    {
      "cell_type": "code",
      "metadata": {
        "colab": {
          "base_uri": "https://localhost:8080/"
        },
        "id": "cw8ZAqtszcX-",
        "outputId": "ca4789a0-e793-44fb-b947-a259be397a86"
      },
      "source": [
        "#Validando os dados do dataset invest_covidPe\n",
        "print('Dataset 1',invest_covidPe.shape)\n",
        "invest_covidPe.sort_values(\"Município\").head()"
      ],
      "execution_count": null,
      "outputs": [
        {
          "output_type": "stream",
          "text": [
            "Dataset 1 (561, 12)\n"
          ],
          "name": "stdout"
        },
        {
          "output_type": "execute_result",
          "data": {
            "text/html": [
              "<div>\n",
              "<style scoped>\n",
              "    .dataframe tbody tr th:only-of-type {\n",
              "        vertical-align: middle;\n",
              "    }\n",
              "\n",
              "    .dataframe tbody tr th {\n",
              "        vertical-align: top;\n",
              "    }\n",
              "\n",
              "    .dataframe thead th {\n",
              "        text-align: right;\n",
              "    }\n",
              "</style>\n",
              "<table border=\"1\" class=\"dataframe\">\n",
              "  <thead>\n",
              "    <tr style=\"text-align: right;\">\n",
              "      <th></th>\n",
              "      <th>Mês/Ano</th>\n",
              "      <th>Tipo</th>\n",
              "      <th>Tipo de Favorecido</th>\n",
              "      <th>UF</th>\n",
              "      <th>Nome do Favorecido</th>\n",
              "      <th>CPF/CNPJ</th>\n",
              "      <th>Município</th>\n",
              "      <th>Função</th>\n",
              "      <th>Programa Orçamentário</th>\n",
              "      <th>Ação Orçamentária</th>\n",
              "      <th>Linguagem Cidadã</th>\n",
              "      <th>Valor Transferido</th>\n",
              "    </tr>\n",
              "  </thead>\n",
              "  <tbody>\n",
              "    <tr>\n",
              "      <th>182</th>\n",
              "      <td>nov/20</td>\n",
              "      <td>Legais. Voluntárias e Específicas</td>\n",
              "      <td>Fundo Público</td>\n",
              "      <td>PE</td>\n",
              "      <td>FUNDO MUNICIPAL DE SAUDE</td>\n",
              "      <td>11.371.082/0001-05</td>\n",
              "      <td>CARUARU</td>\n",
              "      <td>Saúde</td>\n",
              "      <td>ATENCAO ESPECIALIZADA A SAUDE</td>\n",
              "      <td>ENFRENTAMENTO DA EMERGENCIA DE SAUDE PUBLICA D...</td>\n",
              "      <td>Sem informação</td>\n",
              "      <td>486.515.00</td>\n",
              "    </tr>\n",
              "    <tr>\n",
              "      <th>178</th>\n",
              "      <td>nov/20</td>\n",
              "      <td>Legais. Voluntárias e Específicas</td>\n",
              "      <td>Entidades Sem Fins Lucrativos</td>\n",
              "      <td>PE</td>\n",
              "      <td>ASSOCICAO DE PAIS E MESTRES</td>\n",
              "      <td>11.252.224/0001-07</td>\n",
              "      <td>CARUARU</td>\n",
              "      <td>Educação</td>\n",
              "      <td>EDUCACAO BASICA DE QUALIDADE</td>\n",
              "      <td>DINHEIRO DIRETO NA ESCOLA PARA A EDUCACAO BASICA</td>\n",
              "      <td>PDDE</td>\n",
              "      <td>7.897.02</td>\n",
              "    </tr>\n",
              "    <tr>\n",
              "      <th>179</th>\n",
              "      <td>nov/20</td>\n",
              "      <td>Legais. Voluntárias e Específicas</td>\n",
              "      <td>Entidades Sem Fins Lucrativos</td>\n",
              "      <td>PE</td>\n",
              "      <td>CONSELHO ESCOLAR MARIA DO SOCORRO DE FREITAS</td>\n",
              "      <td>02.021.769/0001-11</td>\n",
              "      <td>CARUARU</td>\n",
              "      <td>Educação</td>\n",
              "      <td>EDUCACAO BASICA DE QUALIDADE</td>\n",
              "      <td>DINHEIRO DIRETO NA ESCOLA PARA A EDUCACAO BASICA</td>\n",
              "      <td>PDDE</td>\n",
              "      <td>2.837.48</td>\n",
              "    </tr>\n",
              "    <tr>\n",
              "      <th>87</th>\n",
              "      <td>nov/20</td>\n",
              "      <td>Legais. Voluntárias e Específicas</td>\n",
              "      <td>Entidades Sem Fins Lucrativos</td>\n",
              "      <td>PE</td>\n",
              "      <td>CONSELHO ESCOLAR DOM BERNARDINO MARCHIO</td>\n",
              "      <td>34.179.420/0001-07</td>\n",
              "      <td>CARUARU</td>\n",
              "      <td>Educação</td>\n",
              "      <td>EDUCACAO BASICA DE QUALIDADE</td>\n",
              "      <td>DINHEIRO DIRETO NA ESCOLA PARA A EDUCACAO BASICA</td>\n",
              "      <td>PDDE</td>\n",
              "      <td>8.427.56</td>\n",
              "    </tr>\n",
              "    <tr>\n",
              "      <th>181</th>\n",
              "      <td>nov/20</td>\n",
              "      <td>Legais. Voluntárias e Específicas</td>\n",
              "      <td>Entidades Sem Fins Lucrativos</td>\n",
              "      <td>PE</td>\n",
              "      <td>UNIDADE EXECUTORA MAJOR DR.SINVAL</td>\n",
              "      <td>11.441.171/0001-72</td>\n",
              "      <td>CARUARU</td>\n",
              "      <td>Educação</td>\n",
              "      <td>EDUCACAO BASICA DE QUALIDADE</td>\n",
              "      <td>DINHEIRO DIRETO NA ESCOLA PARA A EDUCACAO BASICA</td>\n",
              "      <td>PDDE</td>\n",
              "      <td>2.274.59</td>\n",
              "    </tr>\n",
              "  </tbody>\n",
              "</table>\n",
              "</div>"
            ],
            "text/plain": [
              "    Mês/Ano  ... Valor Transferido\n",
              "182  nov/20  ...        486.515.00\n",
              "178  nov/20  ...          7.897.02\n",
              "179  nov/20  ...          2.837.48\n",
              "87   nov/20  ...          8.427.56\n",
              "181  nov/20  ...          2.274.59\n",
              "\n",
              "[5 rows x 12 columns]"
            ]
          },
          "metadata": {
            "tags": []
          },
          "execution_count": 86
        }
      ]
    },
    {
      "cell_type": "code",
      "metadata": {
        "colab": {
          "base_uri": "https://localhost:8080/"
        },
        "id": "GejXSMaUzemV",
        "outputId": "efdedfc2-52c7-419b-c4db-9b4837e7dc1f"
      },
      "source": [
        "#Validando os dados do dataset invest_covidPe2\n",
        "print('Dataset 2',invest_covidPe2.shape)\n",
        "invest_covidPe2.sort_values(\"Município\").head()"
      ],
      "execution_count": null,
      "outputs": [
        {
          "output_type": "stream",
          "text": [
            "Dataset 2 (140, 10)\n"
          ],
          "name": "stdout"
        },
        {
          "output_type": "execute_result",
          "data": {
            "text/html": [
              "<div>\n",
              "<style scoped>\n",
              "    .dataframe tbody tr th:only-of-type {\n",
              "        vertical-align: middle;\n",
              "    }\n",
              "\n",
              "    .dataframe tbody tr th {\n",
              "        vertical-align: top;\n",
              "    }\n",
              "\n",
              "    .dataframe thead th {\n",
              "        text-align: right;\n",
              "    }\n",
              "</style>\n",
              "<table border=\"1\" class=\"dataframe\">\n",
              "  <thead>\n",
              "    <tr style=\"text-align: right;\">\n",
              "      <th></th>\n",
              "      <th>Mês/Ano</th>\n",
              "      <th>Tipo</th>\n",
              "      <th>Ação Orçamentária</th>\n",
              "      <th>Programa Orçamentário</th>\n",
              "      <th>Função</th>\n",
              "      <th>Tipo de Favorecido</th>\n",
              "      <th>UF</th>\n",
              "      <th>Município</th>\n",
              "      <th>Valor Transferido</th>\n",
              "      <th>Unnamed: 9</th>\n",
              "    </tr>\n",
              "  </thead>\n",
              "  <tbody>\n",
              "    <tr>\n",
              "      <th>98</th>\n",
              "      <td>12/2020</td>\n",
              "      <td>Legais. Voluntárias e Específicas</td>\n",
              "      <td>21C0 - ENFRENTAMENTO DA EMERGENCIA DE SAUDE PU...</td>\n",
              "      <td>ATENCAO ESPECIALIZADA A SAUDE</td>\n",
              "      <td>10 - Saúde</td>\n",
              "      <td>Fundo Público</td>\n",
              "      <td>PE</td>\n",
              "      <td>ARCOVERDE</td>\n",
              "      <td>R$ 134.639.00</td>\n",
              "      <td>NaN</td>\n",
              "    </tr>\n",
              "    <tr>\n",
              "      <th>41</th>\n",
              "      <td>05/2020</td>\n",
              "      <td>Legais. Voluntárias e Específicas</td>\n",
              "      <td>21C0 - ENFRENTAMENTO DA EMERGENCIA DE SAUDE PU...</td>\n",
              "      <td>PROTECAO SOCIAL NO AMBITO DO SISTEMA UNICO DE ...</td>\n",
              "      <td>08 - Assistência social</td>\n",
              "      <td>Fundo Público</td>\n",
              "      <td>PE</td>\n",
              "      <td>ARCOVERDE</td>\n",
              "      <td>R$ 470.809.62</td>\n",
              "      <td>NaN</td>\n",
              "    </tr>\n",
              "    <tr>\n",
              "      <th>42</th>\n",
              "      <td>11/2020</td>\n",
              "      <td>Legais. Voluntárias e Específicas</td>\n",
              "      <td>21C0 - ENFRENTAMENTO DA EMERGENCIA DE SAUDE PU...</td>\n",
              "      <td>ATENCAO ESPECIALIZADA A SAUDE</td>\n",
              "      <td>10 - Saúde</td>\n",
              "      <td>Fundo Público</td>\n",
              "      <td>PE</td>\n",
              "      <td>ARCOVERDE</td>\n",
              "      <td>R$ 355.594.00</td>\n",
              "      <td>NaN</td>\n",
              "    </tr>\n",
              "    <tr>\n",
              "      <th>32</th>\n",
              "      <td>04/2020</td>\n",
              "      <td>Legais. Voluntárias e Específicas</td>\n",
              "      <td>21C0 - ENFRENTAMENTO DA EMERGENCIA DE SAUDE PU...</td>\n",
              "      <td>ATENCAO ESPECIALIZADA A SAUDE</td>\n",
              "      <td>10 - Saúde</td>\n",
              "      <td>Fundo Público</td>\n",
              "      <td>PE</td>\n",
              "      <td>ARCOVERDE</td>\n",
              "      <td>R$ 761.895.71</td>\n",
              "      <td>NaN</td>\n",
              "    </tr>\n",
              "    <tr>\n",
              "      <th>56</th>\n",
              "      <td>08/2020</td>\n",
              "      <td>Legais. Voluntárias e Específicas</td>\n",
              "      <td>21C0 - ENFRENTAMENTO DA EMERGENCIA DE SAUDE PU...</td>\n",
              "      <td>PROTECAO SOCIAL NO AMBITO DO SISTEMA UNICO DE ...</td>\n",
              "      <td>08 - Assistência social</td>\n",
              "      <td>Fundo Público</td>\n",
              "      <td>PE</td>\n",
              "      <td>ARCOVERDE</td>\n",
              "      <td>R$ 218.971.54</td>\n",
              "      <td>NaN</td>\n",
              "    </tr>\n",
              "  </tbody>\n",
              "</table>\n",
              "</div>"
            ],
            "text/plain": [
              "    Mês/Ano                               Tipo  ... Valor Transferido Unnamed: 9\n",
              "98  12/2020  Legais. Voluntárias e Específicas  ...     R$ 134.639.00        NaN\n",
              "41  05/2020  Legais. Voluntárias e Específicas  ...     R$ 470.809.62        NaN\n",
              "42  11/2020  Legais. Voluntárias e Específicas  ...     R$ 355.594.00        NaN\n",
              "32  04/2020  Legais. Voluntárias e Específicas  ...     R$ 761.895.71        NaN\n",
              "56  08/2020  Legais. Voluntárias e Específicas  ...     R$ 218.971.54        NaN\n",
              "\n",
              "[5 rows x 10 columns]"
            ]
          },
          "metadata": {
            "tags": []
          },
          "execution_count": 87
        }
      ]
    },
    {
      "cell_type": "markdown",
      "metadata": {
        "id": "b66iBYRL0hxm"
      },
      "source": [
        "*Podemos perceber que o Dataset **invest_covidPe** possui mais colunas que o Dataset **invest_covidPe2**.  Também notamos que o Dataset invest_covidPe2 possui uma coluna com dados Nan, vamos tratar disso no pré processamento antes de fazer a concatenação dos dois Datasets*"
      ]
    },
    {
      "cell_type": "markdown",
      "metadata": {
        "id": "k18Rwe8eNlNe"
      },
      "source": [
        "### Dados abertos - Prefeitura do Recife"
      ]
    },
    {
      "cell_type": "code",
      "metadata": {
        "id": "3s88zVuSNt_V"
      },
      "source": [
        "import requests\n",
        "\n",
        "dados_pref_rmr = requests.get(\"http://dados.recife.pe.gov.br/dataset/6c77a814-7161-4eb5-9662-234642dc8cc1/resource/63376b8c-0271-42eb-a88b-cc75c1c3f3fc/download/metadados-hospitais.json\").json()"
      ],
      "execution_count": null,
      "outputs": []
    },
    {
      "cell_type": "markdown",
      "metadata": {
        "id": "MHqgJ0_e9dUa"
      },
      "source": [
        "### Dados de casos de Covid-19 por todo o estado de Pernambuco. \n",
        "Os valores estão atualizados até o dia 17/03/2021 e foram buscados através do Brasil.io"
      ]
    },
    {
      "cell_type": "code",
      "metadata": {
        "colab": {
          "base_uri": "https://localhost:8080/"
        },
        "id": "tnkNhxpK9_EJ",
        "outputId": "660ffba1-82d7-4b26-dec1-7b26fb911e3a"
      },
      "source": [
        "covidPeCases = pd.read_csv(\"https://raw.githubusercontent.com/marcosw1998/Data-Science/main-mwac/Datasets/covid19-1703-casos.csv\",encoding = \"utf-8\")\n",
        "print(covidPeCases.shape)\n",
        "covidPeCases.sort_values(\"city\").head()"
      ],
      "execution_count": null,
      "outputs": [
        {
          "output_type": "stream",
          "text": [
            "(187, 16)\n"
          ],
          "name": "stdout"
        },
        {
          "output_type": "execute_result",
          "data": {
            "text/html": [
              "<div>\n",
              "<style scoped>\n",
              "    .dataframe tbody tr th:only-of-type {\n",
              "        vertical-align: middle;\n",
              "    }\n",
              "\n",
              "    .dataframe tbody tr th {\n",
              "        vertical-align: top;\n",
              "    }\n",
              "\n",
              "    .dataframe thead th {\n",
              "        text-align: right;\n",
              "    }\n",
              "</style>\n",
              "<table border=\"1\" class=\"dataframe\">\n",
              "  <thead>\n",
              "    <tr style=\"text-align: right;\">\n",
              "      <th></th>\n",
              "      <th>epidemiological_week</th>\n",
              "      <th>date</th>\n",
              "      <th>order_for_place</th>\n",
              "      <th>state</th>\n",
              "      <th>city</th>\n",
              "      <th>city_ibge_code</th>\n",
              "      <th>place_type</th>\n",
              "      <th>last_available_confirmed</th>\n",
              "      <th>last_available_confirmed_per_100k_inhabitants</th>\n",
              "      <th>new_confirmed</th>\n",
              "      <th>last_available_deaths</th>\n",
              "      <th>new_deaths</th>\n",
              "      <th>last_available_death_rate</th>\n",
              "      <th>estimated_population</th>\n",
              "      <th>is_last</th>\n",
              "      <th>is_repeated</th>\n",
              "    </tr>\n",
              "  </thead>\n",
              "  <tbody>\n",
              "    <tr>\n",
              "      <th>1</th>\n",
              "      <td>202111</td>\n",
              "      <td>2021-03-15</td>\n",
              "      <td>341</td>\n",
              "      <td>PE</td>\n",
              "      <td>Abreu e Lima</td>\n",
              "      <td>2600054.0</td>\n",
              "      <td>city</td>\n",
              "      <td>1700</td>\n",
              "      <td>1694.13828</td>\n",
              "      <td>8</td>\n",
              "      <td>159</td>\n",
              "      <td>1</td>\n",
              "      <td>0.0935</td>\n",
              "      <td>100346.0</td>\n",
              "      <td>True</td>\n",
              "      <td>False</td>\n",
              "    </tr>\n",
              "    <tr>\n",
              "      <th>2</th>\n",
              "      <td>202111</td>\n",
              "      <td>2021-03-15</td>\n",
              "      <td>321</td>\n",
              "      <td>PE</td>\n",
              "      <td>Afogados da Ingazeira</td>\n",
              "      <td>2600104.0</td>\n",
              "      <td>city</td>\n",
              "      <td>2478</td>\n",
              "      <td>6624.95990</td>\n",
              "      <td>1</td>\n",
              "      <td>35</td>\n",
              "      <td>0</td>\n",
              "      <td>0.0141</td>\n",
              "      <td>37404.0</td>\n",
              "      <td>True</td>\n",
              "      <td>False</td>\n",
              "    </tr>\n",
              "    <tr>\n",
              "      <th>3</th>\n",
              "      <td>202111</td>\n",
              "      <td>2021-03-15</td>\n",
              "      <td>321</td>\n",
              "      <td>PE</td>\n",
              "      <td>Afrânio</td>\n",
              "      <td>2600203.0</td>\n",
              "      <td>city</td>\n",
              "      <td>578</td>\n",
              "      <td>2917.71832</td>\n",
              "      <td>0</td>\n",
              "      <td>9</td>\n",
              "      <td>0</td>\n",
              "      <td>0.0156</td>\n",
              "      <td>19810.0</td>\n",
              "      <td>True</td>\n",
              "      <td>False</td>\n",
              "    </tr>\n",
              "    <tr>\n",
              "      <th>4</th>\n",
              "      <td>202111</td>\n",
              "      <td>2021-03-15</td>\n",
              "      <td>326</td>\n",
              "      <td>PE</td>\n",
              "      <td>Agrestina</td>\n",
              "      <td>2600302.0</td>\n",
              "      <td>city</td>\n",
              "      <td>865</td>\n",
              "      <td>3451.02733</td>\n",
              "      <td>2</td>\n",
              "      <td>36</td>\n",
              "      <td>0</td>\n",
              "      <td>0.0416</td>\n",
              "      <td>25065.0</td>\n",
              "      <td>True</td>\n",
              "      <td>False</td>\n",
              "    </tr>\n",
              "    <tr>\n",
              "      <th>7</th>\n",
              "      <td>202111</td>\n",
              "      <td>2021-03-15</td>\n",
              "      <td>331</td>\n",
              "      <td>PE</td>\n",
              "      <td>Alagoinha</td>\n",
              "      <td>2600609.0</td>\n",
              "      <td>city</td>\n",
              "      <td>443</td>\n",
              "      <td>3009.91983</td>\n",
              "      <td>0</td>\n",
              "      <td>13</td>\n",
              "      <td>0</td>\n",
              "      <td>0.0293</td>\n",
              "      <td>14718.0</td>\n",
              "      <td>True</td>\n",
              "      <td>False</td>\n",
              "    </tr>\n",
              "  </tbody>\n",
              "</table>\n",
              "</div>"
            ],
            "text/plain": [
              "   epidemiological_week        date  ...  is_last is_repeated\n",
              "1                202111  2021-03-15  ...     True       False\n",
              "2                202111  2021-03-15  ...     True       False\n",
              "3                202111  2021-03-15  ...     True       False\n",
              "4                202111  2021-03-15  ...     True       False\n",
              "7                202111  2021-03-15  ...     True       False\n",
              "\n",
              "[5 rows x 16 columns]"
            ]
          },
          "metadata": {
            "tags": []
          },
          "execution_count": 89
        }
      ]
    },
    {
      "cell_type": "markdown",
      "metadata": {
        "id": "d_488MvPT4fM"
      },
      "source": [
        "## **Pré Processamento**\n",
        "  * Junção de datasets em Dataframe Pandas\n",
        "  * Tratamento de dados ```NaN```/```null``` ou corrompidos\n",
        "  * Conversão de tipos\n",
        "  * Transformação e identificação de dados categóricos\n",
        "  * Remoção de ***Outliers*** Multivariado"
      ]
    },
    {
      "cell_type": "markdown",
      "metadata": {
        "id": "XmQ22okDAROC"
      },
      "source": [
        "### **Tratamento dos dados de Gastos Públicos**"
      ]
    },
    {
      "cell_type": "code",
      "metadata": {
        "colab": {
          "base_uri": "https://localhost:8080/"
        },
        "id": "hFQN8MFVzyM-",
        "outputId": "e4d901d0-3636-4452-8216-48b70c486eff"
      },
      "source": [
        "# Verificando se existem registros duplicados\n",
        "print(\"Número de registros duplicados\")\n",
        "print(\"Dataset 1\",len(invest_covidPe[invest_covidPe.duplicated()]))\n",
        "print(\"Dataset 2\",len(invest_covidPe2[invest_covidPe2.duplicated()]))\n"
      ],
      "execution_count": null,
      "outputs": [
        {
          "output_type": "stream",
          "text": [
            "Número de registros duplicados\n",
            "Dataset 1 0\n",
            "Dataset 2 0\n"
          ],
          "name": "stdout"
        }
      ]
    },
    {
      "cell_type": "code",
      "metadata": {
        "id": "m7rho0DEE8cM",
        "colab": {
          "base_uri": "https://localhost:8080/"
        },
        "outputId": "acdac012-c776-4f89-ddb7-92a8ffaadd75"
      },
      "source": [
        "#Checando se temos valores Nan\n",
        "print('Dataset 1',invest_covidPe.isnull().sum())\n",
        "print('Dataset 1',invest_covidPe2.isnull().sum())"
      ],
      "execution_count": null,
      "outputs": [
        {
          "output_type": "stream",
          "text": [
            "Dataset 1 Mês/Ano                  0\n",
            "Tipo                     0\n",
            "Tipo de Favorecido       0\n",
            "UF                       0\n",
            "Nome do Favorecido       0\n",
            "CPF/CNPJ                 0\n",
            "Município                0\n",
            "Função                   0\n",
            "Programa Orçamentário    0\n",
            "Ação Orçamentária        0\n",
            "Linguagem Cidadã         0\n",
            "Valor Transferido        0\n",
            "dtype: int64\n",
            "Dataset 1 Mês/Ano                    0\n",
            "Tipo                       0\n",
            "Ação Orçamentária          0\n",
            "Programa Orçamentário      0\n",
            "Função                     0\n",
            "Tipo de Favorecido         0\n",
            "UF                         0\n",
            "Município                  0\n",
            "Valor Transferido          0\n",
            "Unnamed: 9               140\n",
            "dtype: int64\n"
          ],
          "name": "stdout"
        }
      ]
    },
    {
      "cell_type": "markdown",
      "metadata": {
        "id": "Z_zX_wkQvbE5"
      },
      "source": [
        "> Remoção colunas que não fazem parte do dataset invest_covidPe2 e que não influem sobre os nossos estudos (Nome do favorecido, CPF/CNPJ, Linguagem Cidadã)\n",
        "\n",
        ">```invest_covidPe = invest_covidPe.dropna(axis=1, how='all')```"
      ]
    },
    {
      "cell_type": "code",
      "metadata": {
        "id": "Bm39ZTwf2Gal",
        "colab": {
          "base_uri": "https://localhost:8080/"
        },
        "outputId": "ad81beb1-2174-469b-cc7f-483528096bdb"
      },
      "source": [
        "cols = [4,5,10]\n",
        "invest_covidPe.drop(invest_covidPe.columns[cols],axis=1,inplace=True)\n",
        "invest_covidPe.sort_values(\"Município\").head()"
      ],
      "execution_count": null,
      "outputs": [
        {
          "output_type": "execute_result",
          "data": {
            "text/html": [
              "<div>\n",
              "<style scoped>\n",
              "    .dataframe tbody tr th:only-of-type {\n",
              "        vertical-align: middle;\n",
              "    }\n",
              "\n",
              "    .dataframe tbody tr th {\n",
              "        vertical-align: top;\n",
              "    }\n",
              "\n",
              "    .dataframe thead th {\n",
              "        text-align: right;\n",
              "    }\n",
              "</style>\n",
              "<table border=\"1\" class=\"dataframe\">\n",
              "  <thead>\n",
              "    <tr style=\"text-align: right;\">\n",
              "      <th></th>\n",
              "      <th>Mês/Ano</th>\n",
              "      <th>Tipo</th>\n",
              "      <th>Tipo de Favorecido</th>\n",
              "      <th>UF</th>\n",
              "      <th>Município</th>\n",
              "      <th>Função</th>\n",
              "      <th>Programa Orçamentário</th>\n",
              "      <th>Ação Orçamentária</th>\n",
              "      <th>Valor Transferido</th>\n",
              "    </tr>\n",
              "  </thead>\n",
              "  <tbody>\n",
              "    <tr>\n",
              "      <th>182</th>\n",
              "      <td>nov/20</td>\n",
              "      <td>Legais. Voluntárias e Específicas</td>\n",
              "      <td>Fundo Público</td>\n",
              "      <td>PE</td>\n",
              "      <td>CARUARU</td>\n",
              "      <td>Saúde</td>\n",
              "      <td>ATENCAO ESPECIALIZADA A SAUDE</td>\n",
              "      <td>ENFRENTAMENTO DA EMERGENCIA DE SAUDE PUBLICA D...</td>\n",
              "      <td>486.515.00</td>\n",
              "    </tr>\n",
              "    <tr>\n",
              "      <th>178</th>\n",
              "      <td>nov/20</td>\n",
              "      <td>Legais. Voluntárias e Específicas</td>\n",
              "      <td>Entidades Sem Fins Lucrativos</td>\n",
              "      <td>PE</td>\n",
              "      <td>CARUARU</td>\n",
              "      <td>Educação</td>\n",
              "      <td>EDUCACAO BASICA DE QUALIDADE</td>\n",
              "      <td>DINHEIRO DIRETO NA ESCOLA PARA A EDUCACAO BASICA</td>\n",
              "      <td>7.897.02</td>\n",
              "    </tr>\n",
              "    <tr>\n",
              "      <th>179</th>\n",
              "      <td>nov/20</td>\n",
              "      <td>Legais. Voluntárias e Específicas</td>\n",
              "      <td>Entidades Sem Fins Lucrativos</td>\n",
              "      <td>PE</td>\n",
              "      <td>CARUARU</td>\n",
              "      <td>Educação</td>\n",
              "      <td>EDUCACAO BASICA DE QUALIDADE</td>\n",
              "      <td>DINHEIRO DIRETO NA ESCOLA PARA A EDUCACAO BASICA</td>\n",
              "      <td>2.837.48</td>\n",
              "    </tr>\n",
              "    <tr>\n",
              "      <th>87</th>\n",
              "      <td>nov/20</td>\n",
              "      <td>Legais. Voluntárias e Específicas</td>\n",
              "      <td>Entidades Sem Fins Lucrativos</td>\n",
              "      <td>PE</td>\n",
              "      <td>CARUARU</td>\n",
              "      <td>Educação</td>\n",
              "      <td>EDUCACAO BASICA DE QUALIDADE</td>\n",
              "      <td>DINHEIRO DIRETO NA ESCOLA PARA A EDUCACAO BASICA</td>\n",
              "      <td>8.427.56</td>\n",
              "    </tr>\n",
              "    <tr>\n",
              "      <th>181</th>\n",
              "      <td>nov/20</td>\n",
              "      <td>Legais. Voluntárias e Específicas</td>\n",
              "      <td>Entidades Sem Fins Lucrativos</td>\n",
              "      <td>PE</td>\n",
              "      <td>CARUARU</td>\n",
              "      <td>Educação</td>\n",
              "      <td>EDUCACAO BASICA DE QUALIDADE</td>\n",
              "      <td>DINHEIRO DIRETO NA ESCOLA PARA A EDUCACAO BASICA</td>\n",
              "      <td>2.274.59</td>\n",
              "    </tr>\n",
              "  </tbody>\n",
              "</table>\n",
              "</div>"
            ],
            "text/plain": [
              "    Mês/Ano  ... Valor Transferido\n",
              "182  nov/20  ...        486.515.00\n",
              "178  nov/20  ...          7.897.02\n",
              "179  nov/20  ...          2.837.48\n",
              "87   nov/20  ...          8.427.56\n",
              "181  nov/20  ...          2.274.59\n",
              "\n",
              "[5 rows x 9 columns]"
            ]
          },
          "metadata": {
            "tags": []
          },
          "execution_count": 92
        }
      ]
    },
    {
      "cell_type": "markdown",
      "metadata": {
        "id": "6N8rcAp0vr6I"
      },
      "source": [
        "> Remoção coluna que tem todos os valores Nan"
      ]
    },
    {
      "cell_type": "code",
      "metadata": {
        "colab": {
          "base_uri": "https://localhost:8080/"
        },
        "id": "GVumFyH60Byd",
        "outputId": "700e9f70-3973-4e5d-8aab-1ac79ecc0e71"
      },
      "source": [
        "invest_covidPe2.dropna(axis=1, how='all',inplace=True)\n",
        "invest_covidPe2.sort_values(\"Município\").head()"
      ],
      "execution_count": null,
      "outputs": [
        {
          "output_type": "execute_result",
          "data": {
            "text/html": [
              "<div>\n",
              "<style scoped>\n",
              "    .dataframe tbody tr th:only-of-type {\n",
              "        vertical-align: middle;\n",
              "    }\n",
              "\n",
              "    .dataframe tbody tr th {\n",
              "        vertical-align: top;\n",
              "    }\n",
              "\n",
              "    .dataframe thead th {\n",
              "        text-align: right;\n",
              "    }\n",
              "</style>\n",
              "<table border=\"1\" class=\"dataframe\">\n",
              "  <thead>\n",
              "    <tr style=\"text-align: right;\">\n",
              "      <th></th>\n",
              "      <th>Mês/Ano</th>\n",
              "      <th>Tipo</th>\n",
              "      <th>Ação Orçamentária</th>\n",
              "      <th>Programa Orçamentário</th>\n",
              "      <th>Função</th>\n",
              "      <th>Tipo de Favorecido</th>\n",
              "      <th>UF</th>\n",
              "      <th>Município</th>\n",
              "      <th>Valor Transferido</th>\n",
              "    </tr>\n",
              "  </thead>\n",
              "  <tbody>\n",
              "    <tr>\n",
              "      <th>98</th>\n",
              "      <td>12/2020</td>\n",
              "      <td>Legais. Voluntárias e Específicas</td>\n",
              "      <td>21C0 - ENFRENTAMENTO DA EMERGENCIA DE SAUDE PU...</td>\n",
              "      <td>ATENCAO ESPECIALIZADA A SAUDE</td>\n",
              "      <td>10 - Saúde</td>\n",
              "      <td>Fundo Público</td>\n",
              "      <td>PE</td>\n",
              "      <td>ARCOVERDE</td>\n",
              "      <td>R$ 134.639.00</td>\n",
              "    </tr>\n",
              "    <tr>\n",
              "      <th>41</th>\n",
              "      <td>05/2020</td>\n",
              "      <td>Legais. Voluntárias e Específicas</td>\n",
              "      <td>21C0 - ENFRENTAMENTO DA EMERGENCIA DE SAUDE PU...</td>\n",
              "      <td>PROTECAO SOCIAL NO AMBITO DO SISTEMA UNICO DE ...</td>\n",
              "      <td>08 - Assistência social</td>\n",
              "      <td>Fundo Público</td>\n",
              "      <td>PE</td>\n",
              "      <td>ARCOVERDE</td>\n",
              "      <td>R$ 470.809.62</td>\n",
              "    </tr>\n",
              "    <tr>\n",
              "      <th>42</th>\n",
              "      <td>11/2020</td>\n",
              "      <td>Legais. Voluntárias e Específicas</td>\n",
              "      <td>21C0 - ENFRENTAMENTO DA EMERGENCIA DE SAUDE PU...</td>\n",
              "      <td>ATENCAO ESPECIALIZADA A SAUDE</td>\n",
              "      <td>10 - Saúde</td>\n",
              "      <td>Fundo Público</td>\n",
              "      <td>PE</td>\n",
              "      <td>ARCOVERDE</td>\n",
              "      <td>R$ 355.594.00</td>\n",
              "    </tr>\n",
              "    <tr>\n",
              "      <th>32</th>\n",
              "      <td>04/2020</td>\n",
              "      <td>Legais. Voluntárias e Específicas</td>\n",
              "      <td>21C0 - ENFRENTAMENTO DA EMERGENCIA DE SAUDE PU...</td>\n",
              "      <td>ATENCAO ESPECIALIZADA A SAUDE</td>\n",
              "      <td>10 - Saúde</td>\n",
              "      <td>Fundo Público</td>\n",
              "      <td>PE</td>\n",
              "      <td>ARCOVERDE</td>\n",
              "      <td>R$ 761.895.71</td>\n",
              "    </tr>\n",
              "    <tr>\n",
              "      <th>56</th>\n",
              "      <td>08/2020</td>\n",
              "      <td>Legais. Voluntárias e Específicas</td>\n",
              "      <td>21C0 - ENFRENTAMENTO DA EMERGENCIA DE SAUDE PU...</td>\n",
              "      <td>PROTECAO SOCIAL NO AMBITO DO SISTEMA UNICO DE ...</td>\n",
              "      <td>08 - Assistência social</td>\n",
              "      <td>Fundo Público</td>\n",
              "      <td>PE</td>\n",
              "      <td>ARCOVERDE</td>\n",
              "      <td>R$ 218.971.54</td>\n",
              "    </tr>\n",
              "  </tbody>\n",
              "</table>\n",
              "</div>"
            ],
            "text/plain": [
              "    Mês/Ano                               Tipo  ...  Município Valor Transferido\n",
              "98  12/2020  Legais. Voluntárias e Específicas  ...  ARCOVERDE     R$ 134.639.00\n",
              "41  05/2020  Legais. Voluntárias e Específicas  ...  ARCOVERDE     R$ 470.809.62\n",
              "42  11/2020  Legais. Voluntárias e Específicas  ...  ARCOVERDE     R$ 355.594.00\n",
              "32  04/2020  Legais. Voluntárias e Específicas  ...  ARCOVERDE     R$ 761.895.71\n",
              "56  08/2020  Legais. Voluntárias e Específicas  ...  ARCOVERDE     R$ 218.971.54\n",
              "\n",
              "[5 rows x 9 columns]"
            ]
          },
          "metadata": {
            "tags": []
          },
          "execution_count": 93
        }
      ]
    },
    {
      "cell_type": "markdown",
      "metadata": {
        "id": "99zLupirv68U"
      },
      "source": [
        "> Retirando prefixo numérico e caracteres especiais dos valores da categoria 'Função'"
      ]
    },
    {
      "cell_type": "code",
      "metadata": {
        "colab": {
          "base_uri": "https://localhost:8080/"
        },
        "id": "7GzOsUIXwOR5",
        "outputId": "364a0048-b59b-46bd-aa46-b03c1e8def95"
      },
      "source": [
        "invest_covidPe_funcao = invest_covidPe2['Função'].map(lambda words: str(words[5:]))\n",
        "invest_covidPe2['Função'].update(invest_covidPe_funcao)\n",
        "invest_covidPe2['Função'].unique()"
      ],
      "execution_count": null,
      "outputs": [
        {
          "output_type": "execute_result",
          "data": {
            "text/plain": [
              "array(['Educação', 'Saúde', 'Assistência social', 'Ciência e Tecnologia'],\n",
              "      dtype=object)"
            ]
          },
          "metadata": {
            "tags": []
          },
          "execution_count": 94
        }
      ]
    },
    {
      "cell_type": "markdown",
      "metadata": {
        "id": "-TdcJdxuwD_A"
      },
      "source": [
        "> Confirmando que as colunas foram removidas e agora os 2 datasets possuem a mesma quantidade de colunas"
      ]
    },
    {
      "cell_type": "code",
      "metadata": {
        "colab": {
          "base_uri": "https://localhost:8080/"
        },
        "id": "o61JK1_h1G8W",
        "outputId": "1894f889-ca1e-4de4-ce4c-336c54fe91df"
      },
      "source": [
        "print('Dataset 1',invest_covidPe.shape)\n",
        "print('Dataset 2',invest_covidPe2.shape)"
      ],
      "execution_count": null,
      "outputs": [
        {
          "output_type": "stream",
          "text": [
            "Dataset 1 (561, 9)\n",
            "Dataset 2 (140, 9)\n"
          ],
          "name": "stdout"
        }
      ]
    },
    {
      "cell_type": "markdown",
      "metadata": {
        "id": "6V0neP-zwIMQ"
      },
      "source": [
        "> Fazendo a concatenação dos Dataframes, o resultado final de linhas é igual ao somatório de linhas entre ambos os Datasets"
      ]
    },
    {
      "cell_type": "code",
      "metadata": {
        "id": "qjEsiHCQ5lfM"
      },
      "source": [
        "invest_covidPe = invest_covidPe.append(invest_covidPe2, ignore_index=True)"
      ],
      "execution_count": null,
      "outputs": []
    },
    {
      "cell_type": "markdown",
      "metadata": {
        "id": "yKGKHzT0wND5"
      },
      "source": [
        "> Filtragem de gastos com a saúde e retirada das colunas **Tipo**, **UF**, **Programa Orçamentário** e **Função** por não conterem dados variados."
      ]
    },
    {
      "cell_type": "code",
      "metadata": {
        "colab": {
          "base_uri": "https://localhost:8080/"
        },
        "id": "OeYOe0orylcX",
        "outputId": "6106b8c6-0156-4219-f08e-ef8ab13dd44c"
      },
      "source": [
        "# Filtragem\n",
        "\n",
        "invest_covidPe = invest_covidPe[invest_covidPe['Função'] == 'Saúde']\n",
        "\n",
        "# Drop colunas\n",
        "\n",
        "invest_covidPe.drop({'Tipo',\\\n",
        "                     'UF',\\\n",
        "                     'Programa Orçamentário', \\\n",
        "                     'Função'},\\\n",
        "                    axis=1,\\\n",
        "                    inplace=True \\\n",
        "                    )\n",
        "invest_covidPe"
      ],
      "execution_count": null,
      "outputs": [
        {
          "output_type": "execute_result",
          "data": {
            "text/html": [
              "<div>\n",
              "<style scoped>\n",
              "    .dataframe tbody tr th:only-of-type {\n",
              "        vertical-align: middle;\n",
              "    }\n",
              "\n",
              "    .dataframe tbody tr th {\n",
              "        vertical-align: top;\n",
              "    }\n",
              "\n",
              "    .dataframe thead th {\n",
              "        text-align: right;\n",
              "    }\n",
              "</style>\n",
              "<table border=\"1\" class=\"dataframe\">\n",
              "  <thead>\n",
              "    <tr style=\"text-align: right;\">\n",
              "      <th></th>\n",
              "      <th>Mês/Ano</th>\n",
              "      <th>Tipo de Favorecido</th>\n",
              "      <th>Município</th>\n",
              "      <th>Ação Orçamentária</th>\n",
              "      <th>Valor Transferido</th>\n",
              "    </tr>\n",
              "  </thead>\n",
              "  <tbody>\n",
              "    <tr>\n",
              "      <th>0</th>\n",
              "      <td>mar/20</td>\n",
              "      <td>Fundo Público</td>\n",
              "      <td>RECIFE</td>\n",
              "      <td>ENFRENTAMENTO DA EMERGENCIA DE SAUDE PUBLICA D...</td>\n",
              "      <td>60.000.00</td>\n",
              "    </tr>\n",
              "    <tr>\n",
              "      <th>1</th>\n",
              "      <td>abr/20</td>\n",
              "      <td>Fundo Público</td>\n",
              "      <td>GARANHUNS</td>\n",
              "      <td>ENFRENTAMENTO DA EMERGENCIA DE SAUDE PUBLICA D...</td>\n",
              "      <td>1.174.944.27</td>\n",
              "    </tr>\n",
              "    <tr>\n",
              "      <th>2</th>\n",
              "      <td>abr/20</td>\n",
              "      <td>Fundo Público</td>\n",
              "      <td>PETROLINA</td>\n",
              "      <td>ENFRENTAMENTO DA EMERGENCIA DE SAUDE PUBLICA D...</td>\n",
              "      <td>4.130.446.89</td>\n",
              "    </tr>\n",
              "    <tr>\n",
              "      <th>3</th>\n",
              "      <td>abr/20</td>\n",
              "      <td>Fundo Público</td>\n",
              "      <td>OLINDA</td>\n",
              "      <td>ENFRENTAMENTO DA EMERGENCIA DE SAUDE PUBLICA D...</td>\n",
              "      <td>3.830.136.03</td>\n",
              "    </tr>\n",
              "    <tr>\n",
              "      <th>4</th>\n",
              "      <td>abr/20</td>\n",
              "      <td>Fundo Público</td>\n",
              "      <td>CARUARU</td>\n",
              "      <td>ENFRENTAMENTO DA EMERGENCIA DE SAUDE PUBLICA D...</td>\n",
              "      <td>3.662.675.00</td>\n",
              "    </tr>\n",
              "    <tr>\n",
              "      <th>...</th>\n",
              "      <td>...</td>\n",
              "      <td>...</td>\n",
              "      <td>...</td>\n",
              "      <td>...</td>\n",
              "      <td>...</td>\n",
              "    </tr>\n",
              "    <tr>\n",
              "      <th>695</th>\n",
              "      <td>07/2020</td>\n",
              "      <td>Fundo Público</td>\n",
              "      <td>GARANHUNS</td>\n",
              "      <td>21C0 - ENFRENTAMENTO DA EMERGENCIA DE SAUDE PU...</td>\n",
              "      <td>R$ 4.995.000.00</td>\n",
              "    </tr>\n",
              "    <tr>\n",
              "      <th>696</th>\n",
              "      <td>04/2020</td>\n",
              "      <td>Fundo Público</td>\n",
              "      <td>JABOATÃO DOS GUARARAPES</td>\n",
              "      <td>21C0 - ENFRENTAMENTO DA EMERGENCIA DE SAUDE PU...</td>\n",
              "      <td>R$ 7.327.021.87</td>\n",
              "    </tr>\n",
              "    <tr>\n",
              "      <th>697</th>\n",
              "      <td>10/2020</td>\n",
              "      <td>Fundo Público</td>\n",
              "      <td>RECIFE</td>\n",
              "      <td>21C0 - ENFRENTAMENTO DA EMERGENCIA DE SAUDE PU...</td>\n",
              "      <td>R$ 3.500.000.00</td>\n",
              "    </tr>\n",
              "    <tr>\n",
              "      <th>698</th>\n",
              "      <td>07/2020</td>\n",
              "      <td>Fundo Público</td>\n",
              "      <td>PETROLINA</td>\n",
              "      <td>21C0 - ENFRENTAMENTO DA EMERGENCIA DE SAUDE PU...</td>\n",
              "      <td>R$ 8.676.053.00</td>\n",
              "    </tr>\n",
              "    <tr>\n",
              "      <th>699</th>\n",
              "      <td>07/2020</td>\n",
              "      <td>Fundo Público</td>\n",
              "      <td>BUÍQUE</td>\n",
              "      <td>21C0 - ENFRENTAMENTO DA EMERGENCIA DE SAUDE PU...</td>\n",
              "      <td>R$ 1.850.000.00</td>\n",
              "    </tr>\n",
              "  </tbody>\n",
              "</table>\n",
              "<p>149 rows × 5 columns</p>\n",
              "</div>"
            ],
            "text/plain": [
              "     Mês/Ano  ... Valor Transferido\n",
              "0     mar/20  ...         60.000.00\n",
              "1     abr/20  ...      1.174.944.27\n",
              "2     abr/20  ...      4.130.446.89\n",
              "3     abr/20  ...      3.830.136.03\n",
              "4     abr/20  ...      3.662.675.00\n",
              "..       ...  ...               ...\n",
              "695  07/2020  ...   R$ 4.995.000.00\n",
              "696  04/2020  ...   R$ 7.327.021.87\n",
              "697  10/2020  ...   R$ 3.500.000.00\n",
              "698  07/2020  ...   R$ 8.676.053.00\n",
              "699  07/2020  ...   R$ 1.850.000.00\n",
              "\n",
              "[149 rows x 5 columns]"
            ]
          },
          "metadata": {
            "tags": []
          },
          "execution_count": 97
        }
      ]
    },
    {
      "cell_type": "markdown",
      "metadata": {
        "id": "0jzo9tpl4FTr"
      },
      "source": [
        "Renomeando colunas"
      ]
    },
    {
      "cell_type": "code",
      "metadata": {
        "colab": {
          "base_uri": "https://localhost:8080/"
        },
        "id": "aFWx4nab4EDk",
        "outputId": "a26f79c9-1090-4c98-8af3-ce4a666283f3"
      },
      "source": [
        "invest_covidPe = invest_covidPe.rename(columns={'Mês/Ano': 'data_hora', \\\n",
        "                                                'Município': 'municipio', \\\n",
        "                                                'Tipo de Favorecido': 'tipo_favorecido', \\\n",
        "                                                'Ação Orçamentária': 'acao_orcamentaria', \\\n",
        "                                                'Valor Transferido': 'gastos' \\\n",
        "                                                })\n",
        "invest_covidPe.head(3)"
      ],
      "execution_count": null,
      "outputs": [
        {
          "output_type": "execute_result",
          "data": {
            "text/html": [
              "<div>\n",
              "<style scoped>\n",
              "    .dataframe tbody tr th:only-of-type {\n",
              "        vertical-align: middle;\n",
              "    }\n",
              "\n",
              "    .dataframe tbody tr th {\n",
              "        vertical-align: top;\n",
              "    }\n",
              "\n",
              "    .dataframe thead th {\n",
              "        text-align: right;\n",
              "    }\n",
              "</style>\n",
              "<table border=\"1\" class=\"dataframe\">\n",
              "  <thead>\n",
              "    <tr style=\"text-align: right;\">\n",
              "      <th></th>\n",
              "      <th>data_hora</th>\n",
              "      <th>tipo_favorecido</th>\n",
              "      <th>municipio</th>\n",
              "      <th>acao_orcamentaria</th>\n",
              "      <th>gastos</th>\n",
              "    </tr>\n",
              "  </thead>\n",
              "  <tbody>\n",
              "    <tr>\n",
              "      <th>0</th>\n",
              "      <td>mar/20</td>\n",
              "      <td>Fundo Público</td>\n",
              "      <td>RECIFE</td>\n",
              "      <td>ENFRENTAMENTO DA EMERGENCIA DE SAUDE PUBLICA D...</td>\n",
              "      <td>60.000.00</td>\n",
              "    </tr>\n",
              "    <tr>\n",
              "      <th>1</th>\n",
              "      <td>abr/20</td>\n",
              "      <td>Fundo Público</td>\n",
              "      <td>GARANHUNS</td>\n",
              "      <td>ENFRENTAMENTO DA EMERGENCIA DE SAUDE PUBLICA D...</td>\n",
              "      <td>1.174.944.27</td>\n",
              "    </tr>\n",
              "    <tr>\n",
              "      <th>2</th>\n",
              "      <td>abr/20</td>\n",
              "      <td>Fundo Público</td>\n",
              "      <td>PETROLINA</td>\n",
              "      <td>ENFRENTAMENTO DA EMERGENCIA DE SAUDE PUBLICA D...</td>\n",
              "      <td>4.130.446.89</td>\n",
              "    </tr>\n",
              "  </tbody>\n",
              "</table>\n",
              "</div>"
            ],
            "text/plain": [
              "  data_hora  ...        gastos\n",
              "0    mar/20  ...     60.000.00\n",
              "1    abr/20  ...  1.174.944.27\n",
              "2    abr/20  ...  4.130.446.89\n",
              "\n",
              "[3 rows x 5 columns]"
            ]
          },
          "metadata": {
            "tags": []
          },
          "execution_count": 98
        }
      ]
    },
    {
      "cell_type": "markdown",
      "metadata": {
        "id": "PdTk7hYE-ydB"
      },
      "source": [
        "#### **Conversão de tipos das colunas**\n",
        "\n",
        "  * Valor Transferido (rename -> gastos): ```string``` -> ```float```\n",
        "\n",
        "  * Mês/Ano (rename -> data_hora): ```string``` -> ```pandas.Datetime```\n",
        "\n",
        "  * Dados categóricos: ```object``` -> ```category```"
      ]
    },
    {
      "cell_type": "code",
      "metadata": {
        "id": "Y-wleeGQC4yJ",
        "colab": {
          "base_uri": "https://localhost:8080/"
        },
        "outputId": "5a9e31f7-2a1c-4615-b29a-6d26e6a6ead8"
      },
      "source": [
        "invest_covidPe.dtypes"
      ],
      "execution_count": null,
      "outputs": [
        {
          "output_type": "execute_result",
          "data": {
            "text/plain": [
              "data_hora            object\n",
              "tipo_favorecido      object\n",
              "municipio            object\n",
              "acao_orcamentaria    object\n",
              "gastos               object\n",
              "dtype: object"
            ]
          },
          "metadata": {
            "tags": []
          },
          "execution_count": 99
        }
      ]
    },
    {
      "cell_type": "markdown",
      "metadata": {
        "id": "Ui9n7pptx9N3"
      },
      "source": [
        "##### **Valor Transferido**\n",
        "```object``` -> ```float64```"
      ]
    },
    {
      "cell_type": "code",
      "metadata": {
        "id": "7_4O7M9L-kWC"
      },
      "source": [
        "# Tratamento e conversão do CSV-String para float\n",
        "invest_covidPe['valores_transferidos'] = invest_covidPe['gastos'].apply(lambda words: words.replace('R$ ', ''))\n",
        "valores_transferidos = invest_covidPe['valores_transferidos'].map(lambda words: float(words[:-3].replace('.','') + words[-3:]))\n",
        "valores_transferidos = valores_transferidos.astype('float64')\n",
        "#valores_transferidos = valores_transferidos.astype(float)"
      ],
      "execution_count": null,
      "outputs": []
    },
    {
      "cell_type": "code",
      "metadata": {
        "colab": {
          "base_uri": "https://localhost:8080/"
        },
        "id": "2cbS7PJEZBBm",
        "outputId": "ce731647-8247-4e44-81b0-1d01bb78a547"
      },
      "source": [
        "invest_covidPe.head(3)"
      ],
      "execution_count": null,
      "outputs": [
        {
          "output_type": "execute_result",
          "data": {
            "text/html": [
              "<div>\n",
              "<style scoped>\n",
              "    .dataframe tbody tr th:only-of-type {\n",
              "        vertical-align: middle;\n",
              "    }\n",
              "\n",
              "    .dataframe tbody tr th {\n",
              "        vertical-align: top;\n",
              "    }\n",
              "\n",
              "    .dataframe thead th {\n",
              "        text-align: right;\n",
              "    }\n",
              "</style>\n",
              "<table border=\"1\" class=\"dataframe\">\n",
              "  <thead>\n",
              "    <tr style=\"text-align: right;\">\n",
              "      <th></th>\n",
              "      <th>data_hora</th>\n",
              "      <th>tipo_favorecido</th>\n",
              "      <th>municipio</th>\n",
              "      <th>acao_orcamentaria</th>\n",
              "      <th>gastos</th>\n",
              "      <th>valores_transferidos</th>\n",
              "    </tr>\n",
              "  </thead>\n",
              "  <tbody>\n",
              "    <tr>\n",
              "      <th>0</th>\n",
              "      <td>mar/20</td>\n",
              "      <td>Fundo Público</td>\n",
              "      <td>RECIFE</td>\n",
              "      <td>ENFRENTAMENTO DA EMERGENCIA DE SAUDE PUBLICA D...</td>\n",
              "      <td>60.000.00</td>\n",
              "      <td>60.000.00</td>\n",
              "    </tr>\n",
              "    <tr>\n",
              "      <th>1</th>\n",
              "      <td>abr/20</td>\n",
              "      <td>Fundo Público</td>\n",
              "      <td>GARANHUNS</td>\n",
              "      <td>ENFRENTAMENTO DA EMERGENCIA DE SAUDE PUBLICA D...</td>\n",
              "      <td>1.174.944.27</td>\n",
              "      <td>1.174.944.27</td>\n",
              "    </tr>\n",
              "    <tr>\n",
              "      <th>2</th>\n",
              "      <td>abr/20</td>\n",
              "      <td>Fundo Público</td>\n",
              "      <td>PETROLINA</td>\n",
              "      <td>ENFRENTAMENTO DA EMERGENCIA DE SAUDE PUBLICA D...</td>\n",
              "      <td>4.130.446.89</td>\n",
              "      <td>4.130.446.89</td>\n",
              "    </tr>\n",
              "  </tbody>\n",
              "</table>\n",
              "</div>"
            ],
            "text/plain": [
              "  data_hora tipo_favorecido  ...        gastos valores_transferidos\n",
              "0    mar/20   Fundo Público  ...     60.000.00            60.000.00\n",
              "1    abr/20   Fundo Público  ...  1.174.944.27         1.174.944.27\n",
              "2    abr/20   Fundo Público  ...  4.130.446.89         4.130.446.89\n",
              "\n",
              "[3 rows x 6 columns]"
            ]
          },
          "metadata": {
            "tags": []
          },
          "execution_count": 101
        }
      ]
    },
    {
      "cell_type": "code",
      "metadata": {
        "id": "YOjLjdx_XLEn",
        "colab": {
          "base_uri": "https://localhost:8080/"
        },
        "outputId": "ff600ad7-887c-4d81-fcc5-9e9d131cc1b5"
      },
      "source": [
        "# Atualiza o dataset principal\n",
        "invest_covidPe['gastos'].update(valores_transferidos)\n",
        "invest_covidPe.drop('valores_transferidos',axis=1,inplace=True)\n",
        "invest_covidPe = invest_covidPe.infer_objects()\n",
        "invest_covidPe.info(verbose=True)"
      ],
      "execution_count": null,
      "outputs": [
        {
          "output_type": "stream",
          "text": [
            "<class 'pandas.core.frame.DataFrame'>\n",
            "Int64Index: 149 entries, 0 to 699\n",
            "Data columns (total 5 columns):\n",
            " #   Column             Non-Null Count  Dtype  \n",
            "---  ------             --------------  -----  \n",
            " 0   data_hora          149 non-null    object \n",
            " 1   tipo_favorecido    149 non-null    object \n",
            " 2   municipio          149 non-null    object \n",
            " 3   acao_orcamentaria  149 non-null    object \n",
            " 4   gastos             149 non-null    float64\n",
            "dtypes: float64(1), object(4)\n",
            "memory usage: 7.0+ KB\n"
          ],
          "name": "stdout"
        }
      ]
    },
    {
      "cell_type": "markdown",
      "metadata": {
        "id": "cLxqlamkyNhY"
      },
      "source": [
        "##### **Data (timestamp)**\n",
        "```object``` -> ```pandas.Datetime```\n",
        "\n",
        "Obs.: Apenas necessário para o caso de análise de séries temporais."
      ]
    },
    {
      "cell_type": "code",
      "metadata": {
        "id": "hnqgP7jEwP6i",
        "colab": {
          "base_uri": "https://localhost:8080/"
        },
        "outputId": "e0169130-5837-40a7-f4a5-c6c929dedc54"
      },
      "source": [
        "# Transformando os dados da coluna data_hora em pandas.Datetime\n",
        "invest_covidPe['data_hora'] = invest_covidPe['data_hora'].astype('string')\n",
        "invest_covidPe.info(verbose=True)"
      ],
      "execution_count": null,
      "outputs": [
        {
          "output_type": "stream",
          "text": [
            "<class 'pandas.core.frame.DataFrame'>\n",
            "Int64Index: 149 entries, 0 to 699\n",
            "Data columns (total 5 columns):\n",
            " #   Column             Non-Null Count  Dtype  \n",
            "---  ------             --------------  -----  \n",
            " 0   data_hora          149 non-null    string \n",
            " 1   tipo_favorecido    149 non-null    object \n",
            " 2   municipio          149 non-null    object \n",
            " 3   acao_orcamentaria  149 non-null    object \n",
            " 4   gastos             149 non-null    float64\n",
            "dtypes: float64(1), object(3), string(1)\n",
            "memory usage: 7.0+ KB\n"
          ],
          "name": "stdout"
        }
      ]
    },
    {
      "cell_type": "code",
      "metadata": {
        "colab": {
          "base_uri": "https://localhost:8080/"
        },
        "id": "UVY0ZbFuxnwy",
        "outputId": "aaf47be3-0ad0-4f4b-b390-fdf886c15f2e"
      },
      "source": [
        "meses = {'mar/20' : '2020-03-10', \\\n",
        "         'abr/20' : '2020-04-10', \\\n",
        "         'mai/20' : '2020-05-10', \\\n",
        "         'jun/20' : '2020-06-10', \\\n",
        "         'jul/20' : '2020-07-10', \\\n",
        "         'ago/20' : '2020-08-10', \\\n",
        "         'set/20' : '2020-09-10', \\\n",
        "         'out/20' : '2020-10-10', \\\n",
        "         'nov/20' : '2020-11-10', \\\n",
        "         'dez/20' : '2020-12-10', \\\n",
        "         '03/2020' : '2020-03-10', \\\n",
        "         '04/2020' : '2020-04-10', \\\n",
        "         '05/2020' : '2020-05-10', \\\n",
        "         '06/2020' : '2020-06-10', \\\n",
        "         '07/2020' : '2020-07-10', \\\n",
        "         '08/2020' : '2020-08-10', \\\n",
        "         '09/2020' : '2020-09-10', \\\n",
        "         '10/2020' : '2020-10-10', \\\n",
        "         '11/2020' : '2020-11-10', \\\n",
        "         '12/2020' : '2020-12-10'\n",
        "         }\n",
        "\n",
        "invest_covidPe['data_hora'] = invest_covidPe['data_hora'].apply(lambda dates: dates.replace(dates, meses[dates]))\n",
        "\n",
        "invest_covidPe['data_hora'].unique()"
      ],
      "execution_count": null,
      "outputs": [
        {
          "output_type": "execute_result",
          "data": {
            "text/plain": [
              "array(['2020-03-10', '2020-04-10', '2020-05-10', '2020-06-10',\n",
              "       '2020-07-10', '2020-08-10', '2020-09-10', '2020-10-10',\n",
              "       '2020-11-10', '2020-12-10'], dtype=object)"
            ]
          },
          "metadata": {
            "tags": []
          },
          "execution_count": 104
        }
      ]
    },
    {
      "cell_type": "code",
      "metadata": {
        "colab": {
          "base_uri": "https://localhost:8080/"
        },
        "id": "pdQIw-aU6OfY",
        "outputId": "8220051f-5fe2-4b05-a867-bff32d8dfb82"
      },
      "source": [
        "# convert the 'Date' column to datetime format\n",
        "invest_covidPe['data_hora'] = pd.to_datetime(invest_covidPe['data_hora'])\n",
        "\n",
        "# Check the format of 'Date' column\n",
        "invest_covidPe.info()"
      ],
      "execution_count": null,
      "outputs": [
        {
          "output_type": "stream",
          "text": [
            "<class 'pandas.core.frame.DataFrame'>\n",
            "Int64Index: 149 entries, 0 to 699\n",
            "Data columns (total 5 columns):\n",
            " #   Column             Non-Null Count  Dtype         \n",
            "---  ------             --------------  -----         \n",
            " 0   data_hora          149 non-null    datetime64[ns]\n",
            " 1   tipo_favorecido    149 non-null    object        \n",
            " 2   municipio          149 non-null    object        \n",
            " 3   acao_orcamentaria  149 non-null    object        \n",
            " 4   gastos             149 non-null    float64       \n",
            "dtypes: datetime64[ns](1), float64(1), object(3)\n",
            "memory usage: 7.0+ KB\n"
          ],
          "name": "stdout"
        }
      ]
    },
    {
      "cell_type": "markdown",
      "metadata": {
        "id": "jLDhV-F6-1nV"
      },
      "source": [
        "##### **Definindo dados categóricos**"
      ]
    },
    {
      "cell_type": "markdown",
      "metadata": {
        "id": "MWRARfMS4HUW"
      },
      "source": [
        "Conversão de dados categóricos\n",
        "> ```object``` -> ```category```"
      ]
    },
    {
      "cell_type": "code",
      "metadata": {
        "colab": {
          "base_uri": "https://localhost:8080/"
        },
        "id": "_XFyq-WR-0HA",
        "outputId": "b7eea5e5-c91d-4bf1-a364-d06cc4b0f81f"
      },
      "source": [
        "invest_covidPe['data_hora'] = invest_covidPe['data_hora'].astype('category')\n",
        "invest_covidPe['municipio'] = invest_covidPe['municipio'].astype('category')\n",
        "invest_covidPe['tipo_favorecido'] = invest_covidPe['tipo_favorecido'].astype('category')\n",
        "invest_covidPe['acao_orcamentaria'] = invest_covidPe['acao_orcamentaria'].astype('category')\n",
        "invest_covidPe.info(verbose=True)"
      ],
      "execution_count": null,
      "outputs": [
        {
          "output_type": "stream",
          "text": [
            "<class 'pandas.core.frame.DataFrame'>\n",
            "Int64Index: 149 entries, 0 to 699\n",
            "Data columns (total 5 columns):\n",
            " #   Column             Non-Null Count  Dtype   \n",
            "---  ------             --------------  -----   \n",
            " 0   data_hora          149 non-null    category\n",
            " 1   tipo_favorecido    149 non-null    category\n",
            " 2   municipio          149 non-null    category\n",
            " 3   acao_orcamentaria  149 non-null    category\n",
            " 4   gastos             149 non-null    float64 \n",
            "dtypes: category(4), float64(1)\n",
            "memory usage: 3.9 KB\n"
          ],
          "name": "stdout"
        }
      ]
    },
    {
      "cell_type": "markdown",
      "metadata": {
        "id": "JvIjW9eo7M4V"
      },
      "source": [
        "### **Tratamento dos dados de casos de covid-19 em PE**"
      ]
    },
    {
      "cell_type": "markdown",
      "metadata": {
        "id": "UrgXxWT1MCvo"
      },
      "source": [
        "Filtragem de categorias"
      ]
    },
    {
      "cell_type": "code",
      "metadata": {
        "colab": {
          "base_uri": "https://localhost:8080/"
        },
        "id": "ycdb5D-sLijY",
        "outputId": "5f598d10-f62e-47e9-fe20-4a397fe7fd2c"
      },
      "source": [
        "covidPeCases = covidPeCases.filter(items=['city', \\\n",
        "                                         'last_available_confirmed', \\\n",
        "                                         'last_available_deaths', \\\n",
        "                                         'last_available_death_rate', \\\n",
        "                                         'estimated_population' \\\n",
        "                                         ])\n",
        "covidPeCases"
      ],
      "execution_count": null,
      "outputs": [
        {
          "output_type": "execute_result",
          "data": {
            "text/html": [
              "<div>\n",
              "<style scoped>\n",
              "    .dataframe tbody tr th:only-of-type {\n",
              "        vertical-align: middle;\n",
              "    }\n",
              "\n",
              "    .dataframe tbody tr th {\n",
              "        vertical-align: top;\n",
              "    }\n",
              "\n",
              "    .dataframe thead th {\n",
              "        text-align: right;\n",
              "    }\n",
              "</style>\n",
              "<table border=\"1\" class=\"dataframe\">\n",
              "  <thead>\n",
              "    <tr style=\"text-align: right;\">\n",
              "      <th></th>\n",
              "      <th>city</th>\n",
              "      <th>last_available_confirmed</th>\n",
              "      <th>last_available_deaths</th>\n",
              "      <th>last_available_death_rate</th>\n",
              "      <th>estimated_population</th>\n",
              "    </tr>\n",
              "  </thead>\n",
              "  <tbody>\n",
              "    <tr>\n",
              "      <th>0</th>\n",
              "      <td>NaN</td>\n",
              "      <td>323176</td>\n",
              "      <td>11510</td>\n",
              "      <td>0.0356</td>\n",
              "      <td>9616621.0</td>\n",
              "    </tr>\n",
              "    <tr>\n",
              "      <th>1</th>\n",
              "      <td>Abreu e Lima</td>\n",
              "      <td>1700</td>\n",
              "      <td>159</td>\n",
              "      <td>0.0935</td>\n",
              "      <td>100346.0</td>\n",
              "    </tr>\n",
              "    <tr>\n",
              "      <th>2</th>\n",
              "      <td>Afogados da Ingazeira</td>\n",
              "      <td>2478</td>\n",
              "      <td>35</td>\n",
              "      <td>0.0141</td>\n",
              "      <td>37404.0</td>\n",
              "    </tr>\n",
              "    <tr>\n",
              "      <th>3</th>\n",
              "      <td>Afrânio</td>\n",
              "      <td>578</td>\n",
              "      <td>9</td>\n",
              "      <td>0.0156</td>\n",
              "      <td>19810.0</td>\n",
              "    </tr>\n",
              "    <tr>\n",
              "      <th>4</th>\n",
              "      <td>Agrestina</td>\n",
              "      <td>865</td>\n",
              "      <td>36</td>\n",
              "      <td>0.0416</td>\n",
              "      <td>25065.0</td>\n",
              "    </tr>\n",
              "    <tr>\n",
              "      <th>...</th>\n",
              "      <td>...</td>\n",
              "      <td>...</td>\n",
              "      <td>...</td>\n",
              "      <td>...</td>\n",
              "      <td>...</td>\n",
              "    </tr>\n",
              "    <tr>\n",
              "      <th>182</th>\n",
              "      <td>Vertente do Lério</td>\n",
              "      <td>156</td>\n",
              "      <td>2</td>\n",
              "      <td>0.0128</td>\n",
              "      <td>7571.0</td>\n",
              "    </tr>\n",
              "    <tr>\n",
              "      <th>183</th>\n",
              "      <td>Vertentes</td>\n",
              "      <td>408</td>\n",
              "      <td>5</td>\n",
              "      <td>0.0123</td>\n",
              "      <td>20954.0</td>\n",
              "    </tr>\n",
              "    <tr>\n",
              "      <th>184</th>\n",
              "      <td>Vicência</td>\n",
              "      <td>431</td>\n",
              "      <td>16</td>\n",
              "      <td>0.0371</td>\n",
              "      <td>32772.0</td>\n",
              "    </tr>\n",
              "    <tr>\n",
              "      <th>185</th>\n",
              "      <td>Vitória de Santo Antão</td>\n",
              "      <td>3038</td>\n",
              "      <td>186</td>\n",
              "      <td>0.0612</td>\n",
              "      <td>139583.0</td>\n",
              "    </tr>\n",
              "    <tr>\n",
              "      <th>186</th>\n",
              "      <td>Xexéu</td>\n",
              "      <td>344</td>\n",
              "      <td>18</td>\n",
              "      <td>0.0523</td>\n",
              "      <td>14757.0</td>\n",
              "    </tr>\n",
              "  </tbody>\n",
              "</table>\n",
              "<p>187 rows × 5 columns</p>\n",
              "</div>"
            ],
            "text/plain": [
              "                       city  ...  estimated_population\n",
              "0                       NaN  ...             9616621.0\n",
              "1              Abreu e Lima  ...              100346.0\n",
              "2     Afogados da Ingazeira  ...               37404.0\n",
              "3                   Afrânio  ...               19810.0\n",
              "4                 Agrestina  ...               25065.0\n",
              "..                      ...  ...                   ...\n",
              "182       Vertente do Lério  ...                7571.0\n",
              "183               Vertentes  ...               20954.0\n",
              "184                Vicência  ...               32772.0\n",
              "185  Vitória de Santo Antão  ...              139583.0\n",
              "186                   Xexéu  ...               14757.0\n",
              "\n",
              "[187 rows x 5 columns]"
            ]
          },
          "metadata": {
            "tags": []
          },
          "execution_count": 107
        }
      ]
    },
    {
      "cell_type": "markdown",
      "metadata": {
        "id": "KugjoksVMEZn"
      },
      "source": [
        "Renomeação de colunas"
      ]
    },
    {
      "cell_type": "code",
      "metadata": {
        "id": "QxTROxJ_L3bR",
        "colab": {
          "base_uri": "https://localhost:8080/"
        },
        "outputId": "bb048864-c214-4105-f152-636bad1d8cb1"
      },
      "source": [
        "covidPeCases = covidPeCases.rename(columns={\"city\": \"municipio\", \\\n",
        "                                           \"last_available_confirmed\": \"casos_confirmados\", \\\n",
        "                                           \"last_available_deaths\": \"mortes_confirmadas\", \\\n",
        "                                           \"last_available_death_rate\": \"taxa_mortalidade\", \\\n",
        "                                           \"estimated_population\": \"pop_estimada\" \\\n",
        "                                           })\n",
        "covidPeCases"
      ],
      "execution_count": null,
      "outputs": [
        {
          "output_type": "execute_result",
          "data": {
            "text/html": [
              "<div>\n",
              "<style scoped>\n",
              "    .dataframe tbody tr th:only-of-type {\n",
              "        vertical-align: middle;\n",
              "    }\n",
              "\n",
              "    .dataframe tbody tr th {\n",
              "        vertical-align: top;\n",
              "    }\n",
              "\n",
              "    .dataframe thead th {\n",
              "        text-align: right;\n",
              "    }\n",
              "</style>\n",
              "<table border=\"1\" class=\"dataframe\">\n",
              "  <thead>\n",
              "    <tr style=\"text-align: right;\">\n",
              "      <th></th>\n",
              "      <th>municipio</th>\n",
              "      <th>casos_confirmados</th>\n",
              "      <th>mortes_confirmadas</th>\n",
              "      <th>taxa_mortalidade</th>\n",
              "      <th>pop_estimada</th>\n",
              "    </tr>\n",
              "  </thead>\n",
              "  <tbody>\n",
              "    <tr>\n",
              "      <th>0</th>\n",
              "      <td>NaN</td>\n",
              "      <td>323176</td>\n",
              "      <td>11510</td>\n",
              "      <td>0.0356</td>\n",
              "      <td>9616621.0</td>\n",
              "    </tr>\n",
              "    <tr>\n",
              "      <th>1</th>\n",
              "      <td>Abreu e Lima</td>\n",
              "      <td>1700</td>\n",
              "      <td>159</td>\n",
              "      <td>0.0935</td>\n",
              "      <td>100346.0</td>\n",
              "    </tr>\n",
              "    <tr>\n",
              "      <th>2</th>\n",
              "      <td>Afogados da Ingazeira</td>\n",
              "      <td>2478</td>\n",
              "      <td>35</td>\n",
              "      <td>0.0141</td>\n",
              "      <td>37404.0</td>\n",
              "    </tr>\n",
              "    <tr>\n",
              "      <th>3</th>\n",
              "      <td>Afrânio</td>\n",
              "      <td>578</td>\n",
              "      <td>9</td>\n",
              "      <td>0.0156</td>\n",
              "      <td>19810.0</td>\n",
              "    </tr>\n",
              "    <tr>\n",
              "      <th>4</th>\n",
              "      <td>Agrestina</td>\n",
              "      <td>865</td>\n",
              "      <td>36</td>\n",
              "      <td>0.0416</td>\n",
              "      <td>25065.0</td>\n",
              "    </tr>\n",
              "    <tr>\n",
              "      <th>...</th>\n",
              "      <td>...</td>\n",
              "      <td>...</td>\n",
              "      <td>...</td>\n",
              "      <td>...</td>\n",
              "      <td>...</td>\n",
              "    </tr>\n",
              "    <tr>\n",
              "      <th>182</th>\n",
              "      <td>Vertente do Lério</td>\n",
              "      <td>156</td>\n",
              "      <td>2</td>\n",
              "      <td>0.0128</td>\n",
              "      <td>7571.0</td>\n",
              "    </tr>\n",
              "    <tr>\n",
              "      <th>183</th>\n",
              "      <td>Vertentes</td>\n",
              "      <td>408</td>\n",
              "      <td>5</td>\n",
              "      <td>0.0123</td>\n",
              "      <td>20954.0</td>\n",
              "    </tr>\n",
              "    <tr>\n",
              "      <th>184</th>\n",
              "      <td>Vicência</td>\n",
              "      <td>431</td>\n",
              "      <td>16</td>\n",
              "      <td>0.0371</td>\n",
              "      <td>32772.0</td>\n",
              "    </tr>\n",
              "    <tr>\n",
              "      <th>185</th>\n",
              "      <td>Vitória de Santo Antão</td>\n",
              "      <td>3038</td>\n",
              "      <td>186</td>\n",
              "      <td>0.0612</td>\n",
              "      <td>139583.0</td>\n",
              "    </tr>\n",
              "    <tr>\n",
              "      <th>186</th>\n",
              "      <td>Xexéu</td>\n",
              "      <td>344</td>\n",
              "      <td>18</td>\n",
              "      <td>0.0523</td>\n",
              "      <td>14757.0</td>\n",
              "    </tr>\n",
              "  </tbody>\n",
              "</table>\n",
              "<p>187 rows × 5 columns</p>\n",
              "</div>"
            ],
            "text/plain": [
              "                  municipio  casos_confirmados  ...  taxa_mortalidade  pop_estimada\n",
              "0                       NaN             323176  ...            0.0356     9616621.0\n",
              "1              Abreu e Lima               1700  ...            0.0935      100346.0\n",
              "2     Afogados da Ingazeira               2478  ...            0.0141       37404.0\n",
              "3                   Afrânio                578  ...            0.0156       19810.0\n",
              "4                 Agrestina                865  ...            0.0416       25065.0\n",
              "..                      ...                ...  ...               ...           ...\n",
              "182       Vertente do Lério                156  ...            0.0128        7571.0\n",
              "183               Vertentes                408  ...            0.0123       20954.0\n",
              "184                Vicência                431  ...            0.0371       32772.0\n",
              "185  Vitória de Santo Antão               3038  ...            0.0612      139583.0\n",
              "186                   Xexéu                344  ...            0.0523       14757.0\n",
              "\n",
              "[187 rows x 5 columns]"
            ]
          },
          "metadata": {
            "tags": []
          },
          "execution_count": 108
        }
      ]
    },
    {
      "cell_type": "markdown",
      "metadata": {
        "id": "ppahtXoqPG7l"
      },
      "source": [
        "Filtrar cidades do dataset de Gastos públicos"
      ]
    },
    {
      "cell_type": "code",
      "metadata": {
        "id": "E2Y3omYllzL2",
        "colab": {
          "base_uri": "https://localhost:8080/"
        },
        "outputId": "bf5f8dd7-98de-4d44-ed21-a77789b78b83"
      },
      "source": [
        "#Guardando uma cópia dos dados de todas as cidades\n",
        "oldCovidPeCases = covidPeCases\n",
        "\n",
        "#Filtrando as cidades que selecionamos os gastos no portal da transparência\n",
        "cities = ['Arcoverde', \\\n",
        "          'Buíque', \\\n",
        "          'Caruaru', \\\n",
        "          'Garanhuns', \\\n",
        "          'Jaboatão dos Guararapes', \\\n",
        "          'Olinda', \\\n",
        "          'Paulista', \\\n",
        "          'Petrolina', \\\n",
        "          'Recife', \\\n",
        "          'Serra Talhada']\n",
        "\n",
        "covidPeCases = covidPeCases[covidPeCases.municipio.isin(cities)]\n",
        "covidPeCases"
      ],
      "execution_count": null,
      "outputs": [
        {
          "output_type": "execute_result",
          "data": {
            "text/html": [
              "<div>\n",
              "<style scoped>\n",
              "    .dataframe tbody tr th:only-of-type {\n",
              "        vertical-align: middle;\n",
              "    }\n",
              "\n",
              "    .dataframe tbody tr th {\n",
              "        vertical-align: top;\n",
              "    }\n",
              "\n",
              "    .dataframe thead th {\n",
              "        text-align: right;\n",
              "    }\n",
              "</style>\n",
              "<table border=\"1\" class=\"dataframe\">\n",
              "  <thead>\n",
              "    <tr style=\"text-align: right;\">\n",
              "      <th></th>\n",
              "      <th>municipio</th>\n",
              "      <th>casos_confirmados</th>\n",
              "      <th>mortes_confirmadas</th>\n",
              "      <th>taxa_mortalidade</th>\n",
              "      <th>pop_estimada</th>\n",
              "    </tr>\n",
              "  </thead>\n",
              "  <tbody>\n",
              "    <tr>\n",
              "      <th>14</th>\n",
              "      <td>Arcoverde</td>\n",
              "      <td>4281</td>\n",
              "      <td>87</td>\n",
              "      <td>0.0203</td>\n",
              "      <td>74822.0</td>\n",
              "    </tr>\n",
              "    <tr>\n",
              "      <th>30</th>\n",
              "      <td>Buíque</td>\n",
              "      <td>1436</td>\n",
              "      <td>23</td>\n",
              "      <td>0.0160</td>\n",
              "      <td>58919.0</td>\n",
              "    </tr>\n",
              "    <tr>\n",
              "      <th>45</th>\n",
              "      <td>Caruaru</td>\n",
              "      <td>17187</td>\n",
              "      <td>454</td>\n",
              "      <td>0.0264</td>\n",
              "      <td>365278.0</td>\n",
              "    </tr>\n",
              "    <tr>\n",
              "      <th>67</th>\n",
              "      <td>Garanhuns</td>\n",
              "      <td>7250</td>\n",
              "      <td>134</td>\n",
              "      <td>0.0185</td>\n",
              "      <td>140577.0</td>\n",
              "    </tr>\n",
              "    <tr>\n",
              "      <th>89</th>\n",
              "      <td>Jaboatão dos Guararapes</td>\n",
              "      <td>19966</td>\n",
              "      <td>1095</td>\n",
              "      <td>0.0548</td>\n",
              "      <td>706867.0</td>\n",
              "    </tr>\n",
              "    <tr>\n",
              "      <th>113</th>\n",
              "      <td>Olinda</td>\n",
              "      <td>14581</td>\n",
              "      <td>635</td>\n",
              "      <td>0.0435</td>\n",
              "      <td>393115.0</td>\n",
              "    </tr>\n",
              "    <tr>\n",
              "      <th>124</th>\n",
              "      <td>Paulista</td>\n",
              "      <td>7154</td>\n",
              "      <td>528</td>\n",
              "      <td>0.0738</td>\n",
              "      <td>334376.0</td>\n",
              "    </tr>\n",
              "    <tr>\n",
              "      <th>128</th>\n",
              "      <td>Petrolina</td>\n",
              "      <td>18239</td>\n",
              "      <td>209</td>\n",
              "      <td>0.0115</td>\n",
              "      <td>354317.0</td>\n",
              "    </tr>\n",
              "    <tr>\n",
              "      <th>134</th>\n",
              "      <td>Recife</td>\n",
              "      <td>78117</td>\n",
              "      <td>3168</td>\n",
              "      <td>0.0406</td>\n",
              "      <td>1653461.0</td>\n",
              "    </tr>\n",
              "    <tr>\n",
              "      <th>160</th>\n",
              "      <td>Serra Talhada</td>\n",
              "      <td>7341</td>\n",
              "      <td>105</td>\n",
              "      <td>0.0143</td>\n",
              "      <td>86915.0</td>\n",
              "    </tr>\n",
              "  </tbody>\n",
              "</table>\n",
              "</div>"
            ],
            "text/plain": [
              "                   municipio  casos_confirmados  ...  taxa_mortalidade  pop_estimada\n",
              "14                 Arcoverde               4281  ...            0.0203       74822.0\n",
              "30                    Buíque               1436  ...            0.0160       58919.0\n",
              "45                   Caruaru              17187  ...            0.0264      365278.0\n",
              "67                 Garanhuns               7250  ...            0.0185      140577.0\n",
              "89   Jaboatão dos Guararapes              19966  ...            0.0548      706867.0\n",
              "113                   Olinda              14581  ...            0.0435      393115.0\n",
              "124                 Paulista               7154  ...            0.0738      334376.0\n",
              "128                Petrolina              18239  ...            0.0115      354317.0\n",
              "134                   Recife              78117  ...            0.0406     1653461.0\n",
              "160            Serra Talhada               7341  ...            0.0143       86915.0\n",
              "\n",
              "[10 rows x 5 columns]"
            ]
          },
          "metadata": {
            "tags": []
          },
          "execution_count": 109
        }
      ]
    },
    {
      "cell_type": "code",
      "metadata": {
        "colab": {
          "base_uri": "https://localhost:8080/"
        },
        "id": "ahFKtynRWcZK",
        "outputId": "413561c3-a6cb-48c5-b6ea-29286560fac1"
      },
      "source": [
        "covidPeCases.info(verbose=True)"
      ],
      "execution_count": null,
      "outputs": [
        {
          "output_type": "stream",
          "text": [
            "<class 'pandas.core.frame.DataFrame'>\n",
            "Int64Index: 10 entries, 14 to 160\n",
            "Data columns (total 5 columns):\n",
            " #   Column              Non-Null Count  Dtype  \n",
            "---  ------              --------------  -----  \n",
            " 0   municipio           10 non-null     object \n",
            " 1   casos_confirmados   10 non-null     int64  \n",
            " 2   mortes_confirmadas  10 non-null     int64  \n",
            " 3   taxa_mortalidade    10 non-null     float64\n",
            " 4   pop_estimada        10 non-null     float64\n",
            "dtypes: float64(2), int64(2), object(1)\n",
            "memory usage: 480.0+ bytes\n"
          ],
          "name": "stdout"
        }
      ]
    },
    {
      "cell_type": "code",
      "metadata": {
        "colab": {
          "base_uri": "https://localhost:8080/"
        },
        "id": "TrR7lzvjbI4n",
        "outputId": "dbe168cd-941b-44df-c91e-06ac50d88811"
      },
      "source": [
        "covidPeCases['municipio'] = covidPeCases['municipio'].apply(lambda city: city.upper())\n",
        "covidPeCases['municipio'].unique()"
      ],
      "execution_count": null,
      "outputs": [
        {
          "output_type": "stream",
          "text": [
            "/usr/local/lib/python3.7/dist-packages/ipykernel_launcher.py:1: SettingWithCopyWarning: \n",
            "A value is trying to be set on a copy of a slice from a DataFrame.\n",
            "Try using .loc[row_indexer,col_indexer] = value instead\n",
            "\n",
            "See the caveats in the documentation: https://pandas.pydata.org/pandas-docs/stable/user_guide/indexing.html#returning-a-view-versus-a-copy\n",
            "  \"\"\"Entry point for launching an IPython kernel.\n"
          ],
          "name": "stderr"
        },
        {
          "output_type": "execute_result",
          "data": {
            "text/plain": [
              "array(['ARCOVERDE', 'BUÍQUE', 'CARUARU', 'GARANHUNS',\n",
              "       'JABOATÃO DOS GUARARAPES', 'OLINDA', 'PAULISTA', 'PETROLINA',\n",
              "       'RECIFE', 'SERRA TALHADA'], dtype=object)"
            ]
          },
          "metadata": {
            "tags": []
          },
          "execution_count": 111
        }
      ]
    },
    {
      "cell_type": "code",
      "metadata": {
        "colab": {
          "base_uri": "https://localhost:8080/"
        },
        "id": "eOyrO8VdcMGn",
        "outputId": "5b35e394-e661-40a5-dd33-152c41defd1c"
      },
      "source": [
        "covidPeCases['municipio'] = covidPeCases['municipio'].astype('category')\n",
        "covidPeCases['id'] = covidPeCases['municipio'].cat.codes\n",
        "covidPeCases.index = covidPeCases['id']"
      ],
      "execution_count": null,
      "outputs": [
        {
          "output_type": "stream",
          "text": [
            "/usr/local/lib/python3.7/dist-packages/ipykernel_launcher.py:1: SettingWithCopyWarning: \n",
            "A value is trying to be set on a copy of a slice from a DataFrame.\n",
            "Try using .loc[row_indexer,col_indexer] = value instead\n",
            "\n",
            "See the caveats in the documentation: https://pandas.pydata.org/pandas-docs/stable/user_guide/indexing.html#returning-a-view-versus-a-copy\n",
            "  \"\"\"Entry point for launching an IPython kernel.\n",
            "/usr/local/lib/python3.7/dist-packages/ipykernel_launcher.py:2: SettingWithCopyWarning: \n",
            "A value is trying to be set on a copy of a slice from a DataFrame.\n",
            "Try using .loc[row_indexer,col_indexer] = value instead\n",
            "\n",
            "See the caveats in the documentation: https://pandas.pydata.org/pandas-docs/stable/user_guide/indexing.html#returning-a-view-versus-a-copy\n",
            "  \n"
          ],
          "name": "stderr"
        }
      ]
    },
    {
      "cell_type": "code",
      "metadata": {
        "colab": {
          "base_uri": "https://localhost:8080/"
        },
        "id": "BCs0LeFWlV0y",
        "outputId": "44d6cf51-08d7-46b2-b0a4-734f3c06955f"
      },
      "source": [
        "covidPeCases"
      ],
      "execution_count": null,
      "outputs": [
        {
          "output_type": "execute_result",
          "data": {
            "text/html": [
              "<div>\n",
              "<style scoped>\n",
              "    .dataframe tbody tr th:only-of-type {\n",
              "        vertical-align: middle;\n",
              "    }\n",
              "\n",
              "    .dataframe tbody tr th {\n",
              "        vertical-align: top;\n",
              "    }\n",
              "\n",
              "    .dataframe thead th {\n",
              "        text-align: right;\n",
              "    }\n",
              "</style>\n",
              "<table border=\"1\" class=\"dataframe\">\n",
              "  <thead>\n",
              "    <tr style=\"text-align: right;\">\n",
              "      <th></th>\n",
              "      <th>municipio</th>\n",
              "      <th>casos_confirmados</th>\n",
              "      <th>mortes_confirmadas</th>\n",
              "      <th>taxa_mortalidade</th>\n",
              "      <th>pop_estimada</th>\n",
              "      <th>id</th>\n",
              "    </tr>\n",
              "    <tr>\n",
              "      <th>id</th>\n",
              "      <th></th>\n",
              "      <th></th>\n",
              "      <th></th>\n",
              "      <th></th>\n",
              "      <th></th>\n",
              "      <th></th>\n",
              "    </tr>\n",
              "  </thead>\n",
              "  <tbody>\n",
              "    <tr>\n",
              "      <th>0</th>\n",
              "      <td>ARCOVERDE</td>\n",
              "      <td>4281</td>\n",
              "      <td>87</td>\n",
              "      <td>0.0203</td>\n",
              "      <td>74822.0</td>\n",
              "      <td>0</td>\n",
              "    </tr>\n",
              "    <tr>\n",
              "      <th>1</th>\n",
              "      <td>BUÍQUE</td>\n",
              "      <td>1436</td>\n",
              "      <td>23</td>\n",
              "      <td>0.0160</td>\n",
              "      <td>58919.0</td>\n",
              "      <td>1</td>\n",
              "    </tr>\n",
              "    <tr>\n",
              "      <th>2</th>\n",
              "      <td>CARUARU</td>\n",
              "      <td>17187</td>\n",
              "      <td>454</td>\n",
              "      <td>0.0264</td>\n",
              "      <td>365278.0</td>\n",
              "      <td>2</td>\n",
              "    </tr>\n",
              "    <tr>\n",
              "      <th>3</th>\n",
              "      <td>GARANHUNS</td>\n",
              "      <td>7250</td>\n",
              "      <td>134</td>\n",
              "      <td>0.0185</td>\n",
              "      <td>140577.0</td>\n",
              "      <td>3</td>\n",
              "    </tr>\n",
              "    <tr>\n",
              "      <th>4</th>\n",
              "      <td>JABOATÃO DOS GUARARAPES</td>\n",
              "      <td>19966</td>\n",
              "      <td>1095</td>\n",
              "      <td>0.0548</td>\n",
              "      <td>706867.0</td>\n",
              "      <td>4</td>\n",
              "    </tr>\n",
              "    <tr>\n",
              "      <th>5</th>\n",
              "      <td>OLINDA</td>\n",
              "      <td>14581</td>\n",
              "      <td>635</td>\n",
              "      <td>0.0435</td>\n",
              "      <td>393115.0</td>\n",
              "      <td>5</td>\n",
              "    </tr>\n",
              "    <tr>\n",
              "      <th>6</th>\n",
              "      <td>PAULISTA</td>\n",
              "      <td>7154</td>\n",
              "      <td>528</td>\n",
              "      <td>0.0738</td>\n",
              "      <td>334376.0</td>\n",
              "      <td>6</td>\n",
              "    </tr>\n",
              "    <tr>\n",
              "      <th>7</th>\n",
              "      <td>PETROLINA</td>\n",
              "      <td>18239</td>\n",
              "      <td>209</td>\n",
              "      <td>0.0115</td>\n",
              "      <td>354317.0</td>\n",
              "      <td>7</td>\n",
              "    </tr>\n",
              "    <tr>\n",
              "      <th>8</th>\n",
              "      <td>RECIFE</td>\n",
              "      <td>78117</td>\n",
              "      <td>3168</td>\n",
              "      <td>0.0406</td>\n",
              "      <td>1653461.0</td>\n",
              "      <td>8</td>\n",
              "    </tr>\n",
              "    <tr>\n",
              "      <th>9</th>\n",
              "      <td>SERRA TALHADA</td>\n",
              "      <td>7341</td>\n",
              "      <td>105</td>\n",
              "      <td>0.0143</td>\n",
              "      <td>86915.0</td>\n",
              "      <td>9</td>\n",
              "    </tr>\n",
              "  </tbody>\n",
              "</table>\n",
              "</div>"
            ],
            "text/plain": [
              "                  municipio  casos_confirmados  ...  pop_estimada  id\n",
              "id                                              ...                  \n",
              "0                 ARCOVERDE               4281  ...       74822.0   0\n",
              "1                    BUÍQUE               1436  ...       58919.0   1\n",
              "2                   CARUARU              17187  ...      365278.0   2\n",
              "3                 GARANHUNS               7250  ...      140577.0   3\n",
              "4   JABOATÃO DOS GUARARAPES              19966  ...      706867.0   4\n",
              "5                    OLINDA              14581  ...      393115.0   5\n",
              "6                  PAULISTA               7154  ...      334376.0   6\n",
              "7                 PETROLINA              18239  ...      354317.0   7\n",
              "8                    RECIFE              78117  ...     1653461.0   8\n",
              "9             SERRA TALHADA               7341  ...       86915.0   9\n",
              "\n",
              "[10 rows x 6 columns]"
            ]
          },
          "metadata": {
            "tags": []
          },
          "execution_count": 113
        }
      ]
    },
    {
      "cell_type": "markdown",
      "metadata": {
        "id": "IDTgOPKxAaCv"
      },
      "source": [
        "### **Remoção de outliers multivariado**\n",
        "> Método utilizado:\n",
        "  * Local Outlier Factor\n",
        "\n",
        "> Conjunto:\n",
        "  * ```investCovidPE```"
      ]
    },
    {
      "cell_type": "markdown",
      "metadata": {
        "id": "nayhR_TLag-A"
      },
      "source": [
        "Categorizando Gastos públicos"
      ]
    },
    {
      "cell_type": "markdown",
      "metadata": {
        "id": "qtQRD6AomH-A"
      },
      "source": [
        "Método para vincular os dados de municípios entre os dois Conjuntos de Dados"
      ]
    },
    {
      "cell_type": "code",
      "metadata": {
        "id": "7712t-mXfjd1"
      },
      "source": [
        "def categorizar_municipio(city):\n",
        "  return covidPeCases[covidPeCases['municipio'] == str(city)].index.values.astype(int)[0]"
      ],
      "execution_count": null,
      "outputs": []
    },
    {
      "cell_type": "code",
      "metadata": {
        "id": "L7aa-Y4WAiKn"
      },
      "source": [
        "invest_covidPe['municipio'] = invest_covidPe['municipio'].map(lambda city: city.replace(city, str(categorizar_municipio(city))))\n",
        "invest_covidPe['tipo_favorecido'] = invest_covidPe['tipo_favorecido'].cat.codes\n",
        "invest_covidPe['acao_orcamentaria'] = invest_covidPe['acao_orcamentaria'].cat.codes"
      ],
      "execution_count": null,
      "outputs": []
    },
    {
      "cell_type": "code",
      "metadata": {
        "colab": {
          "base_uri": "https://localhost:8080/",
          "height": 402
        },
        "id": "BkajQcJKl24y",
        "outputId": "ba407fd7-ea64-486d-f15a-7971d71f5cb1"
      },
      "source": [
        "invest_covidPe"
      ],
      "execution_count": null,
      "outputs": [
        {
          "output_type": "execute_result",
          "data": {
            "text/html": [
              "<div>\n",
              "<style scoped>\n",
              "    .dataframe tbody tr th:only-of-type {\n",
              "        vertical-align: middle;\n",
              "    }\n",
              "\n",
              "    .dataframe tbody tr th {\n",
              "        vertical-align: top;\n",
              "    }\n",
              "\n",
              "    .dataframe thead th {\n",
              "        text-align: right;\n",
              "    }\n",
              "</style>\n",
              "<table border=\"1\" class=\"dataframe\">\n",
              "  <thead>\n",
              "    <tr style=\"text-align: right;\">\n",
              "      <th></th>\n",
              "      <th>data_hora</th>\n",
              "      <th>tipo_favorecido</th>\n",
              "      <th>municipio</th>\n",
              "      <th>acao_orcamentaria</th>\n",
              "      <th>gastos</th>\n",
              "    </tr>\n",
              "  </thead>\n",
              "  <tbody>\n",
              "    <tr>\n",
              "      <th>0</th>\n",
              "      <td>2020-03-10</td>\n",
              "      <td>1</td>\n",
              "      <td>8</td>\n",
              "      <td>1</td>\n",
              "      <td>60000.00</td>\n",
              "    </tr>\n",
              "    <tr>\n",
              "      <th>1</th>\n",
              "      <td>2020-04-10</td>\n",
              "      <td>1</td>\n",
              "      <td>3</td>\n",
              "      <td>1</td>\n",
              "      <td>1174944.27</td>\n",
              "    </tr>\n",
              "    <tr>\n",
              "      <th>2</th>\n",
              "      <td>2020-04-10</td>\n",
              "      <td>1</td>\n",
              "      <td>7</td>\n",
              "      <td>1</td>\n",
              "      <td>4130446.89</td>\n",
              "    </tr>\n",
              "    <tr>\n",
              "      <th>3</th>\n",
              "      <td>2020-04-10</td>\n",
              "      <td>1</td>\n",
              "      <td>5</td>\n",
              "      <td>1</td>\n",
              "      <td>3830136.03</td>\n",
              "    </tr>\n",
              "    <tr>\n",
              "      <th>4</th>\n",
              "      <td>2020-04-10</td>\n",
              "      <td>1</td>\n",
              "      <td>2</td>\n",
              "      <td>1</td>\n",
              "      <td>3662675.00</td>\n",
              "    </tr>\n",
              "    <tr>\n",
              "      <th>...</th>\n",
              "      <td>...</td>\n",
              "      <td>...</td>\n",
              "      <td>...</td>\n",
              "      <td>...</td>\n",
              "      <td>...</td>\n",
              "    </tr>\n",
              "    <tr>\n",
              "      <th>695</th>\n",
              "      <td>2020-07-10</td>\n",
              "      <td>1</td>\n",
              "      <td>3</td>\n",
              "      <td>0</td>\n",
              "      <td>4995000.00</td>\n",
              "    </tr>\n",
              "    <tr>\n",
              "      <th>696</th>\n",
              "      <td>2020-04-10</td>\n",
              "      <td>1</td>\n",
              "      <td>4</td>\n",
              "      <td>0</td>\n",
              "      <td>7327021.87</td>\n",
              "    </tr>\n",
              "    <tr>\n",
              "      <th>697</th>\n",
              "      <td>2020-10-10</td>\n",
              "      <td>1</td>\n",
              "      <td>8</td>\n",
              "      <td>0</td>\n",
              "      <td>3500000.00</td>\n",
              "    </tr>\n",
              "    <tr>\n",
              "      <th>698</th>\n",
              "      <td>2020-07-10</td>\n",
              "      <td>1</td>\n",
              "      <td>7</td>\n",
              "      <td>0</td>\n",
              "      <td>8676053.00</td>\n",
              "    </tr>\n",
              "    <tr>\n",
              "      <th>699</th>\n",
              "      <td>2020-07-10</td>\n",
              "      <td>1</td>\n",
              "      <td>1</td>\n",
              "      <td>0</td>\n",
              "      <td>1850000.00</td>\n",
              "    </tr>\n",
              "  </tbody>\n",
              "</table>\n",
              "<p>149 rows × 5 columns</p>\n",
              "</div>"
            ],
            "text/plain": [
              "     data_hora  tipo_favorecido municipio  acao_orcamentaria      gastos\n",
              "0   2020-03-10                1         8                  1    60000.00\n",
              "1   2020-04-10                1         3                  1  1174944.27\n",
              "2   2020-04-10                1         7                  1  4130446.89\n",
              "3   2020-04-10                1         5                  1  3830136.03\n",
              "4   2020-04-10                1         2                  1  3662675.00\n",
              "..         ...              ...       ...                ...         ...\n",
              "695 2020-07-10                1         3                  0  4995000.00\n",
              "696 2020-04-10                1         4                  0  7327021.87\n",
              "697 2020-10-10                1         8                  0  3500000.00\n",
              "698 2020-07-10                1         7                  0  8676053.00\n",
              "699 2020-07-10                1         1                  0  1850000.00\n",
              "\n",
              "[149 rows x 5 columns]"
            ]
          },
          "metadata": {
            "tags": []
          },
          "execution_count": 116
        }
      ]
    },
    {
      "cell_type": "markdown",
      "metadata": {
        "id": "1IDXw_5TCKW2"
      },
      "source": [
        "#### **Local Outlier Factor**"
      ]
    },
    {
      "cell_type": "code",
      "metadata": {
        "colab": {
          "base_uri": "https://localhost:8080/"
        },
        "id": "cxh5XJkcFxoO",
        "outputId": "ff25f96e-755e-4985-9ef0-27c8331187de"
      },
      "source": [
        "invest_covidPe_lof = invest_covidPe\n",
        "print(\"Quantidade de linhas: \" + str(len(invest_covidPe)))"
      ],
      "execution_count": null,
      "outputs": [
        {
          "output_type": "stream",
          "text": [
            "Quantidade de linhas: 149\n"
          ],
          "name": "stdout"
        }
      ]
    },
    {
      "cell_type": "code",
      "metadata": {
        "id": "wNp19szfcqS-"
      },
      "source": [
        "from sklearn.neighbors import LocalOutlierFactor\n",
        "clf = LocalOutlierFactor(n_neighbors=10)"
      ],
      "execution_count": null,
      "outputs": []
    },
    {
      "cell_type": "code",
      "metadata": {
        "id": "hY-LVcjacyTl"
      },
      "source": [
        "scores = clf.fit_predict(invest_covidPe_lof)"
      ],
      "execution_count": null,
      "outputs": []
    },
    {
      "cell_type": "code",
      "metadata": {
        "id": "K-gCHumSdl3H",
        "colab": {
          "base_uri": "https://localhost:8080/"
        },
        "outputId": "8019126f-1041-473a-e0a0-f910c572b2da"
      },
      "source": [
        "# Valor de LOF\n",
        "-1*clf.negative_outlier_factor_"
      ],
      "execution_count": null,
      "outputs": [
        {
          "output_type": "execute_result",
          "data": {
            "text/plain": [
              "array([6.45035129e+08, 9.99337108e-01, 1.02823943e+00, 9.67542984e-01,\n",
              "       9.73448724e-01, 1.39456792e+00, 5.17243913e+00, 9.81013671e-01,\n",
              "       9.93862810e-01, 9.78314272e-01, 1.05344665e+00, 9.95590425e-01,\n",
              "       1.59955779e+00, 9.67116893e-01, 9.99760949e-01, 1.01641878e+00,\n",
              "       1.03832113e+00, 9.67116893e-01, 9.89410684e-01, 9.57459611e-01,\n",
              "       1.02792102e+00, 1.00141792e+00, 1.55029210e+00, 1.45592367e+00,\n",
              "       9.63090266e-01, 9.85558422e-01, 9.90336209e-01, 9.91499287e-01,\n",
              "       1.10497664e+00, 1.19882840e+01, 9.94895295e-01, 1.02400123e+00,\n",
              "       9.67633491e-01, 1.03365694e+00, 5.54851150e+00, 3.61718092e+00,\n",
              "       2.43899425e+08, 2.43899425e+08, 2.43899425e+08, 2.43899425e+08,\n",
              "       2.57028426e+00, 1.00861523e+00, 9.46835781e-01, 1.84268216e+01,\n",
              "       1.01711760e+00, 1.43149659e+01, 9.99623797e-01, 9.12772098e-01,\n",
              "       1.39781120e+00, 2.23936639e+00, 2.99073704e+00, 1.03452886e+00,\n",
              "       1.72115960e+00, 1.30993458e+00, 2.89224958e+00, 1.94006703e+00,\n",
              "       1.05270704e+00, 2.90774754e+00, 9.31690694e-01, 1.39781120e+00,\n",
              "       1.01641878e+00, 9.06836865e-01, 9.78314272e-01, 2.43899425e+08,\n",
              "       1.08652337e+00, 1.94006703e+00, 1.03452886e+00, 2.89224958e+00,\n",
              "       1.10497664e+00, 1.55029210e+00, 9.91730597e-01, 1.05270704e+00,\n",
              "       9.95590425e-01, 9.99623797e-01, 9.73448724e-01, 1.03832113e+00,\n",
              "       9.73010413e-01, 9.90852441e-01, 6.45035129e+08, 9.67633491e-01,\n",
              "       9.99337108e-01, 9.90907394e-01, 1.19882840e+01, 9.93862810e-01,\n",
              "       1.84268216e+01, 1.01963347e+00, 9.57459611e-01, 5.17243913e+00,\n",
              "       2.57028426e+00, 2.83851196e+00, 9.72406284e-01, 1.04095263e+00,\n",
              "       1.72115960e+00, 1.03365694e+00, 9.81013671e-01, 3.61718092e+00,\n",
              "       1.01421175e+00, 9.94895295e-01, 1.01337194e+00, 9.85558422e-01,\n",
              "       9.67116893e-01, 1.08275163e+00, 9.90336209e-01, 9.78314272e-01,\n",
              "       1.01585508e+00, 2.91177219e+00, 2.23936639e+00, 1.45592367e+00,\n",
              "       9.99760949e-01, 1.01409713e+00, 9.69453006e-01, 9.31690694e-01,\n",
              "       9.67116893e-01, 1.59955779e+00, 1.43149659e+01, 1.93612039e+00,\n",
              "       1.30993458e+00, 2.43899425e+08, 1.01711760e+00, 1.02393021e+00,\n",
              "       1.22671682e+00, 2.99073704e+00, 9.67542984e-01, 9.82973257e-01,\n",
              "       1.02459212e+00, 1.02093172e+00, 9.68781257e-01, 1.02823943e+00,\n",
              "       9.12772098e-01, 9.72557748e-01, 2.43899425e+08, 9.31735073e-01,\n",
              "       9.46835781e-01, 9.54843785e-01, 5.54851150e+00, 2.90774754e+00,\n",
              "       1.05344665e+00, 1.00141792e+00, 1.52519301e+00, 9.91499287e-01,\n",
              "       1.02400123e+00, 1.00861523e+00, 9.63090266e-01, 9.78314272e-01,\n",
              "       1.02792102e+00, 1.39456792e+00, 2.43899425e+08, 9.89410684e-01,\n",
              "       9.74920973e-01])"
            ]
          },
          "metadata": {
            "tags": []
          },
          "execution_count": 120
        }
      ]
    },
    {
      "cell_type": "code",
      "metadata": {
        "id": "nD9THEnLc9n5",
        "colab": {
          "base_uri": "https://localhost:8080/"
        },
        "outputId": "fdc9d909-9792-4649-b74f-544deb0631e6"
      },
      "source": [
        "scores"
      ],
      "execution_count": null,
      "outputs": [
        {
          "output_type": "execute_result",
          "data": {
            "text/plain": [
              "array([-1,  1,  1,  1,  1,  1, -1,  1,  1,  1,  1,  1, -1,  1,  1,  1,  1,\n",
              "        1,  1,  1,  1,  1, -1,  1,  1,  1,  1,  1,  1, -1,  1,  1,  1,  1,\n",
              "       -1, -1, -1, -1, -1, -1, -1,  1,  1, -1,  1, -1,  1,  1,  1, -1, -1,\n",
              "        1, -1,  1, -1, -1,  1, -1,  1,  1,  1,  1,  1, -1,  1, -1,  1, -1,\n",
              "        1, -1,  1,  1,  1,  1,  1,  1,  1,  1, -1,  1,  1,  1, -1,  1, -1,\n",
              "        1,  1, -1, -1, -1,  1,  1, -1,  1,  1, -1,  1,  1,  1,  1,  1,  1,\n",
              "        1,  1,  1, -1, -1,  1,  1,  1,  1,  1,  1, -1, -1, -1,  1, -1,  1,\n",
              "        1,  1, -1,  1,  1,  1,  1,  1,  1,  1,  1, -1,  1,  1,  1, -1, -1,\n",
              "        1,  1, -1,  1,  1,  1,  1,  1,  1,  1, -1,  1,  1])"
            ]
          },
          "metadata": {
            "tags": []
          },
          "execution_count": 121
        }
      ]
    },
    {
      "cell_type": "code",
      "metadata": {
        "id": "nipEFPzndJYa",
        "colab": {
          "base_uri": "https://localhost:8080/"
        },
        "outputId": "bffc75d5-7ac6-44d2-ed97-ef09e579950d"
      },
      "source": [
        "invest_covidPe_lof['outlier'] = scores\n",
        "print(invest_covidPe_lof.head())"
      ],
      "execution_count": null,
      "outputs": [
        {
          "output_type": "stream",
          "text": [
            "   data_hora  tipo_favorecido municipio  acao_orcamentaria      gastos  outlier\n",
            "0 2020-03-10                1         8                  1    60000.00       -1\n",
            "1 2020-04-10                1         3                  1  1174944.27        1\n",
            "2 2020-04-10                1         7                  1  4130446.89        1\n",
            "3 2020-04-10                1         5                  1  3830136.03        1\n",
            "4 2020-04-10                1         2                  1  3662675.00        1\n"
          ],
          "name": "stdout"
        }
      ]
    },
    {
      "cell_type": "code",
      "metadata": {
        "id": "YoaDBs3ldU8j",
        "colab": {
          "base_uri": "https://localhost:8080/",
          "height": 1000
        },
        "outputId": "f05677e6-c63a-4e7d-cc31-7c739c6119c2"
      },
      "source": [
        "invest_covidPe_lof[invest_covidPe_lof['outlier'] == -1]"
      ],
      "execution_count": null,
      "outputs": [
        {
          "output_type": "execute_result",
          "data": {
            "text/html": [
              "<div>\n",
              "<style scoped>\n",
              "    .dataframe tbody tr th:only-of-type {\n",
              "        vertical-align: middle;\n",
              "    }\n",
              "\n",
              "    .dataframe tbody tr th {\n",
              "        vertical-align: top;\n",
              "    }\n",
              "\n",
              "    .dataframe thead th {\n",
              "        text-align: right;\n",
              "    }\n",
              "</style>\n",
              "<table border=\"1\" class=\"dataframe\">\n",
              "  <thead>\n",
              "    <tr style=\"text-align: right;\">\n",
              "      <th></th>\n",
              "      <th>data_hora</th>\n",
              "      <th>tipo_favorecido</th>\n",
              "      <th>municipio</th>\n",
              "      <th>acao_orcamentaria</th>\n",
              "      <th>gastos</th>\n",
              "      <th>outlier</th>\n",
              "    </tr>\n",
              "  </thead>\n",
              "  <tbody>\n",
              "    <tr>\n",
              "      <th>0</th>\n",
              "      <td>2020-03-10</td>\n",
              "      <td>1</td>\n",
              "      <td>8</td>\n",
              "      <td>1</td>\n",
              "      <td>60000.00</td>\n",
              "      <td>-1</td>\n",
              "    </tr>\n",
              "    <tr>\n",
              "      <th>6</th>\n",
              "      <td>2020-04-10</td>\n",
              "      <td>1</td>\n",
              "      <td>8</td>\n",
              "      <td>1</td>\n",
              "      <td>22986081.76</td>\n",
              "      <td>-1</td>\n",
              "    </tr>\n",
              "    <tr>\n",
              "      <th>17</th>\n",
              "      <td>2020-05-10</td>\n",
              "      <td>1</td>\n",
              "      <td>8</td>\n",
              "      <td>1</td>\n",
              "      <td>20266709.47</td>\n",
              "      <td>-1</td>\n",
              "    </tr>\n",
              "    <tr>\n",
              "      <th>35</th>\n",
              "      <td>2020-07-10</td>\n",
              "      <td>1</td>\n",
              "      <td>4</td>\n",
              "      <td>1</td>\n",
              "      <td>16162408.00</td>\n",
              "      <td>-1</td>\n",
              "    </tr>\n",
              "    <tr>\n",
              "      <th>48</th>\n",
              "      <td>2020-08-10</td>\n",
              "      <td>1</td>\n",
              "      <td>8</td>\n",
              "      <td>1</td>\n",
              "      <td>30578797.00</td>\n",
              "      <td>-1</td>\n",
              "    </tr>\n",
              "    <tr>\n",
              "      <th>55</th>\n",
              "      <td>2020-09-10</td>\n",
              "      <td>1</td>\n",
              "      <td>7</td>\n",
              "      <td>1</td>\n",
              "      <td>29940189.53</td>\n",
              "      <td>-1</td>\n",
              "    </tr>\n",
              "    <tr>\n",
              "      <th>56</th>\n",
              "      <td>2020-09-10</td>\n",
              "      <td>1</td>\n",
              "      <td>8</td>\n",
              "      <td>1</td>\n",
              "      <td>16156268.66</td>\n",
              "      <td>-1</td>\n",
              "    </tr>\n",
              "    <tr>\n",
              "      <th>57</th>\n",
              "      <td>2020-10-10</td>\n",
              "      <td>1</td>\n",
              "      <td>5</td>\n",
              "      <td>1</td>\n",
              "      <td>400000.00</td>\n",
              "      <td>-1</td>\n",
              "    </tr>\n",
              "    <tr>\n",
              "      <th>58</th>\n",
              "      <td>2020-10-10</td>\n",
              "      <td>1</td>\n",
              "      <td>8</td>\n",
              "      <td>1</td>\n",
              "      <td>3500000.00</td>\n",
              "      <td>-1</td>\n",
              "    </tr>\n",
              "    <tr>\n",
              "      <th>59</th>\n",
              "      <td>2020-10-10</td>\n",
              "      <td>1</td>\n",
              "      <td>4</td>\n",
              "      <td>1</td>\n",
              "      <td>1880000.00</td>\n",
              "      <td>-1</td>\n",
              "    </tr>\n",
              "    <tr>\n",
              "      <th>60</th>\n",
              "      <td>2020-10-10</td>\n",
              "      <td>1</td>\n",
              "      <td>7</td>\n",
              "      <td>1</td>\n",
              "      <td>600000.00</td>\n",
              "      <td>-1</td>\n",
              "    </tr>\n",
              "    <tr>\n",
              "      <th>157</th>\n",
              "      <td>2020-11-10</td>\n",
              "      <td>1</td>\n",
              "      <td>4</td>\n",
              "      <td>1</td>\n",
              "      <td>1153273.00</td>\n",
              "      <td>-1</td>\n",
              "    </tr>\n",
              "    <tr>\n",
              "      <th>220</th>\n",
              "      <td>2020-11-10</td>\n",
              "      <td>0</td>\n",
              "      <td>8</td>\n",
              "      <td>1</td>\n",
              "      <td>8716731.90</td>\n",
              "      <td>-1</td>\n",
              "    </tr>\n",
              "    <tr>\n",
              "      <th>279</th>\n",
              "      <td>2020-11-10</td>\n",
              "      <td>1</td>\n",
              "      <td>8</td>\n",
              "      <td>1</td>\n",
              "      <td>5943271.00</td>\n",
              "      <td>-1</td>\n",
              "    </tr>\n",
              "    <tr>\n",
              "      <th>384</th>\n",
              "      <td>2020-12-10</td>\n",
              "      <td>1</td>\n",
              "      <td>4</td>\n",
              "      <td>1</td>\n",
              "      <td>1615672.25</td>\n",
              "      <td>-1</td>\n",
              "    </tr>\n",
              "    <tr>\n",
              "      <th>397</th>\n",
              "      <td>2020-12-10</td>\n",
              "      <td>1</td>\n",
              "      <td>8</td>\n",
              "      <td>1</td>\n",
              "      <td>5196578.75</td>\n",
              "      <td>-1</td>\n",
              "    </tr>\n",
              "    <tr>\n",
              "      <th>438</th>\n",
              "      <td>2020-12-10</td>\n",
              "      <td>1</td>\n",
              "      <td>4</td>\n",
              "      <td>1</td>\n",
              "      <td>2135901.00</td>\n",
              "      <td>-1</td>\n",
              "    </tr>\n",
              "    <tr>\n",
              "      <th>485</th>\n",
              "      <td>2020-12-10</td>\n",
              "      <td>1</td>\n",
              "      <td>2</td>\n",
              "      <td>1</td>\n",
              "      <td>1016127.00</td>\n",
              "      <td>-1</td>\n",
              "    </tr>\n",
              "    <tr>\n",
              "      <th>533</th>\n",
              "      <td>2020-12-10</td>\n",
              "      <td>1</td>\n",
              "      <td>8</td>\n",
              "      <td>1</td>\n",
              "      <td>3084001.00</td>\n",
              "      <td>-1</td>\n",
              "    </tr>\n",
              "    <tr>\n",
              "      <th>557</th>\n",
              "      <td>2020-12-10</td>\n",
              "      <td>1</td>\n",
              "      <td>2</td>\n",
              "      <td>1</td>\n",
              "      <td>696168.00</td>\n",
              "      <td>-1</td>\n",
              "    </tr>\n",
              "    <tr>\n",
              "      <th>571</th>\n",
              "      <td>2020-10-10</td>\n",
              "      <td>1</td>\n",
              "      <td>5</td>\n",
              "      <td>0</td>\n",
              "      <td>400000.00</td>\n",
              "      <td>-1</td>\n",
              "    </tr>\n",
              "    <tr>\n",
              "      <th>576</th>\n",
              "      <td>2020-12-10</td>\n",
              "      <td>1</td>\n",
              "      <td>8</td>\n",
              "      <td>0</td>\n",
              "      <td>3084001.00</td>\n",
              "      <td>-1</td>\n",
              "    </tr>\n",
              "    <tr>\n",
              "      <th>581</th>\n",
              "      <td>2020-12-10</td>\n",
              "      <td>1</td>\n",
              "      <td>2</td>\n",
              "      <td>0</td>\n",
              "      <td>1016127.00</td>\n",
              "      <td>-1</td>\n",
              "    </tr>\n",
              "    <tr>\n",
              "      <th>584</th>\n",
              "      <td>2020-07-10</td>\n",
              "      <td>1</td>\n",
              "      <td>4</td>\n",
              "      <td>0</td>\n",
              "      <td>16162408.00</td>\n",
              "      <td>-1</td>\n",
              "    </tr>\n",
              "    <tr>\n",
              "      <th>595</th>\n",
              "      <td>2020-03-10</td>\n",
              "      <td>1</td>\n",
              "      <td>8</td>\n",
              "      <td>0</td>\n",
              "      <td>60000.00</td>\n",
              "      <td>-1</td>\n",
              "    </tr>\n",
              "    <tr>\n",
              "      <th>599</th>\n",
              "      <td>2020-08-10</td>\n",
              "      <td>1</td>\n",
              "      <td>8</td>\n",
              "      <td>0</td>\n",
              "      <td>30578797.00</td>\n",
              "      <td>-1</td>\n",
              "    </tr>\n",
              "    <tr>\n",
              "      <th>601</th>\n",
              "      <td>2020-11-10</td>\n",
              "      <td>0</td>\n",
              "      <td>8</td>\n",
              "      <td>0</td>\n",
              "      <td>8716731.90</td>\n",
              "      <td>-1</td>\n",
              "    </tr>\n",
              "    <tr>\n",
              "      <th>605</th>\n",
              "      <td>2020-04-10</td>\n",
              "      <td>1</td>\n",
              "      <td>8</td>\n",
              "      <td>0</td>\n",
              "      <td>22986081.76</td>\n",
              "      <td>-1</td>\n",
              "    </tr>\n",
              "    <tr>\n",
              "      <th>606</th>\n",
              "      <td>2020-11-10</td>\n",
              "      <td>1</td>\n",
              "      <td>4</td>\n",
              "      <td>0</td>\n",
              "      <td>1153273.00</td>\n",
              "      <td>-1</td>\n",
              "    </tr>\n",
              "    <tr>\n",
              "      <th>607</th>\n",
              "      <td>2020-12-10</td>\n",
              "      <td>1</td>\n",
              "      <td>6</td>\n",
              "      <td>0</td>\n",
              "      <td>952624.00</td>\n",
              "      <td>-1</td>\n",
              "    </tr>\n",
              "    <tr>\n",
              "      <th>612</th>\n",
              "      <td>2020-12-10</td>\n",
              "      <td>1</td>\n",
              "      <td>4</td>\n",
              "      <td>0</td>\n",
              "      <td>2135901.00</td>\n",
              "      <td>-1</td>\n",
              "    </tr>\n",
              "    <tr>\n",
              "      <th>616</th>\n",
              "      <td>2020-09-10</td>\n",
              "      <td>1</td>\n",
              "      <td>8</td>\n",
              "      <td>0</td>\n",
              "      <td>16156268.66</td>\n",
              "      <td>-1</td>\n",
              "    </tr>\n",
              "    <tr>\n",
              "      <th>635</th>\n",
              "      <td>2020-12-10</td>\n",
              "      <td>1</td>\n",
              "      <td>9</td>\n",
              "      <td>0</td>\n",
              "      <td>697786.00</td>\n",
              "      <td>-1</td>\n",
              "    </tr>\n",
              "    <tr>\n",
              "      <th>637</th>\n",
              "      <td>2020-12-10</td>\n",
              "      <td>1</td>\n",
              "      <td>4</td>\n",
              "      <td>0</td>\n",
              "      <td>1615672.25</td>\n",
              "      <td>-1</td>\n",
              "    </tr>\n",
              "    <tr>\n",
              "      <th>649</th>\n",
              "      <td>2020-05-10</td>\n",
              "      <td>1</td>\n",
              "      <td>8</td>\n",
              "      <td>0</td>\n",
              "      <td>20266709.47</td>\n",
              "      <td>-1</td>\n",
              "    </tr>\n",
              "    <tr>\n",
              "      <th>651</th>\n",
              "      <td>2020-11-10</td>\n",
              "      <td>1</td>\n",
              "      <td>8</td>\n",
              "      <td>0</td>\n",
              "      <td>5943271.00</td>\n",
              "      <td>-1</td>\n",
              "    </tr>\n",
              "    <tr>\n",
              "      <th>653</th>\n",
              "      <td>2020-12-10</td>\n",
              "      <td>1</td>\n",
              "      <td>1</td>\n",
              "      <td>0</td>\n",
              "      <td>17375.00</td>\n",
              "      <td>-1</td>\n",
              "    </tr>\n",
              "    <tr>\n",
              "      <th>655</th>\n",
              "      <td>2020-10-10</td>\n",
              "      <td>1</td>\n",
              "      <td>7</td>\n",
              "      <td>0</td>\n",
              "      <td>600000.00</td>\n",
              "      <td>-1</td>\n",
              "    </tr>\n",
              "    <tr>\n",
              "      <th>662</th>\n",
              "      <td>2020-12-10</td>\n",
              "      <td>1</td>\n",
              "      <td>8</td>\n",
              "      <td>0</td>\n",
              "      <td>5196578.75</td>\n",
              "      <td>-1</td>\n",
              "    </tr>\n",
              "    <tr>\n",
              "      <th>677</th>\n",
              "      <td>2020-10-10</td>\n",
              "      <td>1</td>\n",
              "      <td>4</td>\n",
              "      <td>0</td>\n",
              "      <td>1880000.00</td>\n",
              "      <td>-1</td>\n",
              "    </tr>\n",
              "    <tr>\n",
              "      <th>682</th>\n",
              "      <td>2020-09-10</td>\n",
              "      <td>1</td>\n",
              "      <td>7</td>\n",
              "      <td>0</td>\n",
              "      <td>29940189.53</td>\n",
              "      <td>-1</td>\n",
              "    </tr>\n",
              "    <tr>\n",
              "      <th>684</th>\n",
              "      <td>2020-12-10</td>\n",
              "      <td>1</td>\n",
              "      <td>2</td>\n",
              "      <td>0</td>\n",
              "      <td>696168.00</td>\n",
              "      <td>-1</td>\n",
              "    </tr>\n",
              "    <tr>\n",
              "      <th>688</th>\n",
              "      <td>2020-11-10</td>\n",
              "      <td>1</td>\n",
              "      <td>1</td>\n",
              "      <td>0</td>\n",
              "      <td>101405.00</td>\n",
              "      <td>-1</td>\n",
              "    </tr>\n",
              "    <tr>\n",
              "      <th>697</th>\n",
              "      <td>2020-10-10</td>\n",
              "      <td>1</td>\n",
              "      <td>8</td>\n",
              "      <td>0</td>\n",
              "      <td>3500000.00</td>\n",
              "      <td>-1</td>\n",
              "    </tr>\n",
              "  </tbody>\n",
              "</table>\n",
              "</div>"
            ],
            "text/plain": [
              "     data_hora  tipo_favorecido  ...       gastos  outlier\n",
              "0   2020-03-10                1  ...     60000.00       -1\n",
              "6   2020-04-10                1  ...  22986081.76       -1\n",
              "17  2020-05-10                1  ...  20266709.47       -1\n",
              "35  2020-07-10                1  ...  16162408.00       -1\n",
              "48  2020-08-10                1  ...  30578797.00       -1\n",
              "55  2020-09-10                1  ...  29940189.53       -1\n",
              "56  2020-09-10                1  ...  16156268.66       -1\n",
              "57  2020-10-10                1  ...    400000.00       -1\n",
              "58  2020-10-10                1  ...   3500000.00       -1\n",
              "59  2020-10-10                1  ...   1880000.00       -1\n",
              "60  2020-10-10                1  ...    600000.00       -1\n",
              "157 2020-11-10                1  ...   1153273.00       -1\n",
              "220 2020-11-10                0  ...   8716731.90       -1\n",
              "279 2020-11-10                1  ...   5943271.00       -1\n",
              "384 2020-12-10                1  ...   1615672.25       -1\n",
              "397 2020-12-10                1  ...   5196578.75       -1\n",
              "438 2020-12-10                1  ...   2135901.00       -1\n",
              "485 2020-12-10                1  ...   1016127.00       -1\n",
              "533 2020-12-10                1  ...   3084001.00       -1\n",
              "557 2020-12-10                1  ...    696168.00       -1\n",
              "571 2020-10-10                1  ...    400000.00       -1\n",
              "576 2020-12-10                1  ...   3084001.00       -1\n",
              "581 2020-12-10                1  ...   1016127.00       -1\n",
              "584 2020-07-10                1  ...  16162408.00       -1\n",
              "595 2020-03-10                1  ...     60000.00       -1\n",
              "599 2020-08-10                1  ...  30578797.00       -1\n",
              "601 2020-11-10                0  ...   8716731.90       -1\n",
              "605 2020-04-10                1  ...  22986081.76       -1\n",
              "606 2020-11-10                1  ...   1153273.00       -1\n",
              "607 2020-12-10                1  ...    952624.00       -1\n",
              "612 2020-12-10                1  ...   2135901.00       -1\n",
              "616 2020-09-10                1  ...  16156268.66       -1\n",
              "635 2020-12-10                1  ...    697786.00       -1\n",
              "637 2020-12-10                1  ...   1615672.25       -1\n",
              "649 2020-05-10                1  ...  20266709.47       -1\n",
              "651 2020-11-10                1  ...   5943271.00       -1\n",
              "653 2020-12-10                1  ...     17375.00       -1\n",
              "655 2020-10-10                1  ...    600000.00       -1\n",
              "662 2020-12-10                1  ...   5196578.75       -1\n",
              "677 2020-10-10                1  ...   1880000.00       -1\n",
              "682 2020-09-10                1  ...  29940189.53       -1\n",
              "684 2020-12-10                1  ...    696168.00       -1\n",
              "688 2020-11-10                1  ...    101405.00       -1\n",
              "697 2020-10-10                1  ...   3500000.00       -1\n",
              "\n",
              "[44 rows x 6 columns]"
            ]
          },
          "metadata": {
            "tags": []
          },
          "execution_count": 123
        }
      ]
    },
    {
      "cell_type": "code",
      "metadata": {
        "id": "g0eXFEW2dgSV",
        "colab": {
          "base_uri": "https://localhost:8080/"
        },
        "outputId": "dd4e09fe-dd68-4a03-a244-789c3c1a6ce6"
      },
      "source": [
        "invest_covidPe_lof = invest_covidPe_lof[invest_covidPe_lof['outlier'] != -1]\n",
        "len(invest_covidPe_lof)"
      ],
      "execution_count": null,
      "outputs": [
        {
          "output_type": "execute_result",
          "data": {
            "text/plain": [
              "105"
            ]
          },
          "metadata": {
            "tags": []
          },
          "execution_count": 124
        }
      ]
    },
    {
      "cell_type": "markdown",
      "metadata": {
        "id": "WMmvNyT4Wmar"
      },
      "source": [
        "## **Visualizações e Exploração dos dados**\n",
        "\n",
        "> **Visão Geral dos dados**\n",
        "\n",
        "> **Distribuição de gastos no estado**\n",
        "  * Visualização atual\n",
        "  * Normalização com log10\n",
        "\n",
        "> ***Insights***:\n",
        "  * Gastos por habitante\n",
        "  * Gastos por município\n",
        "  * Gastos por quantidade de infectados no estado (Análise temporal)\n",
        "  * Correlação dos gastos com casos confirmados e mortes confirmadas\n",
        "  * Correlação Pearson-Spearman"
      ]
    },
    {
      "cell_type": "markdown",
      "metadata": {
        "id": "qsW977hl1u7O"
      },
      "source": [
        "#### **Visão Geral do repasse de verba para a saúde (Estado de Pernambuco)**"
      ]
    },
    {
      "cell_type": "markdown",
      "metadata": {
        "id": "0W3LyCiX_4xG"
      },
      "source": [
        "> **Atualiza o dataset com o conjunto de dados sem outliers**"
      ]
    },
    {
      "cell_type": "code",
      "metadata": {
        "id": "gXdPXVO59ce1",
        "colab": {
          "base_uri": "https://localhost:8080/"
        },
        "outputId": "c4e4775e-96db-4f13-adb3-a42fcc6923ca"
      },
      "source": [
        "invest_covidPe_lof = invest_covidPe_lof.drop(columns={'outlier'},inplace=True)\n",
        "invest_covidPe.update(invest_covidPe_lof)"
      ],
      "execution_count": null,
      "outputs": [
        {
          "output_type": "stream",
          "text": [
            "/usr/local/lib/python3.7/dist-packages/pandas/core/frame.py:4174: SettingWithCopyWarning: \n",
            "A value is trying to be set on a copy of a slice from a DataFrame\n",
            "\n",
            "See the caveats in the documentation: https://pandas.pydata.org/pandas-docs/stable/user_guide/indexing.html#returning-a-view-versus-a-copy\n",
            "  errors=errors,\n"
          ],
          "name": "stderr"
        }
      ]
    },
    {
      "cell_type": "markdown",
      "metadata": {
        "id": "4lm7O_mSCn-D"
      },
      "source": [
        "> **Dados normalizados para visualizar melhor a distribuição de gastos entre os municípios da RMR, Agreste e Sertão.**"
      ]
    },
    {
      "cell_type": "code",
      "metadata": {
        "colab": {
          "base_uri": "https://localhost:8080/",
          "height": 532
        },
        "id": "t8AVqIxTAgn6",
        "outputId": "7564e38a-b738-4db2-9b78-4d8421736629"
      },
      "source": [
        "invest_covidPe['log_gastos'] = invest_covidPe['gastos'].apply(np.log10)\n",
        "invest_covidPe[invest_covidPe['log_gastos'] > 0]['log_gastos'].hist()\n",
        "invest_covidPe[(invest_covidPe['log_gastos'] > 0)].describe(include=['float64'])"
      ],
      "execution_count": null,
      "outputs": [
        {
          "output_type": "execute_result",
          "data": {
            "text/html": [
              "<div>\n",
              "<style scoped>\n",
              "    .dataframe tbody tr th:only-of-type {\n",
              "        vertical-align: middle;\n",
              "    }\n",
              "\n",
              "    .dataframe tbody tr th {\n",
              "        vertical-align: top;\n",
              "    }\n",
              "\n",
              "    .dataframe thead th {\n",
              "        text-align: right;\n",
              "    }\n",
              "</style>\n",
              "<table border=\"1\" class=\"dataframe\">\n",
              "  <thead>\n",
              "    <tr style=\"text-align: right;\">\n",
              "      <th></th>\n",
              "      <th>gastos</th>\n",
              "      <th>log_gastos</th>\n",
              "    </tr>\n",
              "  </thead>\n",
              "  <tbody>\n",
              "    <tr>\n",
              "      <th>count</th>\n",
              "      <td>1.490000e+02</td>\n",
              "      <td>149.000000</td>\n",
              "    </tr>\n",
              "    <tr>\n",
              "      <th>mean</th>\n",
              "      <td>4.133886e+06</td>\n",
              "      <td>6.166437</td>\n",
              "    </tr>\n",
              "    <tr>\n",
              "      <th>std</th>\n",
              "      <td>6.390878e+06</td>\n",
              "      <td>0.706216</td>\n",
              "    </tr>\n",
              "    <tr>\n",
              "      <th>min</th>\n",
              "      <td>1.000000e+04</td>\n",
              "      <td>4.000000</td>\n",
              "    </tr>\n",
              "    <tr>\n",
              "      <th>25%</th>\n",
              "      <td>4.865150e+05</td>\n",
              "      <td>5.687096</td>\n",
              "    </tr>\n",
              "    <tr>\n",
              "      <th>50%</th>\n",
              "      <td>1.880000e+06</td>\n",
              "      <td>6.274158</td>\n",
              "    </tr>\n",
              "    <tr>\n",
              "      <th>75%</th>\n",
              "      <td>4.171627e+06</td>\n",
              "      <td>6.620305</td>\n",
              "    </tr>\n",
              "    <tr>\n",
              "      <th>max</th>\n",
              "      <td>3.057880e+07</td>\n",
              "      <td>7.485420</td>\n",
              "    </tr>\n",
              "  </tbody>\n",
              "</table>\n",
              "</div>"
            ],
            "text/plain": [
              "             gastos  log_gastos\n",
              "count  1.490000e+02  149.000000\n",
              "mean   4.133886e+06    6.166437\n",
              "std    6.390878e+06    0.706216\n",
              "min    1.000000e+04    4.000000\n",
              "25%    4.865150e+05    5.687096\n",
              "50%    1.880000e+06    6.274158\n",
              "75%    4.171627e+06    6.620305\n",
              "max    3.057880e+07    7.485420"
            ]
          },
          "metadata": {
            "tags": []
          },
          "execution_count": 142
        },
        {
          "output_type": "display_data",
          "data": {
            "image/png": "[encoded data removed]",
            "text/plain": [
              "<Figure size 432x288 with 1 Axes>"
            ]
          },
          "metadata": {
            "tags": [],
            "needs_background": "light"
          }
        }
      ]
    },
    {
      "cell_type": "markdown",
      "metadata": {
        "id": "397eC_zDqmms"
      },
      "source": [
        "> **A finalidade do gráfico abaixo é nos ajudar na validação da hipóteseve de que nas cidades onde houve menos investimento, a taxa de mortalidade consequentemente foi maior.**"
      ]
    },
    {
      "cell_type": "code",
      "metadata": {
        "id": "upQD4SuwdhIr",
        "colab": {
          "base_uri": "https://localhost:8080/",
          "height": 571
        },
        "outputId": "8495c478-00d2-492c-d9f5-65bc46f207e9"
      },
      "source": [
        "sns.set()\n",
        "plt.figure(figsize=(15,8))\n",
        "sns.barplot(x='nivel_de_gastos', y='taxa_mortalidade', data=covidPeCases).set(title='Relação Nível de Gastos x Taxa de Mortalidade', xlabel='Nível de Gastos', ylabel='Taxa de Mortalidade')"
      ],
      "execution_count": null,
      "outputs": [
        {
          "output_type": "execute_result",
          "data": {
            "text/plain": [
              "[Text(0, 0.5, 'Taxa de Mortalidade'),\n",
              " Text(0.5, 0, 'Nível de Gastos'),\n",
              " Text(0.5, 1.0, 'Relação Nível de Gastos x Taxa de Mortalidade')]"
            ]
          },
          "metadata": {
            "tags": []
          },
          "execution_count": 492
        },
        {
          "output_type": "display_data",
          "data": {
            "image/png": "[encoded data removed]",
            "text/plain": [
              "<Figure size 1080x576 with 1 Axes>"
            ]
          },
          "metadata": {
            "tags": []
          }
        }
      ]
    },
    {
      "cell_type": "markdown",
      "metadata": {
        "id": "KYbQErETXCDj"
      },
      "source": [
        "> **Análises dos gastos**\n",
        "  * *por Data (mensal)*\n",
        "  * *por Habitante (Total)*"
      ]
    },
    {
      "cell_type": "markdown",
      "metadata": {
        "id": "lGOY-v7uDrQT"
      },
      "source": [
        "> **Repasse mensal de verba**"
      ]
    },
    {
      "cell_type": "code",
      "metadata": {
        "id": "ObTIYyhyZFFz"
      },
      "source": [
        "#Investimentos por Mês\n",
        "\n",
        "dates = pd.date_range('10-Mar 2020','10-jan 2021',freq='M')\n",
        "df = pd.DataFrame({'dates' : dates})\n",
        "df['month_name'] = df['dates'].dt.strftime('%b')\n",
        "df['gastos'] = invest_covidPe.groupby(by=['data_hora']).sum().values\n",
        "# normalizando entre -1 e 1 para nos permitir verificar os meses em que tivemos o investimento menores dada a escala\n",
        "df['gastos_norm'] = ((df['gastos'] - df['gastos'].min()) / (df['gastos'].max()-df['gastos'].min())*2)-1\n",
        "#Aplicando log10 para visualizarmos em proporções parecidas\n",
        "df['gastos_log10'] = df['gastos'].apply(np.log10)"
      ],
      "execution_count": null,
      "outputs": []
    },
    {
      "cell_type": "code",
      "metadata": {
        "id": "0u7DiOhhEp6p",
        "colab": {
          "base_uri": "https://localhost:8080/",
          "height": 428
        },
        "outputId": "a4a34fe2-2df7-4c05-b346-ca0b2b1046c8"
      },
      "source": [
        "#Visão com log10\n",
        "plt.figure(figsize=(10,6))\n",
        "sns.barplot(x='month_name', y='gastos_log10', data=df).set(title='Gastos por Mês log10', xlabel='Mês', ylabel='Gastos log10')\n",
        "sns.lineplot(x='month_name', y='gastos_log10', data=df)"
      ],
      "execution_count": null,
      "outputs": [
        {
          "output_type": "execute_result",
          "data": {
            "text/plain": [
              "<matplotlib.axes._subplots.AxesSubplot at 0x7f6466444910>"
            ]
          },
          "metadata": {
            "tags": []
          },
          "execution_count": 491
        },
        {
          "output_type": "display_data",
          "data": {
            "image/png": "[encoded data removed]",
            "text/plain": [
              "<Figure size 720x432 with 1 Axes>"
            ]
          },
          "metadata": {
            "tags": []
          }
        }
      ]
    },
    {
      "cell_type": "code",
      "metadata": {
        "id": "37wy83Ns-9hy",
        "colab": {
          "base_uri": "https://localhost:8080/",
          "height": 428
        },
        "outputId": "60bc21dc-fa28-4656-cb5a-9f5e4fe3be06"
      },
      "source": [
        " #Visão com valores normalizados entre -1 e 1\n",
        "plt.figure(figsize=(10,6))\n",
        "sns.barplot(x='month_name', y='gastos_norm', data=df).set(title='Gastos por Mês normalizado entre -1 e 1', xlabel='Mês', ylabel='Gastos Normalizados')\n",
        "sns.lineplot(x='month_name', y='gastos_norm', data=df)"
      ],
      "execution_count": null,
      "outputs": [
        {
          "output_type": "execute_result",
          "data": {
            "text/plain": [
              "<matplotlib.axes._subplots.AxesSubplot at 0x7f6466494510>"
            ]
          },
          "metadata": {
            "tags": []
          },
          "execution_count": 490
        },
        {
          "output_type": "display_data",
          "data": {
            "image/png": "[encoded data removed]",
            "text/plain": [
              "<Figure size 720x432 with 1 Axes>"
            ]
          },
          "metadata": {
            "tags": []
          }
        }
      ]
    },
    {
      "cell_type": "code",
      "metadata": {
        "id": "fxPzPJULqf8F",
        "colab": {
          "base_uri": "https://localhost:8080/",
          "height": 681
        },
        "outputId": "a8c948ff-05a3-4622-ac29-ee76ebc1437a"
      },
      "source": [
        "sns.set()\n",
        "plt.figure(figsize=(18,10))\n",
        "\n",
        "aux = covidPeCases.filter(items=['municipio', 'gastos_por_habitante','taxa_mortalidade','nivel_de_gastos']).sort_values(by=['gastos_por_habitante'])\n",
        "sns.barplot(x='municipio', y='nivel_de_gastos', data=aux).set(title='Nível de Investimentos por Município', xlabel='Município', ylabel='Nível de Investimentos')"
      ],
      "execution_count": null,
      "outputs": [
        {
          "output_type": "execute_result",
          "data": {
            "text/plain": [
              "[Text(0, 0.5, 'Nível de Investimentos'),\n",
              " Text(0.5, 0, 'Município'),\n",
              " Text(0.5, 1.0, 'Nível de Investimentos por Município')]"
            ]
          },
          "metadata": {
            "tags": []
          },
          "execution_count": 445
        },
        {
          "output_type": "display_data",
          "data": {
            "image/png": "[encoded data removed]",
            "text/plain": [
              "<Figure size 1296x720 with 1 Axes>"
            ]
          },
          "metadata": {
            "tags": []
          }
        }
      ]
    },
    {
      "cell_type": "code",
      "metadata": {
        "id": "cRMzxIGZn0Cd",
        "colab": {
          "base_uri": "https://localhost:8080/",
          "height": 681
        },
        "outputId": "9e8c77e8-6de3-4b49-a724-547f68dacaee"
      },
      "source": [
        "plt.figure(figsize=(18,10))\n",
        "sns.barplot(x='municipio', y='taxa_mortalidade', data=aux).set(title='Taxa de mortalidade por Município', xlabel='Município', ylabel='Taxa de Mortalidade')"
      ],
      "execution_count": null,
      "outputs": [
        {
          "output_type": "execute_result",
          "data": {
            "text/plain": [
              "[Text(0, 0.5, 'Taxa de Mortalidade'),\n",
              " Text(0.5, 0, 'Município'),\n",
              " Text(0.5, 1.0, 'Taxa de mortalidade por Município')]"
            ]
          },
          "metadata": {
            "tags": []
          },
          "execution_count": 444
        },
        {
          "output_type": "display_data",
          "data": {
            "image/png": "[encoded data removed]",
            "text/plain": [
              "<Figure size 1296x720 with 1 Axes>"
            ]
          },
          "metadata": {
            "tags": []
          }
        }
      ]
    },
    {
      "cell_type": "markdown",
      "metadata": {
        "id": "8XlKC7v5V9dO"
      },
      "source": [
        "#### **Testes de Hipótese** "
      ]
    },
    {
      "cell_type": "markdown",
      "metadata": {
        "id": "TXsvoEQOTBc4"
      },
      "source": [
        "##### Teste de **Shapiro-Wilk** \n",
        "**Hipótese Nula**\n",
        "> Os gastos em saúde é normalmente distribuído."
      ]
    },
    {
      "cell_type": "code",
      "metadata": {
        "colab": {
          "base_uri": "https://localhost:8080/"
        },
        "id": "HQTAbBsaTAmB",
        "outputId": "bcbbe597-3480-4bcc-fc97-14d18b384c03"
      },
      "source": [
        "from scipy import stats\n",
        "stats.shapiro(invest_covidPe['gastos'])"
      ],
      "execution_count": null,
      "outputs": [
        {
          "output_type": "execute_result",
          "data": {
            "text/plain": [
              "(0.6282327771186829, 7.681099079313296e-18)"
            ]
          },
          "metadata": {
            "tags": []
          },
          "execution_count": 185
        }
      ]
    },
    {
      "cell_type": "markdown",
      "metadata": {
        "id": "ZoL3GEnnT0Bg"
      },
      "source": [
        "##### **t-Test**\n",
        "**Hipótese Nula**\n",
        "> Os gastos em saúde é normalmente distribuído."
      ]
    },
    {
      "cell_type": "code",
      "metadata": {
        "colab": {
          "base_uri": "https://localhost:8080/"
        },
        "id": "OD5n3-EiTnMD",
        "outputId": "b90ee6ba-f865-4f86-fae2-c6a4b21b10d2"
      },
      "source": [
        "stats.ttest_rel(invest_covidPe['gastos'], invest_covidPe['log_gastos'])"
      ],
      "execution_count": null,
      "outputs": [
        {
          "output_type": "execute_result",
          "data": {
            "text/plain": [
              "Ttest_relResult(statistic=7.895696601726666, pvalue=5.975348886828321e-13)"
            ]
          },
          "metadata": {
            "tags": []
          },
          "execution_count": 187
        }
      ]
    },
    {
      "cell_type": "markdown",
      "metadata": {
        "id": "WMySLfSQVb-4"
      },
      "source": [
        "> Em ambos os casos, os testes de hipótese com *```p-value```* abaixo do valor crítico evidenciam a possibilidade da hipótese nula ser contraditória.\n",
        "\n",
        "> Os resultados então indicam que a distribuição de verba para a saúde durante o ano foi irregular."
      ]
    },
    {
      "cell_type": "markdown",
      "metadata": {
        "id": "uK3pBkMnfmkw"
      },
      "source": [
        "##### **Teste de Mannwhitneyu** \n",
        "**Hipótese nula**\n",
        "> As cidades que tiveram um nível de gastos de médio para muito alto (3,5) obtiveram níveis menores de mortalidade do que as cidades que investiram menos (1,2). Utilizaremos o valor crítico de 3%"
      ]
    },
    {
      "cell_type": "code",
      "metadata": {
        "id": "xqwxtS9vglgQ",
        "colab": {
          "base_uri": "https://localhost:8080/",
          "height": 286
        },
        "outputId": "b7b7bf0e-b9df-4e8e-e344-2ed61b6bbb06"
      },
      "source": [
        "#Não segue uma normal\n",
        "aux['taxa_mortalidade'].plot.hist()"
      ],
      "execution_count": null,
      "outputs": [
        {
          "output_type": "execute_result",
          "data": {
            "text/plain": [
              "<matplotlib.axes._subplots.AxesSubplot at 0x7f6467b5fd10>"
            ]
          },
          "metadata": {
            "tags": []
          },
          "execution_count": 405
        },
        {
          "output_type": "display_data",
          "data": {
            "image/png": "[encoded data removed]",
            "text/plain": [
              "<Figure size 432x288 with 1 Axes>"
            ]
          },
          "metadata": {
            "tags": []
          }
        }
      ]
    },
    {
      "cell_type": "code",
      "metadata": {
        "id": "0WaXYl41a0XT",
        "colab": {
          "base_uri": "https://localhost:8080/"
        },
        "outputId": "30535faf-536d-497a-8f36-2b6b7ea8ec37"
      },
      "source": [
        "#Como nossos dados tratam de grupos não pareados e que não seguem uma distribuição normal, vamos utilizar o teste de mannwhitneyu\n",
        "stats.mannwhitneyu(aux[aux['nivel_de_gastos'] <= 2]['taxa_mortalidade'],aux[aux['nivel_de_gastos'] >=3]['taxa_mortalidade'])"
      ],
      "execution_count": null,
      "outputs": [
        {
          "output_type": "execute_result",
          "data": {
            "text/plain": [
              "MannwhitneyuResult(statistic=4.0, pvalue=0.05490970440761861)"
            ]
          },
          "metadata": {
            "tags": []
          },
          "execution_count": 389
        }
      ]
    },
    {
      "cell_type": "code",
      "metadata": {
        "id": "GTDQQ3lWUlQ-",
        "colab": {
          "base_uri": "https://localhost:8080/",
          "height": 340
        },
        "outputId": "b8486aa0-e40f-4c6c-f11c-b94622104f67"
      },
      "source": [
        "#O valor obtido pelo pvalue acima do valor crítico indica evidência forte a favor da hipótese\n",
        "plt.figure(figsize=(10,5))\n",
        "\n",
        "municipios12 = aux[aux['nivel_de_gastos'] <= 2]\n",
        "municipios35 = aux[aux['nivel_de_gastos'] >= 3]\n",
        "\n",
        "sns.boxplot(data=[municipios12[['taxa_mortalidade']], municipios35[['taxa_mortalidade']]])"
      ],
      "execution_count": null,
      "outputs": [
        {
          "output_type": "execute_result",
          "data": {
            "text/plain": [
              "<matplotlib.axes._subplots.AxesSubplot at 0x7f64682c9250>"
            ]
          },
          "metadata": {
            "tags": []
          },
          "execution_count": 380
        },
        {
          "output_type": "display_data",
          "data": {
            "image/png": "[encoded data removed]",
            "text/plain": [
              "<Figure size 720x360 with 1 Axes>"
            ]
          },
          "metadata": {
            "tags": []
          }
        }
      ]
    },
    {
      "cell_type": "markdown",
      "metadata": {
        "id": "t23ILkuTGnLh"
      },
      "source": [
        "### **Análises descritivas dos casos**"
      ]
    },
    {
      "cell_type": "code",
      "metadata": {
        "id": "Pl301ES_c7fv",
        "colab": {
          "base_uri": "https://localhost:8080/",
          "height": 474
        },
        "outputId": "a0cc0593-2f90-4d0c-f170-2062310da5fd"
      },
      "source": [
        "#Criando um campo que nos permita relacionar a quantidade de casos confirmados pela população estimada\n",
        "covidPeCases['confirmados_por_populacao'] = covidPeCases['casos_confirmados']/covidPeCases['pop_estimada']\n",
        "covidPeCases"
      ],
      "execution_count": null,
      "outputs": [
        {
          "output_type": "stream",
          "text": [
            "/usr/local/lib/python3.7/dist-packages/ipykernel_launcher.py:2: SettingWithCopyWarning: \n",
            "A value is trying to be set on a copy of a slice from a DataFrame.\n",
            "Try using .loc[row_indexer,col_indexer] = value instead\n",
            "\n",
            "See the caveats in the documentation: https://pandas.pydata.org/pandas-docs/stable/user_guide/indexing.html#returning-a-view-versus-a-copy\n",
            "  \n"
          ],
          "name": "stderr"
        },
        {
          "output_type": "execute_result",
          "data": {
            "text/html": [
              "<div>\n",
              "<style scoped>\n",
              "    .dataframe tbody tr th:only-of-type {\n",
              "        vertical-align: middle;\n",
              "    }\n",
              "\n",
              "    .dataframe tbody tr th {\n",
              "        vertical-align: top;\n",
              "    }\n",
              "\n",
              "    .dataframe thead th {\n",
              "        text-align: right;\n",
              "    }\n",
              "</style>\n",
              "<table border=\"1\" class=\"dataframe\">\n",
              "  <thead>\n",
              "    <tr style=\"text-align: right;\">\n",
              "      <th></th>\n",
              "      <th>municipio</th>\n",
              "      <th>casos_confirmados</th>\n",
              "      <th>mortes_confirmadas</th>\n",
              "      <th>taxa_mortalidade</th>\n",
              "      <th>pop_estimada</th>\n",
              "      <th>id</th>\n",
              "      <th>confirmados_por_populacao</th>\n",
              "    </tr>\n",
              "    <tr>\n",
              "      <th>id</th>\n",
              "      <th></th>\n",
              "      <th></th>\n",
              "      <th></th>\n",
              "      <th></th>\n",
              "      <th></th>\n",
              "      <th></th>\n",
              "      <th></th>\n",
              "    </tr>\n",
              "  </thead>\n",
              "  <tbody>\n",
              "    <tr>\n",
              "      <th>0</th>\n",
              "      <td>ARCOVERDE</td>\n",
              "      <td>4281</td>\n",
              "      <td>87</td>\n",
              "      <td>0.0203</td>\n",
              "      <td>74822.0</td>\n",
              "      <td>0</td>\n",
              "      <td>0.057216</td>\n",
              "    </tr>\n",
              "    <tr>\n",
              "      <th>1</th>\n",
              "      <td>BUÍQUE</td>\n",
              "      <td>1436</td>\n",
              "      <td>23</td>\n",
              "      <td>0.0160</td>\n",
              "      <td>58919.0</td>\n",
              "      <td>1</td>\n",
              "      <td>0.024372</td>\n",
              "    </tr>\n",
              "    <tr>\n",
              "      <th>2</th>\n",
              "      <td>CARUARU</td>\n",
              "      <td>17187</td>\n",
              "      <td>454</td>\n",
              "      <td>0.0264</td>\n",
              "      <td>365278.0</td>\n",
              "      <td>2</td>\n",
              "      <td>0.047052</td>\n",
              "    </tr>\n",
              "    <tr>\n",
              "      <th>3</th>\n",
              "      <td>GARANHUNS</td>\n",
              "      <td>7250</td>\n",
              "      <td>134</td>\n",
              "      <td>0.0185</td>\n",
              "      <td>140577.0</td>\n",
              "      <td>3</td>\n",
              "      <td>0.051573</td>\n",
              "    </tr>\n",
              "    <tr>\n",
              "      <th>4</th>\n",
              "      <td>JABOATÃO DOS GUARARAPES</td>\n",
              "      <td>19966</td>\n",
              "      <td>1095</td>\n",
              "      <td>0.0548</td>\n",
              "      <td>706867.0</td>\n",
              "      <td>4</td>\n",
              "      <td>0.028246</td>\n",
              "    </tr>\n",
              "    <tr>\n",
              "      <th>5</th>\n",
              "      <td>OLINDA</td>\n",
              "      <td>14581</td>\n",
              "      <td>635</td>\n",
              "      <td>0.0435</td>\n",
              "      <td>393115.0</td>\n",
              "      <td>5</td>\n",
              "      <td>0.037091</td>\n",
              "    </tr>\n",
              "    <tr>\n",
              "      <th>6</th>\n",
              "      <td>PAULISTA</td>\n",
              "      <td>7154</td>\n",
              "      <td>528</td>\n",
              "      <td>0.0738</td>\n",
              "      <td>334376.0</td>\n",
              "      <td>6</td>\n",
              "      <td>0.021395</td>\n",
              "    </tr>\n",
              "    <tr>\n",
              "      <th>7</th>\n",
              "      <td>PETROLINA</td>\n",
              "      <td>18239</td>\n",
              "      <td>209</td>\n",
              "      <td>0.0115</td>\n",
              "      <td>354317.0</td>\n",
              "      <td>7</td>\n",
              "      <td>0.051477</td>\n",
              "    </tr>\n",
              "    <tr>\n",
              "      <th>8</th>\n",
              "      <td>RECIFE</td>\n",
              "      <td>78117</td>\n",
              "      <td>3168</td>\n",
              "      <td>0.0406</td>\n",
              "      <td>1653461.0</td>\n",
              "      <td>8</td>\n",
              "      <td>0.047245</td>\n",
              "    </tr>\n",
              "    <tr>\n",
              "      <th>9</th>\n",
              "      <td>SERRA TALHADA</td>\n",
              "      <td>7341</td>\n",
              "      <td>105</td>\n",
              "      <td>0.0143</td>\n",
              "      <td>86915.0</td>\n",
              "      <td>9</td>\n",
              "      <td>0.084462</td>\n",
              "    </tr>\n",
              "  </tbody>\n",
              "</table>\n",
              "</div>"
            ],
            "text/plain": [
              "                  municipio  casos_confirmados  ...  id  confirmados_por_populacao\n",
              "id                                              ...                               \n",
              "0                 ARCOVERDE               4281  ...   0                   0.057216\n",
              "1                    BUÍQUE               1436  ...   1                   0.024372\n",
              "2                   CARUARU              17187  ...   2                   0.047052\n",
              "3                 GARANHUNS               7250  ...   3                   0.051573\n",
              "4   JABOATÃO DOS GUARARAPES              19966  ...   4                   0.028246\n",
              "5                    OLINDA              14581  ...   5                   0.037091\n",
              "6                  PAULISTA               7154  ...   6                   0.021395\n",
              "7                 PETROLINA              18239  ...   7                   0.051477\n",
              "8                    RECIFE              78117  ...   8                   0.047245\n",
              "9             SERRA TALHADA               7341  ...   9                   0.084462\n",
              "\n",
              "[10 rows x 7 columns]"
            ]
          },
          "metadata": {
            "tags": []
          },
          "execution_count": 129
        }
      ]
    },
    {
      "cell_type": "code",
      "metadata": {
        "id": "s1neQx2dYORf"
      },
      "source": [
        "covidPeCases.dtypes"
      ],
      "execution_count": null,
      "outputs": []
    },
    {
      "cell_type": "markdown",
      "metadata": {
        "id": "f2ocdoIiqxTR"
      },
      "source": [
        "Ajustando tipo e transformando valores para porcentagem a fim de facilitar a percepção das taxas"
      ]
    },
    {
      "cell_type": "code",
      "metadata": {
        "id": "YXFgvhwmYXAx",
        "colab": {
          "base_uri": "https://localhost:8080/",
          "height": 675
        },
        "outputId": "aee61c19-311d-4fa1-ab3c-2bb24070e71c"
      },
      "source": [
        "covidPeCases['pop_estimada'] = covidPeCases['pop_estimada'].astype('int64')\n",
        "covidPeCases['taxa_mortalidade'] = covidPeCases['taxa_mortalidade'] * 100\n",
        "covidPeCases['confirmados_por_populacao'] = (covidPeCases['confirmados_por_populacao'] * 100).round(2)\n",
        "covidPeCases"
      ],
      "execution_count": null,
      "outputs": [
        {
          "output_type": "stream",
          "text": [
            "/usr/local/lib/python3.7/dist-packages/ipykernel_launcher.py:1: SettingWithCopyWarning: \n",
            "A value is trying to be set on a copy of a slice from a DataFrame.\n",
            "Try using .loc[row_indexer,col_indexer] = value instead\n",
            "\n",
            "See the caveats in the documentation: https://pandas.pydata.org/pandas-docs/stable/user_guide/indexing.html#returning-a-view-versus-a-copy\n",
            "  \"\"\"Entry point for launching an IPython kernel.\n",
            "/usr/local/lib/python3.7/dist-packages/ipykernel_launcher.py:2: SettingWithCopyWarning: \n",
            "A value is trying to be set on a copy of a slice from a DataFrame.\n",
            "Try using .loc[row_indexer,col_indexer] = value instead\n",
            "\n",
            "See the caveats in the documentation: https://pandas.pydata.org/pandas-docs/stable/user_guide/indexing.html#returning-a-view-versus-a-copy\n",
            "  \n",
            "/usr/local/lib/python3.7/dist-packages/ipykernel_launcher.py:3: SettingWithCopyWarning: \n",
            "A value is trying to be set on a copy of a slice from a DataFrame.\n",
            "Try using .loc[row_indexer,col_indexer] = value instead\n",
            "\n",
            "See the caveats in the documentation: https://pandas.pydata.org/pandas-docs/stable/user_guide/indexing.html#returning-a-view-versus-a-copy\n",
            "  This is separate from the ipykernel package so we can avoid doing imports until\n"
          ],
          "name": "stderr"
        },
        {
          "output_type": "execute_result",
          "data": {
            "text/html": [
              "<div>\n",
              "<style scoped>\n",
              "    .dataframe tbody tr th:only-of-type {\n",
              "        vertical-align: middle;\n",
              "    }\n",
              "\n",
              "    .dataframe tbody tr th {\n",
              "        vertical-align: top;\n",
              "    }\n",
              "\n",
              "    .dataframe thead th {\n",
              "        text-align: right;\n",
              "    }\n",
              "</style>\n",
              "<table border=\"1\" class=\"dataframe\">\n",
              "  <thead>\n",
              "    <tr style=\"text-align: right;\">\n",
              "      <th></th>\n",
              "      <th>municipio</th>\n",
              "      <th>casos_confirmados</th>\n",
              "      <th>mortes_confirmadas</th>\n",
              "      <th>taxa_mortalidade</th>\n",
              "      <th>pop_estimada</th>\n",
              "      <th>id</th>\n",
              "      <th>confirmados_por_populacao</th>\n",
              "    </tr>\n",
              "    <tr>\n",
              "      <th>id</th>\n",
              "      <th></th>\n",
              "      <th></th>\n",
              "      <th></th>\n",
              "      <th></th>\n",
              "      <th></th>\n",
              "      <th></th>\n",
              "      <th></th>\n",
              "    </tr>\n",
              "  </thead>\n",
              "  <tbody>\n",
              "    <tr>\n",
              "      <th>0</th>\n",
              "      <td>ARCOVERDE</td>\n",
              "      <td>4281</td>\n",
              "      <td>87</td>\n",
              "      <td>2.03</td>\n",
              "      <td>74822</td>\n",
              "      <td>0</td>\n",
              "      <td>5.72</td>\n",
              "    </tr>\n",
              "    <tr>\n",
              "      <th>1</th>\n",
              "      <td>BUÍQUE</td>\n",
              "      <td>1436</td>\n",
              "      <td>23</td>\n",
              "      <td>1.60</td>\n",
              "      <td>58919</td>\n",
              "      <td>1</td>\n",
              "      <td>2.44</td>\n",
              "    </tr>\n",
              "    <tr>\n",
              "      <th>2</th>\n",
              "      <td>CARUARU</td>\n",
              "      <td>17187</td>\n",
              "      <td>454</td>\n",
              "      <td>2.64</td>\n",
              "      <td>365278</td>\n",
              "      <td>2</td>\n",
              "      <td>4.71</td>\n",
              "    </tr>\n",
              "    <tr>\n",
              "      <th>3</th>\n",
              "      <td>GARANHUNS</td>\n",
              "      <td>7250</td>\n",
              "      <td>134</td>\n",
              "      <td>1.85</td>\n",
              "      <td>140577</td>\n",
              "      <td>3</td>\n",
              "      <td>5.16</td>\n",
              "    </tr>\n",
              "    <tr>\n",
              "      <th>4</th>\n",
              "      <td>JABOATÃO DOS GUARARAPES</td>\n",
              "      <td>19966</td>\n",
              "      <td>1095</td>\n",
              "      <td>5.48</td>\n",
              "      <td>706867</td>\n",
              "      <td>4</td>\n",
              "      <td>2.82</td>\n",
              "    </tr>\n",
              "    <tr>\n",
              "      <th>5</th>\n",
              "      <td>OLINDA</td>\n",
              "      <td>14581</td>\n",
              "      <td>635</td>\n",
              "      <td>4.35</td>\n",
              "      <td>393115</td>\n",
              "      <td>5</td>\n",
              "      <td>3.71</td>\n",
              "    </tr>\n",
              "    <tr>\n",
              "      <th>6</th>\n",
              "      <td>PAULISTA</td>\n",
              "      <td>7154</td>\n",
              "      <td>528</td>\n",
              "      <td>7.38</td>\n",
              "      <td>334376</td>\n",
              "      <td>6</td>\n",
              "      <td>2.14</td>\n",
              "    </tr>\n",
              "    <tr>\n",
              "      <th>7</th>\n",
              "      <td>PETROLINA</td>\n",
              "      <td>18239</td>\n",
              "      <td>209</td>\n",
              "      <td>1.15</td>\n",
              "      <td>354317</td>\n",
              "      <td>7</td>\n",
              "      <td>5.15</td>\n",
              "    </tr>\n",
              "    <tr>\n",
              "      <th>8</th>\n",
              "      <td>RECIFE</td>\n",
              "      <td>78117</td>\n",
              "      <td>3168</td>\n",
              "      <td>4.06</td>\n",
              "      <td>1653461</td>\n",
              "      <td>8</td>\n",
              "      <td>4.72</td>\n",
              "    </tr>\n",
              "    <tr>\n",
              "      <th>9</th>\n",
              "      <td>SERRA TALHADA</td>\n",
              "      <td>7341</td>\n",
              "      <td>105</td>\n",
              "      <td>1.43</td>\n",
              "      <td>86915</td>\n",
              "      <td>9</td>\n",
              "      <td>8.45</td>\n",
              "    </tr>\n",
              "  </tbody>\n",
              "</table>\n",
              "</div>"
            ],
            "text/plain": [
              "                  municipio  casos_confirmados  ...  id  confirmados_por_populacao\n",
              "id                                              ...                               \n",
              "0                 ARCOVERDE               4281  ...   0                       5.72\n",
              "1                    BUÍQUE               1436  ...   1                       2.44\n",
              "2                   CARUARU              17187  ...   2                       4.71\n",
              "3                 GARANHUNS               7250  ...   3                       5.16\n",
              "4   JABOATÃO DOS GUARARAPES              19966  ...   4                       2.82\n",
              "5                    OLINDA              14581  ...   5                       3.71\n",
              "6                  PAULISTA               7154  ...   6                       2.14\n",
              "7                 PETROLINA              18239  ...   7                       5.15\n",
              "8                    RECIFE              78117  ...   8                       4.72\n",
              "9             SERRA TALHADA               7341  ...   9                       8.45\n",
              "\n",
              "[10 rows x 7 columns]"
            ]
          },
          "metadata": {
            "tags": []
          },
          "execution_count": 130
        }
      ]
    },
    {
      "cell_type": "code",
      "metadata": {
        "id": "xAXNBa4ZdIvv",
        "colab": {
          "base_uri": "https://localhost:8080/",
          "height": 283
        },
        "outputId": "7bcf6d79-5316-44fb-ad74-72aba338b548"
      },
      "source": [
        "covidPeCases.boxplot(column=['confirmados_por_populacao'])"
      ],
      "execution_count": null,
      "outputs": [
        {
          "output_type": "execute_result",
          "data": {
            "text/plain": [
              "<matplotlib.axes._subplots.AxesSubplot at 0x7fc594fa5290>"
            ]
          },
          "metadata": {
            "tags": []
          },
          "execution_count": 131
        },
        {
          "output_type": "display_data",
          "data": {
            "image/png": "[encoded data removed]",
            "text/plain": [
              "<Figure size 432x288 with 1 Axes>"
            ]
          },
          "metadata": {
            "tags": [],
            "needs_background": "light"
          }
        }
      ]
    },
    {
      "cell_type": "code",
      "metadata": {
        "colab": {
          "base_uri": "https://localhost:8080/",
          "height": 373
        },
        "id": "w8u8YOK_h9jS",
        "outputId": "1cb22fc9-a671-41f2-ab4d-ba7791d07452"
      },
      "source": [
        "investimentoporcidade = invest_covidPe.groupby(by=['municipio']).sum()\n",
        "investimentoporcidade"
      ],
      "execution_count": null,
      "outputs": [
        {
          "output_type": "execute_result",
          "data": {
            "text/html": [
              "<div>\n",
              "<style scoped>\n",
              "    .dataframe tbody tr th:only-of-type {\n",
              "        vertical-align: middle;\n",
              "    }\n",
              "\n",
              "    .dataframe tbody tr th {\n",
              "        vertical-align: top;\n",
              "    }\n",
              "\n",
              "    .dataframe thead th {\n",
              "        text-align: right;\n",
              "    }\n",
              "</style>\n",
              "<table border=\"1\" class=\"dataframe\">\n",
              "  <thead>\n",
              "    <tr style=\"text-align: right;\">\n",
              "      <th></th>\n",
              "      <th>tipo_favorecido</th>\n",
              "      <th>acao_orcamentaria</th>\n",
              "      <th>gastos</th>\n",
              "      <th>outlier</th>\n",
              "      <th>log_gastos</th>\n",
              "    </tr>\n",
              "    <tr>\n",
              "      <th>municipio</th>\n",
              "      <th></th>\n",
              "      <th></th>\n",
              "      <th></th>\n",
              "      <th></th>\n",
              "      <th></th>\n",
              "    </tr>\n",
              "  </thead>\n",
              "  <tbody>\n",
              "    <tr>\n",
              "      <th>0</th>\n",
              "      <td>7</td>\n",
              "      <td>0</td>\n",
              "      <td>6.829944e+06</td>\n",
              "      <td>7</td>\n",
              "      <td>40.437225</td>\n",
              "    </tr>\n",
              "    <tr>\n",
              "      <th>1</th>\n",
              "      <td>6</td>\n",
              "      <td>0</td>\n",
              "      <td>3.126474e+06</td>\n",
              "      <td>2</td>\n",
              "      <td>31.889402</td>\n",
              "    </tr>\n",
              "    <tr>\n",
              "      <th>2</th>\n",
              "      <td>16</td>\n",
              "      <td>8</td>\n",
              "      <td>4.256069e+07</td>\n",
              "      <td>8</td>\n",
              "      <td>100.168306</td>\n",
              "    </tr>\n",
              "    <tr>\n",
              "      <th>3</th>\n",
              "      <td>18</td>\n",
              "      <td>9</td>\n",
              "      <td>2.882383e+07</td>\n",
              "      <td>18</td>\n",
              "      <td>106.487756</td>\n",
              "    </tr>\n",
              "    <tr>\n",
              "      <th>4</th>\n",
              "      <td>20</td>\n",
              "      <td>10</td>\n",
              "      <td>8.632559e+07</td>\n",
              "      <td>0</td>\n",
              "      <td>129.650840</td>\n",
              "    </tr>\n",
              "    <tr>\n",
              "      <th>5</th>\n",
              "      <td>20</td>\n",
              "      <td>10</td>\n",
              "      <td>3.668715e+07</td>\n",
              "      <td>16</td>\n",
              "      <td>119.699312</td>\n",
              "    </tr>\n",
              "    <tr>\n",
              "      <th>6</th>\n",
              "      <td>9</td>\n",
              "      <td>0</td>\n",
              "      <td>1.064331e+07</td>\n",
              "      <td>7</td>\n",
              "      <td>52.674185</td>\n",
              "    </tr>\n",
              "    <tr>\n",
              "      <th>7</th>\n",
              "      <td>20</td>\n",
              "      <td>10</td>\n",
              "      <td>1.127178e+08</td>\n",
              "      <td>12</td>\n",
              "      <td>120.995926</td>\n",
              "    </tr>\n",
              "    <tr>\n",
              "      <th>8</th>\n",
              "      <td>22</td>\n",
              "      <td>12</td>\n",
              "      <td>2.742621e+08</td>\n",
              "      <td>-16</td>\n",
              "      <td>163.037351</td>\n",
              "    </tr>\n",
              "    <tr>\n",
              "      <th>9</th>\n",
              "      <td>9</td>\n",
              "      <td>0</td>\n",
              "      <td>1.397206e+07</td>\n",
              "      <td>7</td>\n",
              "      <td>53.758751</td>\n",
              "    </tr>\n",
              "  </tbody>\n",
              "</table>\n",
              "</div>"
            ],
            "text/plain": [
              "           tipo_favorecido  acao_orcamentaria  ...  outlier  log_gastos\n",
              "municipio                                      ...                     \n",
              "0                        7                  0  ...        7   40.437225\n",
              "1                        6                  0  ...        2   31.889402\n",
              "2                       16                  8  ...        8  100.168306\n",
              "3                       18                  9  ...       18  106.487756\n",
              "4                       20                 10  ...        0  129.650840\n",
              "5                       20                 10  ...       16  119.699312\n",
              "6                        9                  0  ...        7   52.674185\n",
              "7                       20                 10  ...       12  120.995926\n",
              "8                       22                 12  ...      -16  163.037351\n",
              "9                        9                  0  ...        7   53.758751\n",
              "\n",
              "[10 rows x 5 columns]"
            ]
          },
          "metadata": {
            "tags": []
          },
          "execution_count": 132
        }
      ]
    },
    {
      "cell_type": "code",
      "metadata": {
        "id": "qJ3SylOYqo3w",
        "colab": {
          "base_uri": "https://localhost:8080/",
          "height": 574
        },
        "outputId": "b5c770af-4bc2-4385-cc76-6f915fb8e0a7"
      },
      "source": [
        "covidPeCases['gastos'] = investimentoporcidade['gastos'].values\n",
        "covidPeCases['gastos_por_habitante'] = (covidPeCases['gastos'] / covidPeCases['pop_estimada']).round(2)\n",
        "covidPeCases"
      ],
      "execution_count": null,
      "outputs": [
        {
          "output_type": "stream",
          "text": [
            "/usr/local/lib/python3.7/dist-packages/ipykernel_launcher.py:1: SettingWithCopyWarning: \n",
            "A value is trying to be set on a copy of a slice from a DataFrame.\n",
            "Try using .loc[row_indexer,col_indexer] = value instead\n",
            "\n",
            "See the caveats in the documentation: https://pandas.pydata.org/pandas-docs/stable/user_guide/indexing.html#returning-a-view-versus-a-copy\n",
            "  \"\"\"Entry point for launching an IPython kernel.\n",
            "/usr/local/lib/python3.7/dist-packages/ipykernel_launcher.py:2: SettingWithCopyWarning: \n",
            "A value is trying to be set on a copy of a slice from a DataFrame.\n",
            "Try using .loc[row_indexer,col_indexer] = value instead\n",
            "\n",
            "See the caveats in the documentation: https://pandas.pydata.org/pandas-docs/stable/user_guide/indexing.html#returning-a-view-versus-a-copy\n",
            "  \n"
          ],
          "name": "stderr"
        },
        {
          "output_type": "execute_result",
          "data": {
            "text/html": [
              "<div>\n",
              "<style scoped>\n",
              "    .dataframe tbody tr th:only-of-type {\n",
              "        vertical-align: middle;\n",
              "    }\n",
              "\n",
              "    .dataframe tbody tr th {\n",
              "        vertical-align: top;\n",
              "    }\n",
              "\n",
              "    .dataframe thead th {\n",
              "        text-align: right;\n",
              "    }\n",
              "</style>\n",
              "<table border=\"1\" class=\"dataframe\">\n",
              "  <thead>\n",
              "    <tr style=\"text-align: right;\">\n",
              "      <th></th>\n",
              "      <th>municipio</th>\n",
              "      <th>casos_confirmados</th>\n",
              "      <th>mortes_confirmadas</th>\n",
              "      <th>taxa_mortalidade</th>\n",
              "      <th>pop_estimada</th>\n",
              "      <th>id</th>\n",
              "      <th>confirmados_por_populacao</th>\n",
              "      <th>gastos</th>\n",
              "      <th>gastos_por_habitante</th>\n",
              "    </tr>\n",
              "    <tr>\n",
              "      <th>id</th>\n",
              "      <th></th>\n",
              "      <th></th>\n",
              "      <th></th>\n",
              "      <th></th>\n",
              "      <th></th>\n",
              "      <th></th>\n",
              "      <th></th>\n",
              "      <th></th>\n",
              "      <th></th>\n",
              "    </tr>\n",
              "  </thead>\n",
              "  <tbody>\n",
              "    <tr>\n",
              "      <th>0</th>\n",
              "      <td>ARCOVERDE</td>\n",
              "      <td>4281</td>\n",
              "      <td>87</td>\n",
              "      <td>2.03</td>\n",
              "      <td>74822</td>\n",
              "      <td>0</td>\n",
              "      <td>5.72</td>\n",
              "      <td>6.829944e+06</td>\n",
              "      <td>91.28</td>\n",
              "    </tr>\n",
              "    <tr>\n",
              "      <th>1</th>\n",
              "      <td>BUÍQUE</td>\n",
              "      <td>1436</td>\n",
              "      <td>23</td>\n",
              "      <td>1.60</td>\n",
              "      <td>58919</td>\n",
              "      <td>1</td>\n",
              "      <td>2.44</td>\n",
              "      <td>3.126474e+06</td>\n",
              "      <td>53.06</td>\n",
              "    </tr>\n",
              "    <tr>\n",
              "      <th>2</th>\n",
              "      <td>CARUARU</td>\n",
              "      <td>17187</td>\n",
              "      <td>454</td>\n",
              "      <td>2.64</td>\n",
              "      <td>365278</td>\n",
              "      <td>2</td>\n",
              "      <td>4.71</td>\n",
              "      <td>4.256069e+07</td>\n",
              "      <td>116.52</td>\n",
              "    </tr>\n",
              "    <tr>\n",
              "      <th>3</th>\n",
              "      <td>GARANHUNS</td>\n",
              "      <td>7250</td>\n",
              "      <td>134</td>\n",
              "      <td>1.85</td>\n",
              "      <td>140577</td>\n",
              "      <td>3</td>\n",
              "      <td>5.16</td>\n",
              "      <td>2.882383e+07</td>\n",
              "      <td>205.04</td>\n",
              "    </tr>\n",
              "    <tr>\n",
              "      <th>4</th>\n",
              "      <td>JABOATÃO DOS GUARARAPES</td>\n",
              "      <td>19966</td>\n",
              "      <td>1095</td>\n",
              "      <td>5.48</td>\n",
              "      <td>706867</td>\n",
              "      <td>4</td>\n",
              "      <td>2.82</td>\n",
              "      <td>8.632559e+07</td>\n",
              "      <td>122.12</td>\n",
              "    </tr>\n",
              "    <tr>\n",
              "      <th>5</th>\n",
              "      <td>OLINDA</td>\n",
              "      <td>14581</td>\n",
              "      <td>635</td>\n",
              "      <td>4.35</td>\n",
              "      <td>393115</td>\n",
              "      <td>5</td>\n",
              "      <td>3.71</td>\n",
              "      <td>3.668715e+07</td>\n",
              "      <td>93.32</td>\n",
              "    </tr>\n",
              "    <tr>\n",
              "      <th>6</th>\n",
              "      <td>PAULISTA</td>\n",
              "      <td>7154</td>\n",
              "      <td>528</td>\n",
              "      <td>7.38</td>\n",
              "      <td>334376</td>\n",
              "      <td>6</td>\n",
              "      <td>2.14</td>\n",
              "      <td>1.064331e+07</td>\n",
              "      <td>31.83</td>\n",
              "    </tr>\n",
              "    <tr>\n",
              "      <th>7</th>\n",
              "      <td>PETROLINA</td>\n",
              "      <td>18239</td>\n",
              "      <td>209</td>\n",
              "      <td>1.15</td>\n",
              "      <td>354317</td>\n",
              "      <td>7</td>\n",
              "      <td>5.15</td>\n",
              "      <td>1.127178e+08</td>\n",
              "      <td>318.13</td>\n",
              "    </tr>\n",
              "    <tr>\n",
              "      <th>8</th>\n",
              "      <td>RECIFE</td>\n",
              "      <td>78117</td>\n",
              "      <td>3168</td>\n",
              "      <td>4.06</td>\n",
              "      <td>1653461</td>\n",
              "      <td>8</td>\n",
              "      <td>4.72</td>\n",
              "      <td>2.742621e+08</td>\n",
              "      <td>165.87</td>\n",
              "    </tr>\n",
              "    <tr>\n",
              "      <th>9</th>\n",
              "      <td>SERRA TALHADA</td>\n",
              "      <td>7341</td>\n",
              "      <td>105</td>\n",
              "      <td>1.43</td>\n",
              "      <td>86915</td>\n",
              "      <td>9</td>\n",
              "      <td>8.45</td>\n",
              "      <td>1.397206e+07</td>\n",
              "      <td>160.76</td>\n",
              "    </tr>\n",
              "  </tbody>\n",
              "</table>\n",
              "</div>"
            ],
            "text/plain": [
              "                  municipio  ...  gastos_por_habitante\n",
              "id                           ...                      \n",
              "0                 ARCOVERDE  ...                 91.28\n",
              "1                    BUÍQUE  ...                 53.06\n",
              "2                   CARUARU  ...                116.52\n",
              "3                 GARANHUNS  ...                205.04\n",
              "4   JABOATÃO DOS GUARARAPES  ...                122.12\n",
              "5                    OLINDA  ...                 93.32\n",
              "6                  PAULISTA  ...                 31.83\n",
              "7                 PETROLINA  ...                318.13\n",
              "8                    RECIFE  ...                165.87\n",
              "9             SERRA TALHADA  ...                160.76\n",
              "\n",
              "[10 rows x 9 columns]"
            ]
          },
          "metadata": {
            "tags": []
          },
          "execution_count": 133
        }
      ]
    },
    {
      "cell_type": "markdown",
      "metadata": {
        "id": "1r-aHt80rEMn"
      },
      "source": [
        "##### **Discretização dos gastos por habitante** \n",
        "> *Nível de gastos* :\n",
        "1. Muito baixo\n",
        "2. Baixo\n",
        "3. Médio\n",
        "4. Alto \n",
        "5. Muito alto"
      ]
    },
    {
      "cell_type": "code",
      "metadata": {
        "id": "Y-n6jVr8QST1",
        "colab": {
          "base_uri": "https://localhost:8080/",
          "height": 541
        },
        "outputId": "0e9978cb-e6d2-40d1-f5b9-ba2ce0b6470d"
      },
      "source": [
        "print('intervalos', pd.cut(covidPeCases['gastos_por_habitante'].values,5).categories)\n",
        "covidPeCases['nivel_de_gastos'] = pd.cut(covidPeCases['gastos_por_habitante'].values,5).codes + 1\n",
        "covidPeCases"
      ],
      "execution_count": null,
      "outputs": [
        {
          "output_type": "stream",
          "text": [
            "intervalos IntervalIndex([(31.544, 89.09], (89.09, 146.35], (146.35, 203.61], (203.61, 260.87], (260.87, 318.13]],\n",
            "              closed='right',\n",
            "              dtype='interval[float64]')\n"
          ],
          "name": "stdout"
        },
        {
          "output_type": "stream",
          "text": [
            "/usr/local/lib/python3.7/dist-packages/ipykernel_launcher.py:2: SettingWithCopyWarning: \n",
            "A value is trying to be set on a copy of a slice from a DataFrame.\n",
            "Try using .loc[row_indexer,col_indexer] = value instead\n",
            "\n",
            "See the caveats in the documentation: https://pandas.pydata.org/pandas-docs/stable/user_guide/indexing.html#returning-a-view-versus-a-copy\n",
            "  \n"
          ],
          "name": "stderr"
        },
        {
          "output_type": "execute_result",
          "data": {
            "text/html": [
              "<div>\n",
              "<style scoped>\n",
              "    .dataframe tbody tr th:only-of-type {\n",
              "        vertical-align: middle;\n",
              "    }\n",
              "\n",
              "    .dataframe tbody tr th {\n",
              "        vertical-align: top;\n",
              "    }\n",
              "\n",
              "    .dataframe thead th {\n",
              "        text-align: right;\n",
              "    }\n",
              "</style>\n",
              "<table border=\"1\" class=\"dataframe\">\n",
              "  <thead>\n",
              "    <tr style=\"text-align: right;\">\n",
              "      <th></th>\n",
              "      <th>municipio</th>\n",
              "      <th>casos_confirmados</th>\n",
              "      <th>mortes_confirmadas</th>\n",
              "      <th>taxa_mortalidade</th>\n",
              "      <th>pop_estimada</th>\n",
              "      <th>id</th>\n",
              "      <th>confirmados_por_populacao</th>\n",
              "      <th>gastos</th>\n",
              "      <th>gastos_por_habitante</th>\n",
              "      <th>nivel_de_gastos</th>\n",
              "    </tr>\n",
              "    <tr>\n",
              "      <th>id</th>\n",
              "      <th></th>\n",
              "      <th></th>\n",
              "      <th></th>\n",
              "      <th></th>\n",
              "      <th></th>\n",
              "      <th></th>\n",
              "      <th></th>\n",
              "      <th></th>\n",
              "      <th></th>\n",
              "      <th></th>\n",
              "    </tr>\n",
              "  </thead>\n",
              "  <tbody>\n",
              "    <tr>\n",
              "      <th>0</th>\n",
              "      <td>ARCOVERDE</td>\n",
              "      <td>4281</td>\n",
              "      <td>87</td>\n",
              "      <td>2.03</td>\n",
              "      <td>74822</td>\n",
              "      <td>0</td>\n",
              "      <td>5.72</td>\n",
              "      <td>6.829944e+06</td>\n",
              "      <td>91.28</td>\n",
              "      <td>2</td>\n",
              "    </tr>\n",
              "    <tr>\n",
              "      <th>1</th>\n",
              "      <td>BUÍQUE</td>\n",
              "      <td>1436</td>\n",
              "      <td>23</td>\n",
              "      <td>1.60</td>\n",
              "      <td>58919</td>\n",
              "      <td>1</td>\n",
              "      <td>2.44</td>\n",
              "      <td>3.126474e+06</td>\n",
              "      <td>53.06</td>\n",
              "      <td>1</td>\n",
              "    </tr>\n",
              "    <tr>\n",
              "      <th>2</th>\n",
              "      <td>CARUARU</td>\n",
              "      <td>17187</td>\n",
              "      <td>454</td>\n",
              "      <td>2.64</td>\n",
              "      <td>365278</td>\n",
              "      <td>2</td>\n",
              "      <td>4.71</td>\n",
              "      <td>4.256069e+07</td>\n",
              "      <td>116.52</td>\n",
              "      <td>2</td>\n",
              "    </tr>\n",
              "    <tr>\n",
              "      <th>3</th>\n",
              "      <td>GARANHUNS</td>\n",
              "      <td>7250</td>\n",
              "      <td>134</td>\n",
              "      <td>1.85</td>\n",
              "      <td>140577</td>\n",
              "      <td>3</td>\n",
              "      <td>5.16</td>\n",
              "      <td>2.882383e+07</td>\n",
              "      <td>205.04</td>\n",
              "      <td>4</td>\n",
              "    </tr>\n",
              "    <tr>\n",
              "      <th>4</th>\n",
              "      <td>JABOATÃO DOS GUARARAPES</td>\n",
              "      <td>19966</td>\n",
              "      <td>1095</td>\n",
              "      <td>5.48</td>\n",
              "      <td>706867</td>\n",
              "      <td>4</td>\n",
              "      <td>2.82</td>\n",
              "      <td>8.632559e+07</td>\n",
              "      <td>122.12</td>\n",
              "      <td>2</td>\n",
              "    </tr>\n",
              "    <tr>\n",
              "      <th>5</th>\n",
              "      <td>OLINDA</td>\n",
              "      <td>14581</td>\n",
              "      <td>635</td>\n",
              "      <td>4.35</td>\n",
              "      <td>393115</td>\n",
              "      <td>5</td>\n",
              "      <td>3.71</td>\n",
              "      <td>3.668715e+07</td>\n",
              "      <td>93.32</td>\n",
              "      <td>2</td>\n",
              "    </tr>\n",
              "    <tr>\n",
              "      <th>6</th>\n",
              "      <td>PAULISTA</td>\n",
              "      <td>7154</td>\n",
              "      <td>528</td>\n",
              "      <td>7.38</td>\n",
              "      <td>334376</td>\n",
              "      <td>6</td>\n",
              "      <td>2.14</td>\n",
              "      <td>1.064331e+07</td>\n",
              "      <td>31.83</td>\n",
              "      <td>1</td>\n",
              "    </tr>\n",
              "    <tr>\n",
              "      <th>7</th>\n",
              "      <td>PETROLINA</td>\n",
              "      <td>18239</td>\n",
              "      <td>209</td>\n",
              "      <td>1.15</td>\n",
              "      <td>354317</td>\n",
              "      <td>7</td>\n",
              "      <td>5.15</td>\n",
              "      <td>1.127178e+08</td>\n",
              "      <td>318.13</td>\n",
              "      <td>5</td>\n",
              "    </tr>\n",
              "    <tr>\n",
              "      <th>8</th>\n",
              "      <td>RECIFE</td>\n",
              "      <td>78117</td>\n",
              "      <td>3168</td>\n",
              "      <td>4.06</td>\n",
              "      <td>1653461</td>\n",
              "      <td>8</td>\n",
              "      <td>4.72</td>\n",
              "      <td>2.742621e+08</td>\n",
              "      <td>165.87</td>\n",
              "      <td>3</td>\n",
              "    </tr>\n",
              "    <tr>\n",
              "      <th>9</th>\n",
              "      <td>SERRA TALHADA</td>\n",
              "      <td>7341</td>\n",
              "      <td>105</td>\n",
              "      <td>1.43</td>\n",
              "      <td>86915</td>\n",
              "      <td>9</td>\n",
              "      <td>8.45</td>\n",
              "      <td>1.397206e+07</td>\n",
              "      <td>160.76</td>\n",
              "      <td>3</td>\n",
              "    </tr>\n",
              "  </tbody>\n",
              "</table>\n",
              "</div>"
            ],
            "text/plain": [
              "                  municipio  ...  nivel_de_gastos\n",
              "id                           ...                 \n",
              "0                 ARCOVERDE  ...                2\n",
              "1                    BUÍQUE  ...                1\n",
              "2                   CARUARU  ...                2\n",
              "3                 GARANHUNS  ...                4\n",
              "4   JABOATÃO DOS GUARARAPES  ...                2\n",
              "5                    OLINDA  ...                2\n",
              "6                  PAULISTA  ...                1\n",
              "7                 PETROLINA  ...                5\n",
              "8                    RECIFE  ...                3\n",
              "9             SERRA TALHADA  ...                3\n",
              "\n",
              "[10 rows x 10 columns]"
            ]
          },
          "metadata": {
            "tags": []
          },
          "execution_count": 134
        }
      ]
    },
    {
      "cell_type": "markdown",
      "metadata": {
        "id": "MXJn5MBJF3No"
      },
      "source": [
        "#### **Correlações**"
      ]
    },
    {
      "cell_type": "markdown",
      "metadata": {
        "id": "drNrpukmGAOi"
      },
      "source": [
        "> **Geral**"
      ]
    },
    {
      "cell_type": "code",
      "metadata": {
        "id": "0tWU30AmKmW9"
      },
      "source": [
        "covidPeCases_corr = covidPeCases.drop(columns={'id', 'nivel_de_gastos'})\n",
        "covidPeCases_corr = covidPeCases_corr.rename(columns={'casos_confirmados' : 'Casos Confirmados',\n",
        "                                                      'mortes_confirmadas' : 'Mortes Confirmadas',\n",
        "                                                      'taxa_mortalidade' : 'Taxa de Mortalidade',\n",
        "                                                      'pop_estimada' : 'População',\n",
        "                                                      'confirmados_por_populacao' : 'Confirmados por população',\n",
        "                                                      'gastos' : 'Verba da Saúde',\n",
        "                                                      'gastos_por_habitante' : 'Despesas por Habitante'                                                   \n",
        "                                                      })"
      ],
      "execution_count": null,
      "outputs": []
    },
    {
      "cell_type": "code",
      "metadata": {
        "id": "Y2ScG0LWei-G",
        "colab": {
          "base_uri": "https://localhost:8080/",
          "height": 379
        },
        "outputId": "1acdb71e-25c1-4436-9955-950fcb44f767"
      },
      "source": [
        "import matplotlib.pyplot as plt\n",
        "import seaborn as sns; sns.set_theme()\n",
        "\n",
        "fig, (ax0, ax1) = plt.subplots(1, 2, sharex=True, figsize=(24,3))\n",
        "fig.suptitle('Correlações de gastos em saúde com dados da Covid-19')\n",
        "sns.heatmap(covidPeCases_corr.corr(method='pearson'), annot=True, linewidths=.5, ax=ax0)\n",
        "ax0.set_title('Pearson')\n",
        "sns.heatmap(covidPeCases_corr.corr(method='spearman'), annot=True, linewidths=.5, ax=ax1)\n",
        "ax1.set_title('Spearman')"
      ],
      "execution_count": null,
      "outputs": [
        {
          "output_type": "execute_result",
          "data": {
            "text/plain": [
              "Text(0.5, 1.0, 'Spearman')"
            ]
          },
          "metadata": {
            "tags": []
          },
          "execution_count": 184
        },
        {
          "output_type": "display_data",
          "data": {
            "image/png": "[encoded data removed]",
            "text/plain": [
              "<Figure size 1728x216 with 4 Axes>"
            ]
          },
          "metadata": {
            "tags": []
          }
        }
      ]
    },
    {
      "cell_type": "markdown",
      "metadata": {
        "id": "uY_6_M2JkrU2"
      },
      "source": [
        "##### **Correlação de gastos entre Caruaru e Paulista**\n",
        "> Ambos possuem uma população estimada próxima, porém Paulista apresenta números muito piores que Caruaru."
      ]
    },
    {
      "cell_type": "code",
      "metadata": {
        "id": "NnICpo3SilXI"
      },
      "source": [
        "#Investimento por mês em Caruaru\n",
        "InvestPerMonthCaruaru = pd.DataFrame({'dates' : dates})\n",
        "InvestPerMonthCaruaru['month_name'] = InvestPerMonthCaruaru['dates'].dt.strftime('%b')\n",
        "InvestPerMonthCaruaru['gastos'] = invest_covidPe[invest_covidPe['municipio'] == \"CARUARU\"].groupby(by=['data_hora']).sum().values\n",
        "InvestPerMonthCaruaru['gastos_log10'] = InvestPerMonthCaruaru['gastos'].apply(np.log10)\n",
        "\n",
        "#Investimento por mês em Paulista\n",
        "\n",
        "InvestPerMonthPaulista = pd.DataFrame({'dates' : dates})\n",
        "InvestPerMonthPaulista['month_name'] = InvestPerMonthPaulista['dates'].dt.strftime('%b')\n",
        "InvestPerMonthPaulista['gastos'] = invest_covidPe[invest_covidPe['municipio'] == \"PAULISTA\"].groupby(by=['data_hora']).sum().values\n",
        "InvestPerMonthPaulista['gastos_log10'] = InvestPerMonthPaulista['gastos'].apply(np.log10)\n"
      ],
      "execution_count": null,
      "outputs": []
    },
    {
      "cell_type": "code",
      "metadata": {
        "id": "aJUVdjLFj8P3",
        "colab": {
          "base_uri": "https://localhost:8080/",
          "height": 710
        },
        "outputId": "5b9936bb-1d10-48e9-b845-789cdf47fa58"
      },
      "source": [
        "plt.figure(figsize=(10,5))\n",
        "sns.barplot(x='month_name', y='gastos_log10', data=InvestPerMonthCaruaru).set(title='Caruaru', xlabel='Mês', ylabel='Gastos Log10')\n",
        "sns.lineplot(x='month_name', y='gastos_log10', data=InvestPerMonthCaruaru)\n",
        "\n",
        "plt.figure(figsize=(10,5))\n",
        "sns.barplot(x='month_name', y='gastos_log10', data=InvestPerMonthPaulista)\n",
        "sns.lineplot(x='month_name', y='gastos_log10', data=InvestPerMonthPaulista).set(title='Paulista', xlabel='Mês', ylabel='Gastos Log10')"
      ],
      "execution_count": null,
      "outputs": [
        {
          "output_type": "execute_result",
          "data": {
            "text/plain": [
              "[Text(0, 0.5, 'Gastos Log10'), Text(0.5, 0, 'Mês'), Text(0.5, 1.0, 'Paulista')]"
            ]
          },
          "metadata": {
            "tags": []
          },
          "execution_count": 443
        },
        {
          "output_type": "display_data",
          "data": {
            "image/png": "[encoded data removed]",
            "text/plain": [
              "<Figure size 720x360 with 1 Axes>"
            ]
          },
          "metadata": {
            "tags": []
          }
        },
        {
          "output_type": "display_data",
          "data": {
            "image/png": "[encoded data removed]",
            "text/plain": [
              "<Figure size 720x360 with 1 Axes>"
            ]
          },
          "metadata": {
            "tags": []
          }
        }
      ]
    },
    {
      "cell_type": "code",
      "metadata": {
        "id": "zEvYkiWRloxA",
        "colab": {
          "base_uri": "https://localhost:8080/",
          "height": 286
        },
        "outputId": "f6ff29e0-e132-4e79-f6ce-7e19676210e1"
      },
      "source": [
        "sns.boxplot(data=[InvestPerMonthCaruaru[['gastos_log10']], InvestPerMonthPaulista[['gastos_log10']]])"
      ],
      "execution_count": null,
      "outputs": [
        {
          "output_type": "execute_result",
          "data": {
            "text/plain": [
              "<matplotlib.axes._subplots.AxesSubplot at 0x7f64674123d0>"
            ]
          },
          "metadata": {
            "tags": []
          },
          "execution_count": 428
        },
        {
          "output_type": "display_data",
          "data": {
            "image/png": "[encoded data removed]",
            "text/plain": [
              "<Figure size 432x288 with 1 Axes>"
            ]
          },
          "metadata": {
            "tags": []
          }
        }
      ]
    },
    {
      "cell_type": "markdown",
      "metadata": {
        "id": "uvUjSUH3tt_n"
      },
      "source": [
        "Os gastos com Paulista são muito menores que os gastos em Caruaru apesar de terem populações parecidas. Como já vimos anteriormente, os investimentos fizeram total diferença, pois apesar de terem uma quantidade de haitantes parecida, os níveis de taxa de mortalidade na cidade de Paulista são bem maiores"
      ]
    },
    {
      "cell_type": "markdown",
      "metadata": {
        "id": "FHUOFF_HV4rE"
      },
      "source": [
        "## Bônus: **Média móvel e Previsão de gastos para 2021**\n",
        "  * Utilizaremos previsões em Séries Temporais\n",
        "  * Recursos:\n",
        "    - Pandas\n",
        "    - Facebook Prophet"
      ]
    },
    {
      "cell_type": "markdown",
      "metadata": {
        "id": "9H4_3xrgAFK-"
      },
      "source": [
        "### **Conversão do Dataframe para trabalhar com distribuição temporal**\n",
        "Conversão necessária para o desenvolvimento dos métodos de séries temporais"
      ]
    },
    {
      "cell_type": "code",
      "metadata": {
        "id": "pABVsV2-AEzX",
        "colab": {
          "base_uri": "https://localhost:8080/"
        },
        "outputId": "deae645e-7424-4e1f-da4f-ad14a34cba35"
      },
      "source": [
        "# convert the 'Date' column to datetime format\n",
        "invest_covidPe['data_hora'] = invest_covidPe['data_hora'].astype('datetime64[ns]')\n",
        "invest_covidPe.set_index('data_hora')\n",
        "invest_covidPe.index = pd.to_datetime(invest_covidPe['data_hora'])\n",
        "\n",
        "# Check the format of 'Date' column\n",
        "invest_covidPe.info()"
      ],
      "execution_count": null,
      "outputs": [
        {
          "output_type": "stream",
          "text": [
            "<class 'pandas.core.frame.DataFrame'>\n",
            "DatetimeIndex: 149 entries, 2020-03-10 to 2020-07-10\n",
            "Data columns (total 7 columns):\n",
            " #   Column             Non-Null Count  Dtype         \n",
            "---  ------             --------------  -----         \n",
            " 0   data_hora          149 non-null    datetime64[ns]\n",
            " 1   tipo_favorecido    149 non-null    int8          \n",
            " 2   municipio          149 non-null    category      \n",
            " 3   acao_orcamentaria  149 non-null    int8          \n",
            " 4   gastos             149 non-null    float64       \n",
            " 5   outlier            149 non-null    int64         \n",
            " 6   log_gastos         149 non-null    float64       \n",
            "dtypes: category(1), datetime64[ns](1), float64(2), int64(1), int8(2)\n",
            "memory usage: 6.6 KB\n"
          ],
          "name": "stdout"
        }
      ]
    },
    {
      "cell_type": "code",
      "metadata": {
        "colab": {
          "base_uri": "https://localhost:8080/",
          "height": 166
        },
        "id": "CPKALJAs0XGP",
        "outputId": "7dc9cc5a-d7fe-4dd6-9ea6-c35da65c974e"
      },
      "source": [
        "invest_covidPe.drop({'data_hora'},axis=1,inplace=True)\n",
        "invest_covidPe.head(3)"
      ],
      "execution_count": null,
      "outputs": [
        {
          "output_type": "execute_result",
          "data": {
            "text/html": [
              "<div>\n",
              "<style scoped>\n",
              "    .dataframe tbody tr th:only-of-type {\n",
              "        vertical-align: middle;\n",
              "    }\n",
              "\n",
              "    .dataframe tbody tr th {\n",
              "        vertical-align: top;\n",
              "    }\n",
              "\n",
              "    .dataframe thead th {\n",
              "        text-align: right;\n",
              "    }\n",
              "</style>\n",
              "<table border=\"1\" class=\"dataframe\">\n",
              "  <thead>\n",
              "    <tr style=\"text-align: right;\">\n",
              "      <th></th>\n",
              "      <th>tipo_favorecido</th>\n",
              "      <th>municipio</th>\n",
              "      <th>acao_orcamentaria</th>\n",
              "      <th>gastos</th>\n",
              "      <th>outlier</th>\n",
              "      <th>log_gastos</th>\n",
              "    </tr>\n",
              "    <tr>\n",
              "      <th>data_hora</th>\n",
              "      <th></th>\n",
              "      <th></th>\n",
              "      <th></th>\n",
              "      <th></th>\n",
              "      <th></th>\n",
              "      <th></th>\n",
              "    </tr>\n",
              "  </thead>\n",
              "  <tbody>\n",
              "    <tr>\n",
              "      <th>2020-03-10</th>\n",
              "      <td>1</td>\n",
              "      <td>8</td>\n",
              "      <td>1</td>\n",
              "      <td>60000.00</td>\n",
              "      <td>-1</td>\n",
              "      <td>4.778151</td>\n",
              "    </tr>\n",
              "    <tr>\n",
              "      <th>2020-04-10</th>\n",
              "      <td>1</td>\n",
              "      <td>3</td>\n",
              "      <td>1</td>\n",
              "      <td>1174944.27</td>\n",
              "      <td>1</td>\n",
              "      <td>6.070017</td>\n",
              "    </tr>\n",
              "    <tr>\n",
              "      <th>2020-04-10</th>\n",
              "      <td>1</td>\n",
              "      <td>7</td>\n",
              "      <td>1</td>\n",
              "      <td>4130446.89</td>\n",
              "      <td>1</td>\n",
              "      <td>6.615997</td>\n",
              "    </tr>\n",
              "  </tbody>\n",
              "</table>\n",
              "</div>"
            ],
            "text/plain": [
              "            tipo_favorecido municipio  ...  outlier  log_gastos\n",
              "data_hora                              ...                     \n",
              "2020-03-10                1         8  ...       -1    4.778151\n",
              "2020-04-10                1         3  ...        1    6.070017\n",
              "2020-04-10                1         7  ...        1    6.615997\n",
              "\n",
              "[3 rows x 6 columns]"
            ]
          },
          "metadata": {
            "tags": []
          },
          "execution_count": 144
        }
      ]
    },
    {
      "cell_type": "markdown",
      "metadata": {
        "id": "oo91ErQVr8VK"
      },
      "source": [
        "### **Visualização dos gastos em todo o estado**"
      ]
    },
    {
      "cell_type": "code",
      "metadata": {
        "id": "4ff8TLlru2v2",
        "colab": {
          "base_uri": "https://localhost:8080/",
          "height": 498
        },
        "outputId": "34d3cb04-aa7a-4d60-abe4-11e789732a1a"
      },
      "source": [
        "import matplotlib.pyplot as plt\n",
        "import seaborn; seaborn.set()\n",
        "import seaborn as sns\n",
        "\n",
        "%matplotlib inline\n",
        "\n",
        "plt.figure(figsize=(12, 8))\n",
        "data = invest_covidPe.log_gastos\n",
        "data.plot()"
      ],
      "execution_count": null,
      "outputs": [
        {
          "output_type": "execute_result",
          "data": {
            "text/plain": [
              "<matplotlib.axes._subplots.AxesSubplot at 0x7fc590bbe5d0>"
            ]
          },
          "metadata": {
            "tags": []
          },
          "execution_count": 156
        },
        {
          "output_type": "display_data",
          "data": {
            "image/png": "[encoded data removed]",
            "text/plain": [
              "<Figure size 864x576 with 1 Axes>"
            ]
          },
          "metadata": {
            "tags": [],
            "needs_background": "light"
          }
        }
      ]
    },
    {
      "cell_type": "markdown",
      "metadata": {
        "id": "iePObwgQzGtC"
      },
      "source": [
        "#### **Agregação de dados para visualização**\n",
        "\n",
        "**Método**:\n",
        "  * `resample`: *data aggregation*\n",
        "\n",
        "**Amostragem**:\n",
        "  * *Semanal* ('5D')\n",
        "  * *Mensal* ('BM')\n",
        "  * *Bimestre* ('91D')"
      ]
    },
    {
      "cell_type": "code",
      "metadata": {
        "id": "SWnpEJ-vx15t",
        "colab": {
          "base_uri": "https://localhost:8080/",
          "height": 514
        },
        "outputId": "7f82a9c6-f68c-47eb-d48f-214bd821c01a"
      },
      "source": [
        "plt.figure(figsize=(12, 8))\n",
        "data.resample('91D').mean().plot(alpha=0.5, style='-')\n",
        "data.resample('BM').mean().plot(style=':')\n",
        "plt.legend(['Bimestre', 'Mensal'], loc='lower left');"
      ],
      "execution_count": null,
      "outputs": [
        {
          "output_type": "display_data",
          "data": {
            "image/png": "[encoded data removed]",
            "text/plain": [
              "<Figure size 864x576 with 1 Axes>"
            ]
          },
          "metadata": {
            "tags": [],
            "needs_background": "light"
          }
        }
      ]
    },
    {
      "cell_type": "code",
      "metadata": {
        "id": "Kkscs-EC-vBU",
        "colab": {
          "base_uri": "https://localhost:8080/",
          "height": 311
        },
        "outputId": "cd1f9487-e907-4e46-c402-e5ef1b970bef"
      },
      "source": [
        "plt.figure(figsize=(12, 4))\n",
        "data.resample('BM').mean().plot(label='Média mensal de gastos')\n",
        "data.resample('BM').max().plot(label='Pico de gastos')\n",
        "plt.legend()"
      ],
      "execution_count": null,
      "outputs": [
        {
          "output_type": "execute_result",
          "data": {
            "text/plain": [
              "<matplotlib.legend.Legend at 0x7fc5944eb8d0>"
            ]
          },
          "metadata": {
            "tags": []
          },
          "execution_count": 147
        },
        {
          "output_type": "display_data",
          "data": {
            "image/png": "[encoded data removed]",
            "text/plain": [
              "<Figure size 864x288 with 1 Axes>"
            ]
          },
          "metadata": {
            "tags": [],
            "needs_background": "light"
          }
        }
      ]
    },
    {
      "cell_type": "markdown",
      "metadata": {
        "id": "pWeo3Jj99E3g"
      },
      "source": [
        "### Janela deslizante"
      ]
    },
    {
      "cell_type": "code",
      "metadata": {
        "id": "UeDvOOJC79T-",
        "colab": {
          "base_uri": "https://localhost:8080/",
          "height": 328
        },
        "outputId": "279e8fe1-ad62-478d-c3fa-7996ceb7f116"
      },
      "source": [
        "plt.figure(figsize=(14, 10))\n",
        "\n",
        "plt.subplot(211)\n",
        "data.rolling(1).median().plot(label='Gastos diários' , alpha=.5)\n",
        "(data.rolling(5)\n",
        " .median()\n",
        " .plot(label=\"Semanal\", style='r:', alpha=1)\n",
        ")\n",
        "(data.rolling(30)\n",
        " .median()\n",
        " .plot(label=\"Mensal\", style='g:', alpha=1)\n",
        ")\n",
        "(data.rolling(91)\n",
        " .median()\n",
        " .plot(label=\"Bimestre\", style='y:', alpha=1)\n",
        ")\n",
        "plt.legend()"
      ],
      "execution_count": null,
      "outputs": [
        {
          "output_type": "execute_result",
          "data": {
            "text/plain": [
              "<matplotlib.legend.Legend at 0x7fc59432df10>"
            ]
          },
          "metadata": {
            "tags": []
          },
          "execution_count": 148
        },
        {
          "output_type": "display_data",
          "data": {
            "image/png": "[encoded data removed]",
            "text/plain": [
              "<Figure size 1008x720 with 1 Axes>"
            ]
          },
          "metadata": {
            "tags": [],
            "needs_background": "light"
          }
        }
      ]
    },
    {
      "cell_type": "markdown",
      "metadata": {
        "id": "d5CAuRmuIY54"
      },
      "source": [
        "#### Previsões com Prophet\n",
        "\n",
        "> Realizaremos previsões de gastos semanal, mensal e anual em relação ao estado de pernambuco com o agravamento da covid-19\n",
        "\n",
        "> O conjunto histórico se dará com o todo o conjunto de dados de Março/2020 até Dezembro/2020\n",
        "\n",
        "A intenção é avaliar se a previsão corresponde com os meses já passados de 2021 e com os próximos meses até o final do ano."
      ]
    },
    {
      "cell_type": "code",
      "metadata": {
        "id": "IZ9yA4H9IkYV"
      },
      "source": [
        "!pip install --quiet fbprophet"
      ],
      "execution_count": null,
      "outputs": []
    },
    {
      "cell_type": "markdown",
      "metadata": {
        "id": "VRG43wjtCAdW"
      },
      "source": [
        "Para avaliação do melhor resultado para remoção de outliers, serão utilizados \n",
        "cópias dos dataframes gerados"
      ]
    },
    {
      "cell_type": "code",
      "metadata": {
        "id": "xYvdhwVAInWP",
        "colab": {
          "base_uri": "https://localhost:8080/",
          "height": 195
        },
        "outputId": "47a2b826-7e4d-41ff-8431-d28e6681ec5c"
      },
      "source": [
        "from fbprophet import Prophet\n",
        "\n",
        "prophet_df = data.reset_index()\n",
        "prophet_df.columns = [\"ds\", \"y\"]\n",
        "prophet_df.tail()"
      ],
      "execution_count": null,
      "outputs": [
        {
          "output_type": "execute_result",
          "data": {
            "text/html": [
              "<div>\n",
              "<style scoped>\n",
              "    .dataframe tbody tr th:only-of-type {\n",
              "        vertical-align: middle;\n",
              "    }\n",
              "\n",
              "    .dataframe tbody tr th {\n",
              "        vertical-align: top;\n",
              "    }\n",
              "\n",
              "    .dataframe thead th {\n",
              "        text-align: right;\n",
              "    }\n",
              "</style>\n",
              "<table border=\"1\" class=\"dataframe\">\n",
              "  <thead>\n",
              "    <tr style=\"text-align: right;\">\n",
              "      <th></th>\n",
              "      <th>ds</th>\n",
              "      <th>y</th>\n",
              "    </tr>\n",
              "  </thead>\n",
              "  <tbody>\n",
              "    <tr>\n",
              "      <th>144</th>\n",
              "      <td>2020-07-10</td>\n",
              "      <td>6.698535</td>\n",
              "    </tr>\n",
              "    <tr>\n",
              "      <th>145</th>\n",
              "      <td>2020-04-10</td>\n",
              "      <td>6.864927</td>\n",
              "    </tr>\n",
              "    <tr>\n",
              "      <th>146</th>\n",
              "      <td>2020-10-10</td>\n",
              "      <td>6.544068</td>\n",
              "    </tr>\n",
              "    <tr>\n",
              "      <th>147</th>\n",
              "      <td>2020-07-10</td>\n",
              "      <td>6.938322</td>\n",
              "    </tr>\n",
              "    <tr>\n",
              "      <th>148</th>\n",
              "      <td>2020-07-10</td>\n",
              "      <td>6.267172</td>\n",
              "    </tr>\n",
              "  </tbody>\n",
              "</table>\n",
              "</div>"
            ],
            "text/plain": [
              "            ds         y\n",
              "144 2020-07-10  6.698535\n",
              "145 2020-04-10  6.864927\n",
              "146 2020-10-10  6.544068\n",
              "147 2020-07-10  6.938322\n",
              "148 2020-07-10  6.267172"
            ]
          },
          "metadata": {
            "tags": []
          },
          "execution_count": 151
        }
      ]
    },
    {
      "cell_type": "code",
      "metadata": {
        "id": "JShY163rJXEK",
        "colab": {
          "base_uri": "https://localhost:8080/",
          "height": 491
        },
        "outputId": "aa963935-904a-4142-d70e-1572c32ec21a"
      },
      "source": [
        "m = Prophet()\n",
        "m.fit(prophet_df)\n",
        "pred = m.predict(m.make_future_dataframe(periods=360))\n",
        "m.plot(pred); # weird bug causes to plot twice, put ; in the end"
      ],
      "execution_count": null,
      "outputs": [
        {
          "output_type": "stream",
          "text": [
            "INFO:fbprophet:Disabling yearly seasonality. Run prophet with yearly_seasonality=True to override this.\n",
            "INFO:fbprophet:Disabling weekly seasonality. Run prophet with weekly_seasonality=True to override this.\n",
            "INFO:fbprophet:Disabling daily seasonality. Run prophet with daily_seasonality=True to override this.\n"
          ],
          "name": "stderr"
        },
        {
          "output_type": "display_data",
          "data": {
            "image/png": "[encoded data removed]",
            "text/plain": [
              "<Figure size 720x432 with 1 Axes>"
            ]
          },
          "metadata": {
            "tags": []
          }
        }
      ]
    },
    {
      "cell_type": "code",
      "metadata": {
        "id": "IFLkPopzKYv6",
        "colab": {
          "base_uri": "https://localhost:8080/",
          "height": 225
        },
        "outputId": "f614ad90-d022-49ec-d8b2-58e3c4872ff6"
      },
      "source": [
        "m.plot_components(pred);"
      ],
      "execution_count": null,
      "outputs": [
        {
          "output_type": "display_data",
          "data": {
            "image/png": "[encoded data removed]",
            "text/plain": [
              "<Figure size 648x216 with 1 Axes>"
            ]
          },
          "metadata": {
            "tags": []
          }
        }
      ]
    },
    {
      "cell_type": "code",
      "metadata": {
        "id": "9BI8naZ8KpEZ",
        "colab": {
          "base_uri": "https://localhost:8080/",
          "height": 441
        },
        "outputId": "2c2237e8-a53c-43e3-9b43-21db447eb27f"
      },
      "source": [
        "m.plot(pred); # weird bug causes to plot twice, put ; in the end\n",
        "data.plot(label='Gastos (em milhões)', alpha=.5)"
      ],
      "execution_count": null,
      "outputs": [
        {
          "output_type": "execute_result",
          "data": {
            "text/plain": [
              "<matplotlib.axes._subplots.AxesSubplot at 0x7fc590bf4f50>"
            ]
          },
          "metadata": {
            "tags": []
          },
          "execution_count": 154
        },
        {
          "output_type": "display_data",
          "data": {
            "image/png": "[encoded data removed]",
            "text/plain": [
              "<Figure size 720x432 with 1 Axes>"
            ]
          },
          "metadata": {
            "tags": []
          }
        }
      ]
    }
  ]
}