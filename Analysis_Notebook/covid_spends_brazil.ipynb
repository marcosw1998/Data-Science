{
  "nbformat": 4,
  "nbformat_minor": 0,
  "metadata": {
    "colab": {
      "name": "covid_spends_brazil.ipynb",
      "provenance": [],
      "include_colab_link": true
    },
    "kernelspec": {
      "name": "python3",
      "display_name": "Python 3"
    }
  },
  "cells": [
    {
      "cell_type": "markdown",
      "metadata": {
        "id": "view-in-github",
        "colab_type": "text"
      },
      "source": [
        "<a href=\"https://colab.research.google.com/github/marcosw1998/Data-Science/blob/main-mwac/Analysis_Notebook/covid_spends_brazil.ipynb\" target=\"_parent\"><img src=\"https://colab.research.google.com/assets/colab-badge.svg\" alt=\"Open In Colab\"/></a>"
      ]
    },
    {
      "cell_type": "code",
      "metadata": {
        "id": "Y4nYEjgYJGm1"
      },
      "source": [
        "import numpy as np\r\n",
        "import pandas as pd"
      ],
      "execution_count": 5,
      "outputs": []
    },
    {
      "cell_type": "code",
      "metadata": {
        "id": "sYQnY_rJ2K-J",
        "outputId": "d9c9eec9-e7e4-450d-bb73-198d8dd2c1f8",
        "colab": {
          "base_uri": "https://localhost:8080/",
          "height": 397
        }
      },
      "source": [
        "covidPe = pd.read_csv(\"https://raw.githubusercontent.com/marcosw1998/Data-Science/main-mwac/Datasets/covid-pe.csv\",encoding = \"utf-8\")\r\n",
        "print(len(covidPe))\r\n",
        "covidPe.sort_values(\"Município\").head()"
      ],
      "execution_count": 47,
      "outputs": [
        {
          "output_type": "stream",
          "text": [
            "561\n"
          ],
          "name": "stdout"
        },
        {
          "output_type": "execute_result",
          "data": {
            "text/html": [
              "<div>\n",
              "<style scoped>\n",
              "    .dataframe tbody tr th:only-of-type {\n",
              "        vertical-align: middle;\n",
              "    }\n",
              "\n",
              "    .dataframe tbody tr th {\n",
              "        vertical-align: top;\n",
              "    }\n",
              "\n",
              "    .dataframe thead th {\n",
              "        text-align: right;\n",
              "    }\n",
              "</style>\n",
              "<table border=\"1\" class=\"dataframe\">\n",
              "  <thead>\n",
              "    <tr style=\"text-align: right;\">\n",
              "      <th></th>\n",
              "      <th>Mês/Ano</th>\n",
              "      <th>Tipo</th>\n",
              "      <th>Tipo de Favorecido</th>\n",
              "      <th>UF</th>\n",
              "      <th>Nome do Favorecido</th>\n",
              "      <th>CPF/CNPJ</th>\n",
              "      <th>Município</th>\n",
              "      <th>Função</th>\n",
              "      <th>Programa Orçamentário</th>\n",
              "      <th>Ação Orçamentária</th>\n",
              "      <th>Linguagem Cidadã</th>\n",
              "      <th>Valor Transferido</th>\n",
              "    </tr>\n",
              "  </thead>\n",
              "  <tbody>\n",
              "    <tr>\n",
              "      <th>182</th>\n",
              "      <td>nov/20</td>\n",
              "      <td>Legais. Voluntárias e Específicas</td>\n",
              "      <td>Fundo Público</td>\n",
              "      <td>PE</td>\n",
              "      <td>FUNDO MUNICIPAL DE SAUDE</td>\n",
              "      <td>11.371.082/0001-05</td>\n",
              "      <td>CARUARU</td>\n",
              "      <td>Saúde</td>\n",
              "      <td>ATENCAO ESPECIALIZADA A SAUDE</td>\n",
              "      <td>ENFRENTAMENTO DA EMERGENCIA DE SAUDE PUBLICA D...</td>\n",
              "      <td>Sem informação</td>\n",
              "      <td>486.515.00</td>\n",
              "    </tr>\n",
              "    <tr>\n",
              "      <th>178</th>\n",
              "      <td>nov/20</td>\n",
              "      <td>Legais. Voluntárias e Específicas</td>\n",
              "      <td>Entidades Sem Fins Lucrativos</td>\n",
              "      <td>PE</td>\n",
              "      <td>ASSOCICAO DE PAIS E MESTRES</td>\n",
              "      <td>11.252.224/0001-07</td>\n",
              "      <td>CARUARU</td>\n",
              "      <td>Educação</td>\n",
              "      <td>EDUCACAO BASICA DE QUALIDADE</td>\n",
              "      <td>DINHEIRO DIRETO NA ESCOLA PARA A EDUCACAO BASICA</td>\n",
              "      <td>PDDE</td>\n",
              "      <td>7.897.02</td>\n",
              "    </tr>\n",
              "    <tr>\n",
              "      <th>179</th>\n",
              "      <td>nov/20</td>\n",
              "      <td>Legais. Voluntárias e Específicas</td>\n",
              "      <td>Entidades Sem Fins Lucrativos</td>\n",
              "      <td>PE</td>\n",
              "      <td>CONSELHO ESCOLAR MARIA DO SOCORRO DE FREITAS</td>\n",
              "      <td>02.021.769/0001-11</td>\n",
              "      <td>CARUARU</td>\n",
              "      <td>Educação</td>\n",
              "      <td>EDUCACAO BASICA DE QUALIDADE</td>\n",
              "      <td>DINHEIRO DIRETO NA ESCOLA PARA A EDUCACAO BASICA</td>\n",
              "      <td>PDDE</td>\n",
              "      <td>2.837.48</td>\n",
              "    </tr>\n",
              "    <tr>\n",
              "      <th>87</th>\n",
              "      <td>nov/20</td>\n",
              "      <td>Legais. Voluntárias e Específicas</td>\n",
              "      <td>Entidades Sem Fins Lucrativos</td>\n",
              "      <td>PE</td>\n",
              "      <td>CONSELHO ESCOLAR DOM BERNARDINO MARCHIO</td>\n",
              "      <td>34.179.420/0001-07</td>\n",
              "      <td>CARUARU</td>\n",
              "      <td>Educação</td>\n",
              "      <td>EDUCACAO BASICA DE QUALIDADE</td>\n",
              "      <td>DINHEIRO DIRETO NA ESCOLA PARA A EDUCACAO BASICA</td>\n",
              "      <td>PDDE</td>\n",
              "      <td>8.427.56</td>\n",
              "    </tr>\n",
              "    <tr>\n",
              "      <th>181</th>\n",
              "      <td>nov/20</td>\n",
              "      <td>Legais. Voluntárias e Específicas</td>\n",
              "      <td>Entidades Sem Fins Lucrativos</td>\n",
              "      <td>PE</td>\n",
              "      <td>UNIDADE EXECUTORA MAJOR DR.SINVAL</td>\n",
              "      <td>11.441.171/0001-72</td>\n",
              "      <td>CARUARU</td>\n",
              "      <td>Educação</td>\n",
              "      <td>EDUCACAO BASICA DE QUALIDADE</td>\n",
              "      <td>DINHEIRO DIRETO NA ESCOLA PARA A EDUCACAO BASICA</td>\n",
              "      <td>PDDE</td>\n",
              "      <td>2.274.59</td>\n",
              "    </tr>\n",
              "  </tbody>\n",
              "</table>\n",
              "</div>"
            ],
            "text/plain": [
              "    Mês/Ano  ... Valor Transferido\n",
              "182  nov/20  ...        486.515.00\n",
              "178  nov/20  ...          7.897.02\n",
              "179  nov/20  ...          2.837.48\n",
              "87   nov/20  ...          8.427.56\n",
              "181  nov/20  ...          2.274.59\n",
              "\n",
              "[5 rows x 12 columns]"
            ]
          },
          "metadata": {
            "tags": []
          },
          "execution_count": 47
        }
      ]
    },
    {
      "cell_type": "code",
      "metadata": {
        "id": "IJksWiNDB-zK",
        "outputId": "42a6c6de-2abb-48dc-8cbe-c1604853fe3a",
        "colab": {
          "base_uri": "https://localhost:8080/",
          "height": 47
        }
      },
      "source": [
        "# Verificando se existem registros duplicados\r\n",
        "covidPe[covidPe.duplicated()].head()"
      ],
      "execution_count": 57,
      "outputs": [
        {
          "output_type": "execute_result",
          "data": {
            "text/html": [
              "<div>\n",
              "<style scoped>\n",
              "    .dataframe tbody tr th:only-of-type {\n",
              "        vertical-align: middle;\n",
              "    }\n",
              "\n",
              "    .dataframe tbody tr th {\n",
              "        vertical-align: top;\n",
              "    }\n",
              "\n",
              "    .dataframe thead th {\n",
              "        text-align: right;\n",
              "    }\n",
              "</style>\n",
              "<table border=\"1\" class=\"dataframe\">\n",
              "  <thead>\n",
              "    <tr style=\"text-align: right;\">\n",
              "      <th></th>\n",
              "      <th>Mês/Ano</th>\n",
              "      <th>Tipo</th>\n",
              "      <th>Tipo de Favorecido</th>\n",
              "      <th>UF</th>\n",
              "      <th>Nome do Favorecido</th>\n",
              "      <th>CPF/CNPJ</th>\n",
              "      <th>Município</th>\n",
              "      <th>Função</th>\n",
              "      <th>Programa Orçamentário</th>\n",
              "      <th>Ação Orçamentária</th>\n",
              "      <th>Linguagem Cidadã</th>\n",
              "      <th>Valor Transferido</th>\n",
              "    </tr>\n",
              "  </thead>\n",
              "  <tbody>\n",
              "  </tbody>\n",
              "</table>\n",
              "</div>"
            ],
            "text/plain": [
              "Empty DataFrame\n",
              "Columns: [Mês/Ano, Tipo, Tipo de Favorecido, UF, Nome do Favorecido, CPF/CNPJ, Município, Função, Programa Orçamentário, Ação Orçamentária, Linguagem Cidadã, Valor Transferido]\n",
              "Index: []"
            ]
          },
          "metadata": {
            "tags": []
          },
          "execution_count": 57
        }
      ]
    }
  ]
}