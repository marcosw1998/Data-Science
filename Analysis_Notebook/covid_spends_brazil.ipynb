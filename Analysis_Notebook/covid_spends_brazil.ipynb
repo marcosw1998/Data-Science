{
  "nbformat": 4,
  "nbformat_minor": 0,
  "metadata": {
    "colab": {
      "name": "covid_spends_brazil.ipynb",
      "provenance": [],
      "include_colab_link": true
    },
    "kernelspec": {
      "name": "python3",
      "display_name": "Python 3"
    }
  },
  "cells": [
    {
      "cell_type": "markdown",
      "metadata": {
        "id": "view-in-github",
        "colab_type": "text"
      },
      "source": [
        "<a href=\"https://colab.research.google.com/github/marcosw1998/Data-Science/blob/main-mwac/Analysis_Notebook/covid_spends_brazil.ipynb\" target=\"_parent\"><img src=\"https://colab.research.google.com/assets/colab-badge.svg\" alt=\"Open In Colab\"/></a>"
      ]
    },
    {
      "cell_type": "markdown",
      "metadata": {
        "id": "2RWUvaojnu30"
      },
      "source": [
        "# Análise dos custos do governo de Pernambuco - BR em relação à Covid-19\n",
        "* Projeto corresponde a entrega parcial para avaliação na cadeira eletiva IF697 - Intro. a Ciência dos Dados\n",
        "* Autores: Igor Silva e Marcos Cavalcanti\n",
        "* Conjunto de dados públicos retirados das seguintes fontes:\n",
        "  * [Portal da Transparência TCU](http://www.portaltransparencia.gov.br/coronavirus)\n",
        "  * [Prefeitura do Recife](http://dados.recife.pe.gov.br/dataset?tags=sa%C3%BAde)\n",
        "  * [Brasil.io](https://brasil.io/dataset/covid19/caso_full/)\n",
        "\n"
      ]
    },
    {
      "cell_type": "markdown",
      "metadata": {
        "id": "yMkF45UHR9sg"
      },
      "source": [
        "## Por quê o tema?\n",
        "\n",
        "* Interesse em entender e expor de forma clara os gastos públicos\n",
        "* Analisar distribuição de gastos\n",
        "* Covis-19 é um tema importante e merece muita atenção, pois tem feito muitas vítimas e mudado a forma como a sociedade pensa e se organiza\n",
        "* Entender a distribuição de gastos é uma boa forma de tentar corrigir erros e minimizar danos futuros na economia e na sociedade"
      ]
    },
    {
      "cell_type": "markdown",
      "metadata": {
        "id": "nUSfHSb5xbcu"
      },
      "source": [
        "## Carregando as bibliotecas\n",
        "\n",
        "  * Utilizaremos a biblioteca ***`Pandas`*** para trabalhar sobre os dados  e a biblioteca ***`Numpy`*** para geração de gráficos.\n",
        "  \n",
        "\n"
      ]
    },
    {
      "cell_type": "code",
      "metadata": {
        "id": "qSJ4OiBLyBUd"
      },
      "source": [
        "import numpy as np\n",
        "import pandas as pd\n",
        "from matplotlib import pyplot as plt\n",
        "import seaborn as sns"
      ],
      "execution_count": 1,
      "outputs": []
    },
    {
      "cell_type": "code",
      "metadata": {
        "colab": {
          "base_uri": "https://localhost:8080/"
        },
        "id": "YkPGzZMq9zHq",
        "outputId": "4f4765f2-82d8-4653-a78e-fa2f91effde1"
      },
      "source": [
        "!pip install pyspark"
      ],
      "execution_count": null,
      "outputs": [
        {
          "output_type": "stream",
          "text": [
            "Collecting pyspark\n",
            "\u001b[?25l  Downloading https://files.pythonhosted.org/packages/45/b0/9d6860891ab14a39d4bddf80ba26ce51c2f9dc4805e5c6978ac0472c120a/pyspark-3.1.1.tar.gz (212.3MB)\n",
            "\u001b[K     |████████████████████████████████| 212.3MB 68kB/s \n",
            "\u001b[?25hCollecting py4j==0.10.9\n",
            "\u001b[?25l  Downloading https://files.pythonhosted.org/packages/9e/b6/6a4fb90cd235dc8e265a6a2067f2a2c99f0d91787f06aca4bcf7c23f3f80/py4j-0.10.9-py2.py3-none-any.whl (198kB)\n",
            "\u001b[K     |████████████████████████████████| 204kB 17.4MB/s \n",
            "\u001b[?25hBuilding wheels for collected packages: pyspark\n",
            "  Building wheel for pyspark (setup.py) ... \u001b[?25l\u001b[?25hdone\n",
            "  Created wheel for pyspark: filename=pyspark-3.1.1-py2.py3-none-any.whl size=212767604 sha256=6e9627ff16d2902413fd9fc441e8a465450dfb70777468aeacaa13cb8c906a56\n",
            "  Stored in directory: /root/.cache/pip/wheels/0b/90/c0/01de724414ef122bd05f056541fb6a0ecf47c7ca655f8b3c0f\n",
            "Successfully built pyspark\n",
            "Installing collected packages: py4j, pyspark\n",
            "Successfully installed py4j-0.10.9 pyspark-3.1.1\n"
          ],
          "name": "stdout"
        }
      ]
    },
    {
      "cell_type": "code",
      "metadata": {
        "id": "w6YQwVb3_N1D"
      },
      "source": [
        "import pyspark\n",
        "from pyspark import SparkContext\n",
        "sc = SparkContext(\"local\", \"first app\")"
      ],
      "execution_count": null,
      "outputs": []
    },
    {
      "cell_type": "markdown",
      "metadata": {
        "id": "NXlClZzPMhZX"
      },
      "source": [
        "## Carregando os dados\n",
        "\n",
        "  * Utilizaremos a lib ***`requests`*** para carregar os dados em formato csv e em seguida convertê-los em JSON\n",
        "  * Referência: https://www.nylas.com/blog/use-python-requests-module-rest-apis/ \n",
        "  * Instalação\n",
        "     ```\n",
        "      !pip install requests\n",
        "      ```\n",
        "\n"
      ]
    },
    {
      "cell_type": "code",
      "metadata": {
        "id": "3BkP6Vs6NFaO",
        "colab": {
          "base_uri": "https://localhost:8080/"
        },
        "outputId": "35cb0a34-5e5d-4bfa-e88b-dc6cdfb6b92d"
      },
      "source": [
        "!pip install requests"
      ],
      "execution_count": null,
      "outputs": [
        {
          "output_type": "stream",
          "text": [
            "Requirement already satisfied: requests in /usr/local/lib/python3.7/dist-packages (2.23.0)\n",
            "Requirement already satisfied: chardet<4,>=3.0.2 in /usr/local/lib/python3.7/dist-packages (from requests) (3.0.4)\n",
            "Requirement already satisfied: urllib3!=1.25.0,!=1.25.1,<1.26,>=1.21.1 in /usr/local/lib/python3.7/dist-packages (from requests) (1.24.3)\n",
            "Requirement already satisfied: certifi>=2017.4.17 in /usr/local/lib/python3.7/dist-packages (from requests) (2020.12.5)\n",
            "Requirement already satisfied: idna<3,>=2.5 in /usr/local/lib/python3.7/dist-packages (from requests) (2.10)\n"
          ],
          "name": "stdout"
        }
      ]
    },
    {
      "cell_type": "markdown",
      "metadata": {
        "id": "q-M6nqzlZhvj"
      },
      "source": [
        "#### Persistência de dados no Google Drive\n",
        "Caso necessário, executar célula abaixo."
      ]
    },
    {
      "cell_type": "code",
      "metadata": {
        "id": "qvqgU4F2ZZAi",
        "colab": {
          "base_uri": "https://localhost:8080/"
        },
        "outputId": "f6e498ae-fc56-49ed-fd93-bfe12971195e"
      },
      "source": [
        "from google.colab import drive\n",
        "drive.mount('/content/drive')"
      ],
      "execution_count": null,
      "outputs": [
        {
          "output_type": "error",
          "ename": "KeyboardInterrupt",
          "evalue": "ignored",
          "traceback": [
            "\u001b[0;31m---------------------------------------------------------------------------\u001b[0m",
            "\u001b[0;31mKeyboardInterrupt\u001b[0m                         Traceback (most recent call last)",
            "\u001b[0;32m/usr/local/lib/python3.7/dist-packages/ipykernel/kernelbase.py\u001b[0m in \u001b[0;36m_input_request\u001b[0;34m(self, prompt, ident, parent, password)\u001b[0m\n\u001b[1;32m    728\u001b[0m             \u001b[0;32mtry\u001b[0m\u001b[0;34m:\u001b[0m\u001b[0;34m\u001b[0m\u001b[0;34m\u001b[0m\u001b[0m\n\u001b[0;32m--> 729\u001b[0;31m                 \u001b[0mident\u001b[0m\u001b[0;34m,\u001b[0m \u001b[0mreply\u001b[0m \u001b[0;34m=\u001b[0m \u001b[0mself\u001b[0m\u001b[0;34m.\u001b[0m\u001b[0msession\u001b[0m\u001b[0;34m.\u001b[0m\u001b[0mrecv\u001b[0m\u001b[0;34m(\u001b[0m\u001b[0mself\u001b[0m\u001b[0;34m.\u001b[0m\u001b[0mstdin_socket\u001b[0m\u001b[0;34m,\u001b[0m \u001b[0;36m0\u001b[0m\u001b[0;34m)\u001b[0m\u001b[0;34m\u001b[0m\u001b[0;34m\u001b[0m\u001b[0m\n\u001b[0m\u001b[1;32m    730\u001b[0m             \u001b[0;32mexcept\u001b[0m \u001b[0mException\u001b[0m\u001b[0;34m:\u001b[0m\u001b[0;34m\u001b[0m\u001b[0;34m\u001b[0m\u001b[0m\n",
            "\u001b[0;32m/usr/local/lib/python3.7/dist-packages/jupyter_client/session.py\u001b[0m in \u001b[0;36mrecv\u001b[0;34m(self, socket, mode, content, copy)\u001b[0m\n\u001b[1;32m    802\u001b[0m         \u001b[0;32mtry\u001b[0m\u001b[0;34m:\u001b[0m\u001b[0;34m\u001b[0m\u001b[0;34m\u001b[0m\u001b[0m\n\u001b[0;32m--> 803\u001b[0;31m             \u001b[0mmsg_list\u001b[0m \u001b[0;34m=\u001b[0m \u001b[0msocket\u001b[0m\u001b[0;34m.\u001b[0m\u001b[0mrecv_multipart\u001b[0m\u001b[0;34m(\u001b[0m\u001b[0mmode\u001b[0m\u001b[0;34m,\u001b[0m \u001b[0mcopy\u001b[0m\u001b[0;34m=\u001b[0m\u001b[0mcopy\u001b[0m\u001b[0;34m)\u001b[0m\u001b[0;34m\u001b[0m\u001b[0;34m\u001b[0m\u001b[0m\n\u001b[0m\u001b[1;32m    804\u001b[0m         \u001b[0;32mexcept\u001b[0m \u001b[0mzmq\u001b[0m\u001b[0;34m.\u001b[0m\u001b[0mZMQError\u001b[0m \u001b[0;32mas\u001b[0m \u001b[0me\u001b[0m\u001b[0;34m:\u001b[0m\u001b[0;34m\u001b[0m\u001b[0;34m\u001b[0m\u001b[0m\n",
            "\u001b[0;32m/usr/local/lib/python3.7/dist-packages/zmq/sugar/socket.py\u001b[0m in \u001b[0;36mrecv_multipart\u001b[0;34m(self, flags, copy, track)\u001b[0m\n\u001b[1;32m    582\u001b[0m         \"\"\"\n\u001b[0;32m--> 583\u001b[0;31m         \u001b[0mparts\u001b[0m \u001b[0;34m=\u001b[0m \u001b[0;34m[\u001b[0m\u001b[0mself\u001b[0m\u001b[0;34m.\u001b[0m\u001b[0mrecv\u001b[0m\u001b[0;34m(\u001b[0m\u001b[0mflags\u001b[0m\u001b[0;34m,\u001b[0m \u001b[0mcopy\u001b[0m\u001b[0;34m=\u001b[0m\u001b[0mcopy\u001b[0m\u001b[0;34m,\u001b[0m \u001b[0mtrack\u001b[0m\u001b[0;34m=\u001b[0m\u001b[0mtrack\u001b[0m\u001b[0;34m)\u001b[0m\u001b[0;34m]\u001b[0m\u001b[0;34m\u001b[0m\u001b[0;34m\u001b[0m\u001b[0m\n\u001b[0m\u001b[1;32m    584\u001b[0m         \u001b[0;31m# have first part already, only loop while more to receive\u001b[0m\u001b[0;34m\u001b[0m\u001b[0;34m\u001b[0m\u001b[0;34m\u001b[0m\u001b[0m\n",
            "\u001b[0;32mzmq/backend/cython/socket.pyx\u001b[0m in \u001b[0;36mzmq.backend.cython.socket.Socket.recv\u001b[0;34m()\u001b[0m\n",
            "\u001b[0;32mzmq/backend/cython/socket.pyx\u001b[0m in \u001b[0;36mzmq.backend.cython.socket.Socket.recv\u001b[0;34m()\u001b[0m\n",
            "\u001b[0;32mzmq/backend/cython/socket.pyx\u001b[0m in \u001b[0;36mzmq.backend.cython.socket._recv_copy\u001b[0;34m()\u001b[0m\n",
            "\u001b[0;32m/usr/local/lib/python3.7/dist-packages/zmq/backend/cython/checkrc.pxd\u001b[0m in \u001b[0;36mzmq.backend.cython.checkrc._check_rc\u001b[0;34m()\u001b[0m\n",
            "\u001b[0;31mKeyboardInterrupt\u001b[0m: ",
            "\nDuring handling of the above exception, another exception occurred:\n",
            "\u001b[0;31mKeyboardInterrupt\u001b[0m                         Traceback (most recent call last)",
            "\u001b[0;32m<ipython-input-5-d5df0069828e>\u001b[0m in \u001b[0;36m<module>\u001b[0;34m()\u001b[0m\n\u001b[1;32m      1\u001b[0m \u001b[0;32mfrom\u001b[0m \u001b[0mgoogle\u001b[0m\u001b[0;34m.\u001b[0m\u001b[0mcolab\u001b[0m \u001b[0;32mimport\u001b[0m \u001b[0mdrive\u001b[0m\u001b[0;34m\u001b[0m\u001b[0;34m\u001b[0m\u001b[0m\n\u001b[0;32m----> 2\u001b[0;31m \u001b[0mdrive\u001b[0m\u001b[0;34m.\u001b[0m\u001b[0mmount\u001b[0m\u001b[0;34m(\u001b[0m\u001b[0;34m'/content/drive'\u001b[0m\u001b[0;34m)\u001b[0m\u001b[0;34m\u001b[0m\u001b[0;34m\u001b[0m\u001b[0m\n\u001b[0m",
            "\u001b[0;32m/usr/local/lib/python3.7/dist-packages/google/colab/drive.py\u001b[0m in \u001b[0;36mmount\u001b[0;34m(mountpoint, force_remount, timeout_ms, use_metadata_server)\u001b[0m\n\u001b[1;32m    258\u001b[0m       \u001b[0;32mwith\u001b[0m \u001b[0m_output\u001b[0m\u001b[0;34m.\u001b[0m\u001b[0muse_tags\u001b[0m\u001b[0;34m(\u001b[0m\u001b[0;34m'dfs-auth-dance'\u001b[0m\u001b[0;34m)\u001b[0m\u001b[0;34m:\u001b[0m\u001b[0;34m\u001b[0m\u001b[0;34m\u001b[0m\u001b[0m\n\u001b[1;32m    259\u001b[0m         \u001b[0;32mwith\u001b[0m \u001b[0mopen\u001b[0m\u001b[0;34m(\u001b[0m\u001b[0mfifo\u001b[0m\u001b[0;34m,\u001b[0m \u001b[0;34m'w'\u001b[0m\u001b[0;34m)\u001b[0m \u001b[0;32mas\u001b[0m \u001b[0mfifo_file\u001b[0m\u001b[0;34m:\u001b[0m\u001b[0;34m\u001b[0m\u001b[0;34m\u001b[0m\u001b[0m\n\u001b[0;32m--> 260\u001b[0;31m           \u001b[0mfifo_file\u001b[0m\u001b[0;34m.\u001b[0m\u001b[0mwrite\u001b[0m\u001b[0;34m(\u001b[0m\u001b[0mget_code\u001b[0m\u001b[0;34m(\u001b[0m\u001b[0mauth_prompt\u001b[0m\u001b[0;34m)\u001b[0m \u001b[0;34m+\u001b[0m \u001b[0;34m'\\n'\u001b[0m\u001b[0;34m)\u001b[0m\u001b[0;34m\u001b[0m\u001b[0;34m\u001b[0m\u001b[0m\n\u001b[0m\u001b[1;32m    261\u001b[0m       \u001b[0mwrote_to_fifo\u001b[0m \u001b[0;34m=\u001b[0m \u001b[0;32mTrue\u001b[0m\u001b[0;34m\u001b[0m\u001b[0;34m\u001b[0m\u001b[0m\n\u001b[1;32m    262\u001b[0m     \u001b[0;32melif\u001b[0m \u001b[0mcase\u001b[0m \u001b[0;34m==\u001b[0m \u001b[0;36m5\u001b[0m\u001b[0;34m:\u001b[0m\u001b[0;34m\u001b[0m\u001b[0;34m\u001b[0m\u001b[0m\n",
            "\u001b[0;32m/usr/local/lib/python3.7/dist-packages/ipykernel/kernelbase.py\u001b[0m in \u001b[0;36mraw_input\u001b[0;34m(self, prompt)\u001b[0m\n\u001b[1;32m    702\u001b[0m             \u001b[0mself\u001b[0m\u001b[0;34m.\u001b[0m\u001b[0m_parent_ident\u001b[0m\u001b[0;34m,\u001b[0m\u001b[0;34m\u001b[0m\u001b[0;34m\u001b[0m\u001b[0m\n\u001b[1;32m    703\u001b[0m             \u001b[0mself\u001b[0m\u001b[0;34m.\u001b[0m\u001b[0m_parent_header\u001b[0m\u001b[0;34m,\u001b[0m\u001b[0;34m\u001b[0m\u001b[0;34m\u001b[0m\u001b[0m\n\u001b[0;32m--> 704\u001b[0;31m             \u001b[0mpassword\u001b[0m\u001b[0;34m=\u001b[0m\u001b[0;32mFalse\u001b[0m\u001b[0;34m,\u001b[0m\u001b[0;34m\u001b[0m\u001b[0;34m\u001b[0m\u001b[0m\n\u001b[0m\u001b[1;32m    705\u001b[0m         )\n\u001b[1;32m    706\u001b[0m \u001b[0;34m\u001b[0m\u001b[0m\n",
            "\u001b[0;32m/usr/local/lib/python3.7/dist-packages/ipykernel/kernelbase.py\u001b[0m in \u001b[0;36m_input_request\u001b[0;34m(self, prompt, ident, parent, password)\u001b[0m\n\u001b[1;32m    732\u001b[0m             \u001b[0;32mexcept\u001b[0m \u001b[0mKeyboardInterrupt\u001b[0m\u001b[0;34m:\u001b[0m\u001b[0;34m\u001b[0m\u001b[0;34m\u001b[0m\u001b[0m\n\u001b[1;32m    733\u001b[0m                 \u001b[0;31m# re-raise KeyboardInterrupt, to truncate traceback\u001b[0m\u001b[0;34m\u001b[0m\u001b[0;34m\u001b[0m\u001b[0;34m\u001b[0m\u001b[0m\n\u001b[0;32m--> 734\u001b[0;31m                 \u001b[0;32mraise\u001b[0m \u001b[0mKeyboardInterrupt\u001b[0m\u001b[0;34m\u001b[0m\u001b[0;34m\u001b[0m\u001b[0m\n\u001b[0m\u001b[1;32m    735\u001b[0m             \u001b[0;32melse\u001b[0m\u001b[0;34m:\u001b[0m\u001b[0;34m\u001b[0m\u001b[0;34m\u001b[0m\u001b[0m\n\u001b[1;32m    736\u001b[0m                 \u001b[0;32mbreak\u001b[0m\u001b[0;34m\u001b[0m\u001b[0;34m\u001b[0m\u001b[0m\n",
            "\u001b[0;31mKeyboardInterrupt\u001b[0m: "
          ]
        }
      ]
    },
    {
      "cell_type": "markdown",
      "metadata": {
        "id": "UiU31eirNa9-"
      },
      "source": [
        "### Portal da transparência\n",
        "\n",
        "* O portal da transparência permite que sejam baixados apenas 1000 registros por vez, portanto decidimos por baixar 2 datasets diferentes e depois fazermos a junção. Os dados são referentes a algumas cidades de Pernambuco \n",
        "(ARCOVERDE, BUÍQUE, CARUARU, GARANHUNS, JABOATÃO DOS GUARARAPES, OLINDA, PAULISTA, PETROLINA, RECIFE, SERRA TALHADA)"
      ]
    },
    {
      "cell_type": "code",
      "metadata": {
        "id": "P2LLyC3CNM-9"
      },
      "source": [
        "invest_covidPe = pd.read_csv(\"https://raw.githubusercontent.com/marcosw1998/Data-Science/main-mwac/Datasets/covid-pe.csv\",encoding = \"utf-8\")\n",
        "invest_covidPe2 = pd.read_csv(\"https://raw.githubusercontent.com/marcosw1998/Data-Science/main-mwac/Datasets/transferencias_coronavirus.csv\",encoding = \"utf-8\")"
      ],
      "execution_count": 24,
      "outputs": []
    },
    {
      "cell_type": "code",
      "metadata": {
        "colab": {
          "base_uri": "https://localhost:8080/",
          "height": 398
        },
        "id": "cw8ZAqtszcX-",
        "outputId": "ae469463-8b23-4efe-8239-1bc5bd4f8575"
      },
      "source": [
        "#Validando os dados do dataset invest_covidPe\n",
        "print('Dataset 1',invest_covidPe.shape)\n",
        "invest_covidPe.sort_values(\"Município\").head()"
      ],
      "execution_count": 25,
      "outputs": [
        {
          "output_type": "stream",
          "text": [
            "Dataset 1 (561, 12)\n"
          ],
          "name": "stdout"
        },
        {
          "output_type": "execute_result",
          "data": {
            "text/html": [
              "<div>\n",
              "<style scoped>\n",
              "    .dataframe tbody tr th:only-of-type {\n",
              "        vertical-align: middle;\n",
              "    }\n",
              "\n",
              "    .dataframe tbody tr th {\n",
              "        vertical-align: top;\n",
              "    }\n",
              "\n",
              "    .dataframe thead th {\n",
              "        text-align: right;\n",
              "    }\n",
              "</style>\n",
              "<table border=\"1\" class=\"dataframe\">\n",
              "  <thead>\n",
              "    <tr style=\"text-align: right;\">\n",
              "      <th></th>\n",
              "      <th>Mês/Ano</th>\n",
              "      <th>Tipo</th>\n",
              "      <th>Tipo de Favorecido</th>\n",
              "      <th>UF</th>\n",
              "      <th>Nome do Favorecido</th>\n",
              "      <th>CPF/CNPJ</th>\n",
              "      <th>Município</th>\n",
              "      <th>Função</th>\n",
              "      <th>Programa Orçamentário</th>\n",
              "      <th>Ação Orçamentária</th>\n",
              "      <th>Linguagem Cidadã</th>\n",
              "      <th>Valor Transferido</th>\n",
              "    </tr>\n",
              "  </thead>\n",
              "  <tbody>\n",
              "    <tr>\n",
              "      <th>182</th>\n",
              "      <td>nov/20</td>\n",
              "      <td>Legais. Voluntárias e Específicas</td>\n",
              "      <td>Fundo Público</td>\n",
              "      <td>PE</td>\n",
              "      <td>FUNDO MUNICIPAL DE SAUDE</td>\n",
              "      <td>11.371.082/0001-05</td>\n",
              "      <td>CARUARU</td>\n",
              "      <td>Saúde</td>\n",
              "      <td>ATENCAO ESPECIALIZADA A SAUDE</td>\n",
              "      <td>ENFRENTAMENTO DA EMERGENCIA DE SAUDE PUBLICA D...</td>\n",
              "      <td>Sem informação</td>\n",
              "      <td>486.515.00</td>\n",
              "    </tr>\n",
              "    <tr>\n",
              "      <th>178</th>\n",
              "      <td>nov/20</td>\n",
              "      <td>Legais. Voluntárias e Específicas</td>\n",
              "      <td>Entidades Sem Fins Lucrativos</td>\n",
              "      <td>PE</td>\n",
              "      <td>ASSOCICAO DE PAIS E MESTRES</td>\n",
              "      <td>11.252.224/0001-07</td>\n",
              "      <td>CARUARU</td>\n",
              "      <td>Educação</td>\n",
              "      <td>EDUCACAO BASICA DE QUALIDADE</td>\n",
              "      <td>DINHEIRO DIRETO NA ESCOLA PARA A EDUCACAO BASICA</td>\n",
              "      <td>PDDE</td>\n",
              "      <td>7.897.02</td>\n",
              "    </tr>\n",
              "    <tr>\n",
              "      <th>179</th>\n",
              "      <td>nov/20</td>\n",
              "      <td>Legais. Voluntárias e Específicas</td>\n",
              "      <td>Entidades Sem Fins Lucrativos</td>\n",
              "      <td>PE</td>\n",
              "      <td>CONSELHO ESCOLAR MARIA DO SOCORRO DE FREITAS</td>\n",
              "      <td>02.021.769/0001-11</td>\n",
              "      <td>CARUARU</td>\n",
              "      <td>Educação</td>\n",
              "      <td>EDUCACAO BASICA DE QUALIDADE</td>\n",
              "      <td>DINHEIRO DIRETO NA ESCOLA PARA A EDUCACAO BASICA</td>\n",
              "      <td>PDDE</td>\n",
              "      <td>2.837.48</td>\n",
              "    </tr>\n",
              "    <tr>\n",
              "      <th>87</th>\n",
              "      <td>nov/20</td>\n",
              "      <td>Legais. Voluntárias e Específicas</td>\n",
              "      <td>Entidades Sem Fins Lucrativos</td>\n",
              "      <td>PE</td>\n",
              "      <td>CONSELHO ESCOLAR DOM BERNARDINO MARCHIO</td>\n",
              "      <td>34.179.420/0001-07</td>\n",
              "      <td>CARUARU</td>\n",
              "      <td>Educação</td>\n",
              "      <td>EDUCACAO BASICA DE QUALIDADE</td>\n",
              "      <td>DINHEIRO DIRETO NA ESCOLA PARA A EDUCACAO BASICA</td>\n",
              "      <td>PDDE</td>\n",
              "      <td>8.427.56</td>\n",
              "    </tr>\n",
              "    <tr>\n",
              "      <th>181</th>\n",
              "      <td>nov/20</td>\n",
              "      <td>Legais. Voluntárias e Específicas</td>\n",
              "      <td>Entidades Sem Fins Lucrativos</td>\n",
              "      <td>PE</td>\n",
              "      <td>UNIDADE EXECUTORA MAJOR DR.SINVAL</td>\n",
              "      <td>11.441.171/0001-72</td>\n",
              "      <td>CARUARU</td>\n",
              "      <td>Educação</td>\n",
              "      <td>EDUCACAO BASICA DE QUALIDADE</td>\n",
              "      <td>DINHEIRO DIRETO NA ESCOLA PARA A EDUCACAO BASICA</td>\n",
              "      <td>PDDE</td>\n",
              "      <td>2.274.59</td>\n",
              "    </tr>\n",
              "  </tbody>\n",
              "</table>\n",
              "</div>"
            ],
            "text/plain": [
              "    Mês/Ano  ... Valor Transferido\n",
              "182  nov/20  ...        486.515.00\n",
              "178  nov/20  ...          7.897.02\n",
              "179  nov/20  ...          2.837.48\n",
              "87   nov/20  ...          8.427.56\n",
              "181  nov/20  ...          2.274.59\n",
              "\n",
              "[5 rows x 12 columns]"
            ]
          },
          "metadata": {
            "tags": []
          },
          "execution_count": 25
        }
      ]
    },
    {
      "cell_type": "code",
      "metadata": {
        "colab": {
          "base_uri": "https://localhost:8080/",
          "height": 347
        },
        "id": "GejXSMaUzemV",
        "outputId": "e74299a3-ef0b-47cf-d0aa-0b99756ec474"
      },
      "source": [
        "#Validando os dados do dataset invest_covidPe2\n",
        "print('Dataset 2',invest_covidPe2.shape)\n",
        "invest_covidPe2.sort_values(\"Município\").head()"
      ],
      "execution_count": 26,
      "outputs": [
        {
          "output_type": "stream",
          "text": [
            "Dataset 2 (140, 10)\n"
          ],
          "name": "stdout"
        },
        {
          "output_type": "execute_result",
          "data": {
            "text/html": [
              "<div>\n",
              "<style scoped>\n",
              "    .dataframe tbody tr th:only-of-type {\n",
              "        vertical-align: middle;\n",
              "    }\n",
              "\n",
              "    .dataframe tbody tr th {\n",
              "        vertical-align: top;\n",
              "    }\n",
              "\n",
              "    .dataframe thead th {\n",
              "        text-align: right;\n",
              "    }\n",
              "</style>\n",
              "<table border=\"1\" class=\"dataframe\">\n",
              "  <thead>\n",
              "    <tr style=\"text-align: right;\">\n",
              "      <th></th>\n",
              "      <th>Mês/Ano</th>\n",
              "      <th>Tipo</th>\n",
              "      <th>Ação Orçamentária</th>\n",
              "      <th>Programa Orçamentário</th>\n",
              "      <th>Função</th>\n",
              "      <th>Tipo de Favorecido</th>\n",
              "      <th>UF</th>\n",
              "      <th>Município</th>\n",
              "      <th>Valor Transferido</th>\n",
              "      <th>Unnamed: 9</th>\n",
              "    </tr>\n",
              "  </thead>\n",
              "  <tbody>\n",
              "    <tr>\n",
              "      <th>98</th>\n",
              "      <td>12/2020</td>\n",
              "      <td>Legais. Voluntárias e Específicas</td>\n",
              "      <td>21C0 - ENFRENTAMENTO DA EMERGENCIA DE SAUDE PU...</td>\n",
              "      <td>ATENCAO ESPECIALIZADA A SAUDE</td>\n",
              "      <td>10 - Saúde</td>\n",
              "      <td>Fundo Público</td>\n",
              "      <td>PE</td>\n",
              "      <td>ARCOVERDE</td>\n",
              "      <td>R$ 134.639.00</td>\n",
              "      <td>NaN</td>\n",
              "    </tr>\n",
              "    <tr>\n",
              "      <th>41</th>\n",
              "      <td>05/2020</td>\n",
              "      <td>Legais. Voluntárias e Específicas</td>\n",
              "      <td>21C0 - ENFRENTAMENTO DA EMERGENCIA DE SAUDE PU...</td>\n",
              "      <td>PROTECAO SOCIAL NO AMBITO DO SISTEMA UNICO DE ...</td>\n",
              "      <td>08 - Assistência social</td>\n",
              "      <td>Fundo Público</td>\n",
              "      <td>PE</td>\n",
              "      <td>ARCOVERDE</td>\n",
              "      <td>R$ 470.809.62</td>\n",
              "      <td>NaN</td>\n",
              "    </tr>\n",
              "    <tr>\n",
              "      <th>42</th>\n",
              "      <td>11/2020</td>\n",
              "      <td>Legais. Voluntárias e Específicas</td>\n",
              "      <td>21C0 - ENFRENTAMENTO DA EMERGENCIA DE SAUDE PU...</td>\n",
              "      <td>ATENCAO ESPECIALIZADA A SAUDE</td>\n",
              "      <td>10 - Saúde</td>\n",
              "      <td>Fundo Público</td>\n",
              "      <td>PE</td>\n",
              "      <td>ARCOVERDE</td>\n",
              "      <td>R$ 355.594.00</td>\n",
              "      <td>NaN</td>\n",
              "    </tr>\n",
              "    <tr>\n",
              "      <th>32</th>\n",
              "      <td>04/2020</td>\n",
              "      <td>Legais. Voluntárias e Específicas</td>\n",
              "      <td>21C0 - ENFRENTAMENTO DA EMERGENCIA DE SAUDE PU...</td>\n",
              "      <td>ATENCAO ESPECIALIZADA A SAUDE</td>\n",
              "      <td>10 - Saúde</td>\n",
              "      <td>Fundo Público</td>\n",
              "      <td>PE</td>\n",
              "      <td>ARCOVERDE</td>\n",
              "      <td>R$ 761.895.71</td>\n",
              "      <td>NaN</td>\n",
              "    </tr>\n",
              "    <tr>\n",
              "      <th>56</th>\n",
              "      <td>08/2020</td>\n",
              "      <td>Legais. Voluntárias e Específicas</td>\n",
              "      <td>21C0 - ENFRENTAMENTO DA EMERGENCIA DE SAUDE PU...</td>\n",
              "      <td>PROTECAO SOCIAL NO AMBITO DO SISTEMA UNICO DE ...</td>\n",
              "      <td>08 - Assistência social</td>\n",
              "      <td>Fundo Público</td>\n",
              "      <td>PE</td>\n",
              "      <td>ARCOVERDE</td>\n",
              "      <td>R$ 218.971.54</td>\n",
              "      <td>NaN</td>\n",
              "    </tr>\n",
              "  </tbody>\n",
              "</table>\n",
              "</div>"
            ],
            "text/plain": [
              "    Mês/Ano                               Tipo  ... Valor Transferido Unnamed: 9\n",
              "98  12/2020  Legais. Voluntárias e Específicas  ...     R$ 134.639.00        NaN\n",
              "41  05/2020  Legais. Voluntárias e Específicas  ...     R$ 470.809.62        NaN\n",
              "42  11/2020  Legais. Voluntárias e Específicas  ...     R$ 355.594.00        NaN\n",
              "32  04/2020  Legais. Voluntárias e Específicas  ...     R$ 761.895.71        NaN\n",
              "56  08/2020  Legais. Voluntárias e Específicas  ...     R$ 218.971.54        NaN\n",
              "\n",
              "[5 rows x 10 columns]"
            ]
          },
          "metadata": {
            "tags": []
          },
          "execution_count": 26
        }
      ]
    },
    {
      "cell_type": "markdown",
      "metadata": {
        "id": "b66iBYRL0hxm"
      },
      "source": [
        "*Podemos perceber que o Dataset **invest_covidPe** possui mais colunas que o Dataset **invest_covidPe2**.  Também notamos que o Dataset invest_covidPe2 possui uma coluna com dados Nan, vamos tratar disso no pré processamento antes de fazer a concatenação dos dois Datasets*"
      ]
    },
    {
      "cell_type": "markdown",
      "metadata": {
        "id": "k18Rwe8eNlNe"
      },
      "source": [
        "### Dados abertos - Prefeitura do Recife"
      ]
    },
    {
      "cell_type": "code",
      "metadata": {
        "id": "3s88zVuSNt_V"
      },
      "source": [
        "import requests\n",
        "\n",
        "#dados_pref_rmr = requests.get(\"http://dados.recife.pe.gov.br/dataset/6c77a814-7161-4eb5-9662-234642dc8cc1/resource/63376b8c-0271-42eb-a88b-cc75c1c3f3fc/download/metadados-hospitais.json\").json()"
      ],
      "execution_count": null,
      "outputs": []
    },
    {
      "cell_type": "markdown",
      "metadata": {
        "id": "gs9zkhhfN5uv"
      },
      "source": [
        "### Dados públicos em open APIs"
      ]
    },
    {
      "cell_type": "code",
      "metadata": {
        "id": "VDEKKlyuOHnM"
      },
      "source": [
        "#dados_api = requests.get(\"https://brasil.io/dataset/covid19/caso_full/\").json()"
      ],
      "execution_count": null,
      "outputs": []
    },
    {
      "cell_type": "markdown",
      "metadata": {
        "id": "MHqgJ0_e9dUa"
      },
      "source": [
        "### Dados de casos de Covid-19 por todo o estado de Pernambuco. \n",
        "Os valores estão atualizados até o dia 17/03/2021 e foram buscados através do Brasil.io"
      ]
    },
    {
      "cell_type": "code",
      "metadata": {
        "colab": {
          "base_uri": "https://localhost:8080/",
          "height": 334
        },
        "id": "tnkNhxpK9_EJ",
        "outputId": "1b500ed8-cb87-4a55-d738-fba219c66284"
      },
      "source": [
        "covidPeCases = pd.read_csv(\"https://raw.githubusercontent.com/marcosw1998/Data-Science/main-mwac/Datasets/covid19-1703-casos.csv\",encoding = \"utf-8\")\n",
        "print(covidPeCases.shape)\n",
        "covidPeCases.sort_values(\"city\").head()"
      ],
      "execution_count": 27,
      "outputs": [
        {
          "output_type": "stream",
          "text": [
            "(187, 16)\n"
          ],
          "name": "stdout"
        },
        {
          "output_type": "execute_result",
          "data": {
            "text/html": [
              "<div>\n",
              "<style scoped>\n",
              "    .dataframe tbody tr th:only-of-type {\n",
              "        vertical-align: middle;\n",
              "    }\n",
              "\n",
              "    .dataframe tbody tr th {\n",
              "        vertical-align: top;\n",
              "    }\n",
              "\n",
              "    .dataframe thead th {\n",
              "        text-align: right;\n",
              "    }\n",
              "</style>\n",
              "<table border=\"1\" class=\"dataframe\">\n",
              "  <thead>\n",
              "    <tr style=\"text-align: right;\">\n",
              "      <th></th>\n",
              "      <th>epidemiological_week</th>\n",
              "      <th>date</th>\n",
              "      <th>order_for_place</th>\n",
              "      <th>state</th>\n",
              "      <th>city</th>\n",
              "      <th>city_ibge_code</th>\n",
              "      <th>place_type</th>\n",
              "      <th>last_available_confirmed</th>\n",
              "      <th>last_available_confirmed_per_100k_inhabitants</th>\n",
              "      <th>new_confirmed</th>\n",
              "      <th>last_available_deaths</th>\n",
              "      <th>new_deaths</th>\n",
              "      <th>last_available_death_rate</th>\n",
              "      <th>estimated_population</th>\n",
              "      <th>is_last</th>\n",
              "      <th>is_repeated</th>\n",
              "    </tr>\n",
              "  </thead>\n",
              "  <tbody>\n",
              "    <tr>\n",
              "      <th>1</th>\n",
              "      <td>202111</td>\n",
              "      <td>2021-03-15</td>\n",
              "      <td>341</td>\n",
              "      <td>PE</td>\n",
              "      <td>Abreu e Lima</td>\n",
              "      <td>2600054.0</td>\n",
              "      <td>city</td>\n",
              "      <td>1700</td>\n",
              "      <td>1694.13828</td>\n",
              "      <td>8</td>\n",
              "      <td>159</td>\n",
              "      <td>1</td>\n",
              "      <td>0.0935</td>\n",
              "      <td>100346.0</td>\n",
              "      <td>True</td>\n",
              "      <td>False</td>\n",
              "    </tr>\n",
              "    <tr>\n",
              "      <th>2</th>\n",
              "      <td>202111</td>\n",
              "      <td>2021-03-15</td>\n",
              "      <td>321</td>\n",
              "      <td>PE</td>\n",
              "      <td>Afogados da Ingazeira</td>\n",
              "      <td>2600104.0</td>\n",
              "      <td>city</td>\n",
              "      <td>2478</td>\n",
              "      <td>6624.95990</td>\n",
              "      <td>1</td>\n",
              "      <td>35</td>\n",
              "      <td>0</td>\n",
              "      <td>0.0141</td>\n",
              "      <td>37404.0</td>\n",
              "      <td>True</td>\n",
              "      <td>False</td>\n",
              "    </tr>\n",
              "    <tr>\n",
              "      <th>3</th>\n",
              "      <td>202111</td>\n",
              "      <td>2021-03-15</td>\n",
              "      <td>321</td>\n",
              "      <td>PE</td>\n",
              "      <td>Afrânio</td>\n",
              "      <td>2600203.0</td>\n",
              "      <td>city</td>\n",
              "      <td>578</td>\n",
              "      <td>2917.71832</td>\n",
              "      <td>0</td>\n",
              "      <td>9</td>\n",
              "      <td>0</td>\n",
              "      <td>0.0156</td>\n",
              "      <td>19810.0</td>\n",
              "      <td>True</td>\n",
              "      <td>False</td>\n",
              "    </tr>\n",
              "    <tr>\n",
              "      <th>4</th>\n",
              "      <td>202111</td>\n",
              "      <td>2021-03-15</td>\n",
              "      <td>326</td>\n",
              "      <td>PE</td>\n",
              "      <td>Agrestina</td>\n",
              "      <td>2600302.0</td>\n",
              "      <td>city</td>\n",
              "      <td>865</td>\n",
              "      <td>3451.02733</td>\n",
              "      <td>2</td>\n",
              "      <td>36</td>\n",
              "      <td>0</td>\n",
              "      <td>0.0416</td>\n",
              "      <td>25065.0</td>\n",
              "      <td>True</td>\n",
              "      <td>False</td>\n",
              "    </tr>\n",
              "    <tr>\n",
              "      <th>7</th>\n",
              "      <td>202111</td>\n",
              "      <td>2021-03-15</td>\n",
              "      <td>331</td>\n",
              "      <td>PE</td>\n",
              "      <td>Alagoinha</td>\n",
              "      <td>2600609.0</td>\n",
              "      <td>city</td>\n",
              "      <td>443</td>\n",
              "      <td>3009.91983</td>\n",
              "      <td>0</td>\n",
              "      <td>13</td>\n",
              "      <td>0</td>\n",
              "      <td>0.0293</td>\n",
              "      <td>14718.0</td>\n",
              "      <td>True</td>\n",
              "      <td>False</td>\n",
              "    </tr>\n",
              "  </tbody>\n",
              "</table>\n",
              "</div>"
            ],
            "text/plain": [
              "   epidemiological_week        date  ...  is_last is_repeated\n",
              "1                202111  2021-03-15  ...     True       False\n",
              "2                202111  2021-03-15  ...     True       False\n",
              "3                202111  2021-03-15  ...     True       False\n",
              "4                202111  2021-03-15  ...     True       False\n",
              "7                202111  2021-03-15  ...     True       False\n",
              "\n",
              "[5 rows x 16 columns]"
            ]
          },
          "metadata": {
            "tags": []
          },
          "execution_count": 27
        }
      ]
    },
    {
      "cell_type": "markdown",
      "metadata": {
        "id": "d_488MvPT4fM"
      },
      "source": [
        "## Pré Processamento\n",
        "  * Junção de datasets em Dataframe Pandas\n",
        "  * Tratamento de dados ```NaN```/```null``` ou corrompidos\n",
        "  * Conversão de tipos\n",
        "  * Transformação e identificação de dados categóricos\n",
        "  * Remoção de ***Outliers***"
      ]
    },
    {
      "cell_type": "markdown",
      "metadata": {
        "id": "XmQ22okDAROC"
      },
      "source": [
        "### Dados sobre investimentos do governo"
      ]
    },
    {
      "cell_type": "code",
      "metadata": {
        "colab": {
          "base_uri": "https://localhost:8080/"
        },
        "id": "hFQN8MFVzyM-",
        "outputId": "8fd0d02f-2e69-4935-8a94-efb64044b31a"
      },
      "source": [
        "# Verificando se existem registros duplicados\n",
        "print(\"Número de registros duplicados\")\n",
        "print(\"Dataset 1\",len(invest_covidPe[invest_covidPe.duplicated()]))\n",
        "print(\"Dataset 2\",len(invest_covidPe2[invest_covidPe2.duplicated()]))\n"
      ],
      "execution_count": 28,
      "outputs": [
        {
          "output_type": "stream",
          "text": [
            "Número de registros duplicados\n",
            "Dataset 1 0\n",
            "Dataset 2 0\n"
          ],
          "name": "stdout"
        }
      ]
    },
    {
      "cell_type": "code",
      "metadata": {
        "id": "m7rho0DEE8cM",
        "colab": {
          "base_uri": "https://localhost:8080/"
        },
        "outputId": "a7cad628-4ce0-4fea-df15-a8ea0add79c5"
      },
      "source": [
        "#Checando se temos valores Nan\n",
        "print('Dataset 1',invest_covidPe.isnull().sum())\n",
        "print('Dataset 1',invest_covidPe2.isnull().sum())"
      ],
      "execution_count": 29,
      "outputs": [
        {
          "output_type": "stream",
          "text": [
            "Dataset 1 Mês/Ano                  0\n",
            "Tipo                     0\n",
            "Tipo de Favorecido       0\n",
            "UF                       0\n",
            "Nome do Favorecido       0\n",
            "CPF/CNPJ                 0\n",
            "Município                0\n",
            "Função                   0\n",
            "Programa Orçamentário    0\n",
            "Ação Orçamentária        0\n",
            "Linguagem Cidadã         0\n",
            "Valor Transferido        0\n",
            "dtype: int64\n",
            "Dataset 1 Mês/Ano                    0\n",
            "Tipo                       0\n",
            "Ação Orçamentária          0\n",
            "Programa Orçamentário      0\n",
            "Função                     0\n",
            "Tipo de Favorecido         0\n",
            "UF                         0\n",
            "Município                  0\n",
            "Valor Transferido          0\n",
            "Unnamed: 9               140\n",
            "dtype: int64\n"
          ],
          "name": "stdout"
        }
      ]
    },
    {
      "cell_type": "code",
      "metadata": {
        "id": "Bm39ZTwf2Gal",
        "colab": {
          "base_uri": "https://localhost:8080/",
          "height": 0
        },
        "outputId": "400bb536-41d9-4ef5-c717-1cafcb798bd0"
      },
      "source": [
        "#Dropando colunas que não fazem parte do dataset invest_covidPe2 e que não influem sobre os nossos estudos (Nome do favorecido, CPF/CNPJ, Linguagem Cidadã)\n",
        "invest_covidPe = invest_covidPe.dropna(axis=1, how='all')\n",
        "cols = [4,5,10]\n",
        "invest_covidPe.drop(invest_covidPe.columns[cols],axis=1,inplace=True)\n",
        "invest_covidPe.sort_values(\"Município\").head()"
      ],
      "execution_count": 30,
      "outputs": [
        {
          "output_type": "execute_result",
          "data": {
            "text/html": [
              "<div>\n",
              "<style scoped>\n",
              "    .dataframe tbody tr th:only-of-type {\n",
              "        vertical-align: middle;\n",
              "    }\n",
              "\n",
              "    .dataframe tbody tr th {\n",
              "        vertical-align: top;\n",
              "    }\n",
              "\n",
              "    .dataframe thead th {\n",
              "        text-align: right;\n",
              "    }\n",
              "</style>\n",
              "<table border=\"1\" class=\"dataframe\">\n",
              "  <thead>\n",
              "    <tr style=\"text-align: right;\">\n",
              "      <th></th>\n",
              "      <th>Mês/Ano</th>\n",
              "      <th>Tipo</th>\n",
              "      <th>Tipo de Favorecido</th>\n",
              "      <th>UF</th>\n",
              "      <th>Município</th>\n",
              "      <th>Função</th>\n",
              "      <th>Programa Orçamentário</th>\n",
              "      <th>Ação Orçamentária</th>\n",
              "      <th>Valor Transferido</th>\n",
              "    </tr>\n",
              "  </thead>\n",
              "  <tbody>\n",
              "    <tr>\n",
              "      <th>182</th>\n",
              "      <td>nov/20</td>\n",
              "      <td>Legais. Voluntárias e Específicas</td>\n",
              "      <td>Fundo Público</td>\n",
              "      <td>PE</td>\n",
              "      <td>CARUARU</td>\n",
              "      <td>Saúde</td>\n",
              "      <td>ATENCAO ESPECIALIZADA A SAUDE</td>\n",
              "      <td>ENFRENTAMENTO DA EMERGENCIA DE SAUDE PUBLICA D...</td>\n",
              "      <td>486.515.00</td>\n",
              "    </tr>\n",
              "    <tr>\n",
              "      <th>178</th>\n",
              "      <td>nov/20</td>\n",
              "      <td>Legais. Voluntárias e Específicas</td>\n",
              "      <td>Entidades Sem Fins Lucrativos</td>\n",
              "      <td>PE</td>\n",
              "      <td>CARUARU</td>\n",
              "      <td>Educação</td>\n",
              "      <td>EDUCACAO BASICA DE QUALIDADE</td>\n",
              "      <td>DINHEIRO DIRETO NA ESCOLA PARA A EDUCACAO BASICA</td>\n",
              "      <td>7.897.02</td>\n",
              "    </tr>\n",
              "    <tr>\n",
              "      <th>179</th>\n",
              "      <td>nov/20</td>\n",
              "      <td>Legais. Voluntárias e Específicas</td>\n",
              "      <td>Entidades Sem Fins Lucrativos</td>\n",
              "      <td>PE</td>\n",
              "      <td>CARUARU</td>\n",
              "      <td>Educação</td>\n",
              "      <td>EDUCACAO BASICA DE QUALIDADE</td>\n",
              "      <td>DINHEIRO DIRETO NA ESCOLA PARA A EDUCACAO BASICA</td>\n",
              "      <td>2.837.48</td>\n",
              "    </tr>\n",
              "    <tr>\n",
              "      <th>87</th>\n",
              "      <td>nov/20</td>\n",
              "      <td>Legais. Voluntárias e Específicas</td>\n",
              "      <td>Entidades Sem Fins Lucrativos</td>\n",
              "      <td>PE</td>\n",
              "      <td>CARUARU</td>\n",
              "      <td>Educação</td>\n",
              "      <td>EDUCACAO BASICA DE QUALIDADE</td>\n",
              "      <td>DINHEIRO DIRETO NA ESCOLA PARA A EDUCACAO BASICA</td>\n",
              "      <td>8.427.56</td>\n",
              "    </tr>\n",
              "    <tr>\n",
              "      <th>181</th>\n",
              "      <td>nov/20</td>\n",
              "      <td>Legais. Voluntárias e Específicas</td>\n",
              "      <td>Entidades Sem Fins Lucrativos</td>\n",
              "      <td>PE</td>\n",
              "      <td>CARUARU</td>\n",
              "      <td>Educação</td>\n",
              "      <td>EDUCACAO BASICA DE QUALIDADE</td>\n",
              "      <td>DINHEIRO DIRETO NA ESCOLA PARA A EDUCACAO BASICA</td>\n",
              "      <td>2.274.59</td>\n",
              "    </tr>\n",
              "  </tbody>\n",
              "</table>\n",
              "</div>"
            ],
            "text/plain": [
              "    Mês/Ano  ... Valor Transferido\n",
              "182  nov/20  ...        486.515.00\n",
              "178  nov/20  ...          7.897.02\n",
              "179  nov/20  ...          2.837.48\n",
              "87   nov/20  ...          8.427.56\n",
              "181  nov/20  ...          2.274.59\n",
              "\n",
              "[5 rows x 9 columns]"
            ]
          },
          "metadata": {
            "tags": []
          },
          "execution_count": 30
        }
      ]
    },
    {
      "cell_type": "code",
      "metadata": {
        "colab": {
          "base_uri": "https://localhost:8080/",
          "height": 0
        },
        "id": "GVumFyH60Byd",
        "outputId": "c9708039-e7e7-4ecc-bc1b-f7ee279b5cc8"
      },
      "source": [
        "#Dropando coluna que tem todos os valores Nan\n",
        "invest_covidPe2.dropna(axis=1, how='all',inplace=True)\n",
        "invest_covidPe2.sort_values(\"Município\").head()"
      ],
      "execution_count": 31,
      "outputs": [
        {
          "output_type": "execute_result",
          "data": {
            "text/html": [
              "<div>\n",
              "<style scoped>\n",
              "    .dataframe tbody tr th:only-of-type {\n",
              "        vertical-align: middle;\n",
              "    }\n",
              "\n",
              "    .dataframe tbody tr th {\n",
              "        vertical-align: top;\n",
              "    }\n",
              "\n",
              "    .dataframe thead th {\n",
              "        text-align: right;\n",
              "    }\n",
              "</style>\n",
              "<table border=\"1\" class=\"dataframe\">\n",
              "  <thead>\n",
              "    <tr style=\"text-align: right;\">\n",
              "      <th></th>\n",
              "      <th>Mês/Ano</th>\n",
              "      <th>Tipo</th>\n",
              "      <th>Ação Orçamentária</th>\n",
              "      <th>Programa Orçamentário</th>\n",
              "      <th>Função</th>\n",
              "      <th>Tipo de Favorecido</th>\n",
              "      <th>UF</th>\n",
              "      <th>Município</th>\n",
              "      <th>Valor Transferido</th>\n",
              "    </tr>\n",
              "  </thead>\n",
              "  <tbody>\n",
              "    <tr>\n",
              "      <th>98</th>\n",
              "      <td>12/2020</td>\n",
              "      <td>Legais. Voluntárias e Específicas</td>\n",
              "      <td>21C0 - ENFRENTAMENTO DA EMERGENCIA DE SAUDE PU...</td>\n",
              "      <td>ATENCAO ESPECIALIZADA A SAUDE</td>\n",
              "      <td>10 - Saúde</td>\n",
              "      <td>Fundo Público</td>\n",
              "      <td>PE</td>\n",
              "      <td>ARCOVERDE</td>\n",
              "      <td>R$ 134.639.00</td>\n",
              "    </tr>\n",
              "    <tr>\n",
              "      <th>41</th>\n",
              "      <td>05/2020</td>\n",
              "      <td>Legais. Voluntárias e Específicas</td>\n",
              "      <td>21C0 - ENFRENTAMENTO DA EMERGENCIA DE SAUDE PU...</td>\n",
              "      <td>PROTECAO SOCIAL NO AMBITO DO SISTEMA UNICO DE ...</td>\n",
              "      <td>08 - Assistência social</td>\n",
              "      <td>Fundo Público</td>\n",
              "      <td>PE</td>\n",
              "      <td>ARCOVERDE</td>\n",
              "      <td>R$ 470.809.62</td>\n",
              "    </tr>\n",
              "    <tr>\n",
              "      <th>42</th>\n",
              "      <td>11/2020</td>\n",
              "      <td>Legais. Voluntárias e Específicas</td>\n",
              "      <td>21C0 - ENFRENTAMENTO DA EMERGENCIA DE SAUDE PU...</td>\n",
              "      <td>ATENCAO ESPECIALIZADA A SAUDE</td>\n",
              "      <td>10 - Saúde</td>\n",
              "      <td>Fundo Público</td>\n",
              "      <td>PE</td>\n",
              "      <td>ARCOVERDE</td>\n",
              "      <td>R$ 355.594.00</td>\n",
              "    </tr>\n",
              "    <tr>\n",
              "      <th>32</th>\n",
              "      <td>04/2020</td>\n",
              "      <td>Legais. Voluntárias e Específicas</td>\n",
              "      <td>21C0 - ENFRENTAMENTO DA EMERGENCIA DE SAUDE PU...</td>\n",
              "      <td>ATENCAO ESPECIALIZADA A SAUDE</td>\n",
              "      <td>10 - Saúde</td>\n",
              "      <td>Fundo Público</td>\n",
              "      <td>PE</td>\n",
              "      <td>ARCOVERDE</td>\n",
              "      <td>R$ 761.895.71</td>\n",
              "    </tr>\n",
              "    <tr>\n",
              "      <th>56</th>\n",
              "      <td>08/2020</td>\n",
              "      <td>Legais. Voluntárias e Específicas</td>\n",
              "      <td>21C0 - ENFRENTAMENTO DA EMERGENCIA DE SAUDE PU...</td>\n",
              "      <td>PROTECAO SOCIAL NO AMBITO DO SISTEMA UNICO DE ...</td>\n",
              "      <td>08 - Assistência social</td>\n",
              "      <td>Fundo Público</td>\n",
              "      <td>PE</td>\n",
              "      <td>ARCOVERDE</td>\n",
              "      <td>R$ 218.971.54</td>\n",
              "    </tr>\n",
              "  </tbody>\n",
              "</table>\n",
              "</div>"
            ],
            "text/plain": [
              "    Mês/Ano                               Tipo  ...  Município Valor Transferido\n",
              "98  12/2020  Legais. Voluntárias e Específicas  ...  ARCOVERDE     R$ 134.639.00\n",
              "41  05/2020  Legais. Voluntárias e Específicas  ...  ARCOVERDE     R$ 470.809.62\n",
              "42  11/2020  Legais. Voluntárias e Específicas  ...  ARCOVERDE     R$ 355.594.00\n",
              "32  04/2020  Legais. Voluntárias e Específicas  ...  ARCOVERDE     R$ 761.895.71\n",
              "56  08/2020  Legais. Voluntárias e Específicas  ...  ARCOVERDE     R$ 218.971.54\n",
              "\n",
              "[5 rows x 9 columns]"
            ]
          },
          "metadata": {
            "tags": []
          },
          "execution_count": 31
        }
      ]
    },
    {
      "cell_type": "code",
      "metadata": {
        "colab": {
          "base_uri": "https://localhost:8080/"
        },
        "id": "o61JK1_h1G8W",
        "outputId": "309a06e2-6280-4cc0-dc33-db26b285afe3"
      },
      "source": [
        "#Confirmando que as colunas foram removidas e agora os 2 datasets possuem a mesma quantidade de colunas\n",
        "print('Dataset 1',invest_covidPe.shape)\n",
        "print('Dataset 2',invest_covidPe2.shape)"
      ],
      "execution_count": 32,
      "outputs": [
        {
          "output_type": "stream",
          "text": [
            "Dataset 1 (561, 9)\n",
            "Dataset 2 (140, 9)\n"
          ],
          "name": "stdout"
        }
      ]
    },
    {
      "cell_type": "code",
      "metadata": {
        "id": "qjEsiHCQ5lfM"
      },
      "source": [
        "#Fazendo a concatenação dos Dataframes, o resultado final de linhas é igual ao somatório de linhas entre ambos os Datasets\n",
        "invest_covidPe = invest_covidPe.append(invest_covidPe2, ignore_index=True)"
      ],
      "execution_count": 33,
      "outputs": []
    },
    {
      "cell_type": "markdown",
      "metadata": {
        "id": "DBuE-AkS9K96"
      },
      "source": [
        "### A partir de agora trabalharemos apenas sobre o invest_covidPe, o invest_covidPe2 está descartado."
      ]
    },
    {
      "cell_type": "code",
      "metadata": {
        "colab": {
          "base_uri": "https://localhost:8080/"
        },
        "id": "SFIOcaR-6Tel",
        "outputId": "9020a14e-cb4f-45ea-a1b4-fd6082a7d371"
      },
      "source": [
        "# Verificando se existem registros duplicados\n",
        "print(\"Número de registros duplicados\")\n",
        "print(\"Dataset 1\",len(invest_covidPe[invest_covidPe.duplicated()]))"
      ],
      "execution_count": 34,
      "outputs": [
        {
          "output_type": "stream",
          "text": [
            "Número de registros duplicados\n",
            "Dataset 1 25\n"
          ],
          "name": "stdout"
        }
      ]
    },
    {
      "cell_type": "code",
      "metadata": {
        "colab": {
          "base_uri": "https://localhost:8080/",
          "height": 0
        },
        "id": "IXKtvsPq6ii9",
        "outputId": "36bc2996-a4b5-4d2a-f1b8-9c42303abc7e"
      },
      "source": [
        "#No entanto os valores levantados como duplicados são falsos positivos\n",
        "invest_covidPe[invest_covidPe.duplicated()].sort_values(\"Município\").tail(5)"
      ],
      "execution_count": 35,
      "outputs": [
        {
          "output_type": "execute_result",
          "data": {
            "text/html": [
              "<div>\n",
              "<style scoped>\n",
              "    .dataframe tbody tr th:only-of-type {\n",
              "        vertical-align: middle;\n",
              "    }\n",
              "\n",
              "    .dataframe tbody tr th {\n",
              "        vertical-align: top;\n",
              "    }\n",
              "\n",
              "    .dataframe thead th {\n",
              "        text-align: right;\n",
              "    }\n",
              "</style>\n",
              "<table border=\"1\" class=\"dataframe\">\n",
              "  <thead>\n",
              "    <tr style=\"text-align: right;\">\n",
              "      <th></th>\n",
              "      <th>Mês/Ano</th>\n",
              "      <th>Tipo</th>\n",
              "      <th>Tipo de Favorecido</th>\n",
              "      <th>UF</th>\n",
              "      <th>Município</th>\n",
              "      <th>Função</th>\n",
              "      <th>Programa Orçamentário</th>\n",
              "      <th>Ação Orçamentária</th>\n",
              "      <th>Valor Transferido</th>\n",
              "    </tr>\n",
              "  </thead>\n",
              "  <tbody>\n",
              "    <tr>\n",
              "      <th>312</th>\n",
              "      <td>nov/20</td>\n",
              "      <td>Legais. Voluntárias e Específicas</td>\n",
              "      <td>Entidades Sem Fins Lucrativos</td>\n",
              "      <td>PE</td>\n",
              "      <td>RECIFE</td>\n",
              "      <td>Educação</td>\n",
              "      <td>EDUCACAO BASICA DE QUALIDADE</td>\n",
              "      <td>DINHEIRO DIRETO NA ESCOLA PARA A EDUCACAO BASICA</td>\n",
              "      <td>1.782.87</td>\n",
              "    </tr>\n",
              "    <tr>\n",
              "      <th>248</th>\n",
              "      <td>nov/20</td>\n",
              "      <td>Legais. Voluntárias e Específicas</td>\n",
              "      <td>Entidades Sem Fins Lucrativos</td>\n",
              "      <td>PE</td>\n",
              "      <td>RECIFE</td>\n",
              "      <td>Educação</td>\n",
              "      <td>EDUCACAO BASICA DE QUALIDADE</td>\n",
              "      <td>DINHEIRO DIRETO NA ESCOLA PARA A EDUCACAO BASICA</td>\n",
              "      <td>2.002.85</td>\n",
              "    </tr>\n",
              "    <tr>\n",
              "      <th>217</th>\n",
              "      <td>nov/20</td>\n",
              "      <td>Legais. Voluntárias e Específicas</td>\n",
              "      <td>Entidades Sem Fins Lucrativos</td>\n",
              "      <td>PE</td>\n",
              "      <td>RECIFE</td>\n",
              "      <td>Educação</td>\n",
              "      <td>EDUCACAO BASICA DE QUALIDADE</td>\n",
              "      <td>DINHEIRO DIRETO NA ESCOLA PARA A EDUCACAO BASICA</td>\n",
              "      <td>1.549.95</td>\n",
              "    </tr>\n",
              "    <tr>\n",
              "      <th>135</th>\n",
              "      <td>nov/20</td>\n",
              "      <td>Legais. Voluntárias e Específicas</td>\n",
              "      <td>Entidades Sem Fins Lucrativos</td>\n",
              "      <td>PE</td>\n",
              "      <td>RECIFE</td>\n",
              "      <td>Educação</td>\n",
              "      <td>EDUCACAO BASICA DE QUALIDADE</td>\n",
              "      <td>DINHEIRO DIRETO NA ESCOLA PARA A EDUCACAO BASICA</td>\n",
              "      <td>2.242.24</td>\n",
              "    </tr>\n",
              "    <tr>\n",
              "      <th>120</th>\n",
              "      <td>nov/20</td>\n",
              "      <td>Legais. Voluntárias e Específicas</td>\n",
              "      <td>Entidades Sem Fins Lucrativos</td>\n",
              "      <td>PE</td>\n",
              "      <td>RECIFE</td>\n",
              "      <td>Educação</td>\n",
              "      <td>EDUCACAO BASICA DE QUALIDADE</td>\n",
              "      <td>DINHEIRO DIRETO NA ESCOLA PARA A EDUCACAO BASICA</td>\n",
              "      <td>3.031.58</td>\n",
              "    </tr>\n",
              "  </tbody>\n",
              "</table>\n",
              "</div>"
            ],
            "text/plain": [
              "    Mês/Ano  ... Valor Transferido\n",
              "312  nov/20  ...          1.782.87\n",
              "248  nov/20  ...          2.002.85\n",
              "217  nov/20  ...          1.549.95\n",
              "135  nov/20  ...          2.242.24\n",
              "120  nov/20  ...          3.031.58\n",
              "\n",
              "[5 rows x 9 columns]"
            ]
          },
          "metadata": {
            "tags": []
          },
          "execution_count": 35
        }
      ]
    },
    {
      "cell_type": "markdown",
      "metadata": {
        "id": "PdTk7hYE-ydB"
      },
      "source": [
        "### Conversão de tipos das colunas \n",
        "\n",
        "  * Valor Transferido (rename -> gastos): ```string``` -> ```float```\n",
        "\n",
        "  * Mês/Ano (rename -> data_hora): ```string``` -> ```pandas.Datetime```\n",
        "\n",
        "  * Dados categóricos: ```object``` -> ```category```"
      ]
    },
    {
      "cell_type": "code",
      "metadata": {
        "id": "Y-wleeGQC4yJ",
        "colab": {
          "base_uri": "https://localhost:8080/"
        },
        "outputId": "f64deb76-4179-4445-e119-de7b9f9c3cc4"
      },
      "source": [
        "invest_covidPe.dtypes"
      ],
      "execution_count": 36,
      "outputs": [
        {
          "output_type": "execute_result",
          "data": {
            "text/plain": [
              "Mês/Ano                  object\n",
              "Tipo                     object\n",
              "Tipo de Favorecido       object\n",
              "UF                       object\n",
              "Município                object\n",
              "Função                   object\n",
              "Programa Orçamentário    object\n",
              "Ação Orçamentária        object\n",
              "Valor Transferido        object\n",
              "dtype: object"
            ]
          },
          "metadata": {
            "tags": []
          },
          "execution_count": 36
        }
      ]
    },
    {
      "cell_type": "markdown",
      "metadata": {
        "id": "Ui9n7pptx9N3"
      },
      "source": [
        "#### Valor Transferido\n",
        "```object``` -> ```float64```"
      ]
    },
    {
      "cell_type": "code",
      "metadata": {
        "id": "7_4O7M9L-kWC"
      },
      "source": [
        "# Tratamento e conversão do CSV-String para float\n",
        "invest_covidPe['valores_transferidos'] = invest_covidPe['Valor Transferido'].apply(lambda words: words.replace('R$ ', ''))\n",
        "valores_transferidos = invest_covidPe['valores_transferidos'].map(lambda words: float(words[:-3].replace('.','') + words[-3:]))\n",
        "valores_transferidos = valores_transferidos.astype('float64')\n",
        "#valores_transferidos = valores_transferidos.astype(float)"
      ],
      "execution_count": 37,
      "outputs": []
    },
    {
      "cell_type": "code",
      "metadata": {
        "colab": {
          "base_uri": "https://localhost:8080/",
          "height": 0
        },
        "id": "2cbS7PJEZBBm",
        "outputId": "532a0146-a18d-4b5a-8237-6fa8fdc3a14b"
      },
      "source": [
        "invest_covidPe.head(3)"
      ],
      "execution_count": 38,
      "outputs": [
        {
          "output_type": "execute_result",
          "data": {
            "text/html": [
              "<div>\n",
              "<style scoped>\n",
              "    .dataframe tbody tr th:only-of-type {\n",
              "        vertical-align: middle;\n",
              "    }\n",
              "\n",
              "    .dataframe tbody tr th {\n",
              "        vertical-align: top;\n",
              "    }\n",
              "\n",
              "    .dataframe thead th {\n",
              "        text-align: right;\n",
              "    }\n",
              "</style>\n",
              "<table border=\"1\" class=\"dataframe\">\n",
              "  <thead>\n",
              "    <tr style=\"text-align: right;\">\n",
              "      <th></th>\n",
              "      <th>Mês/Ano</th>\n",
              "      <th>Tipo</th>\n",
              "      <th>Tipo de Favorecido</th>\n",
              "      <th>UF</th>\n",
              "      <th>Município</th>\n",
              "      <th>Função</th>\n",
              "      <th>Programa Orçamentário</th>\n",
              "      <th>Ação Orçamentária</th>\n",
              "      <th>Valor Transferido</th>\n",
              "      <th>valores_transferidos</th>\n",
              "    </tr>\n",
              "  </thead>\n",
              "  <tbody>\n",
              "    <tr>\n",
              "      <th>0</th>\n",
              "      <td>mar/20</td>\n",
              "      <td>Legais. Voluntárias e Específicas</td>\n",
              "      <td>Fundo Público</td>\n",
              "      <td>PE</td>\n",
              "      <td>RECIFE</td>\n",
              "      <td>Saúde</td>\n",
              "      <td>ATENCAO ESPECIALIZADA A SAUDE</td>\n",
              "      <td>ENFRENTAMENTO DA EMERGENCIA DE SAUDE PUBLICA D...</td>\n",
              "      <td>60.000.00</td>\n",
              "      <td>60.000.00</td>\n",
              "    </tr>\n",
              "    <tr>\n",
              "      <th>1</th>\n",
              "      <td>abr/20</td>\n",
              "      <td>Legais. Voluntárias e Específicas</td>\n",
              "      <td>Fundo Público</td>\n",
              "      <td>PE</td>\n",
              "      <td>GARANHUNS</td>\n",
              "      <td>Saúde</td>\n",
              "      <td>ATENCAO ESPECIALIZADA A SAUDE</td>\n",
              "      <td>ENFRENTAMENTO DA EMERGENCIA DE SAUDE PUBLICA D...</td>\n",
              "      <td>1.174.944.27</td>\n",
              "      <td>1.174.944.27</td>\n",
              "    </tr>\n",
              "    <tr>\n",
              "      <th>2</th>\n",
              "      <td>abr/20</td>\n",
              "      <td>Legais. Voluntárias e Específicas</td>\n",
              "      <td>Fundo Público</td>\n",
              "      <td>PE</td>\n",
              "      <td>PETROLINA</td>\n",
              "      <td>Saúde</td>\n",
              "      <td>ATENCAO ESPECIALIZADA A SAUDE</td>\n",
              "      <td>ENFRENTAMENTO DA EMERGENCIA DE SAUDE PUBLICA D...</td>\n",
              "      <td>4.130.446.89</td>\n",
              "      <td>4.130.446.89</td>\n",
              "    </tr>\n",
              "  </tbody>\n",
              "</table>\n",
              "</div>"
            ],
            "text/plain": [
              "  Mês/Ano  ... valores_transferidos\n",
              "0  mar/20  ...            60.000.00\n",
              "1  abr/20  ...         1.174.944.27\n",
              "2  abr/20  ...         4.130.446.89\n",
              "\n",
              "[3 rows x 10 columns]"
            ]
          },
          "metadata": {
            "tags": []
          },
          "execution_count": 38
        }
      ]
    },
    {
      "cell_type": "code",
      "metadata": {
        "id": "YOjLjdx_XLEn"
      },
      "source": [
        "# Atualiza o dataset principal\n",
        "invest_covidPe['Valor Transferido'].update(valores_transferidos)\n",
        "invest_covidPe.drop('valores_transferidos',axis=1,inplace=True)\n",
        "invest_covidPe = invest_covidPe.infer_objects()"
      ],
      "execution_count": 39,
      "outputs": []
    },
    {
      "cell_type": "code",
      "metadata": {
        "colab": {
          "base_uri": "https://localhost:8080/"
        },
        "id": "ZL6Z6KE0vHgU",
        "outputId": "953eb7fc-27ad-4d19-8996-3e68ead12900"
      },
      "source": [
        "# Modifica nome das colunas com espaços e caracteres especiais\n",
        "invest_covidPe = invest_covidPe.rename(columns={\"Mês/Ano\": \"data_hora\",\\\n",
        "                                                \"Tipo de Favorecido\": \"favorecido\",\\\n",
        "                                                \"Município\": \"municipio\",\\\n",
        "                                                \"Função\": \"funcao\",\\\n",
        "                                                \"Programa Orçamentário\": \"prog_ocamentario\", \\\n",
        "                                                \"Ação Orçamentária\": \"acao_orcamentaria\", \\\n",
        "                                                \"Valor Transferido\": \"gastos\"})\n",
        "invest_covidPe.info(verbose=True)"
      ],
      "execution_count": 40,
      "outputs": [
        {
          "output_type": "stream",
          "text": [
            "<class 'pandas.core.frame.DataFrame'>\n",
            "RangeIndex: 701 entries, 0 to 700\n",
            "Data columns (total 9 columns):\n",
            " #   Column             Non-Null Count  Dtype  \n",
            "---  ------             --------------  -----  \n",
            " 0   data_hora          701 non-null    object \n",
            " 1   Tipo               701 non-null    object \n",
            " 2   favorecido         701 non-null    object \n",
            " 3   UF                 701 non-null    object \n",
            " 4   municipio          701 non-null    object \n",
            " 5   funcao             701 non-null    object \n",
            " 6   prog_ocamentario   701 non-null    object \n",
            " 7   acao_orcamentaria  701 non-null    object \n",
            " 8   gastos             701 non-null    float64\n",
            "dtypes: float64(1), object(8)\n",
            "memory usage: 49.4+ KB\n"
          ],
          "name": "stdout"
        }
      ]
    },
    {
      "cell_type": "markdown",
      "metadata": {
        "id": "cLxqlamkyNhY"
      },
      "source": [
        "#### Data (timestamp)\n",
        "```object``` -> ```pandas.Datetime```\n",
        "\n",
        "Obs.: Apenas necessário para o caso de análise de séries temporais."
      ]
    },
    {
      "cell_type": "code",
      "metadata": {
        "id": "hnqgP7jEwP6i",
        "colab": {
          "base_uri": "https://localhost:8080/"
        },
        "outputId": "ce4011d2-c557-45b1-c6d1-94f4bd7277f8"
      },
      "source": [
        "# Transformando os dados da coluna data_hora em pandas.Datetime\n",
        "invest_covidPe['data_hora'] = invest_covidPe['data_hora'].astype('string')\n",
        "invest_covidPe.info(verbose=True)"
      ],
      "execution_count": 41,
      "outputs": [
        {
          "output_type": "stream",
          "text": [
            "<class 'pandas.core.frame.DataFrame'>\n",
            "RangeIndex: 701 entries, 0 to 700\n",
            "Data columns (total 9 columns):\n",
            " #   Column             Non-Null Count  Dtype  \n",
            "---  ------             --------------  -----  \n",
            " 0   data_hora          701 non-null    string \n",
            " 1   Tipo               701 non-null    object \n",
            " 2   favorecido         701 non-null    object \n",
            " 3   UF                 701 non-null    object \n",
            " 4   municipio          701 non-null    object \n",
            " 5   funcao             701 non-null    object \n",
            " 6   prog_ocamentario   701 non-null    object \n",
            " 7   acao_orcamentaria  701 non-null    object \n",
            " 8   gastos             701 non-null    float64\n",
            "dtypes: float64(1), object(7), string(1)\n",
            "memory usage: 49.4+ KB\n"
          ],
          "name": "stdout"
        }
      ]
    },
    {
      "cell_type": "code",
      "metadata": {
        "colab": {
          "base_uri": "https://localhost:8080/"
        },
        "id": "UVY0ZbFuxnwy",
        "outputId": "f5132997-baeb-49b7-c7e5-55798a839af4"
      },
      "source": [
        "meses = {'mar/20' : '2020-03-10', \\\n",
        "         'abr/20' : '2020-04-10', \\\n",
        "         'mai/20' : '2020-05-10', \\\n",
        "         'jun/20' : '2020-06-10', \\\n",
        "         'jul/20' : '2020-07-10', \\\n",
        "         'ago/20' : '2020-08-10', \\\n",
        "         'set/20' : '2020-09-10', \\\n",
        "         'out/20' : '2020-10-10', \\\n",
        "         'nov/20' : '2020-11-10', \\\n",
        "         'dez/20' : '2020-12-10', \\\n",
        "         '03/2020' : '2020-03-10', \\\n",
        "         '04/2020' : '2020-04-10', \\\n",
        "         '05/2020' : '2020-05-10', \\\n",
        "         '06/2020' : '2020-06-10', \\\n",
        "         '07/2020' : '2020-07-10', \\\n",
        "         '08/2020' : '2020-08-10', \\\n",
        "         '09/2020' : '2020-09-10', \\\n",
        "         '10/2020' : '2020-10-10', \\\n",
        "         '11/2020' : '2020-11-10', \\\n",
        "         '12/2020' : '2020-12-10'\n",
        "         }\n",
        "\n",
        "invest_covidPe['data_hora'] = invest_covidPe['data_hora'].apply(lambda dates: dates.replace(dates, meses[dates]))\n",
        "\n",
        "invest_covidPe['data_hora'].unique()"
      ],
      "execution_count": 42,
      "outputs": [
        {
          "output_type": "execute_result",
          "data": {
            "text/plain": [
              "array(['2020-03-10', '2020-04-10', '2020-05-10', '2020-06-10',\n",
              "       '2020-07-10', '2020-08-10', '2020-09-10', '2020-10-10',\n",
              "       '2020-11-10', '2020-12-10'], dtype=object)"
            ]
          },
          "metadata": {
            "tags": []
          },
          "execution_count": 42
        }
      ]
    },
    {
      "cell_type": "code",
      "metadata": {
        "colab": {
          "base_uri": "https://localhost:8080/"
        },
        "id": "pdQIw-aU6OfY",
        "outputId": "8b711822-b52d-4369-84f3-4f9fa19fa670"
      },
      "source": [
        "# convert the 'Date' column to datetime format\n",
        "invest_covidPe['data_hora'] = pd.to_datetime(invest_covidPe['data_hora'])\n",
        "\n",
        "# Check the format of 'Date' column\n",
        "invest_covidPe.info()"
      ],
      "execution_count": 43,
      "outputs": [
        {
          "output_type": "stream",
          "text": [
            "<class 'pandas.core.frame.DataFrame'>\n",
            "RangeIndex: 701 entries, 0 to 700\n",
            "Data columns (total 9 columns):\n",
            " #   Column             Non-Null Count  Dtype         \n",
            "---  ------             --------------  -----         \n",
            " 0   data_hora          701 non-null    datetime64[ns]\n",
            " 1   Tipo               701 non-null    object        \n",
            " 2   favorecido         701 non-null    object        \n",
            " 3   UF                 701 non-null    object        \n",
            " 4   municipio          701 non-null    object        \n",
            " 5   funcao             701 non-null    object        \n",
            " 6   prog_ocamentario   701 non-null    object        \n",
            " 7   acao_orcamentaria  701 non-null    object        \n",
            " 8   gastos             701 non-null    float64       \n",
            "dtypes: datetime64[ns](1), float64(1), object(7)\n",
            "memory usage: 49.4+ KB\n"
          ],
          "name": "stdout"
        }
      ]
    },
    {
      "cell_type": "markdown",
      "metadata": {
        "id": "pflLxaOzXRQr"
      },
      "source": [
        "### Casos de Covid-19 por todo o estado de Pernambuco."
      ]
    },
    {
      "cell_type": "code",
      "metadata": {
        "id": "QxTROxJ_L3bR"
      },
      "source": [
        "#Alterando o nome e filtrando as colunas que decidimos analisar\n",
        "covidPeCases= covidPeCases.filter(items=['city', 'last_available_confirmed','last_available_deaths','last_available_death_rate','estimated_population'])\n",
        "\n",
        "covidPeCases= covidPeCases.rename(columns={\"city\": \"municipio\", \"last_available_confirmed\": \"casos_confirmados\", \n",
        "                   \"last_available_deaths\": \"mortes_confirmadas\", \"last_available_death_rate\": \"taxa_mortalidade\",\n",
        "                   \"estimated_population\": \"pop_estimada\"})"
      ],
      "execution_count": 44,
      "outputs": []
    },
    {
      "cell_type": "code",
      "metadata": {
        "id": "E2Y3omYllzL2",
        "outputId": "bffcb067-a581-4d09-af6d-bad46f9b6b6c",
        "colab": {
          "base_uri": "https://localhost:8080/",
          "height": 343
        }
      },
      "source": [
        "#Guardando uma cópia dos dados de todas as cidades\n",
        "oldCovidPeCases = covidPeCases\n",
        "\n",
        "#Filtrando as cidades que selecionamos os gastos no portal da transparência\n",
        "cities = ['Arcoverde', 'Buíque', 'Caruaru', 'Garanhuns', 'Jaboatão dos Guararapes', 'Olinda', 'Paulista', 'Petrolina', 'Recife', 'Serra Talhada']\n",
        "covidPeCases = covidPeCases[covidPeCases.municipio.isin(cities)]\n",
        "covidPeCases"
      ],
      "execution_count": 45,
      "outputs": [
        {
          "output_type": "execute_result",
          "data": {
            "text/html": [
              "<div>\n",
              "<style scoped>\n",
              "    .dataframe tbody tr th:only-of-type {\n",
              "        vertical-align: middle;\n",
              "    }\n",
              "\n",
              "    .dataframe tbody tr th {\n",
              "        vertical-align: top;\n",
              "    }\n",
              "\n",
              "    .dataframe thead th {\n",
              "        text-align: right;\n",
              "    }\n",
              "</style>\n",
              "<table border=\"1\" class=\"dataframe\">\n",
              "  <thead>\n",
              "    <tr style=\"text-align: right;\">\n",
              "      <th></th>\n",
              "      <th>municipio</th>\n",
              "      <th>casos_confirmados</th>\n",
              "      <th>mortes_confirmadas</th>\n",
              "      <th>taxa_mortalidade</th>\n",
              "      <th>pop_estimada</th>\n",
              "    </tr>\n",
              "  </thead>\n",
              "  <tbody>\n",
              "    <tr>\n",
              "      <th>14</th>\n",
              "      <td>Arcoverde</td>\n",
              "      <td>4281</td>\n",
              "      <td>87</td>\n",
              "      <td>0.0203</td>\n",
              "      <td>74822.0</td>\n",
              "    </tr>\n",
              "    <tr>\n",
              "      <th>30</th>\n",
              "      <td>Buíque</td>\n",
              "      <td>1436</td>\n",
              "      <td>23</td>\n",
              "      <td>0.0160</td>\n",
              "      <td>58919.0</td>\n",
              "    </tr>\n",
              "    <tr>\n",
              "      <th>45</th>\n",
              "      <td>Caruaru</td>\n",
              "      <td>17187</td>\n",
              "      <td>454</td>\n",
              "      <td>0.0264</td>\n",
              "      <td>365278.0</td>\n",
              "    </tr>\n",
              "    <tr>\n",
              "      <th>67</th>\n",
              "      <td>Garanhuns</td>\n",
              "      <td>7250</td>\n",
              "      <td>134</td>\n",
              "      <td>0.0185</td>\n",
              "      <td>140577.0</td>\n",
              "    </tr>\n",
              "    <tr>\n",
              "      <th>89</th>\n",
              "      <td>Jaboatão dos Guararapes</td>\n",
              "      <td>19966</td>\n",
              "      <td>1095</td>\n",
              "      <td>0.0548</td>\n",
              "      <td>706867.0</td>\n",
              "    </tr>\n",
              "    <tr>\n",
              "      <th>113</th>\n",
              "      <td>Olinda</td>\n",
              "      <td>14581</td>\n",
              "      <td>635</td>\n",
              "      <td>0.0435</td>\n",
              "      <td>393115.0</td>\n",
              "    </tr>\n",
              "    <tr>\n",
              "      <th>124</th>\n",
              "      <td>Paulista</td>\n",
              "      <td>7154</td>\n",
              "      <td>528</td>\n",
              "      <td>0.0738</td>\n",
              "      <td>334376.0</td>\n",
              "    </tr>\n",
              "    <tr>\n",
              "      <th>128</th>\n",
              "      <td>Petrolina</td>\n",
              "      <td>18239</td>\n",
              "      <td>209</td>\n",
              "      <td>0.0115</td>\n",
              "      <td>354317.0</td>\n",
              "    </tr>\n",
              "    <tr>\n",
              "      <th>134</th>\n",
              "      <td>Recife</td>\n",
              "      <td>78117</td>\n",
              "      <td>3168</td>\n",
              "      <td>0.0406</td>\n",
              "      <td>1653461.0</td>\n",
              "    </tr>\n",
              "    <tr>\n",
              "      <th>160</th>\n",
              "      <td>Serra Talhada</td>\n",
              "      <td>7341</td>\n",
              "      <td>105</td>\n",
              "      <td>0.0143</td>\n",
              "      <td>86915.0</td>\n",
              "    </tr>\n",
              "  </tbody>\n",
              "</table>\n",
              "</div>"
            ],
            "text/plain": [
              "                   municipio  casos_confirmados  ...  taxa_mortalidade  pop_estimada\n",
              "14                 Arcoverde               4281  ...            0.0203       74822.0\n",
              "30                    Buíque               1436  ...            0.0160       58919.0\n",
              "45                   Caruaru              17187  ...            0.0264      365278.0\n",
              "67                 Garanhuns               7250  ...            0.0185      140577.0\n",
              "89   Jaboatão dos Guararapes              19966  ...            0.0548      706867.0\n",
              "113                   Olinda              14581  ...            0.0435      393115.0\n",
              "124                 Paulista               7154  ...            0.0738      334376.0\n",
              "128                Petrolina              18239  ...            0.0115      354317.0\n",
              "134                   Recife              78117  ...            0.0406     1653461.0\n",
              "160            Serra Talhada               7341  ...            0.0143       86915.0\n",
              "\n",
              "[10 rows x 5 columns]"
            ]
          },
          "metadata": {
            "tags": []
          },
          "execution_count": 45
        }
      ]
    },
    {
      "cell_type": "code",
      "metadata": {
        "id": "Pl301ES_c7fv",
        "outputId": "70983274-9708-433f-dc03-e6f22b076281",
        "colab": {
          "base_uri": "https://localhost:8080/",
          "height": 449
        }
      },
      "source": [
        "#Criando um campo que nos permita relacionar a quantidade de casos confirmados pela população estimada\n",
        "covidPeCases['confirmados_por_populacao'] = covidPeCases['casos_confirmados']/covidPeCases['pop_estimada']\n",
        "covidPeCases"
      ],
      "execution_count": 48,
      "outputs": [
        {
          "output_type": "stream",
          "text": [
            "/usr/local/lib/python3.7/dist-packages/ipykernel_launcher.py:2: SettingWithCopyWarning: \n",
            "A value is trying to be set on a copy of a slice from a DataFrame.\n",
            "Try using .loc[row_indexer,col_indexer] = value instead\n",
            "\n",
            "See the caveats in the documentation: https://pandas.pydata.org/pandas-docs/stable/user_guide/indexing.html#returning-a-view-versus-a-copy\n",
            "  \n"
          ],
          "name": "stderr"
        },
        {
          "output_type": "execute_result",
          "data": {
            "text/html": [
              "<div>\n",
              "<style scoped>\n",
              "    .dataframe tbody tr th:only-of-type {\n",
              "        vertical-align: middle;\n",
              "    }\n",
              "\n",
              "    .dataframe tbody tr th {\n",
              "        vertical-align: top;\n",
              "    }\n",
              "\n",
              "    .dataframe thead th {\n",
              "        text-align: right;\n",
              "    }\n",
              "</style>\n",
              "<table border=\"1\" class=\"dataframe\">\n",
              "  <thead>\n",
              "    <tr style=\"text-align: right;\">\n",
              "      <th></th>\n",
              "      <th>municipio</th>\n",
              "      <th>casos_confirmados</th>\n",
              "      <th>mortes_confirmadas</th>\n",
              "      <th>taxa_mortalidade</th>\n",
              "      <th>pop_estimada</th>\n",
              "      <th>confirmados_por_populacao</th>\n",
              "    </tr>\n",
              "  </thead>\n",
              "  <tbody>\n",
              "    <tr>\n",
              "      <th>14</th>\n",
              "      <td>Arcoverde</td>\n",
              "      <td>4281</td>\n",
              "      <td>87</td>\n",
              "      <td>0.0203</td>\n",
              "      <td>74822.0</td>\n",
              "      <td>0.057216</td>\n",
              "    </tr>\n",
              "    <tr>\n",
              "      <th>30</th>\n",
              "      <td>Buíque</td>\n",
              "      <td>1436</td>\n",
              "      <td>23</td>\n",
              "      <td>0.0160</td>\n",
              "      <td>58919.0</td>\n",
              "      <td>0.024372</td>\n",
              "    </tr>\n",
              "    <tr>\n",
              "      <th>45</th>\n",
              "      <td>Caruaru</td>\n",
              "      <td>17187</td>\n",
              "      <td>454</td>\n",
              "      <td>0.0264</td>\n",
              "      <td>365278.0</td>\n",
              "      <td>0.047052</td>\n",
              "    </tr>\n",
              "    <tr>\n",
              "      <th>67</th>\n",
              "      <td>Garanhuns</td>\n",
              "      <td>7250</td>\n",
              "      <td>134</td>\n",
              "      <td>0.0185</td>\n",
              "      <td>140577.0</td>\n",
              "      <td>0.051573</td>\n",
              "    </tr>\n",
              "    <tr>\n",
              "      <th>89</th>\n",
              "      <td>Jaboatão dos Guararapes</td>\n",
              "      <td>19966</td>\n",
              "      <td>1095</td>\n",
              "      <td>0.0548</td>\n",
              "      <td>706867.0</td>\n",
              "      <td>0.028246</td>\n",
              "    </tr>\n",
              "    <tr>\n",
              "      <th>113</th>\n",
              "      <td>Olinda</td>\n",
              "      <td>14581</td>\n",
              "      <td>635</td>\n",
              "      <td>0.0435</td>\n",
              "      <td>393115.0</td>\n",
              "      <td>0.037091</td>\n",
              "    </tr>\n",
              "    <tr>\n",
              "      <th>124</th>\n",
              "      <td>Paulista</td>\n",
              "      <td>7154</td>\n",
              "      <td>528</td>\n",
              "      <td>0.0738</td>\n",
              "      <td>334376.0</td>\n",
              "      <td>0.021395</td>\n",
              "    </tr>\n",
              "    <tr>\n",
              "      <th>128</th>\n",
              "      <td>Petrolina</td>\n",
              "      <td>18239</td>\n",
              "      <td>209</td>\n",
              "      <td>0.0115</td>\n",
              "      <td>354317.0</td>\n",
              "      <td>0.051477</td>\n",
              "    </tr>\n",
              "    <tr>\n",
              "      <th>134</th>\n",
              "      <td>Recife</td>\n",
              "      <td>78117</td>\n",
              "      <td>3168</td>\n",
              "      <td>0.0406</td>\n",
              "      <td>1653461.0</td>\n",
              "      <td>0.047245</td>\n",
              "    </tr>\n",
              "    <tr>\n",
              "      <th>160</th>\n",
              "      <td>Serra Talhada</td>\n",
              "      <td>7341</td>\n",
              "      <td>105</td>\n",
              "      <td>0.0143</td>\n",
              "      <td>86915.0</td>\n",
              "      <td>0.084462</td>\n",
              "    </tr>\n",
              "  </tbody>\n",
              "</table>\n",
              "</div>"
            ],
            "text/plain": [
              "                   municipio  ...  confirmados_por_populacao\n",
              "14                 Arcoverde  ...                   0.057216\n",
              "30                    Buíque  ...                   0.024372\n",
              "45                   Caruaru  ...                   0.047052\n",
              "67                 Garanhuns  ...                   0.051573\n",
              "89   Jaboatão dos Guararapes  ...                   0.028246\n",
              "113                   Olinda  ...                   0.037091\n",
              "124                 Paulista  ...                   0.021395\n",
              "128                Petrolina  ...                   0.051477\n",
              "134                   Recife  ...                   0.047245\n",
              "160            Serra Talhada  ...                   0.084462\n",
              "\n",
              "[10 rows x 6 columns]"
            ]
          },
          "metadata": {
            "tags": []
          },
          "execution_count": 48
        }
      ]
    },
    {
      "cell_type": "code",
      "metadata": {
        "id": "s1neQx2dYORf",
        "colab": {
          "base_uri": "https://localhost:8080/"
        },
        "outputId": "e23dcd92-44b7-43e5-a644-63be8dc9334f"
      },
      "source": [
        "covidPeCases.dtypes"
      ],
      "execution_count": 49,
      "outputs": [
        {
          "output_type": "execute_result",
          "data": {
            "text/plain": [
              "municipio                     object\n",
              "casos_confirmados              int64\n",
              "mortes_confirmadas             int64\n",
              "taxa_mortalidade             float64\n",
              "pop_estimada                 float64\n",
              "confirmados_por_populacao    float64\n",
              "dtype: object"
            ]
          },
          "metadata": {
            "tags": []
          },
          "execution_count": 49
        }
      ]
    },
    {
      "cell_type": "markdown",
      "metadata": {
        "id": "f2ocdoIiqxTR"
      },
      "source": [
        "Ajustando tipo e transformando valores para porcentagem a fim de facilitar a percepção das taxas"
      ]
    },
    {
      "cell_type": "code",
      "metadata": {
        "id": "YXFgvhwmYXAx",
        "colab": {
          "base_uri": "https://localhost:8080/",
          "height": 660
        },
        "outputId": "cb2d663c-3f8f-43c8-f96c-104ac0a56de7"
      },
      "source": [
        "covidPeCases['pop_estimada'] = covidPeCases['pop_estimada'].apply(np.int64)\n",
        "covidPeCases['taxa_mortalidade'] = covidPeCases['taxa_mortalidade'] * 100\n",
        "covidPeCases['confirmados_por_populacao'] = (covidPeCases['confirmados_por_populacao'] * 100).round(2)\n",
        "covidPeCases"
      ],
      "execution_count": 50,
      "outputs": [
        {
          "output_type": "stream",
          "text": [
            "/usr/local/lib/python3.7/dist-packages/ipykernel_launcher.py:1: SettingWithCopyWarning: \n",
            "A value is trying to be set on a copy of a slice from a DataFrame.\n",
            "Try using .loc[row_indexer,col_indexer] = value instead\n",
            "\n",
            "See the caveats in the documentation: https://pandas.pydata.org/pandas-docs/stable/user_guide/indexing.html#returning-a-view-versus-a-copy\n",
            "  \"\"\"Entry point for launching an IPython kernel.\n",
            "/usr/local/lib/python3.7/dist-packages/ipykernel_launcher.py:2: SettingWithCopyWarning: \n",
            "A value is trying to be set on a copy of a slice from a DataFrame.\n",
            "Try using .loc[row_indexer,col_indexer] = value instead\n",
            "\n",
            "See the caveats in the documentation: https://pandas.pydata.org/pandas-docs/stable/user_guide/indexing.html#returning-a-view-versus-a-copy\n",
            "  \n",
            "/usr/local/lib/python3.7/dist-packages/ipykernel_launcher.py:3: SettingWithCopyWarning: \n",
            "A value is trying to be set on a copy of a slice from a DataFrame.\n",
            "Try using .loc[row_indexer,col_indexer] = value instead\n",
            "\n",
            "See the caveats in the documentation: https://pandas.pydata.org/pandas-docs/stable/user_guide/indexing.html#returning-a-view-versus-a-copy\n",
            "  This is separate from the ipykernel package so we can avoid doing imports until\n"
          ],
          "name": "stderr"
        },
        {
          "output_type": "execute_result",
          "data": {
            "text/html": [
              "<div>\n",
              "<style scoped>\n",
              "    .dataframe tbody tr th:only-of-type {\n",
              "        vertical-align: middle;\n",
              "    }\n",
              "\n",
              "    .dataframe tbody tr th {\n",
              "        vertical-align: top;\n",
              "    }\n",
              "\n",
              "    .dataframe thead th {\n",
              "        text-align: right;\n",
              "    }\n",
              "</style>\n",
              "<table border=\"1\" class=\"dataframe\">\n",
              "  <thead>\n",
              "    <tr style=\"text-align: right;\">\n",
              "      <th></th>\n",
              "      <th>municipio</th>\n",
              "      <th>casos_confirmados</th>\n",
              "      <th>mortes_confirmadas</th>\n",
              "      <th>taxa_mortalidade</th>\n",
              "      <th>pop_estimada</th>\n",
              "      <th>confirmados_por_populacao</th>\n",
              "    </tr>\n",
              "  </thead>\n",
              "  <tbody>\n",
              "    <tr>\n",
              "      <th>14</th>\n",
              "      <td>Arcoverde</td>\n",
              "      <td>4281</td>\n",
              "      <td>87</td>\n",
              "      <td>2.03</td>\n",
              "      <td>74822</td>\n",
              "      <td>5.72</td>\n",
              "    </tr>\n",
              "    <tr>\n",
              "      <th>30</th>\n",
              "      <td>Buíque</td>\n",
              "      <td>1436</td>\n",
              "      <td>23</td>\n",
              "      <td>1.60</td>\n",
              "      <td>58919</td>\n",
              "      <td>2.44</td>\n",
              "    </tr>\n",
              "    <tr>\n",
              "      <th>45</th>\n",
              "      <td>Caruaru</td>\n",
              "      <td>17187</td>\n",
              "      <td>454</td>\n",
              "      <td>2.64</td>\n",
              "      <td>365278</td>\n",
              "      <td>4.71</td>\n",
              "    </tr>\n",
              "    <tr>\n",
              "      <th>67</th>\n",
              "      <td>Garanhuns</td>\n",
              "      <td>7250</td>\n",
              "      <td>134</td>\n",
              "      <td>1.85</td>\n",
              "      <td>140577</td>\n",
              "      <td>5.16</td>\n",
              "    </tr>\n",
              "    <tr>\n",
              "      <th>89</th>\n",
              "      <td>Jaboatão dos Guararapes</td>\n",
              "      <td>19966</td>\n",
              "      <td>1095</td>\n",
              "      <td>5.48</td>\n",
              "      <td>706867</td>\n",
              "      <td>2.82</td>\n",
              "    </tr>\n",
              "    <tr>\n",
              "      <th>113</th>\n",
              "      <td>Olinda</td>\n",
              "      <td>14581</td>\n",
              "      <td>635</td>\n",
              "      <td>4.35</td>\n",
              "      <td>393115</td>\n",
              "      <td>3.71</td>\n",
              "    </tr>\n",
              "    <tr>\n",
              "      <th>124</th>\n",
              "      <td>Paulista</td>\n",
              "      <td>7154</td>\n",
              "      <td>528</td>\n",
              "      <td>7.38</td>\n",
              "      <td>334376</td>\n",
              "      <td>2.14</td>\n",
              "    </tr>\n",
              "    <tr>\n",
              "      <th>128</th>\n",
              "      <td>Petrolina</td>\n",
              "      <td>18239</td>\n",
              "      <td>209</td>\n",
              "      <td>1.15</td>\n",
              "      <td>354317</td>\n",
              "      <td>5.15</td>\n",
              "    </tr>\n",
              "    <tr>\n",
              "      <th>134</th>\n",
              "      <td>Recife</td>\n",
              "      <td>78117</td>\n",
              "      <td>3168</td>\n",
              "      <td>4.06</td>\n",
              "      <td>1653461</td>\n",
              "      <td>4.72</td>\n",
              "    </tr>\n",
              "    <tr>\n",
              "      <th>160</th>\n",
              "      <td>Serra Talhada</td>\n",
              "      <td>7341</td>\n",
              "      <td>105</td>\n",
              "      <td>1.43</td>\n",
              "      <td>86915</td>\n",
              "      <td>8.45</td>\n",
              "    </tr>\n",
              "  </tbody>\n",
              "</table>\n",
              "</div>"
            ],
            "text/plain": [
              "                   municipio  ...  confirmados_por_populacao\n",
              "14                 Arcoverde  ...                       5.72\n",
              "30                    Buíque  ...                       2.44\n",
              "45                   Caruaru  ...                       4.71\n",
              "67                 Garanhuns  ...                       5.16\n",
              "89   Jaboatão dos Guararapes  ...                       2.82\n",
              "113                   Olinda  ...                       3.71\n",
              "124                 Paulista  ...                       2.14\n",
              "128                Petrolina  ...                       5.15\n",
              "134                   Recife  ...                       4.72\n",
              "160            Serra Talhada  ...                       8.45\n",
              "\n",
              "[10 rows x 6 columns]"
            ]
          },
          "metadata": {
            "tags": []
          },
          "execution_count": 50
        }
      ]
    },
    {
      "cell_type": "code",
      "metadata": {
        "id": "xAXNBa4ZdIvv",
        "colab": {
          "base_uri": "https://localhost:8080/",
          "height": 284
        },
        "outputId": "4810aac1-8edb-4b15-93cd-0426a7680a1d"
      },
      "source": [
        "covidPeCases.boxplot(column=['confirmados_por_populacao'])"
      ],
      "execution_count": 51,
      "outputs": [
        {
          "output_type": "execute_result",
          "data": {
            "text/plain": [
              "<matplotlib.axes._subplots.AxesSubplot at 0x7f6473587190>"
            ]
          },
          "metadata": {
            "tags": []
          },
          "execution_count": 51
        },
        {
          "output_type": "display_data",
          "data": {
            "image/png": "[encoded data removed]",
            "text/plain": [
              "<Figure size 432x288 with 1 Axes>"
            ]
          },
          "metadata": {
            "tags": [],
            "needs_background": "light"
          }
        }
      ]
    },
    {
      "cell_type": "code",
      "metadata": {
        "colab": {
          "base_uri": "https://localhost:8080/",
          "height": 373
        },
        "id": "w8u8YOK_h9jS",
        "outputId": "5c767ff6-f866-49f0-c88f-431ea42443ae"
      },
      "source": [
        "investimentoporcidade = invest_covidPe.groupby(by=['municipio']).sum()\n",
        "investimentoporcidade"
      ],
      "execution_count": 52,
      "outputs": [
        {
          "output_type": "execute_result",
          "data": {
            "text/html": [
              "<div>\n",
              "<style scoped>\n",
              "    .dataframe tbody tr th:only-of-type {\n",
              "        vertical-align: middle;\n",
              "    }\n",
              "\n",
              "    .dataframe tbody tr th {\n",
              "        vertical-align: top;\n",
              "    }\n",
              "\n",
              "    .dataframe thead th {\n",
              "        text-align: right;\n",
              "    }\n",
              "</style>\n",
              "<table border=\"1\" class=\"dataframe\">\n",
              "  <thead>\n",
              "    <tr style=\"text-align: right;\">\n",
              "      <th></th>\n",
              "      <th>gastos</th>\n",
              "    </tr>\n",
              "    <tr>\n",
              "      <th>municipio</th>\n",
              "      <th></th>\n",
              "    </tr>\n",
              "  </thead>\n",
              "  <tbody>\n",
              "    <tr>\n",
              "      <th>ARCOVERDE</th>\n",
              "      <td>7.993327e+06</td>\n",
              "    </tr>\n",
              "    <tr>\n",
              "      <th>BUÍQUE</th>\n",
              "      <td>3.872970e+06</td>\n",
              "    </tr>\n",
              "    <tr>\n",
              "      <th>CARUARU</th>\n",
              "      <td>5.164707e+07</td>\n",
              "    </tr>\n",
              "    <tr>\n",
              "      <th>GARANHUNS</th>\n",
              "      <td>3.445661e+07</td>\n",
              "    </tr>\n",
              "    <tr>\n",
              "      <th>JABOATÃO DOS GUARARAPES</th>\n",
              "      <td>9.509845e+07</td>\n",
              "    </tr>\n",
              "    <tr>\n",
              "      <th>OLINDA</th>\n",
              "      <td>4.233129e+07</td>\n",
              "    </tr>\n",
              "    <tr>\n",
              "      <th>PAULISTA</th>\n",
              "      <td>1.294073e+07</td>\n",
              "    </tr>\n",
              "    <tr>\n",
              "      <th>PETROLINA</th>\n",
              "      <td>1.216093e+08</td>\n",
              "    </tr>\n",
              "    <tr>\n",
              "      <th>RECIFE</th>\n",
              "      <td>3.015280e+08</td>\n",
              "    </tr>\n",
              "    <tr>\n",
              "      <th>SERRA TALHADA</th>\n",
              "      <td>1.535898e+07</td>\n",
              "    </tr>\n",
              "  </tbody>\n",
              "</table>\n",
              "</div>"
            ],
            "text/plain": [
              "                               gastos\n",
              "municipio                            \n",
              "ARCOVERDE                7.993327e+06\n",
              "BUÍQUE                   3.872970e+06\n",
              "CARUARU                  5.164707e+07\n",
              "GARANHUNS                3.445661e+07\n",
              "JABOATÃO DOS GUARARAPES  9.509845e+07\n",
              "OLINDA                   4.233129e+07\n",
              "PAULISTA                 1.294073e+07\n",
              "PETROLINA                1.216093e+08\n",
              "RECIFE                   3.015280e+08\n",
              "SERRA TALHADA            1.535898e+07"
            ]
          },
          "metadata": {
            "tags": []
          },
          "execution_count": 52
        }
      ]
    },
    {
      "cell_type": "markdown",
      "metadata": {
        "id": "YRgZvUSdq7sf"
      },
      "source": [
        "### Adicionando gastos totais e gastos por habitante ao DataSet de casos"
      ]
    },
    {
      "cell_type": "code",
      "metadata": {
        "id": "qJ3SylOYqo3w",
        "colab": {
          "base_uri": "https://localhost:8080/",
          "height": 554
        },
        "outputId": "c8258863-9094-4b54-c20e-16c672fc121c"
      },
      "source": [
        "covidPeCases['gastos'] = investimentoporcidade['gastos'].values\n",
        "covidPeCases['gastos_por_habitante'] = (covidPeCases['gastos'] / covidPeCases['pop_estimada']) .round(2)\n",
        "covidPeCases"
      ],
      "execution_count": 53,
      "outputs": [
        {
          "output_type": "stream",
          "text": [
            "/usr/local/lib/python3.7/dist-packages/ipykernel_launcher.py:1: SettingWithCopyWarning: \n",
            "A value is trying to be set on a copy of a slice from a DataFrame.\n",
            "Try using .loc[row_indexer,col_indexer] = value instead\n",
            "\n",
            "See the caveats in the documentation: https://pandas.pydata.org/pandas-docs/stable/user_guide/indexing.html#returning-a-view-versus-a-copy\n",
            "  \"\"\"Entry point for launching an IPython kernel.\n",
            "/usr/local/lib/python3.7/dist-packages/ipykernel_launcher.py:2: SettingWithCopyWarning: \n",
            "A value is trying to be set on a copy of a slice from a DataFrame.\n",
            "Try using .loc[row_indexer,col_indexer] = value instead\n",
            "\n",
            "See the caveats in the documentation: https://pandas.pydata.org/pandas-docs/stable/user_guide/indexing.html#returning-a-view-versus-a-copy\n",
            "  \n"
          ],
          "name": "stderr"
        },
        {
          "output_type": "execute_result",
          "data": {
            "text/html": [
              "<div>\n",
              "<style scoped>\n",
              "    .dataframe tbody tr th:only-of-type {\n",
              "        vertical-align: middle;\n",
              "    }\n",
              "\n",
              "    .dataframe tbody tr th {\n",
              "        vertical-align: top;\n",
              "    }\n",
              "\n",
              "    .dataframe thead th {\n",
              "        text-align: right;\n",
              "    }\n",
              "</style>\n",
              "<table border=\"1\" class=\"dataframe\">\n",
              "  <thead>\n",
              "    <tr style=\"text-align: right;\">\n",
              "      <th></th>\n",
              "      <th>municipio</th>\n",
              "      <th>casos_confirmados</th>\n",
              "      <th>mortes_confirmadas</th>\n",
              "      <th>taxa_mortalidade</th>\n",
              "      <th>pop_estimada</th>\n",
              "      <th>confirmados_por_populacao</th>\n",
              "      <th>gastos</th>\n",
              "      <th>gastos_por_habitante</th>\n",
              "    </tr>\n",
              "  </thead>\n",
              "  <tbody>\n",
              "    <tr>\n",
              "      <th>14</th>\n",
              "      <td>Arcoverde</td>\n",
              "      <td>4281</td>\n",
              "      <td>87</td>\n",
              "      <td>2.03</td>\n",
              "      <td>74822</td>\n",
              "      <td>5.72</td>\n",
              "      <td>7.993327e+06</td>\n",
              "      <td>106.83</td>\n",
              "    </tr>\n",
              "    <tr>\n",
              "      <th>30</th>\n",
              "      <td>Buíque</td>\n",
              "      <td>1436</td>\n",
              "      <td>23</td>\n",
              "      <td>1.60</td>\n",
              "      <td>58919</td>\n",
              "      <td>2.44</td>\n",
              "      <td>3.872970e+06</td>\n",
              "      <td>65.73</td>\n",
              "    </tr>\n",
              "    <tr>\n",
              "      <th>45</th>\n",
              "      <td>Caruaru</td>\n",
              "      <td>17187</td>\n",
              "      <td>454</td>\n",
              "      <td>2.64</td>\n",
              "      <td>365278</td>\n",
              "      <td>4.71</td>\n",
              "      <td>5.164707e+07</td>\n",
              "      <td>141.39</td>\n",
              "    </tr>\n",
              "    <tr>\n",
              "      <th>67</th>\n",
              "      <td>Garanhuns</td>\n",
              "      <td>7250</td>\n",
              "      <td>134</td>\n",
              "      <td>1.85</td>\n",
              "      <td>140577</td>\n",
              "      <td>5.16</td>\n",
              "      <td>3.445661e+07</td>\n",
              "      <td>245.11</td>\n",
              "    </tr>\n",
              "    <tr>\n",
              "      <th>89</th>\n",
              "      <td>Jaboatão dos Guararapes</td>\n",
              "      <td>19966</td>\n",
              "      <td>1095</td>\n",
              "      <td>5.48</td>\n",
              "      <td>706867</td>\n",
              "      <td>2.82</td>\n",
              "      <td>9.509845e+07</td>\n",
              "      <td>134.54</td>\n",
              "    </tr>\n",
              "    <tr>\n",
              "      <th>113</th>\n",
              "      <td>Olinda</td>\n",
              "      <td>14581</td>\n",
              "      <td>635</td>\n",
              "      <td>4.35</td>\n",
              "      <td>393115</td>\n",
              "      <td>3.71</td>\n",
              "      <td>4.233129e+07</td>\n",
              "      <td>107.68</td>\n",
              "    </tr>\n",
              "    <tr>\n",
              "      <th>124</th>\n",
              "      <td>Paulista</td>\n",
              "      <td>7154</td>\n",
              "      <td>528</td>\n",
              "      <td>7.38</td>\n",
              "      <td>334376</td>\n",
              "      <td>2.14</td>\n",
              "      <td>1.294073e+07</td>\n",
              "      <td>38.70</td>\n",
              "    </tr>\n",
              "    <tr>\n",
              "      <th>128</th>\n",
              "      <td>Petrolina</td>\n",
              "      <td>18239</td>\n",
              "      <td>209</td>\n",
              "      <td>1.15</td>\n",
              "      <td>354317</td>\n",
              "      <td>5.15</td>\n",
              "      <td>1.216093e+08</td>\n",
              "      <td>343.22</td>\n",
              "    </tr>\n",
              "    <tr>\n",
              "      <th>134</th>\n",
              "      <td>Recife</td>\n",
              "      <td>78117</td>\n",
              "      <td>3168</td>\n",
              "      <td>4.06</td>\n",
              "      <td>1653461</td>\n",
              "      <td>4.72</td>\n",
              "      <td>3.015280e+08</td>\n",
              "      <td>182.36</td>\n",
              "    </tr>\n",
              "    <tr>\n",
              "      <th>160</th>\n",
              "      <td>Serra Talhada</td>\n",
              "      <td>7341</td>\n",
              "      <td>105</td>\n",
              "      <td>1.43</td>\n",
              "      <td>86915</td>\n",
              "      <td>8.45</td>\n",
              "      <td>1.535898e+07</td>\n",
              "      <td>176.71</td>\n",
              "    </tr>\n",
              "  </tbody>\n",
              "</table>\n",
              "</div>"
            ],
            "text/plain": [
              "                   municipio  ...  gastos_por_habitante\n",
              "14                 Arcoverde  ...                106.83\n",
              "30                    Buíque  ...                 65.73\n",
              "45                   Caruaru  ...                141.39\n",
              "67                 Garanhuns  ...                245.11\n",
              "89   Jaboatão dos Guararapes  ...                134.54\n",
              "113                   Olinda  ...                107.68\n",
              "124                 Paulista  ...                 38.70\n",
              "128                Petrolina  ...                343.22\n",
              "134                   Recife  ...                182.36\n",
              "160            Serra Talhada  ...                176.71\n",
              "\n",
              "[10 rows x 8 columns]"
            ]
          },
          "metadata": {
            "tags": []
          },
          "execution_count": 53
        }
      ]
    },
    {
      "cell_type": "markdown",
      "metadata": {
        "id": "1r-aHt80rEMn"
      },
      "source": [
        "##Discretização dos gastos por habitante - \n",
        "Nível de gastos : 1 - Muito baixo, 2 - Baixo 3 - Médio, 4 - Alto 5 - Muito alto"
      ]
    },
    {
      "cell_type": "code",
      "metadata": {
        "id": "Y-n6jVr8QST1",
        "colab": {
          "base_uri": "https://localhost:8080/",
          "height": 502
        },
        "outputId": "1b8bc771-7d76-4791-fdcc-177117b30e63"
      },
      "source": [
        "print('intervalos', pd.cut(covidPeCases['gastos_por_habitante'].values,5).categories)\n",
        "covidPeCases['nivel_de_gastos'] = pd.cut(covidPeCases['gastos_por_habitante'].values,5).codes + 1\n",
        "covidPeCases"
      ],
      "execution_count": 54,
      "outputs": [
        {
          "output_type": "stream",
          "text": [
            "intervalos IntervalIndex([(38.395, 99.604], (99.604, 160.508], (160.508, 221.412], (221.412, 282.316], (282.316, 343.22]],\n",
            "              closed='right',\n",
            "              dtype='interval[float64]')\n"
          ],
          "name": "stdout"
        },
        {
          "output_type": "stream",
          "text": [
            "/usr/local/lib/python3.7/dist-packages/ipykernel_launcher.py:2: SettingWithCopyWarning: \n",
            "A value is trying to be set on a copy of a slice from a DataFrame.\n",
            "Try using .loc[row_indexer,col_indexer] = value instead\n",
            "\n",
            "See the caveats in the documentation: https://pandas.pydata.org/pandas-docs/stable/user_guide/indexing.html#returning-a-view-versus-a-copy\n",
            "  \n"
          ],
          "name": "stderr"
        },
        {
          "output_type": "execute_result",
          "data": {
            "text/html": [
              "<div>\n",
              "<style scoped>\n",
              "    .dataframe tbody tr th:only-of-type {\n",
              "        vertical-align: middle;\n",
              "    }\n",
              "\n",
              "    .dataframe tbody tr th {\n",
              "        vertical-align: top;\n",
              "    }\n",
              "\n",
              "    .dataframe thead th {\n",
              "        text-align: right;\n",
              "    }\n",
              "</style>\n",
              "<table border=\"1\" class=\"dataframe\">\n",
              "  <thead>\n",
              "    <tr style=\"text-align: right;\">\n",
              "      <th></th>\n",
              "      <th>municipio</th>\n",
              "      <th>casos_confirmados</th>\n",
              "      <th>mortes_confirmadas</th>\n",
              "      <th>taxa_mortalidade</th>\n",
              "      <th>pop_estimada</th>\n",
              "      <th>confirmados_por_populacao</th>\n",
              "      <th>gastos</th>\n",
              "      <th>gastos_por_habitante</th>\n",
              "      <th>nivel_de_gastos</th>\n",
              "    </tr>\n",
              "  </thead>\n",
              "  <tbody>\n",
              "    <tr>\n",
              "      <th>14</th>\n",
              "      <td>Arcoverde</td>\n",
              "      <td>4281</td>\n",
              "      <td>87</td>\n",
              "      <td>2.03</td>\n",
              "      <td>74822</td>\n",
              "      <td>5.72</td>\n",
              "      <td>7.993327e+06</td>\n",
              "      <td>106.83</td>\n",
              "      <td>2</td>\n",
              "    </tr>\n",
              "    <tr>\n",
              "      <th>30</th>\n",
              "      <td>Buíque</td>\n",
              "      <td>1436</td>\n",
              "      <td>23</td>\n",
              "      <td>1.60</td>\n",
              "      <td>58919</td>\n",
              "      <td>2.44</td>\n",
              "      <td>3.872970e+06</td>\n",
              "      <td>65.73</td>\n",
              "      <td>1</td>\n",
              "    </tr>\n",
              "    <tr>\n",
              "      <th>45</th>\n",
              "      <td>Caruaru</td>\n",
              "      <td>17187</td>\n",
              "      <td>454</td>\n",
              "      <td>2.64</td>\n",
              "      <td>365278</td>\n",
              "      <td>4.71</td>\n",
              "      <td>5.164707e+07</td>\n",
              "      <td>141.39</td>\n",
              "      <td>2</td>\n",
              "    </tr>\n",
              "    <tr>\n",
              "      <th>67</th>\n",
              "      <td>Garanhuns</td>\n",
              "      <td>7250</td>\n",
              "      <td>134</td>\n",
              "      <td>1.85</td>\n",
              "      <td>140577</td>\n",
              "      <td>5.16</td>\n",
              "      <td>3.445661e+07</td>\n",
              "      <td>245.11</td>\n",
              "      <td>4</td>\n",
              "    </tr>\n",
              "    <tr>\n",
              "      <th>89</th>\n",
              "      <td>Jaboatão dos Guararapes</td>\n",
              "      <td>19966</td>\n",
              "      <td>1095</td>\n",
              "      <td>5.48</td>\n",
              "      <td>706867</td>\n",
              "      <td>2.82</td>\n",
              "      <td>9.509845e+07</td>\n",
              "      <td>134.54</td>\n",
              "      <td>2</td>\n",
              "    </tr>\n",
              "    <tr>\n",
              "      <th>113</th>\n",
              "      <td>Olinda</td>\n",
              "      <td>14581</td>\n",
              "      <td>635</td>\n",
              "      <td>4.35</td>\n",
              "      <td>393115</td>\n",
              "      <td>3.71</td>\n",
              "      <td>4.233129e+07</td>\n",
              "      <td>107.68</td>\n",
              "      <td>2</td>\n",
              "    </tr>\n",
              "    <tr>\n",
              "      <th>124</th>\n",
              "      <td>Paulista</td>\n",
              "      <td>7154</td>\n",
              "      <td>528</td>\n",
              "      <td>7.38</td>\n",
              "      <td>334376</td>\n",
              "      <td>2.14</td>\n",
              "      <td>1.294073e+07</td>\n",
              "      <td>38.70</td>\n",
              "      <td>1</td>\n",
              "    </tr>\n",
              "    <tr>\n",
              "      <th>128</th>\n",
              "      <td>Petrolina</td>\n",
              "      <td>18239</td>\n",
              "      <td>209</td>\n",
              "      <td>1.15</td>\n",
              "      <td>354317</td>\n",
              "      <td>5.15</td>\n",
              "      <td>1.216093e+08</td>\n",
              "      <td>343.22</td>\n",
              "      <td>5</td>\n",
              "    </tr>\n",
              "    <tr>\n",
              "      <th>134</th>\n",
              "      <td>Recife</td>\n",
              "      <td>78117</td>\n",
              "      <td>3168</td>\n",
              "      <td>4.06</td>\n",
              "      <td>1653461</td>\n",
              "      <td>4.72</td>\n",
              "      <td>3.015280e+08</td>\n",
              "      <td>182.36</td>\n",
              "      <td>3</td>\n",
              "    </tr>\n",
              "    <tr>\n",
              "      <th>160</th>\n",
              "      <td>Serra Talhada</td>\n",
              "      <td>7341</td>\n",
              "      <td>105</td>\n",
              "      <td>1.43</td>\n",
              "      <td>86915</td>\n",
              "      <td>8.45</td>\n",
              "      <td>1.535898e+07</td>\n",
              "      <td>176.71</td>\n",
              "      <td>3</td>\n",
              "    </tr>\n",
              "  </tbody>\n",
              "</table>\n",
              "</div>"
            ],
            "text/plain": [
              "                   municipio  ...  nivel_de_gastos\n",
              "14                 Arcoverde  ...                2\n",
              "30                    Buíque  ...                1\n",
              "45                   Caruaru  ...                2\n",
              "67                 Garanhuns  ...                4\n",
              "89   Jaboatão dos Guararapes  ...                2\n",
              "113                   Olinda  ...                2\n",
              "124                 Paulista  ...                1\n",
              "128                Petrolina  ...                5\n",
              "134                   Recife  ...                3\n",
              "160            Serra Talhada  ...                3\n",
              "\n",
              "[10 rows x 9 columns]"
            ]
          },
          "metadata": {
            "tags": []
          },
          "execution_count": 54
        }
      ]
    },
    {
      "cell_type": "code",
      "metadata": {
        "id": "Y2ScG0LWei-G",
        "colab": {
          "base_uri": "https://localhost:8080/",
          "height": 284
        },
        "outputId": "c6c5b0a0-a824-4874-8ce5-a3e540572464"
      },
      "source": [
        "covidPeCases.corr(method='spearman')"
      ],
      "execution_count": 55,
      "outputs": [
        {
          "output_type": "execute_result",
          "data": {
            "text/html": [
              "<div>\n",
              "<style scoped>\n",
              "    .dataframe tbody tr th:only-of-type {\n",
              "        vertical-align: middle;\n",
              "    }\n",
              "\n",
              "    .dataframe tbody tr th {\n",
              "        vertical-align: top;\n",
              "    }\n",
              "\n",
              "    .dataframe thead th {\n",
              "        text-align: right;\n",
              "    }\n",
              "</style>\n",
              "<table border=\"1\" class=\"dataframe\">\n",
              "  <thead>\n",
              "    <tr style=\"text-align: right;\">\n",
              "      <th></th>\n",
              "      <th>casos_confirmados</th>\n",
              "      <th>mortes_confirmadas</th>\n",
              "      <th>taxa_mortalidade</th>\n",
              "      <th>pop_estimada</th>\n",
              "      <th>confirmados_por_populacao</th>\n",
              "      <th>gastos</th>\n",
              "      <th>gastos_por_habitante</th>\n",
              "      <th>nivel_de_gastos</th>\n",
              "    </tr>\n",
              "  </thead>\n",
              "  <tbody>\n",
              "    <tr>\n",
              "      <th>casos_confirmados</th>\n",
              "      <td>1.000000</td>\n",
              "      <td>0.793939</td>\n",
              "      <td>0.187879</td>\n",
              "      <td>0.903030</td>\n",
              "      <td>0.054545</td>\n",
              "      <td>0.975758</td>\n",
              "      <td>0.612121</td>\n",
              "      <td>0.503503</td>\n",
              "    </tr>\n",
              "    <tr>\n",
              "      <th>mortes_confirmadas</th>\n",
              "      <td>0.793939</td>\n",
              "      <td>1.000000</td>\n",
              "      <td>0.709091</td>\n",
              "      <td>0.963636</td>\n",
              "      <td>-0.357576</td>\n",
              "      <td>0.757576</td>\n",
              "      <td>0.151515</td>\n",
              "      <td>0.069232</td>\n",
              "    </tr>\n",
              "    <tr>\n",
              "      <th>taxa_mortalidade</th>\n",
              "      <td>0.187879</td>\n",
              "      <td>0.709091</td>\n",
              "      <td>1.000000</td>\n",
              "      <td>0.551515</td>\n",
              "      <td>-0.624242</td>\n",
              "      <td>0.115152</td>\n",
              "      <td>-0.515152</td>\n",
              "      <td>-0.547560</td>\n",
              "    </tr>\n",
              "    <tr>\n",
              "      <th>pop_estimada</th>\n",
              "      <td>0.903030</td>\n",
              "      <td>0.963636</td>\n",
              "      <td>0.551515</td>\n",
              "      <td>1.000000</td>\n",
              "      <td>-0.236364</td>\n",
              "      <td>0.878788</td>\n",
              "      <td>0.321212</td>\n",
              "      <td>0.213989</td>\n",
              "    </tr>\n",
              "    <tr>\n",
              "      <th>confirmados_por_populacao</th>\n",
              "      <td>0.054545</td>\n",
              "      <td>-0.357576</td>\n",
              "      <td>-0.624242</td>\n",
              "      <td>-0.236364</td>\n",
              "      <td>1.000000</td>\n",
              "      <td>0.078788</td>\n",
              "      <td>0.612121</td>\n",
              "      <td>0.736374</td>\n",
              "    </tr>\n",
              "    <tr>\n",
              "      <th>gastos</th>\n",
              "      <td>0.975758</td>\n",
              "      <td>0.757576</td>\n",
              "      <td>0.115152</td>\n",
              "      <td>0.878788</td>\n",
              "      <td>0.078788</td>\n",
              "      <td>1.000000</td>\n",
              "      <td>0.696970</td>\n",
              "      <td>0.591616</td>\n",
              "    </tr>\n",
              "    <tr>\n",
              "      <th>gastos_por_habitante</th>\n",
              "      <td>0.612121</td>\n",
              "      <td>0.151515</td>\n",
              "      <td>-0.515152</td>\n",
              "      <td>0.321212</td>\n",
              "      <td>0.612121</td>\n",
              "      <td>0.696970</td>\n",
              "      <td>1.000000</td>\n",
              "      <td>0.962950</td>\n",
              "    </tr>\n",
              "    <tr>\n",
              "      <th>nivel_de_gastos</th>\n",
              "      <td>0.503503</td>\n",
              "      <td>0.069232</td>\n",
              "      <td>-0.547560</td>\n",
              "      <td>0.213989</td>\n",
              "      <td>0.736374</td>\n",
              "      <td>0.591616</td>\n",
              "      <td>0.962950</td>\n",
              "      <td>1.000000</td>\n",
              "    </tr>\n",
              "  </tbody>\n",
              "</table>\n",
              "</div>"
            ],
            "text/plain": [
              "                           casos_confirmados  ...  nivel_de_gastos\n",
              "casos_confirmados                   1.000000  ...         0.503503\n",
              "mortes_confirmadas                  0.793939  ...         0.069232\n",
              "taxa_mortalidade                    0.187879  ...        -0.547560\n",
              "pop_estimada                        0.903030  ...         0.213989\n",
              "confirmados_por_populacao           0.054545  ...         0.736374\n",
              "gastos                              0.975758  ...         0.591616\n",
              "gastos_por_habitante                0.612121  ...         0.962950\n",
              "nivel_de_gastos                     0.503503  ...         1.000000\n",
              "\n",
              "[8 rows x 8 columns]"
            ]
          },
          "metadata": {
            "tags": []
          },
          "execution_count": 55
        }
      ]
    },
    {
      "cell_type": "markdown",
      "metadata": {
        "id": "jLDhV-F6-1nV"
      },
      "source": [
        "### Dados categóricos"
      ]
    },
    {
      "cell_type": "code",
      "metadata": {
        "colab": {
          "base_uri": "https://localhost:8080/"
        },
        "id": "_XFyq-WR-0HA",
        "outputId": "30f06d58-38bf-4ba0-cd15-2e985181b0e8"
      },
      "source": [
        "invest_covidPe['data_hora'] = invest_covidPe['data_hora'].astype('category')\n",
        "invest_covidPe['Tipo'] = invest_covidPe['Tipo'].astype('category')\n",
        "invest_covidPe['favorecido'] = invest_covidPe['favorecido'].astype('category')\n",
        "invest_covidPe['UF'] = invest_covidPe['UF'].astype('category')\n",
        "invest_covidPe['municipio'] = invest_covidPe['municipio'].astype('category')\n",
        "invest_covidPe['funcao'] = invest_covidPe['funcao'].astype('category')\n",
        "invest_covidPe['prog_ocamentario'] = invest_covidPe['prog_ocamentario'].astype('category')\n",
        "invest_covidPe['acao_orcamentaria'] = invest_covidPe['acao_orcamentaria'].astype('category')\n",
        "invest_covidPe.info(verbose=True)"
      ],
      "execution_count": 56,
      "outputs": [
        {
          "output_type": "stream",
          "text": [
            "<class 'pandas.core.frame.DataFrame'>\n",
            "RangeIndex: 701 entries, 0 to 700\n",
            "Data columns (total 9 columns):\n",
            " #   Column             Non-Null Count  Dtype   \n",
            "---  ------             --------------  -----   \n",
            " 0   data_hora          701 non-null    category\n",
            " 1   Tipo               701 non-null    category\n",
            " 2   favorecido         701 non-null    category\n",
            " 3   UF                 701 non-null    category\n",
            " 4   municipio          701 non-null    category\n",
            " 5   funcao             701 non-null    category\n",
            " 6   prog_ocamentario   701 non-null    category\n",
            " 7   acao_orcamentaria  701 non-null    category\n",
            " 8   gastos             701 non-null    float64 \n",
            "dtypes: category(8), float64(1)\n",
            "memory usage: 12.9 KB\n"
          ],
          "name": "stdout"
        }
      ]
    },
    {
      "cell_type": "markdown",
      "metadata": {
        "id": "IDTgOPKxAaCv"
      },
      "source": [
        "### Remoção de outliers\n",
        "  * Isolation Forest\n",
        "  * Local Outlier Factor"
      ]
    },
    {
      "cell_type": "code",
      "metadata": {
        "id": "L7aa-Y4WAiKn"
      },
      "source": [
        "invest_covidPe['data_hora'] = invest_covidPe['data_hora'].cat.codes\n",
        "invest_covidPe['Tipo'] = invest_covidPe['Tipo'].cat.codes\n",
        "invest_covidPe['favorecido'] = invest_covidPe['favorecido'].cat.codes\n",
        "invest_covidPe['UF'] = invest_covidPe['UF'].cat.codes\n",
        "invest_covidPe['municipio'] = invest_covidPe['municipio'].cat.codes\n",
        "invest_covidPe['funcao'] = invest_covidPe['funcao'].cat.codes\n",
        "invest_covidPe['prog_ocamentario'] = invest_covidPe['prog_ocamentario'].cat.codes\n",
        "invest_covidPe['acao_orcamentaria'] = invest_covidPe['acao_orcamentaria'].cat.codes"
      ],
      "execution_count": null,
      "outputs": []
    },
    {
      "cell_type": "markdown",
      "metadata": {
        "id": "Om3XeVKoBPyP"
      },
      "source": [
        "Para avaliação do melhor resultado para remoção de outliers, serão utilizados \n",
        "cópias dos dataframes gerados"
      ]
    },
    {
      "cell_type": "code",
      "metadata": {
        "id": "g6lNQf1rBHWP"
      },
      "source": [
        "invest_covidPe_forest = invest_covidPe\n",
        "invest_covidPe_lof = invest_covidPe"
      ],
      "execution_count": null,
      "outputs": []
    },
    {
      "cell_type": "code",
      "metadata": {
        "colab": {
          "base_uri": "https://localhost:8080/"
        },
        "id": "cxh5XJkcFxoO",
        "outputId": "ed753a2c-a1f8-4e08-fc54-5fe104157e21"
      },
      "source": [
        "print(\"Quantidade de linhas: \" + str(len(invest_covidPe)))"
      ],
      "execution_count": null,
      "outputs": [
        {
          "output_type": "stream",
          "text": [
            "Quantidade de linhas: 701\n"
          ],
          "name": "stdout"
        }
      ]
    },
    {
      "cell_type": "markdown",
      "metadata": {
        "id": "ZIoO_H3GA8t9"
      },
      "source": [
        "#### Isolation Forest"
      ]
    },
    {
      "cell_type": "code",
      "metadata": {
        "colab": {
          "base_uri": "https://localhost:8080/"
        },
        "id": "YhH6oA6hA37u",
        "outputId": "c97714cb-4d68-469f-85cd-d606ee405b20"
      },
      "source": [
        "from sklearn.ensemble import IsolationForest\n",
        "rng = np.random.RandomState(42)\n",
        "clf = IsolationForest(max_samples=100, random_state=rng)\n",
        "clf.fit(invest_covidPe_forest)"
      ],
      "execution_count": null,
      "outputs": [
        {
          "output_type": "execute_result",
          "data": {
            "text/plain": [
              "IsolationForest(behaviour='deprecated', bootstrap=False, contamination='auto',\n",
              "                max_features=1.0, max_samples=100, n_estimators=100,\n",
              "                n_jobs=None,\n",
              "                random_state=RandomState(MT19937) at 0x7F9A7EB44160, verbose=0,\n",
              "                warm_start=False)"
            ]
          },
          "metadata": {
            "tags": []
          },
          "execution_count": 209
        }
      ]
    },
    {
      "cell_type": "code",
      "metadata": {
        "id": "nWxKhkMZwqRa"
      },
      "source": [
        "scores = clf.predict(invest_covidPe_forest)"
      ],
      "execution_count": null,
      "outputs": []
    },
    {
      "cell_type": "code",
      "metadata": {
        "id": "Bb3vj_77xQJo",
        "colab": {
          "base_uri": "https://localhost:8080/"
        },
        "outputId": "cb350af4-b634-420f-9217-97a68db2d09f"
      },
      "source": [
        "scores"
      ],
      "execution_count": null,
      "outputs": [
        {
          "output_type": "execute_result",
          "data": {
            "text/plain": [
              "array([-1, -1, -1, -1, -1, -1, -1, -1, -1, -1, -1, -1, -1, -1, -1, -1, -1,\n",
              "       -1, -1, -1, -1, -1, -1, -1, -1, -1, -1, -1, -1, -1, -1, -1, -1, -1,\n",
              "       -1, -1, -1, -1, -1, -1, -1, -1, -1, -1, -1, -1, -1, -1, -1, -1, -1,\n",
              "       -1, -1, -1, -1, -1, -1, -1, -1, -1, -1,  1,  1,  1,  1,  1,  1,  1,\n",
              "        1,  1,  1,  1,  1,  1,  1,  1,  1,  1, -1,  1,  1,  1,  1,  1,  1,\n",
              "        1,  1,  1,  1,  1,  1,  1,  1,  1,  1,  1,  1,  1,  1,  1,  1,  1,\n",
              "        1,  1,  1,  1,  1,  1,  1,  1,  1,  1,  1,  1,  1,  1,  1,  1,  1,\n",
              "        1,  1,  1,  1, -1,  1,  1,  1,  1,  1,  1,  1,  1,  1,  1,  1,  1,\n",
              "        1,  1,  1,  1,  1,  1,  1,  1,  1,  1,  1,  1,  1,  1,  1,  1,  1,\n",
              "        1,  1,  1,  1, -1,  1,  1,  1,  1,  1,  1,  1,  1,  1,  1,  1,  1,\n",
              "        1,  1,  1,  1,  1,  1,  1,  1,  1,  1,  1,  1, -1,  1,  1,  1,  1,\n",
              "        1,  1,  1,  1,  1,  1,  1,  1,  1,  1,  1,  1,  1,  1,  1,  1,  1,\n",
              "        1,  1,  1,  1,  1,  1,  1,  1,  1,  1,  1,  1,  1,  1, -1,  1, -1,\n",
              "        1,  1,  1,  1,  1,  1, -1,  1,  1,  1,  1,  1,  1,  1,  1,  1,  1,\n",
              "        1,  1,  1,  1,  1,  1,  1,  1,  1,  1,  1,  1,  1,  1,  1,  1,  1,\n",
              "        1,  1,  1,  1,  1,  1,  1,  1,  1,  1,  1,  1,  1,  1,  1,  1,  1,\n",
              "        1,  1,  1,  1,  1,  1,  1, -1,  1,  1,  1,  1,  1,  1,  1,  1, -1,\n",
              "        1,  1,  1,  1,  1,  1,  1, -1,  1,  1,  1,  1,  1,  1,  1,  1,  1,\n",
              "        1,  1,  1,  1,  1,  1,  1,  1,  1,  1,  1,  1,  1,  1,  1,  1,  1,\n",
              "        1,  1,  1,  1,  1,  1,  1,  1,  1,  1,  1,  1,  1,  1,  1,  1, -1,\n",
              "        1,  1,  1,  1,  1,  1,  1,  1,  1, -1,  1,  1,  1,  1,  1,  1,  1,\n",
              "        1,  1,  1,  1,  1,  1,  1,  1,  1,  1,  1,  1,  1,  1,  1,  1,  1,\n",
              "        1,  1,  1,  1,  1,  1,  1,  1, -1,  1, -1,  1,  1,  1,  1,  1,  1,\n",
              "        1,  1,  1,  1,  1,  1, -1,  1,  1,  1,  1,  1,  1,  1,  1,  1,  1,\n",
              "        1,  1,  1,  1,  1,  1,  1,  1,  1,  1,  1,  1,  1,  1,  1,  1,  1,\n",
              "       -1,  1,  1,  1,  1, -1,  1,  1,  1,  1,  1,  1,  1, -1,  1,  1,  1,\n",
              "        1,  1,  1,  1,  1,  1,  1,  1,  1,  1,  1,  1,  1,  1,  1,  1,  1,\n",
              "        1,  1,  1,  1,  1,  1,  1,  1,  1,  1,  1,  1,  1,  1,  1,  1,  1,\n",
              "        1,  1,  1, -1,  1,  1,  1,  1, -1, -1,  1,  1,  1,  1,  1,  1,  1,\n",
              "        1,  1,  1,  1,  1,  1,  1,  1,  1,  1,  1,  1,  1,  1,  1,  1,  1,\n",
              "        1,  1,  1,  1,  1,  1,  1,  1,  1,  1,  1,  1,  1,  1,  1,  1,  1,\n",
              "        1,  1,  1,  1,  1,  1, -1,  1,  1,  1,  1,  1,  1,  1, -1,  1,  1,\n",
              "        1,  1,  1,  1,  1,  1,  1,  1,  1,  1,  1,  1,  1, -1,  1,  1, -1,\n",
              "       -1, -1, -1, -1, -1, -1, -1, -1, -1, -1, -1, -1, -1, -1, -1, -1, -1,\n",
              "       -1, -1, -1, -1, -1, -1, -1, -1, -1, -1, -1, -1, -1, -1, -1, -1, -1,\n",
              "       -1, -1, -1, -1, -1, -1, -1, -1, -1, -1, -1, -1, -1, -1, -1, -1, -1,\n",
              "       -1, -1, -1, -1, -1, -1, -1, -1, -1, -1, -1, -1, -1, -1, -1, -1, -1,\n",
              "       -1, -1, -1, -1, -1, -1, -1, -1, -1, -1, -1, -1, -1, -1, -1, -1, -1,\n",
              "       -1, -1, -1, -1, -1, -1, -1, -1, -1, -1, -1, -1, -1, -1, -1, -1, -1,\n",
              "       -1, -1, -1, -1, -1, -1, -1, -1, -1, -1, -1, -1, -1, -1, -1, -1, -1,\n",
              "       -1, -1, -1, -1, -1, -1, -1, -1, -1, -1, -1, -1, -1, -1, -1, -1, -1,\n",
              "       -1, -1, -1, -1])"
            ]
          },
          "metadata": {
            "tags": []
          },
          "execution_count": 211
        }
      ]
    },
    {
      "cell_type": "code",
      "metadata": {
        "id": "aLIgNPQUzxyS",
        "colab": {
          "base_uri": "https://localhost:8080/"
        },
        "outputId": "5e0ba4ea-9e3d-4316-f713-8cf640e26e95"
      },
      "source": [
        "invest_covidPe_forest['outlier'] = scores\n",
        "print(invest_covidPe_forest.head())"
      ],
      "execution_count": null,
      "outputs": [
        {
          "output_type": "stream",
          "text": [
            "   data_hora  Tipo  favorecido  ...  acao_orcamentaria      gastos  outlier\n",
            "0          0     0           2  ...                  3    60000.00       -1\n",
            "1          1     0           2  ...                  3  1174944.27       -1\n",
            "2          1     0           2  ...                  3  4130446.89       -1\n",
            "3          1     0           2  ...                  3  3830136.03       -1\n",
            "4          1     0           2  ...                  3  3662675.00       -1\n",
            "\n",
            "[5 rows x 10 columns]\n"
          ],
          "name": "stdout"
        }
      ]
    },
    {
      "cell_type": "code",
      "metadata": {
        "id": "JtGSh_NR0Am8",
        "colab": {
          "base_uri": "https://localhost:8080/",
          "height": 402
        },
        "outputId": "f653869d-53d8-4c2e-ef3d-f3d5e0f27207"
      },
      "source": [
        "invest_covidPe_forest[invest_covidPe_forest['outlier'] == -1]"
      ],
      "execution_count": null,
      "outputs": [
        {
          "output_type": "execute_result",
          "data": {
            "text/html": [
              "<div>\n",
              "<style scoped>\n",
              "    .dataframe tbody tr th:only-of-type {\n",
              "        vertical-align: middle;\n",
              "    }\n",
              "\n",
              "    .dataframe tbody tr th {\n",
              "        vertical-align: top;\n",
              "    }\n",
              "\n",
              "    .dataframe thead th {\n",
              "        text-align: right;\n",
              "    }\n",
              "</style>\n",
              "<table border=\"1\" class=\"dataframe\">\n",
              "  <thead>\n",
              "    <tr style=\"text-align: right;\">\n",
              "      <th></th>\n",
              "      <th>data_hora</th>\n",
              "      <th>Tipo</th>\n",
              "      <th>favorecido</th>\n",
              "      <th>UF</th>\n",
              "      <th>municipio</th>\n",
              "      <th>funcao</th>\n",
              "      <th>prog_ocamentario</th>\n",
              "      <th>acao_orcamentaria</th>\n",
              "      <th>gastos</th>\n",
              "      <th>outlier</th>\n",
              "    </tr>\n",
              "  </thead>\n",
              "  <tbody>\n",
              "    <tr>\n",
              "      <th>0</th>\n",
              "      <td>0</td>\n",
              "      <td>0</td>\n",
              "      <td>2</td>\n",
              "      <td>0</td>\n",
              "      <td>8</td>\n",
              "      <td>7</td>\n",
              "      <td>0</td>\n",
              "      <td>3</td>\n",
              "      <td>60000.00</td>\n",
              "      <td>-1</td>\n",
              "    </tr>\n",
              "    <tr>\n",
              "      <th>1</th>\n",
              "      <td>1</td>\n",
              "      <td>0</td>\n",
              "      <td>2</td>\n",
              "      <td>0</td>\n",
              "      <td>3</td>\n",
              "      <td>7</td>\n",
              "      <td>0</td>\n",
              "      <td>3</td>\n",
              "      <td>1174944.27</td>\n",
              "      <td>-1</td>\n",
              "    </tr>\n",
              "    <tr>\n",
              "      <th>2</th>\n",
              "      <td>1</td>\n",
              "      <td>0</td>\n",
              "      <td>2</td>\n",
              "      <td>0</td>\n",
              "      <td>7</td>\n",
              "      <td>7</td>\n",
              "      <td>0</td>\n",
              "      <td>3</td>\n",
              "      <td>4130446.89</td>\n",
              "      <td>-1</td>\n",
              "    </tr>\n",
              "    <tr>\n",
              "      <th>3</th>\n",
              "      <td>1</td>\n",
              "      <td>0</td>\n",
              "      <td>2</td>\n",
              "      <td>0</td>\n",
              "      <td>5</td>\n",
              "      <td>7</td>\n",
              "      <td>0</td>\n",
              "      <td>3</td>\n",
              "      <td>3830136.03</td>\n",
              "      <td>-1</td>\n",
              "    </tr>\n",
              "    <tr>\n",
              "      <th>4</th>\n",
              "      <td>1</td>\n",
              "      <td>0</td>\n",
              "      <td>2</td>\n",
              "      <td>0</td>\n",
              "      <td>2</td>\n",
              "      <td>7</td>\n",
              "      <td>0</td>\n",
              "      <td>3</td>\n",
              "      <td>3662675.00</td>\n",
              "      <td>-1</td>\n",
              "    </tr>\n",
              "    <tr>\n",
              "      <th>...</th>\n",
              "      <td>...</td>\n",
              "      <td>...</td>\n",
              "      <td>...</td>\n",
              "      <td>...</td>\n",
              "      <td>...</td>\n",
              "      <td>...</td>\n",
              "      <td>...</td>\n",
              "      <td>...</td>\n",
              "      <td>...</td>\n",
              "      <td>...</td>\n",
              "    </tr>\n",
              "    <tr>\n",
              "      <th>696</th>\n",
              "      <td>1</td>\n",
              "      <td>0</td>\n",
              "      <td>2</td>\n",
              "      <td>0</td>\n",
              "      <td>4</td>\n",
              "      <td>1</td>\n",
              "      <td>0</td>\n",
              "      <td>1</td>\n",
              "      <td>7327021.87</td>\n",
              "      <td>-1</td>\n",
              "    </tr>\n",
              "    <tr>\n",
              "      <th>697</th>\n",
              "      <td>7</td>\n",
              "      <td>0</td>\n",
              "      <td>2</td>\n",
              "      <td>0</td>\n",
              "      <td>8</td>\n",
              "      <td>1</td>\n",
              "      <td>0</td>\n",
              "      <td>1</td>\n",
              "      <td>3500000.00</td>\n",
              "      <td>-1</td>\n",
              "    </tr>\n",
              "    <tr>\n",
              "      <th>698</th>\n",
              "      <td>4</td>\n",
              "      <td>0</td>\n",
              "      <td>2</td>\n",
              "      <td>0</td>\n",
              "      <td>7</td>\n",
              "      <td>1</td>\n",
              "      <td>0</td>\n",
              "      <td>1</td>\n",
              "      <td>8676053.00</td>\n",
              "      <td>-1</td>\n",
              "    </tr>\n",
              "    <tr>\n",
              "      <th>699</th>\n",
              "      <td>4</td>\n",
              "      <td>0</td>\n",
              "      <td>2</td>\n",
              "      <td>0</td>\n",
              "      <td>1</td>\n",
              "      <td>1</td>\n",
              "      <td>0</td>\n",
              "      <td>1</td>\n",
              "      <td>1850000.00</td>\n",
              "      <td>-1</td>\n",
              "    </tr>\n",
              "    <tr>\n",
              "      <th>700</th>\n",
              "      <td>5</td>\n",
              "      <td>0</td>\n",
              "      <td>2</td>\n",
              "      <td>0</td>\n",
              "      <td>7</td>\n",
              "      <td>0</td>\n",
              "      <td>2</td>\n",
              "      <td>1</td>\n",
              "      <td>516875.60</td>\n",
              "      <td>-1</td>\n",
              "    </tr>\n",
              "  </tbody>\n",
              "</table>\n",
              "<p>226 rows × 10 columns</p>\n",
              "</div>"
            ],
            "text/plain": [
              "     data_hora  Tipo  favorecido  ...  acao_orcamentaria      gastos  outlier\n",
              "0            0     0           2  ...                  3    60000.00       -1\n",
              "1            1     0           2  ...                  3  1174944.27       -1\n",
              "2            1     0           2  ...                  3  4130446.89       -1\n",
              "3            1     0           2  ...                  3  3830136.03       -1\n",
              "4            1     0           2  ...                  3  3662675.00       -1\n",
              "..         ...   ...         ...  ...                ...         ...      ...\n",
              "696          1     0           2  ...                  1  7327021.87       -1\n",
              "697          7     0           2  ...                  1  3500000.00       -1\n",
              "698          4     0           2  ...                  1  8676053.00       -1\n",
              "699          4     0           2  ...                  1  1850000.00       -1\n",
              "700          5     0           2  ...                  1   516875.60       -1\n",
              "\n",
              "[226 rows x 10 columns]"
            ]
          },
          "metadata": {
            "tags": []
          },
          "execution_count": 213
        }
      ]
    },
    {
      "cell_type": "code",
      "metadata": {
        "id": "4dOL5jpS2Htc",
        "colab": {
          "base_uri": "https://localhost:8080/"
        },
        "outputId": "23a82c77-3016-4c80-e2f4-58660407f7e7"
      },
      "source": [
        "invest_covidPe_forest = invest_covidPe_forest[invest_covidPe_forest['outlier'] != -1]\n",
        "len(invest_covidPe_forest)"
      ],
      "execution_count": null,
      "outputs": [
        {
          "output_type": "execute_result",
          "data": {
            "text/plain": [
              "475"
            ]
          },
          "metadata": {
            "tags": []
          },
          "execution_count": 214
        }
      ]
    },
    {
      "cell_type": "markdown",
      "metadata": {
        "id": "1IDXw_5TCKW2"
      },
      "source": [
        "#### Local Outlier Factor"
      ]
    },
    {
      "cell_type": "code",
      "metadata": {
        "id": "wNp19szfcqS-"
      },
      "source": [
        "from sklearn.neighbors import LocalOutlierFactor\n",
        "clf = LocalOutlierFactor(n_neighbors=10)"
      ],
      "execution_count": null,
      "outputs": []
    },
    {
      "cell_type": "code",
      "metadata": {
        "id": "hY-LVcjacyTl"
      },
      "source": [
        "scores = clf.fit_predict(invest_covidPe_lof)"
      ],
      "execution_count": null,
      "outputs": []
    },
    {
      "cell_type": "code",
      "metadata": {
        "id": "K-gCHumSdl3H",
        "colab": {
          "base_uri": "https://localhost:8080/"
        },
        "outputId": "2a720513-ae3d-4abf-811c-f238930279dd"
      },
      "source": [
        "# Valor de LOF\n",
        "-1*clf.negative_outlier_factor_"
      ],
      "execution_count": null,
      "outputs": [
        {
          "output_type": "execute_result",
          "data": {
            "text/plain": [
              "array([ 5.06972406,  1.15786907,  1.01278478,  1.00743069,  0.97511367,\n",
              "        1.38735342,  1.14246381,  0.9815729 ,  0.9388996 ,  1.06181494,\n",
              "        1.03345647,  1.00099309,  1.46929686,  0.96742529,  1.19792081,\n",
              "        1.05815846,  1.32094043,  1.11359083,  0.88391166,  1.28701849,\n",
              "        1.0212535 ,  1.05815846,  1.0811027 ,  1.03028305,  0.96950344,\n",
              "        1.09989847,  1.71633666,  1.09000524,  1.17392687,  1.32513546,\n",
              "        1.24460724,  1.24460724,  0.98706486,  0.95898566,  0.9073941 ,\n",
              "        1.17776213,  1.30074647,  0.94080509,  1.1715444 ,  1.04785782,\n",
              "        0.98969908,  1.22973992,  0.93931047,  1.10569106,  1.11086792,\n",
              "        1.0155732 ,  0.95207123,  1.0404531 ,  1.40262619,  1.03760092,\n",
              "        0.98506441,  1.31220308,  0.94483734,  1.00836771,  1.03237359,\n",
              "        1.37091875,  1.17742638,  0.99612669,  1.02220098,  0.93716132,\n",
              "        0.99639615,  1.03726531,  1.04823382,  1.4031783 ,  1.0998123 ,\n",
              "        1.15410589,  1.13631687,  1.024645  ,  1.08351131,  0.97413011,\n",
              "        1.10393944,  1.23307239,  1.03257502,  1.23280675,  0.97193831,\n",
              "        1.00844839,  1.17027848,  1.12143755,  0.99612669,  0.95781819,\n",
              "        1.07375523,  1.07581087,  1.14782647,  1.17640627,  1.04471155,\n",
              "        0.99518028,  0.98070577,  1.34064219,  1.02508819,  1.14207986,\n",
              "        0.97729679,  0.98546845,  1.00368987,  0.95207735,  0.97154399,\n",
              "        0.98227353, 27.01454036,  0.98906218,  1.17881679,  1.0081587 ,\n",
              "        1.00191408,  1.04015125,  0.95207735,  0.96761273,  0.98541237,\n",
              "        1.01561342,  0.97829214,  1.03401282,  1.33836986,  0.95335718,\n",
              "        1.07934452,  0.95210611,  1.07687679,  0.97039358,  0.98072915,\n",
              "        1.10889448,  1.05631678,  1.08759508,  0.99222804,  0.96262759,\n",
              "        1.05631678,  1.03975781,  1.0515354 ,  0.94813591,  1.38576138,\n",
              "        1.04008743,  1.03266994,  0.97399213,  1.08035166,  0.97771865,\n",
              "        1.06415286,  1.09140651,  1.10440516,  0.99085245,  0.99684148,\n",
              "        0.96262759,  1.16935279,  1.06025816,  0.99222804,  0.97803864,\n",
              "        0.98227353,  1.05035793,  1.01579997,  0.98389075,  1.00173774,\n",
              "        1.02427064,  0.95582167,  1.01939946,  1.03315183, 27.81107144,\n",
              "        0.99945386,  0.95783195,  1.06994294,  1.08457729,  1.02789525,\n",
              "        1.02965337,  1.31881382,  1.10629453,  0.95546274,  1.05891551,\n",
              "        1.1866162 ,  0.95941325,  1.05330229,  1.0479014 ,  0.99300004,\n",
              "        0.98213918,  1.0489545 ,  1.19602911,  1.13576567,  0.96997689,\n",
              "        1.00303761,  1.00750147,  1.05270906,  0.98584612,  0.98113736,\n",
              "        1.34467492,  1.48759005,  1.23875021,  1.0331872 ,  0.94399478,\n",
              "        1.12514987,  1.00817742,  0.99986463,  0.96655968,  1.17214943,\n",
              "        0.94036165,  1.01125215,  1.04282157,  0.99593979,  0.97253261,\n",
              "        0.98494611,  1.07506708,  0.96933285,  0.99343019,  0.97402892,\n",
              "        1.03884208,  1.11964289,  1.07585977,  1.03946569,  0.97253261,\n",
              "        0.97318321,  1.18916778,  1.05270906,  1.02127498,  1.34358823,\n",
              "        0.99438302,  0.94321669,  1.10284654,  1.13618678,  1.02005147,\n",
              "        1.04951528,  0.98090201,  1.63386312,  0.99721781,  1.03262882,\n",
              "        0.98089479,  1.12130313,  0.98494611,  0.96990856,  1.20689516,\n",
              "        1.24460724,  0.98416611,  1.00997842,  1.04585877,  1.00694593,\n",
              "        1.00133275,  1.10239416,  1.02789443,  1.01305728,  1.09104305,\n",
              "        0.99099909,  1.17045861,  1.0653443 ,  1.0166386 ,  1.00569434,\n",
              "        1.00063317,  1.13857369,  0.96189291,  0.96664352,  1.00001245,\n",
              "        1.08108656, 25.57100188,  1.00719045, 30.01130064,  0.97654602,\n",
              "        1.13925427,  0.95718597,  1.30573268,  1.12514987,  1.05312909,\n",
              "        1.24871649,  0.99201963,  0.97087754,  0.93990384,  1.01125215,\n",
              "        1.00296373,  1.05602231,  0.9520224 ,  1.11327672,  1.65231744,\n",
              "        1.04811234,  0.97402892,  1.01402008,  1.17607766,  0.99588667,\n",
              "        1.1511221 ,  0.94067705,  0.96779127,  0.98172965,  1.06681401,\n",
              "        0.98368694,  0.99085245,  1.46256818,  1.07033081,  1.00799109,\n",
              "        1.26357756,  1.10046137,  1.02741301,  1.11634592,  1.1760459 ,\n",
              "        1.05518639,  1.0129527 ,  1.14851431,  1.00283597,  1.11327672,\n",
              "        1.00878637,  0.96684848,  0.97654602,  1.05601706,  0.99658582,\n",
              "        0.95952286,  0.99515375,  1.00116118,  1.05506731,  0.99927651,\n",
              "        0.98490337,  1.00557253,  0.98762706,  1.06772407,  1.14303561,\n",
              "        1.32447245,  1.16755734,  0.98439021,  0.99150372,  0.96826139,\n",
              "        1.17184433,  0.97332817,  1.00028254,  0.94150223,  0.96096804,\n",
              "        0.99022769,  1.07740763,  0.98439021,  0.95508641,  0.98089479,\n",
              "        1.10477549,  1.1698965 ,  0.96618068,  1.02307888,  0.9695239 ,\n",
              "        1.05192321,  0.95780431,  0.97415924,  0.93275046,  1.00955213,\n",
              "        0.98087225,  0.97752616,  1.04001891,  0.9690142 ,  0.96687827,\n",
              "        0.98398616,  1.10839376,  1.13962269,  1.20111925,  1.06653678,\n",
              "        1.02508819,  1.10011728,  0.9532712 ,  0.97093168,  1.02239516,\n",
              "        0.94495412,  1.00711511,  1.00894148,  0.98581647,  1.07231348,\n",
              "        1.01433372,  1.01060187,  1.09368319,  1.02362137,  0.95853519,\n",
              "        1.24284383,  1.16077568,  1.06415286,  0.96251643,  1.04742889,\n",
              "        1.30431765,  1.06430156,  0.97804971,  0.98167569,  1.03393259,\n",
              "        1.32928592,  1.03176773,  1.1712411 ,  1.11019552,  0.96262759,\n",
              "        1.02833661,  1.15313085,  0.92147056,  0.96905878,  1.07191503,\n",
              "        1.17720568,  1.21250209,  0.98239776,  1.09814107,  1.06050146,\n",
              "        0.97910522,  0.95852163,  1.07067869,  1.02066309,  0.9594886 ,\n",
              "        1.25921537,  1.02024297,  1.14045424,  1.27475413,  1.43758888,\n",
              "        0.99517566,  1.08207743,  0.97829214,  0.97418609,  0.96221521,\n",
              "        1.11600055,  1.07554487,  1.07668816,  0.96972344,  0.92147056,\n",
              "        0.9690142 ,  0.99222804,  1.00430733,  1.18300254,  1.04693463,\n",
              "        1.01056057,  1.14538423,  0.94454662,  0.96005608,  1.05329809,\n",
              "        0.96972344,  0.98175467,  1.05896646,  0.99929058,  0.9696336 ,\n",
              "        0.97093168,  1.06660452,  1.33094691,  0.97745018,  0.96761273,\n",
              "        0.96298603,  1.06515763,  0.98239776,  1.00323874,  1.02197906,\n",
              "        1.17382471,  0.94514311,  0.95546274,  1.00964343,  1.0516853 ,\n",
              "        1.00427756,  1.02254597,  0.97795632,  1.10090867,  0.99517566,\n",
              "        1.30409721,  1.10353695,  1.04206642,  1.25931166,  0.97003938,\n",
              "        1.05108225,  0.98881152,  0.98192803,  1.33988277,  1.00146314,\n",
              "        1.12127209,  1.04192693,  1.10354391,  1.09435415,  0.9768918 ,\n",
              "        1.14711355,  1.02465294,  1.02424287,  1.02975119,  0.94036165,\n",
              "        0.98943971,  1.24579039,  1.00816851,  1.06158764,  0.95513737,\n",
              "        1.04775361,  1.01759833,  1.07358929,  1.09563191,  0.96251643,\n",
              "        0.96221521,  1.18997741,  1.16379124,  0.99255936,  1.02748339,\n",
              "        1.00841197,  1.21377529,  1.03691944,  0.9700184 ,  1.02525813,\n",
              "        1.20602721,  1.12399033,  1.16275444,  1.0905068 ,  0.97457995,\n",
              "        1.0831419 ,  1.08744452,  1.02462985,  1.08267438,  0.98892177,\n",
              "        0.98239776,  0.98959856,  1.0227318 ,  1.04984363,  0.9875477 ,\n",
              "        1.06508447,  1.01005367,  0.99231054,  1.00633371,  0.9695239 ,\n",
              "        1.03913468,  1.09815329,  1.02253728,  0.98663454,  1.07962541,\n",
              "        1.01718922,  1.00326399,  0.97154399,  1.04063581,  0.92147056,\n",
              "        1.13675795,  1.02066309,  0.99158039,  1.11455635,  1.0897586 ,\n",
              "        1.00382794,  1.21932772,  1.1177866 ,  0.94550716,  0.95780431,\n",
              "        0.990421  ,  0.98959856,  0.98157591,  0.99219931,  1.19240212,\n",
              "        1.17359774,  1.06685633,  1.10477657,  0.98498862,  1.06158764,\n",
              "        1.02706192,  1.00894148,  1.02042628,  0.97795632,  1.00228217,\n",
              "        1.09739442,  0.98243636,  1.04504249,  1.10763121,  1.04545727,\n",
              "        1.29775685,  0.96684848,  0.97500496,  0.995789  ,  0.9718459 ,\n",
              "        0.9578489 ,  1.12958456,  1.29750249,  1.13411631,  1.01323192,\n",
              "        1.36402599,  1.12467451,  1.00569434,  1.07554487,  1.02706192,\n",
              "        0.97051002,  0.99708619,  1.06947707,  1.01327098,  1.12075664,\n",
              "        0.96323388,  0.97727735,  1.13818991,  1.20573413,  1.02261281,\n",
              "        0.98943971,  1.06096481,  1.15582121,  0.95079045,  1.23164481,\n",
              "        1.32369477,  0.9471768 , 26.84651247,  0.9585352 ,  0.96950344,\n",
              "        0.9760057 ,  0.98969908,  1.28701849,  1.10486342,  1.08733282,\n",
              "        0.98506441,  0.99612669,  1.06511879,  1.03283679,  0.94080508,\n",
              "        0.9932826 ,  0.995789  ,  1.30409719,  1.12215432,  1.09989847,\n",
              "        1.00462316,  1.06508447,  1.0404531 ,  0.93931047,  1.17776213,\n",
              "        1.0172084 ,  1.12467451,  1.32094043,  1.00557253, 35.53681366,\n",
              "        0.97511367,  1.09000524,  1.15411951,  1.15411951,  0.97441659,\n",
              "        5.06972405,  1.00836771,  1.15786907,  1.05672725,  1.40262619,\n",
              "        1.00099309,  1.24460724,  0.99527002,  0.99255866,  1.24460724,\n",
              "        1.14246381,  1.10629453,  1.03279473,  1.35099947,  0.9073941 ,\n",
              "        1.36134167,  1.40412708,  1.33988277,  1.03237359,  1.31220308,\n",
              "        0.9815729 ,  1.17742638,  1.39439182,  1.10062057,  1.03760092,\n",
              "        1.08041062,  1.02499546,  1.22973992,  1.05601706,  0.96001565,\n",
              "        1.32513614,  1.13182408,  1.10569106,  1.06181494,  0.94813591,\n",
              "        1.08379381,  0.99612669,  1.46929686,  1.23649802,  1.11899234,\n",
              "        1.16500212,  1.11930617,  1.43758888,  1.0212535 ,  1.03345647,\n",
              "        1.30074647,  1.03028305,  0.88391166,  1.02763977,  1.13378212,\n",
              "        0.98932063,  1.32369477,  1.00941602,  1.0811027 ,  1.11359083,\n",
              "        1.05815846,  1.1760459 ,  0.99612669,  4.24675413,  0.98892177,\n",
              "        0.99639615,  1.02789443,  1.02539928,  1.02998885,  1.0043229 ,\n",
              "        1.05815846,  1.17392687,  1.00430733,  1.01665669,  1.00743069,\n",
              "        1.07755827,  1.14045424,  0.97722434,  0.9388996 ,  0.97303789,\n",
              "        1.3462066 ,  1.71633666,  1.11086792,  1.32094043,  1.01278478,\n",
              "        1.02239517,  1.07538022,  0.93716132,  1.32409347,  0.96814754,\n",
              "        0.96990856,  0.99079289,  1.37091875,  1.04785782,  1.15582121,\n",
              "        1.19792081,  1.02763977,  0.95898566,  0.94721617,  0.95207123,\n",
              "        0.94483734,  1.2574992 ,  0.99986463,  1.1715444 ,  0.96742529,\n",
              "        0.98706486,  1.38735342,  1.02220098,  1.24460724,  0.98430014,\n",
              "        1.01557321])"
            ]
          },
          "metadata": {
            "tags": []
          },
          "execution_count": 217
        }
      ]
    },
    {
      "cell_type": "code",
      "metadata": {
        "id": "nD9THEnLc9n5",
        "colab": {
          "base_uri": "https://localhost:8080/"
        },
        "outputId": "fe95ff45-dd29-46bd-89b2-7d9f9d3ceb48"
      },
      "source": [
        "scores"
      ],
      "execution_count": null,
      "outputs": [
        {
          "output_type": "execute_result",
          "data": {
            "text/plain": [
              "array([-1,  1,  1,  1,  1,  1,  1,  1,  1,  1,  1,  1,  1,  1,  1,  1,  1,\n",
              "        1,  1,  1,  1,  1,  1,  1,  1,  1, -1,  1,  1,  1,  1,  1,  1,  1,\n",
              "        1,  1,  1,  1,  1,  1,  1,  1,  1,  1,  1,  1,  1,  1,  1,  1,  1,\n",
              "        1,  1,  1,  1,  1,  1,  1,  1,  1,  1,  1,  1,  1,  1,  1,  1,  1,\n",
              "        1,  1,  1,  1,  1,  1,  1,  1,  1,  1,  1,  1,  1,  1,  1,  1,  1,\n",
              "        1,  1,  1,  1,  1,  1,  1,  1,  1,  1,  1, -1,  1,  1,  1,  1,  1,\n",
              "        1,  1,  1,  1,  1,  1,  1,  1,  1,  1,  1,  1,  1,  1,  1,  1,  1,\n",
              "        1,  1,  1,  1,  1,  1,  1,  1,  1,  1,  1,  1,  1,  1,  1,  1,  1,\n",
              "        1,  1,  1,  1,  1,  1,  1,  1,  1,  1,  1,  1,  1, -1,  1,  1,  1,\n",
              "        1,  1,  1,  1,  1,  1,  1,  1,  1,  1,  1,  1,  1,  1,  1,  1,  1,\n",
              "        1,  1,  1,  1,  1,  1,  1,  1,  1,  1,  1,  1,  1,  1,  1,  1,  1,\n",
              "        1,  1,  1,  1,  1,  1,  1,  1,  1,  1,  1,  1,  1,  1,  1,  1,  1,\n",
              "        1,  1,  1,  1,  1,  1,  1,  1, -1,  1,  1,  1,  1,  1,  1,  1,  1,\n",
              "        1,  1,  1,  1,  1,  1,  1,  1,  1,  1,  1,  1,  1,  1,  1,  1,  1,\n",
              "        1,  1,  1, -1,  1, -1,  1,  1,  1,  1,  1,  1,  1,  1,  1,  1,  1,\n",
              "        1,  1,  1,  1, -1,  1,  1,  1,  1,  1,  1,  1,  1,  1,  1,  1,  1,\n",
              "        1,  1,  1,  1,  1,  1,  1,  1,  1,  1,  1,  1,  1,  1,  1,  1,  1,\n",
              "        1,  1,  1,  1,  1,  1,  1,  1,  1,  1,  1,  1,  1,  1,  1,  1,  1,\n",
              "        1,  1,  1,  1,  1,  1,  1,  1,  1,  1,  1,  1,  1,  1,  1,  1,  1,\n",
              "        1,  1,  1,  1,  1,  1,  1,  1,  1,  1,  1,  1,  1,  1,  1,  1,  1,\n",
              "        1,  1,  1,  1,  1,  1,  1,  1,  1,  1,  1,  1,  1,  1,  1,  1,  1,\n",
              "        1,  1,  1,  1,  1,  1,  1,  1,  1,  1,  1,  1,  1,  1,  1,  1,  1,\n",
              "        1,  1,  1,  1,  1,  1,  1,  1,  1,  1,  1,  1,  1,  1,  1,  1,  1,\n",
              "        1,  1,  1,  1,  1,  1,  1,  1,  1,  1,  1,  1,  1,  1,  1,  1,  1,\n",
              "        1,  1,  1,  1,  1,  1,  1,  1,  1,  1,  1,  1,  1,  1,  1,  1,  1,\n",
              "        1,  1,  1,  1,  1,  1,  1,  1,  1,  1,  1,  1,  1,  1,  1,  1,  1,\n",
              "        1,  1,  1,  1,  1,  1,  1,  1,  1,  1,  1,  1,  1,  1,  1,  1,  1,\n",
              "        1,  1,  1,  1,  1,  1,  1,  1,  1,  1,  1,  1,  1,  1,  1,  1,  1,\n",
              "        1,  1,  1,  1,  1,  1,  1,  1,  1,  1,  1,  1,  1,  1,  1,  1,  1,\n",
              "        1,  1,  1,  1,  1,  1,  1,  1,  1,  1,  1,  1,  1,  1,  1,  1,  1,\n",
              "        1,  1,  1,  1,  1,  1,  1,  1,  1,  1,  1,  1,  1,  1,  1,  1,  1,\n",
              "        1,  1,  1,  1,  1,  1,  1,  1,  1,  1,  1,  1,  1,  1,  1,  1,  1,\n",
              "        1,  1,  1,  1,  1,  1,  1,  1,  1,  1,  1,  1,  1,  1,  1,  1,  1,\n",
              "        1, -1,  1,  1,  1,  1,  1,  1,  1,  1,  1,  1,  1,  1,  1,  1,  1,\n",
              "        1,  1,  1,  1,  1,  1,  1,  1,  1,  1,  1, -1,  1,  1,  1,  1,  1,\n",
              "       -1,  1,  1,  1,  1,  1,  1,  1,  1,  1,  1,  1,  1,  1,  1,  1,  1,\n",
              "        1,  1,  1,  1,  1,  1,  1,  1,  1,  1,  1,  1,  1,  1,  1,  1,  1,\n",
              "        1,  1,  1,  1,  1,  1,  1,  1,  1,  1,  1,  1,  1,  1,  1,  1,  1,\n",
              "        1,  1,  1,  1,  1,  1,  1, -1,  1,  1,  1,  1,  1,  1,  1,  1,  1,\n",
              "        1,  1,  1,  1,  1,  1,  1,  1, -1,  1,  1,  1,  1,  1,  1,  1,  1,\n",
              "        1,  1,  1,  1,  1,  1,  1,  1,  1,  1,  1,  1,  1,  1,  1,  1,  1,\n",
              "        1,  1,  1,  1])"
            ]
          },
          "metadata": {
            "tags": []
          },
          "execution_count": 218
        }
      ]
    },
    {
      "cell_type": "code",
      "metadata": {
        "id": "nipEFPzndJYa",
        "colab": {
          "base_uri": "https://localhost:8080/"
        },
        "outputId": "3cdfd0c7-49e2-4581-8a0f-cd2b91e3599f"
      },
      "source": [
        "invest_covidPe_lof['outlier'] = scores\n",
        "print(invest_covidPe_lof.head())"
      ],
      "execution_count": null,
      "outputs": [
        {
          "output_type": "stream",
          "text": [
            "   data_hora  Tipo  favorecido  ...  acao_orcamentaria      gastos  outlier\n",
            "0          0     0           2  ...                  3    60000.00       -1\n",
            "1          1     0           2  ...                  3  1174944.27        1\n",
            "2          1     0           2  ...                  3  4130446.89        1\n",
            "3          1     0           2  ...                  3  3830136.03        1\n",
            "4          1     0           2  ...                  3  3662675.00        1\n",
            "\n",
            "[5 rows x 10 columns]\n"
          ],
          "name": "stdout"
        }
      ]
    },
    {
      "cell_type": "code",
      "metadata": {
        "id": "YoaDBs3ldU8j",
        "colab": {
          "base_uri": "https://localhost:8080/",
          "height": 432
        },
        "outputId": "ee442d3d-bab6-4840-ee64-c3673688a8fb"
      },
      "source": [
        "invest_covidPe_lof[invest_covidPe_lof['outlier'] == -1]"
      ],
      "execution_count": null,
      "outputs": [
        {
          "output_type": "execute_result",
          "data": {
            "text/html": [
              "<div>\n",
              "<style scoped>\n",
              "    .dataframe tbody tr th:only-of-type {\n",
              "        vertical-align: middle;\n",
              "    }\n",
              "\n",
              "    .dataframe tbody tr th {\n",
              "        vertical-align: top;\n",
              "    }\n",
              "\n",
              "    .dataframe thead th {\n",
              "        text-align: right;\n",
              "    }\n",
              "</style>\n",
              "<table border=\"1\" class=\"dataframe\">\n",
              "  <thead>\n",
              "    <tr style=\"text-align: right;\">\n",
              "      <th></th>\n",
              "      <th>data_hora</th>\n",
              "      <th>Tipo</th>\n",
              "      <th>favorecido</th>\n",
              "      <th>UF</th>\n",
              "      <th>municipio</th>\n",
              "      <th>funcao</th>\n",
              "      <th>prog_ocamentario</th>\n",
              "      <th>acao_orcamentaria</th>\n",
              "      <th>gastos</th>\n",
              "      <th>outlier</th>\n",
              "    </tr>\n",
              "  </thead>\n",
              "  <tbody>\n",
              "    <tr>\n",
              "      <th>0</th>\n",
              "      <td>0</td>\n",
              "      <td>0</td>\n",
              "      <td>2</td>\n",
              "      <td>0</td>\n",
              "      <td>8</td>\n",
              "      <td>7</td>\n",
              "      <td>0</td>\n",
              "      <td>3</td>\n",
              "      <td>60000.00</td>\n",
              "      <td>-1</td>\n",
              "    </tr>\n",
              "    <tr>\n",
              "      <th>26</th>\n",
              "      <td>3</td>\n",
              "      <td>0</td>\n",
              "      <td>2</td>\n",
              "      <td>0</td>\n",
              "      <td>8</td>\n",
              "      <td>4</td>\n",
              "      <td>2</td>\n",
              "      <td>3</td>\n",
              "      <td>2264395.80</td>\n",
              "      <td>-1</td>\n",
              "    </tr>\n",
              "    <tr>\n",
              "      <th>96</th>\n",
              "      <td>8</td>\n",
              "      <td>0</td>\n",
              "      <td>1</td>\n",
              "      <td>0</td>\n",
              "      <td>8</td>\n",
              "      <td>6</td>\n",
              "      <td>1</td>\n",
              "      <td>2</td>\n",
              "      <td>-534.86</td>\n",
              "      <td>-1</td>\n",
              "    </tr>\n",
              "    <tr>\n",
              "      <th>149</th>\n",
              "      <td>8</td>\n",
              "      <td>0</td>\n",
              "      <td>1</td>\n",
              "      <td>0</td>\n",
              "      <td>8</td>\n",
              "      <td>6</td>\n",
              "      <td>1</td>\n",
              "      <td>2</td>\n",
              "      <td>-1084.16</td>\n",
              "      <td>-1</td>\n",
              "    </tr>\n",
              "    <tr>\n",
              "      <th>212</th>\n",
              "      <td>8</td>\n",
              "      <td>0</td>\n",
              "      <td>1</td>\n",
              "      <td>0</td>\n",
              "      <td>7</td>\n",
              "      <td>6</td>\n",
              "      <td>1</td>\n",
              "      <td>2</td>\n",
              "      <td>12037.82</td>\n",
              "      <td>-1</td>\n",
              "    </tr>\n",
              "    <tr>\n",
              "      <th>241</th>\n",
              "      <td>8</td>\n",
              "      <td>0</td>\n",
              "      <td>1</td>\n",
              "      <td>0</td>\n",
              "      <td>8</td>\n",
              "      <td>6</td>\n",
              "      <td>1</td>\n",
              "      <td>2</td>\n",
              "      <td>-1248.01</td>\n",
              "      <td>-1</td>\n",
              "    </tr>\n",
              "    <tr>\n",
              "      <th>243</th>\n",
              "      <td>8</td>\n",
              "      <td>0</td>\n",
              "      <td>1</td>\n",
              "      <td>0</td>\n",
              "      <td>8</td>\n",
              "      <td>6</td>\n",
              "      <td>1</td>\n",
              "      <td>2</td>\n",
              "      <td>-2529.72</td>\n",
              "      <td>-1</td>\n",
              "    </tr>\n",
              "    <tr>\n",
              "      <th>259</th>\n",
              "      <td>8</td>\n",
              "      <td>0</td>\n",
              "      <td>1</td>\n",
              "      <td>0</td>\n",
              "      <td>2</td>\n",
              "      <td>6</td>\n",
              "      <td>1</td>\n",
              "      <td>2</td>\n",
              "      <td>1342.91</td>\n",
              "      <td>-1</td>\n",
              "    </tr>\n",
              "    <tr>\n",
              "      <th>562</th>\n",
              "      <td>8</td>\n",
              "      <td>0</td>\n",
              "      <td>1</td>\n",
              "      <td>0</td>\n",
              "      <td>8</td>\n",
              "      <td>2</td>\n",
              "      <td>1</td>\n",
              "      <td>0</td>\n",
              "      <td>-1619.02</td>\n",
              "      <td>-1</td>\n",
              "    </tr>\n",
              "    <tr>\n",
              "      <th>589</th>\n",
              "      <td>8</td>\n",
              "      <td>0</td>\n",
              "      <td>1</td>\n",
              "      <td>0</td>\n",
              "      <td>8</td>\n",
              "      <td>2</td>\n",
              "      <td>1</td>\n",
              "      <td>0</td>\n",
              "      <td>-3777.73</td>\n",
              "      <td>-1</td>\n",
              "    </tr>\n",
              "    <tr>\n",
              "      <th>595</th>\n",
              "      <td>0</td>\n",
              "      <td>0</td>\n",
              "      <td>2</td>\n",
              "      <td>0</td>\n",
              "      <td>8</td>\n",
              "      <td>1</td>\n",
              "      <td>0</td>\n",
              "      <td>1</td>\n",
              "      <td>60000.00</td>\n",
              "      <td>-1</td>\n",
              "    </tr>\n",
              "    <tr>\n",
              "      <th>653</th>\n",
              "      <td>9</td>\n",
              "      <td>0</td>\n",
              "      <td>2</td>\n",
              "      <td>0</td>\n",
              "      <td>1</td>\n",
              "      <td>1</td>\n",
              "      <td>0</td>\n",
              "      <td>1</td>\n",
              "      <td>17375.00</td>\n",
              "      <td>-1</td>\n",
              "    </tr>\n",
              "    <tr>\n",
              "      <th>671</th>\n",
              "      <td>3</td>\n",
              "      <td>0</td>\n",
              "      <td>2</td>\n",
              "      <td>0</td>\n",
              "      <td>8</td>\n",
              "      <td>0</td>\n",
              "      <td>2</td>\n",
              "      <td>1</td>\n",
              "      <td>2264395.80</td>\n",
              "      <td>-1</td>\n",
              "    </tr>\n",
              "  </tbody>\n",
              "</table>\n",
              "</div>"
            ],
            "text/plain": [
              "     data_hora  Tipo  favorecido  ...  acao_orcamentaria      gastos  outlier\n",
              "0            0     0           2  ...                  3    60000.00       -1\n",
              "26           3     0           2  ...                  3  2264395.80       -1\n",
              "96           8     0           1  ...                  2     -534.86       -1\n",
              "149          8     0           1  ...                  2    -1084.16       -1\n",
              "212          8     0           1  ...                  2    12037.82       -1\n",
              "241          8     0           1  ...                  2    -1248.01       -1\n",
              "243          8     0           1  ...                  2    -2529.72       -1\n",
              "259          8     0           1  ...                  2     1342.91       -1\n",
              "562          8     0           1  ...                  0    -1619.02       -1\n",
              "589          8     0           1  ...                  0    -3777.73       -1\n",
              "595          0     0           2  ...                  1    60000.00       -1\n",
              "653          9     0           2  ...                  1    17375.00       -1\n",
              "671          3     0           2  ...                  1  2264395.80       -1\n",
              "\n",
              "[13 rows x 10 columns]"
            ]
          },
          "metadata": {
            "tags": []
          },
          "execution_count": 220
        }
      ]
    },
    {
      "cell_type": "code",
      "metadata": {
        "id": "g0eXFEW2dgSV",
        "colab": {
          "base_uri": "https://localhost:8080/"
        },
        "outputId": "07b5fade-94b9-4efa-f535-99402159795b"
      },
      "source": [
        "invest_covidPe_lof = invest_covidPe_lof[invest_covidPe_lof['outlier'] != -1]\n",
        "len(invest_covidPe_lof)"
      ],
      "execution_count": null,
      "outputs": [
        {
          "output_type": "execute_result",
          "data": {
            "text/plain": [
              "688"
            ]
          },
          "metadata": {
            "tags": []
          },
          "execution_count": 221
        }
      ]
    },
    {
      "cell_type": "markdown",
      "metadata": {
        "id": "9H4_3xrgAFK-"
      },
      "source": [
        "### Conversão do DF para trabalhar com distribuição temporal\n",
        "Conversão necessária para o desenvolvimento dos métodos de séries temporais"
      ]
    },
    {
      "cell_type": "code",
      "metadata": {
        "id": "pABVsV2-AEzX"
      },
      "source": [
        "# convert the 'Date' column to datetime format\n",
        "invest_covidPe['data_hora'] = pd.to_datetime(invest_covidPe['data_hora'])\n",
        "\n",
        "# Check the format of 'Date' column\n",
        "invest_covidPe.info()"
      ],
      "execution_count": null,
      "outputs": []
    },
    {
      "cell_type": "code",
      "metadata": {
        "id": "yjhNyn9_HoR2"
      },
      "source": [
        "invest_covidPe.set_index('data_hora')"
      ],
      "execution_count": null,
      "outputs": []
    },
    {
      "cell_type": "markdown",
      "metadata": {
        "id": "eDwUdO7jWe3D"
      },
      "source": [
        "## Análise dos casos\n",
        "\n",
        "  * ***Insights***:\n",
        "\n",
        "    * Distribuição de gastos do Estado de Pernambuco entre:\n",
        "      * Regiões (RMR, Zona da mata, Agreste, Sertão)\n",
        "      * Capital e outras cidades\n",
        "\n",
        "    * Cidades com maiores quantidades de Hospitais Públicos\n",
        "      * Distribuição de gastos em relação à quantidade de Hospitais"
      ]
    },
    {
      "cell_type": "markdown",
      "metadata": {
        "id": "-Fkz5QfJqfym"
      },
      "source": [
        "## Visualização dos dados"
      ]
    },
    {
      "cell_type": "markdown",
      "metadata": {
        "id": "397eC_zDqmms"
      },
      "source": [
        "### A finalidade desse gráfico é nos ajudar na validação da hipóteseve de que nas cidades onde houve menos investimento, a taxa de mortalidade consequentemente foi maior"
      ]
    },
    {
      "cell_type": "code",
      "metadata": {
        "id": "upQD4SuwdhIr",
        "colab": {
          "base_uri": "https://localhost:8080/",
          "height": 571
        },
        "outputId": "8495c478-00d2-492c-d9f5-65bc46f207e9"
      },
      "source": [
        "sns.set()\n",
        "plt.figure(figsize=(15,8))\n",
        "sns.barplot(x='nivel_de_gastos', y='taxa_mortalidade', data=covidPeCases).set(title='Relação Nível de Gastos x Taxa de Mortalidade', xlabel='Nível de Gastos', ylabel='Taxa de Mortalidade')"
      ],
      "execution_count": 492,
      "outputs": [
        {
          "output_type": "execute_result",
          "data": {
            "text/plain": [
              "[Text(0, 0.5, 'Taxa de Mortalidade'),\n",
              " Text(0.5, 0, 'Nível de Gastos'),\n",
              " Text(0.5, 1.0, 'Relação Nível de Gastos x Taxa de Mortalidade')]"
            ]
          },
          "metadata": {
            "tags": []
          },
          "execution_count": 492
        },
        {
          "output_type": "display_data",
          "data": {
            "image/png": "[encoded data removed]",
            "text/plain": [
              "<Figure size 1080x576 with 1 Axes>"
            ]
          },
          "metadata": {
            "tags": []
          }
        }
      ]
    },
    {
      "cell_type": "markdown",
      "metadata": {
        "id": "WMmvNyT4Wmar"
      },
      "source": [
        "### Distribuição\n",
        "Estatística descritiva de cada caso\n",
        "* `df.describe()`"
      ]
    },
    {
      "cell_type": "markdown",
      "metadata": {
        "id": "YyuTE1YKXou0"
      },
      "source": [
        "##### Habitante"
      ]
    },
    {
      "cell_type": "code",
      "metadata": {
        "id": "4u30g9oRZCXj"
      },
      "source": [
        ""
      ],
      "execution_count": null,
      "outputs": []
    },
    {
      "cell_type": "markdown",
      "metadata": {
        "id": "IApiuRl1XkbL"
      },
      "source": [
        "##### Município"
      ]
    },
    {
      "cell_type": "code",
      "metadata": {
        "id": "mtuMZ0R9ZCxr"
      },
      "source": [
        ""
      ],
      "execution_count": null,
      "outputs": []
    },
    {
      "cell_type": "markdown",
      "metadata": {
        "id": "KPxpvxrlXuB7"
      },
      "source": [
        "##### Zona Geográfica\n",
        "  * RMR\n",
        "  * Zona da Mata\n",
        "  * Agreste"
      ]
    },
    {
      "cell_type": "code",
      "metadata": {
        "id": "OF7hMtgSZDnT"
      },
      "source": [
        ""
      ],
      "execution_count": null,
      "outputs": []
    },
    {
      "cell_type": "markdown",
      "metadata": {
        "id": "82k3nhetWujb"
      },
      "source": [
        "### Média móvel"
      ]
    },
    {
      "cell_type": "code",
      "metadata": {
        "id": "2D3OaZV0ZEgL"
      },
      "source": [
        ""
      ],
      "execution_count": null,
      "outputs": []
    },
    {
      "cell_type": "markdown",
      "metadata": {
        "id": "KYbQErETXCDj"
      },
      "source": [
        "### Análises dos gastos\n",
        "  * por Data (mensal)\n",
        "  * por Habitante (Total)"
      ]
    },
    {
      "cell_type": "code",
      "metadata": {
        "id": "ObTIYyhyZFFz"
      },
      "source": [
        "#Investimentos por Mês\n",
        "\n",
        "dates = pd.date_range('10-Mar 2020','10-jan 2021',freq='M')\n",
        "df = pd.DataFrame({'dates' : dates})\n",
        "df['month_name'] = df['dates'].dt.strftime('%b')\n",
        "df['gastos'] = invest_covidPe.groupby(by=['data_hora']).sum().values\n",
        "# normalizando entre -1 e 1 para nos permitir verificar os meses em que tivemos o investimento menores dada a escala\n",
        "df['gastos_norm'] = ((df['gastos'] - df['gastos'].min()) / (df['gastos'].max()-df['gastos'].min())*2)-1\n",
        "#Aplicando log10 para visualizarmos em proporções parecidas\n",
        "df['gastos_log10'] = df['gastos'].apply(np.log10)"
      ],
      "execution_count": 488,
      "outputs": []
    },
    {
      "cell_type": "code",
      "metadata": {
        "id": "0u7DiOhhEp6p",
        "outputId": "a4a34fe2-2df7-4c05-b346-ca0b2b1046c8",
        "colab": {
          "base_uri": "https://localhost:8080/",
          "height": 428
        }
      },
      "source": [
        "#Visão com log10\n",
        "plt.figure(figsize=(10,6))\n",
        "sns.barplot(x='month_name', y='gastos_log10', data=df).set(title='Gastos por Mês log10', xlabel='Mês', ylabel='Gastos log10')\n",
        "sns.lineplot(x='month_name', y='gastos_log10', data=df)"
      ],
      "execution_count": 491,
      "outputs": [
        {
          "output_type": "execute_result",
          "data": {
            "text/plain": [
              "<matplotlib.axes._subplots.AxesSubplot at 0x7f6466444910>"
            ]
          },
          "metadata": {
            "tags": []
          },
          "execution_count": 491
        },
        {
          "output_type": "display_data",
          "data": {
            "image/png": "[encoded data removed]",
            "text/plain": [
              "<Figure size 720x432 with 1 Axes>"
            ]
          },
          "metadata": {
            "tags": []
          }
        }
      ]
    },
    {
      "cell_type": "code",
      "metadata": {
        "id": "37wy83Ns-9hy",
        "outputId": "60bc21dc-fa28-4656-cb5a-9f5e4fe3be06",
        "colab": {
          "base_uri": "https://localhost:8080/",
          "height": 428
        }
      },
      "source": [
        " #Visão com valores normalizados entre -1 e 1\n",
        "plt.figure(figsize=(10,6))\n",
        "sns.barplot(x='month_name', y='gastos_norm', data=df).set(title='Gastos por Mês normalizado entre -1 e 1', xlabel='Mês', ylabel='Gastos Normalizados')\n",
        "sns.lineplot(x='month_name', y='gastos_norm', data=df)"
      ],
      "execution_count": 490,
      "outputs": [
        {
          "output_type": "execute_result",
          "data": {
            "text/plain": [
              "<matplotlib.axes._subplots.AxesSubplot at 0x7f6466494510>"
            ]
          },
          "metadata": {
            "tags": []
          },
          "execution_count": 490
        },
        {
          "output_type": "display_data",
          "data": {
            "image/png": "[encoded data removed]",
            "text/plain": [
              "<Figure size 720x432 with 1 Axes>"
            ]
          },
          "metadata": {
            "tags": []
          }
        }
      ]
    },
    {
      "cell_type": "code",
      "metadata": {
        "id": "fxPzPJULqf8F",
        "outputId": "a8c948ff-05a3-4622-ac29-ee76ebc1437a",
        "colab": {
          "base_uri": "https://localhost:8080/",
          "height": 681
        }
      },
      "source": [
        "sns.set()\n",
        "plt.figure(figsize=(18,10))\n",
        "\n",
        "aux = covidPeCases.filter(items=['municipio', 'gastos_por_habitante','taxa_mortalidade','nivel_de_gastos']).sort_values(by=['gastos_por_habitante'])\n",
        "sns.barplot(x='municipio', y='nivel_de_gastos', data=aux).set(title='Nível de Investimentos por Município', xlabel='Município', ylabel='Nível de Investimentos')"
      ],
      "execution_count": 445,
      "outputs": [
        {
          "output_type": "execute_result",
          "data": {
            "text/plain": [
              "[Text(0, 0.5, 'Nível de Investimentos'),\n",
              " Text(0.5, 0, 'Município'),\n",
              " Text(0.5, 1.0, 'Nível de Investimentos por Município')]"
            ]
          },
          "metadata": {
            "tags": []
          },
          "execution_count": 445
        },
        {
          "output_type": "display_data",
          "data": {
            "image/png": "[encoded data removed]",
            "text/plain": [
              "<Figure size 1296x720 with 1 Axes>"
            ]
          },
          "metadata": {
            "tags": []
          }
        }
      ]
    },
    {
      "cell_type": "code",
      "metadata": {
        "id": "cRMzxIGZn0Cd",
        "outputId": "9e8c77e8-6de3-4b49-a724-547f68dacaee",
        "colab": {
          "base_uri": "https://localhost:8080/",
          "height": 681
        }
      },
      "source": [
        "plt.figure(figsize=(18,10))\n",
        "sns.barplot(x='municipio', y='taxa_mortalidade', data=aux).set(title='Taxa de mortalidade por Município', xlabel='Município', ylabel='Taxa de Mortalidade')"
      ],
      "execution_count": 444,
      "outputs": [
        {
          "output_type": "execute_result",
          "data": {
            "text/plain": [
              "[Text(0, 0.5, 'Taxa de Mortalidade'),\n",
              " Text(0.5, 0, 'Município'),\n",
              " Text(0.5, 1.0, 'Taxa de mortalidade por Município')]"
            ]
          },
          "metadata": {
            "tags": []
          },
          "execution_count": 444
        },
        {
          "output_type": "display_data",
          "data": {
            "image/png": "[encoded data removed]",
            "text/plain": [
              "<Figure size 1296x720 with 1 Axes>"
            ]
          },
          "metadata": {
            "tags": []
          }
        }
      ]
    },
    {
      "cell_type": "markdown",
      "metadata": {
        "id": "uK3pBkMnfmkw"
      },
      "source": [
        "## Teste de hipótese\n",
        "### Hipótese : As cidades que tiveram um nível de gastos de médio para muito alto (3,5) obtiveram níveis menores de mortalidade do que as cidades que investiram menos (1,2). Utilizaremos o valor crítico de 3%"
      ]
    },
    {
      "cell_type": "code",
      "metadata": {
        "id": "xqwxtS9vglgQ",
        "outputId": "b7b7bf0e-b9df-4e8e-e344-2ed61b6bbb06",
        "colab": {
          "base_uri": "https://localhost:8080/",
          "height": 286
        }
      },
      "source": [
        "#Não segue uma normal\n",
        "aux['taxa_mortalidade'].plot.hist()"
      ],
      "execution_count": 405,
      "outputs": [
        {
          "output_type": "execute_result",
          "data": {
            "text/plain": [
              "<matplotlib.axes._subplots.AxesSubplot at 0x7f6467b5fd10>"
            ]
          },
          "metadata": {
            "tags": []
          },
          "execution_count": 405
        },
        {
          "output_type": "display_data",
          "data": {
            "image/png": "[encoded data removed]",
            "text/plain": [
              "<Figure size 432x288 with 1 Axes>"
            ]
          },
          "metadata": {
            "tags": []
          }
        }
      ]
    },
    {
      "cell_type": "code",
      "metadata": {
        "id": "0WaXYl41a0XT",
        "colab": {
          "base_uri": "https://localhost:8080/"
        },
        "outputId": "30535faf-536d-497a-8f36-2b6b7ea8ec37"
      },
      "source": [
        "#Como nossos dados tratam de grupos não pareados e que não seguem uma distribuição normal, vamos utilizar o teste de mannwhitneyu\n",
        "stats.mannwhitneyu(aux[aux['nivel_de_gastos'] <= 2]['taxa_mortalidade'],aux[aux['nivel_de_gastos'] >=3]['taxa_mortalidade'])"
      ],
      "execution_count": null,
      "outputs": [
        {
          "output_type": "execute_result",
          "data": {
            "text/plain": [
              "MannwhitneyuResult(statistic=4.0, pvalue=0.05490970440761861)"
            ]
          },
          "metadata": {
            "tags": []
          },
          "execution_count": 389
        }
      ]
    },
    {
      "cell_type": "code",
      "metadata": {
        "id": "GTDQQ3lWUlQ-",
        "colab": {
          "base_uri": "https://localhost:8080/",
          "height": 340
        },
        "outputId": "b8486aa0-e40f-4c6c-f11c-b94622104f67"
      },
      "source": [
        "#O valor obtido pelo pvalue acima do valor crítico indica evidência forte a favor da hipótese\n",
        "plt.figure(figsize=(10,5))\n",
        "\n",
        "municipios12 = aux[aux['nivel_de_gastos'] <= 2]\n",
        "municipios35 = aux[aux['nivel_de_gastos'] >= 3]\n",
        "\n",
        "sns.boxplot(data=[municipios12[['taxa_mortalidade']], municipios35[['taxa_mortalidade']]])"
      ],
      "execution_count": null,
      "outputs": [
        {
          "output_type": "execute_result",
          "data": {
            "text/plain": [
              "<matplotlib.axes._subplots.AxesSubplot at 0x7f64682c9250>"
            ]
          },
          "metadata": {
            "tags": []
          },
          "execution_count": 380
        },
        {
          "output_type": "display_data",
          "data": {
            "image/png": "[encoded data removed]",
            "text/plain": [
              "<Figure size 720x360 with 1 Axes>"
            ]
          },
          "metadata": {
            "tags": []
          }
        }
      ]
    },
    {
      "cell_type": "markdown",
      "metadata": {
        "id": "uY_6_M2JkrU2"
      },
      "source": [
        "### Comparando gastos em Caruaru e em Paulista\n",
        "Ambos possuem uma população estimada próxima porém Paulista apresenta números muito piores que Caruaru"
      ]
    },
    {
      "cell_type": "code",
      "metadata": {
        "id": "NnICpo3SilXI"
      },
      "source": [
        "#Investimento por mês em Caruaru\n",
        "InvestPerMonthCaruaru = pd.DataFrame({'dates' : dates})\n",
        "InvestPerMonthCaruaru['month_name'] = InvestPerMonthCaruaru['dates'].dt.strftime('%b')\n",
        "InvestPerMonthCaruaru['gastos'] = invest_covidPe[invest_covidPe['municipio'] == \"CARUARU\"].groupby(by=['data_hora']).sum().values\n",
        "InvestPerMonthCaruaru['gastos_log10'] = InvestPerMonthCaruaru['gastos'].apply(np.log10)\n",
        "\n",
        "#Investimento por mês em Paulista\n",
        "\n",
        "InvestPerMonthPaulista = pd.DataFrame({'dates' : dates})\n",
        "InvestPerMonthPaulista['month_name'] = InvestPerMonthPaulista['dates'].dt.strftime('%b')\n",
        "InvestPerMonthPaulista['gastos'] = invest_covidPe[invest_covidPe['municipio'] == \"PAULISTA\"].groupby(by=['data_hora']).sum().values\n",
        "InvestPerMonthPaulista['gastos_log10'] = InvestPerMonthPaulista['gastos'].apply(np.log10)\n"
      ],
      "execution_count": 436,
      "outputs": []
    },
    {
      "cell_type": "code",
      "metadata": {
        "id": "aJUVdjLFj8P3",
        "colab": {
          "base_uri": "https://localhost:8080/",
          "height": 710
        },
        "outputId": "5b9936bb-1d10-48e9-b845-789cdf47fa58"
      },
      "source": [
        "plt.figure(figsize=(10,5))\n",
        "sns.barplot(x='month_name', y='gastos_log10', data=InvestPerMonthCaruaru).set(title='Caruaru', xlabel='Mês', ylabel='Gastos Log10')\n",
        "sns.lineplot(x='month_name', y='gastos_log10', data=InvestPerMonthCaruaru)\n",
        "\n",
        "plt.figure(figsize=(10,5))\n",
        "sns.barplot(x='month_name', y='gastos_log10', data=InvestPerMonthPaulista)\n",
        "sns.lineplot(x='month_name', y='gastos_log10', data=InvestPerMonthPaulista).set(title='Paulista', xlabel='Mês', ylabel='Gastos Log10')"
      ],
      "execution_count": 443,
      "outputs": [
        {
          "output_type": "execute_result",
          "data": {
            "text/plain": [
              "[Text(0, 0.5, 'Gastos Log10'), Text(0.5, 0, 'Mês'), Text(0.5, 1.0, 'Paulista')]"
            ]
          },
          "metadata": {
            "tags": []
          },
          "execution_count": 443
        },
        {
          "output_type": "display_data",
          "data": {
            "image/png": "[encoded data removed]",
            "text/plain": [
              "<Figure size 720x360 with 1 Axes>"
            ]
          },
          "metadata": {
            "tags": []
          }
        },
        {
          "output_type": "display_data",
          "data": {
            "image/png": "[encoded data removed]",
            "text/plain": [
              "<Figure size 720x360 with 1 Axes>"
            ]
          },
          "metadata": {
            "tags": []
          }
        }
      ]
    },
    {
      "cell_type": "code",
      "metadata": {
        "id": "zEvYkiWRloxA",
        "outputId": "f6ff29e0-e132-4e79-f6ce-7e19676210e1",
        "colab": {
          "base_uri": "https://localhost:8080/",
          "height": 286
        }
      },
      "source": [
        "sns.boxplot(data=[InvestPerMonthCaruaru[['gastos_log10']], InvestPerMonthPaulista[['gastos_log10']]])"
      ],
      "execution_count": 428,
      "outputs": [
        {
          "output_type": "execute_result",
          "data": {
            "text/plain": [
              "<matplotlib.axes._subplots.AxesSubplot at 0x7f64674123d0>"
            ]
          },
          "metadata": {
            "tags": []
          },
          "execution_count": 428
        },
        {
          "output_type": "display_data",
          "data": {
            "image/png": "[encoded data removed]",
            "text/plain": [
              "<Figure size 432x288 with 1 Axes>"
            ]
          },
          "metadata": {
            "tags": []
          }
        }
      ]
    },
    {
      "cell_type": "markdown",
      "metadata": {
        "id": "uvUjSUH3tt_n"
      },
      "source": [
        "Os gastos com Paulista são muito menores que os gastos em Caruaru apesar de terem populações parecidas. Como já vimos anteriormente, os investimentos fizeram total diferença, pois apesar de terem uma quantidade de haitantes parecida, os níveis de taxa de mortalidade na cidade de Paulista são bem maiores"
      ]
    },
    {
      "cell_type": "markdown",
      "metadata": {
        "id": "FHUOFF_HV4rE"
      },
      "source": [
        "## Previsão de gastos para o primeiro trimestre de 2021\n",
        "  * Utilizaremos previsões em Séries Temporais\n",
        "  * Recursos:\n",
        "    - Pandas\n",
        "    - Facebook Prophet"
      ]
    },
    {
      "cell_type": "markdown",
      "metadata": {
        "id": "Qh0-RwxUrUsW"
      },
      "source": [
        "O `numpy` possui um tipo específico para lidar com datetime, que é o `np.datetime64`, utilizado para indexar dataframes de séries temporais. Com isso, podemos fazer operações vetorizadas."
      ]
    },
    {
      "cell_type": "code",
      "metadata": {
        "id": "ZuwyF-derk4e",
        "colab": {
          "base_uri": "https://localhost:8080/",
          "height": 84
        },
        "outputId": "a17faebc-8b10-4bda-c280-0f3c013aa16a"
      },
      "source": [
        "import numpy as np\n",
        "date_index = np.datetime64(\"2018-07-02\") + np.arange(12)\n",
        "date_index"
      ],
      "execution_count": null,
      "outputs": [
        {
          "output_type": "execute_result",
          "data": {
            "text/plain": [
              "array(['2018-07-02', '2018-07-03', '2018-07-04', '2018-07-05',\n",
              "       '2018-07-06', '2018-07-07', '2018-07-08', '2018-07-09',\n",
              "       '2018-07-10', '2018-07-11', '2018-07-12', '2018-07-13'],\n",
              "      dtype='datetime64[D]')"
            ]
          },
          "metadata": {
            "tags": []
          },
          "execution_count": 2
        }
      ]
    },
    {
      "cell_type": "markdown",
      "metadata": {
        "id": "hkF7RZvnt9lJ"
      },
      "source": [
        "### `DatetimeIndex`\n",
        "\n",
        "Podemos manipular diretamente no `pandas` para criar *índices* temporais."
      ]
    },
    {
      "cell_type": "code",
      "metadata": {
        "id": "6SxNOkzLsEcS",
        "colab": {
          "base_uri": "https://localhost:8080/",
          "height": 286
        },
        "outputId": "564bcc87-411b-4304-f8a4-22710840b228"
      },
      "source": [
        "import pandas as pd\n",
        "date = pd.to_datetime(\"2018-07-02\")\n",
        "date += pd.to_timedelta(np.arange(60), 'D')\n",
        "date"
      ],
      "execution_count": null,
      "outputs": [
        {
          "output_type": "execute_result",
          "data": {
            "text/plain": [
              "DatetimeIndex(['2018-07-02', '2018-07-03', '2018-07-04', '2018-07-05',\n",
              "               '2018-07-06', '2018-07-07', '2018-07-08', '2018-07-09',\n",
              "               '2018-07-10', '2018-07-11', '2018-07-12', '2018-07-13',\n",
              "               '2018-07-14', '2018-07-15', '2018-07-16', '2018-07-17',\n",
              "               '2018-07-18', '2018-07-19', '2018-07-20', '2018-07-21',\n",
              "               '2018-07-22', '2018-07-23', '2018-07-24', '2018-07-25',\n",
              "               '2018-07-26', '2018-07-27', '2018-07-28', '2018-07-29',\n",
              "               '2018-07-30', '2018-07-31', '2018-08-01', '2018-08-02',\n",
              "               '2018-08-03', '2018-08-04', '2018-08-05', '2018-08-06',\n",
              "               '2018-08-07', '2018-08-08', '2018-08-09', '2018-08-10',\n",
              "               '2018-08-11', '2018-08-12', '2018-08-13', '2018-08-14',\n",
              "               '2018-08-15', '2018-08-16', '2018-08-17', '2018-08-18',\n",
              "               '2018-08-19', '2018-08-20', '2018-08-21', '2018-08-22',\n",
              "               '2018-08-23', '2018-08-24', '2018-08-25', '2018-08-26',\n",
              "               '2018-08-27', '2018-08-28', '2018-08-29', '2018-08-30'],\n",
              "              dtype='datetime64[ns]', freq=None)"
            ]
          },
          "metadata": {
            "tags": []
          },
          "execution_count": 3
        }
      ]
    },
    {
      "cell_type": "code",
      "metadata": {
        "id": "ZC0L9wymsOyx",
        "colab": {
          "base_uri": "https://localhost:8080/",
          "height": 195
        },
        "outputId": "b629381c-b881-4d13-ba54-e8e77967cd99"
      },
      "source": [
        "df = pd.DataFrame(np.arange(len(date)), index=date)\n",
        "df.tail()"
      ],
      "execution_count": null,
      "outputs": [
        {
          "output_type": "execute_result",
          "data": {
            "text/html": [
              "<div>\n",
              "<style scoped>\n",
              "    .dataframe tbody tr th:only-of-type {\n",
              "        vertical-align: middle;\n",
              "    }\n",
              "\n",
              "    .dataframe tbody tr th {\n",
              "        vertical-align: top;\n",
              "    }\n",
              "\n",
              "    .dataframe thead th {\n",
              "        text-align: right;\n",
              "    }\n",
              "</style>\n",
              "<table border=\"1\" class=\"dataframe\">\n",
              "  <thead>\n",
              "    <tr style=\"text-align: right;\">\n",
              "      <th></th>\n",
              "      <th>0</th>\n",
              "    </tr>\n",
              "  </thead>\n",
              "  <tbody>\n",
              "    <tr>\n",
              "      <th>2018-08-26</th>\n",
              "      <td>55</td>\n",
              "    </tr>\n",
              "    <tr>\n",
              "      <th>2018-08-27</th>\n",
              "      <td>56</td>\n",
              "    </tr>\n",
              "    <tr>\n",
              "      <th>2018-08-28</th>\n",
              "      <td>57</td>\n",
              "    </tr>\n",
              "    <tr>\n",
              "      <th>2018-08-29</th>\n",
              "      <td>58</td>\n",
              "    </tr>\n",
              "    <tr>\n",
              "      <th>2018-08-30</th>\n",
              "      <td>59</td>\n",
              "    </tr>\n",
              "  </tbody>\n",
              "</table>\n",
              "</div>"
            ],
            "text/plain": [
              "             0\n",
              "2018-08-26  55\n",
              "2018-08-27  56\n",
              "2018-08-28  57\n",
              "2018-08-29  58\n",
              "2018-08-30  59"
            ]
          },
          "metadata": {
            "tags": []
          },
          "execution_count": 4
        }
      ]
    },
    {
      "cell_type": "markdown",
      "metadata": {
        "id": "5nyz3DzrsxnW"
      },
      "source": [
        "Podemos indexar diretamente pelo tempo:"
      ]
    },
    {
      "cell_type": "code",
      "metadata": {
        "id": "RFKkXhM6s6OO",
        "colab": {
          "base_uri": "https://localhost:8080/",
          "height": 166
        },
        "outputId": "68989bc6-99ac-4dc8-f40d-23975fe871bb"
      },
      "source": [
        "df[\"2018-07-05\" : \"2018-07-08\"]"
      ],
      "execution_count": null,
      "outputs": [
        {
          "output_type": "execute_result",
          "data": {
            "text/html": [
              "<div>\n",
              "<style scoped>\n",
              "    .dataframe tbody tr th:only-of-type {\n",
              "        vertical-align: middle;\n",
              "    }\n",
              "\n",
              "    .dataframe tbody tr th {\n",
              "        vertical-align: top;\n",
              "    }\n",
              "\n",
              "    .dataframe thead th {\n",
              "        text-align: right;\n",
              "    }\n",
              "</style>\n",
              "<table border=\"1\" class=\"dataframe\">\n",
              "  <thead>\n",
              "    <tr style=\"text-align: right;\">\n",
              "      <th></th>\n",
              "      <th>0</th>\n",
              "    </tr>\n",
              "  </thead>\n",
              "  <tbody>\n",
              "    <tr>\n",
              "      <th>2018-07-05</th>\n",
              "      <td>3</td>\n",
              "    </tr>\n",
              "    <tr>\n",
              "      <th>2018-07-06</th>\n",
              "      <td>4</td>\n",
              "    </tr>\n",
              "    <tr>\n",
              "      <th>2018-07-07</th>\n",
              "      <td>5</td>\n",
              "    </tr>\n",
              "    <tr>\n",
              "      <th>2018-07-08</th>\n",
              "      <td>6</td>\n",
              "    </tr>\n",
              "  </tbody>\n",
              "</table>\n",
              "</div>"
            ],
            "text/plain": [
              "            0\n",
              "2018-07-05  3\n",
              "2018-07-06  4\n",
              "2018-07-07  5\n",
              "2018-07-08  6"
            ]
          },
          "metadata": {
            "tags": []
          },
          "execution_count": 5
        }
      ]
    },
    {
      "cell_type": "code",
      "metadata": {
        "id": "nf3diAnVtDql",
        "colab": {
          "base_uri": "https://localhost:8080/",
          "height": 195
        },
        "outputId": "8f83b4cc-84a6-43e4-bf52-ae9aba6fcbf7"
      },
      "source": [
        "df[\"2018-07\"].tail()"
      ],
      "execution_count": null,
      "outputs": [
        {
          "output_type": "execute_result",
          "data": {
            "text/html": [
              "<div>\n",
              "<style scoped>\n",
              "    .dataframe tbody tr th:only-of-type {\n",
              "        vertical-align: middle;\n",
              "    }\n",
              "\n",
              "    .dataframe tbody tr th {\n",
              "        vertical-align: top;\n",
              "    }\n",
              "\n",
              "    .dataframe thead th {\n",
              "        text-align: right;\n",
              "    }\n",
              "</style>\n",
              "<table border=\"1\" class=\"dataframe\">\n",
              "  <thead>\n",
              "    <tr style=\"text-align: right;\">\n",
              "      <th></th>\n",
              "      <th>0</th>\n",
              "    </tr>\n",
              "  </thead>\n",
              "  <tbody>\n",
              "    <tr>\n",
              "      <th>2018-07-27</th>\n",
              "      <td>25</td>\n",
              "    </tr>\n",
              "    <tr>\n",
              "      <th>2018-07-28</th>\n",
              "      <td>26</td>\n",
              "    </tr>\n",
              "    <tr>\n",
              "      <th>2018-07-29</th>\n",
              "      <td>27</td>\n",
              "    </tr>\n",
              "    <tr>\n",
              "      <th>2018-07-30</th>\n",
              "      <td>28</td>\n",
              "    </tr>\n",
              "    <tr>\n",
              "      <th>2018-07-31</th>\n",
              "      <td>29</td>\n",
              "    </tr>\n",
              "  </tbody>\n",
              "</table>\n",
              "</div>"
            ],
            "text/plain": [
              "             0\n",
              "2018-07-27  25\n",
              "2018-07-28  26\n",
              "2018-07-29  27\n",
              "2018-07-30  28\n",
              "2018-07-31  29"
            ]
          },
          "metadata": {
            "tags": []
          },
          "execution_count": 6
        }
      ]
    },
    {
      "cell_type": "markdown",
      "metadata": {
        "id": "1Ho1Sfz3tURi"
      },
      "source": [
        "### `pd.date_range`\n",
        "\n",
        "Regularmente é usada essa função para criar \"fatias\" de tempo."
      ]
    },
    {
      "cell_type": "code",
      "metadata": {
        "id": "OOQxsMHXtRhx",
        "colab": {
          "base_uri": "https://localhost:8080/",
          "height": 34
        },
        "outputId": "c6045815-b18c-42ae-88e8-18364b24b7f5"
      },
      "source": [
        "pd.date_range('2018-07-02', '2018-07-03', freq='D')"
      ],
      "execution_count": null,
      "outputs": [
        {
          "output_type": "execute_result",
          "data": {
            "text/plain": [
              "DatetimeIndex(['2018-07-02', '2018-07-03'], dtype='datetime64[ns]', freq='D')"
            ]
          },
          "metadata": {
            "tags": []
          },
          "execution_count": 7
        }
      ]
    },
    {
      "cell_type": "code",
      "metadata": {
        "id": "B7YMpptJteDZ",
        "colab": {
          "base_uri": "https://localhost:8080/",
          "height": 202
        },
        "outputId": "12df243f-f6ac-4293-859d-a89471c4569f"
      },
      "source": [
        "pd.date_range('2018-07-02', periods=20, freq='s')"
      ],
      "execution_count": null,
      "outputs": [
        {
          "output_type": "execute_result",
          "data": {
            "text/plain": [
              "DatetimeIndex(['2018-07-02 00:00:00', '2018-07-02 00:00:01',\n",
              "               '2018-07-02 00:00:02', '2018-07-02 00:00:03',\n",
              "               '2018-07-02 00:00:04', '2018-07-02 00:00:05',\n",
              "               '2018-07-02 00:00:06', '2018-07-02 00:00:07',\n",
              "               '2018-07-02 00:00:08', '2018-07-02 00:00:09',\n",
              "               '2018-07-02 00:00:10', '2018-07-02 00:00:11',\n",
              "               '2018-07-02 00:00:12', '2018-07-02 00:00:13',\n",
              "               '2018-07-02 00:00:14', '2018-07-02 00:00:15',\n",
              "               '2018-07-02 00:00:16', '2018-07-02 00:00:17',\n",
              "               '2018-07-02 00:00:18', '2018-07-02 00:00:19'],\n",
              "              dtype='datetime64[ns]', freq='S')"
            ]
          },
          "metadata": {
            "tags": []
          },
          "execution_count": 8
        }
      ]
    },
    {
      "cell_type": "markdown",
      "metadata": {
        "id": "39TB7JBbu0k8"
      },
      "source": [
        "### Métodos"
      ]
    },
    {
      "cell_type": "code",
      "metadata": {
        "id": "6f9gcYMKvGCG"
      },
      "source": [
        "!pip install --quiet pandas-datareader"
      ],
      "execution_count": null,
      "outputs": []
    },
    {
      "cell_type": "code",
      "metadata": {
        "id": "Y2dHRDjf7NJb",
        "colab": {
          "base_uri": "https://localhost:8080/",
          "height": 34
        },
        "outputId": "7794ddd0-2793-4cb9-9894-1a532b1d0b41"
      },
      "source": [
        "!pip install --quiet yfinance"
      ],
      "execution_count": null,
      "outputs": [
        {
          "output_type": "stream",
          "text": [
            "  Building wheel for yfinance (setup.py) ... \u001b[?25l\u001b[?25hdone\n"
          ],
          "name": "stdout"
        }
      ]
    },
    {
      "cell_type": "code",
      "metadata": {
        "id": "mAVDH5087KJR",
        "colab": {
          "base_uri": "https://localhost:8080/",
          "height": 242
        },
        "outputId": "4c2964be-cd08-4051-aaf3-eef5ce8151c3"
      },
      "source": [
        "from pandas_datareader import data as pdr\n",
        "import yfinance as yf\n",
        "yf.pdr_override() \n",
        "start_date = datetime(2016, 1, 1)\n",
        "end_date = datetime(2020, 9, 25)\n",
        "df = pdr.get_data_yahoo(\"^BVSP\", start=start_date, end=end_date)\n",
        "df.index = pd.to_datetime(df.index) # indice nao vem como datetime\n",
        "df.tail()"
      ],
      "execution_count": null,
      "outputs": [
        {
          "output_type": "stream",
          "text": [
            "\r[*********************100%***********************]  1 of 1 completed\n"
          ],
          "name": "stdout"
        },
        {
          "output_type": "execute_result",
          "data": {
            "text/html": [
              "<div>\n",
              "<style scoped>\n",
              "    .dataframe tbody tr th:only-of-type {\n",
              "        vertical-align: middle;\n",
              "    }\n",
              "\n",
              "    .dataframe tbody tr th {\n",
              "        vertical-align: top;\n",
              "    }\n",
              "\n",
              "    .dataframe thead th {\n",
              "        text-align: right;\n",
              "    }\n",
              "</style>\n",
              "<table border=\"1\" class=\"dataframe\">\n",
              "  <thead>\n",
              "    <tr style=\"text-align: right;\">\n",
              "      <th></th>\n",
              "      <th>Open</th>\n",
              "      <th>High</th>\n",
              "      <th>Low</th>\n",
              "      <th>Close</th>\n",
              "      <th>Adj Close</th>\n",
              "      <th>Volume</th>\n",
              "    </tr>\n",
              "    <tr>\n",
              "      <th>Date</th>\n",
              "      <th></th>\n",
              "      <th></th>\n",
              "      <th></th>\n",
              "      <th></th>\n",
              "      <th></th>\n",
              "      <th></th>\n",
              "    </tr>\n",
              "  </thead>\n",
              "  <tbody>\n",
              "    <tr>\n",
              "      <th>2020-09-18</th>\n",
              "      <td>100098.0</td>\n",
              "      <td>100102.0</td>\n",
              "      <td>98045.0</td>\n",
              "      <td>98290.0</td>\n",
              "      <td>98290.0</td>\n",
              "      <td>11370300</td>\n",
              "    </tr>\n",
              "    <tr>\n",
              "      <th>2020-09-21</th>\n",
              "      <td>98283.0</td>\n",
              "      <td>98283.0</td>\n",
              "      <td>95820.0</td>\n",
              "      <td>96991.0</td>\n",
              "      <td>96991.0</td>\n",
              "      <td>9738000</td>\n",
              "    </tr>\n",
              "    <tr>\n",
              "      <th>2020-09-22</th>\n",
              "      <td>96995.0</td>\n",
              "      <td>97684.0</td>\n",
              "      <td>96390.0</td>\n",
              "      <td>97294.0</td>\n",
              "      <td>97294.0</td>\n",
              "      <td>7281300</td>\n",
              "    </tr>\n",
              "    <tr>\n",
              "      <th>2020-09-23</th>\n",
              "      <td>97294.0</td>\n",
              "      <td>97389.0</td>\n",
              "      <td>95728.0</td>\n",
              "      <td>95735.0</td>\n",
              "      <td>95735.0</td>\n",
              "      <td>8830700</td>\n",
              "    </tr>\n",
              "    <tr>\n",
              "      <th>2020-09-24</th>\n",
              "      <td>95735.0</td>\n",
              "      <td>97955.0</td>\n",
              "      <td>95653.0</td>\n",
              "      <td>97012.0</td>\n",
              "      <td>97012.0</td>\n",
              "      <td>9331000</td>\n",
              "    </tr>\n",
              "  </tbody>\n",
              "</table>\n",
              "</div>"
            ],
            "text/plain": [
              "                Open      High      Low    Close  Adj Close    Volume\n",
              "Date                                                                 \n",
              "2020-09-18  100098.0  100102.0  98045.0  98290.0    98290.0  11370300\n",
              "2020-09-21   98283.0   98283.0  95820.0  96991.0    96991.0   9738000\n",
              "2020-09-22   96995.0   97684.0  96390.0  97294.0    97294.0   7281300\n",
              "2020-09-23   97294.0   97389.0  95728.0  95735.0    95735.0   8830700\n",
              "2020-09-24   95735.0   97955.0  95653.0  97012.0    97012.0   9331000"
            ]
          },
          "metadata": {
            "tags": []
          },
          "execution_count": 75
        }
      ]
    },
    {
      "cell_type": "code",
      "metadata": {
        "id": "4ff8TLlru2v2",
        "colab": {
          "base_uri": "https://localhost:8080/",
          "height": 489
        },
        "outputId": "5af4a3f0-d8dd-4c4a-a051-549b21ce5ddf"
      },
      "source": [
        "import matplotlib.pyplot as plt\n",
        "import seaborn; seaborn.set()\n",
        "import seaborn as sns\n",
        "\n",
        "%matplotlib inline\n",
        "\n",
        "plt.figure(figsize=(12, 8))\n",
        "data = df.Close\n",
        "data.plot()"
      ],
      "execution_count": null,
      "outputs": [
        {
          "output_type": "execute_result",
          "data": {
            "text/plain": [
              "<matplotlib.axes._subplots.AxesSubplot at 0x7f0bd3f07518>"
            ]
          },
          "metadata": {
            "tags": []
          },
          "execution_count": 76
        },
        {
          "output_type": "display_data",
          "data": {
            "image/png": "[encoded data removed]",
            "text/plain": [
              "<Figure size 864x576 with 1 Axes>"
            ]
          },
          "metadata": {
            "tags": [],
            "needs_background": "light"
          }
        }
      ]
    },
    {
      "cell_type": "markdown",
      "metadata": {
        "id": "iePObwgQzGtC"
      },
      "source": [
        "Uma necessidade comum com séries temporais é de obter uma amostra do dado em uma frequência menor do que o dado original, seja agrupando ou selecionando.\n",
        "\n",
        "* `asfreq`: *data selection*\n",
        "* `resample`: *data aggregation*\n",
        "\n",
        "https://pandas.pydata.org/pandas-docs/stable/user_guide/timeseries.html#offset-aliases\n",
        "\n",
        "No exemplo abaixo, `resample` mostra a média do ano anterior, enquanto `asfreq` reporta o valor final ao fim do ano."
      ]
    },
    {
      "cell_type": "code",
      "metadata": {
        "id": "33gxg8hFFPP2",
        "colab": {
          "base_uri": "https://localhost:8080/",
          "height": 218
        },
        "outputId": "518c157c-e615-4e39-9989-ea3cc72227a5"
      },
      "source": [
        "data.resample('182D').mean()"
      ],
      "execution_count": null,
      "outputs": [
        {
          "output_type": "execute_result",
          "data": {
            "text/plain": [
              "Date\n",
              "2016-01-04     47370.064516\n",
              "2016-07-04     59099.648000\n",
              "2017-01-02     64400.105691\n",
              "2017-07-03     71697.379032\n",
              "2018-01-01     81694.131148\n",
              "2018-07-02     81568.434426\n",
              "2018-12-31     95947.842975\n",
              "2019-07-01    105147.488000\n",
              "2019-12-30     94105.520661\n",
              "2020-06-29    100731.253968\n",
              "Freq: 182D, Name: Close, dtype: float64"
            ]
          },
          "metadata": {
            "tags": []
          },
          "execution_count": 77
        }
      ]
    },
    {
      "cell_type": "code",
      "metadata": {
        "id": "d-2V_fdXFVBB",
        "colab": {
          "base_uri": "https://localhost:8080/",
          "height": 218
        },
        "outputId": "d74adc94-2c6a-4401-aeec-5d87b73f6a9a"
      },
      "source": [
        "data.asfreq('182D')"
      ],
      "execution_count": null,
      "outputs": [
        {
          "output_type": "execute_result",
          "data": {
            "text/plain": [
              "Date\n",
              "2016-01-04    201.020004\n",
              "2016-07-04           NaN\n",
              "2017-01-02           NaN\n",
              "2017-07-03    242.210007\n",
              "2018-01-01           NaN\n",
              "2018-07-02    271.859985\n",
              "2018-12-31    249.919998\n",
              "2019-07-01    295.660004\n",
              "2019-12-30    321.079987\n",
              "2020-06-29    304.459991\n",
              "Freq: 182D, Name: Close, dtype: float64"
            ]
          },
          "metadata": {
            "tags": []
          },
          "execution_count": 66
        }
      ]
    },
    {
      "cell_type": "code",
      "metadata": {
        "id": "SWnpEJ-vx15t",
        "colab": {
          "base_uri": "https://localhost:8080/",
          "height": 472
        },
        "outputId": "786c2efc-3d46-4b55-86b3-5c7af9fb01dd"
      },
      "source": [
        "plt.figure(figsize=(12, 8))\n",
        "data[\"2016\":].plot(alpha=0.5, style='-')\n",
        "data.resample('BM').mean().plot(style=':')\n",
        "data.asfreq('BM').plot(style='--');\n",
        "plt.legend(['input', 'resample', 'asfreq'], loc='lower left');"
      ],
      "execution_count": null,
      "outputs": [
        {
          "output_type": "display_data",
          "data": {
            "image/png": "[encoded data removed]",
            "text/plain": [
              "<Figure size 864x576 with 1 Axes>"
            ]
          },
          "metadata": {
            "tags": [],
            "needs_background": "light"
          }
        }
      ]
    },
    {
      "cell_type": "code",
      "metadata": {
        "id": "Kkscs-EC-vBU",
        "colab": {
          "base_uri": "https://localhost:8080/",
          "height": 302
        },
        "outputId": "fa861287-c975-4004-aadc-95bfff625973"
      },
      "source": [
        "plt.figure(figsize=(12, 4))\n",
        "data.resample(\"W\").mean().plot(label='mean')\n",
        "data.resample(\"W\").max().plot(label='max')\n",
        "plt.legend()"
      ],
      "execution_count": null,
      "outputs": [
        {
          "output_type": "execute_result",
          "data": {
            "text/plain": [
              "<matplotlib.legend.Legend at 0x7f0bd35f0550>"
            ]
          },
          "metadata": {
            "tags": []
          },
          "execution_count": 80
        },
        {
          "output_type": "display_data",
          "data": {
            "image/png": "[encoded data removed]",
            "text/plain": [
              "<Figure size 864x288 with 1 Axes>"
            ]
          },
          "metadata": {
            "tags": [],
            "needs_background": "light"
          }
        }
      ]
    },
    {
      "cell_type": "markdown",
      "metadata": {
        "id": "pWeo3Jj99E3g"
      },
      "source": [
        "### Janela deslizante"
      ]
    },
    {
      "cell_type": "markdown",
      "metadata": {
        "id": "26GH1KZP-5kd"
      },
      "source": [
        "Outra aplicação comum em processamento de séries temporais são operações de janelas deslizantes. "
      ]
    },
    {
      "cell_type": "code",
      "metadata": {
        "id": "mprzGoUldMWY",
        "colab": {
          "base_uri": "https://localhost:8080/",
          "height": 35
        },
        "outputId": "89dd50cd-9905-462f-b84d-f7d3c28e8e57"
      },
      "source": [
        ""
      ],
      "execution_count": null,
      "outputs": [
        {
          "output_type": "execute_result",
          "data": {
            "text/plain": [
              "Rolling [window=182,center=False,axis=0]"
            ]
          },
          "metadata": {
            "tags": []
          },
          "execution_count": 18
        }
      ]
    },
    {
      "cell_type": "code",
      "metadata": {
        "id": "UeDvOOJC79T-",
        "colab": {
          "base_uri": "https://localhost:8080/",
          "height": 320
        },
        "outputId": "56542e72-313c-4b84-eb57-944663b85652"
      },
      "source": [
        "plt.figure(figsize=(14, 10))\n",
        "\n",
        "plt.subplot(211)\n",
        "data.plot(alpha=.5)\n",
        "(data.rolling(5)\n",
        " .mean()\n",
        " .plot(label=\"5_rolling_mean\", style='r:', alpha=1)\n",
        ")\n",
        "(data.rolling(100)\n",
        " .mean()\n",
        " .plot(label=\"100_rolling_mean\", style='g:', alpha=1)\n",
        ")\n",
        "(data.rolling(200)\n",
        " .mean()\n",
        " .plot(label=\"200_rolling_mean\", style='y:', alpha=1)\n",
        ")\n",
        "plt.legend()"
      ],
      "execution_count": null,
      "outputs": [
        {
          "output_type": "execute_result",
          "data": {
            "text/plain": [
              "<matplotlib.legend.Legend at 0x7f0bd34bf978>"
            ]
          },
          "metadata": {
            "tags": []
          },
          "execution_count": 81
        },
        {
          "output_type": "display_data",
          "data": {
            "image/png": "[encoded data removed]",
            "text/plain": [
              "<Figure size 1008x720 with 1 Axes>"
            ]
          },
          "metadata": {
            "tags": [],
            "needs_background": "light"
          }
        }
      ]
    },
    {
      "cell_type": "code",
      "metadata": {
        "id": "_jv0lj5kDD_0",
        "colab": {
          "base_uri": "https://localhost:8080/",
          "height": 134
        },
        "outputId": "1b9e87ac-576e-47b0-a21d-324e1a2f1af5"
      },
      "source": [
        "data.head()"
      ],
      "execution_count": null,
      "outputs": [
        {
          "output_type": "execute_result",
          "data": {
            "text/plain": [
              "Date\n",
              "2016-01-04    42141.0\n",
              "2016-01-05    42419.0\n",
              "2016-01-06    41773.0\n",
              "2016-01-07    40695.0\n",
              "2016-01-08    40612.0\n",
              "Name: Close, dtype: float64"
            ]
          },
          "metadata": {
            "tags": []
          },
          "execution_count": 82
        }
      ]
    },
    {
      "cell_type": "code",
      "metadata": {
        "id": "Eky8tHsTCqeS",
        "colab": {
          "base_uri": "https://localhost:8080/",
          "height": 34
        },
        "outputId": "c7ff3220-2781-421c-b4dc-4da04afc79ba"
      },
      "source": [
        "a = data.resample(\"m\") # reamostragem de acordo com o mes\n"
      ],
      "execution_count": null,
      "outputs": [
        {
          "output_type": "execute_result",
          "data": {
            "text/plain": [
              "pandas.core.resample.DatetimeIndexResampler"
            ]
          },
          "metadata": {
            "tags": []
          },
          "execution_count": 56
        }
      ]
    },
    {
      "cell_type": "code",
      "metadata": {
        "id": "NW0KWNbcecD1",
        "colab": {
          "base_uri": "https://localhost:8080/",
          "height": 235
        },
        "outputId": "3e737054-500b-48fc-922c-a651c4902041"
      },
      "source": [
        "data.resample(\"m\") # reamostragem de acordo com o mes\n",
        "data.rolling(182).mean() # funcoes de janela deslizente \n",
        "data.index.dayofweek # transforma todo indice em dayofweek\n",
        "data.groupby # funcao de agrupamento"
      ],
      "execution_count": null,
      "outputs": [
        {
          "output_type": "execute_result",
          "data": {
            "text/plain": [
              "<bound method Series.groupby of Date\n",
              "2016-01-04    201.020004\n",
              "2016-01-05    201.360001\n",
              "2016-01-06    198.820007\n",
              "2016-01-07    194.050003\n",
              "2016-01-08    191.919998\n",
              "                 ...    \n",
              "2020-09-18    330.649994\n",
              "2020-09-21    326.970001\n",
              "2020-09-22    330.299988\n",
              "2020-09-23    322.640015\n",
              "2020-09-24    323.500000\n",
              "Name: Close, Length: 1191, dtype: float64>"
            ]
          },
          "metadata": {
            "tags": []
          },
          "execution_count": 51
        }
      ]
    },
    {
      "cell_type": "code",
      "metadata": {
        "id": "i8VQPE1aH7vJ",
        "colab": {
          "base_uri": "https://localhost:8080/",
          "height": 1000
        },
        "outputId": "ae63f094-30c0-4420-8d23-caeb06b4ee97"
      },
      "source": [
        "data.resample(\"m\").sum()"
      ],
      "execution_count": null,
      "outputs": [
        {
          "output_type": "execute_result",
          "data": {
            "text/plain": [
              "Date\n",
              "2016-01-31     748413.0\n",
              "2016-02-29     779481.0\n",
              "2016-03-31    1081831.0\n",
              "2016-04-30    1037043.0\n",
              "2016-05-31    1071339.0\n",
              "2016-06-30    1103548.0\n",
              "2016-07-31    1155462.0\n",
              "2016-08-31    1333725.0\n",
              "2016-09-30    1226915.0\n",
              "2016-10-31    1249548.0\n",
              "2016-11-30    1232388.0\n",
              "2016-12-31    1241651.0\n",
              "2017-01-31    1334206.0\n",
              "2017-02-28    1196002.0\n",
              "2017-03-31    1495648.0\n",
              "2017-04-30    1160440.0\n",
              "2017-05-31    1432575.0\n",
              "2017-06-30    1302342.0\n",
              "2017-07-31    1354590.0\n",
              "2017-08-31    1582513.0\n",
              "2017-09-30    1486136.0\n",
              "2017-10-31    1598433.0\n",
              "2017-11-30    1393804.0\n",
              "2017-12-31    1474999.0\n",
              "2018-01-31    1697375.0\n",
              "2018-02-28    1440003.0\n",
              "2018-03-31    1789139.0\n",
              "2018-04-30    1785676.0\n",
              "2018-05-31    1728195.0\n",
              "2018-06-30    1526296.0\n",
              "2018-07-31    1616865.0\n",
              "2018-08-31    1789410.0\n",
              "2018-09-30    1464191.0\n",
              "2018-10-31    1852337.0\n",
              "2018-11-30    1661368.0\n",
              "2018-12-31    1567178.0\n",
              "2019-01-31    1984417.0\n",
              "2019-02-28    1934376.0\n",
              "2019-03-31    1735573.0\n",
              "2019-04-30    2002761.0\n",
              "2019-05-31    2071697.0\n",
              "2019-06-30    1880865.0\n",
              "2019-07-31    2276190.0\n",
              "2019-08-31    2213420.0\n",
              "2019-09-30    2174339.0\n",
              "2019-10-31    2407231.0\n",
              "2019-11-30    2046133.0\n",
              "2019-12-31    2142087.0\n",
              "2020-01-31    2571888.0\n",
              "2020-02-29    1932059.0\n",
              "2020-03-31    1793464.0\n",
              "2020-04-30    1551775.0\n",
              "2020-05-31    1628955.0\n",
              "2020-06-30    1983454.0\n",
              "2020-07-31    2329045.0\n",
              "2020-08-31    2135982.0\n",
              "2020-09-30    1690251.0\n",
              "Freq: M, Name: Close, dtype: float64"
            ]
          },
          "metadata": {
            "tags": []
          },
          "execution_count": 86
        }
      ]
    },
    {
      "cell_type": "code",
      "metadata": {
        "id": "t-CzW6AkHBJz",
        "colab": {
          "base_uri": "https://localhost:8080/",
          "height": 1000
        },
        "outputId": "53e4340b-d22a-4466-dadc-3cc16ad54115"
      },
      "source": [
        "resampled.rolling(3).mean()"
      ],
      "execution_count": null,
      "outputs": [
        {
          "output_type": "execute_result",
          "data": {
            "text/plain": [
              "Date\n",
              "2016-01-31             NaN\n",
              "2016-02-29             NaN\n",
              "2016-03-31    8.699083e+05\n",
              "2016-04-30    9.661183e+05\n",
              "2016-05-31    1.063404e+06\n",
              "2016-06-30    1.070643e+06\n",
              "2016-07-31    1.110116e+06\n",
              "2016-08-31    1.197578e+06\n",
              "2016-09-30    1.238701e+06\n",
              "2016-10-31    1.270063e+06\n",
              "2016-11-30    1.236284e+06\n",
              "2016-12-31    1.241196e+06\n",
              "2017-01-31    1.269415e+06\n",
              "2017-02-28    1.257286e+06\n",
              "2017-03-31    1.341952e+06\n",
              "2017-04-30    1.284030e+06\n",
              "2017-05-31    1.362888e+06\n",
              "2017-06-30    1.298452e+06\n",
              "2017-07-31    1.363169e+06\n",
              "2017-08-31    1.413148e+06\n",
              "2017-09-30    1.474413e+06\n",
              "2017-10-31    1.555694e+06\n",
              "2017-11-30    1.492791e+06\n",
              "2017-12-31    1.489079e+06\n",
              "2018-01-31    1.522059e+06\n",
              "2018-02-28    1.537459e+06\n",
              "2018-03-31    1.642172e+06\n",
              "2018-04-30    1.671606e+06\n",
              "2018-05-31    1.767670e+06\n",
              "2018-06-30    1.680056e+06\n",
              "2018-07-31    1.623785e+06\n",
              "2018-08-31    1.644190e+06\n",
              "2018-09-30    1.623489e+06\n",
              "2018-10-31    1.701979e+06\n",
              "2018-11-30    1.659299e+06\n",
              "2018-12-31    1.693628e+06\n",
              "2019-01-31    1.737654e+06\n",
              "2019-02-28    1.828657e+06\n",
              "2019-03-31    1.884789e+06\n",
              "2019-04-30    1.890903e+06\n",
              "2019-05-31    1.936677e+06\n",
              "2019-06-30    1.985108e+06\n",
              "2019-07-31    2.076251e+06\n",
              "2019-08-31    2.123492e+06\n",
              "2019-09-30    2.221316e+06\n",
              "2019-10-31    2.264997e+06\n",
              "2019-11-30    2.209234e+06\n",
              "2019-12-31    2.198484e+06\n",
              "2020-01-31    2.253369e+06\n",
              "2020-02-29    2.215345e+06\n",
              "2020-03-31    2.099137e+06\n",
              "2020-04-30    1.759099e+06\n",
              "2020-05-31    1.658065e+06\n",
              "2020-06-30    1.721395e+06\n",
              "2020-07-31    1.980485e+06\n",
              "2020-08-31    2.149494e+06\n",
              "2020-09-30    2.051759e+06\n",
              "Freq: M, Name: Close, dtype: float64"
            ]
          },
          "metadata": {
            "tags": []
          },
          "execution_count": 87
        }
      ]
    },
    {
      "cell_type": "code",
      "metadata": {
        "id": "PhlfF0Tkiewb",
        "colab": {
          "base_uri": "https://localhost:8080/",
          "height": 302
        },
        "outputId": "a25922e1-7400-43bf-dcd1-6b9db8089d66"
      },
      "source": [
        "resampled = data.resample(\"m\").sum()\n",
        "resp = (resampled / resampled.rolling(3).mean())\n",
        "resp.plot()"
      ],
      "execution_count": null,
      "outputs": [
        {
          "output_type": "execute_result",
          "data": {
            "text/plain": [
              "<matplotlib.axes._subplots.AxesSubplot at 0x7f0bd49f26d8>"
            ]
          },
          "metadata": {
            "tags": []
          },
          "execution_count": 85
        },
        {
          "output_type": "display_data",
          "data": {
            "image/png": "[encoded data removed]",
            "text/plain": [
              "<Figure size 432x288 with 1 Axes>"
            ]
          },
          "metadata": {
            "tags": [],
            "needs_background": "light"
          }
        }
      ]
    },
    {
      "cell_type": "markdown",
      "metadata": {
        "id": "1gXHL5-cGUYh"
      },
      "source": [
        "### Exercícios\n",
        "\n",
        "1. Plote um gráfico que mostra a variação percentual mensal entre o volume de *trades* ocorridos nesse mês em relação à média dos últimos 3 meses.\n",
        "\n",
        "2. Qual o dia da semana que há maior volume de *trades*? Plot um gráfico que mostra a mediana de trades por dia da semana (pode ser um gráfico de barras).\n",
        " \n",
        "    *Hint #1*: manipule o índice temporal.\n",
        "    \n",
        "    *Hint #2*: use a operação de agrupamento `groupby`."
      ]
    },
    {
      "cell_type": "code",
      "metadata": {
        "id": "tY9BBC4xDgMD",
        "colab": {
          "base_uri": "https://localhost:8080/",
          "height": 318
        },
        "outputId": "5ad2771f-b436-48e4-febb-7ee1a597ce65"
      },
      "source": [
        "plt.figure(figsize=(12, 4))\n",
        "monthly = data.resample(\"m\").sum()\n",
        "diff = (monthly / monthly.rolling(3).mean())\n",
        "diff.plot(title=\"Trade volume relative change over past three months\")"
      ],
      "execution_count": null,
      "outputs": [
        {
          "output_type": "execute_result",
          "data": {
            "text/plain": [
              "<matplotlib.axes._subplots.AxesSubplot at 0x7f0bd4150780>"
            ]
          },
          "metadata": {
            "tags": []
          },
          "execution_count": 88
        },
        {
          "output_type": "display_data",
          "data": {
            "image/png": "[encoded data removed]",
            "text/plain": [
              "<Figure size 864x288 with 1 Axes>"
            ]
          },
          "metadata": {
            "tags": [],
            "needs_background": "light"
          }
        }
      ]
    },
    {
      "cell_type": "code",
      "metadata": {
        "id": "ZBQRXpetksCs",
        "colab": {
          "base_uri": "https://localhost:8080/",
          "height": 134
        },
        "outputId": "59406ed2-cd47-4a9e-c127-7dc0a4c79547"
      },
      "source": [
        "df.Volume.groupby((df.Volume.index.dayofweek)).median()"
      ],
      "execution_count": null,
      "outputs": [
        {
          "output_type": "execute_result",
          "data": {
            "text/plain": [
              "Date\n",
              "0    3504900\n",
              "1    3921300\n",
              "2    4233500\n",
              "3    4050800\n",
              "4    4079900\n",
              "Name: Volume, dtype: int64"
            ]
          },
          "metadata": {
            "tags": []
          },
          "execution_count": 108
        }
      ]
    },
    {
      "cell_type": "code",
      "metadata": {
        "id": "BjfVkSN5Gvnj",
        "colab": {
          "base_uri": "https://localhost:8080/",
          "height": 310
        },
        "outputId": "e6b5d5c8-381a-4f6e-ebf3-a1a57d476ab7"
      },
      "source": [
        "median_by_day = df.Volume.groupby(df.Volume.index.dayofweek).median()\n",
        "median_by_day.index = [\"Mon\", \"Tue\", \"Wed\", \"Thu\", \"Fri\"]\n",
        "median_by_day.plot(kind=\"bar\")"
      ],
      "execution_count": null,
      "outputs": [
        {
          "output_type": "execute_result",
          "data": {
            "text/plain": [
              "<matplotlib.axes._subplots.AxesSubplot at 0x7f0bcd732320>"
            ]
          },
          "metadata": {
            "tags": []
          },
          "execution_count": 110
        },
        {
          "output_type": "display_data",
          "data": {
            "image/png": "[encoded data removed]",
            "text/plain": [
              "<Figure size 432x288 with 1 Axes>"
            ]
          },
          "metadata": {
            "tags": [],
            "needs_background": "light"
          }
        }
      ]
    },
    {
      "cell_type": "markdown",
      "metadata": {
        "id": "d5CAuRmuIY54"
      },
      "source": [
        "### Bonus: Prophet\n",
        "\n",
        "> \"Prophet is a procedure for forecasting time series data based on an additive model where non-linear trends are fit with yearly, weekly, and daily seasonality, plus holiday effects. It works best with time series that have strong seasonal effects and several seasons of historical data. Prophet is robust to missing data and shifts in the trend, and typically handles outliers well.\"\n",
        "\n",
        "Utilizaremos para ver quão bom o `prophet` é em prever um indicador da bolsa de valores (e exatamente porque você não deveria fazer isso)."
      ]
    },
    {
      "cell_type": "code",
      "metadata": {
        "id": "IZ9yA4H9IkYV"
      },
      "source": [
        "!pip install --quiet fbprophet"
      ],
      "execution_count": null,
      "outputs": []
    },
    {
      "cell_type": "code",
      "metadata": {
        "id": "xYvdhwVAInWP",
        "colab": {
          "base_uri": "https://localhost:8080/",
          "height": 195
        },
        "outputId": "6bc04720-203e-4983-e7a8-cca190eadc03"
      },
      "source": [
        "from fbprophet import Prophet\n",
        "\n",
        "prophet_df = df[[\"Close\"]].reset_index()\n",
        "prophet_df.columns = [\"ds\", \"y\"]\n",
        "prophet_df.tail()"
      ],
      "execution_count": null,
      "outputs": [
        {
          "output_type": "execute_result",
          "data": {
            "text/html": [
              "<div>\n",
              "<style scoped>\n",
              "    .dataframe tbody tr th:only-of-type {\n",
              "        vertical-align: middle;\n",
              "    }\n",
              "\n",
              "    .dataframe tbody tr th {\n",
              "        vertical-align: top;\n",
              "    }\n",
              "\n",
              "    .dataframe thead th {\n",
              "        text-align: right;\n",
              "    }\n",
              "</style>\n",
              "<table border=\"1\" class=\"dataframe\">\n",
              "  <thead>\n",
              "    <tr style=\"text-align: right;\">\n",
              "      <th></th>\n",
              "      <th>ds</th>\n",
              "      <th>y</th>\n",
              "    </tr>\n",
              "  </thead>\n",
              "  <tbody>\n",
              "    <tr>\n",
              "      <th>1165</th>\n",
              "      <td>2020-09-18</td>\n",
              "      <td>98290.0</td>\n",
              "    </tr>\n",
              "    <tr>\n",
              "      <th>1166</th>\n",
              "      <td>2020-09-21</td>\n",
              "      <td>96991.0</td>\n",
              "    </tr>\n",
              "    <tr>\n",
              "      <th>1167</th>\n",
              "      <td>2020-09-22</td>\n",
              "      <td>97294.0</td>\n",
              "    </tr>\n",
              "    <tr>\n",
              "      <th>1168</th>\n",
              "      <td>2020-09-23</td>\n",
              "      <td>95735.0</td>\n",
              "    </tr>\n",
              "    <tr>\n",
              "      <th>1169</th>\n",
              "      <td>2020-09-24</td>\n",
              "      <td>97012.0</td>\n",
              "    </tr>\n",
              "  </tbody>\n",
              "</table>\n",
              "</div>"
            ],
            "text/plain": [
              "             ds        y\n",
              "1165 2020-09-18  98290.0\n",
              "1166 2020-09-21  96991.0\n",
              "1167 2020-09-22  97294.0\n",
              "1168 2020-09-23  95735.0\n",
              "1169 2020-09-24  97012.0"
            ]
          },
          "metadata": {
            "tags": []
          },
          "execution_count": 100
        }
      ]
    },
    {
      "cell_type": "code",
      "metadata": {
        "id": "JShY163rJXEK",
        "colab": {
          "base_uri": "https://localhost:8080/",
          "height": 458
        },
        "outputId": "692c3b6d-ddb1-4ca4-b0a5-3bf49f64adbe"
      },
      "source": [
        "m = Prophet()\n",
        "m.fit(prophet_df[:-100])\n",
        "pred = m.predict(m.make_future_dataframe(periods=200))\n",
        "m.plot(pred); # weird bug causes to plot twice, put ; in the end"
      ],
      "execution_count": null,
      "outputs": [
        {
          "output_type": "stream",
          "text": [
            "INFO:fbprophet:Disabling daily seasonality. Run prophet with daily_seasonality=True to override this.\n"
          ],
          "name": "stderr"
        },
        {
          "output_type": "display_data",
          "data": {
            "image/png": "[encoded data removed]",
            "text/plain": [
              "<Figure size 720x432 with 1 Axes>"
            ]
          },
          "metadata": {
            "tags": []
          }
        }
      ]
    },
    {
      "cell_type": "code",
      "metadata": {
        "id": "IFLkPopzKYv6",
        "colab": {
          "base_uri": "https://localhost:8080/",
          "height": 657
        },
        "outputId": "6456c974-8fd5-40f5-9eed-ed3bd99677c3"
      },
      "source": [
        "m.plot_components(pred);"
      ],
      "execution_count": null,
      "outputs": [
        {
          "output_type": "display_data",
          "data": {
            "image/png": "[encoded data removed]",
            "text/plain": [
              "<Figure size 648x648 with 3 Axes>"
            ]
          },
          "metadata": {
            "tags": []
          }
        }
      ]
    },
    {
      "cell_type": "code",
      "metadata": {
        "id": "9BI8naZ8KpEZ",
        "colab": {
          "base_uri": "https://localhost:8080/",
          "height": 432
        },
        "outputId": "35b5c938-73cb-41db-f729-7dcd1f7c7bbc"
      },
      "source": [
        "m.plot(pred); # weird bug causes to plot twice, put ; in the end\n",
        "df.Close[-100:].plot()"
      ],
      "execution_count": null,
      "outputs": [
        {
          "output_type": "execute_result",
          "data": {
            "text/plain": [
              "<matplotlib.axes._subplots.AxesSubplot at 0x7f0bcd8a4da0>"
            ]
          },
          "metadata": {
            "tags": []
          },
          "execution_count": 106
        },
        {
          "output_type": "display_data",
          "data": {
            "image/png": "[encoded data removed]",
            "text/plain": [
              "<Figure size 720x432 with 1 Axes>"
            ]
          },
          "metadata": {
            "tags": []
          }
        }
      ]
    },
    {
      "cell_type": "markdown",
      "metadata": {
        "id": "g7CARqu0qhpu"
      },
      "source": [
        "### Referências\n",
        "\n",
        "#### Tutoriais:\n",
        "\n",
        "* Vários notebooks com tutoriais: https://github.com/jakevdp/PythonDataScienceHandbook/ (maior parte da aula veio daqui)\n",
        "* prophet docs: https://facebook.github.io/prophet/docs/quick_start.html#python-api\n",
        "* statsmodels docs: https://www.statsmodels.org/stable/examples/index.html#stats\n",
        "\n",
        "\n",
        "#### Indústria:\n",
        "\n",
        "* **Uber**\n",
        "    * [Forecasting at Uber: An Introduction](https://eng.uber.com/forecasting-introduction/)\n",
        "    * [Engineering Extreme Event Forecasting at Uber with Recurrent Neural Networks](https://eng.uber.com/neural-networks/) (Avançado)\n",
        "    \n",
        "* **Lyft**\n",
        "    * [How to deal with the seasonality of a market?](https://eng.lyft.com/how-to-deal-with-the-seasonality-of-a-market-584cc94d6b75)\n",
        "    \n",
        "* **Airbnb**\n",
        "    * [Learning Market Dynamics for Optimal Pricing](https://medium.com/airbnb-engineering/learning-market-dynamics-for-optimal-pricing-97cffbcc53e3)\n",
        "    * [Anomaly Detection for Aibnb's Payment Platform](https://medium.com/airbnb-engineering/anomaly-detection-for-airbnb-s-payment-platform-e3b0ec513199)"
      ]
    },
    {
      "cell_type": "markdown",
      "metadata": {
        "id": "MWQZAO01XYUb"
      },
      "source": [
        ""
      ]
    }
  ]
}