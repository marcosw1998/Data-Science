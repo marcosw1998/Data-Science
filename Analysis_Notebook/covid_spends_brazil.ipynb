{
  "nbformat": 4,
  "nbformat_minor": 0,
  "metadata": {
    "colab": {
      "name": "covid_spends_brazil.ipynb",
      "provenance": [],
      "include_colab_link": true
    },
    "kernelspec": {
      "name": "python3",
      "display_name": "Python 3"
    }
  },
  "cells": [
    {
      "cell_type": "markdown",
      "metadata": {
        "id": "view-in-github",
        "colab_type": "text"
      },
      "source": [
        "<a href=\"https://colab.research.google.com/github/marcosw1998/Data-Science/blob/main-mwac/Analysis_Notebook/covid_spends_brazil.ipynb\" target=\"_parent\"><img src=\"https://colab.research.google.com/assets/colab-badge.svg\" alt=\"Open In Colab\"/></a>"
      ]
    },
    {
      "cell_type": "code",
      "metadata": {
        "id": "Y4nYEjgYJGm1"
      },
      "source": [
        "import numpy as np\r\n",
        "import pandas as pd"
      ],
      "execution_count": 2,
      "outputs": []
    },
    {
      "cell_type": "code",
      "metadata": {
        "id": "sYQnY_rJ2K-J",
        "colab": {
          "base_uri": "https://localhost:8080/",
          "height": 397
        },
        "outputId": "d9fac452-358f-4c22-900e-366ad0446890"
      },
      "source": [
        "covidPe = pd.read_csv(\"https://raw.githubusercontent.com/marcosw1998/Data-Science/main-mwac/Datasets/covid-pe.csv\",encoding = \"utf-8\")\r\n",
        "print(len(covidPe))\r\n",
        "covidPe.sort_values(\"Município\").head()"
      ],
      "execution_count": 5,
      "outputs": [
        {
          "output_type": "stream",
          "text": [
            "561\n"
          ],
          "name": "stdout"
        },
        {
          "output_type": "execute_result",
          "data": {
            "text/html": [
              "<div>\n",
              "<style scoped>\n",
              "    .dataframe tbody tr th:only-of-type {\n",
              "        vertical-align: middle;\n",
              "    }\n",
              "\n",
              "    .dataframe tbody tr th {\n",
              "        vertical-align: top;\n",
              "    }\n",
              "\n",
              "    .dataframe thead th {\n",
              "        text-align: right;\n",
              "    }\n",
              "</style>\n",
              "<table border=\"1\" class=\"dataframe\">\n",
              "  <thead>\n",
              "    <tr style=\"text-align: right;\">\n",
              "      <th></th>\n",
              "      <th>Mês/Ano</th>\n",
              "      <th>Tipo</th>\n",
              "      <th>Tipo de Favorecido</th>\n",
              "      <th>UF</th>\n",
              "      <th>Nome do Favorecido</th>\n",
              "      <th>CPF/CNPJ</th>\n",
              "      <th>Município</th>\n",
              "      <th>Função</th>\n",
              "      <th>Programa Orçamentário</th>\n",
              "      <th>Ação Orçamentária</th>\n",
              "      <th>Linguagem Cidadã</th>\n",
              "      <th>Valor Transferido</th>\n",
              "    </tr>\n",
              "  </thead>\n",
              "  <tbody>\n",
              "    <tr>\n",
              "      <th>182</th>\n",
              "      <td>nov/20</td>\n",
              "      <td>Legais. Voluntárias e Específicas</td>\n",
              "      <td>Fundo Público</td>\n",
              "      <td>PE</td>\n",
              "      <td>FUNDO MUNICIPAL DE SAUDE</td>\n",
              "      <td>11.371.082/0001-05</td>\n",
              "      <td>CARUARU</td>\n",
              "      <td>Saúde</td>\n",
              "      <td>ATENCAO ESPECIALIZADA A SAUDE</td>\n",
              "      <td>ENFRENTAMENTO DA EMERGENCIA DE SAUDE PUBLICA D...</td>\n",
              "      <td>Sem informação</td>\n",
              "      <td>486.515.00</td>\n",
              "    </tr>\n",
              "    <tr>\n",
              "      <th>178</th>\n",
              "      <td>nov/20</td>\n",
              "      <td>Legais. Voluntárias e Específicas</td>\n",
              "      <td>Entidades Sem Fins Lucrativos</td>\n",
              "      <td>PE</td>\n",
              "      <td>ASSOCICAO DE PAIS E MESTRES</td>\n",
              "      <td>11.252.224/0001-07</td>\n",
              "      <td>CARUARU</td>\n",
              "      <td>Educação</td>\n",
              "      <td>EDUCACAO BASICA DE QUALIDADE</td>\n",
              "      <td>DINHEIRO DIRETO NA ESCOLA PARA A EDUCACAO BASICA</td>\n",
              "      <td>PDDE</td>\n",
              "      <td>7.897.02</td>\n",
              "    </tr>\n",
              "    <tr>\n",
              "      <th>179</th>\n",
              "      <td>nov/20</td>\n",
              "      <td>Legais. Voluntárias e Específicas</td>\n",
              "      <td>Entidades Sem Fins Lucrativos</td>\n",
              "      <td>PE</td>\n",
              "      <td>CONSELHO ESCOLAR MARIA DO SOCORRO DE FREITAS</td>\n",
              "      <td>02.021.769/0001-11</td>\n",
              "      <td>CARUARU</td>\n",
              "      <td>Educação</td>\n",
              "      <td>EDUCACAO BASICA DE QUALIDADE</td>\n",
              "      <td>DINHEIRO DIRETO NA ESCOLA PARA A EDUCACAO BASICA</td>\n",
              "      <td>PDDE</td>\n",
              "      <td>2.837.48</td>\n",
              "    </tr>\n",
              "    <tr>\n",
              "      <th>87</th>\n",
              "      <td>nov/20</td>\n",
              "      <td>Legais. Voluntárias e Específicas</td>\n",
              "      <td>Entidades Sem Fins Lucrativos</td>\n",
              "      <td>PE</td>\n",
              "      <td>CONSELHO ESCOLAR DOM BERNARDINO MARCHIO</td>\n",
              "      <td>34.179.420/0001-07</td>\n",
              "      <td>CARUARU</td>\n",
              "      <td>Educação</td>\n",
              "      <td>EDUCACAO BASICA DE QUALIDADE</td>\n",
              "      <td>DINHEIRO DIRETO NA ESCOLA PARA A EDUCACAO BASICA</td>\n",
              "      <td>PDDE</td>\n",
              "      <td>8.427.56</td>\n",
              "    </tr>\n",
              "    <tr>\n",
              "      <th>181</th>\n",
              "      <td>nov/20</td>\n",
              "      <td>Legais. Voluntárias e Específicas</td>\n",
              "      <td>Entidades Sem Fins Lucrativos</td>\n",
              "      <td>PE</td>\n",
              "      <td>UNIDADE EXECUTORA MAJOR DR.SINVAL</td>\n",
              "      <td>11.441.171/0001-72</td>\n",
              "      <td>CARUARU</td>\n",
              "      <td>Educação</td>\n",
              "      <td>EDUCACAO BASICA DE QUALIDADE</td>\n",
              "      <td>DINHEIRO DIRETO NA ESCOLA PARA A EDUCACAO BASICA</td>\n",
              "      <td>PDDE</td>\n",
              "      <td>2.274.59</td>\n",
              "    </tr>\n",
              "  </tbody>\n",
              "</table>\n",
              "</div>"
            ],
            "text/plain": [
              "    Mês/Ano  ... Valor Transferido\n",
              "182  nov/20  ...        486.515.00\n",
              "178  nov/20  ...          7.897.02\n",
              "179  nov/20  ...          2.837.48\n",
              "87   nov/20  ...          8.427.56\n",
              "181  nov/20  ...          2.274.59\n",
              "\n",
              "[5 rows x 12 columns]"
            ]
          },
          "metadata": {
            "tags": []
          },
          "execution_count": 5
        }
      ]
    },
    {
      "cell_type": "code",
      "metadata": {
        "id": "4JrO6R5uEOB3",
        "outputId": "ad1f36b2-b472-4272-eead-2390acfb1cfd",
        "colab": {
          "base_uri": "https://localhost:8080/",
          "height": 347
        }
      },
      "source": [
        "covidPe2 = pd.read_csv(\"https://raw.githubusercontent.com/marcosw1998/Data-Science/main-mwac/Datasets/transferencias_coronavirus.csv\",encoding = \"utf-8\")\r\n",
        "print(len(covidPe2))\r\n",
        "covidPe2.sort_values(\"Município\").head()"
      ],
      "execution_count": 3,
      "outputs": [
        {
          "output_type": "stream",
          "text": [
            "140\n"
          ],
          "name": "stdout"
        },
        {
          "output_type": "execute_result",
          "data": {
            "text/html": [
              "<div>\n",
              "<style scoped>\n",
              "    .dataframe tbody tr th:only-of-type {\n",
              "        vertical-align: middle;\n",
              "    }\n",
              "\n",
              "    .dataframe tbody tr th {\n",
              "        vertical-align: top;\n",
              "    }\n",
              "\n",
              "    .dataframe thead th {\n",
              "        text-align: right;\n",
              "    }\n",
              "</style>\n",
              "<table border=\"1\" class=\"dataframe\">\n",
              "  <thead>\n",
              "    <tr style=\"text-align: right;\">\n",
              "      <th></th>\n",
              "      <th>Mês/Ano</th>\n",
              "      <th>Tipo</th>\n",
              "      <th>Ação Orçamentária</th>\n",
              "      <th>Programa Orçamentário</th>\n",
              "      <th>Função</th>\n",
              "      <th>Tipo de Favorecido</th>\n",
              "      <th>UF</th>\n",
              "      <th>Município</th>\n",
              "      <th>Valor Transferido</th>\n",
              "      <th>Unnamed: 9</th>\n",
              "    </tr>\n",
              "  </thead>\n",
              "  <tbody>\n",
              "    <tr>\n",
              "      <th>98</th>\n",
              "      <td>12/2020</td>\n",
              "      <td>Legais. Voluntárias e Específicas</td>\n",
              "      <td>21C0 - ENFRENTAMENTO DA EMERGENCIA DE SAUDE PU...</td>\n",
              "      <td>ATENCAO ESPECIALIZADA A SAUDE</td>\n",
              "      <td>10 - Saúde</td>\n",
              "      <td>Fundo Público</td>\n",
              "      <td>PE</td>\n",
              "      <td>ARCOVERDE</td>\n",
              "      <td>R$ 134.639.00</td>\n",
              "      <td>NaN</td>\n",
              "    </tr>\n",
              "    <tr>\n",
              "      <th>41</th>\n",
              "      <td>05/2020</td>\n",
              "      <td>Legais. Voluntárias e Específicas</td>\n",
              "      <td>21C0 - ENFRENTAMENTO DA EMERGENCIA DE SAUDE PU...</td>\n",
              "      <td>PROTECAO SOCIAL NO AMBITO DO SISTEMA UNICO DE ...</td>\n",
              "      <td>08 - Assistência social</td>\n",
              "      <td>Fundo Público</td>\n",
              "      <td>PE</td>\n",
              "      <td>ARCOVERDE</td>\n",
              "      <td>R$ 470.809.62</td>\n",
              "      <td>NaN</td>\n",
              "    </tr>\n",
              "    <tr>\n",
              "      <th>42</th>\n",
              "      <td>11/2020</td>\n",
              "      <td>Legais. Voluntárias e Específicas</td>\n",
              "      <td>21C0 - ENFRENTAMENTO DA EMERGENCIA DE SAUDE PU...</td>\n",
              "      <td>ATENCAO ESPECIALIZADA A SAUDE</td>\n",
              "      <td>10 - Saúde</td>\n",
              "      <td>Fundo Público</td>\n",
              "      <td>PE</td>\n",
              "      <td>ARCOVERDE</td>\n",
              "      <td>R$ 355.594.00</td>\n",
              "      <td>NaN</td>\n",
              "    </tr>\n",
              "    <tr>\n",
              "      <th>32</th>\n",
              "      <td>04/2020</td>\n",
              "      <td>Legais. Voluntárias e Específicas</td>\n",
              "      <td>21C0 - ENFRENTAMENTO DA EMERGENCIA DE SAUDE PU...</td>\n",
              "      <td>ATENCAO ESPECIALIZADA A SAUDE</td>\n",
              "      <td>10 - Saúde</td>\n",
              "      <td>Fundo Público</td>\n",
              "      <td>PE</td>\n",
              "      <td>ARCOVERDE</td>\n",
              "      <td>R$ 761.895.71</td>\n",
              "      <td>NaN</td>\n",
              "    </tr>\n",
              "    <tr>\n",
              "      <th>56</th>\n",
              "      <td>08/2020</td>\n",
              "      <td>Legais. Voluntárias e Específicas</td>\n",
              "      <td>21C0 - ENFRENTAMENTO DA EMERGENCIA DE SAUDE PU...</td>\n",
              "      <td>PROTECAO SOCIAL NO AMBITO DO SISTEMA UNICO DE ...</td>\n",
              "      <td>08 - Assistência social</td>\n",
              "      <td>Fundo Público</td>\n",
              "      <td>PE</td>\n",
              "      <td>ARCOVERDE</td>\n",
              "      <td>R$ 218.971.54</td>\n",
              "      <td>NaN</td>\n",
              "    </tr>\n",
              "  </tbody>\n",
              "</table>\n",
              "</div>"
            ],
            "text/plain": [
              "    Mês/Ano                               Tipo  ... Valor Transferido Unnamed: 9\n",
              "98  12/2020  Legais. Voluntárias e Específicas  ...     R$ 134.639.00        NaN\n",
              "41  05/2020  Legais. Voluntárias e Específicas  ...     R$ 470.809.62        NaN\n",
              "42  11/2020  Legais. Voluntárias e Específicas  ...     R$ 355.594.00        NaN\n",
              "32  04/2020  Legais. Voluntárias e Específicas  ...     R$ 761.895.71        NaN\n",
              "56  08/2020  Legais. Voluntárias e Específicas  ...     R$ 218.971.54        NaN\n",
              "\n",
              "[5 rows x 10 columns]"
            ]
          },
          "metadata": {
            "tags": []
          },
          "execution_count": 3
        }
      ]
    },
    {
      "cell_type": "code",
      "metadata": {
        "id": "IJksWiNDB-zK",
        "colab": {
          "base_uri": "https://localhost:8080/",
          "height": 47
        },
        "outputId": "c6104976-97bf-49a4-ab98-e070b4b360b3"
      },
      "source": [
        "# Verificando se existem registros duplicados\r\n",
        "covidPe[covidPe.duplicated()].head()\r\n",
        "\r\n"
      ],
      "execution_count": 7,
      "outputs": [
        {
          "output_type": "execute_result",
          "data": {
            "text/html": [
              "<div>\n",
              "<style scoped>\n",
              "    .dataframe tbody tr th:only-of-type {\n",
              "        vertical-align: middle;\n",
              "    }\n",
              "\n",
              "    .dataframe tbody tr th {\n",
              "        vertical-align: top;\n",
              "    }\n",
              "\n",
              "    .dataframe thead th {\n",
              "        text-align: right;\n",
              "    }\n",
              "</style>\n",
              "<table border=\"1\" class=\"dataframe\">\n",
              "  <thead>\n",
              "    <tr style=\"text-align: right;\">\n",
              "      <th></th>\n",
              "      <th>Mês/Ano</th>\n",
              "      <th>Tipo</th>\n",
              "      <th>Tipo de Favorecido</th>\n",
              "      <th>UF</th>\n",
              "      <th>Nome do Favorecido</th>\n",
              "      <th>CPF/CNPJ</th>\n",
              "      <th>Município</th>\n",
              "      <th>Função</th>\n",
              "      <th>Programa Orçamentário</th>\n",
              "      <th>Ação Orçamentária</th>\n",
              "      <th>Linguagem Cidadã</th>\n",
              "      <th>Valor Transferido</th>\n",
              "    </tr>\n",
              "  </thead>\n",
              "  <tbody>\n",
              "  </tbody>\n",
              "</table>\n",
              "</div>"
            ],
            "text/plain": [
              "Empty DataFrame\n",
              "Columns: [Mês/Ano, Tipo, Tipo de Favorecido, UF, Nome do Favorecido, CPF/CNPJ, Município, Função, Programa Orçamentário, Ação Orçamentária, Linguagem Cidadã, Valor Transferido]\n",
              "Index: []"
            ]
          },
          "metadata": {
            "tags": []
          },
          "execution_count": 7
        }
      ]
    },
    {
      "cell_type": "code",
      "metadata": {
        "id": "7zZyUOTnE6mO",
        "outputId": "76afd863-ea18-4fd7-98d2-9c4ca29442bf",
        "colab": {
          "base_uri": "https://localhost:8080/",
          "height": 47
        }
      },
      "source": [
        "# Verificando se existem registros duplicados\r\n",
        "covidPe2[covidPe2.duplicated()].head()"
      ],
      "execution_count": 8,
      "outputs": [
        {
          "output_type": "execute_result",
          "data": {
            "text/html": [
              "<div>\n",
              "<style scoped>\n",
              "    .dataframe tbody tr th:only-of-type {\n",
              "        vertical-align: middle;\n",
              "    }\n",
              "\n",
              "    .dataframe tbody tr th {\n",
              "        vertical-align: top;\n",
              "    }\n",
              "\n",
              "    .dataframe thead th {\n",
              "        text-align: right;\n",
              "    }\n",
              "</style>\n",
              "<table border=\"1\" class=\"dataframe\">\n",
              "  <thead>\n",
              "    <tr style=\"text-align: right;\">\n",
              "      <th></th>\n",
              "      <th>Mês/Ano</th>\n",
              "      <th>Tipo</th>\n",
              "      <th>Ação Orçamentária</th>\n",
              "      <th>Programa Orçamentário</th>\n",
              "      <th>Função</th>\n",
              "      <th>Tipo de Favorecido</th>\n",
              "      <th>UF</th>\n",
              "      <th>Município</th>\n",
              "      <th>Valor Transferido</th>\n",
              "      <th>Unnamed: 9</th>\n",
              "    </tr>\n",
              "  </thead>\n",
              "  <tbody>\n",
              "  </tbody>\n",
              "</table>\n",
              "</div>"
            ],
            "text/plain": [
              "Empty DataFrame\n",
              "Columns: [Mês/Ano, Tipo, Ação Orçamentária, Programa Orçamentário, Função, Tipo de Favorecido, UF, Município, Valor Transferido, Unnamed: 9]\n",
              "Index: []"
            ]
          },
          "metadata": {
            "tags": []
          },
          "execution_count": 8
        }
      ]
    },
    {
      "cell_type": "code",
      "metadata": {
        "id": "IxPNUmJDFBu-"
      },
      "source": [
        "#dropar coluna unnamed: 9 do dataset CovidPe2 com valores Nan"
      ],
      "execution_count": null,
      "outputs": []
    }
  ]
}